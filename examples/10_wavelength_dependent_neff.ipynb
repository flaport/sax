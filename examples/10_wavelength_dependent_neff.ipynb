{
 "cells": [
  {
   "cell_type": "markdown",
   "id": "0",
   "metadata": {
    "papermill": {
     "duration": 0.022767,
     "end_time": "2025-02-27T06:29:35.122096",
     "exception": false,
     "start_time": "2025-02-27T06:29:35.099329",
     "status": "completed"
    },
    "tags": []
   },
   "source": [
    "# Wavelength-dependent Effective Index\n",
    "> Sometimes it's useful to have a wavelength-dependent effective index model."
   ]
  },
  {
   "cell_type": "code",
   "execution_count": null,
   "id": "2",
   "metadata": {
    "papermill": {
     "duration": 7.901535,
     "end_time": "2025-02-27T06:29:43.054426",
     "exception": false,
     "start_time": "2025-02-27T06:29:35.152891",
     "status": "completed"
    },
    "tags": []
   },
   "outputs": [],
   "source": [
    "import json\n",
    "import os\n",
    "from functools import cache\n",
    "\n",
    "import jax\n",
    "import jax.numpy as jnp\n",
    "import matplotlib.pyplot as plt\n",
    "import meow as mw\n",
    "import numpy as np\n",
    "import pandas as pd\n",
    "import sax\n",
    "from sklearn.preprocessing import PolynomialFeatures\n",
    "from tqdm.notebook import tqdm"
   ]
  },
  {
   "cell_type": "markdown",
   "id": "16",
   "metadata": {
    "papermill": {
     "duration": 0.018864,
     "end_time": "2025-02-27T06:29:43.087763",
     "exception": false,
     "start_time": "2025-02-27T06:29:43.068899",
     "status": "completed"
    },
    "tags": []
   },
   "source": [
    "## Waveguide Modes\n",
    "\n",
    "> NOTE: this example shows a simple 1D linear interpolated neff model vs wavelength. To see an example of a grid interpolation over wavelength and width, see the 'Layout Aware' example.\n",
    "\n",
    "We can use [meow](https://github.com/flaport/meow) to calculate the modes in our waveguide."
   ]
  },
  {
   "cell_type": "code",
   "execution_count": null,
   "id": "17",
   "metadata": {
    "papermill": {
     "duration": 0.034659,
     "end_time": "2025-02-27T06:29:43.139226",
     "exception": false,
     "start_time": "2025-02-27T06:29:43.104567",
     "status": "completed"
    },
    "tags": []
   },
   "outputs": [],
   "source": [
    "def find_waveguide_modes(\n",
    "    wl: float = 1.55,\n",
    "    n_box: float = 1.4,\n",
    "    n_clad: float = 1.4,\n",
    "    n_core: float = 3.4,\n",
    "    t_slab: float = 0.1,\n",
    "    t_soi: float = 0.22,\n",
    "    w_core: float = 0.45,\n",
    "    du=0.02,\n",
    "    n_modes: int = 10,\n",
    "    cache_path: str = \"modes\",\n",
    "    replace_cached: bool = False,\n",
    "):\n",
    "    length = 10.0\n",
    "    delta = 10 * du\n",
    "    env = mw.Environment(wl=wl)\n",
    "    cache_path = os.path.abspath(cache_path)\n",
    "    os.makedirs(cache_path, exist_ok=True)\n",
    "    fn = f\"{wl=:.2f}-{n_box=:.2f}-{n_clad=:.2f}-{n_core=:.2f}-{t_slab=:.3f}-{t_soi=:.3f}-{w_core=:.3f}-{du=:.3f}-{n_modes=}.json\"\n",
    "    path = os.path.join(cache_path, fn)\n",
    "    if not replace_cached and os.path.exists(path):\n",
    "        return [mw.Mode.model_validate(mode) for mode in json.load(open(path, \"r\"))]\n",
    "\n",
    "    # fmt: off\n",
    "    m_core = mw.SampledMaterial(name=\"slab\", n=np.asarray([n_core, n_core]), params={\"wl\": np.asarray([1.0, 2.0])}, meta={\"color\": (0.9, 0, 0, 0.9)})\n",
    "    m_clad = mw.SampledMaterial(name=\"clad\", n=np.asarray([n_clad, n_clad]), params={\"wl\": np.asarray([1.0, 2.0])}) \n",
    "    m_box = mw.SampledMaterial(name=\"box\", n=np.asarray([n_box, n_box]), params={\"wl\": np.asarray([1.0, 2.0])})\n",
    "    box = mw.Structure(material=m_box, geometry=mw.Box(x_min=- 2 * w_core - delta, x_max= 2 * w_core + delta, y_min=- 2 * t_soi - delta, y_max=0.0, z_min=0.0, z_max=length))\n",
    "    slab = mw.Structure(material=m_core, geometry=mw.Box(x_min=-2 * w_core - delta, x_max=2 * w_core + delta, y_min=0.0, y_max=t_slab, z_min=0.0, z_max=length))\n",
    "    clad = mw.Structure(material=m_clad, geometry=mw.Box(x_min=-2 * w_core - delta, x_max=2 * w_core + delta, y_min=0, y_max=3 * t_soi + delta, z_min=0.0, z_max=length))\n",
    "    core = mw.Structure(material=m_core, geometry=mw.Box(x_min=-w_core / 2, x_max=w_core / 2, y_min=0.0, y_max=t_soi, z_min=0.0, z_max=length))\n",
    "    \n",
    "    cell = mw.Cell(structures=[box, clad, slab, core], mesh=mw.Mesh2D( x=np.arange(-2*w_core, 2*w_core, du), y=np.arange(-2*t_soi, 3*t_soi, du), ), z_min=0.0, z_max=10.0)\n",
    "    cross_section = mw.CrossSection.from_cell(cell=cell, env=env)\n",
    "    modes = mw.compute_modes(cross_section, num_modes=n_modes)\n",
    "    # fmt: on\n",
    "\n",
    "    json.dump([json.loads(mode.model_dump_json()) for mode in modes], open(path, \"w\"))\n",
    "\n",
    "    return modes"
   ]
  },
  {
   "cell_type": "markdown",
   "id": "18",
   "metadata": {
    "papermill": {
     "duration": 0.004985,
     "end_time": "2025-02-27T06:29:43.150919",
     "exception": false,
     "start_time": "2025-02-27T06:29:43.145934",
     "status": "completed"
    },
    "tags": []
   },
   "source": [
    "We can also create a rudimentary model for the silicon refractive index:"
   ]
  },
  {
   "cell_type": "code",
   "execution_count": null,
   "id": "19",
   "metadata": {
    "papermill": {
     "duration": 0.011358,
     "end_time": "2025-02-27T06:29:43.167185",
     "exception": false,
     "start_time": "2025-02-27T06:29:43.155827",
     "status": "completed"
    },
    "tags": []
   },
   "outputs": [],
   "source": [
    "def silicon_index(wl):\n",
    "    \"\"\"a rudimentary silicon refractive index model\"\"\"\n",
    "    a, b = 0.2411478522088102, 3.3229394315868976\n",
    "    return a / wl + b"
   ]
  },
  {
   "cell_type": "markdown",
   "id": "20",
   "metadata": {
    "papermill": {
     "duration": 0.004974,
     "end_time": "2025-02-27T06:29:43.177012",
     "exception": false,
     "start_time": "2025-02-27T06:29:43.172038",
     "status": "completed"
    },
    "tags": []
   },
   "source": [
    "We can now easily calculate the modes of a strip waveguide:"
   ]
  },
  {
   "cell_type": "code",
   "execution_count": null,
   "id": "21",
   "metadata": {
    "papermill": {
     "duration": 0.501572,
     "end_time": "2025-02-27T06:29:43.683426",
     "exception": false,
     "start_time": "2025-02-27T06:29:43.181854",
     "status": "completed"
    },
    "tags": []
   },
   "outputs": [],
   "source": [
    "modes = find_waveguide_modes(wl=1.5, n_core=silicon_index(wl=1.5))"
   ]
  },
  {
   "cell_type": "markdown",
   "id": "22",
   "metadata": {
    "papermill": {
     "duration": 0.009586,
     "end_time": "2025-02-27T06:29:43.704830",
     "exception": false,
     "start_time": "2025-02-27T06:29:43.695244",
     "status": "completed"
    },
    "tags": []
   },
   "source": [
    "The fundamental mode is the mode with index 0:"
   ]
  },
  {
   "cell_type": "code",
   "execution_count": null,
   "id": "23",
   "metadata": {
    "papermill": {
     "duration": 0.577487,
     "end_time": "2025-02-27T06:29:44.291941",
     "exception": false,
     "start_time": "2025-02-27T06:29:43.714454",
     "status": "completed"
    },
    "tags": []
   },
   "outputs": [],
   "source": [
    "mw.visualize(modes[0])"
   ]
  },
  {
   "cell_type": "markdown",
   "id": "9afa5539-0ab5-481e-9bd3-de0636f2e196",
   "metadata": {
    "papermill": {
     "duration": 0.010906,
     "end_time": "2025-02-27T06:29:44.313309",
     "exception": false,
     "start_time": "2025-02-27T06:29:44.302403",
     "status": "completed"
    },
    "tags": []
   },
   "source": [
    "## Interpolated Effective Index Model"
   ]
  },
  {
   "cell_type": "markdown",
   "id": "661447c0-efe1-49d4-835e-126d15435dc5",
   "metadata": {
    "papermill": {
     "duration": 0.010561,
     "end_time": "2025-02-27T06:29:44.334917",
     "exception": false,
     "start_time": "2025-02-27T06:29:44.324356",
     "status": "completed"
    },
    "tags": []
   },
   "source": [
    "```{note}\n",
    "An interpolated effective index model is the easiest way to convert simulation data to a SAX model. However please never interpolated noisy data (e.g. from measurements). To handle noisy data see [Effective Index Model Fitting](#effective-index-model-fitting).\n",
    "```"
   ]
  },
  {
   "cell_type": "code",
   "execution_count": null,
   "id": "24",
   "metadata": {
    "papermill": {
     "duration": 4.754363,
     "end_time": "2025-02-27T06:29:49.099581",
     "exception": false,
     "start_time": "2025-02-27T06:29:44.345218",
     "status": "completed"
    },
    "tags": []
   },
   "outputs": [],
   "source": [
    "wavelengths = np.linspace(1.0, 2.0, 11)\n",
    "neffs = np.zeros_like(wavelengths)\n",
    "for i, wl in enumerate(tqdm(wavelengths)):\n",
    "    modes = find_waveguide_modes(\n",
    "        wl=wl, n_core=silicon_index(wl), w_core=0.5, replace_cached=False\n",
    "    )\n",
    "    neffs[i] = np.real(modes[0].neff)"
   ]
  },
  {
   "cell_type": "markdown",
   "id": "25",
   "metadata": {
    "papermill": {
     "duration": 0.012034,
     "end_time": "2025-02-27T06:29:49.124303",
     "exception": false,
     "start_time": "2025-02-27T06:29:49.112269",
     "status": "completed"
    },
    "tags": []
   },
   "source": [
    "This results in the following effective indices:"
   ]
  },
  {
   "cell_type": "code",
   "execution_count": null,
   "id": "26",
   "metadata": {
    "papermill": {
     "duration": 0.192426,
     "end_time": "2025-02-27T06:29:49.328990",
     "exception": false,
     "start_time": "2025-02-27T06:29:49.136564",
     "status": "completed"
    },
    "tags": []
   },
   "outputs": [],
   "source": [
    "plt.figure(figsize=(8, 3))\n",
    "plt.plot(wavelengths * 1000, neffs)\n",
    "plt.ylabel(\"neff\")\n",
    "plt.xlabel(\"λ [nm]\")\n",
    "plt.title(\"Effective Index\")\n",
    "plt.grid(True)\n",
    "plt.show()"
   ]
  },
  {
   "cell_type": "markdown",
   "id": "1ee92538-95d5-4458-a183-152fddf7f876",
   "metadata": {
    "papermill": {
     "duration": 0.010284,
     "end_time": "2025-02-27T06:29:49.350723",
     "exception": false,
     "start_time": "2025-02-27T06:29:49.340439",
     "status": "completed"
    },
    "tags": []
   },
   "source": [
    "We can store the data in a csv:"
   ]
  },
  {
   "cell_type": "code",
   "execution_count": null,
   "id": "114d3070-183f-49e4-9238-d1b64fa9cee3",
   "metadata": {
    "papermill": {
     "duration": 0.018374,
     "end_time": "2025-02-27T06:29:49.378924",
     "exception": false,
     "start_time": "2025-02-27T06:29:49.360550",
     "status": "completed"
    },
    "tags": []
   },
   "outputs": [],
   "source": [
    "df = pd.DataFrame({\"wl\": wavelengths, \"neff\": neffs})\n",
    "df.to_csv(\"neff_data.csv\", index=False)"
   ]
  },
  {
   "cell_type": "markdown",
   "id": "14393849-cbe1-4158-ac57-10a29fa4afc2",
   "metadata": {
    "papermill": {
     "duration": 0.006877,
     "end_time": "2025-02-27T06:29:49.392899",
     "exception": false,
     "start_time": "2025-02-27T06:29:49.386022",
     "status": "completed"
    },
    "tags": []
   },
   "source": [
    "First, define a cached data loader:"
   ]
  },
  {
   "cell_type": "code",
   "execution_count": null,
   "id": "e21e87bf-ea77-4a1a-828f-f6cf9fa6657c",
   "metadata": {
    "papermill": {
     "duration": 0.014829,
     "end_time": "2025-02-27T06:29:49.414753",
     "exception": false,
     "start_time": "2025-02-27T06:29:49.399924",
     "status": "completed"
    },
    "tags": []
   },
   "outputs": [],
   "source": [
    "@cache\n",
    "def load_neff_data():\n",
    "    df = pd.read_csv(\"neff_data.csv\")\n",
    "    wls = jnp.asarray(df[\"wl\"].values)  # convert to JAX array\n",
    "    neffs = jnp.asarray(df[\"neff\"].values)  # convert to JAX array\n",
    "    return wls, neffs"
   ]
  },
  {
   "cell_type": "markdown",
   "id": "27",
   "metadata": {
    "papermill": {
     "duration": 0.007204,
     "end_time": "2025-02-27T06:29:49.433378",
     "exception": false,
     "start_time": "2025-02-27T06:29:49.426174",
     "status": "completed"
    },
    "tags": []
   },
   "source": [
    "We can do a simple interpolation on the effective index:"
   ]
  },
  {
   "cell_type": "code",
   "execution_count": null,
   "id": "f68c2788-57c7-4e69-8504-a3deed85bc5a",
   "metadata": {
    "papermill": {
     "duration": 0.016295,
     "end_time": "2025-02-27T06:29:49.456905",
     "exception": false,
     "start_time": "2025-02-27T06:29:49.440610",
     "status": "completed"
    },
    "tags": []
   },
   "outputs": [],
   "source": [
    "def interp_neff(wl=1.5):\n",
    "    # usually we put data loading in a block like this\n",
    "    # to tell JAX this part of the code should not be traced while jitting:\n",
    "    with jax.ensure_compile_time_eval():\n",
    "        wls, neffs = load_neff_data()\n",
    "\n",
    "    # next make sure 'wl' is an array\n",
    "    wl = jnp.asarray(wl)\n",
    "\n",
    "    # now, interpolate\n",
    "    # return jnp.interp(wl, wls, neffs)\n",
    "\n",
    "    # it's actually slightly better to interpolate effective\n",
    "    # indices in the frequency domain because neff is more\n",
    "    # linear in that representation:\n",
    "    return jnp.interp(\n",
    "        1 / wl, 1 / wls[::-1], neffs[::-1]\n",
    "    )  # jnp.interp expects neffs to be sorted low to high. We're inverting the direction when taking the inverse:"
   ]
  },
  {
   "cell_type": "markdown",
   "id": "b62d14f5-0884-4c34-bf4e-cc3b03ec5b37",
   "metadata": {
    "papermill": {
     "duration": 0.008375,
     "end_time": "2025-02-27T06:29:49.472948",
     "exception": false,
     "start_time": "2025-02-27T06:29:49.464573",
     "status": "completed"
    },
    "tags": []
   },
   "source": [
    "```{note}\n",
    "If you want something fancier than linear interpolation, check out [interpax](https://github.com/f0uriest/interpax), which allows for cubic interpolation in jax on 1D (e.g. wl), 2D (e.g. wl and width) and 3D (e.g. wl, width and temperature) data.\n",
    "```"
   ]
  },
  {
   "cell_type": "code",
   "execution_count": null,
   "id": "662102a9-7411-48e6-a47e-008c6224d53d",
   "metadata": {
    "papermill": {
     "duration": 0.945384,
     "end_time": "2025-02-27T06:29:50.425971",
     "exception": false,
     "start_time": "2025-02-27T06:29:49.480587",
     "status": "completed"
    },
    "tags": []
   },
   "outputs": [],
   "source": [
    "print(interp_neff(1.6452))\n",
    "print(interp_neff([1.641, 1.79432]))\n",
    "print(interp_neff([[1.61324, 1.7987], [1.8087, 1.9234]]))"
   ]
  },
  {
   "cell_type": "markdown",
   "id": "cefdb706-6954-4efc-8e8a-d8c83712f25f",
   "metadata": {
    "papermill": {
     "duration": 0.012599,
     "end_time": "2025-02-27T06:29:50.452829",
     "exception": false,
     "start_time": "2025-02-27T06:29:50.440230",
     "status": "completed"
    },
    "tags": []
   },
   "source": [
    "That's it! You can now create a waveguide model as follows:"
   ]
  },
  {
   "cell_type": "code",
   "execution_count": null,
   "id": "89f86779-2310-4efe-878d-fd7c78b3ba60",
   "metadata": {
    "papermill": {
     "duration": 0.020782,
     "end_time": "2025-02-27T06:29:50.485681",
     "exception": false,
     "start_time": "2025-02-27T06:29:50.464899",
     "status": "completed"
    },
    "tags": []
   },
   "outputs": [],
   "source": [
    "def straight(\n",
    "    *,\n",
    "    wl=1.55,\n",
    "    length: float = 10.0,\n",
    "    loss: float = 0.0,\n",
    "):\n",
    "    \"\"\"A simple straight waveguide model.\n",
    "\n",
    "    Args:\n",
    "        wl: wavelength in microns.\n",
    "        length: length of the waveguide in microns.\n",
    "        loss: loss in dB/cm.\n",
    "    \"\"\"\n",
    "    neff = interp_neff(wl)\n",
    "    phase = 2 * jnp.pi * neff * length / wl\n",
    "    amplitude = jnp.asarray(10 ** (-loss * length / 20), dtype=complex)\n",
    "    transmission = amplitude * jnp.exp(1j * phase)\n",
    "    return sax.reciprocal(\n",
    "        {\n",
    "            (\"in0\", \"out0\"): transmission,\n",
    "        }\n",
    "    )"
   ]
  },
  {
   "cell_type": "code",
   "execution_count": null,
   "id": "766e9d89-3521-4bea-a0cf-cf3285d0a818",
   "metadata": {
    "papermill": {
     "duration": 0.154938,
     "end_time": "2025-02-27T06:29:50.652587",
     "exception": false,
     "start_time": "2025-02-27T06:29:50.497649",
     "status": "completed"
    },
    "tags": []
   },
   "outputs": [],
   "source": [
    "straight()"
   ]
  },
  {
   "cell_type": "markdown",
   "id": "e6441446-842a-4a32-9632-7050f1d3a8cf",
   "metadata": {
    "papermill": {
     "duration": 0.01089,
     "end_time": "2025-02-27T06:29:50.675713",
     "exception": false,
     "start_time": "2025-02-27T06:29:50.664823",
     "status": "completed"
    },
    "tags": []
   },
   "source": [
    "```{note}\n",
    "Note that we don't need the group index for this model! All the group index info is actually already available in the effective index model through `ng = neff - λ dneff/dλ`.\n",
    "```"
   ]
  },
  {
   "cell_type": "markdown",
   "id": "7d1f59ae-b7dc-49a9-a736-b257a6fcf7b7",
   "metadata": {
    "papermill": {
     "duration": 0.011605,
     "end_time": "2025-02-27T06:29:50.699076",
     "exception": false,
     "start_time": "2025-02-27T06:29:50.687471",
     "status": "completed"
    },
    "tags": []
   },
   "source": [
    "## Effective Index Model Fitting"
   ]
  },
  {
   "cell_type": "markdown",
   "id": "51ce2c58-c8f9-49da-a1d5-988fa8c4eb43",
   "metadata": {
    "papermill": {
     "duration": 0.008465,
     "end_time": "2025-02-27T06:29:50.717772",
     "exception": false,
     "start_time": "2025-02-27T06:29:50.709307",
     "status": "completed"
    },
    "tags": []
   },
   "source": [
    "interpolating is a good choice when using 'clean' simulation data. However, when using noisy measurement data we might need something else."
   ]
  },
  {
   "cell_type": "markdown",
   "id": "5fedd828-89f7-4f0c-9fd6-3aef59937b18",
   "metadata": {
    "papermill": {
     "duration": 0.007041,
     "end_time": "2025-02-27T06:29:50.734309",
     "exception": false,
     "start_time": "2025-02-27T06:29:50.727268",
     "status": "completed"
    },
    "tags": []
   },
   "source": [
    "Let's create a fake 'noisy measurement' by adding noise to our interpolated model:"
   ]
  },
  {
   "cell_type": "code",
   "execution_count": null,
   "id": "06da824b-33d6-4c7a-a8a4-5dbd532fc9f0",
   "metadata": {
    "papermill": {
     "duration": 0.015379,
     "end_time": "2025-02-27T06:29:50.758864",
     "exception": false,
     "start_time": "2025-02-27T06:29:50.743485",
     "status": "completed"
    },
    "tags": []
   },
   "outputs": [],
   "source": [
    "def measure_neff(wls, std=0.01, random_state=np.random):\n",
    "    wls = jnp.array(wls)\n",
    "    return interp_neff(wls) * (1 + std * random_state.randn(*wls.shape))"
   ]
  },
  {
   "cell_type": "markdown",
   "id": "66bc365a-ecda-4a0f-9461-fd195b67876a",
   "metadata": {
    "papermill": {
     "duration": 0.0079,
     "end_time": "2025-02-27T06:29:50.774127",
     "exception": false,
     "start_time": "2025-02-27T06:29:50.766227",
     "status": "completed"
    },
    "tags": []
   },
   "source": [
    "We can do 20 measurements for example:"
   ]
  },
  {
   "cell_type": "code",
   "execution_count": null,
   "id": "65687412-4a36-4075-887b-b33ce92e13b2",
   "metadata": {
    "papermill": {
     "duration": 0.297304,
     "end_time": "2025-02-27T06:29:51.083294",
     "exception": false,
     "start_time": "2025-02-27T06:29:50.785990",
     "status": "completed"
    },
    "tags": []
   },
   "outputs": [],
   "source": [
    "random_state = np.random.RandomState(seed=42)\n",
    "measured_neff = np.stack(\n",
    "    [measure_neff(wavelengths, random_state=random_state) for _ in range(20)], 0\n",
    ")"
   ]
  },
  {
   "cell_type": "code",
   "execution_count": null,
   "id": "654199ba-14d7-44b7-9f14-3c7651d4e4df",
   "metadata": {
    "papermill": {
     "duration": 0.221725,
     "end_time": "2025-02-27T06:29:51.319678",
     "exception": false,
     "start_time": "2025-02-27T06:29:51.097953",
     "status": "completed"
    },
    "tags": []
   },
   "outputs": [],
   "source": [
    "plt.plot(\n",
    "    1000 * wavelengths, measured_neff.T, marker=\"o\", ls=\"none\", color=\"C0\", alpha=0.2\n",
    ")\n",
    "plt.grid(True)\n",
    "plt.xlabel(\"Wavelength [nm]\")\n",
    "plt.ylabel(\"neff\")\n",
    "plt.title(\"neff measurements\")\n",
    "plt.show()"
   ]
  },
  {
   "cell_type": "code",
   "execution_count": null,
   "id": "787643e9-c188-4755-b96a-6218926e5b6e",
   "metadata": {
    "papermill": {
     "duration": 0.026195,
     "end_time": "2025-02-27T06:29:51.358555",
     "exception": false,
     "start_time": "2025-02-27T06:29:51.332360",
     "status": "completed"
    },
    "tags": []
   },
   "outputs": [],
   "source": [
    "poly = PolynomialFeatures(degree=2, include_bias=True)\n",
    "poly.fit(measured_neff, wavelengths)\n",
    "poly.transform(measured_neff)"
   ]
  },
  {
   "cell_type": "code",
   "execution_count": null,
   "id": "2647084c-7b0c-4f72-8486-497be7220224",
   "metadata": {
    "papermill": {
     "duration": 0.027521,
     "end_time": "2025-02-27T06:29:51.401668",
     "exception": false,
     "start_time": "2025-02-27T06:29:51.374147",
     "status": "completed"
    },
    "tags": []
   },
   "outputs": [],
   "source": [
    "coeffs = np.polyfit(\n",
    "    x=np.stack([wavelengths for _ in measured_neff]).ravel(),\n",
    "    y=measured_neff.ravel(),\n",
    "    deg=2,\n",
    ")\n",
    "print(coeffs)"
   ]
  },
  {
   "cell_type": "code",
   "execution_count": null,
   "id": "f52b99df-58eb-4f6c-8b0c-452610d4a5d9",
   "metadata": {
    "papermill": {
     "duration": 0.023323,
     "end_time": "2025-02-27T06:29:51.439193",
     "exception": false,
     "start_time": "2025-02-27T06:29:51.415870",
     "status": "completed"
    },
    "tags": []
   },
   "outputs": [],
   "source": [
    "def fitted_neff(wl=1.5):\n",
    "    # always make sure its an array:\n",
    "    wl = jnp.asarray(wl)\n",
    "\n",
    "    # it's fine to hardoce a few coefficients:\n",
    "    coeffs = jnp.asarray([0.14164498, -1.28752935, 4.24077288])\n",
    "\n",
    "    return coeffs[-1] + coeffs[-2] * wl + coeffs[-3] * wl**2"
   ]
  },
  {
   "cell_type": "markdown",
   "id": "45c2db44-48fe-4ba4-9093-1bf3b1234955",
   "metadata": {
    "papermill": {
     "duration": 0.013046,
     "end_time": "2025-02-27T06:29:51.465723",
     "exception": false,
     "start_time": "2025-02-27T06:29:51.452677",
     "status": "completed"
    },
    "tags": []
   },
   "source": [
    "Let's plot the fitted model:"
   ]
  },
  {
   "cell_type": "code",
   "execution_count": null,
   "id": "bc162b68-6e24-41ae-aabe-0712b3605bf7",
   "metadata": {
    "papermill": {
     "duration": 0.347707,
     "end_time": "2025-02-27T06:29:51.870320",
     "exception": false,
     "start_time": "2025-02-27T06:29:51.522613",
     "status": "completed"
    },
    "tags": []
   },
   "outputs": [],
   "source": [
    "plt.plot(\n",
    "    1000 * wavelengths, measured_neff.T, marker=\"o\", ls=\"none\", color=\"C0\", alpha=0.2\n",
    ")\n",
    "plt.plot(1000 * wavelengths, fitted_neff(wavelengths), color=\"C1\", label=\"fit\")\n",
    "plt.legend()\n",
    "plt.grid(True)\n",
    "plt.xlabel(\"Wavelength [nm]\")\n",
    "plt.ylabel(\"neff\")\n",
    "plt.title(\"neff measurements\")\n",
    "plt.show()"
   ]
  },
  {
   "cell_type": "markdown",
   "id": "6c427de3-8f0c-4aec-b654-950c9229c55e",
   "metadata": {
    "papermill": {
     "duration": 0.009091,
     "end_time": "2025-02-27T06:29:51.894104",
     "exception": false,
     "start_time": "2025-02-27T06:29:51.885013",
     "status": "completed"
    },
    "tags": []
   },
   "source": [
    "```{note}\n",
    "In fact it's probably better to fit in the frequency domain, since then you could probably fit with just a straight line or a quadratic with a very low quadratic coefficient. I leave this as an exercise to the reader 🙂\n",
    "```"
   ]
  },
  {
   "cell_type": "markdown",
   "id": "e43fbbb9-b88b-4fcf-832c-4795a1a3f32a",
   "metadata": {
    "papermill": {
     "duration": 0.010418,
     "end_time": "2025-02-27T06:29:51.913758",
     "exception": false,
     "start_time": "2025-02-27T06:29:51.903340",
     "status": "completed"
    },
    "tags": []
   },
   "source": [
    "This is now our final straight model:"
   ]
  },
  {
   "cell_type": "code",
   "execution_count": null,
   "id": "6c44d975-b3d9-4e96-b811-03a12e780565",
   "metadata": {
    "papermill": {
     "duration": 0.021207,
     "end_time": "2025-02-27T06:29:51.945341",
     "exception": false,
     "start_time": "2025-02-27T06:29:51.924134",
     "status": "completed"
    },
    "tags": []
   },
   "outputs": [],
   "source": [
    "def straight(\n",
    "    *,\n",
    "    wl=1.55,\n",
    "    length: float = 10.0,\n",
    "    loss: float = 0.0,\n",
    "):\n",
    "    \"\"\"A simple straight waveguide model.\n",
    "\n",
    "    Args:\n",
    "        wl: wavelength in microns.\n",
    "        length: length of the waveguide in microns.\n",
    "        loss: loss in dB/cm.\n",
    "    \"\"\"\n",
    "    neff = fitted_neff(wl)\n",
    "    phase = 2 * jnp.pi * neff * length / wl\n",
    "    amplitude = jnp.asarray(10 ** (-loss * length / 20), dtype=complex)\n",
    "    transmission = amplitude * jnp.exp(1j * phase)\n",
    "    return sax.reciprocal(\n",
    "        {\n",
    "            (\"in0\", \"out0\"): transmission,\n",
    "        }\n",
    "    )"
   ]
  },
  {
   "cell_type": "code",
   "execution_count": null,
   "id": "de1d2bc0-0825-49a8-a654-210a3f096bb4",
   "metadata": {
    "papermill": {
     "duration": 0.064857,
     "end_time": "2025-02-27T06:29:52.021544",
     "exception": false,
     "start_time": "2025-02-27T06:29:51.956687",
     "status": "completed"
    },
    "tags": []
   },
   "outputs": [],
   "source": [
    "straight()"
   ]
  }
 ],
 "metadata": {
  "kernelspec": {
   "display_name": "Python 3 (ipykernel)",
   "language": "python",
   "name": "python3"
  },
  "language_info": {
   "codemirror_mode": {
    "name": "ipython",
    "version": 3
   },
   "file_extension": ".py",
   "mimetype": "text/x-python",
   "name": "python",
   "nbconvert_exporter": "python",
   "pygments_lexer": "ipython3",
   "version": "3.12.6"
  }
 },
 "nbformat": 4,
 "nbformat_minor": 5
}
