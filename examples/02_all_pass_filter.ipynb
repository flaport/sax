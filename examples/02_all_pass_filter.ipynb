{
 "cells": [
  {
   "cell_type": "markdown",
   "id": "0",
   "metadata": {
    "papermill": {
     "duration": 0.013694,
     "end_time": "2024-06-17T18:16:22.479740",
     "exception": false,
     "start_time": "2024-06-17T18:16:22.466046",
     "status": "completed"
    },
    "tags": []
   },
   "source": [
    "# Simulating an All-Pass Filter\n",
    "> A simple comparison between an analytical evaluation of an all pass filter and using SAX."
   ]
  },
  {
   "cell_type": "code",
   "execution_count": null,
   "id": "1",
   "metadata": {
    "papermill": {
     "duration": 2.269674,
     "end_time": "2024-06-17T18:16:24.762078",
     "exception": false,
     "start_time": "2024-06-17T18:16:22.492404",
     "status": "completed"
    },
    "tags": []
   },
   "outputs": [],
   "source": [
    "import jax\n",
    "import jax.numpy as jnp\n",
    "import matplotlib.pyplot as plt\n",
    "import sax"
   ]
  },
  {
   "cell_type": "markdown",
   "id": "2",
   "metadata": {
    "papermill": {
     "duration": 0.004454,
     "end_time": "2024-06-17T18:16:24.771036",
     "exception": false,
     "start_time": "2024-06-17T18:16:24.766582",
     "status": "completed"
    },
    "tags": []
   },
   "source": [
    "## Schematic\n",
    "```\n",
    "\n",
    "           in0---out0\n",
    "        in1          out1\n",
    "           \\        /\n",
    "            ========\n",
    "           /        \\\n",
    " in0 <- in0          out0 -> out0\n",
    "```"
   ]
  },
  {
   "cell_type": "markdown",
   "id": "3",
   "metadata": {
    "papermill": {
     "duration": 0.004448,
     "end_time": "2024-06-17T18:16:24.779975",
     "exception": false,
     "start_time": "2024-06-17T18:16:24.775527",
     "status": "completed"
    },
    "tags": []
   },
   "source": [
    "## Simulation & Design Parameters"
   ]
  },
  {
   "cell_type": "code",
   "execution_count": null,
   "id": "4",
   "metadata": {
    "papermill": {
     "duration": 0.129844,
     "end_time": "2024-06-17T18:16:24.914111",
     "exception": false,
     "start_time": "2024-06-17T18:16:24.784267",
     "status": "completed"
    },
    "tags": []
   },
   "outputs": [],
   "source": [
    "loss = 0.1  # [dB/μm] (alpha) waveguide loss\n",
    "neff = 2.34  # Effective index of the waveguides\n",
    "ng = 3.4  # Group index of the waveguides\n",
    "wl0 = 1.55  # [μm] the wavelength at which neff and ng are defined\n",
    "ring_length = 10.0  # [μm] Length of the ring\n",
    "coupling = 0.5  # [] coupling of the coupler\n",
    "wl = jnp.linspace(1.5, 1.6, 1000)  # [μm] Wavelengths to sweep over"
   ]
  },
  {
   "cell_type": "markdown",
   "id": "5",
   "metadata": {
    "papermill": {
     "duration": 0.004086,
     "end_time": "2024-06-17T18:16:24.922300",
     "exception": false,
     "start_time": "2024-06-17T18:16:24.918214",
     "status": "completed"
    },
    "tags": []
   },
   "source": [
    "## Frequency Domain Analytically"
   ]
  },
  {
   "cell_type": "markdown",
   "id": "6",
   "metadata": {
    "papermill": {
     "duration": 0.004168,
     "end_time": "2024-06-17T18:16:24.930464",
     "exception": false,
     "start_time": "2024-06-17T18:16:24.926296",
     "status": "completed"
    },
    "tags": []
   },
   "source": [
    "As a comparison, we first calculate the frequency domain response for the all-pass filter analytically:\n",
    "\\begin{align*}\n",
    "o = \\frac{t-10^{-\\alpha L/20}\\exp(2\\pi j n_{\\rm eff}(\\lambda) L / \\lambda)}{1-t10^{-\\alpha L/20}\\exp(2\\pi j n_{\\rm eff}(\\lambda) L / \\lambda)}s\n",
    "\\end{align*}"
   ]
  },
  {
   "cell_type": "code",
   "execution_count": null,
   "id": "7",
   "metadata": {
    "papermill": {
     "duration": 0.01843,
     "end_time": "2024-06-17T18:16:24.953017",
     "exception": false,
     "start_time": "2024-06-17T18:16:24.934587",
     "status": "completed"
    },
    "tags": []
   },
   "outputs": [],
   "source": [
    "def all_pass_analytical():\n",
    "    \"\"\"Analytic Frequency Domain Response of an all pass filter\"\"\"\n",
    "    detected = jnp.zeros_like(wl)\n",
    "    transmission = 1 - coupling\n",
    "    neff_wl = (\n",
    "        neff + (wl0 - wl) * (ng - neff) / wl0\n",
    "    )  # we expect a linear behavior with respect to wavelength\n",
    "    out = jnp.sqrt(transmission) - 10 ** (-loss * ring_length / 20.0) * jnp.exp(\n",
    "        2j * jnp.pi * neff_wl * ring_length / wl\n",
    "    )\n",
    "    out /= 1 - jnp.sqrt(transmission) * 10 ** (-loss * ring_length / 20.0) * jnp.exp(\n",
    "        2j * jnp.pi * neff_wl * ring_length / wl\n",
    "    )\n",
    "    detected = abs(out) ** 2\n",
    "    return detected"
   ]
  },
  {
   "cell_type": "code",
   "execution_count": null,
   "id": "8",
   "metadata": {
    "papermill": {
     "duration": 1.422167,
     "end_time": "2024-06-17T18:16:26.379310",
     "exception": false,
     "start_time": "2024-06-17T18:16:24.957143",
     "status": "completed"
    },
    "tags": []
   },
   "outputs": [],
   "source": [
    "%time detected = all_pass_analytical() # non-jitted evaluation time\n",
    "all_pass_analytical_jitted = jax.jit(all_pass_analytical)\n",
    "%time detected = all_pass_analytical_jitted() # time to jit\n",
    "%time detected = all_pass_analytical_jitted() # evaluation time after jitting\n",
    "\n",
    "plt.plot(wl * 1e3, detected)\n",
    "plt.xlabel(\"λ [nm]\")\n",
    "plt.ylabel(\"T\")\n",
    "plt.show()"
   ]
  },
  {
   "cell_type": "markdown",
   "id": "9",
   "metadata": {
    "papermill": {
     "duration": 0.004678,
     "end_time": "2024-06-17T18:16:26.388495",
     "exception": false,
     "start_time": "2024-06-17T18:16:26.383817",
     "status": "completed"
    },
    "tags": []
   },
   "source": [
    "## Scatter Dictionaries"
   ]
  },
  {
   "cell_type": "code",
   "execution_count": null,
   "id": "10",
   "metadata": {
    "papermill": {
     "duration": 1.139103,
     "end_time": "2024-06-17T18:16:27.531865",
     "exception": false,
     "start_time": "2024-06-17T18:16:26.392762",
     "status": "completed"
    },
    "tags": []
   },
   "outputs": [],
   "source": [
    "all_pass_sax, _ = sax.circuit(\n",
    "    netlist={\n",
    "        \"instances\": {\n",
    "            \"dc\": {\"component\": \"coupler\", \"settings\": {\"coupling\": coupling}},\n",
    "            \"top\": {\n",
    "                \"component\": \"straight\",\n",
    "                \"settings\": {\n",
    "                    \"length\": ring_length,\n",
    "                    \"loss\": loss,\n",
    "                    \"neff\": neff,\n",
    "                    \"ng\": ng,\n",
    "                    \"wl0\": wl0,\n",
    "                    \"wl\": wl,\n",
    "                },\n",
    "            },\n",
    "        },\n",
    "        \"connections\": {\n",
    "            \"dc,out1\": \"top,in0\",\n",
    "            \"top,out0\": \"dc,in1\",\n",
    "        },\n",
    "        \"ports\": {\n",
    "            \"in0\": \"dc,in0\",\n",
    "            \"out0\": \"dc,out0\",\n",
    "        },\n",
    "    },\n",
    "    models={\n",
    "        \"coupler\": sax.models.coupler,\n",
    "        \"straight\": sax.models.straight,\n",
    "    },\n",
    ")"
   ]
  },
  {
   "cell_type": "code",
   "execution_count": null,
   "id": "11",
   "metadata": {
    "papermill": {
     "duration": 0.96627,
     "end_time": "2024-06-17T18:16:28.502665",
     "exception": false,
     "start_time": "2024-06-17T18:16:27.536395",
     "status": "completed"
    },
    "tags": []
   },
   "outputs": [],
   "source": [
    "%time detected_sax = all_pass_sax() # non-jitted evaluation time\n",
    "all_pass_sax_jitted = jax.jit(all_pass_analytical)\n",
    "%time detected_sax = all_pass_sax_jitted() # time to jit\n",
    "%time detected_sax = all_pass_sax_jitted() # time after jitting\n",
    "\n",
    "plt.plot(wl * 1e3, detected, label=\"analytical\")\n",
    "plt.plot(wl * 1e3, detected_sax, label=\"sax\", ls=\"--\", lw=3)\n",
    "plt.xlabel(\"λ [nm]\")\n",
    "plt.ylabel(\"T\")\n",
    "plt.show()"
   ]
  }
 ],
 "metadata": {
  "kernelspec": {
   "display_name": "Python 3 (ipykernel)",
   "language": "python",
   "name": "python3"
  },
  "language_info": {
   "codemirror_mode": {
    "name": "ipython",
    "version": 3
   },
   "file_extension": ".py",
   "mimetype": "text/x-python",
   "name": "python",
   "nbconvert_exporter": "python",
   "pygments_lexer": "ipython3",
   "version": "3.11.9"
  }
 },
 "nbformat": 4,
 "nbformat_minor": 5
}
