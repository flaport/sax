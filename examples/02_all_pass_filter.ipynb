{
 "cells": [
  {
   "cell_type": "markdown",
   "id": "a234aed9",
   "metadata": {},
   "source": [
    "# Simulating an All-Pass Filter"
   ]
  },
  {
   "cell_type": "markdown",
   "id": "0b359fd3",
   "metadata": {},
   "source": [
    "A simple comparison between an analytical evaluation of an all pass filter and using SAX."
   ]
  },
  {
   "cell_type": "markdown",
   "id": "4ca237fd",
   "metadata": {},
   "source": [
    "## Imports"
   ]
  },
  {
   "cell_type": "code",
   "execution_count": null,
   "id": "f8a6a944",
   "metadata": {},
   "outputs": [],
   "source": [
    "import jax\n",
    "import jax.example_libraries.optimizers as opt\n",
    "import jax.numpy as jnp\n",
    "import matplotlib.pyplot as plt\n",
    "import sax\n",
    "import tqdm"
   ]
  },
  {
   "cell_type": "markdown",
   "id": "d9d87eef",
   "metadata": {},
   "source": [
    "## Schematic\n",
    "```\n",
    "\n",
    "           in0---out0\n",
    "        in1          out1\n",
    "           \\        /\n",
    "            ========\n",
    "           /        \\\n",
    " in0 <- in0          out0 -> out0\n",
    "```"
   ]
  },
  {
   "cell_type": "markdown",
   "id": "3847a061",
   "metadata": {},
   "source": [
    "## Simulation & Design Parameters"
   ]
  },
  {
   "cell_type": "code",
   "execution_count": null,
   "id": "03d546d8",
   "metadata": {},
   "outputs": [],
   "source": [
    "loss = 0.1  # [dB/μm] (alpha) waveguide loss\n",
    "neff = 2.34  # Effective index of the waveguides\n",
    "ng = 3.4  # Group index of the waveguides\n",
    "wl0 = 1.55  # [μm] the wavelength at which neff and ng are defined\n",
    "ring_length = 10.0  # [μm] Length of the ring\n",
    "coupling = 0.5  # [] coupling of the coupler\n",
    "wl = jnp.linspace(1.5, 1.6, 1000)  # [μm] Wavelengths to sweep over"
   ]
  },
  {
   "cell_type": "markdown",
   "id": "8c463584",
   "metadata": {},
   "source": [
    "## Frequency Domain Analytically"
   ]
  },
  {
   "cell_type": "markdown",
   "id": "9e171871",
   "metadata": {},
   "source": [
    "As a comparison, we first calculate the frequency domain response for the all-pass filter analytically:\n",
    "\\begin{align*}\n",
    "o = \\frac{t-10^{-\\alpha L/20}\\exp(2\\pi j n_{\\rm eff}(\\lambda) L / \\lambda)}{1-t10^{-\\alpha L/20}\\exp(2\\pi j n_{\\rm eff}(\\lambda) L / \\lambda)}s\n",
    "\\end{align*}"
   ]
  },
  {
   "cell_type": "code",
   "execution_count": null,
   "id": "48031239",
   "metadata": {},
   "outputs": [],
   "source": [
    "def all_pass_analytical():\n",
    "    \"\"\" Analytic Frequency Domain Response of an all pass filter \"\"\"\n",
    "    detected = jnp.zeros_like(wl)\n",
    "    transmission = 1 - coupling\n",
    "    neff_wl = neff + (wl0 - wl) * (ng - neff) / wl0  # we expect a linear behavior with respect to wavelength\n",
    "    out = jnp.sqrt(transmission) - 10 ** (-loss * ring_length / 20.0) * jnp.exp(2j * jnp.pi * neff_wl * ring_length / wl)\n",
    "    out /= 1 - jnp.sqrt(transmission) * 10 ** (-loss * ring_length / 20.0) * jnp.exp(2j * jnp.pi * neff_wl * ring_length / wl)\n",
    "    detected = abs(out) ** 2\n",
    "    return detected"
   ]
  },
  {
   "cell_type": "code",
   "execution_count": null,
   "id": "cb39b703",
   "metadata": {},
   "outputs": [],
   "source": [
    "%time detected = all_pass_analytical() # non-jitted evaluation time\n",
    "all_pass_analytical_jitted = jax.jit(all_pass_analytical)\n",
    "%time detected = all_pass_analytical_jitted() # time to jit\n",
    "%time detected = all_pass_analytical_jitted() # evaluation time after jitting\n",
    "\n",
    "plt.plot(wl * 1e3, detected)\n",
    "plt.xlabel(\"λ [nm]\")\n",
    "plt.ylabel(\"T\")\n",
    "plt.show()"
   ]
  },
  {
   "cell_type": "markdown",
   "id": "11219941",
   "metadata": {},
   "source": [
    "## Scatter Dictionaries"
   ]
  },
  {
   "cell_type": "code",
   "execution_count": null,
   "id": "5957b3f3",
   "metadata": {},
   "outputs": [],
   "source": [
    "all_pass_sax = sax.circuit(\n",
    "    instances={\n",
    "        \"dc\": sax.partial(sax.models.coupler, coupling=coupling),\n",
    "        \"top\": sax.partial(sax.models.straight, length=ring_length, loss=loss, neff=neff, ng=ng, wl0=wl0, wl=wl),\n",
    "    },\n",
    "    connections={\n",
    "        \"dc,out1\": \"top,in0\",\n",
    "        \"top,out0\": \"dc,in1\",\n",
    "    },\n",
    "    ports={\n",
    "        \"in0\": \"dc,in0\",\n",
    "        \"out0\": \"dc,out0\",\n",
    "    },\n",
    ")"
   ]
  },
  {
   "cell_type": "code",
   "execution_count": null,
   "id": "1702182a",
   "metadata": {},
   "outputs": [],
   "source": [
    "%time detected_sax = all_pass_sax() # non-jitted evaluation time\n",
    "all_pass_sax_jitted = jax.jit(all_pass_analytical)\n",
    "%time detected_sax = all_pass_sax_jitted() # time to jit\n",
    "%time detected_sax = all_pass_sax_jitted() # time after jitting\n",
    "\n",
    "plt.plot(wl * 1e3, detected, label=\"analytical\")\n",
    "plt.plot(wl * 1e3, detected_sax, label=\"sax\", ls=\"--\", lw=3)\n",
    "plt.xlabel(\"λ [nm]\")\n",
    "plt.ylabel(\"T\")\n",
    "plt.show()"
   ]
  }
 ],
 "metadata": {
  "kernelspec": {
   "display_name": "sax",
   "language": "python",
   "name": "sax"
  }
 },
 "nbformat": 4,
 "nbformat_minor": 5
}
