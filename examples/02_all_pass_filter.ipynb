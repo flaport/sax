{
 "cells": [
  {
   "cell_type": "markdown",
   "id": "0",
   "metadata": {
    "papermill": {
     "duration": 0.002654,
     "end_time": "2025-02-27T06:29:35.336271",
     "exception": false,
     "start_time": "2025-02-27T06:29:35.333617",
     "status": "completed"
    },
    "tags": []
   },
   "source": [
    "# Simulating an All-Pass Filter\n",
    "> A simple comparison between an analytical evaluation of an all pass filter and using SAX."
   ]
  },
  {
   "cell_type": "code",
   "execution_count": null,
   "id": "1",
   "metadata": {
    "papermill": {
     "duration": 2.450643,
     "end_time": "2025-02-27T06:29:37.799719",
     "exception": false,
     "start_time": "2025-02-27T06:29:35.349076",
     "status": "completed"
    },
    "tags": []
   },
   "outputs": [],
   "source": [
    "import jax\n",
    "import jax.numpy as jnp\n",
    "import matplotlib.pyplot as plt\n",
    "import sax"
   ]
  },
  {
   "cell_type": "markdown",
   "id": "2",
   "metadata": {
    "papermill": {
     "duration": 0.003206,
     "end_time": "2025-02-27T06:29:37.807207",
     "exception": false,
     "start_time": "2025-02-27T06:29:37.804001",
     "status": "completed"
    },
    "tags": []
   },
   "source": [
    "## Schematic\n",
    "```\n",
    "\n",
    "           in0---out0\n",
    "        in1          out1\n",
    "           \\        /\n",
    "            ========\n",
    "           /        \\\n",
    " in0 <- in0          out0 -> out0\n",
    "```"
   ]
  },
  {
   "cell_type": "markdown",
   "id": "3",
   "metadata": {
    "papermill": {
     "duration": 0.003414,
     "end_time": "2025-02-27T06:29:37.815357",
     "exception": false,
     "start_time": "2025-02-27T06:29:37.811943",
     "status": "completed"
    },
    "tags": []
   },
   "source": [
    "## Simulation & Design Parameters"
   ]
  },
  {
   "cell_type": "code",
   "execution_count": null,
   "id": "4",
   "metadata": {
    "papermill": {
     "duration": 0.141118,
     "end_time": "2025-02-27T06:29:37.959711",
     "exception": false,
     "start_time": "2025-02-27T06:29:37.818593",
     "status": "completed"
    },
    "tags": []
   },
   "outputs": [],
   "source": [
    "loss = 0.1  # [dB/μm] (alpha) waveguide loss\n",
    "neff = 2.34  # Effective index of the waveguides\n",
    "ng = 3.4  # Group index of the waveguides\n",
    "wl0 = 1.55  # [μm] the wavelength at which neff and ng are defined\n",
    "ring_length = 10.0  # [μm] Length of the ring\n",
    "coupling = 0.5  # [] coupling of the coupler\n",
    "wl = jnp.linspace(1.5, 1.6, 1000)  # [μm] Wavelengths to sweep over"
   ]
  },
  {
   "cell_type": "markdown",
   "id": "5",
   "metadata": {
    "papermill": {
     "duration": 0.003666,
     "end_time": "2025-02-27T06:29:37.967619",
     "exception": false,
     "start_time": "2025-02-27T06:29:37.963953",
     "status": "completed"
    },
    "tags": []
   },
   "source": [
    "## Frequency Domain Analytically"
   ]
  },
  {
   "cell_type": "markdown",
   "id": "6",
   "metadata": {
    "papermill": {
     "duration": 0.003445,
     "end_time": "2025-02-27T06:29:37.974823",
     "exception": false,
     "start_time": "2025-02-27T06:29:37.971378",
     "status": "completed"
    },
    "tags": []
   },
   "source": [
    "As a comparison, we first calculate the frequency domain response for the all-pass filter analytically:\n",
    "\\begin{align*}\n",
    "o = \\frac{t-10^{-\\alpha L/20}\\exp(2\\pi j n_{\\rm eff}(\\lambda) L / \\lambda)}{1-t10^{-\\alpha L/20}\\exp(2\\pi j n_{\\rm eff}(\\lambda) L / \\lambda)}s\n",
    "\\end{align*}"
   ]
  },
  {
   "cell_type": "code",
   "execution_count": null,
   "id": "7",
   "metadata": {
    "papermill": {
     "duration": 0.015074,
     "end_time": "2025-02-27T06:29:37.993716",
     "exception": false,
     "start_time": "2025-02-27T06:29:37.978642",
     "status": "completed"
    },
    "tags": []
   },
   "outputs": [],
   "source": [
    "def all_pass_analytical():\n",
    "    \"\"\"Analytic Frequency Domain Response of an all pass filter\"\"\"\n",
    "    detected = jnp.zeros_like(wl)\n",
    "    transmission = 1 - coupling\n",
    "    neff_wl = (\n",
    "        neff + (wl0 - wl) * (ng - neff) / wl0\n",
    "    )  # we expect a linear behavior with respect to wavelength\n",
    "    out = jnp.sqrt(transmission) - 10 ** (-loss * ring_length / 20.0) * jnp.exp(\n",
    "        2j * jnp.pi * neff_wl * ring_length / wl\n",
    "    )\n",
    "    out /= 1 - jnp.sqrt(transmission) * 10 ** (-loss * ring_length / 20.0) * jnp.exp(\n",
    "        2j * jnp.pi * neff_wl * ring_length / wl\n",
    "    )\n",
    "    detected = abs(out) ** 2\n",
    "    return detected"
   ]
  },
  {
   "cell_type": "code",
   "execution_count": null,
   "id": "8",
   "metadata": {
    "papermill": {
     "duration": 0.84579,
     "end_time": "2025-02-27T06:29:38.843293",
     "exception": false,
     "start_time": "2025-02-27T06:29:37.997503",
     "status": "completed"
    },
    "tags": []
   },
   "outputs": [],
   "source": [
    "%time detected = all_pass_analytical() # non-jitted evaluation time\n",
    "all_pass_analytical_jitted = jax.jit(all_pass_analytical)\n",
    "%time detected = all_pass_analytical_jitted() # time to jit\n",
    "%time detected = all_pass_analytical_jitted() # evaluation time after jitting\n",
    "\n",
    "plt.plot(wl * 1e3, detected)\n",
    "plt.xlabel(\"λ [nm]\")\n",
    "plt.ylabel(\"T\")\n",
    "plt.show()"
   ]
  },
  {
   "cell_type": "markdown",
   "id": "9",
   "metadata": {
    "papermill": {
     "duration": 0.004246,
     "end_time": "2025-02-27T06:29:38.852369",
     "exception": false,
     "start_time": "2025-02-27T06:29:38.848123",
     "status": "completed"
    },
    "tags": []
   },
   "source": [
    "## Scatter Dictionaries"
   ]
  },
  {
   "cell_type": "code",
   "execution_count": null,
   "id": "10",
   "metadata": {
    "papermill": {
     "duration": 1.439237,
     "end_time": "2025-02-27T06:29:40.296009",
     "exception": false,
     "start_time": "2025-02-27T06:29:38.856772",
     "status": "completed"
    },
    "tags": []
   },
   "outputs": [],
   "source": [
    "all_pass_sax, _ = sax.circuit(\n",
    "    netlist={\n",
    "        \"instances\": {\n",
    "            \"dc\": {\"component\": \"coupler\", \"settings\": {\"coupling\": coupling}},\n",
    "            \"top\": {\n",
    "                \"component\": \"straight\",\n",
    "                \"settings\": {\n",
    "                    \"length\": ring_length,\n",
    "                    \"loss\": loss,\n",
    "                    \"neff\": neff,\n",
    "                    \"ng\": ng,\n",
    "                    \"wl0\": wl0,\n",
    "                    \"wl\": wl,\n",
    "                },\n",
    "            },\n",
    "        },\n",
    "        \"connections\": {\n",
    "            \"dc,out1\": \"top,in0\",\n",
    "            \"top,out0\": \"dc,in1\",\n",
    "        },\n",
    "        \"ports\": {\n",
    "            \"in0\": \"dc,in0\",\n",
    "            \"out0\": \"dc,out0\",\n",
    "        },\n",
    "    },\n",
    "    models={\n",
    "        \"coupler\": sax.models.coupler,\n",
    "        \"straight\": sax.models.straight,\n",
    "    },\n",
    ")"
   ]
  },
  {
   "cell_type": "code",
   "execution_count": null,
   "id": "11",
   "metadata": {
    "papermill": {
     "duration": 0.963139,
     "end_time": "2025-02-27T06:29:41.269438",
     "exception": false,
     "start_time": "2025-02-27T06:29:40.306299",
     "status": "completed"
    },
    "tags": []
   },
   "outputs": [],
   "source": [
    "%time detected_sax = all_pass_sax() # non-jitted evaluation time\n",
    "all_pass_sax_jitted = jax.jit(all_pass_analytical)\n",
    "%time detected_sax = all_pass_sax_jitted() # time to jit\n",
    "%time detected_sax = all_pass_sax_jitted() # time after jitting\n",
    "\n",
    "plt.plot(wl * 1e3, detected, label=\"analytical\")\n",
    "plt.plot(wl * 1e3, detected_sax, label=\"sax\", ls=\"--\", lw=3)\n",
    "plt.xlabel(\"λ [nm]\")\n",
    "plt.ylabel(\"T\")\n",
    "plt.show()"
   ]
  }
 ],
 "metadata": {
  "kernelspec": {
   "display_name": "Python 3 (ipykernel)",
   "language": "python",
   "name": "python3"
  },
  "language_info": {
   "codemirror_mode": {
    "name": "ipython",
    "version": 3
   },
   "file_extension": ".py",
   "mimetype": "text/x-python",
   "name": "python",
   "nbconvert_exporter": "python",
   "pygments_lexer": "ipython3",
   "version": "3.12.6"
  }
 },
 "nbformat": 4,
 "nbformat_minor": 5
}
