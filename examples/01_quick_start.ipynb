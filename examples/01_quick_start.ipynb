{
 "cells": [
  {
   "cell_type": "markdown",
   "id": "0",
   "metadata": {
    "papermill": {
     "duration": 0.022715,
     "end_time": "2025-02-27T06:29:35.354805",
     "exception": false,
     "start_time": "2025-02-27T06:29:35.332090",
     "status": "completed"
    },
    "tags": []
   },
   "source": [
    "# SAX Quick Start\n",
    "> Let's go over the core functionality of SAX."
   ]
  },
  {
   "cell_type": "markdown",
   "id": "1",
   "metadata": {
    "papermill": {
     "duration": 0.010403,
     "end_time": "2025-02-27T06:29:35.379702",
     "exception": false,
     "start_time": "2025-02-27T06:29:35.369299",
     "status": "completed"
    },
    "tags": []
   },
   "source": [
    "## Environment variables"
   ]
  },
  {
   "cell_type": "markdown",
   "id": "2",
   "metadata": {
    "papermill": {
     "duration": 0.015664,
     "end_time": "2025-02-27T06:29:35.406370",
     "exception": false,
     "start_time": "2025-02-27T06:29:35.390706",
     "status": "completed"
    },
    "tags": []
   },
   "source": [
    "SAX is based on JAX... here are some useful environment variables for working with JAX:"
   ]
  },
  {
   "cell_type": "code",
   "execution_count": null,
   "id": "3",
   "metadata": {
    "papermill": {
     "duration": 0.832832,
     "end_time": "2025-02-27T06:29:36.261672",
     "exception": false,
     "start_time": "2025-02-27T06:29:35.428840",
     "status": "completed"
    },
    "tags": []
   },
   "outputs": [],
   "source": [
    "# select float32 or float64 as default dtype\n",
    "%env JAX_ENABLE_X64=0\n",
    "\n",
    "# select cpu or gpu\n",
    "%env JAX_PLATFORM_NAME=cpu\n",
    "\n",
    "# set custom CUDA location for gpu:\n",
    "%env XLA_FLAGS=--xla_gpu_cuda_data_dir=/usr/lib/cuda\n",
    "\n",
    "# Using GPU?\n",
    "import jax.extend\n",
    "\n",
    "print(jax.extend.backend.get_backend().platform)"
   ]
  },
  {
   "cell_type": "markdown",
   "id": "4",
   "metadata": {
    "papermill": {
     "duration": 0.023435,
     "end_time": "2025-02-27T06:29:36.308592",
     "exception": false,
     "start_time": "2025-02-27T06:29:36.285157",
     "status": "completed"
    },
    "tags": []
   },
   "source": [
    "## Imports"
   ]
  },
  {
   "cell_type": "code",
   "execution_count": null,
   "id": "5",
   "metadata": {
    "papermill": {
     "duration": 1.816235,
     "end_time": "2025-02-27T06:29:38.144001",
     "exception": false,
     "start_time": "2025-02-27T06:29:36.327766",
     "status": "completed"
    },
    "tags": []
   },
   "outputs": [],
   "source": [
    "import jax\n",
    "import jax.example_libraries.optimizers as opt\n",
    "import jax.numpy as jnp\n",
    "import matplotlib.pyplot as plt  # plotting\n",
    "import sax\n",
    "from tqdm.notebook import trange"
   ]
  },
  {
   "cell_type": "markdown",
   "id": "6",
   "metadata": {
    "papermill": {
     "duration": 0.014331,
     "end_time": "2025-02-27T06:29:38.174991",
     "exception": false,
     "start_time": "2025-02-27T06:29:38.160660",
     "status": "completed"
    },
    "tags": []
   },
   "source": [
    "## Scatter *dictionaries*\n",
    "The core datastructure for specifying scatter parameters in SAX is a dictionary... more specifically a dictionary which maps a port combination (2-tuple) to a scatter parameter (or an array of scatter parameters when considering multiple wavelengths for example). Such a specific dictionary mapping is called ann `SDict` in SAX (`SDict ≈ Dict[Tuple[str,str], float]`).\n",
    "\n",
    "Dictionaries are in fact much better suited for characterizing S-parameters than, say, (jax-)numpy arrays due to the inherent sparse nature of scatter parameters. Moreover, dictonaries allow for string indexing, which makes them much more pleasant to use in this context. Let’s for example create an `SDict` for a 50/50 coupler:"
   ]
  },
  {
   "cell_type": "markdown",
   "id": "7",
   "metadata": {
    "papermill": {
     "duration": 0.012604,
     "end_time": "2025-02-27T06:29:38.201539",
     "exception": false,
     "start_time": "2025-02-27T06:29:38.188935",
     "status": "completed"
    },
    "tags": []
   },
   "source": [
    "```\n",
    "in1          out1\n",
    "   \\        /\n",
    "    ========\n",
    "   /        \\\n",
    "in0          out0\n",
    "```"
   ]
  },
  {
   "cell_type": "code",
   "execution_count": null,
   "id": "8",
   "metadata": {
    "papermill": {
     "duration": 0.035417,
     "end_time": "2025-02-27T06:29:38.251309",
     "exception": false,
     "start_time": "2025-02-27T06:29:38.215892",
     "status": "completed"
    },
    "tags": []
   },
   "outputs": [],
   "source": [
    "coupling = 0.5\n",
    "kappa = coupling**0.5\n",
    "tau = (1 - coupling) ** 0.5\n",
    "coupler_dict = {\n",
    "    (\"in0\", \"out0\"): tau,\n",
    "    (\"out0\", \"in0\"): tau,\n",
    "    (\"in0\", \"out1\"): 1j * kappa,\n",
    "    (\"out1\", \"in0\"): 1j * kappa,\n",
    "    (\"in1\", \"out0\"): 1j * kappa,\n",
    "    (\"out0\", \"in1\"): 1j * kappa,\n",
    "    (\"in1\", \"out1\"): tau,\n",
    "    (\"out1\", \"in1\"): tau,\n",
    "}\n",
    "coupler_dict"
   ]
  },
  {
   "cell_type": "markdown",
   "id": "9",
   "metadata": {
    "papermill": {
     "duration": 0.01471,
     "end_time": "2025-02-27T06:29:38.280396",
     "exception": false,
     "start_time": "2025-02-27T06:29:38.265686",
     "status": "completed"
    },
    "tags": []
   },
   "source": [
    "Only the non-zero port combinations need to be specified. Any non-existent port-combination (for example `(\"in0\", \"in1\")`) is considered to be zero by SAX.\n",
    "\n",
    "Obviously, it can still be tedious to specify every port in the circuit manually. SAX therefore offers the `reciprocal` function, which auto-fills the reverse connection if the forward connection exist. For example:"
   ]
  },
  {
   "cell_type": "code",
   "execution_count": null,
   "id": "10",
   "metadata": {
    "papermill": {
     "duration": 0.031002,
     "end_time": "2025-02-27T06:29:38.325429",
     "exception": false,
     "start_time": "2025-02-27T06:29:38.294427",
     "status": "completed"
    },
    "tags": []
   },
   "outputs": [],
   "source": [
    "coupler_dict = sax.reciprocal(\n",
    "    {\n",
    "        (\"in0\", \"out0\"): tau,\n",
    "        (\"in0\", \"out1\"): 1j * kappa,\n",
    "        (\"in1\", \"out0\"): 1j * kappa,\n",
    "        (\"in1\", \"out1\"): tau,\n",
    "    }\n",
    ")\n",
    "\n",
    "coupler_dict"
   ]
  },
  {
   "cell_type": "markdown",
   "id": "11",
   "metadata": {
    "papermill": {
     "duration": 0.017266,
     "end_time": "2025-02-27T06:29:38.356193",
     "exception": false,
     "start_time": "2025-02-27T06:29:38.338927",
     "status": "completed"
    },
    "tags": []
   },
   "source": [
    "## Parametrized Models"
   ]
  },
  {
   "cell_type": "markdown",
   "id": "12",
   "metadata": {
    "papermill": {
     "duration": 0.013855,
     "end_time": "2025-02-27T06:29:38.383706",
     "exception": false,
     "start_time": "2025-02-27T06:29:38.369851",
     "status": "completed"
    },
    "tags": []
   },
   "source": [
    "Constructing such an `SDict` is easy, however, usually we're more interested in having parametrized models for our components. To parametrize the coupler `SDict`, just wrap it in a function to obtain a SAX `Model`, which is a keyword-only function mapping to an `SDict`:"
   ]
  },
  {
   "cell_type": "code",
   "execution_count": null,
   "id": "13",
   "metadata": {
    "papermill": {
     "duration": 0.030181,
     "end_time": "2025-02-27T06:29:38.427406",
     "exception": false,
     "start_time": "2025-02-27T06:29:38.397225",
     "status": "completed"
    },
    "tags": []
   },
   "outputs": [],
   "source": [
    "def coupler(coupling=0.5) -> sax.SDict:\n",
    "    kappa = coupling**0.5\n",
    "    tau = (1 - coupling) ** 0.5\n",
    "    coupler_dict = sax.reciprocal(\n",
    "        {\n",
    "            (\"in0\", \"out0\"): tau,\n",
    "            (\"in0\", \"out1\"): 1j * kappa,\n",
    "            (\"in1\", \"out0\"): 1j * kappa,\n",
    "            (\"in1\", \"out1\"): tau,\n",
    "        }\n",
    "    )\n",
    "    return coupler_dict\n",
    "\n",
    "\n",
    "coupler(coupling=0.3)"
   ]
  },
  {
   "cell_type": "markdown",
   "id": "14",
   "metadata": {
    "papermill": {
     "duration": 0.013915,
     "end_time": "2025-02-27T06:29:38.456275",
     "exception": false,
     "start_time": "2025-02-27T06:29:38.442360",
     "status": "completed"
    },
    "tags": []
   },
   "source": [
    "We can define a waveguide in the same way:"
   ]
  },
  {
   "cell_type": "code",
   "execution_count": null,
   "id": "15",
   "metadata": {
    "papermill": {
     "duration": 0.026915,
     "end_time": "2025-02-27T06:29:38.497682",
     "exception": false,
     "start_time": "2025-02-27T06:29:38.470767",
     "status": "completed"
    },
    "tags": []
   },
   "outputs": [],
   "source": [
    "def waveguide(wl=1.55, wl0=1.55, neff=2.34, ng=3.4, length=10.0, loss=0.0) -> sax.SDict:\n",
    "    dwl = wl - wl0\n",
    "    dneff_dwl = (ng - neff) / wl0\n",
    "    neff = neff - dwl * dneff_dwl\n",
    "    phase = 2 * jnp.pi * neff * length / wl\n",
    "    transmission = 10 ** (-loss * length / 20) * jnp.exp(1j * phase)\n",
    "    sdict = sax.reciprocal(\n",
    "        {\n",
    "            (\"in0\", \"out0\"): transmission,\n",
    "        }\n",
    "    )\n",
    "    return sdict"
   ]
  },
  {
   "cell_type": "markdown",
   "id": "16",
   "metadata": {
    "papermill": {
     "duration": 0.014219,
     "end_time": "2025-02-27T06:29:38.527410",
     "exception": false,
     "start_time": "2025-02-27T06:29:38.513191",
     "status": "completed"
    },
    "tags": []
   },
   "source": [
    "That's pretty straightforward. Let's now move on to parametrized circuits:"
   ]
  },
  {
   "cell_type": "markdown",
   "id": "17",
   "metadata": {
    "papermill": {
     "duration": 0.014375,
     "end_time": "2025-02-27T06:29:38.556191",
     "exception": false,
     "start_time": "2025-02-27T06:29:38.541816",
     "status": "completed"
    },
    "tags": []
   },
   "source": [
    "## Circuit Models"
   ]
  },
  {
   "cell_type": "markdown",
   "id": "18",
   "metadata": {
    "papermill": {
     "duration": 0.016276,
     "end_time": "2025-02-27T06:29:38.638069",
     "exception": false,
     "start_time": "2025-02-27T06:29:38.621793",
     "status": "completed"
    },
    "tags": []
   },
   "source": [
    "Existing models can now be combined into a circuit using `sax.circuit`, which basically creates a new `Model` function:"
   ]
  },
  {
   "cell_type": "code",
   "execution_count": null,
   "id": "19",
   "metadata": {
    "papermill": {
     "duration": 1.531369,
     "end_time": "2025-02-27T06:29:40.186059",
     "exception": false,
     "start_time": "2025-02-27T06:29:38.654690",
     "status": "completed"
    },
    "tags": []
   },
   "outputs": [],
   "source": [
    "mzi, info = sax.circuit(\n",
    "    netlist={\n",
    "        \"instances\": {\n",
    "            \"lft\": \"coupler\",\n",
    "            \"top\": \"waveguide\",\n",
    "            \"btm\": \"waveguide\",\n",
    "            \"rgt\": \"coupler\",\n",
    "        },\n",
    "        \"connections\": {\n",
    "            \"lft,out0\": \"btm,in0\",\n",
    "            \"btm,out0\": \"rgt,in0\",\n",
    "            \"lft,out1\": \"top,in0\",\n",
    "            \"top,out0\": \"rgt,in1\",\n",
    "        },\n",
    "        \"ports\": {\n",
    "            \"in0\": \"lft,in0\",\n",
    "            \"in1\": \"lft,in1\",\n",
    "            \"out0\": \"rgt,out0\",\n",
    "            \"out1\": \"rgt,out1\",\n",
    "        },\n",
    "    },\n",
    "    models={\n",
    "        \"coupler\": coupler,\n",
    "        \"waveguide\": waveguide,\n",
    "    },\n",
    ")"
   ]
  },
  {
   "cell_type": "code",
   "execution_count": null,
   "id": "20",
   "metadata": {
    "papermill": {
     "duration": 0.614912,
     "end_time": "2025-02-27T06:29:40.816707",
     "exception": false,
     "start_time": "2025-02-27T06:29:40.201795",
     "status": "completed"
    },
    "tags": []
   },
   "outputs": [],
   "source": [
    "mzi()"
   ]
  },
  {
   "cell_type": "code",
   "execution_count": null,
   "id": "21",
   "metadata": {
    "papermill": {
     "duration": 0.100471,
     "end_time": "2025-02-27T06:29:40.932969",
     "exception": false,
     "start_time": "2025-02-27T06:29:40.832498",
     "status": "completed"
    },
    "tags": []
   },
   "outputs": [],
   "source": [
    "?mzi"
   ]
  },
  {
   "cell_type": "markdown",
   "id": "22",
   "metadata": {
    "papermill": {
     "duration": 0.014603,
     "end_time": "2025-02-27T06:29:40.962874",
     "exception": false,
     "start_time": "2025-02-27T06:29:40.948271",
     "status": "completed"
    },
    "tags": []
   },
   "source": [
    "The `circuit` function just creates a similar function as we created for the waveguide and the coupler, but in stead of taking parameters directly it takes parameter *dictionaries* for each of the instances in the circuit. The keys in these parameter dictionaries should correspond to the keyword arguments of each individual subcomponent. "
   ]
  },
  {
   "cell_type": "markdown",
   "id": "ef312bcf-4061-4467-a521-890756d701f2",
   "metadata": {
    "papermill": {
     "duration": 0.015311,
     "end_time": "2025-02-27T06:29:40.992529",
     "exception": false,
     "start_time": "2025-02-27T06:29:40.977218",
     "status": "completed"
    },
    "tags": []
   },
   "source": [
    "There is also some circuit metadata information returned as a second return value of the `sax.circuit` call:"
   ]
  },
  {
   "cell_type": "code",
   "execution_count": null,
   "id": "937c6075-c55f-4125-862c-d549ef67ff00",
   "metadata": {
    "papermill": {
     "duration": 0.032931,
     "end_time": "2025-02-27T06:29:41.042609",
     "exception": false,
     "start_time": "2025-02-27T06:29:41.009678",
     "status": "completed"
    },
    "tags": []
   },
   "outputs": [],
   "source": [
    "info"
   ]
  },
  {
   "cell_type": "markdown",
   "id": "23",
   "metadata": {
    "papermill": {
     "duration": 0.015108,
     "end_time": "2025-02-27T06:29:41.073577",
     "exception": false,
     "start_time": "2025-02-27T06:29:41.058469",
     "status": "completed"
    },
    "tags": []
   },
   "source": [
    "Let's now do a simulation for the MZI we just constructed:"
   ]
  },
  {
   "cell_type": "code",
   "execution_count": null,
   "id": "24",
   "metadata": {
    "papermill": {
     "duration": 0.085384,
     "end_time": "2025-02-27T06:29:41.174569",
     "exception": false,
     "start_time": "2025-02-27T06:29:41.089185",
     "status": "completed"
    },
    "tags": []
   },
   "outputs": [],
   "source": [
    "%time mzi()"
   ]
  },
  {
   "cell_type": "code",
   "execution_count": null,
   "id": "25",
   "metadata": {
    "papermill": {
     "duration": 0.087617,
     "end_time": "2025-02-27T06:29:41.301731",
     "exception": false,
     "start_time": "2025-02-27T06:29:41.214114",
     "status": "completed"
    },
    "tags": []
   },
   "outputs": [],
   "source": [
    "mzi2 = jax.jit(mzi)"
   ]
  },
  {
   "cell_type": "code",
   "execution_count": null,
   "id": "26",
   "metadata": {
    "papermill": {
     "duration": 0.431195,
     "end_time": "2025-02-27T06:29:41.772110",
     "exception": false,
     "start_time": "2025-02-27T06:29:41.340915",
     "status": "completed"
    },
    "tags": []
   },
   "outputs": [],
   "source": [
    "%time mzi2()"
   ]
  },
  {
   "cell_type": "code",
   "execution_count": null,
   "id": "27",
   "metadata": {
    "papermill": {
     "duration": 0.048399,
     "end_time": "2025-02-27T06:29:41.852241",
     "exception": false,
     "start_time": "2025-02-27T06:29:41.803842",
     "status": "completed"
    },
    "tags": []
   },
   "outputs": [],
   "source": [
    "%time mzi2()"
   ]
  },
  {
   "cell_type": "markdown",
   "id": "28",
   "metadata": {
    "papermill": {
     "duration": 0.021418,
     "end_time": "2025-02-27T06:29:41.895842",
     "exception": false,
     "start_time": "2025-02-27T06:29:41.874424",
     "status": "completed"
    },
    "tags": []
   },
   "source": [
    "Or in the case we want an MZI with different arm lengths:"
   ]
  },
  {
   "cell_type": "code",
   "execution_count": null,
   "id": "29",
   "metadata": {
    "papermill": {
     "duration": 0.091315,
     "end_time": "2025-02-27T06:29:42.007293",
     "exception": false,
     "start_time": "2025-02-27T06:29:41.915978",
     "status": "completed"
    },
    "tags": []
   },
   "outputs": [],
   "source": [
    "mzi(top={\"length\": 25.0}, btm={\"length\": 15.0})"
   ]
  },
  {
   "cell_type": "markdown",
   "id": "30",
   "metadata": {
    "papermill": {
     "duration": 0.020126,
     "end_time": "2025-02-27T06:29:42.050425",
     "exception": false,
     "start_time": "2025-02-27T06:29:42.030299",
     "status": "completed"
    },
    "tags": []
   },
   "source": [
    "## Simulating the parametrized MZI"
   ]
  },
  {
   "cell_type": "markdown",
   "id": "31",
   "metadata": {
    "papermill": {
     "duration": 0.019821,
     "end_time": "2025-02-27T06:29:42.090665",
     "exception": false,
     "start_time": "2025-02-27T06:29:42.070844",
     "status": "completed"
    },
    "tags": []
   },
   "source": [
    "We can simulate the above mzi for multiple wavelengths as well by specifying the wavelength at the top level of the circuit call. Each setting specified at the top level of the circuit call will be propagated to all subcomponents of the circuit which have that setting:"
   ]
  },
  {
   "cell_type": "code",
   "execution_count": null,
   "id": "32",
   "metadata": {
    "papermill": {
     "duration": 1.104294,
     "end_time": "2025-02-27T06:29:43.214333",
     "exception": false,
     "start_time": "2025-02-27T06:29:42.110039",
     "status": "completed"
    },
    "tags": []
   },
   "outputs": [],
   "source": [
    "wl = jnp.linspace(1.51, 1.59, 1000)\n",
    "%time S = mzi(wl=wl, top={\"length\": 25.0}, btm={\"length\": 15.0})"
   ]
  },
  {
   "cell_type": "markdown",
   "id": "33",
   "metadata": {
    "papermill": {
     "duration": 0.008041,
     "end_time": "2025-02-27T06:29:43.231309",
     "exception": false,
     "start_time": "2025-02-27T06:29:43.223268",
     "status": "completed"
    },
    "tags": []
   },
   "source": [
    "Let's see what this gives:"
   ]
  },
  {
   "cell_type": "code",
   "execution_count": null,
   "id": "34",
   "metadata": {
    "papermill": {
     "duration": 0.189536,
     "end_time": "2025-02-27T06:29:43.429122",
     "exception": false,
     "start_time": "2025-02-27T06:29:43.239586",
     "status": "completed"
    },
    "tags": []
   },
   "outputs": [],
   "source": [
    "plt.plot(wl * 1e3, abs(S[\"in0\", \"out0\"]) ** 2)\n",
    "plt.ylim(-0.05, 1.05)\n",
    "plt.xlabel(\"λ [nm]\")\n",
    "plt.ylabel(\"T\")\n",
    "plt.ylim(-0.05, 1.05)\n",
    "plt.show()"
   ]
  },
  {
   "cell_type": "markdown",
   "id": "35",
   "metadata": {
    "papermill": {
     "duration": 0.016601,
     "end_time": "2025-02-27T06:29:43.463100",
     "exception": false,
     "start_time": "2025-02-27T06:29:43.446499",
     "status": "completed"
    },
    "tags": []
   },
   "source": [
    "## Optimization"
   ]
  },
  {
   "cell_type": "markdown",
   "id": "36",
   "metadata": {
    "papermill": {
     "duration": 0.016532,
     "end_time": "2025-02-27T06:29:43.496111",
     "exception": false,
     "start_time": "2025-02-27T06:29:43.479579",
     "status": "completed"
    },
    "tags": []
   },
   "source": [
    "We'd like to optimize an MZI such that one of the minima is at 1550nm. To do this, we need to define a loss function for the circuit at 1550nm. This function should take the parameters that you want to optimize as positional arguments:"
   ]
  },
  {
   "cell_type": "code",
   "execution_count": null,
   "id": "37",
   "metadata": {
    "papermill": {
     "duration": 0.02777,
     "end_time": "2025-02-27T06:29:43.539171",
     "exception": false,
     "start_time": "2025-02-27T06:29:43.511401",
     "status": "completed"
    },
    "tags": []
   },
   "outputs": [],
   "source": [
    "@jax.jit\n",
    "def loss_fn(delta_length):\n",
    "    S = mzi(wl=1.55, top={\"length\": 15.0 + delta_length}, btm={\"length\": 15.0})\n",
    "    return (abs(S[\"in0\", \"out0\"]) ** 2).mean()"
   ]
  },
  {
   "cell_type": "code",
   "execution_count": null,
   "id": "38",
   "metadata": {
    "papermill": {
     "duration": 0.209809,
     "end_time": "2025-02-27T06:29:43.764713",
     "exception": false,
     "start_time": "2025-02-27T06:29:43.554904",
     "status": "completed"
    },
    "tags": []
   },
   "outputs": [],
   "source": [
    "%time loss_fn(10.0)"
   ]
  },
  {
   "cell_type": "markdown",
   "id": "39",
   "metadata": {
    "papermill": {
     "duration": 0.016701,
     "end_time": "2025-02-27T06:29:43.796865",
     "exception": false,
     "start_time": "2025-02-27T06:29:43.780164",
     "status": "completed"
    },
    "tags": []
   },
   "source": [
    "We can use this loss function to define a grad function which works on the parameters of the loss function:"
   ]
  },
  {
   "cell_type": "code",
   "execution_count": null,
   "id": "40",
   "metadata": {
    "papermill": {
     "duration": 0.023997,
     "end_time": "2025-02-27T06:29:43.837446",
     "exception": false,
     "start_time": "2025-02-27T06:29:43.813449",
     "status": "completed"
    },
    "tags": []
   },
   "outputs": [],
   "source": [
    "grad_fn = jax.jit(\n",
    "    jax.grad(\n",
    "        loss_fn,\n",
    "        argnums=0,  # JAX gradient function for the first positional argument, jitted\n",
    "    )\n",
    ")"
   ]
  },
  {
   "cell_type": "markdown",
   "id": "41",
   "metadata": {
    "papermill": {
     "duration": 0.016766,
     "end_time": "2025-02-27T06:29:43.870660",
     "exception": false,
     "start_time": "2025-02-27T06:29:43.853894",
     "status": "completed"
    },
    "tags": []
   },
   "source": [
    "Next, we need to define a JAX optimizer, which on its own is nothing more than three more functions:  an initialization function with which to initialize the optimizer state, an update function which will update the optimizer state (and with it the model parameters). The third function that's being returned will give the model parameters given the optimizer state."
   ]
  },
  {
   "cell_type": "code",
   "execution_count": null,
   "id": "42",
   "metadata": {
    "papermill": {
     "duration": 0.017581,
     "end_time": "2025-02-27T06:29:43.902758",
     "exception": false,
     "start_time": "2025-02-27T06:29:43.885177",
     "status": "completed"
    },
    "tags": []
   },
   "outputs": [],
   "source": [
    "initial_delta_length = 10.0\n",
    "init_fn, update_fn, params_fn = opt.adam(step_size=0.1)\n",
    "state = init_fn(initial_delta_length)"
   ]
  },
  {
   "cell_type": "markdown",
   "id": "43",
   "metadata": {
    "papermill": {
     "duration": 0.013357,
     "end_time": "2025-02-27T06:29:43.932112",
     "exception": false,
     "start_time": "2025-02-27T06:29:43.918755",
     "status": "completed"
    },
    "tags": []
   },
   "source": [
    "Given all this, a single training step can be defined:"
   ]
  },
  {
   "cell_type": "code",
   "execution_count": null,
   "id": "44",
   "metadata": {
    "papermill": {
     "duration": 0.018866,
     "end_time": "2025-02-27T06:29:43.960164",
     "exception": false,
     "start_time": "2025-02-27T06:29:43.941298",
     "status": "completed"
    },
    "tags": []
   },
   "outputs": [],
   "source": [
    "def step_fn(step, state):\n",
    "    settings = params_fn(state)\n",
    "    loss = loss_fn(settings)\n",
    "    grad = grad_fn(settings)\n",
    "    state = update_fn(step, grad, state)\n",
    "    return loss, state"
   ]
  },
  {
   "cell_type": "markdown",
   "id": "45",
   "metadata": {
    "papermill": {
     "duration": 0.021004,
     "end_time": "2025-02-27T06:29:44.001760",
     "exception": false,
     "start_time": "2025-02-27T06:29:43.980756",
     "status": "completed"
    },
    "tags": []
   },
   "source": [
    "And we can use this step function to start the training of the MZI:"
   ]
  },
  {
   "cell_type": "code",
   "execution_count": null,
   "id": "46",
   "metadata": {
    "papermill": {
     "duration": 10.437286,
     "end_time": "2025-02-27T06:29:54.460198",
     "exception": false,
     "start_time": "2025-02-27T06:29:44.022912",
     "status": "completed"
    },
    "tags": []
   },
   "outputs": [],
   "source": [
    "range_ = trange(300)\n",
    "for step in range_:\n",
    "    loss, state = step_fn(step, state)\n",
    "    range_.set_postfix(loss=f\"{loss:.6f}\")"
   ]
  },
  {
   "cell_type": "code",
   "execution_count": null,
   "id": "47",
   "metadata": {
    "papermill": {
     "duration": 0.014388,
     "end_time": "2025-02-27T06:29:54.483054",
     "exception": false,
     "start_time": "2025-02-27T06:29:54.468666",
     "status": "completed"
    },
    "tags": []
   },
   "outputs": [],
   "source": [
    "delta_length = params_fn(state)\n",
    "delta_length"
   ]
  },
  {
   "cell_type": "markdown",
   "id": "48",
   "metadata": {
    "papermill": {
     "duration": 0.008206,
     "end_time": "2025-02-27T06:29:54.499744",
     "exception": false,
     "start_time": "2025-02-27T06:29:54.491538",
     "status": "completed"
    },
    "tags": []
   },
   "source": [
    "Let's see what we've got over a range of wavelengths:"
   ]
  },
  {
   "cell_type": "code",
   "execution_count": null,
   "id": "49",
   "metadata": {
    "papermill": {
     "duration": 0.223485,
     "end_time": "2025-02-27T06:29:54.731715",
     "exception": false,
     "start_time": "2025-02-27T06:29:54.508230",
     "status": "completed"
    },
    "tags": []
   },
   "outputs": [],
   "source": [
    "S = mzi(wl=wl, top={\"length\": 15.0 + delta_length}, btm={\"length\": 15.0})\n",
    "plt.plot(wl * 1e3, abs(S[\"in1\", \"out1\"]) ** 2)\n",
    "plt.xlabel(\"λ [nm]\")\n",
    "plt.ylabel(\"T\")\n",
    "plt.ylim(-0.05, 1.05)\n",
    "plt.plot([1550, 1550], [0, 1])\n",
    "plt.show()"
   ]
  },
  {
   "cell_type": "markdown",
   "id": "50",
   "metadata": {
    "papermill": {
     "duration": 0.017014,
     "end_time": "2025-02-27T06:29:54.761985",
     "exception": false,
     "start_time": "2025-02-27T06:29:54.744971",
     "status": "completed"
    },
    "tags": []
   },
   "source": [
    "The minimum of the MZI is perfectly located at 1550nm."
   ]
  },
  {
   "cell_type": "markdown",
   "id": "51",
   "metadata": {
    "papermill": {
     "duration": 0.017586,
     "end_time": "2025-02-27T06:29:54.797057",
     "exception": false,
     "start_time": "2025-02-27T06:29:54.779471",
     "status": "completed"
    },
    "tags": []
   },
   "source": [
    "## MZI Chain"
   ]
  },
  {
   "cell_type": "markdown",
   "id": "52",
   "metadata": {
    "papermill": {
     "duration": 0.017316,
     "end_time": "2025-02-27T06:29:54.831768",
     "exception": false,
     "start_time": "2025-02-27T06:29:54.814452",
     "status": "completed"
    },
    "tags": []
   },
   "source": [
    "Let's now create a chain of MZIs. For this, we first create a subcomponent: a directional coupler with arms:\n",
    "\n",
    "\n",
    "```\n",
    "                                 top\n",
    "                            in0 ----- out0 -> out1\n",
    "    in1 <- in1        out1                 \n",
    "              \\  dc  /                  \n",
    "               ======                  \n",
    "              /      \\                \n",
    "    in0 <- in0        out0       btm    \n",
    "                            in0 ----- out0 -> out0\n",
    "```"
   ]
  },
  {
   "cell_type": "code",
   "execution_count": null,
   "id": "53",
   "metadata": {
    "papermill": {
     "duration": 0.56044,
     "end_time": "2025-02-27T06:29:55.409941",
     "exception": false,
     "start_time": "2025-02-27T06:29:54.849501",
     "status": "completed"
    },
    "tags": []
   },
   "outputs": [],
   "source": [
    "dc_with_arms, info = sax.circuit(\n",
    "    netlist={\n",
    "        \"instances\": {\n",
    "            \"lft\": \"coupler\",\n",
    "            \"top\": \"waveguide\",\n",
    "            \"btm\": \"waveguide\",\n",
    "        },\n",
    "        \"connections\": {\n",
    "            \"lft,out0\": \"btm,in0\",\n",
    "            \"lft,out1\": \"top,in0\",\n",
    "        },\n",
    "        \"ports\": {\n",
    "            \"in0\": \"lft,in0\",\n",
    "            \"in1\": \"lft,in1\",\n",
    "            \"out0\": \"btm,out0\",\n",
    "            \"out1\": \"top,out0\",\n",
    "        },\n",
    "    },\n",
    "    models={\n",
    "        \"coupler\": coupler,\n",
    "        \"waveguide\": waveguide,\n",
    "    },\n",
    ")"
   ]
  },
  {
   "cell_type": "markdown",
   "id": "54",
   "metadata": {
    "papermill": {
     "duration": 0.012631,
     "end_time": "2025-02-27T06:29:55.439791",
     "exception": false,
     "start_time": "2025-02-27T06:29:55.427160",
     "status": "completed"
    },
    "tags": []
   },
   "source": [
    "An MZI chain can now be created by cascading these directional couplers with arms:\n",
    "\n",
    "```\n",
    "      _    _    _    _             _    _  \n",
    "    \\/   \\/   \\/   \\/     ...    \\/   \\/   \n",
    "    /\\_  /\\_  /\\_  /\\_           /\\_  /\\_  \n",
    "```\n",
    "\n",
    "Let's create a *model factory* (`ModelFactory`) for this. In SAX, a *model factory* is any keyword-only function that generates a `Model`:"
   ]
  },
  {
   "cell_type": "code",
   "execution_count": null,
   "id": "55",
   "metadata": {
    "papermill": {
     "duration": 0.016847,
     "end_time": "2025-02-27T06:29:55.466076",
     "exception": false,
     "start_time": "2025-02-27T06:29:55.449229",
     "status": "completed"
    },
    "tags": []
   },
   "outputs": [],
   "source": [
    "def mzi_chain(num_mzis=1) -> sax.Model:\n",
    "    chain, _ = sax.circuit(\n",
    "        netlist={\n",
    "            \"instances\": {f\"dc{i}\": \"dc_with_arms\" for i in range(num_mzis + 1)},\n",
    "            \"connections\": {\n",
    "                **{f\"dc{i},out0\": f\"dc{i+1},in0\" for i in range(num_mzis)},\n",
    "                **{f\"dc{i},out1\": f\"dc{i+1},in1\" for i in range(num_mzis)},\n",
    "            },\n",
    "            \"ports\": {\n",
    "                \"in0\": f\"dc0,in0\",\n",
    "                \"in1\": f\"dc0,in1\",\n",
    "                \"out0\": f\"dc{num_mzis},out0\",\n",
    "                \"out1\": f\"dc{num_mzis},out1\",\n",
    "            },\n",
    "        },\n",
    "        models={\"dc_with_arms\": dc_with_arms},\n",
    "        backend=\"klu\",\n",
    "    )\n",
    "    return chain"
   ]
  },
  {
   "cell_type": "markdown",
   "id": "56",
   "metadata": {
    "papermill": {
     "duration": 0.008859,
     "end_time": "2025-02-27T06:29:55.483716",
     "exception": false,
     "start_time": "2025-02-27T06:29:55.474857",
     "status": "completed"
    },
    "tags": []
   },
   "source": [
    "Let's for example create a chain with 15 MZIs. We can also update the settings dictionary as follows:"
   ]
  },
  {
   "cell_type": "code",
   "execution_count": null,
   "id": "57",
   "metadata": {
    "papermill": {
     "duration": 1.130505,
     "end_time": "2025-02-27T06:29:56.624549",
     "exception": false,
     "start_time": "2025-02-27T06:29:55.494044",
     "status": "completed"
    },
    "tags": []
   },
   "outputs": [],
   "source": [
    "chain = mzi_chain(num_mzis=15)\n",
    "settings = sax.get_settings(chain)\n",
    "for dc in settings:\n",
    "    settings[dc][\"top\"][\"length\"] = 25.0\n",
    "    settings[dc][\"btm\"][\"length\"] = 15.0\n",
    "settings = sax.update_settings(settings, wl=jnp.linspace(1.5, 1.6, 1000))"
   ]
  },
  {
   "cell_type": "markdown",
   "id": "58",
   "metadata": {
    "papermill": {
     "duration": 0.037285,
     "end_time": "2025-02-27T06:29:56.708021",
     "exception": false,
     "start_time": "2025-02-27T06:29:56.670736",
     "status": "completed"
    },
    "tags": []
   },
   "source": [
    "We can simulate this:"
   ]
  },
  {
   "cell_type": "code",
   "execution_count": null,
   "id": "59",
   "metadata": {
    "papermill": {
     "duration": 3.606332,
     "end_time": "2025-02-27T06:30:00.353080",
     "exception": false,
     "start_time": "2025-02-27T06:29:56.746748",
     "status": "completed"
    },
    "tags": []
   },
   "outputs": [],
   "source": [
    "%time S = chain(**settings) # time to evaluate the MZI\n",
    "func = jax.jit(chain)\n",
    "%time S = func(**settings) # time to jit the MZI\n",
    "%time S = func(**settings) # time to evaluate the MZI after jitting"
   ]
  },
  {
   "cell_type": "markdown",
   "id": "60",
   "metadata": {
    "papermill": {
     "duration": 0.02705,
     "end_time": "2025-02-27T06:30:00.407807",
     "exception": false,
     "start_time": "2025-02-27T06:30:00.380757",
     "status": "completed"
    },
    "tags": []
   },
   "source": [
    "Where we see that the unjitted evaluation of the MZI chain takes about a second, while the jitting of the MZI chain takes about two seconds (on a CPU). However, after the MZI chain has been jitted, the evaluation is in the order of about a few milliseconds!\n",
    "\n",
    "Anyway, let's see what this gives:"
   ]
  },
  {
   "cell_type": "code",
   "execution_count": null,
   "id": "61",
   "metadata": {
    "papermill": {
     "duration": 0.346567,
     "end_time": "2025-02-27T06:30:00.774858",
     "exception": false,
     "start_time": "2025-02-27T06:30:00.428291",
     "status": "completed"
    },
    "tags": []
   },
   "outputs": [],
   "source": [
    "%%time\n",
    "S = sax.sdict(S)\n",
    "plt.plot(1e3 * settings[\"dc0\"][\"top\"][\"wl\"], jnp.abs(S[\"in0\", \"out0\"]) ** 2)\n",
    "plt.ylim(-0.05, 1.05)\n",
    "plt.xlabel(\"λ [nm]\")\n",
    "plt.ylabel(\"T\")\n",
    "plt.ylim(-0.05, 1.05)\n",
    "plt.show()"
   ]
  }
 ],
 "metadata": {
  "kernelspec": {
   "display_name": "Python 3 (ipykernel)",
   "language": "python",
   "name": "python3"
  },
  "language_info": {
   "codemirror_mode": {
    "name": "ipython",
    "version": 3
   },
   "file_extension": ".py",
   "mimetype": "text/x-python",
   "name": "python",
   "nbconvert_exporter": "python",
   "pygments_lexer": "ipython3",
   "version": "3.12.6"
  },
  "papermill": {
   "default_parameters": {},
   "duration": 28.53487,
   "end_time": "2025-02-27T06:30:02.210981",
   "environment_variables": {},
   "exception": null,
   "input_path": "examples/01_quick_start.ipynb",
   "output_path": "examples/01_quick_start.ipynb",
   "parameters": {},
   "start_time": "2025-02-27T06:29:33.676111",
   "version": "2.6.0"
  }
 },
 "nbformat": 4,
 "nbformat_minor": 5
}
