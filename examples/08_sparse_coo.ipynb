{
 "cells": [
  {
   "cell_type": "markdown",
   "id": "0",
   "metadata": {
    "papermill": {
     "duration": 0.001919,
     "end_time": "2025-02-27T06:29:35.313542",
     "exception": false,
     "start_time": "2025-02-27T06:29:35.311623",
     "status": "completed"
    },
    "tags": []
   },
   "source": [
    "# Sparse COO"
   ]
  },
  {
   "cell_type": "markdown",
   "id": "1",
   "metadata": {
    "papermill": {
     "duration": 0.009665,
     "end_time": "2025-02-27T06:29:35.324929",
     "exception": false,
     "start_time": "2025-02-27T06:29:35.315264",
     "status": "completed"
    },
    "tags": []
   },
   "source": [
    "> The most efficient S-representation is the COO representation. It's however also the least user friendly:"
   ]
  },
  {
   "cell_type": "code",
   "execution_count": null,
   "id": "2",
   "metadata": {
    "papermill": {
     "duration": 1.58602,
     "end_time": "2025-02-27T06:29:36.912499",
     "exception": false,
     "start_time": "2025-02-27T06:29:35.326479",
     "status": "completed"
    },
    "tags": []
   },
   "outputs": [],
   "source": [
    "# hide\n",
    "import sax\n",
    "import jax.numpy as jnp"
   ]
  },
  {
   "cell_type": "code",
   "execution_count": null,
   "id": "3",
   "metadata": {
    "papermill": {
     "duration": 0.025187,
     "end_time": "2025-02-27T06:29:36.944931",
     "exception": false,
     "start_time": "2025-02-27T06:29:36.919744",
     "status": "completed"
    },
    "tags": []
   },
   "outputs": [],
   "source": [
    "def my_coo(*, wl=1.5):\n",
    "    num_input_ports = 4\n",
    "    num_output_ports = 1\n",
    "    pm = {\n",
    "        **{f\"in{i}\": i for i in range(num_input_ports)},\n",
    "        **{f\"out{i}\": i + num_input_ports for i in range(num_output_ports)},\n",
    "    }\n",
    "    thru = jnp.ones(num_input_ports)\n",
    "    i = jnp.arange(0, num_input_ports, 1)\n",
    "    j = jnp.zeros_like(i) + num_input_ports\n",
    "\n",
    "    # make reciprocal\n",
    "    i, j = jnp.concatenate([i, j]), jnp.concatenate([j, i])\n",
    "    thru = jnp.concatenate([thru, thru], 0)\n",
    "    return (i, j, thru, pm)"
   ]
  },
  {
   "cell_type": "code",
   "execution_count": null,
   "id": "4",
   "metadata": {
    "papermill": {
     "duration": 1.185266,
     "end_time": "2025-02-27T06:29:38.139937",
     "exception": false,
     "start_time": "2025-02-27T06:29:36.954671",
     "status": "completed"
    },
    "tags": []
   },
   "outputs": [],
   "source": [
    "circuit, _ = sax.circuit(\n",
    "    netlist={\n",
    "        \"instances\": {\n",
    "            \"coo\": \"coo\",\n",
    "        },\n",
    "        \"connections\": {},\n",
    "        \"ports\": {\n",
    "            \"in0\": \"coo,in0\",\n",
    "            \"out0\": \"coo,out0\",\n",
    "        },\n",
    "    },\n",
    "    models={\n",
    "        \"coo\": my_coo,\n",
    "    },\n",
    "    backend=\"klu\",\n",
    "    return_type=\"scoo\",\n",
    ")"
   ]
  },
  {
   "cell_type": "code",
   "execution_count": null,
   "id": "5",
   "metadata": {
    "papermill": {
     "duration": 0.616233,
     "end_time": "2025-02-27T06:29:38.759585",
     "exception": false,
     "start_time": "2025-02-27T06:29:38.143352",
     "status": "completed"
    },
    "tags": []
   },
   "outputs": [],
   "source": [
    "circuit()"
   ]
  },
  {
   "cell_type": "code",
   "execution_count": null,
   "id": "6",
   "metadata": {
    "papermill": {
     "duration": 0.099181,
     "end_time": "2025-02-27T06:29:38.860855",
     "exception": false,
     "start_time": "2025-02-27T06:29:38.761674",
     "status": "completed"
    },
    "tags": []
   },
   "outputs": [],
   "source": [
    "sax.sdict(circuit())"
   ]
  }
 ],
 "metadata": {
  "kernelspec": {
   "display_name": "Python 3 (ipykernel)",
   "language": "python",
   "name": "python3"
  },
  "language_info": {
   "codemirror_mode": {
    "name": "ipython",
    "version": 3
   },
   "file_extension": ".py",
   "mimetype": "text/x-python",
   "name": "python",
   "nbconvert_exporter": "python",
   "pygments_lexer": "ipython3",
   "version": "3.12.6"
  },
  "papermill": {
   "default_parameters": {},
   "duration": 5.918749,
   "end_time": "2025-02-27T06:29:39.590420",
   "environment_variables": {},
   "exception": null,
   "input_path": "examples/08_sparse_coo.ipynb",
   "output_path": "examples/08_sparse_coo.ipynb",
   "parameters": {},
   "start_time": "2025-02-27T06:29:33.671671",
   "version": "2.6.0"
  }
 },
 "nbformat": 4,
 "nbformat_minor": 5
}
