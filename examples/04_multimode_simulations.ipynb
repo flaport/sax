{
 "cells": [
  {
   "cell_type": "markdown",
   "id": "0",
   "metadata": {
    "papermill": {
     "duration": 0.005303,
     "end_time": "2025-02-27T06:29:42.959653",
     "exception": false,
     "start_time": "2025-02-27T06:29:42.954350",
     "status": "completed"
    },
    "tags": []
   },
   "source": [
    "# Multimode simulations\n",
    "> SAX can handle multiple modes too!"
   ]
  },
  {
   "cell_type": "code",
   "execution_count": null,
   "id": "1",
   "metadata": {
    "papermill": {
     "duration": 1.41911,
     "end_time": "2025-02-27T06:29:44.385678",
     "exception": false,
     "start_time": "2025-02-27T06:29:42.966568",
     "status": "completed"
    },
    "tags": []
   },
   "outputs": [],
   "source": [
    "from itertools import combinations_with_replacement, product\n",
    "\n",
    "import jax.numpy as jnp\n",
    "import sax"
   ]
  },
  {
   "cell_type": "markdown",
   "id": "2",
   "metadata": {
    "papermill": {
     "duration": 0.005945,
     "end_time": "2025-02-27T06:29:44.404043",
     "exception": false,
     "start_time": "2025-02-27T06:29:44.398098",
     "status": "completed"
    },
    "tags": []
   },
   "source": [
    "## Ports and modes per port"
   ]
  },
  {
   "cell_type": "markdown",
   "id": "3",
   "metadata": {
    "papermill": {
     "duration": 0.004592,
     "end_time": "2025-02-27T06:29:44.414958",
     "exception": false,
     "start_time": "2025-02-27T06:29:44.410366",
     "status": "completed"
    },
    "tags": []
   },
   "source": [
    "Let's denote a combination of a port and a mode by a string of the following format: `\"{port}@{mode}\"`. We can obtain all possible port-mode combinations with some magic itertools functions:"
   ]
  },
  {
   "cell_type": "code",
   "execution_count": null,
   "id": "4",
   "metadata": {
    "papermill": {
     "duration": 0.015699,
     "end_time": "2025-02-27T06:29:44.435241",
     "exception": false,
     "start_time": "2025-02-27T06:29:44.419542",
     "status": "completed"
    },
    "tags": []
   },
   "outputs": [],
   "source": [
    "ports = [\"in0\", \"out0\"]\n",
    "modes = [\"TE\", \"TM\"]\n",
    "portmodes = [\n",
    "    (f\"{p1}@{m1}\", f\"{p2}@{m2}\")\n",
    "    for (p1, m1), (p2, m2) in combinations_with_replacement(product(ports, modes), 2)\n",
    "]\n",
    "portmodes"
   ]
  },
  {
   "cell_type": "markdown",
   "id": "5",
   "metadata": {
    "papermill": {
     "duration": 0.002912,
     "end_time": "2025-02-27T06:29:44.440983",
     "exception": false,
     "start_time": "2025-02-27T06:29:44.438071",
     "status": "completed"
    },
    "tags": []
   },
   "source": [
    "If we would disregard any backreflection, this can be further simplified:"
   ]
  },
  {
   "cell_type": "code",
   "execution_count": null,
   "id": "6",
   "metadata": {
    "papermill": {
     "duration": 0.013543,
     "end_time": "2025-02-27T06:29:44.459237",
     "exception": false,
     "start_time": "2025-02-27T06:29:44.445694",
     "status": "completed"
    },
    "tags": []
   },
   "outputs": [],
   "source": [
    "portmodes_without_backreflection = [\n",
    "    (p1, p2) for p1, p2 in portmodes if p1.split(\"@\")[0] != p2.split(\"@\")[0]\n",
    "]\n",
    "portmodes_without_backreflection"
   ]
  },
  {
   "cell_type": "markdown",
   "id": "7",
   "metadata": {
    "papermill": {
     "duration": 0.00466,
     "end_time": "2025-02-27T06:29:44.468587",
     "exception": false,
     "start_time": "2025-02-27T06:29:44.463927",
     "status": "completed"
    },
    "tags": []
   },
   "source": [
    "Sometimes cross-polarization terms can also be ignored:"
   ]
  },
  {
   "cell_type": "code",
   "execution_count": null,
   "id": "8",
   "metadata": {
    "papermill": {
     "duration": 0.014391,
     "end_time": "2025-02-27T06:29:44.487938",
     "exception": false,
     "start_time": "2025-02-27T06:29:44.473547",
     "status": "completed"
    },
    "tags": []
   },
   "outputs": [],
   "source": [
    "portmodes_without_crosspolarization = [\n",
    "    (p1, p2) for p1, p2 in portmodes if p1.split(\"@\")[1] == p2.split(\"@\")[1]\n",
    "]\n",
    "portmodes_without_crosspolarization"
   ]
  },
  {
   "cell_type": "markdown",
   "id": "9",
   "metadata": {
    "papermill": {
     "duration": 0.004648,
     "end_time": "2025-02-27T06:29:44.497770",
     "exception": false,
     "start_time": "2025-02-27T06:29:44.493122",
     "status": "completed"
    },
    "tags": []
   },
   "source": [
    "## Multimode waveguide"
   ]
  },
  {
   "cell_type": "markdown",
   "id": "10",
   "metadata": {
    "papermill": {
     "duration": 0.005175,
     "end_time": "2025-02-27T06:29:44.508088",
     "exception": false,
     "start_time": "2025-02-27T06:29:44.502913",
     "status": "completed"
    },
    "tags": []
   },
   "source": [
    "Let's create a waveguide with two ports (`\"in\"`, `\"out\"`) and two modes (`\"te\"`, `\"tm\"`) without backreflection. Let's assume there is 5% cross-polarization and that the `\"tm\"`->`\"tm\"` transmission is 10% worse than the `\"te\"`->`\"te\"` transmission. Naturally in more realisic waveguide models these percentages will be length-dependent, but this is just a dummy model serving as an example."
   ]
  },
  {
   "cell_type": "code",
   "execution_count": null,
   "id": "11",
   "metadata": {
    "papermill": {
     "duration": 0.13659,
     "end_time": "2025-02-27T06:29:44.649463",
     "exception": false,
     "start_time": "2025-02-27T06:29:44.512873",
     "status": "completed"
    },
    "tags": []
   },
   "outputs": [],
   "source": [
    "def waveguide(wl=1.55, wl0=1.55, neff=2.34, ng=3.4, length=10.0, loss=0.0):\n",
    "    \"\"\"a simple straight waveguide model\n",
    "\n",
    "    Args:\n",
    "        wl: wavelength\n",
    "        neff: waveguide effective index\n",
    "        ng: waveguide group index (used for linear neff dispersion)\n",
    "        wl0: center wavelength at which neff is defined\n",
    "        length: [m] wavelength length\n",
    "        loss: [dB/m] waveguide loss\n",
    "    \"\"\"\n",
    "    dwl = wl - wl0\n",
    "    dneff_dwl = (ng - neff) / wl0\n",
    "    neff = neff - dwl * dneff_dwl\n",
    "    phase = 2 * jnp.pi * neff * length / wl\n",
    "    transmission = 10 ** (-loss * length / 20) * jnp.exp(1j * phase)\n",
    "    sdict = sax.reciprocal(\n",
    "        {\n",
    "            (\"in0@TE\", \"out0@TE\"): 0.95 * transmission,  # 5% lost to cross-polarization\n",
    "            (\"in0@TE\", \"out0@TM\"): 0.05 * transmission,  # 5% cross-polarization\n",
    "            (\"in0@TM\", \"out0@TM\"): 0.85 * transmission,  # 10% worse tm->tm than te->te\n",
    "            (\"in0@TM\", \"out0@TE\"): 0.05 * transmission,  # 5% cross-polarization\n",
    "        }\n",
    "    )\n",
    "    return sdict\n",
    "\n",
    "\n",
    "waveguide()"
   ]
  },
  {
   "cell_type": "markdown",
   "id": "12",
   "metadata": {
    "papermill": {
     "duration": 0.002994,
     "end_time": "2025-02-27T06:29:44.655867",
     "exception": false,
     "start_time": "2025-02-27T06:29:44.652873",
     "status": "completed"
    },
    "tags": []
   },
   "source": [
    "## Multimode Coupler"
   ]
  },
  {
   "cell_type": "code",
   "execution_count": null,
   "id": "13",
   "metadata": {
    "papermill": {
     "duration": 0.014431,
     "end_time": "2025-02-27T06:29:44.674402",
     "exception": false,
     "start_time": "2025-02-27T06:29:44.659971",
     "status": "completed"
    },
    "tags": []
   },
   "outputs": [],
   "source": [
    "def coupler():\n",
    "    return {\n",
    "        (\"in0@TE\", \"out0@TE\"): 0.45**0.5,\n",
    "        (\"in0@TE\", \"out1@TE\"): 1j * 0.45**0.5,\n",
    "        (\"in1@TE\", \"out0@TE\"): 1j * 0.45**0.5,\n",
    "        (\"in1@TE\", \"out1@TE\"): 0.45**0.5,\n",
    "        (\"in0@TM\", \"out0@TM\"): 0.45**0.5,\n",
    "        (\"in0@TM\", \"out1@TM\"): 1j * 0.45**0.5,\n",
    "        (\"in1@TM\", \"out0@TM\"): 1j * 0.45**0.5,\n",
    "        (\"in1@TM\", \"out1@TM\"): 0.45**0.5,\n",
    "        (\"in0@TE\", \"out0@TM\"): 0.01**0.5,\n",
    "        (\"in0@TE\", \"out1@TM\"): 1j * 0.01**0.5,\n",
    "        (\"in1@TE\", \"out0@TM\"): 1j * 0.01**0.5,\n",
    "        (\"in1@TE\", \"out1@TM\"): 0.01**0.5,\n",
    "        (\"in0@TM\", \"out0@TE\"): 0.01**0.5,\n",
    "        (\"in0@TM\", \"out1@TE\"): 1j * 0.01**0.5,\n",
    "        (\"in1@TM\", \"out0@TE\"): 1j * 0.01**0.5,\n",
    "        (\"in1@TM\", \"out1@TE\"): 0.01**0.5,\n",
    "    }"
   ]
  },
  {
   "cell_type": "markdown",
   "id": "14",
   "metadata": {
    "papermill": {
     "duration": 0.005714,
     "end_time": "2025-02-27T06:29:44.683777",
     "exception": false,
     "start_time": "2025-02-27T06:29:44.678063",
     "status": "completed"
    },
    "tags": []
   },
   "source": [
    "## Multimode MZI"
   ]
  },
  {
   "cell_type": "markdown",
   "id": "15",
   "metadata": {
    "papermill": {
     "duration": 0.005742,
     "end_time": "2025-02-27T06:29:44.695300",
     "exception": false,
     "start_time": "2025-02-27T06:29:44.689558",
     "status": "completed"
    },
    "tags": []
   },
   "source": [
    "We can now combine these models into a circuit in much the same way as before. We just need to add the `modes=` keyword:"
   ]
  },
  {
   "cell_type": "code",
   "execution_count": null,
   "id": "16",
   "metadata": {
    "papermill": {
     "duration": 1.192813,
     "end_time": "2025-02-27T06:29:45.893950",
     "exception": false,
     "start_time": "2025-02-27T06:29:44.701137",
     "status": "completed"
    },
    "tags": []
   },
   "outputs": [],
   "source": [
    "mzi, _ = sax.circuit(\n",
    "    netlist={\n",
    "        \"instances\": {\n",
    "            \"lft\": \"coupler\",  # single mode models will be automatically converted to multimode models without cross polarization.\n",
    "            \"top\": {\"component\": \"straight\", \"settings\": {\"length\": 25.0}},\n",
    "            \"btm\": {\"component\": \"straight\", \"settings\": {\"length\": 15.0}},\n",
    "            \"rgt\": \"coupler\",  # single mode models will be automatically converted to multimode models without cross polarization.\n",
    "        },\n",
    "        \"connections\": {\n",
    "            \"lft,out0\": \"btm,in0\",\n",
    "            \"btm,out0\": \"rgt,in0\",\n",
    "            \"lft,out1\": \"top,in0\",\n",
    "            \"top,out0\": \"rgt,in1\",\n",
    "        },\n",
    "        \"ports\": {\n",
    "            \"in0\": \"lft,in0\",\n",
    "            \"in1\": \"lft,in1\",\n",
    "            \"out0\": \"rgt,out0\",\n",
    "            \"out1\": \"rgt,out1\",\n",
    "        },\n",
    "    },\n",
    "    models={\n",
    "        \"coupler\": coupler,\n",
    "        \"straight\": waveguide,\n",
    "    },\n",
    ")"
   ]
  },
  {
   "cell_type": "code",
   "execution_count": null,
   "id": "17",
   "metadata": {
    "papermill": {
     "duration": 0.678998,
     "end_time": "2025-02-27T06:29:46.580190",
     "exception": false,
     "start_time": "2025-02-27T06:29:45.901192",
     "status": "completed"
    },
    "tags": []
   },
   "outputs": [],
   "source": [
    "mzi()"
   ]
  },
  {
   "cell_type": "markdown",
   "id": "18",
   "metadata": {
    "papermill": {
     "duration": 0.004988,
     "end_time": "2025-02-27T06:29:46.592039",
     "exception": false,
     "start_time": "2025-02-27T06:29:46.587051",
     "status": "completed"
    },
    "tags": []
   },
   "source": [
    "we can convert this model back to a singlemode `SDict` as follows:"
   ]
  },
  {
   "cell_type": "code",
   "execution_count": null,
   "id": "19",
   "metadata": {
    "papermill": {
     "duration": 0.113696,
     "end_time": "2025-02-27T06:29:46.709245",
     "exception": false,
     "start_time": "2025-02-27T06:29:46.595549",
     "status": "completed"
    },
    "tags": []
   },
   "outputs": [],
   "source": [
    "mzi_te = sax.singlemode(mzi, mode=\"TE\")\n",
    "mzi_te()"
   ]
  }
 ],
 "metadata": {
  "kernelspec": {
   "display_name": "Python 3 (ipykernel)",
   "language": "python",
   "name": "python3"
  },
  "language_info": {
   "codemirror_mode": {
    "name": "ipython",
    "version": 3
   },
   "file_extension": ".py",
   "mimetype": "text/x-python",
   "name": "python",
   "nbconvert_exporter": "python",
   "pygments_lexer": "ipython3",
   "version": "3.12.6"
  }
 },
 "nbformat": 4,
 "nbformat_minor": 5
}
