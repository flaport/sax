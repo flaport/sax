{
 "cells": [
  {
   "cell_type": "markdown",
   "id": "1f999599-2737-4577-bf3e-6602a5e2b7d1",
   "metadata": {},
   "source": [
    "# Multimode simulations\n"
   ]
  },
  {
   "cell_type": "code",
   "execution_count": null,
   "id": "664a38d6-9435-4fbf-98e1-c3313f24e0fc",
   "metadata": {},
   "outputs": [],
   "source": [
    "import sax\n",
    "import jax\n",
    "import jax.numpy as jnp\n"
   ]
  },
  {
   "cell_type": "markdown",
   "id": "9daec5c4-8436-498c-a35b-bc5803079247",
   "metadata": {},
   "source": [
    "## Ports and modes per port\n",
    "\n",
    "Let’s denote a combination of a port and a mode by a string of the following format: `{port}@{mode}`. We can obtain all possible port-mode combinations with some magic itertools functions:"
   ]
  },
  {
   "cell_type": "code",
   "execution_count": null,
   "id": "330a739a-0932-40e9-90e4-a50c20b96518",
   "metadata": {},
   "outputs": [],
   "source": [
    "from itertools import combinations_with_replacement, combinations, product\n",
    "\n",
    "ports = [\"in0\", \"out0\"]\n",
    "modes = [\"te\", \"tm\"]\n",
    "portmodes = [\n",
    "    (f\"{p1}@{m1}\", f\"{p2}@{m2}\")\n",
    "    for (p1, m1), (p2, m2) in combinations_with_replacement(product(ports, modes), 2)\n",
    "]\n",
    "portmodes\n",
    "\n"
   ]
  },
  {
   "cell_type": "raw",
   "id": "c5b0354e-b206-4949-a403-b320e90b7757",
   "metadata": {},
   "source": [
    "If we would disregard any backreflection, this can be further simplified:"
   ]
  },
  {
   "cell_type": "code",
   "execution_count": null,
   "id": "c1bf6ffe-791d-464c-adf2-b59a9673ae59",
   "metadata": {},
   "outputs": [],
   "source": [
    "portmodes_without_backreflection = [\n",
    "    (p1, p2) for p1, p2 in portmodes if p1.split(\"@\")[0] != p2.split(\"@\")[0]\n",
    "]\n",
    "portmodes_without_backreflection\n",
    "\n"
   ]
  },
  {
   "cell_type": "markdown",
   "id": "0e62b281-4175-42fb-8915-82301531c2c5",
   "metadata": {},
   "source": [
    "Sometimes cross-polarization terms can also be ignored:"
   ]
  },
  {
   "cell_type": "code",
   "execution_count": null,
   "id": "89818d5b-c2e4-40ea-be6f-4225c027b1e0",
   "metadata": {},
   "outputs": [],
   "source": [
    "portmodes_without_crosspolarization = [\n",
    "    (p1, p2) for p1, p2 in portmodes if p1.split(\"@\")[1] == p2.split(\"@\")[1]\n",
    "]\n",
    "portmodes_without_crosspolarization"
   ]
  },
  {
   "cell_type": "markdown",
   "id": "98b382be-9b9f-4ec4-a628-31f78a932acd",
   "metadata": {},
   "source": [
    "## Multimode waveguide\n",
    "\n",
    "Let’s create a waveguide with two ports (\"in\", \"out\") and two modes (\"te\", \"tm\") without backreflection. Let’s assume there is 5% cross-polarization and that the \"tm\"->``”tm”`` transmission is 10% worse than the \"te\"->``”te”`` transmission. Naturally in more realisic waveguide models these percentages will be length-dependent, but this is just a dummy model serving as an example."
   ]
  },
  {
   "cell_type": "code",
   "execution_count": null,
   "id": "c9777074-cfcb-4adf-9440-59737d547e6b",
   "metadata": {},
   "outputs": [],
   "source": [
    "def waveguide(wl=1.55, wl0=1.55, neff=2.34, ng=3.4, length=10.0, loss=0.0):\n",
    "    \"\"\"a simple straight waveguide model\n",
    "\n",
    "    Args:\n",
    "        wl: wavelength\n",
    "        neff: waveguide effective index\n",
    "        ng: waveguide group index (used for linear neff dispersion)\n",
    "        wl0: center wavelength at which neff is defined\n",
    "        length: [m] wavelength length\n",
    "        loss: [dB/m] waveguide loss\n",
    "    \"\"\"\n",
    "    dwl = wl - wl0\n",
    "    dneff_dwl = (ng - neff) / wl0\n",
    "    neff = neff - dwl * dneff_dwl\n",
    "    phase = 2 * jnp.pi * neff * length / wl\n",
    "    transmission = 10 ** (-loss * length / 20) * jnp.exp(1j * phase)\n",
    "    sdict = sax.reciprocal(\n",
    "        {\n",
    "            (\"in0@te\", \"out0@te\"): 0.95 * transmission,  # 5% lost to cross-polarization\n",
    "            (\"in0@te\", \"out0@tm\"): 0.05 * transmission,  # 5% cross-polarization\n",
    "            (\"in0@tm\", \"out0@tm\"): 0.85 * transmission,  # 10% worse tm->tm than te->te\n",
    "            (\"in0@tm\", \"out0@te\"): 0.05 * transmission,  # 5% cross-polarization\n",
    "        }\n",
    "    )\n",
    "    return sdict\n",
    "\n",
    "\n",
    "waveguide()"
   ]
  },
  {
   "cell_type": "markdown",
   "id": "a205b64b-c98b-440a-b6e0-fbd6708ad0fe",
   "metadata": {},
   "source": [
    "## Multimode  MZI\n",
    "\n",
    "We can now combine these models into a circuit in much the same way as before. We just need to add the modes= keyword:"
   ]
  },
  {
   "cell_type": "code",
   "execution_count": null,
   "id": "e252bd7c-1b84-42be-a262-2c8dc00d26d6",
   "metadata": {},
   "outputs": [],
   "source": [
    "mzi = sax.circuit(\n",
    "    instances={\n",
    "        \"lft\": sax.models.coupler,  # single mode models will be automatically converted to multimode models without cross polarization.\n",
    "        \"top\": sax.partial(waveguide, length=25.0),\n",
    "        \"btm\": sax.partial(waveguide, length=15.0),\n",
    "        \"rgt\": sax.models.coupler,  # single mode models will be automatically converted to multimode models without cross polarization.\n",
    "    },\n",
    "    connections={\n",
    "        \"lft:out0\": \"btm:in0\",\n",
    "        \"btm:out0\": \"rgt:in0\",\n",
    "        \"lft:out1\": \"top:in0\",\n",
    "        \"top:out0\": \"rgt:in1\",\n",
    "    },\n",
    "    ports={\n",
    "        \"in0\": \"lft:in0\",\n",
    "        \"in1\": \"lft:in1\",\n",
    "        \"out0\": \"rgt:out0\",\n",
    "        \"out1\": \"rgt:out1\",\n",
    "    },\n",
    "    modes=(\"te\", \"tm\"),\n",
    ")"
   ]
  },
  {
   "cell_type": "code",
   "execution_count": null,
   "id": "a506f6c3-9e8b-4e6e-a537-57730092f367",
   "metadata": {},
   "outputs": [],
   "source": [
    "mzi()"
   ]
  },
  {
   "cell_type": "markdown",
   "id": "6e554234-1f12-4a3b-8b3a-1aaa80e218a2",
   "metadata": {},
   "source": [
    "we can convert this model back to a singlemode SDict as follows:"
   ]
  },
  {
   "cell_type": "code",
   "execution_count": null,
   "id": "0377dddb-160a-43f7-b804-64ad3f1cb703",
   "metadata": {},
   "outputs": [],
   "source": [
    "mzi_te = sax.singlemode(mzi, mode=\"te\")\n",
    "mzi_te()"
   ]
  },
  {
   "cell_type": "markdown",
   "id": "91f4ad94-e56c-4e70-8fa5-6b16b9c5833e",
   "metadata": {},
   "source": [
    "Or, if we don’t supply a mode to select, the mean of each S-parameter over all modes is used."
   ]
  },
  {
   "cell_type": "code",
   "execution_count": null,
   "id": "0806e751-5671-4800-a975-92be5fe1f707",
   "metadata": {},
   "outputs": [],
   "source": [
    "mzi_mean = sax.singlemode(mzi)\n",
    "mzi_mean()"
   ]
  },
  {
   "cell_type": "code",
   "execution_count": null,
   "id": "321c4238-97d2-423b-9abd-215a3f68f7e3",
   "metadata": {},
   "outputs": [],
   "source": []
  }
 ],
 "metadata": {
  "kernelspec": {
   "display_name": "Python 3 (ipykernel)",
   "language": "python",
   "name": "python3"
  },
  "language_info": {
   "codemirror_mode": {
    "name": "ipython",
    "version": 3
   },
   "file_extension": ".py",
   "mimetype": "text/x-python",
   "name": "python",
   "nbconvert_exporter": "python",
   "pygments_lexer": "ipython3",
   "version": "3.9.7"
  }
 },
 "nbformat": 4,
 "nbformat_minor": 5
}
