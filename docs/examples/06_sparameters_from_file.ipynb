{
 "cells": [
  {
   "cell_type": "code",
   "execution_count": null,
   "id": "9eaab97f-0327-4a62-b944-873b3b676e78",
   "metadata": {},
   "outputs": [],
   "source": [
    "from functools import partial\n",
    "import sax\n",
    "from sax.constants import PATH"
   ]
  },
  {
   "cell_type": "code",
   "execution_count": null,
   "id": "ec063d0b-aa88-48c3-8306-84edf47f11be",
   "metadata": {},
   "outputs": [],
   "source": [
    "m = sax.read.from_csv(PATH.mmi_csv)"
   ]
  },
  {
   "cell_type": "code",
   "execution_count": null,
   "id": "3d02ea98-a5ea-4c82-9976-feb189ca3674",
   "metadata": {},
   "outputs": [],
   "source": [
    "filepath = PATH.mmi_csv\n",
    "df = pd.read_csv(filepath)\n",
    "s = sax.read.from_csv(filepath=filepath)"
   ]
  },
  {
   "cell_type": "code",
   "execution_count": null,
   "id": "014a3e0d-a8b9-4367-85ef-a5e0d34a100d",
   "metadata": {},
   "outputs": [],
   "source": [
    "mmi = partial( sax.read.from_csv, filepath=filepath)"
   ]
  },
  {
   "cell_type": "code",
   "execution_count": null,
   "id": "af49fce3-e96d-43ea-a5c2-f2cca7c09983",
   "metadata": {},
   "outputs": [],
   "source": [
    "sax.plot.plot_model(mmi)"
   ]
  },
  {
   "cell_type": "code",
   "execution_count": null,
   "id": "8be05410-5c3e-42e9-af0d-a0e453e00e2e",
   "metadata": {},
   "outputs": [],
   "source": [
    "df = pd.read_csv(PATH.mmi_csv)"
   ]
  },
  {
   "cell_type": "code",
   "execution_count": null,
   "id": "8367a4ef-32f3-49ae-beaf-d458be485226",
   "metadata": {},
   "outputs": [],
   "source": [
    "df"
   ]
  },
  {
   "cell_type": "code",
   "execution_count": null,
   "id": "22d4e467-c338-415d-ba83-e7ff85fcda7f",
   "metadata": {},
   "outputs": [],
   "source": [
    "wl_min = 1500\n",
    "wl_max = 1600"
   ]
  },
  {
   "cell_type": "code",
   "execution_count": null,
   "id": "8bb571c8-7db9-41e9-a02f-ab025790ecfe",
   "metadata": {},
   "outputs": [],
   "source": [
    "df[df['wavelength_nm'] >= wl_min][df['wavelength_nm'] <= wl_max]"
   ]
  },
  {
   "cell_type": "code",
   "execution_count": null,
   "id": "33e9b832-dd28-48a8-8b0d-f9a9832a7742",
   "metadata": {},
   "outputs": [],
   "source": [
    "df[df['wavelength_nm'] <= wl_min]"
   ]
  }
 ],
 "metadata": {
  "kernelspec": {
   "display_name": "Python 3 (ipykernel)",
   "language": "python",
   "name": "python3"
  },
  "language_info": {
   "codemirror_mode": {
    "name": "ipython",
    "version": 3
   },
   "file_extension": ".py",
   "mimetype": "text/x-python",
   "name": "python",
   "nbconvert_exporter": "python",
   "pygments_lexer": "ipython3",
   "version": "3.9.5"
  }
 },
 "nbformat": 4,
 "nbformat_minor": 5
}
