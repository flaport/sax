{
 "cells": [
  {
   "cell_type": "code",
   "execution_count": null,
   "id": "9eaab97f-0327-4a62-b944-873b3b676e78",
   "metadata": {},
   "outputs": [],
   "source": [
    "from functools import partial\n",
    "import sax\n",
    "from sax.constants import PATH"
   ]
  },
  {
   "cell_type": "markdown",
   "id": "ec11a25d-304e-405a-98bf-9c94b5ae4a9b",
   "metadata": {},
   "source": [
    "# Load Models from FDTD simulations\n",
    "\n",
    "Sax can easily load the Sparameters caomputed from `gdsfactory` lumerical and meep interface\n",
    "\n",
    "## Lumerical"
   ]
  },
  {
   "cell_type": "code",
   "execution_count": null,
   "id": "3d02ea98-a5ea-4c82-9976-feb189ca3674",
   "metadata": {},
   "outputs": [],
   "source": [
    "filepath = PATH.mmi_csv\n",
    "#df = pd.read_csv(filepath)\n",
    "#s = sax.read.from_csv(filepath=filepath, xunits=1e-3)"
   ]
  },
  {
   "cell_type": "code",
   "execution_count": null,
   "id": "014a3e0d-a8b9-4367-85ef-a5e0d34a100d",
   "metadata": {},
   "outputs": [],
   "source": [
    "mmi = partial( sax.read.from_csv, filepath=filepath, xunits=1e-3)"
   ]
  },
  {
   "cell_type": "code",
   "execution_count": null,
   "id": "1328186f-5068-45e5-b6a9-04d1f5c331c5",
   "metadata": {},
   "outputs": [],
   "source": [
    "sax.plot.plot_model(mmi)"
   ]
  },
  {
   "cell_type": "code",
   "execution_count": null,
   "id": "7e0cde33-381d-41fe-9822-f0bf4889e7ee",
   "metadata": {},
   "outputs": [],
   "source": [
    "sax.plot.plot_model(mmi, wl_min = 1., wl_max = 2., port1='o3')"
   ]
  },
  {
   "cell_type": "code",
   "execution_count": null,
   "id": "af49fce3-e96d-43ea-a5c2-f2cca7c09983",
   "metadata": {},
   "outputs": [],
   "source": [
    "sax.plot.plot_model(mmi, wl_min = 1., wl_max = 2.)"
   ]
  },
  {
   "cell_type": "code",
   "execution_count": null,
   "id": "5a704b7d-2dc5-44e9-a004-5558b4d4afdf",
   "metadata": {},
   "outputs": [],
   "source": [
    "sax.plot.plot_model(mmi, wl_min = 1., wl_max = 2., ports2=('o3',))"
   ]
  },
  {
   "cell_type": "code",
   "execution_count": null,
   "id": "8be05410-5c3e-42e9-af0d-a0e453e00e2e",
   "metadata": {},
   "outputs": [],
   "source": [
    "df = pd.read_csv(PATH.mmi_csv)"
   ]
  },
  {
   "cell_type": "code",
   "execution_count": null,
   "id": "8367a4ef-32f3-49ae-beaf-d458be485226",
   "metadata": {},
   "outputs": [],
   "source": [
    "df"
   ]
  },
  {
   "cell_type": "markdown",
   "id": "eb16fd4e-1a46-455b-a971-ceffbd806438",
   "metadata": {},
   "source": [
    "## Meep"
   ]
  },
  {
   "cell_type": "code",
   "execution_count": null,
   "id": "717a79d4-c1b1-46a0-bd76-070d4ce1377b",
   "metadata": {},
   "outputs": [],
   "source": [
    "from functools import partial\n",
    "import sax\n",
    "from sax.constants import PATH\n",
    "import matplotlib.pyplot as plt\n",
    "\n",
    "filepath = PATH.coupler_ring_csv\n",
    "model = partial(sax.read.from_csv, filepath=filepath, xunits=1, xkey=\"wavelengths\", prefix='s')\n",
    "sax.plot.plot_model(model)\n",
    "plt.show()"
   ]
  },
  {
   "cell_type": "code",
   "execution_count": null,
   "id": "12ee5edd-9aee-455b-9a0a-2e283fc21c69",
   "metadata": {},
   "outputs": [],
   "source": []
  }
 ],
 "metadata": {
  "kernelspec": {
   "display_name": "Python 3 (ipykernel)",
   "language": "python",
   "name": "python3"
  },
  "language_info": {
   "codemirror_mode": {
    "name": "ipython",
    "version": 3
   },
   "file_extension": ".py",
   "mimetype": "text/x-python",
   "name": "python",
   "nbconvert_exporter": "python",
   "pygments_lexer": "ipython3",
   "version": "3.9.5"
  }
 },
 "nbformat": 4,
 "nbformat_minor": 5
}
