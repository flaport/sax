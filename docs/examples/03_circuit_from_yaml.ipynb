{
 "cells": [
  {
   "cell_type": "markdown",
   "id": "d672eb0e-0c79-4eca-887f-16a2df3246af",
   "metadata": {},
   "source": [
    "# Circuit from YAML\n",
    "\n",
    "Sometimes it’s useful to be able to define circuits from YAML definitions. To not re-invent the wheel, SAX uses GDSFactory’s YAML netlist spec to define its circuits. This makes it very easy to convert a GDSFactory layout to a SAX circuit model!"
   ]
  },
  {
   "cell_type": "code",
   "execution_count": null,
   "id": "45a1a7c5-03b3-4254-a1f0-c112ef077ed5",
   "metadata": {},
   "outputs": [],
   "source": [
    "import sax\n",
    "import jax.numpy as jnp\n",
    "import matplotlib.pyplot as plt"
   ]
  },
  {
   "cell_type": "markdown",
   "id": "47a8c9ee-3213-4ac8-b9e2-735c332d93f9",
   "metadata": {},
   "source": [
    "## MZI\n",
    "\n",
    "Let’s first see how we can define a SAX circuit from YAML:"
   ]
  },
  {
   "cell_type": "code",
   "execution_count": null,
   "id": "3903089a-a921-4aca-9665-b77aa4e955f5",
   "metadata": {},
   "outputs": [],
   "source": [
    "netlist = \"\"\"\n",
    "instances:\n",
    "    lft:\n",
    "      component: coupler\n",
    "      settings:\n",
    "          coupling: 0.5\n",
    "    rgt:\n",
    "        component: coupler\n",
    "        settings:\n",
    "            coupling: 0.5\n",
    "    top:\n",
    "        component: straight\n",
    "        settings:\n",
    "            length: 25.0\n",
    "    btm:\n",
    "        component: straight\n",
    "        settings:\n",
    "            length: 15.0\n",
    "\n",
    "connections:\n",
    "    lft,out0: btm,in0\n",
    "    btm,out0: rgt,in0\n",
    "    lft,out1: top,in0\n",
    "    top,out0: rgt,in1\n",
    "\n",
    "ports:\n",
    "    in0:  lft,in0\n",
    "    in1:  lft,in1\n",
    "    out0: rgt,out0\n",
    "    out1: rgt,out1\n",
    "\n",
    "\"\"\""
   ]
  },
  {
   "cell_type": "code",
   "execution_count": null,
   "id": "eb432ce9-f868-4faa-9c43-b5cd01a19bb2",
   "metadata": {},
   "outputs": [],
   "source": [
    "mzi = sax.circuit_from_yaml(netlist)"
   ]
  },
  {
   "cell_type": "code",
   "execution_count": null,
   "id": "e31c8739-0cee-4b90-a38b-a468188d4302",
   "metadata": {},
   "outputs": [],
   "source": [
    "wl = jnp.linspace(1.5, 1.6, 1000)\n",
    "params = sax.get_params(mzi)\n",
    "params = sax.set_params(params, wl=wl)\n",
    "transmission = jnp.abs(mzi(**params)[\"in0\", \"out0\"]) ** 2\n",
    "\n",
    "plt.plot(wl * 1e3, transmission)\n",
    "plt.xlabel(\"λ [nm]\")\n",
    "plt.ylabel(\"T\")\n",
    "plt.show()"
   ]
  },
  {
   "cell_type": "markdown",
   "id": "983be65a-b2b1-49f2-9aa7-30826f1ae278",
   "metadata": {},
   "source": [
    "That was easy! However, during the above YAML conversion, only models available in sax.models were used. What if we want to map the YAML component names to custom models? Let’s say we want to use a dispersionless waveguide for the above model for example:"
   ]
  },
  {
   "cell_type": "code",
   "execution_count": null,
   "id": "c80fb4c3-b7eb-4bb9-84ac-6b81cf35c507",
   "metadata": {},
   "outputs": [],
   "source": [
    "def waveguide_without_dispersion(wl=1.55, length=25.0, neff=2.34):\n",
    "    phase = 2 * jnp.pi * neff * length / wl\n",
    "    sdict = sax.reciprocal({(\"in0\", \"out0\"): jnp.exp(1j * phase)})\n",
    "    return sdict"
   ]
  },
  {
   "cell_type": "markdown",
   "id": "8ff19a1d-a6af-4aef-9986-b6d921c22982",
   "metadata": {},
   "source": [
    "We can regenerate the above circuit again, but this time we specify a models mapping:"
   ]
  },
  {
   "cell_type": "code",
   "execution_count": null,
   "id": "cc6cbfe7-e04a-42fc-a298-90dd580d7ad3",
   "metadata": {},
   "outputs": [],
   "source": [
    "mzi = sax.circuit_from_yaml(netlist, models={\"straight\": waveguide_without_dispersion})"
   ]
  },
  {
   "cell_type": "markdown",
   "id": "d85f8c50-a496-4e08-8137-308cdf148c6e",
   "metadata": {},
   "source": [
    "The models= keyword in circuit_from_yaml can be a dictionary or an imported python module (like for example sax.models). Or a list containing multiple of such dictionary mappings and imported modules."
   ]
  },
  {
   "cell_type": "code",
   "execution_count": null,
   "id": "bfd589e4-cc78-49dd-a9d5-09a8b3680023",
   "metadata": {},
   "outputs": [],
   "source": [
    "wl = jnp.linspace(1.5, 1.6, 1000)\n",
    "params = sax.get_params(mzi)\n",
    "params = sax.set_params(params, wl=wl)\n",
    "transmission = jnp.abs(mzi(**params)[\"in0\", \"out0\"]) ** 2\n",
    "\n",
    "plt.plot(wl, transmission)\n",
    "plt.xlabel(\"Wavelength [nm]\")\n",
    "plt.ylabel(\"T\")\n",
    "plt.show()\n"
   ]
  },
  {
   "cell_type": "markdown",
   "id": "93458bc0-860c-4157-9ed1-15934a1e77b1",
   "metadata": {},
   "source": [
    "## Compatibility with GDSFactory\n",
    "\n",
    "GDSFactory is an python-based photonic layout tool. \n",
    "We can now use the above introduced yaml definition as a translation layer between SAX and GDSFactory:\n",
    "\n",
    "Let’s start from GDSFactory’s default mzi:"
   ]
  },
  {
   "cell_type": "code",
   "execution_count": null,
   "id": "ea14aa43-8cf5-4606-be29-ad419cd61b08",
   "metadata": {},
   "outputs": [],
   "source": [
    "import gdsfactory as gf\n",
    "mzi_component = gf.components.mzi()\n",
    "mzi_component"
   ]
  },
  {
   "cell_type": "code",
   "execution_count": null,
   "id": "074ad6d1-8daf-4f89-a7d1-7f87e86d73a2",
   "metadata": {},
   "outputs": [],
   "source": [
    "netlist = mzi_component.get_netlist_yaml()\n",
    "print(netlist)"
   ]
  },
  {
   "cell_type": "markdown",
   "id": "21e7a561-d7a6-49e1-9280-49a432f758cb",
   "metadata": {},
   "source": [
    "As you can see from the yaml netlist, there are 3 different kinds of components in this circuit:\n",
    "\n",
    "-   straight\n",
    "-   bend_euler\n",
    "-   mmi1x2\n",
    "\n",
    "we have a ‘straight’ model in sax.models, but the other two will need to be mapped. Moreover, the port conventions in GDSFactory are different. Let’s first remap the ports of our straight model to match the port-convention in GDSFactory:"
   ]
  },
  {
   "cell_type": "code",
   "execution_count": null,
   "id": "3f12ad8a-83b5-4d31-9eb0-34be9d744e20",
   "metadata": {},
   "outputs": [],
   "source": [
    "netlist = mzi_component.get_netlist_yaml()"
   ]
  },
  {
   "cell_type": "code",
   "execution_count": null,
   "id": "9de3cbed-5589-458c-9f18-8e26b67174f5",
   "metadata": {},
   "outputs": [],
   "source": [
    "straight = sax.rename_ports(sax.models.straight, {\"in0\": \"W0\", \"out0\": \"E0\"})"
   ]
  },
  {
   "cell_type": "markdown",
   "id": "67b31a4b-d7bb-4e1f-a4ba-9df647505ee6",
   "metadata": {},
   "source": [
    "Let’s create a model for bend_euler. Let’s stub in a dummy model for now:"
   ]
  },
  {
   "cell_type": "code",
   "execution_count": null,
   "id": "df08c176-b25b-468a-9261-335423ec3301",
   "metadata": {},
   "outputs": [],
   "source": [
    "def bend_euler(radius=1.0, length=10.0):\n",
    "    return sax.reciprocal({(\"W0\", \"N0\"): 0.95})"
   ]
  },
  {
   "cell_type": "markdown",
   "id": "f4de32f5-d9e8-4ef2-b29a-8eaa8943e91a",
   "metadata": {},
   "source": [
    "Let’s also create a model for a 1x2 MMI:"
   ]
  },
  {
   "cell_type": "code",
   "execution_count": null,
   "id": "b86e62ff-be2d-4f6b-97e6-cac08b6519ff",
   "metadata": {},
   "outputs": [],
   "source": [
    "def mmi1x2(length=3.0):\n",
    "    sdict = sax.reciprocal(\n",
    "        {\n",
    "            (\"W0\", \"E0\"): 0.5 ** 0.5,\n",
    "            (\"W0\", \"E1\"): 0.5 ** 0.5,\n",
    "        }\n",
    "    )\n",
    "    return sdict"
   ]
  },
  {
   "cell_type": "markdown",
   "id": "d988b5cd-c61e-486f-9cd4-72a3bdb2c14d",
   "metadata": {},
   "source": [
    "Let’s create our model mapping:"
   ]
  },
  {
   "cell_type": "code",
   "execution_count": null,
   "id": "86ebedb2-a453-4a9a-94c2-379709010fa4",
   "metadata": {},
   "outputs": [],
   "source": [
    "models = {\n",
    "    \"straight\": straight,\n",
    "    \"bend_euler\": bend_euler,\n",
    "    \"mmi1x2\": mmi1x2,\n",
    "}"
   ]
  },
  {
   "cell_type": "markdown",
   "id": "135794d8-d966-4eba-ab0c-c66aed143757",
   "metadata": {},
   "source": [
    "We can now import the yaml netlist:"
   ]
  },
  {
   "cell_type": "code",
   "execution_count": null,
   "id": "a42806f9-09fb-463b-9d4b-579cbdd760c6",
   "metadata": {},
   "outputs": [],
   "source": [
    "mzi = sax.circuit_from_yaml(netlist, models=models)"
   ]
  },
  {
   "cell_type": "raw",
   "id": "7c89d354-a44b-44c1-babd-8622c9826940",
   "metadata": {},
   "source": [
    "Finally, let’s simulate this newly created circuit:"
   ]
  },
  {
   "cell_type": "code",
   "execution_count": null,
   "id": "215b9068-8edf-49df-90dc-0b2f16ee352b",
   "metadata": {},
   "outputs": [],
   "source": [
    "wl = jnp.linspace(1.5, 1.6, 1000)\n",
    "params = sax.get_params(mzi)\n",
    "params = sax.set_params(params, wl=wl)\n",
    "transmission = jnp.abs(mzi(**params)[\"o1\", \"o2\"]) ** 2\n",
    "plt.plot(wl * 1e3, transmission)\n",
    "plt.xlabel(\"λ [nm]\")\n",
    "plt.ylabel(\"T\")\n",
    "plt.show()"
   ]
  },
  {
   "cell_type": "raw",
   "id": "7d0b717b-a53b-4d52-9d00-5b3a49bf24a1",
   "metadata": {},
   "source": [
    "Note:\n",
    "\n",
    "On can also directly convert from a GDSFactory component without converting to yaml first. Try for example:"
   ]
  },
  {
   "cell_type": "code",
   "execution_count": null,
   "id": "55d1d1e5-b347-4983-8f50-2160c78ff745",
   "metadata": {},
   "outputs": [],
   "source": [
    "mzi = sax.circuit_from_gdsfactory(mzi_component, models=models)\n",
    "wl = jnp.linspace(1.5, 1.6, 1000)\n",
    "params = sax.get_params(mzi)\n",
    "params = sax.set_params(params, wl=wl)\n",
    "transmission = jnp.abs(mzi(**params)[\"W0\", \"E0\"]) ** 2\n",
    "plt.plot(wl * 1e3, transmission)\n",
    "plt.xlabel(\"λ [nm]\")\n",
    "plt.ylabel(\"T\")\n",
    "plt.show()\n"
   ]
  },
  {
   "cell_type": "code",
   "execution_count": null,
   "id": "c079b0e5-3441-4854-8460-1a040aa2a276",
   "metadata": {},
   "outputs": [],
   "source": []
  }
 ],
 "metadata": {
  "kernelspec": {
   "display_name": "Python 3 (ipykernel)",
   "language": "python",
   "name": "python3"
  },
  "language_info": {
   "codemirror_mode": {
    "name": "ipython",
    "version": 3
   },
   "file_extension": ".py",
   "mimetype": "text/x-python",
   "name": "python",
   "nbconvert_exporter": "python",
   "pygments_lexer": "ipython3",
   "version": "3.9.7"
  }
 },
 "nbformat": 4,
 "nbformat_minor": 5
}
