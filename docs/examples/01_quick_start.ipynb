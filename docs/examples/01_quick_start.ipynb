{
 "cells": [
  {
   "cell_type": "markdown",
   "metadata": {},
   "source": [
    "# SAX Quick Start"
   ]
  },
  {
   "cell_type": "markdown",
   "metadata": {},
   "source": [
    "Let's go over the core functionality of SAX."
   ]
  },
  {
   "cell_type": "markdown",
   "metadata": {},
   "source": [
    "## Environment variables\n",
    "\n",
    "SAX is based on JAX… here are some useful environment variables for working with JAX:"
   ]
  },
  {
   "cell_type": "code",
   "execution_count": null,
   "metadata": {},
   "outputs": [],
   "source": [
    "# select float32 or float64 as default dtype\n",
    "%env JAX_ENABLE_X64=0\n",
    "\n",
    "# select cpu or gpu\n",
    "%env JAX_PLATFORM_NAME=cpu\n",
    "\n",
    "# set custom CUDA location for gpu:\n",
    "%env XLA_FLAGS=--xla_gpu_cuda_data_dir=/usr/lib/cuda\n",
    "\n",
    "# Using GPU?\n",
    "from jax.lib import xla_bridge\n",
    "print(xla_bridge.get_backend().platform)\n",
    "\n"
   ]
  },
  {
   "cell_type": "markdown",
   "metadata": {},
   "source": [
    "## Imports"
   ]
  },
  {
   "cell_type": "code",
   "execution_count": null,
   "metadata": {},
   "outputs": [],
   "source": [
    "import tqdm  # progress bars\n",
    "import matplotlib.pyplot as plt  # plotting\n",
    "\n",
    "import sax\n",
    "import jax\n",
    "import jax.numpy as jnp\n",
    "import jax.experimental.optimizers as opt\n"
   ]
  },
  {
   "cell_type": "markdown",
   "metadata": {},
   "source": [
    "## Scatter dictionaries\n",
    "\n",
    "The core datastructure for specifying scatter parameters in SAX is a dictionary… more specifically a dictionary which maps a port combination (2-tuple) to a scatter parameter (or an array of scatter parameters when considering multiple wavelengths for example). Such a specific dictionary mapping is called ann SDict in SAX (SDict ≈ Dict[Tuple[str,str], float]).\n",
    "\n",
    "Dictionaries are in fact much better suited for characterizing S-parameters than, say, (jax-)numpy arrays due to the inherent sparse nature of scatter parameters. Moreover, dictonaries allow for string indexing, which makes them much more pleasant to use in this context. Let’s for example create an SDict for a 50/50 coupler:\n",
    "\n",
    "```\n",
    "in1          out1\n",
    "   \\        /\n",
    "    ========\n",
    "   /        \\\n",
    "in0          out0\n",
    "```"
   ]
  },
  {
   "cell_type": "code",
   "execution_count": null,
   "metadata": {},
   "outputs": [],
   "source": [
    "coupling = 0.5\n",
    "kappa = coupling ** 0.5\n",
    "tau = (1 - coupling) ** 0.5\n",
    "coupler = {\n",
    "    (\"in0\", \"out0\"): tau,\n",
    "    (\"out0\", \"in0\"): tau,\n",
    "    (\"in0\", \"out1\"): 1j * kappa,\n",
    "    (\"out1\", \"in0\"): 1j * kappa,\n",
    "    (\"in1\", \"out0\"): 1j * kappa,\n",
    "    (\"out0\", \"in1\"): 1j * kappa,\n",
    "    (\"in1\", \"out1\"): tau,\n",
    "    (\"out1\", \"in1\"): tau,\n",
    "}\n",
    "coupler"
   ]
  },
  {
   "cell_type": "markdown",
   "metadata": {},
   "source": [
    "Only the non-zero port combinations need to be specified. Any non-existent port-combination (for example (\"in0\", \"in1\")) is considered to be zero by SAX.\n",
    "\n",
    "\n",
    "Obviously, it can still be tedious to specify every port in the circuit manually. SAX therefore offers the reciprocal function, which auto-fills the reverse connection if the forward connection exist. For example:"
   ]
  },
  {
   "cell_type": "code",
   "execution_count": null,
   "metadata": {},
   "outputs": [],
   "source": [
    "coupler = sax.reciprocal(\n",
    "    {\n",
    "        (\"in0\", \"out0\"): tau,\n",
    "        (\"in0\", \"out1\"): 1j * kappa,\n",
    "        (\"in1\", \"out0\"): 1j * kappa,\n",
    "        (\"in1\", \"out1\"): tau,\n",
    "    }\n",
    ")\n",
    "\n",
    "coupler"
   ]
  },
  {
   "cell_type": "markdown",
   "metadata": {},
   "source": [
    "## Parametrized Models\n",
    "\n",
    "Constructing such an SDict is easy, however, usually we’re more interested in having parametrized models for our components. To parametrize the coupler SDict, just wrap it in a function to obtain a SAX Model, which is a keyword-only function mapping to an SDict:"
   ]
  },
  {
   "cell_type": "code",
   "execution_count": null,
   "metadata": {},
   "outputs": [],
   "source": [
    "def coupler(coupling=0.5) -> sax.SDict:\n",
    "    kappa = coupling ** 0.5\n",
    "    tau = (1 - coupling) ** 0.5\n",
    "    sdict = sax.reciprocal(\n",
    "        {\n",
    "            (\"in0\", \"out0\"): tau,\n",
    "            (\"in0\", \"out1\"): 1j * kappa,\n",
    "            (\"in1\", \"out0\"): 1j * kappa,\n",
    "            (\"in1\", \"out1\"): tau,\n",
    "        }\n",
    "    )\n",
    "    return sdict\n",
    "\n",
    "\n",
    "coupler(coupling=0.3)"
   ]
  },
  {
   "cell_type": "markdown",
   "metadata": {},
   "source": [
    "We can define a waveguide in much the same way:"
   ]
  },
  {
   "cell_type": "code",
   "execution_count": null,
   "metadata": {},
   "outputs": [],
   "source": [
    "def waveguide(wl=1.55, wl0=1.55, neff=2.34, ng=3.4, length=10.0, loss=0.0) -> sax.SDict:\n",
    "    dwl = wl - wl0\n",
    "    dneff_dwl = (ng - neff) / wl0\n",
    "    neff = neff - dwl * dneff_dwl\n",
    "    phase = 2 * jnp.pi * neff * length / wl\n",
    "    transmission = 10 ** (-loss * length / 20) * jnp.exp(1j * phase)\n",
    "    sdict = sax.reciprocal(\n",
    "        {\n",
    "            (\"in0\", \"out0\"): transmission,\n",
    "        }\n",
    "    )\n",
    "    return sdict"
   ]
  },
  {
   "cell_type": "markdown",
   "metadata": {},
   "source": [
    "That’s pretty straightforward. Let’s now move on to parametrized circuits:\n",
    "\n",
    "## Circuit Models"
   ]
  },
  {
   "cell_type": "markdown",
   "metadata": {},
   "source": [
    "Existing models can now be combined into a circuit using `sax.circuit`, which basically creates a new `Model` function:"
   ]
  },
  {
   "cell_type": "code",
   "execution_count": null,
   "metadata": {},
   "outputs": [],
   "source": [
    "mzi = sax.circuit(\n",
    "    instances={\n",
    "        \"lft\": coupler,\n",
    "        \"top\": waveguide,\n",
    "        \"btm\": waveguide,\n",
    "        \"rgt\": coupler,\n",
    "    },\n",
    "    connections={\n",
    "        \"lft:out0\": \"btm:in0\",\n",
    "        \"btm:out0\": \"rgt:in0\",\n",
    "        \"lft:out1\": \"top:in0\",\n",
    "        \"top:out0\": \"rgt:in1\",\n",
    "    },\n",
    "    ports={\n",
    "        \"in0\": \"lft:in0\",\n",
    "        \"in1\": \"lft:in1\",\n",
    "        \"out0\": \"rgt:out0\",\n",
    "        \"out1\": \"rgt:out1\",\n",
    "    },\n",
    ")"
   ]
  },
  {
   "cell_type": "code",
   "execution_count": null,
   "metadata": {},
   "outputs": [],
   "source": [
    "mzi?"
   ]
  },
  {
   "cell_type": "markdown",
   "metadata": {},
   "source": [
    "The `circuit` function just creates a similar function as we created for the waveguide and the coupler, but in stead of taking parameters directly it takes parameter dictionaries for each of the instances in the circuit. The keys in these parameter dictionaries should correspond to the keyword arguments of each individual subcomponent.\n",
    "\n",
    "\n",
    "Let’s now do a simulation for the MZI we just constructed:"
   ]
  },
  {
   "cell_type": "code",
   "execution_count": null,
   "metadata": {},
   "outputs": [],
   "source": [
    "mzi()"
   ]
  },
  {
   "cell_type": "markdown",
   "metadata": {},
   "source": [
    "Or in the case we want an MZI with different arm lengths:"
   ]
  },
  {
   "cell_type": "code",
   "execution_count": null,
   "metadata": {},
   "outputs": [],
   "source": [
    "mzi(top={\"length\": 25.0}, btm={\"length\": 15.0})"
   ]
  },
  {
   "cell_type": "markdown",
   "metadata": {},
   "source": [
    "## Parametrizing the circuit while defining it\n",
    "\n",
    "Above we constructed an MZI with the default parameters by specifying the functions for each component. However, what if we wanted to differently parametrize the circuit from the start? In that case we can use partial function application:"
   ]
  },
  {
   "cell_type": "code",
   "execution_count": null,
   "metadata": {},
   "outputs": [],
   "source": [
    "mzi = sax.circuit(\n",
    "    instances={\n",
    "        \"lft\": sax.partial(coupler, coupling=0.3),\n",
    "        \"top\": sax.partial(waveguide, length=25.0),\n",
    "        \"btm\": sax.partial(waveguide, length=10.0),\n",
    "        \"rgt\": sax.partial(coupler, coupling=0.7),\n",
    "    },\n",
    "    connections={\n",
    "        \"lft:out0\": \"btm:in0\",\n",
    "        \"btm:out0\": \"rgt:in0\",\n",
    "        \"lft:out1\": \"top:in0\",\n",
    "        \"top:out0\": \"rgt:in1\",\n",
    "    },\n",
    "    ports={\n",
    "        \"in0\": \"lft:in0\",\n",
    "        \"in1\": \"lft:in1\",\n",
    "        \"out0\": \"rgt:out0\",\n",
    "        \"out1\": \"rgt:out1\",\n",
    "    },\n",
    ")\n",
    "mzi()"
   ]
  },
  {
   "cell_type": "markdown",
   "metadata": {},
   "source": [
    "## Simulating the parametrized MZI"
   ]
  },
  {
   "cell_type": "markdown",
   "metadata": {},
   "source": [
    "To do more than just some dummy simulations, it’s best to copy over the model parameters so they can be independently be modified. For this we can use sax.get_params:"
   ]
  },
  {
   "cell_type": "code",
   "execution_count": null,
   "metadata": {},
   "outputs": [],
   "source": [
    "params = sax.get_params(mzi)\n",
    "params[\"btm\"][\"length\"] = 15.0\n",
    "params[\"top\"][\"length\"] = 25.0\n",
    "params[\"lft\"][\"coupling\"] = 0.5\n",
    "params[\"rgt\"][\"coupling\"] = 0.5\n",
    "params"
   ]
  },
  {
   "cell_type": "markdown",
   "metadata": {},
   "source": [
    "Sometimes, we’d like to globally set some simulation parameters, such as for example the wavelength of the simulation. To do this, we can use sax.set_params:"
   ]
  },
  {
   "cell_type": "code",
   "execution_count": null,
   "metadata": {},
   "outputs": [],
   "source": [
    "params = sax.set_params(params, wl=jnp.linspace(1.51, 1.59, 1000))"
   ]
  },
  {
   "cell_type": "markdown",
   "metadata": {},
   "source": [
    "This sets the wavelength wl parameter for all subcomponents (that have a wl parameter) in the circuit.\n",
    "\n",
    "Let’s do a simulation for the 1000 wavelengths defined above:"
   ]
  },
  {
   "cell_type": "code",
   "execution_count": null,
   "metadata": {},
   "outputs": [],
   "source": [
    "%time S = mzi(**params)"
   ]
  },
  {
   "cell_type": "markdown",
   "metadata": {},
   "source": [
    "Let’s see what this gives:"
   ]
  },
  {
   "cell_type": "code",
   "execution_count": null,
   "metadata": {},
   "outputs": [],
   "source": [
    "plt.plot(params[\"top\"][\"wl\"] * 1e3, abs(S[\"in0\", \"out0\"]) ** 2)\n",
    "plt.ylim(-0.05, 1.05)\n",
    "plt.xlabel(\"λ [nm]\")\n",
    "plt.ylabel(\"T\")\n",
    "plt.ylim(-0.05, 1.05)\n",
    "plt.show()"
   ]
  },
  {
   "cell_type": "markdown",
   "metadata": {},
   "source": [
    "## Optimization"
   ]
  },
  {
   "cell_type": "markdown",
   "metadata": {},
   "source": [
    "We'd like to optimize an MZI such that one of the minima is at 1550nm. To do this, we need to define a loss function for the circuit at 1550nm. This function should take the parameters that you want to optimize as positional arguments:"
   ]
  },
  {
   "cell_type": "code",
   "execution_count": null,
   "metadata": {},
   "outputs": [],
   "source": [
    "@jax.jit\n",
    "def loss(delta_length):\n",
    "    params = sax.set_params(sax.get_params(mzi), wl=1.55)\n",
    "    params[\"top\"][\"length\"] = 15.0 + delta_length\n",
    "    params[\"btm\"][\"length\"] = 15.0\n",
    "    params[\"lft\"][\"coupling\"] = 0.5\n",
    "    params[\"rgt\"][\"coupling\"] = 0.5\n",
    "    S = mzi(**params)\n",
    "    return (abs(S[\"in0\", \"out0\"]) ** 2).mean()"
   ]
  },
  {
   "cell_type": "code",
   "execution_count": null,
   "metadata": {},
   "outputs": [],
   "source": [
    "%time loss(10.)"
   ]
  },
  {
   "cell_type": "markdown",
   "metadata": {},
   "source": [
    "We can use this loss function to define a grad function which works on the parameters of the loss function:"
   ]
  },
  {
   "cell_type": "code",
   "execution_count": null,
   "metadata": {},
   "outputs": [],
   "source": [
    "grad = jax.jit(\n",
    "    jax.grad(\n",
    "        loss,\n",
    "        argnums=0,  # JAX gradient function for the first positional argument, jitted\n",
    "    )\n",
    ")"
   ]
  },
  {
   "cell_type": "markdown",
   "metadata": {},
   "source": [
    "Next, we need to define a JAX optimizer, which on its own is nothing more than three more functions:  an initialization function with which to initialize the optimizer state, an update function which will update the optimizer state (and with it the model parameters). The third function that's being returned will give the model parameters given the optimizer state."
   ]
  },
  {
   "cell_type": "code",
   "execution_count": null,
   "metadata": {},
   "outputs": [],
   "source": [
    "initial_delta_length = 10.0\n",
    "optim_init, optim_update, optim_params = opt.adam(step_size=0.1)\n",
    "optim_state = optim_init(initial_delta_length)"
   ]
  },
  {
   "cell_type": "markdown",
   "metadata": {},
   "source": [
    "Given all this, a single training step can be defined:"
   ]
  },
  {
   "cell_type": "code",
   "execution_count": null,
   "metadata": {},
   "outputs": [],
   "source": [
    "def train_step(step, optim_state):\n",
    "    params = optim_params(optim_state)\n",
    "    lossvalue = loss(params)\n",
    "    gradvalue = grad(params)\n",
    "    optim_state = optim_update(step, gradvalue, optim_state)\n",
    "    return lossvalue, optim_state\n"
   ]
  },
  {
   "cell_type": "markdown",
   "metadata": {},
   "source": [
    "And we can use this step function to start the training of the MZI:"
   ]
  },
  {
   "cell_type": "code",
   "execution_count": null,
   "metadata": {},
   "outputs": [],
   "source": [
    "range_ = tqdm.trange(300)\n",
    "for step in range_:\n",
    "    lossvalue, optim_state = train_step(step, optim_state)\n",
    "    range_.set_postfix(loss=f\"{lossvalue:.6f}\")\n"
   ]
  },
  {
   "cell_type": "code",
   "execution_count": null,
   "metadata": {},
   "outputs": [],
   "source": [
    "delta_length = optim_params(optim_state)\n",
    "delta_length"
   ]
  },
  {
   "cell_type": "markdown",
   "metadata": {},
   "source": [
    "Let's see what we've got over a range of wavelengths:"
   ]
  },
  {
   "cell_type": "code",
   "execution_count": null,
   "metadata": {},
   "outputs": [],
   "source": [
    "params = sax.set_params(sax.get_params(mzi), wl=jnp.linspace(1.5, 1.6, 1000))\n",
    "params[\"top\"][\"length\"] = 15.0 + delta_length\n",
    "params[\"btm\"][\"length\"] = 15.0\n",
    "S = mzi(**params)\n",
    "plt.plot(params[\"top\"][\"wl\"] * 1e3, abs(S[\"in1\", \"out1\"]) ** 2)\n",
    "plt.xlabel(\"λ [nm]\")\n",
    "plt.ylabel(\"T\")\n",
    "plt.ylim(-0.05, 1.05)\n",
    "plt.plot([1550, 1550], [0, 1])\n",
    "plt.show()"
   ]
  },
  {
   "cell_type": "markdown",
   "metadata": {},
   "source": [
    "The minimum of the MZI is perfectly located at 1550nm."
   ]
  },
  {
   "cell_type": "markdown",
   "metadata": {},
   "source": [
    "## MZI Chain"
   ]
  },
  {
   "cell_type": "markdown",
   "metadata": {},
   "source": [
    "Let's now create a chain of MZIs. For this, we first create a subcomponent: a directional coupler with arms:\n",
    "\n",
    "\n",
    "```\n",
    "                             top\n",
    "                         in ----- out -> out2\n",
    "    in2 <- p3        p2                 \n",
    "             \\  dc  /                  \n",
    "              ======                  \n",
    "             /      \\                \n",
    "    in1 <- p0        p1      btm    \n",
    "                         in ----- out -> out1\n",
    "```"
   ]
  },
  {
   "cell_type": "code",
   "execution_count": null,
   "metadata": {},
   "outputs": [],
   "source": [
    "dc_with_arms = sax.circuit(\n",
    "    instances={\n",
    "        \"lft\": coupler,\n",
    "        \"top\": waveguide,\n",
    "        \"btm\": waveguide,\n",
    "    },\n",
    "    connections={\n",
    "        \"lft:out0\": \"btm:in0\",\n",
    "        \"lft:out1\": \"top:in0\",\n",
    "    },\n",
    "    ports={\n",
    "        \"in0\": \"lft:in0\",\n",
    "        \"in1\": \"lft:in1\",\n",
    "        \"out0\": \"btm:out0\",\n",
    "        \"out1\": \"top:out0\",\n",
    "    },\n",
    ")"
   ]
  },
  {
   "cell_type": "markdown",
   "metadata": {},
   "source": [
    "An MZI chain can now be created by cascading these directional couplers with arms:\n",
    "\n",
    "```\n",
    "      _    _    _    _             _    _  \n",
    "    \\/   \\/   \\/   \\/     ...    \\/   \\/   \n",
    "    /\\_  /\\_  /\\_  /\\_           /\\_  /\\_  \n",
    "```"
   ]
  },
  {
   "cell_type": "code",
   "execution_count": null,
   "metadata": {},
   "outputs": [],
   "source": [
    "def mzi_chain(num_mzis=1) -> sax.Model:\n",
    "    chain = sax.circuit(\n",
    "        instances={f\"dc{i}\": dc_with_arms for i in range(num_mzis + 1)},\n",
    "        connections={\n",
    "            **{f\"dc{i}:out0\": f\"dc{i+1}:in0\" for i in range(num_mzis)},\n",
    "            **{f\"dc{i}:out1\": f\"dc{i+1}:in1\" for i in range(num_mzis)},\n",
    "        },\n",
    "        ports={\n",
    "            \"in0\": f\"dc0:in1\",\n",
    "            \"in1\": f\"dc0:in2\",\n",
    "            \"out0\": f\"dc{num_mzis}:out1\",\n",
    "            \"out1\": f\"dc{num_mzis}:out2\",\n",
    "        },\n",
    "    )\n",
    "    return chain"
   ]
  },
  {
   "cell_type": "markdown",
   "metadata": {},
   "source": [
    "Let's for example create a chain with 15 MZIs:"
   ]
  },
  {
   "cell_type": "code",
   "execution_count": null,
   "metadata": {},
   "outputs": [],
   "source": [
    "chain = mzi_chain(num_mzis=15)\n",
    "params = sax.get_params(chain)\n",
    "for dc in params:\n",
    "    params[dc][\"top\"][\"length\"] = 25.0\n",
    "    params[dc][\"btm\"][\"length\"] = 15.0\n",
    "params = sax.set_params(params, wl=jnp.linspace(1.5, 1.6, 1000))"
   ]
  },
  {
   "cell_type": "markdown",
   "metadata": {},
   "source": [
    "We can simulate this:"
   ]
  },
  {
   "cell_type": "code",
   "execution_count": null,
   "metadata": {},
   "outputs": [],
   "source": [
    "%time S = chain(**params) # time to evaluate the MZI\n",
    "func = jax.jit(chain)\n",
    "%time S = func(**params) # time to jit the MZI\n",
    "%time S = func(**params) # time to evaluate the MZI after jitting"
   ]
  },
  {
   "cell_type": "markdown",
   "metadata": {},
   "source": [
    "Where we see that the unjitted evaluation of the MZI chain takes about a second, while the jitting of the MZI chain takes about a minute (on a CPU). However, after the MZI chain has been jitted, the evaluation is in the order of about a millisecond!\n",
    "\n",
    "Anyway, let’s see what this gives:"
   ]
  },
  {
   "cell_type": "code",
   "execution_count": null,
   "metadata": {},
   "outputs": [],
   "source": [
    "plt.plot(1e3 * params[\"dc0\"][\"top\"][\"wl\"], jnp.abs(S[\"in0\", \"out0\"]) ** 2)\n",
    "plt.ylim(-0.05, 1.05)\n",
    "plt.xlabel(\"λ [nm]\")\n",
    "plt.ylabel(\"T\")\n",
    "plt.show()"
   ]
  },
  {
   "cell_type": "code",
   "execution_count": null,
   "metadata": {},
   "outputs": [],
   "source": [
    "plt.plot(1e3 * params[\"dc0\"][\"top\"][\"wl\"], 10*jnp.log10(jnp.abs(S[\"in0\", \"out0\"]) ** 2))\n",
    "plt.xlabel(\"λ [nm]\")\n",
    "plt.ylabel(\"T (dB)\")\n",
    "plt.show()"
   ]
  },
  {
   "cell_type": "code",
   "execution_count": null,
   "metadata": {},
   "outputs": [],
   "source": []
  }
 ],
 "metadata": {
  "kernelspec": {
   "display_name": "Python 3 (ipykernel)",
   "language": "python",
   "name": "python3"
  },
  "language_info": {
   "codemirror_mode": {
    "name": "ipython",
    "version": 3
   },
   "file_extension": ".py",
   "mimetype": "text/x-python",
   "name": "python",
   "nbconvert_exporter": "python",
   "pygments_lexer": "ipython3",
   "version": "3.9.7"
  }
 },
 "nbformat": 4,
 "nbformat_minor": 4
}
