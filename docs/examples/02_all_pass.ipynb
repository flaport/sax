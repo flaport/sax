{
 "cells": [
  {
   "cell_type": "markdown",
   "id": "0ed5eb86-fc7c-4f88-a3ec-cea4c2060dcd",
   "metadata": {},
   "source": [
    "# Simulating an All-Pass Filter\n",
    "\n",
    "A simple comparison between an analytical evaluation of an all pass filter and using SAX.\n",
    "\n",
    "## Imports"
   ]
  },
  {
   "cell_type": "code",
   "execution_count": 2,
   "id": "2eea9204-60dd-45e4-8c47-154742dd3c09",
   "metadata": {},
   "outputs": [
    {
     "name": "stderr",
     "output_type": "stream",
     "text": [
      "/home/jmatres/miniconda3/lib/python3.9/site-packages/jax/experimental/optimizers.py:28: FutureWarning: jax.experimental.optimizers is deprecated, import jax.example_libraries.optimizers instead\n",
      "  warnings.warn('jax.experimental.optimizers is deprecated, '\n"
     ]
    }
   ],
   "source": [
    "import tqdm\n",
    "import matplotlib.pyplot as plt\n",
    "\n",
    "import sax\n",
    "import jax\n",
    "import jax.numpy as jnp\n",
    "import jax.experimental.optimizers as opt"
   ]
  },
  {
   "cell_type": "markdown",
   "id": "6783bb7f-485c-4ab3-b709-d406a1487d76",
   "metadata": {},
   "source": [
    "## Schematic\n",
    "\n",
    "```\n",
    "          in0---out0\n",
    "       in1          out1\n",
    "          \\        /\n",
    "           ========\n",
    "          /        \\\n",
    "in0 <- in0          out0 -> out0\n",
    "\n",
    "```\n",
    "\n",
    "## Simulation & Design Parameters"
   ]
  },
  {
   "cell_type": "code",
   "execution_count": 5,
   "id": "74047445-62a4-4ab9-ae51-69e985ae172e",
   "metadata": {},
   "outputs": [
    {
     "name": "stderr",
     "output_type": "stream",
     "text": [
      "WARNING:absl:No GPU/TPU found, falling back to CPU. (Set TF_CPP_MIN_LOG_LEVEL=0 and rerun for more info.)\n"
     ]
    }
   ],
   "source": [
    "loss = 0.1  # [dB/μm] (alpha) waveguide loss\n",
    "neff = 2.34  # Effective index of the waveguides\n",
    "ng = 3.4  # Group index of the waveguides\n",
    "wl0 = 1.55  # [μm] the wavelength at which neff and ng are defined\n",
    "ring_length = 10.0  # [μm] Length of the ring\n",
    "coupling = 0.5  # [] coupling of the coupler\n",
    "wl = jnp.linspace(1.5, 1.6, 1000)  # [μm] Wavelengths to sweep over"
   ]
  },
  {
   "cell_type": "markdown",
   "id": "d635e633-0a2a-4cd1-9a80-b31e59b4ad82",
   "metadata": {},
   "source": [
    "## Frequency Domain Analytically\n",
    "\n",
    "As a comparison, we first calculate the frequency domain response for the all-pass filter analytically:"
   ]
  },
  {
   "cell_type": "code",
   "execution_count": 6,
   "id": "b1c95e18-0b8c-4719-90fb-22f5faa31c4d",
   "metadata": {},
   "outputs": [],
   "source": [
    "def all_pass_analytical():\n",
    "    \"\"\" Analytic Frequency Domain Response of an all pass filter \"\"\"\n",
    "    detected = jnp.zeros_like(wl)\n",
    "    transmission = 1 - coupling\n",
    "    neff_wl = neff + (wl0 - wl) * (ng - neff) / wl0  # we expect a linear behavior with respect to wavelength\n",
    "    out = jnp.sqrt(transmission) - 10 ** (-loss * ring_length / 20.0) * jnp.exp(2j * jnp.pi * neff_wl * ring_length / wl)\n",
    "    out /= 1 - jnp.sqrt(transmission) * 10 ** (-loss * ring_length / 20.0) * jnp.exp(2j * jnp.pi * neff_wl * ring_length / wl)\n",
    "    detected = abs(out) ** 2\n",
    "    return detected\n"
   ]
  },
  {
   "cell_type": "code",
   "execution_count": 7,
   "id": "4b34f5b0-5715-4908-9841-c707bf2d3687",
   "metadata": {},
   "outputs": [
    {
     "name": "stdout",
     "output_type": "stream",
     "text": [
      "CPU times: user 183 ms, sys: 11 ms, total: 194 ms\n",
      "Wall time: 189 ms\n",
      "CPU times: user 39.6 ms, sys: 0 ns, total: 39.6 ms\n",
      "Wall time: 39 ms\n",
      "CPU times: user 29 µs, sys: 27 µs, total: 56 µs\n",
      "Wall time: 59.8 µs\n"
     ]
    },
    {
     "data": {
      "image/png": "[encoded data removed]",
      "text/plain": [
       "<Figure size 432x288 with 1 Axes>"
      ]
     },
     "metadata": {
      "needs_background": "light"
     },
     "output_type": "display_data"
    }
   ],
   "source": [
    "%time detected = all_pass_analytical() # non-jitted evaluation time\n",
    "all_pass_analytical_jitted = jax.jit(all_pass_analytical)\n",
    "%time detected = all_pass_analytical_jitted() # time to jit\n",
    "%time detected = all_pass_analytical_jitted() # evaluation time after jitting\n",
    "\n",
    "plt.plot(wl * 1e3, detected)\n",
    "plt.xlabel(\"λ [nm]\")\n",
    "plt.ylabel(\"T\")\n",
    "plt.show()"
   ]
  },
  {
   "cell_type": "markdown",
   "id": "6a04b198-28ac-49b5-8414-466f0b205724",
   "metadata": {},
   "source": [
    "## Scatter Dictionaries\n"
   ]
  },
  {
   "cell_type": "code",
   "execution_count": 9,
   "id": "3f4b9cca-b41e-4a17-8f2c-2819df7d5814",
   "metadata": {},
   "outputs": [],
   "source": [
    "all_pass_sax = sax.circuit(\n",
    "    instances={\n",
    "        \"dc\": sax.partial(sax.models.coupler, coupling=coupling),\n",
    "        \"top\": sax.partial(sax.models.straight, length=ring_length, loss=loss, neff=neff, ng=ng, wl0=wl0, wl=wl),\n",
    "    },\n",
    "    connections={\n",
    "        \"dc:out1\": \"top:in0\",\n",
    "        \"top:out0\": \"dc:in1\",\n",
    "    },\n",
    "    ports={\n",
    "        \"in0\": \"dc:in0\",\n",
    "        \"out0\": \"dc:out0\",\n",
    "    },\n",
    ")"
   ]
  },
  {
   "cell_type": "code",
   "execution_count": 10,
   "id": "244d81bc-7ff2-48c5-9d51-4b222cf03f58",
   "metadata": {},
   "outputs": [
    {
     "name": "stdout",
     "output_type": "stream",
     "text": [
      "CPU times: user 962 ms, sys: 18 ms, total: 980 ms\n",
      "Wall time: 962 ms\n",
      "CPU times: user 92 µs, sys: 56 µs, total: 148 µs\n",
      "Wall time: 104 µs\n",
      "CPU times: user 30 µs, sys: 19 µs, total: 49 µs\n",
      "Wall time: 52.7 µs\n"
     ]
    },
    {
     "data": {
      "image/png": "[encoded data removed]",
      "text/plain": [
       "<Figure size 432x288 with 1 Axes>"
      ]
     },
     "metadata": {
      "needs_background": "light"
     },
     "output_type": "display_data"
    }
   ],
   "source": [
    "%time detected_sax = all_pass_sax() # non-jitted evaluation time\n",
    "all_pass_sax_jitted = jax.jit(all_pass_analytical)\n",
    "%time detected_sax = all_pass_sax_jitted() # time to jit\n",
    "%time detected_sax = all_pass_sax_jitted() # time after jitting\n",
    "\n",
    "plt.plot(wl * 1e3, detected, label=\"analytical\")\n",
    "plt.plot(wl * 1e3, detected_sax, label=\"sax\", ls=\"--\", lw=3)\n",
    "plt.xlabel(\"λ [nm]\")\n",
    "plt.ylabel(\"T\")\n",
    "plt.show()"
   ]
  },
  {
   "cell_type": "code",
   "execution_count": null,
   "id": "73daaf54-e88c-47b7-b50d-5c55b683bf4d",
   "metadata": {},
   "outputs": [],
   "source": []
  }
 ],
 "metadata": {
  "kernelspec": {
   "display_name": "Python 3 (ipykernel)",
   "language": "python",
   "name": "python3"
  },
  "language_info": {
   "codemirror_mode": {
    "name": "ipython",
    "version": 3
   },
   "file_extension": ".py",
   "mimetype": "text/x-python",
   "name": "python",
   "nbconvert_exporter": "python",
   "pygments_lexer": "ipython3",
   "version": "3.9.7"
  }
 },
 "nbformat": 4,
 "nbformat_minor": 5
}
