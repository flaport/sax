{
 "cells": [
  {
   "cell_type": "markdown",
   "metadata": {},
   "source": [
    "# Thin film optimization and wavelength-dependent parameters\n",
    "\n",
    "In this notebook, we apply SAX to thin-film optimization and show how it can be used for wavelength-dependent parameter optimization.\n",
    "\n",
    "The language of transfer/scatter matrices is commonly used to calculate optical properties of thin-films. Many specialized methods exist for their optimization. However, SAX can be useful to cut down on developer time by circumventing the need to manually take gradients of complicated or often-changed objective functions, and by generating efficient code from simple syntax. "
   ]
  },
  {
   "cell_type": "markdown",
   "metadata": {},
   "source": [
    "## Imports"
   ]
  },
  {
   "cell_type": "code",
   "execution_count": null,
   "metadata": {},
   "outputs": [],
   "source": [
    "import tqdm\n",
    "import matplotlib.pyplot as plt\n",
    "\n",
    "# GPU setup\n",
    "#%env XLA_FLAGS=--xla_gpu_cuda_data_dir=/path/to/cuda\n",
    "\n",
    "import jax\n",
    "import jax.numpy as jnp\n",
    "import jax.experimental.optimizers as opt\n",
    "\n",
    "# sax circuit simulator\n",
    "import sax"
   ]
  },
  {
   "cell_type": "code",
   "execution_count": null,
   "metadata": {},
   "outputs": [],
   "source": [
    "# Using GPU?\n",
    "from jax.lib import xla_bridge \n",
    "print(xla_bridge.get_backend().platform)"
   ]
  },
  {
   "cell_type": "markdown",
   "metadata": {},
   "source": [
    "## Dielectric mirror Fabry-Pérot\n",
    "\n",
    "Consider a stack composed of only two materials, $n_A$ and $n_B$. Two types of transfer matrices characterize wave propagation in the system : interfaces described by Fresnel's equations, and propagation."
   ]
  },
  {
   "cell_type": "code",
   "execution_count": null,
   "metadata": {},
   "outputs": [],
   "source": [
    "# Reflection at i-->j interface\n",
    "def r_fresnel_ij(params):\n",
    "    \"\"\"\n",
    "    Normal incidence amplitude reflection from Fresnel's equations\n",
    "    ni : refractive index of the initial medium\n",
    "    nf : refractive index of the final\n",
    "    \"\"\"\n",
    "    return (params[\"ni\"] - params[\"nj\"]) / (params[\"ni\"] + params[\"nj\"])\n",
    "\n",
    "# Transmission at i-->j interface\n",
    "def t_fresnel_ij(params):\n",
    "    \"\"\"\n",
    "    Normal incidence amplitude transmission from Fresnel's equations\n",
    "    \"\"\"\n",
    "    return 2 * params[\"ni\"] / (params[\"ni\"] + params[\"nj\"])\n",
    "\n",
    "# Propagation through medium A\n",
    "def prop_i(params):\n",
    "    \"\"\"\n",
    "    Phase shift acquired as a wave propagates through medium A\n",
    "    wl : wavelength (arb. units)\n",
    "    ni : refractive index of medium (at wavelength wl)\n",
    "    di : thickness of layer (same arb. unit as wl)\n",
    "    \"\"\"\n",
    "    return jnp.exp(1j * 2*jnp.pi * params[\"ni\"] / params[\"wl\"] * params[\"di\"])"
   ]
  },
  {
   "cell_type": "markdown",
   "metadata": {},
   "source": [
    "For the two-material stack, this leads to 4 scatter matrices coefficients. Through reciprocity they can be constructed out of two independent ones :"
   ]
  },
  {
   "cell_type": "code",
   "execution_count": null,
   "metadata": {},
   "outputs": [],
   "source": [
    "# Arbitrary default parameters\n",
    "fresnel_mirror_ij = {\n",
    "    (\"in\", \"in\"): r_fresnel_ij,\n",
    "    (\"in\", \"out\"): t_fresnel_ij,\n",
    "    (\"out\", \"in\"): lambda params: (1 - r_fresnel_ij(params)**2)/t_fresnel_ij(params), # t_ji,\n",
    "    (\"out\", \"out\"): lambda params: -1*r_fresnel_ij(params), # r_ji,\n",
    "    \"default_params\": {\n",
    "        \"ni\": 1.,\n",
    "        \"nj\": 1.,\n",
    "        \"wl\": 532.,\n",
    "    }\n",
    "}\n",
    "\n",
    "propagation_i = {\n",
    "    (\"in\", \"out\"): prop_i,\n",
    "    (\"out\", \"in\"): prop_i,\n",
    "    \"default_params\": {\n",
    "        \"ni\": 1.,\n",
    "        \"di\": 500.,\n",
    "        \"wl\": 532.,\n",
    "    }\n",
    "}"
   ]
  },
  {
   "cell_type": "markdown",
   "metadata": {},
   "source": [
    "A resonant cavity can be formed when a high index region is surrounded by low-index region :"
   ]
  },
  {
   "cell_type": "code",
   "execution_count": null,
   "metadata": {},
   "outputs": [],
   "source": [
    "dielectric_fabry_perot = sax.circuit(\n",
    "    models = {\n",
    "        \"air-B\": fresnel_mirror_ij,\n",
    "        \"B\": propagation_i,\n",
    "        \"B-air\": fresnel_mirror_ij,\n",
    "    },\n",
    "    connections={\n",
    "        \"air-B:out\": \"B:in\",\n",
    "        \"B:out\": \"B-air:in\",\n",
    "    },\n",
    "    ports={\n",
    "        \"air-B:in\": \"in\",\n",
    "        \"B-air:out\": \"out\",\n",
    "    },\n",
    ")\n",
    "\n",
    "params = dielectric_fabry_perot[\"default_params\"]\n",
    "params"
   ]
  },
  {
   "cell_type": "markdown",
   "metadata": {},
   "source": [
    "Let's choose $n_A = 1$, $n_B = 2$, $d_B = 1000$ nm, and compute over the visible spectrum :"
   ]
  },
  {
   "cell_type": "code",
   "execution_count": null,
   "metadata": {},
   "outputs": [],
   "source": [
    "params = sax.copy_params(params)\n",
    "params[\"air-B\"][\"nj\"] = 2.\n",
    "params[\"B\"][\"ni\"] = 2.\n",
    "params[\"B-air\"][\"ni\"] = 2.\n",
    "\n",
    "wls = jnp.linspace(380, 750, 200)\n",
    "params = sax.set_global_params(params, wl=wls)"
   ]
  },
  {
   "cell_type": "markdown",
   "metadata": {},
   "source": [
    "Compute transmission and reflection, and compare to another package's results (https://github.com/sbyrnes321/tmm) :"
   ]
  },
  {
   "cell_type": "code",
   "execution_count": null,
   "metadata": {},
   "outputs": [],
   "source": [
    "fabry_perot_transmitted = dielectric_fabry_perot[\"in\",\"out\"]\n",
    "fabry_perot_transmitted = jax.jit(dielectric_fabry_perot[\"in\", \"out\"])\n",
    "transmitted = fabry_perot_transmitted(params)\n",
    "\n",
    "fabry_perot_reflected = dielectric_fabry_perot[\"in\",\"in\"]\n",
    "fabry_perot_reflected = jax.jit(dielectric_fabry_perot[\"in\", \"in\"])\n",
    "reflected = fabry_perot_reflected(params)"
   ]
  },
  {
   "cell_type": "code",
   "execution_count": null,
   "metadata": {},
   "outputs": [],
   "source": [
    "# import sys\n",
    "# !$sys.executable -m pip install tmm\n",
    "from tmm import coh_tmm\n",
    "\n",
    "# tmm syntax (https://github.com/sbyrnes321/tmm)\n",
    "d_list = [jnp.inf,500,jnp.inf]\n",
    "n_list = [1,2,1]\n",
    "# initialize lists of y-values to plot\n",
    "rnorm=[]\n",
    "tnorm = []\n",
    "Tnorm = []\n",
    "Rnorm = []\n",
    "for l in wls:\n",
    "    rnorm.append(coh_tmm('s',n_list, d_list, 0, l)['r'])\n",
    "    tnorm.append(coh_tmm('s',n_list, d_list, 0, l)['t'])\n",
    "    Tnorm.append(coh_tmm('s',n_list, d_list, 0, l)['T'])\n",
    "    Rnorm.append(coh_tmm('s',n_list, d_list, 0, l)['R'])"
   ]
  },
  {
   "cell_type": "code",
   "execution_count": null,
   "metadata": {},
   "outputs": [],
   "source": [
    "plt.scatter(wls, jnp.real(transmitted), label='t SAX')\n",
    "plt.plot(wls, jnp.real(jnp.array(tnorm)), 'k', label='t tmm')\n",
    "plt.scatter(wls, jnp.real(reflected), label='r SAX')\n",
    "plt.plot(wls, jnp.real(jnp.array(rnorm)), 'k--', label='r tmm')\n",
    "plt.xlabel(\"λ [nm]\")\n",
    "plt.ylabel(\"Transmitted and reflected amplitude\")\n",
    "plt.legend(loc=\"upper right\")\n",
    "plt.title(\"Real part\")\n",
    "plt.show()\n",
    "\n",
    "plt.scatter(wls, jnp.imag(transmitted), label='t SAX')\n",
    "plt.plot(wls, jnp.imag(jnp.array(tnorm)), 'k', label='t tmm')\n",
    "plt.scatter(wls, jnp.imag(reflected), label='r SAX')\n",
    "plt.plot(wls, jnp.imag(jnp.array(rnorm)), 'k--', label='r tmm')\n",
    "plt.xlabel(\"λ [nm]\")\n",
    "plt.ylabel(\"Transmitted and reflected amplitude\")\n",
    "plt.legend(loc=\"upper right\")\n",
    "plt.title(\"Imaginary part\")\n",
    "plt.show()"
   ]
  },
  {
   "cell_type": "markdown",
   "metadata": {},
   "source": [
    "In terms of powers, we get the following. Due to the reflections at the interfaces, resonant behaviour is observed, with evenly-spaced maxima/minima in wavevector space :"
   ]
  },
  {
   "cell_type": "code",
   "execution_count": null,
   "metadata": {},
   "outputs": [],
   "source": [
    "plt.scatter(2*jnp.pi/wls, jnp.abs(transmitted)**2, label='T SAX')\n",
    "plt.plot(2*jnp.pi/wls, Tnorm, 'k', label='T tmm')\n",
    "plt.scatter(2*jnp.pi/wls, jnp.abs(reflected)**2, label='R SAX')\n",
    "plt.plot(2*jnp.pi/wls, Rnorm, 'k--', label='R tmm')\n",
    "plt.vlines(jnp.arange(3,6)*jnp.pi/(2*500), ymin=0, ymax=1, color='k', linestyle='--', label='m$\\pi$/nd')\n",
    "plt.xlabel(\"k = 2$\\pi$/λ [nm]\")\n",
    "plt.ylabel(\"Transmitted and reflected intensities\")\n",
    "plt.legend(loc=\"upper right\")\n",
    "plt.show()"
   ]
  },
  {
   "cell_type": "markdown",
   "metadata": {},
   "source": [
    "### Optimization test\n",
    "\n",
    "Let's attempt to minimize transmission at 500 nm by varying thickness."
   ]
  },
  {
   "cell_type": "code",
   "execution_count": null,
   "metadata": {},
   "outputs": [],
   "source": [
    "@jax.jit\n",
    "def loss(thickness):\n",
    "    params = sax.set_global_params(dielectric_fabry_perot[\"default_params\"], wl=500.)\n",
    "    params[\"B\"][\"di\"] = thickness\n",
    "    params[\"air-B\"][\"nj\"] = 2.\n",
    "    params[\"B\"][\"ni\"] = 2.\n",
    "    params[\"B-air\"][\"ni\"] = 2.\n",
    "    detected = dielectric_fabry_perot[\"in\", \"out\"](params)\n",
    "    return abs(detected)**2"
   ]
  },
  {
   "cell_type": "code",
   "execution_count": null,
   "metadata": {},
   "outputs": [],
   "source": [
    "%time loss(500.)"
   ]
  },
  {
   "cell_type": "code",
   "execution_count": null,
   "metadata": {},
   "outputs": [],
   "source": [
    "grad = jax.jit(jax.grad(loss))"
   ]
  },
  {
   "cell_type": "code",
   "execution_count": null,
   "metadata": {},
   "outputs": [],
   "source": [
    "%time grad(500.)"
   ]
  },
  {
   "cell_type": "code",
   "execution_count": null,
   "metadata": {},
   "outputs": [],
   "source": [
    "initial_thickness = 500.\n",
    "optim_init, optim_update, optim_params = opt.adam(step_size=10)\n",
    "optim_state = optim_init(initial_thickness)\n",
    "\n",
    "@jax.jit\n",
    "def train_step(step, optim_state):\n",
    "    params = optim_params(optim_state)\n",
    "    lossvalue = loss(params)\n",
    "    gradvalue = grad(params)\n",
    "    optim_state = optim_update(step, gradvalue, optim_state)\n",
    "    return lossvalue, optim_state"
   ]
  },
  {
   "cell_type": "code",
   "execution_count": null,
   "metadata": {},
   "outputs": [],
   "source": [
    "range_ = tqdm.trange(1000)\n",
    "for step in range_:\n",
    "    lossvalue, optim_state = train_step(step, optim_state)\n",
    "    range_.set_postfix(loss=f\"{lossvalue:.6f}\")"
   ]
  },
  {
   "cell_type": "code",
   "execution_count": null,
   "metadata": {},
   "outputs": [],
   "source": [
    "thickness = optim_params(optim_state)\n",
    "thickness"
   ]
  },
  {
   "cell_type": "code",
   "execution_count": null,
   "metadata": {},
   "outputs": [],
   "source": [
    "params = sax.set_global_params(dielectric_fabry_perot[\"default_params\"], wl=wls)\n",
    "params[\"B\"][\"di\"] = thickness\n",
    "params[\"air-B\"][\"nj\"] = 2.\n",
    "params[\"B\"][\"ni\"] = 2.\n",
    "params[\"B-air\"][\"ni\"] = 2.\n",
    "detected = dielectric_fabry_perot[\"in\", \"out\"](params)\n",
    "\n",
    "plt.plot(wls, jnp.abs(transmitted)**2, label='Before (500 nm)')\n",
    "plt.plot(wls, jnp.abs(detected)**2, label=\"After ({} nm)\".format(thickness))\n",
    "plt.vlines(500, 0.6, 1, 'k', linestyle='--')\n",
    "plt.xlabel(\"λ [nm]\")\n",
    "plt.ylabel(\"Transmitted intensity\")\n",
    "plt.legend(loc=\"lower right\")\n",
    "plt.title(\"Thickness optimization\")\n",
    "plt.show()"
   ]
  },
  {
   "cell_type": "markdown",
   "metadata": {},
   "source": [
    "## General Fabry-Pérot étalon\n",
    "\n",
    "We reuse the propagation matrix above, and instead of simple interface matrices, model Fabry-Pérot mirrors as general lossless reciprocal scatter matrices :\n",
    "\n",
    "$$ \\left(\\begin{array}{c} \n",
    "E_t \\\\\n",
    "E_r\n",
    "\\end{array}\\right) = E_{out} = SE_{in} = \\left(\\begin{array}{cc} \n",
    "t & r \\\\\n",
    "r & t\n",
    "\\end{array}\\right) \\left(\\begin{array}{c} \n",
    "E_0 \\\\\n",
    "0\n",
    "\\end{array}\\right) $$\n",
    "\n",
    "For lossless reciprocal systems, we further have the requirements\n",
    "\n",
    "$$ |t|^2 + |r|^2 = 1 $$\n",
    "\n",
    "and\n",
    "\n",
    "$$ \\angle t - \\angle r = \\pm \\pi/2 $$\n",
    "\n",
    "The general Fabry-Pérot cavity is analytically described by :"
   ]
  },
  {
   "cell_type": "code",
   "execution_count": null,
   "metadata": {},
   "outputs": [],
   "source": [
    "# General Fabry-Pérot transfer function (Airy formulas)\n",
    "def airy_t13(t12, t23, r21, r23, wl, d=1000., n=1.):\n",
    "    '''\n",
    "    Assumptions \n",
    "    Each mirror lossless, reciprocal : tij = tji, rij = rji\n",
    "    \n",
    "    Inputs\n",
    "    t12 and r12 : S-parameters of the first mirror\n",
    "    t23 and r23 : S-parameters of the second mirror\n",
    "    wl : wavelength\n",
    "    d : gap between the two mirrors (in units of wavelength)\n",
    "    n : index of the gap between the two mirrors\n",
    "    \n",
    "    Returns\n",
    "    t13 : complex transmission amplitude of the mirror-gap-mirror system\n",
    "    '''\n",
    "    # Assume each mirror lossless, reciprocal : tij = tji, rij = rji\n",
    "    phi = n*2*jnp.pi/wl*d\n",
    "    return t12*t23*jnp.exp(-1j*phi)/( 1 - r21*r23*jnp.exp(-2j*phi) )\n",
    "\n",
    "def airy_r13(t12, t23, r21, r23, wl, d=1000., n=1.):\n",
    "    '''\n",
    "    Assumptions, inputs : see airy_t13\n",
    "    \n",
    "    Returns\n",
    "    r13 : complex reflection amplitude of the mirror-gap-mirror system\n",
    "    '''\n",
    "    phi = n*2*jnp.pi/wl*d\n",
    "    return r21 + t12*t12*r23*jnp.exp(-2j*phi)/( 1 - r21*r23*jnp.exp(-2j*phi) )"
   ]
  },
  {
   "cell_type": "markdown",
   "metadata": {},
   "source": [
    "We need to implement the relationship between $t$ and $r$ for lossless reciprocal mirrors. The design parameter will be the amplitude and phase of the tranmission coefficient. The reflection coefficient is then fully determined :"
   ]
  },
  {
   "cell_type": "code",
   "execution_count": null,
   "metadata": {},
   "outputs": [],
   "source": [
    "def t_complex(params):\n",
    "    # Transmission coefficient (design parameter)\n",
    "    return params['t_amp']*jnp.exp(-1j*params['t_ang'])\n",
    "\n",
    "def r_complex(params):\n",
    "    # Reflection coefficient, derived from transmission coefficient\n",
    "    # Magnitude from |t|^2 + |r|^2 = 1\n",
    "    # Phase from phase(t) - phase(r) = pi/2\n",
    "    r_amp = jnp.sqrt( ( 1. - params['t_amp']**2 ) )\n",
    "    r_ang = params['t_ang'] - jnp.pi/2\n",
    "    return r_amp*jnp.exp(-1j*r_ang)"
   ]
  },
  {
   "cell_type": "markdown",
   "metadata": {},
   "source": [
    "Let's see the expected result for half-mirrors :"
   ]
  },
  {
   "cell_type": "code",
   "execution_count": null,
   "metadata": {},
   "outputs": [],
   "source": [
    "t_initial = jnp.sqrt(0.5)\n",
    "d_gap = 2000.\n",
    "n_gap = 1.\n",
    "params_analytical_test = {\"t_amp\": t_initial, \"t_ang\": 0.0}\n",
    "r_initial = r_complex(params_analytical_test)\n",
    "\n",
    "wls = jnp.linspace(380, 780, 500)\n",
    "\n",
    "T_analytical_initial = jnp.abs(airy_t13(t_initial, t_initial, r_initial, r_initial, wls, d=d_gap, n=n_gap))**2\n",
    "R_analytical_initial = jnp.abs(airy_r13(t_initial, t_initial, r_initial, r_initial, wls, d=d_gap, n=n_gap))**2\n",
    "\n",
    "plt.title(f't={t_initial:1.3f}, d={d_gap} nm, n={n_gap}')\n",
    "plt.plot(2*jnp.pi/wls, T_analytical_initial, label='T')\n",
    "plt.plot(2*jnp.pi/wls, R_analytical_initial, label='R')\n",
    "plt.vlines(jnp.arange(6,11)*jnp.pi/2000, ymin=0, ymax=1, color='k', linestyle='--', label='m$\\pi$/nd')\n",
    "plt.xlabel('k = 2$\\pi$/$\\lambda$ (/nm)')\n",
    "plt.ylabel('Power (units of input)')\n",
    "plt.legend()\n",
    "plt.show()\n",
    "\n",
    "plt.title(f't={t_initial:1.3f}, d={d_gap} nm, n={n_gap}')\n",
    "plt.plot(wls, T_analytical_initial, label='T')\n",
    "plt.plot(wls, R_analytical_initial, label='R')\n",
    "plt.xlabel('$\\lambda$ (nm)')\n",
    "plt.ylabel('Power (units of input)')\n",
    "plt.legend()"
   ]
  },
  {
   "cell_type": "code",
   "execution_count": null,
   "metadata": {},
   "outputs": [],
   "source": [
    "# Is power conserved? (to within 0.1%)\n",
    "assert jnp.isclose(R_analytical_initial + T_analytical_initial, 1, 0.001).all()"
   ]
  },
  {
   "cell_type": "markdown",
   "metadata": {},
   "source": [
    "Now let's do the same with SAX by defining new elements :"
   ]
  },
  {
   "cell_type": "code",
   "execution_count": null,
   "metadata": {},
   "outputs": [],
   "source": [
    "mirror = {\n",
    "    (\"in\", \"in\"): r_complex,\n",
    "    (\"in\", \"out\"): t_complex,\n",
    "    (\"out\", \"in\"): t_complex, # lambda params: (1 - r_complex(params)**2)/t_complex(params), # t_ji,\n",
    "    (\"out\", \"out\"): r_complex, # lambda params: -1*r_complex(params), # r_ji,\n",
    "    \"default_params\": {\n",
    "        \"t_amp\": jnp.sqrt(0.5),\n",
    "        \"t_ang\": 0.0,\n",
    "    }\n",
    "}\n",
    "\n",
    "fabry_perot_tunable = sax.circuit(\n",
    "    models = {\n",
    "        \"mirror1\": mirror,\n",
    "        \"gap\": propagation_i,\n",
    "        \"mirror2\": mirror,\n",
    "    },\n",
    "    connections={\n",
    "        \"mirror1:out\": \"gap:in\",\n",
    "        \"gap:out\": \"mirror2:in\",\n",
    "    },\n",
    "    ports={\n",
    "        \"mirror1:in\": \"in\",\n",
    "        \"mirror2:out\": \"out\",\n",
    "    },\n",
    ")\n",
    "\n",
    "params = fabry_perot_tunable[\"default_params\"]\n",
    "params = sax.copy_params(params)\n",
    "params"
   ]
  },
  {
   "cell_type": "code",
   "execution_count": null,
   "metadata": {},
   "outputs": [],
   "source": [
    "fabry_perot_tunable = sax.circuit(\n",
    "    models = {\n",
    "        \"mirror1\": mirror,\n",
    "        \"gap\": propagation_i,\n",
    "        \"mirror2\": mirror,\n",
    "    },\n",
    "    connections={\n",
    "        \"mirror1:out\": \"gap:in\",\n",
    "        \"gap:out\": \"mirror2:in\",\n",
    "    },\n",
    "    ports={\n",
    "        \"mirror1:in\": \"in\",\n",
    "        \"mirror2:out\": \"out\",\n",
    "    },\n",
    ")\n",
    "\n",
    "params = fabry_perot_tunable[\"default_params\"]\n",
    "params = sax.copy_params(params)\n",
    "params"
   ]
  },
  {
   "cell_type": "code",
   "execution_count": null,
   "metadata": {},
   "outputs": [],
   "source": [
    "N = 100\n",
    "wls = jnp.linspace(380, 780, N)\n",
    "params = sax.copy_params(fabry_perot_tunable[\"default_params\"])\n",
    "params = sax.set_global_params(params, wl=wls)\n",
    "params = sax.set_global_params(params, t_amp=jnp.sqrt(0.5))\n",
    "params = sax.set_global_params(params, t_ang=0.0)\n",
    "params[\"gap\"][\"ni\"] = 1.\n",
    "params[\"gap\"][\"di\"] = 2000.\n",
    "transmitted_initial = fabry_perot_tunable[\"in\",\"out\"](params)\n",
    "reflected_initial = fabry_perot_tunable[\"out\",\"out\"](params)"
   ]
  },
  {
   "cell_type": "code",
   "execution_count": null,
   "metadata": {},
   "outputs": [],
   "source": [
    "T_analytical_initial = jnp.abs(airy_t13(t_initial, t_initial, r_initial, r_initial, wls, d=d_gap, n=n_gap))**2\n",
    "R_analytical_initial = jnp.abs(airy_r13(t_initial, t_initial, r_initial, r_initial, wls, d=d_gap, n=n_gap))**2\n",
    "\n",
    "plt.title(f't={t_initial:1.3f}, d={d_gap} nm, n={n_gap}')\n",
    "plt.plot(wls, T_analytical_initial, label='T theory')\n",
    "plt.scatter(wls, jnp.abs(transmitted_initial)**2, label='T SAX')\n",
    "plt.plot(wls, R_analytical_initial, label='R theory')\n",
    "plt.scatter(wls, jnp.abs(reflected_initial)**2, label='R SAX')\n",
    "#plt.vlines(jnp.arange(6,11)*jnp.pi/2000, ymin=0, ymax=1, color='k', linestyle='--', label='m$\\pi$/nd')\n",
    "plt.xlabel('k = 2$\\pi$/$\\lambda$ (/nm)')\n",
    "plt.ylabel('Power (units of input)')\n",
    "plt.legend()\n",
    "plt.show()"
   ]
  },
  {
   "cell_type": "markdown",
   "metadata": {},
   "source": [
    "## Wavelength-dependent Fabry-Pérot étalon\n",
    "\n",
    "Let's repeat with a model where parameters can be wavelength-dependent. To comply with the optimizer object, we will stack all design parameters in a single array :"
   ]
  },
  {
   "cell_type": "code",
   "execution_count": null,
   "metadata": {},
   "outputs": [],
   "source": [
    "ts_initial = jnp.zeros(2*N)\n",
    "ts_initial = jax.ops.index_update(ts_initial, jax.ops.index[0:N], jnp.sqrt(0.5))"
   ]
  },
  {
   "cell_type": "markdown",
   "metadata": {},
   "source": [
    "We will simply loop over all wavelengths, and use different $t$ parameters at each wavelength."
   ]
  },
  {
   "cell_type": "code",
   "execution_count": null,
   "metadata": {},
   "outputs": [],
   "source": [
    "wls = jnp.linspace(380, 780, N)\n",
    "transmitted = jnp.zeros_like(wls)\n",
    "reflected = jnp.zeros_like(wls)\n",
    "\n",
    "for i in range(N):\n",
    "    # Update parameters\n",
    "    params = sax.copy_params(fabry_perot_tunable[\"default_params\"])\n",
    "    params = sax.set_global_params(params, wl=wls[i])\n",
    "    params = sax.set_global_params(params, t_amp=ts_initial[i])\n",
    "    params = sax.set_global_params(params, t_ang=ts_initial[N+i])\n",
    "    params[\"gap\"][\"ni\"] = 1.\n",
    "    params[\"gap\"][\"di\"] = 2000.\n",
    "    # Perform computation\n",
    "    transmission_i = fabry_perot_tunable[\"in\",\"out\"](params)\n",
    "    transmitted = jax.ops.index_update(transmitted, jax.ops.index[i], jnp.abs(transmission_i)**2)\n",
    "    reflected_i = fabry_perot_tunable[\"in\",\"in\"](params)\n",
    "    reflected = jax.ops.index_update(reflected, jax.ops.index[i], jnp.abs(reflected_i)**2)"
   ]
  },
  {
   "cell_type": "code",
   "execution_count": null,
   "metadata": {},
   "outputs": [],
   "source": [
    "plt.plot(wls, T_analytical_initial, label='T theory')\n",
    "plt.scatter(wls, transmitted, label='T SAX')\n",
    "plt.plot(wls, R_analytical_initial, label='R theory')\n",
    "plt.scatter(wls, reflected, label='R SAX')\n",
    "plt.xlabel(\"λ [nm]\")\n",
    "plt.ylabel(\"Transmitted and reflected intensities\")\n",
    "plt.legend(loc=\"upper right\")\n",
    "plt.title(f't={t_initial:1.3f}, d={d_gap} nm, n={n_gap}')\n",
    "plt.show()"
   ]
  },
  {
   "cell_type": "markdown",
   "metadata": {},
   "source": [
    "Since it seems to work, let's add a target and optimize some harmonics away :"
   ]
  },
  {
   "cell_type": "code",
   "execution_count": null,
   "metadata": {},
   "outputs": [],
   "source": [
    "def lorentzian(l0, dl, wl, A):\n",
    "    return A/((wl - l0)**2 + (0.5*dl)**2)\n",
    "\n",
    "target = lorentzian(533, 20, wls, 100)\n",
    "\n",
    "plt.scatter(wls, transmitted, label='T SAX')\n",
    "plt.scatter(wls, reflected, label='R SAX')\n",
    "plt.plot(wls, target, 'r', linewidth=2, label='target')\n",
    "plt.xlabel(\"λ [nm]\")\n",
    "plt.ylabel(\"Transmitted and reflected intensities\")\n",
    "plt.legend(loc=\"upper right\")\n",
    "plt.title(f't={t_initial:1.3f}, d={d_gap} nm, n={n_gap}')\n",
    "plt.show()"
   ]
  },
  {
   "cell_type": "markdown",
   "metadata": {},
   "source": [
    "Defining the loss as the mean squared error between transmission and target transmission. Note that we can use JAX's looping functions to great speedups after compilation here :"
   ]
  },
  {
   "cell_type": "code",
   "execution_count": null,
   "metadata": {},
   "outputs": [],
   "source": [
    "@jax.jit\n",
    "def loss(ts):\n",
    "\n",
    "    N = len(ts[::2])\n",
    "    wls = jnp.linspace(380, 780, N)\n",
    "    transmitted = jnp.zeros_like(wls)\n",
    "    target = lorentzian(533, 20, wls, 100)\n",
    "    \n",
    "    def inner_loop(transmitted, i):\n",
    "        # Update parameters\n",
    "        params = sax.copy_params(fabry_perot_tunable[\"default_params\"])\n",
    "        params = sax.set_global_params(params, wl=wls[i])\n",
    "        params = sax.set_global_params(params, t_amp=ts[i])\n",
    "        params = sax.set_global_params(params, t_ang=ts[N+i])\n",
    "        params[\"gap\"][\"ni\"] = 1.\n",
    "        params[\"gap\"][\"di\"] = 2000.\n",
    "        # Perform computation\n",
    "        transmission_i = fabry_perot_tunable[\"in\",\"out\"](params)\n",
    "        transmitted = jax.ops.index_update(transmitted, jax.ops.index[i], jnp.abs(transmission_i)**2)\n",
    "        return transmitted, i\n",
    "\n",
    "    transmitted, _ = jax.lax.scan(inner_loop, transmitted, jnp.arange(N, dtype=jnp.int32))\n",
    "        \n",
    "    return (jnp.abs(transmitted - target)**2).mean()"
   ]
  },
  {
   "cell_type": "code",
   "execution_count": null,
   "metadata": {},
   "outputs": [],
   "source": [
    "grad = jax.jit(jax.grad(loss))"
   ]
  },
  {
   "cell_type": "code",
   "execution_count": null,
   "metadata": {},
   "outputs": [],
   "source": [
    "optim_init, optim_update, optim_params = opt.adam(step_size=0.001)\n",
    "\n",
    "@jax.jit\n",
    "def train_step(step, optim_state):\n",
    "    params = optim_params(optim_state)\n",
    "    lossvalue = loss(params)\n",
    "    gradvalue = grad(params)\n",
    "    optim_state = optim_update(step, gradvalue, optim_state)\n",
    "    return lossvalue, optim_state"
   ]
  },
  {
   "cell_type": "code",
   "execution_count": null,
   "metadata": {},
   "outputs": [],
   "source": [
    "range_ = tqdm.trange(2000)\n",
    "\n",
    "optim_state = optim_init(ts_initial)\n",
    "for step in range_:\n",
    "    lossvalue, optim_state = train_step(step, optim_state)\n",
    "    range_.set_postfix(loss=f\"{lossvalue:.6f}\")"
   ]
  },
  {
   "cell_type": "markdown",
   "metadata": {},
   "source": [
    "The optimized parameters are now wavelength-dependent :"
   ]
  },
  {
   "cell_type": "code",
   "execution_count": null,
   "metadata": {},
   "outputs": [],
   "source": [
    "ts_optimal = optim_params(optim_state)\n",
    "\n",
    "plt.scatter(wls, ts_initial[:N], label='t initial')\n",
    "plt.scatter(wls, ts_optimal[:N], label='t optimal')\n",
    "plt.xlabel(\"λ [nm]\")\n",
    "plt.ylabel(\"|t| $(\\lambda)$\")\n",
    "plt.legend(loc=\"best\")\n",
    "plt.title(f'd={d_gap} nm, n={n_gap}')\n",
    "plt.show()\n",
    "\n",
    "plt.scatter(wls, ts_initial[N:], label='t initial')\n",
    "plt.scatter(wls, ts_optimal[N:], label='t optimal')\n",
    "plt.xlabel(\"λ [nm]\")\n",
    "plt.ylabel(\"angle $t (\\lambda)$ (rad)\")\n",
    "plt.legend(loc=\"best\")\n",
    "plt.title(f'd={d_gap} nm, n={n_gap}')\n",
    "plt.show()"
   ]
  },
  {
   "cell_type": "markdown",
   "metadata": {},
   "source": [
    "Visualizing the result :"
   ]
  },
  {
   "cell_type": "code",
   "execution_count": null,
   "metadata": {},
   "outputs": [],
   "source": [
    "wls = jnp.linspace(380, 780, N)\n",
    "transmitted_optimal = jnp.zeros_like(wls)\n",
    "reflected_optimal = jnp.zeros_like(wls)\n",
    "\n",
    "for i in range(N):\n",
    "    # Update parameters\n",
    "    params = sax.copy_params(fabry_perot_tunable[\"default_params\"])\n",
    "    params = sax.set_global_params(params, wl=wls[i])\n",
    "    params = sax.set_global_params(params, t_amp=ts_optimal[i])\n",
    "    params = sax.set_global_params(params, t_ang=ts_optimal[N+i])\n",
    "    params[\"gap\"][\"ni\"] = 1.\n",
    "    params[\"gap\"][\"di\"] = 2000.\n",
    "    # Perform computation\n",
    "    transmission_i = fabry_perot_tunable[\"in\",\"out\"](params)\n",
    "    transmitted_optimal = jax.ops.index_update(transmitted_optimal, jax.ops.index[i], jnp.abs(transmission_i)**2)\n",
    "    reflected_i = fabry_perot_tunable[\"in\",\"in\"](params)\n",
    "    reflected_optimal = jax.ops.index_update(reflected_optimal, jax.ops.index[i], jnp.abs(reflected_i)**2)"
   ]
  },
  {
   "cell_type": "code",
   "execution_count": null,
   "metadata": {},
   "outputs": [],
   "source": [
    "plt.scatter(wls, transmitted_optimal, label='T')\n",
    "plt.scatter(wls, reflected_optimal, label='R')\n",
    "plt.plot(wls, lorentzian(533, 20, wls, 100), 'r', label='target')\n",
    "plt.xlabel(\"λ [nm]\")\n",
    "plt.ylabel(\"Transmitted and reflected intensities\")\n",
    "plt.legend(loc=\"upper right\")\n",
    "plt.title(f'Optimized t($\\lambda$), d={d_gap} nm, n={n_gap}')\n",
    "plt.show()"
   ]
  },
  {
   "cell_type": "markdown",
   "metadata": {},
   "source": [
    "The hard part is now to find physical stacks that physically implement $t(\\lambda)$. However, the ease with which we can modify and complexify the loss function opens opportunities for regularization and more complicated objective functions.\n",
    "\n",
    "The models above are available in models.thin_film, and can straightforwardly be extended to propagation at an angle, s and p polarizations, nonreciprocal systems, and systems with losses."
   ]
  }
 ],
 "metadata": {
  "kernelspec": {
   "display_name": "",
   "language": "python",
   "name": ""
  },
  "language_info": {
   "codemirror_mode": {
    "name": "ipython",
    "version": 3
   },
   "file_extension": ".py",
   "mimetype": "text/x-python",
   "name": "python",
   "nbconvert_exporter": "python",
   "pygments_lexer": "ipython3",
   "version": "3.7.9"
  }
 },
 "nbformat": 4,
 "nbformat_minor": 4
}
