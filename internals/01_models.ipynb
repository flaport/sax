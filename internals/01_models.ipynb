{
 "cells": [
  {
   "cell_type": "markdown",
   "id": "986cb864",
   "metadata": {
    "papermill": {
     "duration": 0.018089,
     "end_time": "2025-02-27T06:31:26.576453",
     "exception": false,
     "start_time": "2025-02-27T06:31:26.558364",
     "status": "completed"
    },
    "tags": []
   },
   "source": [
    "# Models and Model Factories\n",
    "\n",
    "> Default SAX Models"
   ]
  },
  {
   "cell_type": "code",
   "execution_count": null,
   "id": "3f208d18-cef7-4668-b532-6487912ecd17",
   "metadata": {
    "papermill": {
     "duration": 2.579066,
     "end_time": "2025-02-27T06:31:29.169438",
     "exception": false,
     "start_time": "2025-02-27T06:31:26.590372",
     "status": "completed"
    },
    "tags": []
   },
   "outputs": [],
   "source": [
    "import sax"
   ]
  },
  {
   "cell_type": "markdown",
   "id": "6905a550-61ed-4557-8cd5-d8a6e6ca5c0f",
   "metadata": {
    "papermill": {
     "duration": 0.006961,
     "end_time": "2025-02-27T06:31:29.183864",
     "exception": false,
     "start_time": "2025-02-27T06:31:29.176903",
     "status": "completed"
    },
    "tags": []
   },
   "source": [
    "## Simple Models"
   ]
  },
  {
   "cell_type": "code",
   "execution_count": null,
   "id": "a99cec57",
   "metadata": {
    "papermill": {
     "duration": 0.104224,
     "end_time": "2025-02-27T06:31:29.294968",
     "exception": false,
     "start_time": "2025-02-27T06:31:29.190744",
     "status": "completed"
    },
    "tags": []
   },
   "outputs": [],
   "source": [
    "sax.models.straight()"
   ]
  },
  {
   "cell_type": "code",
   "execution_count": null,
   "id": "5fd87a22",
   "metadata": {
    "papermill": {
     "duration": 0.033595,
     "end_time": "2025-02-27T06:31:29.335964",
     "exception": false,
     "start_time": "2025-02-27T06:31:29.302369",
     "status": "completed"
    },
    "tags": []
   },
   "outputs": [],
   "source": [
    "sax.models.coupler()"
   ]
  },
  {
   "cell_type": "markdown",
   "id": "ca06c12f",
   "metadata": {
    "papermill": {
     "duration": 0.113775,
     "end_time": "2025-02-27T06:31:29.559210",
     "exception": false,
     "start_time": "2025-02-27T06:31:29.445435",
     "status": "completed"
    },
    "tags": []
   },
   "source": [
    "## Model Factories"
   ]
  },
  {
   "cell_type": "markdown",
   "id": "327febf2-70d5-48ed-8b39-bac2d9727db5",
   "metadata": {
    "papermill": {
     "duration": 0.007146,
     "end_time": "2025-02-27T06:31:29.574270",
     "exception": false,
     "start_time": "2025-02-27T06:31:29.567124",
     "status": "completed"
    },
    "tags": []
   },
   "source": [
    "A unitary model returns an `SCoo` by default:"
   ]
  },
  {
   "cell_type": "code",
   "execution_count": null,
   "id": "e95bacdd",
   "metadata": {
    "papermill": {
     "duration": 1.661939,
     "end_time": "2025-02-27T06:31:31.243654",
     "exception": false,
     "start_time": "2025-02-27T06:31:29.581715",
     "status": "completed"
    },
    "tags": []
   },
   "outputs": [],
   "source": [
    "unitary_model = sax.models.unitary(2, 2)\n",
    "unitary_model()  # a unitary model returns an SCoo by default"
   ]
  },
  {
   "cell_type": "markdown",
   "id": "01ff2567-9b0e-4686-acb4-47cfb11b06ce",
   "metadata": {
    "papermill": {
     "duration": 0.070152,
     "end_time": "2025-02-27T06:31:31.317862",
     "exception": false,
     "start_time": "2025-02-27T06:31:31.247710",
     "status": "completed"
    },
    "tags": []
   },
   "source": [
    "As you probably already know, it's very easy to convert a model returning any `Stype` into a model returning an `SDict` as follows:"
   ]
  },
  {
   "cell_type": "code",
   "execution_count": null,
   "id": "260dda8c-7e44-4f3f-b96c-e742daaf2885",
   "metadata": {
    "papermill": {
     "duration": 0.072767,
     "end_time": "2025-02-27T06:31:31.395656",
     "exception": false,
     "start_time": "2025-02-27T06:31:31.322889",
     "status": "completed"
    },
    "tags": []
   },
   "outputs": [],
   "source": [
    "unitary_sdict_model = sax.sdict(unitary_model)\n",
    "unitary_sdict_model()"
   ]
  },
  {
   "cell_type": "markdown",
   "id": "e9a1a46b-b10a-471b-b835-7b6d8d49175a",
   "metadata": {
    "papermill": {
     "duration": 0.004289,
     "end_time": "2025-02-27T06:31:31.406429",
     "exception": false,
     "start_time": "2025-02-27T06:31:31.402140",
     "status": "completed"
    },
    "tags": []
   },
   "source": [
    "If we need custom port names, we can also just specify them explicitly:"
   ]
  },
  {
   "cell_type": "code",
   "execution_count": null,
   "id": "66abe9b0",
   "metadata": {
    "papermill": {
     "duration": 0.040154,
     "end_time": "2025-02-27T06:31:31.450558",
     "exception": false,
     "start_time": "2025-02-27T06:31:31.410404",
     "status": "completed"
    },
    "tags": []
   },
   "outputs": [],
   "source": [
    "unitary_model = sax.models.unitary(ports=(\"in0\", \"in1\", \"out0\", \"out1\"))\n",
    "unitary_model()"
   ]
  },
  {
   "cell_type": "markdown",
   "id": "ebf14c1c-ccfb-44e6-8572-18b366ffab91",
   "metadata": {
    "papermill": {
     "duration": 0.003943,
     "end_time": "2025-02-27T06:31:31.461056",
     "exception": false,
     "start_time": "2025-02-27T06:31:31.457113",
     "status": "completed"
    },
    "tags": []
   },
   "source": [
    "A unitary model will by default split a signal at an input port equally over all output ports. However, if there are an equal number of input ports as output ports we can in stead create a passthru by setting the `diagonal` flag to `True`:"
   ]
  },
  {
   "cell_type": "code",
   "execution_count": null,
   "id": "7c1d61a3",
   "metadata": {
    "papermill": {
     "duration": 0.478709,
     "end_time": "2025-02-27T06:31:31.943733",
     "exception": false,
     "start_time": "2025-02-27T06:31:31.465024",
     "status": "completed"
    },
    "tags": []
   },
   "outputs": [],
   "source": [
    "passthru_model = sax.models.unitary(2, 2, diagonal=True)\n",
    "sax.sdict(passthru_model())"
   ]
  },
  {
   "cell_type": "code",
   "execution_count": null,
   "id": "7f93b145",
   "metadata": {
    "papermill": {
     "duration": 1.193046,
     "end_time": "2025-02-27T06:31:33.144730",
     "exception": false,
     "start_time": "2025-02-27T06:31:31.951684",
     "status": "completed"
    },
    "tags": []
   },
   "outputs": [],
   "source": [
    "ports_in = [\"in0\"]\n",
    "ports_out = [\"out0\", \"out1\", \"out2\", \"out3\", \"out4\"]\n",
    "model = sax.models.unitary(ports=tuple(ports_in + ports_out), jit=True, reciprocal=True)\n",
    "model = sax.sdict(model)\n",
    "model()"
   ]
  },
  {
   "cell_type": "markdown",
   "id": "8b149d44-5487-4e50-a2f2-1ad0aca99dac",
   "metadata": {
    "papermill": {
     "duration": 0.003722,
     "end_time": "2025-02-27T06:31:33.152267",
     "exception": false,
     "start_time": "2025-02-27T06:31:33.148545",
     "status": "completed"
    },
    "tags": []
   },
   "source": [
    "Because this is a pretty common usecase we have a dedicated model factory for this as well. This passthru component just takes the number of links (`'in{i}' -> 'out{i]'`) as input. Alternatively, as before, one can also specify the port names directly but one needs to ensure that `len(ports) == 2*num_links`."
   ]
  },
  {
   "cell_type": "code",
   "execution_count": null,
   "id": "9e8b6cd7-56d4-4697-9a6e-33c929f3d853",
   "metadata": {
    "papermill": {
     "duration": 0.693951,
     "end_time": "2025-02-27T06:31:33.849894",
     "exception": false,
     "start_time": "2025-02-27T06:31:33.155943",
     "status": "completed"
    },
    "tags": []
   },
   "outputs": [],
   "source": [
    "passthru_model = sax.passthru(3)\n",
    "passthru_sdict_model = sax.sdict(passthru_model)\n",
    "passthru_sdict_model()"
   ]
  },
  {
   "cell_type": "code",
   "execution_count": null,
   "id": "690e718c-2d84-4177-b8ad-ff39cf8c4691",
   "metadata": {
    "papermill": {
     "duration": 1.80556,
     "end_time": "2025-02-27T06:31:35.660269",
     "exception": false,
     "start_time": "2025-02-27T06:31:33.854709",
     "status": "completed"
    },
    "tags": []
   },
   "outputs": [],
   "source": [
    "mzi, _ = sax.circuit(\n",
    "    netlist={\n",
    "        \"instances\": {\n",
    "            \"lft\": \"u12\",\n",
    "            \"top\": \"u11\",\n",
    "            \"rgt\": \"u12\",\n",
    "        },\n",
    "        \"connections\": {\n",
    "            \"lft,out0\": \"rgt,out0\",\n",
    "            \"lft,out1\": \"top,in0\",\n",
    "            \"top,out0\": \"rgt,out1\",\n",
    "        },\n",
    "        \"ports\": {\n",
    "            \"in0\": \"lft,in0\",\n",
    "            \"out0\": \"rgt,in0\",\n",
    "        },\n",
    "    },\n",
    "    models={\n",
    "        \"u12\": sax.models.unitary(1, 2),\n",
    "        \"u11\": sax.models.unitary(1, 1),\n",
    "    },\n",
    ")\n",
    "mzi()"
   ]
  },
  {
   "cell_type": "markdown",
   "id": "77014d0f-1a08-4b4b-a011-cf11cd9684b8",
   "metadata": {
    "papermill": {
     "duration": 0.004254,
     "end_time": "2025-02-27T06:31:35.669198",
     "exception": false,
     "start_time": "2025-02-27T06:31:35.664944",
     "status": "completed"
    },
    "tags": []
   },
   "source": [
    "A copier model is like a unitary model, but copies the input signal over all output signals. Hence, if the model has multiple output ports, this model can be considered to introduce gain. That said, it can sometimes be a useful component."
   ]
  },
  {
   "cell_type": "code",
   "execution_count": null,
   "id": "c2a61a9f-51ea-455f-a66f-94719b43520e",
   "metadata": {
    "papermill": {
     "duration": 0.039288,
     "end_time": "2025-02-27T06:31:35.712707",
     "exception": false,
     "start_time": "2025-02-27T06:31:35.673419",
     "status": "completed"
    },
    "tags": []
   },
   "outputs": [],
   "source": [
    "copier_model = sax.models.copier(2, 2)\n",
    "copier_model()  # a copier model returns an SCoo by default"
   ]
  },
  {
   "cell_type": "markdown",
   "id": "fbd51c6c-c059-4717-9dae-447becc7e8d5",
   "metadata": {
    "papermill": {
     "duration": 0.005517,
     "end_time": "2025-02-27T06:31:35.726736",
     "exception": false,
     "start_time": "2025-02-27T06:31:35.721219",
     "status": "completed"
    },
    "tags": []
   },
   "source": [
    "As you probably already know, it's very easy to convert a model returning any `Stype` into a model returning an `SDict` as follows:"
   ]
  },
  {
   "cell_type": "code",
   "execution_count": null,
   "id": "becda099-b5d9-494c-a6b2-9828be10c4a5",
   "metadata": {
    "papermill": {
     "duration": 0.021726,
     "end_time": "2025-02-27T06:31:35.753601",
     "exception": false,
     "start_time": "2025-02-27T06:31:35.731875",
     "status": "completed"
    },
    "tags": []
   },
   "outputs": [],
   "source": [
    "copier_sdict_model = sax.sdict(copier_model)\n",
    "copier_sdict_model()"
   ]
  },
  {
   "cell_type": "markdown",
   "id": "1ad16d1b-f685-4ab9-a8c4-41efbbdae4fa",
   "metadata": {
    "papermill": {
     "duration": 0.005315,
     "end_time": "2025-02-27T06:31:35.766096",
     "exception": false,
     "start_time": "2025-02-27T06:31:35.760781",
     "status": "completed"
    },
    "tags": []
   },
   "source": [
    "If we need custom port names, we can also just specify them explicitly:"
   ]
  },
  {
   "cell_type": "code",
   "execution_count": null,
   "id": "297d1e45-b881-440b-b887-b38c5517596e",
   "metadata": {
    "papermill": {
     "duration": 0.041951,
     "end_time": "2025-02-27T06:31:35.812766",
     "exception": false,
     "start_time": "2025-02-27T06:31:35.770815",
     "status": "completed"
    },
    "tags": []
   },
   "outputs": [],
   "source": [
    "copier_model = sax.models.copier(ports=(\"in0\", \"in1\", \"out0\", \"out1\"))\n",
    "copier_model()"
   ]
  },
  {
   "cell_type": "code",
   "execution_count": null,
   "id": "608d7114-03ac-4f5f-9790-cf65379d81dd",
   "metadata": {
    "papermill": {
     "duration": 0.02865,
     "end_time": "2025-02-27T06:31:35.847182",
     "exception": false,
     "start_time": "2025-02-27T06:31:35.818532",
     "status": "completed"
    },
    "tags": []
   },
   "outputs": [],
   "source": [
    "ports_in = [\"in0\"]\n",
    "ports_out = [\"out0\", \"out1\", \"out2\", \"out3\", \"out4\"]\n",
    "model = sax.models.unitary(ports=tuple(ports_in + ports_out), jit=True, reciprocal=True)\n",
    "model = sax.sdict(model)\n",
    "model()"
   ]
  },
  {
   "cell_type": "markdown",
   "id": "6d024e5b-95a9-44e5-9dbc-4980249e73a7",
   "metadata": {
    "papermill": {
     "duration": 0.006627,
     "end_time": "2025-02-27T06:31:35.858738",
     "exception": false,
     "start_time": "2025-02-27T06:31:35.852111",
     "status": "completed"
    },
    "tags": []
   },
   "source": [
    "Because this is a pretty common usecase we have a dedicated model factory for this as well. This passthru component just takes the number of links (`'in{i}' -> 'out{i]'`) as input. Alternatively, as before, one can also specify the port names directly but one needs to ensure that `len(ports) == 2*num_links`."
   ]
  },
  {
   "cell_type": "code",
   "execution_count": null,
   "id": "4a063810-224b-446c-a59d-12a20b56e82e",
   "metadata": {
    "papermill": {
     "duration": 0.020845,
     "end_time": "2025-02-27T06:31:35.886901",
     "exception": false,
     "start_time": "2025-02-27T06:31:35.866056",
     "status": "completed"
    },
    "tags": []
   },
   "outputs": [],
   "source": [
    "passthru_model = sax.models.passthru(3)\n",
    "passthru_sdict_model = sax.sdict(passthru_model)\n",
    "passthru_sdict_model()"
   ]
  },
  {
   "cell_type": "markdown",
   "id": "e56f2f41-776f-4b53-98c3-dee702326093",
   "metadata": {
    "papermill": {
     "duration": 0.006619,
     "end_time": "2025-02-27T06:31:35.900478",
     "exception": false,
     "start_time": "2025-02-27T06:31:35.893859",
     "status": "completed"
    },
    "tags": []
   },
   "source": [
    "## All Models"
   ]
  },
  {
   "cell_type": "code",
   "execution_count": null,
   "id": "52ae2f93-6190-4c24-9120-f95f3f61baa8",
   "metadata": {
    "papermill": {
     "duration": 0.022008,
     "end_time": "2025-02-27T06:31:35.933145",
     "exception": false,
     "start_time": "2025-02-27T06:31:35.911137",
     "status": "completed"
    },
    "tags": []
   },
   "outputs": [],
   "source": [
    "sax.models.models"
   ]
  }
 ],
 "metadata": {
  "kernelspec": {
   "display_name": "Python 3 (ipykernel)",
   "language": "python",
   "name": "python3"
  },
  "language_info": {
   "codemirror_mode": {
    "name": "ipython",
    "version": 3
   },
   "file_extension": ".py",
   "mimetype": "text/x-python",
   "name": "python",
   "nbconvert_exporter": "python",
   "pygments_lexer": "ipython3",
   "version": "3.12.6"
  },
  "papermill": {
   "default_parameters": {},
   "duration": 11.738924,
   "end_time": "2025-02-27T06:31:37.069002",
   "environment_variables": {},
   "exception": null,
   "input_path": "internals/01_models.ipynb",
   "output_path": "internals/01_models.ipynb",
   "parameters": {},
   "start_time": "2025-02-27T06:31:25.330078",
   "version": "2.6.0"
  }
 },
 "nbformat": 4,
 "nbformat_minor": 5
}
