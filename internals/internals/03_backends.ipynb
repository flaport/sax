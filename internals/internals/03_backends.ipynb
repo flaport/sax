{
 "cells": [
  {
   "cell_type": "markdown",
   "id": "41e0d311",
   "metadata": {
    "papermill": {
     "duration": 0.061032,
     "end_time": "2025-02-27T06:31:26.620725",
     "exception": false,
     "start_time": "2025-02-27T06:31:26.559693",
     "status": "completed"
    },
    "tags": []
   },
   "source": [
    "# Backends\n",
    "\n",
    "> SAX Backends"
   ]
  },
  {
   "cell_type": "code",
   "execution_count": null,
   "id": "38d7e3b6-83cb-4768-8401-075260456fc9",
   "metadata": {
    "papermill": {
     "duration": 2.994531,
     "end_time": "2025-02-27T06:31:29.655624",
     "exception": false,
     "start_time": "2025-02-27T06:31:26.661093",
     "status": "completed"
    },
    "tags": []
   },
   "outputs": [],
   "source": [
    "import jax\n",
    "import jax.numpy as jnp\n",
    "import klujax\n",
    "import networkx as nx\n",
    "import sax"
   ]
  },
  {
   "cell_type": "markdown",
   "id": "ac34f260-6473-4484-a2ad-dc38e3f37c46",
   "metadata": {
    "papermill": {
     "duration": 0.055344,
     "end_time": "2025-02-27T06:31:29.727046",
     "exception": false,
     "start_time": "2025-02-27T06:31:29.671702",
     "status": "completed"
    },
    "tags": []
   },
   "source": [
    "## Introduction"
   ]
  },
  {
   "cell_type": "markdown",
   "id": "fbb157f0-f28b-47fc-a734-fb7181207487",
   "metadata": {
    "papermill": {
     "duration": 0.48062,
     "end_time": "2025-02-27T06:31:30.223356",
     "exception": false,
     "start_time": "2025-02-27T06:31:29.742736",
     "status": "completed"
    },
    "tags": []
   },
   "source": [
    "SAX allows to easily interchange the backend of a circuit. A SAX backend consists of two static analysis steps and an evaluation step:\n",
    "\n",
    "```{eval-rst}\n",
    ".. autofunction:: sax.backends.analyze_instances\n",
    "```\n",
    "\n",
    "```{eval-rst}\n",
    ".. autofunction:: sax.backends.analyze_circuit\n",
    "```\n",
    "\n",
    "```{eval-rst}\n",
    ".. autofunction:: sax.backends.evaluate_circuit\n",
    "```"
   ]
  },
  {
   "cell_type": "markdown",
   "id": "26efaa95-54e4-4f31-8ea8-0139a470fa74",
   "metadata": {
    "papermill": {
     "duration": 0.015977,
     "end_time": "2025-02-27T06:31:30.447443",
     "exception": false,
     "start_time": "2025-02-27T06:31:30.431466",
     "status": "completed"
    },
    "tags": []
   },
   "source": [
    "The `analyze_instances` step analyzes the 'shape' of the instances by running each model with default parameters. By shape we mean which port-combinations are present in the sparse S-matrix.\n",
    "\n",
    ":::{warning}\n",
    "QUESTION: can we do this more efficiently in a functional way?\n",
    ":::\n",
    "\n",
    "After analyzing the instances, it is assumed that the shape of the instance won't change any more. **It is therefore important that you write your model functions in such a way that the port combinations present in your s-matrix *never* changes!**\n",
    "\n",
    ":::{note}\n",
    "we used to do this analysis step in `analyze_circuit` by just looking at the connections present. However, this inherently assumed dense connectivity within the model. This is pretty inefficient for large sparse models with many ports. Ideally, however, we should be able to analyze the shape of our instances without running their models with default parameters...\n",
    ":::"
   ]
  },
  {
   "cell_type": "markdown",
   "id": "25d158f3-941f-44bb-bcfd-c90344bb3778",
   "metadata": {
    "papermill": {
     "duration": 0.097686,
     "end_time": "2025-02-27T06:31:30.632278",
     "exception": false,
     "start_time": "2025-02-27T06:31:30.534592",
     "status": "completed"
    },
    "tags": []
   },
   "source": [
    "The `analyze_circuit` step should statically analyze the connections and ports and should return an `analyzed` object. This object contains all the static objects that are needed for circuit computation but won't be recalculated when any parameters of the circuit change. See KLU Backend (below) for a non-trivial implementation of the circuit analyzation.\n",
    "\n",
    "The `evaluate_circuit` step evaluates the circuit for given `SType` instances, given whatever analysis object was returned from the `analyze_circuit` step and the instance `SType`s."
   ]
  },
  {
   "cell_type": "markdown",
   "id": "fbeef854-b3a4-4f39-9ffb-238f5d331c03",
   "metadata": {
    "papermill": {
     "duration": 0.077536,
     "end_time": "2025-02-27T06:31:30.726733",
     "exception": false,
     "start_time": "2025-02-27T06:31:30.649197",
     "status": "completed"
    },
    "tags": []
   },
   "source": [
    "## Example"
   ]
  },
  {
   "cell_type": "code",
   "execution_count": null,
   "id": "e52daa7d-e73c-4bb3-8051-ae8836337a6a",
   "metadata": {
    "papermill": {
     "duration": 1.566648,
     "end_time": "2025-02-27T06:31:32.309386",
     "exception": false,
     "start_time": "2025-02-27T06:31:30.742738",
     "status": "completed"
    },
    "tags": []
   },
   "outputs": [],
   "source": [
    "wg_sdict: sax.SDict = {\n",
    "    (\"in0\", \"out0\"): 0.5 + 0.86603j,\n",
    "    (\"out0\", \"in0\"): 0.5 + 0.86603j,\n",
    "}\n",
    "\n",
    "τ, κ = 0.5**0.5, 1j * 0.5**0.5\n",
    "dc_sdense: sax.SDense = (\n",
    "    jnp.array([[0, 0, τ, κ], [0, 0, κ, τ], [τ, κ, 0, 0], [κ, τ, 0, 0]]),\n",
    "    {\"in0\": 0, \"in1\": 1, \"out0\": 2, \"out1\": 3},\n",
    ")\n",
    "\n",
    "instances = {\n",
    "    \"dc1\": {\"component\": \"dc\"},\n",
    "    \"wg\": {\"component\": \"wg\"},\n",
    "    \"dc2\": {\"component\": \"dc\"},\n",
    "}\n",
    "connections = {\n",
    "    \"dc1,out0\": \"wg,in0\",\n",
    "    \"wg,out0\": \"dc2,in0\",\n",
    "    \"dc1,out1\": \"dc2,in1\",\n",
    "}\n",
    "ports = {\n",
    "    \"in0\": \"dc1,in0\",\n",
    "    \"in1\": \"dc1,in1\",\n",
    "    \"out0\": \"dc2,out0\",\n",
    "    \"out1\": \"dc2,out1\",\n",
    "}\n",
    "models = {\n",
    "    \"wg\": lambda: wg_sdict,\n",
    "    \"dc\": lambda: dc_sdense,\n",
    "}\n",
    "\n",
    "analyzed_instances = sax.backends.analyze_instances(instances, models)\n",
    "analyzed_circuit = sax.backends.analyze_circuit(analyzed_instances, connections, ports)\n",
    "mzi_sdict = sax.sdict(\n",
    "    sax.backends.evaluate_circuit(\n",
    "        analyzed_circuit, {k: models[v[\"component\"]]() for k, v in instances.items()}\n",
    "    )\n",
    ")\n",
    "mzi_sdict"
   ]
  },
  {
   "cell_type": "markdown",
   "id": "691fd6a9-fd55-4e83-bb9e-aa93e9a23378",
   "metadata": {
    "papermill": {
     "duration": 0.020059,
     "end_time": "2025-02-27T06:31:32.346735",
     "exception": false,
     "start_time": "2025-02-27T06:31:32.326676",
     "status": "completed"
    },
    "tags": []
   },
   "source": [
    "## Filipsson-Gunnar Backend"
   ]
  },
  {
   "cell_type": "markdown",
   "id": "b5426e1b-2179-4a1c-b796-c96155575f17",
   "metadata": {
    "papermill": {
     "duration": 0.020384,
     "end_time": "2025-02-27T06:31:32.386550",
     "exception": false,
     "start_time": "2025-02-27T06:31:32.366166",
     "status": "completed"
    },
    "tags": []
   },
   "source": [
    ":::{note}\n",
    "Since The KLU Backend (see below) is Superior to the Filipsson-Gunnar backend, SAX will default (since v0.10.0) to the KLU backend if `klujax` is installed.name1\n",
    ":::"
   ]
  },
  {
   "cell_type": "markdown",
   "id": "024f9283-15fa-46b6-80c8-c594f6437da7",
   "metadata": {
    "papermill": {
     "duration": 0.023355,
     "end_time": "2025-02-27T06:31:32.428297",
     "exception": false,
     "start_time": "2025-02-27T06:31:32.404942",
     "status": "completed"
    },
    "tags": []
   },
   "source": [
    "The Filipsson-Gunnar backend is based on the following paper:\n",
    "\n",
    "> Filipsson, Gunnar. \"*A new general computer algorithm for S-matrix calculation of interconnected multiports.*\" 11th European Microwave Conference. IEEE, 1981.\n",
    "\n",
    "```{eval-rst}\n",
    ".. autofunction:: sax.backends.analyze_circuit_fg\n",
    "```\n",
    "\n",
    "```{eval-rst}\n",
    ".. autofunction:: sax.backends.evaluate_circuit_fg\n",
    "```"
   ]
  },
  {
   "cell_type": "markdown",
   "id": "9d4585be-7692-491f-8de6-9802435bec5c",
   "metadata": {
    "papermill": {
     "duration": 0.019669,
     "end_time": "2025-02-27T06:31:32.473246",
     "exception": false,
     "start_time": "2025-02-27T06:31:32.453577",
     "status": "completed"
    },
    "tags": []
   },
   "source": [
    "### Algorithm Walkthrough"
   ]
  },
  {
   "cell_type": "markdown",
   "id": "48950a3d",
   "metadata": {
    "papermill": {
     "duration": 0.025261,
     "end_time": "2025-02-27T06:31:32.517850",
     "exception": false,
     "start_time": "2025-02-27T06:31:32.492589",
     "status": "completed"
    },
    "tags": []
   },
   "source": [
    ":::{note}\n",
    "This algorithm gets pretty slow for large circuits. Since SAX v0.10.0 we will default to the superior KLU backend as the KLU backend is now also jittable.\n",
    ":::"
   ]
  },
  {
   "cell_type": "markdown",
   "id": "81e28766",
   "metadata": {
    "papermill": {
     "duration": 0.019248,
     "end_time": "2025-02-27T06:31:32.561593",
     "exception": false,
     "start_time": "2025-02-27T06:31:32.542345",
     "status": "completed"
    },
    "tags": []
   },
   "source": [
    "Let's walk through all the steps of this algorithm. We'll do this for a simple MZI circuit, given by two directional couplers characterised by `dc_sdense` with a phase shifting waveguide in between `wg_sdict`:"
   ]
  },
  {
   "cell_type": "code",
   "execution_count": null,
   "id": "e2bdfbf4",
   "metadata": {
    "papermill": {
     "duration": 0.030272,
     "end_time": "2025-02-27T06:31:32.612361",
     "exception": false,
     "start_time": "2025-02-27T06:31:32.582089",
     "status": "completed"
    },
    "tags": []
   },
   "outputs": [],
   "source": [
    "instances = {\n",
    "    \"dc1\": dc_sdense,\n",
    "    \"wg\": wg_sdict,\n",
    "    \"dc2\": dc_sdense,\n",
    "}\n",
    "connections = {\n",
    "    \"dc1,out0\": \"wg,in0\",\n",
    "    \"wg,out0\": \"dc2,in0\",\n",
    "    \"dc1,out1\": \"dc2,in1\",\n",
    "}\n",
    "ports = {\n",
    "    \"in0\": \"dc1,in0\",\n",
    "    \"in1\": \"dc1,in1\",\n",
    "    \"out0\": \"dc2,out0\",\n",
    "    \"out1\": \"dc2,out1\",\n",
    "}"
   ]
  },
  {
   "cell_type": "markdown",
   "id": "6ef72161",
   "metadata": {
    "papermill": {
     "duration": 0.01903,
     "end_time": "2025-02-27T06:31:32.654119",
     "exception": false,
     "start_time": "2025-02-27T06:31:32.635089",
     "status": "completed"
    },
    "tags": []
   },
   "source": [
    "as a first step, we construct the `reversed_ports`, it's actually easier to work with `reversed_ports` (we chose the opposite convention in the netlist definition to adhere to the GDSFactory netlist convention):"
   ]
  },
  {
   "cell_type": "code",
   "execution_count": null,
   "id": "70302612",
   "metadata": {
    "papermill": {
     "duration": 0.025054,
     "end_time": "2025-02-27T06:31:32.698679",
     "exception": false,
     "start_time": "2025-02-27T06:31:32.673625",
     "status": "completed"
    },
    "tags": []
   },
   "outputs": [],
   "source": [
    "reversed_ports = {v: k for k, v in ports.items()}"
   ]
  },
  {
   "cell_type": "markdown",
   "id": "78676045",
   "metadata": {
    "papermill": {
     "duration": 0.0217,
     "end_time": "2025-02-27T06:31:32.740176",
     "exception": false,
     "start_time": "2025-02-27T06:31:32.718476",
     "status": "completed"
    },
    "tags": []
   },
   "source": [
    "The first real step of the algorithm is to create the 'block diagonal sdict`:"
   ]
  },
  {
   "cell_type": "code",
   "execution_count": null,
   "id": "0ff6149f",
   "metadata": {
    "papermill": {
     "duration": 0.043815,
     "end_time": "2025-02-27T06:31:32.799775",
     "exception": false,
     "start_time": "2025-02-27T06:31:32.755960",
     "status": "completed"
    },
    "tags": []
   },
   "outputs": [],
   "source": [
    "block_diag = {}\n",
    "for name, S in instances.items():\n",
    "    block_diag.update(\n",
    "        {(f\"{name},{p1}\", f\"{name},{p2}\"): v for (p1, p2), v in sax.sdict(S).items()}\n",
    "    )"
   ]
  },
  {
   "cell_type": "markdown",
   "id": "c4721548",
   "metadata": {
    "papermill": {
     "duration": 0.026004,
     "end_time": "2025-02-27T06:31:32.849719",
     "exception": false,
     "start_time": "2025-02-27T06:31:32.823715",
     "status": "completed"
    },
    "tags": []
   },
   "source": [
    "we can optionally filter out zeros from the resulting block_diag representation. Just note that this will make the resuling function unjittable (the resulting 'shape' (i.e. keys) of the dictionary would depend on the data itself, which is not allowed in JAX jit). We're doing it here to avoid printing zeros but **internally this is not done by default**."
   ]
  },
  {
   "cell_type": "code",
   "execution_count": null,
   "id": "cfce53c1",
   "metadata": {
    "papermill": {
     "duration": 0.09981,
     "end_time": "2025-02-27T06:31:32.965442",
     "exception": false,
     "start_time": "2025-02-27T06:31:32.865632",
     "status": "completed"
    },
    "tags": []
   },
   "outputs": [],
   "source": [
    "block_diag = {k: v for k, v in block_diag.items() if jnp.abs(v) > 1e-10}\n",
    "print(len(block_diag))\n",
    "block_diag"
   ]
  },
  {
   "cell_type": "markdown",
   "id": "1963694a",
   "metadata": {
    "papermill": {
     "duration": 0.017797,
     "end_time": "2025-02-27T06:31:33.004584",
     "exception": false,
     "start_time": "2025-02-27T06:31:32.986787",
     "status": "completed"
    },
    "tags": []
   },
   "source": [
    "next, we sort the connections such that similar components are grouped together:"
   ]
  },
  {
   "cell_type": "code",
   "execution_count": null,
   "id": "9859c2d4",
   "metadata": {
    "papermill": {
     "duration": 0.028356,
     "end_time": "2025-02-27T06:31:33.051924",
     "exception": false,
     "start_time": "2025-02-27T06:31:33.023568",
     "status": "completed"
    },
    "tags": []
   },
   "outputs": [],
   "source": [
    "from sax.backends.filipsson_gunnar import _connections_sort_key\n",
    "\n",
    "sorted_connections = sorted(connections.items(), key=_connections_sort_key)\n",
    "sorted_connections"
   ]
  },
  {
   "cell_type": "markdown",
   "id": "c75fbf65",
   "metadata": {
    "papermill": {
     "duration": 0.020482,
     "end_time": "2025-02-27T06:31:33.093811",
     "exception": false,
     "start_time": "2025-02-27T06:31:33.073329",
     "status": "completed"
    },
    "tags": []
   },
   "source": [
    "Now we iterate over the sorted connections and connect components as they come in. Connected components take over the name of the first component in the connection, but we keep a set of components belonging to that key in `all_connected_instances`.\n",
    "\n",
    "This is how this `all_connected_instances` dictionary looks initially."
   ]
  },
  {
   "cell_type": "code",
   "execution_count": null,
   "id": "cf30668c",
   "metadata": {
    "papermill": {
     "duration": 0.024978,
     "end_time": "2025-02-27T06:31:33.135637",
     "exception": false,
     "start_time": "2025-02-27T06:31:33.110659",
     "status": "completed"
    },
    "tags": []
   },
   "outputs": [],
   "source": [
    "all_connected_instances = {k: {k} for k in instances}\n",
    "all_connected_instances"
   ]
  },
  {
   "cell_type": "markdown",
   "id": "1152056b",
   "metadata": {
    "papermill": {
     "duration": 0.015392,
     "end_time": "2025-02-27T06:31:33.178785",
     "exception": false,
     "start_time": "2025-02-27T06:31:33.163393",
     "status": "completed"
    },
    "tags": []
   },
   "source": [
    "Normally we would loop over every connection in `sorted_connections` now, but let's just go through it once at first:"
   ]
  },
  {
   "cell_type": "code",
   "execution_count": null,
   "id": "faebbe5f",
   "metadata": {
    "papermill": {
     "duration": 0.022045,
     "end_time": "2025-02-27T06:31:33.216213",
     "exception": false,
     "start_time": "2025-02-27T06:31:33.194168",
     "status": "completed"
    },
    "tags": []
   },
   "outputs": [],
   "source": [
    "# for k, l in sorted_connections:\n",
    "k, l = sorted_connections[0]\n",
    "k, l"
   ]
  },
  {
   "cell_type": "markdown",
   "id": "16a2266c",
   "metadata": {
    "papermill": {
     "duration": 0.015935,
     "end_time": "2025-02-27T06:31:33.247206",
     "exception": false,
     "start_time": "2025-02-27T06:31:33.231271",
     "status": "completed"
    },
    "tags": []
   },
   "source": [
    "`k` and `l` are the S-matrix indices we're trying to connect. Note that in our sparse `SDict` notation these S-matrix indices are in fact equivalent with the port names `('dc1,out1', 'dc2,in1')`!"
   ]
  },
  {
   "cell_type": "markdown",
   "id": "0eaf4add",
   "metadata": {
    "papermill": {
     "duration": 0.015783,
     "end_time": "2025-02-27T06:31:33.278506",
     "exception": false,
     "start_time": "2025-02-27T06:31:33.262723",
     "status": "completed"
    },
    "tags": []
   },
   "source": [
    "first we split the connection string into an instance name and a port name (we don't use the port name yet):"
   ]
  },
  {
   "cell_type": "code",
   "execution_count": null,
   "id": "667d1a3c",
   "metadata": {
    "papermill": {
     "duration": 0.020964,
     "end_time": "2025-02-27T06:31:33.315477",
     "exception": false,
     "start_time": "2025-02-27T06:31:33.294513",
     "status": "completed"
    },
    "tags": []
   },
   "outputs": [],
   "source": [
    "name1, _ = k.split(\",\")\n",
    "name2, _ = l.split(\",\")"
   ]
  },
  {
   "cell_type": "markdown",
   "id": "16e8bbe8",
   "metadata": {
    "papermill": {
     "duration": 0.016077,
     "end_time": "2025-02-27T06:31:33.346907",
     "exception": false,
     "start_time": "2025-02-27T06:31:33.330830",
     "status": "completed"
    },
    "tags": []
   },
   "source": [
    "We then obtain the new set of connected instances."
   ]
  },
  {
   "cell_type": "code",
   "execution_count": null,
   "id": "51bf8615",
   "metadata": {
    "papermill": {
     "duration": 0.024237,
     "end_time": "2025-02-27T06:31:33.387244",
     "exception": false,
     "start_time": "2025-02-27T06:31:33.363007",
     "status": "completed"
    },
    "tags": []
   },
   "outputs": [],
   "source": [
    "connected_instances = all_connected_instances[name1] | all_connected_instances[name2]\n",
    "connected_instances"
   ]
  },
  {
   "cell_type": "markdown",
   "id": "676c8d61",
   "metadata": {
    "papermill": {
     "duration": 0.01972,
     "end_time": "2025-02-27T06:31:33.429048",
     "exception": false,
     "start_time": "2025-02-27T06:31:33.409328",
     "status": "completed"
    },
    "tags": []
   },
   "source": [
    "We then iterate over each of the components in this set and make sure each of the component names in that set maps to that set (yes, I know... confusing). We do this to be able to keep track with which components each of the components in the circuit is currently already connected to."
   ]
  },
  {
   "cell_type": "code",
   "execution_count": null,
   "id": "d322e86c",
   "metadata": {
    "papermill": {
     "duration": 0.027804,
     "end_time": "2025-02-27T06:31:33.477098",
     "exception": false,
     "start_time": "2025-02-27T06:31:33.449294",
     "status": "completed"
    },
    "tags": []
   },
   "outputs": [],
   "source": [
    "for name in connected_instances:\n",
    "    all_connected_instances[name] = connected_instances\n",
    "\n",
    "all_connected_instances"
   ]
  },
  {
   "cell_type": "markdown",
   "id": "b79f49f8",
   "metadata": {
    "papermill": {
     "duration": 0.020124,
     "end_time": "2025-02-27T06:31:33.517479",
     "exception": false,
     "start_time": "2025-02-27T06:31:33.497355",
     "status": "completed"
    },
    "tags": []
   },
   "source": [
    "now we need to obtain all the ports of the currently connected instances."
   ]
  },
  {
   "cell_type": "code",
   "execution_count": null,
   "id": "61b3cfab",
   "metadata": {
    "papermill": {
     "duration": 0.023506,
     "end_time": "2025-02-27T06:31:33.558094",
     "exception": false,
     "start_time": "2025-02-27T06:31:33.534588",
     "status": "completed"
    },
    "tags": []
   },
   "outputs": [],
   "source": [
    "current_ports = tuple(\n",
    "    p\n",
    "    for instance in connected_instances\n",
    "    for p in set([p for p, _ in block_diag] + [p for _, p in block_diag])\n",
    "    if p.startswith(f\"{instance},\")\n",
    ")\n",
    "\n",
    "current_ports"
   ]
  },
  {
   "cell_type": "markdown",
   "id": "d0e87449",
   "metadata": {
    "papermill": {
     "duration": 0.02242,
     "end_time": "2025-02-27T06:31:33.598431",
     "exception": false,
     "start_time": "2025-02-27T06:31:33.576011",
     "status": "completed"
    },
    "tags": []
   },
   "source": [
    "Now the Gunnar Algorithm is used. Given a (block-diagonal) 'S-matrix' `block_diag` and a 'connection matrix' `current_ports` we can interconnect port `k` and `l` as follows:\n",
    "\n",
    "> Note: some creative freedom is used here. In SAX, the matrices we're talking about are in fact represented by a sparse dictionary (an `SDict`), i.e. similar to a COO sparse matrix for which the indices are the port names."
   ]
  },
  {
   "cell_type": "markdown",
   "id": "988c08d9",
   "metadata": {
    "papermill": {
     "duration": 0.01741,
     "end_time": "2025-02-27T06:31:33.635582",
     "exception": false,
     "start_time": "2025-02-27T06:31:33.618172",
     "status": "completed"
    },
    "tags": []
   },
   "source": [
    "Just as before, we're filtering the zeros from the sparse representation (remember, internally this is **not done by default**)."
   ]
  },
  {
   "cell_type": "code",
   "execution_count": null,
   "id": "e9ac8164",
   "metadata": {
    "papermill": {
     "duration": 0.030821,
     "end_time": "2025-02-27T06:31:33.685862",
     "exception": false,
     "start_time": "2025-02-27T06:31:33.655041",
     "status": "completed"
    },
    "tags": []
   },
   "outputs": [],
   "source": [
    "block_diag = {k: v for k, v in block_diag.items() if jnp.abs(v) > 1e-10}\n",
    "print(len(block_diag))\n",
    "block_diag"
   ]
  },
  {
   "cell_type": "markdown",
   "id": "db0cd151",
   "metadata": {
    "papermill": {
     "duration": 0.016401,
     "end_time": "2025-02-27T06:31:33.723382",
     "exception": false,
     "start_time": "2025-02-27T06:31:33.706981",
     "status": "completed"
    },
    "tags": []
   },
   "source": [
    "This is the resulting block-diagonal matrix after interconnecting two ports (i.e. basically saying that those two ports are the same port). Because these ports are now connected we should actually remove them from the S-matrix representation (they are integrated into the S-parameters of the other connections):"
   ]
  },
  {
   "cell_type": "code",
   "execution_count": null,
   "id": "311b034f",
   "metadata": {
    "papermill": {
     "duration": 0.029223,
     "end_time": "2025-02-27T06:31:33.770542",
     "exception": false,
     "start_time": "2025-02-27T06:31:33.741319",
     "status": "completed"
    },
    "tags": []
   },
   "outputs": [],
   "source": [
    "for i, j in list(block_diag.keys()):\n",
    "    is_connected = i == k or i == l or j == k or j == l\n",
    "    is_in_output_ports = i in reversed_ports and j in reversed_ports\n",
    "    if is_connected and not is_in_output_ports:\n",
    "        del block_diag[i, j]  # we're no longer interested in these port combinations\n",
    "\n",
    "print(len(block_diag))\n",
    "block_diag"
   ]
  },
  {
   "cell_type": "markdown",
   "id": "b6badcb7",
   "metadata": {
    "papermill": {
     "duration": 0.019067,
     "end_time": "2025-02-27T06:31:33.808061",
     "exception": false,
     "start_time": "2025-02-27T06:31:33.788994",
     "status": "completed"
    },
    "tags": []
   },
   "source": [
    "Note that this deletion of values **does NOT** make this operation un-jittable. The deletion depends on the ports of the dictionary (i.e. on the dictionary 'shape'), not on the values."
   ]
  },
  {
   "cell_type": "markdown",
   "id": "89e775cd",
   "metadata": {
    "papermill": {
     "duration": 0.020159,
     "end_time": "2025-02-27T06:31:33.851108",
     "exception": false,
     "start_time": "2025-02-27T06:31:33.830949",
     "status": "completed"
    },
    "tags": []
   },
   "source": [
    "We now basically have to do those steps again for all other connections:"
   ]
  },
  {
   "cell_type": "code",
   "execution_count": null,
   "id": "25eac933",
   "metadata": {
    "papermill": {
     "duration": 1.181239,
     "end_time": "2025-02-27T06:31:35.050051",
     "exception": false,
     "start_time": "2025-02-27T06:31:33.868812",
     "status": "completed"
    },
    "tags": []
   },
   "outputs": [],
   "source": [
    "from sax.backends.filipsson_gunnar import _interconnect_ports\n",
    "\n",
    "# for k, l in sorted_connections:\n",
    "for k, l in sorted_connections[\n",
    "    1:\n",
    "]:  # we just did the first iteration of this loop above...\n",
    "    name1, _ = k.split(\",\")\n",
    "    name2, _ = l.split(\",\")\n",
    "    connected_instances = (\n",
    "        all_connected_instances[name1] | all_connected_instances[name2]\n",
    "    )\n",
    "    for name in connected_instances:\n",
    "        all_connected_instances[name] = connected_instances\n",
    "    current_ports = tuple(\n",
    "        p\n",
    "        for instance in connected_instances\n",
    "        for p in set([p for p, _ in block_diag] + [p for _, p in block_diag])\n",
    "        if p.startswith(f\"{instance},\")\n",
    "    )\n",
    "    block_diag.update(_interconnect_ports(block_diag, current_ports, k, l))\n",
    "    for i, j in list(block_diag.keys()):\n",
    "        is_connected = i == k or i == l or j == k or j == l\n",
    "        is_in_output_ports = i in reversed_ports and j in reversed_ports\n",
    "        if is_connected and not is_in_output_ports:\n",
    "            del block_diag[\n",
    "                i, j\n",
    "            ]  # we're no longer interested in these port combinations"
   ]
  },
  {
   "cell_type": "markdown",
   "id": "36eb82fc",
   "metadata": {
    "papermill": {
     "duration": 0.019652,
     "end_time": "2025-02-27T06:31:35.089070",
     "exception": false,
     "start_time": "2025-02-27T06:31:35.069418",
     "status": "completed"
    },
    "tags": []
   },
   "source": [
    "This is the final MZI matrix we're getting:"
   ]
  },
  {
   "cell_type": "code",
   "execution_count": null,
   "id": "d1c0367e",
   "metadata": {
    "papermill": {
     "duration": 0.025854,
     "end_time": "2025-02-27T06:31:35.132441",
     "exception": false,
     "start_time": "2025-02-27T06:31:35.106587",
     "status": "completed"
    },
    "tags": []
   },
   "outputs": [],
   "source": [
    "block_diag"
   ]
  },
  {
   "cell_type": "markdown",
   "id": "03f67ec6",
   "metadata": {
    "papermill": {
     "duration": 0.018341,
     "end_time": "2025-02-27T06:31:35.173413",
     "exception": false,
     "start_time": "2025-02-27T06:31:35.155072",
     "status": "completed"
    },
    "tags": []
   },
   "source": [
    "All that's left is to rename these internal ports of the format `{instance},{port}` into output ports of the resulting circuit:"
   ]
  },
  {
   "cell_type": "code",
   "execution_count": null,
   "id": "cf5ea4af",
   "metadata": {
    "papermill": {
     "duration": 0.026573,
     "end_time": "2025-02-27T06:31:35.216538",
     "exception": false,
     "start_time": "2025-02-27T06:31:35.189965",
     "status": "completed"
    },
    "tags": []
   },
   "outputs": [],
   "source": [
    "circuit_sdict: sax.SDict = {\n",
    "    (reversed_ports[i], reversed_ports[j]): v\n",
    "    for (i, j), v in block_diag.items()\n",
    "    if i in reversed_ports and j in reversed_ports\n",
    "}\n",
    "circuit_sdict"
   ]
  },
  {
   "cell_type": "markdown",
   "id": "7dc6505e",
   "metadata": {
    "papermill": {
     "duration": 0.020234,
     "end_time": "2025-02-27T06:31:35.258958",
     "exception": false,
     "start_time": "2025-02-27T06:31:35.238724",
     "status": "completed"
    },
    "tags": []
   },
   "source": [
    "And that's it. We evaluated the `SDict` of the full circuit."
   ]
  },
  {
   "cell_type": "markdown",
   "id": "170db10b",
   "metadata": {
    "papermill": {
     "duration": 0.020039,
     "end_time": "2025-02-27T06:31:35.296647",
     "exception": false,
     "start_time": "2025-02-27T06:31:35.276608",
     "status": "completed"
    },
    "tags": []
   },
   "source": [
    "### Algorithm Improvements"
   ]
  },
  {
   "cell_type": "markdown",
   "id": "4ed0e69a",
   "metadata": {
    "papermill": {
     "duration": 0.018555,
     "end_time": "2025-02-27T06:31:35.333950",
     "exception": false,
     "start_time": "2025-02-27T06:31:35.315395",
     "status": "completed"
    },
    "tags": []
   },
   "source": [
    "The Filipsson-Gunar algorithm is \n",
    "\n",
    "* pretty fast for small circuits 🙂\n",
    "* jittable 🙂\n",
    "* differentiable 🙂\n",
    "* GPU-compatible 🙂\n",
    "\n",
    "This algorithm is however:\n",
    "\n",
    "* **really slow** for large circuits 😥\n",
    "* **pretty slow** to jit the resulting circuit function 😥\n",
    "* **pretty slow** to differentiate the resulting circuit function 😥\n",
    "\n",
    "There are probably still plenty of improvements possible for this algorithm:\n",
    "\n",
    "* **¿** Network analysis (ft. NetworkX ?) to obtain which ports of the block diagonal representation are relevant to obtain the output connection **?**\n",
    "* **¿** Smarter ordering of connections to always have the minimum amount of ports in the intermediate block-diagonal representation **?**\n",
    "* **¿** Using `jax.lax.scan` in stead of python native for-loops in `_interconnect_ports` **?**\n",
    "* **¿** ... **?**\n",
    "\n",
    "Bottom line is... Do you know how to improve this algorithm or how to implement the above suggestions? Please open a Merge Request!"
   ]
  },
  {
   "cell_type": "markdown",
   "id": "8ac28523-e792-4c9a-a23f-252ae91a4a7d",
   "metadata": {
    "papermill": {
     "duration": 0.019196,
     "end_time": "2025-02-27T06:31:35.370263",
     "exception": false,
     "start_time": "2025-02-27T06:31:35.351067",
     "status": "completed"
    },
    "tags": []
   },
   "source": [
    "## KLU Backend\n",
    "\n",
    "The KLU backend is using `klujax`, which uses the [SuiteSparse](https://github.com/DrTimothyAldenDavis/SuiteSparse) C++ libraries for sparse matrix evaluations to evaluate the circuit insanely fast on a CPU. The specific algorith being used in question is the KLU algorithm:\n",
    "\n",
    "> Ekanathan Palamadai Natariajan. \"*KLU - A high performance sparse linear solver for circuit simulation problems.*\"\n",
    "\n",
    "```{eval-rst}\n",
    ".. autofunction:: sax.backends.analyze_circuit_klu\n",
    "```\n",
    "\n",
    "```{eval-rst}\n",
    ".. autofunction:: sax.backends.evaluate_circuit_klu\n",
    "```"
   ]
  },
  {
   "cell_type": "markdown",
   "id": "8804e6fd-3dda-4770-a312-434ddc00446f",
   "metadata": {
    "papermill": {
     "duration": 0.018839,
     "end_time": "2025-02-27T06:31:35.405902",
     "exception": false,
     "start_time": "2025-02-27T06:31:35.387063",
     "status": "completed"
    },
    "tags": []
   },
   "source": [
    "### Theoretical Background"
   ]
  },
  {
   "cell_type": "markdown",
   "id": "b31bb0c6-6ffe-47a7-8458-cf555d5c0579",
   "metadata": {
    "papermill": {
     "duration": 0.02323,
     "end_time": "2025-02-27T06:31:35.447554",
     "exception": false,
     "start_time": "2025-02-27T06:31:35.424324",
     "status": "completed"
    },
    "tags": []
   },
   "source": [
    "The core of the KLU algorithm is supported by `klujax`, which internally uses the Suitesparse libraries to solve the sparse system `Ax = b`, in which A is a sparse matrix."
   ]
  },
  {
   "cell_type": "markdown",
   "id": "68f22fec-2d16-4d94-be9d-a02b1c85efa8",
   "metadata": {
    "papermill": {
     "duration": 0.019323,
     "end_time": "2025-02-27T06:31:35.484980",
     "exception": false,
     "start_time": "2025-02-27T06:31:35.465657",
     "status": "completed"
    },
    "tags": []
   },
   "source": [
    "Now it only comes down to shoehorn our circuit evaluation into a sparse linear system of equations $Ax=b$ where we need to solve for $x$ using `klujax`. \n",
    "Consider the block diagonal matrix $S_{bd}$ of all components in the circuit acting on the fields $x_{in}$ at each of the individual ports of each of the component integrated in $S^{bd}$. The output fields $x^{out}$ at each of those ports is then given by:\n",
    "\n",
    "$$\n",
    "x^{out} = S_{bd} x^{in}\n",
    "$$"
   ]
  },
  {
   "cell_type": "markdown",
   "id": "b023a7b2-8ba4-4d46-98c2-82f2ac4c68d4",
   "metadata": {
    "papermill": {
     "duration": 0.035912,
     "end_time": "2025-02-27T06:31:35.553707",
     "exception": false,
     "start_time": "2025-02-27T06:31:35.517795",
     "status": "completed"
    },
    "tags": []
   },
   "source": [
    "However, $S_{bd}$ is not the S-matrix of the circuit as it does not encode any connectivity *between* the components. Connecting two component ports basically comes down to enforcing equality between the output fields at one port of a component with the input fields at another port of another (or maybe even the same) component. This equality can be enforced by creating an internal connection matrix, connecting all internal ports of the circuit:\n",
    "\n",
    "$$\n",
    "x^{in} = C_{int} x^{out}\n",
    "$$"
   ]
  },
  {
   "cell_type": "markdown",
   "id": "10a61bbc-39ca-4b09-8071-61554fbb49f8",
   "metadata": {
    "papermill": {
     "duration": 0.022261,
     "end_time": "2025-02-27T06:31:35.600946",
     "exception": false,
     "start_time": "2025-02-27T06:31:35.578685",
     "status": "completed"
    },
    "tags": []
   },
   "source": [
    "We can thus write the following combined equation:\n",
    "\n",
    "$$\n",
    "x^{in} = C_{int} S_{bd} x^{in}\n",
    "$$"
   ]
  },
  {
   "cell_type": "markdown",
   "id": "8f99e680-c57a-4baf-8ff2-a35b63ea29af",
   "metadata": {
    "papermill": {
     "duration": 0.016133,
     "end_time": "2025-02-27T06:31:35.633554",
     "exception": false,
     "start_time": "2025-02-27T06:31:35.617421",
     "status": "completed"
    },
    "tags": []
   },
   "source": [
    "But this is not the complete story... Some component ports will *not* be *interconnected* with other ports: they will become the new *external ports* (or output ports) of the combined circuit. We can include those external ports into the above equation as follows:\n",
    "\n",
    "$$\n",
    "\\begin{pmatrix} x^{in} \\\\ x^{out}_{ext} \\end{pmatrix} = \\begin{pmatrix} C_{int} & C_{ext} \\\\ C_{ext}^T & 0 \\end{pmatrix} \\begin{pmatrix} S_{bd} x^{in} \\\\ x_{ext}^{in} \\end{pmatrix} \n",
    "$$"
   ]
  },
  {
   "cell_type": "markdown",
   "id": "a3f77604-0f3a-4371-a4d5-42ce667587c0",
   "metadata": {
    "papermill": {
     "duration": 0.01674,
     "end_time": "2025-02-27T06:31:35.666932",
     "exception": false,
     "start_time": "2025-02-27T06:31:35.650192",
     "status": "completed"
    },
    "tags": []
   },
   "source": [
    "Note that $C_{ext}$ is obviously **not** a square matrix. Eliminating $x^{in}$ from the equation above finally yields:\n",
    "\n",
    "$$\n",
    "x^{out}_{ext} = C^T_{ext} S_{bd} (I - C_{int}S_{bd})^{-1} C_{ext}x_{ext}^{in}\n",
    "$$"
   ]
  },
  {
   "cell_type": "markdown",
   "id": "4cfb5f22-67d3-4c7e-b6c6-994fd4add6a4",
   "metadata": {
    "papermill": {
     "duration": 0.017314,
     "end_time": "2025-02-27T06:31:35.701196",
     "exception": false,
     "start_time": "2025-02-27T06:31:35.683882",
     "status": "completed"
    },
    "tags": []
   },
   "source": [
    "We basically found a representation of the circuit S-matrix:\n",
    "\n",
    "$$\n",
    "S = C^T_{ext} S_{bd} (I - C_{int}S_{bd})^{-1} C_{ext}\n",
    "$$"
   ]
  },
  {
   "cell_type": "markdown",
   "id": "cdd9c503-f057-4b99-a6f6-61a8f71bc71d",
   "metadata": {
    "papermill": {
     "duration": 0.018608,
     "end_time": "2025-02-27T06:31:35.741358",
     "exception": false,
     "start_time": "2025-02-27T06:31:35.722750",
     "status": "completed"
    },
    "tags": []
   },
   "source": [
    "Obviously, we won't want to calculate the inverse $(I - C_{int}S_{bd})^{-1}$, which is the inverse of a very sparse matrix (a connection matrix only has a single 1 per line), which very often is not even sparse itself. In stead we'll use the `solve_klu` function:\n",
    "\n",
    "$$\n",
    "S = C^T_{ext} S_{bd} \\texttt{solve}\\_\\texttt{klu}\\left((I - C_{int}S_{bd}), C_{ext}\\right)\n",
    "$$"
   ]
  },
  {
   "cell_type": "markdown",
   "id": "45811209-f2bd-4bd4-a531-2956e6bd3293",
   "metadata": {
    "papermill": {
     "duration": 0.021949,
     "end_time": "2025-02-27T06:31:35.788210",
     "exception": false,
     "start_time": "2025-02-27T06:31:35.766261",
     "status": "completed"
    },
    "tags": []
   },
   "source": [
    "Moreover, $C_{ext}^TS_{bd}$ is also a sparse matrix, therefore we'll also need a `mul_coo` routine:\n",
    "\n",
    "$$\n",
    "S = C^T_{ext} \\texttt{mul}\\_\\texttt{coo}\\left(S_{bd},~~\\texttt{solve}\\_\\texttt{klu}\\left((I - C_{int}S_{bd}),~C_{ext}\\right)\\right)\n",
    "$$"
   ]
  },
  {
   "cell_type": "markdown",
   "id": "03256ad3-4d45-4113-9d38-f08d36593b21",
   "metadata": {
    "papermill": {
     "duration": 0.022921,
     "end_time": "2025-02-27T06:31:35.834938",
     "exception": false,
     "start_time": "2025-02-27T06:31:35.812017",
     "status": "completed"
    },
    "tags": []
   },
   "source": [
    "### Sparse Helper Functions\n",
    "\n",
    "```{eval-rst}\n",
    ".. autofunction:: klujax.solve\n",
    "```\n",
    "\n",
    "```{eval-rst}\n",
    ".. autofunction:: klujax.dot\n",
    "```"
   ]
  },
  {
   "cell_type": "markdown",
   "id": "3e54a061-8846-4a23-8431-18cfe0d2bc9d",
   "metadata": {
    "papermill": {
     "duration": 0.023882,
     "end_time": "2025-02-27T06:31:35.879414",
     "exception": false,
     "start_time": "2025-02-27T06:31:35.855532",
     "status": "completed"
    },
    "tags": []
   },
   "source": [
    "`klujax.solve` solves the sparse system of equations `Ax=b` for `x`. Where `A` is represented by in [COO-format](https://en.wikipedia.org/wiki/Sparse_matrix#Coordinate_list_(COO)) as (`Ai`, `Aj`, `Ax`).\n",
    "\n",
    "> Example"
   ]
  },
  {
   "cell_type": "code",
   "execution_count": null,
   "id": "63e7977a",
   "metadata": {
    "papermill": {
     "duration": 0.111584,
     "end_time": "2025-02-27T06:31:36.019926",
     "exception": false,
     "start_time": "2025-02-27T06:31:35.908342",
     "status": "completed"
    },
    "tags": []
   },
   "outputs": [],
   "source": [
    "Ai = jnp.array([0, 1, 2, 3, 4])\n",
    "Aj = jnp.array([1, 3, 4, 0, 2])\n",
    "Ax = jnp.array([5, 6, 1, 1, 2])\n",
    "b = jnp.array([5, 3, 2, 6, 1])\n",
    "x = klujax.solve(Ai, Aj, Ax, b)\n",
    "x"
   ]
  },
  {
   "cell_type": "markdown",
   "id": "d54bfd5f-0799-493f-8677-d086b5b05b56",
   "metadata": {
    "papermill": {
     "duration": 0.041129,
     "end_time": "2025-02-27T06:31:36.110216",
     "exception": false,
     "start_time": "2025-02-27T06:31:36.069087",
     "status": "completed"
    },
    "tags": []
   },
   "source": [
    "This result is indeed correct:"
   ]
  },
  {
   "cell_type": "code",
   "execution_count": null,
   "id": "629bbc71",
   "metadata": {
    "papermill": {
     "duration": 0.366657,
     "end_time": "2025-02-27T06:31:36.514777",
     "exception": false,
     "start_time": "2025-02-27T06:31:36.148120",
     "status": "completed"
    },
    "tags": []
   },
   "outputs": [],
   "source": [
    "A = jnp.zeros((5, 5)).at[Ai, Aj].set(Ax)\n",
    "print(A)\n",
    "print(A @ x)"
   ]
  },
  {
   "cell_type": "markdown",
   "id": "9c6d0b95-1224-4c7f-8855-99b84f2d6163",
   "metadata": {
    "papermill": {
     "duration": 0.038523,
     "end_time": "2025-02-27T06:31:36.591140",
     "exception": false,
     "start_time": "2025-02-27T06:31:36.552617",
     "status": "completed"
    },
    "tags": []
   },
   "source": [
    "However, to use this function effectively, we probably need an extra dimension for `Ax`. Indeed, we would like to solve this equation for multiple wavelengths (or more general, for multiple circuit configurations) at once. For this we can use `jax.vmap` to expose `klujax.solve` to more dimensions for `Ax`:"
   ]
  },
  {
   "cell_type": "code",
   "execution_count": null,
   "id": "6f9686a0",
   "metadata": {
    "papermill": {
     "duration": 0.050424,
     "end_time": "2025-02-27T06:31:36.679293",
     "exception": false,
     "start_time": "2025-02-27T06:31:36.628869",
     "status": "completed"
    },
    "tags": []
   },
   "outputs": [],
   "source": [
    "# exports\n",
    "solve_klu = jax.vmap(klujax.solve, (None, None, 0, None), 0)"
   ]
  },
  {
   "cell_type": "markdown",
   "id": "c6f7b28c-cd7b-4136-b450-097225f2c3ba",
   "metadata": {
    "papermill": {
     "duration": 0.04063,
     "end_time": "2025-02-27T06:31:36.759544",
     "exception": false,
     "start_time": "2025-02-27T06:31:36.718914",
     "status": "completed"
    },
    "tags": []
   },
   "source": [
    "Let's now redefine `Ax` and see what it gives:"
   ]
  },
  {
   "cell_type": "code",
   "execution_count": null,
   "id": "d4d7b6f9",
   "metadata": {
    "papermill": {
     "duration": 0.119986,
     "end_time": "2025-02-27T06:31:36.917446",
     "exception": false,
     "start_time": "2025-02-27T06:31:36.797460",
     "status": "completed"
    },
    "tags": []
   },
   "outputs": [],
   "source": [
    "Ai = jnp.array([0, 1, 2, 3, 4])\n",
    "Aj = jnp.array([1, 3, 4, 0, 2])\n",
    "Ax = jnp.array([[5, 6, 1, 1, 2], [5, 4, 3, 2, 1], [1, 2, 3, 4, 5]])\n",
    "b = jnp.array([5, 3, 2, 6, 1])\n",
    "x = solve_klu(Ai, Aj, Ax, b)\n",
    "x"
   ]
  },
  {
   "cell_type": "markdown",
   "id": "2bc1db8c-335b-43f0-b515-04c948f66745",
   "metadata": {
    "papermill": {
     "duration": 0.020331,
     "end_time": "2025-02-27T06:31:36.960963",
     "exception": false,
     "start_time": "2025-02-27T06:31:36.940632",
     "status": "completed"
    },
    "tags": []
   },
   "source": [
    "This result is indeed correct:"
   ]
  },
  {
   "cell_type": "code",
   "execution_count": null,
   "id": "0afefaa6",
   "metadata": {
    "papermill": {
     "duration": 0.122657,
     "end_time": "2025-02-27T06:31:37.102370",
     "exception": false,
     "start_time": "2025-02-27T06:31:36.979713",
     "status": "completed"
    },
    "tags": []
   },
   "outputs": [],
   "source": [
    "A = jnp.zeros((3, 5, 5)).at[:, Ai, Aj].set(Ax)\n",
    "jnp.einsum(\"ijk,ik->ij\", A, x)"
   ]
  },
  {
   "cell_type": "markdown",
   "id": "788f79e7-4f88-4e78-ac51-a91e8ebdfd4f",
   "metadata": {
    "papermill": {
     "duration": 0.018535,
     "end_time": "2025-02-27T06:31:37.139160",
     "exception": false,
     "start_time": "2025-02-27T06:31:37.120625",
     "status": "completed"
    },
    "tags": []
   },
   "source": [
    "Additionally, we need a way to multiply a sparse COO-matrix with a dense vector. This can be done with `klujax.coo_mul_vec`:"
   ]
  },
  {
   "cell_type": "markdown",
   "id": "2b096666-e29e-40a1-a86d-e151e89c7599",
   "metadata": {
    "papermill": {
     "duration": 0.02089,
     "end_time": "2025-02-27T06:31:37.179719",
     "exception": false,
     "start_time": "2025-02-27T06:31:37.158829",
     "status": "completed"
    },
    "tags": []
   },
   "source": [
    "However, it's useful to allow a batch dimension, this time *both* in `Ax` and in `b`:"
   ]
  },
  {
   "cell_type": "code",
   "execution_count": null,
   "id": "f2f56966",
   "metadata": {
    "papermill": {
     "duration": 0.046194,
     "end_time": "2025-02-27T06:31:37.253860",
     "exception": false,
     "start_time": "2025-02-27T06:31:37.207666",
     "status": "completed"
    },
    "tags": []
   },
   "outputs": [],
   "source": [
    "# exports\n",
    "mul_coo = None\n",
    "mul_coo = jax.vmap(klujax.dot, (None, None, 0, 0), 0)"
   ]
  },
  {
   "cell_type": "markdown",
   "id": "5df6d174-6ada-4118-bbf7-7fd5d2ec35c9",
   "metadata": {
    "papermill": {
     "duration": 0.032475,
     "end_time": "2025-02-27T06:31:37.324071",
     "exception": false,
     "start_time": "2025-02-27T06:31:37.291596",
     "status": "completed"
    },
    "tags": []
   },
   "source": [
    "Let's confirm this does the right thing:"
   ]
  },
  {
   "cell_type": "code",
   "execution_count": null,
   "id": "bd868973",
   "metadata": {
    "papermill": {
     "duration": 0.049635,
     "end_time": "2025-02-27T06:31:37.394050",
     "exception": false,
     "start_time": "2025-02-27T06:31:37.344415",
     "status": "completed"
    },
    "tags": []
   },
   "outputs": [],
   "source": [
    "result = mul_coo(Ai, Aj, Ax, x)\n",
    "result"
   ]
  },
  {
   "cell_type": "markdown",
   "id": "e2c47d85-38fc-4132-9d8d-593c25307ebe",
   "metadata": {
    "papermill": {
     "duration": 0.017102,
     "end_time": "2025-02-27T06:31:37.429440",
     "exception": false,
     "start_time": "2025-02-27T06:31:37.412338",
     "status": "completed"
    },
    "tags": []
   },
   "source": [
    "### Example"
   ]
  },
  {
   "cell_type": "code",
   "execution_count": null,
   "id": "665c856d",
   "metadata": {
    "papermill": {
     "duration": 0.046237,
     "end_time": "2025-02-27T06:31:37.493076",
     "exception": false,
     "start_time": "2025-02-27T06:31:37.446839",
     "status": "completed"
    },
    "tags": []
   },
   "outputs": [],
   "source": [
    "wg_sdict: sax.SDict = {\n",
    "    (\"in0\", \"out0\"): 0.5 + 0.86603j,\n",
    "    (\"out0\", \"in0\"): 0.5 + 0.86603j,\n",
    "}\n",
    "\n",
    "τ, κ = 0.5**0.5, 1j * 0.5**0.5\n",
    "dc_sdense: sax.SDense = (\n",
    "    jnp.array([[0, 0, τ, κ], [0, 0, κ, τ], [τ, κ, 0, 0], [κ, τ, 0, 0]]),\n",
    "    {\"out0\": 0, \"out1\": 1, \"in0\": 2, \"in1\": 3},\n",
    ")\n",
    "\n",
    "instances = {\n",
    "    \"dc1\": {\"component\": \"dc\"},\n",
    "    \"wg\": {\"component\": \"wg\"},\n",
    "    \"dc2\": {\"component\": \"dc\"},\n",
    "}\n",
    "connections = {\n",
    "    \"dc1,out0\": \"wg,in0\",\n",
    "    \"wg,out0\": \"dc2,in0\",\n",
    "    \"dc1,out1\": \"dc2,in1\",\n",
    "}\n",
    "ports = {\n",
    "    \"in0\": \"dc1,in0\",\n",
    "    \"in1\": \"dc1,in1\",\n",
    "    \"out0\": \"dc2,out0\",\n",
    "    \"out1\": \"dc2,out1\",\n",
    "}\n",
    "models = {\n",
    "    \"wg\": lambda: wg_sdict,\n",
    "    \"dc\": lambda: dc_sdense,\n",
    "}\n",
    "\n",
    "\n",
    "analyzed_instances = sax.backends.analyze_instances_klu(instances, models)\n",
    "analyzed_circuit = sax.backends.analyze_circuit_klu(\n",
    "    analyzed_instances, connections, ports\n",
    ")\n",
    "S, pm = sax.backends.evaluate_circuit_klu(\n",
    "    analyzed_circuit, {k: models[v[\"component\"]]() for k, v in instances.items()}\n",
    ")\n",
    "\n",
    "print(S)\n",
    "print(pm)"
   ]
  },
  {
   "cell_type": "markdown",
   "id": "2561e780-23a1-46ae-8c7b-17ccb1c80f2b",
   "metadata": {
    "papermill": {
     "duration": 0.032358,
     "end_time": "2025-02-27T06:31:37.541176",
     "exception": false,
     "start_time": "2025-02-27T06:31:37.508818",
     "status": "completed"
    },
    "tags": []
   },
   "source": [
    "the KLU backend yields `SDense` results by default:"
   ]
  },
  {
   "cell_type": "code",
   "execution_count": null,
   "id": "ecc3115e",
   "metadata": {
    "papermill": {
     "duration": 0.022944,
     "end_time": "2025-02-27T06:31:37.582110",
     "exception": false,
     "start_time": "2025-02-27T06:31:37.559166",
     "status": "completed"
    },
    "tags": []
   },
   "outputs": [],
   "source": [
    "mzi_sdense = (S, pm)\n",
    "mzi_sdense"
   ]
  },
  {
   "cell_type": "markdown",
   "id": "ccf222e3-b0a9-4732-8c5b-f449ab0217ba",
   "metadata": {
    "papermill": {
     "duration": 0.017928,
     "end_time": "2025-02-27T06:31:37.620198",
     "exception": false,
     "start_time": "2025-02-27T06:31:37.602270",
     "status": "completed"
    },
    "tags": []
   },
   "source": [
    "An `SDense` is returned for perfomance reasons. By returning an `SDense` by default we prevent any internal `SDict -> SDense` conversions in deeply hierarchical circuits. It's however very easy to convert `SDense` to `SDict` as a final step. To do this, wrap the result (or the function generating the result) with `sdict`:"
   ]
  },
  {
   "cell_type": "code",
   "execution_count": null,
   "id": "7202ab1e",
   "metadata": {
    "papermill": {
     "duration": 0.036428,
     "end_time": "2025-02-27T06:31:37.677425",
     "exception": false,
     "start_time": "2025-02-27T06:31:37.640997",
     "status": "completed"
    },
    "tags": []
   },
   "outputs": [],
   "source": [
    "sax.sdict(mzi_sdense)"
   ]
  },
  {
   "cell_type": "markdown",
   "id": "e84bdb3f-c9cc-46fb-9fad-09924bbce67b",
   "metadata": {
    "papermill": {
     "duration": 0.016708,
     "end_time": "2025-02-27T06:31:37.711443",
     "exception": false,
     "start_time": "2025-02-27T06:31:37.694735",
     "status": "completed"
    },
    "tags": []
   },
   "source": [
    "### Algorithm Walkthrough"
   ]
  },
  {
   "cell_type": "markdown",
   "id": "d79a8927-1d29-416a-84a6-1963b40cbd41",
   "metadata": {
    "papermill": {
     "duration": 0.016564,
     "end_time": "2025-02-27T06:31:37.744129",
     "exception": false,
     "start_time": "2025-02-27T06:31:37.727565",
     "status": "completed"
    },
    "tags": []
   },
   "source": [
    "Let's first enforce $C^T = C$:"
   ]
  },
  {
   "cell_type": "code",
   "execution_count": null,
   "id": "6d7d4c39",
   "metadata": {
    "papermill": {
     "duration": 0.023913,
     "end_time": "2025-02-27T06:31:37.787864",
     "exception": false,
     "start_time": "2025-02-27T06:31:37.763951",
     "status": "completed"
    },
    "tags": []
   },
   "outputs": [],
   "source": [
    "connections = {**connections, **{v: k for k, v in connections.items()}}\n",
    "connections"
   ]
  },
  {
   "cell_type": "markdown",
   "id": "e7b667e3-a932-4689-b7cf-39c9609377b2",
   "metadata": {
    "papermill": {
     "duration": 0.017452,
     "end_time": "2025-02-27T06:31:37.823185",
     "exception": false,
     "start_time": "2025-02-27T06:31:37.805733",
     "status": "completed"
    },
    "tags": []
   },
   "source": [
    "We'll also need the reversed ports:"
   ]
  },
  {
   "cell_type": "code",
   "execution_count": null,
   "id": "9a70463f",
   "metadata": {
    "papermill": {
     "duration": 0.024896,
     "end_time": "2025-02-27T06:31:37.866231",
     "exception": false,
     "start_time": "2025-02-27T06:31:37.841335",
     "status": "completed"
    },
    "tags": []
   },
   "outputs": [],
   "source": [
    "inverse_ports = {v: k for k, v in ports.items()}\n",
    "inverse_ports"
   ]
  },
  {
   "cell_type": "markdown",
   "id": "12b5afd1-85e3-4633-af9a-1ed4c7214c1b",
   "metadata": {
    "papermill": {
     "duration": 0.019235,
     "end_time": "2025-02-27T06:31:37.903659",
     "exception": false,
     "start_time": "2025-02-27T06:31:37.884424",
     "status": "completed"
    },
    "tags": []
   },
   "source": [
    "An the port indices"
   ]
  },
  {
   "cell_type": "code",
   "execution_count": null,
   "id": "8e18d182",
   "metadata": {
    "papermill": {
     "duration": 0.025705,
     "end_time": "2025-02-27T06:31:37.948345",
     "exception": false,
     "start_time": "2025-02-27T06:31:37.922640",
     "status": "completed"
    },
    "tags": []
   },
   "outputs": [],
   "source": [
    "port_map = {k: i for i, k in enumerate(ports)}\n",
    "port_map"
   ]
  },
  {
   "cell_type": "markdown",
   "id": "5b2f18ae-af08-4482-8b0f-a72c1fee13d5",
   "metadata": {
    "papermill": {
     "duration": 0.019711,
     "end_time": "2025-02-27T06:31:37.987753",
     "exception": false,
     "start_time": "2025-02-27T06:31:37.968042",
     "status": "completed"
    },
    "tags": []
   },
   "source": [
    "Let's now create the COO-representation of our block diagonal S-matrix $S_{bd}$:"
   ]
  },
  {
   "cell_type": "code",
   "execution_count": null,
   "id": "835deb8f",
   "metadata": {
    "papermill": {
     "duration": 0.032702,
     "end_time": "2025-02-27T06:31:38.040790",
     "exception": false,
     "start_time": "2025-02-27T06:31:38.008088",
     "status": "completed"
    },
    "tags": []
   },
   "outputs": [],
   "source": [
    "idx, Si, Sj, Sx, instance_ports = 0, [], [], [], {}\n",
    "batch_shape = ()\n",
    "for name, instance in instances.items():\n",
    "    s = models[instance[\"component\"]]()\n",
    "    si, sj, sx, ports_map = sax.scoo(s)\n",
    "    Si.append(si + idx)\n",
    "    Sj.append(sj + idx)\n",
    "    Sx.append(sx)\n",
    "    if len(sx.shape[:-1]) > len(batch_shape):\n",
    "        batch_shape = sx.shape[:-1]\n",
    "    instance_ports.update({f\"{name},{p}\": i + idx for p, i in ports_map.items()})\n",
    "    idx += len(ports_map)\n",
    "Si = jnp.concatenate(Si, -1)\n",
    "Sj = jnp.concatenate(Sj, -1)\n",
    "Sx = jnp.concatenate(\n",
    "    [jnp.broadcast_to(sx, (*batch_shape, sx.shape[-1])) for sx in Sx], -1\n",
    ")\n",
    "\n",
    "print(Si)\n",
    "print(Sj)\n",
    "print(Sx)"
   ]
  },
  {
   "cell_type": "markdown",
   "id": "9b98486a-f99a-4284-89ee-302049fb6e0d",
   "metadata": {
    "papermill": {
     "duration": 0.018762,
     "end_time": "2025-02-27T06:31:38.078525",
     "exception": false,
     "start_time": "2025-02-27T06:31:38.059763",
     "status": "completed"
    },
    "tags": []
   },
   "source": [
    "note that we also kept track of the `batch_shape`, i.e. the number of independent simulations (usually number of wavelengths). In the example being used here we don't have a batch dimension (all elements of the `SDict` are `0D`):"
   ]
  },
  {
   "cell_type": "code",
   "execution_count": null,
   "id": "7513759a",
   "metadata": {
    "papermill": {
     "duration": 0.024832,
     "end_time": "2025-02-27T06:31:38.122759",
     "exception": false,
     "start_time": "2025-02-27T06:31:38.097927",
     "status": "completed"
    },
    "tags": []
   },
   "outputs": [],
   "source": [
    "batch_shape"
   ]
  },
  {
   "cell_type": "markdown",
   "id": "183f6113-0f54-47f9-87c4-c3ec2ec3ec85",
   "metadata": {
    "papermill": {
     "duration": 0.020067,
     "end_time": "2025-02-27T06:31:38.161513",
     "exception": false,
     "start_time": "2025-02-27T06:31:38.141446",
     "status": "completed"
    },
    "tags": []
   },
   "source": [
    "We'll also keep track of the number of columns"
   ]
  },
  {
   "cell_type": "code",
   "execution_count": null,
   "id": "89000432",
   "metadata": {
    "papermill": {
     "duration": 0.026182,
     "end_time": "2025-02-27T06:31:38.207172",
     "exception": false,
     "start_time": "2025-02-27T06:31:38.180990",
     "status": "completed"
    },
    "tags": []
   },
   "outputs": [],
   "source": [
    "n_col = idx\n",
    "n_col"
   ]
  },
  {
   "cell_type": "markdown",
   "id": "ed6ec22f-4bb6-4a84-9143-435ca8dddb8b",
   "metadata": {
    "papermill": {
     "duration": 0.019524,
     "end_time": "2025-02-27T06:31:38.245061",
     "exception": false,
     "start_time": "2025-02-27T06:31:38.225537",
     "status": "completed"
    },
    "tags": []
   },
   "source": [
    "And we'll need to solve the circuit for each output port, i.e. we need to solve `n_rhs` number of equations:"
   ]
  },
  {
   "cell_type": "code",
   "execution_count": null,
   "id": "27902354",
   "metadata": {
    "papermill": {
     "duration": 0.0294,
     "end_time": "2025-02-27T06:31:38.293943",
     "exception": false,
     "start_time": "2025-02-27T06:31:38.264543",
     "status": "completed"
    },
    "tags": []
   },
   "outputs": [],
   "source": [
    "n_rhs = len(port_map)\n",
    "n_rhs"
   ]
  },
  {
   "cell_type": "markdown",
   "id": "e6eb8aaa-0e61-4080-9e86-544167a58e46",
   "metadata": {
    "papermill": {
     "duration": 0.026135,
     "end_time": "2025-02-27T06:31:38.349052",
     "exception": false,
     "start_time": "2025-02-27T06:31:38.322917",
     "status": "completed"
    },
    "tags": []
   },
   "source": [
    "We can represent the internal connection matrix $C_{int}$ as a mapping between port indices:"
   ]
  },
  {
   "cell_type": "code",
   "execution_count": null,
   "id": "f3ff1fa7",
   "metadata": {
    "papermill": {
     "duration": 0.035059,
     "end_time": "2025-02-27T06:31:38.413176",
     "exception": false,
     "start_time": "2025-02-27T06:31:38.378117",
     "status": "completed"
    },
    "tags": []
   },
   "outputs": [],
   "source": [
    "Cmap = {int(instance_ports[k]): int(instance_ports[v]) for k, v in connections.items()}\n",
    "Cmap"
   ]
  },
  {
   "cell_type": "markdown",
   "id": "b9db7990-fe17-4cca-907a-cca94b06f03b",
   "metadata": {
    "papermill": {
     "duration": 0.021217,
     "end_time": "2025-02-27T06:31:38.465548",
     "exception": false,
     "start_time": "2025-02-27T06:31:38.444331",
     "status": "completed"
    },
    "tags": []
   },
   "source": [
    "Therefore, the COO-representation of this connection matrix can be obtained as follows (note that an array of values Cx is not necessary, all non-zero elements in a connection matrix are 1)"
   ]
  },
  {
   "cell_type": "code",
   "execution_count": null,
   "id": "9e4f1728",
   "metadata": {
    "papermill": {
     "duration": 0.029408,
     "end_time": "2025-02-27T06:31:38.512682",
     "exception": false,
     "start_time": "2025-02-27T06:31:38.483274",
     "status": "completed"
    },
    "tags": []
   },
   "outputs": [],
   "source": [
    "Ci = jnp.array(list(Cmap.keys()), dtype=jnp.int32)\n",
    "Cj = jnp.array(list(Cmap.values()), dtype=jnp.int32)\n",
    "print(Ci)\n",
    "print(Cj)"
   ]
  },
  {
   "cell_type": "markdown",
   "id": "0fc2572d-3af5-4ab9-a12d-d7b8487ca84f",
   "metadata": {
    "papermill": {
     "duration": 0.019549,
     "end_time": "2025-02-27T06:31:38.552196",
     "exception": false,
     "start_time": "2025-02-27T06:31:38.532647",
     "status": "completed"
    },
    "tags": []
   },
   "source": [
    "We can represent the external connection matrix $C_{ext}$ as a map between internal port indices and external port indices:"
   ]
  },
  {
   "cell_type": "code",
   "execution_count": null,
   "id": "f56ae166",
   "metadata": {
    "papermill": {
     "duration": 0.028157,
     "end_time": "2025-02-27T06:31:38.601276",
     "exception": false,
     "start_time": "2025-02-27T06:31:38.573119",
     "status": "completed"
    },
    "tags": []
   },
   "outputs": [],
   "source": [
    "Cextmap = {int(instance_ports[k]): int(port_map[v]) for k, v in inverse_ports.items()}\n",
    "Cextmap"
   ]
  },
  {
   "cell_type": "markdown",
   "id": "0e406982-d2c9-426e-ac46-fa4650e2f7dc",
   "metadata": {
    "papermill": {
     "duration": 0.020881,
     "end_time": "2025-02-27T06:31:38.644829",
     "exception": false,
     "start_time": "2025-02-27T06:31:38.623948",
     "status": "completed"
    },
    "tags": []
   },
   "source": [
    "Just as for the internal matrix we can represent this external connection matrix in COO-format:"
   ]
  },
  {
   "cell_type": "code",
   "execution_count": null,
   "id": "cfb419ac",
   "metadata": {
    "papermill": {
     "duration": 0.035078,
     "end_time": "2025-02-27T06:31:38.702178",
     "exception": false,
     "start_time": "2025-02-27T06:31:38.667100",
     "status": "completed"
    },
    "tags": []
   },
   "outputs": [],
   "source": [
    "Cexti = jnp.stack(list(Cextmap.keys()), 0)\n",
    "Cextj = jnp.stack(list(Cextmap.values()), 0)\n",
    "print(Cexti)\n",
    "print(Cextj)"
   ]
  },
  {
   "cell_type": "markdown",
   "id": "933aab49-ec05-4690-8caf-adbc93f0f715",
   "metadata": {
    "papermill": {
     "duration": 0.023122,
     "end_time": "2025-02-27T06:31:38.747851",
     "exception": false,
     "start_time": "2025-02-27T06:31:38.724729",
     "status": "completed"
    },
    "tags": []
   },
   "source": [
    "However, we actually need it as a dense representation:\n",
    "\n",
    "> help needed: can we find a way later on to keep this sparse?"
   ]
  },
  {
   "cell_type": "code",
   "execution_count": null,
   "id": "25c4ec6e",
   "metadata": {
    "papermill": {
     "duration": 0.034347,
     "end_time": "2025-02-27T06:31:38.807608",
     "exception": false,
     "start_time": "2025-02-27T06:31:38.773261",
     "status": "completed"
    },
    "tags": []
   },
   "outputs": [],
   "source": [
    "Cext = jnp.zeros((n_col, n_rhs), dtype=complex).at[Cexti, Cextj].set(1.0)\n",
    "Cext"
   ]
  },
  {
   "cell_type": "markdown",
   "id": "ee0e1a8b-21cd-4a81-a3e9-e312cc94ae6e",
   "metadata": {
    "papermill": {
     "duration": 0.023764,
     "end_time": "2025-02-27T06:31:38.855129",
     "exception": false,
     "start_time": "2025-02-27T06:31:38.831365",
     "status": "completed"
    },
    "tags": []
   },
   "source": [
    "We'll now calculate the row index `CSi` of $C_{int}S_{bd}$ in COO-format:"
   ]
  },
  {
   "cell_type": "code",
   "execution_count": null,
   "id": "1a7e87d1",
   "metadata": {
    "papermill": {
     "duration": 0.035016,
     "end_time": "2025-02-27T06:31:38.913320",
     "exception": false,
     "start_time": "2025-02-27T06:31:38.878304",
     "status": "completed"
    },
    "tags": []
   },
   "outputs": [],
   "source": [
    "# TODO: make this block jittable...\n",
    "Ix = jnp.ones((*batch_shape, n_col))\n",
    "Ii = Ij = jnp.arange(n_col)\n",
    "mask = Cj[None, :] == Si[:, None]\n",
    "CSi = jnp.broadcast_to(Ci[None, :], mask.shape)[mask]\n",
    "CSi"
   ]
  },
  {
   "cell_type": "markdown",
   "id": "48d97ac6-ec8b-4040-9310-b49de1d69810",
   "metadata": {
    "papermill": {
     "duration": 0.026672,
     "end_time": "2025-02-27T06:31:38.967577",
     "exception": false,
     "start_time": "2025-02-27T06:31:38.940905",
     "status": "completed"
    },
    "tags": []
   },
   "source": [
    "> `CSi`: possible jittable alternative? how do we remove the zeros?"
   ]
  },
  {
   "cell_type": "code",
   "execution_count": null,
   "id": "d4ea2cb5",
   "metadata": {
    "papermill": {
     "duration": 0.110262,
     "end_time": "2025-02-27T06:31:39.102901",
     "exception": false,
     "start_time": "2025-02-27T06:31:38.992639",
     "status": "completed"
    },
    "tags": []
   },
   "outputs": [],
   "source": [
    "CSi_ = jnp.where(Cj[None, :] == Si[:, None], Ci[None, :], 0).sum(1)  # not used\n",
    "CSi_  # not used"
   ]
  },
  {
   "cell_type": "markdown",
   "id": "40923193-6a18-479f-9bc6-63a32fdf1f0a",
   "metadata": {
    "papermill": {
     "duration": 0.026533,
     "end_time": "2025-02-27T06:31:39.156149",
     "exception": false,
     "start_time": "2025-02-27T06:31:39.129616",
     "status": "completed"
    },
    "tags": []
   },
   "source": [
    "The column index `CSj` of $C_{int}S_{bd}$ can more easily be obtained:"
   ]
  },
  {
   "cell_type": "code",
   "execution_count": null,
   "id": "f71fdd7c",
   "metadata": {
    "papermill": {
     "duration": 0.034414,
     "end_time": "2025-02-27T06:31:39.217888",
     "exception": false,
     "start_time": "2025-02-27T06:31:39.183474",
     "status": "completed"
    },
    "tags": []
   },
   "outputs": [],
   "source": [
    "mask = (Cj[:, None] == Si[None, :]).any(0)\n",
    "CSj = Sj[mask]\n",
    "CSj"
   ]
  },
  {
   "cell_type": "markdown",
   "id": "86928ec4-0935-4876-b0eb-bb25945e2e6b",
   "metadata": {
    "papermill": {
     "duration": 0.024564,
     "end_time": "2025-02-27T06:31:39.266464",
     "exception": false,
     "start_time": "2025-02-27T06:31:39.241900",
     "status": "completed"
    },
    "tags": []
   },
   "source": [
    "Finally, the values `CSx` of $C_{int}S_{bd}$ can be obtained as follows:"
   ]
  },
  {
   "cell_type": "code",
   "execution_count": null,
   "id": "59d2e1b2",
   "metadata": {
    "papermill": {
     "duration": 0.048515,
     "end_time": "2025-02-27T06:31:39.339708",
     "exception": false,
     "start_time": "2025-02-27T06:31:39.291193",
     "status": "completed"
    },
    "tags": []
   },
   "outputs": [],
   "source": [
    "CSx = Sx[..., mask]\n",
    "CSx"
   ]
  },
  {
   "cell_type": "markdown",
   "id": "85689511-e580-4e8c-93b6-3c4744624889",
   "metadata": {
    "papermill": {
     "duration": 0.019071,
     "end_time": "2025-02-27T06:31:39.378700",
     "exception": false,
     "start_time": "2025-02-27T06:31:39.359629",
     "status": "completed"
    },
    "tags": []
   },
   "source": [
    "Now we calculate $I - C_{int}S_{bd}$ in an *uncoalesced* way (we might have duplicate indices on the diagonal):\n",
    "\n",
    "> **uncoalesced**: having duplicate index combinations (i, j) in the representation possibly with different corresponding values. This is usually not a problem as in linear operations these values will end up to be summed, usually the behavior you want:"
   ]
  },
  {
   "cell_type": "code",
   "execution_count": null,
   "id": "53c3f4ab",
   "metadata": {
    "papermill": {
     "duration": 0.029749,
     "end_time": "2025-02-27T06:31:39.427317",
     "exception": false,
     "start_time": "2025-02-27T06:31:39.397568",
     "status": "completed"
    },
    "tags": []
   },
   "outputs": [],
   "source": [
    "I_CSi = jnp.concatenate([CSi, Ii], -1)\n",
    "I_CSj = jnp.concatenate([CSj, Ij], -1)\n",
    "I_CSx = jnp.concatenate([-CSx, Ix], -1)\n",
    "print(I_CSi)\n",
    "print(I_CSj)\n",
    "print(I_CSx)"
   ]
  },
  {
   "cell_type": "code",
   "execution_count": null,
   "id": "188e4606",
   "metadata": {
    "papermill": {
     "duration": 0.033608,
     "end_time": "2025-02-27T06:31:39.486724",
     "exception": false,
     "start_time": "2025-02-27T06:31:39.453116",
     "status": "completed"
    },
    "tags": []
   },
   "outputs": [],
   "source": [
    "n_col, n_rhs = Cext.shape\n",
    "print(n_col, n_rhs)"
   ]
  },
  {
   "cell_type": "markdown",
   "id": "f39b59a8-d495-433f-92bc-2396fb0b28f9",
   "metadata": {
    "papermill": {
     "duration": 0.02189,
     "end_time": "2025-02-27T06:31:39.532200",
     "exception": false,
     "start_time": "2025-02-27T06:31:39.510310",
     "status": "completed"
    },
    "tags": []
   },
   "source": [
    "The batch shape dimension can generally speaking be anything (in the example here 0D). We need to do the necessary reshapings to make the batch shape 1D:"
   ]
  },
  {
   "cell_type": "code",
   "execution_count": null,
   "id": "dad259e7",
   "metadata": {
    "papermill": {
     "duration": 0.046341,
     "end_time": "2025-02-27T06:31:39.598631",
     "exception": false,
     "start_time": "2025-02-27T06:31:39.552290",
     "status": "completed"
    },
    "tags": []
   },
   "outputs": [],
   "source": [
    "n_lhs = jnp.prod(jnp.array(batch_shape, dtype=jnp.int32))\n",
    "print(n_lhs)"
   ]
  },
  {
   "cell_type": "code",
   "execution_count": null,
   "id": "9cf69da7",
   "metadata": {
    "papermill": {
     "duration": 0.02419,
     "end_time": "2025-02-27T06:31:39.642150",
     "exception": false,
     "start_time": "2025-02-27T06:31:39.617960",
     "status": "completed"
    },
    "tags": []
   },
   "outputs": [],
   "source": [
    "Sx = Sx.reshape(n_lhs, -1)\n",
    "Sx.shape"
   ]
  },
  {
   "cell_type": "code",
   "execution_count": null,
   "id": "788294fa",
   "metadata": {
    "papermill": {
     "duration": 0.022247,
     "end_time": "2025-02-27T06:31:39.681723",
     "exception": false,
     "start_time": "2025-02-27T06:31:39.659476",
     "status": "completed"
    },
    "tags": []
   },
   "outputs": [],
   "source": [
    "I_CSx = I_CSx.reshape(n_lhs, -1)\n",
    "I_CSx.shape"
   ]
  },
  {
   "cell_type": "markdown",
   "id": "fface8e7-ccd3-4dd9-aa88-532c91fd34d3",
   "metadata": {
    "papermill": {
     "duration": 0.021811,
     "end_time": "2025-02-27T06:31:39.721449",
     "exception": false,
     "start_time": "2025-02-27T06:31:39.699638",
     "status": "completed"
    },
    "tags": []
   },
   "source": [
    "We're finally ready to do the most important part of the calculation, which we conveniently leave to `klujax` and `SuiteSparse`:"
   ]
  },
  {
   "cell_type": "code",
   "execution_count": null,
   "id": "9c1d8644",
   "metadata": {
    "papermill": {
     "duration": 0.023523,
     "end_time": "2025-02-27T06:31:39.762925",
     "exception": false,
     "start_time": "2025-02-27T06:31:39.739402",
     "status": "completed"
    },
    "tags": []
   },
   "outputs": [],
   "source": [
    "inv_I_CS_Cext = solve_klu(I_CSi, I_CSj, I_CSx, Cext)"
   ]
  },
  {
   "cell_type": "markdown",
   "id": "0c63faff-930d-4006-aaa1-4809396f6aff",
   "metadata": {
    "papermill": {
     "duration": 0.017355,
     "end_time": "2025-02-27T06:31:39.797341",
     "exception": false,
     "start_time": "2025-02-27T06:31:39.779986",
     "status": "completed"
    },
    "tags": []
   },
   "source": [
    "one more sparse multiplication:"
   ]
  },
  {
   "cell_type": "code",
   "execution_count": null,
   "id": "cccda072",
   "metadata": {
    "papermill": {
     "duration": 0.023476,
     "end_time": "2025-02-27T06:31:39.839034",
     "exception": false,
     "start_time": "2025-02-27T06:31:39.815558",
     "status": "completed"
    },
    "tags": []
   },
   "outputs": [],
   "source": [
    "S_inv_I_CS_Cext = mul_coo(Si, Sj, Sx, inv_I_CS_Cext)"
   ]
  },
  {
   "cell_type": "markdown",
   "id": "6cb6b730-eef1-41ea-a190-83be5f631dec",
   "metadata": {
    "papermill": {
     "duration": 0.017149,
     "end_time": "2025-02-27T06:31:39.873354",
     "exception": false,
     "start_time": "2025-02-27T06:31:39.856205",
     "status": "completed"
    },
    "tags": []
   },
   "source": [
    "And one more $C_{ext}$ multiplication which we do by clever indexing:"
   ]
  },
  {
   "cell_type": "code",
   "execution_count": null,
   "id": "12ff877c",
   "metadata": {
    "papermill": {
     "duration": 0.025246,
     "end_time": "2025-02-27T06:31:39.915804",
     "exception": false,
     "start_time": "2025-02-27T06:31:39.890558",
     "status": "completed"
    },
    "tags": []
   },
   "outputs": [],
   "source": [
    "CextT_S_inv_I_CS_Cext = S_inv_I_CS_Cext[..., Cexti, :][..., :, Cextj]\n",
    "CextT_S_inv_I_CS_Cext"
   ]
  },
  {
   "cell_type": "markdown",
   "id": "9b046892-0c5e-466f-ae44-8c5d04763317",
   "metadata": {
    "papermill": {
     "duration": 0.017452,
     "end_time": "2025-02-27T06:31:39.950181",
     "exception": false,
     "start_time": "2025-02-27T06:31:39.932729",
     "status": "completed"
    },
    "tags": []
   },
   "source": [
    "That's it! We found the S-matrix of the circuit. We just need to reshape the batch dimension back into the matrix:"
   ]
  },
  {
   "cell_type": "code",
   "execution_count": null,
   "id": "cbf962af",
   "metadata": {
    "papermill": {
     "duration": 0.023483,
     "end_time": "2025-02-27T06:31:39.991170",
     "exception": false,
     "start_time": "2025-02-27T06:31:39.967687",
     "status": "completed"
    },
    "tags": []
   },
   "outputs": [],
   "source": [
    "_, n, _ = CextT_S_inv_I_CS_Cext.shape\n",
    "S = CextT_S_inv_I_CS_Cext.reshape(*batch_shape, n, n)\n",
    "S"
   ]
  },
  {
   "cell_type": "markdown",
   "id": "ebc6d33d-49fe-4dfb-b166-41051a64b9fd",
   "metadata": {
    "papermill": {
     "duration": 0.017503,
     "end_time": "2025-02-27T06:31:40.025848",
     "exception": false,
     "start_time": "2025-02-27T06:31:40.008345",
     "status": "completed"
    },
    "tags": []
   },
   "source": [
    "Oh and to complete the `SDense` representation we need to specify the port map as well:"
   ]
  },
  {
   "cell_type": "code",
   "execution_count": null,
   "id": "21098a45",
   "metadata": {
    "papermill": {
     "duration": 0.023012,
     "end_time": "2025-02-27T06:31:40.066228",
     "exception": false,
     "start_time": "2025-02-27T06:31:40.043216",
     "status": "completed"
    },
    "tags": []
   },
   "outputs": [],
   "source": [
    "port_map"
   ]
  },
  {
   "cell_type": "markdown",
   "id": "4297d283-33c5-4c7b-902c-cec838b90fbb",
   "metadata": {
    "papermill": {
     "duration": 0.017325,
     "end_time": "2025-02-27T06:31:40.100739",
     "exception": false,
     "start_time": "2025-02-27T06:31:40.083414",
     "status": "completed"
    },
    "tags": []
   },
   "source": [
    "### Algorithm Improvements"
   ]
  },
  {
   "cell_type": "markdown",
   "id": "94154f27-1b9a-40b2-bb24-edd357cb081d",
   "metadata": {
    "papermill": {
     "duration": 0.017556,
     "end_time": "2025-02-27T06:31:40.135936",
     "exception": false,
     "start_time": "2025-02-27T06:31:40.118380",
     "status": "completed"
    },
    "tags": []
   },
   "source": [
    "This algorithm is \n",
    "\n",
    "* very fast for large circuits 🙂\n",
    "* jittable 🙂\n",
    "* differentiable 🙂\n",
    "\n",
    "This algorithm is however:\n",
    "\n",
    "* **not** GPU-compatible 🙂\n",
    "\n",
    "There are probably still plenty of improvements possible for this algorithm:\n",
    "\n",
    "* **¿** make it GPU compatible (requires making suitesparse GPU compatible... probably not gonna happen)**?**\n"
   ]
  },
  {
   "cell_type": "markdown",
   "id": "af865f32-a6a3-44c5-b4cf-08859c99c6f1",
   "metadata": {
    "papermill": {
     "duration": 0.017852,
     "end_time": "2025-02-27T06:31:40.172662",
     "exception": false,
     "start_time": "2025-02-27T06:31:40.154810",
     "status": "completed"
    },
    "tags": []
   },
   "source": [
    ":::{note}\n",
    "Since The KLU Backend is Superior to the Filipsson-Gunnar backend, SAX will default (since v0.10.0) to the KLU backend if `klujax` is installed.name1\n",
    ":::"
   ]
  },
  {
   "cell_type": "code",
   "execution_count": null,
   "id": "6673c7db-7f25-4121-b441-f379fc3bf09c",
   "metadata": {
    "papermill": {
     "duration": 0.024622,
     "end_time": "2025-02-27T06:31:40.214753",
     "exception": false,
     "start_time": "2025-02-27T06:31:40.190131",
     "status": "completed"
    },
    "tags": []
   },
   "outputs": [],
   "source": [
    "# default_exp backends.additive"
   ]
  },
  {
   "cell_type": "markdown",
   "id": "32d1b715-7b0e-4f00-b61f-939e931178bc",
   "metadata": {
    "papermill": {
     "duration": 0.020287,
     "end_time": "2025-02-27T06:31:40.255398",
     "exception": false,
     "start_time": "2025-02-27T06:31:40.235111",
     "status": "completed"
    },
    "tags": []
   },
   "source": [
    "## Additive Backend\n",
    "\n",
    "```{eval-rst}\n",
    ".. autofunction:: sax.backends.analyze_circuit_additive\n",
    "```\n",
    "\n",
    "```{eval-rst}\n",
    ".. autofunction:: sax.backends.evaluate_circuit_additive\n",
    "```\n",
    "\n",
    "Sometimes we would like to calculate circuit path lengths or time delays within a circuit. We could obviously simulate these things with a time domain simulator, but in many cases a simple additive backend (as opposed to the default multiplicative backend) can suffice."
   ]
  },
  {
   "cell_type": "markdown",
   "id": "ab5eac26-7c71-446c-8e66-547a064f9192",
   "metadata": {
    "papermill": {
     "duration": 0.017745,
     "end_time": "2025-02-27T06:31:40.292191",
     "exception": false,
     "start_time": "2025-02-27T06:31:40.274446",
     "status": "completed"
    },
    "tags": []
   },
   "source": [
    "### Example\n",
    "\n",
    ":::{note}\n",
    "in stead of S-parameters the stypes need to contain *additive* parameters, such as length or time delay.\n",
    ":::"
   ]
  },
  {
   "cell_type": "code",
   "execution_count": null,
   "id": "1ddc3a12-be7f-4327-be60-2a46c51bb21f",
   "metadata": {
    "papermill": {
     "duration": 0.042409,
     "end_time": "2025-02-27T06:31:40.352577",
     "exception": false,
     "start_time": "2025-02-27T06:31:40.310168",
     "status": "completed"
    },
    "tags": []
   },
   "outputs": [],
   "source": [
    "wg_sdict = {\n",
    "    (\"in0\", \"out0\"): jnp.array(\n",
    "        [100.0, 200.0, 300.0]\n",
    "    ),  # assume for now there are three possible paths between these two ports.\n",
    "    (\"out0\", \"in0\"): jnp.array(\n",
    "        [100.0, 200.0, 300.0]\n",
    "    ),  # assume for now there are three possible paths between these two ports.\n",
    "}\n",
    "\n",
    "dc_sdict = {\n",
    "    (\"in0\", \"out0\"): jnp.array(\n",
    "        [10.0, 20.0]\n",
    "    ),  # assume for now there are two possible paths between these two ports.\n",
    "    (\"in0\", \"out1\"): 15.0,\n",
    "    (\"in1\", \"out0\"): 15.0,\n",
    "    (\"in1\", \"out1\"): jnp.array(\n",
    "        [10.0, 20.0]\n",
    "    ),  # assume for now there are two possible paths between these two ports.\n",
    "}\n",
    "\n",
    "instances = {\n",
    "    \"dc1\": {\"component\": \"dc\"},\n",
    "    \"wg\": {\"component\": \"wg\"},\n",
    "    \"dc2\": {\"component\": \"dc\"},\n",
    "}\n",
    "connections = {\n",
    "    \"dc1,out0\": \"wg,in0\",\n",
    "    \"wg,out0\": \"dc2,in0\",\n",
    "    \"dc1,out1\": \"dc2,in1\",\n",
    "}\n",
    "ports = {\n",
    "    \"in0\": \"dc1,in0\",\n",
    "    \"in1\": \"dc1,in1\",\n",
    "    \"out0\": \"dc2,out0\",\n",
    "    \"out1\": \"dc2,out1\",\n",
    "}\n",
    "models = {\n",
    "    \"wg\": lambda: wg_sdict,\n",
    "    \"dc\": lambda: dc_sdense,\n",
    "}"
   ]
  },
  {
   "cell_type": "markdown",
   "id": "c6847c46-6c4a-4b55-899c-55925dfe6538",
   "metadata": {
    "papermill": {
     "duration": 0.015827,
     "end_time": "2025-02-27T06:31:40.385348",
     "exception": false,
     "start_time": "2025-02-27T06:31:40.369521",
     "status": "completed"
    },
    "tags": []
   },
   "source": [
    ":::{note}\n",
    "it is recommended to **not** use an `SDense` representation for the additive backend. Very often an `SDense` representation will introduce **zeros** which will be interpreted as an **existing connection with zero length**. Conversely, in a sparse representation like `SDict` or `SCoo`, non-existing elements will be just that: they will not be present in the internal graph.\n",
    ":::"
   ]
  },
  {
   "cell_type": "code",
   "execution_count": null,
   "id": "e9cecb32-f18f-4c48-a2cb-ed92102c9fdc",
   "metadata": {
    "papermill": {
     "duration": 0.093423,
     "end_time": "2025-02-27T06:31:40.496232",
     "exception": false,
     "start_time": "2025-02-27T06:31:40.402809",
     "status": "completed"
    },
    "tags": []
   },
   "outputs": [],
   "source": [
    "edges = sax.backends.additive._graph_edges(\n",
    "    {k: models[v[\"component\"]]() for k, v in instances.items()}, connections, ports\n",
    ")\n",
    "edges"
   ]
  },
  {
   "cell_type": "markdown",
   "id": "5dee9ce2-8ca6-4f7e-b5a3-f68f20e88adc",
   "metadata": {
    "papermill": {
     "duration": 0.015816,
     "end_time": "2025-02-27T06:31:40.528017",
     "exception": false,
     "start_time": "2025-02-27T06:31:40.512201",
     "status": "completed"
    },
    "tags": []
   },
   "source": [
    "We made a difference here between edges of 'S'-type (connections through the S-matrix) and edges of 'C'-type (connections through the connection matrix). Connections of 'C'-type obviously always have length zero as they signify per definition the equality of two ports."
   ]
  },
  {
   "cell_type": "markdown",
   "id": "23f444b0-a52b-433a-8548-4a9955dfb4fb",
   "metadata": {
    "papermill": {
     "duration": 0.017135,
     "end_time": "2025-02-27T06:31:40.561956",
     "exception": false,
     "start_time": "2025-02-27T06:31:40.544821",
     "status": "completed"
    },
    "tags": []
   },
   "source": [
    "We can create a NetworkX graph from these edges:"
   ]
  },
  {
   "cell_type": "code",
   "execution_count": null,
   "id": "b0191057-9499-475e-a770-34e393554a94",
   "metadata": {
    "papermill": {
     "duration": 0.775996,
     "end_time": "2025-02-27T06:31:41.355230",
     "exception": false,
     "start_time": "2025-02-27T06:31:40.579234",
     "status": "completed"
    },
    "tags": []
   },
   "outputs": [],
   "source": [
    "graph = nx.Graph()\n",
    "graph.add_edges_from(edges)\n",
    "nx.draw_kamada_kawai(graph, with_labels=True)"
   ]
  },
  {
   "cell_type": "code",
   "execution_count": null,
   "id": "035b450d-54aa-43c5-8cc6-2b9e5e2e5021",
   "metadata": {
    "papermill": {
     "duration": 0.164139,
     "end_time": "2025-02-27T06:31:41.537527",
     "exception": false,
     "start_time": "2025-02-27T06:31:41.373388",
     "status": "completed"
    },
    "tags": []
   },
   "outputs": [],
   "source": [
    "graph = sax.backends.additive._prune_internal_output_nodes(graph)\n",
    "nx.draw_kamada_kawai(graph, with_labels=True)"
   ]
  },
  {
   "cell_type": "markdown",
   "id": "32b7daf2-c374-4c8d-bbe5-ad39c0f9af44",
   "metadata": {
    "papermill": {
     "duration": 0.021334,
     "end_time": "2025-02-27T06:31:41.580028",
     "exception": false,
     "start_time": "2025-02-27T06:31:41.558694",
     "status": "completed"
    },
    "tags": []
   },
   "source": [
    "We can now get a list of all possible paths in the network. Note that these paths **must** alternate between an S-edge and a C-edge:"
   ]
  },
  {
   "cell_type": "code",
   "execution_count": null,
   "id": "176ea6a5-bb16-4232-8a42-6da2371de2fe",
   "metadata": {
    "papermill": {
     "duration": 0.02968,
     "end_time": "2025-02-27T06:31:41.630654",
     "exception": false,
     "start_time": "2025-02-27T06:31:41.600974",
     "status": "completed"
    },
    "tags": []
   },
   "outputs": [],
   "source": [
    "paths = sax.backends.additive._get_possible_paths(graph, (\"\", \"in0\"), (\"\", \"out0\"))\n",
    "paths"
   ]
  },
  {
   "cell_type": "markdown",
   "id": "68766ba9-0991-45f5-aa7d-1bcca8db332d",
   "metadata": {
    "papermill": {
     "duration": 0.023167,
     "end_time": "2025-02-27T06:31:41.673435",
     "exception": false,
     "start_time": "2025-02-27T06:31:41.650268",
     "status": "completed"
    },
    "tags": []
   },
   "source": [
    "And the path lengths of those paths can be calculated as follows:"
   ]
  },
  {
   "cell_type": "code",
   "execution_count": null,
   "id": "c3063587-c9aa-4b26-ae70-4b9b770f33ae",
   "metadata": {
    "papermill": {
     "duration": 0.160856,
     "end_time": "2025-02-27T06:31:41.856407",
     "exception": false,
     "start_time": "2025-02-27T06:31:41.695551",
     "status": "completed"
    },
    "tags": []
   },
   "outputs": [],
   "source": [
    "sax.backends.additive._path_lengths(graph, paths)"
   ]
  },
  {
   "cell_type": "markdown",
   "id": "95f6d1e0-ef8f-4394-a9b1-b8cbdfb6051e",
   "metadata": {
    "papermill": {
     "duration": 0.022369,
     "end_time": "2025-02-27T06:31:41.902478",
     "exception": false,
     "start_time": "2025-02-27T06:31:41.880109",
     "status": "completed"
    },
    "tags": []
   },
   "source": [
    "This is all brought together in the additive KLU backend:"
   ]
  },
  {
   "cell_type": "code",
   "execution_count": null,
   "id": "72f14aaa-a682-4734-beb9-5e0e89b960c3",
   "metadata": {
    "papermill": {
     "duration": 0.151409,
     "end_time": "2025-02-27T06:31:42.074013",
     "exception": false,
     "start_time": "2025-02-27T06:31:41.922604",
     "status": "completed"
    },
    "tags": []
   },
   "outputs": [],
   "source": [
    "analyzed_instances = sax.backends.analyze_instances_additive(instances, models)\n",
    "analyzed_circuit = sax.backends.analyze_circuit_additive(\n",
    "    analyzed_instances, connections, ports\n",
    ")\n",
    "sax.backends.evaluate_circuit_additive(\n",
    "    analyzed_circuit, {k: models[v[\"component\"]]() for k, v in instances.items()}\n",
    ")"
   ]
  }
 ],
 "metadata": {
  "kernelspec": {
   "display_name": "Python 3 (ipykernel)",
   "language": "python",
   "name": "python3"
  },
  "language_info": {
   "codemirror_mode": {
    "name": "ipython",
    "version": 3
   },
   "file_extension": ".py",
   "mimetype": "text/x-python",
   "name": "python",
   "nbconvert_exporter": "python",
   "pygments_lexer": "ipython3",
   "version": "3.12.6"
  }
 },
 "nbformat": 4,
 "nbformat_minor": 5
}
