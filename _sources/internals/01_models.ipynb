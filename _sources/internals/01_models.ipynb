{
  "cells": [
    {
      "cell_type": "markdown",
      "id": "986cb864",
      "metadata": {
        "papermill": {
          "duration": 0.003412,
          "end_time": "2024-06-17T21:26:30.903427",
          "exception": false,
          "start_time": "2024-06-17T21:26:30.900015",
          "status": "completed"
        },
        "tags": []
      },
      "source": [
        "# Models and Model Factories\n",
        "\n",
        "> Default SAX Models"
      ]
    },
    {
      "cell_type": "code",
      "execution_count": 1,
      "id": "3f208d18-cef7-4668-b532-6487912ecd17",
      "metadata": {
        "execution": {
          "iopub.execute_input": "2024-06-17T21:26:30.910127Z",
          "iopub.status.busy": "2024-06-17T21:26:30.909637Z",
          "iopub.status.idle": "2024-06-17T21:26:31.550916Z",
          "shell.execute_reply": "2024-06-17T21:26:31.550286Z"
        },
        "papermill": {
          "duration": 0.646323,
          "end_time": "2024-06-17T21:26:31.552544",
          "exception": false,
          "start_time": "2024-06-17T21:26:30.906221",
          "status": "completed"
        },
        "tags": []
      },
      "outputs": [],
      "source": [
        "import sax"
      ]
    },
    {
      "cell_type": "markdown",
      "id": "6905a550-61ed-4557-8cd5-d8a6e6ca5c0f",
      "metadata": {
        "papermill": {
          "duration": 0.002912,
          "end_time": "2024-06-17T21:26:31.558619",
          "exception": false,
          "start_time": "2024-06-17T21:26:31.555707",
          "status": "completed"
        },
        "tags": []
      },
      "source": [
        "## Simple Models"
      ]
    },
    {
      "cell_type": "code",
      "execution_count": 2,
      "id": "a99cec57",
      "metadata": {
        "execution": {
          "iopub.execute_input": "2024-06-17T21:26:31.565416Z",
          "iopub.status.busy": "2024-06-17T21:26:31.564684Z",
          "iopub.status.idle": "2024-06-17T21:26:31.620585Z",
          "shell.execute_reply": "2024-06-17T21:26:31.620071Z"
        },
        "papermill": {
          "duration": 0.060442,
          "end_time": "2024-06-17T21:26:31.621748",
          "exception": false,
          "start_time": "2024-06-17T21:26:31.561306",
          "status": "completed"
        },
        "tags": []
      },
      "outputs": [
        {
          "data": {
            "text/plain": [
              "{('in0', 'out0'): Array(0.82076344+0.57126822j, dtype=complex128),\n",
              " ('out0', 'in0'): Array(0.82076344+0.57126822j, dtype=complex128)}"
            ]
          },
          "execution_count": 2,
          "metadata": {},
          "output_type": "execute_result"
        }
      ],
      "source": [
        "sax.models.straight()"
      ]
    },
    {
      "cell_type": "code",
      "execution_count": 3,
      "id": "5fd87a22",
      "metadata": {
        "execution": {
          "iopub.execute_input": "2024-06-17T21:26:31.628548Z",
          "iopub.status.busy": "2024-06-17T21:26:31.628183Z",
          "iopub.status.idle": "2024-06-17T21:26:31.632260Z",
          "shell.execute_reply": "2024-06-17T21:26:31.631738Z"
        },
        "papermill": {
          "duration": 0.008747,
          "end_time": "2024-06-17T21:26:31.633410",
          "exception": false,
          "start_time": "2024-06-17T21:26:31.624663",
          "status": "completed"
        },
        "tags": []
      },
      "outputs": [
        {
          "data": {
            "text/plain": [
              "{('in0', 'out0'): 0.7071067811865476,\n",
              " ('in0', 'out1'): 0.7071067811865476j,\n",
              " ('in1', 'out0'): 0.7071067811865476j,\n",
              " ('in1', 'out1'): 0.7071067811865476,\n",
              " ('out0', 'in0'): 0.7071067811865476,\n",
              " ('out1', 'in0'): 0.7071067811865476j,\n",
              " ('out0', 'in1'): 0.7071067811865476j,\n",
              " ('out1', 'in1'): 0.7071067811865476}"
            ]
          },
          "execution_count": 3,
          "metadata": {},
          "output_type": "execute_result"
        }
      ],
      "source": [
        "sax.models.coupler()"
      ]
    },
    {
      "cell_type": "markdown",
      "id": "ca06c12f",
      "metadata": {
        "papermill": {
          "duration": 0.002803,
          "end_time": "2024-06-17T21:26:31.639077",
          "exception": false,
          "start_time": "2024-06-17T21:26:31.636274",
          "status": "completed"
        },
        "tags": []
      },
      "source": [
        "## Model Factories"
      ]
    },
    {
      "cell_type": "markdown",
      "id": "327febf2-70d5-48ed-8b39-bac2d9727db5",
      "metadata": {
        "papermill": {
          "duration": 0.002795,
          "end_time": "2024-06-17T21:26:31.644706",
          "exception": false,
          "start_time": "2024-06-17T21:26:31.641911",
          "status": "completed"
        },
        "tags": []
      },
      "source": [
        "A unitary model returns an `SCoo` by default:"
      ]
    },
    {
      "cell_type": "code",
      "execution_count": 4,
      "id": "e95bacdd",
      "metadata": {
        "execution": {
          "iopub.execute_input": "2024-06-17T21:26:31.651398Z",
          "iopub.status.busy": "2024-06-17T21:26:31.650949Z",
          "iopub.status.idle": "2024-06-17T21:26:32.424119Z",
          "shell.execute_reply": "2024-06-17T21:26:32.423581Z"
        },
        "papermill": {
          "duration": 0.777825,
          "end_time": "2024-06-17T21:26:32.425351",
          "exception": false,
          "start_time": "2024-06-17T21:26:31.647526",
          "status": "completed"
        },
        "tags": []
      },
      "outputs": [
        {
          "data": {
            "text/plain": [
              "(Array([0, 0, 1, 1, 2, 2, 3, 3], dtype=int64),\n",
              " Array([2, 3, 2, 3, 0, 1, 0, 1], dtype=int64),\n",
              " Array([0.70710678, 0.70710678, 0.70710678, 0.70710678, 0.70710678,\n",
              "        0.70710678, 0.70710678, 0.70710678], dtype=float64),\n",
              " {'in0': Array(0, dtype=int64, weak_type=True),\n",
              "  'in1': Array(1, dtype=int64, weak_type=True),\n",
              "  'out0': Array(2, dtype=int64, weak_type=True),\n",
              "  'out1': Array(3, dtype=int64, weak_type=True)})"
            ]
          },
          "execution_count": 4,
          "metadata": {},
          "output_type": "execute_result"
        }
      ],
      "source": [
        "unitary_model = sax.models.unitary(2, 2)\n",
        "unitary_model()  # a unitary model returns an SCoo by default"
      ]
    },
    {
      "cell_type": "markdown",
      "id": "01ff2567-9b0e-4686-acb4-47cfb11b06ce",
      "metadata": {
        "papermill": {
          "duration": 0.00315,
          "end_time": "2024-06-17T21:26:32.431748",
          "exception": false,
          "start_time": "2024-06-17T21:26:32.428598",
          "status": "completed"
        },
        "tags": []
      },
      "source": [
        "As you probably already know, it's very easy to convert a model returning any `Stype` into a model returning an `SDict` as follows:"
      ]
    },
    {
      "cell_type": "code",
      "execution_count": 5,
      "id": "260dda8c-7e44-4f3f-b96c-e742daaf2885",
      "metadata": {
        "execution": {
          "iopub.execute_input": "2024-06-17T21:26:32.438530Z",
          "iopub.status.busy": "2024-06-17T21:26:32.438241Z",
          "iopub.status.idle": "2024-06-17T21:26:32.471257Z",
          "shell.execute_reply": "2024-06-17T21:26:32.470718Z"
        },
        "papermill": {
          "duration": 0.037778,
          "end_time": "2024-06-17T21:26:32.472418",
          "exception": false,
          "start_time": "2024-06-17T21:26:32.434640",
          "status": "completed"
        },
        "tags": []
      },
      "outputs": [
        {
          "data": {
            "text/plain": [
              "{('in0', 'out0'): Array(0.70710678, dtype=float64),\n",
              " ('in0', 'out1'): Array(0.70710678, dtype=float64),\n",
              " ('in1', 'out0'): Array(0.70710678, dtype=float64),\n",
              " ('in1', 'out1'): Array(0.70710678, dtype=float64),\n",
              " ('out0', 'in0'): Array(0.70710678, dtype=float64),\n",
              " ('out0', 'in1'): Array(0.70710678, dtype=float64),\n",
              " ('out1', 'in0'): Array(0.70710678, dtype=float64),\n",
              " ('out1', 'in1'): Array(0.70710678, dtype=float64)}"
            ]
          },
          "execution_count": 5,
          "metadata": {},
          "output_type": "execute_result"
        }
      ],
      "source": [
        "unitary_sdict_model = sax.sdict(unitary_model)\n",
        "unitary_sdict_model()"
      ]
    },
    {
      "cell_type": "markdown",
      "id": "e9a1a46b-b10a-471b-b835-7b6d8d49175a",
      "metadata": {
        "papermill": {
          "duration": 0.003021,
          "end_time": "2024-06-17T21:26:32.478699",
          "exception": false,
          "start_time": "2024-06-17T21:26:32.475678",
          "status": "completed"
        },
        "tags": []
      },
      "source": [
        "If we need custom port names, we can also just specify them explicitly:"
      ]
    },
    {
      "cell_type": "code",
      "execution_count": 6,
      "id": "66abe9b0",
      "metadata": {
        "execution": {
          "iopub.execute_input": "2024-06-17T21:26:32.485744Z",
          "iopub.status.busy": "2024-06-17T21:26:32.485543Z",
          "iopub.status.idle": "2024-06-17T21:26:32.507959Z",
          "shell.execute_reply": "2024-06-17T21:26:32.507463Z"
        },
        "papermill": {
          "duration": 0.027367,
          "end_time": "2024-06-17T21:26:32.509075",
          "exception": false,
          "start_time": "2024-06-17T21:26:32.481708",
          "status": "completed"
        },
        "tags": []
      },
      "outputs": [
        {
          "data": {
            "text/plain": [
              "(Array([0, 0, 1, 1, 2, 2, 3, 3], dtype=int64),\n",
              " Array([2, 3, 2, 3, 0, 1, 0, 1], dtype=int64),\n",
              " Array([0.70710678, 0.70710678, 0.70710678, 0.70710678, 0.70710678,\n",
              "        0.70710678, 0.70710678, 0.70710678], dtype=float64),\n",
              " {'in0': Array(0, dtype=int64, weak_type=True),\n",
              "  'in1': Array(1, dtype=int64, weak_type=True),\n",
              "  'out0': Array(2, dtype=int64, weak_type=True),\n",
              "  'out1': Array(3, dtype=int64, weak_type=True)})"
            ]
          },
          "execution_count": 6,
          "metadata": {},
          "output_type": "execute_result"
        }
      ],
      "source": [
        "unitary_model = sax.models.unitary(ports=(\"in0\", \"in1\", \"out0\", \"out1\"))\n",
        "unitary_model()"
      ]
    },
    {
      "cell_type": "markdown",
      "id": "ebf14c1c-ccfb-44e6-8572-18b366ffab91",
      "metadata": {
        "papermill": {
          "duration": 0.003065,
          "end_time": "2024-06-17T21:26:32.515395",
          "exception": false,
          "start_time": "2024-06-17T21:26:32.512330",
          "status": "completed"
        },
        "tags": []
      },
      "source": [
        "A unitary model will by default split a signal at an input port equally over all output ports. However, if there are an equal number of input ports as output ports we can in stead create a passthru by setting the `diagonal` flag to `True`:"
      ]
    },
    {
      "cell_type": "code",
      "execution_count": 7,
      "id": "7c1d61a3",
      "metadata": {
        "execution": {
          "iopub.execute_input": "2024-06-17T21:26:32.522932Z",
          "iopub.status.busy": "2024-06-17T21:26:32.522740Z",
          "iopub.status.idle": "2024-06-17T21:26:32.794209Z",
          "shell.execute_reply": "2024-06-17T21:26:32.793614Z"
        },
        "papermill": {
          "duration": 0.276992,
          "end_time": "2024-06-17T21:26:32.795518",
          "exception": false,
          "start_time": "2024-06-17T21:26:32.518526",
          "status": "completed"
        },
        "tags": []
      },
      "outputs": [
        {
          "data": {
            "text/plain": [
              "{('in0', 'out0'): Array(1., dtype=float64),\n",
              " ('in1', 'out1'): Array(1., dtype=float64),\n",
              " ('out0', 'in0'): Array(1., dtype=float64),\n",
              " ('out1', 'in1'): Array(1., dtype=float64)}"
            ]
          },
          "execution_count": 7,
          "metadata": {},
          "output_type": "execute_result"
        }
      ],
      "source": [
        "passthru_model = sax.models.unitary(2, 2, diagonal=True)\n",
        "sax.sdict(passthru_model())"
      ]
    },
    {
      "cell_type": "code",
      "execution_count": 8,
      "id": "7f93b145",
      "metadata": {
        "execution": {
          "iopub.execute_input": "2024-06-17T21:26:32.803752Z",
          "iopub.status.busy": "2024-06-17T21:26:32.803256Z",
          "iopub.status.idle": "2024-06-17T21:26:33.496111Z",
          "shell.execute_reply": "2024-06-17T21:26:33.495474Z"
        },
        "papermill": {
          "duration": 0.698012,
          "end_time": "2024-06-17T21:26:33.497237",
          "exception": false,
          "start_time": "2024-06-17T21:26:32.799225",
          "status": "completed"
        },
        "tags": []
      },
      "outputs": [
        {
          "data": {
            "text/plain": [
              "{('in0', 'out0'): Array(0.4472136, dtype=float64),\n",
              " ('in0', 'out1'): Array(0.4472136, dtype=float64),\n",
              " ('in0', 'out2'): Array(0.4472136, dtype=float64),\n",
              " ('in0', 'out3'): Array(0.4472136, dtype=float64),\n",
              " ('in0', 'out4'): Array(0.4472136, dtype=float64),\n",
              " ('out0', 'in0'): Array(0.4472136, dtype=float64),\n",
              " ('out1', 'in0'): Array(0.4472136, dtype=float64),\n",
              " ('out2', 'in0'): Array(0.4472136, dtype=float64),\n",
              " ('out3', 'in0'): Array(0.4472136, dtype=float64),\n",
              " ('out4', 'in0'): Array(0.4472136, dtype=float64)}"
            ]
          },
          "execution_count": 8,
          "metadata": {},
          "output_type": "execute_result"
        }
      ],
      "source": [
        "ports_in = [\"in0\"]\n",
        "ports_out = [\"out0\", \"out1\", \"out2\", \"out3\", \"out4\"]\n",
        "model = sax.models.unitary(ports=tuple(ports_in + ports_out), jit=True, reciprocal=True)\n",
        "model = sax.sdict(model)\n",
        "model()"
      ]
    },
    {
      "cell_type": "markdown",
      "id": "8b149d44-5487-4e50-a2f2-1ad0aca99dac",
      "metadata": {
        "papermill": {
          "duration": 0.003476,
          "end_time": "2024-06-17T21:26:33.504422",
          "exception": false,
          "start_time": "2024-06-17T21:26:33.500946",
          "status": "completed"
        },
        "tags": []
      },
      "source": [
        "Because this is a pretty common usecase we have a dedicated model factory for this as well. This passthru component just takes the number of links (`'in{i}' -> 'out{i]'`) as input. Alternatively, as before, one can also specify the port names directly but one needs to ensure that `len(ports) == 2*num_links`."
      ]
    },
    {
      "cell_type": "code",
      "execution_count": 9,
      "id": "9e8b6cd7-56d4-4697-9a6e-33c929f3d853",
      "metadata": {
        "execution": {
          "iopub.execute_input": "2024-06-17T21:26:33.512140Z",
          "iopub.status.busy": "2024-06-17T21:26:33.511672Z",
          "iopub.status.idle": "2024-06-17T21:26:33.981511Z",
          "shell.execute_reply": "2024-06-17T21:26:33.980890Z"
        },
        "papermill": {
          "duration": 0.475032,
          "end_time": "2024-06-17T21:26:33.982705",
          "exception": false,
          "start_time": "2024-06-17T21:26:33.507673",
          "status": "completed"
        },
        "tags": []
      },
      "outputs": [
        {
          "data": {
            "text/plain": [
              "{('in0', 'out0'): Array(1., dtype=float64),\n",
              " ('in1', 'out1'): Array(1., dtype=float64),\n",
              " ('in2', 'out2'): Array(1., dtype=float64),\n",
              " ('out0', 'in0'): Array(1., dtype=float64),\n",
              " ('out1', 'in1'): Array(1., dtype=float64),\n",
              " ('out2', 'in2'): Array(1., dtype=float64)}"
            ]
          },
          "execution_count": 9,
          "metadata": {},
          "output_type": "execute_result"
        }
      ],
      "source": [
        "passthru_model = sax.passthru(3)\n",
        "passthru_sdict_model = sax.sdict(passthru_model)\n",
        "passthru_sdict_model()"
      ]
    },
    {
      "cell_type": "code",
      "execution_count": 10,
      "id": "690e718c-2d84-4177-b8ad-ff39cf8c4691",
      "metadata": {
        "execution": {
          "iopub.execute_input": "2024-06-17T21:26:33.990997Z",
          "iopub.status.busy": "2024-06-17T21:26:33.990656Z",
          "iopub.status.idle": "2024-06-17T21:26:35.091836Z",
          "shell.execute_reply": "2024-06-17T21:26:35.091227Z"
        },
        "papermill": {
          "duration": 1.106674,
          "end_time": "2024-06-17T21:26:35.093050",
          "exception": false,
          "start_time": "2024-06-17T21:26:33.986376",
          "status": "completed"
        },
        "tags": []
      },
      "outputs": [
        {
          "data": {
            "text/plain": [
              "{('in0', 'in0'): Array(0.+0.j, dtype=complex128),\n",
              " ('in0', 'out0'): Array(1.+0.j, dtype=complex128),\n",
              " ('out0', 'in0'): Array(1.+0.j, dtype=complex128),\n",
              " ('out0', 'out0'): Array(0.+0.j, dtype=complex128)}"
            ]
          },
          "execution_count": 10,
          "metadata": {},
          "output_type": "execute_result"
        }
      ],
      "source": [
        "mzi, _ = sax.circuit(\n",
        "    netlist={\n",
        "        \"instances\": {\n",
        "            \"lft\": \"u12\",\n",
        "            \"top\": \"u11\",\n",
        "            \"rgt\": \"u12\",\n",
        "        },\n",
        "        \"connections\": {\n",
        "            \"lft,out0\": \"rgt,out0\",\n",
        "            \"lft,out1\": \"top,in0\",\n",
        "            \"top,out0\": \"rgt,out1\",\n",
        "        },\n",
        "        \"ports\": {\n",
        "            \"in0\": \"lft,in0\",\n",
        "            \"out0\": \"rgt,in0\",\n",
        "        },\n",
        "    },\n",
        "    models={\n",
        "        \"u12\": sax.models.unitary(1, 2),\n",
        "        \"u11\": sax.models.unitary(1, 1),\n",
        "    },\n",
        ")\n",
        "mzi()"
      ]
    },
    {
      "cell_type": "markdown",
      "id": "77014d0f-1a08-4b4b-a011-cf11cd9684b8",
      "metadata": {
        "papermill": {
          "duration": 0.003692,
          "end_time": "2024-06-17T21:26:35.100595",
          "exception": false,
          "start_time": "2024-06-17T21:26:35.096903",
          "status": "completed"
        },
        "tags": []
      },
      "source": [
        "A copier model is like a unitary model, but copies the input signal over all output signals. Hence, if the model has multiple output ports, this model can be considered to introduce gain. That said, it can sometimes be a useful component."
      ]
    },
    {
      "cell_type": "code",
      "execution_count": 11,
      "id": "c2a61a9f-51ea-455f-a66f-94719b43520e",
      "metadata": {
        "execution": {
          "iopub.execute_input": "2024-06-17T21:26:35.108882Z",
          "iopub.status.busy": "2024-06-17T21:26:35.108392Z",
          "iopub.status.idle": "2024-06-17T21:26:35.131366Z",
          "shell.execute_reply": "2024-06-17T21:26:35.130757Z"
        },
        "papermill": {
          "duration": 0.028394,
          "end_time": "2024-06-17T21:26:35.132584",
          "exception": false,
          "start_time": "2024-06-17T21:26:35.104190",
          "status": "completed"
        },
        "tags": []
      },
      "outputs": [
        {
          "data": {
            "text/plain": [
              "(Array([0, 0, 1, 1, 2, 2, 3, 3], dtype=int64),\n",
              " Array([2, 3, 2, 3, 0, 1, 0, 1], dtype=int64),\n",
              " Array([1., 1., 1., 1., 1., 1., 1., 1.], dtype=float64),\n",
              " {'in0': Array(0, dtype=int64, weak_type=True),\n",
              "  'in1': Array(1, dtype=int64, weak_type=True),\n",
              "  'out0': Array(2, dtype=int64, weak_type=True),\n",
              "  'out1': Array(3, dtype=int64, weak_type=True)})"
            ]
          },
          "execution_count": 11,
          "metadata": {},
          "output_type": "execute_result"
        }
      ],
      "source": [
        "copier_model = sax.models.copier(2, 2)\n",
        "copier_model()  # a copier model returns an SCoo by default"
      ]
    },
    {
      "cell_type": "markdown",
      "id": "fbd51c6c-c059-4717-9dae-447becc7e8d5",
      "metadata": {
        "papermill": {
          "duration": 0.003528,
          "end_time": "2024-06-17T21:26:35.139920",
          "exception": false,
          "start_time": "2024-06-17T21:26:35.136392",
          "status": "completed"
        },
        "tags": []
      },
      "source": [
        "As you probably already know, it's very easy to convert a model returning any `Stype` into a model returning an `SDict` as follows:"
      ]
    },
    {
      "cell_type": "code",
      "execution_count": 12,
      "id": "becda099-b5d9-494c-a6b2-9828be10c4a5",
      "metadata": {
        "execution": {
          "iopub.execute_input": "2024-06-17T21:26:35.147956Z",
          "iopub.status.busy": "2024-06-17T21:26:35.147760Z",
          "iopub.status.idle": "2024-06-17T21:26:35.155583Z",
          "shell.execute_reply": "2024-06-17T21:26:35.155042Z"
        },
        "papermill": {
          "duration": 0.013182,
          "end_time": "2024-06-17T21:26:35.156706",
          "exception": false,
          "start_time": "2024-06-17T21:26:35.143524",
          "status": "completed"
        },
        "tags": []
      },
      "outputs": [
        {
          "data": {
            "text/plain": [
              "{('in0', 'out0'): Array(1., dtype=float64),\n",
              " ('in0', 'out1'): Array(1., dtype=float64),\n",
              " ('in1', 'out0'): Array(1., dtype=float64),\n",
              " ('in1', 'out1'): Array(1., dtype=float64),\n",
              " ('out0', 'in0'): Array(1., dtype=float64),\n",
              " ('out0', 'in1'): Array(1., dtype=float64),\n",
              " ('out1', 'in0'): Array(1., dtype=float64),\n",
              " ('out1', 'in1'): Array(1., dtype=float64)}"
            ]
          },
          "execution_count": 12,
          "metadata": {},
          "output_type": "execute_result"
        }
      ],
      "source": [
        "copier_sdict_model = sax.sdict(copier_model)\n",
        "copier_sdict_model()"
      ]
    },
    {
      "cell_type": "markdown",
      "id": "1ad16d1b-f685-4ab9-a8c4-41efbbdae4fa",
      "metadata": {
        "papermill": {
          "duration": 0.003652,
          "end_time": "2024-06-17T21:26:35.164038",
          "exception": false,
          "start_time": "2024-06-17T21:26:35.160386",
          "status": "completed"
        },
        "tags": []
      },
      "source": [
        "If we need custom port names, we can also just specify them explicitly:"
      ]
    },
    {
      "cell_type": "code",
      "execution_count": 13,
      "id": "297d1e45-b881-440b-b887-b38c5517596e",
      "metadata": {
        "execution": {
          "iopub.execute_input": "2024-06-17T21:26:35.172302Z",
          "iopub.status.busy": "2024-06-17T21:26:35.171957Z",
          "iopub.status.idle": "2024-06-17T21:26:35.194751Z",
          "shell.execute_reply": "2024-06-17T21:26:35.194223Z"
        },
        "papermill": {
          "duration": 0.028186,
          "end_time": "2024-06-17T21:26:35.195882",
          "exception": false,
          "start_time": "2024-06-17T21:26:35.167696",
          "status": "completed"
        },
        "tags": []
      },
      "outputs": [
        {
          "data": {
            "text/plain": [
              "(Array([0, 0, 1, 1, 2, 2, 3, 3], dtype=int64),\n",
              " Array([2, 3, 2, 3, 0, 1, 0, 1], dtype=int64),\n",
              " Array([1., 1., 1., 1., 1., 1., 1., 1.], dtype=float64),\n",
              " {'in0': Array(0, dtype=int64, weak_type=True),\n",
              "  'in1': Array(1, dtype=int64, weak_type=True),\n",
              "  'out0': Array(2, dtype=int64, weak_type=True),\n",
              "  'out1': Array(3, dtype=int64, weak_type=True)})"
            ]
          },
          "execution_count": 13,
          "metadata": {},
          "output_type": "execute_result"
        }
      ],
      "source": [
        "copier_model = sax.models.copier(ports=(\"in0\", \"in1\", \"out0\", \"out1\"))\n",
        "copier_model()"
      ]
    },
    {
      "cell_type": "code",
      "execution_count": 14,
      "id": "608d7114-03ac-4f5f-9790-cf65379d81dd",
      "metadata": {
        "execution": {
          "iopub.execute_input": "2024-06-17T21:26:35.205021Z",
          "iopub.status.busy": "2024-06-17T21:26:35.204639Z",
          "iopub.status.idle": "2024-06-17T21:26:35.213547Z",
          "shell.execute_reply": "2024-06-17T21:26:35.213046Z"
        },
        "papermill": {
          "duration": 0.014651,
          "end_time": "2024-06-17T21:26:35.214621",
          "exception": false,
          "start_time": "2024-06-17T21:26:35.199970",
          "status": "completed"
        },
        "tags": []
      },
      "outputs": [
        {
          "data": {
            "text/plain": [
              "{('in0', 'out0'): Array(0.4472136, dtype=float64),\n",
              " ('in0', 'out1'): Array(0.4472136, dtype=float64),\n",
              " ('in0', 'out2'): Array(0.4472136, dtype=float64),\n",
              " ('in0', 'out3'): Array(0.4472136, dtype=float64),\n",
              " ('in0', 'out4'): Array(0.4472136, dtype=float64),\n",
              " ('out0', 'in0'): Array(0.4472136, dtype=float64),\n",
              " ('out1', 'in0'): Array(0.4472136, dtype=float64),\n",
              " ('out2', 'in0'): Array(0.4472136, dtype=float64),\n",
              " ('out3', 'in0'): Array(0.4472136, dtype=float64),\n",
              " ('out4', 'in0'): Array(0.4472136, dtype=float64)}"
            ]
          },
          "execution_count": 14,
          "metadata": {},
          "output_type": "execute_result"
        }
      ],
      "source": [
        "ports_in = [\"in0\"]\n",
        "ports_out = [\"out0\", \"out1\", \"out2\", \"out3\", \"out4\"]\n",
        "model = sax.models.unitary(ports=tuple(ports_in + ports_out), jit=True, reciprocal=True)\n",
        "model = sax.sdict(model)\n",
        "model()"
      ]
    },
    {
      "cell_type": "markdown",
      "id": "6d024e5b-95a9-44e5-9dbc-4980249e73a7",
      "metadata": {
        "papermill": {
          "duration": 0.003899,
          "end_time": "2024-06-17T21:26:35.222382",
          "exception": false,
          "start_time": "2024-06-17T21:26:35.218483",
          "status": "completed"
        },
        "tags": []
      },
      "source": [
        "Because this is a pretty common usecase we have a dedicated model factory for this as well. This passthru component just takes the number of links (`'in{i}' -> 'out{i]'`) as input. Alternatively, as before, one can also specify the port names directly but one needs to ensure that `len(ports) == 2*num_links`."
      ]
    },
    {
      "cell_type": "code",
      "execution_count": 15,
      "id": "4a063810-224b-446c-a59d-12a20b56e82e",
      "metadata": {
        "execution": {
          "iopub.execute_input": "2024-06-17T21:26:35.230928Z",
          "iopub.status.busy": "2024-06-17T21:26:35.230594Z",
          "iopub.status.idle": "2024-06-17T21:26:35.237681Z",
          "shell.execute_reply": "2024-06-17T21:26:35.237095Z"
        },
        "papermill": {
          "duration": 0.012689,
          "end_time": "2024-06-17T21:26:35.238876",
          "exception": false,
          "start_time": "2024-06-17T21:26:35.226187",
          "status": "completed"
        },
        "tags": []
      },
      "outputs": [
        {
          "data": {
            "text/plain": [
              "{('in0', 'out0'): Array(1., dtype=float64),\n",
              " ('in1', 'out1'): Array(1., dtype=float64),\n",
              " ('in2', 'out2'): Array(1., dtype=float64),\n",
              " ('out0', 'in0'): Array(1., dtype=float64),\n",
              " ('out1', 'in1'): Array(1., dtype=float64),\n",
              " ('out2', 'in2'): Array(1., dtype=float64)}"
            ]
          },
          "execution_count": 15,
          "metadata": {},
          "output_type": "execute_result"
        }
      ],
      "source": [
        "passthru_model = sax.models.passthru(3)\n",
        "passthru_sdict_model = sax.sdict(passthru_model)\n",
        "passthru_sdict_model()"
      ]
    },
    {
      "cell_type": "markdown",
      "id": "e56f2f41-776f-4b53-98c3-dee702326093",
      "metadata": {
        "papermill": {
          "duration": 0.003924,
          "end_time": "2024-06-17T21:26:35.246956",
          "exception": false,
          "start_time": "2024-06-17T21:26:35.243032",
          "status": "completed"
        },
        "tags": []
      },
      "source": [
        "## All Models"
      ]
    },
    {
      "cell_type": "code",
      "execution_count": 16,
      "id": "52ae2f93-6190-4c24-9120-f95f3f61baa8",
      "metadata": {
        "execution": {
          "iopub.execute_input": "2024-06-17T21:26:35.255632Z",
          "iopub.status.busy": "2024-06-17T21:26:35.255408Z",
          "iopub.status.idle": "2024-06-17T21:26:35.259398Z",
          "shell.execute_reply": "2024-06-17T21:26:35.258865Z"
        },
        "papermill": {
          "duration": 0.009626,
          "end_time": "2024-06-17T21:26:35.260477",
          "exception": false,
          "start_time": "2024-06-17T21:26:35.250851",
          "status": "completed"
        },
        "tags": []
      },
      "outputs": [
        {
          "data": {
            "text/plain": [
              "{'copier': <functools._lru_cache_wrapper at 0x7f57a1632770>,\n",
              " 'coupler': <function sax.models.coupler(*, coupling: 'float' = 0.5) -> 'SDict'>,\n",
              " 'passthru': <functools._lru_cache_wrapper at 0x7f57a1632820>,\n",
              " 'straight': <function sax.models.straight(*, wl: 'FloatArrayND | float' = 1.55, wl0: 'float' = 1.55, neff: 'float' = 2.34, ng: 'float' = 3.4, length: 'float' = 10.0, loss: 'float' = 0.0) -> 'SDict'>,\n",
              " 'unitary': <functools._lru_cache_wrapper at 0x7f57a16326c0>}"
            ]
          },
          "execution_count": 16,
          "metadata": {},
          "output_type": "execute_result"
        }
      ],
      "source": [
        "sax.models.models"
      ]
    }
  ],
  "metadata": {
    "kernelspec": {
      "display_name": "Python 3 (ipykernel)",
      "language": "python",
      "name": "python3"
    },
    "language_info": {
      "codemirror_mode": {
        "name": "ipython",
        "version": 3
      },
      "file_extension": ".py",
      "mimetype": "text/x-python",
      "name": "python",
      "nbconvert_exporter": "python",
      "pygments_lexer": "ipython3",
      "version": "3.10.14"
    },
    "papermill": {
      "default_parameters": {},
      "duration": 5.837554,
      "end_time": "2024-06-17T21:26:35.780660",
      "environment_variables": {},
      "exception": null,
      "input_path": "./internals/01_models.ipynb",
      "output_path": "./internals/01_models.ipynb",
      "parameters": {},
      "start_time": "2024-06-17T21:26:29.943106",
      "version": "2.6.0"
    }
  },
  "nbformat": 4,
  "nbformat_minor": 5
}