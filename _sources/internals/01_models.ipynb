{
  "cells": [
    {
      "cell_type": "markdown",
      "id": "986cb864",
      "metadata": {
        "papermill": {
          "duration": 0.005142,
          "end_time": "2025-02-13T09:43:01.704868",
          "exception": false,
          "start_time": "2025-02-13T09:43:01.699726",
          "status": "completed"
        },
        "tags": []
      },
      "source": [
        "# Models and Model Factories\n",
        "\n",
        "> Default SAX Models"
      ]
    },
    {
      "cell_type": "code",
      "execution_count": 1,
      "id": "3f208d18-cef7-4668-b532-6487912ecd17",
      "metadata": {
        "execution": {
          "iopub.execute_input": "2025-02-13T09:43:01.715724Z",
          "iopub.status.busy": "2025-02-13T09:43:01.715062Z",
          "iopub.status.idle": "2025-02-13T09:43:03.044938Z",
          "shell.execute_reply": "2025-02-13T09:43:03.044359Z"
        },
        "papermill": {
          "duration": 1.336705,
          "end_time": "2025-02-13T09:43:03.046434",
          "exception": false,
          "start_time": "2025-02-13T09:43:01.709729",
          "status": "completed"
        },
        "tags": []
      },
      "outputs": [],
      "source": [
        "import sax"
      ]
    },
    {
      "cell_type": "markdown",
      "id": "6905a550-61ed-4557-8cd5-d8a6e6ca5c0f",
      "metadata": {
        "papermill": {
          "duration": 0.004375,
          "end_time": "2025-02-13T09:43:03.056790",
          "exception": false,
          "start_time": "2025-02-13T09:43:03.052415",
          "status": "completed"
        },
        "tags": []
      },
      "source": [
        "## Simple Models"
      ]
    },
    {
      "cell_type": "code",
      "execution_count": 2,
      "id": "a99cec57",
      "metadata": {
        "execution": {
          "iopub.execute_input": "2025-02-13T09:43:03.066549Z",
          "iopub.status.busy": "2025-02-13T09:43:03.066141Z",
          "iopub.status.idle": "2025-02-13T09:43:03.172552Z",
          "shell.execute_reply": "2025-02-13T09:43:03.172023Z"
        },
        "papermill": {
          "duration": 0.113065,
          "end_time": "2025-02-13T09:43:03.173969",
          "exception": false,
          "start_time": "2025-02-13T09:43:03.060904",
          "status": "completed"
        },
        "tags": []
      },
      "outputs": [
        {
          "data": {
            "text/plain": [
              "{('in0', 'out0'): Array(0.82076344+0.57126822j, dtype=complex128),\n",
              " ('out0', 'in0'): Array(0.82076344+0.57126822j, dtype=complex128)}"
            ]
          },
          "execution_count": 2,
          "metadata": {},
          "output_type": "execute_result"
        }
      ],
      "source": [
        "sax.models.straight()"
      ]
    },
    {
      "cell_type": "code",
      "execution_count": 3,
      "id": "5fd87a22",
      "metadata": {
        "execution": {
          "iopub.execute_input": "2025-02-13T09:43:03.184573Z",
          "iopub.status.busy": "2025-02-13T09:43:03.184319Z",
          "iopub.status.idle": "2025-02-13T09:43:03.190642Z",
          "shell.execute_reply": "2025-02-13T09:43:03.190094Z"
        },
        "papermill": {
          "duration": 0.012935,
          "end_time": "2025-02-13T09:43:03.191789",
          "exception": false,
          "start_time": "2025-02-13T09:43:03.178854",
          "status": "completed"
        },
        "tags": []
      },
      "outputs": [
        {
          "data": {
            "text/plain": [
              "{('in0', 'out0'): 0.7071067811865476,\n",
              " ('in0', 'out1'): 0.7071067811865476j,\n",
              " ('in1', 'out0'): 0.7071067811865476j,\n",
              " ('in1', 'out1'): 0.7071067811865476,\n",
              " ('out0', 'in0'): 0.7071067811865476,\n",
              " ('out1', 'in0'): 0.7071067811865476j,\n",
              " ('out0', 'in1'): 0.7071067811865476j,\n",
              " ('out1', 'in1'): 0.7071067811865476}"
            ]
          },
          "execution_count": 3,
          "metadata": {},
          "output_type": "execute_result"
        }
      ],
      "source": [
        "sax.models.coupler()"
      ]
    },
    {
      "cell_type": "markdown",
      "id": "ca06c12f",
      "metadata": {
        "papermill": {
          "duration": 0.004516,
          "end_time": "2025-02-13T09:43:03.201319",
          "exception": false,
          "start_time": "2025-02-13T09:43:03.196803",
          "status": "completed"
        },
        "tags": []
      },
      "source": [
        "## Model Factories"
      ]
    },
    {
      "cell_type": "markdown",
      "id": "327febf2-70d5-48ed-8b39-bac2d9727db5",
      "metadata": {
        "papermill": {
          "duration": 0.004558,
          "end_time": "2025-02-13T09:43:03.210439",
          "exception": false,
          "start_time": "2025-02-13T09:43:03.205881",
          "status": "completed"
        },
        "tags": []
      },
      "source": [
        "A unitary model returns an `SCoo` by default:"
      ]
    },
    {
      "cell_type": "code",
      "execution_count": 4,
      "id": "e95bacdd",
      "metadata": {
        "execution": {
          "iopub.execute_input": "2025-02-13T09:43:03.220772Z",
          "iopub.status.busy": "2025-02-13T09:43:03.220449Z",
          "iopub.status.idle": "2025-02-13T09:43:04.455932Z",
          "shell.execute_reply": "2025-02-13T09:43:04.455224Z"
        },
        "papermill": {
          "duration": 1.242419,
          "end_time": "2025-02-13T09:43:04.457425",
          "exception": false,
          "start_time": "2025-02-13T09:43:03.215006",
          "status": "completed"
        },
        "tags": []
      },
      "outputs": [
        {
          "data": {
            "text/plain": [
              "(Array([0, 0, 1, 1, 2, 2, 3, 3], dtype=int64),\n",
              " Array([2, 3, 2, 3, 0, 1, 0, 1], dtype=int64),\n",
              " Array([0.70710678, 0.70710678, 0.70710678, 0.70710678, 0.70710678,\n",
              "        0.70710678, 0.70710678, 0.70710678], dtype=float64),\n",
              " {'in0': Array(0, dtype=int64, weak_type=True),\n",
              "  'in1': Array(1, dtype=int64, weak_type=True),\n",
              "  'out0': Array(2, dtype=int64, weak_type=True),\n",
              "  'out1': Array(3, dtype=int64, weak_type=True)})"
            ]
          },
          "execution_count": 4,
          "metadata": {},
          "output_type": "execute_result"
        }
      ],
      "source": [
        "unitary_model = sax.models.unitary(2, 2)\n",
        "unitary_model()  # a unitary model returns an SCoo by default"
      ]
    },
    {
      "cell_type": "markdown",
      "id": "01ff2567-9b0e-4686-acb4-47cfb11b06ce",
      "metadata": {
        "papermill": {
          "duration": 0.004733,
          "end_time": "2025-02-13T09:43:04.467714",
          "exception": false,
          "start_time": "2025-02-13T09:43:04.462981",
          "status": "completed"
        },
        "tags": []
      },
      "source": [
        "As you probably already know, it's very easy to convert a model returning any `Stype` into a model returning an `SDict` as follows:"
      ]
    },
    {
      "cell_type": "code",
      "execution_count": 5,
      "id": "260dda8c-7e44-4f3f-b96c-e742daaf2885",
      "metadata": {
        "execution": {
          "iopub.execute_input": "2025-02-13T09:43:04.479943Z",
          "iopub.status.busy": "2025-02-13T09:43:04.479177Z",
          "iopub.status.idle": "2025-02-13T09:43:04.561557Z",
          "shell.execute_reply": "2025-02-13T09:43:04.561066Z"
        },
        "papermill": {
          "duration": 0.095211,
          "end_time": "2025-02-13T09:43:04.568031",
          "exception": false,
          "start_time": "2025-02-13T09:43:04.472820",
          "status": "completed"
        },
        "tags": []
      },
      "outputs": [
        {
          "data": {
            "text/plain": [
              "{('in0', 'out0'): Array(0.70710678, dtype=float64),\n",
              " ('in0', 'out1'): Array(0.70710678, dtype=float64),\n",
              " ('in1', 'out0'): Array(0.70710678, dtype=float64),\n",
              " ('in1', 'out1'): Array(0.70710678, dtype=float64),\n",
              " ('out0', 'in0'): Array(0.70710678, dtype=float64),\n",
              " ('out0', 'in1'): Array(0.70710678, dtype=float64),\n",
              " ('out1', 'in0'): Array(0.70710678, dtype=float64),\n",
              " ('out1', 'in1'): Array(0.70710678, dtype=float64)}"
            ]
          },
          "execution_count": 5,
          "metadata": {},
          "output_type": "execute_result"
        }
      ],
      "source": [
        "unitary_sdict_model = sax.sdict(unitary_model)\n",
        "unitary_sdict_model()"
      ]
    },
    {
      "cell_type": "markdown",
      "id": "e9a1a46b-b10a-471b-b835-7b6d8d49175a",
      "metadata": {
        "papermill": {
          "duration": 0.010148,
          "end_time": "2025-02-13T09:43:04.585722",
          "exception": false,
          "start_time": "2025-02-13T09:43:04.575574",
          "status": "completed"
        },
        "tags": []
      },
      "source": [
        "If we need custom port names, we can also just specify them explicitly:"
      ]
    },
    {
      "cell_type": "code",
      "execution_count": 6,
      "id": "66abe9b0",
      "metadata": {
        "execution": {
          "iopub.execute_input": "2025-02-13T09:43:04.613702Z",
          "iopub.status.busy": "2025-02-13T09:43:04.613189Z",
          "iopub.status.idle": "2025-02-13T09:43:04.655960Z",
          "shell.execute_reply": "2025-02-13T09:43:04.655335Z"
        },
        "papermill": {
          "duration": 0.059731,
          "end_time": "2025-02-13T09:43:04.656970",
          "exception": false,
          "start_time": "2025-02-13T09:43:04.597239",
          "status": "completed"
        },
        "tags": []
      },
      "outputs": [
        {
          "data": {
            "text/plain": [
              "(Array([0, 0, 1, 1, 2, 2, 3, 3], dtype=int64),\n",
              " Array([2, 3, 2, 3, 0, 1, 0, 1], dtype=int64),\n",
              " Array([0.70710678, 0.70710678, 0.70710678, 0.70710678, 0.70710678,\n",
              "        0.70710678, 0.70710678, 0.70710678], dtype=float64),\n",
              " {'in0': Array(0, dtype=int64, weak_type=True),\n",
              "  'in1': Array(1, dtype=int64, weak_type=True),\n",
              "  'out0': Array(2, dtype=int64, weak_type=True),\n",
              "  'out1': Array(3, dtype=int64, weak_type=True)})"
            ]
          },
          "execution_count": 6,
          "metadata": {},
          "output_type": "execute_result"
        }
      ],
      "source": [
        "unitary_model = sax.models.unitary(ports=(\"in0\", \"in1\", \"out0\", \"out1\"))\n",
        "unitary_model()"
      ]
    },
    {
      "cell_type": "markdown",
      "id": "ebf14c1c-ccfb-44e6-8572-18b366ffab91",
      "metadata": {
        "papermill": {
          "duration": 0.014354,
          "end_time": "2025-02-13T09:43:04.678815",
          "exception": false,
          "start_time": "2025-02-13T09:43:04.664461",
          "status": "completed"
        },
        "tags": []
      },
      "source": [
        "A unitary model will by default split a signal at an input port equally over all output ports. However, if there are an equal number of input ports as output ports we can in stead create a passthru by setting the `diagonal` flag to `True`:"
      ]
    },
    {
      "cell_type": "code",
      "execution_count": 7,
      "id": "7c1d61a3",
      "metadata": {
        "execution": {
          "iopub.execute_input": "2025-02-13T09:43:04.698429Z",
          "iopub.status.busy": "2025-02-13T09:43:04.697981Z",
          "iopub.status.idle": "2025-02-13T09:43:05.285407Z",
          "shell.execute_reply": "2025-02-13T09:43:05.284784Z"
        },
        "papermill": {
          "duration": 0.600222,
          "end_time": "2025-02-13T09:43:05.286593",
          "exception": false,
          "start_time": "2025-02-13T09:43:04.686371",
          "status": "completed"
        },
        "tags": []
      },
      "outputs": [
        {
          "data": {
            "text/plain": [
              "{('in0', 'out0'): Array(1., dtype=float64),\n",
              " ('in1', 'out1'): Array(1., dtype=float64),\n",
              " ('out0', 'in0'): Array(1., dtype=float64),\n",
              " ('out1', 'in1'): Array(1., dtype=float64)}"
            ]
          },
          "execution_count": 7,
          "metadata": {},
          "output_type": "execute_result"
        }
      ],
      "source": [
        "passthru_model = sax.models.unitary(2, 2, diagonal=True)\n",
        "sax.sdict(passthru_model())"
      ]
    },
    {
      "cell_type": "code",
      "execution_count": 8,
      "id": "7f93b145",
      "metadata": {
        "execution": {
          "iopub.execute_input": "2025-02-13T09:43:05.304931Z",
          "iopub.status.busy": "2025-02-13T09:43:05.304257Z",
          "iopub.status.idle": "2025-02-13T09:43:06.418699Z",
          "shell.execute_reply": "2025-02-13T09:43:06.418126Z"
        },
        "papermill": {
          "duration": 1.128121,
          "end_time": "2025-02-13T09:43:06.420124",
          "exception": false,
          "start_time": "2025-02-13T09:43:05.292003",
          "status": "completed"
        },
        "tags": []
      },
      "outputs": [
        {
          "data": {
            "text/plain": [
              "{('in0', 'out0'): Array(0.4472136, dtype=float64),\n",
              " ('in0', 'out1'): Array(0.4472136, dtype=float64),\n",
              " ('in0', 'out2'): Array(0.4472136, dtype=float64),\n",
              " ('in0', 'out3'): Array(0.4472136, dtype=float64),\n",
              " ('in0', 'out4'): Array(0.4472136, dtype=float64),\n",
              " ('out0', 'in0'): Array(0.4472136, dtype=float64),\n",
              " ('out1', 'in0'): Array(0.4472136, dtype=float64),\n",
              " ('out2', 'in0'): Array(0.4472136, dtype=float64),\n",
              " ('out3', 'in0'): Array(0.4472136, dtype=float64),\n",
              " ('out4', 'in0'): Array(0.4472136, dtype=float64)}"
            ]
          },
          "execution_count": 8,
          "metadata": {},
          "output_type": "execute_result"
        }
      ],
      "source": [
        "ports_in = [\"in0\"]\n",
        "ports_out = [\"out0\", \"out1\", \"out2\", \"out3\", \"out4\"]\n",
        "model = sax.models.unitary(ports=tuple(ports_in + ports_out), jit=True, reciprocal=True)\n",
        "model = sax.sdict(model)\n",
        "model()"
      ]
    },
    {
      "cell_type": "markdown",
      "id": "8b149d44-5487-4e50-a2f2-1ad0aca99dac",
      "metadata": {
        "papermill": {
          "duration": 0.005277,
          "end_time": "2025-02-13T09:43:06.431219",
          "exception": false,
          "start_time": "2025-02-13T09:43:06.425942",
          "status": "completed"
        },
        "tags": []
      },
      "source": [
        "Because this is a pretty common usecase we have a dedicated model factory for this as well. This passthru component just takes the number of links (`'in{i}' -> 'out{i]'`) as input. Alternatively, as before, one can also specify the port names directly but one needs to ensure that `len(ports) == 2*num_links`."
      ]
    },
    {
      "cell_type": "code",
      "execution_count": 9,
      "id": "9e8b6cd7-56d4-4697-9a6e-33c929f3d853",
      "metadata": {
        "execution": {
          "iopub.execute_input": "2025-02-13T09:43:06.445123Z",
          "iopub.status.busy": "2025-02-13T09:43:06.443140Z",
          "iopub.status.idle": "2025-02-13T09:43:07.523867Z",
          "shell.execute_reply": "2025-02-13T09:43:07.523404Z"
        },
        "papermill": {
          "duration": 1.088575,
          "end_time": "2025-02-13T09:43:07.525196",
          "exception": false,
          "start_time": "2025-02-13T09:43:06.436621",
          "status": "completed"
        },
        "tags": []
      },
      "outputs": [
        {
          "data": {
            "text/plain": [
              "{('in0', 'out0'): Array(1., dtype=float64),\n",
              " ('in1', 'out1'): Array(1., dtype=float64),\n",
              " ('in2', 'out2'): Array(1., dtype=float64),\n",
              " ('out0', 'in0'): Array(1., dtype=float64),\n",
              " ('out1', 'in1'): Array(1., dtype=float64),\n",
              " ('out2', 'in2'): Array(1., dtype=float64)}"
            ]
          },
          "execution_count": 9,
          "metadata": {},
          "output_type": "execute_result"
        }
      ],
      "source": [
        "passthru_model = sax.passthru(3)\n",
        "passthru_sdict_model = sax.sdict(passthru_model)\n",
        "passthru_sdict_model()"
      ]
    },
    {
      "cell_type": "code",
      "execution_count": 10,
      "id": "690e718c-2d84-4177-b8ad-ff39cf8c4691",
      "metadata": {
        "execution": {
          "iopub.execute_input": "2025-02-13T09:43:07.537353Z",
          "iopub.status.busy": "2025-02-13T09:43:07.537091Z",
          "iopub.status.idle": "2025-02-13T09:43:09.514988Z",
          "shell.execute_reply": "2025-02-13T09:43:09.514443Z"
        },
        "papermill": {
          "duration": 1.985363,
          "end_time": "2025-02-13T09:43:09.516112",
          "exception": false,
          "start_time": "2025-02-13T09:43:07.530749",
          "status": "completed"
        },
        "tags": []
      },
      "outputs": [
        {
          "data": {
            "text/plain": [
              "{('in0', 'in0'): Array(0.+0.j, dtype=complex128),\n",
              " ('in0', 'out0'): Array(1.+0.j, dtype=complex128),\n",
              " ('out0', 'in0'): Array(1.+0.j, dtype=complex128),\n",
              " ('out0', 'out0'): Array(0.+0.j, dtype=complex128)}"
            ]
          },
          "execution_count": 10,
          "metadata": {},
          "output_type": "execute_result"
        }
      ],
      "source": [
        "mzi, _ = sax.circuit(\n",
        "    netlist={\n",
        "        \"instances\": {\n",
        "            \"lft\": \"u12\",\n",
        "            \"top\": \"u11\",\n",
        "            \"rgt\": \"u12\",\n",
        "        },\n",
        "        \"connections\": {\n",
        "            \"lft,out0\": \"rgt,out0\",\n",
        "            \"lft,out1\": \"top,in0\",\n",
        "            \"top,out0\": \"rgt,out1\",\n",
        "        },\n",
        "        \"ports\": {\n",
        "            \"in0\": \"lft,in0\",\n",
        "            \"out0\": \"rgt,in0\",\n",
        "        },\n",
        "    },\n",
        "    models={\n",
        "        \"u12\": sax.models.unitary(1, 2),\n",
        "        \"u11\": sax.models.unitary(1, 1),\n",
        "    },\n",
        ")\n",
        "mzi()"
      ]
    },
    {
      "cell_type": "markdown",
      "id": "77014d0f-1a08-4b4b-a011-cf11cd9684b8",
      "metadata": {
        "papermill": {
          "duration": 0.005213,
          "end_time": "2025-02-13T09:43:09.526900",
          "exception": false,
          "start_time": "2025-02-13T09:43:09.521687",
          "status": "completed"
        },
        "tags": []
      },
      "source": [
        "A copier model is like a unitary model, but copies the input signal over all output signals. Hence, if the model has multiple output ports, this model can be considered to introduce gain. That said, it can sometimes be a useful component."
      ]
    },
    {
      "cell_type": "code",
      "execution_count": 11,
      "id": "c2a61a9f-51ea-455f-a66f-94719b43520e",
      "metadata": {
        "execution": {
          "iopub.execute_input": "2025-02-13T09:43:09.538840Z",
          "iopub.status.busy": "2025-02-13T09:43:09.538530Z",
          "iopub.status.idle": "2025-02-13T09:43:09.571464Z",
          "shell.execute_reply": "2025-02-13T09:43:09.569583Z"
        },
        "papermill": {
          "duration": 0.043339,
          "end_time": "2025-02-13T09:43:09.575452",
          "exception": false,
          "start_time": "2025-02-13T09:43:09.532113",
          "status": "completed"
        },
        "tags": []
      },
      "outputs": [
        {
          "data": {
            "text/plain": [
              "(Array([0, 0, 1, 1, 2, 2, 3, 3], dtype=int64),\n",
              " Array([2, 3, 2, 3, 0, 1, 0, 1], dtype=int64),\n",
              " Array([1., 1., 1., 1., 1., 1., 1., 1.], dtype=float64),\n",
              " {'in0': Array(0, dtype=int64, weak_type=True),\n",
              "  'in1': Array(1, dtype=int64, weak_type=True),\n",
              "  'out0': Array(2, dtype=int64, weak_type=True),\n",
              "  'out1': Array(3, dtype=int64, weak_type=True)})"
            ]
          },
          "execution_count": 11,
          "metadata": {},
          "output_type": "execute_result"
        }
      ],
      "source": [
        "copier_model = sax.models.copier(2, 2)\n",
        "copier_model()  # a copier model returns an SCoo by default"
      ]
    },
    {
      "cell_type": "markdown",
      "id": "fbd51c6c-c059-4717-9dae-447becc7e8d5",
      "metadata": {
        "papermill": {
          "duration": 0.008119,
          "end_time": "2025-02-13T09:43:09.596896",
          "exception": false,
          "start_time": "2025-02-13T09:43:09.588777",
          "status": "completed"
        },
        "tags": []
      },
      "source": [
        "As you probably already know, it's very easy to convert a model returning any `Stype` into a model returning an `SDict` as follows:"
      ]
    },
    {
      "cell_type": "code",
      "execution_count": 12,
      "id": "becda099-b5d9-494c-a6b2-9828be10c4a5",
      "metadata": {
        "execution": {
          "iopub.execute_input": "2025-02-13T09:43:09.624106Z",
          "iopub.status.busy": "2025-02-13T09:43:09.623158Z",
          "iopub.status.idle": "2025-02-13T09:43:09.642694Z",
          "shell.execute_reply": "2025-02-13T09:43:09.642222Z"
        },
        "papermill": {
          "duration": 0.038482,
          "end_time": "2025-02-13T09:43:09.646563",
          "exception": false,
          "start_time": "2025-02-13T09:43:09.608081",
          "status": "completed"
        },
        "tags": []
      },
      "outputs": [
        {
          "data": {
            "text/plain": [
              "{('in0', 'out0'): Array(1., dtype=float64),\n",
              " ('in0', 'out1'): Array(1., dtype=float64),\n",
              " ('in1', 'out0'): Array(1., dtype=float64),\n",
              " ('in1', 'out1'): Array(1., dtype=float64),\n",
              " ('out0', 'in0'): Array(1., dtype=float64),\n",
              " ('out0', 'in1'): Array(1., dtype=float64),\n",
              " ('out1', 'in0'): Array(1., dtype=float64),\n",
              " ('out1', 'in1'): Array(1., dtype=float64)}"
            ]
          },
          "execution_count": 12,
          "metadata": {},
          "output_type": "execute_result"
        }
      ],
      "source": [
        "copier_sdict_model = sax.sdict(copier_model)\n",
        "copier_sdict_model()"
      ]
    },
    {
      "cell_type": "markdown",
      "id": "1ad16d1b-f685-4ab9-a8c4-41efbbdae4fa",
      "metadata": {
        "papermill": {
          "duration": 0.011254,
          "end_time": "2025-02-13T09:43:09.666341",
          "exception": false,
          "start_time": "2025-02-13T09:43:09.655087",
          "status": "completed"
        },
        "tags": []
      },
      "source": [
        "If we need custom port names, we can also just specify them explicitly:"
      ]
    },
    {
      "cell_type": "code",
      "execution_count": 13,
      "id": "297d1e45-b881-440b-b887-b38c5517596e",
      "metadata": {
        "execution": {
          "iopub.execute_input": "2025-02-13T09:43:09.683938Z",
          "iopub.status.busy": "2025-02-13T09:43:09.683695Z",
          "iopub.status.idle": "2025-02-13T09:43:09.713685Z",
          "shell.execute_reply": "2025-02-13T09:43:09.713141Z"
        },
        "papermill": {
          "duration": 0.037179,
          "end_time": "2025-02-13T09:43:09.714809",
          "exception": false,
          "start_time": "2025-02-13T09:43:09.677630",
          "status": "completed"
        },
        "tags": []
      },
      "outputs": [
        {
          "data": {
            "text/plain": [
              "(Array([0, 0, 1, 1, 2, 2, 3, 3], dtype=int64),\n",
              " Array([2, 3, 2, 3, 0, 1, 0, 1], dtype=int64),\n",
              " Array([1., 1., 1., 1., 1., 1., 1., 1.], dtype=float64),\n",
              " {'in0': Array(0, dtype=int64, weak_type=True),\n",
              "  'in1': Array(1, dtype=int64, weak_type=True),\n",
              "  'out0': Array(2, dtype=int64, weak_type=True),\n",
              "  'out1': Array(3, dtype=int64, weak_type=True)})"
            ]
          },
          "execution_count": 13,
          "metadata": {},
          "output_type": "execute_result"
        }
      ],
      "source": [
        "copier_model = sax.models.copier(ports=(\"in0\", \"in1\", \"out0\", \"out1\"))\n",
        "copier_model()"
      ]
    },
    {
      "cell_type": "code",
      "execution_count": 14,
      "id": "608d7114-03ac-4f5f-9790-cf65379d81dd",
      "metadata": {
        "execution": {
          "iopub.execute_input": "2025-02-13T09:43:09.726329Z",
          "iopub.status.busy": "2025-02-13T09:43:09.726098Z",
          "iopub.status.idle": "2025-02-13T09:43:09.738080Z",
          "shell.execute_reply": "2025-02-13T09:43:09.737585Z"
        },
        "papermill": {
          "duration": 0.018458,
          "end_time": "2025-02-13T09:43:09.739097",
          "exception": false,
          "start_time": "2025-02-13T09:43:09.720639",
          "status": "completed"
        },
        "tags": []
      },
      "outputs": [
        {
          "data": {
            "text/plain": [
              "{('in0', 'out0'): Array(0.4472136, dtype=float64),\n",
              " ('in0', 'out1'): Array(0.4472136, dtype=float64),\n",
              " ('in0', 'out2'): Array(0.4472136, dtype=float64),\n",
              " ('in0', 'out3'): Array(0.4472136, dtype=float64),\n",
              " ('in0', 'out4'): Array(0.4472136, dtype=float64),\n",
              " ('out0', 'in0'): Array(0.4472136, dtype=float64),\n",
              " ('out1', 'in0'): Array(0.4472136, dtype=float64),\n",
              " ('out2', 'in0'): Array(0.4472136, dtype=float64),\n",
              " ('out3', 'in0'): Array(0.4472136, dtype=float64),\n",
              " ('out4', 'in0'): Array(0.4472136, dtype=float64)}"
            ]
          },
          "execution_count": 14,
          "metadata": {},
          "output_type": "execute_result"
        }
      ],
      "source": [
        "ports_in = [\"in0\"]\n",
        "ports_out = [\"out0\", \"out1\", \"out2\", \"out3\", \"out4\"]\n",
        "model = sax.models.unitary(ports=tuple(ports_in + ports_out), jit=True, reciprocal=True)\n",
        "model = sax.sdict(model)\n",
        "model()"
      ]
    },
    {
      "cell_type": "markdown",
      "id": "6d024e5b-95a9-44e5-9dbc-4980249e73a7",
      "metadata": {
        "papermill": {
          "duration": 0.005485,
          "end_time": "2025-02-13T09:43:09.749930",
          "exception": false,
          "start_time": "2025-02-13T09:43:09.744445",
          "status": "completed"
        },
        "tags": []
      },
      "source": [
        "Because this is a pretty common usecase we have a dedicated model factory for this as well. This passthru component just takes the number of links (`'in{i}' -> 'out{i]'`) as input. Alternatively, as before, one can also specify the port names directly but one needs to ensure that `len(ports) == 2*num_links`."
      ]
    },
    {
      "cell_type": "code",
      "execution_count": 15,
      "id": "4a063810-224b-446c-a59d-12a20b56e82e",
      "metadata": {
        "execution": {
          "iopub.execute_input": "2025-02-13T09:43:09.762723Z",
          "iopub.status.busy": "2025-02-13T09:43:09.762426Z",
          "iopub.status.idle": "2025-02-13T09:43:09.773075Z",
          "shell.execute_reply": "2025-02-13T09:43:09.772551Z"
        },
        "papermill": {
          "duration": 0.01848,
          "end_time": "2025-02-13T09:43:09.774198",
          "exception": false,
          "start_time": "2025-02-13T09:43:09.755718",
          "status": "completed"
        },
        "tags": []
      },
      "outputs": [
        {
          "data": {
            "text/plain": [
              "{('in0', 'out0'): Array(1., dtype=float64),\n",
              " ('in1', 'out1'): Array(1., dtype=float64),\n",
              " ('in2', 'out2'): Array(1., dtype=float64),\n",
              " ('out0', 'in0'): Array(1., dtype=float64),\n",
              " ('out1', 'in1'): Array(1., dtype=float64),\n",
              " ('out2', 'in2'): Array(1., dtype=float64)}"
            ]
          },
          "execution_count": 15,
          "metadata": {},
          "output_type": "execute_result"
        }
      ],
      "source": [
        "passthru_model = sax.models.passthru(3)\n",
        "passthru_sdict_model = sax.sdict(passthru_model)\n",
        "passthru_sdict_model()"
      ]
    },
    {
      "cell_type": "markdown",
      "id": "e56f2f41-776f-4b53-98c3-dee702326093",
      "metadata": {
        "papermill": {
          "duration": 0.005683,
          "end_time": "2025-02-13T09:43:09.786077",
          "exception": false,
          "start_time": "2025-02-13T09:43:09.780394",
          "status": "completed"
        },
        "tags": []
      },
      "source": [
        "## All Models"
      ]
    },
    {
      "cell_type": "code",
      "execution_count": 16,
      "id": "52ae2f93-6190-4c24-9120-f95f3f61baa8",
      "metadata": {
        "execution": {
          "iopub.execute_input": "2025-02-13T09:43:09.798436Z",
          "iopub.status.busy": "2025-02-13T09:43:09.798173Z",
          "iopub.status.idle": "2025-02-13T09:43:09.803991Z",
          "shell.execute_reply": "2025-02-13T09:43:09.803525Z"
        },
        "papermill": {
          "duration": 0.013469,
          "end_time": "2025-02-13T09:43:09.805010",
          "exception": false,
          "start_time": "2025-02-13T09:43:09.791541",
          "status": "completed"
        },
        "tags": []
      },
      "outputs": [
        {
          "data": {
            "text/plain": [
              "{'copier': <functools._lru_cache_wrapper at 0x7faea849afb0>,\n",
              " 'coupler': <function sax.models.coupler(*, coupling: 'float' = 0.5) -> 'SDict'>,\n",
              " 'passthru': <functools._lru_cache_wrapper at 0x7faea849b110>,\n",
              " 'straight': <function sax.models.straight(*, wl: 'FloatArrayND | float' = 1.55, wl0: 'float' = 1.55, neff: 'float' = 2.34, ng: 'float' = 3.4, length: 'float' = 10.0, loss: 'float' = 0.0) -> 'SDict'>,\n",
              " 'unitary': <functools._lru_cache_wrapper at 0x7faea849ae50>}"
            ]
          },
          "execution_count": 16,
          "metadata": {},
          "output_type": "execute_result"
        }
      ],
      "source": [
        "sax.models.models"
      ]
    }
  ],
  "metadata": {
    "kernelspec": {
      "display_name": "Python 3 (ipykernel)",
      "language": "python",
      "name": "python3"
    },
    "language_info": {
      "codemirror_mode": {
        "name": "ipython",
        "version": 3
      },
      "file_extension": ".py",
      "mimetype": "text/x-python",
      "name": "python",
      "nbconvert_exporter": "python",
      "pygments_lexer": "ipython3",
      "version": "3.12.3"
    },
    "papermill": {
      "default_parameters": {},
      "duration": 10.042092,
      "end_time": "2025-02-13T09:43:10.631034",
      "environment_variables": {},
      "exception": null,
      "input_path": "./internals/01_models.ipynb",
      "output_path": "./internals/01_models.ipynb",
      "parameters": {},
      "start_time": "2025-02-13T09:43:00.588942",
      "version": "2.6.0"
    }
  },
  "nbformat": 4,
  "nbformat_minor": 5
}