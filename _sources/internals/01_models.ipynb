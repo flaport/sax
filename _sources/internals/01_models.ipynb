{
  "cells": [
    {
      "cell_type": "markdown",
      "id": "986cb864",
      "metadata": {
        "papermill": {
          "duration": 0.003239,
          "end_time": "2024-11-06T14:05:08.374322",
          "exception": false,
          "start_time": "2024-11-06T14:05:08.371083",
          "status": "completed"
        },
        "tags": []
      },
      "source": [
        "# Models and Model Factories\n",
        "\n",
        "> Default SAX Models"
      ]
    },
    {
      "cell_type": "code",
      "execution_count": 1,
      "id": "3f208d18-cef7-4668-b532-6487912ecd17",
      "metadata": {
        "execution": {
          "iopub.execute_input": "2024-11-06T14:05:08.380178Z",
          "iopub.status.busy": "2024-11-06T14:05:08.379824Z",
          "iopub.status.idle": "2024-11-06T14:05:08.949838Z",
          "shell.execute_reply": "2024-11-06T14:05:08.949290Z"
        },
        "papermill": {
          "duration": 0.574034,
          "end_time": "2024-11-06T14:05:08.950895",
          "exception": false,
          "start_time": "2024-11-06T14:05:08.376861",
          "status": "completed"
        },
        "tags": []
      },
      "outputs": [],
      "source": [
        "import sax"
      ]
    },
    {
      "cell_type": "markdown",
      "id": "6905a550-61ed-4557-8cd5-d8a6e6ca5c0f",
      "metadata": {
        "papermill": {
          "duration": 0.002637,
          "end_time": "2024-11-06T14:05:08.957358",
          "exception": false,
          "start_time": "2024-11-06T14:05:08.954721",
          "status": "completed"
        },
        "tags": []
      },
      "source": [
        "## Simple Models"
      ]
    },
    {
      "cell_type": "code",
      "execution_count": 2,
      "id": "a99cec57",
      "metadata": {
        "execution": {
          "iopub.execute_input": "2024-11-06T14:05:08.963243Z",
          "iopub.status.busy": "2024-11-06T14:05:08.962842Z",
          "iopub.status.idle": "2024-11-06T14:05:09.025651Z",
          "shell.execute_reply": "2024-11-06T14:05:09.025137Z"
        },
        "papermill": {
          "duration": 0.06668,
          "end_time": "2024-11-06T14:05:09.026472",
          "exception": false,
          "start_time": "2024-11-06T14:05:08.959792",
          "status": "completed"
        },
        "tags": []
      },
      "outputs": [
        {
          "data": {
            "text/plain": [
              "{('in0', 'out0'): Array(0.82076344+0.57126822j, dtype=complex128),\n",
              " ('out0', 'in0'): Array(0.82076344+0.57126822j, dtype=complex128)}"
            ]
          },
          "execution_count": 2,
          "metadata": {},
          "output_type": "execute_result"
        }
      ],
      "source": [
        "sax.models.straight()"
      ]
    },
    {
      "cell_type": "code",
      "execution_count": 3,
      "id": "5fd87a22",
      "metadata": {
        "execution": {
          "iopub.execute_input": "2024-11-06T14:05:09.032448Z",
          "iopub.status.busy": "2024-11-06T14:05:09.032255Z",
          "iopub.status.idle": "2024-11-06T14:05:09.036152Z",
          "shell.execute_reply": "2024-11-06T14:05:09.035687Z"
        },
        "papermill": {
          "duration": 0.00763,
          "end_time": "2024-11-06T14:05:09.036850",
          "exception": false,
          "start_time": "2024-11-06T14:05:09.029220",
          "status": "completed"
        },
        "tags": []
      },
      "outputs": [
        {
          "data": {
            "text/plain": [
              "{('in0', 'out0'): 0.7071067811865476,\n",
              " ('in0', 'out1'): 0.7071067811865476j,\n",
              " ('in1', 'out0'): 0.7071067811865476j,\n",
              " ('in1', 'out1'): 0.7071067811865476,\n",
              " ('out0', 'in0'): 0.7071067811865476,\n",
              " ('out1', 'in0'): 0.7071067811865476j,\n",
              " ('out0', 'in1'): 0.7071067811865476j,\n",
              " ('out1', 'in1'): 0.7071067811865476}"
            ]
          },
          "execution_count": 3,
          "metadata": {},
          "output_type": "execute_result"
        }
      ],
      "source": [
        "sax.models.coupler()"
      ]
    },
    {
      "cell_type": "markdown",
      "id": "ca06c12f",
      "metadata": {
        "papermill": {
          "duration": 0.002725,
          "end_time": "2024-11-06T14:05:09.042275",
          "exception": false,
          "start_time": "2024-11-06T14:05:09.039550",
          "status": "completed"
        },
        "tags": []
      },
      "source": [
        "## Model Factories"
      ]
    },
    {
      "cell_type": "markdown",
      "id": "327febf2-70d5-48ed-8b39-bac2d9727db5",
      "metadata": {
        "papermill": {
          "duration": 0.002763,
          "end_time": "2024-11-06T14:05:09.047721",
          "exception": false,
          "start_time": "2024-11-06T14:05:09.044958",
          "status": "completed"
        },
        "tags": []
      },
      "source": [
        "A unitary model returns an `SCoo` by default:"
      ]
    },
    {
      "cell_type": "code",
      "execution_count": 4,
      "id": "e95bacdd",
      "metadata": {
        "execution": {
          "iopub.execute_input": "2024-11-06T14:05:09.053766Z",
          "iopub.status.busy": "2024-11-06T14:05:09.053427Z",
          "iopub.status.idle": "2024-11-06T14:05:09.698485Z",
          "shell.execute_reply": "2024-11-06T14:05:09.698011Z"
        },
        "papermill": {
          "duration": 0.648953,
          "end_time": "2024-11-06T14:05:09.699285",
          "exception": false,
          "start_time": "2024-11-06T14:05:09.050332",
          "status": "completed"
        },
        "tags": []
      },
      "outputs": [
        {
          "data": {
            "text/plain": [
              "(Array([0, 0, 1, 1, 2, 2, 3, 3], dtype=int64),\n",
              " Array([2, 3, 2, 3, 0, 1, 0, 1], dtype=int64),\n",
              " Array([0.70710678, 0.70710678, 0.70710678, 0.70710678, 0.70710678,\n",
              "        0.70710678, 0.70710678, 0.70710678], dtype=float64),\n",
              " {'in0': Array(0, dtype=int64, weak_type=True),\n",
              "  'in1': Array(1, dtype=int64, weak_type=True),\n",
              "  'out0': Array(2, dtype=int64, weak_type=True),\n",
              "  'out1': Array(3, dtype=int64, weak_type=True)})"
            ]
          },
          "execution_count": 4,
          "metadata": {},
          "output_type": "execute_result"
        }
      ],
      "source": [
        "unitary_model = sax.models.unitary(2, 2)\n",
        "unitary_model()  # a unitary model returns an SCoo by default"
      ]
    },
    {
      "cell_type": "markdown",
      "id": "01ff2567-9b0e-4686-acb4-47cfb11b06ce",
      "metadata": {
        "papermill": {
          "duration": 0.002766,
          "end_time": "2024-11-06T14:05:09.705210",
          "exception": false,
          "start_time": "2024-11-06T14:05:09.702444",
          "status": "completed"
        },
        "tags": []
      },
      "source": [
        "As you probably already know, it's very easy to convert a model returning any `Stype` into a model returning an `SDict` as follows:"
      ]
    },
    {
      "cell_type": "code",
      "execution_count": 5,
      "id": "260dda8c-7e44-4f3f-b96c-e742daaf2885",
      "metadata": {
        "execution": {
          "iopub.execute_input": "2024-11-06T14:05:09.712126Z",
          "iopub.status.busy": "2024-11-06T14:05:09.711812Z",
          "iopub.status.idle": "2024-11-06T14:05:09.762632Z",
          "shell.execute_reply": "2024-11-06T14:05:09.762202Z"
        },
        "papermill": {
          "duration": 0.055526,
          "end_time": "2024-11-06T14:05:09.763400",
          "exception": false,
          "start_time": "2024-11-06T14:05:09.707874",
          "status": "completed"
        },
        "tags": []
      },
      "outputs": [
        {
          "data": {
            "text/plain": [
              "{('in0', 'out0'): Array(0.70710678, dtype=float64),\n",
              " ('in0', 'out1'): Array(0.70710678, dtype=float64),\n",
              " ('in1', 'out0'): Array(0.70710678, dtype=float64),\n",
              " ('in1', 'out1'): Array(0.70710678, dtype=float64),\n",
              " ('out0', 'in0'): Array(0.70710678, dtype=float64),\n",
              " ('out0', 'in1'): Array(0.70710678, dtype=float64),\n",
              " ('out1', 'in0'): Array(0.70710678, dtype=float64),\n",
              " ('out1', 'in1'): Array(0.70710678, dtype=float64)}"
            ]
          },
          "execution_count": 5,
          "metadata": {},
          "output_type": "execute_result"
        }
      ],
      "source": [
        "unitary_sdict_model = sax.sdict(unitary_model)\n",
        "unitary_sdict_model()"
      ]
    },
    {
      "cell_type": "markdown",
      "id": "e9a1a46b-b10a-471b-b835-7b6d8d49175a",
      "metadata": {
        "papermill": {
          "duration": 0.002747,
          "end_time": "2024-11-06T14:05:09.769184",
          "exception": false,
          "start_time": "2024-11-06T14:05:09.766437",
          "status": "completed"
        },
        "tags": []
      },
      "source": [
        "If we need custom port names, we can also just specify them explicitly:"
      ]
    },
    {
      "cell_type": "code",
      "execution_count": 6,
      "id": "66abe9b0",
      "metadata": {
        "execution": {
          "iopub.execute_input": "2024-11-06T14:05:09.775576Z",
          "iopub.status.busy": "2024-11-06T14:05:09.775207Z",
          "iopub.status.idle": "2024-11-06T14:05:09.792547Z",
          "shell.execute_reply": "2024-11-06T14:05:09.792133Z"
        },
        "papermill": {
          "duration": 0.021387,
          "end_time": "2024-11-06T14:05:09.793254",
          "exception": false,
          "start_time": "2024-11-06T14:05:09.771867",
          "status": "completed"
        },
        "tags": []
      },
      "outputs": [
        {
          "data": {
            "text/plain": [
              "(Array([0, 0, 1, 1, 2, 2, 3, 3], dtype=int64),\n",
              " Array([2, 3, 2, 3, 0, 1, 0, 1], dtype=int64),\n",
              " Array([0.70710678, 0.70710678, 0.70710678, 0.70710678, 0.70710678,\n",
              "        0.70710678, 0.70710678, 0.70710678], dtype=float64),\n",
              " {'in0': Array(0, dtype=int64, weak_type=True),\n",
              "  'in1': Array(1, dtype=int64, weak_type=True),\n",
              "  'out0': Array(2, dtype=int64, weak_type=True),\n",
              "  'out1': Array(3, dtype=int64, weak_type=True)})"
            ]
          },
          "execution_count": 6,
          "metadata": {},
          "output_type": "execute_result"
        }
      ],
      "source": [
        "unitary_model = sax.models.unitary(ports=(\"in0\", \"in1\", \"out0\", \"out1\"))\n",
        "unitary_model()"
      ]
    },
    {
      "cell_type": "markdown",
      "id": "ebf14c1c-ccfb-44e6-8572-18b366ffab91",
      "metadata": {
        "papermill": {
          "duration": 0.002798,
          "end_time": "2024-11-06T14:05:09.799051",
          "exception": false,
          "start_time": "2024-11-06T14:05:09.796253",
          "status": "completed"
        },
        "tags": []
      },
      "source": [
        "A unitary model will by default split a signal at an input port equally over all output ports. However, if there are an equal number of input ports as output ports we can in stead create a passthru by setting the `diagonal` flag to `True`:"
      ]
    },
    {
      "cell_type": "code",
      "execution_count": 7,
      "id": "7c1d61a3",
      "metadata": {
        "execution": {
          "iopub.execute_input": "2024-11-06T14:05:09.805570Z",
          "iopub.status.busy": "2024-11-06T14:05:09.805161Z",
          "iopub.status.idle": "2024-11-06T14:05:10.069737Z",
          "shell.execute_reply": "2024-11-06T14:05:10.069301Z"
        },
        "papermill": {
          "duration": 0.26874,
          "end_time": "2024-11-06T14:05:10.070575",
          "exception": false,
          "start_time": "2024-11-06T14:05:09.801835",
          "status": "completed"
        },
        "tags": []
      },
      "outputs": [
        {
          "data": {
            "text/plain": [
              "{('in0', 'out0'): Array(1., dtype=float64),\n",
              " ('in1', 'out1'): Array(1., dtype=float64),\n",
              " ('out0', 'in0'): Array(1., dtype=float64),\n",
              " ('out1', 'in1'): Array(1., dtype=float64)}"
            ]
          },
          "execution_count": 7,
          "metadata": {},
          "output_type": "execute_result"
        }
      ],
      "source": [
        "passthru_model = sax.models.unitary(2, 2, diagonal=True)\n",
        "sax.sdict(passthru_model())"
      ]
    },
    {
      "cell_type": "code",
      "execution_count": 8,
      "id": "7f93b145",
      "metadata": {
        "execution": {
          "iopub.execute_input": "2024-11-06T14:05:10.077813Z",
          "iopub.status.busy": "2024-11-06T14:05:10.077639Z",
          "iopub.status.idle": "2024-11-06T14:05:10.730257Z",
          "shell.execute_reply": "2024-11-06T14:05:10.729793Z"
        },
        "papermill": {
          "duration": 0.657085,
          "end_time": "2024-11-06T14:05:10.731015",
          "exception": false,
          "start_time": "2024-11-06T14:05:10.073930",
          "status": "completed"
        },
        "tags": []
      },
      "outputs": [
        {
          "data": {
            "text/plain": [
              "{('in0', 'out0'): Array(0.4472136, dtype=float64),\n",
              " ('in0', 'out1'): Array(0.4472136, dtype=float64),\n",
              " ('in0', 'out2'): Array(0.4472136, dtype=float64),\n",
              " ('in0', 'out3'): Array(0.4472136, dtype=float64),\n",
              " ('in0', 'out4'): Array(0.4472136, dtype=float64),\n",
              " ('out0', 'in0'): Array(0.4472136, dtype=float64),\n",
              " ('out1', 'in0'): Array(0.4472136, dtype=float64),\n",
              " ('out2', 'in0'): Array(0.4472136, dtype=float64),\n",
              " ('out3', 'in0'): Array(0.4472136, dtype=float64),\n",
              " ('out4', 'in0'): Array(0.4472136, dtype=float64)}"
            ]
          },
          "execution_count": 8,
          "metadata": {},
          "output_type": "execute_result"
        }
      ],
      "source": [
        "ports_in = [\"in0\"]\n",
        "ports_out = [\"out0\", \"out1\", \"out2\", \"out3\", \"out4\"]\n",
        "model = sax.models.unitary(ports=tuple(ports_in + ports_out), jit=True, reciprocal=True)\n",
        "model = sax.sdict(model)\n",
        "model()"
      ]
    },
    {
      "cell_type": "markdown",
      "id": "8b149d44-5487-4e50-a2f2-1ad0aca99dac",
      "metadata": {
        "papermill": {
          "duration": 0.003452,
          "end_time": "2024-11-06T14:05:10.737941",
          "exception": false,
          "start_time": "2024-11-06T14:05:10.734489",
          "status": "completed"
        },
        "tags": []
      },
      "source": [
        "Because this is a pretty common usecase we have a dedicated model factory for this as well. This passthru component just takes the number of links (`'in{i}' -> 'out{i]'`) as input. Alternatively, as before, one can also specify the port names directly but one needs to ensure that `len(ports) == 2*num_links`."
      ]
    },
    {
      "cell_type": "code",
      "execution_count": 9,
      "id": "9e8b6cd7-56d4-4697-9a6e-33c929f3d853",
      "metadata": {
        "execution": {
          "iopub.execute_input": "2024-11-06T14:05:10.747055Z",
          "iopub.status.busy": "2024-11-06T14:05:10.746734Z",
          "iopub.status.idle": "2024-11-06T14:05:11.248298Z",
          "shell.execute_reply": "2024-11-06T14:05:11.247758Z"
        },
        "papermill": {
          "duration": 0.506864,
          "end_time": "2024-11-06T14:05:11.249138",
          "exception": false,
          "start_time": "2024-11-06T14:05:10.742274",
          "status": "completed"
        },
        "tags": []
      },
      "outputs": [
        {
          "data": {
            "text/plain": [
              "{('in0', 'out0'): Array(1., dtype=float64),\n",
              " ('in1', 'out1'): Array(1., dtype=float64),\n",
              " ('in2', 'out2'): Array(1., dtype=float64),\n",
              " ('out0', 'in0'): Array(1., dtype=float64),\n",
              " ('out1', 'in1'): Array(1., dtype=float64),\n",
              " ('out2', 'in2'): Array(1., dtype=float64)}"
            ]
          },
          "execution_count": 9,
          "metadata": {},
          "output_type": "execute_result"
        }
      ],
      "source": [
        "passthru_model = sax.passthru(3)\n",
        "passthru_sdict_model = sax.sdict(passthru_model)\n",
        "passthru_sdict_model()"
      ]
    },
    {
      "cell_type": "code",
      "execution_count": 10,
      "id": "690e718c-2d84-4177-b8ad-ff39cf8c4691",
      "metadata": {
        "execution": {
          "iopub.execute_input": "2024-11-06T14:05:11.257019Z",
          "iopub.status.busy": "2024-11-06T14:05:11.256698Z",
          "iopub.status.idle": "2024-11-06T14:05:12.290111Z",
          "shell.execute_reply": "2024-11-06T14:05:12.289649Z"
        },
        "papermill": {
          "duration": 1.038141,
          "end_time": "2024-11-06T14:05:12.290858",
          "exception": false,
          "start_time": "2024-11-06T14:05:11.252717",
          "status": "completed"
        },
        "tags": []
      },
      "outputs": [
        {
          "data": {
            "text/plain": [
              "{('in0', 'in0'): Array(0.+0.j, dtype=complex128),\n",
              " ('in0', 'out0'): Array(1.+0.j, dtype=complex128),\n",
              " ('out0', 'in0'): Array(1.+0.j, dtype=complex128),\n",
              " ('out0', 'out0'): Array(0.+0.j, dtype=complex128)}"
            ]
          },
          "execution_count": 10,
          "metadata": {},
          "output_type": "execute_result"
        }
      ],
      "source": [
        "mzi, _ = sax.circuit(\n",
        "    netlist={\n",
        "        \"instances\": {\n",
        "            \"lft\": \"u12\",\n",
        "            \"top\": \"u11\",\n",
        "            \"rgt\": \"u12\",\n",
        "        },\n",
        "        \"connections\": {\n",
        "            \"lft,out0\": \"rgt,out0\",\n",
        "            \"lft,out1\": \"top,in0\",\n",
        "            \"top,out0\": \"rgt,out1\",\n",
        "        },\n",
        "        \"ports\": {\n",
        "            \"in0\": \"lft,in0\",\n",
        "            \"out0\": \"rgt,in0\",\n",
        "        },\n",
        "    },\n",
        "    models={\n",
        "        \"u12\": sax.models.unitary(1, 2),\n",
        "        \"u11\": sax.models.unitary(1, 1),\n",
        "    },\n",
        ")\n",
        "mzi()"
      ]
    },
    {
      "cell_type": "markdown",
      "id": "77014d0f-1a08-4b4b-a011-cf11cd9684b8",
      "metadata": {
        "papermill": {
          "duration": 0.003365,
          "end_time": "2024-11-06T14:05:12.297790",
          "exception": false,
          "start_time": "2024-11-06T14:05:12.294425",
          "status": "completed"
        },
        "tags": []
      },
      "source": [
        "A copier model is like a unitary model, but copies the input signal over all output signals. Hence, if the model has multiple output ports, this model can be considered to introduce gain. That said, it can sometimes be a useful component."
      ]
    },
    {
      "cell_type": "code",
      "execution_count": 11,
      "id": "c2a61a9f-51ea-455f-a66f-94719b43520e",
      "metadata": {
        "execution": {
          "iopub.execute_input": "2024-11-06T14:05:12.305209Z",
          "iopub.status.busy": "2024-11-06T14:05:12.304673Z",
          "iopub.status.idle": "2024-11-06T14:05:12.324732Z",
          "shell.execute_reply": "2024-11-06T14:05:12.324307Z"
        },
        "papermill": {
          "duration": 0.024612,
          "end_time": "2024-11-06T14:05:12.325518",
          "exception": false,
          "start_time": "2024-11-06T14:05:12.300906",
          "status": "completed"
        },
        "tags": []
      },
      "outputs": [
        {
          "data": {
            "text/plain": [
              "(Array([0, 0, 1, 1, 2, 2, 3, 3], dtype=int64),\n",
              " Array([2, 3, 2, 3, 0, 1, 0, 1], dtype=int64),\n",
              " Array([1., 1., 1., 1., 1., 1., 1., 1.], dtype=float64),\n",
              " {'in0': Array(0, dtype=int64, weak_type=True),\n",
              "  'in1': Array(1, dtype=int64, weak_type=True),\n",
              "  'out0': Array(2, dtype=int64, weak_type=True),\n",
              "  'out1': Array(3, dtype=int64, weak_type=True)})"
            ]
          },
          "execution_count": 11,
          "metadata": {},
          "output_type": "execute_result"
        }
      ],
      "source": [
        "copier_model = sax.models.copier(2, 2)\n",
        "copier_model()  # a copier model returns an SCoo by default"
      ]
    },
    {
      "cell_type": "markdown",
      "id": "fbd51c6c-c059-4717-9dae-447becc7e8d5",
      "metadata": {
        "papermill": {
          "duration": 0.003167,
          "end_time": "2024-11-06T14:05:12.332132",
          "exception": false,
          "start_time": "2024-11-06T14:05:12.328965",
          "status": "completed"
        },
        "tags": []
      },
      "source": [
        "As you probably already know, it's very easy to convert a model returning any `Stype` into a model returning an `SDict` as follows:"
      ]
    },
    {
      "cell_type": "code",
      "execution_count": 12,
      "id": "becda099-b5d9-494c-a6b2-9828be10c4a5",
      "metadata": {
        "execution": {
          "iopub.execute_input": "2024-11-06T14:05:12.339443Z",
          "iopub.status.busy": "2024-11-06T14:05:12.339057Z",
          "iopub.status.idle": "2024-11-06T14:05:12.345941Z",
          "shell.execute_reply": "2024-11-06T14:05:12.345546Z"
        },
        "papermill": {
          "duration": 0.011233,
          "end_time": "2024-11-06T14:05:12.346621",
          "exception": false,
          "start_time": "2024-11-06T14:05:12.335388",
          "status": "completed"
        },
        "tags": []
      },
      "outputs": [
        {
          "data": {
            "text/plain": [
              "{('in0', 'out0'): Array(1., dtype=float64),\n",
              " ('in0', 'out1'): Array(1., dtype=float64),\n",
              " ('in1', 'out0'): Array(1., dtype=float64),\n",
              " ('in1', 'out1'): Array(1., dtype=float64),\n",
              " ('out0', 'in0'): Array(1., dtype=float64),\n",
              " ('out0', 'in1'): Array(1., dtype=float64),\n",
              " ('out1', 'in0'): Array(1., dtype=float64),\n",
              " ('out1', 'in1'): Array(1., dtype=float64)}"
            ]
          },
          "execution_count": 12,
          "metadata": {},
          "output_type": "execute_result"
        }
      ],
      "source": [
        "copier_sdict_model = sax.sdict(copier_model)\n",
        "copier_sdict_model()"
      ]
    },
    {
      "cell_type": "markdown",
      "id": "1ad16d1b-f685-4ab9-a8c4-41efbbdae4fa",
      "metadata": {
        "papermill": {
          "duration": 0.003373,
          "end_time": "2024-11-06T14:05:12.353395",
          "exception": false,
          "start_time": "2024-11-06T14:05:12.350022",
          "status": "completed"
        },
        "tags": []
      },
      "source": [
        "If we need custom port names, we can also just specify them explicitly:"
      ]
    },
    {
      "cell_type": "code",
      "execution_count": 13,
      "id": "297d1e45-b881-440b-b887-b38c5517596e",
      "metadata": {
        "execution": {
          "iopub.execute_input": "2024-11-06T14:05:12.360968Z",
          "iopub.status.busy": "2024-11-06T14:05:12.360504Z",
          "iopub.status.idle": "2024-11-06T14:05:12.380720Z",
          "shell.execute_reply": "2024-11-06T14:05:12.380306Z"
        },
        "papermill": {
          "duration": 0.02474,
          "end_time": "2024-11-06T14:05:12.381458",
          "exception": false,
          "start_time": "2024-11-06T14:05:12.356718",
          "status": "completed"
        },
        "tags": []
      },
      "outputs": [
        {
          "data": {
            "text/plain": [
              "(Array([0, 0, 1, 1, 2, 2, 3, 3], dtype=int64),\n",
              " Array([2, 3, 2, 3, 0, 1, 0, 1], dtype=int64),\n",
              " Array([1., 1., 1., 1., 1., 1., 1., 1.], dtype=float64),\n",
              " {'in0': Array(0, dtype=int64, weak_type=True),\n",
              "  'in1': Array(1, dtype=int64, weak_type=True),\n",
              "  'out0': Array(2, dtype=int64, weak_type=True),\n",
              "  'out1': Array(3, dtype=int64, weak_type=True)})"
            ]
          },
          "execution_count": 13,
          "metadata": {},
          "output_type": "execute_result"
        }
      ],
      "source": [
        "copier_model = sax.models.copier(ports=(\"in0\", \"in1\", \"out0\", \"out1\"))\n",
        "copier_model()"
      ]
    },
    {
      "cell_type": "code",
      "execution_count": 14,
      "id": "608d7114-03ac-4f5f-9790-cf65379d81dd",
      "metadata": {
        "execution": {
          "iopub.execute_input": "2024-11-06T14:05:12.389294Z",
          "iopub.status.busy": "2024-11-06T14:05:12.388966Z",
          "iopub.status.idle": "2024-11-06T14:05:12.397314Z",
          "shell.execute_reply": "2024-11-06T14:05:12.396931Z"
        },
        "papermill": {
          "duration": 0.01292,
          "end_time": "2024-11-06T14:05:12.398037",
          "exception": false,
          "start_time": "2024-11-06T14:05:12.385117",
          "status": "completed"
        },
        "tags": []
      },
      "outputs": [
        {
          "data": {
            "text/plain": [
              "{('in0', 'out0'): Array(0.4472136, dtype=float64),\n",
              " ('in0', 'out1'): Array(0.4472136, dtype=float64),\n",
              " ('in0', 'out2'): Array(0.4472136, dtype=float64),\n",
              " ('in0', 'out3'): Array(0.4472136, dtype=float64),\n",
              " ('in0', 'out4'): Array(0.4472136, dtype=float64),\n",
              " ('out0', 'in0'): Array(0.4472136, dtype=float64),\n",
              " ('out1', 'in0'): Array(0.4472136, dtype=float64),\n",
              " ('out2', 'in0'): Array(0.4472136, dtype=float64),\n",
              " ('out3', 'in0'): Array(0.4472136, dtype=float64),\n",
              " ('out4', 'in0'): Array(0.4472136, dtype=float64)}"
            ]
          },
          "execution_count": 14,
          "metadata": {},
          "output_type": "execute_result"
        }
      ],
      "source": [
        "ports_in = [\"in0\"]\n",
        "ports_out = [\"out0\", \"out1\", \"out2\", \"out3\", \"out4\"]\n",
        "model = sax.models.unitary(ports=tuple(ports_in + ports_out), jit=True, reciprocal=True)\n",
        "model = sax.sdict(model)\n",
        "model()"
      ]
    },
    {
      "cell_type": "markdown",
      "id": "6d024e5b-95a9-44e5-9dbc-4980249e73a7",
      "metadata": {
        "papermill": {
          "duration": 0.003683,
          "end_time": "2024-11-06T14:05:12.405324",
          "exception": false,
          "start_time": "2024-11-06T14:05:12.401641",
          "status": "completed"
        },
        "tags": []
      },
      "source": [
        "Because this is a pretty common usecase we have a dedicated model factory for this as well. This passthru component just takes the number of links (`'in{i}' -> 'out{i]'`) as input. Alternatively, as before, one can also specify the port names directly but one needs to ensure that `len(ports) == 2*num_links`."
      ]
    },
    {
      "cell_type": "code",
      "execution_count": 15,
      "id": "4a063810-224b-446c-a59d-12a20b56e82e",
      "metadata": {
        "execution": {
          "iopub.execute_input": "2024-11-06T14:05:12.412920Z",
          "iopub.status.busy": "2024-11-06T14:05:12.412611Z",
          "iopub.status.idle": "2024-11-06T14:05:12.418904Z",
          "shell.execute_reply": "2024-11-06T14:05:12.418511Z"
        },
        "papermill": {
          "duration": 0.010855,
          "end_time": "2024-11-06T14:05:12.419595",
          "exception": false,
          "start_time": "2024-11-06T14:05:12.408740",
          "status": "completed"
        },
        "tags": []
      },
      "outputs": [
        {
          "data": {
            "text/plain": [
              "{('in0', 'out0'): Array(1., dtype=float64),\n",
              " ('in1', 'out1'): Array(1., dtype=float64),\n",
              " ('in2', 'out2'): Array(1., dtype=float64),\n",
              " ('out0', 'in0'): Array(1., dtype=float64),\n",
              " ('out1', 'in1'): Array(1., dtype=float64),\n",
              " ('out2', 'in2'): Array(1., dtype=float64)}"
            ]
          },
          "execution_count": 15,
          "metadata": {},
          "output_type": "execute_result"
        }
      ],
      "source": [
        "passthru_model = sax.models.passthru(3)\n",
        "passthru_sdict_model = sax.sdict(passthru_model)\n",
        "passthru_sdict_model()"
      ]
    },
    {
      "cell_type": "markdown",
      "id": "e56f2f41-776f-4b53-98c3-dee702326093",
      "metadata": {
        "papermill": {
          "duration": 0.003586,
          "end_time": "2024-11-06T14:05:12.426859",
          "exception": false,
          "start_time": "2024-11-06T14:05:12.423273",
          "status": "completed"
        },
        "tags": []
      },
      "source": [
        "## All Models"
      ]
    },
    {
      "cell_type": "code",
      "execution_count": 16,
      "id": "52ae2f93-6190-4c24-9120-f95f3f61baa8",
      "metadata": {
        "execution": {
          "iopub.execute_input": "2024-11-06T14:05:12.434740Z",
          "iopub.status.busy": "2024-11-06T14:05:12.434438Z",
          "iopub.status.idle": "2024-11-06T14:05:12.437832Z",
          "shell.execute_reply": "2024-11-06T14:05:12.437371Z"
        },
        "papermill": {
          "duration": 0.008207,
          "end_time": "2024-11-06T14:05:12.438594",
          "exception": false,
          "start_time": "2024-11-06T14:05:12.430387",
          "status": "completed"
        },
        "tags": []
      },
      "outputs": [
        {
          "data": {
            "text/plain": [
              "{'copier': <functools._lru_cache_wrapper at 0x7fe7be268460>,\n",
              " 'coupler': <function sax.models.coupler(*, coupling: 'float' = 0.5) -> 'SDict'>,\n",
              " 'passthru': <functools._lru_cache_wrapper at 0x7fe7be268670>,\n",
              " 'straight': <function sax.models.straight(*, wl: 'FloatArrayND | float' = 1.55, wl0: 'float' = 1.55, neff: 'float' = 2.34, ng: 'float' = 3.4, length: 'float' = 10.0, loss: 'float' = 0.0) -> 'SDict'>,\n",
              " 'unitary': <functools._lru_cache_wrapper at 0x7fe7be4e7d70>}"
            ]
          },
          "execution_count": 16,
          "metadata": {},
          "output_type": "execute_result"
        }
      ],
      "source": [
        "sax.models.models"
      ]
    }
  ],
  "metadata": {
    "kernelspec": {
      "display_name": "Python 3 (ipykernel)",
      "language": "python",
      "name": "python3"
    },
    "language_info": {
      "codemirror_mode": {
        "name": "ipython",
        "version": 3
      },
      "file_extension": ".py",
      "mimetype": "text/x-python",
      "name": "python",
      "nbconvert_exporter": "python",
      "pygments_lexer": "ipython3",
      "version": "3.11.10"
    },
    "papermill": {
      "default_parameters": {},
      "duration": 5.435263,
      "end_time": "2024-11-06T14:05:12.857673",
      "environment_variables": {},
      "exception": null,
      "input_path": "./internals/01_models.ipynb",
      "output_path": "./internals/01_models.ipynb",
      "parameters": {},
      "start_time": "2024-11-06T14:05:07.422410",
      "version": "2.6.0"
    }
  },
  "nbformat": 4,
  "nbformat_minor": 5
}