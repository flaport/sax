{
  "cells": [
    {
      "cell_type": "markdown",
      "id": "986cb864",
      "metadata": {
        "papermill": {
          "duration": 0.004239,
          "end_time": "2025-03-24T14:15:18.471955",
          "exception": false,
          "start_time": "2025-03-24T14:15:18.467716",
          "status": "completed"
        },
        "tags": []
      },
      "source": [
        "# Models and Model Factories\n",
        "\n",
        "> Default SAX Models"
      ]
    },
    {
      "cell_type": "code",
      "execution_count": 1,
      "id": "3f208d18-cef7-4668-b532-6487912ecd17",
      "metadata": {
        "execution": {
          "iopub.execute_input": "2025-03-24T14:15:18.478957Z",
          "iopub.status.busy": "2025-03-24T14:15:18.478375Z",
          "iopub.status.idle": "2025-03-24T14:15:19.584771Z",
          "shell.execute_reply": "2025-03-24T14:15:19.584197Z"
        },
        "papermill": {
          "duration": 1.111012,
          "end_time": "2025-03-24T14:15:19.585894",
          "exception": false,
          "start_time": "2025-03-24T14:15:18.474882",
          "status": "completed"
        },
        "tags": []
      },
      "outputs": [],
      "source": [
        "import sax"
      ]
    },
    {
      "cell_type": "markdown",
      "id": "6905a550-61ed-4557-8cd5-d8a6e6ca5c0f",
      "metadata": {
        "papermill": {
          "duration": 0.002504,
          "end_time": "2025-03-24T14:15:19.591424",
          "exception": false,
          "start_time": "2025-03-24T14:15:19.588920",
          "status": "completed"
        },
        "tags": []
      },
      "source": [
        "## Simple Models"
      ]
    },
    {
      "cell_type": "code",
      "execution_count": 2,
      "id": "a99cec57",
      "metadata": {
        "execution": {
          "iopub.execute_input": "2025-03-24T14:15:19.597531Z",
          "iopub.status.busy": "2025-03-24T14:15:19.597170Z",
          "iopub.status.idle": "2025-03-24T14:15:19.674229Z",
          "shell.execute_reply": "2025-03-24T14:15:19.673799Z"
        },
        "papermill": {
          "duration": 0.081151,
          "end_time": "2025-03-24T14:15:19.675115",
          "exception": false,
          "start_time": "2025-03-24T14:15:19.593964",
          "status": "completed"
        },
        "tags": []
      },
      "outputs": [
        {
          "data": {
            "text/plain": [
              "{('in0', 'out0'): Array(0.82076344+0.57126822j, dtype=complex128),\n",
              " ('out0', 'in0'): Array(0.82076344+0.57126822j, dtype=complex128)}"
            ]
          },
          "execution_count": 2,
          "metadata": {},
          "output_type": "execute_result"
        }
      ],
      "source": [
        "sax.models.straight()"
      ]
    },
    {
      "cell_type": "code",
      "execution_count": 3,
      "id": "5fd87a22",
      "metadata": {
        "execution": {
          "iopub.execute_input": "2025-03-24T14:15:19.681493Z",
          "iopub.status.busy": "2025-03-24T14:15:19.681308Z",
          "iopub.status.idle": "2025-03-24T14:15:19.685085Z",
          "shell.execute_reply": "2025-03-24T14:15:19.684560Z"
        },
        "papermill": {
          "duration": 0.007886,
          "end_time": "2025-03-24T14:15:19.685935",
          "exception": false,
          "start_time": "2025-03-24T14:15:19.678049",
          "status": "completed"
        },
        "tags": []
      },
      "outputs": [
        {
          "data": {
            "text/plain": [
              "{('in0', 'out0'): 0.7071067811865476,\n",
              " ('in0', 'out1'): 0.7071067811865476j,\n",
              " ('in1', 'out0'): 0.7071067811865476j,\n",
              " ('in1', 'out1'): 0.7071067811865476,\n",
              " ('out0', 'in0'): 0.7071067811865476,\n",
              " ('out1', 'in0'): 0.7071067811865476j,\n",
              " ('out0', 'in1'): 0.7071067811865476j,\n",
              " ('out1', 'in1'): 0.7071067811865476}"
            ]
          },
          "execution_count": 3,
          "metadata": {},
          "output_type": "execute_result"
        }
      ],
      "source": [
        "sax.models.coupler()"
      ]
    },
    {
      "cell_type": "markdown",
      "id": "ca06c12f",
      "metadata": {
        "papermill": {
          "duration": 0.002722,
          "end_time": "2025-03-24T14:15:19.691506",
          "exception": false,
          "start_time": "2025-03-24T14:15:19.688784",
          "status": "completed"
        },
        "tags": []
      },
      "source": [
        "## Model Factories"
      ]
    },
    {
      "cell_type": "markdown",
      "id": "327febf2-70d5-48ed-8b39-bac2d9727db5",
      "metadata": {
        "papermill": {
          "duration": 0.002688,
          "end_time": "2025-03-24T14:15:19.697000",
          "exception": false,
          "start_time": "2025-03-24T14:15:19.694312",
          "status": "completed"
        },
        "tags": []
      },
      "source": [
        "A unitary model returns an `SCoo` by default:"
      ]
    },
    {
      "cell_type": "code",
      "execution_count": 4,
      "id": "e95bacdd",
      "metadata": {
        "execution": {
          "iopub.execute_input": "2025-03-24T14:15:19.703730Z",
          "iopub.status.busy": "2025-03-24T14:15:19.703316Z",
          "iopub.status.idle": "2025-03-24T14:15:20.918894Z",
          "shell.execute_reply": "2025-03-24T14:15:20.918267Z"
        },
        "papermill": {
          "duration": 1.220206,
          "end_time": "2025-03-24T14:15:20.919927",
          "exception": false,
          "start_time": "2025-03-24T14:15:19.699721",
          "status": "completed"
        },
        "tags": []
      },
      "outputs": [
        {
          "data": {
            "text/plain": [
              "(Array([0, 0, 1, 1, 2, 2, 3, 3], dtype=int64),\n",
              " Array([2, 3, 2, 3, 0, 1, 0, 1], dtype=int64),\n",
              " Array([0.70710678, 0.70710678, 0.70710678, 0.70710678, 0.70710678,\n",
              "        0.70710678, 0.70710678, 0.70710678], dtype=float64),\n",
              " {'in0': Array(0, dtype=int64, weak_type=True),\n",
              "  'in1': Array(1, dtype=int64, weak_type=True),\n",
              "  'out0': Array(2, dtype=int64, weak_type=True),\n",
              "  'out1': Array(3, dtype=int64, weak_type=True)})"
            ]
          },
          "execution_count": 4,
          "metadata": {},
          "output_type": "execute_result"
        }
      ],
      "source": [
        "unitary_model = sax.models.unitary(2, 2)\n",
        "unitary_model()  # a unitary model returns an SCoo by default"
      ]
    },
    {
      "cell_type": "markdown",
      "id": "01ff2567-9b0e-4686-acb4-47cfb11b06ce",
      "metadata": {
        "papermill": {
          "duration": 0.002804,
          "end_time": "2025-03-24T14:15:20.925973",
          "exception": false,
          "start_time": "2025-03-24T14:15:20.923169",
          "status": "completed"
        },
        "tags": []
      },
      "source": [
        "As you probably already know, it's very easy to convert a model returning any `Stype` into a model returning an `SDict` as follows:"
      ]
    },
    {
      "cell_type": "code",
      "execution_count": 5,
      "id": "260dda8c-7e44-4f3f-b96c-e742daaf2885",
      "metadata": {
        "execution": {
          "iopub.execute_input": "2025-03-24T14:15:20.933067Z",
          "iopub.status.busy": "2025-03-24T14:15:20.932604Z",
          "iopub.status.idle": "2025-03-24T14:15:20.982873Z",
          "shell.execute_reply": "2025-03-24T14:15:20.982259Z"
        },
        "papermill": {
          "duration": 0.054926,
          "end_time": "2025-03-24T14:15:20.983840",
          "exception": false,
          "start_time": "2025-03-24T14:15:20.928914",
          "status": "completed"
        },
        "tags": []
      },
      "outputs": [
        {
          "data": {
            "text/plain": [
              "{('in0', 'out0'): Array(0.70710678, dtype=float64),\n",
              " ('in0', 'out1'): Array(0.70710678, dtype=float64),\n",
              " ('in1', 'out0'): Array(0.70710678, dtype=float64),\n",
              " ('in1', 'out1'): Array(0.70710678, dtype=float64),\n",
              " ('out0', 'in0'): Array(0.70710678, dtype=float64),\n",
              " ('out0', 'in1'): Array(0.70710678, dtype=float64),\n",
              " ('out1', 'in0'): Array(0.70710678, dtype=float64),\n",
              " ('out1', 'in1'): Array(0.70710678, dtype=float64)}"
            ]
          },
          "execution_count": 5,
          "metadata": {},
          "output_type": "execute_result"
        }
      ],
      "source": [
        "unitary_sdict_model = sax.sdict(unitary_model)\n",
        "unitary_sdict_model()"
      ]
    },
    {
      "cell_type": "markdown",
      "id": "e9a1a46b-b10a-471b-b835-7b6d8d49175a",
      "metadata": {
        "papermill": {
          "duration": 0.002877,
          "end_time": "2025-03-24T14:15:20.989872",
          "exception": false,
          "start_time": "2025-03-24T14:15:20.986995",
          "status": "completed"
        },
        "tags": []
      },
      "source": [
        "If we need custom port names, we can also just specify them explicitly:"
      ]
    },
    {
      "cell_type": "code",
      "execution_count": 6,
      "id": "66abe9b0",
      "metadata": {
        "execution": {
          "iopub.execute_input": "2025-03-24T14:15:20.996603Z",
          "iopub.status.busy": "2025-03-24T14:15:20.996398Z",
          "iopub.status.idle": "2025-03-24T14:15:21.022240Z",
          "shell.execute_reply": "2025-03-24T14:15:21.021032Z"
        },
        "papermill": {
          "duration": 0.030786,
          "end_time": "2025-03-24T14:15:21.023612",
          "exception": false,
          "start_time": "2025-03-24T14:15:20.992826",
          "status": "completed"
        },
        "tags": []
      },
      "outputs": [
        {
          "data": {
            "text/plain": [
              "(Array([0, 0, 1, 1, 2, 2, 3, 3], dtype=int64),\n",
              " Array([2, 3, 2, 3, 0, 1, 0, 1], dtype=int64),\n",
              " Array([0.70710678, 0.70710678, 0.70710678, 0.70710678, 0.70710678,\n",
              "        0.70710678, 0.70710678, 0.70710678], dtype=float64),\n",
              " {'in0': Array(0, dtype=int64, weak_type=True),\n",
              "  'in1': Array(1, dtype=int64, weak_type=True),\n",
              "  'out0': Array(2, dtype=int64, weak_type=True),\n",
              "  'out1': Array(3, dtype=int64, weak_type=True)})"
            ]
          },
          "execution_count": 6,
          "metadata": {},
          "output_type": "execute_result"
        }
      ],
      "source": [
        "unitary_model = sax.models.unitary(ports=(\"in0\", \"in1\", \"out0\", \"out1\"))\n",
        "unitary_model()"
      ]
    },
    {
      "cell_type": "markdown",
      "id": "ebf14c1c-ccfb-44e6-8572-18b366ffab91",
      "metadata": {
        "papermill": {
          "duration": 0.00296,
          "end_time": "2025-03-24T14:15:21.030450",
          "exception": false,
          "start_time": "2025-03-24T14:15:21.027490",
          "status": "completed"
        },
        "tags": []
      },
      "source": [
        "A unitary model will by default split a signal at an input port equally over all output ports. However, if there are an equal number of input ports as output ports we can in stead create a passthru by setting the `diagonal` flag to `True`:"
      ]
    },
    {
      "cell_type": "code",
      "execution_count": 7,
      "id": "7c1d61a3",
      "metadata": {
        "execution": {
          "iopub.execute_input": "2025-03-24T14:15:21.037461Z",
          "iopub.status.busy": "2025-03-24T14:15:21.037114Z",
          "iopub.status.idle": "2025-03-24T14:15:21.416638Z",
          "shell.execute_reply": "2025-03-24T14:15:21.415972Z"
        },
        "papermill": {
          "duration": 0.384318,
          "end_time": "2025-03-24T14:15:21.417743",
          "exception": false,
          "start_time": "2025-03-24T14:15:21.033425",
          "status": "completed"
        },
        "tags": []
      },
      "outputs": [
        {
          "data": {
            "text/plain": [
              "{('in0', 'out0'): Array(1., dtype=float64),\n",
              " ('in1', 'out1'): Array(1., dtype=float64),\n",
              " ('out0', 'in0'): Array(1., dtype=float64),\n",
              " ('out1', 'in1'): Array(1., dtype=float64)}"
            ]
          },
          "execution_count": 7,
          "metadata": {},
          "output_type": "execute_result"
        }
      ],
      "source": [
        "passthru_model = sax.models.unitary(2, 2, diagonal=True)\n",
        "sax.sdict(passthru_model())"
      ]
    },
    {
      "cell_type": "code",
      "execution_count": 8,
      "id": "7f93b145",
      "metadata": {
        "execution": {
          "iopub.execute_input": "2025-03-24T14:15:21.429496Z",
          "iopub.status.busy": "2025-03-24T14:15:21.429161Z",
          "iopub.status.idle": "2025-03-24T14:15:22.420869Z",
          "shell.execute_reply": "2025-03-24T14:15:22.420270Z"
        },
        "papermill": {
          "duration": 0.998378,
          "end_time": "2025-03-24T14:15:22.421847",
          "exception": false,
          "start_time": "2025-03-24T14:15:21.423469",
          "status": "completed"
        },
        "tags": []
      },
      "outputs": [
        {
          "data": {
            "text/plain": [
              "{('in0', 'out0'): Array(0.4472136, dtype=float64),\n",
              " ('in0', 'out1'): Array(0.4472136, dtype=float64),\n",
              " ('in0', 'out2'): Array(0.4472136, dtype=float64),\n",
              " ('in0', 'out3'): Array(0.4472136, dtype=float64),\n",
              " ('in0', 'out4'): Array(0.4472136, dtype=float64),\n",
              " ('out0', 'in0'): Array(0.4472136, dtype=float64),\n",
              " ('out1', 'in0'): Array(0.4472136, dtype=float64),\n",
              " ('out2', 'in0'): Array(0.4472136, dtype=float64),\n",
              " ('out3', 'in0'): Array(0.4472136, dtype=float64),\n",
              " ('out4', 'in0'): Array(0.4472136, dtype=float64)}"
            ]
          },
          "execution_count": 8,
          "metadata": {},
          "output_type": "execute_result"
        }
      ],
      "source": [
        "ports_in = [\"in0\"]\n",
        "ports_out = [\"out0\", \"out1\", \"out2\", \"out3\", \"out4\"]\n",
        "model = sax.models.unitary(ports=tuple(ports_in + ports_out), jit=True, reciprocal=True)\n",
        "model = sax.sdict(model)\n",
        "model()"
      ]
    },
    {
      "cell_type": "markdown",
      "id": "8b149d44-5487-4e50-a2f2-1ad0aca99dac",
      "metadata": {
        "papermill": {
          "duration": 0.003239,
          "end_time": "2025-03-24T14:15:22.428641",
          "exception": false,
          "start_time": "2025-03-24T14:15:22.425402",
          "status": "completed"
        },
        "tags": []
      },
      "source": [
        "Because this is a pretty common usecase we have a dedicated model factory for this as well. This passthru component just takes the number of links (`'in{i}' -> 'out{i]'`) as input. Alternatively, as before, one can also specify the port names directly but one needs to ensure that `len(ports) == 2*num_links`."
      ]
    },
    {
      "cell_type": "code",
      "execution_count": 9,
      "id": "9e8b6cd7-56d4-4697-9a6e-33c929f3d853",
      "metadata": {
        "execution": {
          "iopub.execute_input": "2025-03-24T14:15:22.435889Z",
          "iopub.status.busy": "2025-03-24T14:15:22.435537Z",
          "iopub.status.idle": "2025-03-24T14:15:23.082950Z",
          "shell.execute_reply": "2025-03-24T14:15:23.082333Z"
        },
        "papermill": {
          "duration": 0.652073,
          "end_time": "2025-03-24T14:15:23.083885",
          "exception": false,
          "start_time": "2025-03-24T14:15:22.431812",
          "status": "completed"
        },
        "tags": []
      },
      "outputs": [
        {
          "data": {
            "text/plain": [
              "{('in0', 'out0'): Array(1., dtype=float64),\n",
              " ('in1', 'out1'): Array(1., dtype=float64),\n",
              " ('in2', 'out2'): Array(1., dtype=float64),\n",
              " ('out0', 'in0'): Array(1., dtype=float64),\n",
              " ('out1', 'in1'): Array(1., dtype=float64),\n",
              " ('out2', 'in2'): Array(1., dtype=float64)}"
            ]
          },
          "execution_count": 9,
          "metadata": {},
          "output_type": "execute_result"
        }
      ],
      "source": [
        "passthru_model = sax.passthru(3)\n",
        "passthru_sdict_model = sax.sdict(passthru_model)\n",
        "passthru_sdict_model()"
      ]
    },
    {
      "cell_type": "code",
      "execution_count": 10,
      "id": "690e718c-2d84-4177-b8ad-ff39cf8c4691",
      "metadata": {
        "execution": {
          "iopub.execute_input": "2025-03-24T14:15:23.091820Z",
          "iopub.status.busy": "2025-03-24T14:15:23.091429Z",
          "iopub.status.idle": "2025-03-24T14:15:24.591233Z",
          "shell.execute_reply": "2025-03-24T14:15:24.590668Z"
        },
        "papermill": {
          "duration": 1.504883,
          "end_time": "2025-03-24T14:15:24.592336",
          "exception": false,
          "start_time": "2025-03-24T14:15:23.087453",
          "status": "completed"
        },
        "tags": []
      },
      "outputs": [
        {
          "data": {
            "text/plain": [
              "{('in0', 'in0'): Array(0.+0.j, dtype=complex128),\n",
              " ('in0', 'out0'): Array(1.+0.j, dtype=complex128),\n",
              " ('out0', 'in0'): Array(1.+0.j, dtype=complex128),\n",
              " ('out0', 'out0'): Array(0.+0.j, dtype=complex128)}"
            ]
          },
          "execution_count": 10,
          "metadata": {},
          "output_type": "execute_result"
        }
      ],
      "source": [
        "mzi, _ = sax.circuit(\n",
        "    netlist={\n",
        "        \"instances\": {\n",
        "            \"lft\": \"u12\",\n",
        "            \"top\": \"u11\",\n",
        "            \"rgt\": \"u12\",\n",
        "        },\n",
        "        \"connections\": {\n",
        "            \"lft,out0\": \"rgt,out0\",\n",
        "            \"lft,out1\": \"top,in0\",\n",
        "            \"top,out0\": \"rgt,out1\",\n",
        "        },\n",
        "        \"ports\": {\n",
        "            \"in0\": \"lft,in0\",\n",
        "            \"out0\": \"rgt,in0\",\n",
        "        },\n",
        "    },\n",
        "    models={\n",
        "        \"u12\": sax.models.unitary(1, 2),\n",
        "        \"u11\": sax.models.unitary(1, 1),\n",
        "    },\n",
        ")\n",
        "mzi()"
      ]
    },
    {
      "cell_type": "markdown",
      "id": "77014d0f-1a08-4b4b-a011-cf11cd9684b8",
      "metadata": {
        "papermill": {
          "duration": 0.00555,
          "end_time": "2025-03-24T14:15:24.603829",
          "exception": false,
          "start_time": "2025-03-24T14:15:24.598279",
          "status": "completed"
        },
        "tags": []
      },
      "source": [
        "A copier model is like a unitary model, but copies the input signal over all output signals. Hence, if the model has multiple output ports, this model can be considered to introduce gain. That said, it can sometimes be a useful component."
      ]
    },
    {
      "cell_type": "code",
      "execution_count": 11,
      "id": "c2a61a9f-51ea-455f-a66f-94719b43520e",
      "metadata": {
        "execution": {
          "iopub.execute_input": "2025-03-24T14:15:24.617083Z",
          "iopub.status.busy": "2025-03-24T14:15:24.616549Z",
          "iopub.status.idle": "2025-03-24T14:15:24.649003Z",
          "shell.execute_reply": "2025-03-24T14:15:24.648364Z"
        },
        "papermill": {
          "duration": 0.040432,
          "end_time": "2025-03-24T14:15:24.650342",
          "exception": false,
          "start_time": "2025-03-24T14:15:24.609910",
          "status": "completed"
        },
        "tags": []
      },
      "outputs": [
        {
          "data": {
            "text/plain": [
              "(Array([0, 0, 1, 1, 2, 2, 3, 3], dtype=int64),\n",
              " Array([2, 3, 2, 3, 0, 1, 0, 1], dtype=int64),\n",
              " Array([1., 1., 1., 1., 1., 1., 1., 1.], dtype=float64),\n",
              " {'in0': Array(0, dtype=int64, weak_type=True),\n",
              "  'in1': Array(1, dtype=int64, weak_type=True),\n",
              "  'out0': Array(2, dtype=int64, weak_type=True),\n",
              "  'out1': Array(3, dtype=int64, weak_type=True)})"
            ]
          },
          "execution_count": 11,
          "metadata": {},
          "output_type": "execute_result"
        }
      ],
      "source": [
        "copier_model = sax.models.copier(2, 2)\n",
        "copier_model()  # a copier model returns an SCoo by default"
      ]
    },
    {
      "cell_type": "markdown",
      "id": "fbd51c6c-c059-4717-9dae-447becc7e8d5",
      "metadata": {
        "papermill": {
          "duration": 0.005878,
          "end_time": "2025-03-24T14:15:24.662436",
          "exception": false,
          "start_time": "2025-03-24T14:15:24.656558",
          "status": "completed"
        },
        "tags": []
      },
      "source": [
        "As you probably already know, it's very easy to convert a model returning any `Stype` into a model returning an `SDict` as follows:"
      ]
    },
    {
      "cell_type": "code",
      "execution_count": 12,
      "id": "becda099-b5d9-494c-a6b2-9828be10c4a5",
      "metadata": {
        "execution": {
          "iopub.execute_input": "2025-03-24T14:15:24.675528Z",
          "iopub.status.busy": "2025-03-24T14:15:24.675254Z",
          "iopub.status.idle": "2025-03-24T14:15:24.686332Z",
          "shell.execute_reply": "2025-03-24T14:15:24.685800Z"
        },
        "papermill": {
          "duration": 0.01881,
          "end_time": "2025-03-24T14:15:24.687473",
          "exception": false,
          "start_time": "2025-03-24T14:15:24.668663",
          "status": "completed"
        },
        "tags": []
      },
      "outputs": [
        {
          "data": {
            "text/plain": [
              "{('in0', 'out0'): Array(1., dtype=float64),\n",
              " ('in0', 'out1'): Array(1., dtype=float64),\n",
              " ('in1', 'out0'): Array(1., dtype=float64),\n",
              " ('in1', 'out1'): Array(1., dtype=float64),\n",
              " ('out0', 'in0'): Array(1., dtype=float64),\n",
              " ('out0', 'in1'): Array(1., dtype=float64),\n",
              " ('out1', 'in0'): Array(1., dtype=float64),\n",
              " ('out1', 'in1'): Array(1., dtype=float64)}"
            ]
          },
          "execution_count": 12,
          "metadata": {},
          "output_type": "execute_result"
        }
      ],
      "source": [
        "copier_sdict_model = sax.sdict(copier_model)\n",
        "copier_sdict_model()"
      ]
    },
    {
      "cell_type": "markdown",
      "id": "1ad16d1b-f685-4ab9-a8c4-41efbbdae4fa",
      "metadata": {
        "papermill": {
          "duration": 0.009331,
          "end_time": "2025-03-24T14:15:24.702964",
          "exception": false,
          "start_time": "2025-03-24T14:15:24.693633",
          "status": "completed"
        },
        "tags": []
      },
      "source": [
        "If we need custom port names, we can also just specify them explicitly:"
      ]
    },
    {
      "cell_type": "code",
      "execution_count": 13,
      "id": "297d1e45-b881-440b-b887-b38c5517596e",
      "metadata": {
        "execution": {
          "iopub.execute_input": "2025-03-24T14:15:24.711412Z",
          "iopub.status.busy": "2025-03-24T14:15:24.710982Z",
          "iopub.status.idle": "2025-03-24T14:15:24.733302Z",
          "shell.execute_reply": "2025-03-24T14:15:24.732681Z"
        },
        "papermill": {
          "duration": 0.027762,
          "end_time": "2025-03-24T14:15:24.734311",
          "exception": false,
          "start_time": "2025-03-24T14:15:24.706549",
          "status": "completed"
        },
        "tags": []
      },
      "outputs": [
        {
          "data": {
            "text/plain": [
              "(Array([0, 0, 1, 1, 2, 2, 3, 3], dtype=int64),\n",
              " Array([2, 3, 2, 3, 0, 1, 0, 1], dtype=int64),\n",
              " Array([1., 1., 1., 1., 1., 1., 1., 1.], dtype=float64),\n",
              " {'in0': Array(0, dtype=int64, weak_type=True),\n",
              "  'in1': Array(1, dtype=int64, weak_type=True),\n",
              "  'out0': Array(2, dtype=int64, weak_type=True),\n",
              "  'out1': Array(3, dtype=int64, weak_type=True)})"
            ]
          },
          "execution_count": 13,
          "metadata": {},
          "output_type": "execute_result"
        }
      ],
      "source": [
        "copier_model = sax.models.copier(ports=(\"in0\", \"in1\", \"out0\", \"out1\"))\n",
        "copier_model()"
      ]
    },
    {
      "cell_type": "code",
      "execution_count": 14,
      "id": "608d7114-03ac-4f5f-9790-cf65379d81dd",
      "metadata": {
        "execution": {
          "iopub.execute_input": "2025-03-24T14:15:24.743570Z",
          "iopub.status.busy": "2025-03-24T14:15:24.743141Z",
          "iopub.status.idle": "2025-03-24T14:15:24.754158Z",
          "shell.execute_reply": "2025-03-24T14:15:24.753545Z"
        },
        "papermill": {
          "duration": 0.017036,
          "end_time": "2025-03-24T14:15:24.755582",
          "exception": false,
          "start_time": "2025-03-24T14:15:24.738546",
          "status": "completed"
        },
        "tags": []
      },
      "outputs": [
        {
          "data": {
            "text/plain": [
              "{('in0', 'out0'): Array(0.4472136, dtype=float64),\n",
              " ('in0', 'out1'): Array(0.4472136, dtype=float64),\n",
              " ('in0', 'out2'): Array(0.4472136, dtype=float64),\n",
              " ('in0', 'out3'): Array(0.4472136, dtype=float64),\n",
              " ('in0', 'out4'): Array(0.4472136, dtype=float64),\n",
              " ('out0', 'in0'): Array(0.4472136, dtype=float64),\n",
              " ('out1', 'in0'): Array(0.4472136, dtype=float64),\n",
              " ('out2', 'in0'): Array(0.4472136, dtype=float64),\n",
              " ('out3', 'in0'): Array(0.4472136, dtype=float64),\n",
              " ('out4', 'in0'): Array(0.4472136, dtype=float64)}"
            ]
          },
          "execution_count": 14,
          "metadata": {},
          "output_type": "execute_result"
        }
      ],
      "source": [
        "ports_in = [\"in0\"]\n",
        "ports_out = [\"out0\", \"out1\", \"out2\", \"out3\", \"out4\"]\n",
        "model = sax.models.unitary(ports=tuple(ports_in + ports_out), jit=True, reciprocal=True)\n",
        "model = sax.sdict(model)\n",
        "model()"
      ]
    },
    {
      "cell_type": "markdown",
      "id": "6d024e5b-95a9-44e5-9dbc-4980249e73a7",
      "metadata": {
        "papermill": {
          "duration": 0.005104,
          "end_time": "2025-03-24T14:15:24.767379",
          "exception": false,
          "start_time": "2025-03-24T14:15:24.762275",
          "status": "completed"
        },
        "tags": []
      },
      "source": [
        "Because this is a pretty common usecase we have a dedicated model factory for this as well. This passthru component just takes the number of links (`'in{i}' -> 'out{i]'`) as input. Alternatively, as before, one can also specify the port names directly but one needs to ensure that `len(ports) == 2*num_links`."
      ]
    },
    {
      "cell_type": "code",
      "execution_count": 15,
      "id": "4a063810-224b-446c-a59d-12a20b56e82e",
      "metadata": {
        "execution": {
          "iopub.execute_input": "2025-03-24T14:15:24.778376Z",
          "iopub.status.busy": "2025-03-24T14:15:24.777870Z",
          "iopub.status.idle": "2025-03-24T14:15:24.788182Z",
          "shell.execute_reply": "2025-03-24T14:15:24.787580Z"
        },
        "papermill": {
          "duration": 0.01808,
          "end_time": "2025-03-24T14:15:24.789258",
          "exception": false,
          "start_time": "2025-03-24T14:15:24.771178",
          "status": "completed"
        },
        "tags": []
      },
      "outputs": [
        {
          "data": {
            "text/plain": [
              "{('in0', 'out0'): Array(1., dtype=float64),\n",
              " ('in1', 'out1'): Array(1., dtype=float64),\n",
              " ('in2', 'out2'): Array(1., dtype=float64),\n",
              " ('out0', 'in0'): Array(1., dtype=float64),\n",
              " ('out1', 'in1'): Array(1., dtype=float64),\n",
              " ('out2', 'in2'): Array(1., dtype=float64)}"
            ]
          },
          "execution_count": 15,
          "metadata": {},
          "output_type": "execute_result"
        }
      ],
      "source": [
        "passthru_model = sax.models.passthru(3)\n",
        "passthru_sdict_model = sax.sdict(passthru_model)\n",
        "passthru_sdict_model()"
      ]
    },
    {
      "cell_type": "markdown",
      "id": "e56f2f41-776f-4b53-98c3-dee702326093",
      "metadata": {
        "papermill": {
          "duration": 0.005928,
          "end_time": "2025-03-24T14:15:24.802196",
          "exception": false,
          "start_time": "2025-03-24T14:15:24.796268",
          "status": "completed"
        },
        "tags": []
      },
      "source": [
        "## All Models"
      ]
    },
    {
      "cell_type": "code",
      "execution_count": 16,
      "id": "52ae2f93-6190-4c24-9120-f95f3f61baa8",
      "metadata": {
        "execution": {
          "iopub.execute_input": "2025-03-24T14:15:24.811214Z",
          "iopub.status.busy": "2025-03-24T14:15:24.810877Z",
          "iopub.status.idle": "2025-03-24T14:15:24.815051Z",
          "shell.execute_reply": "2025-03-24T14:15:24.814523Z"
        },
        "papermill": {
          "duration": 0.009901,
          "end_time": "2025-03-24T14:15:24.815932",
          "exception": false,
          "start_time": "2025-03-24T14:15:24.806031",
          "status": "completed"
        },
        "tags": []
      },
      "outputs": [
        {
          "data": {
            "text/plain": [
              "{'copier': <functools._lru_cache_wrapper at 0x7fd931fe3cc0>,\n",
              " 'coupler': <function sax.models.coupler(*, coupling: 'float' = 0.5) -> 'SDict'>,\n",
              " 'passthru': <functools._lru_cache_wrapper at 0x7fd931fe3e20>,\n",
              " 'straight': <function sax.models.straight(*, wl: 'FloatArrayND | float' = 1.55, wl0: 'float' = 1.55, neff: 'float' = 2.34, ng: 'float' = 3.4, length: 'float' = 10.0, loss: 'float' = 0.0) -> 'SDict'>,\n",
              " 'unitary': <functools._lru_cache_wrapper at 0x7fd931fe3ab0>}"
            ]
          },
          "execution_count": 16,
          "metadata": {},
          "output_type": "execute_result"
        }
      ],
      "source": [
        "sax.models.models"
      ]
    }
  ],
  "metadata": {
    "kernelspec": {
      "display_name": "Python 3 (ipykernel)",
      "language": "python",
      "name": "python3"
    },
    "language_info": {
      "codemirror_mode": {
        "name": "ipython",
        "version": 3
      },
      "file_extension": ".py",
      "mimetype": "text/x-python",
      "name": "python",
      "nbconvert_exporter": "python",
      "pygments_lexer": "ipython3",
      "version": "3.12.3"
    },
    "papermill": {
      "default_parameters": {},
      "duration": 8.242488,
      "end_time": "2025-03-24T14:15:25.741208",
      "environment_variables": {},
      "exception": null,
      "input_path": "internals/01_models.ipynb",
      "output_path": "internals/01_models.ipynb",
      "parameters": {},
      "start_time": "2025-03-24T14:15:17.498720",
      "version": "2.6.0"
    }
  },
  "nbformat": 4,
  "nbformat_minor": 5
}