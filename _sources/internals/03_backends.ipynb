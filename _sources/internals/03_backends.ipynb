{
  "cells": [
    {
      "cell_type": "markdown",
      "id": "41e0d311",
      "metadata": {
        "papermill": {
          "duration": 0.020367,
          "end_time": "2025-02-26T08:32:30.751840",
          "exception": false,
          "start_time": "2025-02-26T08:32:30.731473",
          "status": "completed"
        },
        "tags": []
      },
      "source": [
        "# Backends\n",
        "\n",
        "> SAX Backends"
      ]
    },
    {
      "cell_type": "code",
      "execution_count": 1,
      "id": "38d7e3b6-83cb-4768-8401-075260456fc9",
      "metadata": {
        "execution": {
          "iopub.execute_input": "2025-02-26T08:32:30.823558Z",
          "iopub.status.busy": "2025-02-26T08:32:30.823317Z",
          "iopub.status.idle": "2025-02-26T08:32:33.585142Z",
          "shell.execute_reply": "2025-02-26T08:32:33.584413Z"
        },
        "papermill": {
          "duration": 2.813074,
          "end_time": "2025-02-26T08:32:33.587705",
          "exception": false,
          "start_time": "2025-02-26T08:32:30.774631",
          "status": "completed"
        },
        "tags": []
      },
      "outputs": [],
      "source": [
        "import jax\n",
        "import jax.numpy as jnp\n",
        "import klujax\n",
        "import networkx as nx\n",
        "import sax"
      ]
    },
    {
      "cell_type": "markdown",
      "id": "ac34f260-6473-4484-a2ad-dc38e3f37c46",
      "metadata": {
        "papermill": {
          "duration": 0.089465,
          "end_time": "2025-02-26T08:32:33.700023",
          "exception": false,
          "start_time": "2025-02-26T08:32:33.610558",
          "status": "completed"
        },
        "tags": []
      },
      "source": [
        "## Introduction"
      ]
    },
    {
      "cell_type": "markdown",
      "id": "fbb157f0-f28b-47fc-a734-fb7181207487",
      "metadata": {
        "papermill": {
          "duration": 0.01934,
          "end_time": "2025-02-26T08:32:33.765140",
          "exception": false,
          "start_time": "2025-02-26T08:32:33.745800",
          "status": "completed"
        },
        "tags": []
      },
      "source": [
        "SAX allows to easily interchange the backend of a circuit. A SAX backend consists of two static analysis steps and an evaluation step:\n",
        "\n",
        "```{eval-rst}\n",
        ".. autofunction:: sax.backends.analyze_instances\n",
        "```\n",
        "\n",
        "```{eval-rst}\n",
        ".. autofunction:: sax.backends.analyze_circuit\n",
        "```\n",
        "\n",
        "```{eval-rst}\n",
        ".. autofunction:: sax.backends.evaluate_circuit\n",
        "```"
      ]
    },
    {
      "cell_type": "markdown",
      "id": "26efaa95-54e4-4f31-8ea8-0139a470fa74",
      "metadata": {
        "papermill": {
          "duration": 0.038653,
          "end_time": "2025-02-26T08:32:33.846686",
          "exception": false,
          "start_time": "2025-02-26T08:32:33.808033",
          "status": "completed"
        },
        "tags": []
      },
      "source": [
        "The `analyze_instances` step analyzes the 'shape' of the instances by running each model with default parameters. By shape we mean which port-combinations are present in the sparse S-matrix.\n",
        "\n",
        ":::{warning}\n",
        "QUESTION: can we do this more efficiently in a functional way?\n",
        ":::\n",
        "\n",
        "After analyzing the instances, it is assumed that the shape of the instance won't change any more. **It is therefore important that you write your model functions in such a way that the port combinations present in your s-matrix *never* changes!**\n",
        "\n",
        ":::{note}\n",
        "we used to do this analysis step in `analyze_circuit` by just looking at the connections present. However, this inherently assumed dense connectivity within the model. This is pretty inefficient for large sparse models with many ports. Ideally, however, we should be able to analyze the shape of our instances without running their models with default parameters...\n",
        ":::"
      ]
    },
    {
      "cell_type": "markdown",
      "id": "25d158f3-941f-44bb-bcfd-c90344bb3778",
      "metadata": {
        "papermill": {
          "duration": 0.046001,
          "end_time": "2025-02-26T08:32:33.938402",
          "exception": false,
          "start_time": "2025-02-26T08:32:33.892401",
          "status": "completed"
        },
        "tags": []
      },
      "source": [
        "The `analyze_circuit` step should statically analyze the connections and ports and should return an `analyzed` object. This object contains all the static objects that are needed for circuit computation but won't be recalculated when any parameters of the circuit change. See KLU Backend (below) for a non-trivial implementation of the circuit analyzation.\n",
        "\n",
        "The `evaluate_circuit` step evaluates the circuit for given `SType` instances, given whatever analysis object was returned from the `analyze_circuit` step and the instance `SType`s."
      ]
    },
    {
      "cell_type": "markdown",
      "id": "fbeef854-b3a4-4f39-9ffb-238f5d331c03",
      "metadata": {
        "papermill": {
          "duration": 0.092613,
          "end_time": "2025-02-26T08:32:34.056790",
          "exception": false,
          "start_time": "2025-02-26T08:32:33.964177",
          "status": "completed"
        },
        "tags": []
      },
      "source": [
        "## Example"
      ]
    },
    {
      "cell_type": "code",
      "execution_count": 2,
      "id": "e52daa7d-e73c-4bb3-8051-ae8836337a6a",
      "metadata": {
        "execution": {
          "iopub.execute_input": "2025-02-26T08:32:34.197888Z",
          "iopub.status.busy": "2025-02-26T08:32:34.197003Z",
          "iopub.status.idle": "2025-02-26T08:32:35.854427Z",
          "shell.execute_reply": "2025-02-26T08:32:35.853916Z"
        },
        "papermill": {
          "duration": 1.70421,
          "end_time": "2025-02-26T08:32:35.856918",
          "exception": false,
          "start_time": "2025-02-26T08:32:34.152708",
          "status": "completed"
        },
        "tags": []
      },
      "outputs": [
        {
          "data": {
            "text/plain": [
              "{('in0', 'in0'): Array(0.+0.j, dtype=complex128),\n",
              " ('in0', 'in1'): Array(0.+0.j, dtype=complex128),\n",
              " ('in0', 'out0'): Array(-0.25+0.433015j, dtype=complex128),\n",
              " ('in0', 'out1'): Array(-0.433015+0.75j, dtype=complex128),\n",
              " ('in1', 'in0'): Array(0.+0.j, dtype=complex128),\n",
              " ('in1', 'in1'): Array(0.+0.j, dtype=complex128),\n",
              " ('in1', 'out0'): Array(-0.433015+0.75j, dtype=complex128),\n",
              " ('in1', 'out1'): Array(0.25-0.433015j, dtype=complex128),\n",
              " ('out0', 'in0'): Array(-0.25+0.433015j, dtype=complex128),\n",
              " ('out0', 'in1'): Array(-0.433015+0.75j, dtype=complex128),\n",
              " ('out0', 'out0'): Array(0.+0.j, dtype=complex128),\n",
              " ('out0', 'out1'): Array(0.+0.j, dtype=complex128),\n",
              " ('out1', 'in0'): Array(-0.433015+0.75j, dtype=complex128),\n",
              " ('out1', 'in1'): Array(0.25-0.433015j, dtype=complex128),\n",
              " ('out1', 'out0'): Array(0.+0.j, dtype=complex128),\n",
              " ('out1', 'out1'): Array(0.+0.j, dtype=complex128)}"
            ]
          },
          "execution_count": 2,
          "metadata": {},
          "output_type": "execute_result"
        }
      ],
      "source": [
        "wg_sdict: sax.SDict = {\n",
        "    (\"in0\", \"out0\"): 0.5 + 0.86603j,\n",
        "    (\"out0\", \"in0\"): 0.5 + 0.86603j,\n",
        "}\n",
        "\n",
        "\u03c4, \u03ba = 0.5**0.5, 1j * 0.5**0.5\n",
        "dc_sdense: sax.SDense = (\n",
        "    jnp.array([[0, 0, \u03c4, \u03ba], [0, 0, \u03ba, \u03c4], [\u03c4, \u03ba, 0, 0], [\u03ba, \u03c4, 0, 0]]),\n",
        "    {\"in0\": 0, \"in1\": 1, \"out0\": 2, \"out1\": 3},\n",
        ")\n",
        "\n",
        "instances = {\n",
        "    \"dc1\": {\"component\": \"dc\"},\n",
        "    \"wg\": {\"component\": \"wg\"},\n",
        "    \"dc2\": {\"component\": \"dc\"},\n",
        "}\n",
        "connections = {\n",
        "    \"dc1,out0\": \"wg,in0\",\n",
        "    \"wg,out0\": \"dc2,in0\",\n",
        "    \"dc1,out1\": \"dc2,in1\",\n",
        "}\n",
        "ports = {\n",
        "    \"in0\": \"dc1,in0\",\n",
        "    \"in1\": \"dc1,in1\",\n",
        "    \"out0\": \"dc2,out0\",\n",
        "    \"out1\": \"dc2,out1\",\n",
        "}\n",
        "models = {\n",
        "    \"wg\": lambda: wg_sdict,\n",
        "    \"dc\": lambda: dc_sdense,\n",
        "}\n",
        "\n",
        "analyzed_instances = sax.backends.analyze_instances(instances, models)\n",
        "analyzed_circuit = sax.backends.analyze_circuit(analyzed_instances, connections, ports)\n",
        "mzi_sdict = sax.sdict(\n",
        "    sax.backends.evaluate_circuit(\n",
        "        analyzed_circuit, {k: models[v[\"component\"]]() for k, v in instances.items()}\n",
        "    )\n",
        ")\n",
        "mzi_sdict"
      ]
    },
    {
      "cell_type": "markdown",
      "id": "691fd6a9-fd55-4e83-bb9e-aa93e9a23378",
      "metadata": {
        "papermill": {
          "duration": 0.021351,
          "end_time": "2025-02-26T08:32:35.900255",
          "exception": false,
          "start_time": "2025-02-26T08:32:35.878904",
          "status": "completed"
        },
        "tags": []
      },
      "source": [
        "## Filipsson-Gunnar Backend"
      ]
    },
    {
      "cell_type": "markdown",
      "id": "b5426e1b-2179-4a1c-b796-c96155575f17",
      "metadata": {
        "papermill": {
          "duration": 0.022076,
          "end_time": "2025-02-26T08:32:35.946741",
          "exception": false,
          "start_time": "2025-02-26T08:32:35.924665",
          "status": "completed"
        },
        "tags": []
      },
      "source": [
        ":::{note}\n",
        "Since The KLU Backend (see below) is Superior to the Filipsson-Gunnar backend, SAX will default (since v0.10.0) to the KLU backend if `klujax` is installed.name1\n",
        ":::"
      ]
    },
    {
      "cell_type": "markdown",
      "id": "024f9283-15fa-46b6-80c8-c594f6437da7",
      "metadata": {
        "papermill": {
          "duration": 0.021889,
          "end_time": "2025-02-26T08:32:35.990694",
          "exception": false,
          "start_time": "2025-02-26T08:32:35.968805",
          "status": "completed"
        },
        "tags": []
      },
      "source": [
        "The Filipsson-Gunnar backend is based on the following paper:\n",
        "\n",
        "> Filipsson, Gunnar. \"*A new general computer algorithm for S-matrix calculation of interconnected multiports.*\" 11th European Microwave Conference. IEEE, 1981.\n",
        "\n",
        "```{eval-rst}\n",
        ".. autofunction:: sax.backends.analyze_circuit_fg\n",
        "```\n",
        "\n",
        "```{eval-rst}\n",
        ".. autofunction:: sax.backends.evaluate_circuit_fg\n",
        "```"
      ]
    },
    {
      "cell_type": "markdown",
      "id": "9d4585be-7692-491f-8de6-9802435bec5c",
      "metadata": {
        "papermill": {
          "duration": 0.020252,
          "end_time": "2025-02-26T08:32:36.031756",
          "exception": false,
          "start_time": "2025-02-26T08:32:36.011504",
          "status": "completed"
        },
        "tags": []
      },
      "source": [
        "### Algorithm Walkthrough"
      ]
    },
    {
      "cell_type": "markdown",
      "id": "48950a3d",
      "metadata": {
        "papermill": {
          "duration": 0.077862,
          "end_time": "2025-02-26T08:32:36.130921",
          "exception": false,
          "start_time": "2025-02-26T08:32:36.053059",
          "status": "completed"
        },
        "tags": []
      },
      "source": [
        ":::{note}\n",
        "This algorithm gets pretty slow for large circuits. Since SAX v0.10.0 we will default to the superior KLU backend as the KLU backend is now also jittable.\n",
        ":::"
      ]
    },
    {
      "cell_type": "markdown",
      "id": "81e28766",
      "metadata": {
        "papermill": {
          "duration": 0.021721,
          "end_time": "2025-02-26T08:32:36.189632",
          "exception": false,
          "start_time": "2025-02-26T08:32:36.167911",
          "status": "completed"
        },
        "tags": []
      },
      "source": [
        "Let's walk through all the steps of this algorithm. We'll do this for a simple MZI circuit, given by two directional couplers characterised by `dc_sdense` with a phase shifting waveguide in between `wg_sdict`:"
      ]
    },
    {
      "cell_type": "code",
      "execution_count": 3,
      "id": "e2bdfbf4",
      "metadata": {
        "execution": {
          "iopub.execute_input": "2025-02-26T08:32:36.236998Z",
          "iopub.status.busy": "2025-02-26T08:32:36.236711Z",
          "iopub.status.idle": "2025-02-26T08:32:36.243492Z",
          "shell.execute_reply": "2025-02-26T08:32:36.241038Z"
        },
        "papermill": {
          "duration": 0.03208,
          "end_time": "2025-02-26T08:32:36.245054",
          "exception": false,
          "start_time": "2025-02-26T08:32:36.212974",
          "status": "completed"
        },
        "tags": []
      },
      "outputs": [],
      "source": [
        "instances = {\n",
        "    \"dc1\": dc_sdense,\n",
        "    \"wg\": wg_sdict,\n",
        "    \"dc2\": dc_sdense,\n",
        "}\n",
        "connections = {\n",
        "    \"dc1,out0\": \"wg,in0\",\n",
        "    \"wg,out0\": \"dc2,in0\",\n",
        "    \"dc1,out1\": \"dc2,in1\",\n",
        "}\n",
        "ports = {\n",
        "    \"in0\": \"dc1,in0\",\n",
        "    \"in1\": \"dc1,in1\",\n",
        "    \"out0\": \"dc2,out0\",\n",
        "    \"out1\": \"dc2,out1\",\n",
        "}"
      ]
    },
    {
      "cell_type": "markdown",
      "id": "6ef72161",
      "metadata": {
        "papermill": {
          "duration": 0.027817,
          "end_time": "2025-02-26T08:32:36.317321",
          "exception": false,
          "start_time": "2025-02-26T08:32:36.289504",
          "status": "completed"
        },
        "tags": []
      },
      "source": [
        "as a first step, we construct the `reversed_ports`, it's actually easier to work with `reversed_ports` (we chose the opposite convention in the netlist definition to adhere to the GDSFactory netlist convention):"
      ]
    },
    {
      "cell_type": "code",
      "execution_count": 4,
      "id": "70302612",
      "metadata": {
        "execution": {
          "iopub.execute_input": "2025-02-26T08:32:36.363258Z",
          "iopub.status.busy": "2025-02-26T08:32:36.362701Z",
          "iopub.status.idle": "2025-02-26T08:32:36.367441Z",
          "shell.execute_reply": "2025-02-26T08:32:36.366806Z"
        },
        "papermill": {
          "duration": 0.028474,
          "end_time": "2025-02-26T08:32:36.368821",
          "exception": false,
          "start_time": "2025-02-26T08:32:36.340347",
          "status": "completed"
        },
        "tags": []
      },
      "outputs": [],
      "source": [
        "reversed_ports = {v: k for k, v in ports.items()}"
      ]
    },
    {
      "cell_type": "markdown",
      "id": "78676045",
      "metadata": {
        "papermill": {
          "duration": 0.021557,
          "end_time": "2025-02-26T08:32:36.412956",
          "exception": false,
          "start_time": "2025-02-26T08:32:36.391399",
          "status": "completed"
        },
        "tags": []
      },
      "source": [
        "The first real step of the algorithm is to create the 'block diagonal sdict`:"
      ]
    },
    {
      "cell_type": "code",
      "execution_count": 5,
      "id": "0ff6149f",
      "metadata": {
        "execution": {
          "iopub.execute_input": "2025-02-26T08:32:36.458582Z",
          "iopub.status.busy": "2025-02-26T08:32:36.458054Z",
          "iopub.status.idle": "2025-02-26T08:32:36.477862Z",
          "shell.execute_reply": "2025-02-26T08:32:36.477325Z"
        },
        "papermill": {
          "duration": 0.042507,
          "end_time": "2025-02-26T08:32:36.479116",
          "exception": false,
          "start_time": "2025-02-26T08:32:36.436609",
          "status": "completed"
        },
        "tags": []
      },
      "outputs": [],
      "source": [
        "block_diag = {}\n",
        "for name, S in instances.items():\n",
        "    block_diag.update(\n",
        "        {(f\"{name},{p1}\", f\"{name},{p2}\"): v for (p1, p2), v in sax.sdict(S).items()}\n",
        "    )"
      ]
    },
    {
      "cell_type": "markdown",
      "id": "c4721548",
      "metadata": {
        "papermill": {
          "duration": 0.01866,
          "end_time": "2025-02-26T08:32:36.516955",
          "exception": false,
          "start_time": "2025-02-26T08:32:36.498295",
          "status": "completed"
        },
        "tags": []
      },
      "source": [
        "we can optionally filter out zeros from the resulting block_diag representation. Just note that this will make the resuling function unjittable (the resulting 'shape' (i.e. keys) of the dictionary would depend on the data itself, which is not allowed in JAX jit). We're doing it here to avoid printing zeros but **internally this is not done by default**."
      ]
    },
    {
      "cell_type": "code",
      "execution_count": 6,
      "id": "cfce53c1",
      "metadata": {
        "execution": {
          "iopub.execute_input": "2025-02-26T08:32:36.554542Z",
          "iopub.status.busy": "2025-02-26T08:32:36.554246Z",
          "iopub.status.idle": "2025-02-26T08:32:36.689955Z",
          "shell.execute_reply": "2025-02-26T08:32:36.688788Z"
        },
        "papermill": {
          "duration": 0.157128,
          "end_time": "2025-02-26T08:32:36.691465",
          "exception": false,
          "start_time": "2025-02-26T08:32:36.534337",
          "status": "completed"
        },
        "tags": []
      },
      "outputs": [
        {
          "name": "stdout",
          "output_type": "stream",
          "text": [
            "18\n"
          ]
        },
        {
          "data": {
            "text/plain": [
              "{('dc1,in0', 'dc1,out0'): Array(0.70710678+0.j, dtype=complex128),\n",
              " ('dc1,in0', 'dc1,out1'): Array(0.+0.70710678j, dtype=complex128),\n",
              " ('dc1,in1', 'dc1,out0'): Array(0.+0.70710678j, dtype=complex128),\n",
              " ('dc1,in1', 'dc1,out1'): Array(0.70710678+0.j, dtype=complex128),\n",
              " ('dc1,out0', 'dc1,in0'): Array(0.70710678+0.j, dtype=complex128),\n",
              " ('dc1,out0', 'dc1,in1'): Array(0.+0.70710678j, dtype=complex128),\n",
              " ('dc1,out1', 'dc1,in0'): Array(0.+0.70710678j, dtype=complex128),\n",
              " ('dc1,out1', 'dc1,in1'): Array(0.70710678+0.j, dtype=complex128),\n",
              " ('wg,in0', 'wg,out0'): (0.5+0.86603j),\n",
              " ('wg,out0', 'wg,in0'): (0.5+0.86603j),\n",
              " ('dc2,in0', 'dc2,out0'): Array(0.70710678+0.j, dtype=complex128),\n",
              " ('dc2,in0', 'dc2,out1'): Array(0.+0.70710678j, dtype=complex128),\n",
              " ('dc2,in1', 'dc2,out0'): Array(0.+0.70710678j, dtype=complex128),\n",
              " ('dc2,in1', 'dc2,out1'): Array(0.70710678+0.j, dtype=complex128),\n",
              " ('dc2,out0', 'dc2,in0'): Array(0.70710678+0.j, dtype=complex128),\n",
              " ('dc2,out0', 'dc2,in1'): Array(0.+0.70710678j, dtype=complex128),\n",
              " ('dc2,out1', 'dc2,in0'): Array(0.+0.70710678j, dtype=complex128),\n",
              " ('dc2,out1', 'dc2,in1'): Array(0.70710678+0.j, dtype=complex128)}"
            ]
          },
          "execution_count": 6,
          "metadata": {},
          "output_type": "execute_result"
        }
      ],
      "source": [
        "block_diag = {k: v for k, v in block_diag.items() if jnp.abs(v) > 1e-10}\n",
        "print(len(block_diag))\n",
        "block_diag"
      ]
    },
    {
      "cell_type": "markdown",
      "id": "1963694a",
      "metadata": {
        "papermill": {
          "duration": 0.025549,
          "end_time": "2025-02-26T08:32:36.744885",
          "exception": false,
          "start_time": "2025-02-26T08:32:36.719336",
          "status": "completed"
        },
        "tags": []
      },
      "source": [
        "next, we sort the connections such that similar components are grouped together:"
      ]
    },
    {
      "cell_type": "code",
      "execution_count": 7,
      "id": "9859c2d4",
      "metadata": {
        "execution": {
          "iopub.execute_input": "2025-02-26T08:32:36.792225Z",
          "iopub.status.busy": "2025-02-26T08:32:36.791249Z",
          "iopub.status.idle": "2025-02-26T08:32:36.796616Z",
          "shell.execute_reply": "2025-02-26T08:32:36.796113Z"
        },
        "papermill": {
          "duration": 0.030121,
          "end_time": "2025-02-26T08:32:36.798020",
          "exception": false,
          "start_time": "2025-02-26T08:32:36.767899",
          "status": "completed"
        },
        "tags": []
      },
      "outputs": [
        {
          "data": {
            "text/plain": [
              "[('dc1,out1', 'dc2,in1'), ('dc1,out0', 'wg,in0'), ('wg,out0', 'dc2,in0')]"
            ]
          },
          "execution_count": 7,
          "metadata": {},
          "output_type": "execute_result"
        }
      ],
      "source": [
        "from sax.backends.filipsson_gunnar import _connections_sort_key\n",
        "\n",
        "sorted_connections = sorted(connections.items(), key=_connections_sort_key)\n",
        "sorted_connections"
      ]
    },
    {
      "cell_type": "markdown",
      "id": "c75fbf65",
      "metadata": {
        "papermill": {
          "duration": 0.022851,
          "end_time": "2025-02-26T08:32:36.843982",
          "exception": false,
          "start_time": "2025-02-26T08:32:36.821131",
          "status": "completed"
        },
        "tags": []
      },
      "source": [
        "Now we iterate over the sorted connections and connect components as they come in. Connected components take over the name of the first component in the connection, but we keep a set of components belonging to that key in `all_connected_instances`.\n",
        "\n",
        "This is how this `all_connected_instances` dictionary looks initially."
      ]
    },
    {
      "cell_type": "code",
      "execution_count": 8,
      "id": "cf30668c",
      "metadata": {
        "execution": {
          "iopub.execute_input": "2025-02-26T08:32:36.892215Z",
          "iopub.status.busy": "2025-02-26T08:32:36.891673Z",
          "iopub.status.idle": "2025-02-26T08:32:36.898552Z",
          "shell.execute_reply": "2025-02-26T08:32:36.897944Z"
        },
        "papermill": {
          "duration": 0.032725,
          "end_time": "2025-02-26T08:32:36.900136",
          "exception": false,
          "start_time": "2025-02-26T08:32:36.867411",
          "status": "completed"
        },
        "tags": []
      },
      "outputs": [
        {
          "data": {
            "text/plain": [
              "{'dc1': {'dc1'}, 'wg': {'wg'}, 'dc2': {'dc2'}}"
            ]
          },
          "execution_count": 8,
          "metadata": {},
          "output_type": "execute_result"
        }
      ],
      "source": [
        "all_connected_instances = {k: {k} for k in instances}\n",
        "all_connected_instances"
      ]
    },
    {
      "cell_type": "markdown",
      "id": "1152056b",
      "metadata": {
        "papermill": {
          "duration": 0.022803,
          "end_time": "2025-02-26T08:32:36.944678",
          "exception": false,
          "start_time": "2025-02-26T08:32:36.921875",
          "status": "completed"
        },
        "tags": []
      },
      "source": [
        "Normally we would loop over every connection in `sorted_connections` now, but let's just go through it once at first:"
      ]
    },
    {
      "cell_type": "code",
      "execution_count": 9,
      "id": "378a8c768122dff7",
      "metadata": {
        "execution": {
          "iopub.execute_input": "2025-02-26T08:32:36.992978Z",
          "iopub.status.busy": "2025-02-26T08:32:36.992700Z",
          "iopub.status.idle": "2025-02-26T08:32:36.999572Z",
          "shell.execute_reply": "2025-02-26T08:32:36.998966Z"
        },
        "papermill": {
          "duration": 0.032841,
          "end_time": "2025-02-26T08:32:37.000842",
          "exception": false,
          "start_time": "2025-02-26T08:32:36.968001",
          "status": "completed"
        },
        "tags": []
      },
      "outputs": [
        {
          "data": {
            "text/plain": [
              "('dc1,out1', 'dc2,in1')"
            ]
          },
          "execution_count": 9,
          "metadata": {},
          "output_type": "execute_result"
        }
      ],
      "source": [
        "# for k, l in sorted_connections:\n",
        "k, l = sorted_connections[0]\n",
        "k, l"
      ]
    },
    {
      "cell_type": "markdown",
      "id": "16a2266c",
      "metadata": {
        "papermill": {
          "duration": 0.023502,
          "end_time": "2025-02-26T08:32:37.047877",
          "exception": false,
          "start_time": "2025-02-26T08:32:37.024375",
          "status": "completed"
        },
        "tags": []
      },
      "source": [
        "`k` and `l` are the S-matrix indices we're trying to connect. Note that in our sparse `SDict` notation these S-matrix indices are in fact equivalent with the port names `('dc1,out1', 'dc2,in1')`!"
      ]
    },
    {
      "cell_type": "markdown",
      "id": "0eaf4add",
      "metadata": {
        "papermill": {
          "duration": 0.023493,
          "end_time": "2025-02-26T08:32:37.094381",
          "exception": false,
          "start_time": "2025-02-26T08:32:37.070888",
          "status": "completed"
        },
        "tags": []
      },
      "source": [
        "first we split the connection string into an instance name and a port name (we don't use the port name yet):"
      ]
    },
    {
      "cell_type": "code",
      "execution_count": 10,
      "id": "667d1a3c",
      "metadata": {
        "execution": {
          "iopub.execute_input": "2025-02-26T08:32:37.143114Z",
          "iopub.status.busy": "2025-02-26T08:32:37.142573Z",
          "iopub.status.idle": "2025-02-26T08:32:37.147099Z",
          "shell.execute_reply": "2025-02-26T08:32:37.146478Z"
        },
        "papermill": {
          "duration": 0.029455,
          "end_time": "2025-02-26T08:32:37.148596",
          "exception": false,
          "start_time": "2025-02-26T08:32:37.119141",
          "status": "completed"
        },
        "tags": []
      },
      "outputs": [],
      "source": [
        "name1, _ = k.split(\",\")\n",
        "name2, _ = l.split(\",\")"
      ]
    },
    {
      "cell_type": "markdown",
      "id": "16e8bbe8",
      "metadata": {
        "papermill": {
          "duration": 0.023952,
          "end_time": "2025-02-26T08:32:37.196471",
          "exception": false,
          "start_time": "2025-02-26T08:32:37.172519",
          "status": "completed"
        },
        "tags": []
      },
      "source": [
        "We then obtain the new set of connected instances."
      ]
    },
    {
      "cell_type": "code",
      "execution_count": 11,
      "id": "51bf8615",
      "metadata": {
        "execution": {
          "iopub.execute_input": "2025-02-26T08:32:37.243457Z",
          "iopub.status.busy": "2025-02-26T08:32:37.243169Z",
          "iopub.status.idle": "2025-02-26T08:32:37.249815Z",
          "shell.execute_reply": "2025-02-26T08:32:37.249207Z"
        },
        "papermill": {
          "duration": 0.031875,
          "end_time": "2025-02-26T08:32:37.251006",
          "exception": false,
          "start_time": "2025-02-26T08:32:37.219131",
          "status": "completed"
        },
        "tags": []
      },
      "outputs": [
        {
          "data": {
            "text/plain": [
              "{'dc1', 'dc2'}"
            ]
          },
          "execution_count": 11,
          "metadata": {},
          "output_type": "execute_result"
        }
      ],
      "source": [
        "connected_instances = all_connected_instances[name1] | all_connected_instances[name2]\n",
        "connected_instances"
      ]
    },
    {
      "cell_type": "markdown",
      "id": "676c8d61",
      "metadata": {
        "papermill": {
          "duration": 0.022759,
          "end_time": "2025-02-26T08:32:37.297417",
          "exception": false,
          "start_time": "2025-02-26T08:32:37.274658",
          "status": "completed"
        },
        "tags": []
      },
      "source": [
        "We then iterate over each of the components in this set and make sure each of the component names in that set maps to that set (yes, I know... confusing). We do this to be able to keep track with which components each of the components in the circuit is currently already connected to."
      ]
    },
    {
      "cell_type": "code",
      "execution_count": 12,
      "id": "d322e86c",
      "metadata": {
        "execution": {
          "iopub.execute_input": "2025-02-26T08:32:37.344600Z",
          "iopub.status.busy": "2025-02-26T08:32:37.344334Z",
          "iopub.status.idle": "2025-02-26T08:32:37.351468Z",
          "shell.execute_reply": "2025-02-26T08:32:37.350899Z"
        },
        "papermill": {
          "duration": 0.032307,
          "end_time": "2025-02-26T08:32:37.352756",
          "exception": false,
          "start_time": "2025-02-26T08:32:37.320449",
          "status": "completed"
        },
        "tags": []
      },
      "outputs": [
        {
          "data": {
            "text/plain": [
              "{'dc1': {'dc1', 'dc2'}, 'wg': {'wg'}, 'dc2': {'dc1', 'dc2'}}"
            ]
          },
          "execution_count": 12,
          "metadata": {},
          "output_type": "execute_result"
        }
      ],
      "source": [
        "for name in connected_instances:\n",
        "    all_connected_instances[name] = connected_instances\n",
        "\n",
        "all_connected_instances"
      ]
    },
    {
      "cell_type": "markdown",
      "id": "b79f49f8",
      "metadata": {
        "papermill": {
          "duration": 0.022645,
          "end_time": "2025-02-26T08:32:37.398804",
          "exception": false,
          "start_time": "2025-02-26T08:32:37.376159",
          "status": "completed"
        },
        "tags": []
      },
      "source": [
        "now we need to obtain all the ports of the currently connected instances."
      ]
    },
    {
      "cell_type": "code",
      "execution_count": 13,
      "id": "61b3cfab",
      "metadata": {
        "execution": {
          "iopub.execute_input": "2025-02-26T08:32:37.447634Z",
          "iopub.status.busy": "2025-02-26T08:32:37.446272Z",
          "iopub.status.idle": "2025-02-26T08:32:37.458322Z",
          "shell.execute_reply": "2025-02-26T08:32:37.455125Z"
        },
        "papermill": {
          "duration": 0.040694,
          "end_time": "2025-02-26T08:32:37.462278",
          "exception": false,
          "start_time": "2025-02-26T08:32:37.421584",
          "status": "completed"
        },
        "tags": []
      },
      "outputs": [
        {
          "data": {
            "text/plain": [
              "('dc2,out1',\n",
              " 'dc2,in1',\n",
              " 'dc2,out0',\n",
              " 'dc2,in0',\n",
              " 'dc1,out1',\n",
              " 'dc1,in1',\n",
              " 'dc1,in0',\n",
              " 'dc1,out0')"
            ]
          },
          "execution_count": 13,
          "metadata": {},
          "output_type": "execute_result"
        }
      ],
      "source": [
        "current_ports = tuple(\n",
        "    p\n",
        "    for instance in connected_instances\n",
        "    for p in set([p for p, _ in block_diag] + [p for _, p in block_diag])\n",
        "    if p.startswith(f\"{instance},\")\n",
        ")\n",
        "\n",
        "current_ports"
      ]
    },
    {
      "cell_type": "markdown",
      "id": "d0e87449",
      "metadata": {
        "papermill": {
          "duration": 0.031785,
          "end_time": "2025-02-26T08:32:37.525117",
          "exception": false,
          "start_time": "2025-02-26T08:32:37.493332",
          "status": "completed"
        },
        "tags": []
      },
      "source": [
        "Now the Gunnar Algorithm is used. Given a (block-diagonal) 'S-matrix' `block_diag` and a 'connection matrix' `current_ports` we can interconnect port `k` and `l` as follows:\n",
        "\n",
        "> Note: some creative freedom is used here. In SAX, the matrices we're talking about are in fact represented by a sparse dictionary (an `SDict`), i.e. similar to a COO sparse matrix for which the indices are the port names."
      ]
    },
    {
      "cell_type": "markdown",
      "id": "988c08d9",
      "metadata": {
        "papermill": {
          "duration": 0.022718,
          "end_time": "2025-02-26T08:32:37.575751",
          "exception": false,
          "start_time": "2025-02-26T08:32:37.553033",
          "status": "completed"
        },
        "tags": []
      },
      "source": [
        "Just as before, we're filtering the zeros from the sparse representation (remember, internally this is **not done by default**)."
      ]
    },
    {
      "cell_type": "code",
      "execution_count": 14,
      "id": "e9ac8164",
      "metadata": {
        "execution": {
          "iopub.execute_input": "2025-02-26T08:32:37.624922Z",
          "iopub.status.busy": "2025-02-26T08:32:37.623839Z",
          "iopub.status.idle": "2025-02-26T08:32:37.635851Z",
          "shell.execute_reply": "2025-02-26T08:32:37.635360Z"
        },
        "papermill": {
          "duration": 0.037926,
          "end_time": "2025-02-26T08:32:37.637195",
          "exception": false,
          "start_time": "2025-02-26T08:32:37.599269",
          "status": "completed"
        },
        "tags": []
      },
      "outputs": [
        {
          "name": "stdout",
          "output_type": "stream",
          "text": [
            "18\n"
          ]
        },
        {
          "data": {
            "text/plain": [
              "{('dc1,in0', 'dc1,out0'): Array(0.70710678+0.j, dtype=complex128),\n",
              " ('dc1,in0', 'dc1,out1'): Array(0.+0.70710678j, dtype=complex128),\n",
              " ('dc1,in1', 'dc1,out0'): Array(0.+0.70710678j, dtype=complex128),\n",
              " ('dc1,in1', 'dc1,out1'): Array(0.70710678+0.j, dtype=complex128),\n",
              " ('dc1,out0', 'dc1,in0'): Array(0.70710678+0.j, dtype=complex128),\n",
              " ('dc1,out0', 'dc1,in1'): Array(0.+0.70710678j, dtype=complex128),\n",
              " ('dc1,out1', 'dc1,in0'): Array(0.+0.70710678j, dtype=complex128),\n",
              " ('dc1,out1', 'dc1,in1'): Array(0.70710678+0.j, dtype=complex128),\n",
              " ('wg,in0', 'wg,out0'): (0.5+0.86603j),\n",
              " ('wg,out0', 'wg,in0'): (0.5+0.86603j),\n",
              " ('dc2,in0', 'dc2,out0'): Array(0.70710678+0.j, dtype=complex128),\n",
              " ('dc2,in0', 'dc2,out1'): Array(0.+0.70710678j, dtype=complex128),\n",
              " ('dc2,in1', 'dc2,out0'): Array(0.+0.70710678j, dtype=complex128),\n",
              " ('dc2,in1', 'dc2,out1'): Array(0.70710678+0.j, dtype=complex128),\n",
              " ('dc2,out0', 'dc2,in0'): Array(0.70710678+0.j, dtype=complex128),\n",
              " ('dc2,out0', 'dc2,in1'): Array(0.+0.70710678j, dtype=complex128),\n",
              " ('dc2,out1', 'dc2,in0'): Array(0.+0.70710678j, dtype=complex128),\n",
              " ('dc2,out1', 'dc2,in1'): Array(0.70710678+0.j, dtype=complex128)}"
            ]
          },
          "execution_count": 14,
          "metadata": {},
          "output_type": "execute_result"
        }
      ],
      "source": [
        "block_diag = {k: v for k, v in block_diag.items() if jnp.abs(v) > 1e-10}\n",
        "print(len(block_diag))\n",
        "block_diag"
      ]
    },
    {
      "cell_type": "markdown",
      "id": "db0cd151",
      "metadata": {
        "papermill": {
          "duration": 0.02084,
          "end_time": "2025-02-26T08:32:37.684662",
          "exception": false,
          "start_time": "2025-02-26T08:32:37.663822",
          "status": "completed"
        },
        "tags": []
      },
      "source": [
        "This is the resulting block-diagonal matrix after interconnecting two ports (i.e. basically saying that those two ports are the same port). Because these ports are now connected we should actually remove them from the S-matrix representation (they are integrated into the S-parameters of the other connections):"
      ]
    },
    {
      "cell_type": "code",
      "execution_count": 15,
      "id": "311b034f",
      "metadata": {
        "execution": {
          "iopub.execute_input": "2025-02-26T08:32:37.729395Z",
          "iopub.status.busy": "2025-02-26T08:32:37.729069Z",
          "iopub.status.idle": "2025-02-26T08:32:37.738428Z",
          "shell.execute_reply": "2025-02-26T08:32:37.737795Z"
        },
        "papermill": {
          "duration": 0.031909,
          "end_time": "2025-02-26T08:32:37.739882",
          "exception": false,
          "start_time": "2025-02-26T08:32:37.707973",
          "status": "completed"
        },
        "tags": []
      },
      "outputs": [
        {
          "name": "stdout",
          "output_type": "stream",
          "text": [
            "10\n"
          ]
        },
        {
          "data": {
            "text/plain": [
              "{('dc1,in0', 'dc1,out0'): Array(0.70710678+0.j, dtype=complex128),\n",
              " ('dc1,in1', 'dc1,out0'): Array(0.+0.70710678j, dtype=complex128),\n",
              " ('dc1,out0', 'dc1,in0'): Array(0.70710678+0.j, dtype=complex128),\n",
              " ('dc1,out0', 'dc1,in1'): Array(0.+0.70710678j, dtype=complex128),\n",
              " ('wg,in0', 'wg,out0'): (0.5+0.86603j),\n",
              " ('wg,out0', 'wg,in0'): (0.5+0.86603j),\n",
              " ('dc2,in0', 'dc2,out0'): Array(0.70710678+0.j, dtype=complex128),\n",
              " ('dc2,in0', 'dc2,out1'): Array(0.+0.70710678j, dtype=complex128),\n",
              " ('dc2,out0', 'dc2,in0'): Array(0.70710678+0.j, dtype=complex128),\n",
              " ('dc2,out1', 'dc2,in0'): Array(0.+0.70710678j, dtype=complex128)}"
            ]
          },
          "execution_count": 15,
          "metadata": {},
          "output_type": "execute_result"
        }
      ],
      "source": [
        "for i, j in list(block_diag.keys()):\n",
        "    is_connected = i == k or i == l or j == k or j == l\n",
        "    is_in_output_ports = i in reversed_ports and j in reversed_ports\n",
        "    if is_connected and not is_in_output_ports:\n",
        "        del block_diag[i, j]  # we're no longer interested in these port combinations\n",
        "\n",
        "print(len(block_diag))\n",
        "block_diag"
      ]
    },
    {
      "cell_type": "markdown",
      "id": "b6badcb7",
      "metadata": {
        "papermill": {
          "duration": 0.022356,
          "end_time": "2025-02-26T08:32:37.789724",
          "exception": false,
          "start_time": "2025-02-26T08:32:37.767368",
          "status": "completed"
        },
        "tags": []
      },
      "source": [
        "Note that this deletion of values **does NOT** make this operation un-jittable. The deletion depends on the ports of the dictionary (i.e. on the dictionary 'shape'), not on the values."
      ]
    },
    {
      "cell_type": "markdown",
      "id": "89e775cd",
      "metadata": {
        "papermill": {
          "duration": 0.023047,
          "end_time": "2025-02-26T08:32:37.838190",
          "exception": false,
          "start_time": "2025-02-26T08:32:37.815143",
          "status": "completed"
        },
        "tags": []
      },
      "source": [
        "We now basically have to do those steps again for all other connections:"
      ]
    },
    {
      "cell_type": "code",
      "execution_count": 16,
      "id": "25eac933",
      "metadata": {
        "execution": {
          "iopub.execute_input": "2025-02-26T08:32:37.886457Z",
          "iopub.status.busy": "2025-02-26T08:32:37.886174Z",
          "iopub.status.idle": "2025-02-26T08:32:39.108356Z",
          "shell.execute_reply": "2025-02-26T08:32:39.107739Z"
        },
        "papermill": {
          "duration": 1.248062,
          "end_time": "2025-02-26T08:32:39.110022",
          "exception": false,
          "start_time": "2025-02-26T08:32:37.861960",
          "status": "completed"
        },
        "tags": []
      },
      "outputs": [],
      "source": [
        "from sax.backends.filipsson_gunnar import _interconnect_ports\n",
        "\n",
        "# for k, l in sorted_connections:\n",
        "for k, l in sorted_connections[\n",
        "    1:\n",
        "]:  # we just did the first iteration of this loop above...\n",
        "    name1, _ = k.split(\",\")\n",
        "    name2, _ = l.split(\",\")\n",
        "    connected_instances = (\n",
        "        all_connected_instances[name1] | all_connected_instances[name2]\n",
        "    )\n",
        "    for name in connected_instances:\n",
        "        all_connected_instances[name] = connected_instances\n",
        "    current_ports = tuple(\n",
        "        p\n",
        "        for instance in connected_instances\n",
        "        for p in set([p for p, _ in block_diag] + [p for _, p in block_diag])\n",
        "        if p.startswith(f\"{instance},\")\n",
        "    )\n",
        "    block_diag.update(_interconnect_ports(block_diag, current_ports, k, l))\n",
        "    for i, j in list(block_diag.keys()):\n",
        "        is_connected = i == k or i == l or j == k or j == l\n",
        "        is_in_output_ports = i in reversed_ports and j in reversed_ports\n",
        "        if is_connected and not is_in_output_ports:\n",
        "            del block_diag[\n",
        "                i, j\n",
        "            ]  # we're no longer interested in these port combinations"
      ]
    },
    {
      "cell_type": "markdown",
      "id": "36eb82fc",
      "metadata": {
        "papermill": {
          "duration": 0.024705,
          "end_time": "2025-02-26T08:32:39.159948",
          "exception": false,
          "start_time": "2025-02-26T08:32:39.135243",
          "status": "completed"
        },
        "tags": []
      },
      "source": [
        "This is the final MZI matrix we're getting:"
      ]
    },
    {
      "cell_type": "code",
      "execution_count": 17,
      "id": "d1c0367e",
      "metadata": {
        "execution": {
          "iopub.execute_input": "2025-02-26T08:32:39.208435Z",
          "iopub.status.busy": "2025-02-26T08:32:39.208151Z",
          "iopub.status.idle": "2025-02-26T08:32:39.218062Z",
          "shell.execute_reply": "2025-02-26T08:32:39.216121Z"
        },
        "papermill": {
          "duration": 0.035553,
          "end_time": "2025-02-26T08:32:39.219459",
          "exception": false,
          "start_time": "2025-02-26T08:32:39.183906",
          "status": "completed"
        },
        "tags": []
      },
      "outputs": [
        {
          "data": {
            "text/plain": [
              "{('dc2,out1', 'dc2,out1'): Array(0.+0.j, dtype=complex128),\n",
              " ('dc2,out1', 'dc2,out0'): Array(0.+0.j, dtype=complex128),\n",
              " ('dc2,out1', 'dc1,in1'): Array(-0.25-0.433015j, dtype=complex128),\n",
              " ('dc2,out1', 'dc1,in0'): Array(-0.433015+0.25j, dtype=complex128),\n",
              " ('dc2,out0', 'dc2,out1'): Array(0.+0.j, dtype=complex128),\n",
              " ('dc2,out0', 'dc2,out0'): Array(0.+0.j, dtype=complex128),\n",
              " ('dc2,out0', 'dc1,in1'): Array(-0.433015+0.25j, dtype=complex128),\n",
              " ('dc2,out0', 'dc1,in0'): Array(0.25+0.433015j, dtype=complex128),\n",
              " ('dc1,in1', 'dc2,out1'): Array(-0.25-0.433015j, dtype=complex128),\n",
              " ('dc1,in1', 'dc2,out0'): Array(-0.433015+0.25j, dtype=complex128),\n",
              " ('dc1,in1', 'dc1,in1'): Array(0.+0.j, dtype=complex128),\n",
              " ('dc1,in1', 'dc1,in0'): Array(0.+0.j, dtype=complex128),\n",
              " ('dc1,in0', 'dc2,out1'): Array(-0.433015+0.25j, dtype=complex128),\n",
              " ('dc1,in0', 'dc2,out0'): Array(0.25+0.433015j, dtype=complex128),\n",
              " ('dc1,in0', 'dc1,in1'): Array(0.+0.j, dtype=complex128),\n",
              " ('dc1,in0', 'dc1,in0'): Array(0.+0.j, dtype=complex128)}"
            ]
          },
          "execution_count": 17,
          "metadata": {},
          "output_type": "execute_result"
        }
      ],
      "source": [
        "block_diag"
      ]
    },
    {
      "cell_type": "markdown",
      "id": "03f67ec6",
      "metadata": {
        "papermill": {
          "duration": 0.023037,
          "end_time": "2025-02-26T08:32:39.266194",
          "exception": false,
          "start_time": "2025-02-26T08:32:39.243157",
          "status": "completed"
        },
        "tags": []
      },
      "source": [
        "All that's left is to rename these internal ports of the format `{instance},{port}` into output ports of the resulting circuit:"
      ]
    },
    {
      "cell_type": "code",
      "execution_count": 18,
      "id": "cf5ea4af",
      "metadata": {
        "execution": {
          "iopub.execute_input": "2025-02-26T08:32:39.318764Z",
          "iopub.status.busy": "2025-02-26T08:32:39.317432Z",
          "iopub.status.idle": "2025-02-26T08:32:39.328450Z",
          "shell.execute_reply": "2025-02-26T08:32:39.327882Z"
        },
        "papermill": {
          "duration": 0.037762,
          "end_time": "2025-02-26T08:32:39.329870",
          "exception": false,
          "start_time": "2025-02-26T08:32:39.292108",
          "status": "completed"
        },
        "tags": []
      },
      "outputs": [
        {
          "data": {
            "text/plain": [
              "{('out1', 'out1'): Array(0.+0.j, dtype=complex128),\n",
              " ('out1', 'out0'): Array(0.+0.j, dtype=complex128),\n",
              " ('out1', 'in1'): Array(-0.25-0.433015j, dtype=complex128),\n",
              " ('out1', 'in0'): Array(-0.433015+0.25j, dtype=complex128),\n",
              " ('out0', 'out1'): Array(0.+0.j, dtype=complex128),\n",
              " ('out0', 'out0'): Array(0.+0.j, dtype=complex128),\n",
              " ('out0', 'in1'): Array(-0.433015+0.25j, dtype=complex128),\n",
              " ('out0', 'in0'): Array(0.25+0.433015j, dtype=complex128),\n",
              " ('in1', 'out1'): Array(-0.25-0.433015j, dtype=complex128),\n",
              " ('in1', 'out0'): Array(-0.433015+0.25j, dtype=complex128),\n",
              " ('in1', 'in1'): Array(0.+0.j, dtype=complex128),\n",
              " ('in1', 'in0'): Array(0.+0.j, dtype=complex128),\n",
              " ('in0', 'out1'): Array(-0.433015+0.25j, dtype=complex128),\n",
              " ('in0', 'out0'): Array(0.25+0.433015j, dtype=complex128),\n",
              " ('in0', 'in1'): Array(0.+0.j, dtype=complex128),\n",
              " ('in0', 'in0'): Array(0.+0.j, dtype=complex128)}"
            ]
          },
          "execution_count": 18,
          "metadata": {},
          "output_type": "execute_result"
        }
      ],
      "source": [
        "circuit_sdict: sax.SDict = {\n",
        "    (reversed_ports[i], reversed_ports[j]): v\n",
        "    for (i, j), v in block_diag.items()\n",
        "    if i in reversed_ports and j in reversed_ports\n",
        "}\n",
        "circuit_sdict"
      ]
    },
    {
      "cell_type": "markdown",
      "id": "7dc6505e",
      "metadata": {
        "papermill": {
          "duration": 0.025229,
          "end_time": "2025-02-26T08:32:39.379800",
          "exception": false,
          "start_time": "2025-02-26T08:32:39.354571",
          "status": "completed"
        },
        "tags": []
      },
      "source": [
        "And that's it. We evaluated the `SDict` of the full circuit."
      ]
    },
    {
      "cell_type": "markdown",
      "id": "170db10b",
      "metadata": {
        "papermill": {
          "duration": 0.025558,
          "end_time": "2025-02-26T08:32:39.430060",
          "exception": false,
          "start_time": "2025-02-26T08:32:39.404502",
          "status": "completed"
        },
        "tags": []
      },
      "source": [
        "### Algorithm Improvements"
      ]
    },
    {
      "cell_type": "markdown",
      "id": "4ed0e69a",
      "metadata": {
        "papermill": {
          "duration": 0.025032,
          "end_time": "2025-02-26T08:32:39.483140",
          "exception": false,
          "start_time": "2025-02-26T08:32:39.458108",
          "status": "completed"
        },
        "tags": []
      },
      "source": [
        "The Filipsson-Gunar algorithm is \n",
        "\n",
        "* pretty fast for small circuits \ud83d\ude42\n",
        "* jittable \ud83d\ude42\n",
        "* differentiable \ud83d\ude42\n",
        "* GPU-compatible \ud83d\ude42\n",
        "\n",
        "This algorithm is however:\n",
        "\n",
        "* **really slow** for large circuits \ud83d\ude25\n",
        "* **pretty slow** to jit the resulting circuit function \ud83d\ude25\n",
        "* **pretty slow** to differentiate the resulting circuit function \ud83d\ude25\n",
        "\n",
        "There are probably still plenty of improvements possible for this algorithm:\n",
        "\n",
        "* **\u00bf** Network analysis (ft. NetworkX ?) to obtain which ports of the block diagonal representation are relevant to obtain the output connection **?**\n",
        "* **\u00bf** Smarter ordering of connections to always have the minimum amount of ports in the intermediate block-diagonal representation **?**\n",
        "* **\u00bf** Using `jax.lax.scan` in stead of python native for-loops in `_interconnect_ports` **?**\n",
        "* **\u00bf** ... **?**\n",
        "\n",
        "Bottom line is... Do you know how to improve this algorithm or how to implement the above suggestions? Please open a Merge Request!"
      ]
    },
    {
      "cell_type": "markdown",
      "id": "8ac28523-e792-4c9a-a23f-252ae91a4a7d",
      "metadata": {
        "papermill": {
          "duration": 0.026236,
          "end_time": "2025-02-26T08:32:39.534056",
          "exception": false,
          "start_time": "2025-02-26T08:32:39.507820",
          "status": "completed"
        },
        "tags": []
      },
      "source": [
        "## KLU Backend\n",
        "\n",
        "The KLU backend is using `klujax`, which uses the [SuiteSparse](https://github.com/DrTimothyAldenDavis/SuiteSparse) C++ libraries for sparse matrix evaluations to evaluate the circuit insanely fast on a CPU. The specific algorith being used in question is the KLU algorithm:\n",
        "\n",
        "> Ekanathan Palamadai Natariajan. \"*KLU - A high performance sparse linear solver for circuit simulation problems.*\"\n",
        "\n",
        "```{eval-rst}\n",
        ".. autofunction:: sax.backends.analyze_circuit_klu\n",
        "```\n",
        "\n",
        "```{eval-rst}\n",
        ".. autofunction:: sax.backends.evaluate_circuit_klu\n",
        "```"
      ]
    },
    {
      "cell_type": "markdown",
      "id": "8804e6fd-3dda-4770-a312-434ddc00446f",
      "metadata": {
        "papermill": {
          "duration": 0.024866,
          "end_time": "2025-02-26T08:32:39.583606",
          "exception": false,
          "start_time": "2025-02-26T08:32:39.558740",
          "status": "completed"
        },
        "tags": []
      },
      "source": [
        "### Theoretical Background"
      ]
    },
    {
      "cell_type": "markdown",
      "id": "b31bb0c6-6ffe-47a7-8458-cf555d5c0579",
      "metadata": {
        "papermill": {
          "duration": 0.024202,
          "end_time": "2025-02-26T08:32:39.633159",
          "exception": false,
          "start_time": "2025-02-26T08:32:39.608957",
          "status": "completed"
        },
        "tags": []
      },
      "source": [
        "The core of the KLU algorithm is supported by `klujax`, which internally uses the Suitesparse libraries to solve the sparse system `Ax = b`, in which A is a sparse matrix."
      ]
    },
    {
      "cell_type": "markdown",
      "id": "68f22fec-2d16-4d94-be9d-a02b1c85efa8",
      "metadata": {
        "papermill": {
          "duration": 0.024802,
          "end_time": "2025-02-26T08:32:39.682224",
          "exception": false,
          "start_time": "2025-02-26T08:32:39.657422",
          "status": "completed"
        },
        "tags": []
      },
      "source": [
        "Now it only comes down to shoehorn our circuit evaluation into a sparse linear system of equations $Ax=b$ where we need to solve for $x$ using `klujax`. \n",
        "Consider the block diagonal matrix $S_{bd}$ of all components in the circuit acting on the fields $x_{in}$ at each of the individual ports of each of the component integrated in $S^{bd}$. The output fields $x^{out}$ at each of those ports is then given by:\n",
        "\n",
        "$$\n",
        "x^{out} = S_{bd} x^{in}\n",
        "$$"
      ]
    },
    {
      "cell_type": "markdown",
      "id": "b023a7b2-8ba4-4d46-98c2-82f2ac4c68d4",
      "metadata": {
        "papermill": {
          "duration": 0.02464,
          "end_time": "2025-02-26T08:32:39.731345",
          "exception": false,
          "start_time": "2025-02-26T08:32:39.706705",
          "status": "completed"
        },
        "tags": []
      },
      "source": [
        "However, $S_{bd}$ is not the S-matrix of the circuit as it does not encode any connectivity *between* the components. Connecting two component ports basically comes down to enforcing equality between the output fields at one port of a component with the input fields at another port of another (or maybe even the same) component. This equality can be enforced by creating an internal connection matrix, connecting all internal ports of the circuit:\n",
        "\n",
        "$$\n",
        "x^{in} = C_{int} x^{out}\n",
        "$$"
      ]
    },
    {
      "cell_type": "markdown",
      "id": "10a61bbc-39ca-4b09-8071-61554fbb49f8",
      "metadata": {
        "papermill": {
          "duration": 0.030637,
          "end_time": "2025-02-26T08:32:39.786625",
          "exception": false,
          "start_time": "2025-02-26T08:32:39.755988",
          "status": "completed"
        },
        "tags": []
      },
      "source": [
        "We can thus write the following combined equation:\n",
        "\n",
        "$$\n",
        "x^{in} = C_{int} S_{bd} x^{in}\n",
        "$$"
      ]
    },
    {
      "cell_type": "markdown",
      "id": "8f99e680-c57a-4baf-8ff2-a35b63ea29af",
      "metadata": {
        "papermill": {
          "duration": 0.025328,
          "end_time": "2025-02-26T08:32:39.840307",
          "exception": false,
          "start_time": "2025-02-26T08:32:39.814979",
          "status": "completed"
        },
        "tags": []
      },
      "source": [
        "But this is not the complete story... Some component ports will *not* be *interconnected* with other ports: they will become the new *external ports* (or output ports) of the combined circuit. We can include those external ports into the above equation as follows:\n",
        "\n",
        "$$\n",
        "\\begin{pmatrix} x^{in} \\\\ x^{out}_{ext} \\end{pmatrix} = \\begin{pmatrix} C_{int} & C_{ext} \\\\ C_{ext}^T & 0 \\end{pmatrix} \\begin{pmatrix} S_{bd} x^{in} \\\\ x_{ext}^{in} \\end{pmatrix} \n",
        "$$"
      ]
    },
    {
      "cell_type": "markdown",
      "id": "a3f77604-0f3a-4371-a4d5-42ce667587c0",
      "metadata": {
        "papermill": {
          "duration": 0.023474,
          "end_time": "2025-02-26T08:32:39.887864",
          "exception": false,
          "start_time": "2025-02-26T08:32:39.864390",
          "status": "completed"
        },
        "tags": []
      },
      "source": [
        "Note that $C_{ext}$ is obviously **not** a square matrix. Eliminating $x^{in}$ from the equation above finally yields:\n",
        "\n",
        "$$\n",
        "x^{out}_{ext} = C^T_{ext} S_{bd} (I - C_{int}S_{bd})^{-1} C_{ext}x_{ext}^{in}\n",
        "$$"
      ]
    },
    {
      "cell_type": "markdown",
      "id": "4cfb5f22-67d3-4c7e-b6c6-994fd4add6a4",
      "metadata": {
        "papermill": {
          "duration": 0.023573,
          "end_time": "2025-02-26T08:32:39.938689",
          "exception": false,
          "start_time": "2025-02-26T08:32:39.915116",
          "status": "completed"
        },
        "tags": []
      },
      "source": [
        "We basically found a representation of the circuit S-matrix:\n",
        "\n",
        "$$\n",
        "S = C^T_{ext} S_{bd} (I - C_{int}S_{bd})^{-1} C_{ext}\n",
        "$$"
      ]
    },
    {
      "cell_type": "markdown",
      "id": "cdd9c503-f057-4b99-a6f6-61a8f71bc71d",
      "metadata": {
        "papermill": {
          "duration": 0.023735,
          "end_time": "2025-02-26T08:32:39.985877",
          "exception": false,
          "start_time": "2025-02-26T08:32:39.962142",
          "status": "completed"
        },
        "tags": []
      },
      "source": [
        "Obviously, we won't want to calculate the inverse $(I - C_{int}S_{bd})^{-1}$, which is the inverse of a very sparse matrix (a connection matrix only has a single 1 per line), which very often is not even sparse itself. In stead we'll use the `solve_klu` function:\n",
        "\n",
        "$$\n",
        "S = C^T_{ext} S_{bd} \\texttt{solve}\\_\\texttt{klu}\\left((I - C_{int}S_{bd}), C_{ext}\\right)\n",
        "$$"
      ]
    },
    {
      "cell_type": "markdown",
      "id": "45811209-f2bd-4bd4-a531-2956e6bd3293",
      "metadata": {
        "papermill": {
          "duration": 0.023412,
          "end_time": "2025-02-26T08:32:40.032697",
          "exception": false,
          "start_time": "2025-02-26T08:32:40.009285",
          "status": "completed"
        },
        "tags": []
      },
      "source": [
        "Moreover, $C_{ext}^TS_{bd}$ is also a sparse matrix, therefore we'll also need a `mul_coo` routine:\n",
        "\n",
        "$$\n",
        "S = C^T_{ext} \\texttt{mul}\\_\\texttt{coo}\\left(S_{bd},~~\\texttt{solve}\\_\\texttt{klu}\\left((I - C_{int}S_{bd}),~C_{ext}\\right)\\right)\n",
        "$$"
      ]
    },
    {
      "cell_type": "markdown",
      "id": "03256ad3-4d45-4113-9d38-f08d36593b21",
      "metadata": {
        "papermill": {
          "duration": 0.024593,
          "end_time": "2025-02-26T08:32:40.080820",
          "exception": false,
          "start_time": "2025-02-26T08:32:40.056227",
          "status": "completed"
        },
        "tags": []
      },
      "source": [
        "### Sparse Helper Functions\n",
        "\n",
        "```{eval-rst}\n",
        ".. autofunction:: klujax.solve\n",
        "```\n",
        "\n",
        "```{eval-rst}\n",
        ".. autofunction:: klujax.coo_mul_vec\n",
        "```"
      ]
    },
    {
      "cell_type": "markdown",
      "id": "3e54a061-8846-4a23-8431-18cfe0d2bc9d",
      "metadata": {
        "papermill": {
          "duration": 0.024373,
          "end_time": "2025-02-26T08:32:40.128558",
          "exception": false,
          "start_time": "2025-02-26T08:32:40.104185",
          "status": "completed"
        },
        "tags": []
      },
      "source": [
        "`klujax.solve` solves the sparse system of equations `Ax=b` for `x`. Where `A` is represented by in [COO-format](https://en.wikipedia.org/wiki/Sparse_matrix#Coordinate_list_(COO)) as (`Ai`, `Aj`, `Ax`).\n",
        "\n",
        "> Example"
      ]
    },
    {
      "cell_type": "code",
      "execution_count": 19,
      "id": "63e7977a",
      "metadata": {
        "execution": {
          "iopub.execute_input": "2025-02-26T08:32:40.177313Z",
          "iopub.status.busy": "2025-02-26T08:32:40.176725Z",
          "iopub.status.idle": "2025-02-26T08:32:40.219888Z",
          "shell.execute_reply": "2025-02-26T08:32:40.219277Z"
        },
        "papermill": {
          "duration": 0.070022,
          "end_time": "2025-02-26T08:32:40.220815",
          "exception": false,
          "start_time": "2025-02-26T08:32:40.150793",
          "status": "completed"
        },
        "tags": []
      },
      "outputs": [
        {
          "data": {
            "text/plain": [
              "Array([6. , 1. , 0.5, 0.5, 2. ], dtype=float64)"
            ]
          },
          "execution_count": 19,
          "metadata": {},
          "output_type": "execute_result"
        }
      ],
      "source": [
        "Ai = jnp.array([0, 1, 2, 3, 4])\n",
        "Aj = jnp.array([1, 3, 4, 0, 2])\n",
        "Ax = jnp.array([5, 6, 1, 1, 2])\n",
        "b = jnp.array([5, 3, 2, 6, 1])\n",
        "x = klujax.solve(Ai, Aj, Ax, b)\n",
        "x"
      ]
    },
    {
      "cell_type": "markdown",
      "id": "d54bfd5f-0799-493f-8677-d086b5b05b56",
      "metadata": {
        "papermill": {
          "duration": 0.019676,
          "end_time": "2025-02-26T08:32:40.258487",
          "exception": false,
          "start_time": "2025-02-26T08:32:40.238811",
          "status": "completed"
        },
        "tags": []
      },
      "source": [
        "This result is indeed correct:"
      ]
    },
    {
      "cell_type": "code",
      "execution_count": 20,
      "id": "629bbc71",
      "metadata": {
        "execution": {
          "iopub.execute_input": "2025-02-26T08:32:40.299820Z",
          "iopub.status.busy": "2025-02-26T08:32:40.299324Z",
          "iopub.status.idle": "2025-02-26T08:32:40.554362Z",
          "shell.execute_reply": "2025-02-26T08:32:40.553698Z"
        },
        "papermill": {
          "duration": 0.27762,
          "end_time": "2025-02-26T08:32:40.555865",
          "exception": false,
          "start_time": "2025-02-26T08:32:40.278245",
          "status": "completed"
        },
        "tags": []
      },
      "outputs": [
        {
          "name": "stdout",
          "output_type": "stream",
          "text": [
            "[[0. 5. 0. 0. 0.]\n",
            " [0. 0. 0. 6. 0.]\n",
            " [0. 0. 0. 0. 1.]\n",
            " [1. 0. 0. 0. 0.]\n",
            " [0. 0. 2. 0. 0.]]\n",
            "[5. 3. 2. 6. 1.]\n"
          ]
        }
      ],
      "source": [
        "A = jnp.zeros((5, 5)).at[Ai, Aj].set(Ax)\n",
        "print(A)\n",
        "print(A @ x)"
      ]
    },
    {
      "cell_type": "markdown",
      "id": "9c6d0b95-1224-4c7f-8855-99b84f2d6163",
      "metadata": {
        "papermill": {
          "duration": 0.043891,
          "end_time": "2025-02-26T08:32:40.633683",
          "exception": false,
          "start_time": "2025-02-26T08:32:40.589792",
          "status": "completed"
        },
        "tags": []
      },
      "source": [
        "However, to use this function effectively, we probably need an extra dimension for `Ax`. Indeed, we would like to solve this equation for multiple wavelengths (or more general, for multiple circuit configurations) at once. For this we can use `jax.vmap` to expose `klujax.solve` to more dimensions for `Ax`:"
      ]
    },
    {
      "cell_type": "code",
      "execution_count": 21,
      "id": "48590ebe6d5c998c",
      "metadata": {
        "execution": {
          "iopub.execute_input": "2025-02-26T08:32:40.710397Z",
          "iopub.status.busy": "2025-02-26T08:32:40.709219Z",
          "iopub.status.idle": "2025-02-26T08:32:40.716241Z",
          "shell.execute_reply": "2025-02-26T08:32:40.713146Z"
        },
        "papermill": {
          "duration": 0.036359,
          "end_time": "2025-02-26T08:32:40.717325",
          "exception": false,
          "start_time": "2025-02-26T08:32:40.680966",
          "status": "completed"
        },
        "tags": []
      },
      "outputs": [],
      "source": [
        "solve_klu = jax.vmap(klujax.solve, (None, None, 0, None), 0)"
      ]
    },
    {
      "cell_type": "markdown",
      "id": "c6f7b28c-cd7b-4136-b450-097225f2c3ba",
      "metadata": {
        "papermill": {
          "duration": 0.030094,
          "end_time": "2025-02-26T08:32:40.777604",
          "exception": false,
          "start_time": "2025-02-26T08:32:40.747510",
          "status": "completed"
        },
        "tags": []
      },
      "source": [
        "Let's now redefine `Ax` and see what it gives:"
      ]
    },
    {
      "cell_type": "code",
      "execution_count": 22,
      "id": "d4d7b6f9",
      "metadata": {
        "execution": {
          "iopub.execute_input": "2025-02-26T08:32:40.826331Z",
          "iopub.status.busy": "2025-02-26T08:32:40.826033Z",
          "iopub.status.idle": "2025-02-26T08:32:40.893300Z",
          "shell.execute_reply": "2025-02-26T08:32:40.892181Z"
        },
        "papermill": {
          "duration": 0.092514,
          "end_time": "2025-02-26T08:32:40.894719",
          "exception": false,
          "start_time": "2025-02-26T08:32:40.802205",
          "status": "completed"
        },
        "tags": []
      },
      "outputs": [
        {
          "data": {
            "text/plain": [
              "Array([[6.        , 1.        , 0.5       , 0.5       , 2.        ],\n",
              "       [3.        , 1.        , 1.        , 0.75      , 0.66666667],\n",
              "       [1.5       , 5.        , 0.2       , 1.5       , 0.66666667]],      dtype=float64)"
            ]
          },
          "execution_count": 22,
          "metadata": {},
          "output_type": "execute_result"
        }
      ],
      "source": [
        "Ai = jnp.array([0, 1, 2, 3, 4])\n",
        "Aj = jnp.array([1, 3, 4, 0, 2])\n",
        "Ax = jnp.array([[5, 6, 1, 1, 2], [5, 4, 3, 2, 1], [1, 2, 3, 4, 5]])\n",
        "b = jnp.array([5, 3, 2, 6, 1])\n",
        "x = solve_klu(Ai, Aj, Ax, b)\n",
        "x"
      ]
    },
    {
      "cell_type": "markdown",
      "id": "2bc1db8c-335b-43f0-b515-04c948f66745",
      "metadata": {
        "papermill": {
          "duration": 0.023427,
          "end_time": "2025-02-26T08:32:40.942832",
          "exception": false,
          "start_time": "2025-02-26T08:32:40.919405",
          "status": "completed"
        },
        "tags": []
      },
      "source": [
        "This result is indeed correct:"
      ]
    },
    {
      "cell_type": "code",
      "execution_count": 23,
      "id": "0afefaa6",
      "metadata": {
        "execution": {
          "iopub.execute_input": "2025-02-26T08:32:40.993928Z",
          "iopub.status.busy": "2025-02-26T08:32:40.993449Z",
          "iopub.status.idle": "2025-02-26T08:32:41.127343Z",
          "shell.execute_reply": "2025-02-26T08:32:41.126656Z"
        },
        "papermill": {
          "duration": 0.161733,
          "end_time": "2025-02-26T08:32:41.128985",
          "exception": false,
          "start_time": "2025-02-26T08:32:40.967252",
          "status": "completed"
        },
        "tags": []
      },
      "outputs": [
        {
          "data": {
            "text/plain": [
              "Array([[5., 3., 2., 6., 1.],\n",
              "       [5., 3., 2., 6., 1.],\n",
              "       [5., 3., 2., 6., 1.]], dtype=float64)"
            ]
          },
          "execution_count": 23,
          "metadata": {},
          "output_type": "execute_result"
        }
      ],
      "source": [
        "A = jnp.zeros((3, 5, 5)).at[:, Ai, Aj].set(Ax)\n",
        "jnp.einsum(\"ijk,ik->ij\", A, x)"
      ]
    },
    {
      "cell_type": "markdown",
      "id": "788f79e7-4f88-4e78-ac51-a91e8ebdfd4f",
      "metadata": {
        "papermill": {
          "duration": 0.025393,
          "end_time": "2025-02-26T08:32:41.180164",
          "exception": false,
          "start_time": "2025-02-26T08:32:41.154771",
          "status": "completed"
        },
        "tags": []
      },
      "source": [
        "Additionally, we need a way to multiply a sparse COO-matrix with a dense vector. This can be done with `klujax.coo_mul_vec`:"
      ]
    },
    {
      "cell_type": "markdown",
      "id": "2b096666-e29e-40a1-a86d-e151e89c7599",
      "metadata": {
        "papermill": {
          "duration": 0.022729,
          "end_time": "2025-02-26T08:32:41.230277",
          "exception": false,
          "start_time": "2025-02-26T08:32:41.207548",
          "status": "completed"
        },
        "tags": []
      },
      "source": [
        "However, it's useful to allow a batch dimension, this time *both* in `Ax` and in `b`:"
      ]
    },
    {
      "cell_type": "code",
      "execution_count": 24,
      "id": "2a965d678f7e4142",
      "metadata": {
        "execution": {
          "iopub.execute_input": "2025-02-26T08:32:41.283181Z",
          "iopub.status.busy": "2025-02-26T08:32:41.282872Z",
          "iopub.status.idle": "2025-02-26T08:32:41.287061Z",
          "shell.execute_reply": "2025-02-26T08:32:41.286452Z"
        },
        "papermill": {
          "duration": 0.032052,
          "end_time": "2025-02-26T08:32:41.288239",
          "exception": false,
          "start_time": "2025-02-26T08:32:41.256187",
          "status": "completed"
        },
        "tags": []
      },
      "outputs": [],
      "source": [
        "mul_coo = None\n",
        "mul_coo = jax.vmap(klujax.coo_mul_vec, (None, None, 0, 0), 0)"
      ]
    },
    {
      "cell_type": "markdown",
      "id": "5df6d174-6ada-4118-bbf7-7fd5d2ec35c9",
      "metadata": {
        "papermill": {
          "duration": 0.024539,
          "end_time": "2025-02-26T08:32:41.338033",
          "exception": false,
          "start_time": "2025-02-26T08:32:41.313494",
          "status": "completed"
        },
        "tags": []
      },
      "source": [
        "Let's confirm this does the right thing:"
      ]
    },
    {
      "cell_type": "code",
      "execution_count": 25,
      "id": "bd868973",
      "metadata": {
        "execution": {
          "iopub.execute_input": "2025-02-26T08:32:41.388449Z",
          "iopub.status.busy": "2025-02-26T08:32:41.388180Z",
          "iopub.status.idle": "2025-02-26T08:32:41.433875Z",
          "shell.execute_reply": "2025-02-26T08:32:41.433290Z"
        },
        "papermill": {
          "duration": 0.072889,
          "end_time": "2025-02-26T08:32:41.435326",
          "exception": false,
          "start_time": "2025-02-26T08:32:41.362437",
          "status": "completed"
        },
        "tags": []
      },
      "outputs": [
        {
          "data": {
            "text/plain": [
              "Array([[5., 3., 2., 6., 1.],\n",
              "       [5., 3., 2., 6., 1.],\n",
              "       [5., 3., 2., 6., 1.]], dtype=float64)"
            ]
          },
          "execution_count": 25,
          "metadata": {},
          "output_type": "execute_result"
        }
      ],
      "source": [
        "result = mul_coo(Ai, Aj, Ax, x)\n",
        "result"
      ]
    },
    {
      "cell_type": "markdown",
      "id": "e2c47d85-38fc-4132-9d8d-593c25307ebe",
      "metadata": {
        "papermill": {
          "duration": 0.025675,
          "end_time": "2025-02-26T08:32:41.485992",
          "exception": false,
          "start_time": "2025-02-26T08:32:41.460317",
          "status": "completed"
        },
        "tags": []
      },
      "source": [
        "### Example"
      ]
    },
    {
      "cell_type": "code",
      "execution_count": 26,
      "id": "665c856d",
      "metadata": {
        "execution": {
          "iopub.execute_input": "2025-02-26T08:32:41.545325Z",
          "iopub.status.busy": "2025-02-26T08:32:41.544322Z",
          "iopub.status.idle": "2025-02-26T08:32:41.576448Z",
          "shell.execute_reply": "2025-02-26T08:32:41.575745Z"
        },
        "papermill": {
          "duration": 0.063609,
          "end_time": "2025-02-26T08:32:41.577747",
          "exception": false,
          "start_time": "2025-02-26T08:32:41.514138",
          "status": "completed"
        },
        "tags": []
      },
      "outputs": [
        {
          "name": "stdout",
          "output_type": "stream",
          "text": [
            "[[ 0.      +0.j        0.      +0.j       -0.25    +0.433015j\n",
            "  -0.433015+0.75j    ]\n",
            " [ 0.      +0.j        0.      +0.j       -0.433015+0.75j\n",
            "   0.25    -0.433015j]\n",
            " [-0.25    +0.433015j -0.433015+0.75j      0.      +0.j\n",
            "   0.      +0.j      ]\n",
            " [-0.433015+0.75j      0.25    -0.433015j  0.      +0.j\n",
            "   0.      +0.j      ]]\n",
            "{'in0': 0, 'in1': 1, 'out0': 2, 'out1': 3}\n"
          ]
        }
      ],
      "source": [
        "wg_sdict: sax.SDict = {\n",
        "    (\"in0\", \"out0\"): 0.5 + 0.86603j,\n",
        "    (\"out0\", \"in0\"): 0.5 + 0.86603j,\n",
        "}\n",
        "\n",
        "\u03c4, \u03ba = 0.5**0.5, 1j * 0.5**0.5\n",
        "dc_sdense: sax.SDense = (\n",
        "    jnp.array([[0, 0, \u03c4, \u03ba], [0, 0, \u03ba, \u03c4], [\u03c4, \u03ba, 0, 0], [\u03ba, \u03c4, 0, 0]]),\n",
        "    {\"out0\": 0, \"out1\": 1, \"in0\": 2, \"in1\": 3},\n",
        ")\n",
        "\n",
        "instances = {\n",
        "    \"dc1\": {\"component\": \"dc\"},\n",
        "    \"wg\": {\"component\": \"wg\"},\n",
        "    \"dc2\": {\"component\": \"dc\"},\n",
        "}\n",
        "connections = {\n",
        "    \"dc1,out0\": \"wg,in0\",\n",
        "    \"wg,out0\": \"dc2,in0\",\n",
        "    \"dc1,out1\": \"dc2,in1\",\n",
        "}\n",
        "ports = {\n",
        "    \"in0\": \"dc1,in0\",\n",
        "    \"in1\": \"dc1,in1\",\n",
        "    \"out0\": \"dc2,out0\",\n",
        "    \"out1\": \"dc2,out1\",\n",
        "}\n",
        "models = {\n",
        "    \"wg\": lambda: wg_sdict,\n",
        "    \"dc\": lambda: dc_sdense,\n",
        "}\n",
        "\n",
        "\n",
        "analyzed_instances = sax.backends.analyze_instances_klu(instances, models)\n",
        "analyzed_circuit = sax.backends.analyze_circuit_klu(\n",
        "    analyzed_instances, connections, ports\n",
        ")\n",
        "S, pm = sax.backends.evaluate_circuit_klu(\n",
        "    analyzed_circuit, {k: models[v[\"component\"]]() for k, v in instances.items()}\n",
        ")\n",
        "\n",
        "print(S)\n",
        "print(pm)"
      ]
    },
    {
      "cell_type": "markdown",
      "id": "2561e780-23a1-46ae-8c7b-17ccb1c80f2b",
      "metadata": {
        "papermill": {
          "duration": 0.028491,
          "end_time": "2025-02-26T08:32:41.634788",
          "exception": false,
          "start_time": "2025-02-26T08:32:41.606297",
          "status": "completed"
        },
        "tags": []
      },
      "source": [
        "the KLU backend yields `SDense` results by default:"
      ]
    },
    {
      "cell_type": "code",
      "execution_count": 27,
      "id": "ecc3115e",
      "metadata": {
        "execution": {
          "iopub.execute_input": "2025-02-26T08:32:41.708033Z",
          "iopub.status.busy": "2025-02-26T08:32:41.706796Z",
          "iopub.status.idle": "2025-02-26T08:32:41.714464Z",
          "shell.execute_reply": "2025-02-26T08:32:41.713826Z"
        },
        "papermill": {
          "duration": 0.052077,
          "end_time": "2025-02-26T08:32:41.715822",
          "exception": false,
          "start_time": "2025-02-26T08:32:41.663745",
          "status": "completed"
        },
        "tags": []
      },
      "outputs": [
        {
          "data": {
            "text/plain": [
              "(Array([[ 0.      +0.j      ,  0.      +0.j      , -0.25    +0.433015j,\n",
              "         -0.433015+0.75j    ],\n",
              "        [ 0.      +0.j      ,  0.      +0.j      , -0.433015+0.75j    ,\n",
              "          0.25    -0.433015j],\n",
              "        [-0.25    +0.433015j, -0.433015+0.75j    ,  0.      +0.j      ,\n",
              "          0.      +0.j      ],\n",
              "        [-0.433015+0.75j    ,  0.25    -0.433015j,  0.      +0.j      ,\n",
              "          0.      +0.j      ]], dtype=complex128),\n",
              " {'in0': 0, 'in1': 1, 'out0': 2, 'out1': 3})"
            ]
          },
          "execution_count": 27,
          "metadata": {},
          "output_type": "execute_result"
        }
      ],
      "source": [
        "mzi_sdense = (S, pm)\n",
        "mzi_sdense"
      ]
    },
    {
      "cell_type": "markdown",
      "id": "ccf222e3-b0a9-4732-8c5b-f449ab0217ba",
      "metadata": {
        "papermill": {
          "duration": 0.026821,
          "end_time": "2025-02-26T08:32:41.771462",
          "exception": false,
          "start_time": "2025-02-26T08:32:41.744641",
          "status": "completed"
        },
        "tags": []
      },
      "source": [
        "An `SDense` is returned for perfomance reasons. By returning an `SDense` by default we prevent any internal `SDict -> SDense` conversions in deeply hierarchical circuits. It's however very easy to convert `SDense` to `SDict` as a final step. To do this, wrap the result (or the function generating the result) with `sdict`:"
      ]
    },
    {
      "cell_type": "code",
      "execution_count": 28,
      "id": "7202ab1e",
      "metadata": {
        "execution": {
          "iopub.execute_input": "2025-02-26T08:32:41.827068Z",
          "iopub.status.busy": "2025-02-26T08:32:41.825856Z",
          "iopub.status.idle": "2025-02-26T08:32:41.847440Z",
          "shell.execute_reply": "2025-02-26T08:32:41.844560Z"
        },
        "papermill": {
          "duration": 0.049902,
          "end_time": "2025-02-26T08:32:41.848695",
          "exception": false,
          "start_time": "2025-02-26T08:32:41.798793",
          "status": "completed"
        },
        "tags": []
      },
      "outputs": [
        {
          "data": {
            "text/plain": [
              "{('in0', 'in0'): Array(0.+0.j, dtype=complex128),\n",
              " ('in0', 'in1'): Array(0.+0.j, dtype=complex128),\n",
              " ('in0', 'out0'): Array(-0.25+0.433015j, dtype=complex128),\n",
              " ('in0', 'out1'): Array(-0.433015+0.75j, dtype=complex128),\n",
              " ('in1', 'in0'): Array(0.+0.j, dtype=complex128),\n",
              " ('in1', 'in1'): Array(0.+0.j, dtype=complex128),\n",
              " ('in1', 'out0'): Array(-0.433015+0.75j, dtype=complex128),\n",
              " ('in1', 'out1'): Array(0.25-0.433015j, dtype=complex128),\n",
              " ('out0', 'in0'): Array(-0.25+0.433015j, dtype=complex128),\n",
              " ('out0', 'in1'): Array(-0.433015+0.75j, dtype=complex128),\n",
              " ('out0', 'out0'): Array(0.+0.j, dtype=complex128),\n",
              " ('out0', 'out1'): Array(0.+0.j, dtype=complex128),\n",
              " ('out1', 'in0'): Array(-0.433015+0.75j, dtype=complex128),\n",
              " ('out1', 'in1'): Array(0.25-0.433015j, dtype=complex128),\n",
              " ('out1', 'out0'): Array(0.+0.j, dtype=complex128),\n",
              " ('out1', 'out1'): Array(0.+0.j, dtype=complex128)}"
            ]
          },
          "execution_count": 28,
          "metadata": {},
          "output_type": "execute_result"
        }
      ],
      "source": [
        "sax.sdict(mzi_sdense)"
      ]
    },
    {
      "cell_type": "markdown",
      "id": "e84bdb3f-c9cc-46fb-9fad-09924bbce67b",
      "metadata": {
        "papermill": {
          "duration": 0.024679,
          "end_time": "2025-02-26T08:32:41.913538",
          "exception": false,
          "start_time": "2025-02-26T08:32:41.888859",
          "status": "completed"
        },
        "tags": []
      },
      "source": [
        "### Algorithm Walkthrough"
      ]
    },
    {
      "cell_type": "markdown",
      "id": "d79a8927-1d29-416a-84a6-1963b40cbd41",
      "metadata": {
        "papermill": {
          "duration": 0.021077,
          "end_time": "2025-02-26T08:32:41.958566",
          "exception": false,
          "start_time": "2025-02-26T08:32:41.937489",
          "status": "completed"
        },
        "tags": []
      },
      "source": [
        "Let's first enforce $C^T = C$:"
      ]
    },
    {
      "cell_type": "code",
      "execution_count": 29,
      "id": "6d7d4c39",
      "metadata": {
        "execution": {
          "iopub.execute_input": "2025-02-26T08:32:42.002132Z",
          "iopub.status.busy": "2025-02-26T08:32:42.001747Z",
          "iopub.status.idle": "2025-02-26T08:32:42.007913Z",
          "shell.execute_reply": "2025-02-26T08:32:42.007391Z"
        },
        "papermill": {
          "duration": 0.029685,
          "end_time": "2025-02-26T08:32:42.009140",
          "exception": false,
          "start_time": "2025-02-26T08:32:41.979455",
          "status": "completed"
        },
        "tags": []
      },
      "outputs": [
        {
          "data": {
            "text/plain": [
              "{'dc1,out0': 'wg,in0',\n",
              " 'wg,out0': 'dc2,in0',\n",
              " 'dc1,out1': 'dc2,in1',\n",
              " 'wg,in0': 'dc1,out0',\n",
              " 'dc2,in0': 'wg,out0',\n",
              " 'dc2,in1': 'dc1,out1'}"
            ]
          },
          "execution_count": 29,
          "metadata": {},
          "output_type": "execute_result"
        }
      ],
      "source": [
        "connections = {**connections, **{v: k for k, v in connections.items()}}\n",
        "connections"
      ]
    },
    {
      "cell_type": "markdown",
      "id": "e7b667e3-a932-4689-b7cf-39c9609377b2",
      "metadata": {
        "papermill": {
          "duration": 0.025632,
          "end_time": "2025-02-26T08:32:42.059694",
          "exception": false,
          "start_time": "2025-02-26T08:32:42.034062",
          "status": "completed"
        },
        "tags": []
      },
      "source": [
        "We'll also need the reversed ports:"
      ]
    },
    {
      "cell_type": "code",
      "execution_count": 30,
      "id": "9a70463f",
      "metadata": {
        "execution": {
          "iopub.execute_input": "2025-02-26T08:32:42.112422Z",
          "iopub.status.busy": "2025-02-26T08:32:42.112106Z",
          "iopub.status.idle": "2025-02-26T08:32:42.118157Z",
          "shell.execute_reply": "2025-02-26T08:32:42.117607Z"
        },
        "papermill": {
          "duration": 0.034275,
          "end_time": "2025-02-26T08:32:42.119262",
          "exception": false,
          "start_time": "2025-02-26T08:32:42.084987",
          "status": "completed"
        },
        "tags": []
      },
      "outputs": [
        {
          "data": {
            "text/plain": [
              "{'dc1,in0': 'in0', 'dc1,in1': 'in1', 'dc2,out0': 'out0', 'dc2,out1': 'out1'}"
            ]
          },
          "execution_count": 30,
          "metadata": {},
          "output_type": "execute_result"
        }
      ],
      "source": [
        "inverse_ports = {v: k for k, v in ports.items()}\n",
        "inverse_ports"
      ]
    },
    {
      "cell_type": "markdown",
      "id": "12b5afd1-85e3-4633-af9a-1ed4c7214c1b",
      "metadata": {
        "papermill": {
          "duration": 0.0284,
          "end_time": "2025-02-26T08:32:42.177630",
          "exception": false,
          "start_time": "2025-02-26T08:32:42.149230",
          "status": "completed"
        },
        "tags": []
      },
      "source": [
        "An the port indices"
      ]
    },
    {
      "cell_type": "code",
      "execution_count": 31,
      "id": "8e18d182",
      "metadata": {
        "execution": {
          "iopub.execute_input": "2025-02-26T08:32:42.238278Z",
          "iopub.status.busy": "2025-02-26T08:32:42.237950Z",
          "iopub.status.idle": "2025-02-26T08:32:42.244519Z",
          "shell.execute_reply": "2025-02-26T08:32:42.243456Z"
        },
        "papermill": {
          "duration": 0.03935,
          "end_time": "2025-02-26T08:32:42.245793",
          "exception": false,
          "start_time": "2025-02-26T08:32:42.206443",
          "status": "completed"
        },
        "tags": []
      },
      "outputs": [
        {
          "data": {
            "text/plain": [
              "{'in0': 0, 'in1': 1, 'out0': 2, 'out1': 3}"
            ]
          },
          "execution_count": 31,
          "metadata": {},
          "output_type": "execute_result"
        }
      ],
      "source": [
        "port_map = {k: i for i, k in enumerate(ports)}\n",
        "port_map"
      ]
    },
    {
      "cell_type": "markdown",
      "id": "5b2f18ae-af08-4482-8b0f-a72c1fee13d5",
      "metadata": {
        "papermill": {
          "duration": 0.023906,
          "end_time": "2025-02-26T08:32:42.299622",
          "exception": false,
          "start_time": "2025-02-26T08:32:42.275716",
          "status": "completed"
        },
        "tags": []
      },
      "source": [
        "Let's now create the COO-representation of our block diagonal S-matrix $S_{bd}$:"
      ]
    },
    {
      "cell_type": "code",
      "execution_count": 32,
      "id": "835deb8f",
      "metadata": {
        "execution": {
          "iopub.execute_input": "2025-02-26T08:32:42.352174Z",
          "iopub.status.busy": "2025-02-26T08:32:42.351850Z",
          "iopub.status.idle": "2025-02-26T08:32:42.369994Z",
          "shell.execute_reply": "2025-02-26T08:32:42.369367Z"
        },
        "papermill": {
          "duration": 0.046514,
          "end_time": "2025-02-26T08:32:42.371556",
          "exception": false,
          "start_time": "2025-02-26T08:32:42.325042",
          "status": "completed"
        },
        "tags": []
      },
      "outputs": [
        {
          "name": "stdout",
          "output_type": "stream",
          "text": [
            "[0 0 0 0 1 1 1 1 2 2 2 2 3 3 3 3 4 5 6 6 6 6 7 7 7 7 8 8 8 8 9 9 9 9]\n",
            "[0 1 2 3 0 1 2 3 0 1 2 3 0 1 2 3 5 4 6 7 8 9 6 7 8 9 6 7 8 9 6 7 8 9]\n",
            "[0.        +0.j         0.        +0.j         0.70710678+0.j\n",
            " 0.        +0.70710678j 0.        +0.j         0.        +0.j\n",
            " 0.        +0.70710678j 0.70710678+0.j         0.70710678+0.j\n",
            " 0.        +0.70710678j 0.        +0.j         0.        +0.j\n",
            " 0.        +0.70710678j 0.70710678+0.j         0.        +0.j\n",
            " 0.        +0.j         0.5       +0.86603j    0.5       +0.86603j\n",
            " 0.        +0.j         0.        +0.j         0.70710678+0.j\n",
            " 0.        +0.70710678j 0.        +0.j         0.        +0.j\n",
            " 0.        +0.70710678j 0.70710678+0.j         0.70710678+0.j\n",
            " 0.        +0.70710678j 0.        +0.j         0.        +0.j\n",
            " 0.        +0.70710678j 0.70710678+0.j         0.        +0.j\n",
            " 0.        +0.j        ]\n"
          ]
        }
      ],
      "source": [
        "idx, Si, Sj, Sx, instance_ports = 0, [], [], [], {}\n",
        "batch_shape = ()\n",
        "for name, instance in instances.items():\n",
        "    s = models[instance[\"component\"]]()\n",
        "    si, sj, sx, ports_map = sax.scoo(s)\n",
        "    Si.append(si + idx)\n",
        "    Sj.append(sj + idx)\n",
        "    Sx.append(sx)\n",
        "    if len(sx.shape[:-1]) > len(batch_shape):\n",
        "        batch_shape = sx.shape[:-1]\n",
        "    instance_ports.update({f\"{name},{p}\": i + idx for p, i in ports_map.items()})\n",
        "    idx += len(ports_map)\n",
        "Si = jnp.concatenate(Si, -1)\n",
        "Sj = jnp.concatenate(Sj, -1)\n",
        "Sx = jnp.concatenate(\n",
        "    [jnp.broadcast_to(sx, (*batch_shape, sx.shape[-1])) for sx in Sx], -1\n",
        ")\n",
        "\n",
        "print(Si)\n",
        "print(Sj)\n",
        "print(Sx)"
      ]
    },
    {
      "cell_type": "markdown",
      "id": "9b98486a-f99a-4284-89ee-302049fb6e0d",
      "metadata": {
        "papermill": {
          "duration": 0.028608,
          "end_time": "2025-02-26T08:32:42.429622",
          "exception": false,
          "start_time": "2025-02-26T08:32:42.401014",
          "status": "completed"
        },
        "tags": []
      },
      "source": [
        "note that we also kept track of the `batch_shape`, i.e. the number of independent simulations (usually number of wavelengths). In the example being used here we don't have a batch dimension (all elements of the `SDict` are `0D`):"
      ]
    },
    {
      "cell_type": "code",
      "execution_count": 33,
      "id": "7513759a",
      "metadata": {
        "execution": {
          "iopub.execute_input": "2025-02-26T08:32:42.486427Z",
          "iopub.status.busy": "2025-02-26T08:32:42.486148Z",
          "iopub.status.idle": "2025-02-26T08:32:42.492248Z",
          "shell.execute_reply": "2025-02-26T08:32:42.491643Z"
        },
        "papermill": {
          "duration": 0.034772,
          "end_time": "2025-02-26T08:32:42.493616",
          "exception": false,
          "start_time": "2025-02-26T08:32:42.458844",
          "status": "completed"
        },
        "tags": []
      },
      "outputs": [
        {
          "data": {
            "text/plain": [
              "()"
            ]
          },
          "execution_count": 33,
          "metadata": {},
          "output_type": "execute_result"
        }
      ],
      "source": [
        "batch_shape"
      ]
    },
    {
      "cell_type": "markdown",
      "id": "183f6113-0f54-47f9-87c4-c3ec2ec3ec85",
      "metadata": {
        "papermill": {
          "duration": 0.027771,
          "end_time": "2025-02-26T08:32:42.600716",
          "exception": false,
          "start_time": "2025-02-26T08:32:42.572945",
          "status": "completed"
        },
        "tags": []
      },
      "source": [
        "We'll also keep track of the number of columns"
      ]
    },
    {
      "cell_type": "code",
      "execution_count": 34,
      "id": "89000432",
      "metadata": {
        "execution": {
          "iopub.execute_input": "2025-02-26T08:32:42.654237Z",
          "iopub.status.busy": "2025-02-26T08:32:42.653939Z",
          "iopub.status.idle": "2025-02-26T08:32:42.660225Z",
          "shell.execute_reply": "2025-02-26T08:32:42.659704Z"
        },
        "papermill": {
          "duration": 0.033175,
          "end_time": "2025-02-26T08:32:42.661702",
          "exception": false,
          "start_time": "2025-02-26T08:32:42.628527",
          "status": "completed"
        },
        "tags": []
      },
      "outputs": [
        {
          "data": {
            "text/plain": [
              "10"
            ]
          },
          "execution_count": 34,
          "metadata": {},
          "output_type": "execute_result"
        }
      ],
      "source": [
        "n_col = idx\n",
        "n_col"
      ]
    },
    {
      "cell_type": "markdown",
      "id": "ed6ec22f-4bb6-4a84-9143-435ca8dddb8b",
      "metadata": {
        "papermill": {
          "duration": 0.028558,
          "end_time": "2025-02-26T08:32:42.718696",
          "exception": false,
          "start_time": "2025-02-26T08:32:42.690138",
          "status": "completed"
        },
        "tags": []
      },
      "source": [
        "And we'll need to solve the circuit for each output port, i.e. we need to solve `n_rhs` number of equations:"
      ]
    },
    {
      "cell_type": "code",
      "execution_count": 35,
      "id": "27902354",
      "metadata": {
        "execution": {
          "iopub.execute_input": "2025-02-26T08:32:42.778656Z",
          "iopub.status.busy": "2025-02-26T08:32:42.778359Z",
          "iopub.status.idle": "2025-02-26T08:32:42.784065Z",
          "shell.execute_reply": "2025-02-26T08:32:42.783478Z"
        },
        "papermill": {
          "duration": 0.037378,
          "end_time": "2025-02-26T08:32:42.785421",
          "exception": false,
          "start_time": "2025-02-26T08:32:42.748043",
          "status": "completed"
        },
        "tags": []
      },
      "outputs": [
        {
          "data": {
            "text/plain": [
              "4"
            ]
          },
          "execution_count": 35,
          "metadata": {},
          "output_type": "execute_result"
        }
      ],
      "source": [
        "n_rhs = len(port_map)\n",
        "n_rhs"
      ]
    },
    {
      "cell_type": "markdown",
      "id": "e6eb8aaa-0e61-4080-9e86-544167a58e46",
      "metadata": {
        "papermill": {
          "duration": 0.02907,
          "end_time": "2025-02-26T08:32:42.844786",
          "exception": false,
          "start_time": "2025-02-26T08:32:42.815716",
          "status": "completed"
        },
        "tags": []
      },
      "source": [
        "We can represent the internal connection matrix $C_{int}$ as a mapping between port indices:"
      ]
    },
    {
      "cell_type": "code",
      "execution_count": 36,
      "id": "f3ff1fa7",
      "metadata": {
        "execution": {
          "iopub.execute_input": "2025-02-26T08:32:42.895732Z",
          "iopub.status.busy": "2025-02-26T08:32:42.894776Z",
          "iopub.status.idle": "2025-02-26T08:32:42.901688Z",
          "shell.execute_reply": "2025-02-26T08:32:42.900276Z"
        },
        "papermill": {
          "duration": 0.034271,
          "end_time": "2025-02-26T08:32:42.903108",
          "exception": false,
          "start_time": "2025-02-26T08:32:42.868837",
          "status": "completed"
        },
        "tags": []
      },
      "outputs": [
        {
          "data": {
            "text/plain": [
              "{0: 4, 5: 8, 1: 9, 4: 0, 8: 5, 9: 1}"
            ]
          },
          "execution_count": 36,
          "metadata": {},
          "output_type": "execute_result"
        }
      ],
      "source": [
        "Cmap = {int(instance_ports[k]): int(instance_ports[v]) for k, v in connections.items()}\n",
        "Cmap"
      ]
    },
    {
      "cell_type": "markdown",
      "id": "b9db7990-fe17-4cca-907a-cca94b06f03b",
      "metadata": {
        "papermill": {
          "duration": 0.025466,
          "end_time": "2025-02-26T08:32:42.957855",
          "exception": false,
          "start_time": "2025-02-26T08:32:42.932389",
          "status": "completed"
        },
        "tags": []
      },
      "source": [
        "Therefore, the COO-representation of this connection matrix can be obtained as follows (note that an array of values Cx is not necessary, all non-zero elements in a connection matrix are 1)"
      ]
    },
    {
      "cell_type": "code",
      "execution_count": 37,
      "id": "9e4f1728",
      "metadata": {
        "execution": {
          "iopub.execute_input": "2025-02-26T08:32:43.017565Z",
          "iopub.status.busy": "2025-02-26T08:32:43.016197Z",
          "iopub.status.idle": "2025-02-26T08:32:43.026959Z",
          "shell.execute_reply": "2025-02-26T08:32:43.026311Z"
        },
        "papermill": {
          "duration": 0.043477,
          "end_time": "2025-02-26T08:32:43.028497",
          "exception": false,
          "start_time": "2025-02-26T08:32:42.985020",
          "status": "completed"
        },
        "tags": []
      },
      "outputs": [
        {
          "name": "stdout",
          "output_type": "stream",
          "text": [
            "[0 5 1 4 8 9]\n",
            "[4 8 9 0 5 1]\n"
          ]
        }
      ],
      "source": [
        "Ci = jnp.array(list(Cmap.keys()), dtype=jnp.int32)\n",
        "Cj = jnp.array(list(Cmap.values()), dtype=jnp.int32)\n",
        "print(Ci)\n",
        "print(Cj)"
      ]
    },
    {
      "cell_type": "markdown",
      "id": "0fc2572d-3af5-4ab9-a12d-d7b8487ca84f",
      "metadata": {
        "papermill": {
          "duration": 0.0299,
          "end_time": "2025-02-26T08:32:43.094260",
          "exception": false,
          "start_time": "2025-02-26T08:32:43.064360",
          "status": "completed"
        },
        "tags": []
      },
      "source": [
        "We can represent the external connection matrix $C_{ext}$ as a map between internal port indices and external port indices:"
      ]
    },
    {
      "cell_type": "code",
      "execution_count": 38,
      "id": "f56ae166",
      "metadata": {
        "execution": {
          "iopub.execute_input": "2025-02-26T08:32:43.157429Z",
          "iopub.status.busy": "2025-02-26T08:32:43.156139Z",
          "iopub.status.idle": "2025-02-26T08:32:43.163761Z",
          "shell.execute_reply": "2025-02-26T08:32:43.163113Z"
        },
        "papermill": {
          "duration": 0.041172,
          "end_time": "2025-02-26T08:32:43.165159",
          "exception": false,
          "start_time": "2025-02-26T08:32:43.123987",
          "status": "completed"
        },
        "tags": []
      },
      "outputs": [
        {
          "data": {
            "text/plain": [
              "{2: 0, 3: 1, 6: 2, 7: 3}"
            ]
          },
          "execution_count": 38,
          "metadata": {},
          "output_type": "execute_result"
        }
      ],
      "source": [
        "Cextmap = {int(instance_ports[k]): int(port_map[v]) for k, v in inverse_ports.items()}\n",
        "Cextmap"
      ]
    },
    {
      "cell_type": "markdown",
      "id": "0e406982-d2c9-426e-ac46-fa4650e2f7dc",
      "metadata": {
        "papermill": {
          "duration": 0.024106,
          "end_time": "2025-02-26T08:32:43.219365",
          "exception": false,
          "start_time": "2025-02-26T08:32:43.195259",
          "status": "completed"
        },
        "tags": []
      },
      "source": [
        "Just as for the internal matrix we can represent this external connection matrix in COO-format:"
      ]
    },
    {
      "cell_type": "code",
      "execution_count": 39,
      "id": "cfb419ac",
      "metadata": {
        "execution": {
          "iopub.execute_input": "2025-02-26T08:32:43.272243Z",
          "iopub.status.busy": "2025-02-26T08:32:43.271790Z",
          "iopub.status.idle": "2025-02-26T08:32:43.277857Z",
          "shell.execute_reply": "2025-02-26T08:32:43.277311Z"
        },
        "papermill": {
          "duration": 0.034041,
          "end_time": "2025-02-26T08:32:43.279050",
          "exception": false,
          "start_time": "2025-02-26T08:32:43.245009",
          "status": "completed"
        },
        "tags": []
      },
      "outputs": [
        {
          "name": "stdout",
          "output_type": "stream",
          "text": [
            "[2 3 6 7]\n",
            "[0 1 2 3]\n"
          ]
        }
      ],
      "source": [
        "Cexti = jnp.stack(list(Cextmap.keys()), 0)\n",
        "Cextj = jnp.stack(list(Cextmap.values()), 0)\n",
        "print(Cexti)\n",
        "print(Cextj)"
      ]
    },
    {
      "cell_type": "markdown",
      "id": "933aab49-ec05-4690-8caf-adbc93f0f715",
      "metadata": {
        "papermill": {
          "duration": 0.021939,
          "end_time": "2025-02-26T08:32:43.324443",
          "exception": false,
          "start_time": "2025-02-26T08:32:43.302504",
          "status": "completed"
        },
        "tags": []
      },
      "source": [
        "However, we actually need it as a dense representation:\n",
        "\n",
        "> help needed: can we find a way later on to keep this sparse?"
      ]
    },
    {
      "cell_type": "code",
      "execution_count": 40,
      "id": "25c4ec6e",
      "metadata": {
        "execution": {
          "iopub.execute_input": "2025-02-26T08:32:43.372441Z",
          "iopub.status.busy": "2025-02-26T08:32:43.372181Z",
          "iopub.status.idle": "2025-02-26T08:32:43.381186Z",
          "shell.execute_reply": "2025-02-26T08:32:43.380592Z"
        },
        "papermill": {
          "duration": 0.034689,
          "end_time": "2025-02-26T08:32:43.382499",
          "exception": false,
          "start_time": "2025-02-26T08:32:43.347810",
          "status": "completed"
        },
        "tags": []
      },
      "outputs": [
        {
          "data": {
            "text/plain": [
              "Array([[0.+0.j, 0.+0.j, 0.+0.j, 0.+0.j],\n",
              "       [0.+0.j, 0.+0.j, 0.+0.j, 0.+0.j],\n",
              "       [1.+0.j, 0.+0.j, 0.+0.j, 0.+0.j],\n",
              "       [0.+0.j, 1.+0.j, 0.+0.j, 0.+0.j],\n",
              "       [0.+0.j, 0.+0.j, 0.+0.j, 0.+0.j],\n",
              "       [0.+0.j, 0.+0.j, 0.+0.j, 0.+0.j],\n",
              "       [0.+0.j, 0.+0.j, 1.+0.j, 0.+0.j],\n",
              "       [0.+0.j, 0.+0.j, 0.+0.j, 1.+0.j],\n",
              "       [0.+0.j, 0.+0.j, 0.+0.j, 0.+0.j],\n",
              "       [0.+0.j, 0.+0.j, 0.+0.j, 0.+0.j]], dtype=complex128)"
            ]
          },
          "execution_count": 40,
          "metadata": {},
          "output_type": "execute_result"
        }
      ],
      "source": [
        "Cext = jnp.zeros((n_col, n_rhs), dtype=complex).at[Cexti, Cextj].set(1.0)\n",
        "Cext"
      ]
    },
    {
      "cell_type": "markdown",
      "id": "ee0e1a8b-21cd-4a81-a3e9-e312cc94ae6e",
      "metadata": {
        "papermill": {
          "duration": 0.021988,
          "end_time": "2025-02-26T08:32:43.426828",
          "exception": false,
          "start_time": "2025-02-26T08:32:43.404840",
          "status": "completed"
        },
        "tags": []
      },
      "source": [
        "We'll now calculate the row index `CSi` of $C_{int}S_{bd}$ in COO-format:"
      ]
    },
    {
      "cell_type": "code",
      "execution_count": 41,
      "id": "802884a6edad8792",
      "metadata": {
        "execution": {
          "iopub.execute_input": "2025-02-26T08:32:43.474972Z",
          "iopub.status.busy": "2025-02-26T08:32:43.474719Z",
          "iopub.status.idle": "2025-02-26T08:32:43.483973Z",
          "shell.execute_reply": "2025-02-26T08:32:43.483494Z"
        },
        "papermill": {
          "duration": 0.034707,
          "end_time": "2025-02-26T08:32:43.485039",
          "exception": false,
          "start_time": "2025-02-26T08:32:43.450332",
          "status": "completed"
        },
        "tags": []
      },
      "outputs": [
        {
          "data": {
            "text/plain": [
              "Array([4, 4, 4, 4, 9, 9, 9, 9, 0, 8, 5, 5, 5, 5, 1, 1, 1, 1], dtype=int32)"
            ]
          },
          "execution_count": 41,
          "metadata": {},
          "output_type": "execute_result"
        }
      ],
      "source": [
        "# TODO: make this block jittable...\n",
        "Ix = jnp.ones((*batch_shape, n_col))\n",
        "Ii = Ij = jnp.arange(n_col)\n",
        "mask = Cj[None, :] == Si[:, None]\n",
        "CSi = jnp.broadcast_to(Ci[None, :], mask.shape)[mask]\n",
        "CSi"
      ]
    },
    {
      "cell_type": "markdown",
      "id": "48d97ac6-ec8b-4040-9310-b49de1d69810",
      "metadata": {
        "papermill": {
          "duration": 0.023482,
          "end_time": "2025-02-26T08:32:43.530941",
          "exception": false,
          "start_time": "2025-02-26T08:32:43.507459",
          "status": "completed"
        },
        "tags": []
      },
      "source": [
        "> `CSi`: possible jittable alternative? how do we remove the zeros?"
      ]
    },
    {
      "cell_type": "code",
      "execution_count": 42,
      "id": "d4ea2cb5",
      "metadata": {
        "execution": {
          "iopub.execute_input": "2025-02-26T08:32:43.582184Z",
          "iopub.status.busy": "2025-02-26T08:32:43.580957Z",
          "iopub.status.idle": "2025-02-26T08:32:43.630882Z",
          "shell.execute_reply": "2025-02-26T08:32:43.630373Z"
        },
        "papermill": {
          "duration": 0.075767,
          "end_time": "2025-02-26T08:32:43.632122",
          "exception": false,
          "start_time": "2025-02-26T08:32:43.556355",
          "status": "completed"
        },
        "tags": []
      },
      "outputs": [
        {
          "data": {
            "text/plain": [
              "Array([4, 4, 4, 4, 9, 9, 9, 9, 0, 0, 0, 0, 0, 0, 0, 0, 0, 8, 0, 0, 0, 0,\n",
              "       0, 0, 0, 0, 5, 5, 5, 5, 1, 1, 1, 1], dtype=int64)"
            ]
          },
          "execution_count": 42,
          "metadata": {},
          "output_type": "execute_result"
        }
      ],
      "source": [
        "CSi_ = jnp.where(Cj[None, :] == Si[:, None], Ci[None, :], 0).sum(1)  # not used\n",
        "CSi_  # not used"
      ]
    },
    {
      "cell_type": "markdown",
      "id": "40923193-6a18-479f-9bc6-63a32fdf1f0a",
      "metadata": {
        "papermill": {
          "duration": 0.023337,
          "end_time": "2025-02-26T08:32:43.679660",
          "exception": false,
          "start_time": "2025-02-26T08:32:43.656323",
          "status": "completed"
        },
        "tags": []
      },
      "source": [
        "The column index `CSj` of $C_{int}S_{bd}$ can more easily be obtained:"
      ]
    },
    {
      "cell_type": "code",
      "execution_count": 43,
      "id": "f71fdd7c",
      "metadata": {
        "execution": {
          "iopub.execute_input": "2025-02-26T08:32:43.712096Z",
          "iopub.status.busy": "2025-02-26T08:32:43.711504Z",
          "iopub.status.idle": "2025-02-26T08:32:43.717345Z",
          "shell.execute_reply": "2025-02-26T08:32:43.716951Z"
        },
        "papermill": {
          "duration": 0.02298,
          "end_time": "2025-02-26T08:32:43.718284",
          "exception": false,
          "start_time": "2025-02-26T08:32:43.695304",
          "status": "completed"
        },
        "tags": []
      },
      "outputs": [
        {
          "data": {
            "text/plain": [
              "Array([0, 1, 2, 3, 0, 1, 2, 3, 5, 4, 6, 7, 8, 9, 6, 7, 8, 9], dtype=int64)"
            ]
          },
          "execution_count": 43,
          "metadata": {},
          "output_type": "execute_result"
        }
      ],
      "source": [
        "mask = (Cj[:, None] == Si[None, :]).any(0)\n",
        "CSj = Sj[mask]\n",
        "CSj"
      ]
    },
    {
      "cell_type": "markdown",
      "id": "86928ec4-0935-4876-b0eb-bb25945e2e6b",
      "metadata": {
        "papermill": {
          "duration": 0.023626,
          "end_time": "2025-02-26T08:32:43.762685",
          "exception": false,
          "start_time": "2025-02-26T08:32:43.739059",
          "status": "completed"
        },
        "tags": []
      },
      "source": [
        "Finally, the values `CSx` of $C_{int}S_{bd}$ can be obtained as follows:"
      ]
    },
    {
      "cell_type": "code",
      "execution_count": 44,
      "id": "59d2e1b2",
      "metadata": {
        "execution": {
          "iopub.execute_input": "2025-02-26T08:32:43.812788Z",
          "iopub.status.busy": "2025-02-26T08:32:43.812512Z",
          "iopub.status.idle": "2025-02-26T08:32:43.819163Z",
          "shell.execute_reply": "2025-02-26T08:32:43.818616Z"
        },
        "papermill": {
          "duration": 0.036504,
          "end_time": "2025-02-26T08:32:43.820271",
          "exception": false,
          "start_time": "2025-02-26T08:32:43.783767",
          "status": "completed"
        },
        "tags": []
      },
      "outputs": [
        {
          "data": {
            "text/plain": [
              "Array([0.        +0.j        , 0.        +0.j        ,\n",
              "       0.70710678+0.j        , 0.        +0.70710678j,\n",
              "       0.        +0.j        , 0.        +0.j        ,\n",
              "       0.        +0.70710678j, 0.70710678+0.j        ,\n",
              "       0.5       +0.86603j   , 0.5       +0.86603j   ,\n",
              "       0.70710678+0.j        , 0.        +0.70710678j,\n",
              "       0.        +0.j        , 0.        +0.j        ,\n",
              "       0.        +0.70710678j, 0.70710678+0.j        ,\n",
              "       0.        +0.j        , 0.        +0.j        ], dtype=complex128)"
            ]
          },
          "execution_count": 44,
          "metadata": {},
          "output_type": "execute_result"
        }
      ],
      "source": [
        "CSx = Sx[..., mask]\n",
        "CSx"
      ]
    },
    {
      "cell_type": "markdown",
      "id": "85689511-e580-4e8c-93b6-3c4744624889",
      "metadata": {
        "papermill": {
          "duration": 0.024727,
          "end_time": "2025-02-26T08:32:43.868162",
          "exception": false,
          "start_time": "2025-02-26T08:32:43.843435",
          "status": "completed"
        },
        "tags": []
      },
      "source": [
        "Now we calculate $I - C_{int}S_{bd}$ in an *uncoalesced* way (we might have duplicate indices on the diagonal):\n",
        "\n",
        "> **uncoalesced**: having duplicate index combinations (i, j) in the representation possibly with different corresponding values. This is usually not a problem as in linear operations these values will end up to be summed, usually the behavior you want:"
      ]
    },
    {
      "cell_type": "code",
      "execution_count": 45,
      "id": "53c3f4ab",
      "metadata": {
        "execution": {
          "iopub.execute_input": "2025-02-26T08:32:43.917451Z",
          "iopub.status.busy": "2025-02-26T08:32:43.917187Z",
          "iopub.status.idle": "2025-02-26T08:32:43.924656Z",
          "shell.execute_reply": "2025-02-26T08:32:43.924117Z"
        },
        "papermill": {
          "duration": 0.03408,
          "end_time": "2025-02-26T08:32:43.925753",
          "exception": false,
          "start_time": "2025-02-26T08:32:43.891673",
          "status": "completed"
        },
        "tags": []
      },
      "outputs": [
        {
          "name": "stdout",
          "output_type": "stream",
          "text": [
            "[4 4 4 4 9 9 9 9 0 8 5 5 5 5 1 1 1 1 0 1 2 3 4 5 6 7 8 9]\n",
            "[0 1 2 3 0 1 2 3 5 4 6 7 8 9 6 7 8 9 0 1 2 3 4 5 6 7 8 9]\n",
            "[-0.        -0.j         -0.        -0.j         -0.70710678-0.j\n",
            " -0.        -0.70710678j -0.        -0.j         -0.        -0.j\n",
            " -0.        -0.70710678j -0.70710678-0.j         -0.5       -0.86603j\n",
            " -0.5       -0.86603j    -0.70710678-0.j         -0.        -0.70710678j\n",
            " -0.        -0.j         -0.        -0.j         -0.        -0.70710678j\n",
            " -0.70710678-0.j         -0.        -0.j         -0.        -0.j\n",
            "  1.        +0.j          1.        +0.j          1.        +0.j\n",
            "  1.        +0.j          1.        +0.j          1.        +0.j\n",
            "  1.        +0.j          1.        +0.j          1.        +0.j\n",
            "  1.        +0.j        ]\n"
          ]
        }
      ],
      "source": [
        "I_CSi = jnp.concatenate([CSi, Ii], -1)\n",
        "I_CSj = jnp.concatenate([CSj, Ij], -1)\n",
        "I_CSx = jnp.concatenate([-CSx, Ix], -1)\n",
        "print(I_CSi)\n",
        "print(I_CSj)\n",
        "print(I_CSx)"
      ]
    },
    {
      "cell_type": "code",
      "execution_count": 46,
      "id": "188e4606",
      "metadata": {
        "execution": {
          "iopub.execute_input": "2025-02-26T08:32:43.977542Z",
          "iopub.status.busy": "2025-02-26T08:32:43.976960Z",
          "iopub.status.idle": "2025-02-26T08:32:43.980490Z",
          "shell.execute_reply": "2025-02-26T08:32:43.980026Z"
        },
        "papermill": {
          "duration": 0.031113,
          "end_time": "2025-02-26T08:32:43.981790",
          "exception": false,
          "start_time": "2025-02-26T08:32:43.950677",
          "status": "completed"
        },
        "tags": []
      },
      "outputs": [
        {
          "name": "stdout",
          "output_type": "stream",
          "text": [
            "10 4\n"
          ]
        }
      ],
      "source": [
        "n_col, n_rhs = Cext.shape\n",
        "print(n_col, n_rhs)"
      ]
    },
    {
      "cell_type": "markdown",
      "id": "f39b59a8-d495-433f-92bc-2396fb0b28f9",
      "metadata": {
        "papermill": {
          "duration": 0.029492,
          "end_time": "2025-02-26T08:32:44.041606",
          "exception": false,
          "start_time": "2025-02-26T08:32:44.012114",
          "status": "completed"
        },
        "tags": []
      },
      "source": [
        "The batch shape dimension can generally speaking be anything (in the example here 0D). We need to do the necessary reshapings to make the batch shape 1D:"
      ]
    },
    {
      "cell_type": "code",
      "execution_count": 47,
      "id": "dad259e7",
      "metadata": {
        "execution": {
          "iopub.execute_input": "2025-02-26T08:32:44.106258Z",
          "iopub.status.busy": "2025-02-26T08:32:44.105958Z",
          "iopub.status.idle": "2025-02-26T08:32:44.153315Z",
          "shell.execute_reply": "2025-02-26T08:32:44.151130Z"
        },
        "papermill": {
          "duration": 0.083109,
          "end_time": "2025-02-26T08:32:44.154811",
          "exception": false,
          "start_time": "2025-02-26T08:32:44.071702",
          "status": "completed"
        },
        "tags": []
      },
      "outputs": [
        {
          "name": "stdout",
          "output_type": "stream",
          "text": [
            "1\n"
          ]
        }
      ],
      "source": [
        "n_lhs = jnp.prod(jnp.array(batch_shape, dtype=jnp.int32))\n",
        "print(n_lhs)"
      ]
    },
    {
      "cell_type": "code",
      "execution_count": 48,
      "id": "9cf69da7",
      "metadata": {
        "execution": {
          "iopub.execute_input": "2025-02-26T08:32:44.229404Z",
          "iopub.status.busy": "2025-02-26T08:32:44.228729Z",
          "iopub.status.idle": "2025-02-26T08:32:44.233782Z",
          "shell.execute_reply": "2025-02-26T08:32:44.233154Z"
        },
        "papermill": {
          "duration": 0.037888,
          "end_time": "2025-02-26T08:32:44.234839",
          "exception": false,
          "start_time": "2025-02-26T08:32:44.196951",
          "status": "completed"
        },
        "tags": []
      },
      "outputs": [
        {
          "data": {
            "text/plain": [
              "(1, 34)"
            ]
          },
          "execution_count": 48,
          "metadata": {},
          "output_type": "execute_result"
        }
      ],
      "source": [
        "Sx = Sx.reshape(n_lhs, -1)\n",
        "Sx.shape"
      ]
    },
    {
      "cell_type": "code",
      "execution_count": 49,
      "id": "788294fa",
      "metadata": {
        "execution": {
          "iopub.execute_input": "2025-02-26T08:32:44.292838Z",
          "iopub.status.busy": "2025-02-26T08:32:44.292534Z",
          "iopub.status.idle": "2025-02-26T08:32:44.301480Z",
          "shell.execute_reply": "2025-02-26T08:32:44.298779Z"
        },
        "papermill": {
          "duration": 0.041331,
          "end_time": "2025-02-26T08:32:44.305970",
          "exception": false,
          "start_time": "2025-02-26T08:32:44.264639",
          "status": "completed"
        },
        "tags": []
      },
      "outputs": [
        {
          "data": {
            "text/plain": [
              "(1, 28)"
            ]
          },
          "execution_count": 49,
          "metadata": {},
          "output_type": "execute_result"
        }
      ],
      "source": [
        "I_CSx = I_CSx.reshape(n_lhs, -1)\n",
        "I_CSx.shape"
      ]
    },
    {
      "cell_type": "markdown",
      "id": "fface8e7-ccd3-4dd9-aa88-532c91fd34d3",
      "metadata": {
        "papermill": {
          "duration": 0.041213,
          "end_time": "2025-02-26T08:32:44.380415",
          "exception": false,
          "start_time": "2025-02-26T08:32:44.339202",
          "status": "completed"
        },
        "tags": []
      },
      "source": [
        "We're finally ready to do the most important part of the calculation, which we conveniently leave to `klujax` and `SuiteSparse`:"
      ]
    },
    {
      "cell_type": "code",
      "execution_count": 50,
      "id": "9c1d8644",
      "metadata": {
        "execution": {
          "iopub.execute_input": "2025-02-26T08:32:44.439741Z",
          "iopub.status.busy": "2025-02-26T08:32:44.439187Z",
          "iopub.status.idle": "2025-02-26T08:32:44.443360Z",
          "shell.execute_reply": "2025-02-26T08:32:44.442770Z"
        },
        "papermill": {
          "duration": 0.035282,
          "end_time": "2025-02-26T08:32:44.444460",
          "exception": false,
          "start_time": "2025-02-26T08:32:44.409178",
          "status": "completed"
        },
        "tags": []
      },
      "outputs": [],
      "source": [
        "inv_I_CS_Cext = solve_klu(I_CSi, I_CSj, I_CSx, Cext)"
      ]
    },
    {
      "cell_type": "markdown",
      "id": "0c63faff-930d-4006-aaa1-4809396f6aff",
      "metadata": {
        "papermill": {
          "duration": 0.02509,
          "end_time": "2025-02-26T08:32:44.497479",
          "exception": false,
          "start_time": "2025-02-26T08:32:44.472389",
          "status": "completed"
        },
        "tags": []
      },
      "source": [
        "one more sparse multiplication:"
      ]
    },
    {
      "cell_type": "code",
      "execution_count": 51,
      "id": "cccda072",
      "metadata": {
        "execution": {
          "iopub.execute_input": "2025-02-26T08:32:44.549974Z",
          "iopub.status.busy": "2025-02-26T08:32:44.549697Z",
          "iopub.status.idle": "2025-02-26T08:32:44.558945Z",
          "shell.execute_reply": "2025-02-26T08:32:44.558418Z"
        },
        "papermill": {
          "duration": 0.038064,
          "end_time": "2025-02-26T08:32:44.560101",
          "exception": false,
          "start_time": "2025-02-26T08:32:44.522037",
          "status": "completed"
        },
        "tags": []
      },
      "outputs": [],
      "source": [
        "S_inv_I_CS_Cext = mul_coo(Si, Sj, Sx, inv_I_CS_Cext)"
      ]
    },
    {
      "cell_type": "markdown",
      "id": "6cb6b730-eef1-41ea-a190-83be5f631dec",
      "metadata": {
        "papermill": {
          "duration": 0.027819,
          "end_time": "2025-02-26T08:32:44.629580",
          "exception": false,
          "start_time": "2025-02-26T08:32:44.601761",
          "status": "completed"
        },
        "tags": []
      },
      "source": [
        "And one more $C_{ext}$ multiplication which we do by clever indexing:"
      ]
    },
    {
      "cell_type": "code",
      "execution_count": 52,
      "id": "12ff877c",
      "metadata": {
        "execution": {
          "iopub.execute_input": "2025-02-26T08:32:44.683810Z",
          "iopub.status.busy": "2025-02-26T08:32:44.683389Z",
          "iopub.status.idle": "2025-02-26T08:32:44.691300Z",
          "shell.execute_reply": "2025-02-26T08:32:44.690804Z"
        },
        "papermill": {
          "duration": 0.036097,
          "end_time": "2025-02-26T08:32:44.692548",
          "exception": false,
          "start_time": "2025-02-26T08:32:44.656451",
          "status": "completed"
        },
        "tags": []
      },
      "outputs": [
        {
          "data": {
            "text/plain": [
              "Array([[[ 0.      +0.j      ,  0.      +0.j      , -0.25    +0.433015j,\n",
              "         -0.433015+0.75j    ],\n",
              "        [ 0.      +0.j      ,  0.      +0.j      , -0.433015+0.75j    ,\n",
              "          0.25    -0.433015j],\n",
              "        [-0.25    +0.433015j, -0.433015+0.75j    ,  0.      +0.j      ,\n",
              "          0.      +0.j      ],\n",
              "        [-0.433015+0.75j    ,  0.25    -0.433015j,  0.      +0.j      ,\n",
              "          0.      +0.j      ]]], dtype=complex128)"
            ]
          },
          "execution_count": 52,
          "metadata": {},
          "output_type": "execute_result"
        }
      ],
      "source": [
        "CextT_S_inv_I_CS_Cext = S_inv_I_CS_Cext[..., Cexti, :][..., :, Cextj]\n",
        "CextT_S_inv_I_CS_Cext"
      ]
    },
    {
      "cell_type": "markdown",
      "id": "9b046892-0c5e-466f-ae44-8c5d04763317",
      "metadata": {
        "papermill": {
          "duration": 0.023304,
          "end_time": "2025-02-26T08:32:44.740330",
          "exception": false,
          "start_time": "2025-02-26T08:32:44.717026",
          "status": "completed"
        },
        "tags": []
      },
      "source": [
        "That's it! We found the S-matrix of the circuit. We just need to reshape the batch dimension back into the matrix:"
      ]
    },
    {
      "cell_type": "code",
      "execution_count": 53,
      "id": "cbf962af",
      "metadata": {
        "execution": {
          "iopub.execute_input": "2025-02-26T08:32:44.789656Z",
          "iopub.status.busy": "2025-02-26T08:32:44.789110Z",
          "iopub.status.idle": "2025-02-26T08:32:44.797450Z",
          "shell.execute_reply": "2025-02-26T08:32:44.795810Z"
        },
        "papermill": {
          "duration": 0.037625,
          "end_time": "2025-02-26T08:32:44.800625",
          "exception": false,
          "start_time": "2025-02-26T08:32:44.763000",
          "status": "completed"
        },
        "tags": []
      },
      "outputs": [
        {
          "data": {
            "text/plain": [
              "Array([[ 0.      +0.j      ,  0.      +0.j      , -0.25    +0.433015j,\n",
              "        -0.433015+0.75j    ],\n",
              "       [ 0.      +0.j      ,  0.      +0.j      , -0.433015+0.75j    ,\n",
              "         0.25    -0.433015j],\n",
              "       [-0.25    +0.433015j, -0.433015+0.75j    ,  0.      +0.j      ,\n",
              "         0.      +0.j      ],\n",
              "       [-0.433015+0.75j    ,  0.25    -0.433015j,  0.      +0.j      ,\n",
              "         0.      +0.j      ]], dtype=complex128)"
            ]
          },
          "execution_count": 53,
          "metadata": {},
          "output_type": "execute_result"
        }
      ],
      "source": [
        "_, n, _ = CextT_S_inv_I_CS_Cext.shape\n",
        "S = CextT_S_inv_I_CS_Cext.reshape(*batch_shape, n, n)\n",
        "S"
      ]
    },
    {
      "cell_type": "markdown",
      "id": "ebc6d33d-49fe-4dfb-b166-41051a64b9fd",
      "metadata": {
        "papermill": {
          "duration": 0.026269,
          "end_time": "2025-02-26T08:32:44.877809",
          "exception": false,
          "start_time": "2025-02-26T08:32:44.851540",
          "status": "completed"
        },
        "tags": []
      },
      "source": [
        "Oh and to complete the `SDense` representation we need to specify the port map as well:"
      ]
    },
    {
      "cell_type": "code",
      "execution_count": 54,
      "id": "21098a45",
      "metadata": {
        "execution": {
          "iopub.execute_input": "2025-02-26T08:32:44.933639Z",
          "iopub.status.busy": "2025-02-26T08:32:44.933368Z",
          "iopub.status.idle": "2025-02-26T08:32:44.944370Z",
          "shell.execute_reply": "2025-02-26T08:32:44.943780Z"
        },
        "papermill": {
          "duration": 0.044667,
          "end_time": "2025-02-26T08:32:44.948785",
          "exception": false,
          "start_time": "2025-02-26T08:32:44.904118",
          "status": "completed"
        },
        "tags": []
      },
      "outputs": [
        {
          "data": {
            "text/plain": [
              "{'in0': 0, 'in1': 1, 'out0': 2, 'out1': 3}"
            ]
          },
          "execution_count": 54,
          "metadata": {},
          "output_type": "execute_result"
        }
      ],
      "source": [
        "port_map"
      ]
    },
    {
      "cell_type": "markdown",
      "id": "4297d283-33c5-4c7b-902c-cec838b90fbb",
      "metadata": {
        "papermill": {
          "duration": 0.028519,
          "end_time": "2025-02-26T08:32:45.016760",
          "exception": false,
          "start_time": "2025-02-26T08:32:44.988241",
          "status": "completed"
        },
        "tags": []
      },
      "source": [
        "### Algorithm Improvements"
      ]
    },
    {
      "cell_type": "markdown",
      "id": "94154f27-1b9a-40b2-bb24-edd357cb081d",
      "metadata": {
        "papermill": {
          "duration": 0.031515,
          "end_time": "2025-02-26T08:32:45.077359",
          "exception": false,
          "start_time": "2025-02-26T08:32:45.045844",
          "status": "completed"
        },
        "tags": []
      },
      "source": [
        "This algorithm is \n",
        "\n",
        "* very fast for large circuits \ud83d\ude42\n",
        "* jittable \ud83d\ude42\n",
        "* differentiable \ud83d\ude42\n",
        "\n",
        "This algorithm is however:\n",
        "\n",
        "* **not** GPU-compatible \ud83d\ude42\n",
        "\n",
        "There are probably still plenty of improvements possible for this algorithm:\n",
        "\n",
        "* **\u00bf** make it GPU compatible (requires making suitesparse GPU compatible... probably not gonna happen)**?**\n"
      ]
    },
    {
      "cell_type": "markdown",
      "id": "af865f32-a6a3-44c5-b4cf-08859c99c6f1",
      "metadata": {
        "papermill": {
          "duration": 0.028766,
          "end_time": "2025-02-26T08:32:45.134491",
          "exception": false,
          "start_time": "2025-02-26T08:32:45.105725",
          "status": "completed"
        },
        "tags": []
      },
      "source": [
        ":::{note}\n",
        "Since The KLU Backend is Superior to the Filipsson-Gunnar backend, SAX will default (since v0.10.0) to the KLU backend if `klujax` is installed.name1\n",
        ":::"
      ]
    },
    {
      "cell_type": "code",
      "execution_count": 55,
      "id": "13eb1ab041ded2c6",
      "metadata": {
        "execution": {
          "iopub.execute_input": "2025-02-26T08:32:45.200852Z",
          "iopub.status.busy": "2025-02-26T08:32:45.200159Z",
          "iopub.status.idle": "2025-02-26T08:32:45.203497Z",
          "shell.execute_reply": "2025-02-26T08:32:45.202903Z"
        },
        "papermill": {
          "duration": 0.034444,
          "end_time": "2025-02-26T08:32:45.204634",
          "exception": false,
          "start_time": "2025-02-26T08:32:45.170190",
          "status": "completed"
        },
        "tags": [
          "remove-cell"
        ]
      },
      "outputs": [],
      "source": []
    },
    {
      "cell_type": "markdown",
      "id": "32d1b715-7b0e-4f00-b61f-939e931178bc",
      "metadata": {
        "papermill": {
          "duration": 0.028298,
          "end_time": "2025-02-26T08:32:45.262015",
          "exception": false,
          "start_time": "2025-02-26T08:32:45.233717",
          "status": "completed"
        },
        "tags": []
      },
      "source": [
        "## Additive Backend\n",
        "\n",
        "```{eval-rst}\n",
        ".. autofunction:: sax.backends.analyze_circuit_additive\n",
        "```\n",
        "\n",
        "```{eval-rst}\n",
        ".. autofunction:: sax.backends.evaluate_circuit_additive\n",
        "```\n",
        "\n",
        "Sometimes we would like to calculate circuit path lengths or time delays within a circuit. We could obviously simulate these things with a time domain simulator, but in many cases a simple additive backend (as opposed to the default multiplicative backend) can suffice."
      ]
    },
    {
      "cell_type": "markdown",
      "id": "ab5eac26-7c71-446c-8e66-547a064f9192",
      "metadata": {
        "papermill": {
          "duration": 0.028382,
          "end_time": "2025-02-26T08:32:45.319395",
          "exception": false,
          "start_time": "2025-02-26T08:32:45.291013",
          "status": "completed"
        },
        "tags": []
      },
      "source": [
        "### Example\n",
        "\n",
        ":::{note}\n",
        "in stead of S-parameters the stypes need to contain *additive* parameters, such as length or time delay.\n",
        ":::"
      ]
    },
    {
      "cell_type": "code",
      "execution_count": 56,
      "id": "1ddc3a12-be7f-4327-be60-2a46c51bb21f",
      "metadata": {
        "execution": {
          "iopub.execute_input": "2025-02-26T08:32:45.379389Z",
          "iopub.status.busy": "2025-02-26T08:32:45.379113Z",
          "iopub.status.idle": "2025-02-26T08:32:45.408327Z",
          "shell.execute_reply": "2025-02-26T08:32:45.407668Z"
        },
        "papermill": {
          "duration": 0.061517,
          "end_time": "2025-02-26T08:32:45.409997",
          "exception": false,
          "start_time": "2025-02-26T08:32:45.348480",
          "status": "completed"
        },
        "tags": []
      },
      "outputs": [],
      "source": [
        "wg_sdict = {\n",
        "    (\"in0\", \"out0\"): jnp.array(\n",
        "        [100.0, 200.0, 300.0]\n",
        "    ),  # assume for now there are three possible paths between these two ports.\n",
        "    (\"out0\", \"in0\"): jnp.array(\n",
        "        [100.0, 200.0, 300.0]\n",
        "    ),  # assume for now there are three possible paths between these two ports.\n",
        "}\n",
        "\n",
        "dc_sdict = {\n",
        "    (\"in0\", \"out0\"): jnp.array(\n",
        "        [10.0, 20.0]\n",
        "    ),  # assume for now there are two possible paths between these two ports.\n",
        "    (\"in0\", \"out1\"): 15.0,\n",
        "    (\"in1\", \"out0\"): 15.0,\n",
        "    (\"in1\", \"out1\"): jnp.array(\n",
        "        [10.0, 20.0]\n",
        "    ),  # assume for now there are two possible paths between these two ports.\n",
        "}\n",
        "\n",
        "instances = {\n",
        "    \"dc1\": {\"component\": \"dc\"},\n",
        "    \"wg\": {\"component\": \"wg\"},\n",
        "    \"dc2\": {\"component\": \"dc\"},\n",
        "}\n",
        "connections = {\n",
        "    \"dc1,out0\": \"wg,in0\",\n",
        "    \"wg,out0\": \"dc2,in0\",\n",
        "    \"dc1,out1\": \"dc2,in1\",\n",
        "}\n",
        "ports = {\n",
        "    \"in0\": \"dc1,in0\",\n",
        "    \"in1\": \"dc1,in1\",\n",
        "    \"out0\": \"dc2,out0\",\n",
        "    \"out1\": \"dc2,out1\",\n",
        "}\n",
        "models = {\n",
        "    \"wg\": lambda: wg_sdict,\n",
        "    \"dc\": lambda: dc_sdense,\n",
        "}"
      ]
    },
    {
      "cell_type": "markdown",
      "id": "c6847c46-6c4a-4b55-899c-55925dfe6538",
      "metadata": {
        "papermill": {
          "duration": 0.031589,
          "end_time": "2025-02-26T08:32:45.470805",
          "exception": false,
          "start_time": "2025-02-26T08:32:45.439216",
          "status": "completed"
        },
        "tags": []
      },
      "source": [
        ":::{note}\n",
        "it is recommended to **not** use an `SDense` representation for the additive backend. Very often an `SDense` representation will introduce **zeros** which will be interpreted as an **existing connection with zero length**. Conversely, in a sparse representation like `SDict` or `SCoo`, non-existing elements will be just that: they will not be present in the internal graph.\n",
        ":::"
      ]
    },
    {
      "cell_type": "code",
      "execution_count": 57,
      "id": "e9cecb32-f18f-4c48-a2cb-ed92102c9fdc",
      "metadata": {
        "execution": {
          "iopub.execute_input": "2025-02-26T08:32:45.530725Z",
          "iopub.status.busy": "2025-02-26T08:32:45.530431Z",
          "iopub.status.idle": "2025-02-26T08:32:45.637175Z",
          "shell.execute_reply": "2025-02-26T08:32:45.636152Z"
        },
        "papermill": {
          "duration": 0.140182,
          "end_time": "2025-02-26T08:32:45.640230",
          "exception": false,
          "start_time": "2025-02-26T08:32:45.500048",
          "status": "completed"
        },
        "tags": []
      },
      "outputs": [
        {
          "name": "stderr",
          "output_type": "stream",
          "text": [
            "/home/runner/work/sax/sax/.venv/lib/python3.12/site-packages/jax/_src/numpy/lax_numpy.py:5653: ComplexWarning: Casting complex values to real discards the imaginary part\n",
            "  out_array: Array = lax_internal._convert_element_type(\n"
          ]
        },
        {
          "data": {
            "text/plain": [
              "[(('dc1', 'out0'),\n",
              "  ('wg', 'in0'),\n",
              "  {'type': 'C', 'length': Array([0.], dtype=float64)}),\n",
              " (('wg', 'out0'),\n",
              "  ('dc2', 'in0'),\n",
              "  {'type': 'C', 'length': Array([0.], dtype=float64)}),\n",
              " (('dc1', 'out1'),\n",
              "  ('dc2', 'in1'),\n",
              "  {'type': 'C', 'length': Array([0.], dtype=float64)}),\n",
              " (('wg', 'in0'),\n",
              "  ('dc1', 'out0'),\n",
              "  {'type': 'C', 'length': Array([0.], dtype=float64)}),\n",
              " (('dc2', 'in0'),\n",
              "  ('wg', 'out0'),\n",
              "  {'type': 'C', 'length': Array([0.], dtype=float64)}),\n",
              " (('dc2', 'in1'),\n",
              "  ('dc1', 'out1'),\n",
              "  {'type': 'C', 'length': Array([0.], dtype=float64)}),\n",
              " (('', 'in0'),\n",
              "  ('dc1', 'in0'),\n",
              "  {'type': 'C', 'length': Array([0.], dtype=float64)}),\n",
              " (('', 'in1'),\n",
              "  ('dc1', 'in1'),\n",
              "  {'type': 'C', 'length': Array([0.], dtype=float64)}),\n",
              " (('', 'out0'),\n",
              "  ('dc2', 'out0'),\n",
              "  {'type': 'C', 'length': Array([0.], dtype=float64)}),\n",
              " (('', 'out1'),\n",
              "  ('dc2', 'out1'),\n",
              "  {'type': 'C', 'length': Array([0.], dtype=float64)}),\n",
              " (('dc1', 'in0'),\n",
              "  ('', 'in0'),\n",
              "  {'type': 'C', 'length': Array([0.], dtype=float64)}),\n",
              " (('dc1', 'in1'),\n",
              "  ('', 'in1'),\n",
              "  {'type': 'C', 'length': Array([0.], dtype=float64)}),\n",
              " (('dc2', 'out0'),\n",
              "  ('', 'out0'),\n",
              "  {'type': 'C', 'length': Array([0.], dtype=float64)}),\n",
              " (('dc2', 'out1'),\n",
              "  ('', 'out1'),\n",
              "  {'type': 'C', 'length': Array([0.], dtype=float64)}),\n",
              " (('dc1', 'out0'),\n",
              "  ('dc1', 'out0'),\n",
              "  {'type': 'S', 'length': Array([0.], dtype=float64)}),\n",
              " (('dc1', 'out0'),\n",
              "  ('dc1', 'out1'),\n",
              "  {'type': 'S', 'length': Array([0.], dtype=float64)}),\n",
              " (('dc1', 'out0'),\n",
              "  ('dc1', 'in0'),\n",
              "  {'type': 'S', 'length': Array([0.70710678], dtype=float64)}),\n",
              " (('dc1', 'out0'),\n",
              "  ('dc1', 'in1'),\n",
              "  {'type': 'S', 'length': Array([0.], dtype=float64)}),\n",
              " (('dc1', 'out1'),\n",
              "  ('dc1', 'out0'),\n",
              "  {'type': 'S', 'length': Array([0.], dtype=float64)}),\n",
              " (('dc1', 'out1'),\n",
              "  ('dc1', 'out1'),\n",
              "  {'type': 'S', 'length': Array([0.], dtype=float64)}),\n",
              " (('dc1', 'out1'),\n",
              "  ('dc1', 'in0'),\n",
              "  {'type': 'S', 'length': Array([0.], dtype=float64)}),\n",
              " (('dc1', 'out1'),\n",
              "  ('dc1', 'in1'),\n",
              "  {'type': 'S', 'length': Array([0.70710678], dtype=float64)}),\n",
              " (('dc1', 'in0'),\n",
              "  ('dc1', 'out0'),\n",
              "  {'type': 'S', 'length': Array([0.70710678], dtype=float64)}),\n",
              " (('dc1', 'in0'),\n",
              "  ('dc1', 'out1'),\n",
              "  {'type': 'S', 'length': Array([0.], dtype=float64)}),\n",
              " (('dc1', 'in0'),\n",
              "  ('dc1', 'in0'),\n",
              "  {'type': 'S', 'length': Array([0.], dtype=float64)}),\n",
              " (('dc1', 'in0'),\n",
              "  ('dc1', 'in1'),\n",
              "  {'type': 'S', 'length': Array([0.], dtype=float64)}),\n",
              " (('dc1', 'in1'),\n",
              "  ('dc1', 'out0'),\n",
              "  {'type': 'S', 'length': Array([0.], dtype=float64)}),\n",
              " (('dc1', 'in1'),\n",
              "  ('dc1', 'out1'),\n",
              "  {'type': 'S', 'length': Array([0.70710678], dtype=float64)}),\n",
              " (('dc1', 'in1'),\n",
              "  ('dc1', 'in0'),\n",
              "  {'type': 'S', 'length': Array([0.], dtype=float64)}),\n",
              " (('dc1', 'in1'),\n",
              "  ('dc1', 'in1'),\n",
              "  {'type': 'S', 'length': Array([0.], dtype=float64)}),\n",
              " (('wg', 'in0'),\n",
              "  ('wg', 'out0'),\n",
              "  {'type': 'S', 'length': Array([100., 200., 300.], dtype=float64)}),\n",
              " (('wg', 'out0'),\n",
              "  ('wg', 'in0'),\n",
              "  {'type': 'S', 'length': Array([100., 200., 300.], dtype=float64)}),\n",
              " (('dc2', 'out0'),\n",
              "  ('dc2', 'out0'),\n",
              "  {'type': 'S', 'length': Array([0.], dtype=float64)}),\n",
              " (('dc2', 'out0'),\n",
              "  ('dc2', 'out1'),\n",
              "  {'type': 'S', 'length': Array([0.], dtype=float64)}),\n",
              " (('dc2', 'out0'),\n",
              "  ('dc2', 'in0'),\n",
              "  {'type': 'S', 'length': Array([0.70710678], dtype=float64)}),\n",
              " (('dc2', 'out0'),\n",
              "  ('dc2', 'in1'),\n",
              "  {'type': 'S', 'length': Array([0.], dtype=float64)}),\n",
              " (('dc2', 'out1'),\n",
              "  ('dc2', 'out0'),\n",
              "  {'type': 'S', 'length': Array([0.], dtype=float64)}),\n",
              " (('dc2', 'out1'),\n",
              "  ('dc2', 'out1'),\n",
              "  {'type': 'S', 'length': Array([0.], dtype=float64)}),\n",
              " (('dc2', 'out1'),\n",
              "  ('dc2', 'in0'),\n",
              "  {'type': 'S', 'length': Array([0.], dtype=float64)}),\n",
              " (('dc2', 'out1'),\n",
              "  ('dc2', 'in1'),\n",
              "  {'type': 'S', 'length': Array([0.70710678], dtype=float64)}),\n",
              " (('dc2', 'in0'),\n",
              "  ('dc2', 'out0'),\n",
              "  {'type': 'S', 'length': Array([0.70710678], dtype=float64)}),\n",
              " (('dc2', 'in0'),\n",
              "  ('dc2', 'out1'),\n",
              "  {'type': 'S', 'length': Array([0.], dtype=float64)}),\n",
              " (('dc2', 'in0'),\n",
              "  ('dc2', 'in0'),\n",
              "  {'type': 'S', 'length': Array([0.], dtype=float64)}),\n",
              " (('dc2', 'in0'),\n",
              "  ('dc2', 'in1'),\n",
              "  {'type': 'S', 'length': Array([0.], dtype=float64)}),\n",
              " (('dc2', 'in1'),\n",
              "  ('dc2', 'out0'),\n",
              "  {'type': 'S', 'length': Array([0.], dtype=float64)}),\n",
              " (('dc2', 'in1'),\n",
              "  ('dc2', 'out1'),\n",
              "  {'type': 'S', 'length': Array([0.70710678], dtype=float64)}),\n",
              " (('dc2', 'in1'),\n",
              "  ('dc2', 'in0'),\n",
              "  {'type': 'S', 'length': Array([0.], dtype=float64)}),\n",
              " (('dc2', 'in1'),\n",
              "  ('dc2', 'in1'),\n",
              "  {'type': 'S', 'length': Array([0.], dtype=float64)})]"
            ]
          },
          "execution_count": 57,
          "metadata": {},
          "output_type": "execute_result"
        }
      ],
      "source": [
        "edges = sax.backends.additive._graph_edges(\n",
        "    {k: models[v[\"component\"]]() for k, v in instances.items()}, connections, ports\n",
        ")\n",
        "edges"
      ]
    },
    {
      "cell_type": "markdown",
      "id": "5dee9ce2-8ca6-4f7e-b5a3-f68f20e88adc",
      "metadata": {
        "papermill": {
          "duration": 0.03055,
          "end_time": "2025-02-26T08:32:45.701899",
          "exception": false,
          "start_time": "2025-02-26T08:32:45.671349",
          "status": "completed"
        },
        "tags": []
      },
      "source": [
        "We made a difference here between edges of 'S'-type (connections through the S-matrix) and edges of 'C'-type (connections through the connection matrix). Connections of 'C'-type obviously always have length zero as they signify per definition the equality of two ports."
      ]
    },
    {
      "cell_type": "markdown",
      "id": "23f444b0-a52b-433a-8548-4a9955dfb4fb",
      "metadata": {
        "papermill": {
          "duration": 0.029228,
          "end_time": "2025-02-26T08:32:45.761514",
          "exception": false,
          "start_time": "2025-02-26T08:32:45.732286",
          "status": "completed"
        },
        "tags": []
      },
      "source": [
        "We can create a NetworkX graph from these edges:"
      ]
    },
    {
      "cell_type": "code",
      "execution_count": 58,
      "id": "b0191057-9499-475e-a770-34e393554a94",
      "metadata": {
        "execution": {
          "iopub.execute_input": "2025-02-26T08:32:45.830703Z",
          "iopub.status.busy": "2025-02-26T08:32:45.830412Z",
          "iopub.status.idle": "2025-02-26T08:32:47.012414Z",
          "shell.execute_reply": "2025-02-26T08:32:47.009785Z"
        },
        "papermill": {
          "duration": 1.216516,
          "end_time": "2025-02-26T08:32:47.016960",
          "exception": false,
          "start_time": "2025-02-26T08:32:45.800444",
          "status": "completed"
        },
        "tags": []
      },
      "outputs": [
        {
          "data": {
            "image/png": "[encoded data removed]",
            "text/plain": [
              "<Figure size 640x480 with 1 Axes>"
            ]
          },
          "metadata": {},
          "output_type": "display_data"
        }
      ],
      "source": [
        "graph = nx.Graph()\n",
        "graph.add_edges_from(edges)\n",
        "nx.draw_kamada_kawai(graph, with_labels=True)"
      ]
    },
    {
      "cell_type": "code",
      "execution_count": 59,
      "id": "035b450d-54aa-43c5-8cc6-2b9e5e2e5021",
      "metadata": {
        "execution": {
          "iopub.execute_input": "2025-02-26T08:32:47.105520Z",
          "iopub.status.busy": "2025-02-26T08:32:47.101770Z",
          "iopub.status.idle": "2025-02-26T08:32:47.435716Z",
          "shell.execute_reply": "2025-02-26T08:32:47.435144Z"
        },
        "papermill": {
          "duration": 0.373846,
          "end_time": "2025-02-26T08:32:47.437336",
          "exception": false,
          "start_time": "2025-02-26T08:32:47.063490",
          "status": "completed"
        },
        "tags": []
      },
      "outputs": [
        {
          "data": {
            "image/png": "[encoded data removed]",
            "text/plain": [
              "<Figure size 640x480 with 1 Axes>"
            ]
          },
          "metadata": {},
          "output_type": "display_data"
        }
      ],
      "source": [
        "graph = sax.backends.additive._prune_internal_output_nodes(graph)\n",
        "nx.draw_kamada_kawai(graph, with_labels=True)"
      ]
    },
    {
      "cell_type": "markdown",
      "id": "32b7daf2-c374-4c8d-bbe5-ad39c0f9af44",
      "metadata": {
        "papermill": {
          "duration": 0.029381,
          "end_time": "2025-02-26T08:32:47.496070",
          "exception": false,
          "start_time": "2025-02-26T08:32:47.466689",
          "status": "completed"
        },
        "tags": []
      },
      "source": [
        "We can now get a list of all possible paths in the network. Note that these paths **must** alternate between an S-edge and a C-edge:"
      ]
    },
    {
      "cell_type": "code",
      "execution_count": 60,
      "id": "176ea6a5-bb16-4232-8a42-6da2371de2fe",
      "metadata": {
        "execution": {
          "iopub.execute_input": "2025-02-26T08:32:47.555016Z",
          "iopub.status.busy": "2025-02-26T08:32:47.553850Z",
          "iopub.status.idle": "2025-02-26T08:32:47.564411Z",
          "shell.execute_reply": "2025-02-26T08:32:47.563856Z"
        },
        "papermill": {
          "duration": 0.040551,
          "end_time": "2025-02-26T08:32:47.565553",
          "exception": false,
          "start_time": "2025-02-26T08:32:47.525002",
          "status": "completed"
        },
        "tags": []
      },
      "outputs": [
        {
          "data": {
            "text/plain": [
              "[[(('', 'in0'), ('dc1', 'in0')),\n",
              "  (('dc1', 'in0'), ('dc1', 'out0')),\n",
              "  (('dc1', 'out0'), ('wg', 'in0')),\n",
              "  (('wg', 'in0'), ('wg', 'out0')),\n",
              "  (('wg', 'out0'), ('dc2', 'in0')),\n",
              "  (('dc2', 'in0'), ('dc2', 'out0')),\n",
              "  (('dc2', 'out0'), ('', 'out0'))],\n",
              " [(('', 'in0'), ('dc1', 'in0')),\n",
              "  (('dc1', 'in0'), ('dc1', 'out1')),\n",
              "  (('dc1', 'out1'), ('dc2', 'in1')),\n",
              "  (('dc2', 'in1'), ('dc2', 'out0')),\n",
              "  (('dc2', 'out0'), ('', 'out0'))]]"
            ]
          },
          "execution_count": 60,
          "metadata": {},
          "output_type": "execute_result"
        }
      ],
      "source": [
        "paths = sax.backends.additive._get_possible_paths(graph, (\"\", \"in0\"), (\"\", \"out0\"))\n",
        "paths"
      ]
    },
    {
      "cell_type": "markdown",
      "id": "68766ba9-0991-45f5-aa7d-1bcca8db332d",
      "metadata": {
        "papermill": {
          "duration": 0.029224,
          "end_time": "2025-02-26T08:32:47.653836",
          "exception": false,
          "start_time": "2025-02-26T08:32:47.624612",
          "status": "completed"
        },
        "tags": []
      },
      "source": [
        "And the path lengths of those paths can be calculated as follows:"
      ]
    },
    {
      "cell_type": "code",
      "execution_count": 61,
      "id": "c3063587-c9aa-4b26-ae70-4b9b770f33ae",
      "metadata": {
        "execution": {
          "iopub.execute_input": "2025-02-26T08:32:47.710573Z",
          "iopub.status.busy": "2025-02-26T08:32:47.710181Z",
          "iopub.status.idle": "2025-02-26T08:32:47.841994Z",
          "shell.execute_reply": "2025-02-26T08:32:47.841556Z"
        },
        "papermill": {
          "duration": 0.161741,
          "end_time": "2025-02-26T08:32:47.843250",
          "exception": false,
          "start_time": "2025-02-26T08:32:47.681509",
          "status": "completed"
        },
        "tags": []
      },
      "outputs": [
        {
          "data": {
            "text/plain": [
              "[Array([101.41421356, 201.41421356, 301.41421356], dtype=float64),\n",
              " Array([0.], dtype=float64)]"
            ]
          },
          "execution_count": 61,
          "metadata": {},
          "output_type": "execute_result"
        }
      ],
      "source": [
        "sax.backends.additive._path_lengths(graph, paths)"
      ]
    },
    {
      "cell_type": "markdown",
      "id": "95f6d1e0-ef8f-4394-a9b1-b8cbdfb6051e",
      "metadata": {
        "papermill": {
          "duration": 0.027485,
          "end_time": "2025-02-26T08:32:47.896450",
          "exception": false,
          "start_time": "2025-02-26T08:32:47.868965",
          "status": "completed"
        },
        "tags": []
      },
      "source": [
        "This is all brought together in the additive KLU backend:"
      ]
    },
    {
      "cell_type": "code",
      "execution_count": 62,
      "id": "72f14aaa-a682-4734-beb9-5e0e89b960c3",
      "metadata": {
        "execution": {
          "iopub.execute_input": "2025-02-26T08:32:47.958221Z",
          "iopub.status.busy": "2025-02-26T08:32:47.957890Z",
          "iopub.status.idle": "2025-02-26T08:32:48.091265Z",
          "shell.execute_reply": "2025-02-26T08:32:48.088683Z"
        },
        "papermill": {
          "duration": 0.167581,
          "end_time": "2025-02-26T08:32:48.092497",
          "exception": false,
          "start_time": "2025-02-26T08:32:47.924916",
          "status": "completed"
        },
        "tags": []
      },
      "outputs": [
        {
          "name": "stderr",
          "output_type": "stream",
          "text": [
            "/home/runner/work/sax/sax/.venv/lib/python3.12/site-packages/jax/_src/numpy/lax_numpy.py:5653: ComplexWarning: Casting complex values to real discards the imaginary part\n",
            "  out_array: Array = lax_internal._convert_element_type(\n"
          ]
        },
        {
          "data": {
            "text/plain": [
              "{('in0', 'in0'): [Array([0.], dtype=float64)],\n",
              " ('in0',\n",
              "  'in1'): [Array([101.41421356, 201.41421356, 301.41421356], dtype=float64), Array([100., 200., 300.], dtype=float64), Array([0.], dtype=float64)],\n",
              " ('in0',\n",
              "  'out0'): [Array([101.41421356, 201.41421356, 301.41421356], dtype=float64), Array([0.], dtype=float64)],\n",
              " ('in0',\n",
              "  'out1'): [Array([100.70710678, 200.70710678, 300.70710678], dtype=float64), Array([0.70710678], dtype=float64)],\n",
              " ('in1', 'in0'): [Array([100., 200., 300.], dtype=float64),\n",
              "  Array([101.41421356, 201.41421356, 301.41421356], dtype=float64),\n",
              "  Array([0.], dtype=float64)],\n",
              " ('in1', 'in1'): [Array([0.], dtype=float64)],\n",
              " ('in1',\n",
              "  'out0'): [Array([100.70710678, 200.70710678, 300.70710678], dtype=float64), Array([0.70710678], dtype=float64)],\n",
              " ('in1', 'out1'): [Array([100., 200., 300.], dtype=float64),\n",
              "  Array([1.41421356], dtype=float64)],\n",
              " ('out0',\n",
              "  'in0'): [Array([101.41421356, 201.41421356, 301.41421356], dtype=float64), Array([0.], dtype=float64)],\n",
              " ('out0',\n",
              "  'in1'): [Array([100.70710678, 200.70710678, 300.70710678], dtype=float64), Array([0.70710678], dtype=float64)],\n",
              " ('out0', 'out0'): [Array([0.], dtype=float64)],\n",
              " ('out0', 'out1'): [Array([0.], dtype=float64),\n",
              "  Array([101.41421356, 201.41421356, 301.41421356], dtype=float64),\n",
              "  Array([100., 200., 300.], dtype=float64)],\n",
              " ('out1',\n",
              "  'in0'): [Array([100.70710678, 200.70710678, 300.70710678], dtype=float64), Array([0.70710678], dtype=float64)],\n",
              " ('out1', 'in1'): [Array([100., 200., 300.], dtype=float64),\n",
              "  Array([1.41421356], dtype=float64)],\n",
              " ('out1', 'out0'): [Array([0.], dtype=float64),\n",
              "  Array([100., 200., 300.], dtype=float64),\n",
              "  Array([101.41421356, 201.41421356, 301.41421356], dtype=float64)],\n",
              " ('out1', 'out1'): [Array([0.], dtype=float64)]}"
            ]
          },
          "execution_count": 62,
          "metadata": {},
          "output_type": "execute_result"
        }
      ],
      "source": [
        "analyzed_instances = sax.backends.analyze_instances_additive(instances, models)\n",
        "analyzed_circuit = sax.backends.analyze_circuit_additive(\n",
        "    analyzed_instances, connections, ports\n",
        ")\n",
        "sax.backends.evaluate_circuit_additive(\n",
        "    analyzed_circuit, {k: models[v[\"component\"]]() for k, v in instances.items()}\n",
        ")"
      ]
    }
  ],
  "metadata": {
    "kernelspec": {
      "display_name": "Python 3 (ipykernel)",
      "language": "python",
      "name": "python3"
    },
    "language_info": {
      "codemirror_mode": {
        "name": "ipython",
        "version": 3
      },
      "file_extension": ".py",
      "mimetype": "text/x-python",
      "name": "python",
      "nbconvert_exporter": "python",
      "pygments_lexer": "ipython3",
      "version": "3.12.3"
    },
    "papermill": {
      "default_parameters": {},
      "duration": 20.994054,
      "end_time": "2025-02-26T08:32:49.107197",
      "environment_variables": {},
      "exception": null,
      "input_path": "./internals/03_backends.ipynb",
      "output_path": "./internals/03_backends.ipynb",
      "parameters": {},
      "start_time": "2025-02-26T08:32:28.113143",
      "version": "2.6.0"
    }
  },
  "nbformat": 4,
  "nbformat_minor": 5
}