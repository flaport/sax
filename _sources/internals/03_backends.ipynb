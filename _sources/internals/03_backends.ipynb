{
  "cells": [
    {
      "cell_type": "markdown",
      "id": "41e0d311",
      "metadata": {
        "papermill": {
          "duration": 0.013161,
          "end_time": "2024-06-17T20:08:33.961158",
          "exception": false,
          "start_time": "2024-06-17T20:08:33.947997",
          "status": "completed"
        },
        "tags": []
      },
      "source": [
        "# Backends\n",
        "\n",
        "> SAX Backends"
      ]
    },
    {
      "cell_type": "code",
      "execution_count": 1,
      "id": "38d7e3b6-83cb-4768-8401-075260456fc9",
      "metadata": {
        "execution": {
          "iopub.execute_input": "2024-06-17T20:08:33.986104Z",
          "iopub.status.busy": "2024-06-17T20:08:33.985663Z",
          "iopub.status.idle": "2024-06-17T20:08:34.827286Z",
          "shell.execute_reply": "2024-06-17T20:08:34.826672Z"
        },
        "papermill": {
          "duration": 0.855916,
          "end_time": "2024-06-17T20:08:34.828797",
          "exception": false,
          "start_time": "2024-06-17T20:08:33.972881",
          "status": "completed"
        },
        "tags": []
      },
      "outputs": [],
      "source": [
        "import jax\n",
        "import jax.numpy as jnp\n",
        "import klujax\n",
        "import networkx as nx\n",
        "import sax"
      ]
    },
    {
      "cell_type": "markdown",
      "id": "ac34f260-6473-4484-a2ad-dc38e3f37c46",
      "metadata": {
        "papermill": {
          "duration": 0.01172,
          "end_time": "2024-06-17T20:08:34.852702",
          "exception": false,
          "start_time": "2024-06-17T20:08:34.840982",
          "status": "completed"
        },
        "tags": []
      },
      "source": [
        "## Introduction"
      ]
    },
    {
      "cell_type": "markdown",
      "id": "fbb157f0-f28b-47fc-a734-fb7181207487",
      "metadata": {
        "papermill": {
          "duration": 0.011629,
          "end_time": "2024-06-17T20:08:34.893177",
          "exception": false,
          "start_time": "2024-06-17T20:08:34.881548",
          "status": "completed"
        },
        "tags": []
      },
      "source": [
        "SAX allows to easily interchange the backend of a circuit. A SAX backend consists of two static analysis steps and an evaluation step:\n",
        "\n",
        "```{eval-rst}\n",
        ".. autofunction:: sax.backends.analyze_instances\n",
        "```\n",
        "\n",
        "```{eval-rst}\n",
        ".. autofunction:: sax.backends.analyze_circuit\n",
        "```\n",
        "\n",
        "```{eval-rst}\n",
        ".. autofunction:: sax.backends.evaluate_circuit\n",
        "```"
      ]
    },
    {
      "cell_type": "markdown",
      "id": "26efaa95-54e4-4f31-8ea8-0139a470fa74",
      "metadata": {
        "papermill": {
          "duration": 0.011404,
          "end_time": "2024-06-17T20:08:34.916092",
          "exception": false,
          "start_time": "2024-06-17T20:08:34.904688",
          "status": "completed"
        },
        "tags": []
      },
      "source": [
        "The `analyze_instances` step analyzes the 'shape' of the instances by running each model with default parameters. By shape we mean which port-combinations are present in the sparse S-matrix.\n",
        "\n",
        ":::{warning}\n",
        "QUESTION: can we do this more efficiently in a functional way?\n",
        ":::\n",
        "\n",
        "After analyzing the instances, it is assumed that the shape of the instance won't change any more. **It is therefore important that you write your model functions in such a way that the port combinations present in your s-matrix *never* changes!**\n",
        "\n",
        ":::{note}\n",
        "we used to do this analysis step in `analyze_circuit` by just looking at the connections present. However, this inherently assumed dense connectivity within the model. This is pretty inefficient for large sparse models with many ports. Ideally, however, we should be able to analyze the shape of our instances without running their models with default parameters...\n",
        ":::"
      ]
    },
    {
      "cell_type": "markdown",
      "id": "25d158f3-941f-44bb-bcfd-c90344bb3778",
      "metadata": {
        "papermill": {
          "duration": 0.01145,
          "end_time": "2024-06-17T20:08:34.939217",
          "exception": false,
          "start_time": "2024-06-17T20:08:34.927767",
          "status": "completed"
        },
        "tags": []
      },
      "source": [
        "The `analyze_circuit` step should statically analyze the connections and ports and should return an `analyzed` object. This object contains all the static objects that are needed for circuit computation but won't be recalculated when any parameters of the circuit change. See KLU Backend (below) for a non-trivial implementation of the circuit analyzation.\n",
        "\n",
        "The `evaluate_circuit` step evaluates the circuit for given `SType` instances, given whatever analysis object was returned from the `analyze_circuit` step and the instance `SType`s."
      ]
    },
    {
      "cell_type": "markdown",
      "id": "fbeef854-b3a4-4f39-9ffb-238f5d331c03",
      "metadata": {
        "papermill": {
          "duration": 0.01152,
          "end_time": "2024-06-17T20:08:34.962370",
          "exception": false,
          "start_time": "2024-06-17T20:08:34.950850",
          "status": "completed"
        },
        "tags": []
      },
      "source": [
        "## Example"
      ]
    },
    {
      "cell_type": "code",
      "execution_count": 2,
      "id": "e52daa7d-e73c-4bb3-8051-ae8836337a6a",
      "metadata": {
        "execution": {
          "iopub.execute_input": "2024-06-17T20:08:34.987132Z",
          "iopub.status.busy": "2024-06-17T20:08:34.986488Z",
          "iopub.status.idle": "2024-06-17T20:08:35.908584Z",
          "shell.execute_reply": "2024-06-17T20:08:35.907983Z"
        },
        "papermill": {
          "duration": 0.935863,
          "end_time": "2024-06-17T20:08:35.909728",
          "exception": false,
          "start_time": "2024-06-17T20:08:34.973865",
          "status": "completed"
        },
        "tags": []
      },
      "outputs": [
        {
          "data": {
            "text/plain": [
              "{('in0', 'in0'): Array(0.+0.j, dtype=complex128),\n",
              " ('in0', 'in1'): Array(0.+0.j, dtype=complex128),\n",
              " ('in0', 'out0'): Array(-0.25+0.433015j, dtype=complex128),\n",
              " ('in0', 'out1'): Array(-0.433015+0.75j, dtype=complex128),\n",
              " ('in1', 'in0'): Array(0.+0.j, dtype=complex128),\n",
              " ('in1', 'in1'): Array(0.+0.j, dtype=complex128),\n",
              " ('in1', 'out0'): Array(-0.433015+0.75j, dtype=complex128),\n",
              " ('in1', 'out1'): Array(0.25-0.433015j, dtype=complex128),\n",
              " ('out0', 'in0'): Array(-0.25+0.433015j, dtype=complex128),\n",
              " ('out0', 'in1'): Array(-0.433015+0.75j, dtype=complex128),\n",
              " ('out0', 'out0'): Array(0.+0.j, dtype=complex128),\n",
              " ('out0', 'out1'): Array(0.+0.j, dtype=complex128),\n",
              " ('out1', 'in0'): Array(-0.433015+0.75j, dtype=complex128),\n",
              " ('out1', 'in1'): Array(0.25-0.433015j, dtype=complex128),\n",
              " ('out1', 'out0'): Array(0.+0.j, dtype=complex128),\n",
              " ('out1', 'out1'): Array(0.+0.j, dtype=complex128)}"
            ]
          },
          "execution_count": 2,
          "metadata": {},
          "output_type": "execute_result"
        }
      ],
      "source": [
        "wg_sdict: sax.SDict = {\n",
        "    (\"in0\", \"out0\"): 0.5 + 0.86603j,\n",
        "    (\"out0\", \"in0\"): 0.5 + 0.86603j,\n",
        "}\n",
        "\n",
        "\u03c4, \u03ba = 0.5**0.5, 1j * 0.5**0.5\n",
        "dc_sdense: sax.SDense = (\n",
        "    jnp.array([[0, 0, \u03c4, \u03ba], [0, 0, \u03ba, \u03c4], [\u03c4, \u03ba, 0, 0], [\u03ba, \u03c4, 0, 0]]),\n",
        "    {\"in0\": 0, \"in1\": 1, \"out0\": 2, \"out1\": 3},\n",
        ")\n",
        "\n",
        "instances = {\n",
        "    \"dc1\": {\"component\": \"dc\"},\n",
        "    \"wg\": {\"component\": \"wg\"},\n",
        "    \"dc2\": {\"component\": \"dc\"},\n",
        "}\n",
        "connections = {\n",
        "    \"dc1,out0\": \"wg,in0\",\n",
        "    \"wg,out0\": \"dc2,in0\",\n",
        "    \"dc1,out1\": \"dc2,in1\",\n",
        "}\n",
        "ports = {\n",
        "    \"in0\": \"dc1,in0\",\n",
        "    \"in1\": \"dc1,in1\",\n",
        "    \"out0\": \"dc2,out0\",\n",
        "    \"out1\": \"dc2,out1\",\n",
        "}\n",
        "models = {\n",
        "    \"wg\": lambda: wg_sdict,\n",
        "    \"dc\": lambda: dc_sdense,\n",
        "}\n",
        "\n",
        "analyzed_instances = sax.backends.analyze_instances(instances, models)\n",
        "analyzed_circuit = sax.backends.analyze_circuit(analyzed_instances, connections, ports)\n",
        "mzi_sdict = sax.sdict(\n",
        "    sax.backends.evaluate_circuit(\n",
        "        analyzed_circuit, {k: models[v[\"component\"]]() for k, v in instances.items()}\n",
        "    )\n",
        ")\n",
        "mzi_sdict"
      ]
    },
    {
      "cell_type": "markdown",
      "id": "691fd6a9-fd55-4e83-bb9e-aa93e9a23378",
      "metadata": {
        "papermill": {
          "duration": 0.011747,
          "end_time": "2024-06-17T20:08:35.933622",
          "exception": false,
          "start_time": "2024-06-17T20:08:35.921875",
          "status": "completed"
        },
        "tags": []
      },
      "source": [
        "## Filipsson-Gunnar Backend"
      ]
    },
    {
      "cell_type": "markdown",
      "id": "b5426e1b-2179-4a1c-b796-c96155575f17",
      "metadata": {
        "papermill": {
          "duration": 0.011622,
          "end_time": "2024-06-17T20:08:35.956787",
          "exception": false,
          "start_time": "2024-06-17T20:08:35.945165",
          "status": "completed"
        },
        "tags": []
      },
      "source": [
        ":::{note}\n",
        "Since The KLU Backend (see below) is Superior to the Filipsson-Gunnar backend, SAX will default (since v0.10.0) to the KLU backend if `klujax` is installed.name1\n",
        ":::"
      ]
    },
    {
      "cell_type": "markdown",
      "id": "024f9283-15fa-46b6-80c8-c594f6437da7",
      "metadata": {
        "papermill": {
          "duration": 0.011511,
          "end_time": "2024-06-17T20:08:35.979879",
          "exception": false,
          "start_time": "2024-06-17T20:08:35.968368",
          "status": "completed"
        },
        "tags": []
      },
      "source": [
        "The Filipsson-Gunnar backend is based on the following paper:\n",
        "\n",
        "> Filipsson, Gunnar. \"*A new general computer algorithm for S-matrix calculation of interconnected multiports.*\" 11th European Microwave Conference. IEEE, 1981.\n",
        "\n",
        "```{eval-rst}\n",
        ".. autofunction:: sax.backends.analyze_circuit_fg\n",
        "```\n",
        "\n",
        "```{eval-rst}\n",
        ".. autofunction:: sax.backends.evaluate_circuit_fg\n",
        "```"
      ]
    },
    {
      "cell_type": "markdown",
      "id": "9d4585be-7692-491f-8de6-9802435bec5c",
      "metadata": {
        "papermill": {
          "duration": 0.011503,
          "end_time": "2024-06-17T20:08:36.003019",
          "exception": false,
          "start_time": "2024-06-17T20:08:35.991516",
          "status": "completed"
        },
        "tags": []
      },
      "source": [
        "### Algorithm Walkthrough"
      ]
    },
    {
      "cell_type": "markdown",
      "id": "48950a3d",
      "metadata": {
        "papermill": {
          "duration": 0.011478,
          "end_time": "2024-06-17T20:08:36.025975",
          "exception": false,
          "start_time": "2024-06-17T20:08:36.014497",
          "status": "completed"
        },
        "tags": []
      },
      "source": [
        ":::{note}\n",
        "This algorithm gets pretty slow for large circuits. Since SAX v0.10.0 we will default to the superior KLU backend as the KLU backend is now also jittable.\n",
        ":::"
      ]
    },
    {
      "cell_type": "markdown",
      "id": "81e28766",
      "metadata": {
        "papermill": {
          "duration": 0.011734,
          "end_time": "2024-06-17T20:08:36.049485",
          "exception": false,
          "start_time": "2024-06-17T20:08:36.037751",
          "status": "completed"
        },
        "tags": []
      },
      "source": [
        "Let's walk through all the steps of this algorithm. We'll do this for a simple MZI circuit, given by two directional couplers characterised by `dc_sdense` with a phase shifting waveguide in between `wg_sdict`:"
      ]
    },
    {
      "cell_type": "code",
      "execution_count": 3,
      "id": "e2bdfbf4",
      "metadata": {
        "execution": {
          "iopub.execute_input": "2024-06-17T20:08:36.074280Z",
          "iopub.status.busy": "2024-06-17T20:08:36.073727Z",
          "iopub.status.idle": "2024-06-17T20:08:36.077198Z",
          "shell.execute_reply": "2024-06-17T20:08:36.076724Z"
        },
        "papermill": {
          "duration": 0.017155,
          "end_time": "2024-06-17T20:08:36.078294",
          "exception": false,
          "start_time": "2024-06-17T20:08:36.061139",
          "status": "completed"
        },
        "tags": []
      },
      "outputs": [],
      "source": [
        "instances = {\n",
        "    \"dc1\": dc_sdense,\n",
        "    \"wg\": wg_sdict,\n",
        "    \"dc2\": dc_sdense,\n",
        "}\n",
        "connections = {\n",
        "    \"dc1,out0\": \"wg,in0\",\n",
        "    \"wg,out0\": \"dc2,in0\",\n",
        "    \"dc1,out1\": \"dc2,in1\",\n",
        "}\n",
        "ports = {\n",
        "    \"in0\": \"dc1,in0\",\n",
        "    \"in1\": \"dc1,in1\",\n",
        "    \"out0\": \"dc2,out0\",\n",
        "    \"out1\": \"dc2,out1\",\n",
        "}"
      ]
    },
    {
      "cell_type": "markdown",
      "id": "6ef72161",
      "metadata": {
        "papermill": {
          "duration": 0.011582,
          "end_time": "2024-06-17T20:08:36.101647",
          "exception": false,
          "start_time": "2024-06-17T20:08:36.090065",
          "status": "completed"
        },
        "tags": []
      },
      "source": [
        "as a first step, we construct the `reversed_ports`, it's actually easier to work with `reversed_ports` (we chose the opposite convention in the netlist definition to adhere to the GDSFactory netlist convention):"
      ]
    },
    {
      "cell_type": "code",
      "execution_count": 4,
      "id": "70302612",
      "metadata": {
        "execution": {
          "iopub.execute_input": "2024-06-17T20:08:36.126399Z",
          "iopub.status.busy": "2024-06-17T20:08:36.125965Z",
          "iopub.status.idle": "2024-06-17T20:08:36.129092Z",
          "shell.execute_reply": "2024-06-17T20:08:36.128612Z"
        },
        "papermill": {
          "duration": 0.016874,
          "end_time": "2024-06-17T20:08:36.130245",
          "exception": false,
          "start_time": "2024-06-17T20:08:36.113371",
          "status": "completed"
        },
        "tags": []
      },
      "outputs": [],
      "source": [
        "reversed_ports = {v: k for k, v in ports.items()}"
      ]
    },
    {
      "cell_type": "markdown",
      "id": "78676045",
      "metadata": {
        "papermill": {
          "duration": 0.011915,
          "end_time": "2024-06-17T20:08:36.154150",
          "exception": false,
          "start_time": "2024-06-17T20:08:36.142235",
          "status": "completed"
        },
        "tags": []
      },
      "source": [
        "The first real step of the algorithm is to create the 'block diagonal sdict`:"
      ]
    },
    {
      "cell_type": "code",
      "execution_count": 5,
      "id": "0ff6149f",
      "metadata": {
        "execution": {
          "iopub.execute_input": "2024-06-17T20:08:36.179470Z",
          "iopub.status.busy": "2024-06-17T20:08:36.179023Z",
          "iopub.status.idle": "2024-06-17T20:08:36.195287Z",
          "shell.execute_reply": "2024-06-17T20:08:36.194833Z"
        },
        "papermill": {
          "duration": 0.030577,
          "end_time": "2024-06-17T20:08:36.196519",
          "exception": false,
          "start_time": "2024-06-17T20:08:36.165942",
          "status": "completed"
        },
        "tags": []
      },
      "outputs": [],
      "source": [
        "block_diag = {}\n",
        "for name, S in instances.items():\n",
        "    block_diag.update(\n",
        "        {(f\"{name},{p1}\", f\"{name},{p2}\"): v for (p1, p2), v in sax.sdict(S).items()}\n",
        "    )"
      ]
    },
    {
      "cell_type": "markdown",
      "id": "c4721548",
      "metadata": {
        "papermill": {
          "duration": 0.011772,
          "end_time": "2024-06-17T20:08:36.220297",
          "exception": false,
          "start_time": "2024-06-17T20:08:36.208525",
          "status": "completed"
        },
        "tags": []
      },
      "source": [
        "we can optionally filter out zeros from the resulting block_diag representation. Just note that this will make the resuling function unjittable (the resulting 'shape' (i.e. keys) of the dictionary would depend on the data itself, which is not allowed in JAX jit). We're doing it here to avoid printing zeros but **internally this is not done by default**."
      ]
    },
    {
      "cell_type": "code",
      "execution_count": 6,
      "id": "cfce53c1",
      "metadata": {
        "execution": {
          "iopub.execute_input": "2024-06-17T20:08:36.244973Z",
          "iopub.status.busy": "2024-06-17T20:08:36.244614Z",
          "iopub.status.idle": "2024-06-17T20:08:36.294335Z",
          "shell.execute_reply": "2024-06-17T20:08:36.293813Z"
        },
        "papermill": {
          "duration": 0.063308,
          "end_time": "2024-06-17T20:08:36.295535",
          "exception": false,
          "start_time": "2024-06-17T20:08:36.232227",
          "status": "completed"
        },
        "tags": []
      },
      "outputs": [
        {
          "name": "stdout",
          "output_type": "stream",
          "text": [
            "18\n"
          ]
        },
        {
          "data": {
            "text/plain": [
              "{('dc1,in0', 'dc1,out0'): Array(0.70710678+0.j, dtype=complex128),\n",
              " ('dc1,in0', 'dc1,out1'): Array(0.+0.70710678j, dtype=complex128),\n",
              " ('dc1,in1', 'dc1,out0'): Array(0.+0.70710678j, dtype=complex128),\n",
              " ('dc1,in1', 'dc1,out1'): Array(0.70710678+0.j, dtype=complex128),\n",
              " ('dc1,out0', 'dc1,in0'): Array(0.70710678+0.j, dtype=complex128),\n",
              " ('dc1,out0', 'dc1,in1'): Array(0.+0.70710678j, dtype=complex128),\n",
              " ('dc1,out1', 'dc1,in0'): Array(0.+0.70710678j, dtype=complex128),\n",
              " ('dc1,out1', 'dc1,in1'): Array(0.70710678+0.j, dtype=complex128),\n",
              " ('wg,in0', 'wg,out0'): (0.5+0.86603j),\n",
              " ('wg,out0', 'wg,in0'): (0.5+0.86603j),\n",
              " ('dc2,in0', 'dc2,out0'): Array(0.70710678+0.j, dtype=complex128),\n",
              " ('dc2,in0', 'dc2,out1'): Array(0.+0.70710678j, dtype=complex128),\n",
              " ('dc2,in1', 'dc2,out0'): Array(0.+0.70710678j, dtype=complex128),\n",
              " ('dc2,in1', 'dc2,out1'): Array(0.70710678+0.j, dtype=complex128),\n",
              " ('dc2,out0', 'dc2,in0'): Array(0.70710678+0.j, dtype=complex128),\n",
              " ('dc2,out0', 'dc2,in1'): Array(0.+0.70710678j, dtype=complex128),\n",
              " ('dc2,out1', 'dc2,in0'): Array(0.+0.70710678j, dtype=complex128),\n",
              " ('dc2,out1', 'dc2,in1'): Array(0.70710678+0.j, dtype=complex128)}"
            ]
          },
          "execution_count": 6,
          "metadata": {},
          "output_type": "execute_result"
        }
      ],
      "source": [
        "block_diag = {k: v for k, v in block_diag.items() if jnp.abs(v) > 1e-10}\n",
        "print(len(block_diag))\n",
        "block_diag"
      ]
    },
    {
      "cell_type": "markdown",
      "id": "1963694a",
      "metadata": {
        "papermill": {
          "duration": 0.01195,
          "end_time": "2024-06-17T20:08:36.320071",
          "exception": false,
          "start_time": "2024-06-17T20:08:36.308121",
          "status": "completed"
        },
        "tags": []
      },
      "source": [
        "next, we sort the connections such that similar components are grouped together:"
      ]
    },
    {
      "cell_type": "code",
      "execution_count": 7,
      "id": "9859c2d4",
      "metadata": {
        "execution": {
          "iopub.execute_input": "2024-06-17T20:08:36.344977Z",
          "iopub.status.busy": "2024-06-17T20:08:36.344491Z",
          "iopub.status.idle": "2024-06-17T20:08:36.348745Z",
          "shell.execute_reply": "2024-06-17T20:08:36.348173Z"
        },
        "papermill": {
          "duration": 0.01793,
          "end_time": "2024-06-17T20:08:36.349869",
          "exception": false,
          "start_time": "2024-06-17T20:08:36.331939",
          "status": "completed"
        },
        "tags": []
      },
      "outputs": [
        {
          "data": {
            "text/plain": [
              "[('dc1,out1', 'dc2,in1'), ('dc1,out0', 'wg,in0'), ('wg,out0', 'dc2,in0')]"
            ]
          },
          "execution_count": 7,
          "metadata": {},
          "output_type": "execute_result"
        }
      ],
      "source": [
        "from sax.backends.filipsson_gunnar import _connections_sort_key\n",
        "\n",
        "sorted_connections = sorted(connections.items(), key=_connections_sort_key)\n",
        "sorted_connections"
      ]
    },
    {
      "cell_type": "markdown",
      "id": "c75fbf65",
      "metadata": {
        "papermill": {
          "duration": 0.011877,
          "end_time": "2024-06-17T20:08:36.373954",
          "exception": false,
          "start_time": "2024-06-17T20:08:36.362077",
          "status": "completed"
        },
        "tags": []
      },
      "source": [
        "Now we iterate over the sorted connections and connect components as they come in. Connected components take over the name of the first component in the connection, but we keep a set of components belonging to that key in `all_connected_instances`.\n",
        "\n",
        "This is how this `all_connected_instances` dictionary looks initially."
      ]
    },
    {
      "cell_type": "code",
      "execution_count": 8,
      "id": "cf30668c",
      "metadata": {
        "execution": {
          "iopub.execute_input": "2024-06-17T20:08:36.399170Z",
          "iopub.status.busy": "2024-06-17T20:08:36.398695Z",
          "iopub.status.idle": "2024-06-17T20:08:36.402571Z",
          "shell.execute_reply": "2024-06-17T20:08:36.402124Z"
        },
        "papermill": {
          "duration": 0.017703,
          "end_time": "2024-06-17T20:08:36.403665",
          "exception": false,
          "start_time": "2024-06-17T20:08:36.385962",
          "status": "completed"
        },
        "tags": []
      },
      "outputs": [
        {
          "data": {
            "text/plain": [
              "{'dc1': {'dc1'}, 'wg': {'wg'}, 'dc2': {'dc2'}}"
            ]
          },
          "execution_count": 8,
          "metadata": {},
          "output_type": "execute_result"
        }
      ],
      "source": [
        "all_connected_instances = {k: {k} for k in instances}\n",
        "all_connected_instances"
      ]
    },
    {
      "cell_type": "markdown",
      "id": "1152056b",
      "metadata": {
        "papermill": {
          "duration": 0.012116,
          "end_time": "2024-06-17T20:08:36.428282",
          "exception": false,
          "start_time": "2024-06-17T20:08:36.416166",
          "status": "completed"
        },
        "tags": []
      },
      "source": [
        "Normally we would loop over every connection in `sorted_connections` now, but let's just go through it once at first:"
      ]
    },
    {
      "cell_type": "code",
      "execution_count": 9,
      "id": "9fb301887a2a6b0e",
      "metadata": {
        "execution": {
          "iopub.execute_input": "2024-06-17T20:08:36.453610Z",
          "iopub.status.busy": "2024-06-17T20:08:36.453117Z",
          "iopub.status.idle": "2024-06-17T20:08:36.457093Z",
          "shell.execute_reply": "2024-06-17T20:08:36.456628Z"
        },
        "papermill": {
          "duration": 0.01785,
          "end_time": "2024-06-17T20:08:36.458234",
          "exception": false,
          "start_time": "2024-06-17T20:08:36.440384",
          "status": "completed"
        },
        "tags": []
      },
      "outputs": [
        {
          "data": {
            "text/plain": [
              "('dc1,out1', 'dc2,in1')"
            ]
          },
          "execution_count": 9,
          "metadata": {},
          "output_type": "execute_result"
        }
      ],
      "source": [
        "# for k, l in sorted_connections:\n",
        "k, l = sorted_connections[0]\n",
        "k, l"
      ]
    },
    {
      "cell_type": "markdown",
      "id": "16a2266c",
      "metadata": {
        "papermill": {
          "duration": 0.012046,
          "end_time": "2024-06-17T20:08:36.482512",
          "exception": false,
          "start_time": "2024-06-17T20:08:36.470466",
          "status": "completed"
        },
        "tags": []
      },
      "source": [
        "`k` and `l` are the S-matrix indices we're trying to connect. Note that in our sparse `SDict` notation these S-matrix indices are in fact equivalent with the port names `('dc1,out1', 'dc2,in1')`!"
      ]
    },
    {
      "cell_type": "markdown",
      "id": "0eaf4add",
      "metadata": {
        "papermill": {
          "duration": 0.012016,
          "end_time": "2024-06-17T20:08:36.506658",
          "exception": false,
          "start_time": "2024-06-17T20:08:36.494642",
          "status": "completed"
        },
        "tags": []
      },
      "source": [
        "first we split the connection string into an instance name and a port name (we don't use the port name yet):"
      ]
    },
    {
      "cell_type": "code",
      "execution_count": 10,
      "id": "667d1a3c",
      "metadata": {
        "execution": {
          "iopub.execute_input": "2024-06-17T20:08:36.532617Z",
          "iopub.status.busy": "2024-06-17T20:08:36.532084Z",
          "iopub.status.idle": "2024-06-17T20:08:36.535168Z",
          "shell.execute_reply": "2024-06-17T20:08:36.534572Z"
        },
        "papermill": {
          "duration": 0.017375,
          "end_time": "2024-06-17T20:08:36.536267",
          "exception": false,
          "start_time": "2024-06-17T20:08:36.518892",
          "status": "completed"
        },
        "tags": []
      },
      "outputs": [],
      "source": [
        "name1, _ = k.split(\",\")\n",
        "name2, _ = l.split(\",\")"
      ]
    },
    {
      "cell_type": "markdown",
      "id": "16e8bbe8",
      "metadata": {
        "papermill": {
          "duration": 0.01234,
          "end_time": "2024-06-17T20:08:36.560878",
          "exception": false,
          "start_time": "2024-06-17T20:08:36.548538",
          "status": "completed"
        },
        "tags": []
      },
      "source": [
        "We then obtain the new set of connected instances."
      ]
    },
    {
      "cell_type": "code",
      "execution_count": 11,
      "id": "51bf8615",
      "metadata": {
        "execution": {
          "iopub.execute_input": "2024-06-17T20:08:36.587068Z",
          "iopub.status.busy": "2024-06-17T20:08:36.586573Z",
          "iopub.status.idle": "2024-06-17T20:08:36.590750Z",
          "shell.execute_reply": "2024-06-17T20:08:36.590243Z"
        },
        "papermill": {
          "duration": 0.018772,
          "end_time": "2024-06-17T20:08:36.592020",
          "exception": false,
          "start_time": "2024-06-17T20:08:36.573248",
          "status": "completed"
        },
        "tags": []
      },
      "outputs": [
        {
          "data": {
            "text/plain": [
              "{'dc1', 'dc2'}"
            ]
          },
          "execution_count": 11,
          "metadata": {},
          "output_type": "execute_result"
        }
      ],
      "source": [
        "connected_instances = all_connected_instances[name1] | all_connected_instances[name2]\n",
        "connected_instances"
      ]
    },
    {
      "cell_type": "markdown",
      "id": "676c8d61",
      "metadata": {
        "papermill": {
          "duration": 0.01246,
          "end_time": "2024-06-17T20:08:36.617127",
          "exception": false,
          "start_time": "2024-06-17T20:08:36.604667",
          "status": "completed"
        },
        "tags": []
      },
      "source": [
        "We then iterate over each of the components in this set and make sure each of the component names in that set maps to that set (yes, I know... confusing). We do this to be able to keep track with which components each of the components in the circuit is currently already connected to."
      ]
    },
    {
      "cell_type": "code",
      "execution_count": 12,
      "id": "d322e86c",
      "metadata": {
        "execution": {
          "iopub.execute_input": "2024-06-17T20:08:36.643298Z",
          "iopub.status.busy": "2024-06-17T20:08:36.642780Z",
          "iopub.status.idle": "2024-06-17T20:08:36.647051Z",
          "shell.execute_reply": "2024-06-17T20:08:36.646456Z"
        },
        "papermill": {
          "duration": 0.018736,
          "end_time": "2024-06-17T20:08:36.648201",
          "exception": false,
          "start_time": "2024-06-17T20:08:36.629465",
          "status": "completed"
        },
        "tags": []
      },
      "outputs": [
        {
          "data": {
            "text/plain": [
              "{'dc1': {'dc1', 'dc2'}, 'wg': {'wg'}, 'dc2': {'dc1', 'dc2'}}"
            ]
          },
          "execution_count": 12,
          "metadata": {},
          "output_type": "execute_result"
        }
      ],
      "source": [
        "for name in connected_instances:\n",
        "    all_connected_instances[name] = connected_instances\n",
        "\n",
        "all_connected_instances"
      ]
    },
    {
      "cell_type": "markdown",
      "id": "b79f49f8",
      "metadata": {
        "papermill": {
          "duration": 0.012306,
          "end_time": "2024-06-17T20:08:36.673018",
          "exception": false,
          "start_time": "2024-06-17T20:08:36.660712",
          "status": "completed"
        },
        "tags": []
      },
      "source": [
        "now we need to obtain all the ports of the currently connected instances."
      ]
    },
    {
      "cell_type": "code",
      "execution_count": 13,
      "id": "61b3cfab",
      "metadata": {
        "execution": {
          "iopub.execute_input": "2024-06-17T20:08:36.698924Z",
          "iopub.status.busy": "2024-06-17T20:08:36.698647Z",
          "iopub.status.idle": "2024-06-17T20:08:36.703403Z",
          "shell.execute_reply": "2024-06-17T20:08:36.702925Z"
        },
        "papermill": {
          "duration": 0.018914,
          "end_time": "2024-06-17T20:08:36.704474",
          "exception": false,
          "start_time": "2024-06-17T20:08:36.685560",
          "status": "completed"
        },
        "tags": []
      },
      "outputs": [
        {
          "data": {
            "text/plain": [
              "('dc1,in1',\n",
              " 'dc1,in0',\n",
              " 'dc1,out0',\n",
              " 'dc1,out1',\n",
              " 'dc2,out0',\n",
              " 'dc2,in0',\n",
              " 'dc2,out1',\n",
              " 'dc2,in1')"
            ]
          },
          "execution_count": 13,
          "metadata": {},
          "output_type": "execute_result"
        }
      ],
      "source": [
        "current_ports = tuple(\n",
        "    p\n",
        "    for instance in connected_instances\n",
        "    for p in set([p for p, _ in block_diag] + [p for _, p in block_diag])\n",
        "    if p.startswith(f\"{instance},\")\n",
        ")\n",
        "\n",
        "current_ports"
      ]
    },
    {
      "cell_type": "markdown",
      "id": "d0e87449",
      "metadata": {
        "papermill": {
          "duration": 0.013465,
          "end_time": "2024-06-17T20:08:36.730713",
          "exception": false,
          "start_time": "2024-06-17T20:08:36.717248",
          "status": "completed"
        },
        "tags": []
      },
      "source": [
        "Now the Gunnar Algorithm is used. Given a (block-diagonal) 'S-matrix' `block_diag` and a 'connection matrix' `current_ports` we can interconnect port `k` and `l` as follows:\n",
        "\n",
        "> Note: some creative freedom is used here. In SAX, the matrices we're talking about are in fact represented by a sparse dictionary (an `SDict`), i.e. similar to a COO sparse matrix for which the indices are the port names."
      ]
    },
    {
      "cell_type": "markdown",
      "id": "988c08d9",
      "metadata": {
        "papermill": {
          "duration": 0.012685,
          "end_time": "2024-06-17T20:08:36.757293",
          "exception": false,
          "start_time": "2024-06-17T20:08:36.744608",
          "status": "completed"
        },
        "tags": []
      },
      "source": [
        "Just as before, we're filtering the zeros from the sparse representation (remember, internally this is **not done by default**)."
      ]
    },
    {
      "cell_type": "code",
      "execution_count": 14,
      "id": "e9ac8164",
      "metadata": {
        "execution": {
          "iopub.execute_input": "2024-06-17T20:08:36.784005Z",
          "iopub.status.busy": "2024-06-17T20:08:36.783542Z",
          "iopub.status.idle": "2024-06-17T20:08:36.791865Z",
          "shell.execute_reply": "2024-06-17T20:08:36.791347Z"
        },
        "papermill": {
          "duration": 0.023173,
          "end_time": "2024-06-17T20:08:36.793026",
          "exception": false,
          "start_time": "2024-06-17T20:08:36.769853",
          "status": "completed"
        },
        "tags": []
      },
      "outputs": [
        {
          "name": "stdout",
          "output_type": "stream",
          "text": [
            "18\n"
          ]
        },
        {
          "data": {
            "text/plain": [
              "{('dc1,in0', 'dc1,out0'): Array(0.70710678+0.j, dtype=complex128),\n",
              " ('dc1,in0', 'dc1,out1'): Array(0.+0.70710678j, dtype=complex128),\n",
              " ('dc1,in1', 'dc1,out0'): Array(0.+0.70710678j, dtype=complex128),\n",
              " ('dc1,in1', 'dc1,out1'): Array(0.70710678+0.j, dtype=complex128),\n",
              " ('dc1,out0', 'dc1,in0'): Array(0.70710678+0.j, dtype=complex128),\n",
              " ('dc1,out0', 'dc1,in1'): Array(0.+0.70710678j, dtype=complex128),\n",
              " ('dc1,out1', 'dc1,in0'): Array(0.+0.70710678j, dtype=complex128),\n",
              " ('dc1,out1', 'dc1,in1'): Array(0.70710678+0.j, dtype=complex128),\n",
              " ('wg,in0', 'wg,out0'): (0.5+0.86603j),\n",
              " ('wg,out0', 'wg,in0'): (0.5+0.86603j),\n",
              " ('dc2,in0', 'dc2,out0'): Array(0.70710678+0.j, dtype=complex128),\n",
              " ('dc2,in0', 'dc2,out1'): Array(0.+0.70710678j, dtype=complex128),\n",
              " ('dc2,in1', 'dc2,out0'): Array(0.+0.70710678j, dtype=complex128),\n",
              " ('dc2,in1', 'dc2,out1'): Array(0.70710678+0.j, dtype=complex128),\n",
              " ('dc2,out0', 'dc2,in0'): Array(0.70710678+0.j, dtype=complex128),\n",
              " ('dc2,out0', 'dc2,in1'): Array(0.+0.70710678j, dtype=complex128),\n",
              " ('dc2,out1', 'dc2,in0'): Array(0.+0.70710678j, dtype=complex128),\n",
              " ('dc2,out1', 'dc2,in1'): Array(0.70710678+0.j, dtype=complex128)}"
            ]
          },
          "execution_count": 14,
          "metadata": {},
          "output_type": "execute_result"
        }
      ],
      "source": [
        "block_diag = {k: v for k, v in block_diag.items() if jnp.abs(v) > 1e-10}\n",
        "print(len(block_diag))\n",
        "block_diag"
      ]
    },
    {
      "cell_type": "markdown",
      "id": "db0cd151",
      "metadata": {
        "papermill": {
          "duration": 0.012584,
          "end_time": "2024-06-17T20:08:36.818595",
          "exception": false,
          "start_time": "2024-06-17T20:08:36.806011",
          "status": "completed"
        },
        "tags": []
      },
      "source": [
        "This is the resulting block-diagonal matrix after interconnecting two ports (i.e. basically saying that those two ports are the same port). Because these ports are now connected we should actually remove them from the S-matrix representation (they are integrated into the S-parameters of the other connections):"
      ]
    },
    {
      "cell_type": "code",
      "execution_count": 15,
      "id": "311b034f",
      "metadata": {
        "execution": {
          "iopub.execute_input": "2024-06-17T20:08:36.844888Z",
          "iopub.status.busy": "2024-06-17T20:08:36.844479Z",
          "iopub.status.idle": "2024-06-17T20:08:36.851257Z",
          "shell.execute_reply": "2024-06-17T20:08:36.850657Z"
        },
        "papermill": {
          "duration": 0.021277,
          "end_time": "2024-06-17T20:08:36.852381",
          "exception": false,
          "start_time": "2024-06-17T20:08:36.831104",
          "status": "completed"
        },
        "tags": []
      },
      "outputs": [
        {
          "name": "stdout",
          "output_type": "stream",
          "text": [
            "10\n"
          ]
        },
        {
          "data": {
            "text/plain": [
              "{('dc1,in0', 'dc1,out0'): Array(0.70710678+0.j, dtype=complex128),\n",
              " ('dc1,in1', 'dc1,out0'): Array(0.+0.70710678j, dtype=complex128),\n",
              " ('dc1,out0', 'dc1,in0'): Array(0.70710678+0.j, dtype=complex128),\n",
              " ('dc1,out0', 'dc1,in1'): Array(0.+0.70710678j, dtype=complex128),\n",
              " ('wg,in0', 'wg,out0'): (0.5+0.86603j),\n",
              " ('wg,out0', 'wg,in0'): (0.5+0.86603j),\n",
              " ('dc2,in0', 'dc2,out0'): Array(0.70710678+0.j, dtype=complex128),\n",
              " ('dc2,in0', 'dc2,out1'): Array(0.+0.70710678j, dtype=complex128),\n",
              " ('dc2,out0', 'dc2,in0'): Array(0.70710678+0.j, dtype=complex128),\n",
              " ('dc2,out1', 'dc2,in0'): Array(0.+0.70710678j, dtype=complex128)}"
            ]
          },
          "execution_count": 15,
          "metadata": {},
          "output_type": "execute_result"
        }
      ],
      "source": [
        "for i, j in list(block_diag.keys()):\n",
        "    is_connected = i == k or i == l or j == k or j == l\n",
        "    is_in_output_ports = i in reversed_ports and j in reversed_ports\n",
        "    if is_connected and not is_in_output_ports:\n",
        "        del block_diag[i, j]  # we're no longer interested in these port combinations\n",
        "\n",
        "print(len(block_diag))\n",
        "block_diag"
      ]
    },
    {
      "cell_type": "markdown",
      "id": "b6badcb7",
      "metadata": {
        "papermill": {
          "duration": 0.012779,
          "end_time": "2024-06-17T20:08:36.878237",
          "exception": false,
          "start_time": "2024-06-17T20:08:36.865458",
          "status": "completed"
        },
        "tags": []
      },
      "source": [
        "Note that this deletion of values **does NOT** make this operation un-jittable. The deletion depends on the ports of the dictionary (i.e. on the dictionary 'shape'), not on the values."
      ]
    },
    {
      "cell_type": "markdown",
      "id": "89e775cd",
      "metadata": {
        "papermill": {
          "duration": 0.012659,
          "end_time": "2024-06-17T20:08:36.903557",
          "exception": false,
          "start_time": "2024-06-17T20:08:36.890898",
          "status": "completed"
        },
        "tags": []
      },
      "source": [
        "We now basically have to do those steps again for all other connections:"
      ]
    },
    {
      "cell_type": "code",
      "execution_count": 16,
      "id": "25eac933",
      "metadata": {
        "execution": {
          "iopub.execute_input": "2024-06-17T20:08:36.930553Z",
          "iopub.status.busy": "2024-06-17T20:08:36.929995Z",
          "iopub.status.idle": "2024-06-17T20:08:37.875892Z",
          "shell.execute_reply": "2024-06-17T20:08:37.875214Z"
        },
        "papermill": {
          "duration": 0.961137,
          "end_time": "2024-06-17T20:08:37.877473",
          "exception": false,
          "start_time": "2024-06-17T20:08:36.916336",
          "status": "completed"
        },
        "tags": []
      },
      "outputs": [],
      "source": [
        "from sax.backends.filipsson_gunnar import _interconnect_ports\n",
        "\n",
        "# for k, l in sorted_connections:\n",
        "for k, l in sorted_connections[\n",
        "    1:\n",
        "]:  # we just did the first iteration of this loop above...\n",
        "    name1, _ = k.split(\",\")\n",
        "    name2, _ = l.split(\",\")\n",
        "    connected_instances = (\n",
        "        all_connected_instances[name1] | all_connected_instances[name2]\n",
        "    )\n",
        "    for name in connected_instances:\n",
        "        all_connected_instances[name] = connected_instances\n",
        "    current_ports = tuple(\n",
        "        p\n",
        "        for instance in connected_instances\n",
        "        for p in set([p for p, _ in block_diag] + [p for _, p in block_diag])\n",
        "        if p.startswith(f\"{instance},\")\n",
        "    )\n",
        "    block_diag.update(_interconnect_ports(block_diag, current_ports, k, l))\n",
        "    for i, j in list(block_diag.keys()):\n",
        "        is_connected = i == k or i == l or j == k or j == l\n",
        "        is_in_output_ports = i in reversed_ports and j in reversed_ports\n",
        "        if is_connected and not is_in_output_ports:\n",
        "            del block_diag[\n",
        "                i, j\n",
        "            ]  # we're no longer interested in these port combinations"
      ]
    },
    {
      "cell_type": "markdown",
      "id": "36eb82fc",
      "metadata": {
        "papermill": {
          "duration": 0.012944,
          "end_time": "2024-06-17T20:08:37.904106",
          "exception": false,
          "start_time": "2024-06-17T20:08:37.891162",
          "status": "completed"
        },
        "tags": []
      },
      "source": [
        "This is the final MZI matrix we're getting:"
      ]
    },
    {
      "cell_type": "code",
      "execution_count": 17,
      "id": "d1c0367e",
      "metadata": {
        "execution": {
          "iopub.execute_input": "2024-06-17T20:08:37.931673Z",
          "iopub.status.busy": "2024-06-17T20:08:37.931117Z",
          "iopub.status.idle": "2024-06-17T20:08:37.938302Z",
          "shell.execute_reply": "2024-06-17T20:08:37.937778Z"
        },
        "papermill": {
          "duration": 0.022368,
          "end_time": "2024-06-17T20:08:37.939454",
          "exception": false,
          "start_time": "2024-06-17T20:08:37.917086",
          "status": "completed"
        },
        "tags": []
      },
      "outputs": [
        {
          "data": {
            "text/plain": [
              "{('dc1,in1', 'dc1,in1'): Array(0.+0.j, dtype=complex128),\n",
              " ('dc1,in1', 'dc1,in0'): Array(0.+0.j, dtype=complex128),\n",
              " ('dc1,in1', 'dc2,out0'): Array(-0.433015+0.25j, dtype=complex128),\n",
              " ('dc1,in1', 'dc2,out1'): Array(-0.25-0.433015j, dtype=complex128),\n",
              " ('dc1,in0', 'dc1,in1'): Array(0.+0.j, dtype=complex128),\n",
              " ('dc1,in0', 'dc1,in0'): Array(0.+0.j, dtype=complex128),\n",
              " ('dc1,in0', 'dc2,out0'): Array(0.25+0.433015j, dtype=complex128),\n",
              " ('dc1,in0', 'dc2,out1'): Array(-0.433015+0.25j, dtype=complex128),\n",
              " ('dc2,out0', 'dc1,in1'): Array(-0.433015+0.25j, dtype=complex128),\n",
              " ('dc2,out0', 'dc1,in0'): Array(0.25+0.433015j, dtype=complex128),\n",
              " ('dc2,out0', 'dc2,out0'): Array(0.+0.j, dtype=complex128),\n",
              " ('dc2,out0', 'dc2,out1'): Array(0.+0.j, dtype=complex128),\n",
              " ('dc2,out1', 'dc1,in1'): Array(-0.25-0.433015j, dtype=complex128),\n",
              " ('dc2,out1', 'dc1,in0'): Array(-0.433015+0.25j, dtype=complex128),\n",
              " ('dc2,out1', 'dc2,out0'): Array(0.+0.j, dtype=complex128),\n",
              " ('dc2,out1', 'dc2,out1'): Array(0.+0.j, dtype=complex128)}"
            ]
          },
          "execution_count": 17,
          "metadata": {},
          "output_type": "execute_result"
        }
      ],
      "source": [
        "block_diag"
      ]
    },
    {
      "cell_type": "markdown",
      "id": "03f67ec6",
      "metadata": {
        "papermill": {
          "duration": 0.013029,
          "end_time": "2024-06-17T20:08:37.966226",
          "exception": false,
          "start_time": "2024-06-17T20:08:37.953197",
          "status": "completed"
        },
        "tags": []
      },
      "source": [
        "All that's left is to rename these internal ports of the format `{instance},{port}` into output ports of the resulting circuit:"
      ]
    },
    {
      "cell_type": "code",
      "execution_count": 18,
      "id": "cf5ea4af",
      "metadata": {
        "execution": {
          "iopub.execute_input": "2024-06-17T20:08:37.993443Z",
          "iopub.status.busy": "2024-06-17T20:08:37.993189Z",
          "iopub.status.idle": "2024-06-17T20:08:38.000124Z",
          "shell.execute_reply": "2024-06-17T20:08:37.999568Z"
        },
        "papermill": {
          "duration": 0.022006,
          "end_time": "2024-06-17T20:08:38.001310",
          "exception": false,
          "start_time": "2024-06-17T20:08:37.979304",
          "status": "completed"
        },
        "tags": []
      },
      "outputs": [
        {
          "data": {
            "text/plain": [
              "{('in1', 'in1'): Array(0.+0.j, dtype=complex128),\n",
              " ('in1', 'in0'): Array(0.+0.j, dtype=complex128),\n",
              " ('in1', 'out0'): Array(-0.433015+0.25j, dtype=complex128),\n",
              " ('in1', 'out1'): Array(-0.25-0.433015j, dtype=complex128),\n",
              " ('in0', 'in1'): Array(0.+0.j, dtype=complex128),\n",
              " ('in0', 'in0'): Array(0.+0.j, dtype=complex128),\n",
              " ('in0', 'out0'): Array(0.25+0.433015j, dtype=complex128),\n",
              " ('in0', 'out1'): Array(-0.433015+0.25j, dtype=complex128),\n",
              " ('out0', 'in1'): Array(-0.433015+0.25j, dtype=complex128),\n",
              " ('out0', 'in0'): Array(0.25+0.433015j, dtype=complex128),\n",
              " ('out0', 'out0'): Array(0.+0.j, dtype=complex128),\n",
              " ('out0', 'out1'): Array(0.+0.j, dtype=complex128),\n",
              " ('out1', 'in1'): Array(-0.25-0.433015j, dtype=complex128),\n",
              " ('out1', 'in0'): Array(-0.433015+0.25j, dtype=complex128),\n",
              " ('out1', 'out0'): Array(0.+0.j, dtype=complex128),\n",
              " ('out1', 'out1'): Array(0.+0.j, dtype=complex128)}"
            ]
          },
          "execution_count": 18,
          "metadata": {},
          "output_type": "execute_result"
        }
      ],
      "source": [
        "circuit_sdict: sax.SDict = {\n",
        "    (reversed_ports[i], reversed_ports[j]): v\n",
        "    for (i, j), v in block_diag.items()\n",
        "    if i in reversed_ports and j in reversed_ports\n",
        "}\n",
        "circuit_sdict"
      ]
    },
    {
      "cell_type": "markdown",
      "id": "7dc6505e",
      "metadata": {
        "papermill": {
          "duration": 0.013115,
          "end_time": "2024-06-17T20:08:38.027794",
          "exception": false,
          "start_time": "2024-06-17T20:08:38.014679",
          "status": "completed"
        },
        "tags": []
      },
      "source": [
        "And that's it. We evaluated the `SDict` of the full circuit."
      ]
    },
    {
      "cell_type": "markdown",
      "id": "170db10b",
      "metadata": {
        "papermill": {
          "duration": 0.013354,
          "end_time": "2024-06-17T20:08:38.054273",
          "exception": false,
          "start_time": "2024-06-17T20:08:38.040919",
          "status": "completed"
        },
        "tags": []
      },
      "source": [
        "### Algorithm Improvements"
      ]
    },
    {
      "cell_type": "markdown",
      "id": "4ed0e69a",
      "metadata": {
        "papermill": {
          "duration": 0.013154,
          "end_time": "2024-06-17T20:08:38.080603",
          "exception": false,
          "start_time": "2024-06-17T20:08:38.067449",
          "status": "completed"
        },
        "tags": []
      },
      "source": [
        "The Filipsson-Gunar algorithm is \n",
        "\n",
        "* pretty fast for small circuits \ud83d\ude42\n",
        "* jittable \ud83d\ude42\n",
        "* differentiable \ud83d\ude42\n",
        "* GPU-compatible \ud83d\ude42\n",
        "\n",
        "This algorithm is however:\n",
        "\n",
        "* **really slow** for large circuits \ud83d\ude25\n",
        "* **pretty slow** to jit the resulting circuit function \ud83d\ude25\n",
        "* **pretty slow** to differentiate the resulting circuit function \ud83d\ude25\n",
        "\n",
        "There are probably still plenty of improvements possible for this algorithm:\n",
        "\n",
        "* **\u00bf** Network analysis (ft. NetworkX ?) to obtain which ports of the block diagonal representation are relevant to obtain the output connection **?**\n",
        "* **\u00bf** Smarter ordering of connections to always have the minimum amount of ports in the intermediate block-diagonal representation **?**\n",
        "* **\u00bf** Using `jax.lax.scan` in stead of python native for-loops in `_interconnect_ports` **?**\n",
        "* **\u00bf** ... **?**\n",
        "\n",
        "Bottom line is... Do you know how to improve this algorithm or how to implement the above suggestions? Please open a Merge Request!"
      ]
    },
    {
      "cell_type": "markdown",
      "id": "8ac28523-e792-4c9a-a23f-252ae91a4a7d",
      "metadata": {
        "papermill": {
          "duration": 0.012949,
          "end_time": "2024-06-17T20:08:38.106603",
          "exception": false,
          "start_time": "2024-06-17T20:08:38.093654",
          "status": "completed"
        },
        "tags": []
      },
      "source": [
        "## KLU Backend\n",
        "\n",
        "The KLU backend is using `klujax`, which uses the [SuiteSparse](https://github.com/DrTimothyAldenDavis/SuiteSparse) C++ libraries for sparse matrix evaluations to evaluate the circuit insanely fast on a CPU. The specific algorith being used in question is the KLU algorithm:\n",
        "\n",
        "> Ekanathan Palamadai Natariajan. \"*KLU - A high performance sparse linear solver for circuit simulation problems.*\"\n",
        "\n",
        "```{eval-rst}\n",
        ".. autofunction:: sax.backends.analyze_circuit_klu\n",
        "```\n",
        "\n",
        "```{eval-rst}\n",
        ".. autofunction:: sax.backends.evaluate_circuit_klu\n",
        "```"
      ]
    },
    {
      "cell_type": "markdown",
      "id": "8804e6fd-3dda-4770-a312-434ddc00446f",
      "metadata": {
        "papermill": {
          "duration": 0.012963,
          "end_time": "2024-06-17T20:08:38.132744",
          "exception": false,
          "start_time": "2024-06-17T20:08:38.119781",
          "status": "completed"
        },
        "tags": []
      },
      "source": [
        "### Theoretical Background"
      ]
    },
    {
      "cell_type": "markdown",
      "id": "b31bb0c6-6ffe-47a7-8458-cf555d5c0579",
      "metadata": {
        "papermill": {
          "duration": 0.013067,
          "end_time": "2024-06-17T20:08:38.158930",
          "exception": false,
          "start_time": "2024-06-17T20:08:38.145863",
          "status": "completed"
        },
        "tags": []
      },
      "source": [
        "The core of the KLU algorithm is supported by `klujax`, which internally uses the Suitesparse libraries to solve the sparse system `Ax = b`, in which A is a sparse matrix."
      ]
    },
    {
      "cell_type": "markdown",
      "id": "68f22fec-2d16-4d94-be9d-a02b1c85efa8",
      "metadata": {
        "papermill": {
          "duration": 0.013083,
          "end_time": "2024-06-17T20:08:38.184928",
          "exception": false,
          "start_time": "2024-06-17T20:08:38.171845",
          "status": "completed"
        },
        "tags": []
      },
      "source": [
        "Now it only comes down to shoehorn our circuit evaluation into a sparse linear system of equations $Ax=b$ where we need to solve for $x$ using `klujax`. \n",
        "Consider the block diagonal matrix $S_{bd}$ of all components in the circuit acting on the fields $x_{in}$ at each of the individual ports of each of the component integrated in $S^{bd}$. The output fields $x^{out}$ at each of those ports is then given by:\n",
        "\n",
        "$$\n",
        "x^{out} = S_{bd} x^{in}\n",
        "$$"
      ]
    },
    {
      "cell_type": "markdown",
      "id": "b023a7b2-8ba4-4d46-98c2-82f2ac4c68d4",
      "metadata": {
        "papermill": {
          "duration": 0.012875,
          "end_time": "2024-06-17T20:08:38.210883",
          "exception": false,
          "start_time": "2024-06-17T20:08:38.198008",
          "status": "completed"
        },
        "tags": []
      },
      "source": [
        "However, $S_{bd}$ is not the S-matrix of the circuit as it does not encode any connectivity *between* the components. Connecting two component ports basically comes down to enforcing equality between the output fields at one port of a component with the input fields at another port of another (or maybe even the same) component. This equality can be enforced by creating an internal connection matrix, connecting all internal ports of the circuit:\n",
        "\n",
        "$$\n",
        "x^{in} = C_{int} x^{out}\n",
        "$$"
      ]
    },
    {
      "cell_type": "markdown",
      "id": "10a61bbc-39ca-4b09-8071-61554fbb49f8",
      "metadata": {
        "papermill": {
          "duration": 0.012922,
          "end_time": "2024-06-17T20:08:38.236833",
          "exception": false,
          "start_time": "2024-06-17T20:08:38.223911",
          "status": "completed"
        },
        "tags": []
      },
      "source": [
        "We can thus write the following combined equation:\n",
        "\n",
        "$$\n",
        "x^{in} = C_{int} S_{bd} x^{in}\n",
        "$$"
      ]
    },
    {
      "cell_type": "markdown",
      "id": "8f99e680-c57a-4baf-8ff2-a35b63ea29af",
      "metadata": {
        "papermill": {
          "duration": 0.013129,
          "end_time": "2024-06-17T20:08:38.263127",
          "exception": false,
          "start_time": "2024-06-17T20:08:38.249998",
          "status": "completed"
        },
        "tags": []
      },
      "source": [
        "But this is not the complete story... Some component ports will *not* be *interconnected* with other ports: they will become the new *external ports* (or output ports) of the combined circuit. We can include those external ports into the above equation as follows:\n",
        "\n",
        "$$\n",
        "\\begin{pmatrix} x^{in} \\\\ x^{out}_{ext} \\end{pmatrix} = \\begin{pmatrix} C_{int} & C_{ext} \\\\ C_{ext}^T & 0 \\end{pmatrix} \\begin{pmatrix} S_{bd} x^{in} \\\\ x_{ext}^{in} \\end{pmatrix} \n",
        "$$"
      ]
    },
    {
      "cell_type": "markdown",
      "id": "a3f77604-0f3a-4371-a4d5-42ce667587c0",
      "metadata": {
        "papermill": {
          "duration": 0.012922,
          "end_time": "2024-06-17T20:08:38.289040",
          "exception": false,
          "start_time": "2024-06-17T20:08:38.276118",
          "status": "completed"
        },
        "tags": []
      },
      "source": [
        "Note that $C_{ext}$ is obviously **not** a square matrix. Eliminating $x^{in}$ from the equation above finally yields:\n",
        "\n",
        "$$\n",
        "x^{out}_{ext} = C^T_{ext} S_{bd} (I - C_{int}S_{bd})^{-1} C_{ext}x_{ext}^{in}\n",
        "$$"
      ]
    },
    {
      "cell_type": "markdown",
      "id": "4cfb5f22-67d3-4c7e-b6c6-994fd4add6a4",
      "metadata": {
        "papermill": {
          "duration": 0.013033,
          "end_time": "2024-06-17T20:08:38.315137",
          "exception": false,
          "start_time": "2024-06-17T20:08:38.302104",
          "status": "completed"
        },
        "tags": []
      },
      "source": [
        "We basically found a representation of the circuit S-matrix:\n",
        "\n",
        "$$\n",
        "S = C^T_{ext} S_{bd} (I - C_{int}S_{bd})^{-1} C_{ext}\n",
        "$$"
      ]
    },
    {
      "cell_type": "markdown",
      "id": "cdd9c503-f057-4b99-a6f6-61a8f71bc71d",
      "metadata": {
        "papermill": {
          "duration": 0.013003,
          "end_time": "2024-06-17T20:08:38.341184",
          "exception": false,
          "start_time": "2024-06-17T20:08:38.328181",
          "status": "completed"
        },
        "tags": []
      },
      "source": [
        "Obviously, we won't want to calculate the inverse $(I - C_{int}S_{bd})^{-1}$, which is the inverse of a very sparse matrix (a connection matrix only has a single 1 per line), which very often is not even sparse itself. In stead we'll use the `solve_klu` function:\n",
        "\n",
        "$$\n",
        "S = C^T_{ext} S_{bd} \\texttt{solve}\\_\\texttt{klu}\\left((I - C_{int}S_{bd}), C_{ext}\\right)\n",
        "$$"
      ]
    },
    {
      "cell_type": "markdown",
      "id": "45811209-f2bd-4bd4-a531-2956e6bd3293",
      "metadata": {
        "papermill": {
          "duration": 0.013071,
          "end_time": "2024-06-17T20:08:38.367515",
          "exception": false,
          "start_time": "2024-06-17T20:08:38.354444",
          "status": "completed"
        },
        "tags": []
      },
      "source": [
        "Moreover, $C_{ext}^TS_{bd}$ is also a sparse matrix, therefore we'll also need a `mul_coo` routine:\n",
        "\n",
        "$$\n",
        "S = C^T_{ext} \\texttt{mul}\\_\\texttt{coo}\\left(S_{bd},~~\\texttt{solve}\\_\\texttt{klu}\\left((I - C_{int}S_{bd}),~C_{ext}\\right)\\right)\n",
        "$$"
      ]
    },
    {
      "cell_type": "markdown",
      "id": "03256ad3-4d45-4113-9d38-f08d36593b21",
      "metadata": {
        "papermill": {
          "duration": 0.012991,
          "end_time": "2024-06-17T20:08:38.393603",
          "exception": false,
          "start_time": "2024-06-17T20:08:38.380612",
          "status": "completed"
        },
        "tags": []
      },
      "source": [
        "### Sparse Helper Functions\n",
        "\n",
        "```{eval-rst}\n",
        ".. autofunction:: klujax.solve\n",
        "```\n",
        "\n",
        "```{eval-rst}\n",
        ".. autofunction:: klujax.coo_mul_vec\n",
        "```"
      ]
    },
    {
      "cell_type": "markdown",
      "id": "3e54a061-8846-4a23-8431-18cfe0d2bc9d",
      "metadata": {
        "papermill": {
          "duration": 0.012954,
          "end_time": "2024-06-17T20:08:38.419637",
          "exception": false,
          "start_time": "2024-06-17T20:08:38.406683",
          "status": "completed"
        },
        "tags": []
      },
      "source": [
        "`klujax.solve` solves the sparse system of equations `Ax=b` for `x`. Where `A` is represented by in [COO-format](https://en.wikipedia.org/wiki/Sparse_matrix#Coordinate_list_(COO)) as (`Ai`, `Aj`, `Ax`).\n",
        "\n",
        "> Example"
      ]
    },
    {
      "cell_type": "code",
      "execution_count": 19,
      "id": "63e7977a",
      "metadata": {
        "execution": {
          "iopub.execute_input": "2024-06-17T20:08:38.447275Z",
          "iopub.status.busy": "2024-06-17T20:08:38.446791Z",
          "iopub.status.idle": "2024-06-17T20:08:38.483396Z",
          "shell.execute_reply": "2024-06-17T20:08:38.482691Z"
        },
        "papermill": {
          "duration": 0.051934,
          "end_time": "2024-06-17T20:08:38.484686",
          "exception": false,
          "start_time": "2024-06-17T20:08:38.432752",
          "status": "completed"
        },
        "tags": []
      },
      "outputs": [
        {
          "data": {
            "text/plain": [
              "Array([6. , 1. , 0.5, 0.5, 2. ], dtype=float64)"
            ]
          },
          "execution_count": 19,
          "metadata": {},
          "output_type": "execute_result"
        }
      ],
      "source": [
        "Ai = jnp.array([0, 1, 2, 3, 4])\n",
        "Aj = jnp.array([1, 3, 4, 0, 2])\n",
        "Ax = jnp.array([5, 6, 1, 1, 2])\n",
        "b = jnp.array([5, 3, 2, 6, 1])\n",
        "x = klujax.solve(Ai, Aj, Ax, b)\n",
        "x"
      ]
    },
    {
      "cell_type": "markdown",
      "id": "d54bfd5f-0799-493f-8677-d086b5b05b56",
      "metadata": {
        "papermill": {
          "duration": 0.013259,
          "end_time": "2024-06-17T20:08:38.511777",
          "exception": false,
          "start_time": "2024-06-17T20:08:38.498518",
          "status": "completed"
        },
        "tags": []
      },
      "source": [
        "This result is indeed correct:"
      ]
    },
    {
      "cell_type": "code",
      "execution_count": 20,
      "id": "629bbc71",
      "metadata": {
        "execution": {
          "iopub.execute_input": "2024-06-17T20:08:38.539228Z",
          "iopub.status.busy": "2024-06-17T20:08:38.538797Z",
          "iopub.status.idle": "2024-06-17T20:08:38.694131Z",
          "shell.execute_reply": "2024-06-17T20:08:38.693504Z"
        },
        "papermill": {
          "duration": 0.170532,
          "end_time": "2024-06-17T20:08:38.695398",
          "exception": false,
          "start_time": "2024-06-17T20:08:38.524866",
          "status": "completed"
        },
        "tags": []
      },
      "outputs": [
        {
          "name": "stdout",
          "output_type": "stream",
          "text": [
            "[[0. 5. 0. 0. 0.]\n",
            " [0. 0. 0. 6. 0.]\n",
            " [0. 0. 0. 0. 1.]\n",
            " [1. 0. 0. 0. 0.]\n",
            " [0. 0. 2. 0. 0.]]\n",
            "[5. 3. 2. 6. 1.]\n"
          ]
        }
      ],
      "source": [
        "A = jnp.zeros((5, 5)).at[Ai, Aj].set(Ax)\n",
        "print(A)\n",
        "print(A @ x)"
      ]
    },
    {
      "cell_type": "markdown",
      "id": "9c6d0b95-1224-4c7f-8855-99b84f2d6163",
      "metadata": {
        "papermill": {
          "duration": 0.013195,
          "end_time": "2024-06-17T20:08:38.722358",
          "exception": false,
          "start_time": "2024-06-17T20:08:38.709163",
          "status": "completed"
        },
        "tags": []
      },
      "source": [
        "However, to use this function effectively, we probably need an extra dimension for `Ax`. Indeed, we would like to solve this equation for multiple wavelengths (or more general, for multiple circuit configurations) at once. For this we can use `jax.vmap` to expose `klujax.solve` to more dimensions for `Ax`:"
      ]
    },
    {
      "cell_type": "code",
      "execution_count": 21,
      "id": "fa938a341d6f10e6",
      "metadata": {
        "execution": {
          "iopub.execute_input": "2024-06-17T20:08:38.750466Z",
          "iopub.status.busy": "2024-06-17T20:08:38.749991Z",
          "iopub.status.idle": "2024-06-17T20:08:38.753268Z",
          "shell.execute_reply": "2024-06-17T20:08:38.752752Z"
        },
        "papermill": {
          "duration": 0.018715,
          "end_time": "2024-06-17T20:08:38.754375",
          "exception": false,
          "start_time": "2024-06-17T20:08:38.735660",
          "status": "completed"
        },
        "tags": []
      },
      "outputs": [],
      "source": [
        "solve_klu = jax.vmap(klujax.solve, (None, None, 0, None), 0)"
      ]
    },
    {
      "cell_type": "markdown",
      "id": "c6f7b28c-cd7b-4136-b450-097225f2c3ba",
      "metadata": {
        "papermill": {
          "duration": 0.013672,
          "end_time": "2024-06-17T20:08:38.782002",
          "exception": false,
          "start_time": "2024-06-17T20:08:38.768330",
          "status": "completed"
        },
        "tags": []
      },
      "source": [
        "Let's now redefine `Ax` and see what it gives:"
      ]
    },
    {
      "cell_type": "code",
      "execution_count": 22,
      "id": "d4d7b6f9",
      "metadata": {
        "execution": {
          "iopub.execute_input": "2024-06-17T20:08:38.810556Z",
          "iopub.status.busy": "2024-06-17T20:08:38.810074Z",
          "iopub.status.idle": "2024-06-17T20:08:38.852499Z",
          "shell.execute_reply": "2024-06-17T20:08:38.851912Z"
        },
        "papermill": {
          "duration": 0.058107,
          "end_time": "2024-06-17T20:08:38.853710",
          "exception": false,
          "start_time": "2024-06-17T20:08:38.795603",
          "status": "completed"
        },
        "tags": []
      },
      "outputs": [
        {
          "data": {
            "text/plain": [
              "Array([[6.        , 1.        , 0.5       , 0.5       , 2.        ],\n",
              "       [3.        , 1.        , 1.        , 0.75      , 0.66666667],\n",
              "       [1.5       , 5.        , 0.2       , 1.5       , 0.66666667]],      dtype=float64)"
            ]
          },
          "execution_count": 22,
          "metadata": {},
          "output_type": "execute_result"
        }
      ],
      "source": [
        "Ai = jnp.array([0, 1, 2, 3, 4])\n",
        "Aj = jnp.array([1, 3, 4, 0, 2])\n",
        "Ax = jnp.array([[5, 6, 1, 1, 2], [5, 4, 3, 2, 1], [1, 2, 3, 4, 5]])\n",
        "b = jnp.array([5, 3, 2, 6, 1])\n",
        "x = solve_klu(Ai, Aj, Ax, b)\n",
        "x"
      ]
    },
    {
      "cell_type": "markdown",
      "id": "2bc1db8c-335b-43f0-b515-04c948f66745",
      "metadata": {
        "papermill": {
          "duration": 0.013423,
          "end_time": "2024-06-17T20:08:38.881366",
          "exception": false,
          "start_time": "2024-06-17T20:08:38.867943",
          "status": "completed"
        },
        "tags": []
      },
      "source": [
        "This result is indeed correct:"
      ]
    },
    {
      "cell_type": "code",
      "execution_count": 23,
      "id": "0afefaa6",
      "metadata": {
        "execution": {
          "iopub.execute_input": "2024-06-17T20:08:38.909719Z",
          "iopub.status.busy": "2024-06-17T20:08:38.909267Z",
          "iopub.status.idle": "2024-06-17T20:08:38.992982Z",
          "shell.execute_reply": "2024-06-17T20:08:38.992365Z"
        },
        "papermill": {
          "duration": 0.099322,
          "end_time": "2024-06-17T20:08:38.994185",
          "exception": false,
          "start_time": "2024-06-17T20:08:38.894863",
          "status": "completed"
        },
        "tags": []
      },
      "outputs": [
        {
          "data": {
            "text/plain": [
              "Array([[5., 3., 2., 6., 1.],\n",
              "       [5., 3., 2., 6., 1.],\n",
              "       [5., 3., 2., 6., 1.]], dtype=float64)"
            ]
          },
          "execution_count": 23,
          "metadata": {},
          "output_type": "execute_result"
        }
      ],
      "source": [
        "A = jnp.zeros((3, 5, 5)).at[:, Ai, Aj].set(Ax)\n",
        "jnp.einsum(\"ijk,ik->ij\", A, x)"
      ]
    },
    {
      "cell_type": "markdown",
      "id": "788f79e7-4f88-4e78-ac51-a91e8ebdfd4f",
      "metadata": {
        "papermill": {
          "duration": 0.013343,
          "end_time": "2024-06-17T20:08:39.021599",
          "exception": false,
          "start_time": "2024-06-17T20:08:39.008256",
          "status": "completed"
        },
        "tags": []
      },
      "source": [
        "Additionally, we need a way to multiply a sparse COO-matrix with a dense vector. This can be done with `klujax.coo_mul_vec`:"
      ]
    },
    {
      "cell_type": "markdown",
      "id": "2b096666-e29e-40a1-a86d-e151e89c7599",
      "metadata": {
        "papermill": {
          "duration": 0.013392,
          "end_time": "2024-06-17T20:08:39.048468",
          "exception": false,
          "start_time": "2024-06-17T20:08:39.035076",
          "status": "completed"
        },
        "tags": []
      },
      "source": [
        "However, it's useful to allow a batch dimension, this time *both* in `Ax` and in `b`:"
      ]
    },
    {
      "cell_type": "code",
      "execution_count": 24,
      "id": "c33ca4b754b95a44",
      "metadata": {
        "execution": {
          "iopub.execute_input": "2024-06-17T20:08:39.076882Z",
          "iopub.status.busy": "2024-06-17T20:08:39.076387Z",
          "iopub.status.idle": "2024-06-17T20:08:39.079534Z",
          "shell.execute_reply": "2024-06-17T20:08:39.079003Z"
        },
        "papermill": {
          "duration": 0.018794,
          "end_time": "2024-06-17T20:08:39.080731",
          "exception": false,
          "start_time": "2024-06-17T20:08:39.061937",
          "status": "completed"
        },
        "tags": []
      },
      "outputs": [],
      "source": [
        "mul_coo = None\n",
        "mul_coo = jax.vmap(klujax.coo_mul_vec, (None, None, 0, 0), 0)"
      ]
    },
    {
      "cell_type": "markdown",
      "id": "5df6d174-6ada-4118-bbf7-7fd5d2ec35c9",
      "metadata": {
        "papermill": {
          "duration": 0.013351,
          "end_time": "2024-06-17T20:08:39.107575",
          "exception": false,
          "start_time": "2024-06-17T20:08:39.094224",
          "status": "completed"
        },
        "tags": []
      },
      "source": [
        "Let's confirm this does the right thing:"
      ]
    },
    {
      "cell_type": "code",
      "execution_count": 25,
      "id": "bd868973",
      "metadata": {
        "execution": {
          "iopub.execute_input": "2024-06-17T20:08:39.135664Z",
          "iopub.status.busy": "2024-06-17T20:08:39.135205Z",
          "iopub.status.idle": "2024-06-17T20:08:39.166759Z",
          "shell.execute_reply": "2024-06-17T20:08:39.166142Z"
        },
        "papermill": {
          "duration": 0.046997,
          "end_time": "2024-06-17T20:08:39.168084",
          "exception": false,
          "start_time": "2024-06-17T20:08:39.121087",
          "status": "completed"
        },
        "tags": []
      },
      "outputs": [
        {
          "data": {
            "text/plain": [
              "Array([[5., 3., 2., 6., 1.],\n",
              "       [5., 3., 2., 6., 1.],\n",
              "       [5., 3., 2., 6., 1.]], dtype=float64)"
            ]
          },
          "execution_count": 25,
          "metadata": {},
          "output_type": "execute_result"
        }
      ],
      "source": [
        "result = mul_coo(Ai, Aj, Ax, x)\n",
        "result"
      ]
    },
    {
      "cell_type": "markdown",
      "id": "e2c47d85-38fc-4132-9d8d-593c25307ebe",
      "metadata": {
        "papermill": {
          "duration": 0.01403,
          "end_time": "2024-06-17T20:08:39.196771",
          "exception": false,
          "start_time": "2024-06-17T20:08:39.182741",
          "status": "completed"
        },
        "tags": []
      },
      "source": [
        "### Example"
      ]
    },
    {
      "cell_type": "code",
      "execution_count": 26,
      "id": "665c856d",
      "metadata": {
        "execution": {
          "iopub.execute_input": "2024-06-17T20:08:39.225384Z",
          "iopub.status.busy": "2024-06-17T20:08:39.224799Z",
          "iopub.status.idle": "2024-06-17T20:08:39.244684Z",
          "shell.execute_reply": "2024-06-17T20:08:39.244081Z"
        },
        "papermill": {
          "duration": 0.035608,
          "end_time": "2024-06-17T20:08:39.245913",
          "exception": false,
          "start_time": "2024-06-17T20:08:39.210305",
          "status": "completed"
        },
        "tags": []
      },
      "outputs": [
        {
          "name": "stdout",
          "output_type": "stream",
          "text": [
            "[[ 0.      +0.j        0.      +0.j       -0.25    +0.433015j\n",
            "  -0.433015+0.75j    ]\n",
            " [ 0.      +0.j        0.      +0.j       -0.433015+0.75j\n",
            "   0.25    -0.433015j]\n",
            " [-0.25    +0.433015j -0.433015+0.75j      0.      +0.j\n",
            "   0.      +0.j      ]\n",
            " [-0.433015+0.75j      0.25    -0.433015j  0.      +0.j\n",
            "   0.      +0.j      ]]\n",
            "{'in0': 0, 'in1': 1, 'out0': 2, 'out1': 3}\n"
          ]
        }
      ],
      "source": [
        "wg_sdict: sax.SDict = {\n",
        "    (\"in0\", \"out0\"): 0.5 + 0.86603j,\n",
        "    (\"out0\", \"in0\"): 0.5 + 0.86603j,\n",
        "}\n",
        "\n",
        "\u03c4, \u03ba = 0.5**0.5, 1j * 0.5**0.5\n",
        "dc_sdense: sax.SDense = (\n",
        "    jnp.array([[0, 0, \u03c4, \u03ba], [0, 0, \u03ba, \u03c4], [\u03c4, \u03ba, 0, 0], [\u03ba, \u03c4, 0, 0]]),\n",
        "    {\"out0\": 0, \"out1\": 1, \"in0\": 2, \"in1\": 3},\n",
        ")\n",
        "\n",
        "instances = {\n",
        "    \"dc1\": {\"component\": \"dc\"},\n",
        "    \"wg\": {\"component\": \"wg\"},\n",
        "    \"dc2\": {\"component\": \"dc\"},\n",
        "}\n",
        "connections = {\n",
        "    \"dc1,out0\": \"wg,in0\",\n",
        "    \"wg,out0\": \"dc2,in0\",\n",
        "    \"dc1,out1\": \"dc2,in1\",\n",
        "}\n",
        "ports = {\n",
        "    \"in0\": \"dc1,in0\",\n",
        "    \"in1\": \"dc1,in1\",\n",
        "    \"out0\": \"dc2,out0\",\n",
        "    \"out1\": \"dc2,out1\",\n",
        "}\n",
        "models = {\n",
        "    \"wg\": lambda: wg_sdict,\n",
        "    \"dc\": lambda: dc_sdense,\n",
        "}\n",
        "\n",
        "\n",
        "analyzed_instances = sax.backends.analyze_instances_klu(instances, models)\n",
        "analyzed_circuit = sax.backends.analyze_circuit_klu(\n",
        "    analyzed_instances, connections, ports\n",
        ")\n",
        "S, pm = sax.backends.evaluate_circuit_klu(\n",
        "    analyzed_circuit, {k: models[v[\"component\"]]() for k, v in instances.items()}\n",
        ")\n",
        "\n",
        "print(S)\n",
        "print(pm)"
      ]
    },
    {
      "cell_type": "markdown",
      "id": "2561e780-23a1-46ae-8c7b-17ccb1c80f2b",
      "metadata": {
        "papermill": {
          "duration": 0.013536,
          "end_time": "2024-06-17T20:08:39.273365",
          "exception": false,
          "start_time": "2024-06-17T20:08:39.259829",
          "status": "completed"
        },
        "tags": []
      },
      "source": [
        "the KLU backend yields `SDense` results by default:"
      ]
    },
    {
      "cell_type": "code",
      "execution_count": 27,
      "id": "ecc3115e",
      "metadata": {
        "execution": {
          "iopub.execute_input": "2024-06-17T20:08:39.320225Z",
          "iopub.status.busy": "2024-06-17T20:08:39.319764Z",
          "iopub.status.idle": "2024-06-17T20:08:39.324418Z",
          "shell.execute_reply": "2024-06-17T20:08:39.323912Z"
        },
        "papermill": {
          "duration": 0.020572,
          "end_time": "2024-06-17T20:08:39.325532",
          "exception": false,
          "start_time": "2024-06-17T20:08:39.304960",
          "status": "completed"
        },
        "tags": []
      },
      "outputs": [
        {
          "data": {
            "text/plain": [
              "(Array([[ 0.      +0.j      ,  0.      +0.j      , -0.25    +0.433015j,\n",
              "         -0.433015+0.75j    ],\n",
              "        [ 0.      +0.j      ,  0.      +0.j      , -0.433015+0.75j    ,\n",
              "          0.25    -0.433015j],\n",
              "        [-0.25    +0.433015j, -0.433015+0.75j    ,  0.      +0.j      ,\n",
              "          0.      +0.j      ],\n",
              "        [-0.433015+0.75j    ,  0.25    -0.433015j,  0.      +0.j      ,\n",
              "          0.      +0.j      ]], dtype=complex128),\n",
              " {'in0': 0, 'in1': 1, 'out0': 2, 'out1': 3})"
            ]
          },
          "execution_count": 27,
          "metadata": {},
          "output_type": "execute_result"
        }
      ],
      "source": [
        "mzi_sdense = (S, pm)\n",
        "mzi_sdense"
      ]
    },
    {
      "cell_type": "markdown",
      "id": "ccf222e3-b0a9-4732-8c5b-f449ab0217ba",
      "metadata": {
        "papermill": {
          "duration": 0.01355,
          "end_time": "2024-06-17T20:08:39.352913",
          "exception": false,
          "start_time": "2024-06-17T20:08:39.339363",
          "status": "completed"
        },
        "tags": []
      },
      "source": [
        "An `SDense` is returned for perfomance reasons. By returning an `SDense` by default we prevent any internal `SDict -> SDense` conversions in deeply hierarchical circuits. It's however very easy to convert `SDense` to `SDict` as a final step. To do this, wrap the result (or the function generating the result) with `sdict`:"
      ]
    },
    {
      "cell_type": "code",
      "execution_count": 28,
      "id": "7202ab1e",
      "metadata": {
        "execution": {
          "iopub.execute_input": "2024-06-17T20:08:39.381501Z",
          "iopub.status.busy": "2024-06-17T20:08:39.381042Z",
          "iopub.status.idle": "2024-06-17T20:08:39.394236Z",
          "shell.execute_reply": "2024-06-17T20:08:39.393655Z"
        },
        "papermill": {
          "duration": 0.028906,
          "end_time": "2024-06-17T20:08:39.395423",
          "exception": false,
          "start_time": "2024-06-17T20:08:39.366517",
          "status": "completed"
        },
        "tags": []
      },
      "outputs": [
        {
          "data": {
            "text/plain": [
              "{('in0', 'in0'): Array(0.+0.j, dtype=complex128),\n",
              " ('in0', 'in1'): Array(0.+0.j, dtype=complex128),\n",
              " ('in0', 'out0'): Array(-0.25+0.433015j, dtype=complex128),\n",
              " ('in0', 'out1'): Array(-0.433015+0.75j, dtype=complex128),\n",
              " ('in1', 'in0'): Array(0.+0.j, dtype=complex128),\n",
              " ('in1', 'in1'): Array(0.+0.j, dtype=complex128),\n",
              " ('in1', 'out0'): Array(-0.433015+0.75j, dtype=complex128),\n",
              " ('in1', 'out1'): Array(0.25-0.433015j, dtype=complex128),\n",
              " ('out0', 'in0'): Array(-0.25+0.433015j, dtype=complex128),\n",
              " ('out0', 'in1'): Array(-0.433015+0.75j, dtype=complex128),\n",
              " ('out0', 'out0'): Array(0.+0.j, dtype=complex128),\n",
              " ('out0', 'out1'): Array(0.+0.j, dtype=complex128),\n",
              " ('out1', 'in0'): Array(-0.433015+0.75j, dtype=complex128),\n",
              " ('out1', 'in1'): Array(0.25-0.433015j, dtype=complex128),\n",
              " ('out1', 'out0'): Array(0.+0.j, dtype=complex128),\n",
              " ('out1', 'out1'): Array(0.+0.j, dtype=complex128)}"
            ]
          },
          "execution_count": 28,
          "metadata": {},
          "output_type": "execute_result"
        }
      ],
      "source": [
        "sax.sdict(mzi_sdense)"
      ]
    },
    {
      "cell_type": "markdown",
      "id": "e84bdb3f-c9cc-46fb-9fad-09924bbce67b",
      "metadata": {
        "papermill": {
          "duration": 0.013942,
          "end_time": "2024-06-17T20:08:39.423720",
          "exception": false,
          "start_time": "2024-06-17T20:08:39.409778",
          "status": "completed"
        },
        "tags": []
      },
      "source": [
        "### Algorithm Walkthrough"
      ]
    },
    {
      "cell_type": "markdown",
      "id": "d79a8927-1d29-416a-84a6-1963b40cbd41",
      "metadata": {
        "papermill": {
          "duration": 0.013814,
          "end_time": "2024-06-17T20:08:39.451251",
          "exception": false,
          "start_time": "2024-06-17T20:08:39.437437",
          "status": "completed"
        },
        "tags": []
      },
      "source": [
        "Let's first enforce $C^T = C$:"
      ]
    },
    {
      "cell_type": "code",
      "execution_count": 29,
      "id": "6d7d4c39",
      "metadata": {
        "execution": {
          "iopub.execute_input": "2024-06-17T20:08:39.480361Z",
          "iopub.status.busy": "2024-06-17T20:08:39.479829Z",
          "iopub.status.idle": "2024-06-17T20:08:39.484305Z",
          "shell.execute_reply": "2024-06-17T20:08:39.483807Z"
        },
        "papermill": {
          "duration": 0.02039,
          "end_time": "2024-06-17T20:08:39.485460",
          "exception": false,
          "start_time": "2024-06-17T20:08:39.465070",
          "status": "completed"
        },
        "tags": []
      },
      "outputs": [
        {
          "data": {
            "text/plain": [
              "{'dc1,out0': 'wg,in0',\n",
              " 'wg,out0': 'dc2,in0',\n",
              " 'dc1,out1': 'dc2,in1',\n",
              " 'wg,in0': 'dc1,out0',\n",
              " 'dc2,in0': 'wg,out0',\n",
              " 'dc2,in1': 'dc1,out1'}"
            ]
          },
          "execution_count": 29,
          "metadata": {},
          "output_type": "execute_result"
        }
      ],
      "source": [
        "connections = {**connections, **{v: k for k, v in connections.items()}}\n",
        "connections"
      ]
    },
    {
      "cell_type": "markdown",
      "id": "e7b667e3-a932-4689-b7cf-39c9609377b2",
      "metadata": {
        "papermill": {
          "duration": 0.013893,
          "end_time": "2024-06-17T20:08:39.513675",
          "exception": false,
          "start_time": "2024-06-17T20:08:39.499782",
          "status": "completed"
        },
        "tags": []
      },
      "source": [
        "We'll also need the reversed ports:"
      ]
    },
    {
      "cell_type": "code",
      "execution_count": 30,
      "id": "9a70463f",
      "metadata": {
        "execution": {
          "iopub.execute_input": "2024-06-17T20:08:39.543413Z",
          "iopub.status.busy": "2024-06-17T20:08:39.542865Z",
          "iopub.status.idle": "2024-06-17T20:08:39.547163Z",
          "shell.execute_reply": "2024-06-17T20:08:39.546557Z"
        },
        "papermill": {
          "duration": 0.020668,
          "end_time": "2024-06-17T20:08:39.548397",
          "exception": false,
          "start_time": "2024-06-17T20:08:39.527729",
          "status": "completed"
        },
        "tags": []
      },
      "outputs": [
        {
          "data": {
            "text/plain": [
              "{'dc1,in0': 'in0', 'dc1,in1': 'in1', 'dc2,out0': 'out0', 'dc2,out1': 'out1'}"
            ]
          },
          "execution_count": 30,
          "metadata": {},
          "output_type": "execute_result"
        }
      ],
      "source": [
        "inverse_ports = {v: k for k, v in ports.items()}\n",
        "inverse_ports"
      ]
    },
    {
      "cell_type": "markdown",
      "id": "12b5afd1-85e3-4633-af9a-1ed4c7214c1b",
      "metadata": {
        "papermill": {
          "duration": 0.01383,
          "end_time": "2024-06-17T20:08:39.576573",
          "exception": false,
          "start_time": "2024-06-17T20:08:39.562743",
          "status": "completed"
        },
        "tags": []
      },
      "source": [
        "An the port indices"
      ]
    },
    {
      "cell_type": "code",
      "execution_count": 31,
      "id": "8e18d182",
      "metadata": {
        "execution": {
          "iopub.execute_input": "2024-06-17T20:08:39.605748Z",
          "iopub.status.busy": "2024-06-17T20:08:39.605469Z",
          "iopub.status.idle": "2024-06-17T20:08:39.609813Z",
          "shell.execute_reply": "2024-06-17T20:08:39.609331Z"
        },
        "papermill": {
          "duration": 0.020393,
          "end_time": "2024-06-17T20:08:39.611006",
          "exception": false,
          "start_time": "2024-06-17T20:08:39.590613",
          "status": "completed"
        },
        "tags": []
      },
      "outputs": [
        {
          "data": {
            "text/plain": [
              "{'in0': 0, 'in1': 1, 'out0': 2, 'out1': 3}"
            ]
          },
          "execution_count": 31,
          "metadata": {},
          "output_type": "execute_result"
        }
      ],
      "source": [
        "port_map = {k: i for i, k in enumerate(ports)}\n",
        "port_map"
      ]
    },
    {
      "cell_type": "markdown",
      "id": "5b2f18ae-af08-4482-8b0f-a72c1fee13d5",
      "metadata": {
        "papermill": {
          "duration": 0.014336,
          "end_time": "2024-06-17T20:08:39.639715",
          "exception": false,
          "start_time": "2024-06-17T20:08:39.625379",
          "status": "completed"
        },
        "tags": []
      },
      "source": [
        "Let's now create the COO-representation of our block diagonal S-matrix $S_{bd}$:"
      ]
    },
    {
      "cell_type": "code",
      "execution_count": 32,
      "id": "835deb8f",
      "metadata": {
        "execution": {
          "iopub.execute_input": "2024-06-17T20:08:39.669452Z",
          "iopub.status.busy": "2024-06-17T20:08:39.669200Z",
          "iopub.status.idle": "2024-06-17T20:08:39.679676Z",
          "shell.execute_reply": "2024-06-17T20:08:39.679085Z"
        },
        "papermill": {
          "duration": 0.026818,
          "end_time": "2024-06-17T20:08:39.680830",
          "exception": false,
          "start_time": "2024-06-17T20:08:39.654012",
          "status": "completed"
        },
        "tags": []
      },
      "outputs": [
        {
          "name": "stdout",
          "output_type": "stream",
          "text": [
            "[0 0 0 0 1 1 1 1 2 2 2 2 3 3 3 3 4 5 6 6 6 6 7 7 7 7 8 8 8 8 9 9 9 9]\n",
            "[0 1 2 3 0 1 2 3 0 1 2 3 0 1 2 3 5 4 6 7 8 9 6 7 8 9 6 7 8 9 6 7 8 9]\n",
            "[0.        +0.j         0.        +0.j         0.70710678+0.j\n",
            " 0.        +0.70710678j 0.        +0.j         0.        +0.j\n",
            " 0.        +0.70710678j 0.70710678+0.j         0.70710678+0.j\n",
            " 0.        +0.70710678j 0.        +0.j         0.        +0.j\n",
            " 0.        +0.70710678j 0.70710678+0.j         0.        +0.j\n",
            " 0.        +0.j         0.5       +0.86603j    0.5       +0.86603j\n",
            " 0.        +0.j         0.        +0.j         0.70710678+0.j\n",
            " 0.        +0.70710678j 0.        +0.j         0.        +0.j\n",
            " 0.        +0.70710678j 0.70710678+0.j         0.70710678+0.j\n",
            " 0.        +0.70710678j 0.        +0.j         0.        +0.j\n",
            " 0.        +0.70710678j 0.70710678+0.j         0.        +0.j\n",
            " 0.        +0.j        ]\n"
          ]
        }
      ],
      "source": [
        "idx, Si, Sj, Sx, instance_ports = 0, [], [], [], {}\n",
        "batch_shape = ()\n",
        "for name, instance in instances.items():\n",
        "    s = models[instance[\"component\"]]()\n",
        "    si, sj, sx, ports_map = sax.scoo(s)\n",
        "    Si.append(si + idx)\n",
        "    Sj.append(sj + idx)\n",
        "    Sx.append(sx)\n",
        "    if len(sx.shape[:-1]) > len(batch_shape):\n",
        "        batch_shape = sx.shape[:-1]\n",
        "    instance_ports.update({f\"{name},{p}\": i + idx for p, i in ports_map.items()})\n",
        "    idx += len(ports_map)\n",
        "Si = jnp.concatenate(Si, -1)\n",
        "Sj = jnp.concatenate(Sj, -1)\n",
        "Sx = jnp.concatenate(\n",
        "    [jnp.broadcast_to(sx, (*batch_shape, sx.shape[-1])) for sx in Sx], -1\n",
        ")\n",
        "\n",
        "print(Si)\n",
        "print(Sj)\n",
        "print(Sx)"
      ]
    },
    {
      "cell_type": "markdown",
      "id": "9b98486a-f99a-4284-89ee-302049fb6e0d",
      "metadata": {
        "papermill": {
          "duration": 0.014046,
          "end_time": "2024-06-17T20:08:39.709227",
          "exception": false,
          "start_time": "2024-06-17T20:08:39.695181",
          "status": "completed"
        },
        "tags": []
      },
      "source": [
        "note that we also kept track of the `batch_shape`, i.e. the number of independent simulations (usually number of wavelengths). In the example being used here we don't have a batch dimension (all elements of the `SDict` are `0D`):"
      ]
    },
    {
      "cell_type": "code",
      "execution_count": 33,
      "id": "7513759a",
      "metadata": {
        "execution": {
          "iopub.execute_input": "2024-06-17T20:08:39.738796Z",
          "iopub.status.busy": "2024-06-17T20:08:39.738285Z",
          "iopub.status.idle": "2024-06-17T20:08:39.742312Z",
          "shell.execute_reply": "2024-06-17T20:08:39.741735Z"
        },
        "papermill": {
          "duration": 0.020134,
          "end_time": "2024-06-17T20:08:39.743463",
          "exception": false,
          "start_time": "2024-06-17T20:08:39.723329",
          "status": "completed"
        },
        "tags": []
      },
      "outputs": [
        {
          "data": {
            "text/plain": [
              "()"
            ]
          },
          "execution_count": 33,
          "metadata": {},
          "output_type": "execute_result"
        }
      ],
      "source": [
        "batch_shape"
      ]
    },
    {
      "cell_type": "markdown",
      "id": "183f6113-0f54-47f9-87c4-c3ec2ec3ec85",
      "metadata": {
        "papermill": {
          "duration": 0.014143,
          "end_time": "2024-06-17T20:08:39.772126",
          "exception": false,
          "start_time": "2024-06-17T20:08:39.757983",
          "status": "completed"
        },
        "tags": []
      },
      "source": [
        "We'll also keep track of the number of columns"
      ]
    },
    {
      "cell_type": "code",
      "execution_count": 34,
      "id": "89000432",
      "metadata": {
        "execution": {
          "iopub.execute_input": "2024-06-17T20:08:39.801893Z",
          "iopub.status.busy": "2024-06-17T20:08:39.801499Z",
          "iopub.status.idle": "2024-06-17T20:08:39.805352Z",
          "shell.execute_reply": "2024-06-17T20:08:39.804861Z"
        },
        "papermill": {
          "duration": 0.020199,
          "end_time": "2024-06-17T20:08:39.806488",
          "exception": false,
          "start_time": "2024-06-17T20:08:39.786289",
          "status": "completed"
        },
        "tags": []
      },
      "outputs": [
        {
          "data": {
            "text/plain": [
              "10"
            ]
          },
          "execution_count": 34,
          "metadata": {},
          "output_type": "execute_result"
        }
      ],
      "source": [
        "n_col = idx\n",
        "n_col"
      ]
    },
    {
      "cell_type": "markdown",
      "id": "ed6ec22f-4bb6-4a84-9143-435ca8dddb8b",
      "metadata": {
        "papermill": {
          "duration": 0.014105,
          "end_time": "2024-06-17T20:08:39.835026",
          "exception": false,
          "start_time": "2024-06-17T20:08:39.820921",
          "status": "completed"
        },
        "tags": []
      },
      "source": [
        "And we'll need to solve the circuit for each output port, i.e. we need to solve `n_rhs` number of equations:"
      ]
    },
    {
      "cell_type": "code",
      "execution_count": 35,
      "id": "27902354",
      "metadata": {
        "execution": {
          "iopub.execute_input": "2024-06-17T20:08:39.864673Z",
          "iopub.status.busy": "2024-06-17T20:08:39.864162Z",
          "iopub.status.idle": "2024-06-17T20:08:39.868152Z",
          "shell.execute_reply": "2024-06-17T20:08:39.867565Z"
        },
        "papermill": {
          "duration": 0.020239,
          "end_time": "2024-06-17T20:08:39.869534",
          "exception": false,
          "start_time": "2024-06-17T20:08:39.849295",
          "status": "completed"
        },
        "tags": []
      },
      "outputs": [
        {
          "data": {
            "text/plain": [
              "4"
            ]
          },
          "execution_count": 35,
          "metadata": {},
          "output_type": "execute_result"
        }
      ],
      "source": [
        "n_rhs = len(port_map)\n",
        "n_rhs"
      ]
    },
    {
      "cell_type": "markdown",
      "id": "e6eb8aaa-0e61-4080-9e86-544167a58e46",
      "metadata": {
        "papermill": {
          "duration": 0.014275,
          "end_time": "2024-06-17T20:08:39.901110",
          "exception": false,
          "start_time": "2024-06-17T20:08:39.886835",
          "status": "completed"
        },
        "tags": []
      },
      "source": [
        "We can represent the internal connection matrix $C_{int}$ as a mapping between port indices:"
      ]
    },
    {
      "cell_type": "code",
      "execution_count": 36,
      "id": "f3ff1fa7",
      "metadata": {
        "execution": {
          "iopub.execute_input": "2024-06-17T20:08:39.931192Z",
          "iopub.status.busy": "2024-06-17T20:08:39.930720Z",
          "iopub.status.idle": "2024-06-17T20:08:39.935049Z",
          "shell.execute_reply": "2024-06-17T20:08:39.934472Z"
        },
        "papermill": {
          "duration": 0.020639,
          "end_time": "2024-06-17T20:08:39.936237",
          "exception": false,
          "start_time": "2024-06-17T20:08:39.915598",
          "status": "completed"
        },
        "tags": []
      },
      "outputs": [
        {
          "data": {
            "text/plain": [
              "{0: 4, 5: 8, 1: 9, 4: 0, 8: 5, 9: 1}"
            ]
          },
          "execution_count": 36,
          "metadata": {},
          "output_type": "execute_result"
        }
      ],
      "source": [
        "Cmap = {int(instance_ports[k]): int(instance_ports[v]) for k, v in connections.items()}\n",
        "Cmap"
      ]
    },
    {
      "cell_type": "markdown",
      "id": "b9db7990-fe17-4cca-907a-cca94b06f03b",
      "metadata": {
        "papermill": {
          "duration": 0.014153,
          "end_time": "2024-06-17T20:08:39.964901",
          "exception": false,
          "start_time": "2024-06-17T20:08:39.950748",
          "status": "completed"
        },
        "tags": []
      },
      "source": [
        "Therefore, the COO-representation of this connection matrix can be obtained as follows (note that an array of values Cx is not necessary, all non-zero elements in a connection matrix are 1)"
      ]
    },
    {
      "cell_type": "code",
      "execution_count": 37,
      "id": "9e4f1728",
      "metadata": {
        "execution": {
          "iopub.execute_input": "2024-06-17T20:08:39.994647Z",
          "iopub.status.busy": "2024-06-17T20:08:39.994215Z",
          "iopub.status.idle": "2024-06-17T20:08:39.998613Z",
          "shell.execute_reply": "2024-06-17T20:08:39.998114Z"
        },
        "papermill": {
          "duration": 0.020509,
          "end_time": "2024-06-17T20:08:39.999711",
          "exception": false,
          "start_time": "2024-06-17T20:08:39.979202",
          "status": "completed"
        },
        "tags": []
      },
      "outputs": [
        {
          "name": "stdout",
          "output_type": "stream",
          "text": [
            "[0 5 1 4 8 9]\n",
            "[4 8 9 0 5 1]\n"
          ]
        }
      ],
      "source": [
        "Ci = jnp.array(list(Cmap.keys()), dtype=jnp.int32)\n",
        "Cj = jnp.array(list(Cmap.values()), dtype=jnp.int32)\n",
        "print(Ci)\n",
        "print(Cj)"
      ]
    },
    {
      "cell_type": "markdown",
      "id": "0fc2572d-3af5-4ab9-a12d-d7b8487ca84f",
      "metadata": {
        "papermill": {
          "duration": 0.01451,
          "end_time": "2024-06-17T20:08:40.028893",
          "exception": false,
          "start_time": "2024-06-17T20:08:40.014383",
          "status": "completed"
        },
        "tags": []
      },
      "source": [
        "We can represent the external connection matrix $C_{ext}$ as a map between internal port indices and external port indices:"
      ]
    },
    {
      "cell_type": "code",
      "execution_count": 38,
      "id": "f56ae166",
      "metadata": {
        "execution": {
          "iopub.execute_input": "2024-06-17T20:08:40.058852Z",
          "iopub.status.busy": "2024-06-17T20:08:40.058455Z",
          "iopub.status.idle": "2024-06-17T20:08:40.062926Z",
          "shell.execute_reply": "2024-06-17T20:08:40.062338Z"
        },
        "papermill": {
          "duration": 0.020763,
          "end_time": "2024-06-17T20:08:40.064041",
          "exception": false,
          "start_time": "2024-06-17T20:08:40.043278",
          "status": "completed"
        },
        "tags": []
      },
      "outputs": [
        {
          "data": {
            "text/plain": [
              "{2: 0, 3: 1, 6: 2, 7: 3}"
            ]
          },
          "execution_count": 38,
          "metadata": {},
          "output_type": "execute_result"
        }
      ],
      "source": [
        "Cextmap = {int(instance_ports[k]): int(port_map[v]) for k, v in inverse_ports.items()}\n",
        "Cextmap"
      ]
    },
    {
      "cell_type": "markdown",
      "id": "0e406982-d2c9-426e-ac46-fa4650e2f7dc",
      "metadata": {
        "papermill": {
          "duration": 0.01438,
          "end_time": "2024-06-17T20:08:40.093079",
          "exception": false,
          "start_time": "2024-06-17T20:08:40.078699",
          "status": "completed"
        },
        "tags": []
      },
      "source": [
        "Just as for the internal matrix we can represent this external connection matrix in COO-format:"
      ]
    },
    {
      "cell_type": "code",
      "execution_count": 39,
      "id": "cfb419ac",
      "metadata": {
        "execution": {
          "iopub.execute_input": "2024-06-17T20:08:40.123642Z",
          "iopub.status.busy": "2024-06-17T20:08:40.123091Z",
          "iopub.status.idle": "2024-06-17T20:08:40.128046Z",
          "shell.execute_reply": "2024-06-17T20:08:40.127573Z"
        },
        "papermill": {
          "duration": 0.021633,
          "end_time": "2024-06-17T20:08:40.129243",
          "exception": false,
          "start_time": "2024-06-17T20:08:40.107610",
          "status": "completed"
        },
        "tags": []
      },
      "outputs": [
        {
          "name": "stdout",
          "output_type": "stream",
          "text": [
            "[2 3 6 7]\n",
            "[0 1 2 3]\n"
          ]
        }
      ],
      "source": [
        "Cexti = jnp.stack(list(Cextmap.keys()), 0)\n",
        "Cextj = jnp.stack(list(Cextmap.values()), 0)\n",
        "print(Cexti)\n",
        "print(Cextj)"
      ]
    },
    {
      "cell_type": "markdown",
      "id": "933aab49-ec05-4690-8caf-adbc93f0f715",
      "metadata": {
        "papermill": {
          "duration": 0.014845,
          "end_time": "2024-06-17T20:08:40.159359",
          "exception": false,
          "start_time": "2024-06-17T20:08:40.144514",
          "status": "completed"
        },
        "tags": []
      },
      "source": [
        "However, we actually need it as a dense representation:\n",
        "\n",
        "> help needed: can we find a way later on to keep this sparse?"
      ]
    },
    {
      "cell_type": "code",
      "execution_count": 40,
      "id": "25c4ec6e",
      "metadata": {
        "execution": {
          "iopub.execute_input": "2024-06-17T20:08:40.190044Z",
          "iopub.status.busy": "2024-06-17T20:08:40.189600Z",
          "iopub.status.idle": "2024-06-17T20:08:40.196063Z",
          "shell.execute_reply": "2024-06-17T20:08:40.195564Z"
        },
        "papermill": {
          "duration": 0.023432,
          "end_time": "2024-06-17T20:08:40.197480",
          "exception": false,
          "start_time": "2024-06-17T20:08:40.174048",
          "status": "completed"
        },
        "tags": []
      },
      "outputs": [
        {
          "data": {
            "text/plain": [
              "Array([[0.+0.j, 0.+0.j, 0.+0.j, 0.+0.j],\n",
              "       [0.+0.j, 0.+0.j, 0.+0.j, 0.+0.j],\n",
              "       [1.+0.j, 0.+0.j, 0.+0.j, 0.+0.j],\n",
              "       [0.+0.j, 1.+0.j, 0.+0.j, 0.+0.j],\n",
              "       [0.+0.j, 0.+0.j, 0.+0.j, 0.+0.j],\n",
              "       [0.+0.j, 0.+0.j, 0.+0.j, 0.+0.j],\n",
              "       [0.+0.j, 0.+0.j, 1.+0.j, 0.+0.j],\n",
              "       [0.+0.j, 0.+0.j, 0.+0.j, 1.+0.j],\n",
              "       [0.+0.j, 0.+0.j, 0.+0.j, 0.+0.j],\n",
              "       [0.+0.j, 0.+0.j, 0.+0.j, 0.+0.j]], dtype=complex128)"
            ]
          },
          "execution_count": 40,
          "metadata": {},
          "output_type": "execute_result"
        }
      ],
      "source": [
        "Cext = jnp.zeros((n_col, n_rhs), dtype=complex).at[Cexti, Cextj].set(1.0)\n",
        "Cext"
      ]
    },
    {
      "cell_type": "markdown",
      "id": "ee0e1a8b-21cd-4a81-a3e9-e312cc94ae6e",
      "metadata": {
        "papermill": {
          "duration": 0.014774,
          "end_time": "2024-06-17T20:08:40.227395",
          "exception": false,
          "start_time": "2024-06-17T20:08:40.212621",
          "status": "completed"
        },
        "tags": []
      },
      "source": [
        "We'll now calculate the row index `CSi` of $C_{int}S_{bd}$ in COO-format:"
      ]
    },
    {
      "cell_type": "code",
      "execution_count": 41,
      "id": "d573f8ddb1a50fe0",
      "metadata": {
        "execution": {
          "iopub.execute_input": "2024-06-17T20:08:40.258244Z",
          "iopub.status.busy": "2024-06-17T20:08:40.257753Z",
          "iopub.status.idle": "2024-06-17T20:08:40.264726Z",
          "shell.execute_reply": "2024-06-17T20:08:40.264243Z"
        },
        "papermill": {
          "duration": 0.023763,
          "end_time": "2024-06-17T20:08:40.265825",
          "exception": false,
          "start_time": "2024-06-17T20:08:40.242062",
          "status": "completed"
        },
        "tags": []
      },
      "outputs": [
        {
          "data": {
            "text/plain": [
              "Array([4, 4, 4, 4, 9, 9, 9, 9, 0, 8, 5, 5, 5, 5, 1, 1, 1, 1], dtype=int32)"
            ]
          },
          "execution_count": 41,
          "metadata": {},
          "output_type": "execute_result"
        }
      ],
      "source": [
        "# TODO: make this block jittable...\n",
        "Ix = jnp.ones((*batch_shape, n_col))\n",
        "Ii = Ij = jnp.arange(n_col)\n",
        "mask = Cj[None, :] == Si[:, None]\n",
        "CSi = jnp.broadcast_to(Ci[None, :], mask.shape)[mask]\n",
        "CSi"
      ]
    },
    {
      "cell_type": "markdown",
      "id": "48d97ac6-ec8b-4040-9310-b49de1d69810",
      "metadata": {
        "papermill": {
          "duration": 0.015302,
          "end_time": "2024-06-17T20:08:40.296532",
          "exception": false,
          "start_time": "2024-06-17T20:08:40.281230",
          "status": "completed"
        },
        "tags": []
      },
      "source": [
        "> `CSi`: possible jittable alternative? how do we remove the zeros?"
      ]
    },
    {
      "cell_type": "code",
      "execution_count": 42,
      "id": "d4ea2cb5",
      "metadata": {
        "execution": {
          "iopub.execute_input": "2024-06-17T20:08:40.328357Z",
          "iopub.status.busy": "2024-06-17T20:08:40.327802Z",
          "iopub.status.idle": "2024-06-17T20:08:40.363656Z",
          "shell.execute_reply": "2024-06-17T20:08:40.363028Z"
        },
        "papermill": {
          "duration": 0.053254,
          "end_time": "2024-06-17T20:08:40.364886",
          "exception": false,
          "start_time": "2024-06-17T20:08:40.311632",
          "status": "completed"
        },
        "tags": []
      },
      "outputs": [
        {
          "data": {
            "text/plain": [
              "Array([4, 4, 4, 4, 9, 9, 9, 9, 0, 0, 0, 0, 0, 0, 0, 0, 0, 8, 0, 0, 0, 0,\n",
              "       0, 0, 0, 0, 5, 5, 5, 5, 1, 1, 1, 1], dtype=int64)"
            ]
          },
          "execution_count": 42,
          "metadata": {},
          "output_type": "execute_result"
        }
      ],
      "source": [
        "CSi_ = jnp.where(Cj[None, :] == Si[:, None], Ci[None, :], 0).sum(1)  # not used\n",
        "CSi_  # not used"
      ]
    },
    {
      "cell_type": "markdown",
      "id": "40923193-6a18-479f-9bc6-63a32fdf1f0a",
      "metadata": {
        "papermill": {
          "duration": 0.015074,
          "end_time": "2024-06-17T20:08:40.395870",
          "exception": false,
          "start_time": "2024-06-17T20:08:40.380796",
          "status": "completed"
        },
        "tags": []
      },
      "source": [
        "The column index `CSj` of $C_{int}S_{bd}$ can more easily be obtained:"
      ]
    },
    {
      "cell_type": "code",
      "execution_count": 43,
      "id": "f71fdd7c",
      "metadata": {
        "execution": {
          "iopub.execute_input": "2024-06-17T20:08:40.427506Z",
          "iopub.status.busy": "2024-06-17T20:08:40.426887Z",
          "iopub.status.idle": "2024-06-17T20:08:40.432995Z",
          "shell.execute_reply": "2024-06-17T20:08:40.432410Z"
        },
        "papermill": {
          "duration": 0.0231,
          "end_time": "2024-06-17T20:08:40.434138",
          "exception": false,
          "start_time": "2024-06-17T20:08:40.411038",
          "status": "completed"
        },
        "tags": []
      },
      "outputs": [
        {
          "data": {
            "text/plain": [
              "Array([0, 1, 2, 3, 0, 1, 2, 3, 5, 4, 6, 7, 8, 9, 6, 7, 8, 9], dtype=int64)"
            ]
          },
          "execution_count": 43,
          "metadata": {},
          "output_type": "execute_result"
        }
      ],
      "source": [
        "mask = (Cj[:, None] == Si[None, :]).any(0)\n",
        "CSj = Sj[mask]\n",
        "CSj"
      ]
    },
    {
      "cell_type": "markdown",
      "id": "86928ec4-0935-4876-b0eb-bb25945e2e6b",
      "metadata": {
        "papermill": {
          "duration": 0.014954,
          "end_time": "2024-06-17T20:08:40.464284",
          "exception": false,
          "start_time": "2024-06-17T20:08:40.449330",
          "status": "completed"
        },
        "tags": []
      },
      "source": [
        "Finally, the values `CSx` of $C_{int}S_{bd}$ can be obtained as follows:"
      ]
    },
    {
      "cell_type": "code",
      "execution_count": 44,
      "id": "59d2e1b2",
      "metadata": {
        "execution": {
          "iopub.execute_input": "2024-06-17T20:08:40.495640Z",
          "iopub.status.busy": "2024-06-17T20:08:40.495068Z",
          "iopub.status.idle": "2024-06-17T20:08:40.500793Z",
          "shell.execute_reply": "2024-06-17T20:08:40.500239Z"
        },
        "papermill": {
          "duration": 0.022743,
          "end_time": "2024-06-17T20:08:40.501948",
          "exception": false,
          "start_time": "2024-06-17T20:08:40.479205",
          "status": "completed"
        },
        "tags": []
      },
      "outputs": [
        {
          "data": {
            "text/plain": [
              "Array([0.        +0.j        , 0.        +0.j        ,\n",
              "       0.70710678+0.j        , 0.        +0.70710678j,\n",
              "       0.        +0.j        , 0.        +0.j        ,\n",
              "       0.        +0.70710678j, 0.70710678+0.j        ,\n",
              "       0.5       +0.86603j   , 0.5       +0.86603j   ,\n",
              "       0.70710678+0.j        , 0.        +0.70710678j,\n",
              "       0.        +0.j        , 0.        +0.j        ,\n",
              "       0.        +0.70710678j, 0.70710678+0.j        ,\n",
              "       0.        +0.j        , 0.        +0.j        ], dtype=complex128)"
            ]
          },
          "execution_count": 44,
          "metadata": {},
          "output_type": "execute_result"
        }
      ],
      "source": [
        "CSx = Sx[..., mask]\n",
        "CSx"
      ]
    },
    {
      "cell_type": "markdown",
      "id": "85689511-e580-4e8c-93b6-3c4744624889",
      "metadata": {
        "papermill": {
          "duration": 0.014906,
          "end_time": "2024-06-17T20:08:40.532200",
          "exception": false,
          "start_time": "2024-06-17T20:08:40.517294",
          "status": "completed"
        },
        "tags": []
      },
      "source": [
        "Now we calculate $I - C_{int}S_{bd}$ in an *uncoalesced* way (we might have duplicate indices on the diagonal):\n",
        "\n",
        "> **uncoalesced**: having duplicate index combinations (i, j) in the representation possibly with different corresponding values. This is usually not a problem as in linear operations these values will end up to be summed, usually the behavior you want:"
      ]
    },
    {
      "cell_type": "code",
      "execution_count": 45,
      "id": "53c3f4ab",
      "metadata": {
        "execution": {
          "iopub.execute_input": "2024-06-17T20:08:40.563499Z",
          "iopub.status.busy": "2024-06-17T20:08:40.563078Z",
          "iopub.status.idle": "2024-06-17T20:08:40.568421Z",
          "shell.execute_reply": "2024-06-17T20:08:40.567930Z"
        },
        "papermill": {
          "duration": 0.022408,
          "end_time": "2024-06-17T20:08:40.569557",
          "exception": false,
          "start_time": "2024-06-17T20:08:40.547149",
          "status": "completed"
        },
        "tags": []
      },
      "outputs": [
        {
          "name": "stdout",
          "output_type": "stream",
          "text": [
            "[4 4 4 4 9 9 9 9 0 8 5 5 5 5 1 1 1 1 0 1 2 3 4 5 6 7 8 9]\n",
            "[0 1 2 3 0 1 2 3 5 4 6 7 8 9 6 7 8 9 0 1 2 3 4 5 6 7 8 9]\n",
            "[-0.        -0.j         -0.        -0.j         -0.70710678-0.j\n",
            " -0.        -0.70710678j -0.        -0.j         -0.        -0.j\n",
            " -0.        -0.70710678j -0.70710678-0.j         -0.5       -0.86603j\n",
            " -0.5       -0.86603j    -0.70710678-0.j         -0.        -0.70710678j\n",
            " -0.        -0.j         -0.        -0.j         -0.        -0.70710678j\n",
            " -0.70710678-0.j         -0.        -0.j         -0.        -0.j\n",
            "  1.        +0.j          1.        +0.j          1.        +0.j\n",
            "  1.        +0.j          1.        +0.j          1.        +0.j\n",
            "  1.        +0.j          1.        +0.j          1.        +0.j\n",
            "  1.        +0.j        ]\n"
          ]
        }
      ],
      "source": [
        "I_CSi = jnp.concatenate([CSi, Ii], -1)\n",
        "I_CSj = jnp.concatenate([CSj, Ij], -1)\n",
        "I_CSx = jnp.concatenate([-CSx, Ix], -1)\n",
        "print(I_CSi)\n",
        "print(I_CSj)\n",
        "print(I_CSx)"
      ]
    },
    {
      "cell_type": "code",
      "execution_count": 46,
      "id": "188e4606",
      "metadata": {
        "execution": {
          "iopub.execute_input": "2024-06-17T20:08:40.601309Z",
          "iopub.status.busy": "2024-06-17T20:08:40.601097Z",
          "iopub.status.idle": "2024-06-17T20:08:40.604221Z",
          "shell.execute_reply": "2024-06-17T20:08:40.603629Z"
        },
        "papermill": {
          "duration": 0.020176,
          "end_time": "2024-06-17T20:08:40.605354",
          "exception": false,
          "start_time": "2024-06-17T20:08:40.585178",
          "status": "completed"
        },
        "tags": []
      },
      "outputs": [
        {
          "name": "stdout",
          "output_type": "stream",
          "text": [
            "10 4\n"
          ]
        }
      ],
      "source": [
        "n_col, n_rhs = Cext.shape\n",
        "print(n_col, n_rhs)"
      ]
    },
    {
      "cell_type": "markdown",
      "id": "f39b59a8-d495-433f-92bc-2396fb0b28f9",
      "metadata": {
        "papermill": {
          "duration": 0.015439,
          "end_time": "2024-06-17T20:08:40.636162",
          "exception": false,
          "start_time": "2024-06-17T20:08:40.620723",
          "status": "completed"
        },
        "tags": []
      },
      "source": [
        "The batch shape dimension can generally speaking be anything (in the example here 0D). We need to do the necessary reshapings to make the batch shape 1D:"
      ]
    },
    {
      "cell_type": "code",
      "execution_count": 47,
      "id": "dad259e7",
      "metadata": {
        "execution": {
          "iopub.execute_input": "2024-06-17T20:08:40.668044Z",
          "iopub.status.busy": "2024-06-17T20:08:40.667781Z",
          "iopub.status.idle": "2024-06-17T20:08:40.690261Z",
          "shell.execute_reply": "2024-06-17T20:08:40.689735Z"
        },
        "papermill": {
          "duration": 0.040186,
          "end_time": "2024-06-17T20:08:40.691524",
          "exception": false,
          "start_time": "2024-06-17T20:08:40.651338",
          "status": "completed"
        },
        "tags": []
      },
      "outputs": [
        {
          "name": "stdout",
          "output_type": "stream",
          "text": [
            "1\n"
          ]
        }
      ],
      "source": [
        "n_lhs = jnp.prod(jnp.array(batch_shape, dtype=jnp.int32))\n",
        "print(n_lhs)"
      ]
    },
    {
      "cell_type": "code",
      "execution_count": 48,
      "id": "9cf69da7",
      "metadata": {
        "execution": {
          "iopub.execute_input": "2024-06-17T20:08:40.724567Z",
          "iopub.status.busy": "2024-06-17T20:08:40.724330Z",
          "iopub.status.idle": "2024-06-17T20:08:40.728697Z",
          "shell.execute_reply": "2024-06-17T20:08:40.728201Z"
        },
        "papermill": {
          "duration": 0.022064,
          "end_time": "2024-06-17T20:08:40.729835",
          "exception": false,
          "start_time": "2024-06-17T20:08:40.707771",
          "status": "completed"
        },
        "tags": []
      },
      "outputs": [
        {
          "data": {
            "text/plain": [
              "(1, 34)"
            ]
          },
          "execution_count": 48,
          "metadata": {},
          "output_type": "execute_result"
        }
      ],
      "source": [
        "Sx = Sx.reshape(n_lhs, -1)\n",
        "Sx.shape"
      ]
    },
    {
      "cell_type": "code",
      "execution_count": 49,
      "id": "788294fa",
      "metadata": {
        "execution": {
          "iopub.execute_input": "2024-06-17T20:08:40.762090Z",
          "iopub.status.busy": "2024-06-17T20:08:40.761825Z",
          "iopub.status.idle": "2024-06-17T20:08:40.766163Z",
          "shell.execute_reply": "2024-06-17T20:08:40.765687Z"
        },
        "papermill": {
          "duration": 0.021796,
          "end_time": "2024-06-17T20:08:40.767256",
          "exception": false,
          "start_time": "2024-06-17T20:08:40.745460",
          "status": "completed"
        },
        "tags": []
      },
      "outputs": [
        {
          "data": {
            "text/plain": [
              "(1, 28)"
            ]
          },
          "execution_count": 49,
          "metadata": {},
          "output_type": "execute_result"
        }
      ],
      "source": [
        "I_CSx = I_CSx.reshape(n_lhs, -1)\n",
        "I_CSx.shape"
      ]
    },
    {
      "cell_type": "markdown",
      "id": "fface8e7-ccd3-4dd9-aa88-532c91fd34d3",
      "metadata": {
        "papermill": {
          "duration": 0.015742,
          "end_time": "2024-06-17T20:08:40.798715",
          "exception": false,
          "start_time": "2024-06-17T20:08:40.782973",
          "status": "completed"
        },
        "tags": []
      },
      "source": [
        "We're finally ready to do the most important part of the calculation, which we conveniently leave to `klujax` and `SuiteSparse`:"
      ]
    },
    {
      "cell_type": "code",
      "execution_count": 50,
      "id": "9c1d8644",
      "metadata": {
        "execution": {
          "iopub.execute_input": "2024-06-17T20:08:40.831343Z",
          "iopub.status.busy": "2024-06-17T20:08:40.831066Z",
          "iopub.status.idle": "2024-06-17T20:08:40.835041Z",
          "shell.execute_reply": "2024-06-17T20:08:40.834503Z"
        },
        "papermill": {
          "duration": 0.021682,
          "end_time": "2024-06-17T20:08:40.836117",
          "exception": false,
          "start_time": "2024-06-17T20:08:40.814435",
          "status": "completed"
        },
        "tags": []
      },
      "outputs": [],
      "source": [
        "inv_I_CS_Cext = solve_klu(I_CSi, I_CSj, I_CSx, Cext)"
      ]
    },
    {
      "cell_type": "markdown",
      "id": "0c63faff-930d-4006-aaa1-4809396f6aff",
      "metadata": {
        "papermill": {
          "duration": 0.01547,
          "end_time": "2024-06-17T20:08:40.867158",
          "exception": false,
          "start_time": "2024-06-17T20:08:40.851688",
          "status": "completed"
        },
        "tags": []
      },
      "source": [
        "one more sparse multiplication:"
      ]
    },
    {
      "cell_type": "code",
      "execution_count": 51,
      "id": "cccda072",
      "metadata": {
        "execution": {
          "iopub.execute_input": "2024-06-17T20:08:40.899405Z",
          "iopub.status.busy": "2024-06-17T20:08:40.899122Z",
          "iopub.status.idle": "2024-06-17T20:08:40.903089Z",
          "shell.execute_reply": "2024-06-17T20:08:40.902549Z"
        },
        "papermill": {
          "duration": 0.021601,
          "end_time": "2024-06-17T20:08:40.904266",
          "exception": false,
          "start_time": "2024-06-17T20:08:40.882665",
          "status": "completed"
        },
        "tags": []
      },
      "outputs": [],
      "source": [
        "S_inv_I_CS_Cext = mul_coo(Si, Sj, Sx, inv_I_CS_Cext)"
      ]
    },
    {
      "cell_type": "markdown",
      "id": "6cb6b730-eef1-41ea-a190-83be5f631dec",
      "metadata": {
        "papermill": {
          "duration": 0.015809,
          "end_time": "2024-06-17T20:08:40.936369",
          "exception": false,
          "start_time": "2024-06-17T20:08:40.920560",
          "status": "completed"
        },
        "tags": []
      },
      "source": [
        "And one more $C_{ext}$ multiplication which we do by clever indexing:"
      ]
    },
    {
      "cell_type": "code",
      "execution_count": 52,
      "id": "12ff877c",
      "metadata": {
        "execution": {
          "iopub.execute_input": "2024-06-17T20:08:40.969107Z",
          "iopub.status.busy": "2024-06-17T20:08:40.968522Z",
          "iopub.status.idle": "2024-06-17T20:08:40.974694Z",
          "shell.execute_reply": "2024-06-17T20:08:40.974213Z"
        },
        "papermill": {
          "duration": 0.023877,
          "end_time": "2024-06-17T20:08:40.975865",
          "exception": false,
          "start_time": "2024-06-17T20:08:40.951988",
          "status": "completed"
        },
        "tags": []
      },
      "outputs": [
        {
          "data": {
            "text/plain": [
              "Array([[[ 0.      +0.j      ,  0.      +0.j      , -0.25    +0.433015j,\n",
              "         -0.433015+0.75j    ],\n",
              "        [ 0.      +0.j      ,  0.      +0.j      , -0.433015+0.75j    ,\n",
              "          0.25    -0.433015j],\n",
              "        [-0.25    +0.433015j, -0.433015+0.75j    ,  0.      +0.j      ,\n",
              "          0.      +0.j      ],\n",
              "        [-0.433015+0.75j    ,  0.25    -0.433015j,  0.      +0.j      ,\n",
              "          0.      +0.j      ]]], dtype=complex128)"
            ]
          },
          "execution_count": 52,
          "metadata": {},
          "output_type": "execute_result"
        }
      ],
      "source": [
        "CextT_S_inv_I_CS_Cext = S_inv_I_CS_Cext[..., Cexti, :][..., :, Cextj]\n",
        "CextT_S_inv_I_CS_Cext"
      ]
    },
    {
      "cell_type": "markdown",
      "id": "9b046892-0c5e-466f-ae44-8c5d04763317",
      "metadata": {
        "papermill": {
          "duration": 0.015596,
          "end_time": "2024-06-17T20:08:41.007752",
          "exception": false,
          "start_time": "2024-06-17T20:08:40.992156",
          "status": "completed"
        },
        "tags": []
      },
      "source": [
        "That's it! We found the S-matrix of the circuit. We just need to reshape the batch dimension back into the matrix:"
      ]
    },
    {
      "cell_type": "code",
      "execution_count": 53,
      "id": "cbf962af",
      "metadata": {
        "execution": {
          "iopub.execute_input": "2024-06-17T20:08:41.041689Z",
          "iopub.status.busy": "2024-06-17T20:08:41.041221Z",
          "iopub.status.idle": "2024-06-17T20:08:41.046157Z",
          "shell.execute_reply": "2024-06-17T20:08:41.045604Z"
        },
        "papermill": {
          "duration": 0.023387,
          "end_time": "2024-06-17T20:08:41.047361",
          "exception": false,
          "start_time": "2024-06-17T20:08:41.023974",
          "status": "completed"
        },
        "tags": []
      },
      "outputs": [
        {
          "data": {
            "text/plain": [
              "Array([[ 0.      +0.j      ,  0.      +0.j      , -0.25    +0.433015j,\n",
              "        -0.433015+0.75j    ],\n",
              "       [ 0.      +0.j      ,  0.      +0.j      , -0.433015+0.75j    ,\n",
              "         0.25    -0.433015j],\n",
              "       [-0.25    +0.433015j, -0.433015+0.75j    ,  0.      +0.j      ,\n",
              "         0.      +0.j      ],\n",
              "       [-0.433015+0.75j    ,  0.25    -0.433015j,  0.      +0.j      ,\n",
              "         0.      +0.j      ]], dtype=complex128)"
            ]
          },
          "execution_count": 53,
          "metadata": {},
          "output_type": "execute_result"
        }
      ],
      "source": [
        "_, n, _ = CextT_S_inv_I_CS_Cext.shape\n",
        "S = CextT_S_inv_I_CS_Cext.reshape(*batch_shape, n, n)\n",
        "S"
      ]
    },
    {
      "cell_type": "markdown",
      "id": "ebc6d33d-49fe-4dfb-b166-41051a64b9fd",
      "metadata": {
        "papermill": {
          "duration": 0.015781,
          "end_time": "2024-06-17T20:08:41.079670",
          "exception": false,
          "start_time": "2024-06-17T20:08:41.063889",
          "status": "completed"
        },
        "tags": []
      },
      "source": [
        "Oh and to complete the `SDense` representation we need to specify the port map as well:"
      ]
    },
    {
      "cell_type": "code",
      "execution_count": 54,
      "id": "21098a45",
      "metadata": {
        "execution": {
          "iopub.execute_input": "2024-06-17T20:08:41.112986Z",
          "iopub.status.busy": "2024-06-17T20:08:41.112522Z",
          "iopub.status.idle": "2024-06-17T20:08:41.116606Z",
          "shell.execute_reply": "2024-06-17T20:08:41.116040Z"
        },
        "papermill": {
          "duration": 0.022117,
          "end_time": "2024-06-17T20:08:41.117749",
          "exception": false,
          "start_time": "2024-06-17T20:08:41.095632",
          "status": "completed"
        },
        "tags": []
      },
      "outputs": [
        {
          "data": {
            "text/plain": [
              "{'in0': 0, 'in1': 1, 'out0': 2, 'out1': 3}"
            ]
          },
          "execution_count": 54,
          "metadata": {},
          "output_type": "execute_result"
        }
      ],
      "source": [
        "port_map"
      ]
    },
    {
      "cell_type": "markdown",
      "id": "4297d283-33c5-4c7b-902c-cec838b90fbb",
      "metadata": {
        "papermill": {
          "duration": 0.015912,
          "end_time": "2024-06-17T20:08:41.150554",
          "exception": false,
          "start_time": "2024-06-17T20:08:41.134642",
          "status": "completed"
        },
        "tags": []
      },
      "source": [
        "### Algorithm Improvements"
      ]
    },
    {
      "cell_type": "markdown",
      "id": "94154f27-1b9a-40b2-bb24-edd357cb081d",
      "metadata": {
        "papermill": {
          "duration": 0.01568,
          "end_time": "2024-06-17T20:08:41.182136",
          "exception": false,
          "start_time": "2024-06-17T20:08:41.166456",
          "status": "completed"
        },
        "tags": []
      },
      "source": [
        "This algorithm is \n",
        "\n",
        "* very fast for large circuits \ud83d\ude42\n",
        "* jittable \ud83d\ude42\n",
        "* differentiable \ud83d\ude42\n",
        "\n",
        "This algorithm is however:\n",
        "\n",
        "* **not** GPU-compatible \ud83d\ude42\n",
        "\n",
        "There are probably still plenty of improvements possible for this algorithm:\n",
        "\n",
        "* **\u00bf** make it GPU compatible (requires making suitesparse GPU compatible... probably not gonna happen)**?**\n"
      ]
    },
    {
      "cell_type": "markdown",
      "id": "af865f32-a6a3-44c5-b4cf-08859c99c6f1",
      "metadata": {
        "papermill": {
          "duration": 0.015936,
          "end_time": "2024-06-17T20:08:41.213712",
          "exception": false,
          "start_time": "2024-06-17T20:08:41.197776",
          "status": "completed"
        },
        "tags": []
      },
      "source": [
        ":::{note}\n",
        "Since The KLU Backend is Superior to the Filipsson-Gunnar backend, SAX will default (since v0.10.0) to the KLU backend if `klujax` is installed.name1\n",
        ":::"
      ]
    },
    {
      "cell_type": "code",
      "execution_count": 55,
      "id": "656459392e244eab",
      "metadata": {
        "execution": {
          "iopub.execute_input": "2024-06-17T20:08:41.247177Z",
          "iopub.status.busy": "2024-06-17T20:08:41.246569Z",
          "iopub.status.idle": "2024-06-17T20:08:41.249595Z",
          "shell.execute_reply": "2024-06-17T20:08:41.249023Z"
        },
        "papermill": {
          "duration": 0.021272,
          "end_time": "2024-06-17T20:08:41.250784",
          "exception": false,
          "start_time": "2024-06-17T20:08:41.229512",
          "status": "completed"
        },
        "tags": [
          "remove-cell"
        ]
      },
      "outputs": [],
      "source": []
    },
    {
      "cell_type": "markdown",
      "id": "32d1b715-7b0e-4f00-b61f-939e931178bc",
      "metadata": {
        "papermill": {
          "duration": 0.016053,
          "end_time": "2024-06-17T20:08:41.283263",
          "exception": false,
          "start_time": "2024-06-17T20:08:41.267210",
          "status": "completed"
        },
        "tags": []
      },
      "source": [
        "## Additive Backend\n",
        "\n",
        "```{eval-rst}\n",
        ".. autofunction:: sax.backends.analyze_circuit_additive\n",
        "```\n",
        "\n",
        "```{eval-rst}\n",
        ".. autofunction:: sax.backends.evaluate_circuit_additive\n",
        "```\n",
        "\n",
        "Sometimes we would like to calculate circuit path lengths or time delays within a circuit. We could obviously simulate these things with a time domain simulator, but in many cases a simple additive backend (as opposed to the default multiplicative backend) can suffice."
      ]
    },
    {
      "cell_type": "markdown",
      "id": "ab5eac26-7c71-446c-8e66-547a064f9192",
      "metadata": {
        "papermill": {
          "duration": 0.015682,
          "end_time": "2024-06-17T20:08:41.314864",
          "exception": false,
          "start_time": "2024-06-17T20:08:41.299182",
          "status": "completed"
        },
        "tags": []
      },
      "source": [
        "### Example\n",
        "\n",
        ":::{note}\n",
        "in stead of S-parameters the stypes need to contain *additive* parameters, such as length or time delay.\n",
        ":::"
      ]
    },
    {
      "cell_type": "code",
      "execution_count": 56,
      "id": "1ddc3a12-be7f-4327-be60-2a46c51bb21f",
      "metadata": {
        "execution": {
          "iopub.execute_input": "2024-06-17T20:08:41.347818Z",
          "iopub.status.busy": "2024-06-17T20:08:41.347203Z",
          "iopub.status.idle": "2024-06-17T20:08:41.371575Z",
          "shell.execute_reply": "2024-06-17T20:08:41.371047Z"
        },
        "papermill": {
          "duration": 0.042431,
          "end_time": "2024-06-17T20:08:41.373008",
          "exception": false,
          "start_time": "2024-06-17T20:08:41.330577",
          "status": "completed"
        },
        "tags": []
      },
      "outputs": [],
      "source": [
        "wg_sdict = {\n",
        "    (\"in0\", \"out0\"): jnp.array(\n",
        "        [100.0, 200.0, 300.0]\n",
        "    ),  # assume for now there are three possible paths between these two ports.\n",
        "    (\"out0\", \"in0\"): jnp.array(\n",
        "        [100.0, 200.0, 300.0]\n",
        "    ),  # assume for now there are three possible paths between these two ports.\n",
        "}\n",
        "\n",
        "dc_sdict = {\n",
        "    (\"in0\", \"out0\"): jnp.array(\n",
        "        [10.0, 20.0]\n",
        "    ),  # assume for now there are two possible paths between these two ports.\n",
        "    (\"in0\", \"out1\"): 15.0,\n",
        "    (\"in1\", \"out0\"): 15.0,\n",
        "    (\"in1\", \"out1\"): jnp.array(\n",
        "        [10.0, 20.0]\n",
        "    ),  # assume for now there are two possible paths between these two ports.\n",
        "}\n",
        "\n",
        "instances = {\n",
        "    \"dc1\": {\"component\": \"dc\"},\n",
        "    \"wg\": {\"component\": \"wg\"},\n",
        "    \"dc2\": {\"component\": \"dc\"},\n",
        "}\n",
        "connections = {\n",
        "    \"dc1,out0\": \"wg,in0\",\n",
        "    \"wg,out0\": \"dc2,in0\",\n",
        "    \"dc1,out1\": \"dc2,in1\",\n",
        "}\n",
        "ports = {\n",
        "    \"in0\": \"dc1,in0\",\n",
        "    \"in1\": \"dc1,in1\",\n",
        "    \"out0\": \"dc2,out0\",\n",
        "    \"out1\": \"dc2,out1\",\n",
        "}\n",
        "models = {\n",
        "    \"wg\": lambda: wg_sdict,\n",
        "    \"dc\": lambda: dc_sdense,\n",
        "}"
      ]
    },
    {
      "cell_type": "markdown",
      "id": "c6847c46-6c4a-4b55-899c-55925dfe6538",
      "metadata": {
        "papermill": {
          "duration": 0.016224,
          "end_time": "2024-06-17T20:08:41.406031",
          "exception": false,
          "start_time": "2024-06-17T20:08:41.389807",
          "status": "completed"
        },
        "tags": []
      },
      "source": [
        ":::{note}\n",
        "it is recommended to **not** use an `SDense` representation for the additive backend. Very often an `SDense` representation will introduce **zeros** which will be interpreted as an **existing connection with zero length**. Conversely, in a sparse representation like `SDict` or `SCoo`, non-existing elements will be just that: they will not be present in the internal graph.\n",
        ":::"
      ]
    },
    {
      "cell_type": "code",
      "execution_count": 57,
      "id": "e9cecb32-f18f-4c48-a2cb-ed92102c9fdc",
      "metadata": {
        "execution": {
          "iopub.execute_input": "2024-06-17T20:08:41.439504Z",
          "iopub.status.busy": "2024-06-17T20:08:41.439240Z",
          "iopub.status.idle": "2024-06-17T20:08:41.507151Z",
          "shell.execute_reply": "2024-06-17T20:08:41.506517Z"
        },
        "papermill": {
          "duration": 0.086278,
          "end_time": "2024-06-17T20:08:41.508476",
          "exception": false,
          "start_time": "2024-06-17T20:08:41.422198",
          "status": "completed"
        },
        "tags": []
      },
      "outputs": [
        {
          "name": "stderr",
          "output_type": "stream",
          "text": [
            "/opt/conda/lib/python3.10/site-packages/jax/_src/numpy/lax_numpy.py:3078: ComplexWarning: Casting complex values to real discards the imaginary part\n",
            "  out_array: Array = lax_internal._convert_element_type(\n"
          ]
        },
        {
          "data": {
            "text/plain": [
              "[(('dc1', 'out0'),\n",
              "  ('wg', 'in0'),\n",
              "  {'type': 'C', 'length': Array([0.], dtype=float64)}),\n",
              " (('wg', 'out0'),\n",
              "  ('dc2', 'in0'),\n",
              "  {'type': 'C', 'length': Array([0.], dtype=float64)}),\n",
              " (('dc1', 'out1'),\n",
              "  ('dc2', 'in1'),\n",
              "  {'type': 'C', 'length': Array([0.], dtype=float64)}),\n",
              " (('wg', 'in0'),\n",
              "  ('dc1', 'out0'),\n",
              "  {'type': 'C', 'length': Array([0.], dtype=float64)}),\n",
              " (('dc2', 'in0'),\n",
              "  ('wg', 'out0'),\n",
              "  {'type': 'C', 'length': Array([0.], dtype=float64)}),\n",
              " (('dc2', 'in1'),\n",
              "  ('dc1', 'out1'),\n",
              "  {'type': 'C', 'length': Array([0.], dtype=float64)}),\n",
              " (('', 'in0'),\n",
              "  ('dc1', 'in0'),\n",
              "  {'type': 'C', 'length': Array([0.], dtype=float64)}),\n",
              " (('', 'in1'),\n",
              "  ('dc1', 'in1'),\n",
              "  {'type': 'C', 'length': Array([0.], dtype=float64)}),\n",
              " (('', 'out0'),\n",
              "  ('dc2', 'out0'),\n",
              "  {'type': 'C', 'length': Array([0.], dtype=float64)}),\n",
              " (('', 'out1'),\n",
              "  ('dc2', 'out1'),\n",
              "  {'type': 'C', 'length': Array([0.], dtype=float64)}),\n",
              " (('dc1', 'in0'),\n",
              "  ('', 'in0'),\n",
              "  {'type': 'C', 'length': Array([0.], dtype=float64)}),\n",
              " (('dc1', 'in1'),\n",
              "  ('', 'in1'),\n",
              "  {'type': 'C', 'length': Array([0.], dtype=float64)}),\n",
              " (('dc2', 'out0'),\n",
              "  ('', 'out0'),\n",
              "  {'type': 'C', 'length': Array([0.], dtype=float64)}),\n",
              " (('dc2', 'out1'),\n",
              "  ('', 'out1'),\n",
              "  {'type': 'C', 'length': Array([0.], dtype=float64)}),\n",
              " (('dc1', 'out0'),\n",
              "  ('dc1', 'out0'),\n",
              "  {'type': 'S', 'length': Array([0.], dtype=float64)}),\n",
              " (('dc1', 'out0'),\n",
              "  ('dc1', 'out1'),\n",
              "  {'type': 'S', 'length': Array([0.], dtype=float64)}),\n",
              " (('dc1', 'out0'),\n",
              "  ('dc1', 'in0'),\n",
              "  {'type': 'S', 'length': Array([0.70710678], dtype=float64)}),\n",
              " (('dc1', 'out0'),\n",
              "  ('dc1', 'in1'),\n",
              "  {'type': 'S', 'length': Array([0.], dtype=float64)}),\n",
              " (('dc1', 'out1'),\n",
              "  ('dc1', 'out0'),\n",
              "  {'type': 'S', 'length': Array([0.], dtype=float64)}),\n",
              " (('dc1', 'out1'),\n",
              "  ('dc1', 'out1'),\n",
              "  {'type': 'S', 'length': Array([0.], dtype=float64)}),\n",
              " (('dc1', 'out1'),\n",
              "  ('dc1', 'in0'),\n",
              "  {'type': 'S', 'length': Array([0.], dtype=float64)}),\n",
              " (('dc1', 'out1'),\n",
              "  ('dc1', 'in1'),\n",
              "  {'type': 'S', 'length': Array([0.70710678], dtype=float64)}),\n",
              " (('dc1', 'in0'),\n",
              "  ('dc1', 'out0'),\n",
              "  {'type': 'S', 'length': Array([0.70710678], dtype=float64)}),\n",
              " (('dc1', 'in0'),\n",
              "  ('dc1', 'out1'),\n",
              "  {'type': 'S', 'length': Array([0.], dtype=float64)}),\n",
              " (('dc1', 'in0'),\n",
              "  ('dc1', 'in0'),\n",
              "  {'type': 'S', 'length': Array([0.], dtype=float64)}),\n",
              " (('dc1', 'in0'),\n",
              "  ('dc1', 'in1'),\n",
              "  {'type': 'S', 'length': Array([0.], dtype=float64)}),\n",
              " (('dc1', 'in1'),\n",
              "  ('dc1', 'out0'),\n",
              "  {'type': 'S', 'length': Array([0.], dtype=float64)}),\n",
              " (('dc1', 'in1'),\n",
              "  ('dc1', 'out1'),\n",
              "  {'type': 'S', 'length': Array([0.70710678], dtype=float64)}),\n",
              " (('dc1', 'in1'),\n",
              "  ('dc1', 'in0'),\n",
              "  {'type': 'S', 'length': Array([0.], dtype=float64)}),\n",
              " (('dc1', 'in1'),\n",
              "  ('dc1', 'in1'),\n",
              "  {'type': 'S', 'length': Array([0.], dtype=float64)}),\n",
              " (('wg', 'in0'),\n",
              "  ('wg', 'out0'),\n",
              "  {'type': 'S', 'length': Array([100., 200., 300.], dtype=float64)}),\n",
              " (('wg', 'out0'),\n",
              "  ('wg', 'in0'),\n",
              "  {'type': 'S', 'length': Array([100., 200., 300.], dtype=float64)}),\n",
              " (('dc2', 'out0'),\n",
              "  ('dc2', 'out0'),\n",
              "  {'type': 'S', 'length': Array([0.], dtype=float64)}),\n",
              " (('dc2', 'out0'),\n",
              "  ('dc2', 'out1'),\n",
              "  {'type': 'S', 'length': Array([0.], dtype=float64)}),\n",
              " (('dc2', 'out0'),\n",
              "  ('dc2', 'in0'),\n",
              "  {'type': 'S', 'length': Array([0.70710678], dtype=float64)}),\n",
              " (('dc2', 'out0'),\n",
              "  ('dc2', 'in1'),\n",
              "  {'type': 'S', 'length': Array([0.], dtype=float64)}),\n",
              " (('dc2', 'out1'),\n",
              "  ('dc2', 'out0'),\n",
              "  {'type': 'S', 'length': Array([0.], dtype=float64)}),\n",
              " (('dc2', 'out1'),\n",
              "  ('dc2', 'out1'),\n",
              "  {'type': 'S', 'length': Array([0.], dtype=float64)}),\n",
              " (('dc2', 'out1'),\n",
              "  ('dc2', 'in0'),\n",
              "  {'type': 'S', 'length': Array([0.], dtype=float64)}),\n",
              " (('dc2', 'out1'),\n",
              "  ('dc2', 'in1'),\n",
              "  {'type': 'S', 'length': Array([0.70710678], dtype=float64)}),\n",
              " (('dc2', 'in0'),\n",
              "  ('dc2', 'out0'),\n",
              "  {'type': 'S', 'length': Array([0.70710678], dtype=float64)}),\n",
              " (('dc2', 'in0'),\n",
              "  ('dc2', 'out1'),\n",
              "  {'type': 'S', 'length': Array([0.], dtype=float64)}),\n",
              " (('dc2', 'in0'),\n",
              "  ('dc2', 'in0'),\n",
              "  {'type': 'S', 'length': Array([0.], dtype=float64)}),\n",
              " (('dc2', 'in0'),\n",
              "  ('dc2', 'in1'),\n",
              "  {'type': 'S', 'length': Array([0.], dtype=float64)}),\n",
              " (('dc2', 'in1'),\n",
              "  ('dc2', 'out0'),\n",
              "  {'type': 'S', 'length': Array([0.], dtype=float64)}),\n",
              " (('dc2', 'in1'),\n",
              "  ('dc2', 'out1'),\n",
              "  {'type': 'S', 'length': Array([0.70710678], dtype=float64)}),\n",
              " (('dc2', 'in1'),\n",
              "  ('dc2', 'in0'),\n",
              "  {'type': 'S', 'length': Array([0.], dtype=float64)}),\n",
              " (('dc2', 'in1'),\n",
              "  ('dc2', 'in1'),\n",
              "  {'type': 'S', 'length': Array([0.], dtype=float64)})]"
            ]
          },
          "execution_count": 57,
          "metadata": {},
          "output_type": "execute_result"
        }
      ],
      "source": [
        "edges = sax.backends.additive._graph_edges(\n",
        "    {k: models[v[\"component\"]]() for k, v in instances.items()}, connections, ports\n",
        ")\n",
        "edges"
      ]
    },
    {
      "cell_type": "markdown",
      "id": "5dee9ce2-8ca6-4f7e-b5a3-f68f20e88adc",
      "metadata": {
        "papermill": {
          "duration": 0.016612,
          "end_time": "2024-06-17T20:08:41.542014",
          "exception": false,
          "start_time": "2024-06-17T20:08:41.525402",
          "status": "completed"
        },
        "tags": []
      },
      "source": [
        "We made a difference here between edges of 'S'-type (connections through the S-matrix) and edges of 'C'-type (connections through the connection matrix). Connections of 'C'-type obviously always have length zero as they signify per definition the equality of two ports."
      ]
    },
    {
      "cell_type": "markdown",
      "id": "23f444b0-a52b-433a-8548-4a9955dfb4fb",
      "metadata": {
        "papermill": {
          "duration": 0.016665,
          "end_time": "2024-06-17T20:08:41.575567",
          "exception": false,
          "start_time": "2024-06-17T20:08:41.558902",
          "status": "completed"
        },
        "tags": []
      },
      "source": [
        "We can create a NetworkX graph from these edges:"
      ]
    },
    {
      "cell_type": "code",
      "execution_count": 58,
      "id": "b0191057-9499-475e-a770-34e393554a94",
      "metadata": {
        "execution": {
          "iopub.execute_input": "2024-06-17T20:08:41.610395Z",
          "iopub.status.busy": "2024-06-17T20:08:41.609927Z",
          "iopub.status.idle": "2024-06-17T20:08:42.283278Z",
          "shell.execute_reply": "2024-06-17T20:08:42.282621Z"
        },
        "papermill": {
          "duration": 0.692245,
          "end_time": "2024-06-17T20:08:42.284520",
          "exception": false,
          "start_time": "2024-06-17T20:08:41.592275",
          "status": "completed"
        },
        "tags": []
      },
      "outputs": [
        {
          "data": {
            "image/png": "[encoded data removed]",
            "text/plain": [
              "<Figure size 640x480 with 1 Axes>"
            ]
          },
          "metadata": {},
          "output_type": "display_data"
        }
      ],
      "source": [
        "graph = nx.Graph()\n",
        "graph.add_edges_from(edges)\n",
        "nx.draw_kamada_kawai(graph, with_labels=True)"
      ]
    },
    {
      "cell_type": "code",
      "execution_count": 59,
      "id": "035b450d-54aa-43c5-8cc6-2b9e5e2e5021",
      "metadata": {
        "execution": {
          "iopub.execute_input": "2024-06-17T20:08:42.321141Z",
          "iopub.status.busy": "2024-06-17T20:08:42.320451Z",
          "iopub.status.idle": "2024-06-17T20:08:42.445704Z",
          "shell.execute_reply": "2024-06-17T20:08:42.445037Z"
        },
        "papermill": {
          "duration": 0.14503,
          "end_time": "2024-06-17T20:08:42.447471",
          "exception": false,
          "start_time": "2024-06-17T20:08:42.302441",
          "status": "completed"
        },
        "tags": []
      },
      "outputs": [
        {
          "data": {
            "image/png": "[encoded data removed]",
            "text/plain": [
              "<Figure size 640x480 with 1 Axes>"
            ]
          },
          "metadata": {},
          "output_type": "display_data"
        }
      ],
      "source": [
        "graph = sax.backends.additive._prune_internal_output_nodes(graph)\n",
        "nx.draw_kamada_kawai(graph, with_labels=True)"
      ]
    },
    {
      "cell_type": "markdown",
      "id": "32b7daf2-c374-4c8d-bbe5-ad39c0f9af44",
      "metadata": {
        "papermill": {
          "duration": 0.05232,
          "end_time": "2024-06-17T20:08:42.532094",
          "exception": false,
          "start_time": "2024-06-17T20:08:42.479774",
          "status": "completed"
        },
        "tags": []
      },
      "source": [
        "We can now get a list of all possible paths in the network. Note that these paths **must** alternate between an S-edge and a C-edge:"
      ]
    },
    {
      "cell_type": "code",
      "execution_count": 60,
      "id": "176ea6a5-bb16-4232-8a42-6da2371de2fe",
      "metadata": {
        "execution": {
          "iopub.execute_input": "2024-06-17T20:08:42.716257Z",
          "iopub.status.busy": "2024-06-17T20:08:42.715698Z",
          "iopub.status.idle": "2024-06-17T20:08:42.722662Z",
          "shell.execute_reply": "2024-06-17T20:08:42.722092Z"
        },
        "papermill": {
          "duration": 0.051283,
          "end_time": "2024-06-17T20:08:42.723880",
          "exception": false,
          "start_time": "2024-06-17T20:08:42.672597",
          "status": "completed"
        },
        "tags": []
      },
      "outputs": [
        {
          "data": {
            "text/plain": [
              "[[(('', 'in0'), ('dc1', 'in0')),\n",
              "  (('dc1', 'in0'), ('dc1', 'out0')),\n",
              "  (('dc1', 'out0'), ('wg', 'in0')),\n",
              "  (('wg', 'in0'), ('wg', 'out0')),\n",
              "  (('wg', 'out0'), ('dc2', 'in0')),\n",
              "  (('dc2', 'in0'), ('dc2', 'out0')),\n",
              "  (('dc2', 'out0'), ('', 'out0'))],\n",
              " [(('', 'in0'), ('dc1', 'in0')),\n",
              "  (('dc1', 'in0'), ('dc1', 'out1')),\n",
              "  (('dc1', 'out1'), ('dc2', 'in1')),\n",
              "  (('dc2', 'in1'), ('dc2', 'out0')),\n",
              "  (('dc2', 'out0'), ('', 'out0'))]]"
            ]
          },
          "execution_count": 60,
          "metadata": {},
          "output_type": "execute_result"
        }
      ],
      "source": [
        "paths = sax.backends.additive._get_possible_paths(graph, (\"\", \"in0\"), (\"\", \"out0\"))\n",
        "paths"
      ]
    },
    {
      "cell_type": "markdown",
      "id": "68766ba9-0991-45f5-aa7d-1bcca8db332d",
      "metadata": {
        "papermill": {
          "duration": 0.017767,
          "end_time": "2024-06-17T20:08:42.760221",
          "exception": false,
          "start_time": "2024-06-17T20:08:42.742454",
          "status": "completed"
        },
        "tags": []
      },
      "source": [
        "And the path lengths of those paths can be calculated as follows:"
      ]
    },
    {
      "cell_type": "code",
      "execution_count": 61,
      "id": "c3063587-c9aa-4b26-ae70-4b9b770f33ae",
      "metadata": {
        "execution": {
          "iopub.execute_input": "2024-06-17T20:08:42.796378Z",
          "iopub.status.busy": "2024-06-17T20:08:42.795839Z",
          "iopub.status.idle": "2024-06-17T20:08:42.905026Z",
          "shell.execute_reply": "2024-06-17T20:08:42.904445Z"
        },
        "papermill": {
          "duration": 0.128574,
          "end_time": "2024-06-17T20:08:42.906189",
          "exception": false,
          "start_time": "2024-06-17T20:08:42.777615",
          "status": "completed"
        },
        "tags": []
      },
      "outputs": [
        {
          "data": {
            "text/plain": [
              "[Array([101.41421356, 201.41421356, 301.41421356], dtype=float64),\n",
              " Array([0.], dtype=float64)]"
            ]
          },
          "execution_count": 61,
          "metadata": {},
          "output_type": "execute_result"
        }
      ],
      "source": [
        "sax.backends.additive._path_lengths(graph, paths)"
      ]
    },
    {
      "cell_type": "markdown",
      "id": "95f6d1e0-ef8f-4394-a9b1-b8cbdfb6051e",
      "metadata": {
        "papermill": {
          "duration": 0.01809,
          "end_time": "2024-06-17T20:08:42.943374",
          "exception": false,
          "start_time": "2024-06-17T20:08:42.925284",
          "status": "completed"
        },
        "tags": []
      },
      "source": [
        "This is all brought together in the additive KLU backend:"
      ]
    },
    {
      "cell_type": "code",
      "execution_count": 62,
      "id": "72f14aaa-a682-4734-beb9-5e0e89b960c3",
      "metadata": {
        "execution": {
          "iopub.execute_input": "2024-06-17T20:08:42.979889Z",
          "iopub.status.busy": "2024-06-17T20:08:42.979626Z",
          "iopub.status.idle": "2024-06-17T20:08:43.069738Z",
          "shell.execute_reply": "2024-06-17T20:08:43.069121Z"
        },
        "papermill": {
          "duration": 0.109856,
          "end_time": "2024-06-17T20:08:43.070956",
          "exception": false,
          "start_time": "2024-06-17T20:08:42.961100",
          "status": "completed"
        },
        "tags": []
      },
      "outputs": [
        {
          "name": "stderr",
          "output_type": "stream",
          "text": [
            "/opt/conda/lib/python3.10/site-packages/jax/_src/numpy/lax_numpy.py:3078: ComplexWarning: Casting complex values to real discards the imaginary part\n",
            "  out_array: Array = lax_internal._convert_element_type(\n"
          ]
        },
        {
          "data": {
            "text/plain": [
              "{('in0', 'in0'): [Array([0.], dtype=float64)],\n",
              " ('in0',\n",
              "  'in1'): [Array([101.41421356, 201.41421356, 301.41421356], dtype=float64), Array([100., 200., 300.], dtype=float64), Array([0.], dtype=float64)],\n",
              " ('in0',\n",
              "  'out0'): [Array([101.41421356, 201.41421356, 301.41421356], dtype=float64), Array([0.], dtype=float64)],\n",
              " ('in0',\n",
              "  'out1'): [Array([100.70710678, 200.70710678, 300.70710678], dtype=float64), Array([0.70710678], dtype=float64)],\n",
              " ('in1', 'in0'): [Array([100., 200., 300.], dtype=float64),\n",
              "  Array([101.41421356, 201.41421356, 301.41421356], dtype=float64),\n",
              "  Array([0.], dtype=float64)],\n",
              " ('in1', 'in1'): [Array([0.], dtype=float64)],\n",
              " ('in1',\n",
              "  'out0'): [Array([100.70710678, 200.70710678, 300.70710678], dtype=float64), Array([0.70710678], dtype=float64)],\n",
              " ('in1', 'out1'): [Array([100., 200., 300.], dtype=float64),\n",
              "  Array([1.41421356], dtype=float64)],\n",
              " ('out0',\n",
              "  'in0'): [Array([101.41421356, 201.41421356, 301.41421356], dtype=float64), Array([0.], dtype=float64)],\n",
              " ('out0',\n",
              "  'in1'): [Array([100.70710678, 200.70710678, 300.70710678], dtype=float64), Array([0.70710678], dtype=float64)],\n",
              " ('out0', 'out0'): [Array([0.], dtype=float64)],\n",
              " ('out0', 'out1'): [Array([0.], dtype=float64),\n",
              "  Array([101.41421356, 201.41421356, 301.41421356], dtype=float64),\n",
              "  Array([100., 200., 300.], dtype=float64)],\n",
              " ('out1',\n",
              "  'in0'): [Array([100.70710678, 200.70710678, 300.70710678], dtype=float64), Array([0.70710678], dtype=float64)],\n",
              " ('out1', 'in1'): [Array([100., 200., 300.], dtype=float64),\n",
              "  Array([1.41421356], dtype=float64)],\n",
              " ('out1', 'out0'): [Array([0.], dtype=float64),\n",
              "  Array([100., 200., 300.], dtype=float64),\n",
              "  Array([101.41421356, 201.41421356, 301.41421356], dtype=float64)],\n",
              " ('out1', 'out1'): [Array([0.], dtype=float64)]}"
            ]
          },
          "execution_count": 62,
          "metadata": {},
          "output_type": "execute_result"
        }
      ],
      "source": [
        "analyzed_instances = sax.backends.analyze_instances_additive(instances, models)\n",
        "analyzed_circuit = sax.backends.analyze_circuit_additive(\n",
        "    analyzed_instances, connections, ports\n",
        ")\n",
        "sax.backends.evaluate_circuit_additive(\n",
        "    analyzed_circuit, {k: models[v[\"component\"]]() for k, v in instances.items()}\n",
        ")"
      ]
    }
  ],
  "metadata": {
    "kernelspec": {
      "display_name": "Python 3 (ipykernel)",
      "language": "python",
      "name": "python3"
    },
    "language_info": {
      "codemirror_mode": {
        "name": "ipython",
        "version": 3
      },
      "file_extension": ".py",
      "mimetype": "text/x-python",
      "name": "python",
      "nbconvert_exporter": "python",
      "pygments_lexer": "ipython3",
      "version": "3.10.14"
    },
    "papermill": {
      "default_parameters": {},
      "duration": 10.793279,
      "end_time": "2024-06-17T20:08:43.706733",
      "environment_variables": {},
      "exception": null,
      "input_path": "./internals/03_backends.ipynb",
      "output_path": "./internals/03_backends.ipynb",
      "parameters": {},
      "start_time": "2024-06-17T20:08:32.913454",
      "version": "2.6.0"
    }
  },
  "nbformat": 4,
  "nbformat_minor": 5
}