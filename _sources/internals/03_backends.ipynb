{
  "cells": [
    {
      "cell_type": "markdown",
      "id": "41e0d311",
      "metadata": {
        "papermill": {
          "duration": 0.013197,
          "end_time": "2024-06-17T21:26:11.970635",
          "exception": false,
          "start_time": "2024-06-17T21:26:11.957438",
          "status": "completed"
        },
        "tags": []
      },
      "source": [
        "# Backends\n",
        "\n",
        "> SAX Backends"
      ]
    },
    {
      "cell_type": "code",
      "execution_count": 1,
      "id": "38d7e3b6-83cb-4768-8401-075260456fc9",
      "metadata": {
        "execution": {
          "iopub.execute_input": "2024-06-17T21:26:11.995231Z",
          "iopub.status.busy": "2024-06-17T21:26:11.994792Z",
          "iopub.status.idle": "2024-06-17T21:26:12.705160Z",
          "shell.execute_reply": "2024-06-17T21:26:12.704592Z"
        },
        "papermill": {
          "duration": 0.72425,
          "end_time": "2024-06-17T21:26:12.706581",
          "exception": false,
          "start_time": "2024-06-17T21:26:11.982331",
          "status": "completed"
        },
        "tags": []
      },
      "outputs": [],
      "source": [
        "import jax\n",
        "import jax.numpy as jnp\n",
        "import klujax\n",
        "import networkx as nx\n",
        "import sax"
      ]
    },
    {
      "cell_type": "markdown",
      "id": "ac34f260-6473-4484-a2ad-dc38e3f37c46",
      "metadata": {
        "papermill": {
          "duration": 0.011601,
          "end_time": "2024-06-17T21:26:12.730324",
          "exception": false,
          "start_time": "2024-06-17T21:26:12.718723",
          "status": "completed"
        },
        "tags": []
      },
      "source": [
        "## Introduction"
      ]
    },
    {
      "cell_type": "markdown",
      "id": "fbb157f0-f28b-47fc-a734-fb7181207487",
      "metadata": {
        "papermill": {
          "duration": 0.011669,
          "end_time": "2024-06-17T21:26:12.770965",
          "exception": false,
          "start_time": "2024-06-17T21:26:12.759296",
          "status": "completed"
        },
        "tags": []
      },
      "source": [
        "SAX allows to easily interchange the backend of a circuit. A SAX backend consists of two static analysis steps and an evaluation step:\n",
        "\n",
        "```{eval-rst}\n",
        ".. autofunction:: sax.backends.analyze_instances\n",
        "```\n",
        "\n",
        "```{eval-rst}\n",
        ".. autofunction:: sax.backends.analyze_circuit\n",
        "```\n",
        "\n",
        "```{eval-rst}\n",
        ".. autofunction:: sax.backends.evaluate_circuit\n",
        "```"
      ]
    },
    {
      "cell_type": "markdown",
      "id": "26efaa95-54e4-4f31-8ea8-0139a470fa74",
      "metadata": {
        "papermill": {
          "duration": 0.011504,
          "end_time": "2024-06-17T21:26:12.794039",
          "exception": false,
          "start_time": "2024-06-17T21:26:12.782535",
          "status": "completed"
        },
        "tags": []
      },
      "source": [
        "The `analyze_instances` step analyzes the 'shape' of the instances by running each model with default parameters. By shape we mean which port-combinations are present in the sparse S-matrix.\n",
        "\n",
        ":::{warning}\n",
        "QUESTION: can we do this more efficiently in a functional way?\n",
        ":::\n",
        "\n",
        "After analyzing the instances, it is assumed that the shape of the instance won't change any more. **It is therefore important that you write your model functions in such a way that the port combinations present in your s-matrix *never* changes!**\n",
        "\n",
        ":::{note}\n",
        "we used to do this analysis step in `analyze_circuit` by just looking at the connections present. However, this inherently assumed dense connectivity within the model. This is pretty inefficient for large sparse models with many ports. Ideally, however, we should be able to analyze the shape of our instances without running their models with default parameters...\n",
        ":::"
      ]
    },
    {
      "cell_type": "markdown",
      "id": "25d158f3-941f-44bb-bcfd-c90344bb3778",
      "metadata": {
        "papermill": {
          "duration": 0.011537,
          "end_time": "2024-06-17T21:26:12.817102",
          "exception": false,
          "start_time": "2024-06-17T21:26:12.805565",
          "status": "completed"
        },
        "tags": []
      },
      "source": [
        "The `analyze_circuit` step should statically analyze the connections and ports and should return an `analyzed` object. This object contains all the static objects that are needed for circuit computation but won't be recalculated when any parameters of the circuit change. See KLU Backend (below) for a non-trivial implementation of the circuit analyzation.\n",
        "\n",
        "The `evaluate_circuit` step evaluates the circuit for given `SType` instances, given whatever analysis object was returned from the `analyze_circuit` step and the instance `SType`s."
      ]
    },
    {
      "cell_type": "markdown",
      "id": "fbeef854-b3a4-4f39-9ffb-238f5d331c03",
      "metadata": {
        "papermill": {
          "duration": 0.011548,
          "end_time": "2024-06-17T21:26:12.840266",
          "exception": false,
          "start_time": "2024-06-17T21:26:12.828718",
          "status": "completed"
        },
        "tags": []
      },
      "source": [
        "## Example"
      ]
    },
    {
      "cell_type": "code",
      "execution_count": 2,
      "id": "e52daa7d-e73c-4bb3-8051-ae8836337a6a",
      "metadata": {
        "execution": {
          "iopub.execute_input": "2024-06-17T21:26:12.865075Z",
          "iopub.status.busy": "2024-06-17T21:26:12.864490Z",
          "iopub.status.idle": "2024-06-17T21:26:13.772444Z",
          "shell.execute_reply": "2024-06-17T21:26:13.771852Z"
        },
        "papermill": {
          "duration": 0.921901,
          "end_time": "2024-06-17T21:26:13.773749",
          "exception": false,
          "start_time": "2024-06-17T21:26:12.851848",
          "status": "completed"
        },
        "tags": []
      },
      "outputs": [
        {
          "data": {
            "text/plain": [
              "{('in0', 'in0'): Array(0.+0.j, dtype=complex128),\n",
              " ('in0', 'in1'): Array(0.+0.j, dtype=complex128),\n",
              " ('in0', 'out0'): Array(-0.25+0.433015j, dtype=complex128),\n",
              " ('in0', 'out1'): Array(-0.433015+0.75j, dtype=complex128),\n",
              " ('in1', 'in0'): Array(0.+0.j, dtype=complex128),\n",
              " ('in1', 'in1'): Array(0.+0.j, dtype=complex128),\n",
              " ('in1', 'out0'): Array(-0.433015+0.75j, dtype=complex128),\n",
              " ('in1', 'out1'): Array(0.25-0.433015j, dtype=complex128),\n",
              " ('out0', 'in0'): Array(-0.25+0.433015j, dtype=complex128),\n",
              " ('out0', 'in1'): Array(-0.433015+0.75j, dtype=complex128),\n",
              " ('out0', 'out0'): Array(0.+0.j, dtype=complex128),\n",
              " ('out0', 'out1'): Array(0.+0.j, dtype=complex128),\n",
              " ('out1', 'in0'): Array(-0.433015+0.75j, dtype=complex128),\n",
              " ('out1', 'in1'): Array(0.25-0.433015j, dtype=complex128),\n",
              " ('out1', 'out0'): Array(0.+0.j, dtype=complex128),\n",
              " ('out1', 'out1'): Array(0.+0.j, dtype=complex128)}"
            ]
          },
          "execution_count": 2,
          "metadata": {},
          "output_type": "execute_result"
        }
      ],
      "source": [
        "wg_sdict: sax.SDict = {\n",
        "    (\"in0\", \"out0\"): 0.5 + 0.86603j,\n",
        "    (\"out0\", \"in0\"): 0.5 + 0.86603j,\n",
        "}\n",
        "\n",
        "\u03c4, \u03ba = 0.5**0.5, 1j * 0.5**0.5\n",
        "dc_sdense: sax.SDense = (\n",
        "    jnp.array([[0, 0, \u03c4, \u03ba], [0, 0, \u03ba, \u03c4], [\u03c4, \u03ba, 0, 0], [\u03ba, \u03c4, 0, 0]]),\n",
        "    {\"in0\": 0, \"in1\": 1, \"out0\": 2, \"out1\": 3},\n",
        ")\n",
        "\n",
        "instances = {\n",
        "    \"dc1\": {\"component\": \"dc\"},\n",
        "    \"wg\": {\"component\": \"wg\"},\n",
        "    \"dc2\": {\"component\": \"dc\"},\n",
        "}\n",
        "connections = {\n",
        "    \"dc1,out0\": \"wg,in0\",\n",
        "    \"wg,out0\": \"dc2,in0\",\n",
        "    \"dc1,out1\": \"dc2,in1\",\n",
        "}\n",
        "ports = {\n",
        "    \"in0\": \"dc1,in0\",\n",
        "    \"in1\": \"dc1,in1\",\n",
        "    \"out0\": \"dc2,out0\",\n",
        "    \"out1\": \"dc2,out1\",\n",
        "}\n",
        "models = {\n",
        "    \"wg\": lambda: wg_sdict,\n",
        "    \"dc\": lambda: dc_sdense,\n",
        "}\n",
        "\n",
        "analyzed_instances = sax.backends.analyze_instances(instances, models)\n",
        "analyzed_circuit = sax.backends.analyze_circuit(analyzed_instances, connections, ports)\n",
        "mzi_sdict = sax.sdict(\n",
        "    sax.backends.evaluate_circuit(\n",
        "        analyzed_circuit, {k: models[v[\"component\"]]() for k, v in instances.items()}\n",
        "    )\n",
        ")\n",
        "mzi_sdict"
      ]
    },
    {
      "cell_type": "markdown",
      "id": "691fd6a9-fd55-4e83-bb9e-aa93e9a23378",
      "metadata": {
        "papermill": {
          "duration": 0.011773,
          "end_time": "2024-06-17T21:26:13.797638",
          "exception": false,
          "start_time": "2024-06-17T21:26:13.785865",
          "status": "completed"
        },
        "tags": []
      },
      "source": [
        "## Filipsson-Gunnar Backend"
      ]
    },
    {
      "cell_type": "markdown",
      "id": "b5426e1b-2179-4a1c-b796-c96155575f17",
      "metadata": {
        "papermill": {
          "duration": 0.011612,
          "end_time": "2024-06-17T21:26:13.820756",
          "exception": false,
          "start_time": "2024-06-17T21:26:13.809144",
          "status": "completed"
        },
        "tags": []
      },
      "source": [
        ":::{note}\n",
        "Since The KLU Backend (see below) is Superior to the Filipsson-Gunnar backend, SAX will default (since v0.10.0) to the KLU backend if `klujax` is installed.name1\n",
        ":::"
      ]
    },
    {
      "cell_type": "markdown",
      "id": "024f9283-15fa-46b6-80c8-c594f6437da7",
      "metadata": {
        "papermill": {
          "duration": 0.011661,
          "end_time": "2024-06-17T21:26:13.843932",
          "exception": false,
          "start_time": "2024-06-17T21:26:13.832271",
          "status": "completed"
        },
        "tags": []
      },
      "source": [
        "The Filipsson-Gunnar backend is based on the following paper:\n",
        "\n",
        "> Filipsson, Gunnar. \"*A new general computer algorithm for S-matrix calculation of interconnected multiports.*\" 11th European Microwave Conference. IEEE, 1981.\n",
        "\n",
        "```{eval-rst}\n",
        ".. autofunction:: sax.backends.analyze_circuit_fg\n",
        "```\n",
        "\n",
        "```{eval-rst}\n",
        ".. autofunction:: sax.backends.evaluate_circuit_fg\n",
        "```"
      ]
    },
    {
      "cell_type": "markdown",
      "id": "9d4585be-7692-491f-8de6-9802435bec5c",
      "metadata": {
        "papermill": {
          "duration": 0.011595,
          "end_time": "2024-06-17T21:26:13.867129",
          "exception": false,
          "start_time": "2024-06-17T21:26:13.855534",
          "status": "completed"
        },
        "tags": []
      },
      "source": [
        "### Algorithm Walkthrough"
      ]
    },
    {
      "cell_type": "markdown",
      "id": "48950a3d",
      "metadata": {
        "papermill": {
          "duration": 0.011589,
          "end_time": "2024-06-17T21:26:13.890391",
          "exception": false,
          "start_time": "2024-06-17T21:26:13.878802",
          "status": "completed"
        },
        "tags": []
      },
      "source": [
        ":::{note}\n",
        "This algorithm gets pretty slow for large circuits. Since SAX v0.10.0 we will default to the superior KLU backend as the KLU backend is now also jittable.\n",
        ":::"
      ]
    },
    {
      "cell_type": "markdown",
      "id": "81e28766",
      "metadata": {
        "papermill": {
          "duration": 0.011702,
          "end_time": "2024-06-17T21:26:13.913850",
          "exception": false,
          "start_time": "2024-06-17T21:26:13.902148",
          "status": "completed"
        },
        "tags": []
      },
      "source": [
        "Let's walk through all the steps of this algorithm. We'll do this for a simple MZI circuit, given by two directional couplers characterised by `dc_sdense` with a phase shifting waveguide in between `wg_sdict`:"
      ]
    },
    {
      "cell_type": "code",
      "execution_count": 3,
      "id": "e2bdfbf4",
      "metadata": {
        "execution": {
          "iopub.execute_input": "2024-06-17T21:26:13.938560Z",
          "iopub.status.busy": "2024-06-17T21:26:13.938116Z",
          "iopub.status.idle": "2024-06-17T21:26:13.941673Z",
          "shell.execute_reply": "2024-06-17T21:26:13.941134Z"
        },
        "papermill": {
          "duration": 0.017236,
          "end_time": "2024-06-17T21:26:13.942767",
          "exception": false,
          "start_time": "2024-06-17T21:26:13.925531",
          "status": "completed"
        },
        "tags": []
      },
      "outputs": [],
      "source": [
        "instances = {\n",
        "    \"dc1\": dc_sdense,\n",
        "    \"wg\": wg_sdict,\n",
        "    \"dc2\": dc_sdense,\n",
        "}\n",
        "connections = {\n",
        "    \"dc1,out0\": \"wg,in0\",\n",
        "    \"wg,out0\": \"dc2,in0\",\n",
        "    \"dc1,out1\": \"dc2,in1\",\n",
        "}\n",
        "ports = {\n",
        "    \"in0\": \"dc1,in0\",\n",
        "    \"in1\": \"dc1,in1\",\n",
        "    \"out0\": \"dc2,out0\",\n",
        "    \"out1\": \"dc2,out1\",\n",
        "}"
      ]
    },
    {
      "cell_type": "markdown",
      "id": "6ef72161",
      "metadata": {
        "papermill": {
          "duration": 0.011742,
          "end_time": "2024-06-17T21:26:13.966562",
          "exception": false,
          "start_time": "2024-06-17T21:26:13.954820",
          "status": "completed"
        },
        "tags": []
      },
      "source": [
        "as a first step, we construct the `reversed_ports`, it's actually easier to work with `reversed_ports` (we chose the opposite convention in the netlist definition to adhere to the GDSFactory netlist convention):"
      ]
    },
    {
      "cell_type": "code",
      "execution_count": 4,
      "id": "70302612",
      "metadata": {
        "execution": {
          "iopub.execute_input": "2024-06-17T21:26:13.991177Z",
          "iopub.status.busy": "2024-06-17T21:26:13.990804Z",
          "iopub.status.idle": "2024-06-17T21:26:13.993624Z",
          "shell.execute_reply": "2024-06-17T21:26:13.993119Z"
        },
        "papermill": {
          "duration": 0.016384,
          "end_time": "2024-06-17T21:26:13.994777",
          "exception": false,
          "start_time": "2024-06-17T21:26:13.978393",
          "status": "completed"
        },
        "tags": []
      },
      "outputs": [],
      "source": [
        "reversed_ports = {v: k for k, v in ports.items()}"
      ]
    },
    {
      "cell_type": "markdown",
      "id": "78676045",
      "metadata": {
        "papermill": {
          "duration": 0.01174,
          "end_time": "2024-06-17T21:26:14.018623",
          "exception": false,
          "start_time": "2024-06-17T21:26:14.006883",
          "status": "completed"
        },
        "tags": []
      },
      "source": [
        "The first real step of the algorithm is to create the 'block diagonal sdict`:"
      ]
    },
    {
      "cell_type": "code",
      "execution_count": 5,
      "id": "0ff6149f",
      "metadata": {
        "execution": {
          "iopub.execute_input": "2024-06-17T21:26:14.043045Z",
          "iopub.status.busy": "2024-06-17T21:26:14.042570Z",
          "iopub.status.idle": "2024-06-17T21:26:14.058314Z",
          "shell.execute_reply": "2024-06-17T21:26:14.057831Z"
        },
        "papermill": {
          "duration": 0.02913,
          "end_time": "2024-06-17T21:26:14.059451",
          "exception": false,
          "start_time": "2024-06-17T21:26:14.030321",
          "status": "completed"
        },
        "tags": []
      },
      "outputs": [],
      "source": [
        "block_diag = {}\n",
        "for name, S in instances.items():\n",
        "    block_diag.update(\n",
        "        {(f\"{name},{p1}\", f\"{name},{p2}\"): v for (p1, p2), v in sax.sdict(S).items()}\n",
        "    )"
      ]
    },
    {
      "cell_type": "markdown",
      "id": "c4721548",
      "metadata": {
        "papermill": {
          "duration": 0.011842,
          "end_time": "2024-06-17T21:26:14.083250",
          "exception": false,
          "start_time": "2024-06-17T21:26:14.071408",
          "status": "completed"
        },
        "tags": []
      },
      "source": [
        "we can optionally filter out zeros from the resulting block_diag representation. Just note that this will make the resuling function unjittable (the resulting 'shape' (i.e. keys) of the dictionary would depend on the data itself, which is not allowed in JAX jit). We're doing it here to avoid printing zeros but **internally this is not done by default**."
      ]
    },
    {
      "cell_type": "code",
      "execution_count": 6,
      "id": "cfce53c1",
      "metadata": {
        "execution": {
          "iopub.execute_input": "2024-06-17T21:26:14.107636Z",
          "iopub.status.busy": "2024-06-17T21:26:14.107447Z",
          "iopub.status.idle": "2024-06-17T21:26:14.155957Z",
          "shell.execute_reply": "2024-06-17T21:26:14.155382Z"
        },
        "papermill": {
          "duration": 0.062075,
          "end_time": "2024-06-17T21:26:14.157124",
          "exception": false,
          "start_time": "2024-06-17T21:26:14.095049",
          "status": "completed"
        },
        "tags": []
      },
      "outputs": [
        {
          "name": "stdout",
          "output_type": "stream",
          "text": [
            "18\n"
          ]
        },
        {
          "data": {
            "text/plain": [
              "{('dc1,in0', 'dc1,out0'): Array(0.70710678+0.j, dtype=complex128),\n",
              " ('dc1,in0', 'dc1,out1'): Array(0.+0.70710678j, dtype=complex128),\n",
              " ('dc1,in1', 'dc1,out0'): Array(0.+0.70710678j, dtype=complex128),\n",
              " ('dc1,in1', 'dc1,out1'): Array(0.70710678+0.j, dtype=complex128),\n",
              " ('dc1,out0', 'dc1,in0'): Array(0.70710678+0.j, dtype=complex128),\n",
              " ('dc1,out0', 'dc1,in1'): Array(0.+0.70710678j, dtype=complex128),\n",
              " ('dc1,out1', 'dc1,in0'): Array(0.+0.70710678j, dtype=complex128),\n",
              " ('dc1,out1', 'dc1,in1'): Array(0.70710678+0.j, dtype=complex128),\n",
              " ('wg,in0', 'wg,out0'): (0.5+0.86603j),\n",
              " ('wg,out0', 'wg,in0'): (0.5+0.86603j),\n",
              " ('dc2,in0', 'dc2,out0'): Array(0.70710678+0.j, dtype=complex128),\n",
              " ('dc2,in0', 'dc2,out1'): Array(0.+0.70710678j, dtype=complex128),\n",
              " ('dc2,in1', 'dc2,out0'): Array(0.+0.70710678j, dtype=complex128),\n",
              " ('dc2,in1', 'dc2,out1'): Array(0.70710678+0.j, dtype=complex128),\n",
              " ('dc2,out0', 'dc2,in0'): Array(0.70710678+0.j, dtype=complex128),\n",
              " ('dc2,out0', 'dc2,in1'): Array(0.+0.70710678j, dtype=complex128),\n",
              " ('dc2,out1', 'dc2,in0'): Array(0.+0.70710678j, dtype=complex128),\n",
              " ('dc2,out1', 'dc2,in1'): Array(0.70710678+0.j, dtype=complex128)}"
            ]
          },
          "execution_count": 6,
          "metadata": {},
          "output_type": "execute_result"
        }
      ],
      "source": [
        "block_diag = {k: v for k, v in block_diag.items() if jnp.abs(v) > 1e-10}\n",
        "print(len(block_diag))\n",
        "block_diag"
      ]
    },
    {
      "cell_type": "markdown",
      "id": "1963694a",
      "metadata": {
        "papermill": {
          "duration": 0.01483,
          "end_time": "2024-06-17T21:26:14.187177",
          "exception": false,
          "start_time": "2024-06-17T21:26:14.172347",
          "status": "completed"
        },
        "tags": []
      },
      "source": [
        "next, we sort the connections such that similar components are grouped together:"
      ]
    },
    {
      "cell_type": "code",
      "execution_count": 7,
      "id": "9859c2d4",
      "metadata": {
        "execution": {
          "iopub.execute_input": "2024-06-17T21:26:14.212770Z",
          "iopub.status.busy": "2024-06-17T21:26:14.212562Z",
          "iopub.status.idle": "2024-06-17T21:26:14.216760Z",
          "shell.execute_reply": "2024-06-17T21:26:14.216188Z"
        },
        "papermill": {
          "duration": 0.017975,
          "end_time": "2024-06-17T21:26:14.217889",
          "exception": false,
          "start_time": "2024-06-17T21:26:14.199914",
          "status": "completed"
        },
        "tags": []
      },
      "outputs": [
        {
          "data": {
            "text/plain": [
              "[('dc1,out1', 'dc2,in1'), ('dc1,out0', 'wg,in0'), ('wg,out0', 'dc2,in0')]"
            ]
          },
          "execution_count": 7,
          "metadata": {},
          "output_type": "execute_result"
        }
      ],
      "source": [
        "from sax.backends.filipsson_gunnar import _connections_sort_key\n",
        "\n",
        "sorted_connections = sorted(connections.items(), key=_connections_sort_key)\n",
        "sorted_connections"
      ]
    },
    {
      "cell_type": "markdown",
      "id": "c75fbf65",
      "metadata": {
        "papermill": {
          "duration": 0.012071,
          "end_time": "2024-06-17T21:26:14.242119",
          "exception": false,
          "start_time": "2024-06-17T21:26:14.230048",
          "status": "completed"
        },
        "tags": []
      },
      "source": [
        "Now we iterate over the sorted connections and connect components as they come in. Connected components take over the name of the first component in the connection, but we keep a set of components belonging to that key in `all_connected_instances`.\n",
        "\n",
        "This is how this `all_connected_instances` dictionary looks initially."
      ]
    },
    {
      "cell_type": "code",
      "execution_count": 8,
      "id": "cf30668c",
      "metadata": {
        "execution": {
          "iopub.execute_input": "2024-06-17T21:26:14.267097Z",
          "iopub.status.busy": "2024-06-17T21:26:14.266739Z",
          "iopub.status.idle": "2024-06-17T21:26:14.270640Z",
          "shell.execute_reply": "2024-06-17T21:26:14.270165Z"
        },
        "papermill": {
          "duration": 0.017639,
          "end_time": "2024-06-17T21:26:14.271721",
          "exception": false,
          "start_time": "2024-06-17T21:26:14.254082",
          "status": "completed"
        },
        "tags": []
      },
      "outputs": [
        {
          "data": {
            "text/plain": [
              "{'dc1': {'dc1'}, 'wg': {'wg'}, 'dc2': {'dc2'}}"
            ]
          },
          "execution_count": 8,
          "metadata": {},
          "output_type": "execute_result"
        }
      ],
      "source": [
        "all_connected_instances = {k: {k} for k in instances}\n",
        "all_connected_instances"
      ]
    },
    {
      "cell_type": "markdown",
      "id": "1152056b",
      "metadata": {
        "papermill": {
          "duration": 0.012326,
          "end_time": "2024-06-17T21:26:14.296382",
          "exception": false,
          "start_time": "2024-06-17T21:26:14.284056",
          "status": "completed"
        },
        "tags": []
      },
      "source": [
        "Normally we would loop over every connection in `sorted_connections` now, but let's just go through it once at first:"
      ]
    },
    {
      "cell_type": "code",
      "execution_count": 9,
      "id": "6be4e1c2d1bad238",
      "metadata": {
        "execution": {
          "iopub.execute_input": "2024-06-17T21:26:14.321684Z",
          "iopub.status.busy": "2024-06-17T21:26:14.321288Z",
          "iopub.status.idle": "2024-06-17T21:26:14.325117Z",
          "shell.execute_reply": "2024-06-17T21:26:14.324632Z"
        },
        "papermill": {
          "duration": 0.017889,
          "end_time": "2024-06-17T21:26:14.326339",
          "exception": false,
          "start_time": "2024-06-17T21:26:14.308450",
          "status": "completed"
        },
        "tags": []
      },
      "outputs": [
        {
          "data": {
            "text/plain": [
              "('dc1,out1', 'dc2,in1')"
            ]
          },
          "execution_count": 9,
          "metadata": {},
          "output_type": "execute_result"
        }
      ],
      "source": [
        "# for k, l in sorted_connections:\n",
        "k, l = sorted_connections[0]\n",
        "k, l"
      ]
    },
    {
      "cell_type": "markdown",
      "id": "16a2266c",
      "metadata": {
        "papermill": {
          "duration": 0.012361,
          "end_time": "2024-06-17T21:26:14.351165",
          "exception": false,
          "start_time": "2024-06-17T21:26:14.338804",
          "status": "completed"
        },
        "tags": []
      },
      "source": [
        "`k` and `l` are the S-matrix indices we're trying to connect. Note that in our sparse `SDict` notation these S-matrix indices are in fact equivalent with the port names `('dc1,out1', 'dc2,in1')`!"
      ]
    },
    {
      "cell_type": "markdown",
      "id": "0eaf4add",
      "metadata": {
        "papermill": {
          "duration": 0.012345,
          "end_time": "2024-06-17T21:26:14.375838",
          "exception": false,
          "start_time": "2024-06-17T21:26:14.363493",
          "status": "completed"
        },
        "tags": []
      },
      "source": [
        "first we split the connection string into an instance name and a port name (we don't use the port name yet):"
      ]
    },
    {
      "cell_type": "code",
      "execution_count": 10,
      "id": "667d1a3c",
      "metadata": {
        "execution": {
          "iopub.execute_input": "2024-06-17T21:26:14.402038Z",
          "iopub.status.busy": "2024-06-17T21:26:14.401770Z",
          "iopub.status.idle": "2024-06-17T21:26:14.404875Z",
          "shell.execute_reply": "2024-06-17T21:26:14.404380Z"
        },
        "papermill": {
          "duration": 0.017533,
          "end_time": "2024-06-17T21:26:14.406071",
          "exception": false,
          "start_time": "2024-06-17T21:26:14.388538",
          "status": "completed"
        },
        "tags": []
      },
      "outputs": [],
      "source": [
        "name1, _ = k.split(\",\")\n",
        "name2, _ = l.split(\",\")"
      ]
    },
    {
      "cell_type": "markdown",
      "id": "16e8bbe8",
      "metadata": {
        "papermill": {
          "duration": 0.012281,
          "end_time": "2024-06-17T21:26:14.430836",
          "exception": false,
          "start_time": "2024-06-17T21:26:14.418555",
          "status": "completed"
        },
        "tags": []
      },
      "source": [
        "We then obtain the new set of connected instances."
      ]
    },
    {
      "cell_type": "code",
      "execution_count": 11,
      "id": "51bf8615",
      "metadata": {
        "execution": {
          "iopub.execute_input": "2024-06-17T21:26:14.456550Z",
          "iopub.status.busy": "2024-06-17T21:26:14.456158Z",
          "iopub.status.idle": "2024-06-17T21:26:14.459979Z",
          "shell.execute_reply": "2024-06-17T21:26:14.459434Z"
        },
        "papermill": {
          "duration": 0.018001,
          "end_time": "2024-06-17T21:26:14.461149",
          "exception": false,
          "start_time": "2024-06-17T21:26:14.443148",
          "status": "completed"
        },
        "tags": []
      },
      "outputs": [
        {
          "data": {
            "text/plain": [
              "{'dc1', 'dc2'}"
            ]
          },
          "execution_count": 11,
          "metadata": {},
          "output_type": "execute_result"
        }
      ],
      "source": [
        "connected_instances = all_connected_instances[name1] | all_connected_instances[name2]\n",
        "connected_instances"
      ]
    },
    {
      "cell_type": "markdown",
      "id": "676c8d61",
      "metadata": {
        "papermill": {
          "duration": 0.01237,
          "end_time": "2024-06-17T21:26:14.485936",
          "exception": false,
          "start_time": "2024-06-17T21:26:14.473566",
          "status": "completed"
        },
        "tags": []
      },
      "source": [
        "We then iterate over each of the components in this set and make sure each of the component names in that set maps to that set (yes, I know... confusing). We do this to be able to keep track with which components each of the components in the circuit is currently already connected to."
      ]
    },
    {
      "cell_type": "code",
      "execution_count": 12,
      "id": "d322e86c",
      "metadata": {
        "execution": {
          "iopub.execute_input": "2024-06-17T21:26:14.511862Z",
          "iopub.status.busy": "2024-06-17T21:26:14.511431Z",
          "iopub.status.idle": "2024-06-17T21:26:14.515590Z",
          "shell.execute_reply": "2024-06-17T21:26:14.515109Z"
        },
        "papermill": {
          "duration": 0.018299,
          "end_time": "2024-06-17T21:26:14.516687",
          "exception": false,
          "start_time": "2024-06-17T21:26:14.498388",
          "status": "completed"
        },
        "tags": []
      },
      "outputs": [
        {
          "data": {
            "text/plain": [
              "{'dc1': {'dc1', 'dc2'}, 'wg': {'wg'}, 'dc2': {'dc1', 'dc2'}}"
            ]
          },
          "execution_count": 12,
          "metadata": {},
          "output_type": "execute_result"
        }
      ],
      "source": [
        "for name in connected_instances:\n",
        "    all_connected_instances[name] = connected_instances\n",
        "\n",
        "all_connected_instances"
      ]
    },
    {
      "cell_type": "markdown",
      "id": "b79f49f8",
      "metadata": {
        "papermill": {
          "duration": 0.012288,
          "end_time": "2024-06-17T21:26:14.541591",
          "exception": false,
          "start_time": "2024-06-17T21:26:14.529303",
          "status": "completed"
        },
        "tags": []
      },
      "source": [
        "now we need to obtain all the ports of the currently connected instances."
      ]
    },
    {
      "cell_type": "code",
      "execution_count": 13,
      "id": "61b3cfab",
      "metadata": {
        "execution": {
          "iopub.execute_input": "2024-06-17T21:26:14.567382Z",
          "iopub.status.busy": "2024-06-17T21:26:14.566945Z",
          "iopub.status.idle": "2024-06-17T21:26:14.571487Z",
          "shell.execute_reply": "2024-06-17T21:26:14.570911Z"
        },
        "papermill": {
          "duration": 0.018633,
          "end_time": "2024-06-17T21:26:14.572635",
          "exception": false,
          "start_time": "2024-06-17T21:26:14.554002",
          "status": "completed"
        },
        "tags": []
      },
      "outputs": [
        {
          "data": {
            "text/plain": [
              "('dc1,in1',\n",
              " 'dc1,out0',\n",
              " 'dc1,out1',\n",
              " 'dc1,in0',\n",
              " 'dc2,out0',\n",
              " 'dc2,in1',\n",
              " 'dc2,in0',\n",
              " 'dc2,out1')"
            ]
          },
          "execution_count": 13,
          "metadata": {},
          "output_type": "execute_result"
        }
      ],
      "source": [
        "current_ports = tuple(\n",
        "    p\n",
        "    for instance in connected_instances\n",
        "    for p in set([p for p, _ in block_diag] + [p for _, p in block_diag])\n",
        "    if p.startswith(f\"{instance},\")\n",
        ")\n",
        "\n",
        "current_ports"
      ]
    },
    {
      "cell_type": "markdown",
      "id": "d0e87449",
      "metadata": {
        "papermill": {
          "duration": 0.012389,
          "end_time": "2024-06-17T21:26:14.597736",
          "exception": false,
          "start_time": "2024-06-17T21:26:14.585347",
          "status": "completed"
        },
        "tags": []
      },
      "source": [
        "Now the Gunnar Algorithm is used. Given a (block-diagonal) 'S-matrix' `block_diag` and a 'connection matrix' `current_ports` we can interconnect port `k` and `l` as follows:\n",
        "\n",
        "> Note: some creative freedom is used here. In SAX, the matrices we're talking about are in fact represented by a sparse dictionary (an `SDict`), i.e. similar to a COO sparse matrix for which the indices are the port names."
      ]
    },
    {
      "cell_type": "markdown",
      "id": "988c08d9",
      "metadata": {
        "papermill": {
          "duration": 0.012627,
          "end_time": "2024-06-17T21:26:14.622871",
          "exception": false,
          "start_time": "2024-06-17T21:26:14.610244",
          "status": "completed"
        },
        "tags": []
      },
      "source": [
        "Just as before, we're filtering the zeros from the sparse representation (remember, internally this is **not done by default**)."
      ]
    },
    {
      "cell_type": "code",
      "execution_count": 14,
      "id": "e9ac8164",
      "metadata": {
        "execution": {
          "iopub.execute_input": "2024-06-17T21:26:14.649076Z",
          "iopub.status.busy": "2024-06-17T21:26:14.648689Z",
          "iopub.status.idle": "2024-06-17T21:26:14.656292Z",
          "shell.execute_reply": "2024-06-17T21:26:14.655728Z"
        },
        "papermill": {
          "duration": 0.022085,
          "end_time": "2024-06-17T21:26:14.657535",
          "exception": false,
          "start_time": "2024-06-17T21:26:14.635450",
          "status": "completed"
        },
        "tags": []
      },
      "outputs": [
        {
          "name": "stdout",
          "output_type": "stream",
          "text": [
            "18\n"
          ]
        },
        {
          "data": {
            "text/plain": [
              "{('dc1,in0', 'dc1,out0'): Array(0.70710678+0.j, dtype=complex128),\n",
              " ('dc1,in0', 'dc1,out1'): Array(0.+0.70710678j, dtype=complex128),\n",
              " ('dc1,in1', 'dc1,out0'): Array(0.+0.70710678j, dtype=complex128),\n",
              " ('dc1,in1', 'dc1,out1'): Array(0.70710678+0.j, dtype=complex128),\n",
              " ('dc1,out0', 'dc1,in0'): Array(0.70710678+0.j, dtype=complex128),\n",
              " ('dc1,out0', 'dc1,in1'): Array(0.+0.70710678j, dtype=complex128),\n",
              " ('dc1,out1', 'dc1,in0'): Array(0.+0.70710678j, dtype=complex128),\n",
              " ('dc1,out1', 'dc1,in1'): Array(0.70710678+0.j, dtype=complex128),\n",
              " ('wg,in0', 'wg,out0'): (0.5+0.86603j),\n",
              " ('wg,out0', 'wg,in0'): (0.5+0.86603j),\n",
              " ('dc2,in0', 'dc2,out0'): Array(0.70710678+0.j, dtype=complex128),\n",
              " ('dc2,in0', 'dc2,out1'): Array(0.+0.70710678j, dtype=complex128),\n",
              " ('dc2,in1', 'dc2,out0'): Array(0.+0.70710678j, dtype=complex128),\n",
              " ('dc2,in1', 'dc2,out1'): Array(0.70710678+0.j, dtype=complex128),\n",
              " ('dc2,out0', 'dc2,in0'): Array(0.70710678+0.j, dtype=complex128),\n",
              " ('dc2,out0', 'dc2,in1'): Array(0.+0.70710678j, dtype=complex128),\n",
              " ('dc2,out1', 'dc2,in0'): Array(0.+0.70710678j, dtype=complex128),\n",
              " ('dc2,out1', 'dc2,in1'): Array(0.70710678+0.j, dtype=complex128)}"
            ]
          },
          "execution_count": 14,
          "metadata": {},
          "output_type": "execute_result"
        }
      ],
      "source": [
        "block_diag = {k: v for k, v in block_diag.items() if jnp.abs(v) > 1e-10}\n",
        "print(len(block_diag))\n",
        "block_diag"
      ]
    },
    {
      "cell_type": "markdown",
      "id": "db0cd151",
      "metadata": {
        "papermill": {
          "duration": 0.012661,
          "end_time": "2024-06-17T21:26:14.682966",
          "exception": false,
          "start_time": "2024-06-17T21:26:14.670305",
          "status": "completed"
        },
        "tags": []
      },
      "source": [
        "This is the resulting block-diagonal matrix after interconnecting two ports (i.e. basically saying that those two ports are the same port). Because these ports are now connected we should actually remove them from the S-matrix representation (they are integrated into the S-parameters of the other connections):"
      ]
    },
    {
      "cell_type": "code",
      "execution_count": 15,
      "id": "311b034f",
      "metadata": {
        "execution": {
          "iopub.execute_input": "2024-06-17T21:26:14.709128Z",
          "iopub.status.busy": "2024-06-17T21:26:14.708766Z",
          "iopub.status.idle": "2024-06-17T21:26:14.714782Z",
          "shell.execute_reply": "2024-06-17T21:26:14.714267Z"
        },
        "papermill": {
          "duration": 0.020433,
          "end_time": "2024-06-17T21:26:14.716027",
          "exception": false,
          "start_time": "2024-06-17T21:26:14.695594",
          "status": "completed"
        },
        "tags": []
      },
      "outputs": [
        {
          "name": "stdout",
          "output_type": "stream",
          "text": [
            "10\n"
          ]
        },
        {
          "data": {
            "text/plain": [
              "{('dc1,in0', 'dc1,out0'): Array(0.70710678+0.j, dtype=complex128),\n",
              " ('dc1,in1', 'dc1,out0'): Array(0.+0.70710678j, dtype=complex128),\n",
              " ('dc1,out0', 'dc1,in0'): Array(0.70710678+0.j, dtype=complex128),\n",
              " ('dc1,out0', 'dc1,in1'): Array(0.+0.70710678j, dtype=complex128),\n",
              " ('wg,in0', 'wg,out0'): (0.5+0.86603j),\n",
              " ('wg,out0', 'wg,in0'): (0.5+0.86603j),\n",
              " ('dc2,in0', 'dc2,out0'): Array(0.70710678+0.j, dtype=complex128),\n",
              " ('dc2,in0', 'dc2,out1'): Array(0.+0.70710678j, dtype=complex128),\n",
              " ('dc2,out0', 'dc2,in0'): Array(0.70710678+0.j, dtype=complex128),\n",
              " ('dc2,out1', 'dc2,in0'): Array(0.+0.70710678j, dtype=complex128)}"
            ]
          },
          "execution_count": 15,
          "metadata": {},
          "output_type": "execute_result"
        }
      ],
      "source": [
        "for i, j in list(block_diag.keys()):\n",
        "    is_connected = i == k or i == l or j == k or j == l\n",
        "    is_in_output_ports = i in reversed_ports and j in reversed_ports\n",
        "    if is_connected and not is_in_output_ports:\n",
        "        del block_diag[i, j]  # we're no longer interested in these port combinations\n",
        "\n",
        "print(len(block_diag))\n",
        "block_diag"
      ]
    },
    {
      "cell_type": "markdown",
      "id": "b6badcb7",
      "metadata": {
        "papermill": {
          "duration": 0.013192,
          "end_time": "2024-06-17T21:26:14.742294",
          "exception": false,
          "start_time": "2024-06-17T21:26:14.729102",
          "status": "completed"
        },
        "tags": []
      },
      "source": [
        "Note that this deletion of values **does NOT** make this operation un-jittable. The deletion depends on the ports of the dictionary (i.e. on the dictionary 'shape'), not on the values."
      ]
    },
    {
      "cell_type": "markdown",
      "id": "89e775cd",
      "metadata": {
        "papermill": {
          "duration": 0.012833,
          "end_time": "2024-06-17T21:26:14.767949",
          "exception": false,
          "start_time": "2024-06-17T21:26:14.755116",
          "status": "completed"
        },
        "tags": []
      },
      "source": [
        "We now basically have to do those steps again for all other connections:"
      ]
    },
    {
      "cell_type": "code",
      "execution_count": 16,
      "id": "25eac933",
      "metadata": {
        "execution": {
          "iopub.execute_input": "2024-06-17T21:26:14.794617Z",
          "iopub.status.busy": "2024-06-17T21:26:14.794255Z",
          "iopub.status.idle": "2024-06-17T21:26:15.707190Z",
          "shell.execute_reply": "2024-06-17T21:26:15.706607Z"
        },
        "papermill": {
          "duration": 0.927915,
          "end_time": "2024-06-17T21:26:15.708661",
          "exception": false,
          "start_time": "2024-06-17T21:26:14.780746",
          "status": "completed"
        },
        "tags": []
      },
      "outputs": [],
      "source": [
        "from sax.backends.filipsson_gunnar import _interconnect_ports\n",
        "\n",
        "# for k, l in sorted_connections:\n",
        "for k, l in sorted_connections[\n",
        "    1:\n",
        "]:  # we just did the first iteration of this loop above...\n",
        "    name1, _ = k.split(\",\")\n",
        "    name2, _ = l.split(\",\")\n",
        "    connected_instances = (\n",
        "        all_connected_instances[name1] | all_connected_instances[name2]\n",
        "    )\n",
        "    for name in connected_instances:\n",
        "        all_connected_instances[name] = connected_instances\n",
        "    current_ports = tuple(\n",
        "        p\n",
        "        for instance in connected_instances\n",
        "        for p in set([p for p, _ in block_diag] + [p for _, p in block_diag])\n",
        "        if p.startswith(f\"{instance},\")\n",
        "    )\n",
        "    block_diag.update(_interconnect_ports(block_diag, current_ports, k, l))\n",
        "    for i, j in list(block_diag.keys()):\n",
        "        is_connected = i == k or i == l or j == k or j == l\n",
        "        is_in_output_ports = i in reversed_ports and j in reversed_ports\n",
        "        if is_connected and not is_in_output_ports:\n",
        "            del block_diag[\n",
        "                i, j\n",
        "            ]  # we're no longer interested in these port combinations"
      ]
    },
    {
      "cell_type": "markdown",
      "id": "36eb82fc",
      "metadata": {
        "papermill": {
          "duration": 0.012595,
          "end_time": "2024-06-17T21:26:15.734650",
          "exception": false,
          "start_time": "2024-06-17T21:26:15.722055",
          "status": "completed"
        },
        "tags": []
      },
      "source": [
        "This is the final MZI matrix we're getting:"
      ]
    },
    {
      "cell_type": "code",
      "execution_count": 17,
      "id": "d1c0367e",
      "metadata": {
        "execution": {
          "iopub.execute_input": "2024-06-17T21:26:15.761521Z",
          "iopub.status.busy": "2024-06-17T21:26:15.761063Z",
          "iopub.status.idle": "2024-06-17T21:26:15.767740Z",
          "shell.execute_reply": "2024-06-17T21:26:15.767197Z"
        },
        "papermill": {
          "duration": 0.021393,
          "end_time": "2024-06-17T21:26:15.768839",
          "exception": false,
          "start_time": "2024-06-17T21:26:15.747446",
          "status": "completed"
        },
        "tags": []
      },
      "outputs": [
        {
          "data": {
            "text/plain": [
              "{('dc1,in1', 'dc1,in1'): Array(0.+0.j, dtype=complex128),\n",
              " ('dc1,in1', 'dc1,in0'): Array(0.+0.j, dtype=complex128),\n",
              " ('dc1,in1', 'dc2,out0'): Array(-0.433015+0.25j, dtype=complex128),\n",
              " ('dc1,in1', 'dc2,out1'): Array(-0.25-0.433015j, dtype=complex128),\n",
              " ('dc1,in0', 'dc1,in1'): Array(0.+0.j, dtype=complex128),\n",
              " ('dc1,in0', 'dc1,in0'): Array(0.+0.j, dtype=complex128),\n",
              " ('dc1,in0', 'dc2,out0'): Array(0.25+0.433015j, dtype=complex128),\n",
              " ('dc1,in0', 'dc2,out1'): Array(-0.433015+0.25j, dtype=complex128),\n",
              " ('dc2,out0', 'dc1,in1'): Array(-0.433015+0.25j, dtype=complex128),\n",
              " ('dc2,out0', 'dc1,in0'): Array(0.25+0.433015j, dtype=complex128),\n",
              " ('dc2,out0', 'dc2,out0'): Array(0.+0.j, dtype=complex128),\n",
              " ('dc2,out0', 'dc2,out1'): Array(0.+0.j, dtype=complex128),\n",
              " ('dc2,out1', 'dc1,in1'): Array(-0.25-0.433015j, dtype=complex128),\n",
              " ('dc2,out1', 'dc1,in0'): Array(-0.433015+0.25j, dtype=complex128),\n",
              " ('dc2,out1', 'dc2,out0'): Array(0.+0.j, dtype=complex128),\n",
              " ('dc2,out1', 'dc2,out1'): Array(0.+0.j, dtype=complex128)}"
            ]
          },
          "execution_count": 17,
          "metadata": {},
          "output_type": "execute_result"
        }
      ],
      "source": [
        "block_diag"
      ]
    },
    {
      "cell_type": "markdown",
      "id": "03f67ec6",
      "metadata": {
        "papermill": {
          "duration": 0.012906,
          "end_time": "2024-06-17T21:26:15.794892",
          "exception": false,
          "start_time": "2024-06-17T21:26:15.781986",
          "status": "completed"
        },
        "tags": []
      },
      "source": [
        "All that's left is to rename these internal ports of the format `{instance},{port}` into output ports of the resulting circuit:"
      ]
    },
    {
      "cell_type": "code",
      "execution_count": 18,
      "id": "cf5ea4af",
      "metadata": {
        "execution": {
          "iopub.execute_input": "2024-06-17T21:26:15.821561Z",
          "iopub.status.busy": "2024-06-17T21:26:15.821341Z",
          "iopub.status.idle": "2024-06-17T21:26:15.827905Z",
          "shell.execute_reply": "2024-06-17T21:26:15.827454Z"
        },
        "papermill": {
          "duration": 0.021272,
          "end_time": "2024-06-17T21:26:15.829013",
          "exception": false,
          "start_time": "2024-06-17T21:26:15.807741",
          "status": "completed"
        },
        "tags": []
      },
      "outputs": [
        {
          "data": {
            "text/plain": [
              "{('in1', 'in1'): Array(0.+0.j, dtype=complex128),\n",
              " ('in1', 'in0'): Array(0.+0.j, dtype=complex128),\n",
              " ('in1', 'out0'): Array(-0.433015+0.25j, dtype=complex128),\n",
              " ('in1', 'out1'): Array(-0.25-0.433015j, dtype=complex128),\n",
              " ('in0', 'in1'): Array(0.+0.j, dtype=complex128),\n",
              " ('in0', 'in0'): Array(0.+0.j, dtype=complex128),\n",
              " ('in0', 'out0'): Array(0.25+0.433015j, dtype=complex128),\n",
              " ('in0', 'out1'): Array(-0.433015+0.25j, dtype=complex128),\n",
              " ('out0', 'in1'): Array(-0.433015+0.25j, dtype=complex128),\n",
              " ('out0', 'in0'): Array(0.25+0.433015j, dtype=complex128),\n",
              " ('out0', 'out0'): Array(0.+0.j, dtype=complex128),\n",
              " ('out0', 'out1'): Array(0.+0.j, dtype=complex128),\n",
              " ('out1', 'in1'): Array(-0.25-0.433015j, dtype=complex128),\n",
              " ('out1', 'in0'): Array(-0.433015+0.25j, dtype=complex128),\n",
              " ('out1', 'out0'): Array(0.+0.j, dtype=complex128),\n",
              " ('out1', 'out1'): Array(0.+0.j, dtype=complex128)}"
            ]
          },
          "execution_count": 18,
          "metadata": {},
          "output_type": "execute_result"
        }
      ],
      "source": [
        "circuit_sdict: sax.SDict = {\n",
        "    (reversed_ports[i], reversed_ports[j]): v\n",
        "    for (i, j), v in block_diag.items()\n",
        "    if i in reversed_ports and j in reversed_ports\n",
        "}\n",
        "circuit_sdict"
      ]
    },
    {
      "cell_type": "markdown",
      "id": "7dc6505e",
      "metadata": {
        "papermill": {
          "duration": 0.012978,
          "end_time": "2024-06-17T21:26:15.855095",
          "exception": false,
          "start_time": "2024-06-17T21:26:15.842117",
          "status": "completed"
        },
        "tags": []
      },
      "source": [
        "And that's it. We evaluated the `SDict` of the full circuit."
      ]
    },
    {
      "cell_type": "markdown",
      "id": "170db10b",
      "metadata": {
        "papermill": {
          "duration": 0.013019,
          "end_time": "2024-06-17T21:26:15.881162",
          "exception": false,
          "start_time": "2024-06-17T21:26:15.868143",
          "status": "completed"
        },
        "tags": []
      },
      "source": [
        "### Algorithm Improvements"
      ]
    },
    {
      "cell_type": "markdown",
      "id": "4ed0e69a",
      "metadata": {
        "papermill": {
          "duration": 0.012958,
          "end_time": "2024-06-17T21:26:15.907140",
          "exception": false,
          "start_time": "2024-06-17T21:26:15.894182",
          "status": "completed"
        },
        "tags": []
      },
      "source": [
        "The Filipsson-Gunar algorithm is \n",
        "\n",
        "* pretty fast for small circuits \ud83d\ude42\n",
        "* jittable \ud83d\ude42\n",
        "* differentiable \ud83d\ude42\n",
        "* GPU-compatible \ud83d\ude42\n",
        "\n",
        "This algorithm is however:\n",
        "\n",
        "* **really slow** for large circuits \ud83d\ude25\n",
        "* **pretty slow** to jit the resulting circuit function \ud83d\ude25\n",
        "* **pretty slow** to differentiate the resulting circuit function \ud83d\ude25\n",
        "\n",
        "There are probably still plenty of improvements possible for this algorithm:\n",
        "\n",
        "* **\u00bf** Network analysis (ft. NetworkX ?) to obtain which ports of the block diagonal representation are relevant to obtain the output connection **?**\n",
        "* **\u00bf** Smarter ordering of connections to always have the minimum amount of ports in the intermediate block-diagonal representation **?**\n",
        "* **\u00bf** Using `jax.lax.scan` in stead of python native for-loops in `_interconnect_ports` **?**\n",
        "* **\u00bf** ... **?**\n",
        "\n",
        "Bottom line is... Do you know how to improve this algorithm or how to implement the above suggestions? Please open a Merge Request!"
      ]
    },
    {
      "cell_type": "markdown",
      "id": "8ac28523-e792-4c9a-a23f-252ae91a4a7d",
      "metadata": {
        "papermill": {
          "duration": 0.012969,
          "end_time": "2024-06-17T21:26:15.933114",
          "exception": false,
          "start_time": "2024-06-17T21:26:15.920145",
          "status": "completed"
        },
        "tags": []
      },
      "source": [
        "## KLU Backend\n",
        "\n",
        "The KLU backend is using `klujax`, which uses the [SuiteSparse](https://github.com/DrTimothyAldenDavis/SuiteSparse) C++ libraries for sparse matrix evaluations to evaluate the circuit insanely fast on a CPU. The specific algorith being used in question is the KLU algorithm:\n",
        "\n",
        "> Ekanathan Palamadai Natariajan. \"*KLU - A high performance sparse linear solver for circuit simulation problems.*\"\n",
        "\n",
        "```{eval-rst}\n",
        ".. autofunction:: sax.backends.analyze_circuit_klu\n",
        "```\n",
        "\n",
        "```{eval-rst}\n",
        ".. autofunction:: sax.backends.evaluate_circuit_klu\n",
        "```"
      ]
    },
    {
      "cell_type": "markdown",
      "id": "8804e6fd-3dda-4770-a312-434ddc00446f",
      "metadata": {
        "papermill": {
          "duration": 0.013367,
          "end_time": "2024-06-17T21:26:15.959590",
          "exception": false,
          "start_time": "2024-06-17T21:26:15.946223",
          "status": "completed"
        },
        "tags": []
      },
      "source": [
        "### Theoretical Background"
      ]
    },
    {
      "cell_type": "markdown",
      "id": "b31bb0c6-6ffe-47a7-8458-cf555d5c0579",
      "metadata": {
        "papermill": {
          "duration": 0.013171,
          "end_time": "2024-06-17T21:26:15.985910",
          "exception": false,
          "start_time": "2024-06-17T21:26:15.972739",
          "status": "completed"
        },
        "tags": []
      },
      "source": [
        "The core of the KLU algorithm is supported by `klujax`, which internally uses the Suitesparse libraries to solve the sparse system `Ax = b`, in which A is a sparse matrix."
      ]
    },
    {
      "cell_type": "markdown",
      "id": "68f22fec-2d16-4d94-be9d-a02b1c85efa8",
      "metadata": {
        "papermill": {
          "duration": 0.01301,
          "end_time": "2024-06-17T21:26:16.011970",
          "exception": false,
          "start_time": "2024-06-17T21:26:15.998960",
          "status": "completed"
        },
        "tags": []
      },
      "source": [
        "Now it only comes down to shoehorn our circuit evaluation into a sparse linear system of equations $Ax=b$ where we need to solve for $x$ using `klujax`. \n",
        "Consider the block diagonal matrix $S_{bd}$ of all components in the circuit acting on the fields $x_{in}$ at each of the individual ports of each of the component integrated in $S^{bd}$. The output fields $x^{out}$ at each of those ports is then given by:\n",
        "\n",
        "$$\n",
        "x^{out} = S_{bd} x^{in}\n",
        "$$"
      ]
    },
    {
      "cell_type": "markdown",
      "id": "b023a7b2-8ba4-4d46-98c2-82f2ac4c68d4",
      "metadata": {
        "papermill": {
          "duration": 0.012933,
          "end_time": "2024-06-17T21:26:16.037938",
          "exception": false,
          "start_time": "2024-06-17T21:26:16.025005",
          "status": "completed"
        },
        "tags": []
      },
      "source": [
        "However, $S_{bd}$ is not the S-matrix of the circuit as it does not encode any connectivity *between* the components. Connecting two component ports basically comes down to enforcing equality between the output fields at one port of a component with the input fields at another port of another (or maybe even the same) component. This equality can be enforced by creating an internal connection matrix, connecting all internal ports of the circuit:\n",
        "\n",
        "$$\n",
        "x^{in} = C_{int} x^{out}\n",
        "$$"
      ]
    },
    {
      "cell_type": "markdown",
      "id": "10a61bbc-39ca-4b09-8071-61554fbb49f8",
      "metadata": {
        "papermill": {
          "duration": 0.013002,
          "end_time": "2024-06-17T21:26:16.063888",
          "exception": false,
          "start_time": "2024-06-17T21:26:16.050886",
          "status": "completed"
        },
        "tags": []
      },
      "source": [
        "We can thus write the following combined equation:\n",
        "\n",
        "$$\n",
        "x^{in} = C_{int} S_{bd} x^{in}\n",
        "$$"
      ]
    },
    {
      "cell_type": "markdown",
      "id": "8f99e680-c57a-4baf-8ff2-a35b63ea29af",
      "metadata": {
        "papermill": {
          "duration": 0.012999,
          "end_time": "2024-06-17T21:26:16.089909",
          "exception": false,
          "start_time": "2024-06-17T21:26:16.076910",
          "status": "completed"
        },
        "tags": []
      },
      "source": [
        "But this is not the complete story... Some component ports will *not* be *interconnected* with other ports: they will become the new *external ports* (or output ports) of the combined circuit. We can include those external ports into the above equation as follows:\n",
        "\n",
        "$$\n",
        "\\begin{pmatrix} x^{in} \\\\ x^{out}_{ext} \\end{pmatrix} = \\begin{pmatrix} C_{int} & C_{ext} \\\\ C_{ext}^T & 0 \\end{pmatrix} \\begin{pmatrix} S_{bd} x^{in} \\\\ x_{ext}^{in} \\end{pmatrix} \n",
        "$$"
      ]
    },
    {
      "cell_type": "markdown",
      "id": "a3f77604-0f3a-4371-a4d5-42ce667587c0",
      "metadata": {
        "papermill": {
          "duration": 0.013029,
          "end_time": "2024-06-17T21:26:16.115913",
          "exception": false,
          "start_time": "2024-06-17T21:26:16.102884",
          "status": "completed"
        },
        "tags": []
      },
      "source": [
        "Note that $C_{ext}$ is obviously **not** a square matrix. Eliminating $x^{in}$ from the equation above finally yields:\n",
        "\n",
        "$$\n",
        "x^{out}_{ext} = C^T_{ext} S_{bd} (I - C_{int}S_{bd})^{-1} C_{ext}x_{ext}^{in}\n",
        "$$"
      ]
    },
    {
      "cell_type": "markdown",
      "id": "4cfb5f22-67d3-4c7e-b6c6-994fd4add6a4",
      "metadata": {
        "papermill": {
          "duration": 0.012925,
          "end_time": "2024-06-17T21:26:16.141901",
          "exception": false,
          "start_time": "2024-06-17T21:26:16.128976",
          "status": "completed"
        },
        "tags": []
      },
      "source": [
        "We basically found a representation of the circuit S-matrix:\n",
        "\n",
        "$$\n",
        "S = C^T_{ext} S_{bd} (I - C_{int}S_{bd})^{-1} C_{ext}\n",
        "$$"
      ]
    },
    {
      "cell_type": "markdown",
      "id": "cdd9c503-f057-4b99-a6f6-61a8f71bc71d",
      "metadata": {
        "papermill": {
          "duration": 0.013091,
          "end_time": "2024-06-17T21:26:16.167995",
          "exception": false,
          "start_time": "2024-06-17T21:26:16.154904",
          "status": "completed"
        },
        "tags": []
      },
      "source": [
        "Obviously, we won't want to calculate the inverse $(I - C_{int}S_{bd})^{-1}$, which is the inverse of a very sparse matrix (a connection matrix only has a single 1 per line), which very often is not even sparse itself. In stead we'll use the `solve_klu` function:\n",
        "\n",
        "$$\n",
        "S = C^T_{ext} S_{bd} \\texttt{solve}\\_\\texttt{klu}\\left((I - C_{int}S_{bd}), C_{ext}\\right)\n",
        "$$"
      ]
    },
    {
      "cell_type": "markdown",
      "id": "45811209-f2bd-4bd4-a531-2956e6bd3293",
      "metadata": {
        "papermill": {
          "duration": 0.013293,
          "end_time": "2024-06-17T21:26:16.194401",
          "exception": false,
          "start_time": "2024-06-17T21:26:16.181108",
          "status": "completed"
        },
        "tags": []
      },
      "source": [
        "Moreover, $C_{ext}^TS_{bd}$ is also a sparse matrix, therefore we'll also need a `mul_coo` routine:\n",
        "\n",
        "$$\n",
        "S = C^T_{ext} \\texttt{mul}\\_\\texttt{coo}\\left(S_{bd},~~\\texttt{solve}\\_\\texttt{klu}\\left((I - C_{int}S_{bd}),~C_{ext}\\right)\\right)\n",
        "$$"
      ]
    },
    {
      "cell_type": "markdown",
      "id": "03256ad3-4d45-4113-9d38-f08d36593b21",
      "metadata": {
        "papermill": {
          "duration": 0.013107,
          "end_time": "2024-06-17T21:26:16.220441",
          "exception": false,
          "start_time": "2024-06-17T21:26:16.207334",
          "status": "completed"
        },
        "tags": []
      },
      "source": [
        "### Sparse Helper Functions\n",
        "\n",
        "```{eval-rst}\n",
        ".. autofunction:: klujax.solve\n",
        "```\n",
        "\n",
        "```{eval-rst}\n",
        ".. autofunction:: klujax.coo_mul_vec\n",
        "```"
      ]
    },
    {
      "cell_type": "markdown",
      "id": "3e54a061-8846-4a23-8431-18cfe0d2bc9d",
      "metadata": {
        "papermill": {
          "duration": 0.012984,
          "end_time": "2024-06-17T21:26:16.246391",
          "exception": false,
          "start_time": "2024-06-17T21:26:16.233407",
          "status": "completed"
        },
        "tags": []
      },
      "source": [
        "`klujax.solve` solves the sparse system of equations `Ax=b` for `x`. Where `A` is represented by in [COO-format](https://en.wikipedia.org/wiki/Sparse_matrix#Coordinate_list_(COO)) as (`Ai`, `Aj`, `Ax`).\n",
        "\n",
        "> Example"
      ]
    },
    {
      "cell_type": "code",
      "execution_count": 19,
      "id": "63e7977a",
      "metadata": {
        "execution": {
          "iopub.execute_input": "2024-06-17T21:26:16.273777Z",
          "iopub.status.busy": "2024-06-17T21:26:16.273291Z",
          "iopub.status.idle": "2024-06-17T21:26:16.308034Z",
          "shell.execute_reply": "2024-06-17T21:26:16.307531Z"
        },
        "papermill": {
          "duration": 0.049863,
          "end_time": "2024-06-17T21:26:16.309159",
          "exception": false,
          "start_time": "2024-06-17T21:26:16.259296",
          "status": "completed"
        },
        "tags": []
      },
      "outputs": [
        {
          "data": {
            "text/plain": [
              "Array([6. , 1. , 0.5, 0.5, 2. ], dtype=float64)"
            ]
          },
          "execution_count": 19,
          "metadata": {},
          "output_type": "execute_result"
        }
      ],
      "source": [
        "Ai = jnp.array([0, 1, 2, 3, 4])\n",
        "Aj = jnp.array([1, 3, 4, 0, 2])\n",
        "Ax = jnp.array([5, 6, 1, 1, 2])\n",
        "b = jnp.array([5, 3, 2, 6, 1])\n",
        "x = klujax.solve(Ai, Aj, Ax, b)\n",
        "x"
      ]
    },
    {
      "cell_type": "markdown",
      "id": "d54bfd5f-0799-493f-8677-d086b5b05b56",
      "metadata": {
        "papermill": {
          "duration": 0.013057,
          "end_time": "2024-06-17T21:26:16.336013",
          "exception": false,
          "start_time": "2024-06-17T21:26:16.322956",
          "status": "completed"
        },
        "tags": []
      },
      "source": [
        "This result is indeed correct:"
      ]
    },
    {
      "cell_type": "code",
      "execution_count": 20,
      "id": "629bbc71",
      "metadata": {
        "execution": {
          "iopub.execute_input": "2024-06-17T21:26:16.363119Z",
          "iopub.status.busy": "2024-06-17T21:26:16.362898Z",
          "iopub.status.idle": "2024-06-17T21:26:16.497556Z",
          "shell.execute_reply": "2024-06-17T21:26:16.496890Z"
        },
        "papermill": {
          "duration": 0.149977,
          "end_time": "2024-06-17T21:26:16.499008",
          "exception": false,
          "start_time": "2024-06-17T21:26:16.349031",
          "status": "completed"
        },
        "tags": []
      },
      "outputs": [
        {
          "name": "stdout",
          "output_type": "stream",
          "text": [
            "[[0. 5. 0. 0. 0.]\n",
            " [0. 0. 0. 6. 0.]\n",
            " [0. 0. 0. 0. 1.]\n",
            " [1. 0. 0. 0. 0.]\n",
            " [0. 0. 2. 0. 0.]]\n",
            "[5. 3. 2. 6. 1.]\n"
          ]
        }
      ],
      "source": [
        "A = jnp.zeros((5, 5)).at[Ai, Aj].set(Ax)\n",
        "print(A)\n",
        "print(A @ x)"
      ]
    },
    {
      "cell_type": "markdown",
      "id": "9c6d0b95-1224-4c7f-8855-99b84f2d6163",
      "metadata": {
        "papermill": {
          "duration": 0.01319,
          "end_time": "2024-06-17T21:26:16.525981",
          "exception": false,
          "start_time": "2024-06-17T21:26:16.512791",
          "status": "completed"
        },
        "tags": []
      },
      "source": [
        "However, to use this function effectively, we probably need an extra dimension for `Ax`. Indeed, we would like to solve this equation for multiple wavelengths (or more general, for multiple circuit configurations) at once. For this we can use `jax.vmap` to expose `klujax.solve` to more dimensions for `Ax`:"
      ]
    },
    {
      "cell_type": "code",
      "execution_count": 21,
      "id": "d7a87e0cc6a4a063",
      "metadata": {
        "execution": {
          "iopub.execute_input": "2024-06-17T21:26:16.553903Z",
          "iopub.status.busy": "2024-06-17T21:26:16.553382Z",
          "iopub.status.idle": "2024-06-17T21:26:16.556462Z",
          "shell.execute_reply": "2024-06-17T21:26:16.555979Z"
        },
        "papermill": {
          "duration": 0.018532,
          "end_time": "2024-06-17T21:26:16.557675",
          "exception": false,
          "start_time": "2024-06-17T21:26:16.539143",
          "status": "completed"
        },
        "tags": []
      },
      "outputs": [],
      "source": [
        "solve_klu = jax.vmap(klujax.solve, (None, None, 0, None), 0)"
      ]
    },
    {
      "cell_type": "markdown",
      "id": "c6f7b28c-cd7b-4136-b450-097225f2c3ba",
      "metadata": {
        "papermill": {
          "duration": 0.013532,
          "end_time": "2024-06-17T21:26:16.584784",
          "exception": false,
          "start_time": "2024-06-17T21:26:16.571252",
          "status": "completed"
        },
        "tags": []
      },
      "source": [
        "Let's now redefine `Ax` and see what it gives:"
      ]
    },
    {
      "cell_type": "code",
      "execution_count": 22,
      "id": "d4d7b6f9",
      "metadata": {
        "execution": {
          "iopub.execute_input": "2024-06-17T21:26:16.612801Z",
          "iopub.status.busy": "2024-06-17T21:26:16.612275Z",
          "iopub.status.idle": "2024-06-17T21:26:16.653600Z",
          "shell.execute_reply": "2024-06-17T21:26:16.652964Z"
        },
        "papermill": {
          "duration": 0.056741,
          "end_time": "2024-06-17T21:26:16.654863",
          "exception": false,
          "start_time": "2024-06-17T21:26:16.598122",
          "status": "completed"
        },
        "tags": []
      },
      "outputs": [
        {
          "data": {
            "text/plain": [
              "Array([[6.        , 1.        , 0.5       , 0.5       , 2.        ],\n",
              "       [3.        , 1.        , 1.        , 0.75      , 0.66666667],\n",
              "       [1.5       , 5.        , 0.2       , 1.5       , 0.66666667]],      dtype=float64)"
            ]
          },
          "execution_count": 22,
          "metadata": {},
          "output_type": "execute_result"
        }
      ],
      "source": [
        "Ai = jnp.array([0, 1, 2, 3, 4])\n",
        "Aj = jnp.array([1, 3, 4, 0, 2])\n",
        "Ax = jnp.array([[5, 6, 1, 1, 2], [5, 4, 3, 2, 1], [1, 2, 3, 4, 5]])\n",
        "b = jnp.array([5, 3, 2, 6, 1])\n",
        "x = solve_klu(Ai, Aj, Ax, b)\n",
        "x"
      ]
    },
    {
      "cell_type": "markdown",
      "id": "2bc1db8c-335b-43f0-b515-04c948f66745",
      "metadata": {
        "papermill": {
          "duration": 0.013562,
          "end_time": "2024-06-17T21:26:16.682790",
          "exception": false,
          "start_time": "2024-06-17T21:26:16.669228",
          "status": "completed"
        },
        "tags": []
      },
      "source": [
        "This result is indeed correct:"
      ]
    },
    {
      "cell_type": "code",
      "execution_count": 23,
      "id": "0afefaa6",
      "metadata": {
        "execution": {
          "iopub.execute_input": "2024-06-17T21:26:16.716750Z",
          "iopub.status.busy": "2024-06-17T21:26:16.716219Z",
          "iopub.status.idle": "2024-06-17T21:26:16.795872Z",
          "shell.execute_reply": "2024-06-17T21:26:16.795261Z"
        },
        "papermill": {
          "duration": 0.095469,
          "end_time": "2024-06-17T21:26:16.797201",
          "exception": false,
          "start_time": "2024-06-17T21:26:16.701732",
          "status": "completed"
        },
        "tags": []
      },
      "outputs": [
        {
          "data": {
            "text/plain": [
              "Array([[5., 3., 2., 6., 1.],\n",
              "       [5., 3., 2., 6., 1.],\n",
              "       [5., 3., 2., 6., 1.]], dtype=float64)"
            ]
          },
          "execution_count": 23,
          "metadata": {},
          "output_type": "execute_result"
        }
      ],
      "source": [
        "A = jnp.zeros((3, 5, 5)).at[:, Ai, Aj].set(Ax)\n",
        "jnp.einsum(\"ijk,ik->ij\", A, x)"
      ]
    },
    {
      "cell_type": "markdown",
      "id": "788f79e7-4f88-4e78-ac51-a91e8ebdfd4f",
      "metadata": {
        "papermill": {
          "duration": 0.01346,
          "end_time": "2024-06-17T21:26:16.825190",
          "exception": false,
          "start_time": "2024-06-17T21:26:16.811730",
          "status": "completed"
        },
        "tags": []
      },
      "source": [
        "Additionally, we need a way to multiply a sparse COO-matrix with a dense vector. This can be done with `klujax.coo_mul_vec`:"
      ]
    },
    {
      "cell_type": "markdown",
      "id": "2b096666-e29e-40a1-a86d-e151e89c7599",
      "metadata": {
        "papermill": {
          "duration": 0.013402,
          "end_time": "2024-06-17T21:26:16.852105",
          "exception": false,
          "start_time": "2024-06-17T21:26:16.838703",
          "status": "completed"
        },
        "tags": []
      },
      "source": [
        "However, it's useful to allow a batch dimension, this time *both* in `Ax` and in `b`:"
      ]
    },
    {
      "cell_type": "code",
      "execution_count": 24,
      "id": "a5150c9759f620e9",
      "metadata": {
        "execution": {
          "iopub.execute_input": "2024-06-17T21:26:16.880319Z",
          "iopub.status.busy": "2024-06-17T21:26:16.879843Z",
          "iopub.status.idle": "2024-06-17T21:26:16.882949Z",
          "shell.execute_reply": "2024-06-17T21:26:16.882427Z"
        },
        "papermill": {
          "duration": 0.018395,
          "end_time": "2024-06-17T21:26:16.884044",
          "exception": false,
          "start_time": "2024-06-17T21:26:16.865649",
          "status": "completed"
        },
        "tags": []
      },
      "outputs": [],
      "source": [
        "mul_coo = None\n",
        "mul_coo = jax.vmap(klujax.coo_mul_vec, (None, None, 0, 0), 0)"
      ]
    },
    {
      "cell_type": "markdown",
      "id": "5df6d174-6ada-4118-bbf7-7fd5d2ec35c9",
      "metadata": {
        "papermill": {
          "duration": 0.013419,
          "end_time": "2024-06-17T21:26:16.911119",
          "exception": false,
          "start_time": "2024-06-17T21:26:16.897700",
          "status": "completed"
        },
        "tags": []
      },
      "source": [
        "Let's confirm this does the right thing:"
      ]
    },
    {
      "cell_type": "code",
      "execution_count": 25,
      "id": "bd868973",
      "metadata": {
        "execution": {
          "iopub.execute_input": "2024-06-17T21:26:16.938819Z",
          "iopub.status.busy": "2024-06-17T21:26:16.938630Z",
          "iopub.status.idle": "2024-06-17T21:26:16.968980Z",
          "shell.execute_reply": "2024-06-17T21:26:16.968429Z"
        },
        "papermill": {
          "duration": 0.045654,
          "end_time": "2024-06-17T21:26:16.970190",
          "exception": false,
          "start_time": "2024-06-17T21:26:16.924536",
          "status": "completed"
        },
        "tags": []
      },
      "outputs": [
        {
          "data": {
            "text/plain": [
              "Array([[5., 3., 2., 6., 1.],\n",
              "       [5., 3., 2., 6., 1.],\n",
              "       [5., 3., 2., 6., 1.]], dtype=float64)"
            ]
          },
          "execution_count": 25,
          "metadata": {},
          "output_type": "execute_result"
        }
      ],
      "source": [
        "result = mul_coo(Ai, Aj, Ax, x)\n",
        "result"
      ]
    },
    {
      "cell_type": "markdown",
      "id": "e2c47d85-38fc-4132-9d8d-593c25307ebe",
      "metadata": {
        "papermill": {
          "duration": 0.013841,
          "end_time": "2024-06-17T21:26:16.998477",
          "exception": false,
          "start_time": "2024-06-17T21:26:16.984636",
          "status": "completed"
        },
        "tags": []
      },
      "source": [
        "### Example"
      ]
    },
    {
      "cell_type": "code",
      "execution_count": 26,
      "id": "665c856d",
      "metadata": {
        "execution": {
          "iopub.execute_input": "2024-06-17T21:26:17.026598Z",
          "iopub.status.busy": "2024-06-17T21:26:17.026322Z",
          "iopub.status.idle": "2024-06-17T21:26:17.046284Z",
          "shell.execute_reply": "2024-06-17T21:26:17.045750Z"
        },
        "papermill": {
          "duration": 0.035497,
          "end_time": "2024-06-17T21:26:17.047478",
          "exception": false,
          "start_time": "2024-06-17T21:26:17.011981",
          "status": "completed"
        },
        "tags": []
      },
      "outputs": [
        {
          "name": "stdout",
          "output_type": "stream",
          "text": [
            "[[ 0.      +0.j        0.      +0.j       -0.25    +0.433015j\n",
            "  -0.433015+0.75j    ]\n",
            " [ 0.      +0.j        0.      +0.j       -0.433015+0.75j\n",
            "   0.25    -0.433015j]\n",
            " [-0.25    +0.433015j -0.433015+0.75j      0.      +0.j\n",
            "   0.      +0.j      ]\n",
            " [-0.433015+0.75j      0.25    -0.433015j  0.      +0.j\n",
            "   0.      +0.j      ]]\n",
            "{'in0': 0, 'in1': 1, 'out0': 2, 'out1': 3}\n"
          ]
        }
      ],
      "source": [
        "wg_sdict: sax.SDict = {\n",
        "    (\"in0\", \"out0\"): 0.5 + 0.86603j,\n",
        "    (\"out0\", \"in0\"): 0.5 + 0.86603j,\n",
        "}\n",
        "\n",
        "\u03c4, \u03ba = 0.5**0.5, 1j * 0.5**0.5\n",
        "dc_sdense: sax.SDense = (\n",
        "    jnp.array([[0, 0, \u03c4, \u03ba], [0, 0, \u03ba, \u03c4], [\u03c4, \u03ba, 0, 0], [\u03ba, \u03c4, 0, 0]]),\n",
        "    {\"out0\": 0, \"out1\": 1, \"in0\": 2, \"in1\": 3},\n",
        ")\n",
        "\n",
        "instances = {\n",
        "    \"dc1\": {\"component\": \"dc\"},\n",
        "    \"wg\": {\"component\": \"wg\"},\n",
        "    \"dc2\": {\"component\": \"dc\"},\n",
        "}\n",
        "connections = {\n",
        "    \"dc1,out0\": \"wg,in0\",\n",
        "    \"wg,out0\": \"dc2,in0\",\n",
        "    \"dc1,out1\": \"dc2,in1\",\n",
        "}\n",
        "ports = {\n",
        "    \"in0\": \"dc1,in0\",\n",
        "    \"in1\": \"dc1,in1\",\n",
        "    \"out0\": \"dc2,out0\",\n",
        "    \"out1\": \"dc2,out1\",\n",
        "}\n",
        "models = {\n",
        "    \"wg\": lambda: wg_sdict,\n",
        "    \"dc\": lambda: dc_sdense,\n",
        "}\n",
        "\n",
        "\n",
        "analyzed_instances = sax.backends.analyze_instances_klu(instances, models)\n",
        "analyzed_circuit = sax.backends.analyze_circuit_klu(\n",
        "    analyzed_instances, connections, ports\n",
        ")\n",
        "S, pm = sax.backends.evaluate_circuit_klu(\n",
        "    analyzed_circuit, {k: models[v[\"component\"]]() for k, v in instances.items()}\n",
        ")\n",
        "\n",
        "print(S)\n",
        "print(pm)"
      ]
    },
    {
      "cell_type": "markdown",
      "id": "2561e780-23a1-46ae-8c7b-17ccb1c80f2b",
      "metadata": {
        "papermill": {
          "duration": 0.017186,
          "end_time": "2024-06-17T21:26:17.078413",
          "exception": false,
          "start_time": "2024-06-17T21:26:17.061227",
          "status": "completed"
        },
        "tags": []
      },
      "source": [
        "the KLU backend yields `SDense` results by default:"
      ]
    },
    {
      "cell_type": "code",
      "execution_count": 27,
      "id": "ecc3115e",
      "metadata": {
        "execution": {
          "iopub.execute_input": "2024-06-17T21:26:17.125000Z",
          "iopub.status.busy": "2024-06-17T21:26:17.124424Z",
          "iopub.status.idle": "2024-06-17T21:26:17.129300Z",
          "shell.execute_reply": "2024-06-17T21:26:17.128776Z"
        },
        "papermill": {
          "duration": 0.0208,
          "end_time": "2024-06-17T21:26:17.130426",
          "exception": false,
          "start_time": "2024-06-17T21:26:17.109626",
          "status": "completed"
        },
        "tags": []
      },
      "outputs": [
        {
          "data": {
            "text/plain": [
              "(Array([[ 0.      +0.j      ,  0.      +0.j      , -0.25    +0.433015j,\n",
              "         -0.433015+0.75j    ],\n",
              "        [ 0.      +0.j      ,  0.      +0.j      , -0.433015+0.75j    ,\n",
              "          0.25    -0.433015j],\n",
              "        [-0.25    +0.433015j, -0.433015+0.75j    ,  0.      +0.j      ,\n",
              "          0.      +0.j      ],\n",
              "        [-0.433015+0.75j    ,  0.25    -0.433015j,  0.      +0.j      ,\n",
              "          0.      +0.j      ]], dtype=complex128),\n",
              " {'in0': 0, 'in1': 1, 'out0': 2, 'out1': 3})"
            ]
          },
          "execution_count": 27,
          "metadata": {},
          "output_type": "execute_result"
        }
      ],
      "source": [
        "mzi_sdense = (S, pm)\n",
        "mzi_sdense"
      ]
    },
    {
      "cell_type": "markdown",
      "id": "ccf222e3-b0a9-4732-8c5b-f449ab0217ba",
      "metadata": {
        "papermill": {
          "duration": 0.013733,
          "end_time": "2024-06-17T21:26:17.158091",
          "exception": false,
          "start_time": "2024-06-17T21:26:17.144358",
          "status": "completed"
        },
        "tags": []
      },
      "source": [
        "An `SDense` is returned for perfomance reasons. By returning an `SDense` by default we prevent any internal `SDict -> SDense` conversions in deeply hierarchical circuits. It's however very easy to convert `SDense` to `SDict` as a final step. To do this, wrap the result (or the function generating the result) with `sdict`:"
      ]
    },
    {
      "cell_type": "code",
      "execution_count": 28,
      "id": "7202ab1e",
      "metadata": {
        "execution": {
          "iopub.execute_input": "2024-06-17T21:26:17.186999Z",
          "iopub.status.busy": "2024-06-17T21:26:17.186482Z",
          "iopub.status.idle": "2024-06-17T21:26:17.200013Z",
          "shell.execute_reply": "2024-06-17T21:26:17.199429Z"
        },
        "papermill": {
          "duration": 0.029381,
          "end_time": "2024-06-17T21:26:17.201211",
          "exception": false,
          "start_time": "2024-06-17T21:26:17.171830",
          "status": "completed"
        },
        "tags": []
      },
      "outputs": [
        {
          "data": {
            "text/plain": [
              "{('in0', 'in0'): Array(0.+0.j, dtype=complex128),\n",
              " ('in0', 'in1'): Array(0.+0.j, dtype=complex128),\n",
              " ('in0', 'out0'): Array(-0.25+0.433015j, dtype=complex128),\n",
              " ('in0', 'out1'): Array(-0.433015+0.75j, dtype=complex128),\n",
              " ('in1', 'in0'): Array(0.+0.j, dtype=complex128),\n",
              " ('in1', 'in1'): Array(0.+0.j, dtype=complex128),\n",
              " ('in1', 'out0'): Array(-0.433015+0.75j, dtype=complex128),\n",
              " ('in1', 'out1'): Array(0.25-0.433015j, dtype=complex128),\n",
              " ('out0', 'in0'): Array(-0.25+0.433015j, dtype=complex128),\n",
              " ('out0', 'in1'): Array(-0.433015+0.75j, dtype=complex128),\n",
              " ('out0', 'out0'): Array(0.+0.j, dtype=complex128),\n",
              " ('out0', 'out1'): Array(0.+0.j, dtype=complex128),\n",
              " ('out1', 'in0'): Array(-0.433015+0.75j, dtype=complex128),\n",
              " ('out1', 'in1'): Array(0.25-0.433015j, dtype=complex128),\n",
              " ('out1', 'out0'): Array(0.+0.j, dtype=complex128),\n",
              " ('out1', 'out1'): Array(0.+0.j, dtype=complex128)}"
            ]
          },
          "execution_count": 28,
          "metadata": {},
          "output_type": "execute_result"
        }
      ],
      "source": [
        "sax.sdict(mzi_sdense)"
      ]
    },
    {
      "cell_type": "markdown",
      "id": "e84bdb3f-c9cc-46fb-9fad-09924bbce67b",
      "metadata": {
        "papermill": {
          "duration": 0.014058,
          "end_time": "2024-06-17T21:26:17.229415",
          "exception": false,
          "start_time": "2024-06-17T21:26:17.215357",
          "status": "completed"
        },
        "tags": []
      },
      "source": [
        "### Algorithm Walkthrough"
      ]
    },
    {
      "cell_type": "markdown",
      "id": "d79a8927-1d29-416a-84a6-1963b40cbd41",
      "metadata": {
        "papermill": {
          "duration": 0.013763,
          "end_time": "2024-06-17T21:26:17.257517",
          "exception": false,
          "start_time": "2024-06-17T21:26:17.243754",
          "status": "completed"
        },
        "tags": []
      },
      "source": [
        "Let's first enforce $C^T = C$:"
      ]
    },
    {
      "cell_type": "code",
      "execution_count": 29,
      "id": "6d7d4c39",
      "metadata": {
        "execution": {
          "iopub.execute_input": "2024-06-17T21:26:17.286367Z",
          "iopub.status.busy": "2024-06-17T21:26:17.285916Z",
          "iopub.status.idle": "2024-06-17T21:26:17.290225Z",
          "shell.execute_reply": "2024-06-17T21:26:17.289749Z"
        },
        "papermill": {
          "duration": 0.020104,
          "end_time": "2024-06-17T21:26:17.291381",
          "exception": false,
          "start_time": "2024-06-17T21:26:17.271277",
          "status": "completed"
        },
        "tags": []
      },
      "outputs": [
        {
          "data": {
            "text/plain": [
              "{'dc1,out0': 'wg,in0',\n",
              " 'wg,out0': 'dc2,in0',\n",
              " 'dc1,out1': 'dc2,in1',\n",
              " 'wg,in0': 'dc1,out0',\n",
              " 'dc2,in0': 'wg,out0',\n",
              " 'dc2,in1': 'dc1,out1'}"
            ]
          },
          "execution_count": 29,
          "metadata": {},
          "output_type": "execute_result"
        }
      ],
      "source": [
        "connections = {**connections, **{v: k for k, v in connections.items()}}\n",
        "connections"
      ]
    },
    {
      "cell_type": "markdown",
      "id": "e7b667e3-a932-4689-b7cf-39c9609377b2",
      "metadata": {
        "papermill": {
          "duration": 0.013982,
          "end_time": "2024-06-17T21:26:17.319389",
          "exception": false,
          "start_time": "2024-06-17T21:26:17.305407",
          "status": "completed"
        },
        "tags": []
      },
      "source": [
        "We'll also need the reversed ports:"
      ]
    },
    {
      "cell_type": "code",
      "execution_count": 30,
      "id": "9a70463f",
      "metadata": {
        "execution": {
          "iopub.execute_input": "2024-06-17T21:26:17.348351Z",
          "iopub.status.busy": "2024-06-17T21:26:17.348108Z",
          "iopub.status.idle": "2024-06-17T21:26:17.352134Z",
          "shell.execute_reply": "2024-06-17T21:26:17.351588Z"
        },
        "papermill": {
          "duration": 0.019842,
          "end_time": "2024-06-17T21:26:17.353269",
          "exception": false,
          "start_time": "2024-06-17T21:26:17.333427",
          "status": "completed"
        },
        "tags": []
      },
      "outputs": [
        {
          "data": {
            "text/plain": [
              "{'dc1,in0': 'in0', 'dc1,in1': 'in1', 'dc2,out0': 'out0', 'dc2,out1': 'out1'}"
            ]
          },
          "execution_count": 30,
          "metadata": {},
          "output_type": "execute_result"
        }
      ],
      "source": [
        "inverse_ports = {v: k for k, v in ports.items()}\n",
        "inverse_ports"
      ]
    },
    {
      "cell_type": "markdown",
      "id": "12b5afd1-85e3-4633-af9a-1ed4c7214c1b",
      "metadata": {
        "papermill": {
          "duration": 0.014178,
          "end_time": "2024-06-17T21:26:17.381824",
          "exception": false,
          "start_time": "2024-06-17T21:26:17.367646",
          "status": "completed"
        },
        "tags": []
      },
      "source": [
        "An the port indices"
      ]
    },
    {
      "cell_type": "code",
      "execution_count": 31,
      "id": "8e18d182",
      "metadata": {
        "execution": {
          "iopub.execute_input": "2024-06-17T21:26:17.410886Z",
          "iopub.status.busy": "2024-06-17T21:26:17.410687Z",
          "iopub.status.idle": "2024-06-17T21:26:17.414672Z",
          "shell.execute_reply": "2024-06-17T21:26:17.414097Z"
        },
        "papermill": {
          "duration": 0.019894,
          "end_time": "2024-06-17T21:26:17.415857",
          "exception": false,
          "start_time": "2024-06-17T21:26:17.395963",
          "status": "completed"
        },
        "tags": []
      },
      "outputs": [
        {
          "data": {
            "text/plain": [
              "{'in0': 0, 'in1': 1, 'out0': 2, 'out1': 3}"
            ]
          },
          "execution_count": 31,
          "metadata": {},
          "output_type": "execute_result"
        }
      ],
      "source": [
        "port_map = {k: i for i, k in enumerate(ports)}\n",
        "port_map"
      ]
    },
    {
      "cell_type": "markdown",
      "id": "5b2f18ae-af08-4482-8b0f-a72c1fee13d5",
      "metadata": {
        "papermill": {
          "duration": 0.014057,
          "end_time": "2024-06-17T21:26:17.444140",
          "exception": false,
          "start_time": "2024-06-17T21:26:17.430083",
          "status": "completed"
        },
        "tags": []
      },
      "source": [
        "Let's now create the COO-representation of our block diagonal S-matrix $S_{bd}$:"
      ]
    },
    {
      "cell_type": "code",
      "execution_count": 32,
      "id": "835deb8f",
      "metadata": {
        "execution": {
          "iopub.execute_input": "2024-06-17T21:26:17.473545Z",
          "iopub.status.busy": "2024-06-17T21:26:17.473316Z",
          "iopub.status.idle": "2024-06-17T21:26:17.483664Z",
          "shell.execute_reply": "2024-06-17T21:26:17.483189Z"
        },
        "papermill": {
          "duration": 0.026424,
          "end_time": "2024-06-17T21:26:17.484775",
          "exception": false,
          "start_time": "2024-06-17T21:26:17.458351",
          "status": "completed"
        },
        "tags": []
      },
      "outputs": [
        {
          "name": "stdout",
          "output_type": "stream",
          "text": [
            "[0 0 0 0 1 1 1 1 2 2 2 2 3 3 3 3 4 5 6 6 6 6 7 7 7 7 8 8 8 8 9 9 9 9]\n",
            "[0 1 2 3 0 1 2 3 0 1 2 3 0 1 2 3 5 4 6 7 8 9 6 7 8 9 6 7 8 9 6 7 8 9]\n",
            "[0.        +0.j         0.        +0.j         0.70710678+0.j\n",
            " 0.        +0.70710678j 0.        +0.j         0.        +0.j\n",
            " 0.        +0.70710678j 0.70710678+0.j         0.70710678+0.j\n",
            " 0.        +0.70710678j 0.        +0.j         0.        +0.j\n",
            " 0.        +0.70710678j 0.70710678+0.j         0.        +0.j\n",
            " 0.        +0.j         0.5       +0.86603j    0.5       +0.86603j\n",
            " 0.        +0.j         0.        +0.j         0.70710678+0.j\n",
            " 0.        +0.70710678j 0.        +0.j         0.        +0.j\n",
            " 0.        +0.70710678j 0.70710678+0.j         0.70710678+0.j\n",
            " 0.        +0.70710678j 0.        +0.j         0.        +0.j\n",
            " 0.        +0.70710678j 0.70710678+0.j         0.        +0.j\n",
            " 0.        +0.j        ]\n"
          ]
        }
      ],
      "source": [
        "idx, Si, Sj, Sx, instance_ports = 0, [], [], [], {}\n",
        "batch_shape = ()\n",
        "for name, instance in instances.items():\n",
        "    s = models[instance[\"component\"]]()\n",
        "    si, sj, sx, ports_map = sax.scoo(s)\n",
        "    Si.append(si + idx)\n",
        "    Sj.append(sj + idx)\n",
        "    Sx.append(sx)\n",
        "    if len(sx.shape[:-1]) > len(batch_shape):\n",
        "        batch_shape = sx.shape[:-1]\n",
        "    instance_ports.update({f\"{name},{p}\": i + idx for p, i in ports_map.items()})\n",
        "    idx += len(ports_map)\n",
        "Si = jnp.concatenate(Si, -1)\n",
        "Sj = jnp.concatenate(Sj, -1)\n",
        "Sx = jnp.concatenate(\n",
        "    [jnp.broadcast_to(sx, (*batch_shape, sx.shape[-1])) for sx in Sx], -1\n",
        ")\n",
        "\n",
        "print(Si)\n",
        "print(Sj)\n",
        "print(Sx)"
      ]
    },
    {
      "cell_type": "markdown",
      "id": "9b98486a-f99a-4284-89ee-302049fb6e0d",
      "metadata": {
        "papermill": {
          "duration": 0.014247,
          "end_time": "2024-06-17T21:26:17.513438",
          "exception": false,
          "start_time": "2024-06-17T21:26:17.499191",
          "status": "completed"
        },
        "tags": []
      },
      "source": [
        "note that we also kept track of the `batch_shape`, i.e. the number of independent simulations (usually number of wavelengths). In the example being used here we don't have a batch dimension (all elements of the `SDict` are `0D`):"
      ]
    },
    {
      "cell_type": "code",
      "execution_count": 33,
      "id": "7513759a",
      "metadata": {
        "execution": {
          "iopub.execute_input": "2024-06-17T21:26:17.542704Z",
          "iopub.status.busy": "2024-06-17T21:26:17.542232Z",
          "iopub.status.idle": "2024-06-17T21:26:17.545957Z",
          "shell.execute_reply": "2024-06-17T21:26:17.545419Z"
        },
        "papermill": {
          "duration": 0.019672,
          "end_time": "2024-06-17T21:26:17.547179",
          "exception": false,
          "start_time": "2024-06-17T21:26:17.527507",
          "status": "completed"
        },
        "tags": []
      },
      "outputs": [
        {
          "data": {
            "text/plain": [
              "()"
            ]
          },
          "execution_count": 33,
          "metadata": {},
          "output_type": "execute_result"
        }
      ],
      "source": [
        "batch_shape"
      ]
    },
    {
      "cell_type": "markdown",
      "id": "183f6113-0f54-47f9-87c4-c3ec2ec3ec85",
      "metadata": {
        "papermill": {
          "duration": 0.014343,
          "end_time": "2024-06-17T21:26:17.576080",
          "exception": false,
          "start_time": "2024-06-17T21:26:17.561737",
          "status": "completed"
        },
        "tags": []
      },
      "source": [
        "We'll also keep track of the number of columns"
      ]
    },
    {
      "cell_type": "code",
      "execution_count": 34,
      "id": "89000432",
      "metadata": {
        "execution": {
          "iopub.execute_input": "2024-06-17T21:26:17.605777Z",
          "iopub.status.busy": "2024-06-17T21:26:17.605151Z",
          "iopub.status.idle": "2024-06-17T21:26:17.609133Z",
          "shell.execute_reply": "2024-06-17T21:26:17.608557Z"
        },
        "papermill": {
          "duration": 0.019927,
          "end_time": "2024-06-17T21:26:17.610265",
          "exception": false,
          "start_time": "2024-06-17T21:26:17.590338",
          "status": "completed"
        },
        "tags": []
      },
      "outputs": [
        {
          "data": {
            "text/plain": [
              "10"
            ]
          },
          "execution_count": 34,
          "metadata": {},
          "output_type": "execute_result"
        }
      ],
      "source": [
        "n_col = idx\n",
        "n_col"
      ]
    },
    {
      "cell_type": "markdown",
      "id": "ed6ec22f-4bb6-4a84-9143-435ca8dddb8b",
      "metadata": {
        "papermill": {
          "duration": 0.014451,
          "end_time": "2024-06-17T21:26:17.639239",
          "exception": false,
          "start_time": "2024-06-17T21:26:17.624788",
          "status": "completed"
        },
        "tags": []
      },
      "source": [
        "And we'll need to solve the circuit for each output port, i.e. we need to solve `n_rhs` number of equations:"
      ]
    },
    {
      "cell_type": "code",
      "execution_count": 35,
      "id": "27902354",
      "metadata": {
        "execution": {
          "iopub.execute_input": "2024-06-17T21:26:17.668841Z",
          "iopub.status.busy": "2024-06-17T21:26:17.668476Z",
          "iopub.status.idle": "2024-06-17T21:26:17.672043Z",
          "shell.execute_reply": "2024-06-17T21:26:17.671578Z"
        },
        "papermill": {
          "duration": 0.019574,
          "end_time": "2024-06-17T21:26:17.673200",
          "exception": false,
          "start_time": "2024-06-17T21:26:17.653626",
          "status": "completed"
        },
        "tags": []
      },
      "outputs": [
        {
          "data": {
            "text/plain": [
              "4"
            ]
          },
          "execution_count": 35,
          "metadata": {},
          "output_type": "execute_result"
        }
      ],
      "source": [
        "n_rhs = len(port_map)\n",
        "n_rhs"
      ]
    },
    {
      "cell_type": "markdown",
      "id": "e6eb8aaa-0e61-4080-9e86-544167a58e46",
      "metadata": {
        "papermill": {
          "duration": 0.014519,
          "end_time": "2024-06-17T21:26:17.702570",
          "exception": false,
          "start_time": "2024-06-17T21:26:17.688051",
          "status": "completed"
        },
        "tags": []
      },
      "source": [
        "We can represent the internal connection matrix $C_{int}$ as a mapping between port indices:"
      ]
    },
    {
      "cell_type": "code",
      "execution_count": 36,
      "id": "f3ff1fa7",
      "metadata": {
        "execution": {
          "iopub.execute_input": "2024-06-17T21:26:17.732928Z",
          "iopub.status.busy": "2024-06-17T21:26:17.732502Z",
          "iopub.status.idle": "2024-06-17T21:26:17.736836Z",
          "shell.execute_reply": "2024-06-17T21:26:17.736279Z"
        },
        "papermill": {
          "duration": 0.020762,
          "end_time": "2024-06-17T21:26:17.738022",
          "exception": false,
          "start_time": "2024-06-17T21:26:17.717260",
          "status": "completed"
        },
        "tags": []
      },
      "outputs": [
        {
          "data": {
            "text/plain": [
              "{0: 4, 5: 8, 1: 9, 4: 0, 8: 5, 9: 1}"
            ]
          },
          "execution_count": 36,
          "metadata": {},
          "output_type": "execute_result"
        }
      ],
      "source": [
        "Cmap = {int(instance_ports[k]): int(instance_ports[v]) for k, v in connections.items()}\n",
        "Cmap"
      ]
    },
    {
      "cell_type": "markdown",
      "id": "b9db7990-fe17-4cca-907a-cca94b06f03b",
      "metadata": {
        "papermill": {
          "duration": 0.014421,
          "end_time": "2024-06-17T21:26:17.767068",
          "exception": false,
          "start_time": "2024-06-17T21:26:17.752647",
          "status": "completed"
        },
        "tags": []
      },
      "source": [
        "Therefore, the COO-representation of this connection matrix can be obtained as follows (note that an array of values Cx is not necessary, all non-zero elements in a connection matrix are 1)"
      ]
    },
    {
      "cell_type": "code",
      "execution_count": 37,
      "id": "9e4f1728",
      "metadata": {
        "execution": {
          "iopub.execute_input": "2024-06-17T21:26:17.797136Z",
          "iopub.status.busy": "2024-06-17T21:26:17.796694Z",
          "iopub.status.idle": "2024-06-17T21:26:17.800652Z",
          "shell.execute_reply": "2024-06-17T21:26:17.800195Z"
        },
        "papermill": {
          "duration": 0.020254,
          "end_time": "2024-06-17T21:26:17.801821",
          "exception": false,
          "start_time": "2024-06-17T21:26:17.781567",
          "status": "completed"
        },
        "tags": []
      },
      "outputs": [
        {
          "name": "stdout",
          "output_type": "stream",
          "text": [
            "[0 5 1 4 8 9]\n",
            "[4 8 9 0 5 1]\n"
          ]
        }
      ],
      "source": [
        "Ci = jnp.array(list(Cmap.keys()), dtype=jnp.int32)\n",
        "Cj = jnp.array(list(Cmap.values()), dtype=jnp.int32)\n",
        "print(Ci)\n",
        "print(Cj)"
      ]
    },
    {
      "cell_type": "markdown",
      "id": "0fc2572d-3af5-4ab9-a12d-d7b8487ca84f",
      "metadata": {
        "papermill": {
          "duration": 0.014713,
          "end_time": "2024-06-17T21:26:17.831628",
          "exception": false,
          "start_time": "2024-06-17T21:26:17.816915",
          "status": "completed"
        },
        "tags": []
      },
      "source": [
        "We can represent the external connection matrix $C_{ext}$ as a map between internal port indices and external port indices:"
      ]
    },
    {
      "cell_type": "code",
      "execution_count": 38,
      "id": "f56ae166",
      "metadata": {
        "execution": {
          "iopub.execute_input": "2024-06-17T21:26:17.861802Z",
          "iopub.status.busy": "2024-06-17T21:26:17.861576Z",
          "iopub.status.idle": "2024-06-17T21:26:17.865859Z",
          "shell.execute_reply": "2024-06-17T21:26:17.865388Z"
        },
        "papermill": {
          "duration": 0.020689,
          "end_time": "2024-06-17T21:26:17.866932",
          "exception": false,
          "start_time": "2024-06-17T21:26:17.846243",
          "status": "completed"
        },
        "tags": []
      },
      "outputs": [
        {
          "data": {
            "text/plain": [
              "{2: 0, 3: 1, 6: 2, 7: 3}"
            ]
          },
          "execution_count": 38,
          "metadata": {},
          "output_type": "execute_result"
        }
      ],
      "source": [
        "Cextmap = {int(instance_ports[k]): int(port_map[v]) for k, v in inverse_ports.items()}\n",
        "Cextmap"
      ]
    },
    {
      "cell_type": "markdown",
      "id": "0e406982-d2c9-426e-ac46-fa4650e2f7dc",
      "metadata": {
        "papermill": {
          "duration": 0.014537,
          "end_time": "2024-06-17T21:26:17.896305",
          "exception": false,
          "start_time": "2024-06-17T21:26:17.881768",
          "status": "completed"
        },
        "tags": []
      },
      "source": [
        "Just as for the internal matrix we can represent this external connection matrix in COO-format:"
      ]
    },
    {
      "cell_type": "code",
      "execution_count": 39,
      "id": "cfb419ac",
      "metadata": {
        "execution": {
          "iopub.execute_input": "2024-06-17T21:26:17.926679Z",
          "iopub.status.busy": "2024-06-17T21:26:17.926494Z",
          "iopub.status.idle": "2024-06-17T21:26:17.930926Z",
          "shell.execute_reply": "2024-06-17T21:26:17.930383Z"
        },
        "papermill": {
          "duration": 0.020948,
          "end_time": "2024-06-17T21:26:17.932037",
          "exception": false,
          "start_time": "2024-06-17T21:26:17.911089",
          "status": "completed"
        },
        "tags": []
      },
      "outputs": [
        {
          "name": "stdout",
          "output_type": "stream",
          "text": [
            "[2 3 6 7]\n",
            "[0 1 2 3]\n"
          ]
        }
      ],
      "source": [
        "Cexti = jnp.stack(list(Cextmap.keys()), 0)\n",
        "Cextj = jnp.stack(list(Cextmap.values()), 0)\n",
        "print(Cexti)\n",
        "print(Cextj)"
      ]
    },
    {
      "cell_type": "markdown",
      "id": "933aab49-ec05-4690-8caf-adbc93f0f715",
      "metadata": {
        "papermill": {
          "duration": 0.014995,
          "end_time": "2024-06-17T21:26:17.962184",
          "exception": false,
          "start_time": "2024-06-17T21:26:17.947189",
          "status": "completed"
        },
        "tags": []
      },
      "source": [
        "However, we actually need it as a dense representation:\n",
        "\n",
        "> help needed: can we find a way later on to keep this sparse?"
      ]
    },
    {
      "cell_type": "code",
      "execution_count": 40,
      "id": "25c4ec6e",
      "metadata": {
        "execution": {
          "iopub.execute_input": "2024-06-17T21:26:17.993451Z",
          "iopub.status.busy": "2024-06-17T21:26:17.992995Z",
          "iopub.status.idle": "2024-06-17T21:26:17.999955Z",
          "shell.execute_reply": "2024-06-17T21:26:17.999450Z"
        },
        "papermill": {
          "duration": 0.023899,
          "end_time": "2024-06-17T21:26:18.001101",
          "exception": false,
          "start_time": "2024-06-17T21:26:17.977202",
          "status": "completed"
        },
        "tags": []
      },
      "outputs": [
        {
          "data": {
            "text/plain": [
              "Array([[0.+0.j, 0.+0.j, 0.+0.j, 0.+0.j],\n",
              "       [0.+0.j, 0.+0.j, 0.+0.j, 0.+0.j],\n",
              "       [1.+0.j, 0.+0.j, 0.+0.j, 0.+0.j],\n",
              "       [0.+0.j, 1.+0.j, 0.+0.j, 0.+0.j],\n",
              "       [0.+0.j, 0.+0.j, 0.+0.j, 0.+0.j],\n",
              "       [0.+0.j, 0.+0.j, 0.+0.j, 0.+0.j],\n",
              "       [0.+0.j, 0.+0.j, 1.+0.j, 0.+0.j],\n",
              "       [0.+0.j, 0.+0.j, 0.+0.j, 1.+0.j],\n",
              "       [0.+0.j, 0.+0.j, 0.+0.j, 0.+0.j],\n",
              "       [0.+0.j, 0.+0.j, 0.+0.j, 0.+0.j]], dtype=complex128)"
            ]
          },
          "execution_count": 40,
          "metadata": {},
          "output_type": "execute_result"
        }
      ],
      "source": [
        "Cext = jnp.zeros((n_col, n_rhs), dtype=complex).at[Cexti, Cextj].set(1.0)\n",
        "Cext"
      ]
    },
    {
      "cell_type": "markdown",
      "id": "ee0e1a8b-21cd-4a81-a3e9-e312cc94ae6e",
      "metadata": {
        "papermill": {
          "duration": 0.014861,
          "end_time": "2024-06-17T21:26:18.031091",
          "exception": false,
          "start_time": "2024-06-17T21:26:18.016230",
          "status": "completed"
        },
        "tags": []
      },
      "source": [
        "We'll now calculate the row index `CSi` of $C_{int}S_{bd}$ in COO-format:"
      ]
    },
    {
      "cell_type": "code",
      "execution_count": 41,
      "id": "be0c4856321beda7",
      "metadata": {
        "execution": {
          "iopub.execute_input": "2024-06-17T21:26:18.062535Z",
          "iopub.status.busy": "2024-06-17T21:26:18.061969Z",
          "iopub.status.idle": "2024-06-17T21:26:18.069073Z",
          "shell.execute_reply": "2024-06-17T21:26:18.068589Z"
        },
        "papermill": {
          "duration": 0.02418,
          "end_time": "2024-06-17T21:26:18.070252",
          "exception": false,
          "start_time": "2024-06-17T21:26:18.046072",
          "status": "completed"
        },
        "tags": []
      },
      "outputs": [
        {
          "data": {
            "text/plain": [
              "Array([4, 4, 4, 4, 9, 9, 9, 9, 0, 8, 5, 5, 5, 5, 1, 1, 1, 1], dtype=int32)"
            ]
          },
          "execution_count": 41,
          "metadata": {},
          "output_type": "execute_result"
        }
      ],
      "source": [
        "# TODO: make this block jittable...\n",
        "Ix = jnp.ones((*batch_shape, n_col))\n",
        "Ii = Ij = jnp.arange(n_col)\n",
        "mask = Cj[None, :] == Si[:, None]\n",
        "CSi = jnp.broadcast_to(Ci[None, :], mask.shape)[mask]\n",
        "CSi"
      ]
    },
    {
      "cell_type": "markdown",
      "id": "48d97ac6-ec8b-4040-9310-b49de1d69810",
      "metadata": {
        "papermill": {
          "duration": 0.015122,
          "end_time": "2024-06-17T21:26:18.104490",
          "exception": false,
          "start_time": "2024-06-17T21:26:18.089368",
          "status": "completed"
        },
        "tags": []
      },
      "source": [
        "> `CSi`: possible jittable alternative? how do we remove the zeros?"
      ]
    },
    {
      "cell_type": "code",
      "execution_count": 42,
      "id": "d4ea2cb5",
      "metadata": {
        "execution": {
          "iopub.execute_input": "2024-06-17T21:26:18.135611Z",
          "iopub.status.busy": "2024-06-17T21:26:18.135184Z",
          "iopub.status.idle": "2024-06-17T21:26:18.169038Z",
          "shell.execute_reply": "2024-06-17T21:26:18.168474Z"
        },
        "papermill": {
          "duration": 0.050934,
          "end_time": "2024-06-17T21:26:18.170346",
          "exception": false,
          "start_time": "2024-06-17T21:26:18.119412",
          "status": "completed"
        },
        "tags": []
      },
      "outputs": [
        {
          "data": {
            "text/plain": [
              "Array([4, 4, 4, 4, 9, 9, 9, 9, 0, 0, 0, 0, 0, 0, 0, 0, 0, 8, 0, 0, 0, 0,\n",
              "       0, 0, 0, 0, 5, 5, 5, 5, 1, 1, 1, 1], dtype=int64)"
            ]
          },
          "execution_count": 42,
          "metadata": {},
          "output_type": "execute_result"
        }
      ],
      "source": [
        "CSi_ = jnp.where(Cj[None, :] == Si[:, None], Ci[None, :], 0).sum(1)  # not used\n",
        "CSi_  # not used"
      ]
    },
    {
      "cell_type": "markdown",
      "id": "40923193-6a18-479f-9bc6-63a32fdf1f0a",
      "metadata": {
        "papermill": {
          "duration": 0.015389,
          "end_time": "2024-06-17T21:26:18.201646",
          "exception": false,
          "start_time": "2024-06-17T21:26:18.186257",
          "status": "completed"
        },
        "tags": []
      },
      "source": [
        "The column index `CSj` of $C_{int}S_{bd}$ can more easily be obtained:"
      ]
    },
    {
      "cell_type": "code",
      "execution_count": 43,
      "id": "f71fdd7c",
      "metadata": {
        "execution": {
          "iopub.execute_input": "2024-06-17T21:26:18.233032Z",
          "iopub.status.busy": "2024-06-17T21:26:18.232634Z",
          "iopub.status.idle": "2024-06-17T21:26:18.238421Z",
          "shell.execute_reply": "2024-06-17T21:26:18.237936Z"
        },
        "papermill": {
          "duration": 0.022839,
          "end_time": "2024-06-17T21:26:18.239601",
          "exception": false,
          "start_time": "2024-06-17T21:26:18.216762",
          "status": "completed"
        },
        "tags": []
      },
      "outputs": [
        {
          "data": {
            "text/plain": [
              "Array([0, 1, 2, 3, 0, 1, 2, 3, 5, 4, 6, 7, 8, 9, 6, 7, 8, 9], dtype=int64)"
            ]
          },
          "execution_count": 43,
          "metadata": {},
          "output_type": "execute_result"
        }
      ],
      "source": [
        "mask = (Cj[:, None] == Si[None, :]).any(0)\n",
        "CSj = Sj[mask]\n",
        "CSj"
      ]
    },
    {
      "cell_type": "markdown",
      "id": "86928ec4-0935-4876-b0eb-bb25945e2e6b",
      "metadata": {
        "papermill": {
          "duration": 0.014985,
          "end_time": "2024-06-17T21:26:18.269894",
          "exception": false,
          "start_time": "2024-06-17T21:26:18.254909",
          "status": "completed"
        },
        "tags": []
      },
      "source": [
        "Finally, the values `CSx` of $C_{int}S_{bd}$ can be obtained as follows:"
      ]
    },
    {
      "cell_type": "code",
      "execution_count": 44,
      "id": "59d2e1b2",
      "metadata": {
        "execution": {
          "iopub.execute_input": "2024-06-17T21:26:18.300612Z",
          "iopub.status.busy": "2024-06-17T21:26:18.300393Z",
          "iopub.status.idle": "2024-06-17T21:26:18.306048Z",
          "shell.execute_reply": "2024-06-17T21:26:18.305561Z"
        },
        "papermill": {
          "duration": 0.02236,
          "end_time": "2024-06-17T21:26:18.307204",
          "exception": false,
          "start_time": "2024-06-17T21:26:18.284844",
          "status": "completed"
        },
        "tags": []
      },
      "outputs": [
        {
          "data": {
            "text/plain": [
              "Array([0.        +0.j        , 0.        +0.j        ,\n",
              "       0.70710678+0.j        , 0.        +0.70710678j,\n",
              "       0.        +0.j        , 0.        +0.j        ,\n",
              "       0.        +0.70710678j, 0.70710678+0.j        ,\n",
              "       0.5       +0.86603j   , 0.5       +0.86603j   ,\n",
              "       0.70710678+0.j        , 0.        +0.70710678j,\n",
              "       0.        +0.j        , 0.        +0.j        ,\n",
              "       0.        +0.70710678j, 0.70710678+0.j        ,\n",
              "       0.        +0.j        , 0.        +0.j        ], dtype=complex128)"
            ]
          },
          "execution_count": 44,
          "metadata": {},
          "output_type": "execute_result"
        }
      ],
      "source": [
        "CSx = Sx[..., mask]\n",
        "CSx"
      ]
    },
    {
      "cell_type": "markdown",
      "id": "85689511-e580-4e8c-93b6-3c4744624889",
      "metadata": {
        "papermill": {
          "duration": 0.015234,
          "end_time": "2024-06-17T21:26:18.338570",
          "exception": false,
          "start_time": "2024-06-17T21:26:18.323336",
          "status": "completed"
        },
        "tags": []
      },
      "source": [
        "Now we calculate $I - C_{int}S_{bd}$ in an *uncoalesced* way (we might have duplicate indices on the diagonal):\n",
        "\n",
        "> **uncoalesced**: having duplicate index combinations (i, j) in the representation possibly with different corresponding values. This is usually not a problem as in linear operations these values will end up to be summed, usually the behavior you want:"
      ]
    },
    {
      "cell_type": "code",
      "execution_count": 45,
      "id": "53c3f4ab",
      "metadata": {
        "execution": {
          "iopub.execute_input": "2024-06-17T21:26:18.370111Z",
          "iopub.status.busy": "2024-06-17T21:26:18.369675Z",
          "iopub.status.idle": "2024-06-17T21:26:18.374820Z",
          "shell.execute_reply": "2024-06-17T21:26:18.374248Z"
        },
        "papermill": {
          "duration": 0.022227,
          "end_time": "2024-06-17T21:26:18.375963",
          "exception": false,
          "start_time": "2024-06-17T21:26:18.353736",
          "status": "completed"
        },
        "tags": []
      },
      "outputs": [
        {
          "name": "stdout",
          "output_type": "stream",
          "text": [
            "[4 4 4 4 9 9 9 9 0 8 5 5 5 5 1 1 1 1 0 1 2 3 4 5 6 7 8 9]\n",
            "[0 1 2 3 0 1 2 3 5 4 6 7 8 9 6 7 8 9 0 1 2 3 4 5 6 7 8 9]\n",
            "[-0.        -0.j         -0.        -0.j         -0.70710678-0.j\n",
            " -0.        -0.70710678j -0.        -0.j         -0.        -0.j\n",
            " -0.        -0.70710678j -0.70710678-0.j         -0.5       -0.86603j\n",
            " -0.5       -0.86603j    -0.70710678-0.j         -0.        -0.70710678j\n",
            " -0.        -0.j         -0.        -0.j         -0.        -0.70710678j\n",
            " -0.70710678-0.j         -0.        -0.j         -0.        -0.j\n",
            "  1.        +0.j          1.        +0.j          1.        +0.j\n",
            "  1.        +0.j          1.        +0.j          1.        +0.j\n",
            "  1.        +0.j          1.        +0.j          1.        +0.j\n",
            "  1.        +0.j        ]\n"
          ]
        }
      ],
      "source": [
        "I_CSi = jnp.concatenate([CSi, Ii], -1)\n",
        "I_CSj = jnp.concatenate([CSj, Ij], -1)\n",
        "I_CSx = jnp.concatenate([-CSx, Ix], -1)\n",
        "print(I_CSi)\n",
        "print(I_CSj)\n",
        "print(I_CSx)"
      ]
    },
    {
      "cell_type": "code",
      "execution_count": 46,
      "id": "188e4606",
      "metadata": {
        "execution": {
          "iopub.execute_input": "2024-06-17T21:26:18.407777Z",
          "iopub.status.busy": "2024-06-17T21:26:18.407425Z",
          "iopub.status.idle": "2024-06-17T21:26:18.410563Z",
          "shell.execute_reply": "2024-06-17T21:26:18.410066Z"
        },
        "papermill": {
          "duration": 0.02017,
          "end_time": "2024-06-17T21:26:18.411670",
          "exception": false,
          "start_time": "2024-06-17T21:26:18.391500",
          "status": "completed"
        },
        "tags": []
      },
      "outputs": [
        {
          "name": "stdout",
          "output_type": "stream",
          "text": [
            "10 4\n"
          ]
        }
      ],
      "source": [
        "n_col, n_rhs = Cext.shape\n",
        "print(n_col, n_rhs)"
      ]
    },
    {
      "cell_type": "markdown",
      "id": "f39b59a8-d495-433f-92bc-2396fb0b28f9",
      "metadata": {
        "papermill": {
          "duration": 0.015207,
          "end_time": "2024-06-17T21:26:18.442530",
          "exception": false,
          "start_time": "2024-06-17T21:26:18.427323",
          "status": "completed"
        },
        "tags": []
      },
      "source": [
        "The batch shape dimension can generally speaking be anything (in the example here 0D). We need to do the necessary reshapings to make the batch shape 1D:"
      ]
    },
    {
      "cell_type": "code",
      "execution_count": 47,
      "id": "dad259e7",
      "metadata": {
        "execution": {
          "iopub.execute_input": "2024-06-17T21:26:18.473965Z",
          "iopub.status.busy": "2024-06-17T21:26:18.473742Z",
          "iopub.status.idle": "2024-06-17T21:26:18.495962Z",
          "shell.execute_reply": "2024-06-17T21:26:18.495440Z"
        },
        "papermill": {
          "duration": 0.039401,
          "end_time": "2024-06-17T21:26:18.497136",
          "exception": false,
          "start_time": "2024-06-17T21:26:18.457735",
          "status": "completed"
        },
        "tags": []
      },
      "outputs": [
        {
          "name": "stdout",
          "output_type": "stream",
          "text": [
            "1\n"
          ]
        }
      ],
      "source": [
        "n_lhs = jnp.prod(jnp.array(batch_shape, dtype=jnp.int32))\n",
        "print(n_lhs)"
      ]
    },
    {
      "cell_type": "code",
      "execution_count": 48,
      "id": "9cf69da7",
      "metadata": {
        "execution": {
          "iopub.execute_input": "2024-06-17T21:26:18.530188Z",
          "iopub.status.busy": "2024-06-17T21:26:18.529690Z",
          "iopub.status.idle": "2024-06-17T21:26:18.533945Z",
          "shell.execute_reply": "2024-06-17T21:26:18.533483Z"
        },
        "papermill": {
          "duration": 0.021688,
          "end_time": "2024-06-17T21:26:18.535073",
          "exception": false,
          "start_time": "2024-06-17T21:26:18.513385",
          "status": "completed"
        },
        "tags": []
      },
      "outputs": [
        {
          "data": {
            "text/plain": [
              "(1, 34)"
            ]
          },
          "execution_count": 48,
          "metadata": {},
          "output_type": "execute_result"
        }
      ],
      "source": [
        "Sx = Sx.reshape(n_lhs, -1)\n",
        "Sx.shape"
      ]
    },
    {
      "cell_type": "code",
      "execution_count": 49,
      "id": "788294fa",
      "metadata": {
        "execution": {
          "iopub.execute_input": "2024-06-17T21:26:18.566923Z",
          "iopub.status.busy": "2024-06-17T21:26:18.566727Z",
          "iopub.status.idle": "2024-06-17T21:26:18.570606Z",
          "shell.execute_reply": "2024-06-17T21:26:18.570164Z"
        },
        "papermill": {
          "duration": 0.021057,
          "end_time": "2024-06-17T21:26:18.571708",
          "exception": false,
          "start_time": "2024-06-17T21:26:18.550651",
          "status": "completed"
        },
        "tags": []
      },
      "outputs": [
        {
          "data": {
            "text/plain": [
              "(1, 28)"
            ]
          },
          "execution_count": 49,
          "metadata": {},
          "output_type": "execute_result"
        }
      ],
      "source": [
        "I_CSx = I_CSx.reshape(n_lhs, -1)\n",
        "I_CSx.shape"
      ]
    },
    {
      "cell_type": "markdown",
      "id": "fface8e7-ccd3-4dd9-aa88-532c91fd34d3",
      "metadata": {
        "papermill": {
          "duration": 0.015524,
          "end_time": "2024-06-17T21:26:18.603082",
          "exception": false,
          "start_time": "2024-06-17T21:26:18.587558",
          "status": "completed"
        },
        "tags": []
      },
      "source": [
        "We're finally ready to do the most important part of the calculation, which we conveniently leave to `klujax` and `SuiteSparse`:"
      ]
    },
    {
      "cell_type": "code",
      "execution_count": 50,
      "id": "9c1d8644",
      "metadata": {
        "execution": {
          "iopub.execute_input": "2024-06-17T21:26:18.635475Z",
          "iopub.status.busy": "2024-06-17T21:26:18.634926Z",
          "iopub.status.idle": "2024-06-17T21:26:18.638755Z",
          "shell.execute_reply": "2024-06-17T21:26:18.638195Z"
        },
        "papermill": {
          "duration": 0.021168,
          "end_time": "2024-06-17T21:26:18.639896",
          "exception": false,
          "start_time": "2024-06-17T21:26:18.618728",
          "status": "completed"
        },
        "tags": []
      },
      "outputs": [],
      "source": [
        "inv_I_CS_Cext = solve_klu(I_CSi, I_CSj, I_CSx, Cext)"
      ]
    },
    {
      "cell_type": "markdown",
      "id": "0c63faff-930d-4006-aaa1-4809396f6aff",
      "metadata": {
        "papermill": {
          "duration": 0.015573,
          "end_time": "2024-06-17T21:26:18.671286",
          "exception": false,
          "start_time": "2024-06-17T21:26:18.655713",
          "status": "completed"
        },
        "tags": []
      },
      "source": [
        "one more sparse multiplication:"
      ]
    },
    {
      "cell_type": "code",
      "execution_count": 51,
      "id": "cccda072",
      "metadata": {
        "execution": {
          "iopub.execute_input": "2024-06-17T21:26:18.703032Z",
          "iopub.status.busy": "2024-06-17T21:26:18.702739Z",
          "iopub.status.idle": "2024-06-17T21:26:18.706099Z",
          "shell.execute_reply": "2024-06-17T21:26:18.705524Z"
        },
        "papermill": {
          "duration": 0.020434,
          "end_time": "2024-06-17T21:26:18.707222",
          "exception": false,
          "start_time": "2024-06-17T21:26:18.686788",
          "status": "completed"
        },
        "tags": []
      },
      "outputs": [],
      "source": [
        "S_inv_I_CS_Cext = mul_coo(Si, Sj, Sx, inv_I_CS_Cext)"
      ]
    },
    {
      "cell_type": "markdown",
      "id": "6cb6b730-eef1-41ea-a190-83be5f631dec",
      "metadata": {
        "papermill": {
          "duration": 0.015422,
          "end_time": "2024-06-17T21:26:18.738399",
          "exception": false,
          "start_time": "2024-06-17T21:26:18.722977",
          "status": "completed"
        },
        "tags": []
      },
      "source": [
        "And one more $C_{ext}$ multiplication which we do by clever indexing:"
      ]
    },
    {
      "cell_type": "code",
      "execution_count": 52,
      "id": "12ff877c",
      "metadata": {
        "execution": {
          "iopub.execute_input": "2024-06-17T21:26:18.770399Z",
          "iopub.status.busy": "2024-06-17T21:26:18.770110Z",
          "iopub.status.idle": "2024-06-17T21:26:18.775778Z",
          "shell.execute_reply": "2024-06-17T21:26:18.775319Z"
        },
        "papermill": {
          "duration": 0.022788,
          "end_time": "2024-06-17T21:26:18.776886",
          "exception": false,
          "start_time": "2024-06-17T21:26:18.754098",
          "status": "completed"
        },
        "tags": []
      },
      "outputs": [
        {
          "data": {
            "text/plain": [
              "Array([[[ 0.      +0.j      ,  0.      +0.j      , -0.25    +0.433015j,\n",
              "         -0.433015+0.75j    ],\n",
              "        [ 0.      +0.j      ,  0.      +0.j      , -0.433015+0.75j    ,\n",
              "          0.25    -0.433015j],\n",
              "        [-0.25    +0.433015j, -0.433015+0.75j    ,  0.      +0.j      ,\n",
              "          0.      +0.j      ],\n",
              "        [-0.433015+0.75j    ,  0.25    -0.433015j,  0.      +0.j      ,\n",
              "          0.      +0.j      ]]], dtype=complex128)"
            ]
          },
          "execution_count": 52,
          "metadata": {},
          "output_type": "execute_result"
        }
      ],
      "source": [
        "CextT_S_inv_I_CS_Cext = S_inv_I_CS_Cext[..., Cexti, :][..., :, Cextj]\n",
        "CextT_S_inv_I_CS_Cext"
      ]
    },
    {
      "cell_type": "markdown",
      "id": "9b046892-0c5e-466f-ae44-8c5d04763317",
      "metadata": {
        "papermill": {
          "duration": 0.015721,
          "end_time": "2024-06-17T21:26:18.808659",
          "exception": false,
          "start_time": "2024-06-17T21:26:18.792938",
          "status": "completed"
        },
        "tags": []
      },
      "source": [
        "That's it! We found the S-matrix of the circuit. We just need to reshape the batch dimension back into the matrix:"
      ]
    },
    {
      "cell_type": "code",
      "execution_count": 53,
      "id": "cbf962af",
      "metadata": {
        "execution": {
          "iopub.execute_input": "2024-06-17T21:26:18.858260Z",
          "iopub.status.busy": "2024-06-17T21:26:18.858026Z",
          "iopub.status.idle": "2024-06-17T21:26:18.862574Z",
          "shell.execute_reply": "2024-06-17T21:26:18.862033Z"
        },
        "papermill": {
          "duration": 0.032223,
          "end_time": "2024-06-17T21:26:18.863785",
          "exception": false,
          "start_time": "2024-06-17T21:26:18.831562",
          "status": "completed"
        },
        "tags": []
      },
      "outputs": [
        {
          "data": {
            "text/plain": [
              "Array([[ 0.      +0.j      ,  0.      +0.j      , -0.25    +0.433015j,\n",
              "        -0.433015+0.75j    ],\n",
              "       [ 0.      +0.j      ,  0.      +0.j      , -0.433015+0.75j    ,\n",
              "         0.25    -0.433015j],\n",
              "       [-0.25    +0.433015j, -0.433015+0.75j    ,  0.      +0.j      ,\n",
              "         0.      +0.j      ],\n",
              "       [-0.433015+0.75j    ,  0.25    -0.433015j,  0.      +0.j      ,\n",
              "         0.      +0.j      ]], dtype=complex128)"
            ]
          },
          "execution_count": 53,
          "metadata": {},
          "output_type": "execute_result"
        }
      ],
      "source": [
        "_, n, _ = CextT_S_inv_I_CS_Cext.shape\n",
        "S = CextT_S_inv_I_CS_Cext.reshape(*batch_shape, n, n)\n",
        "S"
      ]
    },
    {
      "cell_type": "markdown",
      "id": "ebc6d33d-49fe-4dfb-b166-41051a64b9fd",
      "metadata": {
        "papermill": {
          "duration": 0.01579,
          "end_time": "2024-06-17T21:26:18.895629",
          "exception": false,
          "start_time": "2024-06-17T21:26:18.879839",
          "status": "completed"
        },
        "tags": []
      },
      "source": [
        "Oh and to complete the `SDense` representation we need to specify the port map as well:"
      ]
    },
    {
      "cell_type": "code",
      "execution_count": 54,
      "id": "21098a45",
      "metadata": {
        "execution": {
          "iopub.execute_input": "2024-06-17T21:26:18.928320Z",
          "iopub.status.busy": "2024-06-17T21:26:18.927922Z",
          "iopub.status.idle": "2024-06-17T21:26:18.931638Z",
          "shell.execute_reply": "2024-06-17T21:26:18.931098Z"
        },
        "papermill": {
          "duration": 0.021233,
          "end_time": "2024-06-17T21:26:18.932735",
          "exception": false,
          "start_time": "2024-06-17T21:26:18.911502",
          "status": "completed"
        },
        "tags": []
      },
      "outputs": [
        {
          "data": {
            "text/plain": [
              "{'in0': 0, 'in1': 1, 'out0': 2, 'out1': 3}"
            ]
          },
          "execution_count": 54,
          "metadata": {},
          "output_type": "execute_result"
        }
      ],
      "source": [
        "port_map"
      ]
    },
    {
      "cell_type": "markdown",
      "id": "4297d283-33c5-4c7b-902c-cec838b90fbb",
      "metadata": {
        "papermill": {
          "duration": 0.016136,
          "end_time": "2024-06-17T21:26:18.965044",
          "exception": false,
          "start_time": "2024-06-17T21:26:18.948908",
          "status": "completed"
        },
        "tags": []
      },
      "source": [
        "### Algorithm Improvements"
      ]
    },
    {
      "cell_type": "markdown",
      "id": "94154f27-1b9a-40b2-bb24-edd357cb081d",
      "metadata": {
        "papermill": {
          "duration": 0.015714,
          "end_time": "2024-06-17T21:26:18.996582",
          "exception": false,
          "start_time": "2024-06-17T21:26:18.980868",
          "status": "completed"
        },
        "tags": []
      },
      "source": [
        "This algorithm is \n",
        "\n",
        "* very fast for large circuits \ud83d\ude42\n",
        "* jittable \ud83d\ude42\n",
        "* differentiable \ud83d\ude42\n",
        "\n",
        "This algorithm is however:\n",
        "\n",
        "* **not** GPU-compatible \ud83d\ude42\n",
        "\n",
        "There are probably still plenty of improvements possible for this algorithm:\n",
        "\n",
        "* **\u00bf** make it GPU compatible (requires making suitesparse GPU compatible... probably not gonna happen)**?**\n"
      ]
    },
    {
      "cell_type": "markdown",
      "id": "af865f32-a6a3-44c5-b4cf-08859c99c6f1",
      "metadata": {
        "papermill": {
          "duration": 0.015968,
          "end_time": "2024-06-17T21:26:19.028432",
          "exception": false,
          "start_time": "2024-06-17T21:26:19.012464",
          "status": "completed"
        },
        "tags": []
      },
      "source": [
        ":::{note}\n",
        "Since The KLU Backend is Superior to the Filipsson-Gunnar backend, SAX will default (since v0.10.0) to the KLU backend if `klujax` is installed.name1\n",
        ":::"
      ]
    },
    {
      "cell_type": "code",
      "execution_count": 55,
      "id": "cd18a62d1b5a9230",
      "metadata": {
        "execution": {
          "iopub.execute_input": "2024-06-17T21:26:19.061421Z",
          "iopub.status.busy": "2024-06-17T21:26:19.061030Z",
          "iopub.status.idle": "2024-06-17T21:26:19.063863Z",
          "shell.execute_reply": "2024-06-17T21:26:19.063280Z"
        },
        "papermill": {
          "duration": 0.020693,
          "end_time": "2024-06-17T21:26:19.065021",
          "exception": false,
          "start_time": "2024-06-17T21:26:19.044328",
          "status": "completed"
        },
        "tags": [
          "remove-cell"
        ]
      },
      "outputs": [],
      "source": []
    },
    {
      "cell_type": "markdown",
      "id": "32d1b715-7b0e-4f00-b61f-939e931178bc",
      "metadata": {
        "papermill": {
          "duration": 0.019149,
          "end_time": "2024-06-17T21:26:19.100330",
          "exception": false,
          "start_time": "2024-06-17T21:26:19.081181",
          "status": "completed"
        },
        "tags": []
      },
      "source": [
        "## Additive Backend\n",
        "\n",
        "```{eval-rst}\n",
        ".. autofunction:: sax.backends.analyze_circuit_additive\n",
        "```\n",
        "\n",
        "```{eval-rst}\n",
        ".. autofunction:: sax.backends.evaluate_circuit_additive\n",
        "```\n",
        "\n",
        "Sometimes we would like to calculate circuit path lengths or time delays within a circuit. We could obviously simulate these things with a time domain simulator, but in many cases a simple additive backend (as opposed to the default multiplicative backend) can suffice."
      ]
    },
    {
      "cell_type": "markdown",
      "id": "ab5eac26-7c71-446c-8e66-547a064f9192",
      "metadata": {
        "papermill": {
          "duration": 0.015921,
          "end_time": "2024-06-17T21:26:19.132305",
          "exception": false,
          "start_time": "2024-06-17T21:26:19.116384",
          "status": "completed"
        },
        "tags": []
      },
      "source": [
        "### Example\n",
        "\n",
        ":::{note}\n",
        "in stead of S-parameters the stypes need to contain *additive* parameters, such as length or time delay.\n",
        ":::"
      ]
    },
    {
      "cell_type": "code",
      "execution_count": 56,
      "id": "1ddc3a12-be7f-4327-be60-2a46c51bb21f",
      "metadata": {
        "execution": {
          "iopub.execute_input": "2024-06-17T21:26:19.165381Z",
          "iopub.status.busy": "2024-06-17T21:26:19.164973Z",
          "iopub.status.idle": "2024-06-17T21:26:19.188610Z",
          "shell.execute_reply": "2024-06-17T21:26:19.188004Z"
        },
        "papermill": {
          "duration": 0.041996,
          "end_time": "2024-06-17T21:26:19.190176",
          "exception": false,
          "start_time": "2024-06-17T21:26:19.148180",
          "status": "completed"
        },
        "tags": []
      },
      "outputs": [],
      "source": [
        "wg_sdict = {\n",
        "    (\"in0\", \"out0\"): jnp.array(\n",
        "        [100.0, 200.0, 300.0]\n",
        "    ),  # assume for now there are three possible paths between these two ports.\n",
        "    (\"out0\", \"in0\"): jnp.array(\n",
        "        [100.0, 200.0, 300.0]\n",
        "    ),  # assume for now there are three possible paths between these two ports.\n",
        "}\n",
        "\n",
        "dc_sdict = {\n",
        "    (\"in0\", \"out0\"): jnp.array(\n",
        "        [10.0, 20.0]\n",
        "    ),  # assume for now there are two possible paths between these two ports.\n",
        "    (\"in0\", \"out1\"): 15.0,\n",
        "    (\"in1\", \"out0\"): 15.0,\n",
        "    (\"in1\", \"out1\"): jnp.array(\n",
        "        [10.0, 20.0]\n",
        "    ),  # assume for now there are two possible paths between these two ports.\n",
        "}\n",
        "\n",
        "instances = {\n",
        "    \"dc1\": {\"component\": \"dc\"},\n",
        "    \"wg\": {\"component\": \"wg\"},\n",
        "    \"dc2\": {\"component\": \"dc\"},\n",
        "}\n",
        "connections = {\n",
        "    \"dc1,out0\": \"wg,in0\",\n",
        "    \"wg,out0\": \"dc2,in0\",\n",
        "    \"dc1,out1\": \"dc2,in1\",\n",
        "}\n",
        "ports = {\n",
        "    \"in0\": \"dc1,in0\",\n",
        "    \"in1\": \"dc1,in1\",\n",
        "    \"out0\": \"dc2,out0\",\n",
        "    \"out1\": \"dc2,out1\",\n",
        "}\n",
        "models = {\n",
        "    \"wg\": lambda: wg_sdict,\n",
        "    \"dc\": lambda: dc_sdense,\n",
        "}"
      ]
    },
    {
      "cell_type": "markdown",
      "id": "c6847c46-6c4a-4b55-899c-55925dfe6538",
      "metadata": {
        "papermill": {
          "duration": 0.018964,
          "end_time": "2024-06-17T21:26:19.227578",
          "exception": false,
          "start_time": "2024-06-17T21:26:19.208614",
          "status": "completed"
        },
        "tags": []
      },
      "source": [
        ":::{note}\n",
        "it is recommended to **not** use an `SDense` representation for the additive backend. Very often an `SDense` representation will introduce **zeros** which will be interpreted as an **existing connection with zero length**. Conversely, in a sparse representation like `SDict` or `SCoo`, non-existing elements will be just that: they will not be present in the internal graph.\n",
        ":::"
      ]
    },
    {
      "cell_type": "code",
      "execution_count": 57,
      "id": "e9cecb32-f18f-4c48-a2cb-ed92102c9fdc",
      "metadata": {
        "execution": {
          "iopub.execute_input": "2024-06-17T21:26:19.262490Z",
          "iopub.status.busy": "2024-06-17T21:26:19.262047Z",
          "iopub.status.idle": "2024-06-17T21:26:19.325505Z",
          "shell.execute_reply": "2024-06-17T21:26:19.324786Z"
        },
        "papermill": {
          "duration": 0.081493,
          "end_time": "2024-06-17T21:26:19.326845",
          "exception": false,
          "start_time": "2024-06-17T21:26:19.245352",
          "status": "completed"
        },
        "tags": []
      },
      "outputs": [
        {
          "name": "stderr",
          "output_type": "stream",
          "text": [
            "/opt/conda/lib/python3.10/site-packages/jax/_src/numpy/lax_numpy.py:3078: ComplexWarning: Casting complex values to real discards the imaginary part\n",
            "  out_array: Array = lax_internal._convert_element_type(\n"
          ]
        },
        {
          "data": {
            "text/plain": [
              "[(('dc1', 'out0'),\n",
              "  ('wg', 'in0'),\n",
              "  {'type': 'C', 'length': Array([0.], dtype=float64)}),\n",
              " (('wg', 'out0'),\n",
              "  ('dc2', 'in0'),\n",
              "  {'type': 'C', 'length': Array([0.], dtype=float64)}),\n",
              " (('dc1', 'out1'),\n",
              "  ('dc2', 'in1'),\n",
              "  {'type': 'C', 'length': Array([0.], dtype=float64)}),\n",
              " (('wg', 'in0'),\n",
              "  ('dc1', 'out0'),\n",
              "  {'type': 'C', 'length': Array([0.], dtype=float64)}),\n",
              " (('dc2', 'in0'),\n",
              "  ('wg', 'out0'),\n",
              "  {'type': 'C', 'length': Array([0.], dtype=float64)}),\n",
              " (('dc2', 'in1'),\n",
              "  ('dc1', 'out1'),\n",
              "  {'type': 'C', 'length': Array([0.], dtype=float64)}),\n",
              " (('', 'in0'),\n",
              "  ('dc1', 'in0'),\n",
              "  {'type': 'C', 'length': Array([0.], dtype=float64)}),\n",
              " (('', 'in1'),\n",
              "  ('dc1', 'in1'),\n",
              "  {'type': 'C', 'length': Array([0.], dtype=float64)}),\n",
              " (('', 'out0'),\n",
              "  ('dc2', 'out0'),\n",
              "  {'type': 'C', 'length': Array([0.], dtype=float64)}),\n",
              " (('', 'out1'),\n",
              "  ('dc2', 'out1'),\n",
              "  {'type': 'C', 'length': Array([0.], dtype=float64)}),\n",
              " (('dc1', 'in0'),\n",
              "  ('', 'in0'),\n",
              "  {'type': 'C', 'length': Array([0.], dtype=float64)}),\n",
              " (('dc1', 'in1'),\n",
              "  ('', 'in1'),\n",
              "  {'type': 'C', 'length': Array([0.], dtype=float64)}),\n",
              " (('dc2', 'out0'),\n",
              "  ('', 'out0'),\n",
              "  {'type': 'C', 'length': Array([0.], dtype=float64)}),\n",
              " (('dc2', 'out1'),\n",
              "  ('', 'out1'),\n",
              "  {'type': 'C', 'length': Array([0.], dtype=float64)}),\n",
              " (('dc1', 'out0'),\n",
              "  ('dc1', 'out0'),\n",
              "  {'type': 'S', 'length': Array([0.], dtype=float64)}),\n",
              " (('dc1', 'out0'),\n",
              "  ('dc1', 'out1'),\n",
              "  {'type': 'S', 'length': Array([0.], dtype=float64)}),\n",
              " (('dc1', 'out0'),\n",
              "  ('dc1', 'in0'),\n",
              "  {'type': 'S', 'length': Array([0.70710678], dtype=float64)}),\n",
              " (('dc1', 'out0'),\n",
              "  ('dc1', 'in1'),\n",
              "  {'type': 'S', 'length': Array([0.], dtype=float64)}),\n",
              " (('dc1', 'out1'),\n",
              "  ('dc1', 'out0'),\n",
              "  {'type': 'S', 'length': Array([0.], dtype=float64)}),\n",
              " (('dc1', 'out1'),\n",
              "  ('dc1', 'out1'),\n",
              "  {'type': 'S', 'length': Array([0.], dtype=float64)}),\n",
              " (('dc1', 'out1'),\n",
              "  ('dc1', 'in0'),\n",
              "  {'type': 'S', 'length': Array([0.], dtype=float64)}),\n",
              " (('dc1', 'out1'),\n",
              "  ('dc1', 'in1'),\n",
              "  {'type': 'S', 'length': Array([0.70710678], dtype=float64)}),\n",
              " (('dc1', 'in0'),\n",
              "  ('dc1', 'out0'),\n",
              "  {'type': 'S', 'length': Array([0.70710678], dtype=float64)}),\n",
              " (('dc1', 'in0'),\n",
              "  ('dc1', 'out1'),\n",
              "  {'type': 'S', 'length': Array([0.], dtype=float64)}),\n",
              " (('dc1', 'in0'),\n",
              "  ('dc1', 'in0'),\n",
              "  {'type': 'S', 'length': Array([0.], dtype=float64)}),\n",
              " (('dc1', 'in0'),\n",
              "  ('dc1', 'in1'),\n",
              "  {'type': 'S', 'length': Array([0.], dtype=float64)}),\n",
              " (('dc1', 'in1'),\n",
              "  ('dc1', 'out0'),\n",
              "  {'type': 'S', 'length': Array([0.], dtype=float64)}),\n",
              " (('dc1', 'in1'),\n",
              "  ('dc1', 'out1'),\n",
              "  {'type': 'S', 'length': Array([0.70710678], dtype=float64)}),\n",
              " (('dc1', 'in1'),\n",
              "  ('dc1', 'in0'),\n",
              "  {'type': 'S', 'length': Array([0.], dtype=float64)}),\n",
              " (('dc1', 'in1'),\n",
              "  ('dc1', 'in1'),\n",
              "  {'type': 'S', 'length': Array([0.], dtype=float64)}),\n",
              " (('wg', 'in0'),\n",
              "  ('wg', 'out0'),\n",
              "  {'type': 'S', 'length': Array([100., 200., 300.], dtype=float64)}),\n",
              " (('wg', 'out0'),\n",
              "  ('wg', 'in0'),\n",
              "  {'type': 'S', 'length': Array([100., 200., 300.], dtype=float64)}),\n",
              " (('dc2', 'out0'),\n",
              "  ('dc2', 'out0'),\n",
              "  {'type': 'S', 'length': Array([0.], dtype=float64)}),\n",
              " (('dc2', 'out0'),\n",
              "  ('dc2', 'out1'),\n",
              "  {'type': 'S', 'length': Array([0.], dtype=float64)}),\n",
              " (('dc2', 'out0'),\n",
              "  ('dc2', 'in0'),\n",
              "  {'type': 'S', 'length': Array([0.70710678], dtype=float64)}),\n",
              " (('dc2', 'out0'),\n",
              "  ('dc2', 'in1'),\n",
              "  {'type': 'S', 'length': Array([0.], dtype=float64)}),\n",
              " (('dc2', 'out1'),\n",
              "  ('dc2', 'out0'),\n",
              "  {'type': 'S', 'length': Array([0.], dtype=float64)}),\n",
              " (('dc2', 'out1'),\n",
              "  ('dc2', 'out1'),\n",
              "  {'type': 'S', 'length': Array([0.], dtype=float64)}),\n",
              " (('dc2', 'out1'),\n",
              "  ('dc2', 'in0'),\n",
              "  {'type': 'S', 'length': Array([0.], dtype=float64)}),\n",
              " (('dc2', 'out1'),\n",
              "  ('dc2', 'in1'),\n",
              "  {'type': 'S', 'length': Array([0.70710678], dtype=float64)}),\n",
              " (('dc2', 'in0'),\n",
              "  ('dc2', 'out0'),\n",
              "  {'type': 'S', 'length': Array([0.70710678], dtype=float64)}),\n",
              " (('dc2', 'in0'),\n",
              "  ('dc2', 'out1'),\n",
              "  {'type': 'S', 'length': Array([0.], dtype=float64)}),\n",
              " (('dc2', 'in0'),\n",
              "  ('dc2', 'in0'),\n",
              "  {'type': 'S', 'length': Array([0.], dtype=float64)}),\n",
              " (('dc2', 'in0'),\n",
              "  ('dc2', 'in1'),\n",
              "  {'type': 'S', 'length': Array([0.], dtype=float64)}),\n",
              " (('dc2', 'in1'),\n",
              "  ('dc2', 'out0'),\n",
              "  {'type': 'S', 'length': Array([0.], dtype=float64)}),\n",
              " (('dc2', 'in1'),\n",
              "  ('dc2', 'out1'),\n",
              "  {'type': 'S', 'length': Array([0.70710678], dtype=float64)}),\n",
              " (('dc2', 'in1'),\n",
              "  ('dc2', 'in0'),\n",
              "  {'type': 'S', 'length': Array([0.], dtype=float64)}),\n",
              " (('dc2', 'in1'),\n",
              "  ('dc2', 'in1'),\n",
              "  {'type': 'S', 'length': Array([0.], dtype=float64)})]"
            ]
          },
          "execution_count": 57,
          "metadata": {},
          "output_type": "execute_result"
        }
      ],
      "source": [
        "edges = sax.backends.additive._graph_edges(\n",
        "    {k: models[v[\"component\"]]() for k, v in instances.items()}, connections, ports\n",
        ")\n",
        "edges"
      ]
    },
    {
      "cell_type": "markdown",
      "id": "5dee9ce2-8ca6-4f7e-b5a3-f68f20e88adc",
      "metadata": {
        "papermill": {
          "duration": 0.016079,
          "end_time": "2024-06-17T21:26:19.359875",
          "exception": false,
          "start_time": "2024-06-17T21:26:19.343796",
          "status": "completed"
        },
        "tags": []
      },
      "source": [
        "We made a difference here between edges of 'S'-type (connections through the S-matrix) and edges of 'C'-type (connections through the connection matrix). Connections of 'C'-type obviously always have length zero as they signify per definition the equality of two ports."
      ]
    },
    {
      "cell_type": "markdown",
      "id": "23f444b0-a52b-433a-8548-4a9955dfb4fb",
      "metadata": {
        "papermill": {
          "duration": 0.015969,
          "end_time": "2024-06-17T21:26:19.391960",
          "exception": false,
          "start_time": "2024-06-17T21:26:19.375991",
          "status": "completed"
        },
        "tags": []
      },
      "source": [
        "We can create a NetworkX graph from these edges:"
      ]
    },
    {
      "cell_type": "code",
      "execution_count": 58,
      "id": "b0191057-9499-475e-a770-34e393554a94",
      "metadata": {
        "execution": {
          "iopub.execute_input": "2024-06-17T21:26:19.425627Z",
          "iopub.status.busy": "2024-06-17T21:26:19.425116Z",
          "iopub.status.idle": "2024-06-17T21:26:20.073309Z",
          "shell.execute_reply": "2024-06-17T21:26:20.072660Z"
        },
        "papermill": {
          "duration": 0.666245,
          "end_time": "2024-06-17T21:26:20.074456",
          "exception": false,
          "start_time": "2024-06-17T21:26:19.408211",
          "status": "completed"
        },
        "tags": []
      },
      "outputs": [
        {
          "data": {
            "image/png": "[encoded data removed]",
            "text/plain": [
              "<Figure size 640x480 with 1 Axes>"
            ]
          },
          "metadata": {},
          "output_type": "display_data"
        }
      ],
      "source": [
        "graph = nx.Graph()\n",
        "graph.add_edges_from(edges)\n",
        "nx.draw_kamada_kawai(graph, with_labels=True)"
      ]
    },
    {
      "cell_type": "code",
      "execution_count": 59,
      "id": "035b450d-54aa-43c5-8cc6-2b9e5e2e5021",
      "metadata": {
        "execution": {
          "iopub.execute_input": "2024-06-17T21:26:20.109746Z",
          "iopub.status.busy": "2024-06-17T21:26:20.109159Z",
          "iopub.status.idle": "2024-06-17T21:26:20.232090Z",
          "shell.execute_reply": "2024-06-17T21:26:20.231504Z"
        },
        "papermill": {
          "duration": 0.141597,
          "end_time": "2024-06-17T21:26:20.233330",
          "exception": false,
          "start_time": "2024-06-17T21:26:20.091733",
          "status": "completed"
        },
        "tags": []
      },
      "outputs": [
        {
          "data": {
            "image/png": "[encoded data removed]",
            "text/plain": [
              "<Figure size 640x480 with 1 Axes>"
            ]
          },
          "metadata": {},
          "output_type": "display_data"
        }
      ],
      "source": [
        "graph = sax.backends.additive._prune_internal_output_nodes(graph)\n",
        "nx.draw_kamada_kawai(graph, with_labels=True)"
      ]
    },
    {
      "cell_type": "markdown",
      "id": "32b7daf2-c374-4c8d-bbe5-ad39c0f9af44",
      "metadata": {
        "papermill": {
          "duration": 0.01742,
          "end_time": "2024-06-17T21:26:20.268921",
          "exception": false,
          "start_time": "2024-06-17T21:26:20.251501",
          "status": "completed"
        },
        "tags": []
      },
      "source": [
        "We can now get a list of all possible paths in the network. Note that these paths **must** alternate between an S-edge and a C-edge:"
      ]
    },
    {
      "cell_type": "code",
      "execution_count": 60,
      "id": "176ea6a5-bb16-4232-8a42-6da2371de2fe",
      "metadata": {
        "execution": {
          "iopub.execute_input": "2024-06-17T21:26:20.305167Z",
          "iopub.status.busy": "2024-06-17T21:26:20.304951Z",
          "iopub.status.idle": "2024-06-17T21:26:20.312017Z",
          "shell.execute_reply": "2024-06-17T21:26:20.311542Z"
        },
        "papermill": {
          "duration": 0.026519,
          "end_time": "2024-06-17T21:26:20.313135",
          "exception": false,
          "start_time": "2024-06-17T21:26:20.286616",
          "status": "completed"
        },
        "tags": []
      },
      "outputs": [
        {
          "data": {
            "text/plain": [
              "[[(('', 'in0'), ('dc1', 'in0')),\n",
              "  (('dc1', 'in0'), ('dc1', 'out0')),\n",
              "  (('dc1', 'out0'), ('wg', 'in0')),\n",
              "  (('wg', 'in0'), ('wg', 'out0')),\n",
              "  (('wg', 'out0'), ('dc2', 'in0')),\n",
              "  (('dc2', 'in0'), ('dc2', 'out0')),\n",
              "  (('dc2', 'out0'), ('', 'out0'))],\n",
              " [(('', 'in0'), ('dc1', 'in0')),\n",
              "  (('dc1', 'in0'), ('dc1', 'out1')),\n",
              "  (('dc1', 'out1'), ('dc2', 'in1')),\n",
              "  (('dc2', 'in1'), ('dc2', 'out0')),\n",
              "  (('dc2', 'out0'), ('', 'out0'))]]"
            ]
          },
          "execution_count": 60,
          "metadata": {},
          "output_type": "execute_result"
        }
      ],
      "source": [
        "paths = sax.backends.additive._get_possible_paths(graph, (\"\", \"in0\"), (\"\", \"out0\"))\n",
        "paths"
      ]
    },
    {
      "cell_type": "markdown",
      "id": "68766ba9-0991-45f5-aa7d-1bcca8db332d",
      "metadata": {
        "papermill": {
          "duration": 0.017514,
          "end_time": "2024-06-17T21:26:20.348330",
          "exception": false,
          "start_time": "2024-06-17T21:26:20.330816",
          "status": "completed"
        },
        "tags": []
      },
      "source": [
        "And the path lengths of those paths can be calculated as follows:"
      ]
    },
    {
      "cell_type": "code",
      "execution_count": 61,
      "id": "c3063587-c9aa-4b26-ae70-4b9b770f33ae",
      "metadata": {
        "execution": {
          "iopub.execute_input": "2024-06-17T21:26:20.384068Z",
          "iopub.status.busy": "2024-06-17T21:26:20.383872Z",
          "iopub.status.idle": "2024-06-17T21:26:20.477548Z",
          "shell.execute_reply": "2024-06-17T21:26:20.476994Z"
        },
        "papermill": {
          "duration": 0.112918,
          "end_time": "2024-06-17T21:26:20.478724",
          "exception": false,
          "start_time": "2024-06-17T21:26:20.365806",
          "status": "completed"
        },
        "tags": []
      },
      "outputs": [
        {
          "data": {
            "text/plain": [
              "[Array([101.41421356, 201.41421356, 301.41421356], dtype=float64),\n",
              " Array([0.], dtype=float64)]"
            ]
          },
          "execution_count": 61,
          "metadata": {},
          "output_type": "execute_result"
        }
      ],
      "source": [
        "sax.backends.additive._path_lengths(graph, paths)"
      ]
    },
    {
      "cell_type": "markdown",
      "id": "95f6d1e0-ef8f-4394-a9b1-b8cbdfb6051e",
      "metadata": {
        "papermill": {
          "duration": 0.017583,
          "end_time": "2024-06-17T21:26:20.514904",
          "exception": false,
          "start_time": "2024-06-17T21:26:20.497321",
          "status": "completed"
        },
        "tags": []
      },
      "source": [
        "This is all brought together in the additive KLU backend:"
      ]
    },
    {
      "cell_type": "code",
      "execution_count": 62,
      "id": "72f14aaa-a682-4734-beb9-5e0e89b960c3",
      "metadata": {
        "execution": {
          "iopub.execute_input": "2024-06-17T21:26:20.550954Z",
          "iopub.status.busy": "2024-06-17T21:26:20.550742Z",
          "iopub.status.idle": "2024-06-17T21:26:20.639110Z",
          "shell.execute_reply": "2024-06-17T21:26:20.638515Z"
        },
        "papermill": {
          "duration": 0.107802,
          "end_time": "2024-06-17T21:26:20.640342",
          "exception": false,
          "start_time": "2024-06-17T21:26:20.532540",
          "status": "completed"
        },
        "tags": []
      },
      "outputs": [
        {
          "name": "stderr",
          "output_type": "stream",
          "text": [
            "/opt/conda/lib/python3.10/site-packages/jax/_src/numpy/lax_numpy.py:3078: ComplexWarning: Casting complex values to real discards the imaginary part\n",
            "  out_array: Array = lax_internal._convert_element_type(\n"
          ]
        },
        {
          "data": {
            "text/plain": [
              "{('in0', 'in0'): [Array([0.], dtype=float64)],\n",
              " ('in0',\n",
              "  'in1'): [Array([101.41421356, 201.41421356, 301.41421356], dtype=float64), Array([100., 200., 300.], dtype=float64), Array([0.], dtype=float64)],\n",
              " ('in0',\n",
              "  'out0'): [Array([101.41421356, 201.41421356, 301.41421356], dtype=float64), Array([0.], dtype=float64)],\n",
              " ('in0',\n",
              "  'out1'): [Array([100.70710678, 200.70710678, 300.70710678], dtype=float64), Array([0.70710678], dtype=float64)],\n",
              " ('in1', 'in0'): [Array([100., 200., 300.], dtype=float64),\n",
              "  Array([101.41421356, 201.41421356, 301.41421356], dtype=float64),\n",
              "  Array([0.], dtype=float64)],\n",
              " ('in1', 'in1'): [Array([0.], dtype=float64)],\n",
              " ('in1',\n",
              "  'out0'): [Array([100.70710678, 200.70710678, 300.70710678], dtype=float64), Array([0.70710678], dtype=float64)],\n",
              " ('in1', 'out1'): [Array([100., 200., 300.], dtype=float64),\n",
              "  Array([1.41421356], dtype=float64)],\n",
              " ('out0',\n",
              "  'in0'): [Array([101.41421356, 201.41421356, 301.41421356], dtype=float64), Array([0.], dtype=float64)],\n",
              " ('out0',\n",
              "  'in1'): [Array([100.70710678, 200.70710678, 300.70710678], dtype=float64), Array([0.70710678], dtype=float64)],\n",
              " ('out0', 'out0'): [Array([0.], dtype=float64)],\n",
              " ('out0', 'out1'): [Array([0.], dtype=float64),\n",
              "  Array([101.41421356, 201.41421356, 301.41421356], dtype=float64),\n",
              "  Array([100., 200., 300.], dtype=float64)],\n",
              " ('out1',\n",
              "  'in0'): [Array([100.70710678, 200.70710678, 300.70710678], dtype=float64), Array([0.70710678], dtype=float64)],\n",
              " ('out1', 'in1'): [Array([100., 200., 300.], dtype=float64),\n",
              "  Array([1.41421356], dtype=float64)],\n",
              " ('out1', 'out0'): [Array([0.], dtype=float64),\n",
              "  Array([100., 200., 300.], dtype=float64),\n",
              "  Array([101.41421356, 201.41421356, 301.41421356], dtype=float64)],\n",
              " ('out1', 'out1'): [Array([0.], dtype=float64)]}"
            ]
          },
          "execution_count": 62,
          "metadata": {},
          "output_type": "execute_result"
        }
      ],
      "source": [
        "analyzed_instances = sax.backends.analyze_instances_additive(instances, models)\n",
        "analyzed_circuit = sax.backends.analyze_circuit_additive(\n",
        "    analyzed_instances, connections, ports\n",
        ")\n",
        "sax.backends.evaluate_circuit_additive(\n",
        "    analyzed_circuit, {k: models[v[\"component\"]]() for k, v in instances.items()}\n",
        ")"
      ]
    }
  ],
  "metadata": {
    "kernelspec": {
      "display_name": "Python 3 (ipykernel)",
      "language": "python",
      "name": "python3"
    },
    "language_info": {
      "codemirror_mode": {
        "name": "ipython",
        "version": 3
      },
      "file_extension": ".py",
      "mimetype": "text/x-python",
      "name": "python",
      "nbconvert_exporter": "python",
      "pygments_lexer": "ipython3",
      "version": "3.10.14"
    },
    "papermill": {
      "default_parameters": {},
      "duration": 10.290651,
      "end_time": "2024-06-17T21:26:21.174600",
      "environment_variables": {},
      "exception": null,
      "input_path": "./internals/03_backends.ipynb",
      "output_path": "./internals/03_backends.ipynb",
      "parameters": {},
      "start_time": "2024-06-17T21:26:10.883949",
      "version": "2.6.0"
    }
  },
  "nbformat": 4,
  "nbformat_minor": 5
}