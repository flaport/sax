{
  "cells": [
    {
      "cell_type": "markdown",
      "id": "2c9c99fe",
      "metadata": {
        "papermill": {
          "duration": 0.004371,
          "end_time": "2024-04-11T19:48:48.443250",
          "exception": false,
          "start_time": "2024-04-11T19:48:48.438879",
          "status": "completed"
        },
        "tags": []
      },
      "source": [
        "# Circuit\n",
        "\n",
        "> SAX Circuits"
      ]
    },
    {
      "cell_type": "code",
      "execution_count": 1,
      "id": "666ac6a3-e9d7-424d-a85e-7c9b74e7ec58",
      "metadata": {
        "execution": {
          "iopub.execute_input": "2024-04-11T19:48:48.451951Z",
          "iopub.status.busy": "2024-04-11T19:48:48.451520Z",
          "iopub.status.idle": "2024-04-11T19:48:49.157510Z",
          "shell.execute_reply": "2024-04-11T19:48:49.156943Z"
        },
        "papermill": {
          "duration": 0.712054,
          "end_time": "2024-04-11T19:48:49.159034",
          "exception": false,
          "start_time": "2024-04-11T19:48:48.446980",
          "status": "completed"
        },
        "tags": []
      },
      "outputs": [],
      "source": [
        "from functools import partial\n",
        "\n",
        "import sax\n",
        "from sax.circuit import (\n",
        "    _create_dag,\n",
        "    _draw_dag,\n",
        "    _find_root,\n",
        "    _find_leaves,\n",
        "    _validate_models,\n",
        "    _flat_circuit,\n",
        ")"
      ]
    },
    {
      "cell_type": "markdown",
      "id": "45ad2306-1ead-4b8c-b91e-c02ce4569b3a",
      "metadata": {
        "papermill": {
          "duration": 0.003703,
          "end_time": "2024-04-11T19:48:49.166752",
          "exception": false,
          "start_time": "2024-04-11T19:48:49.163049",
          "status": "completed"
        },
        "tags": []
      },
      "source": [
        "Let's start by creating a simple recursive netlist with gdsfactory.\n",
        "\n",
        ":::{note}\n",
        "We are using gdsfactory to create our netlist because it allows us to see the circuit we want to simulate and because we're striving to have a compatible netlist implementation in SAX.\n",
        "\n",
        "However... gdsfactory is not a dependency of SAX. You can also define your circuits by hand (see [SAX Quick Start](../examples/01_quick_start.ipynb) or you can use another tool to programmatically construct your netlists.\n",
        ":::"
      ]
    },
    {
      "cell_type": "code",
      "execution_count": 2,
      "id": "804a1c9b-c02b-4af6-ba3d-858f76634a69",
      "metadata": {
        "execution": {
          "iopub.execute_input": "2024-04-11T19:48:49.175060Z",
          "iopub.status.busy": "2024-04-11T19:48:49.174590Z",
          "iopub.status.idle": "2024-04-11T19:48:50.546912Z",
          "shell.execute_reply": "2024-04-11T19:48:50.546329Z"
        },
        "papermill": {
          "duration": 1.377868,
          "end_time": "2024-04-11T19:48:50.548228",
          "exception": false,
          "start_time": "2024-04-11T19:48:49.170360",
          "status": "completed"
        },
        "tags": []
      },
      "outputs": [
        {
          "data": {
            "image/png": "[encoded data removed]",
            "text/plain": [
              "<Figure size 640x480 with 1 Axes>"
            ]
          },
          "metadata": {},
          "output_type": "display_data"
        }
      ],
      "source": [
        "import gdsfactory as gf\n",
        "from IPython.display import display\n",
        "from gdsfactory.components import mzi\n",
        "from gdsfactory.get_netlist import get_netlist_recursive, get_netlist, get_netlist_yaml\n",
        "from gdsfactory.quickplotter import quickplot\n",
        "\n",
        "\n",
        "@gf.cell\n",
        "def twomzi():\n",
        "    c = gf.Component()\n",
        "\n",
        "    # instances\n",
        "    mzi1 = mzi(delta_length=10)\n",
        "    mzi2 = mzi(delta_length=20)\n",
        "\n",
        "    # references\n",
        "    mzi1_ = c << mzi1\n",
        "    mzi2_ = c << mzi2\n",
        "\n",
        "    # connections\n",
        "    mzi2_.connect(\"o1\", mzi1_.ports[\"o2\"])\n",
        "\n",
        "    # ports\n",
        "    c.add_port(\"o1\", port=mzi1_.ports[\"o1\"])\n",
        "    c.add_port(\"o2\", port=mzi2_.ports[\"o2\"])\n",
        "    return c\n",
        "\n",
        "\n",
        "comp = twomzi()\n",
        "quickplot(comp)\n",
        "recnet = sax.RecursiveNetlist.parse_obj(get_netlist_recursive(comp))\n",
        "flatnet = recnet.__root__[\"mzi_delta_length10\"]"
      ]
    },
    {
      "cell_type": "markdown",
      "id": "2b2a38fb-c83e-4b71-b195-ecca485fb0a3",
      "metadata": {
        "papermill": {
          "duration": 0.003929,
          "end_time": "2024-04-11T19:48:50.556454",
          "exception": false,
          "start_time": "2024-04-11T19:48:50.552525",
          "status": "completed"
        },
        "tags": []
      },
      "source": [
        "To be able to model this device we'll need some SAX dummy models:"
      ]
    },
    {
      "cell_type": "code",
      "execution_count": 3,
      "id": "2035cd9e-c65e-45b6-bd83-4ad19e4630fa",
      "metadata": {
        "execution": {
          "iopub.execute_input": "2024-04-11T19:48:50.565260Z",
          "iopub.status.busy": "2024-04-11T19:48:50.564896Z",
          "iopub.status.idle": "2024-04-11T19:48:50.568266Z",
          "shell.execute_reply": "2024-04-11T19:48:50.567792Z"
        },
        "papermill": {
          "duration": 0.009083,
          "end_time": "2024-04-11T19:48:50.569381",
          "exception": false,
          "start_time": "2024-04-11T19:48:50.560298",
          "status": "completed"
        },
        "tags": []
      },
      "outputs": [],
      "source": [
        "def bend_euler(\n",
        "    angle=90.0,\n",
        "    p=0.5,\n",
        "    # cross_section=\"strip\",\n",
        "    # direction=\"ccw\",\n",
        "    # with_bbox=True,\n",
        "    # with_arc_floorplan=True,\n",
        "    # npoints=720,\n",
        "):\n",
        "    return sax.reciprocal({(\"o1\", \"o2\"): 1.0})"
      ]
    },
    {
      "cell_type": "code",
      "execution_count": 4,
      "id": "192c4288-20d1-4aca-b3d0-277db6bb5118",
      "metadata": {
        "execution": {
          "iopub.execute_input": "2024-04-11T19:48:50.577940Z",
          "iopub.status.busy": "2024-04-11T19:48:50.577734Z",
          "iopub.status.idle": "2024-04-11T19:48:50.581053Z",
          "shell.execute_reply": "2024-04-11T19:48:50.580580Z"
        },
        "papermill": {
          "duration": 0.008874,
          "end_time": "2024-04-11T19:48:50.582183",
          "exception": false,
          "start_time": "2024-04-11T19:48:50.573309",
          "status": "completed"
        },
        "tags": []
      },
      "outputs": [],
      "source": [
        "def mmi1x2(\n",
        "    width=0.5,\n",
        "    width_taper=1.0,\n",
        "    length_taper=10.0,\n",
        "    length_mmi=5.5,\n",
        "    width_mmi=2.5,\n",
        "    gap_mmi=0.25,\n",
        "    # cross_section= strip,\n",
        "    # taper= {function= taper},\n",
        "    # with_bbox= True,\n",
        "):\n",
        "    return sax.reciprocal(\n",
        "        {\n",
        "            (\"o1\", \"o2\"): 0.45**0.5,\n",
        "            (\"o1\", \"o3\"): 0.45**0.5,\n",
        "        }\n",
        "    )"
      ]
    },
    {
      "cell_type": "code",
      "execution_count": 5,
      "id": "861a5b4a-d8d9-4ea0-a733-39e213a28ead",
      "metadata": {
        "execution": {
          "iopub.execute_input": "2024-04-11T19:48:50.590861Z",
          "iopub.status.busy": "2024-04-11T19:48:50.590648Z",
          "iopub.status.idle": "2024-04-11T19:48:50.594359Z",
          "shell.execute_reply": "2024-04-11T19:48:50.593786Z"
        },
        "papermill": {
          "duration": 0.009291,
          "end_time": "2024-04-11T19:48:50.595439",
          "exception": false,
          "start_time": "2024-04-11T19:48:50.586148",
          "status": "completed"
        },
        "tags": []
      },
      "outputs": [],
      "source": [
        "def mmi2x2(\n",
        "    width=0.5,\n",
        "    width_taper=1.0,\n",
        "    length_taper=10.0,\n",
        "    length_mmi=5.5,\n",
        "    width_mmi=2.5,\n",
        "    gap_mmi=0.25,\n",
        "    # cross_section= strip,\n",
        "    # taper= {function= taper},\n",
        "    # with_bbox= True,\n",
        "):\n",
        "    return sax.reciprocal(\n",
        "        {\n",
        "            (\"o1\", \"o3\"): 0.45**0.5,\n",
        "            (\"o1\", \"o4\"): 1j * 0.45**0.5,\n",
        "            (\"o2\", \"o3\"): 1j * 0.45**0.5,\n",
        "            (\"o2\", \"o4\"): 0.45**0.5,\n",
        "        }\n",
        "    )"
      ]
    },
    {
      "cell_type": "code",
      "execution_count": 6,
      "id": "84046c8e-45a7-4aa0-bbdf-c82cd2d0e24e",
      "metadata": {
        "execution": {
          "iopub.execute_input": "2024-04-11T19:48:50.604218Z",
          "iopub.status.busy": "2024-04-11T19:48:50.603762Z",
          "iopub.status.idle": "2024-04-11T19:48:50.606698Z",
          "shell.execute_reply": "2024-04-11T19:48:50.606125Z"
        },
        "papermill": {
          "duration": 0.008414,
          "end_time": "2024-04-11T19:48:50.607813",
          "exception": false,
          "start_time": "2024-04-11T19:48:50.599399",
          "status": "completed"
        },
        "tags": []
      },
      "outputs": [],
      "source": [
        "def straight(\n",
        "    length=0.01,\n",
        "    # npoints=2,\n",
        "    # with_bbox=True,\n",
        "    # cross_section=...\n",
        "):\n",
        "    return sax.reciprocal({(\"o1\", \"o2\"): 1.0})"
      ]
    },
    {
      "cell_type": "markdown",
      "id": "8efe90e4-dfe6-40bd-aa0a-26c74738d688",
      "metadata": {
        "papermill": {
          "duration": 0.0039,
          "end_time": "2024-04-11T19:48:50.615622",
          "exception": false,
          "start_time": "2024-04-11T19:48:50.611722",
          "status": "completed"
        },
        "tags": []
      },
      "source": [
        "In SAX, we usually aggregate the available models in a models dictionary:"
      ]
    },
    {
      "cell_type": "code",
      "execution_count": 7,
      "id": "c1ac9132-0ee2-443b-98f4-f790234551b0",
      "metadata": {
        "execution": {
          "iopub.execute_input": "2024-04-11T19:48:50.624455Z",
          "iopub.status.busy": "2024-04-11T19:48:50.624150Z",
          "iopub.status.idle": "2024-04-11T19:48:50.626955Z",
          "shell.execute_reply": "2024-04-11T19:48:50.626379Z"
        },
        "papermill": {
          "duration": 0.008468,
          "end_time": "2024-04-11T19:48:50.628050",
          "exception": false,
          "start_time": "2024-04-11T19:48:50.619582",
          "status": "completed"
        },
        "tags": []
      },
      "outputs": [],
      "source": [
        "models = {\n",
        "    \"straight\": straight,\n",
        "    \"bend_euler\": bend_euler,\n",
        "    \"mmi1x2\": mmi1x2,\n",
        "}"
      ]
    },
    {
      "cell_type": "markdown",
      "id": "05c6a808-1fbf-446c-badd-03a36c76e438",
      "metadata": {
        "papermill": {
          "duration": 0.003874,
          "end_time": "2024-04-11T19:48:50.635925",
          "exception": false,
          "start_time": "2024-04-11T19:48:50.632051",
          "status": "completed"
        },
        "tags": []
      },
      "source": [
        "We can also create some dummy multimode models:"
      ]
    },
    {
      "cell_type": "code",
      "execution_count": 8,
      "id": "b749320e-5a86-4c05-9736-89936b0d31b3",
      "metadata": {
        "execution": {
          "iopub.execute_input": "2024-04-11T19:48:50.644674Z",
          "iopub.status.busy": "2024-04-11T19:48:50.644389Z",
          "iopub.status.idle": "2024-04-11T19:48:50.647623Z",
          "shell.execute_reply": "2024-04-11T19:48:50.647045Z"
        },
        "papermill": {
          "duration": 0.008862,
          "end_time": "2024-04-11T19:48:50.648671",
          "exception": false,
          "start_time": "2024-04-11T19:48:50.639809",
          "status": "completed"
        },
        "tags": []
      },
      "outputs": [],
      "source": [
        "def bend_euler_mm(\n",
        "    angle=90.0,\n",
        "    p=0.5,\n",
        "    # cross_section=\"strip\",\n",
        "    # direction=\"ccw\",\n",
        "    # with_bbox=True,\n",
        "    # with_arc_floorplan=True,\n",
        "    # npoints=720,\n",
        "):\n",
        "    return sax.reciprocal(\n",
        "        {\n",
        "            (\"o1@TE\", \"o2@TE\"): 0.9**0.5,\n",
        "            # ('o1@TE', 'o2@TM'): 0.01**0.5,\n",
        "            # ('o1@TM', 'o2@TE'): 0.01**0.5,\n",
        "            (\"o1@TM\", \"o2@TM\"): 0.8**0.5,\n",
        "        }\n",
        "    )"
      ]
    },
    {
      "cell_type": "code",
      "execution_count": 9,
      "id": "958054fb-31f0-4d2c-9304-fdb72af8f333",
      "metadata": {
        "execution": {
          "iopub.execute_input": "2024-04-11T19:48:50.657701Z",
          "iopub.status.busy": "2024-04-11T19:48:50.657375Z",
          "iopub.status.idle": "2024-04-11T19:48:50.661217Z",
          "shell.execute_reply": "2024-04-11T19:48:50.660655Z"
        },
        "papermill": {
          "duration": 0.009652,
          "end_time": "2024-04-11T19:48:50.662338",
          "exception": false,
          "start_time": "2024-04-11T19:48:50.652686",
          "status": "completed"
        },
        "tags": []
      },
      "outputs": [],
      "source": [
        "def mmi1x2_mm(\n",
        "    width=0.5,\n",
        "    width_taper=1.0,\n",
        "    length_taper=10.0,\n",
        "    length_mmi=5.5,\n",
        "    width_mmi=2.5,\n",
        "    gap_mmi=0.25,\n",
        "    # cross_section= strip,\n",
        "    # taper= {function= taper},\n",
        "    # with_bbox= True,\n",
        "):\n",
        "    return sax.reciprocal(\n",
        "        {\n",
        "            (\"o1@TE\", \"o2@TE\"): 0.45**0.5,\n",
        "            (\"o1@TE\", \"o3@TE\"): 0.45**0.5,\n",
        "            (\"o1@TM\", \"o2@TM\"): 0.41**0.5,\n",
        "            (\"o1@TM\", \"o3@TM\"): 0.41**0.5,\n",
        "            (\"o1@TE\", \"o2@TM\"): 0.01**0.5,\n",
        "            (\"o1@TM\", \"o2@TE\"): 0.01**0.5,\n",
        "            (\"o1@TE\", \"o3@TM\"): 0.02**0.5,\n",
        "            (\"o1@TM\", \"o3@TE\"): 0.02**0.5,\n",
        "        }\n",
        "    )"
      ]
    },
    {
      "cell_type": "code",
      "execution_count": 10,
      "id": "34bad3c0-34a4-4b35-a942-7f75a204c1d0",
      "metadata": {
        "execution": {
          "iopub.execute_input": "2024-04-11T19:48:50.671265Z",
          "iopub.status.busy": "2024-04-11T19:48:50.670829Z",
          "iopub.status.idle": "2024-04-11T19:48:50.673924Z",
          "shell.execute_reply": "2024-04-11T19:48:50.673354Z"
        },
        "papermill": {
          "duration": 0.008634,
          "end_time": "2024-04-11T19:48:50.675003",
          "exception": false,
          "start_time": "2024-04-11T19:48:50.666369",
          "status": "completed"
        },
        "tags": []
      },
      "outputs": [],
      "source": [
        "def straight_mm(\n",
        "    length=0.01,\n",
        "    # npoints=2,\n",
        "    # with_bbox=True,\n",
        "    # cross_section=...\n",
        "):\n",
        "    return sax.reciprocal(\n",
        "        {\n",
        "            (\"o1@TE\", \"o2@TE\"): 1.0,\n",
        "            (\"o1@TM\", \"o2@TM\"): 1.0,\n",
        "        }\n",
        "    )"
      ]
    },
    {
      "cell_type": "code",
      "execution_count": 11,
      "id": "b9476eb5-94e0-45c3-8e7e-a82fead8807b",
      "metadata": {
        "execution": {
          "iopub.execute_input": "2024-04-11T19:48:50.683833Z",
          "iopub.status.busy": "2024-04-11T19:48:50.683513Z",
          "iopub.status.idle": "2024-04-11T19:48:50.686337Z",
          "shell.execute_reply": "2024-04-11T19:48:50.685761Z"
        },
        "papermill": {
          "duration": 0.008451,
          "end_time": "2024-04-11T19:48:50.687461",
          "exception": false,
          "start_time": "2024-04-11T19:48:50.679010",
          "status": "completed"
        },
        "tags": []
      },
      "outputs": [],
      "source": [
        "models_mm = {\n",
        "    \"straight\": straight_mm,\n",
        "    \"bend_euler\": bend_euler_mm,\n",
        "    \"mmi1x2\": mmi1x2_mm,\n",
        "}"
      ]
    },
    {
      "cell_type": "markdown",
      "id": "3df7d9b6-acbb-4406-a3c8-8a9ad09db768",
      "metadata": {
        "papermill": {
          "duration": 0.003954,
          "end_time": "2024-04-11T19:48:50.695421",
          "exception": false,
          "start_time": "2024-04-11T19:48:50.691467",
          "status": "completed"
        },
        "tags": []
      },
      "source": [
        "We can now represent our recursive netlist model as a Directed Acyclic Graph:"
      ]
    },
    {
      "cell_type": "code",
      "execution_count": 12,
      "id": "b6d6e06e-b501-4d3e-8eb6-0d7117abf8e8",
      "metadata": {
        "execution": {
          "iopub.execute_input": "2024-04-11T19:48:50.704506Z",
          "iopub.status.busy": "2024-04-11T19:48:50.704126Z",
          "iopub.status.idle": "2024-04-11T19:48:50.824864Z",
          "shell.execute_reply": "2024-04-11T19:48:50.824232Z"
        },
        "papermill": {
          "duration": 0.126552,
          "end_time": "2024-04-11T19:48:50.826054",
          "exception": false,
          "start_time": "2024-04-11T19:48:50.699502",
          "status": "completed"
        },
        "tags": []
      },
      "outputs": [
        {
          "data": {
            "image/png": "[encoded data removed]",
            "text/plain": [
              "<Figure size 640x480 with 1 Axes>"
            ]
          },
          "metadata": {},
          "output_type": "display_data"
        }
      ],
      "source": [
        "dag = _create_dag(recnet, models)\n",
        "_draw_dag(dag)"
      ]
    },
    {
      "cell_type": "markdown",
      "id": "d081c64c-c42c-467e-885d-6e8db2cf64cc",
      "metadata": {
        "papermill": {
          "duration": 0.004404,
          "end_time": "2024-04-11T19:48:50.835239",
          "exception": false,
          "start_time": "2024-04-11T19:48:50.830835",
          "status": "completed"
        },
        "tags": []
      },
      "source": [
        "Note that the DAG depends on the models we supply. We could for example stub one of the sub-netlists by a pre-defined model:"
      ]
    },
    {
      "cell_type": "code",
      "execution_count": 13,
      "id": "ebb11e68-ecc3-4d00-9870-b6682e06c39f",
      "metadata": {
        "execution": {
          "iopub.execute_input": "2024-04-11T19:48:50.844959Z",
          "iopub.status.busy": "2024-04-11T19:48:50.844561Z",
          "iopub.status.idle": "2024-04-11T19:48:50.953415Z",
          "shell.execute_reply": "2024-04-11T19:48:50.952830Z"
        },
        "papermill": {
          "duration": 0.115109,
          "end_time": "2024-04-11T19:48:50.954613",
          "exception": false,
          "start_time": "2024-04-11T19:48:50.839504",
          "status": "completed"
        },
        "tags": []
      },
      "outputs": [
        {
          "data": {
            "image/png": "[encoded data removed]",
            "text/plain": [
              "<Figure size 640x480 with 1 Axes>"
            ]
          },
          "metadata": {},
          "output_type": "display_data"
        }
      ],
      "source": [
        "dag_ = _create_dag(recnet, {**models, \"mzi_delta_length10\": mmi2x2})\n",
        "_draw_dag(dag_, with_labels=True)"
      ]
    },
    {
      "cell_type": "markdown",
      "id": "b68c2f1a-f062-4f8a-89a5-8608524a5c06",
      "metadata": {
        "papermill": {
          "duration": 0.004634,
          "end_time": "2024-04-11T19:48:50.963987",
          "exception": false,
          "start_time": "2024-04-11T19:48:50.959353",
          "status": "completed"
        },
        "tags": []
      },
      "source": [
        "This is useful if we for example pre-calculated a certain model."
      ]
    },
    {
      "cell_type": "markdown",
      "id": "020381f6-872f-4aea-8822-ef1096553dc2",
      "metadata": {
        "papermill": {
          "duration": 0.00453,
          "end_time": "2024-04-11T19:48:50.973023",
          "exception": false,
          "start_time": "2024-04-11T19:48:50.968493",
          "status": "completed"
        },
        "tags": []
      },
      "source": [
        "We can easily find the root of the DAG:"
      ]
    },
    {
      "cell_type": "code",
      "execution_count": 14,
      "id": "11728146-6b54-48f2-acac-c8a5fa4e3b0f",
      "metadata": {
        "execution": {
          "iopub.execute_input": "2024-04-11T19:48:50.983712Z",
          "iopub.status.busy": "2024-04-11T19:48:50.983260Z",
          "iopub.status.idle": "2024-04-11T19:48:50.987481Z",
          "shell.execute_reply": "2024-04-11T19:48:50.986996Z"
        },
        "papermill": {
          "duration": 0.010951,
          "end_time": "2024-04-11T19:48:50.988662",
          "exception": false,
          "start_time": "2024-04-11T19:48:50.977711",
          "status": "completed"
        },
        "tags": []
      },
      "outputs": [
        {
          "data": {
            "text/plain": [
              "['twomzi']"
            ]
          },
          "execution_count": 14,
          "metadata": {},
          "output_type": "execute_result"
        }
      ],
      "source": [
        "_find_root(dag)"
      ]
    },
    {
      "cell_type": "markdown",
      "id": "4e8065d2-19c8-444a-b1c2-ea3c62f90e0a",
      "metadata": {
        "papermill": {
          "duration": 0.004648,
          "end_time": "2024-04-11T19:48:50.998091",
          "exception": false,
          "start_time": "2024-04-11T19:48:50.993443",
          "status": "completed"
        },
        "tags": []
      },
      "source": [
        "Similarly we can find the leaves:"
      ]
    },
    {
      "cell_type": "code",
      "execution_count": 15,
      "id": "7fa9afff-26b5-44cb-90bf-a32ef5e95bf5",
      "metadata": {
        "execution": {
          "iopub.execute_input": "2024-04-11T19:48:51.008412Z",
          "iopub.status.busy": "2024-04-11T19:48:51.008046Z",
          "iopub.status.idle": "2024-04-11T19:48:51.011915Z",
          "shell.execute_reply": "2024-04-11T19:48:51.011448Z"
        },
        "papermill": {
          "duration": 0.010277,
          "end_time": "2024-04-11T19:48:51.013067",
          "exception": false,
          "start_time": "2024-04-11T19:48:51.002790",
          "status": "completed"
        },
        "tags": []
      },
      "outputs": [
        {
          "data": {
            "text/plain": [
              "['bend_euler', 'mmi1x2', 'straight']"
            ]
          },
          "execution_count": 15,
          "metadata": {},
          "output_type": "execute_result"
        }
      ],
      "source": [
        "_find_leaves(dag)"
      ]
    },
    {
      "cell_type": "markdown",
      "id": "59fb221d-951d-44df-a5d9-487a8b4dc4f8",
      "metadata": {
        "papermill": {
          "duration": 0.004695,
          "end_time": "2024-04-11T19:48:51.022643",
          "exception": false,
          "start_time": "2024-04-11T19:48:51.017948",
          "status": "completed"
        },
        "tags": []
      },
      "source": [
        "To be able to simulate the circuit, we need to supply a model for each of the leaves in the dependency DAG. Let's write a validator that checks this"
      ]
    },
    {
      "cell_type": "code",
      "execution_count": 16,
      "id": "a97dbe93-a53f-4525-b721-2f329692cdc9",
      "metadata": {
        "execution": {
          "iopub.execute_input": "2024-04-11T19:48:51.033600Z",
          "iopub.status.busy": "2024-04-11T19:48:51.033098Z",
          "iopub.status.idle": "2024-04-11T19:48:51.036119Z",
          "shell.execute_reply": "2024-04-11T19:48:51.035621Z"
        },
        "papermill": {
          "duration": 0.009839,
          "end_time": "2024-04-11T19:48:51.037313",
          "exception": false,
          "start_time": "2024-04-11T19:48:51.027474",
          "status": "completed"
        },
        "tags": []
      },
      "outputs": [],
      "source": [
        "models = _validate_models(models, dag)"
      ]
    },
    {
      "cell_type": "markdown",
      "id": "e9f30a86-aa00-4f51-8b93-3440edc0b46b",
      "metadata": {
        "papermill": {
          "duration": 0.004756,
          "end_time": "2024-04-11T19:48:51.046960",
          "exception": false,
          "start_time": "2024-04-11T19:48:51.042204",
          "status": "completed"
        },
        "tags": []
      },
      "source": [
        "We can now dow a bottom-up simulation. Since at the bottom of the DAG, our circuit is always flat (i.e. not hierarchical) we can implement a minimal `_flat_circuit` definition, which only needs to work on a flat (non-hierarchical circuit):"
      ]
    },
    {
      "cell_type": "code",
      "execution_count": 17,
      "id": "1f415c32-70e4-4b40-a9e2-051fc187cbb9",
      "metadata": {
        "execution": {
          "iopub.execute_input": "2024-04-11T19:48:51.057623Z",
          "iopub.status.busy": "2024-04-11T19:48:51.057195Z",
          "iopub.status.idle": "2024-04-11T19:48:51.924415Z",
          "shell.execute_reply": "2024-04-11T19:48:51.923814Z"
        },
        "papermill": {
          "duration": 0.873915,
          "end_time": "2024-04-11T19:48:51.925678",
          "exception": false,
          "start_time": "2024-04-11T19:48:51.051763",
          "status": "completed"
        },
        "tags": []
      },
      "outputs": [
        {
          "data": {
            "text/plain": [
              "(Array([[0. +0.j, 0.9+0.j],\n",
              "        [0.9+0.j, 0. +0.j]], dtype=complex128),\n",
              " {'o1': 0, 'o2': 1})"
            ]
          },
          "execution_count": 17,
          "metadata": {},
          "output_type": "execute_result"
        }
      ],
      "source": [
        "flatnet = recnet.__root__[\"mzi_delta_length10\"]\n",
        "single_mzi = _flat_circuit(\n",
        "    flatnet.instances,\n",
        "    flatnet.connections,\n",
        "    flatnet.ports,\n",
        "    models,\n",
        "    \"default\",\n",
        ")\n",
        "single_mzi()"
      ]
    },
    {
      "cell_type": "markdown",
      "id": "c4f3375c-baa3-433f-924a-eff50557bf9f",
      "metadata": {
        "papermill": {
          "duration": 0.005085,
          "end_time": "2024-04-11T19:48:51.936708",
          "exception": false,
          "start_time": "2024-04-11T19:48:51.931623",
          "status": "completed"
        },
        "tags": []
      },
      "source": [
        "The resulting circuit is just another SAX model (i.e. a python function) returing an SType:"
      ]
    },
    {
      "cell_type": "code",
      "execution_count": 18,
      "id": "058740c4-439b-4b00-91e7-15e3e7b6679c",
      "metadata": {
        "execution": {
          "iopub.execute_input": "2024-04-11T19:48:51.947648Z",
          "iopub.status.busy": "2024-04-11T19:48:51.947271Z",
          "iopub.status.idle": "2024-04-11T19:48:51.981245Z",
          "shell.execute_reply": "2024-04-11T19:48:51.980725Z"
        },
        "papermill": {
          "duration": 0.040764,
          "end_time": "2024-04-11T19:48:51.982413",
          "exception": false,
          "start_time": "2024-04-11T19:48:51.941649",
          "status": "completed"
        },
        "tags": []
      },
      "outputs": [],
      "source": [
        "?single_mzi"
      ]
    },
    {
      "cell_type": "markdown",
      "id": "2b2bbe9f-29ac-413a-b0a4-6c51da8689cb",
      "metadata": {
        "papermill": {
          "duration": 0.004856,
          "end_time": "2024-04-11T19:48:51.992397",
          "exception": false,
          "start_time": "2024-04-11T19:48:51.987541",
          "status": "completed"
        },
        "tags": []
      },
      "source": [
        "Let's 'execute' the circuit:"
      ]
    },
    {
      "cell_type": "markdown",
      "id": "42a86f56-ab16-4c04-8738-2480ad378008",
      "metadata": {
        "papermill": {
          "duration": 0.004849,
          "end_time": "2024-04-11T19:48:52.002170",
          "exception": false,
          "start_time": "2024-04-11T19:48:51.997321",
          "status": "completed"
        },
        "tags": []
      },
      "source": [
        "Note that we can also supply multimode models:"
      ]
    },
    {
      "cell_type": "code",
      "execution_count": 19,
      "id": "87bc9f40-e97c-4505-8362-311ce5770077",
      "metadata": {
        "execution": {
          "iopub.execute_input": "2024-04-11T19:48:52.012974Z",
          "iopub.status.busy": "2024-04-11T19:48:52.012600Z",
          "iopub.status.idle": "2024-04-11T19:48:52.791747Z",
          "shell.execute_reply": "2024-04-11T19:48:52.791141Z"
        },
        "papermill": {
          "duration": 0.785896,
          "end_time": "2024-04-11T19:48:52.792998",
          "exception": false,
          "start_time": "2024-04-11T19:48:52.007102",
          "status": "completed"
        },
        "tags": []
      },
      "outputs": [
        {
          "data": {
            "text/plain": [
              "(Array([[0.        +0.j, 0.        +0.j, 0.7482    +0.j, 0.23011426+0.j],\n",
              "        [0.        +0.j, 0.        +0.j, 0.23011426+0.j, 0.5491    +0.j],\n",
              "        [0.7482    +0.j, 0.23011426+0.j, 0.        +0.j, 0.        +0.j],\n",
              "        [0.23011426+0.j, 0.5491    +0.j, 0.        +0.j, 0.        +0.j]],      dtype=complex128),\n",
              " {'o1@TE': 0, 'o1@TM': 1, 'o2@TE': 2, 'o2@TM': 3})"
            ]
          },
          "execution_count": 19,
          "metadata": {},
          "output_type": "execute_result"
        }
      ],
      "source": [
        "flatnet = recnet.__root__[\"mzi_delta_length10\"]\n",
        "single_mzi = _flat_circuit(\n",
        "    flatnet.instances,\n",
        "    flatnet.connections,\n",
        "    flatnet.ports,\n",
        "    models_mm,\n",
        "    \"default\",\n",
        ")\n",
        "single_mzi()"
      ]
    },
    {
      "cell_type": "markdown",
      "id": "c852f384-c830-47f5-aa75-ee274abbcc35",
      "metadata": {
        "papermill": {
          "duration": 0.005096,
          "end_time": "2024-04-11T19:48:52.803669",
          "exception": false,
          "start_time": "2024-04-11T19:48:52.798573",
          "status": "completed"
        },
        "tags": []
      },
      "source": [
        "Now that we can handle flat circuits the extension to hierarchical circuits is not so difficult:"
      ]
    },
    {
      "cell_type": "markdown",
      "id": "10321c72-bc74-453b-a87a-d5f89295217b",
      "metadata": {
        "papermill": {
          "duration": 0.00498,
          "end_time": "2024-04-11T19:48:52.813858",
          "exception": false,
          "start_time": "2024-04-11T19:48:52.808878",
          "status": "completed"
        },
        "tags": []
      },
      "source": [
        "single mode simulation:"
      ]
    },
    {
      "cell_type": "code",
      "execution_count": 20,
      "id": "6d133b49-6f26-4e01-bcd9-7ca1b76dc55d",
      "metadata": {
        "execution": {
          "iopub.execute_input": "2024-04-11T19:48:52.825197Z",
          "iopub.status.busy": "2024-04-11T19:48:52.824674Z",
          "iopub.status.idle": "2024-04-11T19:48:53.453472Z",
          "shell.execute_reply": "2024-04-11T19:48:53.452900Z"
        },
        "papermill": {
          "duration": 0.635857,
          "end_time": "2024-04-11T19:48:53.454748",
          "exception": false,
          "start_time": "2024-04-11T19:48:52.818891",
          "status": "completed"
        },
        "tags": []
      },
      "outputs": [
        {
          "name": "stdout",
          "output_type": "stream",
          "text": [
            "\u001b[32m2024-04-11 19:48:52.995\u001b[0m | \u001b[33m\u001b[1mWARNING \u001b[0m | \u001b[36mjax._src.numpy.lax_numpy\u001b[0m:\u001b[36masarray\u001b[0m:\u001b[36m2242\u001b[0m - \u001b[33m\u001b[1mFutureWarning: None encountered in jnp.array(); this is currently treated as NaN. In the future this will result in an error.\u001b[0m\n"
          ]
        },
        {
          "name": "stdout",
          "output_type": "stream",
          "text": [
            "\u001b[32m2024-04-11 19:48:52.998\u001b[0m | \u001b[33m\u001b[1mWARNING \u001b[0m | \u001b[36mjax._src.numpy.lax_numpy\u001b[0m:\u001b[36masarray\u001b[0m:\u001b[36m2242\u001b[0m - \u001b[33m\u001b[1mFutureWarning: None encountered in jnp.array(); this is currently treated as NaN. In the future this will result in an error.\u001b[0m\n"
          ]
        },
        {
          "name": "stdout",
          "output_type": "stream",
          "text": [
            "\u001b[32m2024-04-11 19:48:53.001\u001b[0m | \u001b[33m\u001b[1mWARNING \u001b[0m | \u001b[36mjax._src.numpy.lax_numpy\u001b[0m:\u001b[36masarray\u001b[0m:\u001b[36m2242\u001b[0m - \u001b[33m\u001b[1mFutureWarning: None encountered in jnp.array(); this is currently treated as NaN. In the future this will result in an error.\u001b[0m\n"
          ]
        },
        {
          "name": "stdout",
          "output_type": "stream",
          "text": [
            "\u001b[32m2024-04-11 19:48:53.002\u001b[0m | \u001b[33m\u001b[1mWARNING \u001b[0m | \u001b[36mjax._src.numpy.lax_numpy\u001b[0m:\u001b[36masarray\u001b[0m:\u001b[36m2242\u001b[0m - \u001b[33m\u001b[1mFutureWarning: None encountered in jnp.array(); this is currently treated as NaN. In the future this will result in an error.\u001b[0m\n"
          ]
        },
        {
          "data": {
            "text/plain": [
              "{('o1', 'o1'): Array(0.+0.j, dtype=complex128),\n",
              " ('o1', 'o2'): Array(0.81+0.j, dtype=complex128),\n",
              " ('o2', 'o1'): Array(0.81+0.j, dtype=complex128),\n",
              " ('o2', 'o2'): Array(0.+0.j, dtype=complex128)}"
            ]
          },
          "execution_count": 20,
          "metadata": {},
          "output_type": "execute_result"
        }
      ],
      "source": [
        "double_mzi, info = sax.circuit(recnet, models, backend=\"default\")\n",
        "double_mzi()"
      ]
    },
    {
      "cell_type": "markdown",
      "id": "3f332edd-909e-452b-b7bd-3a68719a5c20",
      "metadata": {
        "papermill": {
          "duration": 0.005485,
          "end_time": "2024-04-11T19:48:53.466100",
          "exception": false,
          "start_time": "2024-04-11T19:48:53.460615",
          "status": "completed"
        },
        "tags": []
      },
      "source": [
        "multi mode simulation:"
      ]
    },
    {
      "cell_type": "code",
      "execution_count": 21,
      "id": "277ec069-4b46-4d5e-9580-1dd0c28cd9a6",
      "metadata": {
        "execution": {
          "iopub.execute_input": "2024-04-11T19:48:53.477984Z",
          "iopub.status.busy": "2024-04-11T19:48:53.477712Z",
          "iopub.status.idle": "2024-04-11T19:48:54.165798Z",
          "shell.execute_reply": "2024-04-11T19:48:54.165222Z"
        },
        "papermill": {
          "duration": 0.695581,
          "end_time": "2024-04-11T19:48:54.166987",
          "exception": false,
          "start_time": "2024-04-11T19:48:53.471406",
          "status": "completed"
        },
        "tags": []
      },
      "outputs": [
        {
          "name": "stdout",
          "output_type": "stream",
          "text": [
            "\u001b[32m2024-04-11 19:48:53.623\u001b[0m | \u001b[33m\u001b[1mWARNING \u001b[0m | \u001b[36mjax._src.numpy.lax_numpy\u001b[0m:\u001b[36masarray\u001b[0m:\u001b[36m2242\u001b[0m - \u001b[33m\u001b[1mFutureWarning: None encountered in jnp.array(); this is currently treated as NaN. In the future this will result in an error.\u001b[0m\n"
          ]
        },
        {
          "name": "stdout",
          "output_type": "stream",
          "text": [
            "\u001b[32m2024-04-11 19:48:53.625\u001b[0m | \u001b[33m\u001b[1mWARNING \u001b[0m | \u001b[36mjax._src.numpy.lax_numpy\u001b[0m:\u001b[36masarray\u001b[0m:\u001b[36m2242\u001b[0m - \u001b[33m\u001b[1mFutureWarning: None encountered in jnp.array(); this is currently treated as NaN. In the future this will result in an error.\u001b[0m\n"
          ]
        },
        {
          "name": "stdout",
          "output_type": "stream",
          "text": [
            "\u001b[32m2024-04-11 19:48:53.628\u001b[0m | \u001b[33m\u001b[1mWARNING \u001b[0m | \u001b[36mjax._src.numpy.lax_numpy\u001b[0m:\u001b[36masarray\u001b[0m:\u001b[36m2242\u001b[0m - \u001b[33m\u001b[1mFutureWarning: None encountered in jnp.array(); this is currently treated as NaN. In the future this will result in an error.\u001b[0m\n"
          ]
        },
        {
          "name": "stdout",
          "output_type": "stream",
          "text": [
            "\u001b[32m2024-04-11 19:48:53.630\u001b[0m | \u001b[33m\u001b[1mWARNING \u001b[0m | \u001b[36mjax._src.numpy.lax_numpy\u001b[0m:\u001b[36masarray\u001b[0m:\u001b[36m2242\u001b[0m - \u001b[33m\u001b[1mFutureWarning: None encountered in jnp.array(); this is currently treated as NaN. In the future this will result in an error.\u001b[0m\n"
          ]
        },
        {
          "data": {
            "text/plain": [
              "{('o1@TE', 'o1@TE'): Array(0.+0.j, dtype=complex128),\n",
              " ('o1@TE', 'o1@TM'): Array(0.+0.j, dtype=complex128),\n",
              " ('o1@TE', 'o2@TE'): Array(0.61275581+0.j, dtype=complex128),\n",
              " ('o1@TE', 'o2@TM'): Array(0.29852723+0.j, dtype=complex128),\n",
              " ('o1@TM', 'o1@TE'): Array(0.+0.j, dtype=complex128),\n",
              " ('o1@TM', 'o1@TM'): Array(0.+0.j, dtype=complex128),\n",
              " ('o1@TM', 'o2@TE'): Array(0.29852723+0.j, dtype=complex128),\n",
              " ('o1@TM', 'o2@TM'): Array(0.35446338+0.j, dtype=complex128),\n",
              " ('o2@TE', 'o1@TE'): Array(0.61275581+0.j, dtype=complex128),\n",
              " ('o2@TE', 'o1@TM'): Array(0.29852723+0.j, dtype=complex128),\n",
              " ('o2@TE', 'o2@TE'): Array(0.+0.j, dtype=complex128),\n",
              " ('o2@TE', 'o2@TM'): Array(0.+0.j, dtype=complex128),\n",
              " ('o2@TM', 'o1@TE'): Array(0.29852723+0.j, dtype=complex128),\n",
              " ('o2@TM', 'o1@TM'): Array(0.35446338+0.j, dtype=complex128),\n",
              " ('o2@TM', 'o2@TE'): Array(0.+0.j, dtype=complex128),\n",
              " ('o2@TM', 'o2@TM'): Array(0.+0.j, dtype=complex128)}"
            ]
          },
          "execution_count": 21,
          "metadata": {},
          "output_type": "execute_result"
        }
      ],
      "source": [
        "double_mzi, info = sax.circuit(\n",
        "    recnet, models_mm, backend=\"default\", return_type=\"sdict\"\n",
        ")\n",
        "double_mzi()"
      ]
    },
    {
      "cell_type": "markdown",
      "id": "e621a2e3-6918-4cfb-8a55-4cc754356020",
      "metadata": {
        "papermill": {
          "duration": 0.005604,
          "end_time": "2024-04-11T19:48:54.178672",
          "exception": false,
          "start_time": "2024-04-11T19:48:54.173068",
          "status": "completed"
        },
        "tags": []
      },
      "source": [
        "sometimes it's useful to get the required circuit model names to be able to create the circuit:"
      ]
    },
    {
      "cell_type": "code",
      "execution_count": 22,
      "id": "99bb5c8f-8094-426d-a5d6-ceb73d80f706",
      "metadata": {
        "execution": {
          "iopub.execute_input": "2024-04-11T19:48:54.190757Z",
          "iopub.status.busy": "2024-04-11T19:48:54.190383Z",
          "iopub.status.idle": "2024-04-11T19:48:54.202589Z",
          "shell.execute_reply": "2024-04-11T19:48:54.202002Z"
        },
        "papermill": {
          "duration": 0.019582,
          "end_time": "2024-04-11T19:48:54.203699",
          "exception": false,
          "start_time": "2024-04-11T19:48:54.184117",
          "status": "completed"
        },
        "tags": []
      },
      "outputs": [
        {
          "data": {
            "text/plain": [
              "['mzi_delta_length10', 'mzi_delta_length20']"
            ]
          },
          "execution_count": 22,
          "metadata": {},
          "output_type": "execute_result"
        }
      ],
      "source": [
        "sax.get_required_circuit_models(recnet, models)"
      ]
    }
  ],
  "metadata": {
    "kernelspec": {
      "display_name": "Python 3 (ipykernel)",
      "language": "python",
      "name": "python3"
    },
    "language_info": {
      "codemirror_mode": {
        "name": "ipython",
        "version": 3
      },
      "file_extension": ".py",
      "mimetype": "text/x-python",
      "name": "python",
      "nbconvert_exporter": "python",
      "pygments_lexer": "ipython3",
      "version": "3.10.14"
    },
    "papermill": {
      "default_parameters": {},
      "duration": 7.315586,
      "end_time": "2024-04-11T19:48:54.925882",
      "environment_variables": {},
      "exception": null,
      "input_path": "./internals/02_circuit.ipynb",
      "output_path": "./internals/02_circuit.ipynb",
      "parameters": {},
      "start_time": "2024-04-11T19:48:47.610296",
      "version": "2.5.0"
    }
  },
  "nbformat": 4,
  "nbformat_minor": 5
}