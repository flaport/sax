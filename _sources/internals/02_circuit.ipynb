{
  "cells": [
    {
      "cell_type": "markdown",
      "id": "2c9c99fe",
      "metadata": {
        "papermill": {
          "duration": 0.004277,
          "end_time": "2024-06-17T21:26:22.593486",
          "exception": false,
          "start_time": "2024-06-17T21:26:22.589209",
          "status": "completed"
        },
        "tags": []
      },
      "source": [
        "# Circuit\n",
        "\n",
        "> SAX Circuits"
      ]
    },
    {
      "cell_type": "code",
      "execution_count": 1,
      "id": "666ac6a3-e9d7-424d-a85e-7c9b74e7ec58",
      "metadata": {
        "execution": {
          "iopub.execute_input": "2024-06-17T21:26:22.601950Z",
          "iopub.status.busy": "2024-06-17T21:26:22.601558Z",
          "iopub.status.idle": "2024-06-17T21:26:23.246556Z",
          "shell.execute_reply": "2024-06-17T21:26:23.245924Z"
        },
        "papermill": {
          "duration": 0.650875,
          "end_time": "2024-06-17T21:26:23.248080",
          "exception": false,
          "start_time": "2024-06-17T21:26:22.597205",
          "status": "completed"
        },
        "tags": []
      },
      "outputs": [],
      "source": [
        "from functools import partial\n",
        "\n",
        "import sax\n",
        "from sax.circuit import (\n",
        "    _create_dag,\n",
        "    _find_leaves,\n",
        "    _find_root,\n",
        "    _flat_circuit,\n",
        "    _validate_models,\n",
        "    draw_dag,\n",
        ")"
      ]
    },
    {
      "cell_type": "markdown",
      "id": "45ad2306-1ead-4b8c-b91e-c02ce4569b3a",
      "metadata": {
        "papermill": {
          "duration": 0.003899,
          "end_time": "2024-06-17T21:26:23.255934",
          "exception": false,
          "start_time": "2024-06-17T21:26:23.252035",
          "status": "completed"
        },
        "tags": []
      },
      "source": [
        "Let's start by creating a simple recursive netlist with gdsfactory.\n",
        "\n",
        ":::{note}\n",
        "We are using gdsfactory to create our netlist because it allows us to see the circuit we want to simulate and because we're striving to have a compatible netlist implementation in SAX.\n",
        "\n",
        "However... gdsfactory is not a dependency of SAX. You can also define your circuits by hand (see [SAX Quick Start](../examples/01_quick_start.ipynb) or you can use another tool to programmatically construct your netlists.\n",
        ":::"
      ]
    },
    {
      "cell_type": "code",
      "execution_count": 2,
      "id": "9fd69e3a-9854-4884-afb3-7ddcd4631c2e",
      "metadata": {
        "execution": {
          "iopub.execute_input": "2024-06-17T21:26:23.264391Z",
          "iopub.status.busy": "2024-06-17T21:26:23.263899Z",
          "iopub.status.idle": "2024-06-17T21:26:24.136029Z",
          "shell.execute_reply": "2024-06-17T21:26:24.135446Z"
        },
        "papermill": {
          "duration": 0.87801,
          "end_time": "2024-06-17T21:26:24.137549",
          "exception": false,
          "start_time": "2024-06-17T21:26:23.259539",
          "status": "completed"
        },
        "tags": []
      },
      "outputs": [],
      "source": [
        "import gdsfactory as gf\n",
        "from IPython.display import display\n",
        "from gdsfactory.components import mzi\n",
        "\n",
        "\n",
        "@gf.cell\n",
        "def twomzi():\n",
        "    c = gf.Component()\n",
        "\n",
        "    # instances\n",
        "    mzi1 = mzi(delta_length=10)\n",
        "    mzi2 = mzi(delta_length=20)\n",
        "\n",
        "    # references\n",
        "    mzi1_ = c.add_ref(mzi1, name=\"mzi1\")\n",
        "    mzi2_ = c.add_ref(mzi2, name=\"mzi2\")\n",
        "\n",
        "    # connections\n",
        "    mzi2_.connect(\"o1\", mzi1_.ports[\"o2\"])\n",
        "\n",
        "    # ports\n",
        "    c.add_port(\"o1\", port=mzi1_.ports[\"o1\"])\n",
        "    c.add_port(\"o2\", port=mzi2_.ports[\"o2\"])\n",
        "    return c"
      ]
    },
    {
      "cell_type": "code",
      "execution_count": 3,
      "id": "b0cad9f5-81b3-448a-8860-ac409c2b1415",
      "metadata": {
        "execution": {
          "iopub.execute_input": "2024-06-17T21:26:24.146965Z",
          "iopub.status.busy": "2024-06-17T21:26:24.146458Z",
          "iopub.status.idle": "2024-06-17T21:26:24.739855Z",
          "shell.execute_reply": "2024-06-17T21:26:24.739249Z"
        },
        "papermill": {
          "duration": 0.599375,
          "end_time": "2024-06-17T21:26:24.741044",
          "exception": false,
          "start_time": "2024-06-17T21:26:24.141669",
          "status": "completed"
        },
        "tags": []
      },
      "outputs": [
        {
          "data": {
            "image/png": "[encoded data removed]",
            "text/plain": [
              "<Figure size 800x600 with 1 Axes>"
            ]
          },
          "metadata": {},
          "output_type": "display_data"
        }
      ],
      "source": [
        "comp = twomzi()\n",
        "comp"
      ]
    },
    {
      "cell_type": "code",
      "execution_count": 4,
      "id": "65ef3413-4259-4d1f-ae65-891e968d2f57",
      "metadata": {
        "execution": {
          "iopub.execute_input": "2024-06-17T21:26:24.750413Z",
          "iopub.status.busy": "2024-06-17T21:26:24.750034Z",
          "iopub.status.idle": "2024-06-17T21:26:24.772460Z",
          "shell.execute_reply": "2024-06-17T21:26:24.771991Z"
        },
        "papermill": {
          "duration": 0.028393,
          "end_time": "2024-06-17T21:26:24.773627",
          "exception": false,
          "start_time": "2024-06-17T21:26:24.745234",
          "status": "completed"
        },
        "tags": []
      },
      "outputs": [],
      "source": [
        "recnet = sax.RecursiveNetlist.parse_obj(comp.get_netlist(recursive=True))\n",
        "mzi1_comp = recnet.root[\"twomzi\"].instances[\"mzi1\"].component\n",
        "flatnet = recnet.root[mzi1_comp]"
      ]
    },
    {
      "cell_type": "markdown",
      "id": "2b2a38fb-c83e-4b71-b195-ecca485fb0a3",
      "metadata": {
        "papermill": {
          "duration": 0.003897,
          "end_time": "2024-06-17T21:26:24.781436",
          "exception": false,
          "start_time": "2024-06-17T21:26:24.777539",
          "status": "completed"
        },
        "tags": []
      },
      "source": [
        "To be able to model this device we'll need some SAX dummy models:"
      ]
    },
    {
      "cell_type": "code",
      "execution_count": 5,
      "id": "2035cd9e-c65e-45b6-bd83-4ad19e4630fa",
      "metadata": {
        "execution": {
          "iopub.execute_input": "2024-06-17T21:26:24.790020Z",
          "iopub.status.busy": "2024-06-17T21:26:24.789797Z",
          "iopub.status.idle": "2024-06-17T21:26:24.792856Z",
          "shell.execute_reply": "2024-06-17T21:26:24.792366Z"
        },
        "papermill": {
          "duration": 0.008647,
          "end_time": "2024-06-17T21:26:24.793937",
          "exception": false,
          "start_time": "2024-06-17T21:26:24.785290",
          "status": "completed"
        },
        "tags": []
      },
      "outputs": [],
      "source": [
        "def bend_euler(\n",
        "    angle=90.0,\n",
        "    p=0.5,\n",
        "    # cross_section=\"strip\",\n",
        "    # direction=\"ccw\",\n",
        "    # with_bbox=True,\n",
        "    # with_arc_floorplan=True,\n",
        "    # npoints=720,\n",
        "):\n",
        "    return sax.reciprocal({(\"o1\", \"o2\"): 1.0})"
      ]
    },
    {
      "cell_type": "code",
      "execution_count": 6,
      "id": "192c4288-20d1-4aca-b3d0-277db6bb5118",
      "metadata": {
        "execution": {
          "iopub.execute_input": "2024-06-17T21:26:24.802682Z",
          "iopub.status.busy": "2024-06-17T21:26:24.802497Z",
          "iopub.status.idle": "2024-06-17T21:26:24.805741Z",
          "shell.execute_reply": "2024-06-17T21:26:24.805266Z"
        },
        "papermill": {
          "duration": 0.008889,
          "end_time": "2024-06-17T21:26:24.806826",
          "exception": false,
          "start_time": "2024-06-17T21:26:24.797937",
          "status": "completed"
        },
        "tags": []
      },
      "outputs": [],
      "source": [
        "def mmi1x2(\n",
        "    width=0.5,\n",
        "    width_taper=1.0,\n",
        "    length_taper=10.0,\n",
        "    length_mmi=5.5,\n",
        "    width_mmi=2.5,\n",
        "    gap_mmi=0.25,\n",
        "    # cross_section= strip,\n",
        "    # taper= {function= taper},\n",
        "    # with_bbox= True,\n",
        "):\n",
        "    return sax.reciprocal(\n",
        "        {\n",
        "            (\"o1\", \"o2\"): 0.45**0.5,\n",
        "            (\"o1\", \"o3\"): 0.45**0.5,\n",
        "        }\n",
        "    )"
      ]
    },
    {
      "cell_type": "code",
      "execution_count": 7,
      "id": "861a5b4a-d8d9-4ea0-a733-39e213a28ead",
      "metadata": {
        "execution": {
          "iopub.execute_input": "2024-06-17T21:26:24.816007Z",
          "iopub.status.busy": "2024-06-17T21:26:24.815789Z",
          "iopub.status.idle": "2024-06-17T21:26:24.819519Z",
          "shell.execute_reply": "2024-06-17T21:26:24.818957Z"
        },
        "papermill": {
          "duration": 0.009438,
          "end_time": "2024-06-17T21:26:24.820658",
          "exception": false,
          "start_time": "2024-06-17T21:26:24.811220",
          "status": "completed"
        },
        "tags": []
      },
      "outputs": [],
      "source": [
        "def mmi2x2(\n",
        "    width=0.5,\n",
        "    width_taper=1.0,\n",
        "    length_taper=10.0,\n",
        "    length_mmi=5.5,\n",
        "    width_mmi=2.5,\n",
        "    gap_mmi=0.25,\n",
        "    # cross_section= strip,\n",
        "    # taper= {function= taper},\n",
        "    # with_bbox= True,\n",
        "):\n",
        "    return sax.reciprocal(\n",
        "        {\n",
        "            (\"o1\", \"o3\"): 0.45**0.5,\n",
        "            (\"o1\", \"o4\"): 1j * 0.45**0.5,\n",
        "            (\"o2\", \"o3\"): 1j * 0.45**0.5,\n",
        "            (\"o2\", \"o4\"): 0.45**0.5,\n",
        "        }\n",
        "    )"
      ]
    },
    {
      "cell_type": "code",
      "execution_count": 8,
      "id": "84046c8e-45a7-4aa0-bbdf-c82cd2d0e24e",
      "metadata": {
        "execution": {
          "iopub.execute_input": "2024-06-17T21:26:24.829936Z",
          "iopub.status.busy": "2024-06-17T21:26:24.829598Z",
          "iopub.status.idle": "2024-06-17T21:26:24.832431Z",
          "shell.execute_reply": "2024-06-17T21:26:24.831963Z"
        },
        "papermill": {
          "duration": 0.00867,
          "end_time": "2024-06-17T21:26:24.833566",
          "exception": false,
          "start_time": "2024-06-17T21:26:24.824896",
          "status": "completed"
        },
        "tags": []
      },
      "outputs": [],
      "source": [
        "def straight(\n",
        "    length=0.01,\n",
        "    # npoints=2,\n",
        "    # with_bbox=True,\n",
        "    # cross_section=...\n",
        "):\n",
        "    return sax.reciprocal({(\"o1\", \"o2\"): 1.0})"
      ]
    },
    {
      "cell_type": "markdown",
      "id": "8efe90e4-dfe6-40bd-aa0a-26c74738d688",
      "metadata": {
        "papermill": {
          "duration": 0.00408,
          "end_time": "2024-06-17T21:26:24.841700",
          "exception": false,
          "start_time": "2024-06-17T21:26:24.837620",
          "status": "completed"
        },
        "tags": []
      },
      "source": [
        "In SAX, we usually aggregate the available models in a models dictionary:"
      ]
    },
    {
      "cell_type": "code",
      "execution_count": 9,
      "id": "c1ac9132-0ee2-443b-98f4-f790234551b0",
      "metadata": {
        "execution": {
          "iopub.execute_input": "2024-06-17T21:26:24.850831Z",
          "iopub.status.busy": "2024-06-17T21:26:24.850473Z",
          "iopub.status.idle": "2024-06-17T21:26:24.853154Z",
          "shell.execute_reply": "2024-06-17T21:26:24.852679Z"
        },
        "papermill": {
          "duration": 0.008491,
          "end_time": "2024-06-17T21:26:24.854255",
          "exception": false,
          "start_time": "2024-06-17T21:26:24.845764",
          "status": "completed"
        },
        "tags": []
      },
      "outputs": [],
      "source": [
        "models = {\n",
        "    \"straight\": straight,\n",
        "    \"bend_euler\": bend_euler,\n",
        "    \"mmi1x2\": mmi1x2,\n",
        "}"
      ]
    },
    {
      "cell_type": "markdown",
      "id": "05c6a808-1fbf-446c-badd-03a36c76e438",
      "metadata": {
        "papermill": {
          "duration": 0.003981,
          "end_time": "2024-06-17T21:26:24.862400",
          "exception": false,
          "start_time": "2024-06-17T21:26:24.858419",
          "status": "completed"
        },
        "tags": []
      },
      "source": [
        "We can also create some dummy multimode models:"
      ]
    },
    {
      "cell_type": "code",
      "execution_count": 10,
      "id": "b749320e-5a86-4c05-9736-89936b0d31b3",
      "metadata": {
        "execution": {
          "iopub.execute_input": "2024-06-17T21:26:24.871409Z",
          "iopub.status.busy": "2024-06-17T21:26:24.871071Z",
          "iopub.status.idle": "2024-06-17T21:26:24.874141Z",
          "shell.execute_reply": "2024-06-17T21:26:24.873629Z"
        },
        "papermill": {
          "duration": 0.008732,
          "end_time": "2024-06-17T21:26:24.875215",
          "exception": false,
          "start_time": "2024-06-17T21:26:24.866483",
          "status": "completed"
        },
        "tags": []
      },
      "outputs": [],
      "source": [
        "def bend_euler_mm(\n",
        "    angle=90.0,\n",
        "    p=0.5,\n",
        "    # cross_section=\"strip\",\n",
        "    # direction=\"ccw\",\n",
        "    # with_bbox=True,\n",
        "    # with_arc_floorplan=True,\n",
        "    # npoints=720,\n",
        "):\n",
        "    return sax.reciprocal(\n",
        "        {\n",
        "            (\"o1@TE\", \"o2@TE\"): 0.9**0.5,\n",
        "            # ('o1@TE', 'o2@TM'): 0.01**0.5,\n",
        "            # ('o1@TM', 'o2@TE'): 0.01**0.5,\n",
        "            (\"o1@TM\", \"o2@TM\"): 0.8**0.5,\n",
        "        }\n",
        "    )"
      ]
    },
    {
      "cell_type": "code",
      "execution_count": 11,
      "id": "958054fb-31f0-4d2c-9304-fdb72af8f333",
      "metadata": {
        "execution": {
          "iopub.execute_input": "2024-06-17T21:26:24.884359Z",
          "iopub.status.busy": "2024-06-17T21:26:24.883986Z",
          "iopub.status.idle": "2024-06-17T21:26:24.887684Z",
          "shell.execute_reply": "2024-06-17T21:26:24.887209Z"
        },
        "papermill": {
          "duration": 0.009432,
          "end_time": "2024-06-17T21:26:24.888808",
          "exception": false,
          "start_time": "2024-06-17T21:26:24.879376",
          "status": "completed"
        },
        "tags": []
      },
      "outputs": [],
      "source": [
        "def mmi1x2_mm(\n",
        "    width=0.5,\n",
        "    width_taper=1.0,\n",
        "    length_taper=10.0,\n",
        "    length_mmi=5.5,\n",
        "    width_mmi=2.5,\n",
        "    gap_mmi=0.25,\n",
        "    # cross_section= strip,\n",
        "    # taper= {function= taper},\n",
        "    # with_bbox= True,\n",
        "):\n",
        "    return sax.reciprocal(\n",
        "        {\n",
        "            (\"o1@TE\", \"o2@TE\"): 0.45**0.5,\n",
        "            (\"o1@TE\", \"o3@TE\"): 0.45**0.5,\n",
        "            (\"o1@TM\", \"o2@TM\"): 0.41**0.5,\n",
        "            (\"o1@TM\", \"o3@TM\"): 0.41**0.5,\n",
        "            (\"o1@TE\", \"o2@TM\"): 0.01**0.5,\n",
        "            (\"o1@TM\", \"o2@TE\"): 0.01**0.5,\n",
        "            (\"o1@TE\", \"o3@TM\"): 0.02**0.5,\n",
        "            (\"o1@TM\", \"o3@TE\"): 0.02**0.5,\n",
        "        }\n",
        "    )"
      ]
    },
    {
      "cell_type": "code",
      "execution_count": 12,
      "id": "34bad3c0-34a4-4b35-a942-7f75a204c1d0",
      "metadata": {
        "execution": {
          "iopub.execute_input": "2024-06-17T21:26:24.897961Z",
          "iopub.status.busy": "2024-06-17T21:26:24.897648Z",
          "iopub.status.idle": "2024-06-17T21:26:24.900464Z",
          "shell.execute_reply": "2024-06-17T21:26:24.900001Z"
        },
        "papermill": {
          "duration": 0.008587,
          "end_time": "2024-06-17T21:26:24.901604",
          "exception": false,
          "start_time": "2024-06-17T21:26:24.893017",
          "status": "completed"
        },
        "tags": []
      },
      "outputs": [],
      "source": [
        "def straight_mm(\n",
        "    length=0.01,\n",
        "    # npoints=2,\n",
        "    # with_bbox=True,\n",
        "    # cross_section=...\n",
        "):\n",
        "    return sax.reciprocal(\n",
        "        {\n",
        "            (\"o1@TE\", \"o2@TE\"): 1.0,\n",
        "            (\"o1@TM\", \"o2@TM\"): 1.0,\n",
        "        }\n",
        "    )"
      ]
    },
    {
      "cell_type": "code",
      "execution_count": 13,
      "id": "b9476eb5-94e0-45c3-8e7e-a82fead8807b",
      "metadata": {
        "execution": {
          "iopub.execute_input": "2024-06-17T21:26:24.910793Z",
          "iopub.status.busy": "2024-06-17T21:26:24.910465Z",
          "iopub.status.idle": "2024-06-17T21:26:24.913031Z",
          "shell.execute_reply": "2024-06-17T21:26:24.912577Z"
        },
        "papermill": {
          "duration": 0.008335,
          "end_time": "2024-06-17T21:26:24.914127",
          "exception": false,
          "start_time": "2024-06-17T21:26:24.905792",
          "status": "completed"
        },
        "tags": []
      },
      "outputs": [],
      "source": [
        "models_mm = {\n",
        "    \"straight\": straight_mm,\n",
        "    \"bend_euler\": bend_euler_mm,\n",
        "    \"mmi1x2\": mmi1x2_mm,\n",
        "}"
      ]
    },
    {
      "cell_type": "markdown",
      "id": "3df7d9b6-acbb-4406-a3c8-8a9ad09db768",
      "metadata": {
        "papermill": {
          "duration": 0.004034,
          "end_time": "2024-06-17T21:26:24.922330",
          "exception": false,
          "start_time": "2024-06-17T21:26:24.918296",
          "status": "completed"
        },
        "tags": []
      },
      "source": [
        "We can now represent our recursive netlist model as a Directed Acyclic Graph:"
      ]
    },
    {
      "cell_type": "code",
      "execution_count": 14,
      "id": "b6d6e06e-b501-4d3e-8eb6-0d7117abf8e8",
      "metadata": {
        "execution": {
          "iopub.execute_input": "2024-06-17T21:26:24.931650Z",
          "iopub.status.busy": "2024-06-17T21:26:24.931096Z",
          "iopub.status.idle": "2024-06-17T21:26:25.052921Z",
          "shell.execute_reply": "2024-06-17T21:26:25.052315Z"
        },
        "papermill": {
          "duration": 0.127601,
          "end_time": "2024-06-17T21:26:25.054077",
          "exception": false,
          "start_time": "2024-06-17T21:26:24.926476",
          "status": "completed"
        },
        "tags": []
      },
      "outputs": [
        {
          "data": {
            "image/png": "[encoded data removed]",
            "text/plain": [
              "<Figure size 640x480 with 1 Axes>"
            ]
          },
          "metadata": {},
          "output_type": "display_data"
        }
      ],
      "source": [
        "dag = _create_dag(recnet, models)\n",
        "draw_dag(dag)"
      ]
    },
    {
      "cell_type": "markdown",
      "id": "d081c64c-c42c-467e-885d-6e8db2cf64cc",
      "metadata": {
        "papermill": {
          "duration": 0.004659,
          "end_time": "2024-06-17T21:26:25.063660",
          "exception": false,
          "start_time": "2024-06-17T21:26:25.059001",
          "status": "completed"
        },
        "tags": []
      },
      "source": [
        "Note that the DAG depends on the models we supply. We could for example stub one of the sub-netlists by a pre-defined model:"
      ]
    },
    {
      "cell_type": "code",
      "execution_count": 15,
      "id": "ebb11e68-ecc3-4d00-9870-b6682e06c39f",
      "metadata": {
        "execution": {
          "iopub.execute_input": "2024-06-17T21:26:25.073707Z",
          "iopub.status.busy": "2024-06-17T21:26:25.073463Z",
          "iopub.status.idle": "2024-06-17T21:26:25.192618Z",
          "shell.execute_reply": "2024-06-17T21:26:25.192083Z"
        },
        "papermill": {
          "duration": 0.125605,
          "end_time": "2024-06-17T21:26:25.193800",
          "exception": false,
          "start_time": "2024-06-17T21:26:25.068195",
          "status": "completed"
        },
        "tags": []
      },
      "outputs": [
        {
          "data": {
            "image/png": "[encoded data removed]",
            "text/plain": [
              "<Figure size 640x480 with 1 Axes>"
            ]
          },
          "metadata": {},
          "output_type": "display_data"
        }
      ],
      "source": [
        "dag_ = _create_dag(recnet, {**models, \"mzi_delta_length10\": mmi2x2})\n",
        "draw_dag(dag_, with_labels=True)"
      ]
    },
    {
      "cell_type": "markdown",
      "id": "b68c2f1a-f062-4f8a-89a5-8608524a5c06",
      "metadata": {
        "papermill": {
          "duration": 0.004803,
          "end_time": "2024-06-17T21:26:25.203728",
          "exception": false,
          "start_time": "2024-06-17T21:26:25.198925",
          "status": "completed"
        },
        "tags": []
      },
      "source": [
        "This is useful if we for example pre-calculated a certain model."
      ]
    },
    {
      "cell_type": "markdown",
      "id": "020381f6-872f-4aea-8822-ef1096553dc2",
      "metadata": {
        "papermill": {
          "duration": 0.004915,
          "end_time": "2024-06-17T21:26:25.231229",
          "exception": false,
          "start_time": "2024-06-17T21:26:25.226314",
          "status": "completed"
        },
        "tags": []
      },
      "source": [
        "We can easily find the root of the DAG:"
      ]
    },
    {
      "cell_type": "code",
      "execution_count": 16,
      "id": "11728146-6b54-48f2-acac-c8a5fa4e3b0f",
      "metadata": {
        "execution": {
          "iopub.execute_input": "2024-06-17T21:26:25.242739Z",
          "iopub.status.busy": "2024-06-17T21:26:25.242205Z",
          "iopub.status.idle": "2024-06-17T21:26:25.246428Z",
          "shell.execute_reply": "2024-06-17T21:26:25.245940Z"
        },
        "papermill": {
          "duration": 0.011383,
          "end_time": "2024-06-17T21:26:25.247623",
          "exception": false,
          "start_time": "2024-06-17T21:26:25.236240",
          "status": "completed"
        },
        "tags": []
      },
      "outputs": [
        {
          "data": {
            "text/plain": [
              "['twomzi']"
            ]
          },
          "execution_count": 16,
          "metadata": {},
          "output_type": "execute_result"
        }
      ],
      "source": [
        "_find_root(dag)"
      ]
    },
    {
      "cell_type": "markdown",
      "id": "4e8065d2-19c8-444a-b1c2-ea3c62f90e0a",
      "metadata": {
        "papermill": {
          "duration": 0.004894,
          "end_time": "2024-06-17T21:26:25.257549",
          "exception": false,
          "start_time": "2024-06-17T21:26:25.252655",
          "status": "completed"
        },
        "tags": []
      },
      "source": [
        "Similarly we can find the leaves:"
      ]
    },
    {
      "cell_type": "code",
      "execution_count": 17,
      "id": "7fa9afff-26b5-44cb-90bf-a32ef5e95bf5",
      "metadata": {
        "execution": {
          "iopub.execute_input": "2024-06-17T21:26:25.268262Z",
          "iopub.status.busy": "2024-06-17T21:26:25.268032Z",
          "iopub.status.idle": "2024-06-17T21:26:25.271692Z",
          "shell.execute_reply": "2024-06-17T21:26:25.271221Z"
        },
        "papermill": {
          "duration": 0.010342,
          "end_time": "2024-06-17T21:26:25.272819",
          "exception": false,
          "start_time": "2024-06-17T21:26:25.262477",
          "status": "completed"
        },
        "tags": []
      },
      "outputs": [
        {
          "data": {
            "text/plain": [
              "['bend_euler', 'mmi1x2', 'straight']"
            ]
          },
          "execution_count": 17,
          "metadata": {},
          "output_type": "execute_result"
        }
      ],
      "source": [
        "_find_leaves(dag)"
      ]
    },
    {
      "cell_type": "markdown",
      "id": "59fb221d-951d-44df-a5d9-487a8b4dc4f8",
      "metadata": {
        "papermill": {
          "duration": 0.005188,
          "end_time": "2024-06-17T21:26:25.283211",
          "exception": false,
          "start_time": "2024-06-17T21:26:25.278023",
          "status": "completed"
        },
        "tags": []
      },
      "source": [
        "To be able to simulate the circuit, we need to supply a model for each of the leaves in the dependency DAG. Let's write a validator that checks this"
      ]
    },
    {
      "cell_type": "code",
      "execution_count": 18,
      "id": "a97dbe93-a53f-4525-b721-2f329692cdc9",
      "metadata": {
        "execution": {
          "iopub.execute_input": "2024-06-17T21:26:25.294390Z",
          "iopub.status.busy": "2024-06-17T21:26:25.293996Z",
          "iopub.status.idle": "2024-06-17T21:26:25.296764Z",
          "shell.execute_reply": "2024-06-17T21:26:25.296286Z"
        },
        "papermill": {
          "duration": 0.009608,
          "end_time": "2024-06-17T21:26:25.297879",
          "exception": false,
          "start_time": "2024-06-17T21:26:25.288271",
          "status": "completed"
        },
        "tags": []
      },
      "outputs": [],
      "source": [
        "models = _validate_models(models, dag)"
      ]
    },
    {
      "cell_type": "markdown",
      "id": "e9f30a86-aa00-4f51-8b93-3440edc0b46b",
      "metadata": {
        "papermill": {
          "duration": 0.005117,
          "end_time": "2024-06-17T21:26:25.308211",
          "exception": false,
          "start_time": "2024-06-17T21:26:25.303094",
          "status": "completed"
        },
        "tags": []
      },
      "source": [
        "We can now dow a bottom-up simulation. Since at the bottom of the DAG, our circuit is always flat (i.e. not hierarchical) we can implement a minimal `_flat_circuit` definition, which only needs to work on a flat (non-hierarchical circuit):"
      ]
    },
    {
      "cell_type": "code",
      "execution_count": 19,
      "id": "1f415c32-70e4-4b40-a9e2-051fc187cbb9",
      "metadata": {
        "execution": {
          "iopub.execute_input": "2024-06-17T21:26:25.319406Z",
          "iopub.status.busy": "2024-06-17T21:26:25.319051Z",
          "iopub.status.idle": "2024-06-17T21:26:26.120047Z",
          "shell.execute_reply": "2024-06-17T21:26:26.119349Z"
        },
        "papermill": {
          "duration": 0.808141,
          "end_time": "2024-06-17T21:26:26.121542",
          "exception": false,
          "start_time": "2024-06-17T21:26:25.313401",
          "status": "completed"
        },
        "tags": []
      },
      "outputs": [
        {
          "data": {
            "text/plain": [
              "(Array([[0. +0.j, 0.9+0.j],\n",
              "        [0.9+0.j, 0. +0.j]], dtype=complex128),\n",
              " {'o1': 0, 'o2': 1})"
            ]
          },
          "execution_count": 19,
          "metadata": {},
          "output_type": "execute_result"
        }
      ],
      "source": [
        "flatnet = recnet.root[mzi1_comp]\n",
        "single_mzi = _flat_circuit(\n",
        "    flatnet.instances,\n",
        "    flatnet.connections,\n",
        "    flatnet.ports,\n",
        "    models,\n",
        "    \"default\",\n",
        ")\n",
        "single_mzi()"
      ]
    },
    {
      "cell_type": "markdown",
      "id": "c4f3375c-baa3-433f-924a-eff50557bf9f",
      "metadata": {
        "papermill": {
          "duration": 0.208259,
          "end_time": "2024-06-17T21:26:26.338457",
          "exception": false,
          "start_time": "2024-06-17T21:26:26.130198",
          "status": "completed"
        },
        "tags": []
      },
      "source": [
        "The resulting circuit is just another SAX model (i.e. a python function) returing an SType:"
      ]
    },
    {
      "cell_type": "code",
      "execution_count": 20,
      "id": "058740c4-439b-4b00-91e7-15e3e7b6679c",
      "metadata": {
        "execution": {
          "iopub.execute_input": "2024-06-17T21:26:26.627075Z",
          "iopub.status.busy": "2024-06-17T21:26:26.626606Z",
          "iopub.status.idle": "2024-06-17T21:26:26.661688Z",
          "shell.execute_reply": "2024-06-17T21:26:26.661085Z"
        },
        "papermill": {
          "duration": 0.133512,
          "end_time": "2024-06-17T21:26:26.662902",
          "exception": false,
          "start_time": "2024-06-17T21:26:26.529390",
          "status": "completed"
        },
        "tags": []
      },
      "outputs": [],
      "source": [
        "?single_mzi"
      ]
    },
    {
      "cell_type": "markdown",
      "id": "2b2bbe9f-29ac-413a-b0a4-6c51da8689cb",
      "metadata": {
        "papermill": {
          "duration": 0.005318,
          "end_time": "2024-06-17T21:26:26.678636",
          "exception": false,
          "start_time": "2024-06-17T21:26:26.673318",
          "status": "completed"
        },
        "tags": []
      },
      "source": [
        "Let's 'execute' the circuit:"
      ]
    },
    {
      "cell_type": "markdown",
      "id": "42a86f56-ab16-4c04-8738-2480ad378008",
      "metadata": {
        "papermill": {
          "duration": 0.055856,
          "end_time": "2024-06-17T21:26:26.740888",
          "exception": false,
          "start_time": "2024-06-17T21:26:26.685032",
          "status": "completed"
        },
        "tags": []
      },
      "source": [
        "Note that we can also supply multimode models:"
      ]
    },
    {
      "cell_type": "code",
      "execution_count": 21,
      "id": "87bc9f40-e97c-4505-8362-311ce5770077",
      "metadata": {
        "execution": {
          "iopub.execute_input": "2024-06-17T21:26:26.792430Z",
          "iopub.status.busy": "2024-06-17T21:26:26.791817Z",
          "iopub.status.idle": "2024-06-17T21:26:27.519781Z",
          "shell.execute_reply": "2024-06-17T21:26:27.519179Z"
        },
        "papermill": {
          "duration": 0.735178,
          "end_time": "2024-06-17T21:26:27.521040",
          "exception": false,
          "start_time": "2024-06-17T21:26:26.785862",
          "status": "completed"
        },
        "tags": []
      },
      "outputs": [
        {
          "data": {
            "text/plain": [
              "(Array([[0.        +0.j, 0.        +0.j, 0.7482    +0.j, 0.23011426+0.j],\n",
              "        [0.        +0.j, 0.        +0.j, 0.23011426+0.j, 0.5491    +0.j],\n",
              "        [0.7482    +0.j, 0.23011426+0.j, 0.        +0.j, 0.        +0.j],\n",
              "        [0.23011426+0.j, 0.5491    +0.j, 0.        +0.j, 0.        +0.j]],      dtype=complex128),\n",
              " {'o1@TE': 0, 'o1@TM': 1, 'o2@TE': 2, 'o2@TM': 3})"
            ]
          },
          "execution_count": 21,
          "metadata": {},
          "output_type": "execute_result"
        }
      ],
      "source": [
        "flatnet = recnet.root[mzi1_comp]\n",
        "single_mzi = _flat_circuit(\n",
        "    flatnet.instances,\n",
        "    flatnet.connections,\n",
        "    flatnet.ports,\n",
        "    models_mm,\n",
        "    \"default\",\n",
        ")\n",
        "single_mzi()"
      ]
    },
    {
      "cell_type": "markdown",
      "id": "c852f384-c830-47f5-aa75-ee274abbcc35",
      "metadata": {
        "papermill": {
          "duration": 0.005263,
          "end_time": "2024-06-17T21:26:27.531978",
          "exception": false,
          "start_time": "2024-06-17T21:26:27.526715",
          "status": "completed"
        },
        "tags": []
      },
      "source": [
        "Now that we can handle flat circuits the extension to hierarchical circuits is not so difficult:"
      ]
    },
    {
      "cell_type": "markdown",
      "id": "10321c72-bc74-453b-a87a-d5f89295217b",
      "metadata": {
        "papermill": {
          "duration": 0.005171,
          "end_time": "2024-06-17T21:26:27.542382",
          "exception": false,
          "start_time": "2024-06-17T21:26:27.537211",
          "status": "completed"
        },
        "tags": []
      },
      "source": [
        "single mode simulation:"
      ]
    },
    {
      "cell_type": "code",
      "execution_count": 22,
      "id": "6d133b49-6f26-4e01-bcd9-7ca1b76dc55d",
      "metadata": {
        "execution": {
          "iopub.execute_input": "2024-06-17T21:26:27.554090Z",
          "iopub.status.busy": "2024-06-17T21:26:27.553688Z",
          "iopub.status.idle": "2024-06-17T21:26:28.112144Z",
          "shell.execute_reply": "2024-06-17T21:26:28.111537Z"
        },
        "papermill": {
          "duration": 0.565727,
          "end_time": "2024-06-17T21:26:28.113352",
          "exception": false,
          "start_time": "2024-06-17T21:26:27.547625",
          "status": "completed"
        },
        "tags": []
      },
      "outputs": [
        {
          "data": {
            "text/plain": [
              "{('o1', 'o1'): Array(0.+0.j, dtype=complex128),\n",
              " ('o1', 'o2'): Array(0.81+0.j, dtype=complex128),\n",
              " ('o2', 'o1'): Array(0.81+0.j, dtype=complex128),\n",
              " ('o2', 'o2'): Array(0.+0.j, dtype=complex128)}"
            ]
          },
          "execution_count": 22,
          "metadata": {},
          "output_type": "execute_result"
        }
      ],
      "source": [
        "double_mzi, info = sax.circuit(recnet, models, backend=\"default\")\n",
        "double_mzi()"
      ]
    },
    {
      "cell_type": "markdown",
      "id": "3f332edd-909e-452b-b7bd-3a68719a5c20",
      "metadata": {
        "papermill": {
          "duration": 0.005399,
          "end_time": "2024-06-17T21:26:28.124486",
          "exception": false,
          "start_time": "2024-06-17T21:26:28.119087",
          "status": "completed"
        },
        "tags": []
      },
      "source": [
        "multi mode simulation:"
      ]
    },
    {
      "cell_type": "code",
      "execution_count": 23,
      "id": "277ec069-4b46-4d5e-9580-1dd0c28cd9a6",
      "metadata": {
        "execution": {
          "iopub.execute_input": "2024-06-17T21:26:28.136036Z",
          "iopub.status.busy": "2024-06-17T21:26:28.135831Z",
          "iopub.status.idle": "2024-06-17T21:26:28.760504Z",
          "shell.execute_reply": "2024-06-17T21:26:28.759891Z"
        },
        "papermill": {
          "duration": 0.631976,
          "end_time": "2024-06-17T21:26:28.761774",
          "exception": false,
          "start_time": "2024-06-17T21:26:28.129798",
          "status": "completed"
        },
        "tags": []
      },
      "outputs": [
        {
          "data": {
            "text/plain": [
              "{('o1@TE', 'o1@TE'): Array(0.+0.j, dtype=complex128),\n",
              " ('o1@TE', 'o1@TM'): Array(0.+0.j, dtype=complex128),\n",
              " ('o1@TE', 'o2@TE'): Array(0.61275581+0.j, dtype=complex128),\n",
              " ('o1@TE', 'o2@TM'): Array(0.29852723+0.j, dtype=complex128),\n",
              " ('o1@TM', 'o1@TE'): Array(0.+0.j, dtype=complex128),\n",
              " ('o1@TM', 'o1@TM'): Array(0.+0.j, dtype=complex128),\n",
              " ('o1@TM', 'o2@TE'): Array(0.29852723+0.j, dtype=complex128),\n",
              " ('o1@TM', 'o2@TM'): Array(0.35446338+0.j, dtype=complex128),\n",
              " ('o2@TE', 'o1@TE'): Array(0.61275581+0.j, dtype=complex128),\n",
              " ('o2@TE', 'o1@TM'): Array(0.29852723+0.j, dtype=complex128),\n",
              " ('o2@TE', 'o2@TE'): Array(0.+0.j, dtype=complex128),\n",
              " ('o2@TE', 'o2@TM'): Array(0.+0.j, dtype=complex128),\n",
              " ('o2@TM', 'o1@TE'): Array(0.29852723+0.j, dtype=complex128),\n",
              " ('o2@TM', 'o1@TM'): Array(0.35446338+0.j, dtype=complex128),\n",
              " ('o2@TM', 'o2@TE'): Array(0.+0.j, dtype=complex128),\n",
              " ('o2@TM', 'o2@TM'): Array(0.+0.j, dtype=complex128)}"
            ]
          },
          "execution_count": 23,
          "metadata": {},
          "output_type": "execute_result"
        }
      ],
      "source": [
        "double_mzi, info = sax.circuit(\n",
        "    recnet, models_mm, backend=\"default\", return_type=\"sdict\"\n",
        ")\n",
        "double_mzi()"
      ]
    },
    {
      "cell_type": "markdown",
      "id": "e621a2e3-6918-4cfb-8a55-4cc754356020",
      "metadata": {
        "papermill": {
          "duration": 0.005685,
          "end_time": "2024-06-17T21:26:28.773549",
          "exception": false,
          "start_time": "2024-06-17T21:26:28.767864",
          "status": "completed"
        },
        "tags": []
      },
      "source": [
        "sometimes it's useful to get the required circuit model names to be able to create the circuit:"
      ]
    },
    {
      "cell_type": "code",
      "execution_count": 24,
      "id": "99bb5c8f-8094-426d-a5d6-ceb73d80f706",
      "metadata": {
        "execution": {
          "iopub.execute_input": "2024-06-17T21:26:28.785350Z",
          "iopub.status.busy": "2024-06-17T21:26:28.785114Z",
          "iopub.status.idle": "2024-06-17T21:26:28.791458Z",
          "shell.execute_reply": "2024-06-17T21:26:28.790950Z"
        },
        "papermill": {
          "duration": 0.013619,
          "end_time": "2024-06-17T21:26:28.792620",
          "exception": false,
          "start_time": "2024-06-17T21:26:28.779001",
          "status": "completed"
        },
        "tags": []
      },
      "outputs": [
        {
          "data": {
            "text/plain": [
              "['bend_euler', 'mmi1x2', 'straight']"
            ]
          },
          "execution_count": 24,
          "metadata": {},
          "output_type": "execute_result"
        }
      ],
      "source": [
        "sax.get_required_circuit_models(recnet, models)"
      ]
    }
  ],
  "metadata": {
    "kernelspec": {
      "display_name": "Python 3 (ipykernel)",
      "language": "python",
      "name": "python3"
    },
    "language_info": {
      "codemirror_mode": {
        "name": "ipython",
        "version": 3
      },
      "file_extension": ".py",
      "mimetype": "text/x-python",
      "name": "python",
      "nbconvert_exporter": "python",
      "pygments_lexer": "ipython3",
      "version": "3.10.14"
    },
    "papermill": {
      "default_parameters": {},
      "duration": 7.882746,
      "end_time": "2024-06-17T21:26:29.514844",
      "environment_variables": {},
      "exception": null,
      "input_path": "./internals/02_circuit.ipynb",
      "output_path": "./internals/02_circuit.ipynb",
      "parameters": {},
      "start_time": "2024-06-17T21:26:21.632098",
      "version": "2.6.0"
    }
  },
  "nbformat": 4,
  "nbformat_minor": 5
}