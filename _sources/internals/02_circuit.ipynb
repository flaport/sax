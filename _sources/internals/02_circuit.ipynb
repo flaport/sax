{
  "cells": [
    {
      "cell_type": "markdown",
      "id": "2c9c99fe",
      "metadata": {
        "papermill": {
          "duration": 0.021958,
          "end_time": "2025-02-13T09:51:41.830828",
          "exception": false,
          "start_time": "2025-02-13T09:51:41.808870",
          "status": "completed"
        },
        "tags": []
      },
      "source": [
        "# Circuit\n",
        "\n",
        "> SAX Circuits"
      ]
    },
    {
      "cell_type": "code",
      "execution_count": 1,
      "id": "666ac6a3-e9d7-424d-a85e-7c9b74e7ec58",
      "metadata": {
        "execution": {
          "iopub.execute_input": "2025-02-13T09:51:41.846878Z",
          "iopub.status.busy": "2025-02-13T09:51:41.846388Z",
          "iopub.status.idle": "2025-02-13T09:51:42.942870Z",
          "shell.execute_reply": "2025-02-13T09:51:42.942307Z"
        },
        "papermill": {
          "duration": 1.105885,
          "end_time": "2025-02-13T09:51:42.944192",
          "exception": false,
          "start_time": "2025-02-13T09:51:41.838307",
          "status": "completed"
        },
        "tags": []
      },
      "outputs": [],
      "source": [
        "from functools import partial\n",
        "\n",
        "import sax\n",
        "from sax.circuit import (\n",
        "    _create_dag,\n",
        "    _find_leaves,\n",
        "    _find_root,\n",
        "    _flat_circuit,\n",
        "    _validate_models,\n",
        "    draw_dag,\n",
        ")"
      ]
    },
    {
      "cell_type": "markdown",
      "id": "45ad2306-1ead-4b8c-b91e-c02ce4569b3a",
      "metadata": {
        "papermill": {
          "duration": 0.006317,
          "end_time": "2025-02-13T09:51:42.957599",
          "exception": false,
          "start_time": "2025-02-13T09:51:42.951282",
          "status": "completed"
        },
        "tags": []
      },
      "source": [
        "Let's start by creating a simple recursive netlist with gdsfactory.\n",
        "\n",
        ":::{note}\n",
        "We are using gdsfactory to create our netlist because it allows us to see the circuit we want to simulate and because we're striving to have a compatible netlist implementation in SAX.\n",
        "\n",
        "However... gdsfactory is not a dependency of SAX. You can also define your circuits by hand (see [SAX Quick Start](../examples/01_quick_start.ipynb) or you can use another tool to programmatically construct your netlists.\n",
        ":::"
      ]
    },
    {
      "cell_type": "code",
      "execution_count": 2,
      "id": "9fd69e3a-9854-4884-afb3-7ddcd4631c2e",
      "metadata": {
        "execution": {
          "iopub.execute_input": "2025-02-13T09:51:42.972436Z",
          "iopub.status.busy": "2025-02-13T09:51:42.971579Z",
          "iopub.status.idle": "2025-02-13T09:51:44.554384Z",
          "shell.execute_reply": "2025-02-13T09:51:44.553561Z"
        },
        "papermill": {
          "duration": 1.591712,
          "end_time": "2025-02-13T09:51:44.555808",
          "exception": false,
          "start_time": "2025-02-13T09:51:42.964096",
          "status": "completed"
        },
        "tags": []
      },
      "outputs": [],
      "source": [
        "import gdsfactory as gf\n",
        "from IPython.display import display\n",
        "from gdsfactory.components import mzi\n",
        "\n",
        "\n",
        "@gf.cell\n",
        "def twomzi():\n",
        "    c = gf.Component()\n",
        "\n",
        "    # instances\n",
        "    mzi1 = mzi(delta_length=10)\n",
        "    mzi2 = mzi(delta_length=20)\n",
        "\n",
        "    # references\n",
        "    mzi1_ = c.add_ref(mzi1, name=\"mzi1\")\n",
        "    mzi2_ = c.add_ref(mzi2, name=\"mzi2\")\n",
        "\n",
        "    # connections\n",
        "    mzi2_.connect(\"o1\", mzi1_.ports[\"o2\"])\n",
        "\n",
        "    # ports\n",
        "    c.add_port(\"o1\", port=mzi1_.ports[\"o1\"])\n",
        "    c.add_port(\"o2\", port=mzi2_.ports[\"o2\"])\n",
        "    return c"
      ]
    },
    {
      "cell_type": "code",
      "execution_count": 3,
      "id": "b0cad9f5-81b3-448a-8860-ac409c2b1415",
      "metadata": {
        "execution": {
          "iopub.execute_input": "2025-02-13T09:51:44.569930Z",
          "iopub.status.busy": "2025-02-13T09:51:44.569495Z",
          "iopub.status.idle": "2025-02-13T09:51:45.492422Z",
          "shell.execute_reply": "2025-02-13T09:51:45.491708Z"
        },
        "papermill": {
          "duration": 0.931189,
          "end_time": "2025-02-13T09:51:45.493753",
          "exception": false,
          "start_time": "2025-02-13T09:51:44.562564",
          "status": "completed"
        },
        "tags": []
      },
      "outputs": [
        {
          "data": {
            "image/png": "[encoded data removed]",
            "text/plain": [
              "<Figure size 800x600 with 1 Axes>"
            ]
          },
          "metadata": {},
          "output_type": "display_data"
        }
      ],
      "source": [
        "comp = twomzi()\n",
        "comp"
      ]
    },
    {
      "cell_type": "code",
      "execution_count": 4,
      "id": "65ef3413-4259-4d1f-ae65-891e968d2f57",
      "metadata": {
        "execution": {
          "iopub.execute_input": "2025-02-13T09:51:45.509993Z",
          "iopub.status.busy": "2025-02-13T09:51:45.509079Z",
          "iopub.status.idle": "2025-02-13T09:51:45.541593Z",
          "shell.execute_reply": "2025-02-13T09:51:45.540600Z"
        },
        "papermill": {
          "duration": 0.0418,
          "end_time": "2025-02-13T09:51:45.542982",
          "exception": false,
          "start_time": "2025-02-13T09:51:45.501182",
          "status": "completed"
        },
        "tags": []
      },
      "outputs": [
        {
          "name": "stderr",
          "output_type": "stream",
          "text": [
            "/tmp/ipykernel_3642/418843444.py:1: PydanticDeprecatedSince20: The `parse_obj` method is deprecated; use `model_validate` instead. Deprecated in Pydantic V2.0 to be removed in V3.0. See Pydantic V2 Migration Guide at https://errors.pydantic.dev/2.10/migration/\n",
            "  recnet = sax.RecursiveNetlist.parse_obj(comp.get_netlist(recursive=True))\n"
          ]
        }
      ],
      "source": [
        "recnet = sax.RecursiveNetlist.parse_obj(comp.get_netlist(recursive=True))\n",
        "mzi1_comp = recnet.root[\"twomzi\"].instances[\"mzi1\"].component\n",
        "flatnet = recnet.root[mzi1_comp]"
      ]
    },
    {
      "cell_type": "markdown",
      "id": "2b2a38fb-c83e-4b71-b195-ecca485fb0a3",
      "metadata": {
        "papermill": {
          "duration": 0.018964,
          "end_time": "2025-02-13T09:51:45.575143",
          "exception": false,
          "start_time": "2025-02-13T09:51:45.556179",
          "status": "completed"
        },
        "tags": []
      },
      "source": [
        "To be able to model this device we'll need some SAX dummy models:"
      ]
    },
    {
      "cell_type": "code",
      "execution_count": 5,
      "id": "2035cd9e-c65e-45b6-bd83-4ad19e4630fa",
      "metadata": {
        "execution": {
          "iopub.execute_input": "2025-02-13T09:51:45.603833Z",
          "iopub.status.busy": "2025-02-13T09:51:45.603430Z",
          "iopub.status.idle": "2025-02-13T09:51:45.608894Z",
          "shell.execute_reply": "2025-02-13T09:51:45.608461Z"
        },
        "papermill": {
          "duration": 0.022438,
          "end_time": "2025-02-13T09:51:45.609814",
          "exception": false,
          "start_time": "2025-02-13T09:51:45.587376",
          "status": "completed"
        },
        "tags": []
      },
      "outputs": [],
      "source": [
        "def bend_euler(\n",
        "    angle=90.0,\n",
        "    p=0.5,\n",
        "    # cross_section=\"strip\",\n",
        "    # direction=\"ccw\",\n",
        "    # with_bbox=True,\n",
        "    # with_arc_floorplan=True,\n",
        "    # npoints=720,\n",
        "):\n",
        "    return sax.reciprocal({(\"o1\", \"o2\"): 1.0})"
      ]
    },
    {
      "cell_type": "code",
      "execution_count": 6,
      "id": "192c4288-20d1-4aca-b3d0-277db6bb5118",
      "metadata": {
        "execution": {
          "iopub.execute_input": "2025-02-13T09:51:45.641035Z",
          "iopub.status.busy": "2025-02-13T09:51:45.635324Z",
          "iopub.status.idle": "2025-02-13T09:51:45.651892Z",
          "shell.execute_reply": "2025-02-13T09:51:45.651319Z"
        },
        "papermill": {
          "duration": 0.030845,
          "end_time": "2025-02-13T09:51:45.652920",
          "exception": false,
          "start_time": "2025-02-13T09:51:45.622075",
          "status": "completed"
        },
        "tags": []
      },
      "outputs": [],
      "source": [
        "def mmi1x2(\n",
        "    width=0.5,\n",
        "    width_taper=1.0,\n",
        "    length_taper=10.0,\n",
        "    length_mmi=5.5,\n",
        "    width_mmi=2.5,\n",
        "    gap_mmi=0.25,\n",
        "    # cross_section= strip,\n",
        "    # taper= {function= taper},\n",
        "    # with_bbox= True,\n",
        "):\n",
        "    return sax.reciprocal(\n",
        "        {\n",
        "            (\"o1\", \"o2\"): 0.45**0.5,\n",
        "            (\"o1\", \"o3\"): 0.45**0.5,\n",
        "        }\n",
        "    )"
      ]
    },
    {
      "cell_type": "code",
      "execution_count": 7,
      "id": "861a5b4a-d8d9-4ea0-a733-39e213a28ead",
      "metadata": {
        "execution": {
          "iopub.execute_input": "2025-02-13T09:51:45.685620Z",
          "iopub.status.busy": "2025-02-13T09:51:45.682678Z",
          "iopub.status.idle": "2025-02-13T09:51:45.692218Z",
          "shell.execute_reply": "2025-02-13T09:51:45.691689Z"
        },
        "papermill": {
          "duration": 0.02991,
          "end_time": "2025-02-13T09:51:45.698244",
          "exception": false,
          "start_time": "2025-02-13T09:51:45.668334",
          "status": "completed"
        },
        "tags": []
      },
      "outputs": [],
      "source": [
        "def mmi2x2(\n",
        "    width=0.5,\n",
        "    width_taper=1.0,\n",
        "    length_taper=10.0,\n",
        "    length_mmi=5.5,\n",
        "    width_mmi=2.5,\n",
        "    gap_mmi=0.25,\n",
        "    # cross_section= strip,\n",
        "    # taper= {function= taper},\n",
        "    # with_bbox= True,\n",
        "):\n",
        "    return sax.reciprocal(\n",
        "        {\n",
        "            (\"o1\", \"o3\"): 0.45**0.5,\n",
        "            (\"o1\", \"o4\"): 1j * 0.45**0.5,\n",
        "            (\"o2\", \"o3\"): 1j * 0.45**0.5,\n",
        "            (\"o2\", \"o4\"): 0.45**0.5,\n",
        "        }\n",
        "    )"
      ]
    },
    {
      "cell_type": "code",
      "execution_count": 8,
      "id": "84046c8e-45a7-4aa0-bbdf-c82cd2d0e24e",
      "metadata": {
        "execution": {
          "iopub.execute_input": "2025-02-13T09:51:45.731844Z",
          "iopub.status.busy": "2025-02-13T09:51:45.731515Z",
          "iopub.status.idle": "2025-02-13T09:51:45.735908Z",
          "shell.execute_reply": "2025-02-13T09:51:45.735300Z"
        },
        "papermill": {
          "duration": 0.019227,
          "end_time": "2025-02-13T09:51:45.737035",
          "exception": false,
          "start_time": "2025-02-13T09:51:45.717808",
          "status": "completed"
        },
        "tags": []
      },
      "outputs": [],
      "source": [
        "def straight(\n",
        "    length=0.01,\n",
        "    # npoints=2,\n",
        "    # with_bbox=True,\n",
        "    # cross_section=...\n",
        "):\n",
        "    return sax.reciprocal({(\"o1\", \"o2\"): 1.0})"
      ]
    },
    {
      "cell_type": "markdown",
      "id": "8efe90e4-dfe6-40bd-aa0a-26c74738d688",
      "metadata": {
        "papermill": {
          "duration": 0.006982,
          "end_time": "2025-02-13T09:51:45.751380",
          "exception": false,
          "start_time": "2025-02-13T09:51:45.744398",
          "status": "completed"
        },
        "tags": []
      },
      "source": [
        "In SAX, we usually aggregate the available models in a models dictionary:"
      ]
    },
    {
      "cell_type": "code",
      "execution_count": 9,
      "id": "c1ac9132-0ee2-443b-98f4-f790234551b0",
      "metadata": {
        "execution": {
          "iopub.execute_input": "2025-02-13T09:51:45.767130Z",
          "iopub.status.busy": "2025-02-13T09:51:45.766664Z",
          "iopub.status.idle": "2025-02-13T09:51:45.770848Z",
          "shell.execute_reply": "2025-02-13T09:51:45.770330Z"
        },
        "papermill": {
          "duration": 0.013878,
          "end_time": "2025-02-13T09:51:45.772396",
          "exception": false,
          "start_time": "2025-02-13T09:51:45.758518",
          "status": "completed"
        },
        "tags": []
      },
      "outputs": [],
      "source": [
        "models = {\n",
        "    \"straight\": straight,\n",
        "    \"bend_euler\": bend_euler,\n",
        "    \"mmi1x2\": mmi1x2,\n",
        "}"
      ]
    },
    {
      "cell_type": "markdown",
      "id": "05c6a808-1fbf-446c-badd-03a36c76e438",
      "metadata": {
        "papermill": {
          "duration": 0.012013,
          "end_time": "2025-02-13T09:51:45.794923",
          "exception": false,
          "start_time": "2025-02-13T09:51:45.782910",
          "status": "completed"
        },
        "tags": []
      },
      "source": [
        "We can also create some dummy multimode models:"
      ]
    },
    {
      "cell_type": "code",
      "execution_count": 10,
      "id": "b749320e-5a86-4c05-9736-89936b0d31b3",
      "metadata": {
        "execution": {
          "iopub.execute_input": "2025-02-13T09:51:45.827103Z",
          "iopub.status.busy": "2025-02-13T09:51:45.826828Z",
          "iopub.status.idle": "2025-02-13T09:51:45.830901Z",
          "shell.execute_reply": "2025-02-13T09:51:45.830487Z"
        },
        "papermill": {
          "duration": 0.024206,
          "end_time": "2025-02-13T09:51:45.834055",
          "exception": false,
          "start_time": "2025-02-13T09:51:45.809849",
          "status": "completed"
        },
        "tags": []
      },
      "outputs": [],
      "source": [
        "def bend_euler_mm(\n",
        "    angle=90.0,\n",
        "    p=0.5,\n",
        "    # cross_section=\"strip\",\n",
        "    # direction=\"ccw\",\n",
        "    # with_bbox=True,\n",
        "    # with_arc_floorplan=True,\n",
        "    # npoints=720,\n",
        "):\n",
        "    return sax.reciprocal(\n",
        "        {\n",
        "            (\"o1@TE\", \"o2@TE\"): 0.9**0.5,\n",
        "            # ('o1@TE', 'o2@TM'): 0.01**0.5,\n",
        "            # ('o1@TM', 'o2@TE'): 0.01**0.5,\n",
        "            (\"o1@TM\", \"o2@TM\"): 0.8**0.5,\n",
        "        }\n",
        "    )"
      ]
    },
    {
      "cell_type": "code",
      "execution_count": 11,
      "id": "958054fb-31f0-4d2c-9304-fdb72af8f333",
      "metadata": {
        "execution": {
          "iopub.execute_input": "2025-02-13T09:51:45.860166Z",
          "iopub.status.busy": "2025-02-13T09:51:45.859932Z",
          "iopub.status.idle": "2025-02-13T09:51:45.870926Z",
          "shell.execute_reply": "2025-02-13T09:51:45.870368Z"
        },
        "papermill": {
          "duration": 0.025454,
          "end_time": "2025-02-13T09:51:45.872142",
          "exception": false,
          "start_time": "2025-02-13T09:51:45.846688",
          "status": "completed"
        },
        "tags": []
      },
      "outputs": [],
      "source": [
        "def mmi1x2_mm(\n",
        "    width=0.5,\n",
        "    width_taper=1.0,\n",
        "    length_taper=10.0,\n",
        "    length_mmi=5.5,\n",
        "    width_mmi=2.5,\n",
        "    gap_mmi=0.25,\n",
        "    # cross_section= strip,\n",
        "    # taper= {function= taper},\n",
        "    # with_bbox= True,\n",
        "):\n",
        "    return sax.reciprocal(\n",
        "        {\n",
        "            (\"o1@TE\", \"o2@TE\"): 0.45**0.5,\n",
        "            (\"o1@TE\", \"o3@TE\"): 0.45**0.5,\n",
        "            (\"o1@TM\", \"o2@TM\"): 0.41**0.5,\n",
        "            (\"o1@TM\", \"o3@TM\"): 0.41**0.5,\n",
        "            (\"o1@TE\", \"o2@TM\"): 0.01**0.5,\n",
        "            (\"o1@TM\", \"o2@TE\"): 0.01**0.5,\n",
        "            (\"o1@TE\", \"o3@TM\"): 0.02**0.5,\n",
        "            (\"o1@TM\", \"o3@TE\"): 0.02**0.5,\n",
        "        }\n",
        "    )"
      ]
    },
    {
      "cell_type": "code",
      "execution_count": 12,
      "id": "34bad3c0-34a4-4b35-a942-7f75a204c1d0",
      "metadata": {
        "execution": {
          "iopub.execute_input": "2025-02-13T09:51:45.896868Z",
          "iopub.status.busy": "2025-02-13T09:51:45.896410Z",
          "iopub.status.idle": "2025-02-13T09:51:45.903925Z",
          "shell.execute_reply": "2025-02-13T09:51:45.903305Z"
        },
        "papermill": {
          "duration": 0.021967,
          "end_time": "2025-02-13T09:51:45.905366",
          "exception": false,
          "start_time": "2025-02-13T09:51:45.883399",
          "status": "completed"
        },
        "tags": []
      },
      "outputs": [],
      "source": [
        "def straight_mm(\n",
        "    length=0.01,\n",
        "    # npoints=2,\n",
        "    # with_bbox=True,\n",
        "    # cross_section=...\n",
        "):\n",
        "    return sax.reciprocal(\n",
        "        {\n",
        "            (\"o1@TE\", \"o2@TE\"): 1.0,\n",
        "            (\"o1@TM\", \"o2@TM\"): 1.0,\n",
        "        }\n",
        "    )"
      ]
    },
    {
      "cell_type": "code",
      "execution_count": 13,
      "id": "b9476eb5-94e0-45c3-8e7e-a82fead8807b",
      "metadata": {
        "execution": {
          "iopub.execute_input": "2025-02-13T09:51:45.935371Z",
          "iopub.status.busy": "2025-02-13T09:51:45.935067Z",
          "iopub.status.idle": "2025-02-13T09:51:45.941916Z",
          "shell.execute_reply": "2025-02-13T09:51:45.941353Z"
        },
        "papermill": {
          "duration": 0.025721,
          "end_time": "2025-02-13T09:51:45.943161",
          "exception": false,
          "start_time": "2025-02-13T09:51:45.917440",
          "status": "completed"
        },
        "tags": []
      },
      "outputs": [],
      "source": [
        "models_mm = {\n",
        "    \"straight\": straight_mm,\n",
        "    \"bend_euler\": bend_euler_mm,\n",
        "    \"mmi1x2\": mmi1x2_mm,\n",
        "}"
      ]
    },
    {
      "cell_type": "markdown",
      "id": "3df7d9b6-acbb-4406-a3c8-8a9ad09db768",
      "metadata": {
        "papermill": {
          "duration": 0.009681,
          "end_time": "2025-02-13T09:51:45.966201",
          "exception": false,
          "start_time": "2025-02-13T09:51:45.956520",
          "status": "completed"
        },
        "tags": []
      },
      "source": [
        "We can now represent our recursive netlist model as a Directed Acyclic Graph:"
      ]
    },
    {
      "cell_type": "code",
      "execution_count": 14,
      "id": "b6d6e06e-b501-4d3e-8eb6-0d7117abf8e8",
      "metadata": {
        "execution": {
          "iopub.execute_input": "2025-02-13T09:51:45.998848Z",
          "iopub.status.busy": "2025-02-13T09:51:45.998610Z",
          "iopub.status.idle": "2025-02-13T09:51:46.232641Z",
          "shell.execute_reply": "2025-02-13T09:51:46.231949Z"
        },
        "papermill": {
          "duration": 0.251304,
          "end_time": "2025-02-13T09:51:46.233878",
          "exception": false,
          "start_time": "2025-02-13T09:51:45.982574",
          "status": "completed"
        },
        "tags": []
      },
      "outputs": [
        {
          "data": {
            "image/png": "[encoded data removed]",
            "text/plain": [
              "<Figure size 640x480 with 1 Axes>"
            ]
          },
          "metadata": {},
          "output_type": "display_data"
        }
      ],
      "source": [
        "dag = _create_dag(recnet, models)\n",
        "draw_dag(dag)"
      ]
    },
    {
      "cell_type": "markdown",
      "id": "d081c64c-c42c-467e-885d-6e8db2cf64cc",
      "metadata": {
        "papermill": {
          "duration": 0.008336,
          "end_time": "2025-02-13T09:51:46.250580",
          "exception": false,
          "start_time": "2025-02-13T09:51:46.242244",
          "status": "completed"
        },
        "tags": []
      },
      "source": [
        "Note that the DAG depends on the models we supply. We could for example stub one of the sub-netlists by a pre-defined model:"
      ]
    },
    {
      "cell_type": "code",
      "execution_count": 15,
      "id": "ebb11e68-ecc3-4d00-9870-b6682e06c39f",
      "metadata": {
        "execution": {
          "iopub.execute_input": "2025-02-13T09:51:46.268506Z",
          "iopub.status.busy": "2025-02-13T09:51:46.268229Z",
          "iopub.status.idle": "2025-02-13T09:51:46.388798Z",
          "shell.execute_reply": "2025-02-13T09:51:46.388219Z"
        },
        "papermill": {
          "duration": 0.131375,
          "end_time": "2025-02-13T09:51:46.390380",
          "exception": false,
          "start_time": "2025-02-13T09:51:46.259005",
          "status": "completed"
        },
        "tags": []
      },
      "outputs": [
        {
          "data": {
            "image/png": "[encoded data removed]",
            "text/plain": [
              "<Figure size 640x480 with 1 Axes>"
            ]
          },
          "metadata": {},
          "output_type": "display_data"
        }
      ],
      "source": [
        "dag_ = _create_dag(recnet, {**models, \"mzi_delta_length10\": mmi2x2})\n",
        "draw_dag(dag_, with_labels=True)"
      ]
    },
    {
      "cell_type": "markdown",
      "id": "b68c2f1a-f062-4f8a-89a5-8608524a5c06",
      "metadata": {
        "papermill": {
          "duration": 0.008646,
          "end_time": "2025-02-13T09:51:46.408305",
          "exception": false,
          "start_time": "2025-02-13T09:51:46.399659",
          "status": "completed"
        },
        "tags": []
      },
      "source": [
        "This is useful if we for example pre-calculated a certain model."
      ]
    },
    {
      "cell_type": "markdown",
      "id": "020381f6-872f-4aea-8822-ef1096553dc2",
      "metadata": {
        "papermill": {
          "duration": 0.008706,
          "end_time": "2025-02-13T09:51:46.426096",
          "exception": false,
          "start_time": "2025-02-13T09:51:46.417390",
          "status": "completed"
        },
        "tags": []
      },
      "source": [
        "We can easily find the root of the DAG:"
      ]
    },
    {
      "cell_type": "code",
      "execution_count": 16,
      "id": "11728146-6b54-48f2-acac-c8a5fa4e3b0f",
      "metadata": {
        "execution": {
          "iopub.execute_input": "2025-02-13T09:51:46.445250Z",
          "iopub.status.busy": "2025-02-13T09:51:46.444966Z",
          "iopub.status.idle": "2025-02-13T09:51:46.453919Z",
          "shell.execute_reply": "2025-02-13T09:51:46.453206Z"
        },
        "papermill": {
          "duration": 0.020193,
          "end_time": "2025-02-13T09:51:46.455142",
          "exception": false,
          "start_time": "2025-02-13T09:51:46.434949",
          "status": "completed"
        },
        "tags": []
      },
      "outputs": [
        {
          "data": {
            "text/plain": [
              "['twomzi']"
            ]
          },
          "execution_count": 16,
          "metadata": {},
          "output_type": "execute_result"
        }
      ],
      "source": [
        "_find_root(dag)"
      ]
    },
    {
      "cell_type": "markdown",
      "id": "4e8065d2-19c8-444a-b1c2-ea3c62f90e0a",
      "metadata": {
        "papermill": {
          "duration": 0.008986,
          "end_time": "2025-02-13T09:51:46.473550",
          "exception": false,
          "start_time": "2025-02-13T09:51:46.464564",
          "status": "completed"
        },
        "tags": []
      },
      "source": [
        "Similarly we can find the leaves:"
      ]
    },
    {
      "cell_type": "code",
      "execution_count": 17,
      "id": "7fa9afff-26b5-44cb-90bf-a32ef5e95bf5",
      "metadata": {
        "execution": {
          "iopub.execute_input": "2025-02-13T09:51:46.492279Z",
          "iopub.status.busy": "2025-02-13T09:51:46.491364Z",
          "iopub.status.idle": "2025-02-13T09:51:46.496747Z",
          "shell.execute_reply": "2025-02-13T09:51:46.496231Z"
        },
        "papermill": {
          "duration": 0.014706,
          "end_time": "2025-02-13T09:51:46.497765",
          "exception": false,
          "start_time": "2025-02-13T09:51:46.483059",
          "status": "completed"
        },
        "tags": []
      },
      "outputs": [
        {
          "data": {
            "text/plain": [
              "['bend_euler', 'mmi1x2', 'straight']"
            ]
          },
          "execution_count": 17,
          "metadata": {},
          "output_type": "execute_result"
        }
      ],
      "source": [
        "_find_leaves(dag)"
      ]
    },
    {
      "cell_type": "markdown",
      "id": "59fb221d-951d-44df-a5d9-487a8b4dc4f8",
      "metadata": {
        "papermill": {
          "duration": 0.010025,
          "end_time": "2025-02-13T09:51:46.516871",
          "exception": false,
          "start_time": "2025-02-13T09:51:46.506846",
          "status": "completed"
        },
        "tags": []
      },
      "source": [
        "To be able to simulate the circuit, we need to supply a model for each of the leaves in the dependency DAG. Let's write a validator that checks this"
      ]
    },
    {
      "cell_type": "code",
      "execution_count": 18,
      "id": "a97dbe93-a53f-4525-b721-2f329692cdc9",
      "metadata": {
        "execution": {
          "iopub.execute_input": "2025-02-13T09:51:46.537310Z",
          "iopub.status.busy": "2025-02-13T09:51:46.537049Z",
          "iopub.status.idle": "2025-02-13T09:51:46.540764Z",
          "shell.execute_reply": "2025-02-13T09:51:46.539956Z"
        },
        "papermill": {
          "duration": 0.015284,
          "end_time": "2025-02-13T09:51:46.542032",
          "exception": false,
          "start_time": "2025-02-13T09:51:46.526748",
          "status": "completed"
        },
        "tags": []
      },
      "outputs": [],
      "source": [
        "models = _validate_models(models, dag)"
      ]
    },
    {
      "cell_type": "markdown",
      "id": "e9f30a86-aa00-4f51-8b93-3440edc0b46b",
      "metadata": {
        "papermill": {
          "duration": 0.008948,
          "end_time": "2025-02-13T09:51:46.560523",
          "exception": false,
          "start_time": "2025-02-13T09:51:46.551575",
          "status": "completed"
        },
        "tags": []
      },
      "source": [
        "We can now dow a bottom-up simulation. Since at the bottom of the DAG, our circuit is always flat (i.e. not hierarchical) we can implement a minimal `_flat_circuit` definition, which only needs to work on a flat (non-hierarchical circuit):"
      ]
    },
    {
      "cell_type": "code",
      "execution_count": 19,
      "id": "1f415c32-70e4-4b40-a9e2-051fc187cbb9",
      "metadata": {
        "execution": {
          "iopub.execute_input": "2025-02-13T09:51:46.580848Z",
          "iopub.status.busy": "2025-02-13T09:51:46.579730Z",
          "iopub.status.idle": "2025-02-13T09:51:47.832431Z",
          "shell.execute_reply": "2025-02-13T09:51:47.831897Z"
        },
        "papermill": {
          "duration": 1.264311,
          "end_time": "2025-02-13T09:51:47.833532",
          "exception": false,
          "start_time": "2025-02-13T09:51:46.569221",
          "status": "completed"
        },
        "tags": []
      },
      "outputs": [
        {
          "data": {
            "text/plain": [
              "(Array([[0. +0.j, 0.9+0.j],\n",
              "        [0.9+0.j, 0. +0.j]], dtype=complex128),\n",
              " {'o1': 0, 'o2': 1})"
            ]
          },
          "execution_count": 19,
          "metadata": {},
          "output_type": "execute_result"
        }
      ],
      "source": [
        "flatnet = recnet.root[mzi1_comp]\n",
        "single_mzi = _flat_circuit(\n",
        "    flatnet.instances,\n",
        "    flatnet.connections,\n",
        "    flatnet.ports,\n",
        "    models,\n",
        "    \"default\",\n",
        ")\n",
        "single_mzi()"
      ]
    },
    {
      "cell_type": "markdown",
      "id": "c4f3375c-baa3-433f-924a-eff50557bf9f",
      "metadata": {
        "papermill": {
          "duration": 0.008725,
          "end_time": "2025-02-13T09:51:47.850501",
          "exception": false,
          "start_time": "2025-02-13T09:51:47.841776",
          "status": "completed"
        },
        "tags": []
      },
      "source": [
        "The resulting circuit is just another SAX model (i.e. a python function) returing an SType:"
      ]
    },
    {
      "cell_type": "code",
      "execution_count": 20,
      "id": "058740c4-439b-4b00-91e7-15e3e7b6679c",
      "metadata": {
        "execution": {
          "iopub.execute_input": "2025-02-13T09:51:47.868475Z",
          "iopub.status.busy": "2025-02-13T09:51:47.868173Z",
          "iopub.status.idle": "2025-02-13T09:51:47.927517Z",
          "shell.execute_reply": "2025-02-13T09:51:47.926518Z"
        },
        "papermill": {
          "duration": 0.070815,
          "end_time": "2025-02-13T09:51:47.929025",
          "exception": false,
          "start_time": "2025-02-13T09:51:47.858210",
          "status": "completed"
        },
        "tags": []
      },
      "outputs": [],
      "source": [
        "?single_mzi"
      ]
    },
    {
      "cell_type": "markdown",
      "id": "2b2bbe9f-29ac-413a-b0a4-6c51da8689cb",
      "metadata": {
        "papermill": {
          "duration": 0.02636,
          "end_time": "2025-02-13T09:51:47.964708",
          "exception": false,
          "start_time": "2025-02-13T09:51:47.938348",
          "status": "completed"
        },
        "tags": []
      },
      "source": [
        "Let's 'execute' the circuit:"
      ]
    },
    {
      "cell_type": "markdown",
      "id": "42a86f56-ab16-4c04-8738-2480ad378008",
      "metadata": {
        "papermill": {
          "duration": 0.029518,
          "end_time": "2025-02-13T09:51:48.022581",
          "exception": false,
          "start_time": "2025-02-13T09:51:47.993063",
          "status": "completed"
        },
        "tags": []
      },
      "source": [
        "Note that we can also supply multimode models:"
      ]
    },
    {
      "cell_type": "code",
      "execution_count": 21,
      "id": "87bc9f40-e97c-4505-8362-311ce5770077",
      "metadata": {
        "execution": {
          "iopub.execute_input": "2025-02-13T09:51:48.057243Z",
          "iopub.status.busy": "2025-02-13T09:51:48.056985Z",
          "iopub.status.idle": "2025-02-13T09:51:49.548636Z",
          "shell.execute_reply": "2025-02-13T09:51:49.548057Z"
        },
        "papermill": {
          "duration": 1.513754,
          "end_time": "2025-02-13T09:51:49.550007",
          "exception": false,
          "start_time": "2025-02-13T09:51:48.036253",
          "status": "completed"
        },
        "tags": []
      },
      "outputs": [
        {
          "data": {
            "text/plain": [
              "(Array([[0.        +0.j, 0.        +0.j, 0.7482    +0.j, 0.23011426+0.j],\n",
              "        [0.        +0.j, 0.        +0.j, 0.23011426+0.j, 0.5491    +0.j],\n",
              "        [0.7482    +0.j, 0.23011426+0.j, 0.        +0.j, 0.        +0.j],\n",
              "        [0.23011426+0.j, 0.5491    +0.j, 0.        +0.j, 0.        +0.j]],      dtype=complex128),\n",
              " {'o1@TE': 0, 'o1@TM': 1, 'o2@TE': 2, 'o2@TM': 3})"
            ]
          },
          "execution_count": 21,
          "metadata": {},
          "output_type": "execute_result"
        }
      ],
      "source": [
        "flatnet = recnet.root[mzi1_comp]\n",
        "single_mzi = _flat_circuit(\n",
        "    flatnet.instances,\n",
        "    flatnet.connections,\n",
        "    flatnet.ports,\n",
        "    models_mm,\n",
        "    \"default\",\n",
        ")\n",
        "single_mzi()"
      ]
    },
    {
      "cell_type": "markdown",
      "id": "c852f384-c830-47f5-aa75-ee274abbcc35",
      "metadata": {
        "papermill": {
          "duration": 0.01022,
          "end_time": "2025-02-13T09:51:49.570368",
          "exception": false,
          "start_time": "2025-02-13T09:51:49.560148",
          "status": "completed"
        },
        "tags": []
      },
      "source": [
        "Now that we can handle flat circuits the extension to hierarchical circuits is not so difficult:"
      ]
    },
    {
      "cell_type": "markdown",
      "id": "10321c72-bc74-453b-a87a-d5f89295217b",
      "metadata": {
        "papermill": {
          "duration": 0.009465,
          "end_time": "2025-02-13T09:51:49.589741",
          "exception": false,
          "start_time": "2025-02-13T09:51:49.580276",
          "status": "completed"
        },
        "tags": []
      },
      "source": [
        "single mode simulation:"
      ]
    },
    {
      "cell_type": "code",
      "execution_count": 22,
      "id": "6d133b49-6f26-4e01-bcd9-7ca1b76dc55d",
      "metadata": {
        "execution": {
          "iopub.execute_input": "2025-02-13T09:51:49.610828Z",
          "iopub.status.busy": "2025-02-13T09:51:49.610544Z",
          "iopub.status.idle": "2025-02-13T09:51:50.488779Z",
          "shell.execute_reply": "2025-02-13T09:51:50.488179Z"
        },
        "papermill": {
          "duration": 0.890299,
          "end_time": "2025-02-13T09:51:50.490078",
          "exception": false,
          "start_time": "2025-02-13T09:51:49.599779",
          "status": "completed"
        },
        "tags": []
      },
      "outputs": [
        {
          "name": "stderr",
          "output_type": "stream",
          "text": [
            "/home/runner/work/sax/sax/.venv/lib/python3.12/site-packages/jax/_src/numpy/lax_numpy.py:5820: FutureWarning: None encountered in jnp.array(); this is currently treated as NaN. In the future this will result in an error.\n",
            "  return array(a, dtype=dtype, copy=bool(copy), order=order, device=device)\n",
            "/home/runner/work/sax/sax/.venv/lib/python3.12/site-packages/jax/_src/numpy/lax_numpy.py:5820: FutureWarning: None encountered in jnp.array(); this is currently treated as NaN. In the future this will result in an error.\n",
            "  return array(a, dtype=dtype, copy=bool(copy), order=order, device=device)\n",
            "/home/runner/work/sax/sax/.venv/lib/python3.12/site-packages/jax/_src/numpy/lax_numpy.py:5820: FutureWarning: None encountered in jnp.array(); this is currently treated as NaN. In the future this will result in an error.\n",
            "  return array(a, dtype=dtype, copy=bool(copy), order=order, device=device)\n",
            "/home/runner/work/sax/sax/.venv/lib/python3.12/site-packages/jax/_src/numpy/lax_numpy.py:5820: FutureWarning: None encountered in jnp.array(); this is currently treated as NaN. In the future this will result in an error.\n",
            "  return array(a, dtype=dtype, copy=bool(copy), order=order, device=device)\n"
          ]
        },
        {
          "data": {
            "text/plain": [
              "{('o1', 'o1'): Array(0.+0.j, dtype=complex128),\n",
              " ('o1', 'o2'): Array(0.81+0.j, dtype=complex128),\n",
              " ('o2', 'o1'): Array(0.81+0.j, dtype=complex128),\n",
              " ('o2', 'o2'): Array(0.+0.j, dtype=complex128)}"
            ]
          },
          "execution_count": 22,
          "metadata": {},
          "output_type": "execute_result"
        }
      ],
      "source": [
        "double_mzi, info = sax.circuit(recnet, models, backend=\"default\")\n",
        "double_mzi()"
      ]
    },
    {
      "cell_type": "markdown",
      "id": "3f332edd-909e-452b-b7bd-3a68719a5c20",
      "metadata": {
        "papermill": {
          "duration": 0.009851,
          "end_time": "2025-02-13T09:51:50.510089",
          "exception": false,
          "start_time": "2025-02-13T09:51:50.500238",
          "status": "completed"
        },
        "tags": []
      },
      "source": [
        "multi mode simulation:"
      ]
    },
    {
      "cell_type": "code",
      "execution_count": 23,
      "id": "277ec069-4b46-4d5e-9580-1dd0c28cd9a6",
      "metadata": {
        "execution": {
          "iopub.execute_input": "2025-02-13T09:51:50.531919Z",
          "iopub.status.busy": "2025-02-13T09:51:50.530828Z",
          "iopub.status.idle": "2025-02-13T09:51:51.598219Z",
          "shell.execute_reply": "2025-02-13T09:51:51.597749Z"
        },
        "papermill": {
          "duration": 1.079721,
          "end_time": "2025-02-13T09:51:51.599694",
          "exception": false,
          "start_time": "2025-02-13T09:51:50.519973",
          "status": "completed"
        },
        "tags": []
      },
      "outputs": [
        {
          "name": "stderr",
          "output_type": "stream",
          "text": [
            "/home/runner/work/sax/sax/.venv/lib/python3.12/site-packages/jax/_src/numpy/lax_numpy.py:5820: FutureWarning: None encountered in jnp.array(); this is currently treated as NaN. In the future this will result in an error.\n",
            "  return array(a, dtype=dtype, copy=bool(copy), order=order, device=device)\n",
            "/home/runner/work/sax/sax/.venv/lib/python3.12/site-packages/jax/_src/numpy/lax_numpy.py:5820: FutureWarning: None encountered in jnp.array(); this is currently treated as NaN. In the future this will result in an error.\n",
            "  return array(a, dtype=dtype, copy=bool(copy), order=order, device=device)\n",
            "/home/runner/work/sax/sax/.venv/lib/python3.12/site-packages/jax/_src/numpy/lax_numpy.py:5820: FutureWarning: None encountered in jnp.array(); this is currently treated as NaN. In the future this will result in an error.\n",
            "  return array(a, dtype=dtype, copy=bool(copy), order=order, device=device)\n",
            "/home/runner/work/sax/sax/.venv/lib/python3.12/site-packages/jax/_src/numpy/lax_numpy.py:5820: FutureWarning: None encountered in jnp.array(); this is currently treated as NaN. In the future this will result in an error.\n",
            "  return array(a, dtype=dtype, copy=bool(copy), order=order, device=device)\n"
          ]
        },
        {
          "data": {
            "text/plain": [
              "{('o1@TE', 'o1@TE'): Array(0.+0.j, dtype=complex128),\n",
              " ('o1@TE', 'o1@TM'): Array(0.+0.j, dtype=complex128),\n",
              " ('o1@TE', 'o2@TE'): Array(0.61275581+0.j, dtype=complex128),\n",
              " ('o1@TE', 'o2@TM'): Array(0.29852723+0.j, dtype=complex128),\n",
              " ('o1@TM', 'o1@TE'): Array(0.+0.j, dtype=complex128),\n",
              " ('o1@TM', 'o1@TM'): Array(0.+0.j, dtype=complex128),\n",
              " ('o1@TM', 'o2@TE'): Array(0.29852723+0.j, dtype=complex128),\n",
              " ('o1@TM', 'o2@TM'): Array(0.35446338+0.j, dtype=complex128),\n",
              " ('o2@TE', 'o1@TE'): Array(0.61275581+0.j, dtype=complex128),\n",
              " ('o2@TE', 'o1@TM'): Array(0.29852723+0.j, dtype=complex128),\n",
              " ('o2@TE', 'o2@TE'): Array(0.+0.j, dtype=complex128),\n",
              " ('o2@TE', 'o2@TM'): Array(0.+0.j, dtype=complex128),\n",
              " ('o2@TM', 'o1@TE'): Array(0.29852723+0.j, dtype=complex128),\n",
              " ('o2@TM', 'o1@TM'): Array(0.35446338+0.j, dtype=complex128),\n",
              " ('o2@TM', 'o2@TE'): Array(0.+0.j, dtype=complex128),\n",
              " ('o2@TM', 'o2@TM'): Array(0.+0.j, dtype=complex128)}"
            ]
          },
          "execution_count": 23,
          "metadata": {},
          "output_type": "execute_result"
        }
      ],
      "source": [
        "double_mzi, info = sax.circuit(\n",
        "    recnet, models_mm, backend=\"default\", return_type=\"sdict\"\n",
        ")\n",
        "double_mzi()"
      ]
    },
    {
      "cell_type": "markdown",
      "id": "e621a2e3-6918-4cfb-8a55-4cc754356020",
      "metadata": {
        "papermill": {
          "duration": 0.008936,
          "end_time": "2025-02-13T09:51:51.618506",
          "exception": false,
          "start_time": "2025-02-13T09:51:51.609570",
          "status": "completed"
        },
        "tags": []
      },
      "source": [
        "sometimes it's useful to get the required circuit model names to be able to create the circuit:"
      ]
    },
    {
      "cell_type": "code",
      "execution_count": 24,
      "id": "99bb5c8f-8094-426d-a5d6-ceb73d80f706",
      "metadata": {
        "execution": {
          "iopub.execute_input": "2025-02-13T09:51:51.638207Z",
          "iopub.status.busy": "2025-02-13T09:51:51.637770Z",
          "iopub.status.idle": "2025-02-13T09:51:51.646153Z",
          "shell.execute_reply": "2025-02-13T09:51:51.645383Z"
        },
        "papermill": {
          "duration": 0.019801,
          "end_time": "2025-02-13T09:51:51.647426",
          "exception": false,
          "start_time": "2025-02-13T09:51:51.627625",
          "status": "completed"
        },
        "tags": []
      },
      "outputs": [
        {
          "data": {
            "text/plain": [
              "['bend_euler', 'mmi1x2', 'straight']"
            ]
          },
          "execution_count": 24,
          "metadata": {},
          "output_type": "execute_result"
        }
      ],
      "source": [
        "sax.get_required_circuit_models(recnet, models)"
      ]
    }
  ],
  "metadata": {
    "kernelspec": {
      "display_name": "Python 3 (ipykernel)",
      "language": "python",
      "name": "python3"
    },
    "language_info": {
      "codemirror_mode": {
        "name": "ipython",
        "version": 3
      },
      "file_extension": ".py",
      "mimetype": "text/x-python",
      "name": "python",
      "nbconvert_exporter": "python",
      "pygments_lexer": "ipython3",
      "version": "3.12.3"
    },
    "papermill": {
      "default_parameters": {},
      "duration": 12.533472,
      "end_time": "2025-02-13T09:51:52.980512",
      "environment_variables": {},
      "exception": null,
      "input_path": "./internals/02_circuit.ipynb",
      "output_path": "./internals/02_circuit.ipynb",
      "parameters": {},
      "start_time": "2025-02-13T09:51:40.447040",
      "version": "2.6.0"
    }
  },
  "nbformat": 4,
  "nbformat_minor": 5
}