{
  "cells": [
    {
      "cell_type": "markdown",
      "id": "2c9c99fe",
      "metadata": {
        "papermill": {
          "duration": 0.004794,
          "end_time": "2024-08-04T14:32:17.953395",
          "exception": false,
          "start_time": "2024-08-04T14:32:17.948601",
          "status": "completed"
        },
        "tags": []
      },
      "source": [
        "# Circuit\n",
        "\n",
        "> SAX Circuits"
      ]
    },
    {
      "cell_type": "code",
      "execution_count": 1,
      "id": "666ac6a3-e9d7-424d-a85e-7c9b74e7ec58",
      "metadata": {
        "execution": {
          "iopub.execute_input": "2024-08-04T14:32:17.962740Z",
          "iopub.status.busy": "2024-08-04T14:32:17.962197Z",
          "iopub.status.idle": "2024-08-04T14:32:18.626831Z",
          "shell.execute_reply": "2024-08-04T14:32:18.626294Z"
        },
        "papermill": {
          "duration": 0.671064,
          "end_time": "2024-08-04T14:32:18.628390",
          "exception": false,
          "start_time": "2024-08-04T14:32:17.957326",
          "status": "completed"
        },
        "tags": []
      },
      "outputs": [],
      "source": [
        "from functools import partial\n",
        "\n",
        "import sax\n",
        "from sax.circuit import (\n",
        "    _create_dag,\n",
        "    _find_leaves,\n",
        "    _find_root,\n",
        "    _flat_circuit,\n",
        "    _validate_models,\n",
        "    draw_dag,\n",
        ")"
      ]
    },
    {
      "cell_type": "markdown",
      "id": "45ad2306-1ead-4b8c-b91e-c02ce4569b3a",
      "metadata": {
        "papermill": {
          "duration": 0.003799,
          "end_time": "2024-08-04T14:32:18.636196",
          "exception": false,
          "start_time": "2024-08-04T14:32:18.632397",
          "status": "completed"
        },
        "tags": []
      },
      "source": [
        "Let's start by creating a simple recursive netlist with gdsfactory.\n",
        "\n",
        ":::{note}\n",
        "We are using gdsfactory to create our netlist because it allows us to see the circuit we want to simulate and because we're striving to have a compatible netlist implementation in SAX.\n",
        "\n",
        "However... gdsfactory is not a dependency of SAX. You can also define your circuits by hand (see [SAX Quick Start](../examples/01_quick_start.ipynb) or you can use another tool to programmatically construct your netlists.\n",
        ":::"
      ]
    },
    {
      "cell_type": "code",
      "execution_count": 2,
      "id": "9fd69e3a-9854-4884-afb3-7ddcd4631c2e",
      "metadata": {
        "execution": {
          "iopub.execute_input": "2024-08-04T14:32:18.644827Z",
          "iopub.status.busy": "2024-08-04T14:32:18.644498Z",
          "iopub.status.idle": "2024-08-04T14:32:19.560988Z",
          "shell.execute_reply": "2024-08-04T14:32:19.560394Z"
        },
        "papermill": {
          "duration": 0.922501,
          "end_time": "2024-08-04T14:32:19.562375",
          "exception": false,
          "start_time": "2024-08-04T14:32:18.639874",
          "status": "completed"
        },
        "tags": []
      },
      "outputs": [],
      "source": [
        "import gdsfactory as gf\n",
        "from IPython.display import display\n",
        "from gdsfactory.components import mzi\n",
        "\n",
        "\n",
        "@gf.cell\n",
        "def twomzi():\n",
        "    c = gf.Component()\n",
        "\n",
        "    # instances\n",
        "    mzi1 = mzi(delta_length=10)\n",
        "    mzi2 = mzi(delta_length=20)\n",
        "\n",
        "    # references\n",
        "    mzi1_ = c.add_ref(mzi1, name=\"mzi1\")\n",
        "    mzi2_ = c.add_ref(mzi2, name=\"mzi2\")\n",
        "\n",
        "    # connections\n",
        "    mzi2_.connect(\"o1\", mzi1_.ports[\"o2\"])\n",
        "\n",
        "    # ports\n",
        "    c.add_port(\"o1\", port=mzi1_.ports[\"o1\"])\n",
        "    c.add_port(\"o2\", port=mzi2_.ports[\"o2\"])\n",
        "    return c"
      ]
    },
    {
      "cell_type": "code",
      "execution_count": 3,
      "id": "b0cad9f5-81b3-448a-8860-ac409c2b1415",
      "metadata": {
        "execution": {
          "iopub.execute_input": "2024-08-04T14:32:19.571536Z",
          "iopub.status.busy": "2024-08-04T14:32:19.571007Z",
          "iopub.status.idle": "2024-08-04T14:32:20.129528Z",
          "shell.execute_reply": "2024-08-04T14:32:20.128876Z"
        },
        "papermill": {
          "duration": 0.564449,
          "end_time": "2024-08-04T14:32:20.130826",
          "exception": false,
          "start_time": "2024-08-04T14:32:19.566377",
          "status": "completed"
        },
        "tags": []
      },
      "outputs": [
        {
          "data": {
            "image/png": "[encoded data removed]",
            "text/plain": [
              "<Figure size 800x600 with 1 Axes>"
            ]
          },
          "metadata": {},
          "output_type": "display_data"
        }
      ],
      "source": [
        "comp = twomzi()\n",
        "comp"
      ]
    },
    {
      "cell_type": "code",
      "execution_count": 4,
      "id": "65ef3413-4259-4d1f-ae65-891e968d2f57",
      "metadata": {
        "execution": {
          "iopub.execute_input": "2024-08-04T14:32:20.140922Z",
          "iopub.status.busy": "2024-08-04T14:32:20.140252Z",
          "iopub.status.idle": "2024-08-04T14:32:20.162224Z",
          "shell.execute_reply": "2024-08-04T14:32:20.161702Z"
        },
        "papermill": {
          "duration": 0.028598,
          "end_time": "2024-08-04T14:32:20.163756",
          "exception": false,
          "start_time": "2024-08-04T14:32:20.135158",
          "status": "completed"
        },
        "tags": []
      },
      "outputs": [],
      "source": [
        "recnet = sax.RecursiveNetlist.parse_obj(comp.get_netlist(recursive=True))\n",
        "mzi1_comp = recnet.root[\"twomzi\"].instances[\"mzi1\"].component\n",
        "flatnet = recnet.root[mzi1_comp]"
      ]
    },
    {
      "cell_type": "markdown",
      "id": "2b2a38fb-c83e-4b71-b195-ecca485fb0a3",
      "metadata": {
        "papermill": {
          "duration": 0.004072,
          "end_time": "2024-08-04T14:32:20.172079",
          "exception": false,
          "start_time": "2024-08-04T14:32:20.168007",
          "status": "completed"
        },
        "tags": []
      },
      "source": [
        "To be able to model this device we'll need some SAX dummy models:"
      ]
    },
    {
      "cell_type": "code",
      "execution_count": 5,
      "id": "2035cd9e-c65e-45b6-bd83-4ad19e4630fa",
      "metadata": {
        "execution": {
          "iopub.execute_input": "2024-08-04T14:32:20.181277Z",
          "iopub.status.busy": "2024-08-04T14:32:20.181037Z",
          "iopub.status.idle": "2024-08-04T14:32:20.184437Z",
          "shell.execute_reply": "2024-08-04T14:32:20.183851Z"
        },
        "papermill": {
          "duration": 0.009429,
          "end_time": "2024-08-04T14:32:20.185651",
          "exception": false,
          "start_time": "2024-08-04T14:32:20.176222",
          "status": "completed"
        },
        "tags": []
      },
      "outputs": [],
      "source": [
        "def bend_euler(\n",
        "    angle=90.0,\n",
        "    p=0.5,\n",
        "    # cross_section=\"strip\",\n",
        "    # direction=\"ccw\",\n",
        "    # with_bbox=True,\n",
        "    # with_arc_floorplan=True,\n",
        "    # npoints=720,\n",
        "):\n",
        "    return sax.reciprocal({(\"o1\", \"o2\"): 1.0})"
      ]
    },
    {
      "cell_type": "code",
      "execution_count": 6,
      "id": "192c4288-20d1-4aca-b3d0-277db6bb5118",
      "metadata": {
        "execution": {
          "iopub.execute_input": "2024-08-04T14:32:20.194502Z",
          "iopub.status.busy": "2024-08-04T14:32:20.194305Z",
          "iopub.status.idle": "2024-08-04T14:32:20.197646Z",
          "shell.execute_reply": "2024-08-04T14:32:20.197149Z"
        },
        "papermill": {
          "duration": 0.009112,
          "end_time": "2024-08-04T14:32:20.198787",
          "exception": false,
          "start_time": "2024-08-04T14:32:20.189675",
          "status": "completed"
        },
        "tags": []
      },
      "outputs": [],
      "source": [
        "def mmi1x2(\n",
        "    width=0.5,\n",
        "    width_taper=1.0,\n",
        "    length_taper=10.0,\n",
        "    length_mmi=5.5,\n",
        "    width_mmi=2.5,\n",
        "    gap_mmi=0.25,\n",
        "    # cross_section= strip,\n",
        "    # taper= {function= taper},\n",
        "    # with_bbox= True,\n",
        "):\n",
        "    return sax.reciprocal(\n",
        "        {\n",
        "            (\"o1\", \"o2\"): 0.45**0.5,\n",
        "            (\"o1\", \"o3\"): 0.45**0.5,\n",
        "        }\n",
        "    )"
      ]
    },
    {
      "cell_type": "code",
      "execution_count": 7,
      "id": "861a5b4a-d8d9-4ea0-a733-39e213a28ead",
      "metadata": {
        "execution": {
          "iopub.execute_input": "2024-08-04T14:32:20.208419Z",
          "iopub.status.busy": "2024-08-04T14:32:20.207928Z",
          "iopub.status.idle": "2024-08-04T14:32:20.211604Z",
          "shell.execute_reply": "2024-08-04T14:32:20.211113Z"
        },
        "papermill": {
          "duration": 0.009561,
          "end_time": "2024-08-04T14:32:20.212787",
          "exception": false,
          "start_time": "2024-08-04T14:32:20.203226",
          "status": "completed"
        },
        "tags": []
      },
      "outputs": [],
      "source": [
        "def mmi2x2(\n",
        "    width=0.5,\n",
        "    width_taper=1.0,\n",
        "    length_taper=10.0,\n",
        "    length_mmi=5.5,\n",
        "    width_mmi=2.5,\n",
        "    gap_mmi=0.25,\n",
        "    # cross_section= strip,\n",
        "    # taper= {function= taper},\n",
        "    # with_bbox= True,\n",
        "):\n",
        "    return sax.reciprocal(\n",
        "        {\n",
        "            (\"o1\", \"o3\"): 0.45**0.5,\n",
        "            (\"o1\", \"o4\"): 1j * 0.45**0.5,\n",
        "            (\"o2\", \"o3\"): 1j * 0.45**0.5,\n",
        "            (\"o2\", \"o4\"): 0.45**0.5,\n",
        "        }\n",
        "    )"
      ]
    },
    {
      "cell_type": "code",
      "execution_count": 8,
      "id": "84046c8e-45a7-4aa0-bbdf-c82cd2d0e24e",
      "metadata": {
        "execution": {
          "iopub.execute_input": "2024-08-04T14:32:20.222287Z",
          "iopub.status.busy": "2024-08-04T14:32:20.221860Z",
          "iopub.status.idle": "2024-08-04T14:32:20.224936Z",
          "shell.execute_reply": "2024-08-04T14:32:20.224401Z"
        },
        "papermill": {
          "duration": 0.009186,
          "end_time": "2024-08-04T14:32:20.226080",
          "exception": false,
          "start_time": "2024-08-04T14:32:20.216894",
          "status": "completed"
        },
        "tags": []
      },
      "outputs": [],
      "source": [
        "def straight(\n",
        "    length=0.01,\n",
        "    # npoints=2,\n",
        "    # with_bbox=True,\n",
        "    # cross_section=...\n",
        "):\n",
        "    return sax.reciprocal({(\"o1\", \"o2\"): 1.0})"
      ]
    },
    {
      "cell_type": "markdown",
      "id": "8efe90e4-dfe6-40bd-aa0a-26c74738d688",
      "metadata": {
        "papermill": {
          "duration": 0.004077,
          "end_time": "2024-08-04T14:32:20.234405",
          "exception": false,
          "start_time": "2024-08-04T14:32:20.230328",
          "status": "completed"
        },
        "tags": []
      },
      "source": [
        "In SAX, we usually aggregate the available models in a models dictionary:"
      ]
    },
    {
      "cell_type": "code",
      "execution_count": 9,
      "id": "c1ac9132-0ee2-443b-98f4-f790234551b0",
      "metadata": {
        "execution": {
          "iopub.execute_input": "2024-08-04T14:32:20.244439Z",
          "iopub.status.busy": "2024-08-04T14:32:20.243888Z",
          "iopub.status.idle": "2024-08-04T14:32:20.246951Z",
          "shell.execute_reply": "2024-08-04T14:32:20.246465Z"
        },
        "papermill": {
          "duration": 0.009455,
          "end_time": "2024-08-04T14:32:20.248127",
          "exception": false,
          "start_time": "2024-08-04T14:32:20.238672",
          "status": "completed"
        },
        "tags": []
      },
      "outputs": [],
      "source": [
        "models = {\n",
        "    \"straight\": straight,\n",
        "    \"bend_euler\": bend_euler,\n",
        "    \"mmi1x2\": mmi1x2,\n",
        "}"
      ]
    },
    {
      "cell_type": "markdown",
      "id": "05c6a808-1fbf-446c-badd-03a36c76e438",
      "metadata": {
        "papermill": {
          "duration": 0.004138,
          "end_time": "2024-08-04T14:32:20.256531",
          "exception": false,
          "start_time": "2024-08-04T14:32:20.252393",
          "status": "completed"
        },
        "tags": []
      },
      "source": [
        "We can also create some dummy multimode models:"
      ]
    },
    {
      "cell_type": "code",
      "execution_count": 10,
      "id": "b749320e-5a86-4c05-9736-89936b0d31b3",
      "metadata": {
        "execution": {
          "iopub.execute_input": "2024-08-04T14:32:20.265958Z",
          "iopub.status.busy": "2024-08-04T14:32:20.265709Z",
          "iopub.status.idle": "2024-08-04T14:32:20.269211Z",
          "shell.execute_reply": "2024-08-04T14:32:20.268715Z"
        },
        "papermill": {
          "duration": 0.009617,
          "end_time": "2024-08-04T14:32:20.270301",
          "exception": false,
          "start_time": "2024-08-04T14:32:20.260684",
          "status": "completed"
        },
        "tags": []
      },
      "outputs": [],
      "source": [
        "def bend_euler_mm(\n",
        "    angle=90.0,\n",
        "    p=0.5,\n",
        "    # cross_section=\"strip\",\n",
        "    # direction=\"ccw\",\n",
        "    # with_bbox=True,\n",
        "    # with_arc_floorplan=True,\n",
        "    # npoints=720,\n",
        "):\n",
        "    return sax.reciprocal(\n",
        "        {\n",
        "            (\"o1@TE\", \"o2@TE\"): 0.9**0.5,\n",
        "            # ('o1@TE', 'o2@TM'): 0.01**0.5,\n",
        "            # ('o1@TM', 'o2@TE'): 0.01**0.5,\n",
        "            (\"o1@TM\", \"o2@TM\"): 0.8**0.5,\n",
        "        }\n",
        "    )"
      ]
    },
    {
      "cell_type": "code",
      "execution_count": 11,
      "id": "958054fb-31f0-4d2c-9304-fdb72af8f333",
      "metadata": {
        "execution": {
          "iopub.execute_input": "2024-08-04T14:32:20.279994Z",
          "iopub.status.busy": "2024-08-04T14:32:20.279766Z",
          "iopub.status.idle": "2024-08-04T14:32:20.283984Z",
          "shell.execute_reply": "2024-08-04T14:32:20.283492Z"
        },
        "papermill": {
          "duration": 0.01059,
          "end_time": "2024-08-04T14:32:20.285118",
          "exception": false,
          "start_time": "2024-08-04T14:32:20.274528",
          "status": "completed"
        },
        "tags": []
      },
      "outputs": [],
      "source": [
        "def mmi1x2_mm(\n",
        "    width=0.5,\n",
        "    width_taper=1.0,\n",
        "    length_taper=10.0,\n",
        "    length_mmi=5.5,\n",
        "    width_mmi=2.5,\n",
        "    gap_mmi=0.25,\n",
        "    # cross_section= strip,\n",
        "    # taper= {function= taper},\n",
        "    # with_bbox= True,\n",
        "):\n",
        "    return sax.reciprocal(\n",
        "        {\n",
        "            (\"o1@TE\", \"o2@TE\"): 0.45**0.5,\n",
        "            (\"o1@TE\", \"o3@TE\"): 0.45**0.5,\n",
        "            (\"o1@TM\", \"o2@TM\"): 0.41**0.5,\n",
        "            (\"o1@TM\", \"o3@TM\"): 0.41**0.5,\n",
        "            (\"o1@TE\", \"o2@TM\"): 0.01**0.5,\n",
        "            (\"o1@TM\", \"o2@TE\"): 0.01**0.5,\n",
        "            (\"o1@TE\", \"o3@TM\"): 0.02**0.5,\n",
        "            (\"o1@TM\", \"o3@TE\"): 0.02**0.5,\n",
        "        }\n",
        "    )"
      ]
    },
    {
      "cell_type": "code",
      "execution_count": 12,
      "id": "34bad3c0-34a4-4b35-a942-7f75a204c1d0",
      "metadata": {
        "execution": {
          "iopub.execute_input": "2024-08-04T14:32:20.294503Z",
          "iopub.status.busy": "2024-08-04T14:32:20.294263Z",
          "iopub.status.idle": "2024-08-04T14:32:20.297487Z",
          "shell.execute_reply": "2024-08-04T14:32:20.297011Z"
        },
        "papermill": {
          "duration": 0.00925,
          "end_time": "2024-08-04T14:32:20.298610",
          "exception": false,
          "start_time": "2024-08-04T14:32:20.289360",
          "status": "completed"
        },
        "tags": []
      },
      "outputs": [],
      "source": [
        "def straight_mm(\n",
        "    length=0.01,\n",
        "    # npoints=2,\n",
        "    # with_bbox=True,\n",
        "    # cross_section=...\n",
        "):\n",
        "    return sax.reciprocal(\n",
        "        {\n",
        "            (\"o1@TE\", \"o2@TE\"): 1.0,\n",
        "            (\"o1@TM\", \"o2@TM\"): 1.0,\n",
        "        }\n",
        "    )"
      ]
    },
    {
      "cell_type": "code",
      "execution_count": 13,
      "id": "b9476eb5-94e0-45c3-8e7e-a82fead8807b",
      "metadata": {
        "execution": {
          "iopub.execute_input": "2024-08-04T14:32:20.308052Z",
          "iopub.status.busy": "2024-08-04T14:32:20.307609Z",
          "iopub.status.idle": "2024-08-04T14:32:20.310399Z",
          "shell.execute_reply": "2024-08-04T14:32:20.309931Z"
        },
        "papermill": {
          "duration": 0.008708,
          "end_time": "2024-08-04T14:32:20.311562",
          "exception": false,
          "start_time": "2024-08-04T14:32:20.302854",
          "status": "completed"
        },
        "tags": []
      },
      "outputs": [],
      "source": [
        "models_mm = {\n",
        "    \"straight\": straight_mm,\n",
        "    \"bend_euler\": bend_euler_mm,\n",
        "    \"mmi1x2\": mmi1x2_mm,\n",
        "}"
      ]
    },
    {
      "cell_type": "markdown",
      "id": "3df7d9b6-acbb-4406-a3c8-8a9ad09db768",
      "metadata": {
        "papermill": {
          "duration": 0.004097,
          "end_time": "2024-08-04T14:32:20.319899",
          "exception": false,
          "start_time": "2024-08-04T14:32:20.315802",
          "status": "completed"
        },
        "tags": []
      },
      "source": [
        "We can now represent our recursive netlist model as a Directed Acyclic Graph:"
      ]
    },
    {
      "cell_type": "code",
      "execution_count": 14,
      "id": "b6d6e06e-b501-4d3e-8eb6-0d7117abf8e8",
      "metadata": {
        "execution": {
          "iopub.execute_input": "2024-08-04T14:32:20.329410Z",
          "iopub.status.busy": "2024-08-04T14:32:20.329128Z",
          "iopub.status.idle": "2024-08-04T14:32:20.448886Z",
          "shell.execute_reply": "2024-08-04T14:32:20.448272Z"
        },
        "papermill": {
          "duration": 0.126074,
          "end_time": "2024-08-04T14:32:20.450119",
          "exception": false,
          "start_time": "2024-08-04T14:32:20.324045",
          "status": "completed"
        },
        "tags": []
      },
      "outputs": [
        {
          "data": {
            "image/png": "[encoded data removed]",
            "text/plain": [
              "<Figure size 640x480 with 1 Axes>"
            ]
          },
          "metadata": {},
          "output_type": "display_data"
        }
      ],
      "source": [
        "dag = _create_dag(recnet, models)\n",
        "draw_dag(dag)"
      ]
    },
    {
      "cell_type": "markdown",
      "id": "d081c64c-c42c-467e-885d-6e8db2cf64cc",
      "metadata": {
        "papermill": {
          "duration": 0.004653,
          "end_time": "2024-08-04T14:32:20.459780",
          "exception": false,
          "start_time": "2024-08-04T14:32:20.455127",
          "status": "completed"
        },
        "tags": []
      },
      "source": [
        "Note that the DAG depends on the models we supply. We could for example stub one of the sub-netlists by a pre-defined model:"
      ]
    },
    {
      "cell_type": "code",
      "execution_count": 15,
      "id": "ebb11e68-ecc3-4d00-9870-b6682e06c39f",
      "metadata": {
        "execution": {
          "iopub.execute_input": "2024-08-04T14:32:20.470002Z",
          "iopub.status.busy": "2024-08-04T14:32:20.469744Z",
          "iopub.status.idle": "2024-08-04T14:32:20.585379Z",
          "shell.execute_reply": "2024-08-04T14:32:20.584728Z"
        },
        "papermill": {
          "duration": 0.122267,
          "end_time": "2024-08-04T14:32:20.586585",
          "exception": false,
          "start_time": "2024-08-04T14:32:20.464318",
          "status": "completed"
        },
        "tags": []
      },
      "outputs": [
        {
          "data": {
            "image/png": "[encoded data removed]",
            "text/plain": [
              "<Figure size 640x480 with 1 Axes>"
            ]
          },
          "metadata": {},
          "output_type": "display_data"
        }
      ],
      "source": [
        "dag_ = _create_dag(recnet, {**models, \"mzi_delta_length10\": mmi2x2})\n",
        "draw_dag(dag_, with_labels=True)"
      ]
    },
    {
      "cell_type": "markdown",
      "id": "b68c2f1a-f062-4f8a-89a5-8608524a5c06",
      "metadata": {
        "papermill": {
          "duration": 0.00488,
          "end_time": "2024-08-04T14:32:20.596727",
          "exception": false,
          "start_time": "2024-08-04T14:32:20.591847",
          "status": "completed"
        },
        "tags": []
      },
      "source": [
        "This is useful if we for example pre-calculated a certain model."
      ]
    },
    {
      "cell_type": "markdown",
      "id": "020381f6-872f-4aea-8822-ef1096553dc2",
      "metadata": {
        "papermill": {
          "duration": 0.005266,
          "end_time": "2024-08-04T14:32:20.628974",
          "exception": false,
          "start_time": "2024-08-04T14:32:20.623708",
          "status": "completed"
        },
        "tags": []
      },
      "source": [
        "We can easily find the root of the DAG:"
      ]
    },
    {
      "cell_type": "code",
      "execution_count": 16,
      "id": "11728146-6b54-48f2-acac-c8a5fa4e3b0f",
      "metadata": {
        "execution": {
          "iopub.execute_input": "2024-08-04T14:32:20.640753Z",
          "iopub.status.busy": "2024-08-04T14:32:20.640188Z",
          "iopub.status.idle": "2024-08-04T14:32:20.644413Z",
          "shell.execute_reply": "2024-08-04T14:32:20.643856Z"
        },
        "papermill": {
          "duration": 0.011581,
          "end_time": "2024-08-04T14:32:20.645589",
          "exception": false,
          "start_time": "2024-08-04T14:32:20.634008",
          "status": "completed"
        },
        "tags": []
      },
      "outputs": [
        {
          "data": {
            "text/plain": [
              "['twomzi']"
            ]
          },
          "execution_count": 16,
          "metadata": {},
          "output_type": "execute_result"
        }
      ],
      "source": [
        "_find_root(dag)"
      ]
    },
    {
      "cell_type": "markdown",
      "id": "4e8065d2-19c8-444a-b1c2-ea3c62f90e0a",
      "metadata": {
        "papermill": {
          "duration": 0.005124,
          "end_time": "2024-08-04T14:32:20.655895",
          "exception": false,
          "start_time": "2024-08-04T14:32:20.650771",
          "status": "completed"
        },
        "tags": []
      },
      "source": [
        "Similarly we can find the leaves:"
      ]
    },
    {
      "cell_type": "code",
      "execution_count": 17,
      "id": "7fa9afff-26b5-44cb-90bf-a32ef5e95bf5",
      "metadata": {
        "execution": {
          "iopub.execute_input": "2024-08-04T14:32:20.667299Z",
          "iopub.status.busy": "2024-08-04T14:32:20.666808Z",
          "iopub.status.idle": "2024-08-04T14:32:20.671004Z",
          "shell.execute_reply": "2024-08-04T14:32:20.670493Z"
        },
        "papermill": {
          "duration": 0.011268,
          "end_time": "2024-08-04T14:32:20.672208",
          "exception": false,
          "start_time": "2024-08-04T14:32:20.660940",
          "status": "completed"
        },
        "tags": []
      },
      "outputs": [
        {
          "data": {
            "text/plain": [
              "['bend_euler', 'mmi1x2', 'straight']"
            ]
          },
          "execution_count": 17,
          "metadata": {},
          "output_type": "execute_result"
        }
      ],
      "source": [
        "_find_leaves(dag)"
      ]
    },
    {
      "cell_type": "markdown",
      "id": "59fb221d-951d-44df-a5d9-487a8b4dc4f8",
      "metadata": {
        "papermill": {
          "duration": 0.005163,
          "end_time": "2024-08-04T14:32:20.682730",
          "exception": false,
          "start_time": "2024-08-04T14:32:20.677567",
          "status": "completed"
        },
        "tags": []
      },
      "source": [
        "To be able to simulate the circuit, we need to supply a model for each of the leaves in the dependency DAG. Let's write a validator that checks this"
      ]
    },
    {
      "cell_type": "code",
      "execution_count": 18,
      "id": "a97dbe93-a53f-4525-b721-2f329692cdc9",
      "metadata": {
        "execution": {
          "iopub.execute_input": "2024-08-04T14:32:20.694298Z",
          "iopub.status.busy": "2024-08-04T14:32:20.693839Z",
          "iopub.status.idle": "2024-08-04T14:32:20.696845Z",
          "shell.execute_reply": "2024-08-04T14:32:20.696314Z"
        },
        "papermill": {
          "duration": 0.010171,
          "end_time": "2024-08-04T14:32:20.697999",
          "exception": false,
          "start_time": "2024-08-04T14:32:20.687828",
          "status": "completed"
        },
        "tags": []
      },
      "outputs": [],
      "source": [
        "models = _validate_models(models, dag)"
      ]
    },
    {
      "cell_type": "markdown",
      "id": "e9f30a86-aa00-4f51-8b93-3440edc0b46b",
      "metadata": {
        "papermill": {
          "duration": 0.005046,
          "end_time": "2024-08-04T14:32:20.708239",
          "exception": false,
          "start_time": "2024-08-04T14:32:20.703193",
          "status": "completed"
        },
        "tags": []
      },
      "source": [
        "We can now dow a bottom-up simulation. Since at the bottom of the DAG, our circuit is always flat (i.e. not hierarchical) we can implement a minimal `_flat_circuit` definition, which only needs to work on a flat (non-hierarchical circuit):"
      ]
    },
    {
      "cell_type": "code",
      "execution_count": 19,
      "id": "1f415c32-70e4-4b40-a9e2-051fc187cbb9",
      "metadata": {
        "execution": {
          "iopub.execute_input": "2024-08-04T14:32:20.719679Z",
          "iopub.status.busy": "2024-08-04T14:32:20.719242Z",
          "iopub.status.idle": "2024-08-04T14:32:21.557768Z",
          "shell.execute_reply": "2024-08-04T14:32:21.557109Z"
        },
        "papermill": {
          "duration": 0.845617,
          "end_time": "2024-08-04T14:32:21.558935",
          "exception": false,
          "start_time": "2024-08-04T14:32:20.713318",
          "status": "completed"
        },
        "tags": []
      },
      "outputs": [
        {
          "data": {
            "text/plain": [
              "(Array([[0. +0.j, 0.9+0.j],\n",
              "        [0.9+0.j, 0. +0.j]], dtype=complex128),\n",
              " {'o1': 0, 'o2': 1})"
            ]
          },
          "execution_count": 19,
          "metadata": {},
          "output_type": "execute_result"
        }
      ],
      "source": [
        "flatnet = recnet.root[mzi1_comp]\n",
        "single_mzi = _flat_circuit(\n",
        "    flatnet.instances,\n",
        "    flatnet.connections,\n",
        "    flatnet.ports,\n",
        "    models,\n",
        "    \"default\",\n",
        ")\n",
        "single_mzi()"
      ]
    },
    {
      "cell_type": "markdown",
      "id": "c4f3375c-baa3-433f-924a-eff50557bf9f",
      "metadata": {
        "papermill": {
          "duration": 0.005219,
          "end_time": "2024-08-04T14:32:21.569756",
          "exception": false,
          "start_time": "2024-08-04T14:32:21.564537",
          "status": "completed"
        },
        "tags": []
      },
      "source": [
        "The resulting circuit is just another SAX model (i.e. a python function) returing an SType:"
      ]
    },
    {
      "cell_type": "code",
      "execution_count": 20,
      "id": "058740c4-439b-4b00-91e7-15e3e7b6679c",
      "metadata": {
        "execution": {
          "iopub.execute_input": "2024-08-04T14:32:21.581357Z",
          "iopub.status.busy": "2024-08-04T14:32:21.580855Z",
          "iopub.status.idle": "2024-08-04T14:32:21.615327Z",
          "shell.execute_reply": "2024-08-04T14:32:21.614743Z"
        },
        "papermill": {
          "duration": 0.041767,
          "end_time": "2024-08-04T14:32:21.616637",
          "exception": false,
          "start_time": "2024-08-04T14:32:21.574870",
          "status": "completed"
        },
        "tags": []
      },
      "outputs": [],
      "source": [
        "?single_mzi"
      ]
    },
    {
      "cell_type": "markdown",
      "id": "2b2bbe9f-29ac-413a-b0a4-6c51da8689cb",
      "metadata": {
        "papermill": {
          "duration": 0.005331,
          "end_time": "2024-08-04T14:32:21.627623",
          "exception": false,
          "start_time": "2024-08-04T14:32:21.622292",
          "status": "completed"
        },
        "tags": []
      },
      "source": [
        "Let's 'execute' the circuit:"
      ]
    },
    {
      "cell_type": "markdown",
      "id": "42a86f56-ab16-4c04-8738-2480ad378008",
      "metadata": {
        "papermill": {
          "duration": 0.005295,
          "end_time": "2024-08-04T14:32:21.638189",
          "exception": false,
          "start_time": "2024-08-04T14:32:21.632894",
          "status": "completed"
        },
        "tags": []
      },
      "source": [
        "Note that we can also supply multimode models:"
      ]
    },
    {
      "cell_type": "code",
      "execution_count": 21,
      "id": "87bc9f40-e97c-4505-8362-311ce5770077",
      "metadata": {
        "execution": {
          "iopub.execute_input": "2024-08-04T14:32:21.649992Z",
          "iopub.status.busy": "2024-08-04T14:32:21.649707Z",
          "iopub.status.idle": "2024-08-04T14:32:22.438859Z",
          "shell.execute_reply": "2024-08-04T14:32:22.438240Z"
        },
        "papermill": {
          "duration": 0.796633,
          "end_time": "2024-08-04T14:32:22.440110",
          "exception": false,
          "start_time": "2024-08-04T14:32:21.643477",
          "status": "completed"
        },
        "tags": []
      },
      "outputs": [
        {
          "data": {
            "text/plain": [
              "(Array([[0.        +0.j, 0.        +0.j, 0.7482    +0.j, 0.23011426+0.j],\n",
              "        [0.        +0.j, 0.        +0.j, 0.23011426+0.j, 0.5491    +0.j],\n",
              "        [0.7482    +0.j, 0.23011426+0.j, 0.        +0.j, 0.        +0.j],\n",
              "        [0.23011426+0.j, 0.5491    +0.j, 0.        +0.j, 0.        +0.j]],      dtype=complex128),\n",
              " {'o1@TE': 0, 'o1@TM': 1, 'o2@TE': 2, 'o2@TM': 3})"
            ]
          },
          "execution_count": 21,
          "metadata": {},
          "output_type": "execute_result"
        }
      ],
      "source": [
        "flatnet = recnet.root[mzi1_comp]\n",
        "single_mzi = _flat_circuit(\n",
        "    flatnet.instances,\n",
        "    flatnet.connections,\n",
        "    flatnet.ports,\n",
        "    models_mm,\n",
        "    \"default\",\n",
        ")\n",
        "single_mzi()"
      ]
    },
    {
      "cell_type": "markdown",
      "id": "c852f384-c830-47f5-aa75-ee274abbcc35",
      "metadata": {
        "papermill": {
          "duration": 0.005521,
          "end_time": "2024-08-04T14:32:22.451494",
          "exception": false,
          "start_time": "2024-08-04T14:32:22.445973",
          "status": "completed"
        },
        "tags": []
      },
      "source": [
        "Now that we can handle flat circuits the extension to hierarchical circuits is not so difficult:"
      ]
    },
    {
      "cell_type": "markdown",
      "id": "10321c72-bc74-453b-a87a-d5f89295217b",
      "metadata": {
        "papermill": {
          "duration": 0.006276,
          "end_time": "2024-08-04T14:32:22.463069",
          "exception": false,
          "start_time": "2024-08-04T14:32:22.456793",
          "status": "completed"
        },
        "tags": []
      },
      "source": [
        "single mode simulation:"
      ]
    },
    {
      "cell_type": "code",
      "execution_count": 22,
      "id": "6d133b49-6f26-4e01-bcd9-7ca1b76dc55d",
      "metadata": {
        "execution": {
          "iopub.execute_input": "2024-08-04T14:32:22.475027Z",
          "iopub.status.busy": "2024-08-04T14:32:22.474516Z",
          "iopub.status.idle": "2024-08-04T14:32:23.100944Z",
          "shell.execute_reply": "2024-08-04T14:32:23.100231Z"
        },
        "papermill": {
          "duration": 0.633997,
          "end_time": "2024-08-04T14:32:23.102385",
          "exception": false,
          "start_time": "2024-08-04T14:32:22.468388",
          "status": "completed"
        },
        "tags": []
      },
      "outputs": [
        {
          "data": {
            "text/plain": [
              "{('o1', 'o1'): Array(0.+0.j, dtype=complex128),\n",
              " ('o1', 'o2'): Array(0.81+0.j, dtype=complex128),\n",
              " ('o2', 'o1'): Array(0.81+0.j, dtype=complex128),\n",
              " ('o2', 'o2'): Array(0.+0.j, dtype=complex128)}"
            ]
          },
          "execution_count": 22,
          "metadata": {},
          "output_type": "execute_result"
        }
      ],
      "source": [
        "double_mzi, info = sax.circuit(recnet, models, backend=\"default\")\n",
        "double_mzi()"
      ]
    },
    {
      "cell_type": "markdown",
      "id": "3f332edd-909e-452b-b7bd-3a68719a5c20",
      "metadata": {
        "papermill": {
          "duration": 0.014223,
          "end_time": "2024-08-04T14:32:23.123719",
          "exception": false,
          "start_time": "2024-08-04T14:32:23.109496",
          "status": "completed"
        },
        "tags": []
      },
      "source": [
        "multi mode simulation:"
      ]
    },
    {
      "cell_type": "code",
      "execution_count": 23,
      "id": "277ec069-4b46-4d5e-9580-1dd0c28cd9a6",
      "metadata": {
        "execution": {
          "iopub.execute_input": "2024-08-04T14:32:23.154945Z",
          "iopub.status.busy": "2024-08-04T14:32:23.154541Z",
          "iopub.status.idle": "2024-08-04T14:32:23.830454Z",
          "shell.execute_reply": "2024-08-04T14:32:23.829906Z"
        },
        "papermill": {
          "duration": 0.688486,
          "end_time": "2024-08-04T14:32:23.831638",
          "exception": false,
          "start_time": "2024-08-04T14:32:23.143152",
          "status": "completed"
        },
        "tags": []
      },
      "outputs": [
        {
          "data": {
            "text/plain": [
              "{('o1@TE', 'o1@TE'): Array(0.+0.j, dtype=complex128),\n",
              " ('o1@TE', 'o1@TM'): Array(0.+0.j, dtype=complex128),\n",
              " ('o1@TE', 'o2@TE'): Array(0.61275581+0.j, dtype=complex128),\n",
              " ('o1@TE', 'o2@TM'): Array(0.29852723+0.j, dtype=complex128),\n",
              " ('o1@TM', 'o1@TE'): Array(0.+0.j, dtype=complex128),\n",
              " ('o1@TM', 'o1@TM'): Array(0.+0.j, dtype=complex128),\n",
              " ('o1@TM', 'o2@TE'): Array(0.29852723+0.j, dtype=complex128),\n",
              " ('o1@TM', 'o2@TM'): Array(0.35446338+0.j, dtype=complex128),\n",
              " ('o2@TE', 'o1@TE'): Array(0.61275581+0.j, dtype=complex128),\n",
              " ('o2@TE', 'o1@TM'): Array(0.29852723+0.j, dtype=complex128),\n",
              " ('o2@TE', 'o2@TE'): Array(0.+0.j, dtype=complex128),\n",
              " ('o2@TE', 'o2@TM'): Array(0.+0.j, dtype=complex128),\n",
              " ('o2@TM', 'o1@TE'): Array(0.29852723+0.j, dtype=complex128),\n",
              " ('o2@TM', 'o1@TM'): Array(0.35446338+0.j, dtype=complex128),\n",
              " ('o2@TM', 'o2@TE'): Array(0.+0.j, dtype=complex128),\n",
              " ('o2@TM', 'o2@TM'): Array(0.+0.j, dtype=complex128)}"
            ]
          },
          "execution_count": 23,
          "metadata": {},
          "output_type": "execute_result"
        }
      ],
      "source": [
        "double_mzi, info = sax.circuit(\n",
        "    recnet, models_mm, backend=\"default\", return_type=\"sdict\"\n",
        ")\n",
        "double_mzi()"
      ]
    },
    {
      "cell_type": "markdown",
      "id": "e621a2e3-6918-4cfb-8a55-4cc754356020",
      "metadata": {
        "papermill": {
          "duration": 0.005593,
          "end_time": "2024-08-04T14:32:23.843116",
          "exception": false,
          "start_time": "2024-08-04T14:32:23.837523",
          "status": "completed"
        },
        "tags": []
      },
      "source": [
        "sometimes it's useful to get the required circuit model names to be able to create the circuit:"
      ]
    },
    {
      "cell_type": "code",
      "execution_count": 24,
      "id": "99bb5c8f-8094-426d-a5d6-ceb73d80f706",
      "metadata": {
        "execution": {
          "iopub.execute_input": "2024-08-04T14:32:23.855490Z",
          "iopub.status.busy": "2024-08-04T14:32:23.854985Z",
          "iopub.status.idle": "2024-08-04T14:32:23.861213Z",
          "shell.execute_reply": "2024-08-04T14:32:23.860662Z"
        },
        "papermill": {
          "duration": 0.013869,
          "end_time": "2024-08-04T14:32:23.862454",
          "exception": false,
          "start_time": "2024-08-04T14:32:23.848585",
          "status": "completed"
        },
        "tags": []
      },
      "outputs": [
        {
          "data": {
            "text/plain": [
              "['bend_euler', 'mmi1x2', 'straight']"
            ]
          },
          "execution_count": 24,
          "metadata": {},
          "output_type": "execute_result"
        }
      ],
      "source": [
        "sax.get_required_circuit_models(recnet, models)"
      ]
    }
  ],
  "metadata": {
    "kernelspec": {
      "display_name": "Python 3 (ipykernel)",
      "language": "python",
      "name": "python3"
    },
    "language_info": {
      "codemirror_mode": {
        "name": "ipython",
        "version": 3
      },
      "file_extension": ".py",
      "mimetype": "text/x-python",
      "name": "python",
      "nbconvert_exporter": "python",
      "pygments_lexer": "ipython3",
      "version": "3.10.14"
    },
    "papermill": {
      "default_parameters": {},
      "duration": 7.708797,
      "end_time": "2024-08-04T14:32:24.686650",
      "environment_variables": {},
      "exception": null,
      "input_path": "./internals/02_circuit.ipynb",
      "output_path": "./internals/02_circuit.ipynb",
      "parameters": {},
      "start_time": "2024-08-04T14:32:16.977853",
      "version": "2.6.0"
    }
  },
  "nbformat": 4,
  "nbformat_minor": 5
}