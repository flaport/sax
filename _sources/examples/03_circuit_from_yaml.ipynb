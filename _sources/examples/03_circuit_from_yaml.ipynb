{
  "cells": [
    {
      "cell_type": "markdown",
      "id": "0",
      "metadata": {
        "papermill": {
          "duration": 0.003485,
          "end_time": "2025-02-13T09:51:10.333308",
          "exception": false,
          "start_time": "2025-02-13T09:51:10.329823",
          "status": "completed"
        },
        "tags": []
      },
      "source": [
        "# Circuit from YAML\n",
        "> Sometimes it's useful to be able to define circuits from YAML definitions. To not re-invent the wheel, SAX uses [GDSFactory](https://gdsfactory.readthedocs.io/en/latest/yaml.html)'s YAML netlist spec to define its circuits. This makes it very easy to convert a GDSFactory layout to a SAX circuit model!"
      ]
    },
    {
      "cell_type": "code",
      "execution_count": 1,
      "id": "1",
      "metadata": {
        "execution": {
          "iopub.execute_input": "2025-02-13T09:51:10.339870Z",
          "iopub.status.busy": "2025-02-13T09:51:10.339598Z",
          "iopub.status.idle": "2025-02-13T09:51:16.700184Z",
          "shell.execute_reply": "2025-02-13T09:51:16.699522Z"
        },
        "papermill": {
          "duration": 6.365354,
          "end_time": "2025-02-13T09:51:16.701541",
          "exception": false,
          "start_time": "2025-02-13T09:51:10.336187",
          "status": "completed"
        },
        "tags": []
      },
      "outputs": [],
      "source": [
        "import jax.numpy as jnp\n",
        "import matplotlib.pyplot as plt\n",
        "import sax\n",
        "import yaml"
      ]
    },
    {
      "cell_type": "markdown",
      "id": "2",
      "metadata": {
        "papermill": {
          "duration": 0.002607,
          "end_time": "2025-02-13T09:51:16.707216",
          "exception": false,
          "start_time": "2025-02-13T09:51:16.704609",
          "status": "completed"
        },
        "tags": []
      },
      "source": [
        "## MZI"
      ]
    },
    {
      "cell_type": "markdown",
      "id": "3",
      "metadata": {
        "papermill": {
          "duration": 0.00253,
          "end_time": "2025-02-13T09:51:16.712549",
          "exception": false,
          "start_time": "2025-02-13T09:51:16.710019",
          "status": "completed"
        },
        "tags": []
      },
      "source": [
        "Let's first see how we can define a SAX circuit from YAML:"
      ]
    },
    {
      "cell_type": "code",
      "execution_count": 2,
      "id": "4",
      "metadata": {
        "execution": {
          "iopub.execute_input": "2025-02-13T09:51:16.722022Z",
          "iopub.status.busy": "2025-02-13T09:51:16.721374Z",
          "iopub.status.idle": "2025-02-13T09:51:16.725337Z",
          "shell.execute_reply": "2025-02-13T09:51:16.724234Z"
        },
        "papermill": {
          "duration": 0.011368,
          "end_time": "2025-02-13T09:51:16.726493",
          "exception": false,
          "start_time": "2025-02-13T09:51:16.715125",
          "status": "completed"
        },
        "tags": []
      },
      "outputs": [],
      "source": [
        "netlist = \"\"\"\n",
        "instances:\n",
        "    lft:\n",
        "      component: coupler\n",
        "      settings:\n",
        "          coupling: 0.5\n",
        "    rgt:\n",
        "        component: coupler\n",
        "        settings:\n",
        "            coupling: 0.5\n",
        "    top:\n",
        "        component: straight\n",
        "        settings:\n",
        "            length: 25.0\n",
        "    btm:\n",
        "        component: straight\n",
        "        settings:\n",
        "            length: 15.0\n",
        "\n",
        "connections:\n",
        "    lft,out0: btm,in0\n",
        "    btm,out0: rgt,in0\n",
        "    lft,out1: top,in0\n",
        "    top,out0: rgt,in1\n",
        "\n",
        "ports:\n",
        "    in0:  lft,in0\n",
        "    in1:  lft,in1\n",
        "    out0: rgt,out0\n",
        "    out1: rgt,out1\n",
        "\n",
        "\"\"\""
      ]
    },
    {
      "cell_type": "code",
      "execution_count": 3,
      "id": "5",
      "metadata": {
        "execution": {
          "iopub.execute_input": "2025-02-13T09:51:16.732165Z",
          "iopub.status.busy": "2025-02-13T09:51:16.731947Z",
          "iopub.status.idle": "2025-02-13T09:51:16.743172Z",
          "shell.execute_reply": "2025-02-13T09:51:16.742664Z"
        },
        "papermill": {
          "duration": 0.015523,
          "end_time": "2025-02-13T09:51:16.744320",
          "exception": false,
          "start_time": "2025-02-13T09:51:16.728797",
          "status": "completed"
        },
        "tags": []
      },
      "outputs": [
        {
          "data": {
            "text/plain": [
              "{'instances': {'lft': {'component': 'coupler', 'settings': {'coupling': 0.5}},\n",
              "  'rgt': {'component': 'coupler', 'settings': {'coupling': 0.5}},\n",
              "  'top': {'component': 'straight', 'settings': {'length': 25.0}},\n",
              "  'btm': {'component': 'straight', 'settings': {'length': 15.0}}},\n",
              " 'connections': {'lft,out0': 'btm,in0',\n",
              "  'btm,out0': 'rgt,in0',\n",
              "  'lft,out1': 'top,in0',\n",
              "  'top,out0': 'rgt,in1'},\n",
              " 'ports': {'in0': 'lft,in0',\n",
              "  'in1': 'lft,in1',\n",
              "  'out0': 'rgt,out0',\n",
              "  'out1': 'rgt,out1'}}"
            ]
          },
          "execution_count": 3,
          "metadata": {},
          "output_type": "execute_result"
        }
      ],
      "source": [
        "yaml.safe_load(netlist)"
      ]
    },
    {
      "cell_type": "code",
      "execution_count": 4,
      "id": "6",
      "metadata": {
        "execution": {
          "iopub.execute_input": "2025-02-13T09:51:16.750399Z",
          "iopub.status.busy": "2025-02-13T09:51:16.750177Z",
          "iopub.status.idle": "2025-02-13T09:51:17.701708Z",
          "shell.execute_reply": "2025-02-13T09:51:17.701016Z"
        },
        "papermill": {
          "duration": 0.956107,
          "end_time": "2025-02-13T09:51:17.703222",
          "exception": false,
          "start_time": "2025-02-13T09:51:16.747115",
          "status": "completed"
        },
        "tags": []
      },
      "outputs": [],
      "source": [
        "mzi, _ = sax.circuit(\n",
        "    yaml.safe_load(netlist),\n",
        "    models={\"coupler\": sax.models.coupler, \"straight\": sax.models.straight},\n",
        ")"
      ]
    },
    {
      "cell_type": "code",
      "execution_count": 5,
      "id": "7",
      "metadata": {
        "execution": {
          "iopub.execute_input": "2025-02-13T09:51:17.710781Z",
          "iopub.status.busy": "2025-02-13T09:51:17.710525Z",
          "iopub.status.idle": "2025-02-13T09:51:18.597004Z",
          "shell.execute_reply": "2025-02-13T09:51:18.596488Z"
        },
        "papermill": {
          "duration": 0.891474,
          "end_time": "2025-02-13T09:51:18.598390",
          "exception": false,
          "start_time": "2025-02-13T09:51:17.706916",
          "status": "completed"
        },
        "tags": []
      },
      "outputs": [
        {
          "data": {
            "image/png": "[encoded data removed]",
            "text/plain": [
              "<Figure size 640x480 with 1 Axes>"
            ]
          },
          "metadata": {},
          "output_type": "display_data"
        }
      ],
      "source": [
        "wl = jnp.linspace(1.5, 1.6, 1000)\n",
        "transmission = jnp.abs(mzi(wl=wl)[\"in0\", \"out0\"]) ** 2\n",
        "\n",
        "plt.plot(wl * 1e3, transmission)\n",
        "plt.xlabel(\"\u03bb [nm]\")\n",
        "plt.ylabel(\"T\")\n",
        "plt.show()"
      ]
    },
    {
      "cell_type": "markdown",
      "id": "8",
      "metadata": {
        "papermill": {
          "duration": 0.002862,
          "end_time": "2025-02-13T09:51:18.604362",
          "exception": false,
          "start_time": "2025-02-13T09:51:18.601500",
          "status": "completed"
        },
        "tags": []
      },
      "source": [
        "That was easy! However, during the above YAML conversion, only models available in `sax.models` were used. What if we want to map the YAML component names to custom models? Let's say we want to use a dispersionless waveguide for the above model for example:"
      ]
    },
    {
      "cell_type": "code",
      "execution_count": 6,
      "id": "9",
      "metadata": {
        "execution": {
          "iopub.execute_input": "2025-02-13T09:51:18.611027Z",
          "iopub.status.busy": "2025-02-13T09:51:18.610796Z",
          "iopub.status.idle": "2025-02-13T09:51:18.615129Z",
          "shell.execute_reply": "2025-02-13T09:51:18.614665Z"
        },
        "papermill": {
          "duration": 0.008963,
          "end_time": "2025-02-13T09:51:18.616153",
          "exception": false,
          "start_time": "2025-02-13T09:51:18.607190",
          "status": "completed"
        },
        "tags": []
      },
      "outputs": [],
      "source": [
        "def waveguide_without_dispersion(wl=1.55, length=25.0, neff=2.34):\n",
        "    phase = 2 * jnp.pi * neff * length / wl\n",
        "    sdict = sax.reciprocal({(\"in0\", \"out0\"): jnp.exp(1j * phase)})\n",
        "    return sdict"
      ]
    },
    {
      "cell_type": "markdown",
      "id": "10",
      "metadata": {
        "papermill": {
          "duration": 0.003129,
          "end_time": "2025-02-13T09:51:18.622871",
          "exception": false,
          "start_time": "2025-02-13T09:51:18.619742",
          "status": "completed"
        },
        "tags": []
      },
      "source": [
        "We can regenerate the above circuit again, but this time we specify a models mapping:"
      ]
    },
    {
      "cell_type": "code",
      "execution_count": 7,
      "id": "11",
      "metadata": {
        "execution": {
          "iopub.execute_input": "2025-02-13T09:51:18.630279Z",
          "iopub.status.busy": "2025-02-13T09:51:18.629958Z",
          "iopub.status.idle": "2025-02-13T09:51:18.674322Z",
          "shell.execute_reply": "2025-02-13T09:51:18.673714Z"
        },
        "papermill": {
          "duration": 0.049684,
          "end_time": "2025-02-13T09:51:18.675827",
          "exception": false,
          "start_time": "2025-02-13T09:51:18.626143",
          "status": "completed"
        },
        "tags": []
      },
      "outputs": [],
      "source": [
        "mzi, _ = sax.circuit(\n",
        "    yaml.safe_load(netlist),\n",
        "    models={\"straight\": waveguide_without_dispersion, \"coupler\": sax.models.coupler},\n",
        ")"
      ]
    },
    {
      "cell_type": "markdown",
      "id": "12",
      "metadata": {
        "papermill": {
          "duration": 0.003621,
          "end_time": "2025-02-13T09:51:18.683354",
          "exception": false,
          "start_time": "2025-02-13T09:51:18.679733",
          "status": "completed"
        },
        "tags": []
      },
      "source": [
        "> The `models=` keyword in `circuit_from_yaml` can be a dictionary **or** an imported python module (like for example `sax.models`). Or a list containing multiple of such dictionary mappings and imported modules."
      ]
    },
    {
      "cell_type": "code",
      "execution_count": 8,
      "id": "13",
      "metadata": {
        "execution": {
          "iopub.execute_input": "2025-02-13T09:51:18.691250Z",
          "iopub.status.busy": "2025-02-13T09:51:18.691016Z",
          "iopub.status.idle": "2025-02-13T09:51:18.948656Z",
          "shell.execute_reply": "2025-02-13T09:51:18.947841Z"
        },
        "papermill": {
          "duration": 0.263082,
          "end_time": "2025-02-13T09:51:18.949924",
          "exception": false,
          "start_time": "2025-02-13T09:51:18.686842",
          "status": "completed"
        },
        "tags": []
      },
      "outputs": [
        {
          "data": {
            "image/png": "[encoded data removed]",
            "text/plain": [
              "<Figure size 640x480 with 1 Axes>"
            ]
          },
          "metadata": {},
          "output_type": "display_data"
        }
      ],
      "source": [
        "wl = jnp.linspace(1.5, 1.6, 1000)\n",
        "transmission = jnp.abs(mzi(wl=wl)[\"in0\", \"out0\"]) ** 2\n",
        "\n",
        "plt.plot(wl, transmission)\n",
        "plt.xlabel(\"Wavelength [nm]\")\n",
        "plt.ylabel(\"T\")\n",
        "plt.show()"
      ]
    }
  ],
  "metadata": {
    "kernelspec": {
      "display_name": "Python 3 (ipykernel)",
      "language": "python",
      "name": "python3"
    },
    "language_info": {
      "codemirror_mode": {
        "name": "ipython",
        "version": 3
      },
      "file_extension": ".py",
      "mimetype": "text/x-python",
      "name": "python",
      "nbconvert_exporter": "python",
      "pygments_lexer": "ipython3",
      "version": "3.12.3"
    },
    "papermill": {
      "default_parameters": {},
      "duration": 11.884156,
      "end_time": "2025-02-13T09:51:19.678118",
      "environment_variables": {},
      "exception": null,
      "input_path": "./examples/03_circuit_from_yaml.ipynb",
      "output_path": "./examples/03_circuit_from_yaml.ipynb",
      "parameters": {},
      "start_time": "2025-02-13T09:51:07.793962",
      "version": "2.6.0"
    }
  },
  "nbformat": 4,
  "nbformat_minor": 5
}