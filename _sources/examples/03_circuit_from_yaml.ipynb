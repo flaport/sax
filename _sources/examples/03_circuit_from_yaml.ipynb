{
  "cells": [
    {
      "cell_type": "markdown",
      "id": "competitive-seating",
      "metadata": {
        "papermill": {
          "duration": 0.002282,
          "end_time": "2024-06-17T18:49:37.469122",
          "exception": false,
          "start_time": "2024-06-17T18:49:37.466840",
          "status": "completed"
        },
        "tags": []
      },
      "source": [
        "# Circuit from YAML\n",
        "> Sometimes it's useful to be able to define circuits from YAML definitions. To not re-invent the wheel, SAX uses [GDSFactory](https://gdsfactory.readthedocs.io/en/latest/yaml.html)'s YAML netlist spec to define its circuits. This makes it very easy to convert a GDSFactory layout to a SAX circuit model!"
      ]
    },
    {
      "cell_type": "code",
      "execution_count": 1,
      "id": "personalized-recipe",
      "metadata": {
        "execution": {
          "iopub.execute_input": "2024-06-17T18:49:37.474229Z",
          "iopub.status.busy": "2024-06-17T18:49:37.473721Z",
          "iopub.status.idle": "2024-06-17T18:49:38.439618Z",
          "shell.execute_reply": "2024-06-17T18:49:38.439021Z"
        },
        "papermill": {
          "duration": 0.970033,
          "end_time": "2024-06-17T18:49:38.441041",
          "exception": false,
          "start_time": "2024-06-17T18:49:37.471008",
          "status": "completed"
        },
        "tags": []
      },
      "outputs": [],
      "source": [
        "import jax.numpy as jnp\n",
        "import matplotlib.pyplot as plt\n",
        "import sax\n",
        "import yaml"
      ]
    },
    {
      "cell_type": "markdown",
      "id": "featured-liberal",
      "metadata": {
        "papermill": {
          "duration": 0.001655,
          "end_time": "2024-06-17T18:49:38.444635",
          "exception": false,
          "start_time": "2024-06-17T18:49:38.442980",
          "status": "completed"
        },
        "tags": []
      },
      "source": [
        "## MZI"
      ]
    },
    {
      "cell_type": "markdown",
      "id": "collectible-feedback",
      "metadata": {
        "papermill": {
          "duration": 0.001529,
          "end_time": "2024-06-17T18:49:38.447714",
          "exception": false,
          "start_time": "2024-06-17T18:49:38.446185",
          "status": "completed"
        },
        "tags": []
      },
      "source": [
        "Let's first see how we can define a SAX circuit from YAML:"
      ]
    },
    {
      "cell_type": "code",
      "execution_count": 2,
      "id": "fixed-hurricane",
      "metadata": {
        "execution": {
          "iopub.execute_input": "2024-06-17T18:49:38.452056Z",
          "iopub.status.busy": "2024-06-17T18:49:38.451548Z",
          "iopub.status.idle": "2024-06-17T18:49:38.454964Z",
          "shell.execute_reply": "2024-06-17T18:49:38.454423Z"
        },
        "papermill": {
          "duration": 0.006855,
          "end_time": "2024-06-17T18:49:38.456103",
          "exception": false,
          "start_time": "2024-06-17T18:49:38.449248",
          "status": "completed"
        },
        "tags": []
      },
      "outputs": [],
      "source": [
        "netlist = \"\"\"\n",
        "instances:\n",
        "    lft:\n",
        "      component: coupler\n",
        "      settings:\n",
        "          coupling: 0.5\n",
        "    rgt:\n",
        "        component: coupler\n",
        "        settings:\n",
        "            coupling: 0.5\n",
        "    top:\n",
        "        component: straight\n",
        "        settings:\n",
        "            length: 25.0\n",
        "    btm:\n",
        "        component: straight\n",
        "        settings:\n",
        "            length: 15.0\n",
        "\n",
        "connections:\n",
        "    lft,out0: btm,in0\n",
        "    btm,out0: rgt,in0\n",
        "    lft,out1: top,in0\n",
        "    top,out0: rgt,in1\n",
        "\n",
        "ports:\n",
        "    in0:  lft,in0\n",
        "    in1:  lft,in1\n",
        "    out0: rgt,out0\n",
        "    out1: rgt,out1\n",
        "\n",
        "\"\"\""
      ]
    },
    {
      "cell_type": "code",
      "execution_count": 3,
      "id": "f57633a5-10e9-4ddd-a10d-b29c47e26878",
      "metadata": {
        "execution": {
          "iopub.execute_input": "2024-06-17T18:49:38.460296Z",
          "iopub.status.busy": "2024-06-17T18:49:38.459945Z",
          "iopub.status.idle": "2024-06-17T18:49:38.468531Z",
          "shell.execute_reply": "2024-06-17T18:49:38.468030Z"
        },
        "papermill": {
          "duration": 0.011941,
          "end_time": "2024-06-17T18:49:38.469664",
          "exception": false,
          "start_time": "2024-06-17T18:49:38.457723",
          "status": "completed"
        },
        "tags": []
      },
      "outputs": [
        {
          "data": {
            "text/plain": [
              "{'instances': {'lft': {'component': 'coupler', 'settings': {'coupling': 0.5}},\n",
              "  'rgt': {'component': 'coupler', 'settings': {'coupling': 0.5}},\n",
              "  'top': {'component': 'straight', 'settings': {'length': 25.0}},\n",
              "  'btm': {'component': 'straight', 'settings': {'length': 15.0}}},\n",
              " 'connections': {'lft,out0': 'btm,in0',\n",
              "  'btm,out0': 'rgt,in0',\n",
              "  'lft,out1': 'top,in0',\n",
              "  'top,out0': 'rgt,in1'},\n",
              " 'ports': {'in0': 'lft,in0',\n",
              "  'in1': 'lft,in1',\n",
              "  'out0': 'rgt,out0',\n",
              "  'out1': 'rgt,out1'}}"
            ]
          },
          "execution_count": 3,
          "metadata": {},
          "output_type": "execute_result"
        }
      ],
      "source": [
        "yaml.safe_load(netlist)"
      ]
    },
    {
      "cell_type": "code",
      "execution_count": 4,
      "id": "7e91dc2b-bcdb-4a32-ba81-d0e99ed6a562",
      "metadata": {
        "execution": {
          "iopub.execute_input": "2024-06-17T18:49:38.474250Z",
          "iopub.status.busy": "2024-06-17T18:49:38.473911Z",
          "iopub.status.idle": "2024-06-17T18:49:39.141551Z",
          "shell.execute_reply": "2024-06-17T18:49:39.140932Z"
        },
        "papermill": {
          "duration": 0.671481,
          "end_time": "2024-06-17T18:49:39.143024",
          "exception": false,
          "start_time": "2024-06-17T18:49:38.471543",
          "status": "completed"
        },
        "tags": []
      },
      "outputs": [],
      "source": [
        "mzi, _ = sax.circuit(\n",
        "    yaml.safe_load(netlist),\n",
        "    models={\"coupler\": sax.models.coupler, \"straight\": sax.models.straight},\n",
        ")"
      ]
    },
    {
      "cell_type": "code",
      "execution_count": 5,
      "id": "dynamic-commonwealth",
      "metadata": {
        "execution": {
          "iopub.execute_input": "2024-06-17T18:49:39.148081Z",
          "iopub.status.busy": "2024-06-17T18:49:39.147751Z",
          "iopub.status.idle": "2024-06-17T18:49:39.998578Z",
          "shell.execute_reply": "2024-06-17T18:49:39.997890Z"
        },
        "papermill": {
          "duration": 0.854864,
          "end_time": "2024-06-17T18:49:40.000007",
          "exception": false,
          "start_time": "2024-06-17T18:49:39.145143",
          "status": "completed"
        },
        "tags": []
      },
      "outputs": [
        {
          "data": {
            "image/png": "[encoded data removed]",
            "text/plain": [
              "<Figure size 640x480 with 1 Axes>"
            ]
          },
          "metadata": {},
          "output_type": "display_data"
        }
      ],
      "source": [
        "wl = jnp.linspace(1.5, 1.6, 1000)\n",
        "transmission = jnp.abs(mzi(wl=wl)[\"in0\", \"out0\"]) ** 2\n",
        "\n",
        "plt.plot(wl * 1e3, transmission)\n",
        "plt.xlabel(\"\u03bb [nm]\")\n",
        "plt.ylabel(\"T\")\n",
        "plt.show()"
      ]
    },
    {
      "cell_type": "markdown",
      "id": "alpha-married",
      "metadata": {
        "papermill": {
          "duration": 0.002479,
          "end_time": "2024-06-17T18:49:40.005037",
          "exception": false,
          "start_time": "2024-06-17T18:49:40.002558",
          "status": "completed"
        },
        "tags": []
      },
      "source": [
        "That was easy! However, during the above YAML conversion, only models available in `sax.models` were used. What if we want to map the YAML component names to custom models? Let's say we want to use a dispersionless waveguide for the above model for example:"
      ]
    },
    {
      "cell_type": "code",
      "execution_count": 6,
      "id": "important-association",
      "metadata": {
        "execution": {
          "iopub.execute_input": "2024-06-17T18:49:40.010588Z",
          "iopub.status.busy": "2024-06-17T18:49:40.010130Z",
          "iopub.status.idle": "2024-06-17T18:49:40.013626Z",
          "shell.execute_reply": "2024-06-17T18:49:40.013129Z"
        },
        "papermill": {
          "duration": 0.00764,
          "end_time": "2024-06-17T18:49:40.014830",
          "exception": false,
          "start_time": "2024-06-17T18:49:40.007190",
          "status": "completed"
        },
        "tags": []
      },
      "outputs": [],
      "source": [
        "def waveguide_without_dispersion(wl=1.55, length=25.0, neff=2.34):\n",
        "    phase = 2 * jnp.pi * neff * length / wl\n",
        "    sdict = sax.reciprocal({(\"in0\", \"out0\"): jnp.exp(1j * phase)})\n",
        "    return sdict"
      ]
    },
    {
      "cell_type": "markdown",
      "id": "valuable-candidate",
      "metadata": {
        "papermill": {
          "duration": 0.002206,
          "end_time": "2024-06-17T18:49:40.019208",
          "exception": false,
          "start_time": "2024-06-17T18:49:40.017002",
          "status": "completed"
        },
        "tags": []
      },
      "source": [
        "We can regenerate the above circuit again, but this time we specify a models mapping:"
      ]
    },
    {
      "cell_type": "code",
      "execution_count": 7,
      "id": "former-retro",
      "metadata": {
        "execution": {
          "iopub.execute_input": "2024-06-17T18:49:40.025006Z",
          "iopub.status.busy": "2024-06-17T18:49:40.024545Z",
          "iopub.status.idle": "2024-06-17T18:49:40.061090Z",
          "shell.execute_reply": "2024-06-17T18:49:40.060530Z"
        },
        "papermill": {
          "duration": 0.041216,
          "end_time": "2024-06-17T18:49:40.062629",
          "exception": false,
          "start_time": "2024-06-17T18:49:40.021413",
          "status": "completed"
        },
        "tags": []
      },
      "outputs": [],
      "source": [
        "mzi, _ = sax.circuit(\n",
        "    yaml.safe_load(netlist),\n",
        "    models={\"straight\": waveguide_without_dispersion, \"coupler\": sax.models.coupler},\n",
        ")"
      ]
    },
    {
      "cell_type": "markdown",
      "id": "focal-question",
      "metadata": {
        "papermill": {
          "duration": 0.002154,
          "end_time": "2024-06-17T18:49:40.067118",
          "exception": false,
          "start_time": "2024-06-17T18:49:40.064964",
          "status": "completed"
        },
        "tags": []
      },
      "source": [
        "> The `models=` keyword in `circuit_from_yaml` can be a dictionary **or** an imported python module (like for example `sax.models`). Or a list containing multiple of such dictionary mappings and imported modules."
      ]
    },
    {
      "cell_type": "code",
      "execution_count": 8,
      "id": "expired-panel",
      "metadata": {
        "execution": {
          "iopub.execute_input": "2024-06-17T18:49:40.072765Z",
          "iopub.status.busy": "2024-06-17T18:49:40.072347Z",
          "iopub.status.idle": "2024-06-17T18:49:40.194594Z",
          "shell.execute_reply": "2024-06-17T18:49:40.193900Z"
        },
        "papermill": {
          "duration": 0.126624,
          "end_time": "2024-06-17T18:49:40.195931",
          "exception": false,
          "start_time": "2024-06-17T18:49:40.069307",
          "status": "completed"
        },
        "tags": []
      },
      "outputs": [
        {
          "data": {
            "image/png": "[encoded data removed]",
            "text/plain": [
              "<Figure size 640x480 with 1 Axes>"
            ]
          },
          "metadata": {},
          "output_type": "display_data"
        }
      ],
      "source": [
        "wl = jnp.linspace(1.5, 1.6, 1000)\n",
        "transmission = jnp.abs(mzi(wl=wl)[\"in0\", \"out0\"]) ** 2\n",
        "\n",
        "plt.plot(wl, transmission)\n",
        "plt.xlabel(\"Wavelength [nm]\")\n",
        "plt.ylabel(\"T\")\n",
        "plt.show()"
      ]
    }
  ],
  "metadata": {
    "kernelspec": {
      "display_name": "Python 3 (ipykernel)",
      "language": "python",
      "name": "python3"
    },
    "language_info": {
      "codemirror_mode": {
        "name": "ipython",
        "version": 3
      },
      "file_extension": ".py",
      "mimetype": "text/x-python",
      "name": "python",
      "nbconvert_exporter": "python",
      "pygments_lexer": "ipython3",
      "version": "3.10.14"
    },
    "papermill": {
      "default_parameters": {},
      "duration": 4.081957,
      "end_time": "2024-06-17T18:49:40.716955",
      "environment_variables": {},
      "exception": null,
      "input_path": "./examples/03_circuit_from_yaml.ipynb",
      "output_path": "./examples/03_circuit_from_yaml.ipynb",
      "parameters": {},
      "start_time": "2024-06-17T18:49:36.634998",
      "version": "2.6.0"
    }
  },
  "nbformat": 4,
  "nbformat_minor": 5
}