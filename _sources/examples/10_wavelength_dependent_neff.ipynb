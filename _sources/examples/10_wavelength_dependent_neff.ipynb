{
  "cells": [
    {
      "cell_type": "markdown",
      "id": "0",
      "metadata": {
        "papermill": {
          "duration": 0.008863,
          "end_time": "2025-02-27T06:16:07.673740",
          "exception": false,
          "start_time": "2025-02-27T06:16:07.664877",
          "status": "completed"
        },
        "tags": []
      },
      "source": [
        "# Wavelength-dependent Effective Index\n",
        "> Sometimes it's useful to have a wavelength-dependent effective index model."
      ]
    },
    {
      "cell_type": "code",
      "execution_count": 1,
      "id": "2",
      "metadata": {
        "execution": {
          "iopub.execute_input": "2025-02-27T06:16:07.697542Z",
          "iopub.status.busy": "2025-02-27T06:16:07.696159Z",
          "iopub.status.idle": "2025-02-27T06:16:14.951690Z",
          "shell.execute_reply": "2025-02-27T06:16:14.951024Z"
        },
        "papermill": {
          "duration": 7.272791,
          "end_time": "2025-02-27T06:16:14.953052",
          "exception": false,
          "start_time": "2025-02-27T06:16:07.680261",
          "status": "completed"
        },
        "tags": []
      },
      "outputs": [],
      "source": [
        "import json\n",
        "import os\n",
        "from functools import cache\n",
        "\n",
        "import jax\n",
        "import jax.numpy as jnp\n",
        "import matplotlib.pyplot as plt\n",
        "import meow as mw\n",
        "import numpy as np\n",
        "import pandas as pd\n",
        "import sax\n",
        "from sklearn.preprocessing import PolynomialFeatures\n",
        "from tqdm.notebook import tqdm"
      ]
    },
    {
      "cell_type": "markdown",
      "id": "16",
      "metadata": {
        "papermill": {
          "duration": 0.006873,
          "end_time": "2025-02-27T06:16:14.967921",
          "exception": false,
          "start_time": "2025-02-27T06:16:14.961048",
          "status": "completed"
        },
        "tags": []
      },
      "source": [
        "## Waveguide Modes\n",
        "\n",
        "> NOTE: this example shows a simple 1D linear interpolated neff model vs wavelength. To see an example of a grid interpolation over wavelength and width, see the 'Layout Aware' example.\n",
        "\n",
        "We can use [meow](https://github.com/flaport/meow) to calculate the modes in our waveguide."
      ]
    },
    {
      "cell_type": "code",
      "execution_count": 2,
      "id": "17",
      "metadata": {
        "execution": {
          "iopub.execute_input": "2025-02-27T06:16:14.983581Z",
          "iopub.status.busy": "2025-02-27T06:16:14.982690Z",
          "iopub.status.idle": "2025-02-27T06:16:14.995802Z",
          "shell.execute_reply": "2025-02-27T06:16:14.995210Z"
        },
        "papermill": {
          "duration": 0.022382,
          "end_time": "2025-02-27T06:16:14.997226",
          "exception": false,
          "start_time": "2025-02-27T06:16:14.974844",
          "status": "completed"
        },
        "tags": []
      },
      "outputs": [],
      "source": [
        "def find_waveguide_modes(\n",
        "    wl: float = 1.55,\n",
        "    n_box: float = 1.4,\n",
        "    n_clad: float = 1.4,\n",
        "    n_core: float = 3.4,\n",
        "    t_slab: float = 0.1,\n",
        "    t_soi: float = 0.22,\n",
        "    w_core: float = 0.45,\n",
        "    du=0.02,\n",
        "    n_modes: int = 10,\n",
        "    cache_path: str = \"modes\",\n",
        "    replace_cached: bool = False,\n",
        "):\n",
        "    length = 10.0\n",
        "    delta = 10 * du\n",
        "    env = mw.Environment(wl=wl)\n",
        "    cache_path = os.path.abspath(cache_path)\n",
        "    os.makedirs(cache_path, exist_ok=True)\n",
        "    fn = f\"{wl=:.2f}-{n_box=:.2f}-{n_clad=:.2f}-{n_core=:.2f}-{t_slab=:.3f}-{t_soi=:.3f}-{w_core=:.3f}-{du=:.3f}-{n_modes=}.json\"\n",
        "    path = os.path.join(cache_path, fn)\n",
        "    if not replace_cached and os.path.exists(path):\n",
        "        return [mw.Mode.model_validate(mode) for mode in json.load(open(path, \"r\"))]\n",
        "\n",
        "    # fmt: off\n",
        "    m_core = mw.SampledMaterial(name=\"slab\", n=np.asarray([n_core, n_core]), params={\"wl\": np.asarray([1.0, 2.0])}, meta={\"color\": (0.9, 0, 0, 0.9)})\n",
        "    m_clad = mw.SampledMaterial(name=\"clad\", n=np.asarray([n_clad, n_clad]), params={\"wl\": np.asarray([1.0, 2.0])}) \n",
        "    m_box = mw.SampledMaterial(name=\"box\", n=np.asarray([n_box, n_box]), params={\"wl\": np.asarray([1.0, 2.0])})\n",
        "    box = mw.Structure(material=m_box, geometry=mw.Box(x_min=- 2 * w_core - delta, x_max= 2 * w_core + delta, y_min=- 2 * t_soi - delta, y_max=0.0, z_min=0.0, z_max=length))\n",
        "    slab = mw.Structure(material=m_core, geometry=mw.Box(x_min=-2 * w_core - delta, x_max=2 * w_core + delta, y_min=0.0, y_max=t_slab, z_min=0.0, z_max=length))\n",
        "    clad = mw.Structure(material=m_clad, geometry=mw.Box(x_min=-2 * w_core - delta, x_max=2 * w_core + delta, y_min=0, y_max=3 * t_soi + delta, z_min=0.0, z_max=length))\n",
        "    core = mw.Structure(material=m_core, geometry=mw.Box(x_min=-w_core / 2, x_max=w_core / 2, y_min=0.0, y_max=t_soi, z_min=0.0, z_max=length))\n",
        "    \n",
        "    cell = mw.Cell(structures=[box, clad, slab, core], mesh=mw.Mesh2D( x=np.arange(-2*w_core, 2*w_core, du), y=np.arange(-2*t_soi, 3*t_soi, du), ), z_min=0.0, z_max=10.0)\n",
        "    cross_section = mw.CrossSection.from_cell(cell=cell, env=env)\n",
        "    modes = mw.compute_modes(cross_section, num_modes=n_modes)\n",
        "    # fmt: on\n",
        "\n",
        "    json.dump([json.loads(mode.model_dump_json()) for mode in modes], open(path, \"w\"))\n",
        "\n",
        "    return modes"
      ]
    },
    {
      "cell_type": "markdown",
      "id": "18",
      "metadata": {
        "papermill": {
          "duration": 0.006415,
          "end_time": "2025-02-27T06:16:15.010336",
          "exception": false,
          "start_time": "2025-02-27T06:16:15.003921",
          "status": "completed"
        },
        "tags": []
      },
      "source": [
        "We can also create a rudimentary model for the silicon refractive index:"
      ]
    },
    {
      "cell_type": "code",
      "execution_count": 3,
      "id": "19",
      "metadata": {
        "execution": {
          "iopub.execute_input": "2025-02-27T06:16:15.024769Z",
          "iopub.status.busy": "2025-02-27T06:16:15.024500Z",
          "iopub.status.idle": "2025-02-27T06:16:15.028216Z",
          "shell.execute_reply": "2025-02-27T06:16:15.027722Z"
        },
        "papermill": {
          "duration": 0.012221,
          "end_time": "2025-02-27T06:16:15.029298",
          "exception": false,
          "start_time": "2025-02-27T06:16:15.017077",
          "status": "completed"
        },
        "tags": []
      },
      "outputs": [],
      "source": [
        "def silicon_index(wl):\n",
        "    \"\"\"a rudimentary silicon refractive index model\"\"\"\n",
        "    a, b = 0.2411478522088102, 3.3229394315868976\n",
        "    return a / wl + b"
      ]
    },
    {
      "cell_type": "markdown",
      "id": "20",
      "metadata": {
        "papermill": {
          "duration": 0.008833,
          "end_time": "2025-02-27T06:16:15.047804",
          "exception": false,
          "start_time": "2025-02-27T06:16:15.038971",
          "status": "completed"
        },
        "tags": []
      },
      "source": [
        "We can now easily calculate the modes of a strip waveguide:"
      ]
    },
    {
      "cell_type": "code",
      "execution_count": 4,
      "id": "21",
      "metadata": {
        "execution": {
          "iopub.execute_input": "2025-02-27T06:16:15.062795Z",
          "iopub.status.busy": "2025-02-27T06:16:15.061518Z",
          "iopub.status.idle": "2025-02-27T06:16:16.850553Z",
          "shell.execute_reply": "2025-02-27T06:16:16.849901Z"
        },
        "papermill": {
          "duration": 1.798014,
          "end_time": "2025-02-27T06:16:16.852017",
          "exception": false,
          "start_time": "2025-02-27T06:16:15.054003",
          "status": "completed"
        },
        "tags": []
      },
      "outputs": [],
      "source": [
        "modes = find_waveguide_modes(wl=1.5, n_core=silicon_index(wl=1.5))"
      ]
    },
    {
      "cell_type": "markdown",
      "id": "22",
      "metadata": {
        "papermill": {
          "duration": 0.00657,
          "end_time": "2025-02-27T06:16:16.865452",
          "exception": false,
          "start_time": "2025-02-27T06:16:16.858882",
          "status": "completed"
        },
        "tags": []
      },
      "source": [
        "The fundamental mode is the mode with index 0:"
      ]
    },
    {
      "cell_type": "code",
      "execution_count": 5,
      "id": "23",
      "metadata": {
        "execution": {
          "iopub.execute_input": "2025-02-27T06:16:16.879591Z",
          "iopub.status.busy": "2025-02-27T06:16:16.879304Z",
          "iopub.status.idle": "2025-02-27T06:16:17.364181Z",
          "shell.execute_reply": "2025-02-27T06:16:17.363608Z"
        },
        "papermill": {
          "duration": 0.493002,
          "end_time": "2025-02-27T06:16:17.365221",
          "exception": false,
          "start_time": "2025-02-27T06:16:16.872219",
          "status": "completed"
        },
        "tags": []
      },
      "outputs": [
        {
          "data": {
            "image/png": "[encoded data removed]",
            "text/plain": [
              "<Figure size 640x480 with 2 Axes>"
            ]
          },
          "metadata": {},
          "output_type": "display_data"
        }
      ],
      "source": [
        "mw.visualize(modes[0])"
      ]
    },
    {
      "cell_type": "markdown",
      "id": "9afa5539-0ab5-481e-9bd3-de0636f2e196",
      "metadata": {
        "papermill": {
          "duration": 0.007864,
          "end_time": "2025-02-27T06:16:17.382062",
          "exception": false,
          "start_time": "2025-02-27T06:16:17.374198",
          "status": "completed"
        },
        "tags": []
      },
      "source": [
        "## Interpolated Effective Index Model"
      ]
    },
    {
      "cell_type": "markdown",
      "id": "661447c0-efe1-49d4-835e-126d15435dc5",
      "metadata": {
        "papermill": {
          "duration": 0.007972,
          "end_time": "2025-02-27T06:16:17.398061",
          "exception": false,
          "start_time": "2025-02-27T06:16:17.390089",
          "status": "completed"
        },
        "tags": []
      },
      "source": [
        "```{note}\n",
        "An interpolated effective index model is the easiest way to convert simulation data to a SAX model. However please never interpolated noisy data (e.g. from measurements). To handle noisy data see [Effective Index Model Fitting](#effective-index-model-fitting).\n",
        "```"
      ]
    },
    {
      "cell_type": "code",
      "execution_count": 6,
      "id": "24",
      "metadata": {
        "execution": {
          "iopub.execute_input": "2025-02-27T06:16:17.416909Z",
          "iopub.status.busy": "2025-02-27T06:16:17.415755Z",
          "iopub.status.idle": "2025-02-27T06:16:40.126032Z",
          "shell.execute_reply": "2025-02-27T06:16:40.125457Z"
        },
        "papermill": {
          "duration": 22.720797,
          "end_time": "2025-02-27T06:16:40.127096",
          "exception": false,
          "start_time": "2025-02-27T06:16:17.406299",
          "status": "completed"
        },
        "tags": []
      },
      "outputs": [
        {
          "data": {
            "application/vnd.jupyter.widget-view+json": {
              "model_id": "0f9c069f3feb46abb3f5b9df898e927e",
              "version_major": 2,
              "version_minor": 0
            },
            "text/plain": [
              "  0%|          | 0/11 [00:00<?, ?it/s]"
            ]
          },
          "metadata": {},
          "output_type": "display_data"
        }
      ],
      "source": [
        "wavelengths = np.linspace(1.0, 2.0, 11)\n",
        "neffs = np.zeros_like(wavelengths)\n",
        "for i, wl in enumerate(tqdm(wavelengths)):\n",
        "    modes = find_waveguide_modes(\n",
        "        wl=wl, n_core=silicon_index(wl), w_core=0.5, replace_cached=False\n",
        "    )\n",
        "    neffs[i] = np.real(modes[0].neff)"
      ]
    },
    {
      "cell_type": "markdown",
      "id": "25",
      "metadata": {
        "papermill": {
          "duration": 0.008099,
          "end_time": "2025-02-27T06:16:40.143576",
          "exception": false,
          "start_time": "2025-02-27T06:16:40.135477",
          "status": "completed"
        },
        "tags": []
      },
      "source": [
        "This results in the following effective indices:"
      ]
    },
    {
      "cell_type": "code",
      "execution_count": 7,
      "id": "26",
      "metadata": {
        "execution": {
          "iopub.execute_input": "2025-02-27T06:16:40.162343Z",
          "iopub.status.busy": "2025-02-27T06:16:40.160751Z",
          "iopub.status.idle": "2025-02-27T06:16:40.290062Z",
          "shell.execute_reply": "2025-02-27T06:16:40.289458Z"
        },
        "papermill": {
          "duration": 0.139582,
          "end_time": "2025-02-27T06:16:40.291420",
          "exception": false,
          "start_time": "2025-02-27T06:16:40.151838",
          "status": "completed"
        },
        "tags": []
      },
      "outputs": [
        {
          "data": {
            "image/png": "[encoded data removed]",
            "text/plain": [
              "<Figure size 800x300 with 1 Axes>"
            ]
          },
          "metadata": {},
          "output_type": "display_data"
        }
      ],
      "source": [
        "plt.figure(figsize=(8, 3))\n",
        "plt.plot(wavelengths * 1000, neffs)\n",
        "plt.ylabel(\"neff\")\n",
        "plt.xlabel(\"\u03bb [nm]\")\n",
        "plt.title(\"Effective Index\")\n",
        "plt.grid(True)\n",
        "plt.show()"
      ]
    },
    {
      "cell_type": "markdown",
      "id": "1ee92538-95d5-4458-a183-152fddf7f876",
      "metadata": {
        "papermill": {
          "duration": 0.008839,
          "end_time": "2025-02-27T06:16:40.309885",
          "exception": false,
          "start_time": "2025-02-27T06:16:40.301046",
          "status": "completed"
        },
        "tags": []
      },
      "source": [
        "We can store the data in a csv:"
      ]
    },
    {
      "cell_type": "code",
      "execution_count": 8,
      "id": "114d3070-183f-49e4-9238-d1b64fa9cee3",
      "metadata": {
        "execution": {
          "iopub.execute_input": "2025-02-27T06:16:40.330490Z",
          "iopub.status.busy": "2025-02-27T06:16:40.330129Z",
          "iopub.status.idle": "2025-02-27T06:16:40.341763Z",
          "shell.execute_reply": "2025-02-27T06:16:40.339001Z"
        },
        "papermill": {
          "duration": 0.024167,
          "end_time": "2025-02-27T06:16:40.343020",
          "exception": false,
          "start_time": "2025-02-27T06:16:40.318853",
          "status": "completed"
        },
        "tags": []
      },
      "outputs": [],
      "source": [
        "df = pd.DataFrame({\"wl\": wavelengths, \"neff\": neffs})\n",
        "df.to_csv(\"neff_data.csv\", index=False)"
      ]
    },
    {
      "cell_type": "markdown",
      "id": "14393849-cbe1-4158-ac57-10a29fa4afc2",
      "metadata": {
        "papermill": {
          "duration": 0.0084,
          "end_time": "2025-02-27T06:16:40.361758",
          "exception": false,
          "start_time": "2025-02-27T06:16:40.353358",
          "status": "completed"
        },
        "tags": []
      },
      "source": [
        "First, define a cached data loader:"
      ]
    },
    {
      "cell_type": "code",
      "execution_count": 9,
      "id": "e21e87bf-ea77-4a1a-828f-f6cf9fa6657c",
      "metadata": {
        "execution": {
          "iopub.execute_input": "2025-02-27T06:16:40.380515Z",
          "iopub.status.busy": "2025-02-27T06:16:40.380259Z",
          "iopub.status.idle": "2025-02-27T06:16:40.386193Z",
          "shell.execute_reply": "2025-02-27T06:16:40.385041Z"
        },
        "papermill": {
          "duration": 0.01713,
          "end_time": "2025-02-27T06:16:40.387515",
          "exception": false,
          "start_time": "2025-02-27T06:16:40.370385",
          "status": "completed"
        },
        "tags": []
      },
      "outputs": [],
      "source": [
        "@cache\n",
        "def load_neff_data():\n",
        "    df = pd.read_csv(\"neff_data.csv\")\n",
        "    wls = jnp.asarray(df[\"wl\"].values)  # convert to JAX array\n",
        "    neffs = jnp.asarray(df[\"neff\"].values)  # convert to JAX array\n",
        "    return wls, neffs"
      ]
    },
    {
      "cell_type": "markdown",
      "id": "27",
      "metadata": {
        "papermill": {
          "duration": 0.009629,
          "end_time": "2025-02-27T06:16:40.407203",
          "exception": false,
          "start_time": "2025-02-27T06:16:40.397574",
          "status": "completed"
        },
        "tags": []
      },
      "source": [
        "We can do a simple interpolation on the effective index:"
      ]
    },
    {
      "cell_type": "code",
      "execution_count": 10,
      "id": "f68c2788-57c7-4e69-8504-a3deed85bc5a",
      "metadata": {
        "execution": {
          "iopub.execute_input": "2025-02-27T06:16:40.428453Z",
          "iopub.status.busy": "2025-02-27T06:16:40.427242Z",
          "iopub.status.idle": "2025-02-27T06:16:40.432658Z",
          "shell.execute_reply": "2025-02-27T06:16:40.432102Z"
        },
        "papermill": {
          "duration": 0.01743,
          "end_time": "2025-02-27T06:16:40.434042",
          "exception": false,
          "start_time": "2025-02-27T06:16:40.416612",
          "status": "completed"
        },
        "tags": []
      },
      "outputs": [],
      "source": [
        "def interp_neff(wl=1.5):\n",
        "    # usually we put data loading in a block like this\n",
        "    # to tell JAX this part of the code should not be traced while jitting:\n",
        "    with jax.ensure_compile_time_eval():\n",
        "        wls, neffs = load_neff_data()\n",
        "\n",
        "    # next make sure 'wl' is an array\n",
        "    wl = jnp.asarray(wl)\n",
        "\n",
        "    # now, interpolate\n",
        "    # return jnp.interp(wl, wls, neffs)\n",
        "\n",
        "    # it's actually slightly better to interpolate effective\n",
        "    # indices in the frequency domain because neff is more\n",
        "    # linear in that representation:\n",
        "    return jnp.interp(\n",
        "        1 / wl, 1 / wls[::-1], neffs[::-1]\n",
        "    )  # jnp.interp expects neffs to be sorted low to high. We're inverting the direction when taking the inverse:"
      ]
    },
    {
      "cell_type": "markdown",
      "id": "b62d14f5-0884-4c34-bf4e-cc3b03ec5b37",
      "metadata": {
        "papermill": {
          "duration": 0.010099,
          "end_time": "2025-02-27T06:16:40.453634",
          "exception": false,
          "start_time": "2025-02-27T06:16:40.443535",
          "status": "completed"
        },
        "tags": []
      },
      "source": [
        "```{note}\n",
        "If you want something fancier than linear interpolation, check out [interpax](https://github.com/f0uriest/interpax), which allows for cubic interpolation in jax on 1D (e.g. wl), 2D (e.g. wl and width) and 3D (e.g. wl, width and temperature) data.\n",
        "```"
      ]
    },
    {
      "cell_type": "code",
      "execution_count": 11,
      "id": "662102a9-7411-48e6-a47e-008c6224d53d",
      "metadata": {
        "execution": {
          "iopub.execute_input": "2025-02-27T06:16:40.475079Z",
          "iopub.status.busy": "2025-02-27T06:16:40.473953Z",
          "iopub.status.idle": "2025-02-27T06:16:41.073127Z",
          "shell.execute_reply": "2025-02-27T06:16:41.072569Z"
        },
        "papermill": {
          "duration": 0.611607,
          "end_time": "2025-02-27T06:16:41.074678",
          "exception": false,
          "start_time": "2025-02-27T06:16:40.463071",
          "status": "completed"
        },
        "tags": []
      },
      "outputs": [
        {
          "name": "stdout",
          "output_type": "stream",
          "text": [
            "2.5049856442360503\n",
            "[2.50850865 2.38468891]\n"
          ]
        },
        {
          "name": "stdout",
          "output_type": "stream",
          "text": [
            "[[2.53225532 2.38135659]\n",
            " [2.3733323  2.28543688]]\n"
          ]
        }
      ],
      "source": [
        "print(interp_neff(1.6452))\n",
        "print(interp_neff([1.641, 1.79432]))\n",
        "print(interp_neff([[1.61324, 1.7987], [1.8087, 1.9234]]))"
      ]
    },
    {
      "cell_type": "markdown",
      "id": "cefdb706-6954-4efc-8e8a-d8c83712f25f",
      "metadata": {
        "papermill": {
          "duration": 0.008937,
          "end_time": "2025-02-27T06:16:41.092839",
          "exception": false,
          "start_time": "2025-02-27T06:16:41.083902",
          "status": "completed"
        },
        "tags": []
      },
      "source": [
        "That's it! You can now create a waveguide model as follows:"
      ]
    },
    {
      "cell_type": "code",
      "execution_count": 12,
      "id": "89f86779-2310-4efe-878d-fd7c78b3ba60",
      "metadata": {
        "execution": {
          "iopub.execute_input": "2025-02-27T06:16:41.112192Z",
          "iopub.status.busy": "2025-02-27T06:16:41.111897Z",
          "iopub.status.idle": "2025-02-27T06:16:41.117634Z",
          "shell.execute_reply": "2025-02-27T06:16:41.117114Z"
        },
        "papermill": {
          "duration": 0.016498,
          "end_time": "2025-02-27T06:16:41.118802",
          "exception": false,
          "start_time": "2025-02-27T06:16:41.102304",
          "status": "completed"
        },
        "tags": []
      },
      "outputs": [],
      "source": [
        "def straight(\n",
        "    *,\n",
        "    wl=1.55,\n",
        "    length: float = 10.0,\n",
        "    loss: float = 0.0,\n",
        "):\n",
        "    \"\"\"A simple straight waveguide model.\n",
        "\n",
        "    Args:\n",
        "        wl: wavelength in microns.\n",
        "        length: length of the waveguide in microns.\n",
        "        loss: loss in dB/cm.\n",
        "    \"\"\"\n",
        "    neff = interp_neff(wl)\n",
        "    phase = 2 * jnp.pi * neff * length / wl\n",
        "    amplitude = jnp.asarray(10 ** (-loss * length / 20), dtype=complex)\n",
        "    transmission = amplitude * jnp.exp(1j * phase)\n",
        "    return sax.reciprocal(\n",
        "        {\n",
        "            (\"in0\", \"out0\"): transmission,\n",
        "        }\n",
        "    )"
      ]
    },
    {
      "cell_type": "code",
      "execution_count": 13,
      "id": "766e9d89-3521-4bea-a0cf-cf3285d0a818",
      "metadata": {
        "execution": {
          "iopub.execute_input": "2025-02-27T06:16:41.138223Z",
          "iopub.status.busy": "2025-02-27T06:16:41.137605Z",
          "iopub.status.idle": "2025-02-27T06:16:41.256618Z",
          "shell.execute_reply": "2025-02-27T06:16:41.256037Z"
        },
        "papermill": {
          "duration": 0.130048,
          "end_time": "2025-02-27T06:16:41.257921",
          "exception": false,
          "start_time": "2025-02-27T06:16:41.127873",
          "status": "completed"
        },
        "tags": []
      },
      "outputs": [
        {
          "data": {
            "text/plain": [
              "{('in0', 'out0'): Array(-0.42264116-0.90629711j, dtype=complex128),\n",
              " ('out0', 'in0'): Array(-0.42264116-0.90629711j, dtype=complex128)}"
            ]
          },
          "execution_count": 13,
          "metadata": {},
          "output_type": "execute_result"
        }
      ],
      "source": [
        "straight()"
      ]
    },
    {
      "cell_type": "markdown",
      "id": "e6441446-842a-4a32-9632-7050f1d3a8cf",
      "metadata": {
        "papermill": {
          "duration": 0.009626,
          "end_time": "2025-02-27T06:16:41.277083",
          "exception": false,
          "start_time": "2025-02-27T06:16:41.267457",
          "status": "completed"
        },
        "tags": []
      },
      "source": [
        "```{note}\n",
        "Note that we don't need the group index for this model! All the group index info is actually already available in the effective index model through `ng = neff - \u03bb dneff/d\u03bb`.\n",
        "```"
      ]
    },
    {
      "cell_type": "markdown",
      "id": "7d1f59ae-b7dc-49a9-a736-b257a6fcf7b7",
      "metadata": {
        "papermill": {
          "duration": 0.00906,
          "end_time": "2025-02-27T06:16:41.295844",
          "exception": false,
          "start_time": "2025-02-27T06:16:41.286784",
          "status": "completed"
        },
        "tags": []
      },
      "source": [
        "## Effective Index Model Fitting"
      ]
    },
    {
      "cell_type": "markdown",
      "id": "51ce2c58-c8f9-49da-a1d5-988fa8c4eb43",
      "metadata": {
        "papermill": {
          "duration": 0.009487,
          "end_time": "2025-02-27T06:16:41.315316",
          "exception": false,
          "start_time": "2025-02-27T06:16:41.305829",
          "status": "completed"
        },
        "tags": []
      },
      "source": [
        "interpolating is a good choice when using 'clean' simulation data. However, when using noisy measurement data we might need something else."
      ]
    },
    {
      "cell_type": "markdown",
      "id": "5fedd828-89f7-4f0c-9fd6-3aef59937b18",
      "metadata": {
        "papermill": {
          "duration": 0.019203,
          "end_time": "2025-02-27T06:16:41.350653",
          "exception": false,
          "start_time": "2025-02-27T06:16:41.331450",
          "status": "completed"
        },
        "tags": []
      },
      "source": [
        "Let's create a fake 'noisy measurement' by adding noise to our interpolated model:"
      ]
    },
    {
      "cell_type": "code",
      "execution_count": 14,
      "id": "06da824b-33d6-4c7a-a8a4-5dbd532fc9f0",
      "metadata": {
        "execution": {
          "iopub.execute_input": "2025-02-27T06:16:41.369956Z",
          "iopub.status.busy": "2025-02-27T06:16:41.368876Z",
          "iopub.status.idle": "2025-02-27T06:16:41.375449Z",
          "shell.execute_reply": "2025-02-27T06:16:41.374028Z"
        },
        "papermill": {
          "duration": 0.019304,
          "end_time": "2025-02-27T06:16:41.378753",
          "exception": false,
          "start_time": "2025-02-27T06:16:41.359449",
          "status": "completed"
        },
        "tags": []
      },
      "outputs": [],
      "source": [
        "def measure_neff(wls, std=0.01, random_state=np.random):\n",
        "    wls = jnp.array(wls)\n",
        "    return interp_neff(wls) * (1 + std * random_state.randn(*wls.shape))"
      ]
    },
    {
      "cell_type": "markdown",
      "id": "66bc365a-ecda-4a0f-9461-fd195b67876a",
      "metadata": {
        "papermill": {
          "duration": 0.02256,
          "end_time": "2025-02-27T06:16:41.421087",
          "exception": false,
          "start_time": "2025-02-27T06:16:41.398527",
          "status": "completed"
        },
        "tags": []
      },
      "source": [
        "We can do 20 measurements for example:"
      ]
    },
    {
      "cell_type": "code",
      "execution_count": 15,
      "id": "65687412-4a36-4075-887b-b33ce92e13b2",
      "metadata": {
        "execution": {
          "iopub.execute_input": "2025-02-27T06:16:41.457622Z",
          "iopub.status.busy": "2025-02-27T06:16:41.457366Z",
          "iopub.status.idle": "2025-02-27T06:16:41.683489Z",
          "shell.execute_reply": "2025-02-27T06:16:41.682864Z"
        },
        "papermill": {
          "duration": 0.248032,
          "end_time": "2025-02-27T06:16:41.685771",
          "exception": false,
          "start_time": "2025-02-27T06:16:41.437739",
          "status": "completed"
        },
        "tags": []
      },
      "outputs": [],
      "source": [
        "random_state = np.random.RandomState(seed=42)\n",
        "measured_neff = np.stack(\n",
        "    [measure_neff(wavelengths, random_state=random_state) for _ in range(20)], 0\n",
        ")"
      ]
    },
    {
      "cell_type": "code",
      "execution_count": 16,
      "id": "654199ba-14d7-44b7-9f14-3c7651d4e4df",
      "metadata": {
        "execution": {
          "iopub.execute_input": "2025-02-27T06:16:41.732030Z",
          "iopub.status.busy": "2025-02-27T06:16:41.731687Z",
          "iopub.status.idle": "2025-02-27T06:16:41.972022Z",
          "shell.execute_reply": "2025-02-27T06:16:41.969783Z"
        },
        "papermill": {
          "duration": 0.266925,
          "end_time": "2025-02-27T06:16:41.973808",
          "exception": false,
          "start_time": "2025-02-27T06:16:41.706883",
          "status": "completed"
        },
        "tags": []
      },
      "outputs": [
        {
          "data": {
            "image/png": "[encoded data removed]",
            "text/plain": [
              "<Figure size 640x480 with 1 Axes>"
            ]
          },
          "metadata": {},
          "output_type": "display_data"
        }
      ],
      "source": [
        "plt.plot(\n",
        "    1000 * wavelengths, measured_neff.T, marker=\"o\", ls=\"none\", color=\"C0\", alpha=0.2\n",
        ")\n",
        "plt.grid(True)\n",
        "plt.xlabel(\"Wavelength [nm]\")\n",
        "plt.ylabel(\"neff\")\n",
        "plt.title(\"neff measurements\")\n",
        "plt.show()"
      ]
    },
    {
      "cell_type": "code",
      "execution_count": 17,
      "id": "787643e9-c188-4755-b96a-6218926e5b6e",
      "metadata": {
        "execution": {
          "iopub.execute_input": "2025-02-27T06:16:41.997794Z",
          "iopub.status.busy": "2025-02-27T06:16:41.996826Z",
          "iopub.status.idle": "2025-02-27T06:16:42.005386Z",
          "shell.execute_reply": "2025-02-27T06:16:42.004837Z"
        },
        "papermill": {
          "duration": 0.020276,
          "end_time": "2025-02-27T06:16:42.006466",
          "exception": false,
          "start_time": "2025-02-27T06:16:41.986190",
          "status": "completed"
        },
        "tags": []
      },
      "outputs": [
        {
          "data": {
            "text/plain": [
              "array([[1.        , 3.10872665, 2.99229414, ..., 5.36318207, 5.13974782,\n",
              "        4.925622  ],\n",
              "       [1.        , 3.07895478, 3.00368739, ..., 5.46211369, 5.19931992,\n",
              "        4.94916971],\n",
              "       [1.        , 3.09545038, 2.95374546, ..., 5.50381918, 5.23023584,\n",
              "        4.97025176],\n",
              "       ...,\n",
              "       [1.        , 3.09110863, 2.9710635 , ..., 5.21208448, 5.09824434,\n",
              "        4.98689065],\n",
              "       [1.        , 3.09516209, 2.96218875, ..., 5.36011275, 5.18878722,\n",
              "        5.02293776],\n",
              "       [1.        , 3.2125404 , 3.01354351, ..., 5.25407883, 5.11506948,\n",
              "        4.97973796]], shape=(20, 78))"
            ]
          },
          "execution_count": 17,
          "metadata": {},
          "output_type": "execute_result"
        }
      ],
      "source": [
        "poly = PolynomialFeatures(degree=2, include_bias=True)\n",
        "poly.fit(measured_neff, wavelengths)\n",
        "poly.transform(measured_neff)"
      ]
    },
    {
      "cell_type": "code",
      "execution_count": 18,
      "id": "2647084c-7b0c-4f72-8486-497be7220224",
      "metadata": {
        "execution": {
          "iopub.execute_input": "2025-02-27T06:16:42.028291Z",
          "iopub.status.busy": "2025-02-27T06:16:42.028030Z",
          "iopub.status.idle": "2025-02-27T06:16:42.033496Z",
          "shell.execute_reply": "2025-02-27T06:16:42.032874Z"
        },
        "papermill": {
          "duration": 0.017953,
          "end_time": "2025-02-27T06:16:42.034778",
          "exception": false,
          "start_time": "2025-02-27T06:16:42.016825",
          "status": "completed"
        },
        "tags": []
      },
      "outputs": [
        {
          "name": "stdout",
          "output_type": "stream",
          "text": [
            "[ 0.14164498 -1.28752935  4.24077288]\n"
          ]
        }
      ],
      "source": [
        "coeffs = np.polyfit(\n",
        "    x=np.stack([wavelengths for _ in measured_neff]).ravel(),\n",
        "    y=measured_neff.ravel(),\n",
        "    deg=2,\n",
        ")\n",
        "print(coeffs)"
      ]
    },
    {
      "cell_type": "code",
      "execution_count": 19,
      "id": "f52b99df-58eb-4f6c-8b0c-452610d4a5d9",
      "metadata": {
        "execution": {
          "iopub.execute_input": "2025-02-27T06:16:42.055917Z",
          "iopub.status.busy": "2025-02-27T06:16:42.055657Z",
          "iopub.status.idle": "2025-02-27T06:16:42.060761Z",
          "shell.execute_reply": "2025-02-27T06:16:42.060286Z"
        },
        "papermill": {
          "duration": 0.017194,
          "end_time": "2025-02-27T06:16:42.062206",
          "exception": false,
          "start_time": "2025-02-27T06:16:42.045012",
          "status": "completed"
        },
        "tags": []
      },
      "outputs": [],
      "source": [
        "def fitted_neff(wl=1.5):\n",
        "    # always make sure its an array:\n",
        "    wl = jnp.asarray(wl)\n",
        "\n",
        "    # it's fine to hardoce a few coefficients:\n",
        "    coeffs = jnp.asarray([0.14164498, -1.28752935, 4.24077288])\n",
        "\n",
        "    return coeffs[-1] + coeffs[-2] * wl + coeffs[-3] * wl**2"
      ]
    },
    {
      "cell_type": "markdown",
      "id": "45c2db44-48fe-4ba4-9093-1bf3b1234955",
      "metadata": {
        "papermill": {
          "duration": 0.010105,
          "end_time": "2025-02-27T06:16:42.082805",
          "exception": false,
          "start_time": "2025-02-27T06:16:42.072700",
          "status": "completed"
        },
        "tags": []
      },
      "source": [
        "Let's plot the fitted model:"
      ]
    },
    {
      "cell_type": "code",
      "execution_count": 20,
      "id": "bc162b68-6e24-41ae-aabe-0712b3605bf7",
      "metadata": {
        "execution": {
          "iopub.execute_input": "2025-02-27T06:16:42.105579Z",
          "iopub.status.busy": "2025-02-27T06:16:42.104434Z",
          "iopub.status.idle": "2025-02-27T06:16:42.422106Z",
          "shell.execute_reply": "2025-02-27T06:16:42.421082Z"
        },
        "papermill": {
          "duration": 0.33026,
          "end_time": "2025-02-27T06:16:42.423236",
          "exception": false,
          "start_time": "2025-02-27T06:16:42.092976",
          "status": "completed"
        },
        "tags": []
      },
      "outputs": [
        {
          "data": {
            "image/png": "[encoded data removed]",
            "text/plain": [
              "<Figure size 640x480 with 1 Axes>"
            ]
          },
          "metadata": {},
          "output_type": "display_data"
        }
      ],
      "source": [
        "plt.plot(\n",
        "    1000 * wavelengths, measured_neff.T, marker=\"o\", ls=\"none\", color=\"C0\", alpha=0.2\n",
        ")\n",
        "plt.plot(1000 * wavelengths, fitted_neff(wavelengths), color=\"C1\", label=\"fit\")\n",
        "plt.legend()\n",
        "plt.grid(True)\n",
        "plt.xlabel(\"Wavelength [nm]\")\n",
        "plt.ylabel(\"neff\")\n",
        "plt.title(\"neff measurements\")\n",
        "plt.show()"
      ]
    },
    {
      "cell_type": "markdown",
      "id": "6c427de3-8f0c-4aec-b654-950c9229c55e",
      "metadata": {
        "papermill": {
          "duration": 0.011135,
          "end_time": "2025-02-27T06:16:42.497176",
          "exception": false,
          "start_time": "2025-02-27T06:16:42.486041",
          "status": "completed"
        },
        "tags": []
      },
      "source": [
        "```{note}\n",
        "In fact it's probably better to fit in the frequency domain, since then you could probably fit with just a straight line or a quadratic with a very low quadratic coefficient. I leave this as an exercise to the reader \ud83d\ude42\n",
        "```"
      ]
    },
    {
      "cell_type": "markdown",
      "id": "e43fbbb9-b88b-4fcf-832c-4795a1a3f32a",
      "metadata": {
        "papermill": {
          "duration": 0.011412,
          "end_time": "2025-02-27T06:16:42.519907",
          "exception": false,
          "start_time": "2025-02-27T06:16:42.508495",
          "status": "completed"
        },
        "tags": []
      },
      "source": [
        "This is now our final straight model:"
      ]
    },
    {
      "cell_type": "code",
      "execution_count": 21,
      "id": "6c44d975-b3d9-4e96-b811-03a12e780565",
      "metadata": {
        "execution": {
          "iopub.execute_input": "2025-02-27T06:16:42.545291Z",
          "iopub.status.busy": "2025-02-27T06:16:42.544364Z",
          "iopub.status.idle": "2025-02-27T06:16:42.549759Z",
          "shell.execute_reply": "2025-02-27T06:16:42.549225Z"
        },
        "papermill": {
          "duration": 0.019532,
          "end_time": "2025-02-27T06:16:42.550914",
          "exception": false,
          "start_time": "2025-02-27T06:16:42.531382",
          "status": "completed"
        },
        "tags": []
      },
      "outputs": [],
      "source": [
        "def straight(\n",
        "    *,\n",
        "    wl=1.55,\n",
        "    length: float = 10.0,\n",
        "    loss: float = 0.0,\n",
        "):\n",
        "    \"\"\"A simple straight waveguide model.\n",
        "\n",
        "    Args:\n",
        "        wl: wavelength in microns.\n",
        "        length: length of the waveguide in microns.\n",
        "        loss: loss in dB/cm.\n",
        "    \"\"\"\n",
        "    neff = fitted_neff(wl)\n",
        "    phase = 2 * jnp.pi * neff * length / wl\n",
        "    amplitude = jnp.asarray(10 ** (-loss * length / 20), dtype=complex)\n",
        "    transmission = amplitude * jnp.exp(1j * phase)\n",
        "    return sax.reciprocal(\n",
        "        {\n",
        "            (\"in0\", \"out0\"): transmission,\n",
        "        }\n",
        "    )"
      ]
    },
    {
      "cell_type": "code",
      "execution_count": 22,
      "id": "de1d2bc0-0825-49a8-a654-210a3f096bb4",
      "metadata": {
        "execution": {
          "iopub.execute_input": "2025-02-27T06:16:42.574965Z",
          "iopub.status.busy": "2025-02-27T06:16:42.574724Z",
          "iopub.status.idle": "2025-02-27T06:16:42.614317Z",
          "shell.execute_reply": "2025-02-27T06:16:42.613830Z"
        },
        "papermill": {
          "duration": 0.052915,
          "end_time": "2025-02-27T06:16:42.615602",
          "exception": false,
          "start_time": "2025-02-27T06:16:42.562687",
          "status": "completed"
        },
        "tags": []
      },
      "outputs": [
        {
          "data": {
            "text/plain": [
              "{('in0', 'out0'): Array(-0.42561599-0.90490388j, dtype=complex128),\n",
              " ('out0', 'in0'): Array(-0.42561599-0.90490388j, dtype=complex128)}"
            ]
          },
          "execution_count": 22,
          "metadata": {},
          "output_type": "execute_result"
        }
      ],
      "source": [
        "straight()"
      ]
    }
  ],
  "metadata": {
    "kernelspec": {
      "display_name": "sax2",
      "language": "python",
      "name": "sax2"
    },
    "language_info": {
      "codemirror_mode": {
        "name": "ipython",
        "version": 3
      },
      "file_extension": ".py",
      "mimetype": "text/x-python",
      "name": "python",
      "nbconvert_exporter": "python",
      "pygments_lexer": "ipython3",
      "version": "3.12.3"
    },
    "papermill": {
      "default_parameters": {},
      "duration": 38.063279,
      "end_time": "2025-02-27T06:16:44.251244",
      "environment_variables": {},
      "exception": null,
      "input_path": "./examples/10_wavelength_dependent_neff.ipynb",
      "output_path": "./examples/10_wavelength_dependent_neff.ipynb",
      "parameters": {},
      "start_time": "2025-02-27T06:16:06.187965",
      "version": "2.6.0"
    },
    "widgets": {
      "application/vnd.jupyter.widget-state+json": {
        "state": {
          "0c1345dfc96942fc80becdb360245106": {
            "model_module": "@jupyter-widgets/controls",
            "model_module_version": "2.0.0",
            "model_name": "ProgressStyleModel",
            "state": {
              "_model_module": "@jupyter-widgets/controls",
              "_model_module_version": "2.0.0",
              "_model_name": "ProgressStyleModel",
              "_view_count": null,
              "_view_module": "@jupyter-widgets/base",
              "_view_module_version": "2.0.0",
              "_view_name": "StyleView",
              "bar_color": null,
              "description_width": ""
            }
          },
          "0f9c069f3feb46abb3f5b9df898e927e": {
            "model_module": "@jupyter-widgets/controls",
            "model_module_version": "2.0.0",
            "model_name": "HBoxModel",
            "state": {
              "_dom_classes": [],
              "_model_module": "@jupyter-widgets/controls",
              "_model_module_version": "2.0.0",
              "_model_name": "HBoxModel",
              "_view_count": null,
              "_view_module": "@jupyter-widgets/controls",
              "_view_module_version": "2.0.0",
              "_view_name": "HBoxView",
              "box_style": "",
              "children": [
                "IPY_MODEL_76a857b9771a4d999d41cf76b1654cfc",
                "IPY_MODEL_342f894ba34545d9a8fae699b1332558",
                "IPY_MODEL_b73dd1b50f5d4e0eb2696c787d2f8aa1"
              ],
              "layout": "IPY_MODEL_c5c7d10ce2ee4dc1bc9ac28a41e84217",
              "tabbable": null,
              "tooltip": null
            }
          },
          "342f894ba34545d9a8fae699b1332558": {
            "model_module": "@jupyter-widgets/controls",
            "model_module_version": "2.0.0",
            "model_name": "FloatProgressModel",
            "state": {
              "_dom_classes": [],
              "_model_module": "@jupyter-widgets/controls",
              "_model_module_version": "2.0.0",
              "_model_name": "FloatProgressModel",
              "_view_count": null,
              "_view_module": "@jupyter-widgets/controls",
              "_view_module_version": "2.0.0",
              "_view_name": "ProgressView",
              "bar_style": "success",
              "description": "",
              "description_allow_html": false,
              "layout": "IPY_MODEL_3e4ae2166b3643b491a2b0ddf0e61a77",
              "max": 11.0,
              "min": 0.0,
              "orientation": "horizontal",
              "style": "IPY_MODEL_0c1345dfc96942fc80becdb360245106",
              "tabbable": null,
              "tooltip": null,
              "value": 11.0
            }
          },
          "3e4ae2166b3643b491a2b0ddf0e61a77": {
            "model_module": "@jupyter-widgets/base",
            "model_module_version": "2.0.0",
            "model_name": "LayoutModel",
            "state": {
              "_model_module": "@jupyter-widgets/base",
              "_model_module_version": "2.0.0",
              "_model_name": "LayoutModel",
              "_view_count": null,
              "_view_module": "@jupyter-widgets/base",
              "_view_module_version": "2.0.0",
              "_view_name": "LayoutView",
              "align_content": null,
              "align_items": null,
              "align_self": null,
              "border_bottom": null,
              "border_left": null,
              "border_right": null,
              "border_top": null,
              "bottom": null,
              "display": null,
              "flex": null,
              "flex_flow": null,
              "grid_area": null,
              "grid_auto_columns": null,
              "grid_auto_flow": null,
              "grid_auto_rows": null,
              "grid_column": null,
              "grid_gap": null,
              "grid_row": null,
              "grid_template_areas": null,
              "grid_template_columns": null,
              "grid_template_rows": null,
              "height": null,
              "justify_content": null,
              "justify_items": null,
              "left": null,
              "margin": null,
              "max_height": null,
              "max_width": null,
              "min_height": null,
              "min_width": null,
              "object_fit": null,
              "object_position": null,
              "order": null,
              "overflow": null,
              "padding": null,
              "right": null,
              "top": null,
              "visibility": null,
              "width": null
            }
          },
          "58f21cd0016d43139afa6ed1920e4837": {
            "model_module": "@jupyter-widgets/controls",
            "model_module_version": "2.0.0",
            "model_name": "HTMLStyleModel",
            "state": {
              "_model_module": "@jupyter-widgets/controls",
              "_model_module_version": "2.0.0",
              "_model_name": "HTMLStyleModel",
              "_view_count": null,
              "_view_module": "@jupyter-widgets/base",
              "_view_module_version": "2.0.0",
              "_view_name": "StyleView",
              "background": null,
              "description_width": "",
              "font_size": null,
              "text_color": null
            }
          },
          "76a857b9771a4d999d41cf76b1654cfc": {
            "model_module": "@jupyter-widgets/controls",
            "model_module_version": "2.0.0",
            "model_name": "HTMLModel",
            "state": {
              "_dom_classes": [],
              "_model_module": "@jupyter-widgets/controls",
              "_model_module_version": "2.0.0",
              "_model_name": "HTMLModel",
              "_view_count": null,
              "_view_module": "@jupyter-widgets/controls",
              "_view_module_version": "2.0.0",
              "_view_name": "HTMLView",
              "description": "",
              "description_allow_html": false,
              "layout": "IPY_MODEL_8d2ff8843a7a46b49d13075f007b80e7",
              "placeholder": "\u200b",
              "style": "IPY_MODEL_58f21cd0016d43139afa6ed1920e4837",
              "tabbable": null,
              "tooltip": null,
              "value": "100%"
            }
          },
          "7e02771c76e54c59aecd284a41a85f8b": {
            "model_module": "@jupyter-widgets/base",
            "model_module_version": "2.0.0",
            "model_name": "LayoutModel",
            "state": {
              "_model_module": "@jupyter-widgets/base",
              "_model_module_version": "2.0.0",
              "_model_name": "LayoutModel",
              "_view_count": null,
              "_view_module": "@jupyter-widgets/base",
              "_view_module_version": "2.0.0",
              "_view_name": "LayoutView",
              "align_content": null,
              "align_items": null,
              "align_self": null,
              "border_bottom": null,
              "border_left": null,
              "border_right": null,
              "border_top": null,
              "bottom": null,
              "display": null,
              "flex": null,
              "flex_flow": null,
              "grid_area": null,
              "grid_auto_columns": null,
              "grid_auto_flow": null,
              "grid_auto_rows": null,
              "grid_column": null,
              "grid_gap": null,
              "grid_row": null,
              "grid_template_areas": null,
              "grid_template_columns": null,
              "grid_template_rows": null,
              "height": null,
              "justify_content": null,
              "justify_items": null,
              "left": null,
              "margin": null,
              "max_height": null,
              "max_width": null,
              "min_height": null,
              "min_width": null,
              "object_fit": null,
              "object_position": null,
              "order": null,
              "overflow": null,
              "padding": null,
              "right": null,
              "top": null,
              "visibility": null,
              "width": null
            }
          },
          "8d2ff8843a7a46b49d13075f007b80e7": {
            "model_module": "@jupyter-widgets/base",
            "model_module_version": "2.0.0",
            "model_name": "LayoutModel",
            "state": {
              "_model_module": "@jupyter-widgets/base",
              "_model_module_version": "2.0.0",
              "_model_name": "LayoutModel",
              "_view_count": null,
              "_view_module": "@jupyter-widgets/base",
              "_view_module_version": "2.0.0",
              "_view_name": "LayoutView",
              "align_content": null,
              "align_items": null,
              "align_self": null,
              "border_bottom": null,
              "border_left": null,
              "border_right": null,
              "border_top": null,
              "bottom": null,
              "display": null,
              "flex": null,
              "flex_flow": null,
              "grid_area": null,
              "grid_auto_columns": null,
              "grid_auto_flow": null,
              "grid_auto_rows": null,
              "grid_column": null,
              "grid_gap": null,
              "grid_row": null,
              "grid_template_areas": null,
              "grid_template_columns": null,
              "grid_template_rows": null,
              "height": null,
              "justify_content": null,
              "justify_items": null,
              "left": null,
              "margin": null,
              "max_height": null,
              "max_width": null,
              "min_height": null,
              "min_width": null,
              "object_fit": null,
              "object_position": null,
              "order": null,
              "overflow": null,
              "padding": null,
              "right": null,
              "top": null,
              "visibility": null,
              "width": null
            }
          },
          "b73dd1b50f5d4e0eb2696c787d2f8aa1": {
            "model_module": "@jupyter-widgets/controls",
            "model_module_version": "2.0.0",
            "model_name": "HTMLModel",
            "state": {
              "_dom_classes": [],
              "_model_module": "@jupyter-widgets/controls",
              "_model_module_version": "2.0.0",
              "_model_name": "HTMLModel",
              "_view_count": null,
              "_view_module": "@jupyter-widgets/controls",
              "_view_module_version": "2.0.0",
              "_view_name": "HTMLView",
              "description": "",
              "description_allow_html": false,
              "layout": "IPY_MODEL_7e02771c76e54c59aecd284a41a85f8b",
              "placeholder": "\u200b",
              "style": "IPY_MODEL_e1738809edc94da7840ffbb93c438ec9",
              "tabbable": null,
              "tooltip": null,
              "value": "\u200711/11\u2007[00:22&lt;00:00,\u2007\u20072.10s/it]"
            }
          },
          "c5c7d10ce2ee4dc1bc9ac28a41e84217": {
            "model_module": "@jupyter-widgets/base",
            "model_module_version": "2.0.0",
            "model_name": "LayoutModel",
            "state": {
              "_model_module": "@jupyter-widgets/base",
              "_model_module_version": "2.0.0",
              "_model_name": "LayoutModel",
              "_view_count": null,
              "_view_module": "@jupyter-widgets/base",
              "_view_module_version": "2.0.0",
              "_view_name": "LayoutView",
              "align_content": null,
              "align_items": null,
              "align_self": null,
              "border_bottom": null,
              "border_left": null,
              "border_right": null,
              "border_top": null,
              "bottom": null,
              "display": null,
              "flex": null,
              "flex_flow": null,
              "grid_area": null,
              "grid_auto_columns": null,
              "grid_auto_flow": null,
              "grid_auto_rows": null,
              "grid_column": null,
              "grid_gap": null,
              "grid_row": null,
              "grid_template_areas": null,
              "grid_template_columns": null,
              "grid_template_rows": null,
              "height": null,
              "justify_content": null,
              "justify_items": null,
              "left": null,
              "margin": null,
              "max_height": null,
              "max_width": null,
              "min_height": null,
              "min_width": null,
              "object_fit": null,
              "object_position": null,
              "order": null,
              "overflow": null,
              "padding": null,
              "right": null,
              "top": null,
              "visibility": null,
              "width": null
            }
          },
          "e1738809edc94da7840ffbb93c438ec9": {
            "model_module": "@jupyter-widgets/controls",
            "model_module_version": "2.0.0",
            "model_name": "HTMLStyleModel",
            "state": {
              "_model_module": "@jupyter-widgets/controls",
              "_model_module_version": "2.0.0",
              "_model_name": "HTMLStyleModel",
              "_view_count": null,
              "_view_module": "@jupyter-widgets/base",
              "_view_module_version": "2.0.0",
              "_view_name": "StyleView",
              "background": null,
              "description_width": "",
              "font_size": null,
              "text_color": null
            }
          }
        },
        "version_major": 2,
        "version_minor": 0
      }
    }
  },
  "nbformat": 4,
  "nbformat_minor": 5
}