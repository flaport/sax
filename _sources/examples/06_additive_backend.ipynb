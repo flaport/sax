{
  "cells": [
    {
      "cell_type": "markdown",
      "id": "0",
      "metadata": {
        "papermill": {
          "duration": 0.001717,
          "end_time": "2024-11-12T12:04:00.059835",
          "exception": false,
          "start_time": "2024-11-12T12:04:00.058118",
          "status": "completed"
        },
        "tags": []
      },
      "source": [
        "# Additive Backend"
      ]
    },
    {
      "cell_type": "markdown",
      "id": "1",
      "metadata": {
        "papermill": {
          "duration": 0.001183,
          "end_time": "2024-11-12T12:04:00.062298",
          "exception": false,
          "start_time": "2024-11-12T12:04:00.061115",
          "status": "completed"
        },
        "tags": []
      },
      "source": [
        "> The additive backend can be used to obtain pathlengths and group delays."
      ]
    },
    {
      "cell_type": "code",
      "execution_count": 1,
      "id": "2",
      "metadata": {
        "execution": {
          "iopub.execute_input": "2024-11-12T12:04:00.065623Z",
          "iopub.status.busy": "2024-11-12T12:04:00.065154Z",
          "iopub.status.idle": "2024-11-12T12:04:00.985567Z",
          "shell.execute_reply": "2024-11-12T12:04:00.984981Z"
        },
        "papermill": {
          "duration": 0.923359,
          "end_time": "2024-11-12T12:04:00.986721",
          "exception": false,
          "start_time": "2024-11-12T12:04:00.063362",
          "status": "completed"
        },
        "tags": []
      },
      "outputs": [],
      "source": [
        "from functools import partial\n",
        "\n",
        "import jax\n",
        "import jax.example_libraries.optimizers as opt\n",
        "import jax.numpy as jnp\n",
        "import matplotlib.pyplot as plt  # plotting\n",
        "import sax"
      ]
    },
    {
      "cell_type": "markdown",
      "id": "3",
      "metadata": {
        "papermill": {
          "duration": 0.001301,
          "end_time": "2024-11-12T12:04:00.989494",
          "exception": false,
          "start_time": "2024-11-12T12:04:00.988193",
          "status": "completed"
        },
        "tags": []
      },
      "source": [
        "## Parametrized Models"
      ]
    },
    {
      "cell_type": "code",
      "execution_count": 2,
      "id": "4",
      "metadata": {
        "execution": {
          "iopub.execute_input": "2024-11-12T12:04:00.992881Z",
          "iopub.status.busy": "2024-11-12T12:04:00.992445Z",
          "iopub.status.idle": "2024-11-12T12:04:00.995848Z",
          "shell.execute_reply": "2024-11-12T12:04:00.995354Z"
        },
        "papermill": {
          "duration": 0.005844,
          "end_time": "2024-11-12T12:04:00.996557",
          "exception": false,
          "start_time": "2024-11-12T12:04:00.990713",
          "status": "completed"
        },
        "tags": []
      },
      "outputs": [],
      "source": [
        "def coupler(length=50.0) -> sax.SDict:\n",
        "    sdict = {\n",
        "        (\"in0\", \"out0\"): length,\n",
        "        (\"in0\", \"out1\"): length,\n",
        "        (\"in1\", \"out0\"): length,\n",
        "        (\"in1\", \"out1\"): length,\n",
        "    }\n",
        "    return sax.reciprocal(sdict)"
      ]
    },
    {
      "cell_type": "code",
      "execution_count": 3,
      "id": "5",
      "metadata": {
        "execution": {
          "iopub.execute_input": "2024-11-12T12:04:00.999566Z",
          "iopub.status.busy": "2024-11-12T12:04:00.999272Z",
          "iopub.status.idle": "2024-11-12T12:04:01.001981Z",
          "shell.execute_reply": "2024-11-12T12:04:01.001489Z"
        },
        "papermill": {
          "duration": 0.004971,
          "end_time": "2024-11-12T12:04:01.002697",
          "exception": false,
          "start_time": "2024-11-12T12:04:00.997726",
          "status": "completed"
        },
        "tags": []
      },
      "outputs": [],
      "source": [
        "def waveguide(length=100.0) -> sax.SDict:\n",
        "    sdict = {\n",
        "        (\"in0\", \"out0\"): length,\n",
        "    }\n",
        "    return sax.reciprocal(sdict)"
      ]
    },
    {
      "cell_type": "markdown",
      "id": "6",
      "metadata": {
        "papermill": {
          "duration": 0.001084,
          "end_time": "2024-11-12T12:04:01.004967",
          "exception": false,
          "start_time": "2024-11-12T12:04:01.003883",
          "status": "completed"
        },
        "tags": []
      },
      "source": [
        "## Circuit with additive backend"
      ]
    },
    {
      "cell_type": "code",
      "execution_count": 4,
      "id": "7",
      "metadata": {
        "execution": {
          "iopub.execute_input": "2024-11-12T12:04:01.009219Z",
          "iopub.status.busy": "2024-11-12T12:04:01.008844Z",
          "iopub.status.idle": "2024-11-12T12:04:01.051478Z",
          "shell.execute_reply": "2024-11-12T12:04:01.050888Z"
        },
        "papermill": {
          "duration": 0.046335,
          "end_time": "2024-11-12T12:04:01.052499",
          "exception": false,
          "start_time": "2024-11-12T12:04:01.006164",
          "status": "completed"
        },
        "tags": []
      },
      "outputs": [],
      "source": [
        "mzi, _ = sax.circuit(\n",
        "    netlist={\n",
        "        \"instances\": {\n",
        "            \"lft\": coupler,\n",
        "            \"top\": partial(waveguide, length=500),\n",
        "            \"btm\": partial(waveguide, length=100),\n",
        "            \"rgt\": coupler,\n",
        "        },\n",
        "        \"connections\": {\n",
        "            \"lft,out0\": \"btm,in0\",\n",
        "            \"btm,out0\": \"rgt,in0\",\n",
        "            \"lft,out1\": \"top,in0\",\n",
        "            \"top,out0\": \"rgt,in1\",\n",
        "        },\n",
        "        \"ports\": {\n",
        "            \"in0\": \"lft,in0\",\n",
        "            \"in1\": \"lft,in1\",\n",
        "            \"out0\": \"rgt,out0\",\n",
        "            \"out1\": \"rgt,out1\",\n",
        "        },\n",
        "    },\n",
        "    backend=\"additive\",\n",
        ")"
      ]
    },
    {
      "cell_type": "code",
      "execution_count": 5,
      "id": "8",
      "metadata": {
        "execution": {
          "iopub.execute_input": "2024-11-12T12:04:01.056046Z",
          "iopub.status.busy": "2024-11-12T12:04:01.055642Z",
          "iopub.status.idle": "2024-11-12T12:04:01.144653Z",
          "shell.execute_reply": "2024-11-12T12:04:01.144105Z"
        },
        "papermill": {
          "duration": 0.091597,
          "end_time": "2024-11-12T12:04:01.145549",
          "exception": false,
          "start_time": "2024-11-12T12:04:01.053952",
          "status": "completed"
        },
        "tags": []
      },
      "outputs": [
        {
          "data": {
            "text/plain": [
              "{('in0', 'in0'): [Array([0.], dtype=float64)],\n",
              " ('in0', 'out0'): [Array([200.], dtype=float64), Array([600.], dtype=float64)],\n",
              " ('in0', 'out1'): [Array([200.], dtype=float64), Array([600.], dtype=float64)],\n",
              " ('in1', 'in1'): [Array([0.], dtype=float64)],\n",
              " ('in1', 'out0'): [Array([200.], dtype=float64), Array([600.], dtype=float64)],\n",
              " ('in1', 'out1'): [Array([200.], dtype=float64), Array([600.], dtype=float64)],\n",
              " ('out0', 'in0'): [Array([200.], dtype=float64), Array([600.], dtype=float64)],\n",
              " ('out0', 'in1'): [Array([200.], dtype=float64), Array([600.], dtype=float64)],\n",
              " ('out0', 'out0'): [Array([0.], dtype=float64)],\n",
              " ('out1', 'in0'): [Array([200.], dtype=float64), Array([600.], dtype=float64)],\n",
              " ('out1', 'in1'): [Array([200.], dtype=float64), Array([600.], dtype=float64)],\n",
              " ('out1', 'out1'): [Array([0.], dtype=float64)]}"
            ]
          },
          "execution_count": 5,
          "metadata": {},
          "output_type": "execute_result"
        }
      ],
      "source": [
        "mzi()"
      ]
    }
  ],
  "metadata": {
    "kernelspec": {
      "display_name": "Python 3 (ipykernel)",
      "language": "python",
      "name": "python3"
    },
    "language_info": {
      "codemirror_mode": {
        "name": "ipython",
        "version": 3
      },
      "file_extension": ".py",
      "mimetype": "text/x-python",
      "name": "python",
      "nbconvert_exporter": "python",
      "pygments_lexer": "ipython3",
      "version": "3.11.10"
    },
    "papermill": {
      "default_parameters": {},
      "duration": 2.473702,
      "end_time": "2024-11-12T12:04:01.562842",
      "environment_variables": {},
      "exception": null,
      "input_path": "./examples/06_additive_backend.ipynb",
      "output_path": "./examples/06_additive_backend.ipynb",
      "parameters": {},
      "start_time": "2024-11-12T12:03:59.089140",
      "version": "2.6.0"
    }
  },
  "nbformat": 4,
  "nbformat_minor": 5
}