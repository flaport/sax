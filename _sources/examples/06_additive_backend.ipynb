{
  "cells": [
    {
      "cell_type": "markdown",
      "id": "6f097557",
      "metadata": {
        "papermill": {
          "duration": 0.001889,
          "end_time": "2024-06-17T18:47:28.502057",
          "exception": false,
          "start_time": "2024-06-17T18:47:28.500168",
          "status": "completed"
        },
        "tags": []
      },
      "source": [
        "# Additive Backend"
      ]
    },
    {
      "cell_type": "markdown",
      "id": "56868383",
      "metadata": {
        "papermill": {
          "duration": 0.001386,
          "end_time": "2024-06-17T18:47:28.504868",
          "exception": false,
          "start_time": "2024-06-17T18:47:28.503482",
          "status": "completed"
        },
        "tags": []
      },
      "source": [
        "> The additive backend can be used to obtain pathlengths and group delays."
      ]
    },
    {
      "cell_type": "code",
      "execution_count": 1,
      "id": "79c98bc0",
      "metadata": {
        "execution": {
          "iopub.execute_input": "2024-06-17T18:47:28.508846Z",
          "iopub.status.busy": "2024-06-17T18:47:28.508393Z",
          "iopub.status.idle": "2024-06-17T18:47:29.515880Z",
          "shell.execute_reply": "2024-06-17T18:47:29.515283Z"
        },
        "papermill": {
          "duration": 1.011288,
          "end_time": "2024-06-17T18:47:29.517339",
          "exception": false,
          "start_time": "2024-06-17T18:47:28.506051",
          "status": "completed"
        },
        "tags": []
      },
      "outputs": [],
      "source": [
        "from functools import partial\n",
        "\n",
        "import jax\n",
        "import jax.example_libraries.optimizers as opt\n",
        "import jax.numpy as jnp\n",
        "import matplotlib.pyplot as plt  # plotting\n",
        "import sax"
      ]
    },
    {
      "cell_type": "markdown",
      "id": "6a42b9d9",
      "metadata": {
        "papermill": {
          "duration": 0.001355,
          "end_time": "2024-06-17T18:47:29.520220",
          "exception": false,
          "start_time": "2024-06-17T18:47:29.518865",
          "status": "completed"
        },
        "tags": []
      },
      "source": [
        "## Parametrized Models"
      ]
    },
    {
      "cell_type": "code",
      "execution_count": 2,
      "id": "79e7e40e",
      "metadata": {
        "execution": {
          "iopub.execute_input": "2024-06-17T18:47:29.523853Z",
          "iopub.status.busy": "2024-06-17T18:47:29.523285Z",
          "iopub.status.idle": "2024-06-17T18:47:29.526858Z",
          "shell.execute_reply": "2024-06-17T18:47:29.526208Z"
        },
        "papermill": {
          "duration": 0.006714,
          "end_time": "2024-06-17T18:47:29.528079",
          "exception": false,
          "start_time": "2024-06-17T18:47:29.521365",
          "status": "completed"
        },
        "tags": []
      },
      "outputs": [],
      "source": [
        "def coupler(length=50.0) -> sax.SDict:\n",
        "    sdict = {\n",
        "        (\"in0\", \"out0\"): length,\n",
        "        (\"in0\", \"out1\"): length,\n",
        "        (\"in1\", \"out0\"): length,\n",
        "        (\"in1\", \"out1\"): length,\n",
        "    }\n",
        "    return sax.reciprocal(sdict)"
      ]
    },
    {
      "cell_type": "code",
      "execution_count": 3,
      "id": "3248838c",
      "metadata": {
        "execution": {
          "iopub.execute_input": "2024-06-17T18:47:29.531803Z",
          "iopub.status.busy": "2024-06-17T18:47:29.531357Z",
          "iopub.status.idle": "2024-06-17T18:47:29.534555Z",
          "shell.execute_reply": "2024-06-17T18:47:29.534072Z"
        },
        "papermill": {
          "duration": 0.006303,
          "end_time": "2024-06-17T18:47:29.535696",
          "exception": false,
          "start_time": "2024-06-17T18:47:29.529393",
          "status": "completed"
        },
        "tags": []
      },
      "outputs": [],
      "source": [
        "def waveguide(length=100.0) -> sax.SDict:\n",
        "    sdict = {\n",
        "        (\"in0\", \"out0\"): length,\n",
        "    }\n",
        "    return sax.reciprocal(sdict)"
      ]
    },
    {
      "cell_type": "markdown",
      "id": "d650fb8d",
      "metadata": {
        "papermill": {
          "duration": 0.001212,
          "end_time": "2024-06-17T18:47:29.538156",
          "exception": false,
          "start_time": "2024-06-17T18:47:29.536944",
          "status": "completed"
        },
        "tags": []
      },
      "source": [
        "## Circuit with additive backend"
      ]
    },
    {
      "cell_type": "code",
      "execution_count": 4,
      "id": "56e035d0",
      "metadata": {
        "execution": {
          "iopub.execute_input": "2024-06-17T18:47:29.541727Z",
          "iopub.status.busy": "2024-06-17T18:47:29.541253Z",
          "iopub.status.idle": "2024-06-17T18:47:29.580756Z",
          "shell.execute_reply": "2024-06-17T18:47:29.580220Z"
        },
        "papermill": {
          "duration": 0.042906,
          "end_time": "2024-06-17T18:47:29.582303",
          "exception": false,
          "start_time": "2024-06-17T18:47:29.539397",
          "status": "completed"
        },
        "tags": []
      },
      "outputs": [],
      "source": [
        "mzi, _ = sax.circuit(\n",
        "    netlist={\n",
        "        \"instances\": {\n",
        "            \"lft\": coupler,\n",
        "            \"top\": partial(waveguide, length=500),\n",
        "            \"btm\": partial(waveguide, length=100),\n",
        "            \"rgt\": coupler,\n",
        "        },\n",
        "        \"connections\": {\n",
        "            \"lft,out0\": \"btm,in0\",\n",
        "            \"btm,out0\": \"rgt,in0\",\n",
        "            \"lft,out1\": \"top,in0\",\n",
        "            \"top,out0\": \"rgt,in1\",\n",
        "        },\n",
        "        \"ports\": {\n",
        "            \"in0\": \"lft,in0\",\n",
        "            \"in1\": \"lft,in1\",\n",
        "            \"out0\": \"rgt,out0\",\n",
        "            \"out1\": \"rgt,out1\",\n",
        "        },\n",
        "    },\n",
        "    backend=\"additive\",\n",
        ")"
      ]
    },
    {
      "cell_type": "code",
      "execution_count": 5,
      "id": "c1f245fd",
      "metadata": {
        "execution": {
          "iopub.execute_input": "2024-06-17T18:47:29.586286Z",
          "iopub.status.busy": "2024-06-17T18:47:29.586072Z",
          "iopub.status.idle": "2024-06-17T18:47:29.686162Z",
          "shell.execute_reply": "2024-06-17T18:47:29.685505Z"
        },
        "papermill": {
          "duration": 0.10356,
          "end_time": "2024-06-17T18:47:29.687395",
          "exception": false,
          "start_time": "2024-06-17T18:47:29.583835",
          "status": "completed"
        },
        "tags": []
      },
      "outputs": [
        {
          "data": {
            "text/plain": [
              "{('in0', 'in0'): [Array([0.], dtype=float64)],\n",
              " ('in0', 'out0'): [Array([200.], dtype=float64), Array([600.], dtype=float64)],\n",
              " ('in0', 'out1'): [Array([200.], dtype=float64), Array([600.], dtype=float64)],\n",
              " ('in1', 'in1'): [Array([0.], dtype=float64)],\n",
              " ('in1', 'out0'): [Array([200.], dtype=float64), Array([600.], dtype=float64)],\n",
              " ('in1', 'out1'): [Array([200.], dtype=float64), Array([600.], dtype=float64)],\n",
              " ('out0', 'in0'): [Array([200.], dtype=float64), Array([600.], dtype=float64)],\n",
              " ('out0', 'in1'): [Array([200.], dtype=float64), Array([600.], dtype=float64)],\n",
              " ('out0', 'out0'): [Array([0.], dtype=float64)],\n",
              " ('out1', 'in0'): [Array([200.], dtype=float64), Array([600.], dtype=float64)],\n",
              " ('out1', 'in1'): [Array([200.], dtype=float64), Array([600.], dtype=float64)],\n",
              " ('out1', 'out1'): [Array([0.], dtype=float64)]}"
            ]
          },
          "execution_count": 5,
          "metadata": {},
          "output_type": "execute_result"
        }
      ],
      "source": [
        "mzi()"
      ]
    }
  ],
  "metadata": {
    "kernelspec": {
      "display_name": "Python 3 (ipykernel)",
      "language": "python",
      "name": "python3"
    },
    "language_info": {
      "codemirror_mode": {
        "name": "ipython",
        "version": 3
      },
      "file_extension": ".py",
      "mimetype": "text/x-python",
      "name": "python",
      "nbconvert_exporter": "python",
      "pygments_lexer": "ipython3",
      "version": "3.10.14"
    },
    "papermill": {
      "default_parameters": {},
      "duration": 2.440168,
      "end_time": "2024-06-17T18:47:30.105613",
      "environment_variables": {},
      "exception": null,
      "input_path": "./examples/06_additive_backend.ipynb",
      "output_path": "./examples/06_additive_backend.ipynb",
      "parameters": {},
      "start_time": "2024-06-17T18:47:27.665445",
      "version": "2.6.0"
    }
  },
  "nbformat": 4,
  "nbformat_minor": 5
}