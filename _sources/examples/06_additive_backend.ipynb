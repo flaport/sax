{
  "cells": [
    {
      "cell_type": "markdown",
      "id": "0",
      "metadata": {
        "papermill": {
          "duration": 0.002309,
          "end_time": "2025-03-24T14:13:42.028456",
          "exception": false,
          "start_time": "2025-03-24T14:13:42.026147",
          "status": "completed"
        },
        "tags": []
      },
      "source": [
        "# Additive Backend"
      ]
    },
    {
      "cell_type": "markdown",
      "id": "1",
      "metadata": {
        "papermill": {
          "duration": 0.00177,
          "end_time": "2025-03-24T14:13:42.033164",
          "exception": false,
          "start_time": "2025-03-24T14:13:42.031394",
          "status": "completed"
        },
        "tags": []
      },
      "source": [
        "> The additive backend can be used to obtain pathlengths and group delays."
      ]
    },
    {
      "cell_type": "code",
      "execution_count": 1,
      "id": "2",
      "metadata": {
        "execution": {
          "iopub.execute_input": "2025-03-24T14:13:42.039082Z",
          "iopub.status.busy": "2025-03-24T14:13:42.038827Z",
          "iopub.status.idle": "2025-03-24T14:13:44.213574Z",
          "shell.execute_reply": "2025-03-24T14:13:44.212961Z"
        },
        "papermill": {
          "duration": 2.180184,
          "end_time": "2025-03-24T14:13:44.215116",
          "exception": false,
          "start_time": "2025-03-24T14:13:42.034932",
          "status": "completed"
        },
        "tags": []
      },
      "outputs": [],
      "source": [
        "from functools import partial\n",
        "\n",
        "import jax\n",
        "import jax.example_libraries.optimizers as opt\n",
        "import jax.numpy as jnp\n",
        "import matplotlib.pyplot as plt  # plotting\n",
        "import sax"
      ]
    },
    {
      "cell_type": "markdown",
      "id": "3",
      "metadata": {
        "papermill": {
          "duration": 0.002091,
          "end_time": "2025-03-24T14:13:44.219470",
          "exception": false,
          "start_time": "2025-03-24T14:13:44.217379",
          "status": "completed"
        },
        "tags": []
      },
      "source": [
        "## Parametrized Models"
      ]
    },
    {
      "cell_type": "code",
      "execution_count": 2,
      "id": "4",
      "metadata": {
        "execution": {
          "iopub.execute_input": "2025-03-24T14:13:44.224498Z",
          "iopub.status.busy": "2025-03-24T14:13:44.224016Z",
          "iopub.status.idle": "2025-03-24T14:13:44.229265Z",
          "shell.execute_reply": "2025-03-24T14:13:44.228650Z"
        },
        "papermill": {
          "duration": 0.009024,
          "end_time": "2025-03-24T14:13:44.230431",
          "exception": false,
          "start_time": "2025-03-24T14:13:44.221407",
          "status": "completed"
        },
        "tags": []
      },
      "outputs": [],
      "source": [
        "def coupler(length=50.0) -> sax.SDict:\n",
        "    sdict = {\n",
        "        (\"in0\", \"out0\"): length,\n",
        "        (\"in0\", \"out1\"): length,\n",
        "        (\"in1\", \"out0\"): length,\n",
        "        (\"in1\", \"out1\"): length,\n",
        "    }\n",
        "    return sax.reciprocal(sdict)"
      ]
    },
    {
      "cell_type": "code",
      "execution_count": 3,
      "id": "5",
      "metadata": {
        "execution": {
          "iopub.execute_input": "2025-03-24T14:13:44.235596Z",
          "iopub.status.busy": "2025-03-24T14:13:44.235339Z",
          "iopub.status.idle": "2025-03-24T14:13:44.239722Z",
          "shell.execute_reply": "2025-03-24T14:13:44.239143Z"
        },
        "papermill": {
          "duration": 0.008389,
          "end_time": "2025-03-24T14:13:44.240920",
          "exception": false,
          "start_time": "2025-03-24T14:13:44.232531",
          "status": "completed"
        },
        "tags": []
      },
      "outputs": [],
      "source": [
        "def waveguide(length=100.0) -> sax.SDict:\n",
        "    sdict = {\n",
        "        (\"in0\", \"out0\"): length,\n",
        "    }\n",
        "    return sax.reciprocal(sdict)"
      ]
    },
    {
      "cell_type": "markdown",
      "id": "6",
      "metadata": {
        "papermill": {
          "duration": 0.001965,
          "end_time": "2025-03-24T14:13:44.245200",
          "exception": false,
          "start_time": "2025-03-24T14:13:44.243235",
          "status": "completed"
        },
        "tags": []
      },
      "source": [
        "## Circuit with additive backend"
      ]
    },
    {
      "cell_type": "code",
      "execution_count": 4,
      "id": "7",
      "metadata": {
        "execution": {
          "iopub.execute_input": "2025-03-24T14:13:44.250487Z",
          "iopub.status.busy": "2025-03-24T14:13:44.250211Z",
          "iopub.status.idle": "2025-03-24T14:13:44.318087Z",
          "shell.execute_reply": "2025-03-24T14:13:44.317516Z"
        },
        "papermill": {
          "duration": 0.072184,
          "end_time": "2025-03-24T14:13:44.319418",
          "exception": false,
          "start_time": "2025-03-24T14:13:44.247234",
          "status": "completed"
        },
        "tags": []
      },
      "outputs": [],
      "source": [
        "mzi, _ = sax.circuit(\n",
        "    netlist={\n",
        "        \"instances\": {\n",
        "            \"lft\": coupler,\n",
        "            \"top\": partial(waveguide, length=500),\n",
        "            \"btm\": partial(waveguide, length=100),\n",
        "            \"rgt\": coupler,\n",
        "        },\n",
        "        \"connections\": {\n",
        "            \"lft,out0\": \"btm,in0\",\n",
        "            \"btm,out0\": \"rgt,in0\",\n",
        "            \"lft,out1\": \"top,in0\",\n",
        "            \"top,out0\": \"rgt,in1\",\n",
        "        },\n",
        "        \"ports\": {\n",
        "            \"in0\": \"lft,in0\",\n",
        "            \"in1\": \"lft,in1\",\n",
        "            \"out0\": \"rgt,out0\",\n",
        "            \"out1\": \"rgt,out1\",\n",
        "        },\n",
        "    },\n",
        "    backend=\"additive\",\n",
        ")"
      ]
    },
    {
      "cell_type": "code",
      "execution_count": 5,
      "id": "8",
      "metadata": {
        "execution": {
          "iopub.execute_input": "2025-03-24T14:13:44.324797Z",
          "iopub.status.busy": "2025-03-24T14:13:44.324432Z",
          "iopub.status.idle": "2025-03-24T14:13:44.468028Z",
          "shell.execute_reply": "2025-03-24T14:13:44.467507Z"
        },
        "papermill": {
          "duration": 0.147795,
          "end_time": "2025-03-24T14:13:44.469402",
          "exception": false,
          "start_time": "2025-03-24T14:13:44.321607",
          "status": "completed"
        },
        "tags": []
      },
      "outputs": [
        {
          "data": {
            "text/plain": [
              "{('in0', 'in0'): [Array([0.], dtype=float64)],\n",
              " ('in0', 'out0'): [Array([200.], dtype=float64), Array([600.], dtype=float64)],\n",
              " ('in0', 'out1'): [Array([200.], dtype=float64), Array([600.], dtype=float64)],\n",
              " ('in1', 'in1'): [Array([0.], dtype=float64)],\n",
              " ('in1', 'out0'): [Array([200.], dtype=float64), Array([600.], dtype=float64)],\n",
              " ('in1', 'out1'): [Array([200.], dtype=float64), Array([600.], dtype=float64)],\n",
              " ('out0', 'in0'): [Array([200.], dtype=float64), Array([600.], dtype=float64)],\n",
              " ('out0', 'in1'): [Array([200.], dtype=float64), Array([600.], dtype=float64)],\n",
              " ('out0', 'out0'): [Array([0.], dtype=float64)],\n",
              " ('out1', 'in0'): [Array([200.], dtype=float64), Array([600.], dtype=float64)],\n",
              " ('out1', 'in1'): [Array([200.], dtype=float64), Array([600.], dtype=float64)],\n",
              " ('out1', 'out1'): [Array([0.], dtype=float64)]}"
            ]
          },
          "execution_count": 5,
          "metadata": {},
          "output_type": "execute_result"
        }
      ],
      "source": [
        "mzi()"
      ]
    }
  ],
  "metadata": {
    "kernelspec": {
      "display_name": "Python 3 (ipykernel)",
      "language": "python",
      "name": "python3"
    },
    "language_info": {
      "codemirror_mode": {
        "name": "ipython",
        "version": 3
      },
      "file_extension": ".py",
      "mimetype": "text/x-python",
      "name": "python",
      "nbconvert_exporter": "python",
      "pygments_lexer": "ipython3",
      "version": "3.12.3"
    },
    "papermill": {
      "default_parameters": {},
      "duration": 4.759728,
      "end_time": "2025-03-24T14:13:45.189811",
      "environment_variables": {},
      "exception": null,
      "input_path": "examples/06_additive_backend.ipynb",
      "output_path": "examples/06_additive_backend.ipynb",
      "parameters": {},
      "start_time": "2025-03-24T14:13:40.430083",
      "version": "2.6.0"
    }
  },
  "nbformat": 4,
  "nbformat_minor": 5
}