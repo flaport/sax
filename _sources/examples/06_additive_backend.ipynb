{
  "cells": [
    {
      "cell_type": "markdown",
      "id": "6f097557",
      "metadata": {
        "papermill": {
          "duration": 0.0017,
          "end_time": "2024-04-11T19:47:48.036616",
          "exception": false,
          "start_time": "2024-04-11T19:47:48.034916",
          "status": "completed"
        },
        "tags": []
      },
      "source": [
        "# Additive Backend"
      ]
    },
    {
      "cell_type": "markdown",
      "id": "56868383",
      "metadata": {
        "papermill": {
          "duration": 0.001232,
          "end_time": "2024-04-11T19:47:48.039207",
          "exception": false,
          "start_time": "2024-04-11T19:47:48.037975",
          "status": "completed"
        },
        "tags": []
      },
      "source": [
        "> The additive backend can be used to obtain pathlengths and group delays."
      ]
    },
    {
      "cell_type": "code",
      "execution_count": 1,
      "id": "79c98bc0",
      "metadata": {
        "execution": {
          "iopub.execute_input": "2024-04-11T19:47:48.042497Z",
          "iopub.status.busy": "2024-04-11T19:47:48.042140Z",
          "iopub.status.idle": "2024-04-11T19:47:49.014482Z",
          "shell.execute_reply": "2024-04-11T19:47:49.013903Z"
        },
        "papermill": {
          "duration": 0.975562,
          "end_time": "2024-04-11T19:47:49.015942",
          "exception": false,
          "start_time": "2024-04-11T19:47:48.040380",
          "status": "completed"
        },
        "tags": []
      },
      "outputs": [],
      "source": [
        "from functools import partial\n",
        "\n",
        "import jax\n",
        "import jax.example_libraries.optimizers as opt\n",
        "import jax.numpy as jnp\n",
        "import matplotlib.pyplot as plt  # plotting\n",
        "import sax"
      ]
    },
    {
      "cell_type": "markdown",
      "id": "6a42b9d9",
      "metadata": {
        "papermill": {
          "duration": 0.001388,
          "end_time": "2024-04-11T19:47:49.018801",
          "exception": false,
          "start_time": "2024-04-11T19:47:49.017413",
          "status": "completed"
        },
        "tags": []
      },
      "source": [
        "## Parametrized Models"
      ]
    },
    {
      "cell_type": "code",
      "execution_count": 2,
      "id": "79e7e40e",
      "metadata": {
        "execution": {
          "iopub.execute_input": "2024-04-11T19:47:49.022235Z",
          "iopub.status.busy": "2024-04-11T19:47:49.021761Z",
          "iopub.status.idle": "2024-04-11T19:47:49.025064Z",
          "shell.execute_reply": "2024-04-11T19:47:49.024573Z"
        },
        "papermill": {
          "duration": 0.006175,
          "end_time": "2024-04-11T19:47:49.026125",
          "exception": false,
          "start_time": "2024-04-11T19:47:49.019950",
          "status": "completed"
        },
        "tags": []
      },
      "outputs": [],
      "source": [
        "def coupler(length=50.0) -> sax.SDict:\n",
        "    sdict = {\n",
        "        (\"in0\", \"out0\"): length,\n",
        "        (\"in0\", \"out1\"): length,\n",
        "        (\"in1\", \"out0\"): length,\n",
        "        (\"in1\", \"out1\"): length,\n",
        "    }\n",
        "    return sax.reciprocal(sdict)"
      ]
    },
    {
      "cell_type": "code",
      "execution_count": 3,
      "id": "3248838c",
      "metadata": {
        "execution": {
          "iopub.execute_input": "2024-04-11T19:47:49.029507Z",
          "iopub.status.busy": "2024-04-11T19:47:49.029132Z",
          "iopub.status.idle": "2024-04-11T19:47:49.032040Z",
          "shell.execute_reply": "2024-04-11T19:47:49.031581Z"
        },
        "papermill": {
          "duration": 0.005774,
          "end_time": "2024-04-11T19:47:49.033125",
          "exception": false,
          "start_time": "2024-04-11T19:47:49.027351",
          "status": "completed"
        },
        "tags": []
      },
      "outputs": [],
      "source": [
        "def waveguide(length=100.0) -> sax.SDict:\n",
        "    sdict = {\n",
        "        (\"in0\", \"out0\"): length,\n",
        "    }\n",
        "    return sax.reciprocal(sdict)"
      ]
    },
    {
      "cell_type": "markdown",
      "id": "d650fb8d",
      "metadata": {
        "papermill": {
          "duration": 0.001196,
          "end_time": "2024-04-11T19:47:49.035530",
          "exception": false,
          "start_time": "2024-04-11T19:47:49.034334",
          "status": "completed"
        },
        "tags": []
      },
      "source": [
        "## Circuit with additive backend"
      ]
    },
    {
      "cell_type": "code",
      "execution_count": 4,
      "id": "56e035d0",
      "metadata": {
        "execution": {
          "iopub.execute_input": "2024-04-11T19:47:49.038817Z",
          "iopub.status.busy": "2024-04-11T19:47:49.038454Z",
          "iopub.status.idle": "2024-04-11T19:47:49.074947Z",
          "shell.execute_reply": "2024-04-11T19:47:49.074332Z"
        },
        "papermill": {
          "duration": 0.039572,
          "end_time": "2024-04-11T19:47:49.076305",
          "exception": false,
          "start_time": "2024-04-11T19:47:49.036733",
          "status": "completed"
        },
        "tags": []
      },
      "outputs": [],
      "source": [
        "mzi, _ = sax.circuit(\n",
        "    netlist={\n",
        "        \"instances\": {\n",
        "            \"lft\": coupler,\n",
        "            \"top\": partial(waveguide, length=500),\n",
        "            \"btm\": partial(waveguide, length=100),\n",
        "            \"rgt\": coupler,\n",
        "        },\n",
        "        \"connections\": {\n",
        "            \"lft,out0\": \"btm,in0\",\n",
        "            \"btm,out0\": \"rgt,in0\",\n",
        "            \"lft,out1\": \"top,in0\",\n",
        "            \"top,out0\": \"rgt,in1\",\n",
        "        },\n",
        "        \"ports\": {\n",
        "            \"in0\": \"lft,in0\",\n",
        "            \"in1\": \"lft,in1\",\n",
        "            \"out0\": \"rgt,out0\",\n",
        "            \"out1\": \"rgt,out1\",\n",
        "        },\n",
        "    },\n",
        "    backend=\"additive\",\n",
        ")"
      ]
    },
    {
      "cell_type": "code",
      "execution_count": 5,
      "id": "c1f245fd",
      "metadata": {
        "execution": {
          "iopub.execute_input": "2024-04-11T19:47:49.080172Z",
          "iopub.status.busy": "2024-04-11T19:47:49.079814Z",
          "iopub.status.idle": "2024-04-11T19:47:49.167209Z",
          "shell.execute_reply": "2024-04-11T19:47:49.166610Z"
        },
        "papermill": {
          "duration": 0.09056,
          "end_time": "2024-04-11T19:47:49.168346",
          "exception": false,
          "start_time": "2024-04-11T19:47:49.077786",
          "status": "completed"
        },
        "tags": []
      },
      "outputs": [
        {
          "data": {
            "text/plain": [
              "{('in0', 'in0'): [Array([0.], dtype=float64)],\n",
              " ('in0', 'out0'): [Array([200.], dtype=float64), Array([600.], dtype=float64)],\n",
              " ('in0', 'out1'): [Array([200.], dtype=float64), Array([600.], dtype=float64)],\n",
              " ('in1', 'in1'): [Array([0.], dtype=float64)],\n",
              " ('in1', 'out0'): [Array([200.], dtype=float64), Array([600.], dtype=float64)],\n",
              " ('in1', 'out1'): [Array([200.], dtype=float64), Array([600.], dtype=float64)],\n",
              " ('out0', 'in0'): [Array([200.], dtype=float64), Array([600.], dtype=float64)],\n",
              " ('out0', 'in1'): [Array([200.], dtype=float64), Array([600.], dtype=float64)],\n",
              " ('out0', 'out0'): [Array([0.], dtype=float64)],\n",
              " ('out1', 'in0'): [Array([200.], dtype=float64), Array([600.], dtype=float64)],\n",
              " ('out1', 'in1'): [Array([200.], dtype=float64), Array([600.], dtype=float64)],\n",
              " ('out1', 'out1'): [Array([0.], dtype=float64)]}"
            ]
          },
          "execution_count": 5,
          "metadata": {},
          "output_type": "execute_result"
        }
      ],
      "source": [
        "mzi()"
      ]
    }
  ],
  "metadata": {
    "kernelspec": {
      "display_name": "Python 3 (ipykernel)",
      "language": "python",
      "name": "python3"
    },
    "language_info": {
      "codemirror_mode": {
        "name": "ipython",
        "version": 3
      },
      "file_extension": ".py",
      "mimetype": "text/x-python",
      "name": "python",
      "nbconvert_exporter": "python",
      "pygments_lexer": "ipython3",
      "version": "3.10.14"
    },
    "papermill": {
      "default_parameters": {},
      "duration": 2.288759,
      "end_time": "2024-04-11T19:47:49.485957",
      "environment_variables": {},
      "exception": null,
      "input_path": "./examples/06_additive_backend.ipynb",
      "output_path": "./examples/06_additive_backend.ipynb",
      "parameters": {},
      "start_time": "2024-04-11T19:47:47.197198",
      "version": "2.4.0"
    }
  },
  "nbformat": 4,
  "nbformat_minor": 5
}