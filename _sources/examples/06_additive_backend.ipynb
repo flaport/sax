{
  "cells": [
    {
      "cell_type": "markdown",
      "id": "0",
      "metadata": {
        "papermill": {
          "duration": 0.001747,
          "end_time": "2024-11-07T19:38:05.006750",
          "exception": false,
          "start_time": "2024-11-07T19:38:05.005003",
          "status": "completed"
        },
        "tags": []
      },
      "source": [
        "# Additive Backend"
      ]
    },
    {
      "cell_type": "markdown",
      "id": "1",
      "metadata": {
        "papermill": {
          "duration": 0.001099,
          "end_time": "2024-11-07T19:38:05.009250",
          "exception": false,
          "start_time": "2024-11-07T19:38:05.008151",
          "status": "completed"
        },
        "tags": []
      },
      "source": [
        "> The additive backend can be used to obtain pathlengths and group delays."
      ]
    },
    {
      "cell_type": "code",
      "execution_count": 1,
      "id": "2",
      "metadata": {
        "execution": {
          "iopub.execute_input": "2024-11-07T19:38:05.012536Z",
          "iopub.status.busy": "2024-11-07T19:38:05.012059Z",
          "iopub.status.idle": "2024-11-07T19:38:05.926196Z",
          "shell.execute_reply": "2024-11-07T19:38:05.925641Z"
        },
        "papermill": {
          "duration": 0.916988,
          "end_time": "2024-11-07T19:38:05.927278",
          "exception": false,
          "start_time": "2024-11-07T19:38:05.010290",
          "status": "completed"
        },
        "tags": []
      },
      "outputs": [],
      "source": [
        "from functools import partial\n",
        "\n",
        "import jax\n",
        "import jax.example_libraries.optimizers as opt\n",
        "import jax.numpy as jnp\n",
        "import matplotlib.pyplot as plt  # plotting\n",
        "import sax"
      ]
    },
    {
      "cell_type": "markdown",
      "id": "3",
      "metadata": {
        "papermill": {
          "duration": 0.00118,
          "end_time": "2024-11-07T19:38:05.929898",
          "exception": false,
          "start_time": "2024-11-07T19:38:05.928718",
          "status": "completed"
        },
        "tags": []
      },
      "source": [
        "## Parametrized Models"
      ]
    },
    {
      "cell_type": "code",
      "execution_count": 2,
      "id": "4",
      "metadata": {
        "execution": {
          "iopub.execute_input": "2024-11-07T19:38:05.933074Z",
          "iopub.status.busy": "2024-11-07T19:38:05.932611Z",
          "iopub.status.idle": "2024-11-07T19:38:05.935854Z",
          "shell.execute_reply": "2024-11-07T19:38:05.935414Z"
        },
        "papermill": {
          "duration": 0.005605,
          "end_time": "2024-11-07T19:38:05.936589",
          "exception": false,
          "start_time": "2024-11-07T19:38:05.930984",
          "status": "completed"
        },
        "tags": []
      },
      "outputs": [],
      "source": [
        "def coupler(length=50.0) -> sax.SDict:\n",
        "    sdict = {\n",
        "        (\"in0\", \"out0\"): length,\n",
        "        (\"in0\", \"out1\"): length,\n",
        "        (\"in1\", \"out0\"): length,\n",
        "        (\"in1\", \"out1\"): length,\n",
        "    }\n",
        "    return sax.reciprocal(sdict)"
      ]
    },
    {
      "cell_type": "code",
      "execution_count": 3,
      "id": "5",
      "metadata": {
        "execution": {
          "iopub.execute_input": "2024-11-07T19:38:05.939632Z",
          "iopub.status.busy": "2024-11-07T19:38:05.939373Z",
          "iopub.status.idle": "2024-11-07T19:38:05.941999Z",
          "shell.execute_reply": "2024-11-07T19:38:05.941605Z"
        },
        "papermill": {
          "duration": 0.004947,
          "end_time": "2024-11-07T19:38:05.942684",
          "exception": false,
          "start_time": "2024-11-07T19:38:05.937737",
          "status": "completed"
        },
        "tags": []
      },
      "outputs": [],
      "source": [
        "def waveguide(length=100.0) -> sax.SDict:\n",
        "    sdict = {\n",
        "        (\"in0\", \"out0\"): length,\n",
        "    }\n",
        "    return sax.reciprocal(sdict)"
      ]
    },
    {
      "cell_type": "markdown",
      "id": "6",
      "metadata": {
        "papermill": {
          "duration": 0.001057,
          "end_time": "2024-11-07T19:38:05.944897",
          "exception": false,
          "start_time": "2024-11-07T19:38:05.943840",
          "status": "completed"
        },
        "tags": []
      },
      "source": [
        "## Circuit with additive backend"
      ]
    },
    {
      "cell_type": "code",
      "execution_count": 4,
      "id": "7",
      "metadata": {
        "execution": {
          "iopub.execute_input": "2024-11-07T19:38:05.947920Z",
          "iopub.status.busy": "2024-11-07T19:38:05.947616Z",
          "iopub.status.idle": "2024-11-07T19:38:05.986594Z",
          "shell.execute_reply": "2024-11-07T19:38:05.986056Z"
        },
        "papermill": {
          "duration": 0.041648,
          "end_time": "2024-11-07T19:38:05.987697",
          "exception": false,
          "start_time": "2024-11-07T19:38:05.946049",
          "status": "completed"
        },
        "tags": []
      },
      "outputs": [],
      "source": [
        "mzi, _ = sax.circuit(\n",
        "    netlist={\n",
        "        \"instances\": {\n",
        "            \"lft\": coupler,\n",
        "            \"top\": partial(waveguide, length=500),\n",
        "            \"btm\": partial(waveguide, length=100),\n",
        "            \"rgt\": coupler,\n",
        "        },\n",
        "        \"connections\": {\n",
        "            \"lft,out0\": \"btm,in0\",\n",
        "            \"btm,out0\": \"rgt,in0\",\n",
        "            \"lft,out1\": \"top,in0\",\n",
        "            \"top,out0\": \"rgt,in1\",\n",
        "        },\n",
        "        \"ports\": {\n",
        "            \"in0\": \"lft,in0\",\n",
        "            \"in1\": \"lft,in1\",\n",
        "            \"out0\": \"rgt,out0\",\n",
        "            \"out1\": \"rgt,out1\",\n",
        "        },\n",
        "    },\n",
        "    backend=\"additive\",\n",
        ")"
      ]
    },
    {
      "cell_type": "code",
      "execution_count": 5,
      "id": "8",
      "metadata": {
        "execution": {
          "iopub.execute_input": "2024-11-07T19:38:05.992057Z",
          "iopub.status.busy": "2024-11-07T19:38:05.991695Z",
          "iopub.status.idle": "2024-11-07T19:38:06.082502Z",
          "shell.execute_reply": "2024-11-07T19:38:06.082004Z"
        },
        "papermill": {
          "duration": 0.093326,
          "end_time": "2024-11-07T19:38:06.083377",
          "exception": false,
          "start_time": "2024-11-07T19:38:05.990051",
          "status": "completed"
        },
        "tags": []
      },
      "outputs": [
        {
          "data": {
            "text/plain": [
              "{('in0', 'in0'): [Array([0.], dtype=float64)],\n",
              " ('in0', 'out0'): [Array([200.], dtype=float64), Array([600.], dtype=float64)],\n",
              " ('in0', 'out1'): [Array([200.], dtype=float64), Array([600.], dtype=float64)],\n",
              " ('in1', 'in1'): [Array([0.], dtype=float64)],\n",
              " ('in1', 'out0'): [Array([200.], dtype=float64), Array([600.], dtype=float64)],\n",
              " ('in1', 'out1'): [Array([200.], dtype=float64), Array([600.], dtype=float64)],\n",
              " ('out0', 'in0'): [Array([200.], dtype=float64), Array([600.], dtype=float64)],\n",
              " ('out0', 'in1'): [Array([200.], dtype=float64), Array([600.], dtype=float64)],\n",
              " ('out0', 'out0'): [Array([0.], dtype=float64)],\n",
              " ('out1', 'in0'): [Array([200.], dtype=float64), Array([600.], dtype=float64)],\n",
              " ('out1', 'in1'): [Array([200.], dtype=float64), Array([600.], dtype=float64)],\n",
              " ('out1', 'out1'): [Array([0.], dtype=float64)]}"
            ]
          },
          "execution_count": 5,
          "metadata": {},
          "output_type": "execute_result"
        }
      ],
      "source": [
        "mzi()"
      ]
    }
  ],
  "metadata": {
    "kernelspec": {
      "display_name": "Python 3 (ipykernel)",
      "language": "python",
      "name": "python3"
    },
    "language_info": {
      "codemirror_mode": {
        "name": "ipython",
        "version": 3
      },
      "file_extension": ".py",
      "mimetype": "text/x-python",
      "name": "python",
      "nbconvert_exporter": "python",
      "pygments_lexer": "ipython3",
      "version": "3.11.10"
    },
    "papermill": {
      "default_parameters": {},
      "duration": 2.462432,
      "end_time": "2024-11-07T19:38:06.500856",
      "environment_variables": {},
      "exception": null,
      "input_path": "./examples/06_additive_backend.ipynb",
      "output_path": "./examples/06_additive_backend.ipynb",
      "parameters": {},
      "start_time": "2024-11-07T19:38:04.038424",
      "version": "2.6.0"
    }
  },
  "nbformat": 4,
  "nbformat_minor": 5
}