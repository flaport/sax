{
  "cells": [
    {
      "cell_type": "markdown",
      "id": "0",
      "metadata": {
        "papermill": {
          "duration": 0.002366,
          "end_time": "2025-02-27T06:33:48.766795",
          "exception": false,
          "start_time": "2025-02-27T06:33:48.764429",
          "status": "completed"
        },
        "tags": []
      },
      "source": [
        "# Additive Backend"
      ]
    },
    {
      "cell_type": "markdown",
      "id": "1",
      "metadata": {
        "papermill": {
          "duration": 0.001829,
          "end_time": "2025-02-27T06:33:48.771282",
          "exception": false,
          "start_time": "2025-02-27T06:33:48.769453",
          "status": "completed"
        },
        "tags": []
      },
      "source": [
        "> The additive backend can be used to obtain pathlengths and group delays."
      ]
    },
    {
      "cell_type": "code",
      "execution_count": 1,
      "id": "2",
      "metadata": {
        "execution": {
          "iopub.execute_input": "2025-02-27T06:33:48.778300Z",
          "iopub.status.busy": "2025-02-27T06:33:48.777629Z",
          "iopub.status.idle": "2025-02-27T06:33:50.431409Z",
          "shell.execute_reply": "2025-02-27T06:33:50.430834Z"
        },
        "papermill": {
          "duration": 1.660066,
          "end_time": "2025-02-27T06:33:50.434657",
          "exception": false,
          "start_time": "2025-02-27T06:33:48.774591",
          "status": "completed"
        },
        "tags": []
      },
      "outputs": [],
      "source": [
        "from functools import partial\n",
        "\n",
        "import jax\n",
        "import jax.example_libraries.optimizers as opt\n",
        "import jax.numpy as jnp\n",
        "import matplotlib.pyplot as plt  # plotting\n",
        "import sax"
      ]
    },
    {
      "cell_type": "markdown",
      "id": "3",
      "metadata": {
        "papermill": {
          "duration": 0.001982,
          "end_time": "2025-02-27T06:33:50.438822",
          "exception": false,
          "start_time": "2025-02-27T06:33:50.436840",
          "status": "completed"
        },
        "tags": []
      },
      "source": [
        "## Parametrized Models"
      ]
    },
    {
      "cell_type": "code",
      "execution_count": 2,
      "id": "4",
      "metadata": {
        "execution": {
          "iopub.execute_input": "2025-02-27T06:33:50.443951Z",
          "iopub.status.busy": "2025-02-27T06:33:50.443087Z",
          "iopub.status.idle": "2025-02-27T06:33:50.449507Z",
          "shell.execute_reply": "2025-02-27T06:33:50.448932Z"
        },
        "papermill": {
          "duration": 0.010371,
          "end_time": "2025-02-27T06:33:50.450870",
          "exception": false,
          "start_time": "2025-02-27T06:33:50.440499",
          "status": "completed"
        },
        "tags": []
      },
      "outputs": [],
      "source": [
        "def coupler(length=50.0) -> sax.SDict:\n",
        "    sdict = {\n",
        "        (\"in0\", \"out0\"): length,\n",
        "        (\"in0\", \"out1\"): length,\n",
        "        (\"in1\", \"out0\"): length,\n",
        "        (\"in1\", \"out1\"): length,\n",
        "    }\n",
        "    return sax.reciprocal(sdict)"
      ]
    },
    {
      "cell_type": "code",
      "execution_count": 3,
      "id": "5",
      "metadata": {
        "execution": {
          "iopub.execute_input": "2025-02-27T06:33:50.456390Z",
          "iopub.status.busy": "2025-02-27T06:33:50.456099Z",
          "iopub.status.idle": "2025-02-27T06:33:50.462049Z",
          "shell.execute_reply": "2025-02-27T06:33:50.461377Z"
        },
        "papermill": {
          "duration": 0.012831,
          "end_time": "2025-02-27T06:33:50.465996",
          "exception": false,
          "start_time": "2025-02-27T06:33:50.453165",
          "status": "completed"
        },
        "tags": []
      },
      "outputs": [],
      "source": [
        "def waveguide(length=100.0) -> sax.SDict:\n",
        "    sdict = {\n",
        "        (\"in0\", \"out0\"): length,\n",
        "    }\n",
        "    return sax.reciprocal(sdict)"
      ]
    },
    {
      "cell_type": "markdown",
      "id": "6",
      "metadata": {
        "papermill": {
          "duration": 0.00215,
          "end_time": "2025-02-27T06:33:50.473587",
          "exception": false,
          "start_time": "2025-02-27T06:33:50.471437",
          "status": "completed"
        },
        "tags": []
      },
      "source": [
        "## Circuit with additive backend"
      ]
    },
    {
      "cell_type": "code",
      "execution_count": 4,
      "id": "7",
      "metadata": {
        "execution": {
          "iopub.execute_input": "2025-02-27T06:33:50.484994Z",
          "iopub.status.busy": "2025-02-27T06:33:50.484488Z",
          "iopub.status.idle": "2025-02-27T06:33:50.597495Z",
          "shell.execute_reply": "2025-02-27T06:33:50.596945Z"
        },
        "papermill": {
          "duration": 0.122319,
          "end_time": "2025-02-27T06:33:50.600975",
          "exception": false,
          "start_time": "2025-02-27T06:33:50.478656",
          "status": "completed"
        },
        "tags": []
      },
      "outputs": [],
      "source": [
        "mzi, _ = sax.circuit(\n",
        "    netlist={\n",
        "        \"instances\": {\n",
        "            \"lft\": coupler,\n",
        "            \"top\": partial(waveguide, length=500),\n",
        "            \"btm\": partial(waveguide, length=100),\n",
        "            \"rgt\": coupler,\n",
        "        },\n",
        "        \"connections\": {\n",
        "            \"lft,out0\": \"btm,in0\",\n",
        "            \"btm,out0\": \"rgt,in0\",\n",
        "            \"lft,out1\": \"top,in0\",\n",
        "            \"top,out0\": \"rgt,in1\",\n",
        "        },\n",
        "        \"ports\": {\n",
        "            \"in0\": \"lft,in0\",\n",
        "            \"in1\": \"lft,in1\",\n",
        "            \"out0\": \"rgt,out0\",\n",
        "            \"out1\": \"rgt,out1\",\n",
        "        },\n",
        "    },\n",
        "    backend=\"additive\",\n",
        ")"
      ]
    },
    {
      "cell_type": "code",
      "execution_count": 5,
      "id": "8",
      "metadata": {
        "execution": {
          "iopub.execute_input": "2025-02-27T06:33:50.612144Z",
          "iopub.status.busy": "2025-02-27T06:33:50.611897Z",
          "iopub.status.idle": "2025-02-27T06:33:50.803893Z",
          "shell.execute_reply": "2025-02-27T06:33:50.803211Z"
        },
        "papermill": {
          "duration": 0.196184,
          "end_time": "2025-02-27T06:33:50.805304",
          "exception": false,
          "start_time": "2025-02-27T06:33:50.609120",
          "status": "completed"
        },
        "tags": []
      },
      "outputs": [
        {
          "data": {
            "text/plain": [
              "{('in0', 'in0'): [Array([0.], dtype=float64)],\n",
              " ('in0', 'out0'): [Array([200.], dtype=float64), Array([600.], dtype=float64)],\n",
              " ('in0', 'out1'): [Array([200.], dtype=float64), Array([600.], dtype=float64)],\n",
              " ('in1', 'in1'): [Array([0.], dtype=float64)],\n",
              " ('in1', 'out0'): [Array([200.], dtype=float64), Array([600.], dtype=float64)],\n",
              " ('in1', 'out1'): [Array([200.], dtype=float64), Array([600.], dtype=float64)],\n",
              " ('out0', 'in0'): [Array([200.], dtype=float64), Array([600.], dtype=float64)],\n",
              " ('out0', 'in1'): [Array([200.], dtype=float64), Array([600.], dtype=float64)],\n",
              " ('out0', 'out0'): [Array([0.], dtype=float64)],\n",
              " ('out1', 'in0'): [Array([200.], dtype=float64), Array([600.], dtype=float64)],\n",
              " ('out1', 'in1'): [Array([200.], dtype=float64), Array([600.], dtype=float64)],\n",
              " ('out1', 'out1'): [Array([0.], dtype=float64)]}"
            ]
          },
          "execution_count": 5,
          "metadata": {},
          "output_type": "execute_result"
        }
      ],
      "source": [
        "mzi()"
      ]
    }
  ],
  "metadata": {
    "kernelspec": {
      "display_name": "Python 3 (ipykernel)",
      "language": "python",
      "name": "python3"
    },
    "language_info": {
      "codemirror_mode": {
        "name": "ipython",
        "version": 3
      },
      "file_extension": ".py",
      "mimetype": "text/x-python",
      "name": "python",
      "nbconvert_exporter": "python",
      "pygments_lexer": "ipython3",
      "version": "3.12.3"
    },
    "papermill": {
      "default_parameters": {},
      "duration": 4.018718,
      "end_time": "2025-02-27T06:33:51.628338",
      "environment_variables": {},
      "exception": null,
      "input_path": "examples/06_additive_backend.ipynb",
      "output_path": "examples/06_additive_backend.ipynb",
      "parameters": {},
      "start_time": "2025-02-27T06:33:47.609620",
      "version": "2.6.0"
    }
  },
  "nbformat": 4,
  "nbformat_minor": 5
}