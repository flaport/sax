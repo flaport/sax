{
  "cells": [
    {
      "cell_type": "markdown",
      "id": "6f097557",
      "metadata": {
        "papermill": {
          "duration": 0.001799,
          "end_time": "2024-08-12T15:43:05.541916",
          "exception": false,
          "start_time": "2024-08-12T15:43:05.540117",
          "status": "completed"
        },
        "tags": []
      },
      "source": [
        "# Additive Backend"
      ]
    },
    {
      "cell_type": "markdown",
      "id": "56868383",
      "metadata": {
        "papermill": {
          "duration": 0.001299,
          "end_time": "2024-08-12T15:43:05.544553",
          "exception": false,
          "start_time": "2024-08-12T15:43:05.543254",
          "status": "completed"
        },
        "tags": []
      },
      "source": [
        "> The additive backend can be used to obtain pathlengths and group delays."
      ]
    },
    {
      "cell_type": "code",
      "execution_count": 1,
      "id": "79c98bc0",
      "metadata": {
        "execution": {
          "iopub.execute_input": "2024-08-12T15:43:05.547844Z",
          "iopub.status.busy": "2024-08-12T15:43:05.547467Z",
          "iopub.status.idle": "2024-08-12T15:43:06.472230Z",
          "shell.execute_reply": "2024-08-12T15:43:06.471582Z"
        },
        "papermill": {
          "duration": 0.928077,
          "end_time": "2024-08-12T15:43:06.473783",
          "exception": false,
          "start_time": "2024-08-12T15:43:05.545706",
          "status": "completed"
        },
        "tags": []
      },
      "outputs": [],
      "source": [
        "from functools import partial\n",
        "\n",
        "import jax\n",
        "import jax.example_libraries.optimizers as opt\n",
        "import jax.numpy as jnp\n",
        "import matplotlib.pyplot as plt  # plotting\n",
        "import sax"
      ]
    },
    {
      "cell_type": "markdown",
      "id": "6a42b9d9",
      "metadata": {
        "papermill": {
          "duration": 0.001451,
          "end_time": "2024-08-12T15:43:06.476765",
          "exception": false,
          "start_time": "2024-08-12T15:43:06.475314",
          "status": "completed"
        },
        "tags": []
      },
      "source": [
        "## Parametrized Models"
      ]
    },
    {
      "cell_type": "code",
      "execution_count": 2,
      "id": "79e7e40e",
      "metadata": {
        "execution": {
          "iopub.execute_input": "2024-08-12T15:43:06.480562Z",
          "iopub.status.busy": "2024-08-12T15:43:06.479943Z",
          "iopub.status.idle": "2024-08-12T15:43:06.483629Z",
          "shell.execute_reply": "2024-08-12T15:43:06.483046Z"
        },
        "papermill": {
          "duration": 0.006847,
          "end_time": "2024-08-12T15:43:06.484843",
          "exception": false,
          "start_time": "2024-08-12T15:43:06.477996",
          "status": "completed"
        },
        "tags": []
      },
      "outputs": [],
      "source": [
        "def coupler(length=50.0) -> sax.SDict:\n",
        "    sdict = {\n",
        "        (\"in0\", \"out0\"): length,\n",
        "        (\"in0\", \"out1\"): length,\n",
        "        (\"in1\", \"out0\"): length,\n",
        "        (\"in1\", \"out1\"): length,\n",
        "    }\n",
        "    return sax.reciprocal(sdict)"
      ]
    },
    {
      "cell_type": "code",
      "execution_count": 3,
      "id": "3248838c",
      "metadata": {
        "execution": {
          "iopub.execute_input": "2024-08-12T15:43:06.488316Z",
          "iopub.status.busy": "2024-08-12T15:43:06.487971Z",
          "iopub.status.idle": "2024-08-12T15:43:06.490739Z",
          "shell.execute_reply": "2024-08-12T15:43:06.490268Z"
        },
        "papermill": {
          "duration": 0.005782,
          "end_time": "2024-08-12T15:43:06.491896",
          "exception": false,
          "start_time": "2024-08-12T15:43:06.486114",
          "status": "completed"
        },
        "tags": []
      },
      "outputs": [],
      "source": [
        "def waveguide(length=100.0) -> sax.SDict:\n",
        "    sdict = {\n",
        "        (\"in0\", \"out0\"): length,\n",
        "    }\n",
        "    return sax.reciprocal(sdict)"
      ]
    },
    {
      "cell_type": "markdown",
      "id": "d650fb8d",
      "metadata": {
        "papermill": {
          "duration": 0.001208,
          "end_time": "2024-08-12T15:43:06.494338",
          "exception": false,
          "start_time": "2024-08-12T15:43:06.493130",
          "status": "completed"
        },
        "tags": []
      },
      "source": [
        "## Circuit with additive backend"
      ]
    },
    {
      "cell_type": "code",
      "execution_count": 4,
      "id": "56e035d0",
      "metadata": {
        "execution": {
          "iopub.execute_input": "2024-08-12T15:43:06.497772Z",
          "iopub.status.busy": "2024-08-12T15:43:06.497426Z",
          "iopub.status.idle": "2024-08-12T15:43:06.532470Z",
          "shell.execute_reply": "2024-08-12T15:43:06.531929Z"
        },
        "papermill": {
          "duration": 0.03827,
          "end_time": "2024-08-12T15:43:06.533855",
          "exception": false,
          "start_time": "2024-08-12T15:43:06.495585",
          "status": "completed"
        },
        "tags": []
      },
      "outputs": [],
      "source": [
        "mzi, _ = sax.circuit(\n",
        "    netlist={\n",
        "        \"instances\": {\n",
        "            \"lft\": coupler,\n",
        "            \"top\": partial(waveguide, length=500),\n",
        "            \"btm\": partial(waveguide, length=100),\n",
        "            \"rgt\": coupler,\n",
        "        },\n",
        "        \"connections\": {\n",
        "            \"lft,out0\": \"btm,in0\",\n",
        "            \"btm,out0\": \"rgt,in0\",\n",
        "            \"lft,out1\": \"top,in0\",\n",
        "            \"top,out0\": \"rgt,in1\",\n",
        "        },\n",
        "        \"ports\": {\n",
        "            \"in0\": \"lft,in0\",\n",
        "            \"in1\": \"lft,in1\",\n",
        "            \"out0\": \"rgt,out0\",\n",
        "            \"out1\": \"rgt,out1\",\n",
        "        },\n",
        "    },\n",
        "    backend=\"additive\",\n",
        ")"
      ]
    },
    {
      "cell_type": "code",
      "execution_count": 5,
      "id": "c1f245fd",
      "metadata": {
        "execution": {
          "iopub.execute_input": "2024-08-12T15:43:06.537749Z",
          "iopub.status.busy": "2024-08-12T15:43:06.537365Z",
          "iopub.status.idle": "2024-08-12T15:43:06.626537Z",
          "shell.execute_reply": "2024-08-12T15:43:06.625944Z"
        },
        "papermill": {
          "duration": 0.092431,
          "end_time": "2024-08-12T15:43:06.627731",
          "exception": false,
          "start_time": "2024-08-12T15:43:06.535300",
          "status": "completed"
        },
        "tags": []
      },
      "outputs": [
        {
          "data": {
            "text/plain": [
              "{('in0', 'in0'): [Array([0.], dtype=float64)],\n",
              " ('in0', 'out0'): [Array([200.], dtype=float64), Array([600.], dtype=float64)],\n",
              " ('in0', 'out1'): [Array([200.], dtype=float64), Array([600.], dtype=float64)],\n",
              " ('in1', 'in1'): [Array([0.], dtype=float64)],\n",
              " ('in1', 'out0'): [Array([200.], dtype=float64), Array([600.], dtype=float64)],\n",
              " ('in1', 'out1'): [Array([200.], dtype=float64), Array([600.], dtype=float64)],\n",
              " ('out0', 'in0'): [Array([200.], dtype=float64), Array([600.], dtype=float64)],\n",
              " ('out0', 'in1'): [Array([200.], dtype=float64), Array([600.], dtype=float64)],\n",
              " ('out0', 'out0'): [Array([0.], dtype=float64)],\n",
              " ('out1', 'in0'): [Array([200.], dtype=float64), Array([600.], dtype=float64)],\n",
              " ('out1', 'in1'): [Array([200.], dtype=float64), Array([600.], dtype=float64)],\n",
              " ('out1', 'out1'): [Array([0.], dtype=float64)]}"
            ]
          },
          "execution_count": 5,
          "metadata": {},
          "output_type": "execute_result"
        }
      ],
      "source": [
        "mzi()"
      ]
    }
  ],
  "metadata": {
    "kernelspec": {
      "display_name": "Python 3 (ipykernel)",
      "language": "python",
      "name": "python3"
    },
    "language_info": {
      "codemirror_mode": {
        "name": "ipython",
        "version": 3
      },
      "file_extension": ".py",
      "mimetype": "text/x-python",
      "name": "python",
      "nbconvert_exporter": "python",
      "pygments_lexer": "ipython3",
      "version": "3.10.14"
    },
    "papermill": {
      "default_parameters": {},
      "duration": 2.349679,
      "end_time": "2024-08-12T15:43:06.946023",
      "environment_variables": {},
      "exception": null,
      "input_path": "./examples/06_additive_backend.ipynb",
      "output_path": "./examples/06_additive_backend.ipynb",
      "parameters": {},
      "start_time": "2024-08-12T15:43:04.596344",
      "version": "2.6.0"
    }
  },
  "nbformat": 4,
  "nbformat_minor": 5
}