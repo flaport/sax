{
  "cells": [
    {
      "cell_type": "markdown",
      "id": "6f097557",
      "metadata": {
        "papermill": {
          "duration": 0.0018,
          "end_time": "2024-04-11T19:48:20.162729",
          "exception": false,
          "start_time": "2024-04-11T19:48:20.160929",
          "status": "completed"
        },
        "tags": []
      },
      "source": [
        "# Additive Backend"
      ]
    },
    {
      "cell_type": "markdown",
      "id": "56868383",
      "metadata": {
        "papermill": {
          "duration": 0.001344,
          "end_time": "2024-04-11T19:48:20.165457",
          "exception": false,
          "start_time": "2024-04-11T19:48:20.164113",
          "status": "completed"
        },
        "tags": []
      },
      "source": [
        "> The additive backend can be used to obtain pathlengths and group delays."
      ]
    },
    {
      "cell_type": "code",
      "execution_count": 1,
      "id": "79c98bc0",
      "metadata": {
        "execution": {
          "iopub.execute_input": "2024-04-11T19:48:20.169301Z",
          "iopub.status.busy": "2024-04-11T19:48:20.168847Z",
          "iopub.status.idle": "2024-04-11T19:48:21.153753Z",
          "shell.execute_reply": "2024-04-11T19:48:21.153125Z"
        },
        "papermill": {
          "duration": 0.988652,
          "end_time": "2024-04-11T19:48:21.155338",
          "exception": false,
          "start_time": "2024-04-11T19:48:20.166686",
          "status": "completed"
        },
        "tags": []
      },
      "outputs": [],
      "source": [
        "from functools import partial\n",
        "\n",
        "import jax\n",
        "import jax.example_libraries.optimizers as opt\n",
        "import jax.numpy as jnp\n",
        "import matplotlib.pyplot as plt  # plotting\n",
        "import sax"
      ]
    },
    {
      "cell_type": "markdown",
      "id": "6a42b9d9",
      "metadata": {
        "papermill": {
          "duration": 0.001442,
          "end_time": "2024-04-11T19:48:21.158347",
          "exception": false,
          "start_time": "2024-04-11T19:48:21.156905",
          "status": "completed"
        },
        "tags": []
      },
      "source": [
        "## Parametrized Models"
      ]
    },
    {
      "cell_type": "code",
      "execution_count": 2,
      "id": "79e7e40e",
      "metadata": {
        "execution": {
          "iopub.execute_input": "2024-04-11T19:48:21.161972Z",
          "iopub.status.busy": "2024-04-11T19:48:21.161478Z",
          "iopub.status.idle": "2024-04-11T19:48:21.164800Z",
          "shell.execute_reply": "2024-04-11T19:48:21.164307Z"
        },
        "papermill": {
          "duration": 0.006309,
          "end_time": "2024-04-11T19:48:21.165870",
          "exception": false,
          "start_time": "2024-04-11T19:48:21.159561",
          "status": "completed"
        },
        "tags": []
      },
      "outputs": [],
      "source": [
        "def coupler(length=50.0) -> sax.SDict:\n",
        "    sdict = {\n",
        "        (\"in0\", \"out0\"): length,\n",
        "        (\"in0\", \"out1\"): length,\n",
        "        (\"in1\", \"out0\"): length,\n",
        "        (\"in1\", \"out1\"): length,\n",
        "    }\n",
        "    return sax.reciprocal(sdict)"
      ]
    },
    {
      "cell_type": "code",
      "execution_count": 3,
      "id": "3248838c",
      "metadata": {
        "execution": {
          "iopub.execute_input": "2024-04-11T19:48:21.169281Z",
          "iopub.status.busy": "2024-04-11T19:48:21.168934Z",
          "iopub.status.idle": "2024-04-11T19:48:21.171745Z",
          "shell.execute_reply": "2024-04-11T19:48:21.171240Z"
        },
        "papermill": {
          "duration": 0.005713,
          "end_time": "2024-04-11T19:48:21.172850",
          "exception": false,
          "start_time": "2024-04-11T19:48:21.167137",
          "status": "completed"
        },
        "tags": []
      },
      "outputs": [],
      "source": [
        "def waveguide(length=100.0) -> sax.SDict:\n",
        "    sdict = {\n",
        "        (\"in0\", \"out0\"): length,\n",
        "    }\n",
        "    return sax.reciprocal(sdict)"
      ]
    },
    {
      "cell_type": "markdown",
      "id": "d650fb8d",
      "metadata": {
        "papermill": {
          "duration": 0.001235,
          "end_time": "2024-04-11T19:48:21.175387",
          "exception": false,
          "start_time": "2024-04-11T19:48:21.174152",
          "status": "completed"
        },
        "tags": []
      },
      "source": [
        "## Circuit with additive backend"
      ]
    },
    {
      "cell_type": "code",
      "execution_count": 4,
      "id": "56e035d0",
      "metadata": {
        "execution": {
          "iopub.execute_input": "2024-04-11T19:48:21.178726Z",
          "iopub.status.busy": "2024-04-11T19:48:21.178445Z",
          "iopub.status.idle": "2024-04-11T19:48:21.215167Z",
          "shell.execute_reply": "2024-04-11T19:48:21.214549Z"
        },
        "papermill": {
          "duration": 0.040037,
          "end_time": "2024-04-11T19:48:21.216658",
          "exception": false,
          "start_time": "2024-04-11T19:48:21.176621",
          "status": "completed"
        },
        "tags": []
      },
      "outputs": [],
      "source": [
        "mzi, _ = sax.circuit(\n",
        "    netlist={\n",
        "        \"instances\": {\n",
        "            \"lft\": coupler,\n",
        "            \"top\": partial(waveguide, length=500),\n",
        "            \"btm\": partial(waveguide, length=100),\n",
        "            \"rgt\": coupler,\n",
        "        },\n",
        "        \"connections\": {\n",
        "            \"lft,out0\": \"btm,in0\",\n",
        "            \"btm,out0\": \"rgt,in0\",\n",
        "            \"lft,out1\": \"top,in0\",\n",
        "            \"top,out0\": \"rgt,in1\",\n",
        "        },\n",
        "        \"ports\": {\n",
        "            \"in0\": \"lft,in0\",\n",
        "            \"in1\": \"lft,in1\",\n",
        "            \"out0\": \"rgt,out0\",\n",
        "            \"out1\": \"rgt,out1\",\n",
        "        },\n",
        "    },\n",
        "    backend=\"additive\",\n",
        ")"
      ]
    },
    {
      "cell_type": "code",
      "execution_count": 5,
      "id": "c1f245fd",
      "metadata": {
        "execution": {
          "iopub.execute_input": "2024-04-11T19:48:21.220410Z",
          "iopub.status.busy": "2024-04-11T19:48:21.220216Z",
          "iopub.status.idle": "2024-04-11T19:48:21.314115Z",
          "shell.execute_reply": "2024-04-11T19:48:21.313467Z"
        },
        "papermill": {
          "duration": 0.097192,
          "end_time": "2024-04-11T19:48:21.315373",
          "exception": false,
          "start_time": "2024-04-11T19:48:21.218181",
          "status": "completed"
        },
        "tags": []
      },
      "outputs": [
        {
          "data": {
            "text/plain": [
              "{('in0', 'in0'): [Array([0.], dtype=float64)],\n",
              " ('in0', 'out0'): [Array([200.], dtype=float64), Array([600.], dtype=float64)],\n",
              " ('in0', 'out1'): [Array([200.], dtype=float64), Array([600.], dtype=float64)],\n",
              " ('in1', 'in1'): [Array([0.], dtype=float64)],\n",
              " ('in1', 'out0'): [Array([200.], dtype=float64), Array([600.], dtype=float64)],\n",
              " ('in1', 'out1'): [Array([200.], dtype=float64), Array([600.], dtype=float64)],\n",
              " ('out0', 'in0'): [Array([200.], dtype=float64), Array([600.], dtype=float64)],\n",
              " ('out0', 'in1'): [Array([200.], dtype=float64), Array([600.], dtype=float64)],\n",
              " ('out0', 'out0'): [Array([0.], dtype=float64)],\n",
              " ('out1', 'in0'): [Array([200.], dtype=float64), Array([600.], dtype=float64)],\n",
              " ('out1', 'in1'): [Array([200.], dtype=float64), Array([600.], dtype=float64)],\n",
              " ('out1', 'out1'): [Array([0.], dtype=float64)]}"
            ]
          },
          "execution_count": 5,
          "metadata": {},
          "output_type": "execute_result"
        }
      ],
      "source": [
        "mzi()"
      ]
    }
  ],
  "metadata": {
    "kernelspec": {
      "display_name": "Python 3 (ipykernel)",
      "language": "python",
      "name": "python3"
    },
    "language_info": {
      "codemirror_mode": {
        "name": "ipython",
        "version": 3
      },
      "file_extension": ".py",
      "mimetype": "text/x-python",
      "name": "python",
      "nbconvert_exporter": "python",
      "pygments_lexer": "ipython3",
      "version": "3.10.14"
    },
    "papermill": {
      "default_parameters": {},
      "duration": 2.396903,
      "end_time": "2024-04-11T19:48:21.733771",
      "environment_variables": {},
      "exception": null,
      "input_path": "./examples/06_additive_backend.ipynb",
      "output_path": "./examples/06_additive_backend.ipynb",
      "parameters": {},
      "start_time": "2024-04-11T19:48:19.336868",
      "version": "2.4.0"
    }
  },
  "nbformat": 4,
  "nbformat_minor": 5
}