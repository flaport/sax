{
  "cells": [
    {
      "cell_type": "markdown",
      "id": "6f097557",
      "metadata": {
        "papermill": {
          "duration": 0.002037,
          "end_time": "2024-08-12T15:42:30.401674",
          "exception": false,
          "start_time": "2024-08-12T15:42:30.399637",
          "status": "completed"
        },
        "tags": []
      },
      "source": [
        "# Additive Backend"
      ]
    },
    {
      "cell_type": "markdown",
      "id": "56868383",
      "metadata": {
        "papermill": {
          "duration": 0.001564,
          "end_time": "2024-08-12T15:42:30.405157",
          "exception": false,
          "start_time": "2024-08-12T15:42:30.403593",
          "status": "completed"
        },
        "tags": []
      },
      "source": [
        "> The additive backend can be used to obtain pathlengths and group delays."
      ]
    },
    {
      "cell_type": "code",
      "execution_count": 1,
      "id": "79c98bc0",
      "metadata": {
        "execution": {
          "iopub.execute_input": "2024-08-12T15:42:30.408975Z",
          "iopub.status.busy": "2024-08-12T15:42:30.408465Z",
          "iopub.status.idle": "2024-08-12T15:42:31.371925Z",
          "shell.execute_reply": "2024-08-12T15:42:31.371326Z"
        },
        "papermill": {
          "duration": 0.966973,
          "end_time": "2024-08-12T15:42:31.373432",
          "exception": false,
          "start_time": "2024-08-12T15:42:30.406459",
          "status": "completed"
        },
        "tags": []
      },
      "outputs": [],
      "source": [
        "from functools import partial\n",
        "\n",
        "import jax\n",
        "import jax.example_libraries.optimizers as opt\n",
        "import jax.numpy as jnp\n",
        "import matplotlib.pyplot as plt  # plotting\n",
        "import sax"
      ]
    },
    {
      "cell_type": "markdown",
      "id": "6a42b9d9",
      "metadata": {
        "papermill": {
          "duration": 0.00133,
          "end_time": "2024-08-12T15:42:31.376260",
          "exception": false,
          "start_time": "2024-08-12T15:42:31.374930",
          "status": "completed"
        },
        "tags": []
      },
      "source": [
        "## Parametrized Models"
      ]
    },
    {
      "cell_type": "code",
      "execution_count": 2,
      "id": "79e7e40e",
      "metadata": {
        "execution": {
          "iopub.execute_input": "2024-08-12T15:42:31.379853Z",
          "iopub.status.busy": "2024-08-12T15:42:31.379326Z",
          "iopub.status.idle": "2024-08-12T15:42:31.382632Z",
          "shell.execute_reply": "2024-08-12T15:42:31.382163Z"
        },
        "papermill": {
          "duration": 0.006257,
          "end_time": "2024-08-12T15:42:31.383727",
          "exception": false,
          "start_time": "2024-08-12T15:42:31.377470",
          "status": "completed"
        },
        "tags": []
      },
      "outputs": [],
      "source": [
        "def coupler(length=50.0) -> sax.SDict:\n",
        "    sdict = {\n",
        "        (\"in0\", \"out0\"): length,\n",
        "        (\"in0\", \"out1\"): length,\n",
        "        (\"in1\", \"out0\"): length,\n",
        "        (\"in1\", \"out1\"): length,\n",
        "    }\n",
        "    return sax.reciprocal(sdict)"
      ]
    },
    {
      "cell_type": "code",
      "execution_count": 3,
      "id": "3248838c",
      "metadata": {
        "execution": {
          "iopub.execute_input": "2024-08-12T15:42:31.386935Z",
          "iopub.status.busy": "2024-08-12T15:42:31.386761Z",
          "iopub.status.idle": "2024-08-12T15:42:31.389702Z",
          "shell.execute_reply": "2024-08-12T15:42:31.389237Z"
        },
        "papermill": {
          "duration": 0.005687,
          "end_time": "2024-08-12T15:42:31.390733",
          "exception": false,
          "start_time": "2024-08-12T15:42:31.385046",
          "status": "completed"
        },
        "tags": []
      },
      "outputs": [],
      "source": [
        "def waveguide(length=100.0) -> sax.SDict:\n",
        "    sdict = {\n",
        "        (\"in0\", \"out0\"): length,\n",
        "    }\n",
        "    return sax.reciprocal(sdict)"
      ]
    },
    {
      "cell_type": "markdown",
      "id": "d650fb8d",
      "metadata": {
        "papermill": {
          "duration": 0.001224,
          "end_time": "2024-08-12T15:42:31.393205",
          "exception": false,
          "start_time": "2024-08-12T15:42:31.391981",
          "status": "completed"
        },
        "tags": []
      },
      "source": [
        "## Circuit with additive backend"
      ]
    },
    {
      "cell_type": "code",
      "execution_count": 4,
      "id": "56e035d0",
      "metadata": {
        "execution": {
          "iopub.execute_input": "2024-08-12T15:42:31.396568Z",
          "iopub.status.busy": "2024-08-12T15:42:31.396141Z",
          "iopub.status.idle": "2024-08-12T15:42:31.431455Z",
          "shell.execute_reply": "2024-08-12T15:42:31.430846Z"
        },
        "papermill": {
          "duration": 0.038496,
          "end_time": "2024-08-12T15:42:31.432927",
          "exception": false,
          "start_time": "2024-08-12T15:42:31.394431",
          "status": "completed"
        },
        "tags": []
      },
      "outputs": [],
      "source": [
        "mzi, _ = sax.circuit(\n",
        "    netlist={\n",
        "        \"instances\": {\n",
        "            \"lft\": coupler,\n",
        "            \"top\": partial(waveguide, length=500),\n",
        "            \"btm\": partial(waveguide, length=100),\n",
        "            \"rgt\": coupler,\n",
        "        },\n",
        "        \"connections\": {\n",
        "            \"lft,out0\": \"btm,in0\",\n",
        "            \"btm,out0\": \"rgt,in0\",\n",
        "            \"lft,out1\": \"top,in0\",\n",
        "            \"top,out0\": \"rgt,in1\",\n",
        "        },\n",
        "        \"ports\": {\n",
        "            \"in0\": \"lft,in0\",\n",
        "            \"in1\": \"lft,in1\",\n",
        "            \"out0\": \"rgt,out0\",\n",
        "            \"out1\": \"rgt,out1\",\n",
        "        },\n",
        "    },\n",
        "    backend=\"additive\",\n",
        ")"
      ]
    },
    {
      "cell_type": "code",
      "execution_count": 5,
      "id": "c1f245fd",
      "metadata": {
        "execution": {
          "iopub.execute_input": "2024-08-12T15:42:31.436644Z",
          "iopub.status.busy": "2024-08-12T15:42:31.436269Z",
          "iopub.status.idle": "2024-08-12T15:42:31.526525Z",
          "shell.execute_reply": "2024-08-12T15:42:31.525921Z"
        },
        "papermill": {
          "duration": 0.0934,
          "end_time": "2024-08-12T15:42:31.527729",
          "exception": false,
          "start_time": "2024-08-12T15:42:31.434329",
          "status": "completed"
        },
        "tags": []
      },
      "outputs": [
        {
          "data": {
            "text/plain": [
              "{('in0', 'in0'): [Array([0.], dtype=float64)],\n",
              " ('in0', 'out0'): [Array([200.], dtype=float64), Array([600.], dtype=float64)],\n",
              " ('in0', 'out1'): [Array([200.], dtype=float64), Array([600.], dtype=float64)],\n",
              " ('in1', 'in1'): [Array([0.], dtype=float64)],\n",
              " ('in1', 'out0'): [Array([200.], dtype=float64), Array([600.], dtype=float64)],\n",
              " ('in1', 'out1'): [Array([200.], dtype=float64), Array([600.], dtype=float64)],\n",
              " ('out0', 'in0'): [Array([200.], dtype=float64), Array([600.], dtype=float64)],\n",
              " ('out0', 'in1'): [Array([200.], dtype=float64), Array([600.], dtype=float64)],\n",
              " ('out0', 'out0'): [Array([0.], dtype=float64)],\n",
              " ('out1', 'in0'): [Array([200.], dtype=float64), Array([600.], dtype=float64)],\n",
              " ('out1', 'in1'): [Array([200.], dtype=float64), Array([600.], dtype=float64)],\n",
              " ('out1', 'out1'): [Array([0.], dtype=float64)]}"
            ]
          },
          "execution_count": 5,
          "metadata": {},
          "output_type": "execute_result"
        }
      ],
      "source": [
        "mzi()"
      ]
    }
  ],
  "metadata": {
    "kernelspec": {
      "display_name": "Python 3 (ipykernel)",
      "language": "python",
      "name": "python3"
    },
    "language_info": {
      "codemirror_mode": {
        "name": "ipython",
        "version": 3
      },
      "file_extension": ".py",
      "mimetype": "text/x-python",
      "name": "python",
      "nbconvert_exporter": "python",
      "pygments_lexer": "ipython3",
      "version": "3.10.14"
    },
    "papermill": {
      "default_parameters": {},
      "duration": 2.393495,
      "end_time": "2024-08-12T15:42:31.845624",
      "environment_variables": {},
      "exception": null,
      "input_path": "./examples/06_additive_backend.ipynb",
      "output_path": "./examples/06_additive_backend.ipynb",
      "parameters": {},
      "start_time": "2024-08-12T15:42:29.452129",
      "version": "2.6.0"
    }
  },
  "nbformat": 4,
  "nbformat_minor": 5
}