{
  "cells": [
    {
      "cell_type": "markdown",
      "id": "0",
      "metadata": {
        "papermill": {
          "duration": 0.002221,
          "end_time": "2025-02-27T06:33:23.542850",
          "exception": false,
          "start_time": "2025-02-27T06:33:23.540629",
          "status": "completed"
        },
        "tags": []
      },
      "source": [
        "# Additive Backend"
      ]
    },
    {
      "cell_type": "markdown",
      "id": "1",
      "metadata": {
        "papermill": {
          "duration": 0.001856,
          "end_time": "2025-02-27T06:33:23.547070",
          "exception": false,
          "start_time": "2025-02-27T06:33:23.545214",
          "status": "completed"
        },
        "tags": []
      },
      "source": [
        "> The additive backend can be used to obtain pathlengths and group delays."
      ]
    },
    {
      "cell_type": "code",
      "execution_count": 1,
      "id": "2",
      "metadata": {
        "execution": {
          "iopub.execute_input": "2025-02-27T06:33:23.554704Z",
          "iopub.status.busy": "2025-02-27T06:33:23.553716Z",
          "iopub.status.idle": "2025-02-27T06:33:25.327815Z",
          "shell.execute_reply": "2025-02-27T06:33:25.327163Z"
        },
        "papermill": {
          "duration": 1.778698,
          "end_time": "2025-02-27T06:33:25.329231",
          "exception": false,
          "start_time": "2025-02-27T06:33:23.550533",
          "status": "completed"
        },
        "tags": []
      },
      "outputs": [],
      "source": [
        "from functools import partial\n",
        "\n",
        "import jax\n",
        "import jax.example_libraries.optimizers as opt\n",
        "import jax.numpy as jnp\n",
        "import matplotlib.pyplot as plt  # plotting\n",
        "import sax"
      ]
    },
    {
      "cell_type": "markdown",
      "id": "3",
      "metadata": {
        "papermill": {
          "duration": 0.002334,
          "end_time": "2025-02-27T06:33:25.333899",
          "exception": false,
          "start_time": "2025-02-27T06:33:25.331565",
          "status": "completed"
        },
        "tags": []
      },
      "source": [
        "## Parametrized Models"
      ]
    },
    {
      "cell_type": "code",
      "execution_count": 2,
      "id": "4",
      "metadata": {
        "execution": {
          "iopub.execute_input": "2025-02-27T06:33:25.339656Z",
          "iopub.status.busy": "2025-02-27T06:33:25.338913Z",
          "iopub.status.idle": "2025-02-27T06:33:25.344515Z",
          "shell.execute_reply": "2025-02-27T06:33:25.343835Z"
        },
        "papermill": {
          "duration": 0.009858,
          "end_time": "2025-02-27T06:33:25.345725",
          "exception": false,
          "start_time": "2025-02-27T06:33:25.335867",
          "status": "completed"
        },
        "tags": []
      },
      "outputs": [],
      "source": [
        "def coupler(length=50.0) -> sax.SDict:\n",
        "    sdict = {\n",
        "        (\"in0\", \"out0\"): length,\n",
        "        (\"in0\", \"out1\"): length,\n",
        "        (\"in1\", \"out0\"): length,\n",
        "        (\"in1\", \"out1\"): length,\n",
        "    }\n",
        "    return sax.reciprocal(sdict)"
      ]
    },
    {
      "cell_type": "code",
      "execution_count": 3,
      "id": "5",
      "metadata": {
        "execution": {
          "iopub.execute_input": "2025-02-27T06:33:25.352062Z",
          "iopub.status.busy": "2025-02-27T06:33:25.351344Z",
          "iopub.status.idle": "2025-02-27T06:33:25.355088Z",
          "shell.execute_reply": "2025-02-27T06:33:25.354508Z"
        },
        "papermill": {
          "duration": 0.007657,
          "end_time": "2025-02-27T06:33:25.356142",
          "exception": false,
          "start_time": "2025-02-27T06:33:25.348485",
          "status": "completed"
        },
        "tags": []
      },
      "outputs": [],
      "source": [
        "def waveguide(length=100.0) -> sax.SDict:\n",
        "    sdict = {\n",
        "        (\"in0\", \"out0\"): length,\n",
        "    }\n",
        "    return sax.reciprocal(sdict)"
      ]
    },
    {
      "cell_type": "markdown",
      "id": "6",
      "metadata": {
        "papermill": {
          "duration": 0.00215,
          "end_time": "2025-02-27T06:33:25.360876",
          "exception": false,
          "start_time": "2025-02-27T06:33:25.358726",
          "status": "completed"
        },
        "tags": []
      },
      "source": [
        "## Circuit with additive backend"
      ]
    },
    {
      "cell_type": "code",
      "execution_count": 4,
      "id": "7",
      "metadata": {
        "execution": {
          "iopub.execute_input": "2025-02-27T06:33:25.366646Z",
          "iopub.status.busy": "2025-02-27T06:33:25.366230Z",
          "iopub.status.idle": "2025-02-27T06:33:25.450545Z",
          "shell.execute_reply": "2025-02-27T06:33:25.450009Z"
        },
        "papermill": {
          "duration": 0.089259,
          "end_time": "2025-02-27T06:33:25.452246",
          "exception": false,
          "start_time": "2025-02-27T06:33:25.362987",
          "status": "completed"
        },
        "tags": []
      },
      "outputs": [],
      "source": [
        "mzi, _ = sax.circuit(\n",
        "    netlist={\n",
        "        \"instances\": {\n",
        "            \"lft\": coupler,\n",
        "            \"top\": partial(waveguide, length=500),\n",
        "            \"btm\": partial(waveguide, length=100),\n",
        "            \"rgt\": coupler,\n",
        "        },\n",
        "        \"connections\": {\n",
        "            \"lft,out0\": \"btm,in0\",\n",
        "            \"btm,out0\": \"rgt,in0\",\n",
        "            \"lft,out1\": \"top,in0\",\n",
        "            \"top,out0\": \"rgt,in1\",\n",
        "        },\n",
        "        \"ports\": {\n",
        "            \"in0\": \"lft,in0\",\n",
        "            \"in1\": \"lft,in1\",\n",
        "            \"out0\": \"rgt,out0\",\n",
        "            \"out1\": \"rgt,out1\",\n",
        "        },\n",
        "    },\n",
        "    backend=\"additive\",\n",
        ")"
      ]
    },
    {
      "cell_type": "code",
      "execution_count": 5,
      "id": "8",
      "metadata": {
        "execution": {
          "iopub.execute_input": "2025-02-27T06:33:25.469798Z",
          "iopub.status.busy": "2025-02-27T06:33:25.469437Z",
          "iopub.status.idle": "2025-02-27T06:33:25.640004Z",
          "shell.execute_reply": "2025-02-27T06:33:25.639434Z"
        },
        "papermill": {
          "duration": 0.186555,
          "end_time": "2025-02-27T06:33:25.641248",
          "exception": false,
          "start_time": "2025-02-27T06:33:25.454693",
          "status": "completed"
        },
        "tags": []
      },
      "outputs": [
        {
          "data": {
            "text/plain": [
              "{('in0', 'in0'): [Array([0.], dtype=float64)],\n",
              " ('in0', 'out0'): [Array([200.], dtype=float64), Array([600.], dtype=float64)],\n",
              " ('in0', 'out1'): [Array([200.], dtype=float64), Array([600.], dtype=float64)],\n",
              " ('in1', 'in1'): [Array([0.], dtype=float64)],\n",
              " ('in1', 'out0'): [Array([200.], dtype=float64), Array([600.], dtype=float64)],\n",
              " ('in1', 'out1'): [Array([200.], dtype=float64), Array([600.], dtype=float64)],\n",
              " ('out0', 'in0'): [Array([200.], dtype=float64), Array([600.], dtype=float64)],\n",
              " ('out0', 'in1'): [Array([200.], dtype=float64), Array([600.], dtype=float64)],\n",
              " ('out0', 'out0'): [Array([0.], dtype=float64)],\n",
              " ('out1', 'in0'): [Array([200.], dtype=float64), Array([600.], dtype=float64)],\n",
              " ('out1', 'in1'): [Array([200.], dtype=float64), Array([600.], dtype=float64)],\n",
              " ('out1', 'out1'): [Array([0.], dtype=float64)]}"
            ]
          },
          "execution_count": 5,
          "metadata": {},
          "output_type": "execute_result"
        }
      ],
      "source": [
        "mzi()"
      ]
    }
  ],
  "metadata": {
    "kernelspec": {
      "display_name": "Python 3 (ipykernel)",
      "language": "python",
      "name": "python3"
    },
    "language_info": {
      "codemirror_mode": {
        "name": "ipython",
        "version": 3
      },
      "file_extension": ".py",
      "mimetype": "text/x-python",
      "name": "python",
      "nbconvert_exporter": "python",
      "pygments_lexer": "ipython3",
      "version": "3.12.3"
    },
    "papermill": {
      "default_parameters": {},
      "duration": 3.87985,
      "end_time": "2025-02-27T06:33:26.266142",
      "environment_variables": {},
      "exception": null,
      "input_path": "examples/06_additive_backend.ipynb",
      "output_path": "examples/06_additive_backend.ipynb",
      "parameters": {},
      "start_time": "2025-02-27T06:33:22.386292",
      "version": "2.6.0"
    }
  },
  "nbformat": 4,
  "nbformat_minor": 5
}