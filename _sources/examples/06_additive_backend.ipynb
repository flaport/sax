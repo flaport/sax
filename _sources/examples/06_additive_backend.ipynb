{
  "cells": [
    {
      "cell_type": "markdown",
      "id": "0",
      "metadata": {
        "papermill": {
          "duration": 0.002309,
          "end_time": "2025-02-13T09:48:54.802397",
          "exception": false,
          "start_time": "2025-02-13T09:48:54.800088",
          "status": "completed"
        },
        "tags": []
      },
      "source": [
        "# Additive Backend"
      ]
    },
    {
      "cell_type": "markdown",
      "id": "1",
      "metadata": {
        "papermill": {
          "duration": 0.001795,
          "end_time": "2025-02-13T09:48:54.806390",
          "exception": false,
          "start_time": "2025-02-13T09:48:54.804595",
          "status": "completed"
        },
        "tags": []
      },
      "source": [
        "> The additive backend can be used to obtain pathlengths and group delays."
      ]
    },
    {
      "cell_type": "code",
      "execution_count": 1,
      "id": "2",
      "metadata": {
        "execution": {
          "iopub.execute_input": "2025-02-13T09:48:54.811837Z",
          "iopub.status.busy": "2025-02-13T09:48:54.811362Z",
          "iopub.status.idle": "2025-02-13T09:48:56.357578Z",
          "shell.execute_reply": "2025-02-13T09:48:56.357013Z"
        },
        "papermill": {
          "duration": 1.550712,
          "end_time": "2025-02-13T09:48:56.359047",
          "exception": false,
          "start_time": "2025-02-13T09:48:54.808335",
          "status": "completed"
        },
        "tags": []
      },
      "outputs": [],
      "source": [
        "from functools import partial\n",
        "\n",
        "import jax\n",
        "import jax.example_libraries.optimizers as opt\n",
        "import jax.numpy as jnp\n",
        "import matplotlib.pyplot as plt  # plotting\n",
        "import sax"
      ]
    },
    {
      "cell_type": "markdown",
      "id": "3",
      "metadata": {
        "papermill": {
          "duration": 0.001857,
          "end_time": "2025-02-13T09:48:56.363135",
          "exception": false,
          "start_time": "2025-02-13T09:48:56.361278",
          "status": "completed"
        },
        "tags": []
      },
      "source": [
        "## Parametrized Models"
      ]
    },
    {
      "cell_type": "code",
      "execution_count": 2,
      "id": "4",
      "metadata": {
        "execution": {
          "iopub.execute_input": "2025-02-13T09:48:56.368494Z",
          "iopub.status.busy": "2025-02-13T09:48:56.368023Z",
          "iopub.status.idle": "2025-02-13T09:48:56.372875Z",
          "shell.execute_reply": "2025-02-13T09:48:56.372234Z"
        },
        "papermill": {
          "duration": 0.009254,
          "end_time": "2025-02-13T09:48:56.374219",
          "exception": false,
          "start_time": "2025-02-13T09:48:56.364965",
          "status": "completed"
        },
        "tags": []
      },
      "outputs": [],
      "source": [
        "def coupler(length=50.0) -> sax.SDict:\n",
        "    sdict = {\n",
        "        (\"in0\", \"out0\"): length,\n",
        "        (\"in0\", \"out1\"): length,\n",
        "        (\"in1\", \"out0\"): length,\n",
        "        (\"in1\", \"out1\"): length,\n",
        "    }\n",
        "    return sax.reciprocal(sdict)"
      ]
    },
    {
      "cell_type": "code",
      "execution_count": 3,
      "id": "5",
      "metadata": {
        "execution": {
          "iopub.execute_input": "2025-02-13T09:48:56.381107Z",
          "iopub.status.busy": "2025-02-13T09:48:56.380876Z",
          "iopub.status.idle": "2025-02-13T09:48:56.385699Z",
          "shell.execute_reply": "2025-02-13T09:48:56.385137Z"
        },
        "papermill": {
          "duration": 0.010367,
          "end_time": "2025-02-13T09:48:56.386882",
          "exception": false,
          "start_time": "2025-02-13T09:48:56.376515",
          "status": "completed"
        },
        "tags": []
      },
      "outputs": [],
      "source": [
        "def waveguide(length=100.0) -> sax.SDict:\n",
        "    sdict = {\n",
        "        (\"in0\", \"out0\"): length,\n",
        "    }\n",
        "    return sax.reciprocal(sdict)"
      ]
    },
    {
      "cell_type": "markdown",
      "id": "6",
      "metadata": {
        "papermill": {
          "duration": 0.001853,
          "end_time": "2025-02-13T09:48:56.391130",
          "exception": false,
          "start_time": "2025-02-13T09:48:56.389277",
          "status": "completed"
        },
        "tags": []
      },
      "source": [
        "## Circuit with additive backend"
      ]
    },
    {
      "cell_type": "code",
      "execution_count": 4,
      "id": "7",
      "metadata": {
        "execution": {
          "iopub.execute_input": "2025-02-13T09:48:56.395961Z",
          "iopub.status.busy": "2025-02-13T09:48:56.395651Z",
          "iopub.status.idle": "2025-02-13T09:48:56.464013Z",
          "shell.execute_reply": "2025-02-13T09:48:56.463269Z"
        },
        "papermill": {
          "duration": 0.07291,
          "end_time": "2025-02-13T09:48:56.465885",
          "exception": false,
          "start_time": "2025-02-13T09:48:56.392975",
          "status": "completed"
        },
        "tags": []
      },
      "outputs": [],
      "source": [
        "mzi, _ = sax.circuit(\n",
        "    netlist={\n",
        "        \"instances\": {\n",
        "            \"lft\": coupler,\n",
        "            \"top\": partial(waveguide, length=500),\n",
        "            \"btm\": partial(waveguide, length=100),\n",
        "            \"rgt\": coupler,\n",
        "        },\n",
        "        \"connections\": {\n",
        "            \"lft,out0\": \"btm,in0\",\n",
        "            \"btm,out0\": \"rgt,in0\",\n",
        "            \"lft,out1\": \"top,in0\",\n",
        "            \"top,out0\": \"rgt,in1\",\n",
        "        },\n",
        "        \"ports\": {\n",
        "            \"in0\": \"lft,in0\",\n",
        "            \"in1\": \"lft,in1\",\n",
        "            \"out0\": \"rgt,out0\",\n",
        "            \"out1\": \"rgt,out1\",\n",
        "        },\n",
        "    },\n",
        "    backend=\"additive\",\n",
        ")"
      ]
    },
    {
      "cell_type": "code",
      "execution_count": 5,
      "id": "8",
      "metadata": {
        "execution": {
          "iopub.execute_input": "2025-02-13T09:48:56.472659Z",
          "iopub.status.busy": "2025-02-13T09:48:56.471511Z",
          "iopub.status.idle": "2025-02-13T09:48:56.655079Z",
          "shell.execute_reply": "2025-02-13T09:48:56.654450Z"
        },
        "papermill": {
          "duration": 0.187937,
          "end_time": "2025-02-13T09:48:56.656468",
          "exception": false,
          "start_time": "2025-02-13T09:48:56.468531",
          "status": "completed"
        },
        "tags": []
      },
      "outputs": [
        {
          "data": {
            "text/plain": [
              "{('in0', 'in0'): [Array([0.], dtype=float64)],\n",
              " ('in0', 'out0'): [Array([200.], dtype=float64), Array([600.], dtype=float64)],\n",
              " ('in0', 'out1'): [Array([200.], dtype=float64), Array([600.], dtype=float64)],\n",
              " ('in1', 'in1'): [Array([0.], dtype=float64)],\n",
              " ('in1', 'out0'): [Array([200.], dtype=float64), Array([600.], dtype=float64)],\n",
              " ('in1', 'out1'): [Array([200.], dtype=float64), Array([600.], dtype=float64)],\n",
              " ('out0', 'in0'): [Array([200.], dtype=float64), Array([600.], dtype=float64)],\n",
              " ('out0', 'in1'): [Array([200.], dtype=float64), Array([600.], dtype=float64)],\n",
              " ('out0', 'out0'): [Array([0.], dtype=float64)],\n",
              " ('out1', 'in0'): [Array([200.], dtype=float64), Array([600.], dtype=float64)],\n",
              " ('out1', 'in1'): [Array([200.], dtype=float64), Array([600.], dtype=float64)],\n",
              " ('out1', 'out1'): [Array([0.], dtype=float64)]}"
            ]
          },
          "execution_count": 5,
          "metadata": {},
          "output_type": "execute_result"
        }
      ],
      "source": [
        "mzi()"
      ]
    }
  ],
  "metadata": {
    "kernelspec": {
      "display_name": "Python 3 (ipykernel)",
      "language": "python",
      "name": "python3"
    },
    "language_info": {
      "codemirror_mode": {
        "name": "ipython",
        "version": 3
      },
      "file_extension": ".py",
      "mimetype": "text/x-python",
      "name": "python",
      "nbconvert_exporter": "python",
      "pygments_lexer": "ipython3",
      "version": "3.12.3"
    },
    "papermill": {
      "default_parameters": {},
      "duration": 3.775183,
      "end_time": "2025-02-13T09:48:57.487601",
      "environment_variables": {},
      "exception": null,
      "input_path": "./examples/06_additive_backend.ipynb",
      "output_path": "./examples/06_additive_backend.ipynb",
      "parameters": {},
      "start_time": "2025-02-13T09:48:53.712418",
      "version": "2.6.0"
    }
  },
  "nbformat": 4,
  "nbformat_minor": 5
}