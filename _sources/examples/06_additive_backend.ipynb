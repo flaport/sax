{
  "cells": [
    {
      "cell_type": "markdown",
      "id": "0",
      "metadata": {
        "papermill": {
          "duration": 0.002413,
          "end_time": "2025-02-27T06:16:18.745196",
          "exception": false,
          "start_time": "2025-02-27T06:16:18.742783",
          "status": "completed"
        },
        "tags": []
      },
      "source": [
        "# Additive Backend"
      ]
    },
    {
      "cell_type": "markdown",
      "id": "1",
      "metadata": {
        "papermill": {
          "duration": 0.001736,
          "end_time": "2025-02-27T06:16:18.749112",
          "exception": false,
          "start_time": "2025-02-27T06:16:18.747376",
          "status": "completed"
        },
        "tags": []
      },
      "source": [
        "> The additive backend can be used to obtain pathlengths and group delays."
      ]
    },
    {
      "cell_type": "code",
      "execution_count": 1,
      "id": "2",
      "metadata": {
        "execution": {
          "iopub.execute_input": "2025-02-27T06:16:18.755137Z",
          "iopub.status.busy": "2025-02-27T06:16:18.754615Z",
          "iopub.status.idle": "2025-02-27T06:16:20.344401Z",
          "shell.execute_reply": "2025-02-27T06:16:20.343783Z"
        },
        "papermill": {
          "duration": 1.594529,
          "end_time": "2025-02-27T06:16:20.345802",
          "exception": false,
          "start_time": "2025-02-27T06:16:18.751273",
          "status": "completed"
        },
        "tags": []
      },
      "outputs": [],
      "source": [
        "from functools import partial\n",
        "\n",
        "import jax\n",
        "import jax.example_libraries.optimizers as opt\n",
        "import jax.numpy as jnp\n",
        "import matplotlib.pyplot as plt  # plotting\n",
        "import sax"
      ]
    },
    {
      "cell_type": "markdown",
      "id": "3",
      "metadata": {
        "papermill": {
          "duration": 0.002281,
          "end_time": "2025-02-27T06:16:20.350193",
          "exception": false,
          "start_time": "2025-02-27T06:16:20.347912",
          "status": "completed"
        },
        "tags": []
      },
      "source": [
        "## Parametrized Models"
      ]
    },
    {
      "cell_type": "code",
      "execution_count": 2,
      "id": "4",
      "metadata": {
        "execution": {
          "iopub.execute_input": "2025-02-27T06:16:20.355887Z",
          "iopub.status.busy": "2025-02-27T06:16:20.355462Z",
          "iopub.status.idle": "2025-02-27T06:16:20.360604Z",
          "shell.execute_reply": "2025-02-27T06:16:20.360102Z"
        },
        "papermill": {
          "duration": 0.009409,
          "end_time": "2025-02-27T06:16:20.361740",
          "exception": false,
          "start_time": "2025-02-27T06:16:20.352331",
          "status": "completed"
        },
        "tags": []
      },
      "outputs": [],
      "source": [
        "def coupler(length=50.0) -> sax.SDict:\n",
        "    sdict = {\n",
        "        (\"in0\", \"out0\"): length,\n",
        "        (\"in0\", \"out1\"): length,\n",
        "        (\"in1\", \"out0\"): length,\n",
        "        (\"in1\", \"out1\"): length,\n",
        "    }\n",
        "    return sax.reciprocal(sdict)"
      ]
    },
    {
      "cell_type": "code",
      "execution_count": 3,
      "id": "5",
      "metadata": {
        "execution": {
          "iopub.execute_input": "2025-02-27T06:16:20.368368Z",
          "iopub.status.busy": "2025-02-27T06:16:20.368136Z",
          "iopub.status.idle": "2025-02-27T06:16:20.372424Z",
          "shell.execute_reply": "2025-02-27T06:16:20.371881Z"
        },
        "papermill": {
          "duration": 0.009602,
          "end_time": "2025-02-27T06:16:20.373522",
          "exception": false,
          "start_time": "2025-02-27T06:16:20.363920",
          "status": "completed"
        },
        "tags": []
      },
      "outputs": [],
      "source": [
        "def waveguide(length=100.0) -> sax.SDict:\n",
        "    sdict = {\n",
        "        (\"in0\", \"out0\"): length,\n",
        "    }\n",
        "    return sax.reciprocal(sdict)"
      ]
    },
    {
      "cell_type": "markdown",
      "id": "6",
      "metadata": {
        "papermill": {
          "duration": 0.002247,
          "end_time": "2025-02-27T06:16:20.377744",
          "exception": false,
          "start_time": "2025-02-27T06:16:20.375497",
          "status": "completed"
        },
        "tags": []
      },
      "source": [
        "## Circuit with additive backend"
      ]
    },
    {
      "cell_type": "code",
      "execution_count": 4,
      "id": "7",
      "metadata": {
        "execution": {
          "iopub.execute_input": "2025-02-27T06:16:20.383949Z",
          "iopub.status.busy": "2025-02-27T06:16:20.382955Z",
          "iopub.status.idle": "2025-02-27T06:16:20.455581Z",
          "shell.execute_reply": "2025-02-27T06:16:20.454873Z"
        },
        "papermill": {
          "duration": 0.076987,
          "end_time": "2025-02-27T06:16:20.456923",
          "exception": false,
          "start_time": "2025-02-27T06:16:20.379936",
          "status": "completed"
        },
        "tags": []
      },
      "outputs": [],
      "source": [
        "mzi, _ = sax.circuit(\n",
        "    netlist={\n",
        "        \"instances\": {\n",
        "            \"lft\": coupler,\n",
        "            \"top\": partial(waveguide, length=500),\n",
        "            \"btm\": partial(waveguide, length=100),\n",
        "            \"rgt\": coupler,\n",
        "        },\n",
        "        \"connections\": {\n",
        "            \"lft,out0\": \"btm,in0\",\n",
        "            \"btm,out0\": \"rgt,in0\",\n",
        "            \"lft,out1\": \"top,in0\",\n",
        "            \"top,out0\": \"rgt,in1\",\n",
        "        },\n",
        "        \"ports\": {\n",
        "            \"in0\": \"lft,in0\",\n",
        "            \"in1\": \"lft,in1\",\n",
        "            \"out0\": \"rgt,out0\",\n",
        "            \"out1\": \"rgt,out1\",\n",
        "        },\n",
        "    },\n",
        "    backend=\"additive\",\n",
        ")"
      ]
    },
    {
      "cell_type": "code",
      "execution_count": 5,
      "id": "8",
      "metadata": {
        "execution": {
          "iopub.execute_input": "2025-02-27T06:16:20.462306Z",
          "iopub.status.busy": "2025-02-27T06:16:20.462081Z",
          "iopub.status.idle": "2025-02-27T06:16:20.607586Z",
          "shell.execute_reply": "2025-02-27T06:16:20.606910Z"
        },
        "papermill": {
          "duration": 0.149308,
          "end_time": "2025-02-27T06:16:20.608779",
          "exception": false,
          "start_time": "2025-02-27T06:16:20.459471",
          "status": "completed"
        },
        "tags": []
      },
      "outputs": [
        {
          "data": {
            "text/plain": [
              "{('in0', 'in0'): [Array([0.], dtype=float64)],\n",
              " ('in0', 'out0'): [Array([200.], dtype=float64), Array([600.], dtype=float64)],\n",
              " ('in0', 'out1'): [Array([200.], dtype=float64), Array([600.], dtype=float64)],\n",
              " ('in1', 'in1'): [Array([0.], dtype=float64)],\n",
              " ('in1', 'out0'): [Array([200.], dtype=float64), Array([600.], dtype=float64)],\n",
              " ('in1', 'out1'): [Array([200.], dtype=float64), Array([600.], dtype=float64)],\n",
              " ('out0', 'in0'): [Array([200.], dtype=float64), Array([600.], dtype=float64)],\n",
              " ('out0', 'in1'): [Array([200.], dtype=float64), Array([600.], dtype=float64)],\n",
              " ('out0', 'out0'): [Array([0.], dtype=float64)],\n",
              " ('out1', 'in0'): [Array([200.], dtype=float64), Array([600.], dtype=float64)],\n",
              " ('out1', 'in1'): [Array([200.], dtype=float64), Array([600.], dtype=float64)],\n",
              " ('out1', 'out1'): [Array([0.], dtype=float64)]}"
            ]
          },
          "execution_count": 5,
          "metadata": {},
          "output_type": "execute_result"
        }
      ],
      "source": [
        "mzi()"
      ]
    }
  ],
  "metadata": {
    "kernelspec": {
      "display_name": "Python 3 (ipykernel)",
      "language": "python",
      "name": "python3"
    },
    "language_info": {
      "codemirror_mode": {
        "name": "ipython",
        "version": 3
      },
      "file_extension": ".py",
      "mimetype": "text/x-python",
      "name": "python",
      "nbconvert_exporter": "python",
      "pygments_lexer": "ipython3",
      "version": "3.12.3"
    },
    "papermill": {
      "default_parameters": {},
      "duration": 3.874311,
      "end_time": "2025-02-27T06:16:21.430922",
      "environment_variables": {},
      "exception": null,
      "input_path": "./examples/06_additive_backend.ipynb",
      "output_path": "./examples/06_additive_backend.ipynb",
      "parameters": {},
      "start_time": "2025-02-27T06:16:17.556611",
      "version": "2.6.0"
    }
  },
  "nbformat": 4,
  "nbformat_minor": 5
}