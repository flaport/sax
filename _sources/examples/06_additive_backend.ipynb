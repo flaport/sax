{
  "cells": [
    {
      "cell_type": "markdown",
      "id": "0",
      "metadata": {
        "papermill": {
          "duration": 0.002226,
          "end_time": "2025-02-13T09:51:36.794052",
          "exception": false,
          "start_time": "2025-02-13T09:51:36.791826",
          "status": "completed"
        },
        "tags": []
      },
      "source": [
        "# Additive Backend"
      ]
    },
    {
      "cell_type": "markdown",
      "id": "1",
      "metadata": {
        "papermill": {
          "duration": 0.001816,
          "end_time": "2025-02-13T09:51:36.798042",
          "exception": false,
          "start_time": "2025-02-13T09:51:36.796226",
          "status": "completed"
        },
        "tags": []
      },
      "source": [
        "> The additive backend can be used to obtain pathlengths and group delays."
      ]
    },
    {
      "cell_type": "code",
      "execution_count": 1,
      "id": "2",
      "metadata": {
        "execution": {
          "iopub.execute_input": "2025-02-13T09:51:36.803612Z",
          "iopub.status.busy": "2025-02-13T09:51:36.803125Z",
          "iopub.status.idle": "2025-02-13T09:51:38.326573Z",
          "shell.execute_reply": "2025-02-13T09:51:38.325875Z"
        },
        "papermill": {
          "duration": 1.528402,
          "end_time": "2025-02-13T09:51:38.328494",
          "exception": false,
          "start_time": "2025-02-13T09:51:36.800092",
          "status": "completed"
        },
        "tags": []
      },
      "outputs": [],
      "source": [
        "from functools import partial\n",
        "\n",
        "import jax\n",
        "import jax.example_libraries.optimizers as opt\n",
        "import jax.numpy as jnp\n",
        "import matplotlib.pyplot as plt  # plotting\n",
        "import sax"
      ]
    },
    {
      "cell_type": "markdown",
      "id": "3",
      "metadata": {
        "papermill": {
          "duration": 0.002077,
          "end_time": "2025-02-13T09:51:38.333084",
          "exception": false,
          "start_time": "2025-02-13T09:51:38.331007",
          "status": "completed"
        },
        "tags": []
      },
      "source": [
        "## Parametrized Models"
      ]
    },
    {
      "cell_type": "code",
      "execution_count": 2,
      "id": "4",
      "metadata": {
        "execution": {
          "iopub.execute_input": "2025-02-13T09:51:38.338763Z",
          "iopub.status.busy": "2025-02-13T09:51:38.338299Z",
          "iopub.status.idle": "2025-02-13T09:51:38.343275Z",
          "shell.execute_reply": "2025-02-13T09:51:38.342684Z"
        },
        "papermill": {
          "duration": 0.0094,
          "end_time": "2025-02-13T09:51:38.344583",
          "exception": false,
          "start_time": "2025-02-13T09:51:38.335183",
          "status": "completed"
        },
        "tags": []
      },
      "outputs": [],
      "source": [
        "def coupler(length=50.0) -> sax.SDict:\n",
        "    sdict = {\n",
        "        (\"in0\", \"out0\"): length,\n",
        "        (\"in0\", \"out1\"): length,\n",
        "        (\"in1\", \"out0\"): length,\n",
        "        (\"in1\", \"out1\"): length,\n",
        "    }\n",
        "    return sax.reciprocal(sdict)"
      ]
    },
    {
      "cell_type": "code",
      "execution_count": 3,
      "id": "5",
      "metadata": {
        "execution": {
          "iopub.execute_input": "2025-02-13T09:51:38.351350Z",
          "iopub.status.busy": "2025-02-13T09:51:38.351119Z",
          "iopub.status.idle": "2025-02-13T09:51:38.356006Z",
          "shell.execute_reply": "2025-02-13T09:51:38.355316Z"
        },
        "papermill": {
          "duration": 0.010063,
          "end_time": "2025-02-13T09:51:38.357073",
          "exception": false,
          "start_time": "2025-02-13T09:51:38.347010",
          "status": "completed"
        },
        "tags": []
      },
      "outputs": [],
      "source": [
        "def waveguide(length=100.0) -> sax.SDict:\n",
        "    sdict = {\n",
        "        (\"in0\", \"out0\"): length,\n",
        "    }\n",
        "    return sax.reciprocal(sdict)"
      ]
    },
    {
      "cell_type": "markdown",
      "id": "6",
      "metadata": {
        "papermill": {
          "duration": 0.001896,
          "end_time": "2025-02-13T09:51:38.361109",
          "exception": false,
          "start_time": "2025-02-13T09:51:38.359213",
          "status": "completed"
        },
        "tags": []
      },
      "source": [
        "## Circuit with additive backend"
      ]
    },
    {
      "cell_type": "code",
      "execution_count": 4,
      "id": "7",
      "metadata": {
        "execution": {
          "iopub.execute_input": "2025-02-13T09:51:38.366301Z",
          "iopub.status.busy": "2025-02-13T09:51:38.366052Z",
          "iopub.status.idle": "2025-02-13T09:51:38.442873Z",
          "shell.execute_reply": "2025-02-13T09:51:38.442195Z"
        },
        "papermill": {
          "duration": 0.08116,
          "end_time": "2025-02-13T09:51:38.444398",
          "exception": false,
          "start_time": "2025-02-13T09:51:38.363238",
          "status": "completed"
        },
        "tags": []
      },
      "outputs": [],
      "source": [
        "mzi, _ = sax.circuit(\n",
        "    netlist={\n",
        "        \"instances\": {\n",
        "            \"lft\": coupler,\n",
        "            \"top\": partial(waveguide, length=500),\n",
        "            \"btm\": partial(waveguide, length=100),\n",
        "            \"rgt\": coupler,\n",
        "        },\n",
        "        \"connections\": {\n",
        "            \"lft,out0\": \"btm,in0\",\n",
        "            \"btm,out0\": \"rgt,in0\",\n",
        "            \"lft,out1\": \"top,in0\",\n",
        "            \"top,out0\": \"rgt,in1\",\n",
        "        },\n",
        "        \"ports\": {\n",
        "            \"in0\": \"lft,in0\",\n",
        "            \"in1\": \"lft,in1\",\n",
        "            \"out0\": \"rgt,out0\",\n",
        "            \"out1\": \"rgt,out1\",\n",
        "        },\n",
        "    },\n",
        "    backend=\"additive\",\n",
        ")"
      ]
    },
    {
      "cell_type": "code",
      "execution_count": 5,
      "id": "8",
      "metadata": {
        "execution": {
          "iopub.execute_input": "2025-02-13T09:51:38.450288Z",
          "iopub.status.busy": "2025-02-13T09:51:38.450034Z",
          "iopub.status.idle": "2025-02-13T09:51:38.664752Z",
          "shell.execute_reply": "2025-02-13T09:51:38.664132Z"
        },
        "papermill": {
          "duration": 0.219002,
          "end_time": "2025-02-13T09:51:38.666016",
          "exception": false,
          "start_time": "2025-02-13T09:51:38.447014",
          "status": "completed"
        },
        "tags": []
      },
      "outputs": [
        {
          "data": {
            "text/plain": [
              "{('in0', 'in0'): [Array([0.], dtype=float64)],\n",
              " ('in0', 'out0'): [Array([200.], dtype=float64), Array([600.], dtype=float64)],\n",
              " ('in0', 'out1'): [Array([200.], dtype=float64), Array([600.], dtype=float64)],\n",
              " ('in1', 'in1'): [Array([0.], dtype=float64)],\n",
              " ('in1', 'out0'): [Array([200.], dtype=float64), Array([600.], dtype=float64)],\n",
              " ('in1', 'out1'): [Array([200.], dtype=float64), Array([600.], dtype=float64)],\n",
              " ('out0', 'in0'): [Array([200.], dtype=float64), Array([600.], dtype=float64)],\n",
              " ('out0', 'in1'): [Array([200.], dtype=float64), Array([600.], dtype=float64)],\n",
              " ('out0', 'out0'): [Array([0.], dtype=float64)],\n",
              " ('out1', 'in0'): [Array([200.], dtype=float64), Array([600.], dtype=float64)],\n",
              " ('out1', 'in1'): [Array([200.], dtype=float64), Array([600.], dtype=float64)],\n",
              " ('out1', 'out1'): [Array([0.], dtype=float64)]}"
            ]
          },
          "execution_count": 5,
          "metadata": {},
          "output_type": "execute_result"
        }
      ],
      "source": [
        "mzi()"
      ]
    }
  ],
  "metadata": {
    "kernelspec": {
      "display_name": "Python 3 (ipykernel)",
      "language": "python",
      "name": "python3"
    },
    "language_info": {
      "codemirror_mode": {
        "name": "ipython",
        "version": 3
      },
      "file_extension": ".py",
      "mimetype": "text/x-python",
      "name": "python",
      "nbconvert_exporter": "python",
      "pygments_lexer": "ipython3",
      "version": "3.12.3"
    },
    "papermill": {
      "default_parameters": {},
      "duration": 3.841375,
      "end_time": "2025-02-13T09:51:39.496955",
      "environment_variables": {},
      "exception": null,
      "input_path": "./examples/06_additive_backend.ipynb",
      "output_path": "./examples/06_additive_backend.ipynb",
      "parameters": {},
      "start_time": "2025-02-13T09:51:35.655580",
      "version": "2.6.0"
    }
  },
  "nbformat": 4,
  "nbformat_minor": 5
}