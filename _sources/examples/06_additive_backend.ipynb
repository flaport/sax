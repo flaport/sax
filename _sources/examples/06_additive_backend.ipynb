{
  "cells": [
    {
      "cell_type": "markdown",
      "id": "6f097557",
      "metadata": {
        "papermill": {
          "duration": 0.001892,
          "end_time": "2024-06-17T20:10:04.454463",
          "exception": false,
          "start_time": "2024-06-17T20:10:04.452571",
          "status": "completed"
        },
        "tags": []
      },
      "source": [
        "# Additive Backend"
      ]
    },
    {
      "cell_type": "markdown",
      "id": "56868383",
      "metadata": {
        "papermill": {
          "duration": 0.00126,
          "end_time": "2024-06-17T20:10:04.457163",
          "exception": false,
          "start_time": "2024-06-17T20:10:04.455903",
          "status": "completed"
        },
        "tags": []
      },
      "source": [
        "> The additive backend can be used to obtain pathlengths and group delays."
      ]
    },
    {
      "cell_type": "code",
      "execution_count": 1,
      "id": "79c98bc0",
      "metadata": {
        "execution": {
          "iopub.execute_input": "2024-06-17T20:10:04.460832Z",
          "iopub.status.busy": "2024-06-17T20:10:04.460365Z",
          "iopub.status.idle": "2024-06-17T20:10:05.407096Z",
          "shell.execute_reply": "2024-06-17T20:10:05.406466Z"
        },
        "papermill": {
          "duration": 0.950291,
          "end_time": "2024-06-17T20:10:05.408564",
          "exception": false,
          "start_time": "2024-06-17T20:10:04.458273",
          "status": "completed"
        },
        "tags": []
      },
      "outputs": [],
      "source": [
        "from functools import partial\n",
        "\n",
        "import jax\n",
        "import jax.example_libraries.optimizers as opt\n",
        "import jax.numpy as jnp\n",
        "import matplotlib.pyplot as plt  # plotting\n",
        "import sax"
      ]
    },
    {
      "cell_type": "markdown",
      "id": "6a42b9d9",
      "metadata": {
        "papermill": {
          "duration": 0.001329,
          "end_time": "2024-06-17T20:10:05.411372",
          "exception": false,
          "start_time": "2024-06-17T20:10:05.410043",
          "status": "completed"
        },
        "tags": []
      },
      "source": [
        "## Parametrized Models"
      ]
    },
    {
      "cell_type": "code",
      "execution_count": 2,
      "id": "79e7e40e",
      "metadata": {
        "execution": {
          "iopub.execute_input": "2024-06-17T20:10:05.414936Z",
          "iopub.status.busy": "2024-06-17T20:10:05.414366Z",
          "iopub.status.idle": "2024-06-17T20:10:05.417687Z",
          "shell.execute_reply": "2024-06-17T20:10:05.417221Z"
        },
        "papermill": {
          "duration": 0.00626,
          "end_time": "2024-06-17T20:10:05.418786",
          "exception": false,
          "start_time": "2024-06-17T20:10:05.412526",
          "status": "completed"
        },
        "tags": []
      },
      "outputs": [],
      "source": [
        "def coupler(length=50.0) -> sax.SDict:\n",
        "    sdict = {\n",
        "        (\"in0\", \"out0\"): length,\n",
        "        (\"in0\", \"out1\"): length,\n",
        "        (\"in1\", \"out0\"): length,\n",
        "        (\"in1\", \"out1\"): length,\n",
        "    }\n",
        "    return sax.reciprocal(sdict)"
      ]
    },
    {
      "cell_type": "code",
      "execution_count": 3,
      "id": "3248838c",
      "metadata": {
        "execution": {
          "iopub.execute_input": "2024-06-17T20:10:05.422274Z",
          "iopub.status.busy": "2024-06-17T20:10:05.421933Z",
          "iopub.status.idle": "2024-06-17T20:10:05.424761Z",
          "shell.execute_reply": "2024-06-17T20:10:05.424304Z"
        },
        "papermill": {
          "duration": 0.005761,
          "end_time": "2024-06-17T20:10:05.425867",
          "exception": false,
          "start_time": "2024-06-17T20:10:05.420106",
          "status": "completed"
        },
        "tags": []
      },
      "outputs": [],
      "source": [
        "def waveguide(length=100.0) -> sax.SDict:\n",
        "    sdict = {\n",
        "        (\"in0\", \"out0\"): length,\n",
        "    }\n",
        "    return sax.reciprocal(sdict)"
      ]
    },
    {
      "cell_type": "markdown",
      "id": "d650fb8d",
      "metadata": {
        "papermill": {
          "duration": 0.001182,
          "end_time": "2024-06-17T20:10:05.428324",
          "exception": false,
          "start_time": "2024-06-17T20:10:05.427142",
          "status": "completed"
        },
        "tags": []
      },
      "source": [
        "## Circuit with additive backend"
      ]
    },
    {
      "cell_type": "code",
      "execution_count": 4,
      "id": "56e035d0",
      "metadata": {
        "execution": {
          "iopub.execute_input": "2024-06-17T20:10:05.431558Z",
          "iopub.status.busy": "2024-06-17T20:10:05.431381Z",
          "iopub.status.idle": "2024-06-17T20:10:05.468504Z",
          "shell.execute_reply": "2024-06-17T20:10:05.467968Z"
        },
        "papermill": {
          "duration": 0.040466,
          "end_time": "2024-06-17T20:10:05.470011",
          "exception": false,
          "start_time": "2024-06-17T20:10:05.429545",
          "status": "completed"
        },
        "tags": []
      },
      "outputs": [],
      "source": [
        "mzi, _ = sax.circuit(\n",
        "    netlist={\n",
        "        \"instances\": {\n",
        "            \"lft\": coupler,\n",
        "            \"top\": partial(waveguide, length=500),\n",
        "            \"btm\": partial(waveguide, length=100),\n",
        "            \"rgt\": coupler,\n",
        "        },\n",
        "        \"connections\": {\n",
        "            \"lft,out0\": \"btm,in0\",\n",
        "            \"btm,out0\": \"rgt,in0\",\n",
        "            \"lft,out1\": \"top,in0\",\n",
        "            \"top,out0\": \"rgt,in1\",\n",
        "        },\n",
        "        \"ports\": {\n",
        "            \"in0\": \"lft,in0\",\n",
        "            \"in1\": \"lft,in1\",\n",
        "            \"out0\": \"rgt,out0\",\n",
        "            \"out1\": \"rgt,out1\",\n",
        "        },\n",
        "    },\n",
        "    backend=\"additive\",\n",
        ")"
      ]
    },
    {
      "cell_type": "code",
      "execution_count": 5,
      "id": "c1f245fd",
      "metadata": {
        "execution": {
          "iopub.execute_input": "2024-06-17T20:10:05.473713Z",
          "iopub.status.busy": "2024-06-17T20:10:05.473527Z",
          "iopub.status.idle": "2024-06-17T20:10:05.569239Z",
          "shell.execute_reply": "2024-06-17T20:10:05.568630Z"
        },
        "papermill": {
          "duration": 0.09888,
          "end_time": "2024-06-17T20:10:05.570412",
          "exception": false,
          "start_time": "2024-06-17T20:10:05.471532",
          "status": "completed"
        },
        "tags": []
      },
      "outputs": [
        {
          "data": {
            "text/plain": [
              "{('in0', 'in0'): [Array([0.], dtype=float64)],\n",
              " ('in0', 'out0'): [Array([200.], dtype=float64), Array([600.], dtype=float64)],\n",
              " ('in0', 'out1'): [Array([200.], dtype=float64), Array([600.], dtype=float64)],\n",
              " ('in1', 'in1'): [Array([0.], dtype=float64)],\n",
              " ('in1', 'out0'): [Array([200.], dtype=float64), Array([600.], dtype=float64)],\n",
              " ('in1', 'out1'): [Array([200.], dtype=float64), Array([600.], dtype=float64)],\n",
              " ('out0', 'in0'): [Array([200.], dtype=float64), Array([600.], dtype=float64)],\n",
              " ('out0', 'in1'): [Array([200.], dtype=float64), Array([600.], dtype=float64)],\n",
              " ('out0', 'out0'): [Array([0.], dtype=float64)],\n",
              " ('out1', 'in0'): [Array([200.], dtype=float64), Array([600.], dtype=float64)],\n",
              " ('out1', 'in1'): [Array([200.], dtype=float64), Array([600.], dtype=float64)],\n",
              " ('out1', 'out1'): [Array([0.], dtype=float64)]}"
            ]
          },
          "execution_count": 5,
          "metadata": {},
          "output_type": "execute_result"
        }
      ],
      "source": [
        "mzi()"
      ]
    }
  ],
  "metadata": {
    "kernelspec": {
      "display_name": "Python 3 (ipykernel)",
      "language": "python",
      "name": "python3"
    },
    "language_info": {
      "codemirror_mode": {
        "name": "ipython",
        "version": 3
      },
      "file_extension": ".py",
      "mimetype": "text/x-python",
      "name": "python",
      "nbconvert_exporter": "python",
      "pygments_lexer": "ipython3",
      "version": "3.10.14"
    },
    "papermill": {
      "default_parameters": {},
      "duration": 2.490889,
      "end_time": "2024-06-17T20:10:05.988984",
      "environment_variables": {},
      "exception": null,
      "input_path": "./examples/06_additive_backend.ipynb",
      "output_path": "./examples/06_additive_backend.ipynb",
      "parameters": {},
      "start_time": "2024-06-17T20:10:03.498095",
      "version": "2.6.0"
    }
  },
  "nbformat": 4,
  "nbformat_minor": 5
}