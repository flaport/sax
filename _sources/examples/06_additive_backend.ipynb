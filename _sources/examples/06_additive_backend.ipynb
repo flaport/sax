{
  "cells": [
    {
      "cell_type": "markdown",
      "id": "0",
      "metadata": {
        "papermill": {
          "duration": 0.001728,
          "end_time": "2024-11-11T16:35:00.289975",
          "exception": false,
          "start_time": "2024-11-11T16:35:00.288247",
          "status": "completed"
        },
        "tags": []
      },
      "source": [
        "# Additive Backend"
      ]
    },
    {
      "cell_type": "markdown",
      "id": "1",
      "metadata": {
        "papermill": {
          "duration": 0.001092,
          "end_time": "2024-11-11T16:35:00.292350",
          "exception": false,
          "start_time": "2024-11-11T16:35:00.291258",
          "status": "completed"
        },
        "tags": []
      },
      "source": [
        "> The additive backend can be used to obtain pathlengths and group delays."
      ]
    },
    {
      "cell_type": "code",
      "execution_count": 1,
      "id": "2",
      "metadata": {
        "execution": {
          "iopub.execute_input": "2024-11-11T16:35:00.295331Z",
          "iopub.status.busy": "2024-11-11T16:35:00.294950Z",
          "iopub.status.idle": "2024-11-11T16:35:01.142510Z",
          "shell.execute_reply": "2024-11-11T16:35:01.142057Z"
        },
        "papermill": {
          "duration": 0.850221,
          "end_time": "2024-11-11T16:35:01.143589",
          "exception": false,
          "start_time": "2024-11-11T16:35:00.293368",
          "status": "completed"
        },
        "tags": []
      },
      "outputs": [],
      "source": [
        "from functools import partial\n",
        "\n",
        "import jax\n",
        "import jax.example_libraries.optimizers as opt\n",
        "import jax.numpy as jnp\n",
        "import matplotlib.pyplot as plt  # plotting\n",
        "import sax"
      ]
    },
    {
      "cell_type": "markdown",
      "id": "3",
      "metadata": {
        "papermill": {
          "duration": 0.00116,
          "end_time": "2024-11-11T16:35:01.146233",
          "exception": false,
          "start_time": "2024-11-11T16:35:01.145073",
          "status": "completed"
        },
        "tags": []
      },
      "source": [
        "## Parametrized Models"
      ]
    },
    {
      "cell_type": "code",
      "execution_count": 2,
      "id": "4",
      "metadata": {
        "execution": {
          "iopub.execute_input": "2024-11-11T16:35:01.149446Z",
          "iopub.status.busy": "2024-11-11T16:35:01.149013Z",
          "iopub.status.idle": "2024-11-11T16:35:01.152147Z",
          "shell.execute_reply": "2024-11-11T16:35:01.151754Z"
        },
        "papermill": {
          "duration": 0.005448,
          "end_time": "2024-11-11T16:35:01.152876",
          "exception": false,
          "start_time": "2024-11-11T16:35:01.147428",
          "status": "completed"
        },
        "tags": []
      },
      "outputs": [],
      "source": [
        "def coupler(length=50.0) -> sax.SDict:\n",
        "    sdict = {\n",
        "        (\"in0\", \"out0\"): length,\n",
        "        (\"in0\", \"out1\"): length,\n",
        "        (\"in1\", \"out0\"): length,\n",
        "        (\"in1\", \"out1\"): length,\n",
        "    }\n",
        "    return sax.reciprocal(sdict)"
      ]
    },
    {
      "cell_type": "code",
      "execution_count": 3,
      "id": "5",
      "metadata": {
        "execution": {
          "iopub.execute_input": "2024-11-11T16:35:01.155983Z",
          "iopub.status.busy": "2024-11-11T16:35:01.155588Z",
          "iopub.status.idle": "2024-11-11T16:35:01.158408Z",
          "shell.execute_reply": "2024-11-11T16:35:01.157933Z"
        },
        "papermill": {
          "duration": 0.005159,
          "end_time": "2024-11-11T16:35:01.159178",
          "exception": false,
          "start_time": "2024-11-11T16:35:01.154019",
          "status": "completed"
        },
        "tags": []
      },
      "outputs": [],
      "source": [
        "def waveguide(length=100.0) -> sax.SDict:\n",
        "    sdict = {\n",
        "        (\"in0\", \"out0\"): length,\n",
        "    }\n",
        "    return sax.reciprocal(sdict)"
      ]
    },
    {
      "cell_type": "markdown",
      "id": "6",
      "metadata": {
        "papermill": {
          "duration": 0.001059,
          "end_time": "2024-11-11T16:35:01.161359",
          "exception": false,
          "start_time": "2024-11-11T16:35:01.160300",
          "status": "completed"
        },
        "tags": []
      },
      "source": [
        "## Circuit with additive backend"
      ]
    },
    {
      "cell_type": "code",
      "execution_count": 4,
      "id": "7",
      "metadata": {
        "execution": {
          "iopub.execute_input": "2024-11-11T16:35:01.165109Z",
          "iopub.status.busy": "2024-11-11T16:35:01.164801Z",
          "iopub.status.idle": "2024-11-11T16:35:01.205258Z",
          "shell.execute_reply": "2024-11-11T16:35:01.204743Z"
        },
        "papermill": {
          "duration": 0.043782,
          "end_time": "2024-11-11T16:35:01.206231",
          "exception": false,
          "start_time": "2024-11-11T16:35:01.162449",
          "status": "completed"
        },
        "tags": []
      },
      "outputs": [],
      "source": [
        "mzi, _ = sax.circuit(\n",
        "    netlist={\n",
        "        \"instances\": {\n",
        "            \"lft\": coupler,\n",
        "            \"top\": partial(waveguide, length=500),\n",
        "            \"btm\": partial(waveguide, length=100),\n",
        "            \"rgt\": coupler,\n",
        "        },\n",
        "        \"connections\": {\n",
        "            \"lft,out0\": \"btm,in0\",\n",
        "            \"btm,out0\": \"rgt,in0\",\n",
        "            \"lft,out1\": \"top,in0\",\n",
        "            \"top,out0\": \"rgt,in1\",\n",
        "        },\n",
        "        \"ports\": {\n",
        "            \"in0\": \"lft,in0\",\n",
        "            \"in1\": \"lft,in1\",\n",
        "            \"out0\": \"rgt,out0\",\n",
        "            \"out1\": \"rgt,out1\",\n",
        "        },\n",
        "    },\n",
        "    backend=\"additive\",\n",
        ")"
      ]
    },
    {
      "cell_type": "code",
      "execution_count": 5,
      "id": "8",
      "metadata": {
        "execution": {
          "iopub.execute_input": "2024-11-11T16:35:01.209584Z",
          "iopub.status.busy": "2024-11-11T16:35:01.209282Z",
          "iopub.status.idle": "2024-11-11T16:35:01.290419Z",
          "shell.execute_reply": "2024-11-11T16:35:01.289877Z"
        },
        "papermill": {
          "duration": 0.083682,
          "end_time": "2024-11-11T16:35:01.291323",
          "exception": false,
          "start_time": "2024-11-11T16:35:01.207641",
          "status": "completed"
        },
        "tags": []
      },
      "outputs": [
        {
          "data": {
            "text/plain": [
              "{('in0', 'in0'): [Array([0.], dtype=float64)],\n",
              " ('in0', 'out0'): [Array([200.], dtype=float64), Array([600.], dtype=float64)],\n",
              " ('in0', 'out1'): [Array([200.], dtype=float64), Array([600.], dtype=float64)],\n",
              " ('in1', 'in1'): [Array([0.], dtype=float64)],\n",
              " ('in1', 'out0'): [Array([200.], dtype=float64), Array([600.], dtype=float64)],\n",
              " ('in1', 'out1'): [Array([200.], dtype=float64), Array([600.], dtype=float64)],\n",
              " ('out0', 'in0'): [Array([200.], dtype=float64), Array([600.], dtype=float64)],\n",
              " ('out0', 'in1'): [Array([200.], dtype=float64), Array([600.], dtype=float64)],\n",
              " ('out0', 'out0'): [Array([0.], dtype=float64)],\n",
              " ('out1', 'in0'): [Array([200.], dtype=float64), Array([600.], dtype=float64)],\n",
              " ('out1', 'in1'): [Array([200.], dtype=float64), Array([600.], dtype=float64)],\n",
              " ('out1', 'out1'): [Array([0.], dtype=float64)]}"
            ]
          },
          "execution_count": 5,
          "metadata": {},
          "output_type": "execute_result"
        }
      ],
      "source": [
        "mzi()"
      ]
    }
  ],
  "metadata": {
    "kernelspec": {
      "display_name": "Python 3 (ipykernel)",
      "language": "python",
      "name": "python3"
    },
    "language_info": {
      "codemirror_mode": {
        "name": "ipython",
        "version": 3
      },
      "file_extension": ".py",
      "mimetype": "text/x-python",
      "name": "python",
      "nbconvert_exporter": "python",
      "pygments_lexer": "ipython3",
      "version": "3.11.10"
    },
    "papermill": {
      "default_parameters": {},
      "duration": 2.263027,
      "end_time": "2024-11-11T16:35:01.608278",
      "environment_variables": {},
      "exception": null,
      "input_path": "./examples/06_additive_backend.ipynb",
      "output_path": "./examples/06_additive_backend.ipynb",
      "parameters": {},
      "start_time": "2024-11-11T16:34:59.345251",
      "version": "2.6.0"
    }
  },
  "nbformat": 4,
  "nbformat_minor": 5
}