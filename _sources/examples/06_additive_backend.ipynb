{
  "cells": [
    {
      "cell_type": "markdown",
      "id": "6f097557",
      "metadata": {
        "papermill": {
          "duration": 0.001827,
          "end_time": "2024-06-17T21:20:27.076910",
          "exception": false,
          "start_time": "2024-06-17T21:20:27.075083",
          "status": "completed"
        },
        "tags": []
      },
      "source": [
        "# Additive Backend"
      ]
    },
    {
      "cell_type": "markdown",
      "id": "56868383",
      "metadata": {
        "papermill": {
          "duration": 0.001289,
          "end_time": "2024-06-17T21:20:27.079677",
          "exception": false,
          "start_time": "2024-06-17T21:20:27.078388",
          "status": "completed"
        },
        "tags": []
      },
      "source": [
        "> The additive backend can be used to obtain pathlengths and group delays."
      ]
    },
    {
      "cell_type": "code",
      "execution_count": 1,
      "id": "79c98bc0",
      "metadata": {
        "execution": {
          "iopub.execute_input": "2024-06-17T21:20:27.083236Z",
          "iopub.status.busy": "2024-06-17T21:20:27.082840Z",
          "iopub.status.idle": "2024-06-17T21:20:28.002825Z",
          "shell.execute_reply": "2024-06-17T21:20:28.002255Z"
        },
        "papermill": {
          "duration": 0.923444,
          "end_time": "2024-06-17T21:20:28.004286",
          "exception": false,
          "start_time": "2024-06-17T21:20:27.080842",
          "status": "completed"
        },
        "tags": []
      },
      "outputs": [],
      "source": [
        "from functools import partial\n",
        "\n",
        "import jax\n",
        "import jax.example_libraries.optimizers as opt\n",
        "import jax.numpy as jnp\n",
        "import matplotlib.pyplot as plt  # plotting\n",
        "import sax"
      ]
    },
    {
      "cell_type": "markdown",
      "id": "6a42b9d9",
      "metadata": {
        "papermill": {
          "duration": 0.001373,
          "end_time": "2024-06-17T21:20:28.007444",
          "exception": false,
          "start_time": "2024-06-17T21:20:28.006071",
          "status": "completed"
        },
        "tags": []
      },
      "source": [
        "## Parametrized Models"
      ]
    },
    {
      "cell_type": "code",
      "execution_count": 2,
      "id": "79e7e40e",
      "metadata": {
        "execution": {
          "iopub.execute_input": "2024-06-17T21:20:28.010903Z",
          "iopub.status.busy": "2024-06-17T21:20:28.010517Z",
          "iopub.status.idle": "2024-06-17T21:20:28.013752Z",
          "shell.execute_reply": "2024-06-17T21:20:28.013265Z"
        },
        "papermill": {
          "duration": 0.006233,
          "end_time": "2024-06-17T21:20:28.014898",
          "exception": false,
          "start_time": "2024-06-17T21:20:28.008665",
          "status": "completed"
        },
        "tags": []
      },
      "outputs": [],
      "source": [
        "def coupler(length=50.0) -> sax.SDict:\n",
        "    sdict = {\n",
        "        (\"in0\", \"out0\"): length,\n",
        "        (\"in0\", \"out1\"): length,\n",
        "        (\"in1\", \"out0\"): length,\n",
        "        (\"in1\", \"out1\"): length,\n",
        "    }\n",
        "    return sax.reciprocal(sdict)"
      ]
    },
    {
      "cell_type": "code",
      "execution_count": 3,
      "id": "3248838c",
      "metadata": {
        "execution": {
          "iopub.execute_input": "2024-06-17T21:20:28.018365Z",
          "iopub.status.busy": "2024-06-17T21:20:28.018027Z",
          "iopub.status.idle": "2024-06-17T21:20:28.020800Z",
          "shell.execute_reply": "2024-06-17T21:20:28.020304Z"
        },
        "papermill": {
          "duration": 0.005718,
          "end_time": "2024-06-17T21:20:28.021896",
          "exception": false,
          "start_time": "2024-06-17T21:20:28.016178",
          "status": "completed"
        },
        "tags": []
      },
      "outputs": [],
      "source": [
        "def waveguide(length=100.0) -> sax.SDict:\n",
        "    sdict = {\n",
        "        (\"in0\", \"out0\"): length,\n",
        "    }\n",
        "    return sax.reciprocal(sdict)"
      ]
    },
    {
      "cell_type": "markdown",
      "id": "d650fb8d",
      "metadata": {
        "papermill": {
          "duration": 0.001206,
          "end_time": "2024-06-17T21:20:28.024339",
          "exception": false,
          "start_time": "2024-06-17T21:20:28.023133",
          "status": "completed"
        },
        "tags": []
      },
      "source": [
        "## Circuit with additive backend"
      ]
    },
    {
      "cell_type": "code",
      "execution_count": 4,
      "id": "56e035d0",
      "metadata": {
        "execution": {
          "iopub.execute_input": "2024-06-17T21:20:28.027807Z",
          "iopub.status.busy": "2024-06-17T21:20:28.027454Z",
          "iopub.status.idle": "2024-06-17T21:20:28.063565Z",
          "shell.execute_reply": "2024-06-17T21:20:28.063059Z"
        },
        "papermill": {
          "duration": 0.039348,
          "end_time": "2024-06-17T21:20:28.064966",
          "exception": false,
          "start_time": "2024-06-17T21:20:28.025618",
          "status": "completed"
        },
        "tags": []
      },
      "outputs": [],
      "source": [
        "mzi, _ = sax.circuit(\n",
        "    netlist={\n",
        "        \"instances\": {\n",
        "            \"lft\": coupler,\n",
        "            \"top\": partial(waveguide, length=500),\n",
        "            \"btm\": partial(waveguide, length=100),\n",
        "            \"rgt\": coupler,\n",
        "        },\n",
        "        \"connections\": {\n",
        "            \"lft,out0\": \"btm,in0\",\n",
        "            \"btm,out0\": \"rgt,in0\",\n",
        "            \"lft,out1\": \"top,in0\",\n",
        "            \"top,out0\": \"rgt,in1\",\n",
        "        },\n",
        "        \"ports\": {\n",
        "            \"in0\": \"lft,in0\",\n",
        "            \"in1\": \"lft,in1\",\n",
        "            \"out0\": \"rgt,out0\",\n",
        "            \"out1\": \"rgt,out1\",\n",
        "        },\n",
        "    },\n",
        "    backend=\"additive\",\n",
        ")"
      ]
    },
    {
      "cell_type": "code",
      "execution_count": 5,
      "id": "c1f245fd",
      "metadata": {
        "execution": {
          "iopub.execute_input": "2024-06-17T21:20:28.068879Z",
          "iopub.status.busy": "2024-06-17T21:20:28.068476Z",
          "iopub.status.idle": "2024-06-17T21:20:28.163159Z",
          "shell.execute_reply": "2024-06-17T21:20:28.162502Z"
        },
        "papermill": {
          "duration": 0.097897,
          "end_time": "2024-06-17T21:20:28.164398",
          "exception": false,
          "start_time": "2024-06-17T21:20:28.066501",
          "status": "completed"
        },
        "tags": []
      },
      "outputs": [
        {
          "data": {
            "text/plain": [
              "{('in0', 'in0'): [Array([0.], dtype=float64)],\n",
              " ('in0', 'out0'): [Array([200.], dtype=float64), Array([600.], dtype=float64)],\n",
              " ('in0', 'out1'): [Array([200.], dtype=float64), Array([600.], dtype=float64)],\n",
              " ('in1', 'in1'): [Array([0.], dtype=float64)],\n",
              " ('in1', 'out0'): [Array([200.], dtype=float64), Array([600.], dtype=float64)],\n",
              " ('in1', 'out1'): [Array([200.], dtype=float64), Array([600.], dtype=float64)],\n",
              " ('out0', 'in0'): [Array([200.], dtype=float64), Array([600.], dtype=float64)],\n",
              " ('out0', 'in1'): [Array([200.], dtype=float64), Array([600.], dtype=float64)],\n",
              " ('out0', 'out0'): [Array([0.], dtype=float64)],\n",
              " ('out1', 'in0'): [Array([200.], dtype=float64), Array([600.], dtype=float64)],\n",
              " ('out1', 'in1'): [Array([200.], dtype=float64), Array([600.], dtype=float64)],\n",
              " ('out1', 'out1'): [Array([0.], dtype=float64)]}"
            ]
          },
          "execution_count": 5,
          "metadata": {},
          "output_type": "execute_result"
        }
      ],
      "source": [
        "mzi()"
      ]
    }
  ],
  "metadata": {
    "kernelspec": {
      "display_name": "Python 3 (ipykernel)",
      "language": "python",
      "name": "python3"
    },
    "language_info": {
      "codemirror_mode": {
        "name": "ipython",
        "version": 3
      },
      "file_extension": ".py",
      "mimetype": "text/x-python",
      "name": "python",
      "nbconvert_exporter": "python",
      "pygments_lexer": "ipython3",
      "version": "3.10.14"
    },
    "papermill": {
      "default_parameters": {},
      "duration": 2.357759,
      "end_time": "2024-06-17T21:20:28.482205",
      "environment_variables": {},
      "exception": null,
      "input_path": "./examples/06_additive_backend.ipynb",
      "output_path": "./examples/06_additive_backend.ipynb",
      "parameters": {},
      "start_time": "2024-06-17T21:20:26.124446",
      "version": "2.6.0"
    }
  },
  "nbformat": 4,
  "nbformat_minor": 5
}