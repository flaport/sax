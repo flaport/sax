{
  "cells": [
    {
      "cell_type": "markdown",
      "id": "0",
      "metadata": {
        "papermill": {
          "duration": 0.002589,
          "end_time": "2025-02-13T09:42:54.364825",
          "exception": false,
          "start_time": "2025-02-13T09:42:54.362236",
          "status": "completed"
        },
        "tags": []
      },
      "source": [
        "# Additive Backend"
      ]
    },
    {
      "cell_type": "markdown",
      "id": "1",
      "metadata": {
        "papermill": {
          "duration": 0.001822,
          "end_time": "2025-02-13T09:42:54.368902",
          "exception": false,
          "start_time": "2025-02-13T09:42:54.367080",
          "status": "completed"
        },
        "tags": []
      },
      "source": [
        "> The additive backend can be used to obtain pathlengths and group delays."
      ]
    },
    {
      "cell_type": "code",
      "execution_count": 1,
      "id": "2",
      "metadata": {
        "execution": {
          "iopub.execute_input": "2025-02-13T09:42:54.374629Z",
          "iopub.status.busy": "2025-02-13T09:42:54.374303Z",
          "iopub.status.idle": "2025-02-13T09:42:55.905832Z",
          "shell.execute_reply": "2025-02-13T09:42:55.905157Z"
        },
        "papermill": {
          "duration": 1.536079,
          "end_time": "2025-02-13T09:42:55.907090",
          "exception": false,
          "start_time": "2025-02-13T09:42:54.371011",
          "status": "completed"
        },
        "tags": []
      },
      "outputs": [],
      "source": [
        "from functools import partial\n",
        "\n",
        "import jax\n",
        "import jax.example_libraries.optimizers as opt\n",
        "import jax.numpy as jnp\n",
        "import matplotlib.pyplot as plt  # plotting\n",
        "import sax"
      ]
    },
    {
      "cell_type": "markdown",
      "id": "3",
      "metadata": {
        "papermill": {
          "duration": 0.003279,
          "end_time": "2025-02-13T09:42:55.913829",
          "exception": false,
          "start_time": "2025-02-13T09:42:55.910550",
          "status": "completed"
        },
        "tags": []
      },
      "source": [
        "## Parametrized Models"
      ]
    },
    {
      "cell_type": "code",
      "execution_count": 2,
      "id": "4",
      "metadata": {
        "execution": {
          "iopub.execute_input": "2025-02-13T09:42:55.920178Z",
          "iopub.status.busy": "2025-02-13T09:42:55.918822Z",
          "iopub.status.idle": "2025-02-13T09:42:55.923998Z",
          "shell.execute_reply": "2025-02-13T09:42:55.923406Z"
        },
        "papermill": {
          "duration": 0.00947,
          "end_time": "2025-02-13T09:42:55.925165",
          "exception": false,
          "start_time": "2025-02-13T09:42:55.915695",
          "status": "completed"
        },
        "tags": []
      },
      "outputs": [],
      "source": [
        "def coupler(length=50.0) -> sax.SDict:\n",
        "    sdict = {\n",
        "        (\"in0\", \"out0\"): length,\n",
        "        (\"in0\", \"out1\"): length,\n",
        "        (\"in1\", \"out0\"): length,\n",
        "        (\"in1\", \"out1\"): length,\n",
        "    }\n",
        "    return sax.reciprocal(sdict)"
      ]
    },
    {
      "cell_type": "code",
      "execution_count": 3,
      "id": "5",
      "metadata": {
        "execution": {
          "iopub.execute_input": "2025-02-13T09:42:55.931825Z",
          "iopub.status.busy": "2025-02-13T09:42:55.931536Z",
          "iopub.status.idle": "2025-02-13T09:42:55.936365Z",
          "shell.execute_reply": "2025-02-13T09:42:55.935809Z"
        },
        "papermill": {
          "duration": 0.010379,
          "end_time": "2025-02-13T09:42:55.937642",
          "exception": false,
          "start_time": "2025-02-13T09:42:55.927263",
          "status": "completed"
        },
        "tags": []
      },
      "outputs": [],
      "source": [
        "def waveguide(length=100.0) -> sax.SDict:\n",
        "    sdict = {\n",
        "        (\"in0\", \"out0\"): length,\n",
        "    }\n",
        "    return sax.reciprocal(sdict)"
      ]
    },
    {
      "cell_type": "markdown",
      "id": "6",
      "metadata": {
        "papermill": {
          "duration": 0.002009,
          "end_time": "2025-02-13T09:42:55.941825",
          "exception": false,
          "start_time": "2025-02-13T09:42:55.939816",
          "status": "completed"
        },
        "tags": []
      },
      "source": [
        "## Circuit with additive backend"
      ]
    },
    {
      "cell_type": "code",
      "execution_count": 4,
      "id": "7",
      "metadata": {
        "execution": {
          "iopub.execute_input": "2025-02-13T09:42:55.946760Z",
          "iopub.status.busy": "2025-02-13T09:42:55.946488Z",
          "iopub.status.idle": "2025-02-13T09:42:56.015237Z",
          "shell.execute_reply": "2025-02-13T09:42:56.014566Z"
        },
        "papermill": {
          "duration": 0.073073,
          "end_time": "2025-02-13T09:42:56.016888",
          "exception": false,
          "start_time": "2025-02-13T09:42:55.943815",
          "status": "completed"
        },
        "tags": []
      },
      "outputs": [],
      "source": [
        "mzi, _ = sax.circuit(\n",
        "    netlist={\n",
        "        \"instances\": {\n",
        "            \"lft\": coupler,\n",
        "            \"top\": partial(waveguide, length=500),\n",
        "            \"btm\": partial(waveguide, length=100),\n",
        "            \"rgt\": coupler,\n",
        "        },\n",
        "        \"connections\": {\n",
        "            \"lft,out0\": \"btm,in0\",\n",
        "            \"btm,out0\": \"rgt,in0\",\n",
        "            \"lft,out1\": \"top,in0\",\n",
        "            \"top,out0\": \"rgt,in1\",\n",
        "        },\n",
        "        \"ports\": {\n",
        "            \"in0\": \"lft,in0\",\n",
        "            \"in1\": \"lft,in1\",\n",
        "            \"out0\": \"rgt,out0\",\n",
        "            \"out1\": \"rgt,out1\",\n",
        "        },\n",
        "    },\n",
        "    backend=\"additive\",\n",
        ")"
      ]
    },
    {
      "cell_type": "code",
      "execution_count": 5,
      "id": "8",
      "metadata": {
        "execution": {
          "iopub.execute_input": "2025-02-13T09:42:56.022789Z",
          "iopub.status.busy": "2025-02-13T09:42:56.022495Z",
          "iopub.status.idle": "2025-02-13T09:42:56.190300Z",
          "shell.execute_reply": "2025-02-13T09:42:56.189749Z"
        },
        "papermill": {
          "duration": 0.172161,
          "end_time": "2025-02-13T09:42:56.191455",
          "exception": false,
          "start_time": "2025-02-13T09:42:56.019294",
          "status": "completed"
        },
        "tags": []
      },
      "outputs": [
        {
          "data": {
            "text/plain": [
              "{('in0', 'in0'): [Array([0.], dtype=float64)],\n",
              " ('in0', 'out0'): [Array([200.], dtype=float64), Array([600.], dtype=float64)],\n",
              " ('in0', 'out1'): [Array([200.], dtype=float64), Array([600.], dtype=float64)],\n",
              " ('in1', 'in1'): [Array([0.], dtype=float64)],\n",
              " ('in1', 'out0'): [Array([200.], dtype=float64), Array([600.], dtype=float64)],\n",
              " ('in1', 'out1'): [Array([200.], dtype=float64), Array([600.], dtype=float64)],\n",
              " ('out0', 'in0'): [Array([200.], dtype=float64), Array([600.], dtype=float64)],\n",
              " ('out0', 'in1'): [Array([200.], dtype=float64), Array([600.], dtype=float64)],\n",
              " ('out0', 'out0'): [Array([0.], dtype=float64)],\n",
              " ('out1', 'in0'): [Array([200.], dtype=float64), Array([600.], dtype=float64)],\n",
              " ('out1', 'in1'): [Array([200.], dtype=float64), Array([600.], dtype=float64)],\n",
              " ('out1', 'out1'): [Array([0.], dtype=float64)]}"
            ]
          },
          "execution_count": 5,
          "metadata": {},
          "output_type": "execute_result"
        }
      ],
      "source": [
        "mzi()"
      ]
    }
  ],
  "metadata": {
    "kernelspec": {
      "display_name": "Python 3 (ipykernel)",
      "language": "python",
      "name": "python3"
    },
    "language_info": {
      "codemirror_mode": {
        "name": "ipython",
        "version": 3
      },
      "file_extension": ".py",
      "mimetype": "text/x-python",
      "name": "python",
      "nbconvert_exporter": "python",
      "pygments_lexer": "ipython3",
      "version": "3.12.3"
    },
    "papermill": {
      "default_parameters": {},
      "duration": 3.731421,
      "end_time": "2025-02-13T09:42:57.019756",
      "environment_variables": {},
      "exception": null,
      "input_path": "./examples/06_additive_backend.ipynb",
      "output_path": "./examples/06_additive_backend.ipynb",
      "parameters": {},
      "start_time": "2025-02-13T09:42:53.288335",
      "version": "2.6.0"
    }
  },
  "nbformat": 4,
  "nbformat_minor": 5
}