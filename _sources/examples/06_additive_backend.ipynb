{
  "cells": [
    {
      "cell_type": "markdown",
      "id": "0",
      "metadata": {
        "papermill": {
          "duration": 0.002433,
          "end_time": "2025-02-26T08:32:58.033570",
          "exception": false,
          "start_time": "2025-02-26T08:32:58.031137",
          "status": "completed"
        },
        "tags": []
      },
      "source": [
        "# Additive Backend"
      ]
    },
    {
      "cell_type": "markdown",
      "id": "1",
      "metadata": {
        "papermill": {
          "duration": 0.002073,
          "end_time": "2025-02-26T08:32:58.037723",
          "exception": false,
          "start_time": "2025-02-26T08:32:58.035650",
          "status": "completed"
        },
        "tags": []
      },
      "source": [
        "> The additive backend can be used to obtain pathlengths and group delays."
      ]
    },
    {
      "cell_type": "code",
      "execution_count": 1,
      "id": "2",
      "metadata": {
        "execution": {
          "iopub.execute_input": "2025-02-26T08:32:58.043270Z",
          "iopub.status.busy": "2025-02-26T08:32:58.042700Z",
          "iopub.status.idle": "2025-02-26T08:32:59.803609Z",
          "shell.execute_reply": "2025-02-26T08:32:59.802976Z"
        },
        "papermill": {
          "duration": 1.765134,
          "end_time": "2025-02-26T08:32:59.804955",
          "exception": false,
          "start_time": "2025-02-26T08:32:58.039821",
          "status": "completed"
        },
        "tags": []
      },
      "outputs": [],
      "source": [
        "from functools import partial\n",
        "\n",
        "import jax\n",
        "import jax.example_libraries.optimizers as opt\n",
        "import jax.numpy as jnp\n",
        "import matplotlib.pyplot as plt  # plotting\n",
        "import sax"
      ]
    },
    {
      "cell_type": "markdown",
      "id": "3",
      "metadata": {
        "papermill": {
          "duration": 0.001766,
          "end_time": "2025-02-26T08:32:59.808962",
          "exception": false,
          "start_time": "2025-02-26T08:32:59.807196",
          "status": "completed"
        },
        "tags": []
      },
      "source": [
        "## Parametrized Models"
      ]
    },
    {
      "cell_type": "code",
      "execution_count": 2,
      "id": "4",
      "metadata": {
        "execution": {
          "iopub.execute_input": "2025-02-26T08:32:59.814145Z",
          "iopub.status.busy": "2025-02-26T08:32:59.813518Z",
          "iopub.status.idle": "2025-02-26T08:32:59.817782Z",
          "shell.execute_reply": "2025-02-26T08:32:59.817247Z"
        },
        "papermill": {
          "duration": 0.008129,
          "end_time": "2025-02-26T08:32:59.818921",
          "exception": false,
          "start_time": "2025-02-26T08:32:59.810792",
          "status": "completed"
        },
        "tags": []
      },
      "outputs": [],
      "source": [
        "def coupler(length=50.0) -> sax.SDict:\n",
        "    sdict = {\n",
        "        (\"in0\", \"out0\"): length,\n",
        "        (\"in0\", \"out1\"): length,\n",
        "        (\"in1\", \"out0\"): length,\n",
        "        (\"in1\", \"out1\"): length,\n",
        "    }\n",
        "    return sax.reciprocal(sdict)"
      ]
    },
    {
      "cell_type": "code",
      "execution_count": 3,
      "id": "5",
      "metadata": {
        "execution": {
          "iopub.execute_input": "2025-02-26T08:32:59.825384Z",
          "iopub.status.busy": "2025-02-26T08:32:59.825127Z",
          "iopub.status.idle": "2025-02-26T08:32:59.829871Z",
          "shell.execute_reply": "2025-02-26T08:32:59.829329Z"
        },
        "papermill": {
          "duration": 0.01001,
          "end_time": "2025-02-26T08:32:59.831033",
          "exception": false,
          "start_time": "2025-02-26T08:32:59.821023",
          "status": "completed"
        },
        "tags": []
      },
      "outputs": [],
      "source": [
        "def waveguide(length=100.0) -> sax.SDict:\n",
        "    sdict = {\n",
        "        (\"in0\", \"out0\"): length,\n",
        "    }\n",
        "    return sax.reciprocal(sdict)"
      ]
    },
    {
      "cell_type": "markdown",
      "id": "6",
      "metadata": {
        "papermill": {
          "duration": 0.001895,
          "end_time": "2025-02-26T08:32:59.835321",
          "exception": false,
          "start_time": "2025-02-26T08:32:59.833426",
          "status": "completed"
        },
        "tags": []
      },
      "source": [
        "## Circuit with additive backend"
      ]
    },
    {
      "cell_type": "code",
      "execution_count": 4,
      "id": "7",
      "metadata": {
        "execution": {
          "iopub.execute_input": "2025-02-26T08:32:59.840256Z",
          "iopub.status.busy": "2025-02-26T08:32:59.839970Z",
          "iopub.status.idle": "2025-02-26T08:32:59.908567Z",
          "shell.execute_reply": "2025-02-26T08:32:59.907985Z"
        },
        "papermill": {
          "duration": 0.07368,
          "end_time": "2025-02-26T08:32:59.910927",
          "exception": false,
          "start_time": "2025-02-26T08:32:59.837247",
          "status": "completed"
        },
        "tags": []
      },
      "outputs": [],
      "source": [
        "mzi, _ = sax.circuit(\n",
        "    netlist={\n",
        "        \"instances\": {\n",
        "            \"lft\": coupler,\n",
        "            \"top\": partial(waveguide, length=500),\n",
        "            \"btm\": partial(waveguide, length=100),\n",
        "            \"rgt\": coupler,\n",
        "        },\n",
        "        \"connections\": {\n",
        "            \"lft,out0\": \"btm,in0\",\n",
        "            \"btm,out0\": \"rgt,in0\",\n",
        "            \"lft,out1\": \"top,in0\",\n",
        "            \"top,out0\": \"rgt,in1\",\n",
        "        },\n",
        "        \"ports\": {\n",
        "            \"in0\": \"lft,in0\",\n",
        "            \"in1\": \"lft,in1\",\n",
        "            \"out0\": \"rgt,out0\",\n",
        "            \"out1\": \"rgt,out1\",\n",
        "        },\n",
        "    },\n",
        "    backend=\"additive\",\n",
        ")"
      ]
    },
    {
      "cell_type": "code",
      "execution_count": 5,
      "id": "8",
      "metadata": {
        "execution": {
          "iopub.execute_input": "2025-02-26T08:32:59.916574Z",
          "iopub.status.busy": "2025-02-26T08:32:59.916307Z",
          "iopub.status.idle": "2025-02-26T08:33:00.079512Z",
          "shell.execute_reply": "2025-02-26T08:33:00.078488Z"
        },
        "papermill": {
          "duration": 0.168831,
          "end_time": "2025-02-26T08:33:00.082200",
          "exception": false,
          "start_time": "2025-02-26T08:32:59.913369",
          "status": "completed"
        },
        "tags": []
      },
      "outputs": [
        {
          "data": {
            "text/plain": [
              "{('in0', 'in0'): [Array([0.], dtype=float64)],\n",
              " ('in0', 'out0'): [Array([200.], dtype=float64), Array([600.], dtype=float64)],\n",
              " ('in0', 'out1'): [Array([200.], dtype=float64), Array([600.], dtype=float64)],\n",
              " ('in1', 'in1'): [Array([0.], dtype=float64)],\n",
              " ('in1', 'out0'): [Array([200.], dtype=float64), Array([600.], dtype=float64)],\n",
              " ('in1', 'out1'): [Array([200.], dtype=float64), Array([600.], dtype=float64)],\n",
              " ('out0', 'in0'): [Array([200.], dtype=float64), Array([600.], dtype=float64)],\n",
              " ('out0', 'in1'): [Array([200.], dtype=float64), Array([600.], dtype=float64)],\n",
              " ('out0', 'out0'): [Array([0.], dtype=float64)],\n",
              " ('out1', 'in0'): [Array([200.], dtype=float64), Array([600.], dtype=float64)],\n",
              " ('out1', 'in1'): [Array([200.], dtype=float64), Array([600.], dtype=float64)],\n",
              " ('out1', 'out1'): [Array([0.], dtype=float64)]}"
            ]
          },
          "execution_count": 5,
          "metadata": {},
          "output_type": "execute_result"
        }
      ],
      "source": [
        "mzi()"
      ]
    }
  ],
  "metadata": {
    "kernelspec": {
      "display_name": "Python 3 (ipykernel)",
      "language": "python",
      "name": "python3"
    },
    "language_info": {
      "codemirror_mode": {
        "name": "ipython",
        "version": 3
      },
      "file_extension": ".py",
      "mimetype": "text/x-python",
      "name": "python",
      "nbconvert_exporter": "python",
      "pygments_lexer": "ipython3",
      "version": "3.12.3"
    },
    "papermill": {
      "default_parameters": {},
      "duration": 4.236486,
      "end_time": "2025-02-26T08:33:00.908882",
      "environment_variables": {},
      "exception": null,
      "input_path": "./examples/06_additive_backend.ipynb",
      "output_path": "./examples/06_additive_backend.ipynb",
      "parameters": {},
      "start_time": "2025-02-26T08:32:56.672396",
      "version": "2.6.0"
    }
  },
  "nbformat": 4,
  "nbformat_minor": 5
}