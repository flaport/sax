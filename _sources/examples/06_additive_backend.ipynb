{
  "cells": [
    {
      "cell_type": "markdown",
      "id": "6f097557",
      "metadata": {
        "papermill": {
          "duration": 0.001907,
          "end_time": "2024-06-17T21:20:33.847399",
          "exception": false,
          "start_time": "2024-06-17T21:20:33.845492",
          "status": "completed"
        },
        "tags": []
      },
      "source": [
        "# Additive Backend"
      ]
    },
    {
      "cell_type": "markdown",
      "id": "56868383",
      "metadata": {
        "papermill": {
          "duration": 0.001319,
          "end_time": "2024-06-17T21:20:33.850095",
          "exception": false,
          "start_time": "2024-06-17T21:20:33.848776",
          "status": "completed"
        },
        "tags": []
      },
      "source": [
        "> The additive backend can be used to obtain pathlengths and group delays."
      ]
    },
    {
      "cell_type": "code",
      "execution_count": 1,
      "id": "79c98bc0",
      "metadata": {
        "execution": {
          "iopub.execute_input": "2024-06-17T21:20:33.854028Z",
          "iopub.status.busy": "2024-06-17T21:20:33.853501Z",
          "iopub.status.idle": "2024-06-17T21:20:34.839585Z",
          "shell.execute_reply": "2024-06-17T21:20:34.838993Z"
        },
        "papermill": {
          "duration": 0.989865,
          "end_time": "2024-06-17T21:20:34.841108",
          "exception": false,
          "start_time": "2024-06-17T21:20:33.851243",
          "status": "completed"
        },
        "tags": []
      },
      "outputs": [],
      "source": [
        "from functools import partial\n",
        "\n",
        "import jax\n",
        "import jax.example_libraries.optimizers as opt\n",
        "import jax.numpy as jnp\n",
        "import matplotlib.pyplot as plt  # plotting\n",
        "import sax"
      ]
    },
    {
      "cell_type": "markdown",
      "id": "6a42b9d9",
      "metadata": {
        "papermill": {
          "duration": 0.001573,
          "end_time": "2024-06-17T21:20:34.844248",
          "exception": false,
          "start_time": "2024-06-17T21:20:34.842675",
          "status": "completed"
        },
        "tags": []
      },
      "source": [
        "## Parametrized Models"
      ]
    },
    {
      "cell_type": "code",
      "execution_count": 2,
      "id": "79e7e40e",
      "metadata": {
        "execution": {
          "iopub.execute_input": "2024-06-17T21:20:34.847935Z",
          "iopub.status.busy": "2024-06-17T21:20:34.847464Z",
          "iopub.status.idle": "2024-06-17T21:20:34.850940Z",
          "shell.execute_reply": "2024-06-17T21:20:34.850429Z"
        },
        "papermill": {
          "duration": 0.006528,
          "end_time": "2024-06-17T21:20:34.852028",
          "exception": false,
          "start_time": "2024-06-17T21:20:34.845500",
          "status": "completed"
        },
        "tags": []
      },
      "outputs": [],
      "source": [
        "def coupler(length=50.0) -> sax.SDict:\n",
        "    sdict = {\n",
        "        (\"in0\", \"out0\"): length,\n",
        "        (\"in0\", \"out1\"): length,\n",
        "        (\"in1\", \"out0\"): length,\n",
        "        (\"in1\", \"out1\"): length,\n",
        "    }\n",
        "    return sax.reciprocal(sdict)"
      ]
    },
    {
      "cell_type": "code",
      "execution_count": 3,
      "id": "3248838c",
      "metadata": {
        "execution": {
          "iopub.execute_input": "2024-06-17T21:20:34.855294Z",
          "iopub.status.busy": "2024-06-17T21:20:34.855097Z",
          "iopub.status.idle": "2024-06-17T21:20:34.858023Z",
          "shell.execute_reply": "2024-06-17T21:20:34.857563Z"
        },
        "papermill": {
          "duration": 0.005786,
          "end_time": "2024-06-17T21:20:34.859107",
          "exception": false,
          "start_time": "2024-06-17T21:20:34.853321",
          "status": "completed"
        },
        "tags": []
      },
      "outputs": [],
      "source": [
        "def waveguide(length=100.0) -> sax.SDict:\n",
        "    sdict = {\n",
        "        (\"in0\", \"out0\"): length,\n",
        "    }\n",
        "    return sax.reciprocal(sdict)"
      ]
    },
    {
      "cell_type": "markdown",
      "id": "d650fb8d",
      "metadata": {
        "papermill": {
          "duration": 0.001187,
          "end_time": "2024-06-17T21:20:34.861587",
          "exception": false,
          "start_time": "2024-06-17T21:20:34.860400",
          "status": "completed"
        },
        "tags": []
      },
      "source": [
        "## Circuit with additive backend"
      ]
    },
    {
      "cell_type": "code",
      "execution_count": 4,
      "id": "56e035d0",
      "metadata": {
        "execution": {
          "iopub.execute_input": "2024-06-17T21:20:34.864951Z",
          "iopub.status.busy": "2024-06-17T21:20:34.864613Z",
          "iopub.status.idle": "2024-06-17T21:20:34.901758Z",
          "shell.execute_reply": "2024-06-17T21:20:34.901210Z"
        },
        "papermill": {
          "duration": 0.040622,
          "end_time": "2024-06-17T21:20:34.903436",
          "exception": false,
          "start_time": "2024-06-17T21:20:34.862814",
          "status": "completed"
        },
        "tags": []
      },
      "outputs": [],
      "source": [
        "mzi, _ = sax.circuit(\n",
        "    netlist={\n",
        "        \"instances\": {\n",
        "            \"lft\": coupler,\n",
        "            \"top\": partial(waveguide, length=500),\n",
        "            \"btm\": partial(waveguide, length=100),\n",
        "            \"rgt\": coupler,\n",
        "        },\n",
        "        \"connections\": {\n",
        "            \"lft,out0\": \"btm,in0\",\n",
        "            \"btm,out0\": \"rgt,in0\",\n",
        "            \"lft,out1\": \"top,in0\",\n",
        "            \"top,out0\": \"rgt,in1\",\n",
        "        },\n",
        "        \"ports\": {\n",
        "            \"in0\": \"lft,in0\",\n",
        "            \"in1\": \"lft,in1\",\n",
        "            \"out0\": \"rgt,out0\",\n",
        "            \"out1\": \"rgt,out1\",\n",
        "        },\n",
        "    },\n",
        "    backend=\"additive\",\n",
        ")"
      ]
    },
    {
      "cell_type": "code",
      "execution_count": 5,
      "id": "c1f245fd",
      "metadata": {
        "execution": {
          "iopub.execute_input": "2024-06-17T21:20:34.907788Z",
          "iopub.status.busy": "2024-06-17T21:20:34.907256Z",
          "iopub.status.idle": "2024-06-17T21:20:35.009784Z",
          "shell.execute_reply": "2024-06-17T21:20:35.009107Z"
        },
        "papermill": {
          "duration": 0.106017,
          "end_time": "2024-06-17T21:20:35.011050",
          "exception": false,
          "start_time": "2024-06-17T21:20:34.905033",
          "status": "completed"
        },
        "tags": []
      },
      "outputs": [
        {
          "data": {
            "text/plain": [
              "{('in0', 'in0'): [Array([0.], dtype=float64)],\n",
              " ('in0', 'out0'): [Array([200.], dtype=float64), Array([600.], dtype=float64)],\n",
              " ('in0', 'out1'): [Array([200.], dtype=float64), Array([600.], dtype=float64)],\n",
              " ('in1', 'in1'): [Array([0.], dtype=float64)],\n",
              " ('in1', 'out0'): [Array([200.], dtype=float64), Array([600.], dtype=float64)],\n",
              " ('in1', 'out1'): [Array([200.], dtype=float64), Array([600.], dtype=float64)],\n",
              " ('out0', 'in0'): [Array([200.], dtype=float64), Array([600.], dtype=float64)],\n",
              " ('out0', 'in1'): [Array([200.], dtype=float64), Array([600.], dtype=float64)],\n",
              " ('out0', 'out0'): [Array([0.], dtype=float64)],\n",
              " ('out1', 'in0'): [Array([200.], dtype=float64), Array([600.], dtype=float64)],\n",
              " ('out1', 'in1'): [Array([200.], dtype=float64), Array([600.], dtype=float64)],\n",
              " ('out1', 'out1'): [Array([0.], dtype=float64)]}"
            ]
          },
          "execution_count": 5,
          "metadata": {},
          "output_type": "execute_result"
        }
      ],
      "source": [
        "mzi()"
      ]
    }
  ],
  "metadata": {
    "kernelspec": {
      "display_name": "Python 3 (ipykernel)",
      "language": "python",
      "name": "python3"
    },
    "language_info": {
      "codemirror_mode": {
        "name": "ipython",
        "version": 3
      },
      "file_extension": ".py",
      "mimetype": "text/x-python",
      "name": "python",
      "nbconvert_exporter": "python",
      "pygments_lexer": "ipython3",
      "version": "3.10.14"
    },
    "papermill": {
      "default_parameters": {},
      "duration": 2.412353,
      "end_time": "2024-06-17T21:20:35.430462",
      "environment_variables": {},
      "exception": null,
      "input_path": "./examples/06_additive_backend.ipynb",
      "output_path": "./examples/06_additive_backend.ipynb",
      "parameters": {},
      "start_time": "2024-06-17T21:20:33.018109",
      "version": "2.6.0"
    }
  },
  "nbformat": 4,
  "nbformat_minor": 5
}