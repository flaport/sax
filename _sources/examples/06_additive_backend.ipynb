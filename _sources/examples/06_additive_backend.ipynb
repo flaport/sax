{
  "cells": [
    {
      "cell_type": "markdown",
      "id": "6f097557",
      "metadata": {
        "papermill": {
          "duration": 0.001769,
          "end_time": "2024-06-17T20:18:30.043510",
          "exception": false,
          "start_time": "2024-06-17T20:18:30.041741",
          "status": "completed"
        },
        "tags": []
      },
      "source": [
        "# Additive Backend"
      ]
    },
    {
      "cell_type": "markdown",
      "id": "56868383",
      "metadata": {
        "papermill": {
          "duration": 0.001232,
          "end_time": "2024-06-17T20:18:30.046153",
          "exception": false,
          "start_time": "2024-06-17T20:18:30.044921",
          "status": "completed"
        },
        "tags": []
      },
      "source": [
        "> The additive backend can be used to obtain pathlengths and group delays."
      ]
    },
    {
      "cell_type": "code",
      "execution_count": 1,
      "id": "79c98bc0",
      "metadata": {
        "execution": {
          "iopub.execute_input": "2024-06-17T20:18:30.049392Z",
          "iopub.status.busy": "2024-06-17T20:18:30.049037Z",
          "iopub.status.idle": "2024-06-17T20:18:30.982246Z",
          "shell.execute_reply": "2024-06-17T20:18:30.981653Z"
        },
        "papermill": {
          "duration": 0.93645,
          "end_time": "2024-06-17T20:18:30.983739",
          "exception": false,
          "start_time": "2024-06-17T20:18:30.047289",
          "status": "completed"
        },
        "tags": []
      },
      "outputs": [],
      "source": [
        "from functools import partial\n",
        "\n",
        "import jax\n",
        "import jax.example_libraries.optimizers as opt\n",
        "import jax.numpy as jnp\n",
        "import matplotlib.pyplot as plt  # plotting\n",
        "import sax"
      ]
    },
    {
      "cell_type": "markdown",
      "id": "6a42b9d9",
      "metadata": {
        "papermill": {
          "duration": 0.001417,
          "end_time": "2024-06-17T20:18:30.986737",
          "exception": false,
          "start_time": "2024-06-17T20:18:30.985320",
          "status": "completed"
        },
        "tags": []
      },
      "source": [
        "## Parametrized Models"
      ]
    },
    {
      "cell_type": "code",
      "execution_count": 2,
      "id": "79e7e40e",
      "metadata": {
        "execution": {
          "iopub.execute_input": "2024-06-17T20:18:30.990346Z",
          "iopub.status.busy": "2024-06-17T20:18:30.989857Z",
          "iopub.status.idle": "2024-06-17T20:18:30.993172Z",
          "shell.execute_reply": "2024-06-17T20:18:30.992683Z"
        },
        "papermill": {
          "duration": 0.006364,
          "end_time": "2024-06-17T20:18:30.994267",
          "exception": false,
          "start_time": "2024-06-17T20:18:30.987903",
          "status": "completed"
        },
        "tags": []
      },
      "outputs": [],
      "source": [
        "def coupler(length=50.0) -> sax.SDict:\n",
        "    sdict = {\n",
        "        (\"in0\", \"out0\"): length,\n",
        "        (\"in0\", \"out1\"): length,\n",
        "        (\"in1\", \"out0\"): length,\n",
        "        (\"in1\", \"out1\"): length,\n",
        "    }\n",
        "    return sax.reciprocal(sdict)"
      ]
    },
    {
      "cell_type": "code",
      "execution_count": 3,
      "id": "3248838c",
      "metadata": {
        "execution": {
          "iopub.execute_input": "2024-06-17T20:18:30.997597Z",
          "iopub.status.busy": "2024-06-17T20:18:30.997313Z",
          "iopub.status.idle": "2024-06-17T20:18:31.000162Z",
          "shell.execute_reply": "2024-06-17T20:18:30.999670Z"
        },
        "papermill": {
          "duration": 0.005742,
          "end_time": "2024-06-17T20:18:31.001242",
          "exception": false,
          "start_time": "2024-06-17T20:18:30.995500",
          "status": "completed"
        },
        "tags": []
      },
      "outputs": [],
      "source": [
        "def waveguide(length=100.0) -> sax.SDict:\n",
        "    sdict = {\n",
        "        (\"in0\", \"out0\"): length,\n",
        "    }\n",
        "    return sax.reciprocal(sdict)"
      ]
    },
    {
      "cell_type": "markdown",
      "id": "d650fb8d",
      "metadata": {
        "papermill": {
          "duration": 0.001967,
          "end_time": "2024-06-17T20:18:31.004426",
          "exception": false,
          "start_time": "2024-06-17T20:18:31.002459",
          "status": "completed"
        },
        "tags": []
      },
      "source": [
        "## Circuit with additive backend"
      ]
    },
    {
      "cell_type": "code",
      "execution_count": 4,
      "id": "56e035d0",
      "metadata": {
        "execution": {
          "iopub.execute_input": "2024-06-17T20:18:31.007906Z",
          "iopub.status.busy": "2024-06-17T20:18:31.007513Z",
          "iopub.status.idle": "2024-06-17T20:18:31.043827Z",
          "shell.execute_reply": "2024-06-17T20:18:31.043322Z"
        },
        "papermill": {
          "duration": 0.039555,
          "end_time": "2024-06-17T20:18:31.045227",
          "exception": false,
          "start_time": "2024-06-17T20:18:31.005672",
          "status": "completed"
        },
        "tags": []
      },
      "outputs": [],
      "source": [
        "mzi, _ = sax.circuit(\n",
        "    netlist={\n",
        "        \"instances\": {\n",
        "            \"lft\": coupler,\n",
        "            \"top\": partial(waveguide, length=500),\n",
        "            \"btm\": partial(waveguide, length=100),\n",
        "            \"rgt\": coupler,\n",
        "        },\n",
        "        \"connections\": {\n",
        "            \"lft,out0\": \"btm,in0\",\n",
        "            \"btm,out0\": \"rgt,in0\",\n",
        "            \"lft,out1\": \"top,in0\",\n",
        "            \"top,out0\": \"rgt,in1\",\n",
        "        },\n",
        "        \"ports\": {\n",
        "            \"in0\": \"lft,in0\",\n",
        "            \"in1\": \"lft,in1\",\n",
        "            \"out0\": \"rgt,out0\",\n",
        "            \"out1\": \"rgt,out1\",\n",
        "        },\n",
        "    },\n",
        "    backend=\"additive\",\n",
        ")"
      ]
    },
    {
      "cell_type": "code",
      "execution_count": 5,
      "id": "c1f245fd",
      "metadata": {
        "execution": {
          "iopub.execute_input": "2024-06-17T20:18:31.049147Z",
          "iopub.status.busy": "2024-06-17T20:18:31.048750Z",
          "iopub.status.idle": "2024-06-17T20:18:31.138942Z",
          "shell.execute_reply": "2024-06-17T20:18:31.138392Z"
        },
        "papermill": {
          "duration": 0.09357,
          "end_time": "2024-06-17T20:18:31.140215",
          "exception": false,
          "start_time": "2024-06-17T20:18:31.046645",
          "status": "completed"
        },
        "tags": []
      },
      "outputs": [
        {
          "data": {
            "text/plain": [
              "{('in0', 'in0'): [Array([0.], dtype=float64)],\n",
              " ('in0', 'out0'): [Array([200.], dtype=float64), Array([600.], dtype=float64)],\n",
              " ('in0', 'out1'): [Array([200.], dtype=float64), Array([600.], dtype=float64)],\n",
              " ('in1', 'in1'): [Array([0.], dtype=float64)],\n",
              " ('in1', 'out0'): [Array([200.], dtype=float64), Array([600.], dtype=float64)],\n",
              " ('in1', 'out1'): [Array([200.], dtype=float64), Array([600.], dtype=float64)],\n",
              " ('out0', 'in0'): [Array([200.], dtype=float64), Array([600.], dtype=float64)],\n",
              " ('out0', 'in1'): [Array([200.], dtype=float64), Array([600.], dtype=float64)],\n",
              " ('out0', 'out0'): [Array([0.], dtype=float64)],\n",
              " ('out1', 'in0'): [Array([200.], dtype=float64), Array([600.], dtype=float64)],\n",
              " ('out1', 'in1'): [Array([200.], dtype=float64), Array([600.], dtype=float64)],\n",
              " ('out1', 'out1'): [Array([0.], dtype=float64)]}"
            ]
          },
          "execution_count": 5,
          "metadata": {},
          "output_type": "execute_result"
        }
      ],
      "source": [
        "mzi()"
      ]
    }
  ],
  "metadata": {
    "kernelspec": {
      "display_name": "Python 3 (ipykernel)",
      "language": "python",
      "name": "python3"
    },
    "language_info": {
      "codemirror_mode": {
        "name": "ipython",
        "version": 3
      },
      "file_extension": ".py",
      "mimetype": "text/x-python",
      "name": "python",
      "nbconvert_exporter": "python",
      "pygments_lexer": "ipython3",
      "version": "3.10.14"
    },
    "papermill": {
      "default_parameters": {},
      "duration": 2.363452,
      "end_time": "2024-06-17T20:18:31.457634",
      "environment_variables": {},
      "exception": null,
      "input_path": "./examples/06_additive_backend.ipynb",
      "output_path": "./examples/06_additive_backend.ipynb",
      "parameters": {},
      "start_time": "2024-06-17T20:18:29.094182",
      "version": "2.6.0"
    }
  },
  "nbformat": 4,
  "nbformat_minor": 5
}