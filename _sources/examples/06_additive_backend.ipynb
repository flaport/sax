{
  "cells": [
    {
      "cell_type": "markdown",
      "id": "0",
      "metadata": {
        "papermill": {
          "duration": 0.001622,
          "end_time": "2024-11-06T14:04:22.186612",
          "exception": false,
          "start_time": "2024-11-06T14:04:22.184990",
          "status": "completed"
        },
        "tags": []
      },
      "source": [
        "# Additive Backend"
      ]
    },
    {
      "cell_type": "markdown",
      "id": "1",
      "metadata": {
        "papermill": {
          "duration": 0.001148,
          "end_time": "2024-11-06T14:04:22.189193",
          "exception": false,
          "start_time": "2024-11-06T14:04:22.188045",
          "status": "completed"
        },
        "tags": []
      },
      "source": [
        "> The additive backend can be used to obtain pathlengths and group delays."
      ]
    },
    {
      "cell_type": "code",
      "execution_count": 1,
      "id": "2",
      "metadata": {
        "execution": {
          "iopub.execute_input": "2024-11-06T14:04:22.192162Z",
          "iopub.status.busy": "2024-11-06T14:04:22.191806Z",
          "iopub.status.idle": "2024-11-06T14:04:23.037073Z",
          "shell.execute_reply": "2024-11-06T14:04:23.036540Z"
        },
        "papermill": {
          "duration": 0.847995,
          "end_time": "2024-11-06T14:04:23.038239",
          "exception": false,
          "start_time": "2024-11-06T14:04:22.190244",
          "status": "completed"
        },
        "tags": []
      },
      "outputs": [],
      "source": [
        "from functools import partial\n",
        "\n",
        "import jax\n",
        "import jax.example_libraries.optimizers as opt\n",
        "import jax.numpy as jnp\n",
        "import matplotlib.pyplot as plt  # plotting\n",
        "import sax"
      ]
    },
    {
      "cell_type": "markdown",
      "id": "3",
      "metadata": {
        "papermill": {
          "duration": 0.00134,
          "end_time": "2024-11-06T14:04:23.041063",
          "exception": false,
          "start_time": "2024-11-06T14:04:23.039723",
          "status": "completed"
        },
        "tags": []
      },
      "source": [
        "## Parametrized Models"
      ]
    },
    {
      "cell_type": "code",
      "execution_count": 2,
      "id": "4",
      "metadata": {
        "execution": {
          "iopub.execute_input": "2024-11-06T14:04:23.044451Z",
          "iopub.status.busy": "2024-11-06T14:04:23.044027Z",
          "iopub.status.idle": "2024-11-06T14:04:23.047435Z",
          "shell.execute_reply": "2024-11-06T14:04:23.047036Z"
        },
        "papermill": {
          "duration": 0.005849,
          "end_time": "2024-11-06T14:04:23.048161",
          "exception": false,
          "start_time": "2024-11-06T14:04:23.042312",
          "status": "completed"
        },
        "tags": []
      },
      "outputs": [],
      "source": [
        "def coupler(length=50.0) -> sax.SDict:\n",
        "    sdict = {\n",
        "        (\"in0\", \"out0\"): length,\n",
        "        (\"in0\", \"out1\"): length,\n",
        "        (\"in1\", \"out0\"): length,\n",
        "        (\"in1\", \"out1\"): length,\n",
        "    }\n",
        "    return sax.reciprocal(sdict)"
      ]
    },
    {
      "cell_type": "code",
      "execution_count": 3,
      "id": "5",
      "metadata": {
        "execution": {
          "iopub.execute_input": "2024-11-06T14:04:23.050988Z",
          "iopub.status.busy": "2024-11-06T14:04:23.050840Z",
          "iopub.status.idle": "2024-11-06T14:04:23.053426Z",
          "shell.execute_reply": "2024-11-06T14:04:23.053037Z"
        },
        "papermill": {
          "duration": 0.00487,
          "end_time": "2024-11-06T14:04:23.054136",
          "exception": false,
          "start_time": "2024-11-06T14:04:23.049266",
          "status": "completed"
        },
        "tags": []
      },
      "outputs": [],
      "source": [
        "def waveguide(length=100.0) -> sax.SDict:\n",
        "    sdict = {\n",
        "        (\"in0\", \"out0\"): length,\n",
        "    }\n",
        "    return sax.reciprocal(sdict)"
      ]
    },
    {
      "cell_type": "markdown",
      "id": "6",
      "metadata": {
        "papermill": {
          "duration": 0.001131,
          "end_time": "2024-11-06T14:04:23.056412",
          "exception": false,
          "start_time": "2024-11-06T14:04:23.055281",
          "status": "completed"
        },
        "tags": []
      },
      "source": [
        "## Circuit with additive backend"
      ]
    },
    {
      "cell_type": "code",
      "execution_count": 4,
      "id": "7",
      "metadata": {
        "execution": {
          "iopub.execute_input": "2024-11-06T14:04:23.059427Z",
          "iopub.status.busy": "2024-11-06T14:04:23.059107Z",
          "iopub.status.idle": "2024-11-06T14:04:23.098958Z",
          "shell.execute_reply": "2024-11-06T14:04:23.098539Z"
        },
        "papermill": {
          "duration": 0.042327,
          "end_time": "2024-11-06T14:04:23.099879",
          "exception": false,
          "start_time": "2024-11-06T14:04:23.057552",
          "status": "completed"
        },
        "tags": []
      },
      "outputs": [],
      "source": [
        "mzi, _ = sax.circuit(\n",
        "    netlist={\n",
        "        \"instances\": {\n",
        "            \"lft\": coupler,\n",
        "            \"top\": partial(waveguide, length=500),\n",
        "            \"btm\": partial(waveguide, length=100),\n",
        "            \"rgt\": coupler,\n",
        "        },\n",
        "        \"connections\": {\n",
        "            \"lft,out0\": \"btm,in0\",\n",
        "            \"btm,out0\": \"rgt,in0\",\n",
        "            \"lft,out1\": \"top,in0\",\n",
        "            \"top,out0\": \"rgt,in1\",\n",
        "        },\n",
        "        \"ports\": {\n",
        "            \"in0\": \"lft,in0\",\n",
        "            \"in1\": \"lft,in1\",\n",
        "            \"out0\": \"rgt,out0\",\n",
        "            \"out1\": \"rgt,out1\",\n",
        "        },\n",
        "    },\n",
        "    backend=\"additive\",\n",
        ")"
      ]
    },
    {
      "cell_type": "code",
      "execution_count": 5,
      "id": "8",
      "metadata": {
        "execution": {
          "iopub.execute_input": "2024-11-06T14:04:23.104239Z",
          "iopub.status.busy": "2024-11-06T14:04:23.103827Z",
          "iopub.status.idle": "2024-11-06T14:04:23.184139Z",
          "shell.execute_reply": "2024-11-06T14:04:23.183668Z"
        },
        "papermill": {
          "duration": 0.082742,
          "end_time": "2024-11-06T14:04:23.184888",
          "exception": false,
          "start_time": "2024-11-06T14:04:23.102146",
          "status": "completed"
        },
        "tags": []
      },
      "outputs": [
        {
          "data": {
            "text/plain": [
              "{('in0', 'in0'): [Array([0.], dtype=float64)],\n",
              " ('in0', 'out0'): [Array([200.], dtype=float64), Array([600.], dtype=float64)],\n",
              " ('in0', 'out1'): [Array([200.], dtype=float64), Array([600.], dtype=float64)],\n",
              " ('in1', 'in1'): [Array([0.], dtype=float64)],\n",
              " ('in1', 'out0'): [Array([200.], dtype=float64), Array([600.], dtype=float64)],\n",
              " ('in1', 'out1'): [Array([200.], dtype=float64), Array([600.], dtype=float64)],\n",
              " ('out0', 'in0'): [Array([200.], dtype=float64), Array([600.], dtype=float64)],\n",
              " ('out0', 'in1'): [Array([200.], dtype=float64), Array([600.], dtype=float64)],\n",
              " ('out0', 'out0'): [Array([0.], dtype=float64)],\n",
              " ('out1', 'in0'): [Array([200.], dtype=float64), Array([600.], dtype=float64)],\n",
              " ('out1', 'in1'): [Array([200.], dtype=float64), Array([600.], dtype=float64)],\n",
              " ('out1', 'out1'): [Array([0.], dtype=float64)]}"
            ]
          },
          "execution_count": 5,
          "metadata": {},
          "output_type": "execute_result"
        }
      ],
      "source": [
        "mzi()"
      ]
    }
  ],
  "metadata": {
    "kernelspec": {
      "display_name": "Python 3 (ipykernel)",
      "language": "python",
      "name": "python3"
    },
    "language_info": {
      "codemirror_mode": {
        "name": "ipython",
        "version": 3
      },
      "file_extension": ".py",
      "mimetype": "text/x-python",
      "name": "python",
      "nbconvert_exporter": "python",
      "pygments_lexer": "ipython3",
      "version": "3.11.10"
    },
    "papermill": {
      "default_parameters": {},
      "duration": 2.263168,
      "end_time": "2024-11-06T14:04:23.501975",
      "environment_variables": {},
      "exception": null,
      "input_path": "./examples/06_additive_backend.ipynb",
      "output_path": "./examples/06_additive_backend.ipynb",
      "parameters": {},
      "start_time": "2024-11-06T14:04:21.238807",
      "version": "2.6.0"
    }
  },
  "nbformat": 4,
  "nbformat_minor": 5
}