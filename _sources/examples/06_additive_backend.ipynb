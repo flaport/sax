{
  "cells": [
    {
      "cell_type": "markdown",
      "id": "6f097557",
      "metadata": {
        "papermill": {
          "duration": 0.001784,
          "end_time": "2024-06-17T21:28:01.300541",
          "exception": false,
          "start_time": "2024-06-17T21:28:01.298757",
          "status": "completed"
        },
        "tags": []
      },
      "source": [
        "# Additive Backend"
      ]
    },
    {
      "cell_type": "markdown",
      "id": "56868383",
      "metadata": {
        "papermill": {
          "duration": 0.001242,
          "end_time": "2024-06-17T21:28:01.303218",
          "exception": false,
          "start_time": "2024-06-17T21:28:01.301976",
          "status": "completed"
        },
        "tags": []
      },
      "source": [
        "> The additive backend can be used to obtain pathlengths and group delays."
      ]
    },
    {
      "cell_type": "code",
      "execution_count": 1,
      "id": "79c98bc0",
      "metadata": {
        "execution": {
          "iopub.execute_input": "2024-06-17T21:28:01.306874Z",
          "iopub.status.busy": "2024-06-17T21:28:01.306397Z",
          "iopub.status.idle": "2024-06-17T21:28:02.227558Z",
          "shell.execute_reply": "2024-06-17T21:28:02.226948Z"
        },
        "papermill": {
          "duration": 0.92475,
          "end_time": "2024-06-17T21:28:02.229108",
          "exception": false,
          "start_time": "2024-06-17T21:28:01.304358",
          "status": "completed"
        },
        "tags": []
      },
      "outputs": [],
      "source": [
        "from functools import partial\n",
        "\n",
        "import jax\n",
        "import jax.example_libraries.optimizers as opt\n",
        "import jax.numpy as jnp\n",
        "import matplotlib.pyplot as plt  # plotting\n",
        "import sax"
      ]
    },
    {
      "cell_type": "markdown",
      "id": "6a42b9d9",
      "metadata": {
        "papermill": {
          "duration": 0.001286,
          "end_time": "2024-06-17T21:28:02.231938",
          "exception": false,
          "start_time": "2024-06-17T21:28:02.230652",
          "status": "completed"
        },
        "tags": []
      },
      "source": [
        "## Parametrized Models"
      ]
    },
    {
      "cell_type": "code",
      "execution_count": 2,
      "id": "79e7e40e",
      "metadata": {
        "execution": {
          "iopub.execute_input": "2024-06-17T21:28:02.235401Z",
          "iopub.status.busy": "2024-06-17T21:28:02.234960Z",
          "iopub.status.idle": "2024-06-17T21:28:02.238151Z",
          "shell.execute_reply": "2024-06-17T21:28:02.237649Z"
        },
        "papermill": {
          "duration": 0.006114,
          "end_time": "2024-06-17T21:28:02.239217",
          "exception": false,
          "start_time": "2024-06-17T21:28:02.233103",
          "status": "completed"
        },
        "tags": []
      },
      "outputs": [],
      "source": [
        "def coupler(length=50.0) -> sax.SDict:\n",
        "    sdict = {\n",
        "        (\"in0\", \"out0\"): length,\n",
        "        (\"in0\", \"out1\"): length,\n",
        "        (\"in1\", \"out0\"): length,\n",
        "        (\"in1\", \"out1\"): length,\n",
        "    }\n",
        "    return sax.reciprocal(sdict)"
      ]
    },
    {
      "cell_type": "code",
      "execution_count": 3,
      "id": "3248838c",
      "metadata": {
        "execution": {
          "iopub.execute_input": "2024-06-17T21:28:02.242951Z",
          "iopub.status.busy": "2024-06-17T21:28:02.242603Z",
          "iopub.status.idle": "2024-06-17T21:28:02.245287Z",
          "shell.execute_reply": "2024-06-17T21:28:02.244814Z"
        },
        "papermill": {
          "duration": 0.005885,
          "end_time": "2024-06-17T21:28:02.246368",
          "exception": false,
          "start_time": "2024-06-17T21:28:02.240483",
          "status": "completed"
        },
        "tags": []
      },
      "outputs": [],
      "source": [
        "def waveguide(length=100.0) -> sax.SDict:\n",
        "    sdict = {\n",
        "        (\"in0\", \"out0\"): length,\n",
        "    }\n",
        "    return sax.reciprocal(sdict)"
      ]
    },
    {
      "cell_type": "markdown",
      "id": "d650fb8d",
      "metadata": {
        "papermill": {
          "duration": 0.001207,
          "end_time": "2024-06-17T21:28:02.248795",
          "exception": false,
          "start_time": "2024-06-17T21:28:02.247588",
          "status": "completed"
        },
        "tags": []
      },
      "source": [
        "## Circuit with additive backend"
      ]
    },
    {
      "cell_type": "code",
      "execution_count": 4,
      "id": "56e035d0",
      "metadata": {
        "execution": {
          "iopub.execute_input": "2024-06-17T21:28:02.252183Z",
          "iopub.status.busy": "2024-06-17T21:28:02.251862Z",
          "iopub.status.idle": "2024-06-17T21:28:02.287643Z",
          "shell.execute_reply": "2024-06-17T21:28:02.287135Z"
        },
        "papermill": {
          "duration": 0.038933,
          "end_time": "2024-06-17T21:28:02.288994",
          "exception": false,
          "start_time": "2024-06-17T21:28:02.250061",
          "status": "completed"
        },
        "tags": []
      },
      "outputs": [],
      "source": [
        "mzi, _ = sax.circuit(\n",
        "    netlist={\n",
        "        \"instances\": {\n",
        "            \"lft\": coupler,\n",
        "            \"top\": partial(waveguide, length=500),\n",
        "            \"btm\": partial(waveguide, length=100),\n",
        "            \"rgt\": coupler,\n",
        "        },\n",
        "        \"connections\": {\n",
        "            \"lft,out0\": \"btm,in0\",\n",
        "            \"btm,out0\": \"rgt,in0\",\n",
        "            \"lft,out1\": \"top,in0\",\n",
        "            \"top,out0\": \"rgt,in1\",\n",
        "        },\n",
        "        \"ports\": {\n",
        "            \"in0\": \"lft,in0\",\n",
        "            \"in1\": \"lft,in1\",\n",
        "            \"out0\": \"rgt,out0\",\n",
        "            \"out1\": \"rgt,out1\",\n",
        "        },\n",
        "    },\n",
        "    backend=\"additive\",\n",
        ")"
      ]
    },
    {
      "cell_type": "code",
      "execution_count": 5,
      "id": "c1f245fd",
      "metadata": {
        "execution": {
          "iopub.execute_input": "2024-06-17T21:28:02.292938Z",
          "iopub.status.busy": "2024-06-17T21:28:02.292554Z",
          "iopub.status.idle": "2024-06-17T21:28:02.385018Z",
          "shell.execute_reply": "2024-06-17T21:28:02.384400Z"
        },
        "papermill": {
          "duration": 0.095829,
          "end_time": "2024-06-17T21:28:02.386315",
          "exception": false,
          "start_time": "2024-06-17T21:28:02.290486",
          "status": "completed"
        },
        "tags": []
      },
      "outputs": [
        {
          "data": {
            "text/plain": [
              "{('in0', 'in0'): [Array([0.], dtype=float64)],\n",
              " ('in0', 'out0'): [Array([200.], dtype=float64), Array([600.], dtype=float64)],\n",
              " ('in0', 'out1'): [Array([200.], dtype=float64), Array([600.], dtype=float64)],\n",
              " ('in1', 'in1'): [Array([0.], dtype=float64)],\n",
              " ('in1', 'out0'): [Array([200.], dtype=float64), Array([600.], dtype=float64)],\n",
              " ('in1', 'out1'): [Array([200.], dtype=float64), Array([600.], dtype=float64)],\n",
              " ('out0', 'in0'): [Array([200.], dtype=float64), Array([600.], dtype=float64)],\n",
              " ('out0', 'in1'): [Array([200.], dtype=float64), Array([600.], dtype=float64)],\n",
              " ('out0', 'out0'): [Array([0.], dtype=float64)],\n",
              " ('out1', 'in0'): [Array([200.], dtype=float64), Array([600.], dtype=float64)],\n",
              " ('out1', 'in1'): [Array([200.], dtype=float64), Array([600.], dtype=float64)],\n",
              " ('out1', 'out1'): [Array([0.], dtype=float64)]}"
            ]
          },
          "execution_count": 5,
          "metadata": {},
          "output_type": "execute_result"
        }
      ],
      "source": [
        "mzi()"
      ]
    }
  ],
  "metadata": {
    "kernelspec": {
      "display_name": "Python 3 (ipykernel)",
      "language": "python",
      "name": "python3"
    },
    "language_info": {
      "codemirror_mode": {
        "name": "ipython",
        "version": 3
      },
      "file_extension": ".py",
      "mimetype": "text/x-python",
      "name": "python",
      "nbconvert_exporter": "python",
      "pygments_lexer": "ipython3",
      "version": "3.10.14"
    },
    "papermill": {
      "default_parameters": {},
      "duration": 2.359818,
      "end_time": "2024-06-17T21:28:02.703620",
      "environment_variables": {},
      "exception": null,
      "input_path": "./examples/06_additive_backend.ipynb",
      "output_path": "./examples/06_additive_backend.ipynb",
      "parameters": {},
      "start_time": "2024-06-17T21:28:00.343802",
      "version": "2.6.0"
    }
  },
  "nbformat": 4,
  "nbformat_minor": 5
}