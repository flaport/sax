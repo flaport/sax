{
  "cells": [
    {
      "cell_type": "markdown",
      "id": "6f097557",
      "metadata": {
        "papermill": {
          "duration": 0.002436,
          "end_time": "2024-08-12T15:35:32.501590",
          "exception": false,
          "start_time": "2024-08-12T15:35:32.499154",
          "status": "completed"
        },
        "tags": []
      },
      "source": [
        "# Additive Backend"
      ]
    },
    {
      "cell_type": "markdown",
      "id": "56868383",
      "metadata": {
        "papermill": {
          "duration": 0.001278,
          "end_time": "2024-08-12T15:35:32.504430",
          "exception": false,
          "start_time": "2024-08-12T15:35:32.503152",
          "status": "completed"
        },
        "tags": []
      },
      "source": [
        "> The additive backend can be used to obtain pathlengths and group delays."
      ]
    },
    {
      "cell_type": "code",
      "execution_count": 1,
      "id": "79c98bc0",
      "metadata": {
        "execution": {
          "iopub.execute_input": "2024-08-12T15:35:32.508216Z",
          "iopub.status.busy": "2024-08-12T15:35:32.507740Z",
          "iopub.status.idle": "2024-08-12T15:35:33.490856Z",
          "shell.execute_reply": "2024-08-12T15:35:33.490212Z"
        },
        "papermill": {
          "duration": 0.98686,
          "end_time": "2024-08-12T15:35:33.492475",
          "exception": false,
          "start_time": "2024-08-12T15:35:32.505615",
          "status": "completed"
        },
        "tags": []
      },
      "outputs": [],
      "source": [
        "from functools import partial\n",
        "\n",
        "import jax\n",
        "import jax.example_libraries.optimizers as opt\n",
        "import jax.numpy as jnp\n",
        "import matplotlib.pyplot as plt  # plotting\n",
        "import sax"
      ]
    },
    {
      "cell_type": "markdown",
      "id": "6a42b9d9",
      "metadata": {
        "papermill": {
          "duration": 0.001356,
          "end_time": "2024-08-12T15:35:33.495432",
          "exception": false,
          "start_time": "2024-08-12T15:35:33.494076",
          "status": "completed"
        },
        "tags": []
      },
      "source": [
        "## Parametrized Models"
      ]
    },
    {
      "cell_type": "code",
      "execution_count": 2,
      "id": "79e7e40e",
      "metadata": {
        "execution": {
          "iopub.execute_input": "2024-08-12T15:35:33.499076Z",
          "iopub.status.busy": "2024-08-12T15:35:33.498577Z",
          "iopub.status.idle": "2024-08-12T15:35:33.502009Z",
          "shell.execute_reply": "2024-08-12T15:35:33.501524Z"
        },
        "papermill": {
          "duration": 0.00676,
          "end_time": "2024-08-12T15:35:33.503425",
          "exception": false,
          "start_time": "2024-08-12T15:35:33.496665",
          "status": "completed"
        },
        "tags": []
      },
      "outputs": [],
      "source": [
        "def coupler(length=50.0) -> sax.SDict:\n",
        "    sdict = {\n",
        "        (\"in0\", \"out0\"): length,\n",
        "        (\"in0\", \"out1\"): length,\n",
        "        (\"in1\", \"out0\"): length,\n",
        "        (\"in1\", \"out1\"): length,\n",
        "    }\n",
        "    return sax.reciprocal(sdict)"
      ]
    },
    {
      "cell_type": "code",
      "execution_count": 3,
      "id": "3248838c",
      "metadata": {
        "execution": {
          "iopub.execute_input": "2024-08-12T15:35:33.507075Z",
          "iopub.status.busy": "2024-08-12T15:35:33.506768Z",
          "iopub.status.idle": "2024-08-12T15:35:33.509667Z",
          "shell.execute_reply": "2024-08-12T15:35:33.509110Z"
        },
        "papermill": {
          "duration": 0.005784,
          "end_time": "2024-08-12T15:35:33.510766",
          "exception": false,
          "start_time": "2024-08-12T15:35:33.504982",
          "status": "completed"
        },
        "tags": []
      },
      "outputs": [],
      "source": [
        "def waveguide(length=100.0) -> sax.SDict:\n",
        "    sdict = {\n",
        "        (\"in0\", \"out0\"): length,\n",
        "    }\n",
        "    return sax.reciprocal(sdict)"
      ]
    },
    {
      "cell_type": "markdown",
      "id": "d650fb8d",
      "metadata": {
        "papermill": {
          "duration": 0.001246,
          "end_time": "2024-08-12T15:35:33.513289",
          "exception": false,
          "start_time": "2024-08-12T15:35:33.512043",
          "status": "completed"
        },
        "tags": []
      },
      "source": [
        "## Circuit with additive backend"
      ]
    },
    {
      "cell_type": "code",
      "execution_count": 4,
      "id": "56e035d0",
      "metadata": {
        "execution": {
          "iopub.execute_input": "2024-08-12T15:35:33.516640Z",
          "iopub.status.busy": "2024-08-12T15:35:33.516307Z",
          "iopub.status.idle": "2024-08-12T15:35:33.553649Z",
          "shell.execute_reply": "2024-08-12T15:35:33.552976Z"
        },
        "papermill": {
          "duration": 0.040647,
          "end_time": "2024-08-12T15:35:33.555214",
          "exception": false,
          "start_time": "2024-08-12T15:35:33.514567",
          "status": "completed"
        },
        "tags": []
      },
      "outputs": [],
      "source": [
        "mzi, _ = sax.circuit(\n",
        "    netlist={\n",
        "        \"instances\": {\n",
        "            \"lft\": coupler,\n",
        "            \"top\": partial(waveguide, length=500),\n",
        "            \"btm\": partial(waveguide, length=100),\n",
        "            \"rgt\": coupler,\n",
        "        },\n",
        "        \"connections\": {\n",
        "            \"lft,out0\": \"btm,in0\",\n",
        "            \"btm,out0\": \"rgt,in0\",\n",
        "            \"lft,out1\": \"top,in0\",\n",
        "            \"top,out0\": \"rgt,in1\",\n",
        "        },\n",
        "        \"ports\": {\n",
        "            \"in0\": \"lft,in0\",\n",
        "            \"in1\": \"lft,in1\",\n",
        "            \"out0\": \"rgt,out0\",\n",
        "            \"out1\": \"rgt,out1\",\n",
        "        },\n",
        "    },\n",
        "    backend=\"additive\",\n",
        ")"
      ]
    },
    {
      "cell_type": "code",
      "execution_count": 5,
      "id": "c1f245fd",
      "metadata": {
        "execution": {
          "iopub.execute_input": "2024-08-12T15:35:33.559291Z",
          "iopub.status.busy": "2024-08-12T15:35:33.558888Z",
          "iopub.status.idle": "2024-08-12T15:35:33.651099Z",
          "shell.execute_reply": "2024-08-12T15:35:33.650374Z"
        },
        "papermill": {
          "duration": 0.09554,
          "end_time": "2024-08-12T15:35:33.652351",
          "exception": false,
          "start_time": "2024-08-12T15:35:33.556811",
          "status": "completed"
        },
        "tags": []
      },
      "outputs": [
        {
          "data": {
            "text/plain": [
              "{('in0', 'in0'): [Array([0.], dtype=float64)],\n",
              " ('in0', 'out0'): [Array([200.], dtype=float64), Array([600.], dtype=float64)],\n",
              " ('in0', 'out1'): [Array([200.], dtype=float64), Array([600.], dtype=float64)],\n",
              " ('in1', 'in1'): [Array([0.], dtype=float64)],\n",
              " ('in1', 'out0'): [Array([200.], dtype=float64), Array([600.], dtype=float64)],\n",
              " ('in1', 'out1'): [Array([200.], dtype=float64), Array([600.], dtype=float64)],\n",
              " ('out0', 'in0'): [Array([200.], dtype=float64), Array([600.], dtype=float64)],\n",
              " ('out0', 'in1'): [Array([200.], dtype=float64), Array([600.], dtype=float64)],\n",
              " ('out0', 'out0'): [Array([0.], dtype=float64)],\n",
              " ('out1', 'in0'): [Array([200.], dtype=float64), Array([600.], dtype=float64)],\n",
              " ('out1', 'in1'): [Array([200.], dtype=float64), Array([600.], dtype=float64)],\n",
              " ('out1', 'out1'): [Array([0.], dtype=float64)]}"
            ]
          },
          "execution_count": 5,
          "metadata": {},
          "output_type": "execute_result"
        }
      ],
      "source": [
        "mzi()"
      ]
    }
  ],
  "metadata": {
    "kernelspec": {
      "display_name": "Python 3 (ipykernel)",
      "language": "python",
      "name": "python3"
    },
    "language_info": {
      "codemirror_mode": {
        "name": "ipython",
        "version": 3
      },
      "file_extension": ".py",
      "mimetype": "text/x-python",
      "name": "python",
      "nbconvert_exporter": "python",
      "pygments_lexer": "ipython3",
      "version": "3.10.14"
    },
    "papermill": {
      "default_parameters": {},
      "duration": 2.544732,
      "end_time": "2024-08-12T15:35:34.071078",
      "environment_variables": {},
      "exception": null,
      "input_path": "./examples/06_additive_backend.ipynb",
      "output_path": "./examples/06_additive_backend.ipynb",
      "parameters": {},
      "start_time": "2024-08-12T15:35:31.526346",
      "version": "2.6.0"
    }
  },
  "nbformat": 4,
  "nbformat_minor": 5
}