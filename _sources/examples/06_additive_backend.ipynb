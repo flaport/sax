{
  "cells": [
    {
      "cell_type": "markdown",
      "id": "6f097557",
      "metadata": {
        "papermill": {
          "duration": 0.00184,
          "end_time": "2024-08-04T14:35:01.202265",
          "exception": false,
          "start_time": "2024-08-04T14:35:01.200425",
          "status": "completed"
        },
        "tags": []
      },
      "source": [
        "# Additive Backend"
      ]
    },
    {
      "cell_type": "markdown",
      "id": "56868383",
      "metadata": {
        "papermill": {
          "duration": 0.001306,
          "end_time": "2024-08-04T14:35:01.205006",
          "exception": false,
          "start_time": "2024-08-04T14:35:01.203700",
          "status": "completed"
        },
        "tags": []
      },
      "source": [
        "> The additive backend can be used to obtain pathlengths and group delays."
      ]
    },
    {
      "cell_type": "code",
      "execution_count": 1,
      "id": "79c98bc0",
      "metadata": {
        "execution": {
          "iopub.execute_input": "2024-08-04T14:35:01.208481Z",
          "iopub.status.busy": "2024-08-04T14:35:01.208237Z",
          "iopub.status.idle": "2024-08-04T14:35:02.201647Z",
          "shell.execute_reply": "2024-08-04T14:35:02.200996Z"
        },
        "papermill": {
          "duration": 0.997094,
          "end_time": "2024-08-04T14:35:02.203236",
          "exception": false,
          "start_time": "2024-08-04T14:35:01.206142",
          "status": "completed"
        },
        "tags": []
      },
      "outputs": [],
      "source": [
        "from functools import partial\n",
        "\n",
        "import jax\n",
        "import jax.example_libraries.optimizers as opt\n",
        "import jax.numpy as jnp\n",
        "import matplotlib.pyplot as plt  # plotting\n",
        "import sax"
      ]
    },
    {
      "cell_type": "markdown",
      "id": "6a42b9d9",
      "metadata": {
        "papermill": {
          "duration": 0.00126,
          "end_time": "2024-08-04T14:35:02.205991",
          "exception": false,
          "start_time": "2024-08-04T14:35:02.204731",
          "status": "completed"
        },
        "tags": []
      },
      "source": [
        "## Parametrized Models"
      ]
    },
    {
      "cell_type": "code",
      "execution_count": 2,
      "id": "79e7e40e",
      "metadata": {
        "execution": {
          "iopub.execute_input": "2024-08-04T14:35:02.209657Z",
          "iopub.status.busy": "2024-08-04T14:35:02.209027Z",
          "iopub.status.idle": "2024-08-04T14:35:02.212613Z",
          "shell.execute_reply": "2024-08-04T14:35:02.212051Z"
        },
        "papermill": {
          "duration": 0.006536,
          "end_time": "2024-08-04T14:35:02.213692",
          "exception": false,
          "start_time": "2024-08-04T14:35:02.207156",
          "status": "completed"
        },
        "tags": []
      },
      "outputs": [],
      "source": [
        "def coupler(length=50.0) -> sax.SDict:\n",
        "    sdict = {\n",
        "        (\"in0\", \"out0\"): length,\n",
        "        (\"in0\", \"out1\"): length,\n",
        "        (\"in1\", \"out0\"): length,\n",
        "        (\"in1\", \"out1\"): length,\n",
        "    }\n",
        "    return sax.reciprocal(sdict)"
      ]
    },
    {
      "cell_type": "code",
      "execution_count": 3,
      "id": "3248838c",
      "metadata": {
        "execution": {
          "iopub.execute_input": "2024-08-04T14:35:02.217133Z",
          "iopub.status.busy": "2024-08-04T14:35:02.216778Z",
          "iopub.status.idle": "2024-08-04T14:35:02.219560Z",
          "shell.execute_reply": "2024-08-04T14:35:02.219007Z"
        },
        "papermill": {
          "duration": 0.005669,
          "end_time": "2024-08-04T14:35:02.220652",
          "exception": false,
          "start_time": "2024-08-04T14:35:02.214983",
          "status": "completed"
        },
        "tags": []
      },
      "outputs": [],
      "source": [
        "def waveguide(length=100.0) -> sax.SDict:\n",
        "    sdict = {\n",
        "        (\"in0\", \"out0\"): length,\n",
        "    }\n",
        "    return sax.reciprocal(sdict)"
      ]
    },
    {
      "cell_type": "markdown",
      "id": "d650fb8d",
      "metadata": {
        "papermill": {
          "duration": 0.001196,
          "end_time": "2024-08-04T14:35:02.223072",
          "exception": false,
          "start_time": "2024-08-04T14:35:02.221876",
          "status": "completed"
        },
        "tags": []
      },
      "source": [
        "## Circuit with additive backend"
      ]
    },
    {
      "cell_type": "code",
      "execution_count": 4,
      "id": "56e035d0",
      "metadata": {
        "execution": {
          "iopub.execute_input": "2024-08-04T14:35:02.226440Z",
          "iopub.status.busy": "2024-08-04T14:35:02.226082Z",
          "iopub.status.idle": "2024-08-04T14:35:02.262943Z",
          "shell.execute_reply": "2024-08-04T14:35:02.262306Z"
        },
        "papermill": {
          "duration": 0.040089,
          "end_time": "2024-08-04T14:35:02.264436",
          "exception": false,
          "start_time": "2024-08-04T14:35:02.224347",
          "status": "completed"
        },
        "tags": []
      },
      "outputs": [],
      "source": [
        "mzi, _ = sax.circuit(\n",
        "    netlist={\n",
        "        \"instances\": {\n",
        "            \"lft\": coupler,\n",
        "            \"top\": partial(waveguide, length=500),\n",
        "            \"btm\": partial(waveguide, length=100),\n",
        "            \"rgt\": coupler,\n",
        "        },\n",
        "        \"connections\": {\n",
        "            \"lft,out0\": \"btm,in0\",\n",
        "            \"btm,out0\": \"rgt,in0\",\n",
        "            \"lft,out1\": \"top,in0\",\n",
        "            \"top,out0\": \"rgt,in1\",\n",
        "        },\n",
        "        \"ports\": {\n",
        "            \"in0\": \"lft,in0\",\n",
        "            \"in1\": \"lft,in1\",\n",
        "            \"out0\": \"rgt,out0\",\n",
        "            \"out1\": \"rgt,out1\",\n",
        "        },\n",
        "    },\n",
        "    backend=\"additive\",\n",
        ")"
      ]
    },
    {
      "cell_type": "code",
      "execution_count": 5,
      "id": "c1f245fd",
      "metadata": {
        "execution": {
          "iopub.execute_input": "2024-08-04T14:35:02.268386Z",
          "iopub.status.busy": "2024-08-04T14:35:02.268007Z",
          "iopub.status.idle": "2024-08-04T14:35:02.369247Z",
          "shell.execute_reply": "2024-08-04T14:35:02.368568Z"
        },
        "papermill": {
          "duration": 0.104589,
          "end_time": "2024-08-04T14:35:02.370512",
          "exception": false,
          "start_time": "2024-08-04T14:35:02.265923",
          "status": "completed"
        },
        "tags": []
      },
      "outputs": [
        {
          "data": {
            "text/plain": [
              "{('in0', 'in0'): [Array([0.], dtype=float64)],\n",
              " ('in0', 'out0'): [Array([200.], dtype=float64), Array([600.], dtype=float64)],\n",
              " ('in0', 'out1'): [Array([200.], dtype=float64), Array([600.], dtype=float64)],\n",
              " ('in1', 'in1'): [Array([0.], dtype=float64)],\n",
              " ('in1', 'out0'): [Array([200.], dtype=float64), Array([600.], dtype=float64)],\n",
              " ('in1', 'out1'): [Array([200.], dtype=float64), Array([600.], dtype=float64)],\n",
              " ('out0', 'in0'): [Array([200.], dtype=float64), Array([600.], dtype=float64)],\n",
              " ('out0', 'in1'): [Array([200.], dtype=float64), Array([600.], dtype=float64)],\n",
              " ('out0', 'out0'): [Array([0.], dtype=float64)],\n",
              " ('out1', 'in0'): [Array([200.], dtype=float64), Array([600.], dtype=float64)],\n",
              " ('out1', 'in1'): [Array([200.], dtype=float64), Array([600.], dtype=float64)],\n",
              " ('out1', 'out1'): [Array([0.], dtype=float64)]}"
            ]
          },
          "execution_count": 5,
          "metadata": {},
          "output_type": "execute_result"
        }
      ],
      "source": [
        "mzi()"
      ]
    }
  ],
  "metadata": {
    "kernelspec": {
      "display_name": "Python 3 (ipykernel)",
      "language": "python",
      "name": "python3"
    },
    "language_info": {
      "codemirror_mode": {
        "name": "ipython",
        "version": 3
      },
      "file_extension": ".py",
      "mimetype": "text/x-python",
      "name": "python",
      "nbconvert_exporter": "python",
      "pygments_lexer": "ipython3",
      "version": "3.10.14"
    },
    "papermill": {
      "default_parameters": {},
      "duration": 2.550443,
      "end_time": "2024-08-04T14:35:02.788454",
      "environment_variables": {},
      "exception": null,
      "input_path": "./examples/06_additive_backend.ipynb",
      "output_path": "./examples/06_additive_backend.ipynb",
      "parameters": {},
      "start_time": "2024-08-04T14:35:00.238011",
      "version": "2.6.0"
    }
  },
  "nbformat": 4,
  "nbformat_minor": 5
}