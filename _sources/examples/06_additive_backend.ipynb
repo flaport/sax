{
  "cells": [
    {
      "cell_type": "markdown",
      "id": "0",
      "metadata": {
        "papermill": {
          "duration": 0.002326,
          "end_time": "2025-02-13T09:44:37.657095",
          "exception": false,
          "start_time": "2025-02-13T09:44:37.654769",
          "status": "completed"
        },
        "tags": []
      },
      "source": [
        "# Additive Backend"
      ]
    },
    {
      "cell_type": "markdown",
      "id": "1",
      "metadata": {
        "papermill": {
          "duration": 0.001784,
          "end_time": "2025-02-13T09:44:37.661147",
          "exception": false,
          "start_time": "2025-02-13T09:44:37.659363",
          "status": "completed"
        },
        "tags": []
      },
      "source": [
        "> The additive backend can be used to obtain pathlengths and group delays."
      ]
    },
    {
      "cell_type": "code",
      "execution_count": 1,
      "id": "2",
      "metadata": {
        "execution": {
          "iopub.execute_input": "2025-02-13T09:44:37.666938Z",
          "iopub.status.busy": "2025-02-13T09:44:37.666595Z",
          "iopub.status.idle": "2025-02-13T09:44:39.138727Z",
          "shell.execute_reply": "2025-02-13T09:44:39.137991Z"
        },
        "papermill": {
          "duration": 1.477013,
          "end_time": "2025-02-13T09:44:39.140176",
          "exception": false,
          "start_time": "2025-02-13T09:44:37.663163",
          "status": "completed"
        },
        "tags": []
      },
      "outputs": [],
      "source": [
        "from functools import partial\n",
        "\n",
        "import jax\n",
        "import jax.example_libraries.optimizers as opt\n",
        "import jax.numpy as jnp\n",
        "import matplotlib.pyplot as plt  # plotting\n",
        "import sax"
      ]
    },
    {
      "cell_type": "markdown",
      "id": "3",
      "metadata": {
        "papermill": {
          "duration": 0.001922,
          "end_time": "2025-02-13T09:44:39.146569",
          "exception": false,
          "start_time": "2025-02-13T09:44:39.144647",
          "status": "completed"
        },
        "tags": []
      },
      "source": [
        "## Parametrized Models"
      ]
    },
    {
      "cell_type": "code",
      "execution_count": 2,
      "id": "4",
      "metadata": {
        "execution": {
          "iopub.execute_input": "2025-02-13T09:44:39.151727Z",
          "iopub.status.busy": "2025-02-13T09:44:39.151294Z",
          "iopub.status.idle": "2025-02-13T09:44:39.156352Z",
          "shell.execute_reply": "2025-02-13T09:44:39.155767Z"
        },
        "papermill": {
          "duration": 0.008939,
          "end_time": "2025-02-13T09:44:39.157496",
          "exception": false,
          "start_time": "2025-02-13T09:44:39.148557",
          "status": "completed"
        },
        "tags": []
      },
      "outputs": [],
      "source": [
        "def coupler(length=50.0) -> sax.SDict:\n",
        "    sdict = {\n",
        "        (\"in0\", \"out0\"): length,\n",
        "        (\"in0\", \"out1\"): length,\n",
        "        (\"in1\", \"out0\"): length,\n",
        "        (\"in1\", \"out1\"): length,\n",
        "    }\n",
        "    return sax.reciprocal(sdict)"
      ]
    },
    {
      "cell_type": "code",
      "execution_count": 3,
      "id": "5",
      "metadata": {
        "execution": {
          "iopub.execute_input": "2025-02-13T09:44:39.164134Z",
          "iopub.status.busy": "2025-02-13T09:44:39.163491Z",
          "iopub.status.idle": "2025-02-13T09:44:39.167695Z",
          "shell.execute_reply": "2025-02-13T09:44:39.167138Z"
        },
        "papermill": {
          "duration": 0.009295,
          "end_time": "2025-02-13T09:44:39.168804",
          "exception": false,
          "start_time": "2025-02-13T09:44:39.159509",
          "status": "completed"
        },
        "tags": []
      },
      "outputs": [],
      "source": [
        "def waveguide(length=100.0) -> sax.SDict:\n",
        "    sdict = {\n",
        "        (\"in0\", \"out0\"): length,\n",
        "    }\n",
        "    return sax.reciprocal(sdict)"
      ]
    },
    {
      "cell_type": "markdown",
      "id": "6",
      "metadata": {
        "papermill": {
          "duration": 0.001908,
          "end_time": "2025-02-13T09:44:39.172773",
          "exception": false,
          "start_time": "2025-02-13T09:44:39.170865",
          "status": "completed"
        },
        "tags": []
      },
      "source": [
        "## Circuit with additive backend"
      ]
    },
    {
      "cell_type": "code",
      "execution_count": 4,
      "id": "7",
      "metadata": {
        "execution": {
          "iopub.execute_input": "2025-02-13T09:44:39.178125Z",
          "iopub.status.busy": "2025-02-13T09:44:39.177653Z",
          "iopub.status.idle": "2025-02-13T09:44:39.244369Z",
          "shell.execute_reply": "2025-02-13T09:44:39.243692Z"
        },
        "papermill": {
          "duration": 0.07101,
          "end_time": "2025-02-13T09:44:39.245851",
          "exception": false,
          "start_time": "2025-02-13T09:44:39.174841",
          "status": "completed"
        },
        "tags": []
      },
      "outputs": [],
      "source": [
        "mzi, _ = sax.circuit(\n",
        "    netlist={\n",
        "        \"instances\": {\n",
        "            \"lft\": coupler,\n",
        "            \"top\": partial(waveguide, length=500),\n",
        "            \"btm\": partial(waveguide, length=100),\n",
        "            \"rgt\": coupler,\n",
        "        },\n",
        "        \"connections\": {\n",
        "            \"lft,out0\": \"btm,in0\",\n",
        "            \"btm,out0\": \"rgt,in0\",\n",
        "            \"lft,out1\": \"top,in0\",\n",
        "            \"top,out0\": \"rgt,in1\",\n",
        "        },\n",
        "        \"ports\": {\n",
        "            \"in0\": \"lft,in0\",\n",
        "            \"in1\": \"lft,in1\",\n",
        "            \"out0\": \"rgt,out0\",\n",
        "            \"out1\": \"rgt,out1\",\n",
        "        },\n",
        "    },\n",
        "    backend=\"additive\",\n",
        ")"
      ]
    },
    {
      "cell_type": "code",
      "execution_count": 5,
      "id": "8",
      "metadata": {
        "execution": {
          "iopub.execute_input": "2025-02-13T09:44:39.252926Z",
          "iopub.status.busy": "2025-02-13T09:44:39.251703Z",
          "iopub.status.idle": "2025-02-13T09:44:39.398920Z",
          "shell.execute_reply": "2025-02-13T09:44:39.398336Z"
        },
        "papermill": {
          "duration": 0.151816,
          "end_time": "2025-02-13T09:44:39.400411",
          "exception": false,
          "start_time": "2025-02-13T09:44:39.248595",
          "status": "completed"
        },
        "tags": []
      },
      "outputs": [
        {
          "data": {
            "text/plain": [
              "{('in0', 'in0'): [Array([0.], dtype=float64)],\n",
              " ('in0', 'out0'): [Array([200.], dtype=float64), Array([600.], dtype=float64)],\n",
              " ('in0', 'out1'): [Array([200.], dtype=float64), Array([600.], dtype=float64)],\n",
              " ('in1', 'in1'): [Array([0.], dtype=float64)],\n",
              " ('in1', 'out0'): [Array([200.], dtype=float64), Array([600.], dtype=float64)],\n",
              " ('in1', 'out1'): [Array([200.], dtype=float64), Array([600.], dtype=float64)],\n",
              " ('out0', 'in0'): [Array([200.], dtype=float64), Array([600.], dtype=float64)],\n",
              " ('out0', 'in1'): [Array([200.], dtype=float64), Array([600.], dtype=float64)],\n",
              " ('out0', 'out0'): [Array([0.], dtype=float64)],\n",
              " ('out1', 'in0'): [Array([200.], dtype=float64), Array([600.], dtype=float64)],\n",
              " ('out1', 'in1'): [Array([200.], dtype=float64), Array([600.], dtype=float64)],\n",
              " ('out1', 'out1'): [Array([0.], dtype=float64)]}"
            ]
          },
          "execution_count": 5,
          "metadata": {},
          "output_type": "execute_result"
        }
      ],
      "source": [
        "mzi()"
      ]
    }
  ],
  "metadata": {
    "kernelspec": {
      "display_name": "Python 3 (ipykernel)",
      "language": "python",
      "name": "python3"
    },
    "language_info": {
      "codemirror_mode": {
        "name": "ipython",
        "version": 3
      },
      "file_extension": ".py",
      "mimetype": "text/x-python",
      "name": "python",
      "nbconvert_exporter": "python",
      "pygments_lexer": "ipython3",
      "version": "3.12.3"
    },
    "papermill": {
      "default_parameters": {},
      "duration": 3.623382,
      "end_time": "2025-02-13T09:44:40.023441",
      "environment_variables": {},
      "exception": null,
      "input_path": "./examples/06_additive_backend.ipynb",
      "output_path": "./examples/06_additive_backend.ipynb",
      "parameters": {},
      "start_time": "2025-02-13T09:44:36.400059",
      "version": "2.6.0"
    }
  },
  "nbformat": 4,
  "nbformat_minor": 5
}