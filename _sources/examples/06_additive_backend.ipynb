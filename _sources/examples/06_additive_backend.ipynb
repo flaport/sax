{
  "cells": [
    {
      "cell_type": "markdown",
      "id": "6f097557",
      "metadata": {
        "papermill": {
          "duration": 0.002282,
          "end_time": "2024-06-05T21:02:32.392790",
          "exception": false,
          "start_time": "2024-06-05T21:02:32.390508",
          "status": "completed"
        },
        "tags": []
      },
      "source": [
        "# Additive Backend"
      ]
    },
    {
      "cell_type": "markdown",
      "id": "56868383",
      "metadata": {
        "papermill": {
          "duration": 0.001276,
          "end_time": "2024-06-05T21:02:32.395463",
          "exception": false,
          "start_time": "2024-06-05T21:02:32.394187",
          "status": "completed"
        },
        "tags": []
      },
      "source": [
        "> The additive backend can be used to obtain pathlengths and group delays."
      ]
    },
    {
      "cell_type": "code",
      "execution_count": 1,
      "id": "79c98bc0",
      "metadata": {
        "execution": {
          "iopub.execute_input": "2024-06-05T21:02:32.399131Z",
          "iopub.status.busy": "2024-06-05T21:02:32.398757Z",
          "iopub.status.idle": "2024-06-05T21:02:33.440697Z",
          "shell.execute_reply": "2024-06-05T21:02:33.440138Z"
        },
        "papermill": {
          "duration": 1.045621,
          "end_time": "2024-06-05T21:02:33.442268",
          "exception": false,
          "start_time": "2024-06-05T21:02:32.396647",
          "status": "completed"
        },
        "tags": []
      },
      "outputs": [],
      "source": [
        "from functools import partial\n",
        "\n",
        "import jax\n",
        "import jax.example_libraries.optimizers as opt\n",
        "import jax.numpy as jnp\n",
        "import matplotlib.pyplot as plt  # plotting\n",
        "import sax"
      ]
    },
    {
      "cell_type": "markdown",
      "id": "6a42b9d9",
      "metadata": {
        "papermill": {
          "duration": 0.001565,
          "end_time": "2024-06-05T21:02:33.445549",
          "exception": false,
          "start_time": "2024-06-05T21:02:33.443984",
          "status": "completed"
        },
        "tags": []
      },
      "source": [
        "## Parametrized Models"
      ]
    },
    {
      "cell_type": "code",
      "execution_count": 2,
      "id": "79e7e40e",
      "metadata": {
        "execution": {
          "iopub.execute_input": "2024-06-05T21:02:33.449652Z",
          "iopub.status.busy": "2024-06-05T21:02:33.449047Z",
          "iopub.status.idle": "2024-06-05T21:02:33.453129Z",
          "shell.execute_reply": "2024-06-05T21:02:33.452536Z"
        },
        "papermill": {
          "duration": 0.007461,
          "end_time": "2024-06-05T21:02:33.454261",
          "exception": false,
          "start_time": "2024-06-05T21:02:33.446800",
          "status": "completed"
        },
        "tags": []
      },
      "outputs": [],
      "source": [
        "def coupler(length=50.0) -> sax.SDict:\n",
        "    sdict = {\n",
        "        (\"in0\", \"out0\"): length,\n",
        "        (\"in0\", \"out1\"): length,\n",
        "        (\"in1\", \"out0\"): length,\n",
        "        (\"in1\", \"out1\"): length,\n",
        "    }\n",
        "    return sax.reciprocal(sdict)"
      ]
    },
    {
      "cell_type": "code",
      "execution_count": 3,
      "id": "3248838c",
      "metadata": {
        "execution": {
          "iopub.execute_input": "2024-06-05T21:02:33.458578Z",
          "iopub.status.busy": "2024-06-05T21:02:33.458004Z",
          "iopub.status.idle": "2024-06-05T21:02:33.461461Z",
          "shell.execute_reply": "2024-06-05T21:02:33.460950Z"
        },
        "papermill": {
          "duration": 0.006932,
          "end_time": "2024-06-05T21:02:33.462626",
          "exception": false,
          "start_time": "2024-06-05T21:02:33.455694",
          "status": "completed"
        },
        "tags": []
      },
      "outputs": [],
      "source": [
        "def waveguide(length=100.0) -> sax.SDict:\n",
        "    sdict = {\n",
        "        (\"in0\", \"out0\"): length,\n",
        "    }\n",
        "    return sax.reciprocal(sdict)"
      ]
    },
    {
      "cell_type": "markdown",
      "id": "d650fb8d",
      "metadata": {
        "papermill": {
          "duration": 0.001216,
          "end_time": "2024-06-05T21:02:33.465292",
          "exception": false,
          "start_time": "2024-06-05T21:02:33.464076",
          "status": "completed"
        },
        "tags": []
      },
      "source": [
        "## Circuit with additive backend"
      ]
    },
    {
      "cell_type": "code",
      "execution_count": 4,
      "id": "56e035d0",
      "metadata": {
        "execution": {
          "iopub.execute_input": "2024-06-05T21:02:33.468939Z",
          "iopub.status.busy": "2024-06-05T21:02:33.468537Z",
          "iopub.status.idle": "2024-06-05T21:02:33.507241Z",
          "shell.execute_reply": "2024-06-05T21:02:33.506693Z"
        },
        "papermill": {
          "duration": 0.042265,
          "end_time": "2024-06-05T21:02:33.508761",
          "exception": false,
          "start_time": "2024-06-05T21:02:33.466496",
          "status": "completed"
        },
        "tags": []
      },
      "outputs": [],
      "source": [
        "mzi, _ = sax.circuit(\n",
        "    netlist={\n",
        "        \"instances\": {\n",
        "            \"lft\": coupler,\n",
        "            \"top\": partial(waveguide, length=500),\n",
        "            \"btm\": partial(waveguide, length=100),\n",
        "            \"rgt\": coupler,\n",
        "        },\n",
        "        \"connections\": {\n",
        "            \"lft,out0\": \"btm,in0\",\n",
        "            \"btm,out0\": \"rgt,in0\",\n",
        "            \"lft,out1\": \"top,in0\",\n",
        "            \"top,out0\": \"rgt,in1\",\n",
        "        },\n",
        "        \"ports\": {\n",
        "            \"in0\": \"lft,in0\",\n",
        "            \"in1\": \"lft,in1\",\n",
        "            \"out0\": \"rgt,out0\",\n",
        "            \"out1\": \"rgt,out1\",\n",
        "        },\n",
        "    },\n",
        "    backend=\"additive\",\n",
        ")"
      ]
    },
    {
      "cell_type": "code",
      "execution_count": 5,
      "id": "c1f245fd",
      "metadata": {
        "execution": {
          "iopub.execute_input": "2024-06-05T21:02:33.512727Z",
          "iopub.status.busy": "2024-06-05T21:02:33.512269Z",
          "iopub.status.idle": "2024-06-05T21:02:33.616047Z",
          "shell.execute_reply": "2024-06-05T21:02:33.615417Z"
        },
        "papermill": {
          "duration": 0.106938,
          "end_time": "2024-06-05T21:02:33.617208",
          "exception": false,
          "start_time": "2024-06-05T21:02:33.510270",
          "status": "completed"
        },
        "tags": []
      },
      "outputs": [
        {
          "data": {
            "text/plain": [
              "{('in0', 'in0'): [Array([0.], dtype=float64)],\n",
              " ('in0', 'out0'): [Array([200.], dtype=float64), Array([600.], dtype=float64)],\n",
              " ('in0', 'out1'): [Array([200.], dtype=float64), Array([600.], dtype=float64)],\n",
              " ('in1', 'in1'): [Array([0.], dtype=float64)],\n",
              " ('in1', 'out0'): [Array([200.], dtype=float64), Array([600.], dtype=float64)],\n",
              " ('in1', 'out1'): [Array([200.], dtype=float64), Array([600.], dtype=float64)],\n",
              " ('out0', 'in0'): [Array([200.], dtype=float64), Array([600.], dtype=float64)],\n",
              " ('out0', 'in1'): [Array([200.], dtype=float64), Array([600.], dtype=float64)],\n",
              " ('out0', 'out0'): [Array([0.], dtype=float64)],\n",
              " ('out1', 'in0'): [Array([200.], dtype=float64), Array([600.], dtype=float64)],\n",
              " ('out1', 'in1'): [Array([200.], dtype=float64), Array([600.], dtype=float64)],\n",
              " ('out1', 'out1'): [Array([0.], dtype=float64)]}"
            ]
          },
          "execution_count": 5,
          "metadata": {},
          "output_type": "execute_result"
        }
      ],
      "source": [
        "mzi()"
      ]
    }
  ],
  "metadata": {
    "kernelspec": {
      "display_name": "Python 3 (ipykernel)",
      "language": "python",
      "name": "python3"
    },
    "language_info": {
      "codemirror_mode": {
        "name": "ipython",
        "version": 3
      },
      "file_extension": ".py",
      "mimetype": "text/x-python",
      "name": "python",
      "nbconvert_exporter": "python",
      "pygments_lexer": "ipython3",
      "version": "3.10.14"
    },
    "papermill": {
      "default_parameters": {},
      "duration": 2.590331,
      "end_time": "2024-06-05T21:02:34.135593",
      "environment_variables": {},
      "exception": null,
      "input_path": "./examples/06_additive_backend.ipynb",
      "output_path": "./examples/06_additive_backend.ipynb",
      "parameters": {},
      "start_time": "2024-06-05T21:02:31.545262",
      "version": "2.4.0"
    }
  },
  "nbformat": 4,
  "nbformat_minor": 5
}