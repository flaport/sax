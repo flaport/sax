{
  "cells": [
    {
      "cell_type": "markdown",
      "id": "0",
      "metadata": {
        "papermill": {
          "duration": 0.002289,
          "end_time": "2025-02-27T06:33:57.198591",
          "exception": false,
          "start_time": "2025-02-27T06:33:57.196302",
          "status": "completed"
        },
        "tags": []
      },
      "source": [
        "# Sparse COO"
      ]
    },
    {
      "cell_type": "markdown",
      "id": "1",
      "metadata": {
        "papermill": {
          "duration": 0.001738,
          "end_time": "2025-02-27T06:33:57.202253",
          "exception": false,
          "start_time": "2025-02-27T06:33:57.200515",
          "status": "completed"
        },
        "tags": []
      },
      "source": [
        "> The most efficient S-representation is the COO representation. It's however also the least user friendly:"
      ]
    },
    {
      "cell_type": "code",
      "execution_count": 1,
      "id": "815fa2f2c89c5796",
      "metadata": {
        "execution": {
          "iopub.execute_input": "2025-02-27T06:33:57.208584Z",
          "iopub.status.busy": "2025-02-27T06:33:57.208118Z",
          "iopub.status.idle": "2025-02-27T06:33:58.553821Z",
          "shell.execute_reply": "2025-02-27T06:33:58.553166Z"
        },
        "papermill": {
          "duration": 1.351435,
          "end_time": "2025-02-27T06:33:58.555327",
          "exception": false,
          "start_time": "2025-02-27T06:33:57.203892",
          "status": "completed"
        },
        "tags": [
          "remove-cell"
        ]
      },
      "outputs": [],
      "source": [
        "import sax\n",
        "import jax.numpy as jnp"
      ]
    },
    {
      "cell_type": "code",
      "execution_count": 2,
      "id": "3",
      "metadata": {
        "execution": {
          "iopub.execute_input": "2025-02-27T06:33:58.560037Z",
          "iopub.status.busy": "2025-02-27T06:33:58.559428Z",
          "iopub.status.idle": "2025-02-27T06:33:58.564777Z",
          "shell.execute_reply": "2025-02-27T06:33:58.564222Z"
        },
        "papermill": {
          "duration": 0.008515,
          "end_time": "2025-02-27T06:33:58.565747",
          "exception": false,
          "start_time": "2025-02-27T06:33:58.557232",
          "status": "completed"
        },
        "tags": []
      },
      "outputs": [],
      "source": [
        "def my_coo(*, wl=1.5):\n",
        "    num_input_ports = 4\n",
        "    num_output_ports = 1\n",
        "    pm = {\n",
        "        **{f\"in{i}\": i for i in range(num_input_ports)},\n",
        "        **{f\"out{i}\": i + num_input_ports for i in range(num_output_ports)},\n",
        "    }\n",
        "    thru = jnp.ones(num_input_ports)\n",
        "    i = jnp.arange(0, num_input_ports, 1)\n",
        "    j = jnp.zeros_like(i) + num_input_ports\n",
        "\n",
        "    # make reciprocal\n",
        "    i, j = jnp.concatenate([i, j]), jnp.concatenate([j, i])\n",
        "    thru = jnp.concatenate([thru, thru], 0)\n",
        "    return (i, j, thru, pm)"
      ]
    },
    {
      "cell_type": "code",
      "execution_count": 3,
      "id": "4",
      "metadata": {
        "execution": {
          "iopub.execute_input": "2025-02-27T06:33:58.569977Z",
          "iopub.status.busy": "2025-02-27T06:33:58.569499Z",
          "iopub.status.idle": "2025-02-27T06:33:59.261129Z",
          "shell.execute_reply": "2025-02-27T06:33:59.260426Z"
        },
        "papermill": {
          "duration": 0.701459,
          "end_time": "2025-02-27T06:33:59.268822",
          "exception": false,
          "start_time": "2025-02-27T06:33:58.567363",
          "status": "completed"
        },
        "tags": []
      },
      "outputs": [],
      "source": [
        "circuit, _ = sax.circuit(\n",
        "    netlist={\n",
        "        \"instances\": {\n",
        "            \"coo\": \"coo\",\n",
        "        },\n",
        "        \"connections\": {},\n",
        "        \"ports\": {\n",
        "            \"in0\": \"coo,in0\",\n",
        "            \"out0\": \"coo,out0\",\n",
        "        },\n",
        "    },\n",
        "    models={\n",
        "        \"coo\": my_coo,\n",
        "    },\n",
        "    backend=\"klu\",\n",
        "    return_type=\"scoo\",\n",
        ")"
      ]
    },
    {
      "cell_type": "code",
      "execution_count": 4,
      "id": "5",
      "metadata": {
        "execution": {
          "iopub.execute_input": "2025-02-27T06:33:59.285852Z",
          "iopub.status.busy": "2025-02-27T06:33:59.285561Z",
          "iopub.status.idle": "2025-02-27T06:33:59.754612Z",
          "shell.execute_reply": "2025-02-27T06:33:59.753991Z"
        },
        "papermill": {
          "duration": 0.484935,
          "end_time": "2025-02-27T06:33:59.755769",
          "exception": false,
          "start_time": "2025-02-27T06:33:59.270834",
          "status": "completed"
        },
        "tags": []
      },
      "outputs": [
        {
          "data": {
            "text/plain": [
              "(Array([0, 0, 1, 1], dtype=int64),\n",
              " Array([0, 1, 0, 1], dtype=int64),\n",
              " Array([0.+0.j, 1.+0.j, 1.+0.j, 0.+0.j], dtype=complex128),\n",
              " {'in0': 0, 'out0': 1})"
            ]
          },
          "execution_count": 4,
          "metadata": {},
          "output_type": "execute_result"
        }
      ],
      "source": [
        "circuit()"
      ]
    },
    {
      "cell_type": "code",
      "execution_count": 5,
      "id": "6",
      "metadata": {
        "execution": {
          "iopub.execute_input": "2025-02-27T06:33:59.760931Z",
          "iopub.status.busy": "2025-02-27T06:33:59.760504Z",
          "iopub.status.idle": "2025-02-27T06:33:59.813219Z",
          "shell.execute_reply": "2025-02-27T06:33:59.812630Z"
        },
        "papermill": {
          "duration": 0.056371,
          "end_time": "2025-02-27T06:33:59.814249",
          "exception": false,
          "start_time": "2025-02-27T06:33:59.757878",
          "status": "completed"
        },
        "tags": []
      },
      "outputs": [
        {
          "data": {
            "text/plain": [
              "{('in0', 'in0'): Array(0.+0.j, dtype=complex128),\n",
              " ('in0', 'out0'): Array(1.+0.j, dtype=complex128),\n",
              " ('out0', 'in0'): Array(1.+0.j, dtype=complex128),\n",
              " ('out0', 'out0'): Array(0.+0.j, dtype=complex128)}"
            ]
          },
          "execution_count": 5,
          "metadata": {},
          "output_type": "execute_result"
        }
      ],
      "source": [
        "sax.sdict(circuit())"
      ]
    }
  ],
  "metadata": {
    "kernelspec": {
      "display_name": "Python 3 (ipykernel)",
      "language": "python",
      "name": "python3"
    },
    "language_info": {
      "codemirror_mode": {
        "name": "ipython",
        "version": 3
      },
      "file_extension": ".py",
      "mimetype": "text/x-python",
      "name": "python",
      "nbconvert_exporter": "python",
      "pygments_lexer": "ipython3",
      "version": "3.12.3"
    },
    "papermill": {
      "default_parameters": {},
      "duration": 4.29172,
      "end_time": "2025-02-27T06:34:00.433506",
      "environment_variables": {},
      "exception": null,
      "input_path": "examples/08_sparse_coo.ipynb",
      "output_path": "examples/08_sparse_coo.ipynb",
      "parameters": {},
      "start_time": "2025-02-27T06:33:56.141786",
      "version": "2.6.0"
    }
  },
  "nbformat": 4,
  "nbformat_minor": 5
}