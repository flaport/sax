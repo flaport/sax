{
  "cells": [
    {
      "cell_type": "markdown",
      "id": "0",
      "metadata": {
        "papermill": {
          "duration": 0.00175,
          "end_time": "2024-11-11T16:34:54.031291",
          "exception": false,
          "start_time": "2024-11-11T16:34:54.029541",
          "status": "completed"
        },
        "tags": []
      },
      "source": [
        "# Sparse COO"
      ]
    },
    {
      "cell_type": "markdown",
      "id": "1",
      "metadata": {
        "papermill": {
          "duration": 0.000992,
          "end_time": "2024-11-11T16:34:54.033438",
          "exception": false,
          "start_time": "2024-11-11T16:34:54.032446",
          "status": "completed"
        },
        "tags": []
      },
      "source": [
        "> The most efficient S-representation is the COO representation. It's however also the least user friendly:"
      ]
    },
    {
      "cell_type": "code",
      "execution_count": 1,
      "id": "1e99938a303afa3b",
      "metadata": {
        "execution": {
          "iopub.execute_input": "2024-11-11T16:34:54.036047Z",
          "iopub.status.busy": "2024-11-11T16:34:54.035711Z",
          "iopub.status.idle": "2024-11-11T16:34:54.612696Z",
          "shell.execute_reply": "2024-11-11T16:34:54.612149Z"
        },
        "papermill": {
          "duration": 0.57955,
          "end_time": "2024-11-11T16:34:54.613886",
          "exception": false,
          "start_time": "2024-11-11T16:34:54.034336",
          "status": "completed"
        },
        "tags": [
          "remove-cell"
        ]
      },
      "outputs": [],
      "source": [
        "import sax\n",
        "import jax.numpy as jnp"
      ]
    },
    {
      "cell_type": "code",
      "execution_count": 2,
      "id": "3",
      "metadata": {
        "execution": {
          "iopub.execute_input": "2024-11-11T16:34:54.617338Z",
          "iopub.status.busy": "2024-11-11T16:34:54.616929Z",
          "iopub.status.idle": "2024-11-11T16:34:54.620824Z",
          "shell.execute_reply": "2024-11-11T16:34:54.620438Z"
        },
        "papermill": {
          "duration": 0.006237,
          "end_time": "2024-11-11T16:34:54.621536",
          "exception": false,
          "start_time": "2024-11-11T16:34:54.615299",
          "status": "completed"
        },
        "tags": []
      },
      "outputs": [],
      "source": [
        "def my_coo(*, wl=1.5):\n",
        "    num_input_ports = 4\n",
        "    num_output_ports = 1\n",
        "    pm = {\n",
        "        **{f\"in{i}\": i for i in range(num_input_ports)},\n",
        "        **{f\"out{i}\": i + num_input_ports for i in range(num_output_ports)},\n",
        "    }\n",
        "    thru = jnp.ones(num_input_ports)\n",
        "    i = jnp.arange(0, num_input_ports, 1)\n",
        "    j = jnp.zeros_like(i) + num_input_ports\n",
        "\n",
        "    # make reciprocal\n",
        "    i, j = jnp.concatenate([i, j]), jnp.concatenate([j, i])\n",
        "    thru = jnp.concatenate([thru, thru], 0)\n",
        "    return (i, j, thru, pm)"
      ]
    },
    {
      "cell_type": "code",
      "execution_count": 3,
      "id": "4",
      "metadata": {
        "execution": {
          "iopub.execute_input": "2024-11-11T16:34:54.624305Z",
          "iopub.status.busy": "2024-11-11T16:34:54.623992Z",
          "iopub.status.idle": "2024-11-11T16:34:55.025417Z",
          "shell.execute_reply": "2024-11-11T16:34:55.024848Z"
        },
        "papermill": {
          "duration": 0.403916,
          "end_time": "2024-11-11T16:34:55.026478",
          "exception": false,
          "start_time": "2024-11-11T16:34:54.622562",
          "status": "completed"
        },
        "tags": []
      },
      "outputs": [],
      "source": [
        "circuit, _ = sax.circuit(\n",
        "    netlist={\n",
        "        \"instances\": {\n",
        "            \"coo\": \"coo\",\n",
        "        },\n",
        "        \"connections\": {},\n",
        "        \"ports\": {\n",
        "            \"in0\": \"coo,in0\",\n",
        "            \"out0\": \"coo,out0\",\n",
        "        },\n",
        "    },\n",
        "    models={\n",
        "        \"coo\": my_coo,\n",
        "    },\n",
        "    backend=\"klu\",\n",
        "    return_type=\"scoo\",\n",
        ")"
      ]
    },
    {
      "cell_type": "code",
      "execution_count": 4,
      "id": "5",
      "metadata": {
        "execution": {
          "iopub.execute_input": "2024-11-11T16:34:55.029720Z",
          "iopub.status.busy": "2024-11-11T16:34:55.029541Z",
          "iopub.status.idle": "2024-11-11T16:34:55.279553Z",
          "shell.execute_reply": "2024-11-11T16:34:55.279036Z"
        },
        "papermill": {
          "duration": 0.252452,
          "end_time": "2024-11-11T16:34:55.280324",
          "exception": false,
          "start_time": "2024-11-11T16:34:55.027872",
          "status": "completed"
        },
        "tags": []
      },
      "outputs": [
        {
          "data": {
            "text/plain": [
              "(Array([0, 0, 1, 1], dtype=int64),\n",
              " Array([0, 1, 0, 1], dtype=int64),\n",
              " Array([0.+0.j, 1.+0.j, 1.+0.j, 0.+0.j], dtype=complex128),\n",
              " {'in0': 0, 'out0': 1})"
            ]
          },
          "execution_count": 4,
          "metadata": {},
          "output_type": "execute_result"
        }
      ],
      "source": [
        "circuit()"
      ]
    },
    {
      "cell_type": "code",
      "execution_count": 5,
      "id": "6",
      "metadata": {
        "execution": {
          "iopub.execute_input": "2024-11-11T16:34:55.283934Z",
          "iopub.status.busy": "2024-11-11T16:34:55.283496Z",
          "iopub.status.idle": "2024-11-11T16:34:55.324519Z",
          "shell.execute_reply": "2024-11-11T16:34:55.324003Z"
        },
        "papermill": {
          "duration": 0.043569,
          "end_time": "2024-11-11T16:34:55.325340",
          "exception": false,
          "start_time": "2024-11-11T16:34:55.281771",
          "status": "completed"
        },
        "tags": []
      },
      "outputs": [
        {
          "data": {
            "text/plain": [
              "{('in0', 'in0'): Array(0.+0.j, dtype=complex128),\n",
              " ('in0', 'out0'): Array(1.+0.j, dtype=complex128),\n",
              " ('out0', 'in0'): Array(1.+0.j, dtype=complex128),\n",
              " ('out0', 'out0'): Array(0.+0.j, dtype=complex128)}"
            ]
          },
          "execution_count": 5,
          "metadata": {},
          "output_type": "execute_result"
        }
      ],
      "source": [
        "sax.sdict(circuit())"
      ]
    }
  ],
  "metadata": {
    "kernelspec": {
      "display_name": "Python 3 (ipykernel)",
      "language": "python",
      "name": "python3"
    },
    "language_info": {
      "codemirror_mode": {
        "name": "ipython",
        "version": 3
      },
      "file_extension": ".py",
      "mimetype": "text/x-python",
      "name": "python",
      "nbconvert_exporter": "python",
      "pygments_lexer": "ipython3",
      "version": "3.11.10"
    },
    "papermill": {
      "default_parameters": {},
      "duration": 2.563657,
      "end_time": "2024-11-11T16:34:55.642996",
      "environment_variables": {},
      "exception": null,
      "input_path": "./examples/08_sparse_coo.ipynb",
      "output_path": "./examples/08_sparse_coo.ipynb",
      "parameters": {},
      "start_time": "2024-11-11T16:34:53.079339",
      "version": "2.6.0"
    }
  },
  "nbformat": 4,
  "nbformat_minor": 5
}