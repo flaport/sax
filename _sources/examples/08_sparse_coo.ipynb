{
  "cells": [
    {
      "cell_type": "markdown",
      "id": "0",
      "metadata": {
        "papermill": {
          "duration": 0.001715,
          "end_time": "2024-11-07T19:37:58.201431",
          "exception": false,
          "start_time": "2024-11-07T19:37:58.199716",
          "status": "completed"
        },
        "tags": []
      },
      "source": [
        "# Sparse COO"
      ]
    },
    {
      "cell_type": "markdown",
      "id": "1",
      "metadata": {
        "papermill": {
          "duration": 0.000989,
          "end_time": "2024-11-07T19:37:58.203772",
          "exception": false,
          "start_time": "2024-11-07T19:37:58.202783",
          "status": "completed"
        },
        "tags": []
      },
      "source": [
        "> The most efficient S-representation is the COO representation. It's however also the least user friendly:"
      ]
    },
    {
      "cell_type": "code",
      "execution_count": 1,
      "id": "7f21060231553b18",
      "metadata": {
        "execution": {
          "iopub.execute_input": "2024-11-07T19:37:58.206855Z",
          "iopub.status.busy": "2024-11-07T19:37:58.206466Z",
          "iopub.status.idle": "2024-11-07T19:37:58.811231Z",
          "shell.execute_reply": "2024-11-07T19:37:58.810668Z"
        },
        "papermill": {
          "duration": 0.607702,
          "end_time": "2024-11-07T19:37:58.812447",
          "exception": false,
          "start_time": "2024-11-07T19:37:58.204745",
          "status": "completed"
        },
        "tags": [
          "remove-cell"
        ]
      },
      "outputs": [],
      "source": [
        "import sax\n",
        "import jax.numpy as jnp"
      ]
    },
    {
      "cell_type": "code",
      "execution_count": 2,
      "id": "3",
      "metadata": {
        "execution": {
          "iopub.execute_input": "2024-11-07T19:37:58.815930Z",
          "iopub.status.busy": "2024-11-07T19:37:58.815469Z",
          "iopub.status.idle": "2024-11-07T19:37:58.819487Z",
          "shell.execute_reply": "2024-11-07T19:37:58.819024Z"
        },
        "papermill": {
          "duration": 0.006559,
          "end_time": "2024-11-07T19:37:58.820326",
          "exception": false,
          "start_time": "2024-11-07T19:37:58.813767",
          "status": "completed"
        },
        "tags": []
      },
      "outputs": [],
      "source": [
        "def my_coo(*, wl=1.5):\n",
        "    num_input_ports = 4\n",
        "    num_output_ports = 1\n",
        "    pm = {\n",
        "        **{f\"in{i}\": i for i in range(num_input_ports)},\n",
        "        **{f\"out{i}\": i + num_input_ports for i in range(num_output_ports)},\n",
        "    }\n",
        "    thru = jnp.ones(num_input_ports)\n",
        "    i = jnp.arange(0, num_input_ports, 1)\n",
        "    j = jnp.zeros_like(i) + num_input_ports\n",
        "\n",
        "    # make reciprocal\n",
        "    i, j = jnp.concatenate([i, j]), jnp.concatenate([j, i])\n",
        "    thru = jnp.concatenate([thru, thru], 0)\n",
        "    return (i, j, thru, pm)"
      ]
    },
    {
      "cell_type": "code",
      "execution_count": 3,
      "id": "4",
      "metadata": {
        "execution": {
          "iopub.execute_input": "2024-11-07T19:37:58.823101Z",
          "iopub.status.busy": "2024-11-07T19:37:58.822761Z",
          "iopub.status.idle": "2024-11-07T19:37:59.283464Z",
          "shell.execute_reply": "2024-11-07T19:37:59.283008Z"
        },
        "papermill": {
          "duration": 0.463221,
          "end_time": "2024-11-07T19:37:59.284542",
          "exception": false,
          "start_time": "2024-11-07T19:37:58.821321",
          "status": "completed"
        },
        "tags": []
      },
      "outputs": [],
      "source": [
        "circuit, _ = sax.circuit(\n",
        "    netlist={\n",
        "        \"instances\": {\n",
        "            \"coo\": \"coo\",\n",
        "        },\n",
        "        \"connections\": {},\n",
        "        \"ports\": {\n",
        "            \"in0\": \"coo,in0\",\n",
        "            \"out0\": \"coo,out0\",\n",
        "        },\n",
        "    },\n",
        "    models={\n",
        "        \"coo\": my_coo,\n",
        "    },\n",
        "    backend=\"klu\",\n",
        "    return_type=\"scoo\",\n",
        ")"
      ]
    },
    {
      "cell_type": "code",
      "execution_count": 4,
      "id": "5",
      "metadata": {
        "execution": {
          "iopub.execute_input": "2024-11-07T19:37:59.287912Z",
          "iopub.status.busy": "2024-11-07T19:37:59.287532Z",
          "iopub.status.idle": "2024-11-07T19:37:59.568695Z",
          "shell.execute_reply": "2024-11-07T19:37:59.568175Z"
        },
        "papermill": {
          "duration": 0.283638,
          "end_time": "2024-11-07T19:37:59.569488",
          "exception": false,
          "start_time": "2024-11-07T19:37:59.285850",
          "status": "completed"
        },
        "tags": []
      },
      "outputs": [
        {
          "data": {
            "text/plain": [
              "(Array([0, 0, 1, 1], dtype=int64),\n",
              " Array([0, 1, 0, 1], dtype=int64),\n",
              " Array([0.+0.j, 1.+0.j, 1.+0.j, 0.+0.j], dtype=complex128),\n",
              " {'in0': 0, 'out0': 1})"
            ]
          },
          "execution_count": 4,
          "metadata": {},
          "output_type": "execute_result"
        }
      ],
      "source": [
        "circuit()"
      ]
    },
    {
      "cell_type": "code",
      "execution_count": 5,
      "id": "6",
      "metadata": {
        "execution": {
          "iopub.execute_input": "2024-11-07T19:37:59.573086Z",
          "iopub.status.busy": "2024-11-07T19:37:59.572800Z",
          "iopub.status.idle": "2024-11-07T19:37:59.618342Z",
          "shell.execute_reply": "2024-11-07T19:37:59.617832Z"
        },
        "papermill": {
          "duration": 0.048258,
          "end_time": "2024-11-07T19:37:59.619232",
          "exception": false,
          "start_time": "2024-11-07T19:37:59.570974",
          "status": "completed"
        },
        "tags": []
      },
      "outputs": [
        {
          "data": {
            "text/plain": [
              "{('in0', 'in0'): Array(0.+0.j, dtype=complex128),\n",
              " ('in0', 'out0'): Array(1.+0.j, dtype=complex128),\n",
              " ('out0', 'in0'): Array(1.+0.j, dtype=complex128),\n",
              " ('out0', 'out0'): Array(0.+0.j, dtype=complex128)}"
            ]
          },
          "execution_count": 5,
          "metadata": {},
          "output_type": "execute_result"
        }
      ],
      "source": [
        "sax.sdict(circuit())"
      ]
    }
  ],
  "metadata": {
    "kernelspec": {
      "display_name": "Python 3 (ipykernel)",
      "language": "python",
      "name": "python3"
    },
    "language_info": {
      "codemirror_mode": {
        "name": "ipython",
        "version": 3
      },
      "file_extension": ".py",
      "mimetype": "text/x-python",
      "name": "python",
      "nbconvert_exporter": "python",
      "pygments_lexer": "ipython3",
      "version": "3.11.10"
    },
    "papermill": {
      "default_parameters": {},
      "duration": 2.79755,
      "end_time": "2024-11-07T19:38:00.036553",
      "environment_variables": {},
      "exception": null,
      "input_path": "./examples/08_sparse_coo.ipynb",
      "output_path": "./examples/08_sparse_coo.ipynb",
      "parameters": {},
      "start_time": "2024-11-07T19:37:57.239003",
      "version": "2.6.0"
    }
  },
  "nbformat": 4,
  "nbformat_minor": 5
}