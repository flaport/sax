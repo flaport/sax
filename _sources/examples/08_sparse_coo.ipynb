{
  "cells": [
    {
      "cell_type": "markdown",
      "id": "0",
      "metadata": {
        "papermill": {
          "duration": 0.005081,
          "end_time": "2025-02-27T06:16:46.655456",
          "exception": false,
          "start_time": "2025-02-27T06:16:46.650375",
          "status": "completed"
        },
        "tags": []
      },
      "source": [
        "# Sparse COO"
      ]
    },
    {
      "cell_type": "markdown",
      "id": "1",
      "metadata": {
        "papermill": {
          "duration": 0.003976,
          "end_time": "2025-02-27T06:16:46.661427",
          "exception": false,
          "start_time": "2025-02-27T06:16:46.657451",
          "status": "completed"
        },
        "tags": []
      },
      "source": [
        "> The most efficient S-representation is the COO representation. It's however also the least user friendly:"
      ]
    },
    {
      "cell_type": "code",
      "execution_count": 1,
      "id": "bd8e85fc915cd61a",
      "metadata": {
        "execution": {
          "iopub.execute_input": "2025-02-27T06:16:46.668781Z",
          "iopub.status.busy": "2025-02-27T06:16:46.668542Z",
          "iopub.status.idle": "2025-02-27T06:16:48.022233Z",
          "shell.execute_reply": "2025-02-27T06:16:48.021652Z"
        },
        "papermill": {
          "duration": 1.359483,
          "end_time": "2025-02-27T06:16:48.023544",
          "exception": false,
          "start_time": "2025-02-27T06:16:46.664061",
          "status": "completed"
        },
        "tags": [
          "remove-cell"
        ]
      },
      "outputs": [],
      "source": [
        "import sax\n",
        "import jax.numpy as jnp"
      ]
    },
    {
      "cell_type": "code",
      "execution_count": 2,
      "id": "3",
      "metadata": {
        "execution": {
          "iopub.execute_input": "2025-02-27T06:16:48.028332Z",
          "iopub.status.busy": "2025-02-27T06:16:48.027911Z",
          "iopub.status.idle": "2025-02-27T06:16:48.033413Z",
          "shell.execute_reply": "2025-02-27T06:16:48.032808Z"
        },
        "papermill": {
          "duration": 0.008995,
          "end_time": "2025-02-27T06:16:48.034477",
          "exception": false,
          "start_time": "2025-02-27T06:16:48.025482",
          "status": "completed"
        },
        "tags": []
      },
      "outputs": [],
      "source": [
        "def my_coo(*, wl=1.5):\n",
        "    num_input_ports = 4\n",
        "    num_output_ports = 1\n",
        "    pm = {\n",
        "        **{f\"in{i}\": i for i in range(num_input_ports)},\n",
        "        **{f\"out{i}\": i + num_input_ports for i in range(num_output_ports)},\n",
        "    }\n",
        "    thru = jnp.ones(num_input_ports)\n",
        "    i = jnp.arange(0, num_input_ports, 1)\n",
        "    j = jnp.zeros_like(i) + num_input_ports\n",
        "\n",
        "    # make reciprocal\n",
        "    i, j = jnp.concatenate([i, j]), jnp.concatenate([j, i])\n",
        "    thru = jnp.concatenate([thru, thru], 0)\n",
        "    return (i, j, thru, pm)"
      ]
    },
    {
      "cell_type": "code",
      "execution_count": 3,
      "id": "4",
      "metadata": {
        "execution": {
          "iopub.execute_input": "2025-02-27T06:16:48.039050Z",
          "iopub.status.busy": "2025-02-27T06:16:48.038642Z",
          "iopub.status.idle": "2025-02-27T06:16:48.663333Z",
          "shell.execute_reply": "2025-02-27T06:16:48.662687Z"
        },
        "papermill": {
          "duration": 0.628579,
          "end_time": "2025-02-27T06:16:48.664889",
          "exception": false,
          "start_time": "2025-02-27T06:16:48.036310",
          "status": "completed"
        },
        "tags": []
      },
      "outputs": [],
      "source": [
        "circuit, _ = sax.circuit(\n",
        "    netlist={\n",
        "        \"instances\": {\n",
        "            \"coo\": \"coo\",\n",
        "        },\n",
        "        \"connections\": {},\n",
        "        \"ports\": {\n",
        "            \"in0\": \"coo,in0\",\n",
        "            \"out0\": \"coo,out0\",\n",
        "        },\n",
        "    },\n",
        "    models={\n",
        "        \"coo\": my_coo,\n",
        "    },\n",
        "    backend=\"klu\",\n",
        "    return_type=\"scoo\",\n",
        ")"
      ]
    },
    {
      "cell_type": "code",
      "execution_count": 4,
      "id": "5",
      "metadata": {
        "execution": {
          "iopub.execute_input": "2025-02-27T06:16:48.669925Z",
          "iopub.status.busy": "2025-02-27T06:16:48.669568Z",
          "iopub.status.idle": "2025-02-27T06:16:49.291332Z",
          "shell.execute_reply": "2025-02-27T06:16:49.290700Z"
        },
        "papermill": {
          "duration": 0.625692,
          "end_time": "2025-02-27T06:16:49.292789",
          "exception": false,
          "start_time": "2025-02-27T06:16:48.667097",
          "status": "completed"
        },
        "tags": []
      },
      "outputs": [
        {
          "data": {
            "text/plain": [
              "(Array([0, 0, 1, 1], dtype=int64),\n",
              " Array([0, 1, 0, 1], dtype=int64),\n",
              " Array([0.+0.j, 1.+0.j, 1.+0.j, 0.+0.j], dtype=complex128),\n",
              " {'in0': 0, 'out0': 1})"
            ]
          },
          "execution_count": 4,
          "metadata": {},
          "output_type": "execute_result"
        }
      ],
      "source": [
        "circuit()"
      ]
    },
    {
      "cell_type": "code",
      "execution_count": 5,
      "id": "6",
      "metadata": {
        "execution": {
          "iopub.execute_input": "2025-02-27T06:16:49.298802Z",
          "iopub.status.busy": "2025-02-27T06:16:49.298616Z",
          "iopub.status.idle": "2025-02-27T06:16:49.361682Z",
          "shell.execute_reply": "2025-02-27T06:16:49.360430Z"
        },
        "papermill": {
          "duration": 0.069059,
          "end_time": "2025-02-27T06:16:49.363971",
          "exception": false,
          "start_time": "2025-02-27T06:16:49.294912",
          "status": "completed"
        },
        "tags": []
      },
      "outputs": [
        {
          "data": {
            "text/plain": [
              "{('in0', 'in0'): Array(0.+0.j, dtype=complex128),\n",
              " ('in0', 'out0'): Array(1.+0.j, dtype=complex128),\n",
              " ('out0', 'in0'): Array(1.+0.j, dtype=complex128),\n",
              " ('out0', 'out0'): Array(0.+0.j, dtype=complex128)}"
            ]
          },
          "execution_count": 5,
          "metadata": {},
          "output_type": "execute_result"
        }
      ],
      "source": [
        "sax.sdict(circuit())"
      ]
    }
  ],
  "metadata": {
    "kernelspec": {
      "display_name": "Python 3 (ipykernel)",
      "language": "python",
      "name": "python3"
    },
    "language_info": {
      "codemirror_mode": {
        "name": "ipython",
        "version": 3
      },
      "file_extension": ".py",
      "mimetype": "text/x-python",
      "name": "python",
      "nbconvert_exporter": "python",
      "pygments_lexer": "ipython3",
      "version": "3.12.3"
    },
    "papermill": {
      "default_parameters": {},
      "duration": 4.64568,
      "end_time": "2025-02-27T06:16:49.987954",
      "environment_variables": {},
      "exception": null,
      "input_path": "./examples/08_sparse_coo.ipynb",
      "output_path": "./examples/08_sparse_coo.ipynb",
      "parameters": {},
      "start_time": "2025-02-27T06:16:45.342274",
      "version": "2.6.0"
    }
  },
  "nbformat": 4,
  "nbformat_minor": 5
}