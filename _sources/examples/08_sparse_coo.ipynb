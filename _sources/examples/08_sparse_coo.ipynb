{
  "cells": [
    {
      "cell_type": "markdown",
      "id": "0",
      "metadata": {
        "papermill": {
          "duration": 0.002091,
          "end_time": "2025-02-13T09:48:54.028233",
          "exception": false,
          "start_time": "2025-02-13T09:48:54.026142",
          "status": "completed"
        },
        "tags": []
      },
      "source": [
        "# Sparse COO"
      ]
    },
    {
      "cell_type": "markdown",
      "id": "1",
      "metadata": {
        "papermill": {
          "duration": 0.001572,
          "end_time": "2025-02-13T09:48:54.031703",
          "exception": false,
          "start_time": "2025-02-13T09:48:54.030131",
          "status": "completed"
        },
        "tags": []
      },
      "source": [
        "> The most efficient S-representation is the COO representation. It's however also the least user friendly:"
      ]
    },
    {
      "cell_type": "code",
      "execution_count": 1,
      "id": "4bca87941f225e94",
      "metadata": {
        "execution": {
          "iopub.execute_input": "2025-02-13T09:48:54.036367Z",
          "iopub.status.busy": "2025-02-13T09:48:54.036098Z",
          "iopub.status.idle": "2025-02-13T09:48:54.963410Z",
          "shell.execute_reply": "2025-02-13T09:48:54.962774Z"
        },
        "papermill": {
          "duration": 0.931539,
          "end_time": "2025-02-13T09:48:54.964851",
          "exception": false,
          "start_time": "2025-02-13T09:48:54.033312",
          "status": "completed"
        },
        "tags": [
          "remove-cell"
        ]
      },
      "outputs": [],
      "source": [
        "import sax\n",
        "import jax.numpy as jnp"
      ]
    },
    {
      "cell_type": "code",
      "execution_count": 2,
      "id": "3",
      "metadata": {
        "execution": {
          "iopub.execute_input": "2025-02-13T09:48:54.969392Z",
          "iopub.status.busy": "2025-02-13T09:48:54.968860Z",
          "iopub.status.idle": "2025-02-13T09:48:54.974370Z",
          "shell.execute_reply": "2025-02-13T09:48:54.973800Z"
        },
        "papermill": {
          "duration": 0.008924,
          "end_time": "2025-02-13T09:48:54.975619",
          "exception": false,
          "start_time": "2025-02-13T09:48:54.966695",
          "status": "completed"
        },
        "tags": []
      },
      "outputs": [],
      "source": [
        "def my_coo(*, wl=1.5):\n",
        "    num_input_ports = 4\n",
        "    num_output_ports = 1\n",
        "    pm = {\n",
        "        **{f\"in{i}\": i for i in range(num_input_ports)},\n",
        "        **{f\"out{i}\": i + num_input_ports for i in range(num_output_ports)},\n",
        "    }\n",
        "    thru = jnp.ones(num_input_ports)\n",
        "    i = jnp.arange(0, num_input_ports, 1)\n",
        "    j = jnp.zeros_like(i) + num_input_ports\n",
        "\n",
        "    # make reciprocal\n",
        "    i, j = jnp.concatenate([i, j]), jnp.concatenate([j, i])\n",
        "    thru = jnp.concatenate([thru, thru], 0)\n",
        "    return (i, j, thru, pm)"
      ]
    },
    {
      "cell_type": "code",
      "execution_count": 3,
      "id": "4",
      "metadata": {
        "execution": {
          "iopub.execute_input": "2025-02-13T09:48:54.979992Z",
          "iopub.status.busy": "2025-02-13T09:48:54.979784Z",
          "iopub.status.idle": "2025-02-13T09:48:55.734671Z",
          "shell.execute_reply": "2025-02-13T09:48:55.734068Z"
        },
        "papermill": {
          "duration": 0.759082,
          "end_time": "2025-02-13T09:48:55.736480",
          "exception": false,
          "start_time": "2025-02-13T09:48:54.977398",
          "status": "completed"
        },
        "tags": []
      },
      "outputs": [],
      "source": [
        "circuit, _ = sax.circuit(\n",
        "    netlist={\n",
        "        \"instances\": {\n",
        "            \"coo\": \"coo\",\n",
        "        },\n",
        "        \"connections\": {},\n",
        "        \"ports\": {\n",
        "            \"in0\": \"coo,in0\",\n",
        "            \"out0\": \"coo,out0\",\n",
        "        },\n",
        "    },\n",
        "    models={\n",
        "        \"coo\": my_coo,\n",
        "    },\n",
        "    backend=\"klu\",\n",
        "    return_type=\"scoo\",\n",
        ")"
      ]
    },
    {
      "cell_type": "code",
      "execution_count": 4,
      "id": "5",
      "metadata": {
        "execution": {
          "iopub.execute_input": "2025-02-13T09:48:55.741216Z",
          "iopub.status.busy": "2025-02-13T09:48:55.740977Z",
          "iopub.status.idle": "2025-02-13T09:48:56.174655Z",
          "shell.execute_reply": "2025-02-13T09:48:56.173994Z"
        },
        "papermill": {
          "duration": 0.437332,
          "end_time": "2025-02-13T09:48:56.175813",
          "exception": false,
          "start_time": "2025-02-13T09:48:55.738481",
          "status": "completed"
        },
        "tags": []
      },
      "outputs": [
        {
          "data": {
            "text/plain": [
              "(Array([0, 0, 1, 1], dtype=int64),\n",
              " Array([0, 1, 0, 1], dtype=int64),\n",
              " Array([0.+0.j, 1.+0.j, 1.+0.j, 0.+0.j], dtype=complex128),\n",
              " {'in0': 0, 'out0': 1})"
            ]
          },
          "execution_count": 4,
          "metadata": {},
          "output_type": "execute_result"
        }
      ],
      "source": [
        "circuit()"
      ]
    },
    {
      "cell_type": "code",
      "execution_count": 5,
      "id": "6",
      "metadata": {
        "execution": {
          "iopub.execute_input": "2025-02-13T09:48:56.183166Z",
          "iopub.status.busy": "2025-02-13T09:48:56.182691Z",
          "iopub.status.idle": "2025-02-13T09:48:56.267967Z",
          "shell.execute_reply": "2025-02-13T09:48:56.264355Z"
        },
        "papermill": {
          "duration": 0.090903,
          "end_time": "2025-02-13T09:48:56.269213",
          "exception": false,
          "start_time": "2025-02-13T09:48:56.178310",
          "status": "completed"
        },
        "tags": []
      },
      "outputs": [
        {
          "data": {
            "text/plain": [
              "{('in0', 'in0'): Array(0.+0.j, dtype=complex128),\n",
              " ('in0', 'out0'): Array(1.+0.j, dtype=complex128),\n",
              " ('out0', 'in0'): Array(1.+0.j, dtype=complex128),\n",
              " ('out0', 'out0'): Array(0.+0.j, dtype=complex128)}"
            ]
          },
          "execution_count": 5,
          "metadata": {},
          "output_type": "execute_result"
        }
      ],
      "source": [
        "sax.sdict(circuit())"
      ]
    }
  ],
  "metadata": {
    "kernelspec": {
      "display_name": "Python 3 (ipykernel)",
      "language": "python",
      "name": "python3"
    },
    "language_info": {
      "codemirror_mode": {
        "name": "ipython",
        "version": 3
      },
      "file_extension": ".py",
      "mimetype": "text/x-python",
      "name": "python",
      "nbconvert_exporter": "python",
      "pygments_lexer": "ipython3",
      "version": "3.12.3"
    },
    "papermill": {
      "default_parameters": {},
      "duration": 4.17792,
      "end_time": "2025-02-13T09:48:57.009405",
      "environment_variables": {},
      "exception": null,
      "input_path": "./examples/08_sparse_coo.ipynb",
      "output_path": "./examples/08_sparse_coo.ipynb",
      "parameters": {},
      "start_time": "2025-02-13T09:48:52.831485",
      "version": "2.6.0"
    }
  },
  "nbformat": 4,
  "nbformat_minor": 5
}