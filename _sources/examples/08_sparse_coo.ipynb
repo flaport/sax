{
  "cells": [
    {
      "cell_type": "markdown",
      "id": "2bfd16a0-0ef5-4d82-9beb-9840f691e6d3",
      "metadata": {
        "papermill": {
          "duration": 0.00174,
          "end_time": "2024-06-17T20:11:13.949866",
          "exception": false,
          "start_time": "2024-06-17T20:11:13.948126",
          "status": "completed"
        },
        "tags": []
      },
      "source": [
        "# Sparse COO"
      ]
    },
    {
      "cell_type": "markdown",
      "id": "1527743d-d44d-40d2-af44-388b5861fad9",
      "metadata": {
        "papermill": {
          "duration": 0.001032,
          "end_time": "2024-06-17T20:11:13.952238",
          "exception": false,
          "start_time": "2024-06-17T20:11:13.951206",
          "status": "completed"
        },
        "tags": []
      },
      "source": [
        "> The most efficient S-representation is the COO representation. It's however also the least user friendly:"
      ]
    },
    {
      "cell_type": "code",
      "execution_count": 1,
      "id": "3971648c8d629742",
      "metadata": {
        "execution": {
          "iopub.execute_input": "2024-06-17T20:11:13.955802Z",
          "iopub.status.busy": "2024-06-17T20:11:13.955186Z",
          "iopub.status.idle": "2024-06-17T20:11:14.603702Z",
          "shell.execute_reply": "2024-06-17T20:11:14.603135Z"
        },
        "papermill": {
          "duration": 0.651885,
          "end_time": "2024-06-17T20:11:14.605184",
          "exception": false,
          "start_time": "2024-06-17T20:11:13.953299",
          "status": "completed"
        },
        "tags": [
          "remove-cell"
        ]
      },
      "outputs": [],
      "source": [
        "import sax\n",
        "import jax.numpy as jnp"
      ]
    },
    {
      "cell_type": "code",
      "execution_count": 2,
      "id": "441ffa75-e5f0-408b-8eee-9d4304ac4c21",
      "metadata": {
        "execution": {
          "iopub.execute_input": "2024-06-17T20:11:14.609028Z",
          "iopub.status.busy": "2024-06-17T20:11:14.608439Z",
          "iopub.status.idle": "2024-06-17T20:11:14.612672Z",
          "shell.execute_reply": "2024-06-17T20:11:14.612202Z"
        },
        "papermill": {
          "duration": 0.00732,
          "end_time": "2024-06-17T20:11:14.613827",
          "exception": false,
          "start_time": "2024-06-17T20:11:14.606507",
          "status": "completed"
        },
        "tags": []
      },
      "outputs": [],
      "source": [
        "def my_coo(*, wl=1.5):\n",
        "    num_input_ports = 4\n",
        "    num_output_ports = 1\n",
        "    pm = {\n",
        "        **{f\"in{i}\": i for i in range(num_input_ports)},\n",
        "        **{f\"out{i}\": i + num_input_ports for i in range(num_output_ports)},\n",
        "    }\n",
        "    thru = jnp.ones(num_input_ports)\n",
        "    i = jnp.arange(0, num_input_ports, 1)\n",
        "    j = jnp.zeros_like(i) + num_input_ports\n",
        "\n",
        "    # make reciprocal\n",
        "    i, j = jnp.concatenate([i, j]), jnp.concatenate([j, i])\n",
        "    thru = jnp.concatenate([thru, thru], 0)\n",
        "    return (i, j, thru, pm)"
      ]
    },
    {
      "cell_type": "code",
      "execution_count": 3,
      "id": "db714fb4-a262-45db-9fed-7f1b4a406c7b",
      "metadata": {
        "execution": {
          "iopub.execute_input": "2024-06-17T20:11:14.616948Z",
          "iopub.status.busy": "2024-06-17T20:11:14.616586Z",
          "iopub.status.idle": "2024-06-17T20:11:15.115625Z",
          "shell.execute_reply": "2024-06-17T20:11:15.115053Z"
        },
        "papermill": {
          "duration": 0.502164,
          "end_time": "2024-06-17T20:11:15.117057",
          "exception": false,
          "start_time": "2024-06-17T20:11:14.614893",
          "status": "completed"
        },
        "tags": []
      },
      "outputs": [],
      "source": [
        "circuit, _ = sax.circuit(\n",
        "    netlist={\n",
        "        \"instances\": {\n",
        "            \"coo\": \"coo\",\n",
        "        },\n",
        "        \"connections\": {},\n",
        "        \"ports\": {\n",
        "            \"in0\": \"coo,in0\",\n",
        "            \"out0\": \"coo,out0\",\n",
        "        },\n",
        "    },\n",
        "    models={\n",
        "        \"coo\": my_coo,\n",
        "    },\n",
        "    backend=\"klu\",\n",
        "    return_type=\"scoo\",\n",
        ")"
      ]
    },
    {
      "cell_type": "code",
      "execution_count": 4,
      "id": "69cfc75e-623c-4171-a296-ea10afbc6afb",
      "metadata": {
        "execution": {
          "iopub.execute_input": "2024-06-17T20:11:15.120750Z",
          "iopub.status.busy": "2024-06-17T20:11:15.120407Z",
          "iopub.status.idle": "2024-06-17T20:11:15.418063Z",
          "shell.execute_reply": "2024-06-17T20:11:15.417465Z"
        },
        "papermill": {
          "duration": 0.300934,
          "end_time": "2024-06-17T20:11:15.419356",
          "exception": false,
          "start_time": "2024-06-17T20:11:15.118422",
          "status": "completed"
        },
        "tags": []
      },
      "outputs": [
        {
          "data": {
            "text/plain": [
              "(Array([0, 0, 1, 1], dtype=int64),\n",
              " Array([0, 1, 0, 1], dtype=int64),\n",
              " Array([0.+0.j, 1.+0.j, 1.+0.j, 0.+0.j], dtype=complex128),\n",
              " {'in0': 0, 'out0': 1})"
            ]
          },
          "execution_count": 4,
          "metadata": {},
          "output_type": "execute_result"
        }
      ],
      "source": [
        "circuit()"
      ]
    },
    {
      "cell_type": "code",
      "execution_count": 5,
      "id": "ef096d6a-6851-4089-b327-7063378a3ed5",
      "metadata": {
        "execution": {
          "iopub.execute_input": "2024-06-17T20:11:15.423599Z",
          "iopub.status.busy": "2024-06-17T20:11:15.423173Z",
          "iopub.status.idle": "2024-06-17T20:11:15.469207Z",
          "shell.execute_reply": "2024-06-17T20:11:15.468620Z"
        },
        "papermill": {
          "duration": 0.049441,
          "end_time": "2024-06-17T20:11:15.470433",
          "exception": false,
          "start_time": "2024-06-17T20:11:15.420992",
          "status": "completed"
        },
        "tags": []
      },
      "outputs": [
        {
          "data": {
            "text/plain": [
              "{('in0', 'in0'): Array(0.+0.j, dtype=complex128),\n",
              " ('in0', 'out0'): Array(1.+0.j, dtype=complex128),\n",
              " ('out0', 'in0'): Array(1.+0.j, dtype=complex128),\n",
              " ('out0', 'out0'): Array(0.+0.j, dtype=complex128)}"
            ]
          },
          "execution_count": 5,
          "metadata": {},
          "output_type": "execute_result"
        }
      ],
      "source": [
        "sax.sdict(circuit())"
      ]
    }
  ],
  "metadata": {
    "kernelspec": {
      "display_name": "Python 3 (ipykernel)",
      "language": "python",
      "name": "python3"
    },
    "language_info": {
      "codemirror_mode": {
        "name": "ipython",
        "version": 3
      },
      "file_extension": ".py",
      "mimetype": "text/x-python",
      "name": "python",
      "nbconvert_exporter": "python",
      "pygments_lexer": "ipython3",
      "version": "3.10.14"
    },
    "papermill": {
      "default_parameters": {},
      "duration": 2.900399,
      "end_time": "2024-06-17T20:11:15.888558",
      "environment_variables": {},
      "exception": null,
      "input_path": "./examples/08_sparse_coo.ipynb",
      "output_path": "./examples/08_sparse_coo.ipynb",
      "parameters": {},
      "start_time": "2024-06-17T20:11:12.988159",
      "version": "2.6.0"
    }
  },
  "nbformat": 4,
  "nbformat_minor": 5
}