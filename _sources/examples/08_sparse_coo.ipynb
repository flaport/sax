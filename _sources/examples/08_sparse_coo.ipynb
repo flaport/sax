{
  "cells": [
    {
      "cell_type": "markdown",
      "id": "0",
      "metadata": {
        "papermill": {
          "duration": 0.001595,
          "end_time": "2024-11-12T12:03:53.183887",
          "exception": false,
          "start_time": "2024-11-12T12:03:53.182292",
          "status": "completed"
        },
        "tags": []
      },
      "source": [
        "# Sparse COO"
      ]
    },
    {
      "cell_type": "markdown",
      "id": "1",
      "metadata": {
        "papermill": {
          "duration": 0.001004,
          "end_time": "2024-11-12T12:03:53.186074",
          "exception": false,
          "start_time": "2024-11-12T12:03:53.185070",
          "status": "completed"
        },
        "tags": []
      },
      "source": [
        "> The most efficient S-representation is the COO representation. It's however also the least user friendly:"
      ]
    },
    {
      "cell_type": "code",
      "execution_count": 1,
      "id": "c176f4bc3d02af2b",
      "metadata": {
        "execution": {
          "iopub.execute_input": "2024-11-12T12:03:53.189224Z",
          "iopub.status.busy": "2024-11-12T12:03:53.188770Z",
          "iopub.status.idle": "2024-11-12T12:03:53.794239Z",
          "shell.execute_reply": "2024-11-12T12:03:53.793686Z"
        },
        "papermill": {
          "duration": 0.60834,
          "end_time": "2024-11-12T12:03:53.795353",
          "exception": false,
          "start_time": "2024-11-12T12:03:53.187013",
          "status": "completed"
        },
        "tags": [
          "remove-cell"
        ]
      },
      "outputs": [],
      "source": [
        "import sax\n",
        "import jax.numpy as jnp"
      ]
    },
    {
      "cell_type": "code",
      "execution_count": 2,
      "id": "3",
      "metadata": {
        "execution": {
          "iopub.execute_input": "2024-11-12T12:03:53.798893Z",
          "iopub.status.busy": "2024-11-12T12:03:53.798434Z",
          "iopub.status.idle": "2024-11-12T12:03:53.802578Z",
          "shell.execute_reply": "2024-11-12T12:03:53.802147Z"
        },
        "papermill": {
          "duration": 0.006744,
          "end_time": "2024-11-12T12:03:53.803381",
          "exception": false,
          "start_time": "2024-11-12T12:03:53.796637",
          "status": "completed"
        },
        "tags": []
      },
      "outputs": [],
      "source": [
        "def my_coo(*, wl=1.5):\n",
        "    num_input_ports = 4\n",
        "    num_output_ports = 1\n",
        "    pm = {\n",
        "        **{f\"in{i}\": i for i in range(num_input_ports)},\n",
        "        **{f\"out{i}\": i + num_input_ports for i in range(num_output_ports)},\n",
        "    }\n",
        "    thru = jnp.ones(num_input_ports)\n",
        "    i = jnp.arange(0, num_input_ports, 1)\n",
        "    j = jnp.zeros_like(i) + num_input_ports\n",
        "\n",
        "    # make reciprocal\n",
        "    i, j = jnp.concatenate([i, j]), jnp.concatenate([j, i])\n",
        "    thru = jnp.concatenate([thru, thru], 0)\n",
        "    return (i, j, thru, pm)"
      ]
    },
    {
      "cell_type": "code",
      "execution_count": 3,
      "id": "4",
      "metadata": {
        "execution": {
          "iopub.execute_input": "2024-11-12T12:03:53.806441Z",
          "iopub.status.busy": "2024-11-12T12:03:53.806101Z",
          "iopub.status.idle": "2024-11-12T12:03:54.266743Z",
          "shell.execute_reply": "2024-11-12T12:03:54.266142Z"
        },
        "papermill": {
          "duration": 0.463221,
          "end_time": "2024-11-12T12:03:54.267782",
          "exception": false,
          "start_time": "2024-11-12T12:03:53.804561",
          "status": "completed"
        },
        "tags": []
      },
      "outputs": [],
      "source": [
        "circuit, _ = sax.circuit(\n",
        "    netlist={\n",
        "        \"instances\": {\n",
        "            \"coo\": \"coo\",\n",
        "        },\n",
        "        \"connections\": {},\n",
        "        \"ports\": {\n",
        "            \"in0\": \"coo,in0\",\n",
        "            \"out0\": \"coo,out0\",\n",
        "        },\n",
        "    },\n",
        "    models={\n",
        "        \"coo\": my_coo,\n",
        "    },\n",
        "    backend=\"klu\",\n",
        "    return_type=\"scoo\",\n",
        ")"
      ]
    },
    {
      "cell_type": "code",
      "execution_count": 4,
      "id": "5",
      "metadata": {
        "execution": {
          "iopub.execute_input": "2024-11-12T12:03:54.271539Z",
          "iopub.status.busy": "2024-11-12T12:03:54.271121Z",
          "iopub.status.idle": "2024-11-12T12:03:54.557969Z",
          "shell.execute_reply": "2024-11-12T12:03:54.557503Z"
        },
        "papermill": {
          "duration": 0.289535,
          "end_time": "2024-11-12T12:03:54.558808",
          "exception": false,
          "start_time": "2024-11-12T12:03:54.269273",
          "status": "completed"
        },
        "tags": []
      },
      "outputs": [
        {
          "data": {
            "text/plain": [
              "(Array([0, 0, 1, 1], dtype=int64),\n",
              " Array([0, 1, 0, 1], dtype=int64),\n",
              " Array([0.+0.j, 1.+0.j, 1.+0.j, 0.+0.j], dtype=complex128),\n",
              " {'in0': 0, 'out0': 1})"
            ]
          },
          "execution_count": 4,
          "metadata": {},
          "output_type": "execute_result"
        }
      ],
      "source": [
        "circuit()"
      ]
    },
    {
      "cell_type": "code",
      "execution_count": 5,
      "id": "6",
      "metadata": {
        "execution": {
          "iopub.execute_input": "2024-11-12T12:03:54.562599Z",
          "iopub.status.busy": "2024-11-12T12:03:54.562203Z",
          "iopub.status.idle": "2024-11-12T12:03:54.612655Z",
          "shell.execute_reply": "2024-11-12T12:03:54.612177Z"
        },
        "papermill": {
          "duration": 0.053213,
          "end_time": "2024-11-12T12:03:54.613475",
          "exception": false,
          "start_time": "2024-11-12T12:03:54.560262",
          "status": "completed"
        },
        "tags": []
      },
      "outputs": [
        {
          "data": {
            "text/plain": [
              "{('in0', 'in0'): Array(0.+0.j, dtype=complex128),\n",
              " ('in0', 'out0'): Array(1.+0.j, dtype=complex128),\n",
              " ('out0', 'in0'): Array(1.+0.j, dtype=complex128),\n",
              " ('out0', 'out0'): Array(0.+0.j, dtype=complex128)}"
            ]
          },
          "execution_count": 5,
          "metadata": {},
          "output_type": "execute_result"
        }
      ],
      "source": [
        "sax.sdict(circuit())"
      ]
    }
  ],
  "metadata": {
    "kernelspec": {
      "display_name": "Python 3 (ipykernel)",
      "language": "python",
      "name": "python3"
    },
    "language_info": {
      "codemirror_mode": {
        "name": "ipython",
        "version": 3
      },
      "file_extension": ".py",
      "mimetype": "text/x-python",
      "name": "python",
      "nbconvert_exporter": "python",
      "pygments_lexer": "ipython3",
      "version": "3.11.10"
    },
    "papermill": {
      "default_parameters": {},
      "duration": 2.814858,
      "end_time": "2024-11-12T12:03:55.030675",
      "environment_variables": {},
      "exception": null,
      "input_path": "./examples/08_sparse_coo.ipynb",
      "output_path": "./examples/08_sparse_coo.ipynb",
      "parameters": {},
      "start_time": "2024-11-12T12:03:52.215817",
      "version": "2.6.0"
    }
  },
  "nbformat": 4,
  "nbformat_minor": 5
}