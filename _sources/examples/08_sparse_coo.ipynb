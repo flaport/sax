{
  "cells": [
    {
      "cell_type": "markdown",
      "id": "2bfd16a0-0ef5-4d82-9beb-9840f691e6d3",
      "metadata": {
        "papermill": {
          "duration": 0.001614,
          "end_time": "2024-06-17T21:29:33.379118",
          "exception": false,
          "start_time": "2024-06-17T21:29:33.377504",
          "status": "completed"
        },
        "tags": []
      },
      "source": [
        "# Sparse COO"
      ]
    },
    {
      "cell_type": "markdown",
      "id": "1527743d-d44d-40d2-af44-388b5861fad9",
      "metadata": {
        "papermill": {
          "duration": 0.001121,
          "end_time": "2024-06-17T21:29:33.381510",
          "exception": false,
          "start_time": "2024-06-17T21:29:33.380389",
          "status": "completed"
        },
        "tags": []
      },
      "source": [
        "> The most efficient S-representation is the COO representation. It's however also the least user friendly:"
      ]
    },
    {
      "cell_type": "code",
      "execution_count": 1,
      "id": "d66621b99ca96197",
      "metadata": {
        "execution": {
          "iopub.execute_input": "2024-06-17T21:29:33.384542Z",
          "iopub.status.busy": "2024-06-17T21:29:33.384329Z",
          "iopub.status.idle": "2024-06-17T21:29:34.019549Z",
          "shell.execute_reply": "2024-06-17T21:29:34.018908Z"
        },
        "papermill": {
          "duration": 0.638593,
          "end_time": "2024-06-17T21:29:34.021117",
          "exception": false,
          "start_time": "2024-06-17T21:29:33.382524",
          "status": "completed"
        },
        "tags": [
          "remove-cell"
        ]
      },
      "outputs": [],
      "source": [
        "import sax\n",
        "import jax.numpy as jnp"
      ]
    },
    {
      "cell_type": "code",
      "execution_count": 2,
      "id": "441ffa75-e5f0-408b-8eee-9d4304ac4c21",
      "metadata": {
        "execution": {
          "iopub.execute_input": "2024-06-17T21:29:34.025267Z",
          "iopub.status.busy": "2024-06-17T21:29:34.024679Z",
          "iopub.status.idle": "2024-06-17T21:29:34.029125Z",
          "shell.execute_reply": "2024-06-17T21:29:34.028632Z"
        },
        "papermill": {
          "duration": 0.007468,
          "end_time": "2024-06-17T21:29:34.030272",
          "exception": false,
          "start_time": "2024-06-17T21:29:34.022804",
          "status": "completed"
        },
        "tags": []
      },
      "outputs": [],
      "source": [
        "def my_coo(*, wl=1.5):\n",
        "    num_input_ports = 4\n",
        "    num_output_ports = 1\n",
        "    pm = {\n",
        "        **{f\"in{i}\": i for i in range(num_input_ports)},\n",
        "        **{f\"out{i}\": i + num_input_ports for i in range(num_output_ports)},\n",
        "    }\n",
        "    thru = jnp.ones(num_input_ports)\n",
        "    i = jnp.arange(0, num_input_ports, 1)\n",
        "    j = jnp.zeros_like(i) + num_input_ports\n",
        "\n",
        "    # make reciprocal\n",
        "    i, j = jnp.concatenate([i, j]), jnp.concatenate([j, i])\n",
        "    thru = jnp.concatenate([thru, thru], 0)\n",
        "    return (i, j, thru, pm)"
      ]
    },
    {
      "cell_type": "code",
      "execution_count": 3,
      "id": "db714fb4-a262-45db-9fed-7f1b4a406c7b",
      "metadata": {
        "execution": {
          "iopub.execute_input": "2024-06-17T21:29:34.033419Z",
          "iopub.status.busy": "2024-06-17T21:29:34.033073Z",
          "iopub.status.idle": "2024-06-17T21:29:34.498319Z",
          "shell.execute_reply": "2024-06-17T21:29:34.497743Z"
        },
        "papermill": {
          "duration": 0.468335,
          "end_time": "2024-06-17T21:29:34.499689",
          "exception": false,
          "start_time": "2024-06-17T21:29:34.031354",
          "status": "completed"
        },
        "tags": []
      },
      "outputs": [],
      "source": [
        "circuit, _ = sax.circuit(\n",
        "    netlist={\n",
        "        \"instances\": {\n",
        "            \"coo\": \"coo\",\n",
        "        },\n",
        "        \"connections\": {},\n",
        "        \"ports\": {\n",
        "            \"in0\": \"coo,in0\",\n",
        "            \"out0\": \"coo,out0\",\n",
        "        },\n",
        "    },\n",
        "    models={\n",
        "        \"coo\": my_coo,\n",
        "    },\n",
        "    backend=\"klu\",\n",
        "    return_type=\"scoo\",\n",
        ")"
      ]
    },
    {
      "cell_type": "code",
      "execution_count": 4,
      "id": "69cfc75e-623c-4171-a296-ea10afbc6afb",
      "metadata": {
        "execution": {
          "iopub.execute_input": "2024-06-17T21:29:34.503506Z",
          "iopub.status.busy": "2024-06-17T21:29:34.503119Z",
          "iopub.status.idle": "2024-06-17T21:29:34.772742Z",
          "shell.execute_reply": "2024-06-17T21:29:34.772130Z"
        },
        "papermill": {
          "duration": 0.272846,
          "end_time": "2024-06-17T21:29:34.773915",
          "exception": false,
          "start_time": "2024-06-17T21:29:34.501069",
          "status": "completed"
        },
        "tags": []
      },
      "outputs": [
        {
          "data": {
            "text/plain": [
              "(Array([0, 0, 1, 1], dtype=int64),\n",
              " Array([0, 1, 0, 1], dtype=int64),\n",
              " Array([0.+0.j, 1.+0.j, 1.+0.j, 0.+0.j], dtype=complex128),\n",
              " {'in0': 0, 'out0': 1})"
            ]
          },
          "execution_count": 4,
          "metadata": {},
          "output_type": "execute_result"
        }
      ],
      "source": [
        "circuit()"
      ]
    },
    {
      "cell_type": "code",
      "execution_count": 5,
      "id": "ef096d6a-6851-4089-b327-7063378a3ed5",
      "metadata": {
        "execution": {
          "iopub.execute_input": "2024-06-17T21:29:34.777893Z",
          "iopub.status.busy": "2024-06-17T21:29:34.777688Z",
          "iopub.status.idle": "2024-06-17T21:29:34.818614Z",
          "shell.execute_reply": "2024-06-17T21:29:34.818044Z"
        },
        "papermill": {
          "duration": 0.044269,
          "end_time": "2024-06-17T21:29:34.819764",
          "exception": false,
          "start_time": "2024-06-17T21:29:34.775495",
          "status": "completed"
        },
        "tags": []
      },
      "outputs": [
        {
          "data": {
            "text/plain": [
              "{('in0', 'in0'): Array(0.+0.j, dtype=complex128),\n",
              " ('in0', 'out0'): Array(1.+0.j, dtype=complex128),\n",
              " ('out0', 'in0'): Array(1.+0.j, dtype=complex128),\n",
              " ('out0', 'out0'): Array(0.+0.j, dtype=complex128)}"
            ]
          },
          "execution_count": 5,
          "metadata": {},
          "output_type": "execute_result"
        }
      ],
      "source": [
        "sax.sdict(circuit())"
      ]
    }
  ],
  "metadata": {
    "kernelspec": {
      "display_name": "Python 3 (ipykernel)",
      "language": "python",
      "name": "python3"
    },
    "language_info": {
      "codemirror_mode": {
        "name": "ipython",
        "version": 3
      },
      "file_extension": ".py",
      "mimetype": "text/x-python",
      "name": "python",
      "nbconvert_exporter": "python",
      "pygments_lexer": "ipython3",
      "version": "3.10.14"
    },
    "papermill": {
      "default_parameters": {},
      "duration": 2.70925,
      "end_time": "2024-06-17T21:29:35.137394",
      "environment_variables": {},
      "exception": null,
      "input_path": "./examples/08_sparse_coo.ipynb",
      "output_path": "./examples/08_sparse_coo.ipynb",
      "parameters": {},
      "start_time": "2024-06-17T21:29:32.428144",
      "version": "2.6.0"
    }
  },
  "nbformat": 4,
  "nbformat_minor": 5
}