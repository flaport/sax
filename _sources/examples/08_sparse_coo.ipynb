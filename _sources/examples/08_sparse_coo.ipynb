{
  "cells": [
    {
      "cell_type": "markdown",
      "id": "0",
      "metadata": {
        "papermill": {
          "duration": 0.00155,
          "end_time": "2024-11-06T14:04:15.940685",
          "exception": false,
          "start_time": "2024-11-06T14:04:15.939135",
          "status": "completed"
        },
        "tags": []
      },
      "source": [
        "# Sparse COO"
      ]
    },
    {
      "cell_type": "markdown",
      "id": "1",
      "metadata": {
        "papermill": {
          "duration": 0.000988,
          "end_time": "2024-11-06T14:04:15.942967",
          "exception": false,
          "start_time": "2024-11-06T14:04:15.941979",
          "status": "completed"
        },
        "tags": []
      },
      "source": [
        "> The most efficient S-representation is the COO representation. It's however also the least user friendly:"
      ]
    },
    {
      "cell_type": "code",
      "execution_count": 1,
      "id": "2902e939268a9b88",
      "metadata": {
        "execution": {
          "iopub.execute_input": "2024-11-06T14:04:15.946026Z",
          "iopub.status.busy": "2024-11-06T14:04:15.945532Z",
          "iopub.status.idle": "2024-11-06T14:04:16.518539Z",
          "shell.execute_reply": "2024-11-06T14:04:16.518053Z"
        },
        "papermill": {
          "duration": 0.575643,
          "end_time": "2024-11-06T14:04:16.519545",
          "exception": false,
          "start_time": "2024-11-06T14:04:15.943902",
          "status": "completed"
        },
        "tags": [
          "remove-cell"
        ]
      },
      "outputs": [],
      "source": [
        "import sax\n",
        "import jax.numpy as jnp"
      ]
    },
    {
      "cell_type": "code",
      "execution_count": 2,
      "id": "3",
      "metadata": {
        "execution": {
          "iopub.execute_input": "2024-11-06T14:04:16.522968Z",
          "iopub.status.busy": "2024-11-06T14:04:16.522567Z",
          "iopub.status.idle": "2024-11-06T14:04:16.526505Z",
          "shell.execute_reply": "2024-11-06T14:04:16.526105Z"
        },
        "papermill": {
          "duration": 0.006323,
          "end_time": "2024-11-06T14:04:16.527192",
          "exception": false,
          "start_time": "2024-11-06T14:04:16.520869",
          "status": "completed"
        },
        "tags": []
      },
      "outputs": [],
      "source": [
        "def my_coo(*, wl=1.5):\n",
        "    num_input_ports = 4\n",
        "    num_output_ports = 1\n",
        "    pm = {\n",
        "        **{f\"in{i}\": i for i in range(num_input_ports)},\n",
        "        **{f\"out{i}\": i + num_input_ports for i in range(num_output_ports)},\n",
        "    }\n",
        "    thru = jnp.ones(num_input_ports)\n",
        "    i = jnp.arange(0, num_input_ports, 1)\n",
        "    j = jnp.zeros_like(i) + num_input_ports\n",
        "\n",
        "    # make reciprocal\n",
        "    i, j = jnp.concatenate([i, j]), jnp.concatenate([j, i])\n",
        "    thru = jnp.concatenate([thru, thru], 0)\n",
        "    return (i, j, thru, pm)"
      ]
    },
    {
      "cell_type": "code",
      "execution_count": 3,
      "id": "4",
      "metadata": {
        "execution": {
          "iopub.execute_input": "2024-11-06T14:04:16.529875Z",
          "iopub.status.busy": "2024-11-06T14:04:16.529594Z",
          "iopub.status.idle": "2024-11-06T14:04:16.932173Z",
          "shell.execute_reply": "2024-11-06T14:04:16.931672Z"
        },
        "papermill": {
          "duration": 0.40494,
          "end_time": "2024-11-06T14:04:16.933163",
          "exception": false,
          "start_time": "2024-11-06T14:04:16.528223",
          "status": "completed"
        },
        "tags": []
      },
      "outputs": [],
      "source": [
        "circuit, _ = sax.circuit(\n",
        "    netlist={\n",
        "        \"instances\": {\n",
        "            \"coo\": \"coo\",\n",
        "        },\n",
        "        \"connections\": {},\n",
        "        \"ports\": {\n",
        "            \"in0\": \"coo,in0\",\n",
        "            \"out0\": \"coo,out0\",\n",
        "        },\n",
        "    },\n",
        "    models={\n",
        "        \"coo\": my_coo,\n",
        "    },\n",
        "    backend=\"klu\",\n",
        "    return_type=\"scoo\",\n",
        ")"
      ]
    },
    {
      "cell_type": "code",
      "execution_count": 4,
      "id": "5",
      "metadata": {
        "execution": {
          "iopub.execute_input": "2024-11-06T14:04:16.936539Z",
          "iopub.status.busy": "2024-11-06T14:04:16.936217Z",
          "iopub.status.idle": "2024-11-06T14:04:17.187432Z",
          "shell.execute_reply": "2024-11-06T14:04:17.186986Z"
        },
        "papermill": {
          "duration": 0.253768,
          "end_time": "2024-11-06T14:04:17.188268",
          "exception": false,
          "start_time": "2024-11-06T14:04:16.934500",
          "status": "completed"
        },
        "tags": []
      },
      "outputs": [
        {
          "data": {
            "text/plain": [
              "(Array([0, 0, 1, 1], dtype=int64),\n",
              " Array([0, 1, 0, 1], dtype=int64),\n",
              " Array([0.+0.j, 1.+0.j, 1.+0.j, 0.+0.j], dtype=complex128),\n",
              " {'in0': 0, 'out0': 1})"
            ]
          },
          "execution_count": 4,
          "metadata": {},
          "output_type": "execute_result"
        }
      ],
      "source": [
        "circuit()"
      ]
    },
    {
      "cell_type": "code",
      "execution_count": 5,
      "id": "6",
      "metadata": {
        "execution": {
          "iopub.execute_input": "2024-11-06T14:04:17.191870Z",
          "iopub.status.busy": "2024-11-06T14:04:17.191544Z",
          "iopub.status.idle": "2024-11-06T14:04:17.232470Z",
          "shell.execute_reply": "2024-11-06T14:04:17.231974Z"
        },
        "papermill": {
          "duration": 0.04354,
          "end_time": "2024-11-06T14:04:17.233250",
          "exception": false,
          "start_time": "2024-11-06T14:04:17.189710",
          "status": "completed"
        },
        "tags": []
      },
      "outputs": [
        {
          "data": {
            "text/plain": [
              "{('in0', 'in0'): Array(0.+0.j, dtype=complex128),\n",
              " ('in0', 'out0'): Array(1.+0.j, dtype=complex128),\n",
              " ('out0', 'in0'): Array(1.+0.j, dtype=complex128),\n",
              " ('out0', 'out0'): Array(0.+0.j, dtype=complex128)}"
            ]
          },
          "execution_count": 5,
          "metadata": {},
          "output_type": "execute_result"
        }
      ],
      "source": [
        "sax.sdict(circuit())"
      ]
    }
  ],
  "metadata": {
    "kernelspec": {
      "display_name": "Python 3 (ipykernel)",
      "language": "python",
      "name": "python3"
    },
    "language_info": {
      "codemirror_mode": {
        "name": "ipython",
        "version": 3
      },
      "file_extension": ".py",
      "mimetype": "text/x-python",
      "name": "python",
      "nbconvert_exporter": "python",
      "pygments_lexer": "ipython3",
      "version": "3.11.10"
    },
    "papermill": {
      "default_parameters": {},
      "duration": 2.555886,
      "end_time": "2024-11-06T14:04:17.549739",
      "environment_variables": {},
      "exception": null,
      "input_path": "./examples/08_sparse_coo.ipynb",
      "output_path": "./examples/08_sparse_coo.ipynb",
      "parameters": {},
      "start_time": "2024-11-06T14:04:14.993853",
      "version": "2.6.0"
    }
  },
  "nbformat": 4,
  "nbformat_minor": 5
}