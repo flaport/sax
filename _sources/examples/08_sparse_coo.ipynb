{
  "cells": [
    {
      "cell_type": "markdown",
      "id": "0",
      "metadata": {
        "papermill": {
          "duration": 0.001941,
          "end_time": "2025-02-13T09:51:34.123795",
          "exception": false,
          "start_time": "2025-02-13T09:51:34.121854",
          "status": "completed"
        },
        "tags": []
      },
      "source": [
        "# Sparse COO"
      ]
    },
    {
      "cell_type": "markdown",
      "id": "1",
      "metadata": {
        "papermill": {
          "duration": 0.001401,
          "end_time": "2025-02-13T09:51:34.126975",
          "exception": false,
          "start_time": "2025-02-13T09:51:34.125574",
          "status": "completed"
        },
        "tags": []
      },
      "source": [
        "> The most efficient S-representation is the COO representation. It's however also the least user friendly:"
      ]
    },
    {
      "cell_type": "code",
      "execution_count": 1,
      "id": "26ad703568c1cb8a",
      "metadata": {
        "execution": {
          "iopub.execute_input": "2025-02-13T09:51:34.131970Z",
          "iopub.status.busy": "2025-02-13T09:51:34.130863Z",
          "iopub.status.idle": "2025-02-13T09:51:35.186915Z",
          "shell.execute_reply": "2025-02-13T09:51:35.186275Z"
        },
        "papermill": {
          "duration": 1.060244,
          "end_time": "2025-02-13T09:51:35.188681",
          "exception": false,
          "start_time": "2025-02-13T09:51:34.128437",
          "status": "completed"
        },
        "tags": [
          "remove-cell"
        ]
      },
      "outputs": [],
      "source": [
        "import sax\n",
        "import jax.numpy as jnp"
      ]
    },
    {
      "cell_type": "code",
      "execution_count": 2,
      "id": "3",
      "metadata": {
        "execution": {
          "iopub.execute_input": "2025-02-13T09:51:35.193573Z",
          "iopub.status.busy": "2025-02-13T09:51:35.193186Z",
          "iopub.status.idle": "2025-02-13T09:51:35.199335Z",
          "shell.execute_reply": "2025-02-13T09:51:35.198787Z"
        },
        "papermill": {
          "duration": 0.009842,
          "end_time": "2025-02-13T09:51:35.200610",
          "exception": false,
          "start_time": "2025-02-13T09:51:35.190768",
          "status": "completed"
        },
        "tags": []
      },
      "outputs": [],
      "source": [
        "def my_coo(*, wl=1.5):\n",
        "    num_input_ports = 4\n",
        "    num_output_ports = 1\n",
        "    pm = {\n",
        "        **{f\"in{i}\": i for i in range(num_input_ports)},\n",
        "        **{f\"out{i}\": i + num_input_ports for i in range(num_output_ports)},\n",
        "    }\n",
        "    thru = jnp.ones(num_input_ports)\n",
        "    i = jnp.arange(0, num_input_ports, 1)\n",
        "    j = jnp.zeros_like(i) + num_input_ports\n",
        "\n",
        "    # make reciprocal\n",
        "    i, j = jnp.concatenate([i, j]), jnp.concatenate([j, i])\n",
        "    thru = jnp.concatenate([thru, thru], 0)\n",
        "    return (i, j, thru, pm)"
      ]
    },
    {
      "cell_type": "code",
      "execution_count": 3,
      "id": "4",
      "metadata": {
        "execution": {
          "iopub.execute_input": "2025-02-13T09:51:35.205010Z",
          "iopub.status.busy": "2025-02-13T09:51:35.204768Z",
          "iopub.status.idle": "2025-02-13T09:51:35.925862Z",
          "shell.execute_reply": "2025-02-13T09:51:35.925304Z"
        },
        "papermill": {
          "duration": 0.72524,
          "end_time": "2025-02-13T09:51:35.927573",
          "exception": false,
          "start_time": "2025-02-13T09:51:35.202333",
          "status": "completed"
        },
        "tags": []
      },
      "outputs": [],
      "source": [
        "circuit, _ = sax.circuit(\n",
        "    netlist={\n",
        "        \"instances\": {\n",
        "            \"coo\": \"coo\",\n",
        "        },\n",
        "        \"connections\": {},\n",
        "        \"ports\": {\n",
        "            \"in0\": \"coo,in0\",\n",
        "            \"out0\": \"coo,out0\",\n",
        "        },\n",
        "    },\n",
        "    models={\n",
        "        \"coo\": my_coo,\n",
        "    },\n",
        "    backend=\"klu\",\n",
        "    return_type=\"scoo\",\n",
        ")"
      ]
    },
    {
      "cell_type": "code",
      "execution_count": 4,
      "id": "5",
      "metadata": {
        "execution": {
          "iopub.execute_input": "2025-02-13T09:51:35.932392Z",
          "iopub.status.busy": "2025-02-13T09:51:35.932149Z",
          "iopub.status.idle": "2025-02-13T09:51:36.392072Z",
          "shell.execute_reply": "2025-02-13T09:51:36.391535Z"
        },
        "papermill": {
          "duration": 0.463818,
          "end_time": "2025-02-13T09:51:36.393409",
          "exception": false,
          "start_time": "2025-02-13T09:51:35.929591",
          "status": "completed"
        },
        "tags": []
      },
      "outputs": [
        {
          "data": {
            "text/plain": [
              "(Array([0, 0, 1, 1], dtype=int64),\n",
              " Array([0, 1, 0, 1], dtype=int64),\n",
              " Array([0.+0.j, 1.+0.j, 1.+0.j, 0.+0.j], dtype=complex128),\n",
              " {'in0': 0, 'out0': 1})"
            ]
          },
          "execution_count": 4,
          "metadata": {},
          "output_type": "execute_result"
        }
      ],
      "source": [
        "circuit()"
      ]
    },
    {
      "cell_type": "code",
      "execution_count": 5,
      "id": "6",
      "metadata": {
        "execution": {
          "iopub.execute_input": "2025-02-13T09:51:36.399844Z",
          "iopub.status.busy": "2025-02-13T09:51:36.399605Z",
          "iopub.status.idle": "2025-02-13T09:51:36.468928Z",
          "shell.execute_reply": "2025-02-13T09:51:36.468428Z"
        },
        "papermill": {
          "duration": 0.074877,
          "end_time": "2025-02-13T09:51:36.470397",
          "exception": false,
          "start_time": "2025-02-13T09:51:36.395520",
          "status": "completed"
        },
        "tags": []
      },
      "outputs": [
        {
          "data": {
            "text/plain": [
              "{('in0', 'in0'): Array(0.+0.j, dtype=complex128),\n",
              " ('in0', 'out0'): Array(1.+0.j, dtype=complex128),\n",
              " ('out0', 'in0'): Array(1.+0.j, dtype=complex128),\n",
              " ('out0', 'out0'): Array(0.+0.j, dtype=complex128)}"
            ]
          },
          "execution_count": 5,
          "metadata": {},
          "output_type": "execute_result"
        }
      ],
      "source": [
        "sax.sdict(circuit())"
      ]
    }
  ],
  "metadata": {
    "kernelspec": {
      "display_name": "Python 3 (ipykernel)",
      "language": "python",
      "name": "python3"
    },
    "language_info": {
      "codemirror_mode": {
        "name": "ipython",
        "version": 3
      },
      "file_extension": ".py",
      "mimetype": "text/x-python",
      "name": "python",
      "nbconvert_exporter": "python",
      "pygments_lexer": "ipython3",
      "version": "3.12.3"
    },
    "papermill": {
      "default_parameters": {},
      "duration": 4.191329,
      "end_time": "2025-02-13T09:51:36.994200",
      "environment_variables": {},
      "exception": null,
      "input_path": "./examples/08_sparse_coo.ipynb",
      "output_path": "./examples/08_sparse_coo.ipynb",
      "parameters": {},
      "start_time": "2025-02-13T09:51:32.802871",
      "version": "2.6.0"
    }
  },
  "nbformat": 4,
  "nbformat_minor": 5
}