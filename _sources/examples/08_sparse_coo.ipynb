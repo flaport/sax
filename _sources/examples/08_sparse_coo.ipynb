{
  "cells": [
    {
      "cell_type": "markdown",
      "id": "0",
      "metadata": {
        "papermill": {
          "duration": 0.002194,
          "end_time": "2025-03-24T14:14:13.517324",
          "exception": false,
          "start_time": "2025-03-24T14:14:13.515130",
          "status": "completed"
        },
        "tags": []
      },
      "source": [
        "# Sparse COO"
      ]
    },
    {
      "cell_type": "markdown",
      "id": "1",
      "metadata": {
        "papermill": {
          "duration": 0.001573,
          "end_time": "2025-03-24T14:14:13.524701",
          "exception": false,
          "start_time": "2025-03-24T14:14:13.523128",
          "status": "completed"
        },
        "tags": []
      },
      "source": [
        "> The most efficient S-representation is the COO representation. It's however also the least user friendly:"
      ]
    },
    {
      "cell_type": "code",
      "execution_count": 1,
      "id": "b98e33554ff5874e",
      "metadata": {
        "execution": {
          "iopub.execute_input": "2025-03-24T14:14:13.550071Z",
          "iopub.status.busy": "2025-03-24T14:14:13.549401Z",
          "iopub.status.idle": "2025-03-24T14:14:15.019951Z",
          "shell.execute_reply": "2025-03-24T14:14:15.019275Z"
        },
        "papermill": {
          "duration": 1.487661,
          "end_time": "2025-03-24T14:14:15.021366",
          "exception": false,
          "start_time": "2025-03-24T14:14:13.533705",
          "status": "completed"
        },
        "tags": [
          "remove-cell"
        ]
      },
      "outputs": [],
      "source": [
        "import sax\n",
        "import jax.numpy as jnp"
      ]
    },
    {
      "cell_type": "code",
      "execution_count": 2,
      "id": "3",
      "metadata": {
        "execution": {
          "iopub.execute_input": "2025-03-24T14:14:15.026212Z",
          "iopub.status.busy": "2025-03-24T14:14:15.025772Z",
          "iopub.status.idle": "2025-03-24T14:14:15.031369Z",
          "shell.execute_reply": "2025-03-24T14:14:15.030871Z"
        },
        "papermill": {
          "duration": 0.009271,
          "end_time": "2025-03-24T14:14:15.032558",
          "exception": false,
          "start_time": "2025-03-24T14:14:15.023287",
          "status": "completed"
        },
        "tags": []
      },
      "outputs": [],
      "source": [
        "def my_coo(*, wl=1.5):\n",
        "    num_input_ports = 4\n",
        "    num_output_ports = 1\n",
        "    pm = {\n",
        "        **{f\"in{i}\": i for i in range(num_input_ports)},\n",
        "        **{f\"out{i}\": i + num_input_ports for i in range(num_output_ports)},\n",
        "    }\n",
        "    thru = jnp.ones(num_input_ports)\n",
        "    i = jnp.arange(0, num_input_ports, 1)\n",
        "    j = jnp.zeros_like(i) + num_input_ports\n",
        "\n",
        "    # make reciprocal\n",
        "    i, j = jnp.concatenate([i, j]), jnp.concatenate([j, i])\n",
        "    thru = jnp.concatenate([thru, thru], 0)\n",
        "    return (i, j, thru, pm)"
      ]
    },
    {
      "cell_type": "code",
      "execution_count": 3,
      "id": "4",
      "metadata": {
        "execution": {
          "iopub.execute_input": "2025-03-24T14:14:15.036508Z",
          "iopub.status.busy": "2025-03-24T14:14:15.036311Z",
          "iopub.status.idle": "2025-03-24T14:14:16.007896Z",
          "shell.execute_reply": "2025-03-24T14:14:16.007330Z"
        },
        "papermill": {
          "duration": 0.975004,
          "end_time": "2025-03-24T14:14:16.009205",
          "exception": false,
          "start_time": "2025-03-24T14:14:15.034201",
          "status": "completed"
        },
        "tags": []
      },
      "outputs": [],
      "source": [
        "circuit, _ = sax.circuit(\n",
        "    netlist={\n",
        "        \"instances\": {\n",
        "            \"coo\": \"coo\",\n",
        "        },\n",
        "        \"connections\": {},\n",
        "        \"ports\": {\n",
        "            \"in0\": \"coo,in0\",\n",
        "            \"out0\": \"coo,out0\",\n",
        "        },\n",
        "    },\n",
        "    models={\n",
        "        \"coo\": my_coo,\n",
        "    },\n",
        "    backend=\"klu\",\n",
        "    return_type=\"scoo\",\n",
        ")"
      ]
    },
    {
      "cell_type": "code",
      "execution_count": 4,
      "id": "5",
      "metadata": {
        "execution": {
          "iopub.execute_input": "2025-03-24T14:14:16.014155Z",
          "iopub.status.busy": "2025-03-24T14:14:16.013929Z",
          "iopub.status.idle": "2025-03-24T14:14:16.405781Z",
          "shell.execute_reply": "2025-03-24T14:14:16.405254Z"
        },
        "papermill": {
          "duration": 0.39594,
          "end_time": "2025-03-24T14:14:16.407146",
          "exception": false,
          "start_time": "2025-03-24T14:14:16.011206",
          "status": "completed"
        },
        "tags": []
      },
      "outputs": [
        {
          "data": {
            "text/plain": [
              "(Array([0, 0, 1, 1], dtype=int64),\n",
              " Array([0, 1, 0, 1], dtype=int64),\n",
              " Array([0.+0.j, 1.+0.j, 1.+0.j, 0.+0.j], dtype=complex128),\n",
              " {'in0': 0, 'out0': 1})"
            ]
          },
          "execution_count": 4,
          "metadata": {},
          "output_type": "execute_result"
        }
      ],
      "source": [
        "circuit()"
      ]
    },
    {
      "cell_type": "code",
      "execution_count": 5,
      "id": "6",
      "metadata": {
        "execution": {
          "iopub.execute_input": "2025-03-24T14:14:16.412409Z",
          "iopub.status.busy": "2025-03-24T14:14:16.412119Z",
          "iopub.status.idle": "2025-03-24T14:14:16.487595Z",
          "shell.execute_reply": "2025-03-24T14:14:16.487062Z"
        },
        "papermill": {
          "duration": 0.079622,
          "end_time": "2025-03-24T14:14:16.488957",
          "exception": false,
          "start_time": "2025-03-24T14:14:16.409335",
          "status": "completed"
        },
        "tags": []
      },
      "outputs": [
        {
          "data": {
            "text/plain": [
              "{('in0', 'in0'): Array(0.+0.j, dtype=complex128),\n",
              " ('in0', 'out0'): Array(1.+0.j, dtype=complex128),\n",
              " ('out0', 'in0'): Array(1.+0.j, dtype=complex128),\n",
              " ('out0', 'out0'): Array(0.+0.j, dtype=complex128)}"
            ]
          },
          "execution_count": 5,
          "metadata": {},
          "output_type": "execute_result"
        }
      ],
      "source": [
        "sax.sdict(circuit())"
      ]
    }
  ],
  "metadata": {
    "kernelspec": {
      "display_name": "Python 3 (ipykernel)",
      "language": "python",
      "name": "python3"
    },
    "language_info": {
      "codemirror_mode": {
        "name": "ipython",
        "version": 3
      },
      "file_extension": ".py",
      "mimetype": "text/x-python",
      "name": "python",
      "nbconvert_exporter": "python",
      "pygments_lexer": "ipython3",
      "version": "3.12.3"
    },
    "papermill": {
      "default_parameters": {},
      "duration": 5.031378,
      "end_time": "2025-03-24T14:14:17.323560",
      "environment_variables": {},
      "exception": null,
      "input_path": "examples/08_sparse_coo.ipynb",
      "output_path": "examples/08_sparse_coo.ipynb",
      "parameters": {},
      "start_time": "2025-03-24T14:14:12.292182",
      "version": "2.6.0"
    }
  },
  "nbformat": 4,
  "nbformat_minor": 5
}