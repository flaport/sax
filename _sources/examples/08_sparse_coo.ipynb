{
  "cells": [
    {
      "cell_type": "markdown",
      "id": "0",
      "metadata": {
        "papermill": {
          "duration": 0.00237,
          "end_time": "2025-02-27T06:34:23.417702",
          "exception": false,
          "start_time": "2025-02-27T06:34:23.415332",
          "status": "completed"
        },
        "tags": []
      },
      "source": [
        "# Sparse COO"
      ]
    },
    {
      "cell_type": "markdown",
      "id": "1",
      "metadata": {
        "papermill": {
          "duration": 0.004368,
          "end_time": "2025-02-27T06:34:23.426923",
          "exception": false,
          "start_time": "2025-02-27T06:34:23.422555",
          "status": "completed"
        },
        "tags": []
      },
      "source": [
        "> The most efficient S-representation is the COO representation. It's however also the least user friendly:"
      ]
    },
    {
      "cell_type": "code",
      "execution_count": 1,
      "id": "1807be8b44b7f0be",
      "metadata": {
        "execution": {
          "iopub.execute_input": "2025-02-27T06:34:23.439050Z",
          "iopub.status.busy": "2025-02-27T06:34:23.438715Z",
          "iopub.status.idle": "2025-02-27T06:34:24.624238Z",
          "shell.execute_reply": "2025-02-27T06:34:24.623500Z"
        },
        "papermill": {
          "duration": 1.197358,
          "end_time": "2025-02-27T06:34:24.625675",
          "exception": false,
          "start_time": "2025-02-27T06:34:23.428317",
          "status": "completed"
        },
        "tags": [
          "remove-cell"
        ]
      },
      "outputs": [],
      "source": [
        "import sax\n",
        "import jax.numpy as jnp"
      ]
    },
    {
      "cell_type": "code",
      "execution_count": 2,
      "id": "3",
      "metadata": {
        "execution": {
          "iopub.execute_input": "2025-02-27T06:34:24.631478Z",
          "iopub.status.busy": "2025-02-27T06:34:24.630605Z",
          "iopub.status.idle": "2025-02-27T06:34:24.636393Z",
          "shell.execute_reply": "2025-02-27T06:34:24.635796Z"
        },
        "papermill": {
          "duration": 0.009844,
          "end_time": "2025-02-27T06:34:24.637593",
          "exception": false,
          "start_time": "2025-02-27T06:34:24.627749",
          "status": "completed"
        },
        "tags": []
      },
      "outputs": [],
      "source": [
        "def my_coo(*, wl=1.5):\n",
        "    num_input_ports = 4\n",
        "    num_output_ports = 1\n",
        "    pm = {\n",
        "        **{f\"in{i}\": i for i in range(num_input_ports)},\n",
        "        **{f\"out{i}\": i + num_input_ports for i in range(num_output_ports)},\n",
        "    }\n",
        "    thru = jnp.ones(num_input_ports)\n",
        "    i = jnp.arange(0, num_input_ports, 1)\n",
        "    j = jnp.zeros_like(i) + num_input_ports\n",
        "\n",
        "    # make reciprocal\n",
        "    i, j = jnp.concatenate([i, j]), jnp.concatenate([j, i])\n",
        "    thru = jnp.concatenate([thru, thru], 0)\n",
        "    return (i, j, thru, pm)"
      ]
    },
    {
      "cell_type": "code",
      "execution_count": 3,
      "id": "4",
      "metadata": {
        "execution": {
          "iopub.execute_input": "2025-02-27T06:34:24.642556Z",
          "iopub.status.busy": "2025-02-27T06:34:24.642244Z",
          "iopub.status.idle": "2025-02-27T06:34:25.507432Z",
          "shell.execute_reply": "2025-02-27T06:34:25.506720Z"
        },
        "papermill": {
          "duration": 0.869478,
          "end_time": "2025-02-27T06:34:25.509050",
          "exception": false,
          "start_time": "2025-02-27T06:34:24.639572",
          "status": "completed"
        },
        "tags": []
      },
      "outputs": [],
      "source": [
        "circuit, _ = sax.circuit(\n",
        "    netlist={\n",
        "        \"instances\": {\n",
        "            \"coo\": \"coo\",\n",
        "        },\n",
        "        \"connections\": {},\n",
        "        \"ports\": {\n",
        "            \"in0\": \"coo,in0\",\n",
        "            \"out0\": \"coo,out0\",\n",
        "        },\n",
        "    },\n",
        "    models={\n",
        "        \"coo\": my_coo,\n",
        "    },\n",
        "    backend=\"klu\",\n",
        "    return_type=\"scoo\",\n",
        ")"
      ]
    },
    {
      "cell_type": "code",
      "execution_count": 4,
      "id": "5",
      "metadata": {
        "execution": {
          "iopub.execute_input": "2025-02-27T06:34:25.514866Z",
          "iopub.status.busy": "2025-02-27T06:34:25.514587Z",
          "iopub.status.idle": "2025-02-27T06:34:26.073241Z",
          "shell.execute_reply": "2025-02-27T06:34:26.072720Z"
        },
        "papermill": {
          "duration": 0.562455,
          "end_time": "2025-02-27T06:34:26.074379",
          "exception": false,
          "start_time": "2025-02-27T06:34:25.511924",
          "status": "completed"
        },
        "tags": []
      },
      "outputs": [
        {
          "data": {
            "text/plain": [
              "(Array([0, 0, 1, 1], dtype=int64),\n",
              " Array([0, 1, 0, 1], dtype=int64),\n",
              " Array([0.+0.j, 1.+0.j, 1.+0.j, 0.+0.j], dtype=complex128),\n",
              " {'in0': 0, 'out0': 1})"
            ]
          },
          "execution_count": 4,
          "metadata": {},
          "output_type": "execute_result"
        }
      ],
      "source": [
        "circuit()"
      ]
    },
    {
      "cell_type": "code",
      "execution_count": 5,
      "id": "6",
      "metadata": {
        "execution": {
          "iopub.execute_input": "2025-02-27T06:34:26.079652Z",
          "iopub.status.busy": "2025-02-27T06:34:26.079424Z",
          "iopub.status.idle": "2025-02-27T06:34:26.151633Z",
          "shell.execute_reply": "2025-02-27T06:34:26.151143Z"
        },
        "papermill": {
          "duration": 0.076377,
          "end_time": "2025-02-27T06:34:26.152912",
          "exception": false,
          "start_time": "2025-02-27T06:34:26.076535",
          "status": "completed"
        },
        "tags": []
      },
      "outputs": [
        {
          "data": {
            "text/plain": [
              "{('in0', 'in0'): Array(0.+0.j, dtype=complex128),\n",
              " ('in0', 'out0'): Array(1.+0.j, dtype=complex128),\n",
              " ('out0', 'in0'): Array(1.+0.j, dtype=complex128),\n",
              " ('out0', 'out0'): Array(0.+0.j, dtype=complex128)}"
            ]
          },
          "execution_count": 5,
          "metadata": {},
          "output_type": "execute_result"
        }
      ],
      "source": [
        "sax.sdict(circuit())"
      ]
    }
  ],
  "metadata": {
    "kernelspec": {
      "display_name": "Python 3 (ipykernel)",
      "language": "python",
      "name": "python3"
    },
    "language_info": {
      "codemirror_mode": {
        "name": "ipython",
        "version": 3
      },
      "file_extension": ".py",
      "mimetype": "text/x-python",
      "name": "python",
      "nbconvert_exporter": "python",
      "pygments_lexer": "ipython3",
      "version": "3.12.3"
    },
    "papermill": {
      "default_parameters": {},
      "duration": 4.766508,
      "end_time": "2025-02-27T06:34:26.879231",
      "environment_variables": {},
      "exception": null,
      "input_path": "examples/08_sparse_coo.ipynb",
      "output_path": "examples/08_sparse_coo.ipynb",
      "parameters": {},
      "start_time": "2025-02-27T06:34:22.112723",
      "version": "2.6.0"
    }
  },
  "nbformat": 4,
  "nbformat_minor": 5
}