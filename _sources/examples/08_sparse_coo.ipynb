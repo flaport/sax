{
  "cells": [
    {
      "cell_type": "markdown",
      "id": "0",
      "metadata": {
        "papermill": {
          "duration": 0.002014,
          "end_time": "2025-02-26T08:33:26.867500",
          "exception": false,
          "start_time": "2025-02-26T08:33:26.865486",
          "status": "completed"
        },
        "tags": []
      },
      "source": [
        "# Sparse COO"
      ]
    },
    {
      "cell_type": "markdown",
      "id": "1",
      "metadata": {
        "papermill": {
          "duration": 0.001517,
          "end_time": "2025-02-26T08:33:26.871713",
          "exception": false,
          "start_time": "2025-02-26T08:33:26.870196",
          "status": "completed"
        },
        "tags": []
      },
      "source": [
        "> The most efficient S-representation is the COO representation. It's however also the least user friendly:"
      ]
    },
    {
      "cell_type": "code",
      "execution_count": 1,
      "id": "b9717dd25ad4e9b7",
      "metadata": {
        "execution": {
          "iopub.execute_input": "2025-02-26T08:33:26.876637Z",
          "iopub.status.busy": "2025-02-26T08:33:26.876372Z",
          "iopub.status.idle": "2025-02-26T08:33:28.112682Z",
          "shell.execute_reply": "2025-02-26T08:33:28.111969Z"
        },
        "papermill": {
          "duration": 1.240852,
          "end_time": "2025-02-26T08:33:28.114121",
          "exception": false,
          "start_time": "2025-02-26T08:33:26.873269",
          "status": "completed"
        },
        "tags": [
          "remove-cell"
        ]
      },
      "outputs": [],
      "source": [
        "import sax\n",
        "import jax.numpy as jnp"
      ]
    },
    {
      "cell_type": "code",
      "execution_count": 2,
      "id": "3",
      "metadata": {
        "execution": {
          "iopub.execute_input": "2025-02-26T08:33:28.121879Z",
          "iopub.status.busy": "2025-02-26T08:33:28.121213Z",
          "iopub.status.idle": "2025-02-26T08:33:28.127876Z",
          "shell.execute_reply": "2025-02-26T08:33:28.127277Z"
        },
        "papermill": {
          "duration": 0.011679,
          "end_time": "2025-02-26T08:33:28.129469",
          "exception": false,
          "start_time": "2025-02-26T08:33:28.117790",
          "status": "completed"
        },
        "tags": []
      },
      "outputs": [],
      "source": [
        "def my_coo(*, wl=1.5):\n",
        "    num_input_ports = 4\n",
        "    num_output_ports = 1\n",
        "    pm = {\n",
        "        **{f\"in{i}\": i for i in range(num_input_ports)},\n",
        "        **{f\"out{i}\": i + num_input_ports for i in range(num_output_ports)},\n",
        "    }\n",
        "    thru = jnp.ones(num_input_ports)\n",
        "    i = jnp.arange(0, num_input_ports, 1)\n",
        "    j = jnp.zeros_like(i) + num_input_ports\n",
        "\n",
        "    # make reciprocal\n",
        "    i, j = jnp.concatenate([i, j]), jnp.concatenate([j, i])\n",
        "    thru = jnp.concatenate([thru, thru], 0)\n",
        "    return (i, j, thru, pm)"
      ]
    },
    {
      "cell_type": "code",
      "execution_count": 3,
      "id": "4",
      "metadata": {
        "execution": {
          "iopub.execute_input": "2025-02-26T08:33:28.134565Z",
          "iopub.status.busy": "2025-02-26T08:33:28.134268Z",
          "iopub.status.idle": "2025-02-26T08:33:29.060024Z",
          "shell.execute_reply": "2025-02-26T08:33:29.059183Z"
        },
        "papermill": {
          "duration": 0.929899,
          "end_time": "2025-02-26T08:33:29.061491",
          "exception": false,
          "start_time": "2025-02-26T08:33:28.131592",
          "status": "completed"
        },
        "tags": []
      },
      "outputs": [],
      "source": [
        "circuit, _ = sax.circuit(\n",
        "    netlist={\n",
        "        \"instances\": {\n",
        "            \"coo\": \"coo\",\n",
        "        },\n",
        "        \"connections\": {},\n",
        "        \"ports\": {\n",
        "            \"in0\": \"coo,in0\",\n",
        "            \"out0\": \"coo,out0\",\n",
        "        },\n",
        "    },\n",
        "    models={\n",
        "        \"coo\": my_coo,\n",
        "    },\n",
        "    backend=\"klu\",\n",
        "    return_type=\"scoo\",\n",
        ")"
      ]
    },
    {
      "cell_type": "code",
      "execution_count": 4,
      "id": "5",
      "metadata": {
        "execution": {
          "iopub.execute_input": "2025-02-26T08:33:29.072969Z",
          "iopub.status.busy": "2025-02-26T08:33:29.072689Z",
          "iopub.status.idle": "2025-02-26T08:33:29.617834Z",
          "shell.execute_reply": "2025-02-26T08:33:29.617186Z"
        },
        "papermill": {
          "duration": 0.550493,
          "end_time": "2025-02-26T08:33:29.618996",
          "exception": false,
          "start_time": "2025-02-26T08:33:29.068503",
          "status": "completed"
        },
        "tags": []
      },
      "outputs": [
        {
          "data": {
            "text/plain": [
              "(Array([0, 0, 1, 1], dtype=int64),\n",
              " Array([0, 1, 0, 1], dtype=int64),\n",
              " Array([0.+0.j, 1.+0.j, 1.+0.j, 0.+0.j], dtype=complex128),\n",
              " {'in0': 0, 'out0': 1})"
            ]
          },
          "execution_count": 4,
          "metadata": {},
          "output_type": "execute_result"
        }
      ],
      "source": [
        "circuit()"
      ]
    },
    {
      "cell_type": "code",
      "execution_count": 5,
      "id": "6",
      "metadata": {
        "execution": {
          "iopub.execute_input": "2025-02-26T08:33:29.626204Z",
          "iopub.status.busy": "2025-02-26T08:33:29.625889Z",
          "iopub.status.idle": "2025-02-26T08:33:29.696097Z",
          "shell.execute_reply": "2025-02-26T08:33:29.695555Z"
        },
        "papermill": {
          "duration": 0.076042,
          "end_time": "2025-02-26T08:33:29.697386",
          "exception": false,
          "start_time": "2025-02-26T08:33:29.621344",
          "status": "completed"
        },
        "tags": []
      },
      "outputs": [
        {
          "data": {
            "text/plain": [
              "{('in0', 'in0'): Array(0.+0.j, dtype=complex128),\n",
              " ('in0', 'out0'): Array(1.+0.j, dtype=complex128),\n",
              " ('out0', 'in0'): Array(1.+0.j, dtype=complex128),\n",
              " ('out0', 'out0'): Array(0.+0.j, dtype=complex128)}"
            ]
          },
          "execution_count": 5,
          "metadata": {},
          "output_type": "execute_result"
        }
      ],
      "source": [
        "sax.sdict(circuit())"
      ]
    }
  ],
  "metadata": {
    "kernelspec": {
      "display_name": "Python 3 (ipykernel)",
      "language": "python",
      "name": "python3"
    },
    "language_info": {
      "codemirror_mode": {
        "name": "ipython",
        "version": 3
      },
      "file_extension": ".py",
      "mimetype": "text/x-python",
      "name": "python",
      "nbconvert_exporter": "python",
      "pygments_lexer": "ipython3",
      "version": "3.12.3"
    },
    "papermill": {
      "default_parameters": {},
      "duration": 4.849468,
      "end_time": "2025-02-26T08:33:30.319033",
      "environment_variables": {},
      "exception": null,
      "input_path": "./examples/08_sparse_coo.ipynb",
      "output_path": "./examples/08_sparse_coo.ipynb",
      "parameters": {},
      "start_time": "2025-02-26T08:33:25.469565",
      "version": "2.6.0"
    }
  },
  "nbformat": 4,
  "nbformat_minor": 5
}