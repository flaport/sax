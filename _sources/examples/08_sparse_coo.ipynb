{
  "cells": [
    {
      "cell_type": "markdown",
      "id": "2bfd16a0-0ef5-4d82-9beb-9840f691e6d3",
      "metadata": {
        "papermill": {
          "duration": 0.00161,
          "end_time": "2024-04-11T19:47:30.317249",
          "exception": false,
          "start_time": "2024-04-11T19:47:30.315639",
          "status": "completed"
        },
        "tags": []
      },
      "source": [
        "## Sparse COO"
      ]
    },
    {
      "cell_type": "markdown",
      "id": "1527743d-d44d-40d2-af44-388b5861fad9",
      "metadata": {
        "papermill": {
          "duration": 0.001089,
          "end_time": "2024-04-11T19:47:30.319660",
          "exception": false,
          "start_time": "2024-04-11T19:47:30.318571",
          "status": "completed"
        },
        "tags": []
      },
      "source": [
        "> The most efficient S-representation is the COO representation. It's however also the least user friendly:"
      ]
    },
    {
      "cell_type": "code",
      "execution_count": 1,
      "id": "c0b891f2756ad596",
      "metadata": {
        "execution": {
          "iopub.execute_input": "2024-04-11T19:47:30.323071Z",
          "iopub.status.busy": "2024-04-11T19:47:30.322677Z",
          "iopub.status.idle": "2024-04-11T19:47:31.020436Z",
          "shell.execute_reply": "2024-04-11T19:47:31.019820Z"
        },
        "papermill": {
          "duration": 0.701393,
          "end_time": "2024-04-11T19:47:31.022071",
          "exception": false,
          "start_time": "2024-04-11T19:47:30.320678",
          "status": "completed"
        },
        "tags": [
          "remove-cell"
        ]
      },
      "outputs": [],
      "source": [
        "import sax\n",
        "import jax.numpy as jnp"
      ]
    },
    {
      "cell_type": "code",
      "execution_count": 2,
      "id": "441ffa75-e5f0-408b-8eee-9d4304ac4c21",
      "metadata": {
        "execution": {
          "iopub.execute_input": "2024-04-11T19:47:31.025785Z",
          "iopub.status.busy": "2024-04-11T19:47:31.025369Z",
          "iopub.status.idle": "2024-04-11T19:47:31.030277Z",
          "shell.execute_reply": "2024-04-11T19:47:31.029713Z"
        },
        "papermill": {
          "duration": 0.0079,
          "end_time": "2024-04-11T19:47:31.031365",
          "exception": false,
          "start_time": "2024-04-11T19:47:31.023465",
          "status": "completed"
        },
        "tags": []
      },
      "outputs": [],
      "source": [
        "def my_coo(*, wl=1.5):\n",
        "    num_input_ports = 4\n",
        "    num_output_ports = 1\n",
        "    pm = {\n",
        "        **{f\"in{i}\": i for i in range(num_input_ports)},\n",
        "        **{f\"out{i}\": i + num_input_ports for i in range(num_output_ports)},\n",
        "    }\n",
        "    thru = jnp.ones(num_input_ports)\n",
        "    i = jnp.arange(0, num_input_ports, 1)\n",
        "    j = jnp.zeros_like(i) + num_input_ports\n",
        "\n",
        "    # make reciprocal\n",
        "    i, j = jnp.concatenate([i, j]), jnp.concatenate([j, i])\n",
        "    thru = jnp.concatenate([thru, thru], 0)\n",
        "    return (i, j, thru, pm)"
      ]
    },
    {
      "cell_type": "code",
      "execution_count": 3,
      "id": "db714fb4-a262-45db-9fed-7f1b4a406c7b",
      "metadata": {
        "execution": {
          "iopub.execute_input": "2024-04-11T19:47:31.034548Z",
          "iopub.status.busy": "2024-04-11T19:47:31.034138Z",
          "iopub.status.idle": "2024-04-11T19:47:31.513753Z",
          "shell.execute_reply": "2024-04-11T19:47:31.513230Z"
        },
        "papermill": {
          "duration": 0.482816,
          "end_time": "2024-04-11T19:47:31.515315",
          "exception": false,
          "start_time": "2024-04-11T19:47:31.032499",
          "status": "completed"
        },
        "tags": []
      },
      "outputs": [],
      "source": [
        "circuit, _ = sax.circuit(\n",
        "    netlist={\n",
        "        \"instances\": {\n",
        "            \"coo\": \"coo\",\n",
        "        },\n",
        "        \"connections\": {},\n",
        "        \"ports\": {\n",
        "            \"in0\": \"coo,in0\",\n",
        "            \"out0\": \"coo,out0\",\n",
        "        },\n",
        "    },\n",
        "    models={\n",
        "        \"coo\": my_coo,\n",
        "    },\n",
        "    backend=\"klu\",\n",
        "    return_type=\"scoo\",\n",
        ")"
      ]
    },
    {
      "cell_type": "code",
      "execution_count": 4,
      "id": "69cfc75e-623c-4171-a296-ea10afbc6afb",
      "metadata": {
        "execution": {
          "iopub.execute_input": "2024-04-11T19:47:31.519278Z",
          "iopub.status.busy": "2024-04-11T19:47:31.518800Z",
          "iopub.status.idle": "2024-04-11T19:47:31.797093Z",
          "shell.execute_reply": "2024-04-11T19:47:31.796463Z"
        },
        "papermill": {
          "duration": 0.281564,
          "end_time": "2024-04-11T19:47:31.798312",
          "exception": false,
          "start_time": "2024-04-11T19:47:31.516748",
          "status": "completed"
        },
        "tags": []
      },
      "outputs": [
        {
          "data": {
            "text/plain": [
              "(Array([0, 0, 1, 1], dtype=int64),\n",
              " Array([0, 1, 0, 1], dtype=int64),\n",
              " Array([0.+0.j, 1.+0.j, 1.+0.j, 0.+0.j], dtype=complex128),\n",
              " {'in0': 0, 'out0': 1})"
            ]
          },
          "execution_count": 4,
          "metadata": {},
          "output_type": "execute_result"
        }
      ],
      "source": [
        "circuit()"
      ]
    },
    {
      "cell_type": "code",
      "execution_count": 5,
      "id": "ef096d6a-6851-4089-b327-7063378a3ed5",
      "metadata": {
        "execution": {
          "iopub.execute_input": "2024-04-11T19:47:31.802301Z",
          "iopub.status.busy": "2024-04-11T19:47:31.801819Z",
          "iopub.status.idle": "2024-04-11T19:47:31.843685Z",
          "shell.execute_reply": "2024-04-11T19:47:31.843092Z"
        },
        "papermill": {
          "duration": 0.045095,
          "end_time": "2024-04-11T19:47:31.844936",
          "exception": false,
          "start_time": "2024-04-11T19:47:31.799841",
          "status": "completed"
        },
        "tags": []
      },
      "outputs": [
        {
          "data": {
            "text/plain": [
              "{('in0', 'in0'): Array(0.+0.j, dtype=complex128),\n",
              " ('in0', 'out0'): Array(1.+0.j, dtype=complex128),\n",
              " ('out0', 'in0'): Array(1.+0.j, dtype=complex128),\n",
              " ('out0', 'out0'): Array(0.+0.j, dtype=complex128)}"
            ]
          },
          "execution_count": 5,
          "metadata": {},
          "output_type": "execute_result"
        }
      ],
      "source": [
        "sax.sdict(circuit())"
      ]
    }
  ],
  "metadata": {
    "kernelspec": {
      "display_name": "Python 3 (ipykernel)",
      "language": "python",
      "name": "python3"
    },
    "language_info": {
      "codemirror_mode": {
        "name": "ipython",
        "version": 3
      },
      "file_extension": ".py",
      "mimetype": "text/x-python",
      "name": "python",
      "nbconvert_exporter": "python",
      "pygments_lexer": "ipython3",
      "version": "3.10.14"
    },
    "papermill": {
      "default_parameters": {},
      "duration": 2.667956,
      "end_time": "2024-04-11T19:47:32.162369",
      "environment_variables": {},
      "exception": null,
      "input_path": "./examples/08_sparse_coo.ipynb",
      "output_path": "./examples/08_sparse_coo.ipynb",
      "parameters": {},
      "start_time": "2024-04-11T19:47:29.494413",
      "version": "2.5.0"
    }
  },
  "nbformat": 4,
  "nbformat_minor": 5
}