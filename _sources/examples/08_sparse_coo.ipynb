{
  "cells": [
    {
      "cell_type": "markdown",
      "id": "0",
      "metadata": {
        "papermill": {
          "duration": 0.001959,
          "end_time": "2025-02-13T09:44:35.411950",
          "exception": false,
          "start_time": "2025-02-13T09:44:35.409991",
          "status": "completed"
        },
        "tags": []
      },
      "source": [
        "# Sparse COO"
      ]
    },
    {
      "cell_type": "markdown",
      "id": "1",
      "metadata": {
        "papermill": {
          "duration": 0.001344,
          "end_time": "2025-02-13T09:44:35.415028",
          "exception": false,
          "start_time": "2025-02-13T09:44:35.413684",
          "status": "completed"
        },
        "tags": []
      },
      "source": [
        "> The most efficient S-representation is the COO representation. It's however also the least user friendly:"
      ]
    },
    {
      "cell_type": "code",
      "execution_count": 1,
      "id": "7ed7382d6d945aac",
      "metadata": {
        "execution": {
          "iopub.execute_input": "2025-02-13T09:44:35.419982Z",
          "iopub.status.busy": "2025-02-13T09:44:35.419526Z",
          "iopub.status.idle": "2025-02-13T09:44:36.421535Z",
          "shell.execute_reply": "2025-02-13T09:44:36.420980Z"
        },
        "papermill": {
          "duration": 1.006251,
          "end_time": "2025-02-13T09:44:36.422673",
          "exception": false,
          "start_time": "2025-02-13T09:44:35.416422",
          "status": "completed"
        },
        "tags": [
          "remove-cell"
        ]
      },
      "outputs": [],
      "source": [
        "import sax\n",
        "import jax.numpy as jnp"
      ]
    },
    {
      "cell_type": "code",
      "execution_count": 2,
      "id": "3",
      "metadata": {
        "execution": {
          "iopub.execute_input": "2025-02-13T09:44:36.425899Z",
          "iopub.status.busy": "2025-02-13T09:44:36.425594Z",
          "iopub.status.idle": "2025-02-13T09:44:36.429339Z",
          "shell.execute_reply": "2025-02-13T09:44:36.428813Z"
        },
        "papermill": {
          "duration": 0.006247,
          "end_time": "2025-02-13T09:44:36.430244",
          "exception": false,
          "start_time": "2025-02-13T09:44:36.423997",
          "status": "completed"
        },
        "tags": []
      },
      "outputs": [],
      "source": [
        "def my_coo(*, wl=1.5):\n",
        "    num_input_ports = 4\n",
        "    num_output_ports = 1\n",
        "    pm = {\n",
        "        **{f\"in{i}\": i for i in range(num_input_ports)},\n",
        "        **{f\"out{i}\": i + num_input_ports for i in range(num_output_ports)},\n",
        "    }\n",
        "    thru = jnp.ones(num_input_ports)\n",
        "    i = jnp.arange(0, num_input_ports, 1)\n",
        "    j = jnp.zeros_like(i) + num_input_ports\n",
        "\n",
        "    # make reciprocal\n",
        "    i, j = jnp.concatenate([i, j]), jnp.concatenate([j, i])\n",
        "    thru = jnp.concatenate([thru, thru], 0)\n",
        "    return (i, j, thru, pm)"
      ]
    },
    {
      "cell_type": "code",
      "execution_count": 3,
      "id": "4",
      "metadata": {
        "execution": {
          "iopub.execute_input": "2025-02-13T09:44:36.433171Z",
          "iopub.status.busy": "2025-02-13T09:44:36.433004Z",
          "iopub.status.idle": "2025-02-13T09:44:37.114576Z",
          "shell.execute_reply": "2025-02-13T09:44:37.114001Z"
        },
        "papermill": {
          "duration": 0.687374,
          "end_time": "2025-02-13T09:44:37.118711",
          "exception": false,
          "start_time": "2025-02-13T09:44:36.431337",
          "status": "completed"
        },
        "tags": []
      },
      "outputs": [],
      "source": [
        "circuit, _ = sax.circuit(\n",
        "    netlist={\n",
        "        \"instances\": {\n",
        "            \"coo\": \"coo\",\n",
        "        },\n",
        "        \"connections\": {},\n",
        "        \"ports\": {\n",
        "            \"in0\": \"coo,in0\",\n",
        "            \"out0\": \"coo,out0\",\n",
        "        },\n",
        "    },\n",
        "    models={\n",
        "        \"coo\": my_coo,\n",
        "    },\n",
        "    backend=\"klu\",\n",
        "    return_type=\"scoo\",\n",
        ")"
      ]
    },
    {
      "cell_type": "code",
      "execution_count": 4,
      "id": "5",
      "metadata": {
        "execution": {
          "iopub.execute_input": "2025-02-13T09:44:37.124858Z",
          "iopub.status.busy": "2025-02-13T09:44:37.124602Z",
          "iopub.status.idle": "2025-02-13T09:44:37.512479Z",
          "shell.execute_reply": "2025-02-13T09:44:37.511822Z"
        },
        "papermill": {
          "duration": 0.391606,
          "end_time": "2025-02-13T09:44:37.513517",
          "exception": false,
          "start_time": "2025-02-13T09:44:37.121911",
          "status": "completed"
        },
        "tags": []
      },
      "outputs": [
        {
          "data": {
            "text/plain": [
              "(Array([0, 0, 1, 1], dtype=int64),\n",
              " Array([0, 1, 0, 1], dtype=int64),\n",
              " Array([0.+0.j, 1.+0.j, 1.+0.j, 0.+0.j], dtype=complex128),\n",
              " {'in0': 0, 'out0': 1})"
            ]
          },
          "execution_count": 4,
          "metadata": {},
          "output_type": "execute_result"
        }
      ],
      "source": [
        "circuit()"
      ]
    },
    {
      "cell_type": "code",
      "execution_count": 5,
      "id": "6",
      "metadata": {
        "execution": {
          "iopub.execute_input": "2025-02-13T09:44:37.518678Z",
          "iopub.status.busy": "2025-02-13T09:44:37.518492Z",
          "iopub.status.idle": "2025-02-13T09:44:37.576352Z",
          "shell.execute_reply": "2025-02-13T09:44:37.575830Z"
        },
        "papermill": {
          "duration": 0.062371,
          "end_time": "2025-02-13T09:44:37.577501",
          "exception": false,
          "start_time": "2025-02-13T09:44:37.515130",
          "status": "completed"
        },
        "tags": []
      },
      "outputs": [
        {
          "data": {
            "text/plain": [
              "{('in0', 'in0'): Array(0.+0.j, dtype=complex128),\n",
              " ('in0', 'out0'): Array(1.+0.j, dtype=complex128),\n",
              " ('out0', 'in0'): Array(1.+0.j, dtype=complex128),\n",
              " ('out0', 'out0'): Array(0.+0.j, dtype=complex128)}"
            ]
          },
          "execution_count": 5,
          "metadata": {},
          "output_type": "execute_result"
        }
      ],
      "source": [
        "sax.sdict(circuit())"
      ]
    }
  ],
  "metadata": {
    "kernelspec": {
      "display_name": "Python 3 (ipykernel)",
      "language": "python",
      "name": "python3"
    },
    "language_info": {
      "codemirror_mode": {
        "name": "ipython",
        "version": 3
      },
      "file_extension": ".py",
      "mimetype": "text/x-python",
      "name": "python",
      "nbconvert_exporter": "python",
      "pygments_lexer": "ipython3",
      "version": "3.12.3"
    },
    "papermill": {
      "default_parameters": {},
      "duration": 3.830808,
      "end_time": "2025-02-13T09:44:38.198695",
      "environment_variables": {},
      "exception": null,
      "input_path": "./examples/08_sparse_coo.ipynb",
      "output_path": "./examples/08_sparse_coo.ipynb",
      "parameters": {},
      "start_time": "2025-02-13T09:44:34.367887",
      "version": "2.6.0"
    }
  },
  "nbformat": 4,
  "nbformat_minor": 5
}