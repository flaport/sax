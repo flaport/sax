{
  "cells": [
    {
      "cell_type": "markdown",
      "id": "a234aed9",
      "metadata": {
        "papermill": {
          "duration": 0.002455,
          "end_time": "2024-06-17T21:20:29.202395",
          "exception": false,
          "start_time": "2024-06-17T21:20:29.199940",
          "status": "completed"
        },
        "tags": []
      },
      "source": [
        "# Simulating an All-Pass Filter\n",
        "> A simple comparison between an analytical evaluation of an all pass filter and using SAX."
      ]
    },
    {
      "cell_type": "code",
      "execution_count": 1,
      "id": "f8a6a944",
      "metadata": {
        "execution": {
          "iopub.execute_input": "2024-06-17T21:20:29.207295Z",
          "iopub.status.busy": "2024-06-17T21:20:29.206732Z",
          "iopub.status.idle": "2024-06-17T21:20:30.224581Z",
          "shell.execute_reply": "2024-06-17T21:20:30.223925Z"
        },
        "papermill": {
          "duration": 1.022128,
          "end_time": "2024-06-17T21:20:30.226216",
          "exception": false,
          "start_time": "2024-06-17T21:20:29.204088",
          "status": "completed"
        },
        "tags": []
      },
      "outputs": [],
      "source": [
        "import jax\n",
        "import jax.numpy as jnp\n",
        "import matplotlib.pyplot as plt\n",
        "import sax"
      ]
    },
    {
      "cell_type": "markdown",
      "id": "d9d87eef",
      "metadata": {
        "papermill": {
          "duration": 0.00174,
          "end_time": "2024-06-17T21:20:30.229835",
          "exception": false,
          "start_time": "2024-06-17T21:20:30.228095",
          "status": "completed"
        },
        "tags": []
      },
      "source": [
        "## Schematic\n",
        "```\n",
        "\n",
        "           in0---out0\n",
        "        in1          out1\n",
        "           \\        /\n",
        "            ========\n",
        "           /        \\\n",
        " in0 <- in0          out0 -> out0\n",
        "```"
      ]
    },
    {
      "cell_type": "markdown",
      "id": "3847a061",
      "metadata": {
        "papermill": {
          "duration": 0.001453,
          "end_time": "2024-06-17T21:20:30.232801",
          "exception": false,
          "start_time": "2024-06-17T21:20:30.231348",
          "status": "completed"
        },
        "tags": []
      },
      "source": [
        "## Simulation & Design Parameters"
      ]
    },
    {
      "cell_type": "code",
      "execution_count": 2,
      "id": "03d546d8",
      "metadata": {
        "execution": {
          "iopub.execute_input": "2024-06-17T21:20:30.236885Z",
          "iopub.status.busy": "2024-06-17T21:20:30.236581Z",
          "iopub.status.idle": "2024-06-17T21:20:30.290940Z",
          "shell.execute_reply": "2024-06-17T21:20:30.290302Z"
        },
        "papermill": {
          "duration": 0.058193,
          "end_time": "2024-06-17T21:20:30.292507",
          "exception": false,
          "start_time": "2024-06-17T21:20:30.234314",
          "status": "completed"
        },
        "tags": []
      },
      "outputs": [],
      "source": [
        "loss = 0.1  # [dB/\u03bcm] (alpha) waveguide loss\n",
        "neff = 2.34  # Effective index of the waveguides\n",
        "ng = 3.4  # Group index of the waveguides\n",
        "wl0 = 1.55  # [\u03bcm] the wavelength at which neff and ng are defined\n",
        "ring_length = 10.0  # [\u03bcm] Length of the ring\n",
        "coupling = 0.5  # [] coupling of the coupler\n",
        "wl = jnp.linspace(1.5, 1.6, 1000)  # [\u03bcm] Wavelengths to sweep over"
      ]
    },
    {
      "cell_type": "markdown",
      "id": "8c463584",
      "metadata": {
        "papermill": {
          "duration": 0.001565,
          "end_time": "2024-06-17T21:20:30.295790",
          "exception": false,
          "start_time": "2024-06-17T21:20:30.294225",
          "status": "completed"
        },
        "tags": []
      },
      "source": [
        "## Frequency Domain Analytically"
      ]
    },
    {
      "cell_type": "markdown",
      "id": "9e171871",
      "metadata": {
        "papermill": {
          "duration": 0.001459,
          "end_time": "2024-06-17T21:20:30.298745",
          "exception": false,
          "start_time": "2024-06-17T21:20:30.297286",
          "status": "completed"
        },
        "tags": []
      },
      "source": [
        "As a comparison, we first calculate the frequency domain response for the all-pass filter analytically:\n",
        "\\begin{align*}\n",
        "o = \\frac{t-10^{-\\alpha L/20}\\exp(2\\pi j n_{\\rm eff}(\\lambda) L / \\lambda)}{1-t10^{-\\alpha L/20}\\exp(2\\pi j n_{\\rm eff}(\\lambda) L / \\lambda)}s\n",
        "\\end{align*}"
      ]
    },
    {
      "cell_type": "code",
      "execution_count": 3,
      "id": "48031239",
      "metadata": {
        "execution": {
          "iopub.execute_input": "2024-06-17T21:20:30.303029Z",
          "iopub.status.busy": "2024-06-17T21:20:30.302549Z",
          "iopub.status.idle": "2024-06-17T21:20:30.306882Z",
          "shell.execute_reply": "2024-06-17T21:20:30.306318Z"
        },
        "papermill": {
          "duration": 0.007695,
          "end_time": "2024-06-17T21:20:30.307999",
          "exception": false,
          "start_time": "2024-06-17T21:20:30.300304",
          "status": "completed"
        },
        "tags": []
      },
      "outputs": [],
      "source": [
        "def all_pass_analytical():\n",
        "    \"\"\"Analytic Frequency Domain Response of an all pass filter\"\"\"\n",
        "    detected = jnp.zeros_like(wl)\n",
        "    transmission = 1 - coupling\n",
        "    neff_wl = (\n",
        "        neff + (wl0 - wl) * (ng - neff) / wl0\n",
        "    )  # we expect a linear behavior with respect to wavelength\n",
        "    out = jnp.sqrt(transmission) - 10 ** (-loss * ring_length / 20.0) * jnp.exp(\n",
        "        2j * jnp.pi * neff_wl * ring_length / wl\n",
        "    )\n",
        "    out /= 1 - jnp.sqrt(transmission) * 10 ** (-loss * ring_length / 20.0) * jnp.exp(\n",
        "        2j * jnp.pi * neff_wl * ring_length / wl\n",
        "    )\n",
        "    detected = abs(out) ** 2\n",
        "    return detected"
      ]
    },
    {
      "cell_type": "code",
      "execution_count": 4,
      "id": "cb39b703",
      "metadata": {
        "execution": {
          "iopub.execute_input": "2024-06-17T21:20:30.312263Z",
          "iopub.status.busy": "2024-06-17T21:20:30.311897Z",
          "iopub.status.idle": "2024-06-17T21:20:30.964454Z",
          "shell.execute_reply": "2024-06-17T21:20:30.963801Z"
        },
        "papermill": {
          "duration": 0.656037,
          "end_time": "2024-06-17T21:20:30.965584",
          "exception": false,
          "start_time": "2024-06-17T21:20:30.309547",
          "status": "completed"
        },
        "tags": []
      },
      "outputs": [
        {
          "name": "stdout",
          "output_type": "stream",
          "text": [
            "CPU times: user 239 ms, sys: 7.86 ms, total: 247 ms\n",
            "Wall time: 246 ms\n",
            "CPU times: user 26.4 ms, sys: 195 \u03bcs, total: 26.6 ms\n",
            "Wall time: 24.7 ms\n",
            "CPU times: user 21 \u03bcs, sys: 2 \u03bcs, total: 23 \u03bcs\n",
            "Wall time: 24.3 \u03bcs\n"
          ]
        },
        {
          "data": {
            "image/png": "[encoded data removed]",
            "text/plain": [
              "<Figure size 640x480 with 1 Axes>"
            ]
          },
          "metadata": {},
          "output_type": "display_data"
        }
      ],
      "source": [
        "%time detected = all_pass_analytical() # non-jitted evaluation time\n",
        "all_pass_analytical_jitted = jax.jit(all_pass_analytical)\n",
        "%time detected = all_pass_analytical_jitted() # time to jit\n",
        "%time detected = all_pass_analytical_jitted() # evaluation time after jitting\n",
        "\n",
        "plt.plot(wl * 1e3, detected)\n",
        "plt.xlabel(\"\u03bb [nm]\")\n",
        "plt.ylabel(\"T\")\n",
        "plt.show()"
      ]
    },
    {
      "cell_type": "markdown",
      "id": "11219941",
      "metadata": {
        "papermill": {
          "duration": 0.00199,
          "end_time": "2024-06-17T21:20:30.969806",
          "exception": false,
          "start_time": "2024-06-17T21:20:30.967816",
          "status": "completed"
        },
        "tags": []
      },
      "source": [
        "## Scatter Dictionaries"
      ]
    },
    {
      "cell_type": "code",
      "execution_count": 5,
      "id": "5957b3f3",
      "metadata": {
        "execution": {
          "iopub.execute_input": "2024-06-17T21:20:30.974439Z",
          "iopub.status.busy": "2024-06-17T21:20:30.974119Z",
          "iopub.status.idle": "2024-06-17T21:20:31.596813Z",
          "shell.execute_reply": "2024-06-17T21:20:31.596202Z"
        },
        "papermill": {
          "duration": 0.62674,
          "end_time": "2024-06-17T21:20:31.598370",
          "exception": false,
          "start_time": "2024-06-17T21:20:30.971630",
          "status": "completed"
        },
        "tags": []
      },
      "outputs": [],
      "source": [
        "all_pass_sax, _ = sax.circuit(\n",
        "    netlist={\n",
        "        \"instances\": {\n",
        "            \"dc\": {\"component\": \"coupler\", \"settings\": {\"coupling\": coupling}},\n",
        "            \"top\": {\n",
        "                \"component\": \"straight\",\n",
        "                \"settings\": {\n",
        "                    \"length\": ring_length,\n",
        "                    \"loss\": loss,\n",
        "                    \"neff\": neff,\n",
        "                    \"ng\": ng,\n",
        "                    \"wl0\": wl0,\n",
        "                    \"wl\": wl,\n",
        "                },\n",
        "            },\n",
        "        },\n",
        "        \"connections\": {\n",
        "            \"dc,out1\": \"top,in0\",\n",
        "            \"top,out0\": \"dc,in1\",\n",
        "        },\n",
        "        \"ports\": {\n",
        "            \"in0\": \"dc,in0\",\n",
        "            \"out0\": \"dc,out0\",\n",
        "        },\n",
        "    },\n",
        "    models={\n",
        "        \"coupler\": sax.models.coupler,\n",
        "        \"straight\": sax.models.straight,\n",
        "    },\n",
        ")"
      ]
    },
    {
      "cell_type": "code",
      "execution_count": 6,
      "id": "1702182a",
      "metadata": {
        "execution": {
          "iopub.execute_input": "2024-06-17T21:20:31.604019Z",
          "iopub.status.busy": "2024-06-17T21:20:31.603588Z",
          "iopub.status.idle": "2024-06-17T21:20:32.039803Z",
          "shell.execute_reply": "2024-06-17T21:20:32.039073Z"
        },
        "papermill": {
          "duration": 0.440448,
          "end_time": "2024-06-17T21:20:32.041125",
          "exception": false,
          "start_time": "2024-06-17T21:20:31.600677",
          "status": "completed"
        },
        "tags": []
      },
      "outputs": [
        {
          "name": "stdout",
          "output_type": "stream",
          "text": [
            "CPU times: user 324 ms, sys: 12 ms, total: 336 ms\n",
            "Wall time: 332 ms\n",
            "CPU times: user 55 \u03bcs, sys: 4 \u03bcs, total: 59 \u03bcs\n",
            "Wall time: 61.5 \u03bcs\n",
            "CPU times: user 29 \u03bcs, sys: 1 \u03bcs, total: 30 \u03bcs\n",
            "Wall time: 33.6 \u03bcs\n"
          ]
        },
        {
          "data": {
            "image/png": "[encoded data removed]",
            "text/plain": [
              "<Figure size 640x480 with 1 Axes>"
            ]
          },
          "metadata": {},
          "output_type": "display_data"
        }
      ],
      "source": [
        "%time detected_sax = all_pass_sax() # non-jitted evaluation time\n",
        "all_pass_sax_jitted = jax.jit(all_pass_analytical)\n",
        "%time detected_sax = all_pass_sax_jitted() # time to jit\n",
        "%time detected_sax = all_pass_sax_jitted() # time after jitting\n",
        "\n",
        "plt.plot(wl * 1e3, detected, label=\"analytical\")\n",
        "plt.plot(wl * 1e3, detected_sax, label=\"sax\", ls=\"--\", lw=3)\n",
        "plt.xlabel(\"\u03bb [nm]\")\n",
        "plt.ylabel(\"T\")\n",
        "plt.show()"
      ]
    }
  ],
  "metadata": {
    "kernelspec": {
      "display_name": "Python 3 (ipykernel)",
      "language": "python",
      "name": "python3"
    },
    "language_info": {
      "codemirror_mode": {
        "name": "ipython",
        "version": 3
      },
      "file_extension": ".py",
      "mimetype": "text/x-python",
      "name": "python",
      "nbconvert_exporter": "python",
      "pygments_lexer": "ipython3",
      "version": "3.10.14"
    },
    "papermill": {
      "default_parameters": {},
      "duration": 4.190931,
      "end_time": "2024-06-17T21:20:32.562012",
      "environment_variables": {},
      "exception": null,
      "input_path": "./examples/02_all_pass_filter.ipynb",
      "output_path": "./examples/02_all_pass_filter.ipynb",
      "parameters": {},
      "start_time": "2024-06-17T21:20:28.371081",
      "version": "2.6.0"
    }
  },
  "nbformat": 4,
  "nbformat_minor": 5
}