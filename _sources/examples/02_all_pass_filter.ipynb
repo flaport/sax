{
  "cells": [
    {
      "cell_type": "markdown",
      "id": "0",
      "metadata": {
        "papermill": {
          "duration": 0.002996,
          "end_time": "2025-02-13T09:44:20.631609",
          "exception": false,
          "start_time": "2025-02-13T09:44:20.628613",
          "status": "completed"
        },
        "tags": []
      },
      "source": [
        "# Simulating an All-Pass Filter\n",
        "> A simple comparison between an analytical evaluation of an all pass filter and using SAX."
      ]
    },
    {
      "cell_type": "code",
      "execution_count": 1,
      "id": "1",
      "metadata": {
        "execution": {
          "iopub.execute_input": "2025-02-13T09:44:20.638508Z",
          "iopub.status.busy": "2025-02-13T09:44:20.638055Z",
          "iopub.status.idle": "2025-02-13T09:44:22.330502Z",
          "shell.execute_reply": "2025-02-13T09:44:22.329908Z"
        },
        "papermill": {
          "duration": 1.697434,
          "end_time": "2025-02-13T09:44:22.331739",
          "exception": false,
          "start_time": "2025-02-13T09:44:20.634305",
          "status": "completed"
        },
        "tags": []
      },
      "outputs": [],
      "source": [
        "import jax\n",
        "import jax.numpy as jnp\n",
        "import matplotlib.pyplot as plt\n",
        "import sax"
      ]
    },
    {
      "cell_type": "markdown",
      "id": "2",
      "metadata": {
        "papermill": {
          "duration": 0.00198,
          "end_time": "2025-02-13T09:44:22.336173",
          "exception": false,
          "start_time": "2025-02-13T09:44:22.334193",
          "status": "completed"
        },
        "tags": []
      },
      "source": [
        "## Schematic\n",
        "```\n",
        "\n",
        "           in0---out0\n",
        "        in1          out1\n",
        "           \\        /\n",
        "            ========\n",
        "           /        \\\n",
        " in0 <- in0          out0 -> out0\n",
        "```"
      ]
    },
    {
      "cell_type": "markdown",
      "id": "3",
      "metadata": {
        "papermill": {
          "duration": 0.001927,
          "end_time": "2025-02-13T09:44:22.340086",
          "exception": false,
          "start_time": "2025-02-13T09:44:22.338159",
          "status": "completed"
        },
        "tags": []
      },
      "source": [
        "## Simulation & Design Parameters"
      ]
    },
    {
      "cell_type": "code",
      "execution_count": 2,
      "id": "4",
      "metadata": {
        "execution": {
          "iopub.execute_input": "2025-02-13T09:44:22.346899Z",
          "iopub.status.busy": "2025-02-13T09:44:22.346269Z",
          "iopub.status.idle": "2025-02-13T09:44:22.429762Z",
          "shell.execute_reply": "2025-02-13T09:44:22.429255Z"
        },
        "papermill": {
          "duration": 0.08899,
          "end_time": "2025-02-13T09:44:22.431066",
          "exception": false,
          "start_time": "2025-02-13T09:44:22.342076",
          "status": "completed"
        },
        "tags": []
      },
      "outputs": [],
      "source": [
        "loss = 0.1  # [dB/\u03bcm] (alpha) waveguide loss\n",
        "neff = 2.34  # Effective index of the waveguides\n",
        "ng = 3.4  # Group index of the waveguides\n",
        "wl0 = 1.55  # [\u03bcm] the wavelength at which neff and ng are defined\n",
        "ring_length = 10.0  # [\u03bcm] Length of the ring\n",
        "coupling = 0.5  # [] coupling of the coupler\n",
        "wl = jnp.linspace(1.5, 1.6, 1000)  # [\u03bcm] Wavelengths to sweep over"
      ]
    },
    {
      "cell_type": "markdown",
      "id": "5",
      "metadata": {
        "papermill": {
          "duration": 0.00228,
          "end_time": "2025-02-13T09:44:22.436634",
          "exception": false,
          "start_time": "2025-02-13T09:44:22.434354",
          "status": "completed"
        },
        "tags": []
      },
      "source": [
        "## Frequency Domain Analytically"
      ]
    },
    {
      "cell_type": "markdown",
      "id": "6",
      "metadata": {
        "papermill": {
          "duration": 0.00231,
          "end_time": "2025-02-13T09:44:22.441499",
          "exception": false,
          "start_time": "2025-02-13T09:44:22.439189",
          "status": "completed"
        },
        "tags": []
      },
      "source": [
        "As a comparison, we first calculate the frequency domain response for the all-pass filter analytically:\n",
        "\\begin{align*}\n",
        "o = \\frac{t-10^{-\\alpha L/20}\\exp(2\\pi j n_{\\rm eff}(\\lambda) L / \\lambda)}{1-t10^{-\\alpha L/20}\\exp(2\\pi j n_{\\rm eff}(\\lambda) L / \\lambda)}s\n",
        "\\end{align*}"
      ]
    },
    {
      "cell_type": "code",
      "execution_count": 3,
      "id": "7",
      "metadata": {
        "execution": {
          "iopub.execute_input": "2025-02-13T09:44:22.447562Z",
          "iopub.status.busy": "2025-02-13T09:44:22.447218Z",
          "iopub.status.idle": "2025-02-13T09:44:22.452657Z",
          "shell.execute_reply": "2025-02-13T09:44:22.452094Z"
        },
        "papermill": {
          "duration": 0.009966,
          "end_time": "2025-02-13T09:44:22.453896",
          "exception": false,
          "start_time": "2025-02-13T09:44:22.443930",
          "status": "completed"
        },
        "tags": []
      },
      "outputs": [],
      "source": [
        "def all_pass_analytical():\n",
        "    \"\"\"Analytic Frequency Domain Response of an all pass filter\"\"\"\n",
        "    detected = jnp.zeros_like(wl)\n",
        "    transmission = 1 - coupling\n",
        "    neff_wl = (\n",
        "        neff + (wl0 - wl) * (ng - neff) / wl0\n",
        "    )  # we expect a linear behavior with respect to wavelength\n",
        "    out = jnp.sqrt(transmission) - 10 ** (-loss * ring_length / 20.0) * jnp.exp(\n",
        "        2j * jnp.pi * neff_wl * ring_length / wl\n",
        "    )\n",
        "    out /= 1 - jnp.sqrt(transmission) * 10 ** (-loss * ring_length / 20.0) * jnp.exp(\n",
        "        2j * jnp.pi * neff_wl * ring_length / wl\n",
        "    )\n",
        "    detected = abs(out) ** 2\n",
        "    return detected"
      ]
    },
    {
      "cell_type": "code",
      "execution_count": 4,
      "id": "8",
      "metadata": {
        "execution": {
          "iopub.execute_input": "2025-02-13T09:44:22.460072Z",
          "iopub.status.busy": "2025-02-13T09:44:22.459838Z",
          "iopub.status.idle": "2025-02-13T09:44:23.087100Z",
          "shell.execute_reply": "2025-02-13T09:44:23.086500Z"
        },
        "papermill": {
          "duration": 0.63179,
          "end_time": "2025-02-13T09:44:23.088495",
          "exception": false,
          "start_time": "2025-02-13T09:44:22.456705",
          "status": "completed"
        },
        "tags": []
      },
      "outputs": [
        {
          "name": "stdout",
          "output_type": "stream",
          "text": [
            "CPU times: user 336 ms, sys: 17.6 ms, total: 353 ms\n",
            "Wall time: 376 ms\n",
            "CPU times: user 36 ms, sys: 925 \u03bcs, total: 36.9 ms\n",
            "Wall time: 46.3 ms\n",
            "CPU times: user 31 \u03bcs, sys: 3 \u03bcs, total: 34 \u03bcs\n",
            "Wall time: 37.2 \u03bcs\n"
          ]
        },
        {
          "data": {
            "image/png": "[encoded data removed]",
            "text/plain": [
              "<Figure size 640x480 with 1 Axes>"
            ]
          },
          "metadata": {},
          "output_type": "display_data"
        }
      ],
      "source": [
        "%time detected = all_pass_analytical() # non-jitted evaluation time\n",
        "all_pass_analytical_jitted = jax.jit(all_pass_analytical)\n",
        "%time detected = all_pass_analytical_jitted() # time to jit\n",
        "%time detected = all_pass_analytical_jitted() # evaluation time after jitting\n",
        "\n",
        "plt.plot(wl * 1e3, detected)\n",
        "plt.xlabel(\"\u03bb [nm]\")\n",
        "plt.ylabel(\"T\")\n",
        "plt.show()"
      ]
    },
    {
      "cell_type": "markdown",
      "id": "9",
      "metadata": {
        "papermill": {
          "duration": 0.016625,
          "end_time": "2025-02-13T09:44:23.116488",
          "exception": false,
          "start_time": "2025-02-13T09:44:23.099863",
          "status": "completed"
        },
        "tags": []
      },
      "source": [
        "## Scatter Dictionaries"
      ]
    },
    {
      "cell_type": "code",
      "execution_count": 5,
      "id": "10",
      "metadata": {
        "execution": {
          "iopub.execute_input": "2025-02-13T09:44:23.131245Z",
          "iopub.status.busy": "2025-02-13T09:44:23.129904Z",
          "iopub.status.idle": "2025-02-13T09:44:24.144667Z",
          "shell.execute_reply": "2025-02-13T09:44:24.143964Z"
        },
        "papermill": {
          "duration": 1.02055,
          "end_time": "2025-02-13T09:44:24.146152",
          "exception": false,
          "start_time": "2025-02-13T09:44:23.125602",
          "status": "completed"
        },
        "tags": []
      },
      "outputs": [],
      "source": [
        "all_pass_sax, _ = sax.circuit(\n",
        "    netlist={\n",
        "        \"instances\": {\n",
        "            \"dc\": {\"component\": \"coupler\", \"settings\": {\"coupling\": coupling}},\n",
        "            \"top\": {\n",
        "                \"component\": \"straight\",\n",
        "                \"settings\": {\n",
        "                    \"length\": ring_length,\n",
        "                    \"loss\": loss,\n",
        "                    \"neff\": neff,\n",
        "                    \"ng\": ng,\n",
        "                    \"wl0\": wl0,\n",
        "                    \"wl\": wl,\n",
        "                },\n",
        "            },\n",
        "        },\n",
        "        \"connections\": {\n",
        "            \"dc,out1\": \"top,in0\",\n",
        "            \"top,out0\": \"dc,in1\",\n",
        "        },\n",
        "        \"ports\": {\n",
        "            \"in0\": \"dc,in0\",\n",
        "            \"out0\": \"dc,out0\",\n",
        "        },\n",
        "    },\n",
        "    models={\n",
        "        \"coupler\": sax.models.coupler,\n",
        "        \"straight\": sax.models.straight,\n",
        "    },\n",
        ")"
      ]
    },
    {
      "cell_type": "code",
      "execution_count": 6,
      "id": "11",
      "metadata": {
        "execution": {
          "iopub.execute_input": "2025-02-13T09:44:24.262329Z",
          "iopub.status.busy": "2025-02-13T09:44:24.262000Z",
          "iopub.status.idle": "2025-02-13T09:44:24.815551Z",
          "shell.execute_reply": "2025-02-13T09:44:24.814966Z"
        },
        "papermill": {
          "duration": 0.658129,
          "end_time": "2025-02-13T09:44:24.817181",
          "exception": false,
          "start_time": "2025-02-13T09:44:24.159052",
          "status": "completed"
        },
        "tags": []
      },
      "outputs": [
        {
          "name": "stdout",
          "output_type": "stream",
          "text": [
            "CPU times: user 413 ms, sys: 19.5 ms, total: 433 ms\n",
            "Wall time: 439 ms\n",
            "CPU times: user 39 \u03bcs, sys: 3 \u03bcs, total: 42 \u03bcs\n",
            "Wall time: 45.3 \u03bcs\n",
            "CPU times: user 27 \u03bcs, sys: 2 \u03bcs, total: 29 \u03bcs\n",
            "Wall time: 32.9 \u03bcs\n"
          ]
        },
        {
          "data": {
            "image/png": "[encoded data removed]",
            "text/plain": [
              "<Figure size 640x480 with 1 Axes>"
            ]
          },
          "metadata": {},
          "output_type": "display_data"
        }
      ],
      "source": [
        "%time detected_sax = all_pass_sax() # non-jitted evaluation time\n",
        "all_pass_sax_jitted = jax.jit(all_pass_analytical)\n",
        "%time detected_sax = all_pass_sax_jitted() # time to jit\n",
        "%time detected_sax = all_pass_sax_jitted() # time after jitting\n",
        "\n",
        "plt.plot(wl * 1e3, detected, label=\"analytical\")\n",
        "plt.plot(wl * 1e3, detected_sax, label=\"sax\", ls=\"--\", lw=3)\n",
        "plt.xlabel(\"\u03bb [nm]\")\n",
        "plt.ylabel(\"T\")\n",
        "plt.show()"
      ]
    }
  ],
  "metadata": {
    "kernelspec": {
      "display_name": "Python 3 (ipykernel)",
      "language": "python",
      "name": "python3"
    },
    "language_info": {
      "codemirror_mode": {
        "name": "ipython",
        "version": 3
      },
      "file_extension": ".py",
      "mimetype": "text/x-python",
      "name": "python",
      "nbconvert_exporter": "python",
      "pygments_lexer": "ipython3",
      "version": "3.12.3"
    },
    "papermill": {
      "default_parameters": {},
      "duration": 6.538826,
      "end_time": "2025-02-13T09:44:25.990337",
      "environment_variables": {},
      "exception": null,
      "input_path": "./examples/02_all_pass_filter.ipynb",
      "output_path": "./examples/02_all_pass_filter.ipynb",
      "parameters": {},
      "start_time": "2025-02-13T09:44:19.451511",
      "version": "2.6.0"
    }
  },
  "nbformat": 4,
  "nbformat_minor": 5
}