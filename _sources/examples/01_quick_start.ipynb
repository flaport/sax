{
  "cells": [
    {
      "cell_type": "markdown",
      "id": "ab894499",
      "metadata": {
        "papermill": {
          "duration": 0.006148,
          "end_time": "2024-06-17T20:18:10.212798",
          "exception": false,
          "start_time": "2024-06-17T20:18:10.206650",
          "status": "completed"
        },
        "tags": []
      },
      "source": [
        "# SAX Quick Start\n",
        "> Let's go over the core functionality of SAX."
      ]
    },
    {
      "cell_type": "markdown",
      "id": "3c91396d",
      "metadata": {
        "papermill": {
          "duration": 0.005018,
          "end_time": "2024-06-17T20:18:10.223203",
          "exception": false,
          "start_time": "2024-06-17T20:18:10.218185",
          "status": "completed"
        },
        "tags": []
      },
      "source": [
        "## Environment variables"
      ]
    },
    {
      "cell_type": "markdown",
      "id": "79240f32",
      "metadata": {
        "papermill": {
          "duration": 0.0049,
          "end_time": "2024-06-17T20:18:10.233111",
          "exception": false,
          "start_time": "2024-06-17T20:18:10.228211",
          "status": "completed"
        },
        "tags": []
      },
      "source": [
        "SAX is based on JAX... here are some useful environment variables for working with JAX:"
      ]
    },
    {
      "cell_type": "code",
      "execution_count": 1,
      "id": "061dd62396394166",
      "metadata": {
        "execution": {
          "iopub.execute_input": "2024-06-17T20:18:10.244482Z",
          "iopub.status.busy": "2024-06-17T20:18:10.244013Z",
          "iopub.status.idle": "2024-06-17T20:18:10.614267Z",
          "shell.execute_reply": "2024-06-17T20:18:10.613610Z"
        },
        "papermill": {
          "duration": 0.377478,
          "end_time": "2024-06-17T20:18:10.615524",
          "exception": false,
          "start_time": "2024-06-17T20:18:10.238046",
          "status": "completed"
        },
        "tags": []
      },
      "outputs": [
        {
          "name": "stdout",
          "output_type": "stream",
          "text": [
            "env: JAX_ENABLE_X64=0\n",
            "env: JAX_PLATFORM_NAME=cpu\n",
            "env: XLA_FLAGS=--xla_gpu_cuda_data_dir=/usr/lib/cuda\n"
          ]
        },
        {
          "name": "stdout",
          "output_type": "stream",
          "text": [
            "cpu\n"
          ]
        }
      ],
      "source": [
        "# select float32 or float64 as default dtype\n",
        "%env JAX_ENABLE_X64=0\n",
        "\n",
        "# select cpu or gpu\n",
        "%env JAX_PLATFORM_NAME=cpu\n",
        "\n",
        "# set custom CUDA location for gpu:\n",
        "%env XLA_FLAGS=--xla_gpu_cuda_data_dir=/usr/lib/cuda\n",
        "\n",
        "# Using GPU?\n",
        "from jax.lib import xla_bridge\n",
        "\n",
        "print(xla_bridge.get_backend().platform)"
      ]
    },
    {
      "cell_type": "markdown",
      "id": "4938b729-8b27-406f-b5fd-e118a9fb39f1",
      "metadata": {
        "papermill": {
          "duration": 0.005602,
          "end_time": "2024-06-17T20:18:10.626693",
          "exception": false,
          "start_time": "2024-06-17T20:18:10.621091",
          "status": "completed"
        },
        "tags": []
      },
      "source": [
        "## Imports"
      ]
    },
    {
      "cell_type": "code",
      "execution_count": 2,
      "id": "e0450fde",
      "metadata": {
        "execution": {
          "iopub.execute_input": "2024-06-17T20:18:10.638587Z",
          "iopub.status.busy": "2024-06-17T20:18:10.637951Z",
          "iopub.status.idle": "2024-06-17T20:18:11.318095Z",
          "shell.execute_reply": "2024-06-17T20:18:11.317417Z"
        },
        "papermill": {
          "duration": 0.687971,
          "end_time": "2024-06-17T20:18:11.319780",
          "exception": false,
          "start_time": "2024-06-17T20:18:10.631809",
          "status": "completed"
        },
        "tags": []
      },
      "outputs": [],
      "source": [
        "import jax\n",
        "import jax.example_libraries.optimizers as opt\n",
        "import jax.numpy as jnp\n",
        "import matplotlib.pyplot as plt  # plotting\n",
        "import sax\n",
        "from tqdm.notebook import trange"
      ]
    },
    {
      "cell_type": "markdown",
      "id": "8c4d4c4e",
      "metadata": {
        "papermill": {
          "duration": 0.005528,
          "end_time": "2024-06-17T20:18:11.331063",
          "exception": false,
          "start_time": "2024-06-17T20:18:11.325535",
          "status": "completed"
        },
        "tags": []
      },
      "source": [
        "## Scatter *dictionaries*\n",
        "The core datastructure for specifying scatter parameters in SAX is a dictionary... more specifically a dictionary which maps a port combination (2-tuple) to a scatter parameter (or an array of scatter parameters when considering multiple wavelengths for example). Such a specific dictionary mapping is called ann `SDict` in SAX (`SDict \u2248 Dict[Tuple[str,str], float]`).\n",
        "\n",
        "Dictionaries are in fact much better suited for characterizing S-parameters than, say, (jax-)numpy arrays due to the inherent sparse nature of scatter parameters. Moreover, dictonaries allow for string indexing, which makes them much more pleasant to use in this context. Let\u2019s for example create an `SDict` for a 50/50 coupler:"
      ]
    },
    {
      "cell_type": "markdown",
      "id": "a7f90205",
      "metadata": {
        "papermill": {
          "duration": 0.0052,
          "end_time": "2024-06-17T20:18:11.341525",
          "exception": false,
          "start_time": "2024-06-17T20:18:11.336325",
          "status": "completed"
        },
        "tags": []
      },
      "source": [
        "```\n",
        "in1          out1\n",
        "   \\        /\n",
        "    ========\n",
        "   /        \\\n",
        "in0          out0\n",
        "```"
      ]
    },
    {
      "cell_type": "code",
      "execution_count": 3,
      "id": "89f215e8",
      "metadata": {
        "execution": {
          "iopub.execute_input": "2024-06-17T20:18:11.353562Z",
          "iopub.status.busy": "2024-06-17T20:18:11.352983Z",
          "iopub.status.idle": "2024-06-17T20:18:11.360569Z",
          "shell.execute_reply": "2024-06-17T20:18:11.359974Z"
        },
        "papermill": {
          "duration": 0.014973,
          "end_time": "2024-06-17T20:18:11.361720",
          "exception": false,
          "start_time": "2024-06-17T20:18:11.346747",
          "status": "completed"
        },
        "tags": []
      },
      "outputs": [
        {
          "data": {
            "text/plain": [
              "{('in0', 'out0'): 0.7071067811865476,\n",
              " ('out0', 'in0'): 0.7071067811865476,\n",
              " ('in0', 'out1'): 0.7071067811865476j,\n",
              " ('out1', 'in0'): 0.7071067811865476j,\n",
              " ('in1', 'out0'): 0.7071067811865476j,\n",
              " ('out0', 'in1'): 0.7071067811865476j,\n",
              " ('in1', 'out1'): 0.7071067811865476,\n",
              " ('out1', 'in1'): 0.7071067811865476}"
            ]
          },
          "execution_count": 3,
          "metadata": {},
          "output_type": "execute_result"
        }
      ],
      "source": [
        "coupling = 0.5\n",
        "kappa = coupling**0.5\n",
        "tau = (1 - coupling) ** 0.5\n",
        "coupler_dict = {\n",
        "    (\"in0\", \"out0\"): tau,\n",
        "    (\"out0\", \"in0\"): tau,\n",
        "    (\"in0\", \"out1\"): 1j * kappa,\n",
        "    (\"out1\", \"in0\"): 1j * kappa,\n",
        "    (\"in1\", \"out0\"): 1j * kappa,\n",
        "    (\"out0\", \"in1\"): 1j * kappa,\n",
        "    (\"in1\", \"out1\"): tau,\n",
        "    (\"out1\", \"in1\"): tau,\n",
        "}\n",
        "coupler_dict"
      ]
    },
    {
      "cell_type": "markdown",
      "id": "bb9cb2b6",
      "metadata": {
        "papermill": {
          "duration": 0.005353,
          "end_time": "2024-06-17T20:18:11.372631",
          "exception": false,
          "start_time": "2024-06-17T20:18:11.367278",
          "status": "completed"
        },
        "tags": []
      },
      "source": [
        "Only the non-zero port combinations need to be specified. Any non-existent port-combination (for example `(\"in0\", \"in1\")`) is considered to be zero by SAX.\n",
        "\n",
        "Obviously, it can still be tedious to specify every port in the circuit manually. SAX therefore offers the `reciprocal` function, which auto-fills the reverse connection if the forward connection exist. For example:"
      ]
    },
    {
      "cell_type": "code",
      "execution_count": 4,
      "id": "494f445d",
      "metadata": {
        "execution": {
          "iopub.execute_input": "2024-06-17T20:18:11.384543Z",
          "iopub.status.busy": "2024-06-17T20:18:11.384269Z",
          "iopub.status.idle": "2024-06-17T20:18:11.389279Z",
          "shell.execute_reply": "2024-06-17T20:18:11.388647Z"
        },
        "papermill": {
          "duration": 0.012633,
          "end_time": "2024-06-17T20:18:11.390557",
          "exception": false,
          "start_time": "2024-06-17T20:18:11.377924",
          "status": "completed"
        },
        "tags": []
      },
      "outputs": [
        {
          "data": {
            "text/plain": [
              "{('in0', 'out0'): 0.7071067811865476,\n",
              " ('in0', 'out1'): 0.7071067811865476j,\n",
              " ('in1', 'out0'): 0.7071067811865476j,\n",
              " ('in1', 'out1'): 0.7071067811865476,\n",
              " ('out0', 'in0'): 0.7071067811865476,\n",
              " ('out1', 'in0'): 0.7071067811865476j,\n",
              " ('out0', 'in1'): 0.7071067811865476j,\n",
              " ('out1', 'in1'): 0.7071067811865476}"
            ]
          },
          "execution_count": 4,
          "metadata": {},
          "output_type": "execute_result"
        }
      ],
      "source": [
        "coupler_dict = sax.reciprocal(\n",
        "    {\n",
        "        (\"in0\", \"out0\"): tau,\n",
        "        (\"in0\", \"out1\"): 1j * kappa,\n",
        "        (\"in1\", \"out0\"): 1j * kappa,\n",
        "        (\"in1\", \"out1\"): tau,\n",
        "    }\n",
        ")\n",
        "\n",
        "coupler_dict"
      ]
    },
    {
      "cell_type": "markdown",
      "id": "67e730f6",
      "metadata": {
        "papermill": {
          "duration": 0.005443,
          "end_time": "2024-06-17T20:18:11.421800",
          "exception": false,
          "start_time": "2024-06-17T20:18:11.416357",
          "status": "completed"
        },
        "tags": []
      },
      "source": [
        "## Parametrized Models"
      ]
    },
    {
      "cell_type": "markdown",
      "id": "ec1e1214",
      "metadata": {
        "papermill": {
          "duration": 0.005814,
          "end_time": "2024-06-17T20:18:11.433203",
          "exception": false,
          "start_time": "2024-06-17T20:18:11.427389",
          "status": "completed"
        },
        "tags": []
      },
      "source": [
        "Constructing such an `SDict` is easy, however, usually we're more interested in having parametrized models for our components. To parametrize the coupler `SDict`, just wrap it in a function to obtain a SAX `Model`, which is a keyword-only function mapping to an `SDict`:"
      ]
    },
    {
      "cell_type": "code",
      "execution_count": 5,
      "id": "33efb99f",
      "metadata": {
        "execution": {
          "iopub.execute_input": "2024-06-17T20:18:11.445469Z",
          "iopub.status.busy": "2024-06-17T20:18:11.444889Z",
          "iopub.status.idle": "2024-06-17T20:18:11.450496Z",
          "shell.execute_reply": "2024-06-17T20:18:11.449992Z"
        },
        "papermill": {
          "duration": 0.013106,
          "end_time": "2024-06-17T20:18:11.451711",
          "exception": false,
          "start_time": "2024-06-17T20:18:11.438605",
          "status": "completed"
        },
        "tags": []
      },
      "outputs": [
        {
          "data": {
            "text/plain": [
              "{('in0', 'out0'): 0.8366600265340756,\n",
              " ('in0', 'out1'): 0.5477225575051661j,\n",
              " ('in1', 'out0'): 0.5477225575051661j,\n",
              " ('in1', 'out1'): 0.8366600265340756,\n",
              " ('out0', 'in0'): 0.8366600265340756,\n",
              " ('out1', 'in0'): 0.5477225575051661j,\n",
              " ('out0', 'in1'): 0.5477225575051661j,\n",
              " ('out1', 'in1'): 0.8366600265340756}"
            ]
          },
          "execution_count": 5,
          "metadata": {},
          "output_type": "execute_result"
        }
      ],
      "source": [
        "def coupler(coupling=0.5) -> sax.SDict:\n",
        "    kappa = coupling**0.5\n",
        "    tau = (1 - coupling) ** 0.5\n",
        "    coupler_dict = sax.reciprocal(\n",
        "        {\n",
        "            (\"in0\", \"out0\"): tau,\n",
        "            (\"in0\", \"out1\"): 1j * kappa,\n",
        "            (\"in1\", \"out0\"): 1j * kappa,\n",
        "            (\"in1\", \"out1\"): tau,\n",
        "        }\n",
        "    )\n",
        "    return coupler_dict\n",
        "\n",
        "\n",
        "coupler(coupling=0.3)"
      ]
    },
    {
      "cell_type": "markdown",
      "id": "4ef93f65",
      "metadata": {
        "papermill": {
          "duration": 0.005512,
          "end_time": "2024-06-17T20:18:11.462964",
          "exception": false,
          "start_time": "2024-06-17T20:18:11.457452",
          "status": "completed"
        },
        "tags": []
      },
      "source": [
        "We can define a waveguide in the same way:"
      ]
    },
    {
      "cell_type": "code",
      "execution_count": 6,
      "id": "5eac9176",
      "metadata": {
        "execution": {
          "iopub.execute_input": "2024-06-17T20:18:11.475439Z",
          "iopub.status.busy": "2024-06-17T20:18:11.475005Z",
          "iopub.status.idle": "2024-06-17T20:18:11.479185Z",
          "shell.execute_reply": "2024-06-17T20:18:11.478641Z"
        },
        "papermill": {
          "duration": 0.011945,
          "end_time": "2024-06-17T20:18:11.480419",
          "exception": false,
          "start_time": "2024-06-17T20:18:11.468474",
          "status": "completed"
        },
        "tags": []
      },
      "outputs": [],
      "source": [
        "def waveguide(wl=1.55, wl0=1.55, neff=2.34, ng=3.4, length=10.0, loss=0.0) -> sax.SDict:\n",
        "    dwl = wl - wl0\n",
        "    dneff_dwl = (ng - neff) / wl0\n",
        "    neff = neff - dwl * dneff_dwl\n",
        "    phase = 2 * jnp.pi * neff * length / wl\n",
        "    transmission = 10 ** (-loss * length / 20) * jnp.exp(1j * phase)\n",
        "    sdict = sax.reciprocal(\n",
        "        {\n",
        "            (\"in0\", \"out0\"): transmission,\n",
        "        }\n",
        "    )\n",
        "    return sdict"
      ]
    },
    {
      "cell_type": "markdown",
      "id": "67713c18",
      "metadata": {
        "papermill": {
          "duration": 0.005466,
          "end_time": "2024-06-17T20:18:11.491645",
          "exception": false,
          "start_time": "2024-06-17T20:18:11.486179",
          "status": "completed"
        },
        "tags": []
      },
      "source": [
        "That's pretty straightforward. Let's now move on to parametrized circuits:"
      ]
    },
    {
      "cell_type": "markdown",
      "id": "579a9ce1",
      "metadata": {
        "papermill": {
          "duration": 0.005429,
          "end_time": "2024-06-17T20:18:11.502579",
          "exception": false,
          "start_time": "2024-06-17T20:18:11.497150",
          "status": "completed"
        },
        "tags": []
      },
      "source": [
        "## Circuit Models"
      ]
    },
    {
      "cell_type": "markdown",
      "id": "cc3c78a0",
      "metadata": {
        "papermill": {
          "duration": 0.005382,
          "end_time": "2024-06-17T20:18:11.513402",
          "exception": false,
          "start_time": "2024-06-17T20:18:11.508020",
          "status": "completed"
        },
        "tags": []
      },
      "source": [
        "Existing models can now be combined into a circuit using `sax.circuit`, which basically creates a new `Model` function:"
      ]
    },
    {
      "cell_type": "code",
      "execution_count": 7,
      "id": "d6885e1d",
      "metadata": {
        "execution": {
          "iopub.execute_input": "2024-06-17T20:18:11.525882Z",
          "iopub.status.busy": "2024-06-17T20:18:11.525325Z",
          "iopub.status.idle": "2024-06-17T20:18:12.218867Z",
          "shell.execute_reply": "2024-06-17T20:18:12.218243Z"
        },
        "papermill": {
          "duration": 0.701557,
          "end_time": "2024-06-17T20:18:12.220378",
          "exception": false,
          "start_time": "2024-06-17T20:18:11.518821",
          "status": "completed"
        },
        "tags": []
      },
      "outputs": [],
      "source": [
        "mzi, info = sax.circuit(\n",
        "    netlist={\n",
        "        \"instances\": {\n",
        "            \"lft\": \"coupler\",\n",
        "            \"top\": \"waveguide\",\n",
        "            \"btm\": \"waveguide\",\n",
        "            \"rgt\": \"coupler\",\n",
        "        },\n",
        "        \"connections\": {\n",
        "            \"lft,out0\": \"btm,in0\",\n",
        "            \"btm,out0\": \"rgt,in0\",\n",
        "            \"lft,out1\": \"top,in0\",\n",
        "            \"top,out0\": \"rgt,in1\",\n",
        "        },\n",
        "        \"ports\": {\n",
        "            \"in0\": \"lft,in0\",\n",
        "            \"in1\": \"lft,in1\",\n",
        "            \"out0\": \"rgt,out0\",\n",
        "            \"out1\": \"rgt,out1\",\n",
        "        },\n",
        "    },\n",
        "    models={\n",
        "        \"coupler\": coupler,\n",
        "        \"waveguide\": waveguide,\n",
        "    },\n",
        ")"
      ]
    },
    {
      "cell_type": "code",
      "execution_count": 8,
      "id": "90c647c7-d1a8-4c65-aa53-8ce649b225f2",
      "metadata": {
        "execution": {
          "iopub.execute_input": "2024-06-17T20:18:12.233579Z",
          "iopub.status.busy": "2024-06-17T20:18:12.232973Z",
          "iopub.status.idle": "2024-06-17T20:18:12.539384Z",
          "shell.execute_reply": "2024-06-17T20:18:12.538723Z"
        },
        "papermill": {
          "duration": 0.314373,
          "end_time": "2024-06-17T20:18:12.540674",
          "exception": false,
          "start_time": "2024-06-17T20:18:12.226301",
          "status": "completed"
        },
        "tags": []
      },
      "outputs": [
        {
          "data": {
            "text/plain": [
              "{('in0', 'in0'): Array(0.+0.j, dtype=complex128),\n",
              " ('in0', 'in1'): Array(0.+0.j, dtype=complex128),\n",
              " ('in0', 'out0'): Array(0.+0.j, dtype=complex128),\n",
              " ('in0', 'out1'): Array(-0.57126822+0.82076344j, dtype=complex128),\n",
              " ('in1', 'in0'): Array(0.+0.j, dtype=complex128),\n",
              " ('in1', 'in1'): Array(0.+0.j, dtype=complex128),\n",
              " ('in1', 'out0'): Array(-0.57126822+0.82076344j, dtype=complex128),\n",
              " ('in1', 'out1'): Array(0.+0.j, dtype=complex128),\n",
              " ('out0', 'in0'): Array(0.+0.j, dtype=complex128),\n",
              " ('out0', 'in1'): Array(-0.57126822+0.82076344j, dtype=complex128),\n",
              " ('out0', 'out0'): Array(0.+0.j, dtype=complex128),\n",
              " ('out0', 'out1'): Array(0.+0.j, dtype=complex128),\n",
              " ('out1', 'in0'): Array(-0.57126822+0.82076344j, dtype=complex128),\n",
              " ('out1', 'in1'): Array(0.+0.j, dtype=complex128),\n",
              " ('out1', 'out0'): Array(0.+0.j, dtype=complex128),\n",
              " ('out1', 'out1'): Array(0.+0.j, dtype=complex128)}"
            ]
          },
          "execution_count": 8,
          "metadata": {},
          "output_type": "execute_result"
        }
      ],
      "source": [
        "mzi()"
      ]
    },
    {
      "cell_type": "code",
      "execution_count": 9,
      "id": "e95325c6",
      "metadata": {
        "execution": {
          "iopub.execute_input": "2024-06-17T20:18:12.553517Z",
          "iopub.status.busy": "2024-06-17T20:18:12.553151Z",
          "iopub.status.idle": "2024-06-17T20:18:12.585752Z",
          "shell.execute_reply": "2024-06-17T20:18:12.585290Z"
        },
        "papermill": {
          "duration": 0.040197,
          "end_time": "2024-06-17T20:18:12.586896",
          "exception": false,
          "start_time": "2024-06-17T20:18:12.546699",
          "status": "completed"
        },
        "tags": []
      },
      "outputs": [],
      "source": [
        "?mzi"
      ]
    },
    {
      "cell_type": "markdown",
      "id": "d2c74cff",
      "metadata": {
        "papermill": {
          "duration": 0.005801,
          "end_time": "2024-06-17T20:18:12.598565",
          "exception": false,
          "start_time": "2024-06-17T20:18:12.592764",
          "status": "completed"
        },
        "tags": []
      },
      "source": [
        "The `circuit` function just creates a similar function as we created for the waveguide and the coupler, but in stead of taking parameters directly it takes parameter *dictionaries* for each of the instances in the circuit. The keys in these parameter dictionaries should correspond to the keyword arguments of each individual subcomponent. "
      ]
    },
    {
      "cell_type": "markdown",
      "id": "ba1202d1",
      "metadata": {
        "papermill": {
          "duration": 0.005584,
          "end_time": "2024-06-17T20:18:12.609806",
          "exception": false,
          "start_time": "2024-06-17T20:18:12.604222",
          "status": "completed"
        },
        "tags": []
      },
      "source": [
        "Let's now do a simulation for the MZI we just constructed:"
      ]
    },
    {
      "cell_type": "code",
      "execution_count": 10,
      "id": "f2108f6a",
      "metadata": {
        "execution": {
          "iopub.execute_input": "2024-06-17T20:18:12.622638Z",
          "iopub.status.busy": "2024-06-17T20:18:12.622130Z",
          "iopub.status.idle": "2024-06-17T20:18:12.643113Z",
          "shell.execute_reply": "2024-06-17T20:18:12.642494Z"
        },
        "papermill": {
          "duration": 0.028926,
          "end_time": "2024-06-17T20:18:12.644400",
          "exception": false,
          "start_time": "2024-06-17T20:18:12.615474",
          "status": "completed"
        },
        "tags": []
      },
      "outputs": [
        {
          "name": "stdout",
          "output_type": "stream",
          "text": [
            "CPU times: user 13.6 ms, sys: 0 ns, total: 13.6 ms\n",
            "Wall time: 13.4 ms\n"
          ]
        },
        {
          "data": {
            "text/plain": [
              "{('in0', 'in0'): Array(0.+0.j, dtype=complex128),\n",
              " ('in0', 'in1'): Array(0.+0.j, dtype=complex128),\n",
              " ('in0', 'out0'): Array(0.+0.j, dtype=complex128),\n",
              " ('in0', 'out1'): Array(-0.57126822+0.82076344j, dtype=complex128),\n",
              " ('in1', 'in0'): Array(0.+0.j, dtype=complex128),\n",
              " ('in1', 'in1'): Array(0.+0.j, dtype=complex128),\n",
              " ('in1', 'out0'): Array(-0.57126822+0.82076344j, dtype=complex128),\n",
              " ('in1', 'out1'): Array(0.+0.j, dtype=complex128),\n",
              " ('out0', 'in0'): Array(0.+0.j, dtype=complex128),\n",
              " ('out0', 'in1'): Array(-0.57126822+0.82076344j, dtype=complex128),\n",
              " ('out0', 'out0'): Array(0.+0.j, dtype=complex128),\n",
              " ('out0', 'out1'): Array(0.+0.j, dtype=complex128),\n",
              " ('out1', 'in0'): Array(-0.57126822+0.82076344j, dtype=complex128),\n",
              " ('out1', 'in1'): Array(0.+0.j, dtype=complex128),\n",
              " ('out1', 'out0'): Array(0.+0.j, dtype=complex128),\n",
              " ('out1', 'out1'): Array(0.+0.j, dtype=complex128)}"
            ]
          },
          "execution_count": 10,
          "metadata": {},
          "output_type": "execute_result"
        }
      ],
      "source": [
        "%time mzi()"
      ]
    },
    {
      "cell_type": "code",
      "execution_count": 11,
      "id": "cb43b835",
      "metadata": {
        "execution": {
          "iopub.execute_input": "2024-06-17T20:18:12.658084Z",
          "iopub.status.busy": "2024-06-17T20:18:12.657633Z",
          "iopub.status.idle": "2024-06-17T20:18:12.660970Z",
          "shell.execute_reply": "2024-06-17T20:18:12.660454Z"
        },
        "papermill": {
          "duration": 0.011408,
          "end_time": "2024-06-17T20:18:12.662104",
          "exception": false,
          "start_time": "2024-06-17T20:18:12.650696",
          "status": "completed"
        },
        "tags": []
      },
      "outputs": [],
      "source": [
        "mzi2 = jax.jit(mzi)"
      ]
    },
    {
      "cell_type": "code",
      "execution_count": 12,
      "id": "61f2bb6e",
      "metadata": {
        "execution": {
          "iopub.execute_input": "2024-06-17T20:18:12.675635Z",
          "iopub.status.busy": "2024-06-17T20:18:12.674933Z",
          "iopub.status.idle": "2024-06-17T20:18:12.784809Z",
          "shell.execute_reply": "2024-06-17T20:18:12.784210Z"
        },
        "papermill": {
          "duration": 0.117889,
          "end_time": "2024-06-17T20:18:12.786072",
          "exception": false,
          "start_time": "2024-06-17T20:18:12.668183",
          "status": "completed"
        },
        "tags": []
      },
      "outputs": [
        {
          "name": "stdout",
          "output_type": "stream",
          "text": [
            "CPU times: user 95.4 ms, sys: 7.05 ms, total: 102 ms\n",
            "Wall time: 102 ms\n"
          ]
        },
        {
          "data": {
            "text/plain": [
              "{('in0', 'in0'): Array(0.+0.j, dtype=complex128),\n",
              " ('in0', 'in1'): Array(0.+0.j, dtype=complex128),\n",
              " ('in0', 'out0'): Array(0.+0.j, dtype=complex128),\n",
              " ('in0', 'out1'): Array(-0.57126822+0.82076344j, dtype=complex128),\n",
              " ('in1', 'in0'): Array(0.+0.j, dtype=complex128),\n",
              " ('in1', 'in1'): Array(0.+0.j, dtype=complex128),\n",
              " ('in1', 'out0'): Array(-0.57126822+0.82076344j, dtype=complex128),\n",
              " ('in1', 'out1'): Array(0.+0.j, dtype=complex128),\n",
              " ('out0', 'in0'): Array(0.+0.j, dtype=complex128),\n",
              " ('out0', 'in1'): Array(-0.57126822+0.82076344j, dtype=complex128),\n",
              " ('out0', 'out0'): Array(0.+0.j, dtype=complex128),\n",
              " ('out0', 'out1'): Array(0.+0.j, dtype=complex128),\n",
              " ('out1', 'in0'): Array(-0.57126822+0.82076344j, dtype=complex128),\n",
              " ('out1', 'in1'): Array(0.+0.j, dtype=complex128),\n",
              " ('out1', 'out0'): Array(0.+0.j, dtype=complex128),\n",
              " ('out1', 'out1'): Array(0.+0.j, dtype=complex128)}"
            ]
          },
          "execution_count": 12,
          "metadata": {},
          "output_type": "execute_result"
        }
      ],
      "source": [
        "%time mzi2()"
      ]
    },
    {
      "cell_type": "code",
      "execution_count": 13,
      "id": "6000f608-6814-436d-af02-a54dc7d0da85",
      "metadata": {
        "execution": {
          "iopub.execute_input": "2024-06-17T20:18:12.800323Z",
          "iopub.status.busy": "2024-06-17T20:18:12.800051Z",
          "iopub.status.idle": "2024-06-17T20:18:12.808040Z",
          "shell.execute_reply": "2024-06-17T20:18:12.807403Z"
        },
        "papermill": {
          "duration": 0.016588,
          "end_time": "2024-06-17T20:18:12.809272",
          "exception": false,
          "start_time": "2024-06-17T20:18:12.792684",
          "status": "completed"
        },
        "tags": []
      },
      "outputs": [
        {
          "name": "stdout",
          "output_type": "stream",
          "text": [
            "CPU times: user 640 \u03bcs, sys: 71 \u03bcs, total: 711 \u03bcs\n",
            "Wall time: 491 \u03bcs\n"
          ]
        },
        {
          "data": {
            "text/plain": [
              "{('in0', 'in0'): Array(0.+0.j, dtype=complex128),\n",
              " ('in0', 'in1'): Array(0.+0.j, dtype=complex128),\n",
              " ('in0', 'out0'): Array(0.+0.j, dtype=complex128),\n",
              " ('in0', 'out1'): Array(-0.57126822+0.82076344j, dtype=complex128),\n",
              " ('in1', 'in0'): Array(0.+0.j, dtype=complex128),\n",
              " ('in1', 'in1'): Array(0.+0.j, dtype=complex128),\n",
              " ('in1', 'out0'): Array(-0.57126822+0.82076344j, dtype=complex128),\n",
              " ('in1', 'out1'): Array(0.+0.j, dtype=complex128),\n",
              " ('out0', 'in0'): Array(0.+0.j, dtype=complex128),\n",
              " ('out0', 'in1'): Array(-0.57126822+0.82076344j, dtype=complex128),\n",
              " ('out0', 'out0'): Array(0.+0.j, dtype=complex128),\n",
              " ('out0', 'out1'): Array(0.+0.j, dtype=complex128),\n",
              " ('out1', 'in0'): Array(-0.57126822+0.82076344j, dtype=complex128),\n",
              " ('out1', 'in1'): Array(0.+0.j, dtype=complex128),\n",
              " ('out1', 'out0'): Array(0.+0.j, dtype=complex128),\n",
              " ('out1', 'out1'): Array(0.+0.j, dtype=complex128)}"
            ]
          },
          "execution_count": 13,
          "metadata": {},
          "output_type": "execute_result"
        }
      ],
      "source": [
        "%time mzi2()"
      ]
    },
    {
      "cell_type": "markdown",
      "id": "1e0d41ea",
      "metadata": {
        "papermill": {
          "duration": 0.006234,
          "end_time": "2024-06-17T20:18:12.822145",
          "exception": false,
          "start_time": "2024-06-17T20:18:12.815911",
          "status": "completed"
        },
        "tags": []
      },
      "source": [
        "Or in the case we want an MZI with different arm lengths:"
      ]
    },
    {
      "cell_type": "code",
      "execution_count": 14,
      "id": "4f53bdc3",
      "metadata": {
        "execution": {
          "iopub.execute_input": "2024-06-17T20:18:12.836318Z",
          "iopub.status.busy": "2024-06-17T20:18:12.835756Z",
          "iopub.status.idle": "2024-06-17T20:18:12.855901Z",
          "shell.execute_reply": "2024-06-17T20:18:12.855298Z"
        },
        "papermill": {
          "duration": 0.028829,
          "end_time": "2024-06-17T20:18:12.857241",
          "exception": false,
          "start_time": "2024-06-17T20:18:12.828412",
          "status": "completed"
        },
        "tags": []
      },
      "outputs": [
        {
          "data": {
            "text/plain": [
              "{('in0', 'in0'): Array(0.+0.j, dtype=complex128),\n",
              " ('in0', 'in1'): Array(0.+0.j, dtype=complex128),\n",
              " ('in0', 'out0'): Array(-0.28072841+0.10397039j, dtype=complex128),\n",
              " ('in0', 'out1'): Array(0.89474612-0.33137758j, dtype=complex128),\n",
              " ('in1', 'in0'): Array(0.+0.j, dtype=complex128),\n",
              " ('in1', 'in1'): Array(0.+0.j, dtype=complex128),\n",
              " ('in1', 'out0'): Array(0.89474612-0.33137758j, dtype=complex128),\n",
              " ('in1', 'out1'): Array(0.28072841-0.10397039j, dtype=complex128),\n",
              " ('out0', 'in0'): Array(-0.28072841+0.10397039j, dtype=complex128),\n",
              " ('out0', 'in1'): Array(0.89474612-0.33137758j, dtype=complex128),\n",
              " ('out0', 'out0'): Array(0.+0.j, dtype=complex128),\n",
              " ('out0', 'out1'): Array(0.+0.j, dtype=complex128),\n",
              " ('out1', 'in0'): Array(0.89474612-0.33137758j, dtype=complex128),\n",
              " ('out1', 'in1'): Array(0.28072841-0.10397039j, dtype=complex128),\n",
              " ('out1', 'out0'): Array(0.+0.j, dtype=complex128),\n",
              " ('out1', 'out1'): Array(0.+0.j, dtype=complex128)}"
            ]
          },
          "execution_count": 14,
          "metadata": {},
          "output_type": "execute_result"
        }
      ],
      "source": [
        "mzi(top={\"length\": 25.0}, btm={\"length\": 15.0})"
      ]
    },
    {
      "cell_type": "markdown",
      "id": "a331252a",
      "metadata": {
        "papermill": {
          "duration": 0.006243,
          "end_time": "2024-06-17T20:18:12.870275",
          "exception": false,
          "start_time": "2024-06-17T20:18:12.864032",
          "status": "completed"
        },
        "tags": []
      },
      "source": [
        "## Simulating the parametrized MZI"
      ]
    },
    {
      "cell_type": "markdown",
      "id": "4ba8626b",
      "metadata": {
        "papermill": {
          "duration": 0.006176,
          "end_time": "2024-06-17T20:18:12.882712",
          "exception": false,
          "start_time": "2024-06-17T20:18:12.876536",
          "status": "completed"
        },
        "tags": []
      },
      "source": [
        "We can simulate the above mzi for multiple wavelengths as well by specifying the wavelength at the top level of the circuit call. Each setting specified at the top level of the circuit call will be propagated to all subcomponents of the circuit which have that setting:"
      ]
    },
    {
      "cell_type": "code",
      "execution_count": 15,
      "id": "d6c8b5c9",
      "metadata": {
        "execution": {
          "iopub.execute_input": "2024-06-17T20:18:12.896879Z",
          "iopub.status.busy": "2024-06-17T20:18:12.896293Z",
          "iopub.status.idle": "2024-06-17T20:18:13.369900Z",
          "shell.execute_reply": "2024-06-17T20:18:13.369250Z"
        },
        "papermill": {
          "duration": 0.482034,
          "end_time": "2024-06-17T20:18:13.371018",
          "exception": false,
          "start_time": "2024-06-17T20:18:12.888984",
          "status": "completed"
        },
        "tags": []
      },
      "outputs": [
        {
          "name": "stdout",
          "output_type": "stream",
          "text": [
            "CPU times: user 435 ms, sys: 12 ms, total: 447 ms\n",
            "Wall time: 443 ms\n"
          ]
        }
      ],
      "source": [
        "wl = jnp.linspace(1.51, 1.59, 1000)\n",
        "%time S = mzi(wl=wl, top={\"length\": 25.0}, btm={\"length\": 15.0})"
      ]
    },
    {
      "cell_type": "markdown",
      "id": "28d8cc75",
      "metadata": {
        "papermill": {
          "duration": 0.006323,
          "end_time": "2024-06-17T20:18:13.384076",
          "exception": false,
          "start_time": "2024-06-17T20:18:13.377753",
          "status": "completed"
        },
        "tags": []
      },
      "source": [
        "Let's see what this gives:"
      ]
    },
    {
      "cell_type": "code",
      "execution_count": 16,
      "id": "f7de73dc",
      "metadata": {
        "execution": {
          "iopub.execute_input": "2024-06-17T20:18:13.398216Z",
          "iopub.status.busy": "2024-06-17T20:18:13.397634Z",
          "iopub.status.idle": "2024-06-17T20:18:13.910316Z",
          "shell.execute_reply": "2024-06-17T20:18:13.909693Z"
        },
        "papermill": {
          "duration": 0.521318,
          "end_time": "2024-06-17T20:18:13.911580",
          "exception": false,
          "start_time": "2024-06-17T20:18:13.390262",
          "status": "completed"
        },
        "tags": []
      },
      "outputs": [
        {
          "data": {
            "image/png": "[encoded data removed]",
            "text/plain": [
              "<Figure size 640x480 with 1 Axes>"
            ]
          },
          "metadata": {},
          "output_type": "display_data"
        }
      ],
      "source": [
        "plt.plot(wl * 1e3, abs(S[\"in0\", \"out0\"]) ** 2)\n",
        "plt.ylim(-0.05, 1.05)\n",
        "plt.xlabel(\"\u03bb [nm]\")\n",
        "plt.ylabel(\"T\")\n",
        "plt.ylim(-0.05, 1.05)\n",
        "plt.show()"
      ]
    },
    {
      "cell_type": "markdown",
      "id": "eb9f0074",
      "metadata": {
        "papermill": {
          "duration": 0.00673,
          "end_time": "2024-06-17T20:18:13.925316",
          "exception": false,
          "start_time": "2024-06-17T20:18:13.918586",
          "status": "completed"
        },
        "tags": []
      },
      "source": [
        "## Optimization"
      ]
    },
    {
      "cell_type": "markdown",
      "id": "431aee51",
      "metadata": {
        "papermill": {
          "duration": 0.006506,
          "end_time": "2024-06-17T20:18:13.938392",
          "exception": false,
          "start_time": "2024-06-17T20:18:13.931886",
          "status": "completed"
        },
        "tags": []
      },
      "source": [
        "We'd like to optimize an MZI such that one of the minima is at 1550nm. To do this, we need to define a loss function for the circuit at 1550nm. This function should take the parameters that you want to optimize as positional arguments:"
      ]
    },
    {
      "cell_type": "code",
      "execution_count": 17,
      "id": "7dabe735",
      "metadata": {
        "execution": {
          "iopub.execute_input": "2024-06-17T20:18:13.953057Z",
          "iopub.status.busy": "2024-06-17T20:18:13.952567Z",
          "iopub.status.idle": "2024-06-17T20:18:13.956546Z",
          "shell.execute_reply": "2024-06-17T20:18:13.955909Z"
        },
        "papermill": {
          "duration": 0.012835,
          "end_time": "2024-06-17T20:18:13.957758",
          "exception": false,
          "start_time": "2024-06-17T20:18:13.944923",
          "status": "completed"
        },
        "tags": []
      },
      "outputs": [],
      "source": [
        "@jax.jit\n",
        "def loss_fn(delta_length):\n",
        "    S = mzi(wl=1.55, top={\"length\": 15.0 + delta_length}, btm={\"length\": 15.0})\n",
        "    return (abs(S[\"in0\", \"out0\"]) ** 2).mean()"
      ]
    },
    {
      "cell_type": "code",
      "execution_count": 18,
      "id": "a60a8eab",
      "metadata": {
        "execution": {
          "iopub.execute_input": "2024-06-17T20:18:13.972613Z",
          "iopub.status.busy": "2024-06-17T20:18:13.972029Z",
          "iopub.status.idle": "2024-06-17T20:18:14.062104Z",
          "shell.execute_reply": "2024-06-17T20:18:14.061437Z"
        },
        "papermill": {
          "duration": 0.09896,
          "end_time": "2024-06-17T20:18:14.063435",
          "exception": false,
          "start_time": "2024-06-17T20:18:13.964475",
          "status": "completed"
        },
        "tags": []
      },
      "outputs": [
        {
          "name": "stdout",
          "output_type": "stream",
          "text": [
            "CPU times: user 88.1 ms, sys: 41 \u03bcs, total: 88.1 ms\n",
            "Wall time: 84.5 ms\n"
          ]
        },
        {
          "data": {
            "text/plain": [
              "Array(0.08961828, dtype=float64)"
            ]
          },
          "execution_count": 18,
          "metadata": {},
          "output_type": "execute_result"
        }
      ],
      "source": [
        "%time loss_fn(10.0)"
      ]
    },
    {
      "cell_type": "markdown",
      "id": "af1eb06b",
      "metadata": {
        "papermill": {
          "duration": 0.007169,
          "end_time": "2024-06-17T20:18:14.078140",
          "exception": false,
          "start_time": "2024-06-17T20:18:14.070971",
          "status": "completed"
        },
        "tags": []
      },
      "source": [
        "We can use this loss function to define a grad function which works on the parameters of the loss function:"
      ]
    },
    {
      "cell_type": "code",
      "execution_count": 19,
      "id": "16369cba",
      "metadata": {
        "execution": {
          "iopub.execute_input": "2024-06-17T20:18:14.093625Z",
          "iopub.status.busy": "2024-06-17T20:18:14.092987Z",
          "iopub.status.idle": "2024-06-17T20:18:14.096716Z",
          "shell.execute_reply": "2024-06-17T20:18:14.096178Z"
        },
        "papermill": {
          "duration": 0.012879,
          "end_time": "2024-06-17T20:18:14.097933",
          "exception": false,
          "start_time": "2024-06-17T20:18:14.085054",
          "status": "completed"
        },
        "tags": []
      },
      "outputs": [],
      "source": [
        "grad_fn = jax.jit(\n",
        "    jax.grad(\n",
        "        loss_fn,\n",
        "        argnums=0,  # JAX gradient function for the first positional argument, jitted\n",
        "    )\n",
        ")"
      ]
    },
    {
      "cell_type": "markdown",
      "id": "2cd2f2cf",
      "metadata": {
        "papermill": {
          "duration": 0.006954,
          "end_time": "2024-06-17T20:18:14.112285",
          "exception": false,
          "start_time": "2024-06-17T20:18:14.105331",
          "status": "completed"
        },
        "tags": []
      },
      "source": [
        "Next, we need to define a JAX optimizer, which on its own is nothing more than three more functions:  an initialization function with which to initialize the optimizer state, an update function which will update the optimizer state (and with it the model parameters). The third function that's being returned will give the model parameters given the optimizer state."
      ]
    },
    {
      "cell_type": "code",
      "execution_count": 20,
      "id": "e553d69e",
      "metadata": {
        "execution": {
          "iopub.execute_input": "2024-06-17T20:18:14.127528Z",
          "iopub.status.busy": "2024-06-17T20:18:14.127225Z",
          "iopub.status.idle": "2024-06-17T20:18:14.131240Z",
          "shell.execute_reply": "2024-06-17T20:18:14.130738Z"
        },
        "papermill": {
          "duration": 0.01322,
          "end_time": "2024-06-17T20:18:14.132417",
          "exception": false,
          "start_time": "2024-06-17T20:18:14.119197",
          "status": "completed"
        },
        "tags": []
      },
      "outputs": [],
      "source": [
        "initial_delta_length = 10.0\n",
        "init_fn, update_fn, params_fn = opt.adam(step_size=0.1)\n",
        "state = init_fn(initial_delta_length)"
      ]
    },
    {
      "cell_type": "markdown",
      "id": "e0a03fc2",
      "metadata": {
        "papermill": {
          "duration": 0.009868,
          "end_time": "2024-06-17T20:18:14.150022",
          "exception": false,
          "start_time": "2024-06-17T20:18:14.140154",
          "status": "completed"
        },
        "tags": []
      },
      "source": [
        "Given all this, a single training step can be defined:"
      ]
    },
    {
      "cell_type": "code",
      "execution_count": 21,
      "id": "eea4f7b8",
      "metadata": {
        "execution": {
          "iopub.execute_input": "2024-06-17T20:18:14.165236Z",
          "iopub.status.busy": "2024-06-17T20:18:14.164971Z",
          "iopub.status.idle": "2024-06-17T20:18:14.168523Z",
          "shell.execute_reply": "2024-06-17T20:18:14.168004Z"
        },
        "papermill": {
          "duration": 0.01271,
          "end_time": "2024-06-17T20:18:14.169743",
          "exception": false,
          "start_time": "2024-06-17T20:18:14.157033",
          "status": "completed"
        },
        "tags": []
      },
      "outputs": [],
      "source": [
        "def step_fn(step, state):\n",
        "    settings = params_fn(state)\n",
        "    loss = loss_fn(settings)\n",
        "    grad = grad_fn(settings)\n",
        "    state = update_fn(step, grad, state)\n",
        "    return loss, state"
      ]
    },
    {
      "cell_type": "markdown",
      "id": "ba1612df",
      "metadata": {
        "papermill": {
          "duration": 0.00713,
          "end_time": "2024-06-17T20:18:14.184285",
          "exception": false,
          "start_time": "2024-06-17T20:18:14.177155",
          "status": "completed"
        },
        "tags": []
      },
      "source": [
        "And we can use this step function to start the training of the MZI:"
      ]
    },
    {
      "cell_type": "code",
      "execution_count": 22,
      "id": "61ef4479",
      "metadata": {
        "execution": {
          "iopub.execute_input": "2024-06-17T20:18:14.199651Z",
          "iopub.status.busy": "2024-06-17T20:18:14.199124Z",
          "iopub.status.idle": "2024-06-17T20:18:19.019015Z",
          "shell.execute_reply": "2024-06-17T20:18:19.018342Z"
        },
        "papermill": {
          "duration": 4.829098,
          "end_time": "2024-06-17T20:18:19.020283",
          "exception": false,
          "start_time": "2024-06-17T20:18:14.191185",
          "status": "completed"
        },
        "tags": []
      },
      "outputs": [
        {
          "data": {
            "application/vnd.jupyter.widget-view+json": {
              "model_id": "04ce61f585874d909483794eb277b003",
              "version_major": 2,
              "version_minor": 0
            },
            "text/plain": [
              "  0%|          | 0/300 [00:00<?, ?it/s]"
            ]
          },
          "metadata": {},
          "output_type": "display_data"
        }
      ],
      "source": [
        "range_ = trange(300)\n",
        "for step in range_:\n",
        "    loss, state = step_fn(step, state)\n",
        "    range_.set_postfix(loss=f\"{loss:.6f}\")"
      ]
    },
    {
      "cell_type": "code",
      "execution_count": 23,
      "id": "eb9a1e20",
      "metadata": {
        "execution": {
          "iopub.execute_input": "2024-06-17T20:18:19.035938Z",
          "iopub.status.busy": "2024-06-17T20:18:19.035524Z",
          "iopub.status.idle": "2024-06-17T20:18:19.039652Z",
          "shell.execute_reply": "2024-06-17T20:18:19.039103Z"
        },
        "papermill": {
          "duration": 0.01312,
          "end_time": "2024-06-17T20:18:19.040810",
          "exception": false,
          "start_time": "2024-06-17T20:18:19.027690",
          "status": "completed"
        },
        "tags": []
      },
      "outputs": [
        {
          "data": {
            "text/plain": [
              "Array(9.93589743, dtype=float64)"
            ]
          },
          "execution_count": 23,
          "metadata": {},
          "output_type": "execute_result"
        }
      ],
      "source": [
        "delta_length = params_fn(state)\n",
        "delta_length"
      ]
    },
    {
      "cell_type": "markdown",
      "id": "15d8754b",
      "metadata": {
        "papermill": {
          "duration": 0.00699,
          "end_time": "2024-06-17T20:18:19.055021",
          "exception": false,
          "start_time": "2024-06-17T20:18:19.048031",
          "status": "completed"
        },
        "tags": []
      },
      "source": [
        "Let's see what we've got over a range of wavelengths:"
      ]
    },
    {
      "cell_type": "code",
      "execution_count": 24,
      "id": "b36d10a3",
      "metadata": {
        "execution": {
          "iopub.execute_input": "2024-06-17T20:18:19.069925Z",
          "iopub.status.busy": "2024-06-17T20:18:19.069732Z",
          "iopub.status.idle": "2024-06-17T20:18:19.237808Z",
          "shell.execute_reply": "2024-06-17T20:18:19.237200Z"
        },
        "papermill": {
          "duration": 0.177058,
          "end_time": "2024-06-17T20:18:19.239093",
          "exception": false,
          "start_time": "2024-06-17T20:18:19.062035",
          "status": "completed"
        },
        "tags": []
      },
      "outputs": [
        {
          "data": {
            "image/png": "[encoded data removed]",
            "text/plain": [
              "<Figure size 640x480 with 1 Axes>"
            ]
          },
          "metadata": {},
          "output_type": "display_data"
        }
      ],
      "source": [
        "S = mzi(wl=wl, top={\"length\": 15.0 + delta_length}, btm={\"length\": 15.0})\n",
        "plt.plot(wl * 1e3, abs(S[\"in1\", \"out1\"]) ** 2)\n",
        "plt.xlabel(\"\u03bb [nm]\")\n",
        "plt.ylabel(\"T\")\n",
        "plt.ylim(-0.05, 1.05)\n",
        "plt.plot([1550, 1550], [0, 1])\n",
        "plt.show()"
      ]
    },
    {
      "cell_type": "markdown",
      "id": "a990da96",
      "metadata": {
        "papermill": {
          "duration": 0.007333,
          "end_time": "2024-06-17T20:18:19.254241",
          "exception": false,
          "start_time": "2024-06-17T20:18:19.246908",
          "status": "completed"
        },
        "tags": []
      },
      "source": [
        "The minimum of the MZI is perfectly located at 1550nm."
      ]
    },
    {
      "cell_type": "markdown",
      "id": "7d93aa85",
      "metadata": {
        "papermill": {
          "duration": 0.00755,
          "end_time": "2024-06-17T20:18:19.269202",
          "exception": false,
          "start_time": "2024-06-17T20:18:19.261652",
          "status": "completed"
        },
        "tags": []
      },
      "source": [
        "## MZI Chain"
      ]
    },
    {
      "cell_type": "markdown",
      "id": "9c312e13",
      "metadata": {
        "papermill": {
          "duration": 0.007298,
          "end_time": "2024-06-17T20:18:19.283833",
          "exception": false,
          "start_time": "2024-06-17T20:18:19.276535",
          "status": "completed"
        },
        "tags": []
      },
      "source": [
        "Let's now create a chain of MZIs. For this, we first create a subcomponent: a directional coupler with arms:\n",
        "\n",
        "\n",
        "```\n",
        "                                 top\n",
        "                            in0 ----- out0 -> out1\n",
        "    in1 <- in1        out1                 \n",
        "              \\  dc  /                  \n",
        "               ======                  \n",
        "              /      \\                \n",
        "    in0 <- in0        out0       btm    \n",
        "                            in0 ----- out0 -> out0\n",
        "```"
      ]
    },
    {
      "cell_type": "code",
      "execution_count": 25,
      "id": "1ebe80c2",
      "metadata": {
        "execution": {
          "iopub.execute_input": "2024-06-17T20:18:19.299533Z",
          "iopub.status.busy": "2024-06-17T20:18:19.299129Z",
          "iopub.status.idle": "2024-06-17T20:18:19.635352Z",
          "shell.execute_reply": "2024-06-17T20:18:19.634731Z"
        },
        "papermill": {
          "duration": 0.345737,
          "end_time": "2024-06-17T20:18:19.636848",
          "exception": false,
          "start_time": "2024-06-17T20:18:19.291111",
          "status": "completed"
        },
        "tags": []
      },
      "outputs": [],
      "source": [
        "dc_with_arms, info = sax.circuit(\n",
        "    netlist={\n",
        "        \"instances\": {\n",
        "            \"lft\": \"coupler\",\n",
        "            \"top\": \"waveguide\",\n",
        "            \"btm\": \"waveguide\",\n",
        "        },\n",
        "        \"connections\": {\n",
        "            \"lft,out0\": \"btm,in0\",\n",
        "            \"lft,out1\": \"top,in0\",\n",
        "        },\n",
        "        \"ports\": {\n",
        "            \"in0\": \"lft,in0\",\n",
        "            \"in1\": \"lft,in1\",\n",
        "            \"out0\": \"btm,out0\",\n",
        "            \"out1\": \"top,out0\",\n",
        "        },\n",
        "    },\n",
        "    models={\n",
        "        \"coupler\": coupler,\n",
        "        \"waveguide\": waveguide,\n",
        "    },\n",
        ")"
      ]
    },
    {
      "cell_type": "markdown",
      "id": "1eda468f",
      "metadata": {
        "papermill": {
          "duration": 0.007558,
          "end_time": "2024-06-17T20:18:19.652182",
          "exception": false,
          "start_time": "2024-06-17T20:18:19.644624",
          "status": "completed"
        },
        "tags": []
      },
      "source": [
        "An MZI chain can now be created by cascading these directional couplers with arms:\n",
        "\n",
        "```\n",
        "      _    _    _    _             _    _  \n",
        "    \\/   \\/   \\/   \\/     ...    \\/   \\/   \n",
        "    /\\_  /\\_  /\\_  /\\_           /\\_  /\\_  \n",
        "```\n",
        "\n",
        "Let's create a *model factory* (`ModelFactory`) for this. In SAX, a *model factory* is any keyword-only function that generates a `Model`:"
      ]
    },
    {
      "cell_type": "code",
      "execution_count": 26,
      "id": "11c4ab07",
      "metadata": {
        "execution": {
          "iopub.execute_input": "2024-06-17T20:18:19.668562Z",
          "iopub.status.busy": "2024-06-17T20:18:19.668027Z",
          "iopub.status.idle": "2024-06-17T20:18:19.672900Z",
          "shell.execute_reply": "2024-06-17T20:18:19.672266Z"
        },
        "papermill": {
          "duration": 0.014622,
          "end_time": "2024-06-17T20:18:19.674159",
          "exception": false,
          "start_time": "2024-06-17T20:18:19.659537",
          "status": "completed"
        },
        "tags": []
      },
      "outputs": [],
      "source": [
        "def mzi_chain(num_mzis=1) -> sax.Model:\n",
        "    chain, _ = sax.circuit(\n",
        "        netlist={\n",
        "            \"instances\": {f\"dc{i}\": \"dc_with_arms\" for i in range(num_mzis + 1)},\n",
        "            \"connections\": {\n",
        "                **{f\"dc{i},out0\": f\"dc{i+1},in0\" for i in range(num_mzis)},\n",
        "                **{f\"dc{i},out1\": f\"dc{i+1},in1\" for i in range(num_mzis)},\n",
        "            },\n",
        "            \"ports\": {\n",
        "                \"in0\": f\"dc0,in0\",\n",
        "                \"in1\": f\"dc0,in1\",\n",
        "                \"out0\": f\"dc{num_mzis},out0\",\n",
        "                \"out1\": f\"dc{num_mzis},out1\",\n",
        "            },\n",
        "        },\n",
        "        models={\"dc_with_arms\": dc_with_arms},\n",
        "    )\n",
        "    return chain"
      ]
    },
    {
      "cell_type": "markdown",
      "id": "03f225e9",
      "metadata": {
        "papermill": {
          "duration": 0.007421,
          "end_time": "2024-06-17T20:18:19.689291",
          "exception": false,
          "start_time": "2024-06-17T20:18:19.681870",
          "status": "completed"
        },
        "tags": []
      },
      "source": [
        "Let's for example create a chain with 15 MZIs. We can also update the settings dictionary as follows:"
      ]
    },
    {
      "cell_type": "code",
      "execution_count": 27,
      "id": "576d4de8",
      "metadata": {
        "execution": {
          "iopub.execute_input": "2024-06-17T20:18:19.705688Z",
          "iopub.status.busy": "2024-06-17T20:18:19.705162Z",
          "iopub.status.idle": "2024-06-17T20:18:20.314540Z",
          "shell.execute_reply": "2024-06-17T20:18:20.313859Z"
        },
        "papermill": {
          "duration": 0.619499,
          "end_time": "2024-06-17T20:18:20.316180",
          "exception": false,
          "start_time": "2024-06-17T20:18:19.696681",
          "status": "completed"
        },
        "tags": []
      },
      "outputs": [],
      "source": [
        "chain = mzi_chain(num_mzis=15)\n",
        "settings = sax.get_settings(chain)\n",
        "for dc in settings:\n",
        "    settings[dc][\"top\"][\"length\"] = 25.0\n",
        "    settings[dc][\"btm\"][\"length\"] = 15.0\n",
        "settings = sax.update_settings(settings, wl=jnp.linspace(1.5, 1.6, 1000))"
      ]
    },
    {
      "cell_type": "markdown",
      "id": "11e3a10f",
      "metadata": {
        "papermill": {
          "duration": 0.007606,
          "end_time": "2024-06-17T20:18:20.331896",
          "exception": false,
          "start_time": "2024-06-17T20:18:20.324290",
          "status": "completed"
        },
        "tags": []
      },
      "source": [
        "We can simulate this:"
      ]
    },
    {
      "cell_type": "code",
      "execution_count": 28,
      "id": "b6e1155a",
      "metadata": {
        "execution": {
          "iopub.execute_input": "2024-06-17T20:18:20.348225Z",
          "iopub.status.busy": "2024-06-17T20:18:20.347629Z",
          "iopub.status.idle": "2024-06-17T20:18:23.095358Z",
          "shell.execute_reply": "2024-06-17T20:18:23.094777Z"
        },
        "papermill": {
          "duration": 2.757183,
          "end_time": "2024-06-17T20:18:23.096581",
          "exception": false,
          "start_time": "2024-06-17T20:18:20.339398",
          "status": "completed"
        },
        "tags": []
      },
      "outputs": [
        {
          "name": "stdout",
          "output_type": "stream",
          "text": [
            "CPU times: user 528 ms, sys: 64.8 ms, total: 592 ms\n",
            "Wall time: 581 ms\n"
          ]
        },
        {
          "name": "stdout",
          "output_type": "stream",
          "text": [
            "CPU times: user 2.07 s, sys: 50.9 ms, total: 2.12 s\n",
            "Wall time: 2.1 s\n",
            "CPU times: user 46.6 ms, sys: 20.3 ms, total: 66.9 ms\n",
            "Wall time: 62.4 ms\n"
          ]
        }
      ],
      "source": [
        "%time S = chain(**settings) # time to evaluate the MZI\n",
        "func = jax.jit(chain)\n",
        "%time S = func(**settings) # time to jit the MZI\n",
        "%time S = func(**settings) # time to evaluate the MZI after jitting"
      ]
    },
    {
      "cell_type": "markdown",
      "id": "70db7179",
      "metadata": {
        "papermill": {
          "duration": 0.007604,
          "end_time": "2024-06-17T20:18:23.112132",
          "exception": false,
          "start_time": "2024-06-17T20:18:23.104528",
          "status": "completed"
        },
        "tags": []
      },
      "source": [
        "Where we see that the unjitted evaluation of the MZI chain takes about a second, while the jitting of the MZI chain takes about two seconds (on a CPU). However, after the MZI chain has been jitted, the evaluation is in the order of about a few milliseconds!\n",
        "\n",
        "Anyway, let's see what this gives:"
      ]
    },
    {
      "cell_type": "code",
      "execution_count": 29,
      "id": "1e4a2aab",
      "metadata": {
        "execution": {
          "iopub.execute_input": "2024-06-17T20:18:23.128271Z",
          "iopub.status.busy": "2024-06-17T20:18:23.127924Z",
          "iopub.status.idle": "2024-06-17T20:18:23.221887Z",
          "shell.execute_reply": "2024-06-17T20:18:23.221212Z"
        },
        "papermill": {
          "duration": 0.103516,
          "end_time": "2024-06-17T20:18:23.223102",
          "exception": false,
          "start_time": "2024-06-17T20:18:23.119586",
          "status": "completed"
        },
        "tags": []
      },
      "outputs": [
        {
          "data": {
            "image/png": "[encoded data removed]",
            "text/plain": [
              "<Figure size 640x480 with 1 Axes>"
            ]
          },
          "metadata": {},
          "output_type": "display_data"
        }
      ],
      "source": [
        "S = sax.sdict(S)\n",
        "plt.plot(1e3 * settings[\"dc0\"][\"top\"][\"wl\"], jnp.abs(S[\"in0\", \"out0\"]) ** 2)\n",
        "plt.ylim(-0.05, 1.05)\n",
        "plt.xlabel(\"\u03bb [nm]\")\n",
        "plt.ylabel(\"T\")\n",
        "plt.ylim(-0.05, 1.05)\n",
        "plt.show()"
      ]
    }
  ],
  "metadata": {
    "kernelspec": {
      "display_name": "Python 3 (ipykernel)",
      "language": "python",
      "name": "python3"
    },
    "language_info": {
      "codemirror_mode": {
        "name": "ipython",
        "version": 3
      },
      "file_extension": ".py",
      "mimetype": "text/x-python",
      "name": "python",
      "nbconvert_exporter": "python",
      "pygments_lexer": "ipython3",
      "version": "3.10.14"
    },
    "papermill": {
      "default_parameters": {},
      "duration": 15.016978,
      "end_time": "2024-06-17T20:18:24.249585",
      "environment_variables": {},
      "exception": null,
      "input_path": "./examples/01_quick_start.ipynb",
      "output_path": "./examples/01_quick_start.ipynb",
      "parameters": {},
      "start_time": "2024-06-17T20:18:09.232607",
      "version": "2.6.0"
    },
    "widgets": {
      "application/vnd.jupyter.widget-state+json": {
        "state": {
          "04ce61f585874d909483794eb277b003": {
            "model_module": "@jupyter-widgets/controls",
            "model_module_version": "2.0.0",
            "model_name": "HBoxModel",
            "state": {
              "_dom_classes": [],
              "_model_module": "@jupyter-widgets/controls",
              "_model_module_version": "2.0.0",
              "_model_name": "HBoxModel",
              "_view_count": null,
              "_view_module": "@jupyter-widgets/controls",
              "_view_module_version": "2.0.0",
              "_view_name": "HBoxView",
              "box_style": "",
              "children": [
                "IPY_MODEL_94d45d87d84b499badc6835f7f5aa057",
                "IPY_MODEL_5c1b934f4c7446bf86ca2e8d1d4831e3",
                "IPY_MODEL_7ec5b9d401d24641960830614177ca52"
              ],
              "layout": "IPY_MODEL_5f0afd0f4b0f4a2087c8d4939eda27b1",
              "tabbable": null,
              "tooltip": null
            }
          },
          "2ca2b0aac13d447fbcff59fa082dab37": {
            "model_module": "@jupyter-widgets/controls",
            "model_module_version": "2.0.0",
            "model_name": "HTMLStyleModel",
            "state": {
              "_model_module": "@jupyter-widgets/controls",
              "_model_module_version": "2.0.0",
              "_model_name": "HTMLStyleModel",
              "_view_count": null,
              "_view_module": "@jupyter-widgets/base",
              "_view_module_version": "2.0.0",
              "_view_name": "StyleView",
              "background": null,
              "description_width": "",
              "font_size": null,
              "text_color": null
            }
          },
          "401c219fe7544fdfa513e90dbbe7d189": {
            "model_module": "@jupyter-widgets/base",
            "model_module_version": "2.0.0",
            "model_name": "LayoutModel",
            "state": {
              "_model_module": "@jupyter-widgets/base",
              "_model_module_version": "2.0.0",
              "_model_name": "LayoutModel",
              "_view_count": null,
              "_view_module": "@jupyter-widgets/base",
              "_view_module_version": "2.0.0",
              "_view_name": "LayoutView",
              "align_content": null,
              "align_items": null,
              "align_self": null,
              "border_bottom": null,
              "border_left": null,
              "border_right": null,
              "border_top": null,
              "bottom": null,
              "display": null,
              "flex": null,
              "flex_flow": null,
              "grid_area": null,
              "grid_auto_columns": null,
              "grid_auto_flow": null,
              "grid_auto_rows": null,
              "grid_column": null,
              "grid_gap": null,
              "grid_row": null,
              "grid_template_areas": null,
              "grid_template_columns": null,
              "grid_template_rows": null,
              "height": null,
              "justify_content": null,
              "justify_items": null,
              "left": null,
              "margin": null,
              "max_height": null,
              "max_width": null,
              "min_height": null,
              "min_width": null,
              "object_fit": null,
              "object_position": null,
              "order": null,
              "overflow": null,
              "padding": null,
              "right": null,
              "top": null,
              "visibility": null,
              "width": null
            }
          },
          "4bd656f14dbe4cc5ac6859be4ba4776f": {
            "model_module": "@jupyter-widgets/controls",
            "model_module_version": "2.0.0",
            "model_name": "ProgressStyleModel",
            "state": {
              "_model_module": "@jupyter-widgets/controls",
              "_model_module_version": "2.0.0",
              "_model_name": "ProgressStyleModel",
              "_view_count": null,
              "_view_module": "@jupyter-widgets/base",
              "_view_module_version": "2.0.0",
              "_view_name": "StyleView",
              "bar_color": null,
              "description_width": ""
            }
          },
          "5448ed44f20a4a4ca2dfe062e7a30395": {
            "model_module": "@jupyter-widgets/base",
            "model_module_version": "2.0.0",
            "model_name": "LayoutModel",
            "state": {
              "_model_module": "@jupyter-widgets/base",
              "_model_module_version": "2.0.0",
              "_model_name": "LayoutModel",
              "_view_count": null,
              "_view_module": "@jupyter-widgets/base",
              "_view_module_version": "2.0.0",
              "_view_name": "LayoutView",
              "align_content": null,
              "align_items": null,
              "align_self": null,
              "border_bottom": null,
              "border_left": null,
              "border_right": null,
              "border_top": null,
              "bottom": null,
              "display": null,
              "flex": null,
              "flex_flow": null,
              "grid_area": null,
              "grid_auto_columns": null,
              "grid_auto_flow": null,
              "grid_auto_rows": null,
              "grid_column": null,
              "grid_gap": null,
              "grid_row": null,
              "grid_template_areas": null,
              "grid_template_columns": null,
              "grid_template_rows": null,
              "height": null,
              "justify_content": null,
              "justify_items": null,
              "left": null,
              "margin": null,
              "max_height": null,
              "max_width": null,
              "min_height": null,
              "min_width": null,
              "object_fit": null,
              "object_position": null,
              "order": null,
              "overflow": null,
              "padding": null,
              "right": null,
              "top": null,
              "visibility": null,
              "width": null
            }
          },
          "5c1b934f4c7446bf86ca2e8d1d4831e3": {
            "model_module": "@jupyter-widgets/controls",
            "model_module_version": "2.0.0",
            "model_name": "FloatProgressModel",
            "state": {
              "_dom_classes": [],
              "_model_module": "@jupyter-widgets/controls",
              "_model_module_version": "2.0.0",
              "_model_name": "FloatProgressModel",
              "_view_count": null,
              "_view_module": "@jupyter-widgets/controls",
              "_view_module_version": "2.0.0",
              "_view_name": "ProgressView",
              "bar_style": "success",
              "description": "",
              "description_allow_html": false,
              "layout": "IPY_MODEL_e6758baa5793414cb15c190fa54fd109",
              "max": 300.0,
              "min": 0.0,
              "orientation": "horizontal",
              "style": "IPY_MODEL_4bd656f14dbe4cc5ac6859be4ba4776f",
              "tabbable": null,
              "tooltip": null,
              "value": 300.0
            }
          },
          "5f0afd0f4b0f4a2087c8d4939eda27b1": {
            "model_module": "@jupyter-widgets/base",
            "model_module_version": "2.0.0",
            "model_name": "LayoutModel",
            "state": {
              "_model_module": "@jupyter-widgets/base",
              "_model_module_version": "2.0.0",
              "_model_name": "LayoutModel",
              "_view_count": null,
              "_view_module": "@jupyter-widgets/base",
              "_view_module_version": "2.0.0",
              "_view_name": "LayoutView",
              "align_content": null,
              "align_items": null,
              "align_self": null,
              "border_bottom": null,
              "border_left": null,
              "border_right": null,
              "border_top": null,
              "bottom": null,
              "display": null,
              "flex": null,
              "flex_flow": null,
              "grid_area": null,
              "grid_auto_columns": null,
              "grid_auto_flow": null,
              "grid_auto_rows": null,
              "grid_column": null,
              "grid_gap": null,
              "grid_row": null,
              "grid_template_areas": null,
              "grid_template_columns": null,
              "grid_template_rows": null,
              "height": null,
              "justify_content": null,
              "justify_items": null,
              "left": null,
              "margin": null,
              "max_height": null,
              "max_width": null,
              "min_height": null,
              "min_width": null,
              "object_fit": null,
              "object_position": null,
              "order": null,
              "overflow": null,
              "padding": null,
              "right": null,
              "top": null,
              "visibility": null,
              "width": null
            }
          },
          "6d131031b9ac4fe6a5b07d8981bb2a46": {
            "model_module": "@jupyter-widgets/controls",
            "model_module_version": "2.0.0",
            "model_name": "HTMLStyleModel",
            "state": {
              "_model_module": "@jupyter-widgets/controls",
              "_model_module_version": "2.0.0",
              "_model_name": "HTMLStyleModel",
              "_view_count": null,
              "_view_module": "@jupyter-widgets/base",
              "_view_module_version": "2.0.0",
              "_view_name": "StyleView",
              "background": null,
              "description_width": "",
              "font_size": null,
              "text_color": null
            }
          },
          "7ec5b9d401d24641960830614177ca52": {
            "model_module": "@jupyter-widgets/controls",
            "model_module_version": "2.0.0",
            "model_name": "HTMLModel",
            "state": {
              "_dom_classes": [],
              "_model_module": "@jupyter-widgets/controls",
              "_model_module_version": "2.0.0",
              "_model_name": "HTMLModel",
              "_view_count": null,
              "_view_module": "@jupyter-widgets/controls",
              "_view_module_version": "2.0.0",
              "_view_name": "HTMLView",
              "description": "",
              "description_allow_html": false,
              "layout": "IPY_MODEL_5448ed44f20a4a4ca2dfe062e7a30395",
              "placeholder": "\u200b",
              "style": "IPY_MODEL_6d131031b9ac4fe6a5b07d8981bb2a46",
              "tabbable": null,
              "tooltip": null,
              "value": "\u2007300/300\u2007[00:04&lt;00:00,\u200776.49it/s,\u2007loss=0.000000]"
            }
          },
          "94d45d87d84b499badc6835f7f5aa057": {
            "model_module": "@jupyter-widgets/controls",
            "model_module_version": "2.0.0",
            "model_name": "HTMLModel",
            "state": {
              "_dom_classes": [],
              "_model_module": "@jupyter-widgets/controls",
              "_model_module_version": "2.0.0",
              "_model_name": "HTMLModel",
              "_view_count": null,
              "_view_module": "@jupyter-widgets/controls",
              "_view_module_version": "2.0.0",
              "_view_name": "HTMLView",
              "description": "",
              "description_allow_html": false,
              "layout": "IPY_MODEL_401c219fe7544fdfa513e90dbbe7d189",
              "placeholder": "\u200b",
              "style": "IPY_MODEL_2ca2b0aac13d447fbcff59fa082dab37",
              "tabbable": null,
              "tooltip": null,
              "value": "100%"
            }
          },
          "e6758baa5793414cb15c190fa54fd109": {
            "model_module": "@jupyter-widgets/base",
            "model_module_version": "2.0.0",
            "model_name": "LayoutModel",
            "state": {
              "_model_module": "@jupyter-widgets/base",
              "_model_module_version": "2.0.0",
              "_model_name": "LayoutModel",
              "_view_count": null,
              "_view_module": "@jupyter-widgets/base",
              "_view_module_version": "2.0.0",
              "_view_name": "LayoutView",
              "align_content": null,
              "align_items": null,
              "align_self": null,
              "border_bottom": null,
              "border_left": null,
              "border_right": null,
              "border_top": null,
              "bottom": null,
              "display": null,
              "flex": null,
              "flex_flow": null,
              "grid_area": null,
              "grid_auto_columns": null,
              "grid_auto_flow": null,
              "grid_auto_rows": null,
              "grid_column": null,
              "grid_gap": null,
              "grid_row": null,
              "grid_template_areas": null,
              "grid_template_columns": null,
              "grid_template_rows": null,
              "height": null,
              "justify_content": null,
              "justify_items": null,
              "left": null,
              "margin": null,
              "max_height": null,
              "max_width": null,
              "min_height": null,
              "min_width": null,
              "object_fit": null,
              "object_position": null,
              "order": null,
              "overflow": null,
              "padding": null,
              "right": null,
              "top": null,
              "visibility": null,
              "width": null
            }
          }
        },
        "version_major": 2,
        "version_minor": 0
      }
    }
  },
  "nbformat": 4,
  "nbformat_minor": 5
}