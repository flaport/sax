{
  "cells": [
    {
      "cell_type": "markdown",
      "id": "0",
      "metadata": {
        "papermill": {
          "duration": 0.02291,
          "end_time": "2025-02-27T06:33:37.575447",
          "exception": false,
          "start_time": "2025-02-27T06:33:37.552537",
          "status": "completed"
        },
        "tags": []
      },
      "source": [
        "# SAX Quick Start\n",
        "> Let's go over the core functionality of SAX."
      ]
    },
    {
      "cell_type": "markdown",
      "id": "1",
      "metadata": {
        "papermill": {
          "duration": 0.008636,
          "end_time": "2025-02-27T06:33:37.597232",
          "exception": false,
          "start_time": "2025-02-27T06:33:37.588596",
          "status": "completed"
        },
        "tags": []
      },
      "source": [
        "## Environment variables"
      ]
    },
    {
      "cell_type": "markdown",
      "id": "2",
      "metadata": {
        "papermill": {
          "duration": 0.008812,
          "end_time": "2025-02-27T06:33:37.620560",
          "exception": false,
          "start_time": "2025-02-27T06:33:37.611748",
          "status": "completed"
        },
        "tags": []
      },
      "source": [
        "SAX is based on JAX... here are some useful environment variables for working with JAX:"
      ]
    },
    {
      "cell_type": "code",
      "execution_count": 1,
      "id": "2b3bcc166a670139",
      "metadata": {
        "execution": {
          "iopub.execute_input": "2025-02-27T06:33:37.640162Z",
          "iopub.status.busy": "2025-02-27T06:33:37.639843Z",
          "iopub.status.idle": "2025-02-27T06:33:40.904106Z",
          "shell.execute_reply": "2025-02-27T06:33:40.903502Z"
        },
        "papermill": {
          "duration": 3.275615,
          "end_time": "2025-02-27T06:33:40.905348",
          "exception": false,
          "start_time": "2025-02-27T06:33:37.629733",
          "status": "completed"
        },
        "tags": []
      },
      "outputs": [
        {
          "name": "stdout",
          "output_type": "stream",
          "text": [
            "env: JAX_ENABLE_X64=0\n",
            "env: JAX_PLATFORM_NAME=cpu\n",
            "env: XLA_FLAGS=--xla_gpu_cuda_data_dir=/usr/lib/cuda\n"
          ]
        },
        {
          "name": "stdout",
          "output_type": "stream",
          "text": [
            "cpu\n"
          ]
        }
      ],
      "source": [
        "# select float32 or float64 as default dtype\n",
        "%env JAX_ENABLE_X64=0\n",
        "\n",
        "# select cpu or gpu\n",
        "%env JAX_PLATFORM_NAME=cpu\n",
        "\n",
        "# set custom CUDA location for gpu:\n",
        "%env XLA_FLAGS=--xla_gpu_cuda_data_dir=/usr/lib/cuda\n",
        "\n",
        "# Using GPU?\n",
        "import jax.extend\n",
        "\n",
        "print(jax.extend.backend.get_backend().platform)"
      ]
    },
    {
      "cell_type": "markdown",
      "id": "4",
      "metadata": {
        "papermill": {
          "duration": 0.009473,
          "end_time": "2025-02-27T06:33:40.925505",
          "exception": false,
          "start_time": "2025-02-27T06:33:40.916032",
          "status": "completed"
        },
        "tags": []
      },
      "source": [
        "## Imports"
      ]
    },
    {
      "cell_type": "code",
      "execution_count": 2,
      "id": "5",
      "metadata": {
        "execution": {
          "iopub.execute_input": "2025-02-27T06:33:40.945207Z",
          "iopub.status.busy": "2025-02-27T06:33:40.944797Z",
          "iopub.status.idle": "2025-02-27T06:33:43.304278Z",
          "shell.execute_reply": "2025-02-27T06:33:43.303596Z"
        },
        "papermill": {
          "duration": 2.371354,
          "end_time": "2025-02-27T06:33:43.305673",
          "exception": false,
          "start_time": "2025-02-27T06:33:40.934319",
          "status": "completed"
        },
        "tags": []
      },
      "outputs": [],
      "source": [
        "import jax\n",
        "import jax.example_libraries.optimizers as opt\n",
        "import jax.numpy as jnp\n",
        "import matplotlib.pyplot as plt  # plotting\n",
        "import sax\n",
        "from tqdm.notebook import trange"
      ]
    },
    {
      "cell_type": "markdown",
      "id": "6",
      "metadata": {
        "papermill": {
          "duration": 0.00954,
          "end_time": "2025-02-27T06:33:43.326267",
          "exception": false,
          "start_time": "2025-02-27T06:33:43.316727",
          "status": "completed"
        },
        "tags": []
      },
      "source": [
        "## Scatter *dictionaries*\n",
        "The core datastructure for specifying scatter parameters in SAX is a dictionary... more specifically a dictionary which maps a port combination (2-tuple) to a scatter parameter (or an array of scatter parameters when considering multiple wavelengths for example). Such a specific dictionary mapping is called ann `SDict` in SAX (`SDict \u2248 Dict[Tuple[str,str], float]`).\n",
        "\n",
        "Dictionaries are in fact much better suited for characterizing S-parameters than, say, (jax-)numpy arrays due to the inherent sparse nature of scatter parameters. Moreover, dictonaries allow for string indexing, which makes them much more pleasant to use in this context. Let\u2019s for example create an `SDict` for a 50/50 coupler:"
      ]
    },
    {
      "cell_type": "markdown",
      "id": "7",
      "metadata": {
        "papermill": {
          "duration": 0.00921,
          "end_time": "2025-02-27T06:33:43.344815",
          "exception": false,
          "start_time": "2025-02-27T06:33:43.335605",
          "status": "completed"
        },
        "tags": []
      },
      "source": [
        "```\n",
        "in1          out1\n",
        "   \\        /\n",
        "    ========\n",
        "   /        \\\n",
        "in0          out0\n",
        "```"
      ]
    },
    {
      "cell_type": "code",
      "execution_count": 3,
      "id": "8",
      "metadata": {
        "execution": {
          "iopub.execute_input": "2025-02-27T06:33:43.365107Z",
          "iopub.status.busy": "2025-02-27T06:33:43.364629Z",
          "iopub.status.idle": "2025-02-27T06:33:43.375560Z",
          "shell.execute_reply": "2025-02-27T06:33:43.374952Z"
        },
        "papermill": {
          "duration": 0.022637,
          "end_time": "2025-02-27T06:33:43.376980",
          "exception": false,
          "start_time": "2025-02-27T06:33:43.354343",
          "status": "completed"
        },
        "tags": []
      },
      "outputs": [
        {
          "data": {
            "text/plain": [
              "{('in0', 'out0'): 0.7071067811865476,\n",
              " ('out0', 'in0'): 0.7071067811865476,\n",
              " ('in0', 'out1'): 0.7071067811865476j,\n",
              " ('out1', 'in0'): 0.7071067811865476j,\n",
              " ('in1', 'out0'): 0.7071067811865476j,\n",
              " ('out0', 'in1'): 0.7071067811865476j,\n",
              " ('in1', 'out1'): 0.7071067811865476,\n",
              " ('out1', 'in1'): 0.7071067811865476}"
            ]
          },
          "execution_count": 3,
          "metadata": {},
          "output_type": "execute_result"
        }
      ],
      "source": [
        "coupling = 0.5\n",
        "kappa = coupling**0.5\n",
        "tau = (1 - coupling) ** 0.5\n",
        "coupler_dict = {\n",
        "    (\"in0\", \"out0\"): tau,\n",
        "    (\"out0\", \"in0\"): tau,\n",
        "    (\"in0\", \"out1\"): 1j * kappa,\n",
        "    (\"out1\", \"in0\"): 1j * kappa,\n",
        "    (\"in1\", \"out0\"): 1j * kappa,\n",
        "    (\"out0\", \"in1\"): 1j * kappa,\n",
        "    (\"in1\", \"out1\"): tau,\n",
        "    (\"out1\", \"in1\"): tau,\n",
        "}\n",
        "coupler_dict"
      ]
    },
    {
      "cell_type": "markdown",
      "id": "9",
      "metadata": {
        "papermill": {
          "duration": 0.009442,
          "end_time": "2025-02-27T06:33:43.396167",
          "exception": false,
          "start_time": "2025-02-27T06:33:43.386725",
          "status": "completed"
        },
        "tags": []
      },
      "source": [
        "Only the non-zero port combinations need to be specified. Any non-existent port-combination (for example `(\"in0\", \"in1\")`) is considered to be zero by SAX.\n",
        "\n",
        "Obviously, it can still be tedious to specify every port in the circuit manually. SAX therefore offers the `reciprocal` function, which auto-fills the reverse connection if the forward connection exist. For example:"
      ]
    },
    {
      "cell_type": "code",
      "execution_count": 4,
      "id": "10",
      "metadata": {
        "execution": {
          "iopub.execute_input": "2025-02-27T06:33:43.417002Z",
          "iopub.status.busy": "2025-02-27T06:33:43.415817Z",
          "iopub.status.idle": "2025-02-27T06:33:43.423331Z",
          "shell.execute_reply": "2025-02-27T06:33:43.422685Z"
        },
        "papermill": {
          "duration": 0.019014,
          "end_time": "2025-02-27T06:33:43.424438",
          "exception": false,
          "start_time": "2025-02-27T06:33:43.405424",
          "status": "completed"
        },
        "tags": []
      },
      "outputs": [
        {
          "data": {
            "text/plain": [
              "{('in0', 'out0'): 0.7071067811865476,\n",
              " ('in0', 'out1'): 0.7071067811865476j,\n",
              " ('in1', 'out0'): 0.7071067811865476j,\n",
              " ('in1', 'out1'): 0.7071067811865476,\n",
              " ('out0', 'in0'): 0.7071067811865476,\n",
              " ('out1', 'in0'): 0.7071067811865476j,\n",
              " ('out0', 'in1'): 0.7071067811865476j,\n",
              " ('out1', 'in1'): 0.7071067811865476}"
            ]
          },
          "execution_count": 4,
          "metadata": {},
          "output_type": "execute_result"
        }
      ],
      "source": [
        "coupler_dict = sax.reciprocal(\n",
        "    {\n",
        "        (\"in0\", \"out0\"): tau,\n",
        "        (\"in0\", \"out1\"): 1j * kappa,\n",
        "        (\"in1\", \"out0\"): 1j * kappa,\n",
        "        (\"in1\", \"out1\"): tau,\n",
        "    }\n",
        ")\n",
        "\n",
        "coupler_dict"
      ]
    },
    {
      "cell_type": "markdown",
      "id": "11",
      "metadata": {
        "papermill": {
          "duration": 0.010028,
          "end_time": "2025-02-27T06:33:43.445232",
          "exception": false,
          "start_time": "2025-02-27T06:33:43.435204",
          "status": "completed"
        },
        "tags": []
      },
      "source": [
        "## Parametrized Models"
      ]
    },
    {
      "cell_type": "markdown",
      "id": "12",
      "metadata": {
        "papermill": {
          "duration": 0.009807,
          "end_time": "2025-02-27T06:33:43.465014",
          "exception": false,
          "start_time": "2025-02-27T06:33:43.455207",
          "status": "completed"
        },
        "tags": []
      },
      "source": [
        "Constructing such an `SDict` is easy, however, usually we're more interested in having parametrized models for our components. To parametrize the coupler `SDict`, just wrap it in a function to obtain a SAX `Model`, which is a keyword-only function mapping to an `SDict`:"
      ]
    },
    {
      "cell_type": "code",
      "execution_count": 5,
      "id": "13",
      "metadata": {
        "execution": {
          "iopub.execute_input": "2025-02-27T06:33:43.484759Z",
          "iopub.status.busy": "2025-02-27T06:33:43.484459Z",
          "iopub.status.idle": "2025-02-27T06:33:43.492629Z",
          "shell.execute_reply": "2025-02-27T06:33:43.492136Z"
        },
        "papermill": {
          "duration": 0.019559,
          "end_time": "2025-02-27T06:33:43.493974",
          "exception": false,
          "start_time": "2025-02-27T06:33:43.474415",
          "status": "completed"
        },
        "tags": []
      },
      "outputs": [
        {
          "data": {
            "text/plain": [
              "{('in0', 'out0'): 0.8366600265340756,\n",
              " ('in0', 'out1'): 0.5477225575051661j,\n",
              " ('in1', 'out0'): 0.5477225575051661j,\n",
              " ('in1', 'out1'): 0.8366600265340756,\n",
              " ('out0', 'in0'): 0.8366600265340756,\n",
              " ('out1', 'in0'): 0.5477225575051661j,\n",
              " ('out0', 'in1'): 0.5477225575051661j,\n",
              " ('out1', 'in1'): 0.8366600265340756}"
            ]
          },
          "execution_count": 5,
          "metadata": {},
          "output_type": "execute_result"
        }
      ],
      "source": [
        "def coupler(coupling=0.5) -> sax.SDict:\n",
        "    kappa = coupling**0.5\n",
        "    tau = (1 - coupling) ** 0.5\n",
        "    coupler_dict = sax.reciprocal(\n",
        "        {\n",
        "            (\"in0\", \"out0\"): tau,\n",
        "            (\"in0\", \"out1\"): 1j * kappa,\n",
        "            (\"in1\", \"out0\"): 1j * kappa,\n",
        "            (\"in1\", \"out1\"): tau,\n",
        "        }\n",
        "    )\n",
        "    return coupler_dict\n",
        "\n",
        "\n",
        "coupler(coupling=0.3)"
      ]
    },
    {
      "cell_type": "markdown",
      "id": "14",
      "metadata": {
        "papermill": {
          "duration": 0.010422,
          "end_time": "2025-02-27T06:33:43.514261",
          "exception": false,
          "start_time": "2025-02-27T06:33:43.503839",
          "status": "completed"
        },
        "tags": []
      },
      "source": [
        "We can define a waveguide in the same way:"
      ]
    },
    {
      "cell_type": "code",
      "execution_count": 6,
      "id": "15",
      "metadata": {
        "execution": {
          "iopub.execute_input": "2025-02-27T06:33:43.535810Z",
          "iopub.status.busy": "2025-02-27T06:33:43.535524Z",
          "iopub.status.idle": "2025-02-27T06:33:43.541209Z",
          "shell.execute_reply": "2025-02-27T06:33:43.540691Z"
        },
        "papermill": {
          "duration": 0.017852,
          "end_time": "2025-02-27T06:33:43.542329",
          "exception": false,
          "start_time": "2025-02-27T06:33:43.524477",
          "status": "completed"
        },
        "tags": []
      },
      "outputs": [],
      "source": [
        "def waveguide(wl=1.55, wl0=1.55, neff=2.34, ng=3.4, length=10.0, loss=0.0) -> sax.SDict:\n",
        "    dwl = wl - wl0\n",
        "    dneff_dwl = (ng - neff) / wl0\n",
        "    neff = neff - dwl * dneff_dwl\n",
        "    phase = 2 * jnp.pi * neff * length / wl\n",
        "    transmission = 10 ** (-loss * length / 20) * jnp.exp(1j * phase)\n",
        "    sdict = sax.reciprocal(\n",
        "        {\n",
        "            (\"in0\", \"out0\"): transmission,\n",
        "        }\n",
        "    )\n",
        "    return sdict"
      ]
    },
    {
      "cell_type": "markdown",
      "id": "16",
      "metadata": {
        "papermill": {
          "duration": 0.009482,
          "end_time": "2025-02-27T06:33:43.561828",
          "exception": false,
          "start_time": "2025-02-27T06:33:43.552346",
          "status": "completed"
        },
        "tags": []
      },
      "source": [
        "That's pretty straightforward. Let's now move on to parametrized circuits:"
      ]
    },
    {
      "cell_type": "markdown",
      "id": "17",
      "metadata": {
        "papermill": {
          "duration": 0.009823,
          "end_time": "2025-02-27T06:33:43.581210",
          "exception": false,
          "start_time": "2025-02-27T06:33:43.571387",
          "status": "completed"
        },
        "tags": []
      },
      "source": [
        "## Circuit Models"
      ]
    },
    {
      "cell_type": "markdown",
      "id": "18",
      "metadata": {
        "papermill": {
          "duration": 0.010152,
          "end_time": "2025-02-27T06:33:43.601165",
          "exception": false,
          "start_time": "2025-02-27T06:33:43.591013",
          "status": "completed"
        },
        "tags": []
      },
      "source": [
        "Existing models can now be combined into a circuit using `sax.circuit`, which basically creates a new `Model` function:"
      ]
    },
    {
      "cell_type": "code",
      "execution_count": 7,
      "id": "19",
      "metadata": {
        "execution": {
          "iopub.execute_input": "2025-02-27T06:33:43.623079Z",
          "iopub.status.busy": "2025-02-27T06:33:43.622052Z",
          "iopub.status.idle": "2025-02-27T06:33:44.605504Z",
          "shell.execute_reply": "2025-02-27T06:33:44.604801Z"
        },
        "papermill": {
          "duration": 0.99634,
          "end_time": "2025-02-27T06:33:44.607587",
          "exception": false,
          "start_time": "2025-02-27T06:33:43.611247",
          "status": "completed"
        },
        "tags": []
      },
      "outputs": [],
      "source": [
        "mzi, info = sax.circuit(\n",
        "    netlist={\n",
        "        \"instances\": {\n",
        "            \"lft\": \"coupler\",\n",
        "            \"top\": \"waveguide\",\n",
        "            \"btm\": \"waveguide\",\n",
        "            \"rgt\": \"coupler\",\n",
        "        },\n",
        "        \"connections\": {\n",
        "            \"lft,out0\": \"btm,in0\",\n",
        "            \"btm,out0\": \"rgt,in0\",\n",
        "            \"lft,out1\": \"top,in0\",\n",
        "            \"top,out0\": \"rgt,in1\",\n",
        "        },\n",
        "        \"ports\": {\n",
        "            \"in0\": \"lft,in0\",\n",
        "            \"in1\": \"lft,in1\",\n",
        "            \"out0\": \"rgt,out0\",\n",
        "            \"out1\": \"rgt,out1\",\n",
        "        },\n",
        "    },\n",
        "    models={\n",
        "        \"coupler\": coupler,\n",
        "        \"waveguide\": waveguide,\n",
        "    },\n",
        ")"
      ]
    },
    {
      "cell_type": "code",
      "execution_count": 8,
      "id": "20",
      "metadata": {
        "execution": {
          "iopub.execute_input": "2025-02-27T06:33:44.631595Z",
          "iopub.status.busy": "2025-02-27T06:33:44.630422Z",
          "iopub.status.idle": "2025-02-27T06:33:45.032067Z",
          "shell.execute_reply": "2025-02-27T06:33:45.031447Z"
        },
        "papermill": {
          "duration": 0.414866,
          "end_time": "2025-02-27T06:33:45.033576",
          "exception": false,
          "start_time": "2025-02-27T06:33:44.618710",
          "status": "completed"
        },
        "tags": []
      },
      "outputs": [
        {
          "data": {
            "text/plain": [
              "{('in0', 'in0'): Array(0.+0.j, dtype=complex128),\n",
              " ('in0', 'in1'): Array(0.+0.j, dtype=complex128),\n",
              " ('in0', 'out0'): Array(0.+0.j, dtype=complex128),\n",
              " ('in0', 'out1'): Array(-0.57126822+0.82076344j, dtype=complex128),\n",
              " ('in1', 'in0'): Array(0.+0.j, dtype=complex128),\n",
              " ('in1', 'in1'): Array(0.+0.j, dtype=complex128),\n",
              " ('in1', 'out0'): Array(-0.57126822+0.82076344j, dtype=complex128),\n",
              " ('in1', 'out1'): Array(0.+0.j, dtype=complex128),\n",
              " ('out0', 'in0'): Array(0.+0.j, dtype=complex128),\n",
              " ('out0', 'in1'): Array(-0.57126822+0.82076344j, dtype=complex128),\n",
              " ('out0', 'out0'): Array(0.+0.j, dtype=complex128),\n",
              " ('out0', 'out1'): Array(0.+0.j, dtype=complex128),\n",
              " ('out1', 'in0'): Array(-0.57126822+0.82076344j, dtype=complex128),\n",
              " ('out1', 'in1'): Array(0.+0.j, dtype=complex128),\n",
              " ('out1', 'out0'): Array(0.+0.j, dtype=complex128),\n",
              " ('out1', 'out1'): Array(0.+0.j, dtype=complex128)}"
            ]
          },
          "execution_count": 8,
          "metadata": {},
          "output_type": "execute_result"
        }
      ],
      "source": [
        "mzi()"
      ]
    },
    {
      "cell_type": "code",
      "execution_count": 9,
      "id": "21",
      "metadata": {
        "execution": {
          "iopub.execute_input": "2025-02-27T06:33:45.055773Z",
          "iopub.status.busy": "2025-02-27T06:33:45.055493Z",
          "iopub.status.idle": "2025-02-27T06:33:45.107930Z",
          "shell.execute_reply": "2025-02-27T06:33:45.106829Z"
        },
        "papermill": {
          "duration": 0.066651,
          "end_time": "2025-02-27T06:33:45.110411",
          "exception": false,
          "start_time": "2025-02-27T06:33:45.043760",
          "status": "completed"
        },
        "tags": []
      },
      "outputs": [],
      "source": [
        "?mzi"
      ]
    },
    {
      "cell_type": "markdown",
      "id": "22",
      "metadata": {
        "papermill": {
          "duration": 0.01005,
          "end_time": "2025-02-27T06:33:45.131390",
          "exception": false,
          "start_time": "2025-02-27T06:33:45.121340",
          "status": "completed"
        },
        "tags": []
      },
      "source": [
        "The `circuit` function just creates a similar function as we created for the waveguide and the coupler, but in stead of taking parameters directly it takes parameter *dictionaries* for each of the instances in the circuit. The keys in these parameter dictionaries should correspond to the keyword arguments of each individual subcomponent. "
      ]
    },
    {
      "cell_type": "markdown",
      "id": "ef312bcf-4061-4467-a521-890756d701f2",
      "metadata": {
        "papermill": {
          "duration": 0.010253,
          "end_time": "2025-02-27T06:33:45.151894",
          "exception": false,
          "start_time": "2025-02-27T06:33:45.141641",
          "status": "completed"
        },
        "tags": []
      },
      "source": [
        "There is also some circuit metadata information returned as a second return value of the `sax.circuit` call:"
      ]
    },
    {
      "cell_type": "code",
      "execution_count": 10,
      "id": "937c6075-c55f-4125-862c-d549ef67ff00",
      "metadata": {
        "execution": {
          "iopub.execute_input": "2025-02-27T06:33:45.176053Z",
          "iopub.status.busy": "2025-02-27T06:33:45.175043Z",
          "iopub.status.idle": "2025-02-27T06:33:45.181334Z",
          "shell.execute_reply": "2025-02-27T06:33:45.180714Z"
        },
        "papermill": {
          "duration": 0.019962,
          "end_time": "2025-02-27T06:33:45.182596",
          "exception": false,
          "start_time": "2025-02-27T06:33:45.162634",
          "status": "completed"
        },
        "tags": []
      },
      "outputs": [
        {
          "data": {
            "text/plain": [
              "CircuitInfo(dag=<networkx.classes.digraph.DiGraph object at 0x7f2dd03a8740>, models={'waveguide': <function waveguide at 0x7f2d8421f240>, 'coupler': <function coupler at 0x7f2d8421f1a0>, 'top_level': <function _flat_circuit.<locals>._circuit at 0x7f2d7edb1120>}, backend='klu')"
            ]
          },
          "execution_count": 10,
          "metadata": {},
          "output_type": "execute_result"
        }
      ],
      "source": [
        "info"
      ]
    },
    {
      "cell_type": "markdown",
      "id": "23",
      "metadata": {
        "papermill": {
          "duration": 0.011917,
          "end_time": "2025-02-27T06:33:45.206574",
          "exception": false,
          "start_time": "2025-02-27T06:33:45.194657",
          "status": "completed"
        },
        "tags": []
      },
      "source": [
        "Let's now do a simulation for the MZI we just constructed:"
      ]
    },
    {
      "cell_type": "code",
      "execution_count": 11,
      "id": "24",
      "metadata": {
        "execution": {
          "iopub.execute_input": "2025-02-27T06:33:45.231591Z",
          "iopub.status.busy": "2025-02-27T06:33:45.230817Z",
          "iopub.status.idle": "2025-02-27T06:33:45.267337Z",
          "shell.execute_reply": "2025-02-27T06:33:45.266770Z"
        },
        "papermill": {
          "duration": 0.050055,
          "end_time": "2025-02-27T06:33:45.268513",
          "exception": false,
          "start_time": "2025-02-27T06:33:45.218458",
          "status": "completed"
        },
        "tags": []
      },
      "outputs": [
        {
          "name": "stdout",
          "output_type": "stream",
          "text": [
            "CPU times: user 23.2 ms, sys: 17 \u03bcs, total: 23.2 ms\n",
            "Wall time: 24.3 ms\n"
          ]
        },
        {
          "data": {
            "text/plain": [
              "{('in0', 'in0'): Array(0.+0.j, dtype=complex128),\n",
              " ('in0', 'in1'): Array(0.+0.j, dtype=complex128),\n",
              " ('in0', 'out0'): Array(0.+0.j, dtype=complex128),\n",
              " ('in0', 'out1'): Array(-0.57126822+0.82076344j, dtype=complex128),\n",
              " ('in1', 'in0'): Array(0.+0.j, dtype=complex128),\n",
              " ('in1', 'in1'): Array(0.+0.j, dtype=complex128),\n",
              " ('in1', 'out0'): Array(-0.57126822+0.82076344j, dtype=complex128),\n",
              " ('in1', 'out1'): Array(0.+0.j, dtype=complex128),\n",
              " ('out0', 'in0'): Array(0.+0.j, dtype=complex128),\n",
              " ('out0', 'in1'): Array(-0.57126822+0.82076344j, dtype=complex128),\n",
              " ('out0', 'out0'): Array(0.+0.j, dtype=complex128),\n",
              " ('out0', 'out1'): Array(0.+0.j, dtype=complex128),\n",
              " ('out1', 'in0'): Array(-0.57126822+0.82076344j, dtype=complex128),\n",
              " ('out1', 'in1'): Array(0.+0.j, dtype=complex128),\n",
              " ('out1', 'out0'): Array(0.+0.j, dtype=complex128),\n",
              " ('out1', 'out1'): Array(0.+0.j, dtype=complex128)}"
            ]
          },
          "execution_count": 11,
          "metadata": {},
          "output_type": "execute_result"
        }
      ],
      "source": [
        "%time mzi()"
      ]
    },
    {
      "cell_type": "code",
      "execution_count": 12,
      "id": "25",
      "metadata": {
        "execution": {
          "iopub.execute_input": "2025-02-27T06:33:45.291771Z",
          "iopub.status.busy": "2025-02-27T06:33:45.291502Z",
          "iopub.status.idle": "2025-02-27T06:33:45.295447Z",
          "shell.execute_reply": "2025-02-27T06:33:45.294897Z"
        },
        "papermill": {
          "duration": 0.016961,
          "end_time": "2025-02-27T06:33:45.297023",
          "exception": false,
          "start_time": "2025-02-27T06:33:45.280062",
          "status": "completed"
        },
        "tags": []
      },
      "outputs": [],
      "source": [
        "mzi2 = jax.jit(mzi)"
      ]
    },
    {
      "cell_type": "code",
      "execution_count": 13,
      "id": "26",
      "metadata": {
        "execution": {
          "iopub.execute_input": "2025-02-27T06:33:45.360756Z",
          "iopub.status.busy": "2025-02-27T06:33:45.360483Z",
          "iopub.status.idle": "2025-02-27T06:33:45.630222Z",
          "shell.execute_reply": "2025-02-27T06:33:45.629683Z"
        },
        "papermill": {
          "duration": 0.324888,
          "end_time": "2025-02-27T06:33:45.631430",
          "exception": false,
          "start_time": "2025-02-27T06:33:45.306542",
          "status": "completed"
        },
        "tags": []
      },
      "outputs": [
        {
          "name": "stdout",
          "output_type": "stream",
          "text": [
            "CPU times: user 280 ms, sys: 5.82 ms, total: 286 ms\n",
            "Wall time: 259 ms\n"
          ]
        },
        {
          "data": {
            "text/plain": [
              "{('in0', 'in0'): Array(0.+0.j, dtype=complex128),\n",
              " ('in0', 'in1'): Array(0.+0.j, dtype=complex128),\n",
              " ('in0', 'out0'): Array(0.+0.j, dtype=complex128),\n",
              " ('in0', 'out1'): Array(-0.57126822+0.82076344j, dtype=complex128),\n",
              " ('in1', 'in0'): Array(0.+0.j, dtype=complex128),\n",
              " ('in1', 'in1'): Array(0.+0.j, dtype=complex128),\n",
              " ('in1', 'out0'): Array(-0.57126822+0.82076344j, dtype=complex128),\n",
              " ('in1', 'out1'): Array(0.+0.j, dtype=complex128),\n",
              " ('out0', 'in0'): Array(0.+0.j, dtype=complex128),\n",
              " ('out0', 'in1'): Array(-0.57126822+0.82076344j, dtype=complex128),\n",
              " ('out0', 'out0'): Array(0.+0.j, dtype=complex128),\n",
              " ('out0', 'out1'): Array(0.+0.j, dtype=complex128),\n",
              " ('out1', 'in0'): Array(-0.57126822+0.82076344j, dtype=complex128),\n",
              " ('out1', 'in1'): Array(0.+0.j, dtype=complex128),\n",
              " ('out1', 'out0'): Array(0.+0.j, dtype=complex128),\n",
              " ('out1', 'out1'): Array(0.+0.j, dtype=complex128)}"
            ]
          },
          "execution_count": 13,
          "metadata": {},
          "output_type": "execute_result"
        }
      ],
      "source": [
        "%time mzi2()"
      ]
    },
    {
      "cell_type": "code",
      "execution_count": 14,
      "id": "27",
      "metadata": {
        "execution": {
          "iopub.execute_input": "2025-02-27T06:33:45.657286Z",
          "iopub.status.busy": "2025-02-27T06:33:45.657004Z",
          "iopub.status.idle": "2025-02-27T06:33:45.669691Z",
          "shell.execute_reply": "2025-02-27T06:33:45.669098Z"
        },
        "papermill": {
          "duration": 0.027049,
          "end_time": "2025-02-27T06:33:45.671301",
          "exception": false,
          "start_time": "2025-02-27T06:33:45.644252",
          "status": "completed"
        },
        "tags": []
      },
      "outputs": [
        {
          "name": "stdout",
          "output_type": "stream",
          "text": [
            "CPU times: user 831 \u03bcs, sys: 0 ns, total: 831 \u03bcs\n",
            "Wall time: 2 ms\n"
          ]
        },
        {
          "data": {
            "text/plain": [
              "{('in0', 'in0'): Array(0.+0.j, dtype=complex128),\n",
              " ('in0', 'in1'): Array(0.+0.j, dtype=complex128),\n",
              " ('in0', 'out0'): Array(0.+0.j, dtype=complex128),\n",
              " ('in0', 'out1'): Array(-0.57126822+0.82076344j, dtype=complex128),\n",
              " ('in1', 'in0'): Array(0.+0.j, dtype=complex128),\n",
              " ('in1', 'in1'): Array(0.+0.j, dtype=complex128),\n",
              " ('in1', 'out0'): Array(-0.57126822+0.82076344j, dtype=complex128),\n",
              " ('in1', 'out1'): Array(0.+0.j, dtype=complex128),\n",
              " ('out0', 'in0'): Array(0.+0.j, dtype=complex128),\n",
              " ('out0', 'in1'): Array(-0.57126822+0.82076344j, dtype=complex128),\n",
              " ('out0', 'out0'): Array(0.+0.j, dtype=complex128),\n",
              " ('out0', 'out1'): Array(0.+0.j, dtype=complex128),\n",
              " ('out1', 'in0'): Array(-0.57126822+0.82076344j, dtype=complex128),\n",
              " ('out1', 'in1'): Array(0.+0.j, dtype=complex128),\n",
              " ('out1', 'out0'): Array(0.+0.j, dtype=complex128),\n",
              " ('out1', 'out1'): Array(0.+0.j, dtype=complex128)}"
            ]
          },
          "execution_count": 14,
          "metadata": {},
          "output_type": "execute_result"
        }
      ],
      "source": [
        "%time mzi2()"
      ]
    },
    {
      "cell_type": "markdown",
      "id": "28",
      "metadata": {
        "papermill": {
          "duration": 0.01244,
          "end_time": "2025-02-27T06:33:45.696685",
          "exception": false,
          "start_time": "2025-02-27T06:33:45.684245",
          "status": "completed"
        },
        "tags": []
      },
      "source": [
        "Or in the case we want an MZI with different arm lengths:"
      ]
    },
    {
      "cell_type": "code",
      "execution_count": 15,
      "id": "29",
      "metadata": {
        "execution": {
          "iopub.execute_input": "2025-02-27T06:33:45.719931Z",
          "iopub.status.busy": "2025-02-27T06:33:45.719654Z",
          "iopub.status.idle": "2025-02-27T06:33:45.750823Z",
          "shell.execute_reply": "2025-02-27T06:33:45.750311Z"
        },
        "papermill": {
          "duration": 0.043645,
          "end_time": "2025-02-27T06:33:45.752125",
          "exception": false,
          "start_time": "2025-02-27T06:33:45.708480",
          "status": "completed"
        },
        "tags": []
      },
      "outputs": [
        {
          "data": {
            "text/plain": [
              "{('in0', 'in0'): Array(0.+0.j, dtype=complex128),\n",
              " ('in0', 'in1'): Array(0.+0.j, dtype=complex128),\n",
              " ('in0', 'out0'): Array(-0.28072841+0.10397039j, dtype=complex128),\n",
              " ('in0', 'out1'): Array(0.89474612-0.33137758j, dtype=complex128),\n",
              " ('in1', 'in0'): Array(0.+0.j, dtype=complex128),\n",
              " ('in1', 'in1'): Array(0.+0.j, dtype=complex128),\n",
              " ('in1', 'out0'): Array(0.89474612-0.33137758j, dtype=complex128),\n",
              " ('in1', 'out1'): Array(0.28072841-0.10397039j, dtype=complex128),\n",
              " ('out0', 'in0'): Array(-0.28072841+0.10397039j, dtype=complex128),\n",
              " ('out0', 'in1'): Array(0.89474612-0.33137758j, dtype=complex128),\n",
              " ('out0', 'out0'): Array(0.+0.j, dtype=complex128),\n",
              " ('out0', 'out1'): Array(0.+0.j, dtype=complex128),\n",
              " ('out1', 'in0'): Array(0.89474612-0.33137758j, dtype=complex128),\n",
              " ('out1', 'in1'): Array(0.28072841-0.10397039j, dtype=complex128),\n",
              " ('out1', 'out0'): Array(0.+0.j, dtype=complex128),\n",
              " ('out1', 'out1'): Array(0.+0.j, dtype=complex128)}"
            ]
          },
          "execution_count": 15,
          "metadata": {},
          "output_type": "execute_result"
        }
      ],
      "source": [
        "mzi(top={\"length\": 25.0}, btm={\"length\": 15.0})"
      ]
    },
    {
      "cell_type": "markdown",
      "id": "30",
      "metadata": {
        "papermill": {
          "duration": 0.009978,
          "end_time": "2025-02-27T06:33:45.773044",
          "exception": false,
          "start_time": "2025-02-27T06:33:45.763066",
          "status": "completed"
        },
        "tags": []
      },
      "source": [
        "## Simulating the parametrized MZI"
      ]
    },
    {
      "cell_type": "markdown",
      "id": "31",
      "metadata": {
        "papermill": {
          "duration": 0.010308,
          "end_time": "2025-02-27T06:33:45.793482",
          "exception": false,
          "start_time": "2025-02-27T06:33:45.783174",
          "status": "completed"
        },
        "tags": []
      },
      "source": [
        "We can simulate the above mzi for multiple wavelengths as well by specifying the wavelength at the top level of the circuit call. Each setting specified at the top level of the circuit call will be propagated to all subcomponents of the circuit which have that setting:"
      ]
    },
    {
      "cell_type": "code",
      "execution_count": 16,
      "id": "32",
      "metadata": {
        "execution": {
          "iopub.execute_input": "2025-02-27T06:33:45.815338Z",
          "iopub.status.busy": "2025-02-27T06:33:45.815075Z",
          "iopub.status.idle": "2025-02-27T06:33:46.527427Z",
          "shell.execute_reply": "2025-02-27T06:33:46.526852Z"
        },
        "papermill": {
          "duration": 0.724653,
          "end_time": "2025-02-27T06:33:46.528417",
          "exception": false,
          "start_time": "2025-02-27T06:33:45.803764",
          "status": "completed"
        },
        "tags": []
      },
      "outputs": [
        {
          "name": "stdout",
          "output_type": "stream",
          "text": [
            "CPU times: user 649 ms, sys: 27.9 ms, total: 677 ms\n",
            "Wall time: 666 ms\n"
          ]
        }
      ],
      "source": [
        "wl = jnp.linspace(1.51, 1.59, 1000)\n",
        "%time S = mzi(wl=wl, top={\"length\": 25.0}, btm={\"length\": 15.0})"
      ]
    },
    {
      "cell_type": "markdown",
      "id": "33",
      "metadata": {
        "papermill": {
          "duration": 0.006271,
          "end_time": "2025-02-27T06:33:46.541582",
          "exception": false,
          "start_time": "2025-02-27T06:33:46.535311",
          "status": "completed"
        },
        "tags": []
      },
      "source": [
        "Let's see what this gives:"
      ]
    },
    {
      "cell_type": "code",
      "execution_count": 17,
      "id": "34",
      "metadata": {
        "execution": {
          "iopub.execute_input": "2025-02-27T06:33:46.557234Z",
          "iopub.status.busy": "2025-02-27T06:33:46.556630Z",
          "iopub.status.idle": "2025-02-27T06:33:46.723264Z",
          "shell.execute_reply": "2025-02-27T06:33:46.722694Z"
        },
        "papermill": {
          "duration": 0.176486,
          "end_time": "2025-02-27T06:33:46.724656",
          "exception": false,
          "start_time": "2025-02-27T06:33:46.548170",
          "status": "completed"
        },
        "tags": []
      },
      "outputs": [
        {
          "data": {
            "image/png": "[encoded data removed]",
            "text/plain": [
              "<Figure size 640x480 with 1 Axes>"
            ]
          },
          "metadata": {},
          "output_type": "display_data"
        }
      ],
      "source": [
        "plt.plot(wl * 1e3, abs(S[\"in0\", \"out0\"]) ** 2)\n",
        "plt.ylim(-0.05, 1.05)\n",
        "plt.xlabel(\"\u03bb [nm]\")\n",
        "plt.ylabel(\"T\")\n",
        "plt.ylim(-0.05, 1.05)\n",
        "plt.show()"
      ]
    },
    {
      "cell_type": "markdown",
      "id": "35",
      "metadata": {
        "papermill": {
          "duration": 0.010758,
          "end_time": "2025-02-27T06:33:46.746742",
          "exception": false,
          "start_time": "2025-02-27T06:33:46.735984",
          "status": "completed"
        },
        "tags": []
      },
      "source": [
        "## Optimization"
      ]
    },
    {
      "cell_type": "markdown",
      "id": "36",
      "metadata": {
        "papermill": {
          "duration": 0.010104,
          "end_time": "2025-02-27T06:33:46.767466",
          "exception": false,
          "start_time": "2025-02-27T06:33:46.757362",
          "status": "completed"
        },
        "tags": []
      },
      "source": [
        "We'd like to optimize an MZI such that one of the minima is at 1550nm. To do this, we need to define a loss function for the circuit at 1550nm. This function should take the parameters that you want to optimize as positional arguments:"
      ]
    },
    {
      "cell_type": "code",
      "execution_count": 18,
      "id": "37",
      "metadata": {
        "execution": {
          "iopub.execute_input": "2025-02-27T06:33:46.794417Z",
          "iopub.status.busy": "2025-02-27T06:33:46.793204Z",
          "iopub.status.idle": "2025-02-27T06:33:46.798605Z",
          "shell.execute_reply": "2025-02-27T06:33:46.798034Z"
        },
        "papermill": {
          "duration": 0.020465,
          "end_time": "2025-02-27T06:33:46.799859",
          "exception": false,
          "start_time": "2025-02-27T06:33:46.779394",
          "status": "completed"
        },
        "tags": []
      },
      "outputs": [],
      "source": [
        "@jax.jit\n",
        "def loss_fn(delta_length):\n",
        "    S = mzi(wl=1.55, top={\"length\": 15.0 + delta_length}, btm={\"length\": 15.0})\n",
        "    return (abs(S[\"in0\", \"out0\"]) ** 2).mean()"
      ]
    },
    {
      "cell_type": "code",
      "execution_count": 19,
      "id": "38",
      "metadata": {
        "execution": {
          "iopub.execute_input": "2025-02-27T06:33:46.825945Z",
          "iopub.status.busy": "2025-02-27T06:33:46.825645Z",
          "iopub.status.idle": "2025-02-27T06:33:46.955479Z",
          "shell.execute_reply": "2025-02-27T06:33:46.954945Z"
        },
        "papermill": {
          "duration": 0.143916,
          "end_time": "2025-02-27T06:33:46.956915",
          "exception": false,
          "start_time": "2025-02-27T06:33:46.812999",
          "status": "completed"
        },
        "tags": []
      },
      "outputs": [
        {
          "name": "stdout",
          "output_type": "stream",
          "text": [
            "CPU times: user 132 ms, sys: 1.09 ms, total: 133 ms\n",
            "Wall time: 122 ms\n"
          ]
        },
        {
          "data": {
            "text/plain": [
              "Array(0.08961828, dtype=float64)"
            ]
          },
          "execution_count": 19,
          "metadata": {},
          "output_type": "execute_result"
        }
      ],
      "source": [
        "%time loss_fn(10.0)"
      ]
    },
    {
      "cell_type": "markdown",
      "id": "39",
      "metadata": {
        "papermill": {
          "duration": 0.012164,
          "end_time": "2025-02-27T06:33:46.982143",
          "exception": false,
          "start_time": "2025-02-27T06:33:46.969979",
          "status": "completed"
        },
        "tags": []
      },
      "source": [
        "We can use this loss function to define a grad function which works on the parameters of the loss function:"
      ]
    },
    {
      "cell_type": "code",
      "execution_count": 20,
      "id": "40",
      "metadata": {
        "execution": {
          "iopub.execute_input": "2025-02-27T06:33:47.008686Z",
          "iopub.status.busy": "2025-02-27T06:33:47.008385Z",
          "iopub.status.idle": "2025-02-27T06:33:47.013386Z",
          "shell.execute_reply": "2025-02-27T06:33:47.012769Z"
        },
        "papermill": {
          "duration": 0.020188,
          "end_time": "2025-02-27T06:33:47.014634",
          "exception": false,
          "start_time": "2025-02-27T06:33:46.994446",
          "status": "completed"
        },
        "tags": []
      },
      "outputs": [],
      "source": [
        "grad_fn = jax.jit(\n",
        "    jax.grad(\n",
        "        loss_fn,\n",
        "        argnums=0,  # JAX gradient function for the first positional argument, jitted\n",
        "    )\n",
        ")"
      ]
    },
    {
      "cell_type": "markdown",
      "id": "41",
      "metadata": {
        "papermill": {
          "duration": 0.012821,
          "end_time": "2025-02-27T06:33:47.040799",
          "exception": false,
          "start_time": "2025-02-27T06:33:47.027978",
          "status": "completed"
        },
        "tags": []
      },
      "source": [
        "Next, we need to define a JAX optimizer, which on its own is nothing more than three more functions:  an initialization function with which to initialize the optimizer state, an update function which will update the optimizer state (and with it the model parameters). The third function that's being returned will give the model parameters given the optimizer state."
      ]
    },
    {
      "cell_type": "code",
      "execution_count": 21,
      "id": "42",
      "metadata": {
        "execution": {
          "iopub.execute_input": "2025-02-27T06:33:47.067367Z",
          "iopub.status.busy": "2025-02-27T06:33:47.067082Z",
          "iopub.status.idle": "2025-02-27T06:33:47.072980Z",
          "shell.execute_reply": "2025-02-27T06:33:47.072348Z"
        },
        "papermill": {
          "duration": 0.020738,
          "end_time": "2025-02-27T06:33:47.074338",
          "exception": false,
          "start_time": "2025-02-27T06:33:47.053600",
          "status": "completed"
        },
        "tags": []
      },
      "outputs": [],
      "source": [
        "initial_delta_length = 10.0\n",
        "init_fn, update_fn, params_fn = opt.adam(step_size=0.1)\n",
        "state = init_fn(initial_delta_length)"
      ]
    },
    {
      "cell_type": "markdown",
      "id": "43",
      "metadata": {
        "papermill": {
          "duration": 0.012875,
          "end_time": "2025-02-27T06:33:47.100617",
          "exception": false,
          "start_time": "2025-02-27T06:33:47.087742",
          "status": "completed"
        },
        "tags": []
      },
      "source": [
        "Given all this, a single training step can be defined:"
      ]
    },
    {
      "cell_type": "code",
      "execution_count": 22,
      "id": "44",
      "metadata": {
        "execution": {
          "iopub.execute_input": "2025-02-27T06:33:47.127273Z",
          "iopub.status.busy": "2025-02-27T06:33:47.126989Z",
          "iopub.status.idle": "2025-02-27T06:33:47.131457Z",
          "shell.execute_reply": "2025-02-27T06:33:47.130978Z"
        },
        "papermill": {
          "duration": 0.019214,
          "end_time": "2025-02-27T06:33:47.132539",
          "exception": false,
          "start_time": "2025-02-27T06:33:47.113325",
          "status": "completed"
        },
        "tags": []
      },
      "outputs": [],
      "source": [
        "def step_fn(step, state):\n",
        "    settings = params_fn(state)\n",
        "    loss = loss_fn(settings)\n",
        "    grad = grad_fn(settings)\n",
        "    state = update_fn(step, grad, state)\n",
        "    return loss, state"
      ]
    },
    {
      "cell_type": "markdown",
      "id": "45",
      "metadata": {
        "papermill": {
          "duration": 0.012171,
          "end_time": "2025-02-27T06:33:47.156295",
          "exception": false,
          "start_time": "2025-02-27T06:33:47.144124",
          "status": "completed"
        },
        "tags": []
      },
      "source": [
        "And we can use this step function to start the training of the MZI:"
      ]
    },
    {
      "cell_type": "code",
      "execution_count": 23,
      "id": "46",
      "metadata": {
        "execution": {
          "iopub.execute_input": "2025-02-27T06:33:47.183648Z",
          "iopub.status.busy": "2025-02-27T06:33:47.183369Z",
          "iopub.status.idle": "2025-02-27T06:33:56.751509Z",
          "shell.execute_reply": "2025-02-27T06:33:56.750940Z"
        },
        "papermill": {
          "duration": 9.583762,
          "end_time": "2025-02-27T06:33:56.752982",
          "exception": false,
          "start_time": "2025-02-27T06:33:47.169220",
          "status": "completed"
        },
        "tags": []
      },
      "outputs": [
        {
          "data": {
            "application/vnd.jupyter.widget-view+json": {
              "model_id": "cf086d70714747e58f8fa1d758f20d09",
              "version_major": 2,
              "version_minor": 0
            },
            "text/plain": [
              "  0%|          | 0/300 [00:00<?, ?it/s]"
            ]
          },
          "metadata": {},
          "output_type": "display_data"
        }
      ],
      "source": [
        "range_ = trange(300)\n",
        "for step in range_:\n",
        "    loss, state = step_fn(step, state)\n",
        "    range_.set_postfix(loss=f\"{loss:.6f}\")"
      ]
    },
    {
      "cell_type": "code",
      "execution_count": 24,
      "id": "47",
      "metadata": {
        "execution": {
          "iopub.execute_input": "2025-02-27T06:33:56.781335Z",
          "iopub.status.busy": "2025-02-27T06:33:56.780069Z",
          "iopub.status.idle": "2025-02-27T06:33:56.786984Z",
          "shell.execute_reply": "2025-02-27T06:33:56.786436Z"
        },
        "papermill": {
          "duration": 0.022059,
          "end_time": "2025-02-27T06:33:56.788340",
          "exception": false,
          "start_time": "2025-02-27T06:33:56.766281",
          "status": "completed"
        },
        "tags": []
      },
      "outputs": [
        {
          "data": {
            "text/plain": [
              "Array(9.93589744, dtype=float64)"
            ]
          },
          "execution_count": 24,
          "metadata": {},
          "output_type": "execute_result"
        }
      ],
      "source": [
        "delta_length = params_fn(state)\n",
        "delta_length"
      ]
    },
    {
      "cell_type": "markdown",
      "id": "48",
      "metadata": {
        "papermill": {
          "duration": 0.01257,
          "end_time": "2025-02-27T06:33:56.814126",
          "exception": false,
          "start_time": "2025-02-27T06:33:56.801556",
          "status": "completed"
        },
        "tags": []
      },
      "source": [
        "Let's see what we've got over a range of wavelengths:"
      ]
    },
    {
      "cell_type": "code",
      "execution_count": 25,
      "id": "49",
      "metadata": {
        "execution": {
          "iopub.execute_input": "2025-02-27T06:33:56.841949Z",
          "iopub.status.busy": "2025-02-27T06:33:56.840771Z",
          "iopub.status.idle": "2025-02-27T06:33:57.307098Z",
          "shell.execute_reply": "2025-02-27T06:33:57.305683Z"
        },
        "papermill": {
          "duration": 0.481621,
          "end_time": "2025-02-27T06:33:57.308615",
          "exception": false,
          "start_time": "2025-02-27T06:33:56.826994",
          "status": "completed"
        },
        "tags": []
      },
      "outputs": [
        {
          "data": {
            "image/png": "[encoded data removed]",
            "text/plain": [
              "<Figure size 640x480 with 1 Axes>"
            ]
          },
          "metadata": {},
          "output_type": "display_data"
        }
      ],
      "source": [
        "S = mzi(wl=wl, top={\"length\": 15.0 + delta_length}, btm={\"length\": 15.0})\n",
        "plt.plot(wl * 1e3, abs(S[\"in1\", \"out1\"]) ** 2)\n",
        "plt.xlabel(\"\u03bb [nm]\")\n",
        "plt.ylabel(\"T\")\n",
        "plt.ylim(-0.05, 1.05)\n",
        "plt.plot([1550, 1550], [0, 1])\n",
        "plt.show()"
      ]
    },
    {
      "cell_type": "markdown",
      "id": "50",
      "metadata": {
        "papermill": {
          "duration": 0.014138,
          "end_time": "2025-02-27T06:33:57.337566",
          "exception": false,
          "start_time": "2025-02-27T06:33:57.323428",
          "status": "completed"
        },
        "tags": []
      },
      "source": [
        "The minimum of the MZI is perfectly located at 1550nm."
      ]
    },
    {
      "cell_type": "markdown",
      "id": "51",
      "metadata": {
        "papermill": {
          "duration": 0.036954,
          "end_time": "2025-02-27T06:33:57.417141",
          "exception": false,
          "start_time": "2025-02-27T06:33:57.380187",
          "status": "completed"
        },
        "tags": []
      },
      "source": [
        "## MZI Chain"
      ]
    },
    {
      "cell_type": "markdown",
      "id": "52",
      "metadata": {
        "papermill": {
          "duration": 0.027689,
          "end_time": "2025-02-27T06:33:57.470491",
          "exception": false,
          "start_time": "2025-02-27T06:33:57.442802",
          "status": "completed"
        },
        "tags": []
      },
      "source": [
        "Let's now create a chain of MZIs. For this, we first create a subcomponent: a directional coupler with arms:\n",
        "\n",
        "\n",
        "```\n",
        "                                 top\n",
        "                            in0 ----- out0 -> out1\n",
        "    in1 <- in1        out1                 \n",
        "              \\  dc  /                  \n",
        "               ======                  \n",
        "              /      \\                \n",
        "    in0 <- in0        out0       btm    \n",
        "                            in0 ----- out0 -> out0\n",
        "```"
      ]
    },
    {
      "cell_type": "code",
      "execution_count": 26,
      "id": "53",
      "metadata": {
        "execution": {
          "iopub.execute_input": "2025-02-27T06:33:57.540223Z",
          "iopub.status.busy": "2025-02-27T06:33:57.535899Z",
          "iopub.status.idle": "2025-02-27T06:33:58.297588Z",
          "shell.execute_reply": "2025-02-27T06:33:58.297000Z"
        },
        "papermill": {
          "duration": 0.803347,
          "end_time": "2025-02-27T06:33:58.298933",
          "exception": false,
          "start_time": "2025-02-27T06:33:57.495586",
          "status": "completed"
        },
        "tags": []
      },
      "outputs": [],
      "source": [
        "dc_with_arms, info = sax.circuit(\n",
        "    netlist={\n",
        "        \"instances\": {\n",
        "            \"lft\": \"coupler\",\n",
        "            \"top\": \"waveguide\",\n",
        "            \"btm\": \"waveguide\",\n",
        "        },\n",
        "        \"connections\": {\n",
        "            \"lft,out0\": \"btm,in0\",\n",
        "            \"lft,out1\": \"top,in0\",\n",
        "        },\n",
        "        \"ports\": {\n",
        "            \"in0\": \"lft,in0\",\n",
        "            \"in1\": \"lft,in1\",\n",
        "            \"out0\": \"btm,out0\",\n",
        "            \"out1\": \"top,out0\",\n",
        "        },\n",
        "    },\n",
        "    models={\n",
        "        \"coupler\": coupler,\n",
        "        \"waveguide\": waveguide,\n",
        "    },\n",
        ")"
      ]
    },
    {
      "cell_type": "markdown",
      "id": "54",
      "metadata": {
        "papermill": {
          "duration": 0.013256,
          "end_time": "2025-02-27T06:33:58.328121",
          "exception": false,
          "start_time": "2025-02-27T06:33:58.314865",
          "status": "completed"
        },
        "tags": []
      },
      "source": [
        "An MZI chain can now be created by cascading these directional couplers with arms:\n",
        "\n",
        "```\n",
        "      _    _    _    _             _    _  \n",
        "    \\/   \\/   \\/   \\/     ...    \\/   \\/   \n",
        "    /\\_  /\\_  /\\_  /\\_           /\\_  /\\_  \n",
        "```\n",
        "\n",
        "Let's create a *model factory* (`ModelFactory`) for this. In SAX, a *model factory* is any keyword-only function that generates a `Model`:"
      ]
    },
    {
      "cell_type": "code",
      "execution_count": 27,
      "id": "55",
      "metadata": {
        "execution": {
          "iopub.execute_input": "2025-02-27T06:33:58.356607Z",
          "iopub.status.busy": "2025-02-27T06:33:58.356124Z",
          "iopub.status.idle": "2025-02-27T06:33:58.362768Z",
          "shell.execute_reply": "2025-02-27T06:33:58.362192Z"
        },
        "papermill": {
          "duration": 0.022516,
          "end_time": "2025-02-27T06:33:58.363987",
          "exception": false,
          "start_time": "2025-02-27T06:33:58.341471",
          "status": "completed"
        },
        "tags": []
      },
      "outputs": [],
      "source": [
        "def mzi_chain(num_mzis=1) -> sax.Model:\n",
        "    chain, _ = sax.circuit(\n",
        "        netlist={\n",
        "            \"instances\": {f\"dc{i}\": \"dc_with_arms\" for i in range(num_mzis + 1)},\n",
        "            \"connections\": {\n",
        "                **{f\"dc{i},out0\": f\"dc{i+1},in0\" for i in range(num_mzis)},\n",
        "                **{f\"dc{i},out1\": f\"dc{i+1},in1\" for i in range(num_mzis)},\n",
        "            },\n",
        "            \"ports\": {\n",
        "                \"in0\": f\"dc0,in0\",\n",
        "                \"in1\": f\"dc0,in1\",\n",
        "                \"out0\": f\"dc{num_mzis},out0\",\n",
        "                \"out1\": f\"dc{num_mzis},out1\",\n",
        "            },\n",
        "        },\n",
        "        models={\"dc_with_arms\": dc_with_arms},\n",
        "        backend=\"klu\",\n",
        "    )\n",
        "    return chain"
      ]
    },
    {
      "cell_type": "markdown",
      "id": "56",
      "metadata": {
        "papermill": {
          "duration": 0.013891,
          "end_time": "2025-02-27T06:33:58.392096",
          "exception": false,
          "start_time": "2025-02-27T06:33:58.378205",
          "status": "completed"
        },
        "tags": []
      },
      "source": [
        "Let's for example create a chain with 15 MZIs. We can also update the settings dictionary as follows:"
      ]
    },
    {
      "cell_type": "code",
      "execution_count": 28,
      "id": "57",
      "metadata": {
        "execution": {
          "iopub.execute_input": "2025-02-27T06:33:58.422086Z",
          "iopub.status.busy": "2025-02-27T06:33:58.421394Z",
          "iopub.status.idle": "2025-02-27T06:33:59.772506Z",
          "shell.execute_reply": "2025-02-27T06:33:59.771763Z"
        },
        "papermill": {
          "duration": 1.369739,
          "end_time": "2025-02-27T06:33:59.775950",
          "exception": false,
          "start_time": "2025-02-27T06:33:58.406211",
          "status": "completed"
        },
        "tags": []
      },
      "outputs": [],
      "source": [
        "chain = mzi_chain(num_mzis=15)\n",
        "settings = sax.get_settings(chain)\n",
        "for dc in settings:\n",
        "    settings[dc][\"top\"][\"length\"] = 25.0\n",
        "    settings[dc][\"btm\"][\"length\"] = 15.0\n",
        "settings = sax.update_settings(settings, wl=jnp.linspace(1.5, 1.6, 1000))"
      ]
    },
    {
      "cell_type": "markdown",
      "id": "58",
      "metadata": {
        "papermill": {
          "duration": 0.025307,
          "end_time": "2025-02-27T06:33:59.829524",
          "exception": false,
          "start_time": "2025-02-27T06:33:59.804217",
          "status": "completed"
        },
        "tags": []
      },
      "source": [
        "We can simulate this:"
      ]
    },
    {
      "cell_type": "code",
      "execution_count": 29,
      "id": "59",
      "metadata": {
        "execution": {
          "iopub.execute_input": "2025-02-27T06:33:59.899968Z",
          "iopub.status.busy": "2025-02-27T06:33:59.899656Z",
          "iopub.status.idle": "2025-02-27T06:34:04.098102Z",
          "shell.execute_reply": "2025-02-27T06:34:04.096486Z"
        },
        "papermill": {
          "duration": 4.241273,
          "end_time": "2025-02-27T06:34:04.099337",
          "exception": false,
          "start_time": "2025-02-27T06:33:59.858064",
          "status": "completed"
        },
        "tags": []
      },
      "outputs": [
        {
          "name": "stdout",
          "output_type": "stream",
          "text": [
            "CPU times: user 973 ms, sys: 64 ms, total: 1.04 s\n",
            "Wall time: 1.19 s\n"
          ]
        },
        {
          "name": "stdout",
          "output_type": "stream",
          "text": [
            "CPU times: user 3.9 s, sys: 41.7 ms, total: 3.95 s\n",
            "Wall time: 2.99 s\n",
            "CPU times: user 1.73 ms, sys: 1.04 ms, total: 2.78 ms\n",
            "Wall time: 1.23 ms\n"
          ]
        }
      ],
      "source": [
        "%time S = chain(**settings) # time to evaluate the MZI\n",
        "func = jax.jit(chain)\n",
        "%time S = func(**settings) # time to jit the MZI\n",
        "%time S = func(**settings) # time to evaluate the MZI after jitting"
      ]
    },
    {
      "cell_type": "markdown",
      "id": "60",
      "metadata": {
        "papermill": {
          "duration": 0.01319,
          "end_time": "2025-02-27T06:34:04.126310",
          "exception": false,
          "start_time": "2025-02-27T06:34:04.113120",
          "status": "completed"
        },
        "tags": []
      },
      "source": [
        "Where we see that the unjitted evaluation of the MZI chain takes about a second, while the jitting of the MZI chain takes about two seconds (on a CPU). However, after the MZI chain has been jitted, the evaluation is in the order of about a few milliseconds!\n",
        "\n",
        "Anyway, let's see what this gives:"
      ]
    },
    {
      "cell_type": "code",
      "execution_count": 30,
      "id": "61",
      "metadata": {
        "execution": {
          "iopub.execute_input": "2025-02-27T06:34:04.155249Z",
          "iopub.status.busy": "2025-02-27T06:34:04.154749Z",
          "iopub.status.idle": "2025-02-27T06:34:04.501144Z",
          "shell.execute_reply": "2025-02-27T06:34:04.500308Z"
        },
        "papermill": {
          "duration": 0.362025,
          "end_time": "2025-02-27T06:34:04.502243",
          "exception": false,
          "start_time": "2025-02-27T06:34:04.140218",
          "status": "completed"
        },
        "tags": []
      },
      "outputs": [
        {
          "data": {
            "image/png": "[encoded data removed]",
            "text/plain": [
              "<Figure size 640x480 with 1 Axes>"
            ]
          },
          "metadata": {},
          "output_type": "display_data"
        },
        {
          "name": "stdout",
          "output_type": "stream",
          "text": [
            "CPU times: user 268 ms, sys: 75.1 ms, total: 343 ms\n",
            "Wall time: 341 ms\n"
          ]
        }
      ],
      "source": [
        "%%time\n",
        "S = sax.sdict(S)\n",
        "plt.plot(1e3 * settings[\"dc0\"][\"top\"][\"wl\"], jnp.abs(S[\"in0\", \"out0\"]) ** 2)\n",
        "plt.ylim(-0.05, 1.05)\n",
        "plt.xlabel(\"\u03bb [nm]\")\n",
        "plt.ylabel(\"T\")\n",
        "plt.ylim(-0.05, 1.05)\n",
        "plt.show()"
      ]
    }
  ],
  "metadata": {
    "kernelspec": {
      "display_name": "Python 3 (ipykernel)",
      "language": "python",
      "name": "python3"
    },
    "language_info": {
      "codemirror_mode": {
        "name": "ipython",
        "version": 3
      },
      "file_extension": ".py",
      "mimetype": "text/x-python",
      "name": "python",
      "nbconvert_exporter": "python",
      "pygments_lexer": "ipython3",
      "version": "3.12.3"
    },
    "papermill": {
      "default_parameters": {},
      "duration": 31.76427,
      "end_time": "2025-02-27T06:34:06.649243",
      "environment_variables": {},
      "exception": null,
      "input_path": "examples/01_quick_start.ipynb",
      "output_path": "examples/01_quick_start.ipynb",
      "parameters": {},
      "start_time": "2025-02-27T06:33:34.884973",
      "version": "2.6.0"
    },
    "widgets": {
      "application/vnd.jupyter.widget-state+json": {
        "state": {
          "04914cc7ebc844aab33f77df11455e41": {
            "model_module": "@jupyter-widgets/controls",
            "model_module_version": "2.0.0",
            "model_name": "HTMLModel",
            "state": {
              "_dom_classes": [],
              "_model_module": "@jupyter-widgets/controls",
              "_model_module_version": "2.0.0",
              "_model_name": "HTMLModel",
              "_view_count": null,
              "_view_module": "@jupyter-widgets/controls",
              "_view_module_version": "2.0.0",
              "_view_name": "HTMLView",
              "description": "",
              "description_allow_html": false,
              "layout": "IPY_MODEL_095e3444be1f48f694389fbee4f44833",
              "placeholder": "\u200b",
              "style": "IPY_MODEL_eed9f190872c476683f671626bbc9e42",
              "tabbable": null,
              "tooltip": null,
              "value": "\u2007300/300\u2007[00:09&lt;00:00,\u200741.45it/s,\u2007loss=0.000000]"
            }
          },
          "095e3444be1f48f694389fbee4f44833": {
            "model_module": "@jupyter-widgets/base",
            "model_module_version": "2.0.0",
            "model_name": "LayoutModel",
            "state": {
              "_model_module": "@jupyter-widgets/base",
              "_model_module_version": "2.0.0",
              "_model_name": "LayoutModel",
              "_view_count": null,
              "_view_module": "@jupyter-widgets/base",
              "_view_module_version": "2.0.0",
              "_view_name": "LayoutView",
              "align_content": null,
              "align_items": null,
              "align_self": null,
              "border_bottom": null,
              "border_left": null,
              "border_right": null,
              "border_top": null,
              "bottom": null,
              "display": null,
              "flex": null,
              "flex_flow": null,
              "grid_area": null,
              "grid_auto_columns": null,
              "grid_auto_flow": null,
              "grid_auto_rows": null,
              "grid_column": null,
              "grid_gap": null,
              "grid_row": null,
              "grid_template_areas": null,
              "grid_template_columns": null,
              "grid_template_rows": null,
              "height": null,
              "justify_content": null,
              "justify_items": null,
              "left": null,
              "margin": null,
              "max_height": null,
              "max_width": null,
              "min_height": null,
              "min_width": null,
              "object_fit": null,
              "object_position": null,
              "order": null,
              "overflow": null,
              "padding": null,
              "right": null,
              "top": null,
              "visibility": null,
              "width": null
            }
          },
          "129dda3cd5b342b9903dda39be89e87b": {
            "model_module": "@jupyter-widgets/controls",
            "model_module_version": "2.0.0",
            "model_name": "FloatProgressModel",
            "state": {
              "_dom_classes": [],
              "_model_module": "@jupyter-widgets/controls",
              "_model_module_version": "2.0.0",
              "_model_name": "FloatProgressModel",
              "_view_count": null,
              "_view_module": "@jupyter-widgets/controls",
              "_view_module_version": "2.0.0",
              "_view_name": "ProgressView",
              "bar_style": "success",
              "description": "",
              "description_allow_html": false,
              "layout": "IPY_MODEL_fa5677953fad45bca774974775ba108a",
              "max": 300.0,
              "min": 0.0,
              "orientation": "horizontal",
              "style": "IPY_MODEL_6f21ba4a023a411a867a831b6a107b8a",
              "tabbable": null,
              "tooltip": null,
              "value": 300.0
            }
          },
          "24edab7ab0864499bd7ea270ffb0e377": {
            "model_module": "@jupyter-widgets/base",
            "model_module_version": "2.0.0",
            "model_name": "LayoutModel",
            "state": {
              "_model_module": "@jupyter-widgets/base",
              "_model_module_version": "2.0.0",
              "_model_name": "LayoutModel",
              "_view_count": null,
              "_view_module": "@jupyter-widgets/base",
              "_view_module_version": "2.0.0",
              "_view_name": "LayoutView",
              "align_content": null,
              "align_items": null,
              "align_self": null,
              "border_bottom": null,
              "border_left": null,
              "border_right": null,
              "border_top": null,
              "bottom": null,
              "display": null,
              "flex": null,
              "flex_flow": null,
              "grid_area": null,
              "grid_auto_columns": null,
              "grid_auto_flow": null,
              "grid_auto_rows": null,
              "grid_column": null,
              "grid_gap": null,
              "grid_row": null,
              "grid_template_areas": null,
              "grid_template_columns": null,
              "grid_template_rows": null,
              "height": null,
              "justify_content": null,
              "justify_items": null,
              "left": null,
              "margin": null,
              "max_height": null,
              "max_width": null,
              "min_height": null,
              "min_width": null,
              "object_fit": null,
              "object_position": null,
              "order": null,
              "overflow": null,
              "padding": null,
              "right": null,
              "top": null,
              "visibility": null,
              "width": null
            }
          },
          "2577e19f2db0454bb8c4bbc36a2bf375": {
            "model_module": "@jupyter-widgets/base",
            "model_module_version": "2.0.0",
            "model_name": "LayoutModel",
            "state": {
              "_model_module": "@jupyter-widgets/base",
              "_model_module_version": "2.0.0",
              "_model_name": "LayoutModel",
              "_view_count": null,
              "_view_module": "@jupyter-widgets/base",
              "_view_module_version": "2.0.0",
              "_view_name": "LayoutView",
              "align_content": null,
              "align_items": null,
              "align_self": null,
              "border_bottom": null,
              "border_left": null,
              "border_right": null,
              "border_top": null,
              "bottom": null,
              "display": null,
              "flex": null,
              "flex_flow": null,
              "grid_area": null,
              "grid_auto_columns": null,
              "grid_auto_flow": null,
              "grid_auto_rows": null,
              "grid_column": null,
              "grid_gap": null,
              "grid_row": null,
              "grid_template_areas": null,
              "grid_template_columns": null,
              "grid_template_rows": null,
              "height": null,
              "justify_content": null,
              "justify_items": null,
              "left": null,
              "margin": null,
              "max_height": null,
              "max_width": null,
              "min_height": null,
              "min_width": null,
              "object_fit": null,
              "object_position": null,
              "order": null,
              "overflow": null,
              "padding": null,
              "right": null,
              "top": null,
              "visibility": null,
              "width": null
            }
          },
          "6f21ba4a023a411a867a831b6a107b8a": {
            "model_module": "@jupyter-widgets/controls",
            "model_module_version": "2.0.0",
            "model_name": "ProgressStyleModel",
            "state": {
              "_model_module": "@jupyter-widgets/controls",
              "_model_module_version": "2.0.0",
              "_model_name": "ProgressStyleModel",
              "_view_count": null,
              "_view_module": "@jupyter-widgets/base",
              "_view_module_version": "2.0.0",
              "_view_name": "StyleView",
              "bar_color": null,
              "description_width": ""
            }
          },
          "b83fd829511644ce8cf82c4ef18fda4b": {
            "model_module": "@jupyter-widgets/controls",
            "model_module_version": "2.0.0",
            "model_name": "HTMLStyleModel",
            "state": {
              "_model_module": "@jupyter-widgets/controls",
              "_model_module_version": "2.0.0",
              "_model_name": "HTMLStyleModel",
              "_view_count": null,
              "_view_module": "@jupyter-widgets/base",
              "_view_module_version": "2.0.0",
              "_view_name": "StyleView",
              "background": null,
              "description_width": "",
              "font_size": null,
              "text_color": null
            }
          },
          "cf086d70714747e58f8fa1d758f20d09": {
            "model_module": "@jupyter-widgets/controls",
            "model_module_version": "2.0.0",
            "model_name": "HBoxModel",
            "state": {
              "_dom_classes": [],
              "_model_module": "@jupyter-widgets/controls",
              "_model_module_version": "2.0.0",
              "_model_name": "HBoxModel",
              "_view_count": null,
              "_view_module": "@jupyter-widgets/controls",
              "_view_module_version": "2.0.0",
              "_view_name": "HBoxView",
              "box_style": "",
              "children": [
                "IPY_MODEL_e4315a16425548e793eb14a6c99274e6",
                "IPY_MODEL_129dda3cd5b342b9903dda39be89e87b",
                "IPY_MODEL_04914cc7ebc844aab33f77df11455e41"
              ],
              "layout": "IPY_MODEL_24edab7ab0864499bd7ea270ffb0e377",
              "tabbable": null,
              "tooltip": null
            }
          },
          "e4315a16425548e793eb14a6c99274e6": {
            "model_module": "@jupyter-widgets/controls",
            "model_module_version": "2.0.0",
            "model_name": "HTMLModel",
            "state": {
              "_dom_classes": [],
              "_model_module": "@jupyter-widgets/controls",
              "_model_module_version": "2.0.0",
              "_model_name": "HTMLModel",
              "_view_count": null,
              "_view_module": "@jupyter-widgets/controls",
              "_view_module_version": "2.0.0",
              "_view_name": "HTMLView",
              "description": "",
              "description_allow_html": false,
              "layout": "IPY_MODEL_2577e19f2db0454bb8c4bbc36a2bf375",
              "placeholder": "\u200b",
              "style": "IPY_MODEL_b83fd829511644ce8cf82c4ef18fda4b",
              "tabbable": null,
              "tooltip": null,
              "value": "100%"
            }
          },
          "eed9f190872c476683f671626bbc9e42": {
            "model_module": "@jupyter-widgets/controls",
            "model_module_version": "2.0.0",
            "model_name": "HTMLStyleModel",
            "state": {
              "_model_module": "@jupyter-widgets/controls",
              "_model_module_version": "2.0.0",
              "_model_name": "HTMLStyleModel",
              "_view_count": null,
              "_view_module": "@jupyter-widgets/base",
              "_view_module_version": "2.0.0",
              "_view_name": "StyleView",
              "background": null,
              "description_width": "",
              "font_size": null,
              "text_color": null
            }
          },
          "fa5677953fad45bca774974775ba108a": {
            "model_module": "@jupyter-widgets/base",
            "model_module_version": "2.0.0",
            "model_name": "LayoutModel",
            "state": {
              "_model_module": "@jupyter-widgets/base",
              "_model_module_version": "2.0.0",
              "_model_name": "LayoutModel",
              "_view_count": null,
              "_view_module": "@jupyter-widgets/base",
              "_view_module_version": "2.0.0",
              "_view_name": "LayoutView",
              "align_content": null,
              "align_items": null,
              "align_self": null,
              "border_bottom": null,
              "border_left": null,
              "border_right": null,
              "border_top": null,
              "bottom": null,
              "display": null,
              "flex": null,
              "flex_flow": null,
              "grid_area": null,
              "grid_auto_columns": null,
              "grid_auto_flow": null,
              "grid_auto_rows": null,
              "grid_column": null,
              "grid_gap": null,
              "grid_row": null,
              "grid_template_areas": null,
              "grid_template_columns": null,
              "grid_template_rows": null,
              "height": null,
              "justify_content": null,
              "justify_items": null,
              "left": null,
              "margin": null,
              "max_height": null,
              "max_width": null,
              "min_height": null,
              "min_width": null,
              "object_fit": null,
              "object_position": null,
              "order": null,
              "overflow": null,
              "padding": null,
              "right": null,
              "top": null,
              "visibility": null,
              "width": null
            }
          }
        },
        "version_major": 2,
        "version_minor": 0
      }
    }
  },
  "nbformat": 4,
  "nbformat_minor": 5
}