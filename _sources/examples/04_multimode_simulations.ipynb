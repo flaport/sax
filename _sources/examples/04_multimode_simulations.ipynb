{
  "cells": [
    {
      "cell_type": "markdown",
      "id": "textile-panel",
      "metadata": {
        "papermill": {
          "duration": 0.002685,
          "end_time": "2024-06-05T21:04:07.128859",
          "exception": false,
          "start_time": "2024-06-05T21:04:07.126174",
          "status": "completed"
        },
        "tags": []
      },
      "source": [
        "# Multimode simulations\n",
        "> SAX can handle multiple modes too!"
      ]
    },
    {
      "cell_type": "code",
      "execution_count": 1,
      "id": "prescribed-plant",
      "metadata": {
        "execution": {
          "iopub.execute_input": "2024-06-05T21:04:07.134512Z",
          "iopub.status.busy": "2024-06-05T21:04:07.134253Z",
          "iopub.status.idle": "2024-06-05T21:04:07.846573Z",
          "shell.execute_reply": "2024-06-05T21:04:07.845982Z"
        },
        "papermill": {
          "duration": 0.716943,
          "end_time": "2024-06-05T21:04:07.848062",
          "exception": false,
          "start_time": "2024-06-05T21:04:07.131119",
          "status": "completed"
        },
        "tags": []
      },
      "outputs": [],
      "source": [
        "from itertools import combinations_with_replacement, product\n",
        "\n",
        "import jax.numpy as jnp\n",
        "import sax"
      ]
    },
    {
      "cell_type": "markdown",
      "id": "requested-calvin",
      "metadata": {
        "papermill": {
          "duration": 0.002099,
          "end_time": "2024-06-05T21:04:07.852504",
          "exception": false,
          "start_time": "2024-06-05T21:04:07.850405",
          "status": "completed"
        },
        "tags": []
      },
      "source": [
        "## Ports and modes per port"
      ]
    },
    {
      "cell_type": "markdown",
      "id": "grateful-programming",
      "metadata": {
        "papermill": {
          "duration": 0.00195,
          "end_time": "2024-06-05T21:04:07.856461",
          "exception": false,
          "start_time": "2024-06-05T21:04:07.854511",
          "status": "completed"
        },
        "tags": []
      },
      "source": [
        "Let's denote a combination of a port and a mode by a string of the following format: `\"{port}@{mode}\"`. We can obtain all possible port-mode combinations with some magic itertools functions:"
      ]
    },
    {
      "cell_type": "code",
      "execution_count": 2,
      "id": "going-entity",
      "metadata": {
        "execution": {
          "iopub.execute_input": "2024-06-05T21:04:07.861856Z",
          "iopub.status.busy": "2024-06-05T21:04:07.861343Z",
          "iopub.status.idle": "2024-06-05T21:04:07.868245Z",
          "shell.execute_reply": "2024-06-05T21:04:07.867760Z"
        },
        "papermill": {
          "duration": 0.010928,
          "end_time": "2024-06-05T21:04:07.869382",
          "exception": false,
          "start_time": "2024-06-05T21:04:07.858454",
          "status": "completed"
        },
        "tags": []
      },
      "outputs": [
        {
          "data": {
            "text/plain": [
              "[('in0@TE', 'in0@TE'),\n",
              " ('in0@TE', 'in0@TM'),\n",
              " ('in0@TE', 'out0@TE'),\n",
              " ('in0@TE', 'out0@TM'),\n",
              " ('in0@TM', 'in0@TM'),\n",
              " ('in0@TM', 'out0@TE'),\n",
              " ('in0@TM', 'out0@TM'),\n",
              " ('out0@TE', 'out0@TE'),\n",
              " ('out0@TE', 'out0@TM'),\n",
              " ('out0@TM', 'out0@TM')]"
            ]
          },
          "execution_count": 2,
          "metadata": {},
          "output_type": "execute_result"
        }
      ],
      "source": [
        "ports = [\"in0\", \"out0\"]\n",
        "modes = [\"TE\", \"TM\"]\n",
        "portmodes = [\n",
        "    (f\"{p1}@{m1}\", f\"{p2}@{m2}\")\n",
        "    for (p1, m1), (p2, m2) in combinations_with_replacement(product(ports, modes), 2)\n",
        "]\n",
        "portmodes"
      ]
    },
    {
      "cell_type": "markdown",
      "id": "passive-selling",
      "metadata": {
        "papermill": {
          "duration": 0.002109,
          "end_time": "2024-06-05T21:04:07.873806",
          "exception": false,
          "start_time": "2024-06-05T21:04:07.871697",
          "status": "completed"
        },
        "tags": []
      },
      "source": [
        "If we would disregard any backreflection, this can be further simplified:"
      ]
    },
    {
      "cell_type": "code",
      "execution_count": 3,
      "id": "numerical-novel",
      "metadata": {
        "execution": {
          "iopub.execute_input": "2024-06-05T21:04:07.879083Z",
          "iopub.status.busy": "2024-06-05T21:04:07.878740Z",
          "iopub.status.idle": "2024-06-05T21:04:07.882974Z",
          "shell.execute_reply": "2024-06-05T21:04:07.882491Z"
        },
        "papermill": {
          "duration": 0.008144,
          "end_time": "2024-06-05T21:04:07.884100",
          "exception": false,
          "start_time": "2024-06-05T21:04:07.875956",
          "status": "completed"
        },
        "tags": []
      },
      "outputs": [
        {
          "data": {
            "text/plain": [
              "[('in0@TE', 'out0@TE'),\n",
              " ('in0@TE', 'out0@TM'),\n",
              " ('in0@TM', 'out0@TE'),\n",
              " ('in0@TM', 'out0@TM')]"
            ]
          },
          "execution_count": 3,
          "metadata": {},
          "output_type": "execute_result"
        }
      ],
      "source": [
        "portmodes_without_backreflection = [\n",
        "    (p1, p2) for p1, p2 in portmodes if p1.split(\"@\")[0] != p2.split(\"@\")[0]\n",
        "]\n",
        "portmodes_without_backreflection"
      ]
    },
    {
      "cell_type": "markdown",
      "id": "hindu-application",
      "metadata": {
        "papermill": {
          "duration": 0.002253,
          "end_time": "2024-06-05T21:04:07.888668",
          "exception": false,
          "start_time": "2024-06-05T21:04:07.886415",
          "status": "completed"
        },
        "tags": []
      },
      "source": [
        "Sometimes cross-polarization terms can also be ignored:"
      ]
    },
    {
      "cell_type": "code",
      "execution_count": 4,
      "id": "encouraging-territory",
      "metadata": {
        "execution": {
          "iopub.execute_input": "2024-06-05T21:04:07.894380Z",
          "iopub.status.busy": "2024-06-05T21:04:07.893954Z",
          "iopub.status.idle": "2024-06-05T21:04:07.898639Z",
          "shell.execute_reply": "2024-06-05T21:04:07.898157Z"
        },
        "papermill": {
          "duration": 0.008887,
          "end_time": "2024-06-05T21:04:07.899784",
          "exception": false,
          "start_time": "2024-06-05T21:04:07.890897",
          "status": "completed"
        },
        "tags": []
      },
      "outputs": [
        {
          "data": {
            "text/plain": [
              "[('in0@TE', 'in0@TE'),\n",
              " ('in0@TE', 'out0@TE'),\n",
              " ('in0@TM', 'in0@TM'),\n",
              " ('in0@TM', 'out0@TM'),\n",
              " ('out0@TE', 'out0@TE'),\n",
              " ('out0@TM', 'out0@TM')]"
            ]
          },
          "execution_count": 4,
          "metadata": {},
          "output_type": "execute_result"
        }
      ],
      "source": [
        "portmodes_without_crosspolarization = [\n",
        "    (p1, p2) for p1, p2 in portmodes if p1.split(\"@\")[1] == p2.split(\"@\")[1]\n",
        "]\n",
        "portmodes_without_crosspolarization"
      ]
    },
    {
      "cell_type": "markdown",
      "id": "mathematical-default",
      "metadata": {
        "papermill": {
          "duration": 0.002336,
          "end_time": "2024-06-05T21:04:07.904685",
          "exception": false,
          "start_time": "2024-06-05T21:04:07.902349",
          "status": "completed"
        },
        "tags": []
      },
      "source": [
        "## Multimode waveguide"
      ]
    },
    {
      "cell_type": "markdown",
      "id": "asian-noise",
      "metadata": {
        "papermill": {
          "duration": 0.00225,
          "end_time": "2024-06-05T21:04:07.909241",
          "exception": false,
          "start_time": "2024-06-05T21:04:07.906991",
          "status": "completed"
        },
        "tags": []
      },
      "source": [
        "Let's create a waveguide with two ports (`\"in\"`, `\"out\"`) and two modes (`\"te\"`, `\"tm\"`) without backreflection. Let's assume there is 5% cross-polarization and that the `\"tm\"`->`\"tm\"` transmission is 10% worse than the `\"te\"`->`\"te\"` transmission. Naturally in more realisic waveguide models these percentages will be length-dependent, but this is just a dummy model serving as an example."
      ]
    },
    {
      "cell_type": "code",
      "execution_count": 5,
      "id": "patient-wealth",
      "metadata": {
        "execution": {
          "iopub.execute_input": "2024-06-05T21:04:07.915103Z",
          "iopub.status.busy": "2024-06-05T21:04:07.914625Z",
          "iopub.status.idle": "2024-06-05T21:04:07.966957Z",
          "shell.execute_reply": "2024-06-05T21:04:07.966381Z"
        },
        "papermill": {
          "duration": 0.056556,
          "end_time": "2024-06-05T21:04:07.968173",
          "exception": false,
          "start_time": "2024-06-05T21:04:07.911617",
          "status": "completed"
        },
        "tags": []
      },
      "outputs": [
        {
          "data": {
            "text/plain": [
              "{('in0@TE',\n",
              "  'out0@TE'): Array(0.77972527+0.5427048j, dtype=complex128, weak_type=True),\n",
              " ('in0@TE',\n",
              "  'out0@TM'): Array(0.04103817+0.02856341j, dtype=complex128, weak_type=True),\n",
              " ('in0@TM',\n",
              "  'out0@TM'): Array(0.69764893+0.48557798j, dtype=complex128, weak_type=True),\n",
              " ('in0@TM',\n",
              "  'out0@TE'): Array(0.04103817+0.02856341j, dtype=complex128, weak_type=True),\n",
              " ('out0@TE',\n",
              "  'in0@TE'): Array(0.77972527+0.5427048j, dtype=complex128, weak_type=True),\n",
              " ('out0@TM',\n",
              "  'in0@TE'): Array(0.04103817+0.02856341j, dtype=complex128, weak_type=True),\n",
              " ('out0@TM',\n",
              "  'in0@TM'): Array(0.69764893+0.48557798j, dtype=complex128, weak_type=True),\n",
              " ('out0@TE',\n",
              "  'in0@TM'): Array(0.04103817+0.02856341j, dtype=complex128, weak_type=True)}"
            ]
          },
          "execution_count": 5,
          "metadata": {},
          "output_type": "execute_result"
        }
      ],
      "source": [
        "def waveguide(wl=1.55, wl0=1.55, neff=2.34, ng=3.4, length=10.0, loss=0.0):\n",
        "    \"\"\"a simple straight waveguide model\n",
        "\n",
        "    Args:\n",
        "        wl: wavelength\n",
        "        neff: waveguide effective index\n",
        "        ng: waveguide group index (used for linear neff dispersion)\n",
        "        wl0: center wavelength at which neff is defined\n",
        "        length: [m] wavelength length\n",
        "        loss: [dB/m] waveguide loss\n",
        "    \"\"\"\n",
        "    dwl = wl - wl0\n",
        "    dneff_dwl = (ng - neff) / wl0\n",
        "    neff = neff - dwl * dneff_dwl\n",
        "    phase = 2 * jnp.pi * neff * length / wl\n",
        "    transmission = 10 ** (-loss * length / 20) * jnp.exp(1j * phase)\n",
        "    sdict = sax.reciprocal(\n",
        "        {\n",
        "            (\"in0@TE\", \"out0@TE\"): 0.95 * transmission,  # 5% lost to cross-polarization\n",
        "            (\"in0@TE\", \"out0@TM\"): 0.05 * transmission,  # 5% cross-polarization\n",
        "            (\"in0@TM\", \"out0@TM\"): 0.85 * transmission,  # 10% worse tm->tm than te->te\n",
        "            (\"in0@TM\", \"out0@TE\"): 0.05 * transmission,  # 5% cross-polarization\n",
        "        }\n",
        "    )\n",
        "    return sdict\n",
        "\n",
        "\n",
        "waveguide()"
      ]
    },
    {
      "cell_type": "markdown",
      "id": "cafacbde-e5eb-43c6-87ec-1a9e795b5cc2",
      "metadata": {
        "papermill": {
          "duration": 0.002513,
          "end_time": "2024-06-05T21:04:07.973508",
          "exception": false,
          "start_time": "2024-06-05T21:04:07.970995",
          "status": "completed"
        },
        "tags": []
      },
      "source": [
        "## Multimode Coupler"
      ]
    },
    {
      "cell_type": "code",
      "execution_count": 6,
      "id": "0cf6d7a6-d054-4c3a-9053-3b09777d50f9",
      "metadata": {
        "execution": {
          "iopub.execute_input": "2024-06-05T21:04:07.979641Z",
          "iopub.status.busy": "2024-06-05T21:04:07.979216Z",
          "iopub.status.idle": "2024-06-05T21:04:07.983733Z",
          "shell.execute_reply": "2024-06-05T21:04:07.983258Z"
        },
        "papermill": {
          "duration": 0.008801,
          "end_time": "2024-06-05T21:04:07.984820",
          "exception": false,
          "start_time": "2024-06-05T21:04:07.976019",
          "status": "completed"
        },
        "tags": []
      },
      "outputs": [],
      "source": [
        "def coupler():\n",
        "    return {\n",
        "        (\"in0@TE\", \"out0@TE\"): 0.45**0.5,\n",
        "        (\"in0@TE\", \"out1@TE\"): 1j * 0.45**0.5,\n",
        "        (\"in1@TE\", \"out0@TE\"): 1j * 0.45**0.5,\n",
        "        (\"in1@TE\", \"out1@TE\"): 0.45**0.5,\n",
        "        (\"in0@TM\", \"out0@TM\"): 0.45**0.5,\n",
        "        (\"in0@TM\", \"out1@TM\"): 1j * 0.45**0.5,\n",
        "        (\"in1@TM\", \"out0@TM\"): 1j * 0.45**0.5,\n",
        "        (\"in1@TM\", \"out1@TM\"): 0.45**0.5,\n",
        "        (\"in0@TE\", \"out0@TM\"): 0.01**0.5,\n",
        "        (\"in0@TE\", \"out1@TM\"): 1j * 0.01**0.5,\n",
        "        (\"in1@TE\", \"out0@TM\"): 1j * 0.01**0.5,\n",
        "        (\"in1@TE\", \"out1@TM\"): 0.01**0.5,\n",
        "        (\"in0@TM\", \"out0@TE\"): 0.01**0.5,\n",
        "        (\"in0@TM\", \"out1@TE\"): 1j * 0.01**0.5,\n",
        "        (\"in1@TM\", \"out0@TE\"): 1j * 0.01**0.5,\n",
        "        (\"in1@TM\", \"out1@TE\"): 0.01**0.5,\n",
        "    }"
      ]
    },
    {
      "cell_type": "markdown",
      "id": "accessory-sheep",
      "metadata": {
        "papermill": {
          "duration": 0.002398,
          "end_time": "2024-06-05T21:04:07.989708",
          "exception": false,
          "start_time": "2024-06-05T21:04:07.987310",
          "status": "completed"
        },
        "tags": []
      },
      "source": [
        "## Multimode MZI"
      ]
    },
    {
      "cell_type": "markdown",
      "id": "joint-semiconductor",
      "metadata": {
        "papermill": {
          "duration": 0.002393,
          "end_time": "2024-06-05T21:04:07.994604",
          "exception": false,
          "start_time": "2024-06-05T21:04:07.992211",
          "status": "completed"
        },
        "tags": []
      },
      "source": [
        "We can now combine these models into a circuit in much the same way as before. We just need to add the `modes=` keyword:"
      ]
    },
    {
      "cell_type": "code",
      "execution_count": 7,
      "id": "suffering-judges",
      "metadata": {
        "execution": {
          "iopub.execute_input": "2024-06-05T21:04:08.000672Z",
          "iopub.status.busy": "2024-06-05T21:04:08.000281Z",
          "iopub.status.idle": "2024-06-05T21:04:08.659283Z",
          "shell.execute_reply": "2024-06-05T21:04:08.658716Z"
        },
        "papermill": {
          "duration": 0.663863,
          "end_time": "2024-06-05T21:04:08.660946",
          "exception": false,
          "start_time": "2024-06-05T21:04:07.997083",
          "status": "completed"
        },
        "tags": []
      },
      "outputs": [],
      "source": [
        "mzi, _ = sax.circuit(\n",
        "    netlist={\n",
        "        \"instances\": {\n",
        "            \"lft\": \"coupler\",  # single mode models will be automatically converted to multimode models without cross polarization.\n",
        "            \"top\": {\"component\": \"straight\", \"settings\": {\"length\": 25.0}},\n",
        "            \"btm\": {\"component\": \"straight\", \"settings\": {\"length\": 15.0}},\n",
        "            \"rgt\": \"coupler\",  # single mode models will be automatically converted to multimode models without cross polarization.\n",
        "        },\n",
        "        \"connections\": {\n",
        "            \"lft,out0\": \"btm,in0\",\n",
        "            \"btm,out0\": \"rgt,in0\",\n",
        "            \"lft,out1\": \"top,in0\",\n",
        "            \"top,out0\": \"rgt,in1\",\n",
        "        },\n",
        "        \"ports\": {\n",
        "            \"in0\": \"lft,in0\",\n",
        "            \"in1\": \"lft,in1\",\n",
        "            \"out0\": \"rgt,out0\",\n",
        "            \"out1\": \"rgt,out1\",\n",
        "        },\n",
        "    },\n",
        "    models={\n",
        "        \"coupler\": coupler,\n",
        "        \"straight\": waveguide,\n",
        "    },\n",
        ")"
      ]
    },
    {
      "cell_type": "code",
      "execution_count": 8,
      "id": "bridal-insider",
      "metadata": {
        "execution": {
          "iopub.execute_input": "2024-06-05T21:04:08.668254Z",
          "iopub.status.busy": "2024-06-05T21:04:08.667724Z",
          "iopub.status.idle": "2024-06-05T21:04:08.984340Z",
          "shell.execute_reply": "2024-06-05T21:04:08.983732Z"
        },
        "papermill": {
          "duration": 0.321626,
          "end_time": "2024-06-05T21:04:08.985679",
          "exception": false,
          "start_time": "2024-06-05T21:04:08.664053",
          "status": "completed"
        },
        "tags": []
      },
      "outputs": [
        {
          "data": {
            "text/plain": [
              "{('in0@TE', 'in0@TE'): Array(0.+0.j, dtype=complex128),\n",
              " ('in0@TE', 'in0@TM'): Array(0.+0.j, dtype=complex128),\n",
              " ('in0@TE', 'in1@TE'): Array(0.+0.j, dtype=complex128),\n",
              " ('in0@TE', 'in1@TM'): Array(0.+0.j, dtype=complex128),\n",
              " ('in0@TE', 'out0@TE'): Array(-0.24856154+0.09205708j, dtype=complex128),\n",
              " ('in0@TE', 'out0@TM'): Array(-0.08070811+0.029891j, dtype=complex128),\n",
              " ('in0@TE', 'out1@TE'): Array(0.7922229-0.29340714j, dtype=complex128),\n",
              " ('in0@TE', 'out1@TM'): Array(0.25723534-0.09526951j, dtype=complex128),\n",
              " ('in0@TM', 'in0@TE'): Array(0.+0.j, dtype=complex128),\n",
              " ('in0@TM', 'in0@TM'): Array(0.+0.j, dtype=complex128),\n",
              " ('in0@TM', 'in1@TE'): Array(0.+0.j, dtype=complex128),\n",
              " ('in0@TM', 'in1@TM'): Array(0.+0.j, dtype=complex128),\n",
              " ('in0@TM', 'out0@TE'): Array(-0.08070811+0.029891j, dtype=complex128),\n",
              " ('in0@TM', 'out0@TM'): Array(-0.22385744+0.08290769j, dtype=complex128),\n",
              " ('in0@TM', 'out1@TE'): Array(0.25723534-0.09526951j, dtype=complex128),\n",
              " ('in0@TM', 'out1@TM'): Array(0.71348524-0.26424592j, dtype=complex128),\n",
              " ('in1@TE', 'in0@TE'): Array(0.+0.j, dtype=complex128),\n",
              " ('in1@TE', 'in0@TM'): Array(0.+0.j, dtype=complex128),\n",
              " ('in1@TE', 'in1@TE'): Array(0.+0.j, dtype=complex128),\n",
              " ('in1@TE', 'in1@TM'): Array(0.+0.j, dtype=complex128),\n",
              " ('in1@TE', 'out0@TE'): Array(0.7922229-0.29340714j, dtype=complex128),\n",
              " ('in1@TE', 'out0@TM'): Array(0.25723534-0.09526951j, dtype=complex128),\n",
              " ('in1@TE', 'out1@TE'): Array(0.24856154-0.09205708j, dtype=complex128),\n",
              " ('in1@TE', 'out1@TM'): Array(0.08070811-0.029891j, dtype=complex128),\n",
              " ('in1@TM', 'in0@TE'): Array(0.+0.j, dtype=complex128),\n",
              " ('in1@TM', 'in0@TM'): Array(0.+0.j, dtype=complex128),\n",
              " ('in1@TM', 'in1@TE'): Array(0.+0.j, dtype=complex128),\n",
              " ('in1@TM', 'in1@TM'): Array(0.+0.j, dtype=complex128),\n",
              " ('in1@TM', 'out0@TE'): Array(0.25723534-0.09526951j, dtype=complex128),\n",
              " ('in1@TM', 'out0@TM'): Array(0.71348524-0.26424592j, dtype=complex128),\n",
              " ('in1@TM', 'out1@TE'): Array(0.08070811-0.029891j, dtype=complex128),\n",
              " ('in1@TM', 'out1@TM'): Array(0.22385744-0.08290769j, dtype=complex128),\n",
              " ('out0@TE', 'in0@TE'): Array(0.+0.j, dtype=complex128),\n",
              " ('out0@TE', 'in0@TM'): Array(0.+0.j, dtype=complex128),\n",
              " ('out0@TE', 'in1@TE'): Array(0.+0.j, dtype=complex128),\n",
              " ('out0@TE', 'in1@TM'): Array(0.+0.j, dtype=complex128),\n",
              " ('out0@TE', 'out0@TE'): Array(0.+0.j, dtype=complex128),\n",
              " ('out0@TE', 'out0@TM'): Array(0.+0.j, dtype=complex128),\n",
              " ('out0@TE', 'out1@TE'): Array(0.+0.j, dtype=complex128),\n",
              " ('out0@TE', 'out1@TM'): Array(0.+0.j, dtype=complex128),\n",
              " ('out0@TM', 'in0@TE'): Array(0.+0.j, dtype=complex128),\n",
              " ('out0@TM', 'in0@TM'): Array(0.+0.j, dtype=complex128),\n",
              " ('out0@TM', 'in1@TE'): Array(0.+0.j, dtype=complex128),\n",
              " ('out0@TM', 'in1@TM'): Array(0.+0.j, dtype=complex128),\n",
              " ('out0@TM', 'out0@TE'): Array(0.+0.j, dtype=complex128),\n",
              " ('out0@TM', 'out0@TM'): Array(0.+0.j, dtype=complex128),\n",
              " ('out0@TM', 'out1@TE'): Array(0.+0.j, dtype=complex128),\n",
              " ('out0@TM', 'out1@TM'): Array(0.+0.j, dtype=complex128),\n",
              " ('out1@TE', 'in0@TE'): Array(0.+0.j, dtype=complex128),\n",
              " ('out1@TE', 'in0@TM'): Array(0.+0.j, dtype=complex128),\n",
              " ('out1@TE', 'in1@TE'): Array(0.+0.j, dtype=complex128),\n",
              " ('out1@TE', 'in1@TM'): Array(0.+0.j, dtype=complex128),\n",
              " ('out1@TE', 'out0@TE'): Array(0.+0.j, dtype=complex128),\n",
              " ('out1@TE', 'out0@TM'): Array(0.+0.j, dtype=complex128),\n",
              " ('out1@TE', 'out1@TE'): Array(0.+0.j, dtype=complex128),\n",
              " ('out1@TE', 'out1@TM'): Array(0.+0.j, dtype=complex128),\n",
              " ('out1@TM', 'in0@TE'): Array(0.+0.j, dtype=complex128),\n",
              " ('out1@TM', 'in0@TM'): Array(0.+0.j, dtype=complex128),\n",
              " ('out1@TM', 'in1@TE'): Array(0.+0.j, dtype=complex128),\n",
              " ('out1@TM', 'in1@TM'): Array(0.+0.j, dtype=complex128),\n",
              " ('out1@TM', 'out0@TE'): Array(0.+0.j, dtype=complex128),\n",
              " ('out1@TM', 'out0@TM'): Array(0.+0.j, dtype=complex128),\n",
              " ('out1@TM', 'out1@TE'): Array(0.+0.j, dtype=complex128),\n",
              " ('out1@TM', 'out1@TM'): Array(0.+0.j, dtype=complex128)}"
            ]
          },
          "execution_count": 8,
          "metadata": {},
          "output_type": "execute_result"
        }
      ],
      "source": [
        "mzi()"
      ]
    },
    {
      "cell_type": "markdown",
      "id": "cellular-contemporary",
      "metadata": {
        "papermill": {
          "duration": 0.002801,
          "end_time": "2024-06-05T21:04:08.991485",
          "exception": false,
          "start_time": "2024-06-05T21:04:08.988684",
          "status": "completed"
        },
        "tags": []
      },
      "source": [
        "we can convert this model back to a singlemode `SDict` as follows:"
      ]
    },
    {
      "cell_type": "code",
      "execution_count": 9,
      "id": "aggregate-lemon",
      "metadata": {
        "execution": {
          "iopub.execute_input": "2024-06-05T21:04:08.999149Z",
          "iopub.status.busy": "2024-06-05T21:04:08.998527Z",
          "iopub.status.idle": "2024-06-05T21:04:09.039036Z",
          "shell.execute_reply": "2024-06-05T21:04:09.038378Z"
        },
        "papermill": {
          "duration": 0.045717,
          "end_time": "2024-06-05T21:04:09.040294",
          "exception": false,
          "start_time": "2024-06-05T21:04:08.994577",
          "status": "completed"
        },
        "tags": []
      },
      "outputs": [
        {
          "data": {
            "text/plain": [
              "{('in0', 'in0'): Array(0.+0.j, dtype=complex128),\n",
              " ('in0', 'in1'): Array(0.+0.j, dtype=complex128),\n",
              " ('in0', 'out0'): Array(-0.24856154+0.09205708j, dtype=complex128),\n",
              " ('in0', 'out1'): Array(0.7922229-0.29340714j, dtype=complex128),\n",
              " ('in1', 'in0'): Array(0.+0.j, dtype=complex128),\n",
              " ('in1', 'in1'): Array(0.+0.j, dtype=complex128),\n",
              " ('in1', 'out0'): Array(0.7922229-0.29340714j, dtype=complex128),\n",
              " ('in1', 'out1'): Array(0.24856154-0.09205708j, dtype=complex128),\n",
              " ('out0', 'in0'): Array(0.+0.j, dtype=complex128),\n",
              " ('out0', 'in1'): Array(0.+0.j, dtype=complex128),\n",
              " ('out0', 'out0'): Array(0.+0.j, dtype=complex128),\n",
              " ('out0', 'out1'): Array(0.+0.j, dtype=complex128),\n",
              " ('out1', 'in0'): Array(0.+0.j, dtype=complex128),\n",
              " ('out1', 'in1'): Array(0.+0.j, dtype=complex128),\n",
              " ('out1', 'out0'): Array(0.+0.j, dtype=complex128),\n",
              " ('out1', 'out1'): Array(0.+0.j, dtype=complex128)}"
            ]
          },
          "execution_count": 9,
          "metadata": {},
          "output_type": "execute_result"
        }
      ],
      "source": [
        "mzi_te = sax.singlemode(mzi, mode=\"TE\")\n",
        "mzi_te()"
      ]
    }
  ],
  "metadata": {
    "kernelspec": {
      "display_name": "Python 3 (ipykernel)",
      "language": "python",
      "name": "python3"
    },
    "language_info": {
      "codemirror_mode": {
        "name": "ipython",
        "version": 3
      },
      "file_extension": ".py",
      "mimetype": "text/x-python",
      "name": "python",
      "nbconvert_exporter": "python",
      "pygments_lexer": "ipython3",
      "version": "3.10.14"
    },
    "papermill": {
      "default_parameters": {},
      "duration": 3.170412,
      "end_time": "2024-06-05T21:04:09.460488",
      "environment_variables": {},
      "exception": null,
      "input_path": "./examples/04_multimode_simulations.ipynb",
      "output_path": "./examples/04_multimode_simulations.ipynb",
      "parameters": {},
      "start_time": "2024-06-05T21:04:06.290076",
      "version": "2.4.0"
    }
  },
  "nbformat": 4,
  "nbformat_minor": 5
}