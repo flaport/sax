{
  "cells": [
    {
      "cell_type": "markdown",
      "id": "0",
      "metadata": {
        "papermill": {
          "duration": 0.002628,
          "end_time": "2024-11-07T19:38:01.470832",
          "exception": false,
          "start_time": "2024-11-07T19:38:01.468204",
          "status": "completed"
        },
        "tags": []
      },
      "source": [
        "# Multimode simulations\n",
        "> SAX can handle multiple modes too!"
      ]
    },
    {
      "cell_type": "code",
      "execution_count": 1,
      "id": "1",
      "metadata": {
        "execution": {
          "iopub.execute_input": "2024-11-07T19:38:01.476189Z",
          "iopub.status.busy": "2024-11-07T19:38:01.475671Z",
          "iopub.status.idle": "2024-11-07T19:38:02.086265Z",
          "shell.execute_reply": "2024-11-07T19:38:02.085740Z"
        },
        "papermill": {
          "duration": 0.614276,
          "end_time": "2024-11-07T19:38:02.087327",
          "exception": false,
          "start_time": "2024-11-07T19:38:01.473051",
          "status": "completed"
        },
        "tags": []
      },
      "outputs": [],
      "source": [
        "from itertools import combinations_with_replacement, product\n",
        "\n",
        "import jax.numpy as jnp\n",
        "import sax"
      ]
    },
    {
      "cell_type": "markdown",
      "id": "2",
      "metadata": {
        "papermill": {
          "duration": 0.002201,
          "end_time": "2024-11-07T19:38:02.092035",
          "exception": false,
          "start_time": "2024-11-07T19:38:02.089834",
          "status": "completed"
        },
        "tags": []
      },
      "source": [
        "## Ports and modes per port"
      ]
    },
    {
      "cell_type": "markdown",
      "id": "3",
      "metadata": {
        "papermill": {
          "duration": 0.001789,
          "end_time": "2024-11-07T19:38:02.095639",
          "exception": false,
          "start_time": "2024-11-07T19:38:02.093850",
          "status": "completed"
        },
        "tags": []
      },
      "source": [
        "Let's denote a combination of a port and a mode by a string of the following format: `\"{port}@{mode}\"`. We can obtain all possible port-mode combinations with some magic itertools functions:"
      ]
    },
    {
      "cell_type": "code",
      "execution_count": 2,
      "id": "4",
      "metadata": {
        "execution": {
          "iopub.execute_input": "2024-11-07T19:38:02.101491Z",
          "iopub.status.busy": "2024-11-07T19:38:02.100892Z",
          "iopub.status.idle": "2024-11-07T19:38:02.106966Z",
          "shell.execute_reply": "2024-11-07T19:38:02.106560Z"
        },
        "papermill": {
          "duration": 0.010283,
          "end_time": "2024-11-07T19:38:02.107775",
          "exception": false,
          "start_time": "2024-11-07T19:38:02.097492",
          "status": "completed"
        },
        "tags": []
      },
      "outputs": [
        {
          "data": {
            "text/plain": [
              "[('in0@TE', 'in0@TE'),\n",
              " ('in0@TE', 'in0@TM'),\n",
              " ('in0@TE', 'out0@TE'),\n",
              " ('in0@TE', 'out0@TM'),\n",
              " ('in0@TM', 'in0@TM'),\n",
              " ('in0@TM', 'out0@TE'),\n",
              " ('in0@TM', 'out0@TM'),\n",
              " ('out0@TE', 'out0@TE'),\n",
              " ('out0@TE', 'out0@TM'),\n",
              " ('out0@TM', 'out0@TM')]"
            ]
          },
          "execution_count": 2,
          "metadata": {},
          "output_type": "execute_result"
        }
      ],
      "source": [
        "ports = [\"in0\", \"out0\"]\n",
        "modes = [\"TE\", \"TM\"]\n",
        "portmodes = [\n",
        "    (f\"{p1}@{m1}\", f\"{p2}@{m2}\")\n",
        "    for (p1, m1), (p2, m2) in combinations_with_replacement(product(ports, modes), 2)\n",
        "]\n",
        "portmodes"
      ]
    },
    {
      "cell_type": "markdown",
      "id": "5",
      "metadata": {
        "papermill": {
          "duration": 0.001927,
          "end_time": "2024-11-07T19:38:02.111764",
          "exception": false,
          "start_time": "2024-11-07T19:38:02.109837",
          "status": "completed"
        },
        "tags": []
      },
      "source": [
        "If we would disregard any backreflection, this can be further simplified:"
      ]
    },
    {
      "cell_type": "code",
      "execution_count": 3,
      "id": "6",
      "metadata": {
        "execution": {
          "iopub.execute_input": "2024-11-07T19:38:02.116625Z",
          "iopub.status.busy": "2024-11-07T19:38:02.116267Z",
          "iopub.status.idle": "2024-11-07T19:38:02.120239Z",
          "shell.execute_reply": "2024-11-07T19:38:02.119821Z"
        },
        "papermill": {
          "duration": 0.007243,
          "end_time": "2024-11-07T19:38:02.120978",
          "exception": false,
          "start_time": "2024-11-07T19:38:02.113735",
          "status": "completed"
        },
        "tags": []
      },
      "outputs": [
        {
          "data": {
            "text/plain": [
              "[('in0@TE', 'out0@TE'),\n",
              " ('in0@TE', 'out0@TM'),\n",
              " ('in0@TM', 'out0@TE'),\n",
              " ('in0@TM', 'out0@TM')]"
            ]
          },
          "execution_count": 3,
          "metadata": {},
          "output_type": "execute_result"
        }
      ],
      "source": [
        "portmodes_without_backreflection = [\n",
        "    (p1, p2) for p1, p2 in portmodes if p1.split(\"@\")[0] != p2.split(\"@\")[0]\n",
        "]\n",
        "portmodes_without_backreflection"
      ]
    },
    {
      "cell_type": "markdown",
      "id": "7",
      "metadata": {
        "papermill": {
          "duration": 0.002063,
          "end_time": "2024-11-07T19:38:02.125094",
          "exception": false,
          "start_time": "2024-11-07T19:38:02.123031",
          "status": "completed"
        },
        "tags": []
      },
      "source": [
        "Sometimes cross-polarization terms can also be ignored:"
      ]
    },
    {
      "cell_type": "code",
      "execution_count": 4,
      "id": "8",
      "metadata": {
        "execution": {
          "iopub.execute_input": "2024-11-07T19:38:02.130043Z",
          "iopub.status.busy": "2024-11-07T19:38:02.129706Z",
          "iopub.status.idle": "2024-11-07T19:38:02.133583Z",
          "shell.execute_reply": "2024-11-07T19:38:02.133108Z"
        },
        "papermill": {
          "duration": 0.007296,
          "end_time": "2024-11-07T19:38:02.134407",
          "exception": false,
          "start_time": "2024-11-07T19:38:02.127111",
          "status": "completed"
        },
        "tags": []
      },
      "outputs": [
        {
          "data": {
            "text/plain": [
              "[('in0@TE', 'in0@TE'),\n",
              " ('in0@TE', 'out0@TE'),\n",
              " ('in0@TM', 'in0@TM'),\n",
              " ('in0@TM', 'out0@TM'),\n",
              " ('out0@TE', 'out0@TE'),\n",
              " ('out0@TM', 'out0@TM')]"
            ]
          },
          "execution_count": 4,
          "metadata": {},
          "output_type": "execute_result"
        }
      ],
      "source": [
        "portmodes_without_crosspolarization = [\n",
        "    (p1, p2) for p1, p2 in portmodes if p1.split(\"@\")[1] == p2.split(\"@\")[1]\n",
        "]\n",
        "portmodes_without_crosspolarization"
      ]
    },
    {
      "cell_type": "markdown",
      "id": "9",
      "metadata": {
        "papermill": {
          "duration": 0.002029,
          "end_time": "2024-11-07T19:38:02.138616",
          "exception": false,
          "start_time": "2024-11-07T19:38:02.136587",
          "status": "completed"
        },
        "tags": []
      },
      "source": [
        "## Multimode waveguide"
      ]
    },
    {
      "cell_type": "markdown",
      "id": "10",
      "metadata": {
        "papermill": {
          "duration": 0.002067,
          "end_time": "2024-11-07T19:38:02.142772",
          "exception": false,
          "start_time": "2024-11-07T19:38:02.140705",
          "status": "completed"
        },
        "tags": []
      },
      "source": [
        "Let's create a waveguide with two ports (`\"in\"`, `\"out\"`) and two modes (`\"te\"`, `\"tm\"`) without backreflection. Let's assume there is 5% cross-polarization and that the `\"tm\"`->`\"tm\"` transmission is 10% worse than the `\"te\"`->`\"te\"` transmission. Naturally in more realisic waveguide models these percentages will be length-dependent, but this is just a dummy model serving as an example."
      ]
    },
    {
      "cell_type": "code",
      "execution_count": 5,
      "id": "11",
      "metadata": {
        "execution": {
          "iopub.execute_input": "2024-11-07T19:38:02.147682Z",
          "iopub.status.busy": "2024-11-07T19:38:02.147411Z",
          "iopub.status.idle": "2024-11-07T19:38:02.205528Z",
          "shell.execute_reply": "2024-11-07T19:38:02.205078Z"
        },
        "papermill": {
          "duration": 0.061547,
          "end_time": "2024-11-07T19:38:02.206406",
          "exception": false,
          "start_time": "2024-11-07T19:38:02.144859",
          "status": "completed"
        },
        "tags": []
      },
      "outputs": [
        {
          "data": {
            "text/plain": [
              "{('in0@TE',\n",
              "  'out0@TE'): Array(0.77972527+0.5427048j, dtype=complex128, weak_type=True),\n",
              " ('in0@TE',\n",
              "  'out0@TM'): Array(0.04103817+0.02856341j, dtype=complex128, weak_type=True),\n",
              " ('in0@TM',\n",
              "  'out0@TM'): Array(0.69764893+0.48557798j, dtype=complex128, weak_type=True),\n",
              " ('in0@TM',\n",
              "  'out0@TE'): Array(0.04103817+0.02856341j, dtype=complex128, weak_type=True),\n",
              " ('out0@TE',\n",
              "  'in0@TE'): Array(0.77972527+0.5427048j, dtype=complex128, weak_type=True),\n",
              " ('out0@TM',\n",
              "  'in0@TE'): Array(0.04103817+0.02856341j, dtype=complex128, weak_type=True),\n",
              " ('out0@TM',\n",
              "  'in0@TM'): Array(0.69764893+0.48557798j, dtype=complex128, weak_type=True),\n",
              " ('out0@TE',\n",
              "  'in0@TM'): Array(0.04103817+0.02856341j, dtype=complex128, weak_type=True)}"
            ]
          },
          "execution_count": 5,
          "metadata": {},
          "output_type": "execute_result"
        }
      ],
      "source": [
        "def waveguide(wl=1.55, wl0=1.55, neff=2.34, ng=3.4, length=10.0, loss=0.0):\n",
        "    \"\"\"a simple straight waveguide model\n",
        "\n",
        "    Args:\n",
        "        wl: wavelength\n",
        "        neff: waveguide effective index\n",
        "        ng: waveguide group index (used for linear neff dispersion)\n",
        "        wl0: center wavelength at which neff is defined\n",
        "        length: [m] wavelength length\n",
        "        loss: [dB/m] waveguide loss\n",
        "    \"\"\"\n",
        "    dwl = wl - wl0\n",
        "    dneff_dwl = (ng - neff) / wl0\n",
        "    neff = neff - dwl * dneff_dwl\n",
        "    phase = 2 * jnp.pi * neff * length / wl\n",
        "    transmission = 10 ** (-loss * length / 20) * jnp.exp(1j * phase)\n",
        "    sdict = sax.reciprocal(\n",
        "        {\n",
        "            (\"in0@TE\", \"out0@TE\"): 0.95 * transmission,  # 5% lost to cross-polarization\n",
        "            (\"in0@TE\", \"out0@TM\"): 0.05 * transmission,  # 5% cross-polarization\n",
        "            (\"in0@TM\", \"out0@TM\"): 0.85 * transmission,  # 10% worse tm->tm than te->te\n",
        "            (\"in0@TM\", \"out0@TE\"): 0.05 * transmission,  # 5% cross-polarization\n",
        "        }\n",
        "    )\n",
        "    return sdict\n",
        "\n",
        "\n",
        "waveguide()"
      ]
    },
    {
      "cell_type": "markdown",
      "id": "12",
      "metadata": {
        "papermill": {
          "duration": 0.002311,
          "end_time": "2024-11-07T19:38:02.211338",
          "exception": false,
          "start_time": "2024-11-07T19:38:02.209027",
          "status": "completed"
        },
        "tags": []
      },
      "source": [
        "## Multimode Coupler"
      ]
    },
    {
      "cell_type": "code",
      "execution_count": 6,
      "id": "13",
      "metadata": {
        "execution": {
          "iopub.execute_input": "2024-11-07T19:38:02.216945Z",
          "iopub.status.busy": "2024-11-07T19:38:02.216544Z",
          "iopub.status.idle": "2024-11-07T19:38:02.220543Z",
          "shell.execute_reply": "2024-11-07T19:38:02.220135Z"
        },
        "papermill": {
          "duration": 0.007608,
          "end_time": "2024-11-07T19:38:02.221310",
          "exception": false,
          "start_time": "2024-11-07T19:38:02.213702",
          "status": "completed"
        },
        "tags": []
      },
      "outputs": [],
      "source": [
        "def coupler():\n",
        "    return {\n",
        "        (\"in0@TE\", \"out0@TE\"): 0.45**0.5,\n",
        "        (\"in0@TE\", \"out1@TE\"): 1j * 0.45**0.5,\n",
        "        (\"in1@TE\", \"out0@TE\"): 1j * 0.45**0.5,\n",
        "        (\"in1@TE\", \"out1@TE\"): 0.45**0.5,\n",
        "        (\"in0@TM\", \"out0@TM\"): 0.45**0.5,\n",
        "        (\"in0@TM\", \"out1@TM\"): 1j * 0.45**0.5,\n",
        "        (\"in1@TM\", \"out0@TM\"): 1j * 0.45**0.5,\n",
        "        (\"in1@TM\", \"out1@TM\"): 0.45**0.5,\n",
        "        (\"in0@TE\", \"out0@TM\"): 0.01**0.5,\n",
        "        (\"in0@TE\", \"out1@TM\"): 1j * 0.01**0.5,\n",
        "        (\"in1@TE\", \"out0@TM\"): 1j * 0.01**0.5,\n",
        "        (\"in1@TE\", \"out1@TM\"): 0.01**0.5,\n",
        "        (\"in0@TM\", \"out0@TE\"): 0.01**0.5,\n",
        "        (\"in0@TM\", \"out1@TE\"): 1j * 0.01**0.5,\n",
        "        (\"in1@TM\", \"out0@TE\"): 1j * 0.01**0.5,\n",
        "        (\"in1@TM\", \"out1@TE\"): 0.01**0.5,\n",
        "    }"
      ]
    },
    {
      "cell_type": "markdown",
      "id": "14",
      "metadata": {
        "papermill": {
          "duration": 0.002196,
          "end_time": "2024-11-07T19:38:02.225749",
          "exception": false,
          "start_time": "2024-11-07T19:38:02.223553",
          "status": "completed"
        },
        "tags": []
      },
      "source": [
        "## Multimode MZI"
      ]
    },
    {
      "cell_type": "markdown",
      "id": "15",
      "metadata": {
        "papermill": {
          "duration": 0.00224,
          "end_time": "2024-11-07T19:38:02.230209",
          "exception": false,
          "start_time": "2024-11-07T19:38:02.227969",
          "status": "completed"
        },
        "tags": []
      },
      "source": [
        "We can now combine these models into a circuit in much the same way as before. We just need to add the `modes=` keyword:"
      ]
    },
    {
      "cell_type": "code",
      "execution_count": 7,
      "id": "16",
      "metadata": {
        "execution": {
          "iopub.execute_input": "2024-11-07T19:38:02.235432Z",
          "iopub.status.busy": "2024-11-07T19:38:02.235159Z",
          "iopub.status.idle": "2024-11-07T19:38:02.806904Z",
          "shell.execute_reply": "2024-11-07T19:38:02.806427Z"
        },
        "papermill": {
          "duration": 0.575455,
          "end_time": "2024-11-07T19:38:02.807919",
          "exception": false,
          "start_time": "2024-11-07T19:38:02.232464",
          "status": "completed"
        },
        "tags": []
      },
      "outputs": [],
      "source": [
        "mzi, _ = sax.circuit(\n",
        "    netlist={\n",
        "        \"instances\": {\n",
        "            \"lft\": \"coupler\",  # single mode models will be automatically converted to multimode models without cross polarization.\n",
        "            \"top\": {\"component\": \"straight\", \"settings\": {\"length\": 25.0}},\n",
        "            \"btm\": {\"component\": \"straight\", \"settings\": {\"length\": 15.0}},\n",
        "            \"rgt\": \"coupler\",  # single mode models will be automatically converted to multimode models without cross polarization.\n",
        "        },\n",
        "        \"connections\": {\n",
        "            \"lft,out0\": \"btm,in0\",\n",
        "            \"btm,out0\": \"rgt,in0\",\n",
        "            \"lft,out1\": \"top,in0\",\n",
        "            \"top,out0\": \"rgt,in1\",\n",
        "        },\n",
        "        \"ports\": {\n",
        "            \"in0\": \"lft,in0\",\n",
        "            \"in1\": \"lft,in1\",\n",
        "            \"out0\": \"rgt,out0\",\n",
        "            \"out1\": \"rgt,out1\",\n",
        "        },\n",
        "    },\n",
        "    models={\n",
        "        \"coupler\": coupler,\n",
        "        \"straight\": waveguide,\n",
        "    },\n",
        ")"
      ]
    },
    {
      "cell_type": "code",
      "execution_count": 8,
      "id": "17",
      "metadata": {
        "execution": {
          "iopub.execute_input": "2024-11-07T19:38:02.814138Z",
          "iopub.status.busy": "2024-11-07T19:38:02.813731Z",
          "iopub.status.idle": "2024-11-07T19:38:03.112369Z",
          "shell.execute_reply": "2024-11-07T19:38:03.111825Z"
        },
        "papermill": {
          "duration": 0.30264,
          "end_time": "2024-11-07T19:38:03.113243",
          "exception": false,
          "start_time": "2024-11-07T19:38:02.810603",
          "status": "completed"
        },
        "tags": []
      },
      "outputs": [
        {
          "data": {
            "text/plain": [
              "{('in0@TE', 'in0@TE'): Array(0.+0.j, dtype=complex128),\n",
              " ('in0@TE', 'in0@TM'): Array(0.+0.j, dtype=complex128),\n",
              " ('in0@TE', 'in1@TE'): Array(0.+0.j, dtype=complex128),\n",
              " ('in0@TE', 'in1@TM'): Array(0.+0.j, dtype=complex128),\n",
              " ('in0@TE', 'out0@TE'): Array(-0.24856154+0.09205708j, dtype=complex128),\n",
              " ('in0@TE', 'out0@TM'): Array(-0.08070811+0.029891j, dtype=complex128),\n",
              " ('in0@TE', 'out1@TE'): Array(0.7922229-0.29340714j, dtype=complex128),\n",
              " ('in0@TE', 'out1@TM'): Array(0.25723534-0.09526951j, dtype=complex128),\n",
              " ('in0@TM', 'in0@TE'): Array(0.+0.j, dtype=complex128),\n",
              " ('in0@TM', 'in0@TM'): Array(0.+0.j, dtype=complex128),\n",
              " ('in0@TM', 'in1@TE'): Array(0.+0.j, dtype=complex128),\n",
              " ('in0@TM', 'in1@TM'): Array(0.+0.j, dtype=complex128),\n",
              " ('in0@TM', 'out0@TE'): Array(-0.08070811+0.029891j, dtype=complex128),\n",
              " ('in0@TM', 'out0@TM'): Array(-0.22385744+0.08290769j, dtype=complex128),\n",
              " ('in0@TM', 'out1@TE'): Array(0.25723534-0.09526951j, dtype=complex128),\n",
              " ('in0@TM', 'out1@TM'): Array(0.71348524-0.26424592j, dtype=complex128),\n",
              " ('in1@TE', 'in0@TE'): Array(0.+0.j, dtype=complex128),\n",
              " ('in1@TE', 'in0@TM'): Array(0.+0.j, dtype=complex128),\n",
              " ('in1@TE', 'in1@TE'): Array(0.+0.j, dtype=complex128),\n",
              " ('in1@TE', 'in1@TM'): Array(0.+0.j, dtype=complex128),\n",
              " ('in1@TE', 'out0@TE'): Array(0.7922229-0.29340714j, dtype=complex128),\n",
              " ('in1@TE', 'out0@TM'): Array(0.25723534-0.09526951j, dtype=complex128),\n",
              " ('in1@TE', 'out1@TE'): Array(0.24856154-0.09205708j, dtype=complex128),\n",
              " ('in1@TE', 'out1@TM'): Array(0.08070811-0.029891j, dtype=complex128),\n",
              " ('in1@TM', 'in0@TE'): Array(0.+0.j, dtype=complex128),\n",
              " ('in1@TM', 'in0@TM'): Array(0.+0.j, dtype=complex128),\n",
              " ('in1@TM', 'in1@TE'): Array(0.+0.j, dtype=complex128),\n",
              " ('in1@TM', 'in1@TM'): Array(0.+0.j, dtype=complex128),\n",
              " ('in1@TM', 'out0@TE'): Array(0.25723534-0.09526951j, dtype=complex128),\n",
              " ('in1@TM', 'out0@TM'): Array(0.71348524-0.26424592j, dtype=complex128),\n",
              " ('in1@TM', 'out1@TE'): Array(0.08070811-0.029891j, dtype=complex128),\n",
              " ('in1@TM', 'out1@TM'): Array(0.22385744-0.08290769j, dtype=complex128),\n",
              " ('out0@TE', 'in0@TE'): Array(0.+0.j, dtype=complex128),\n",
              " ('out0@TE', 'in0@TM'): Array(0.+0.j, dtype=complex128),\n",
              " ('out0@TE', 'in1@TE'): Array(0.+0.j, dtype=complex128),\n",
              " ('out0@TE', 'in1@TM'): Array(0.+0.j, dtype=complex128),\n",
              " ('out0@TE', 'out0@TE'): Array(0.+0.j, dtype=complex128),\n",
              " ('out0@TE', 'out0@TM'): Array(0.+0.j, dtype=complex128),\n",
              " ('out0@TE', 'out1@TE'): Array(0.+0.j, dtype=complex128),\n",
              " ('out0@TE', 'out1@TM'): Array(0.+0.j, dtype=complex128),\n",
              " ('out0@TM', 'in0@TE'): Array(0.+0.j, dtype=complex128),\n",
              " ('out0@TM', 'in0@TM'): Array(0.+0.j, dtype=complex128),\n",
              " ('out0@TM', 'in1@TE'): Array(0.+0.j, dtype=complex128),\n",
              " ('out0@TM', 'in1@TM'): Array(0.+0.j, dtype=complex128),\n",
              " ('out0@TM', 'out0@TE'): Array(0.+0.j, dtype=complex128),\n",
              " ('out0@TM', 'out0@TM'): Array(0.+0.j, dtype=complex128),\n",
              " ('out0@TM', 'out1@TE'): Array(0.+0.j, dtype=complex128),\n",
              " ('out0@TM', 'out1@TM'): Array(0.+0.j, dtype=complex128),\n",
              " ('out1@TE', 'in0@TE'): Array(0.+0.j, dtype=complex128),\n",
              " ('out1@TE', 'in0@TM'): Array(0.+0.j, dtype=complex128),\n",
              " ('out1@TE', 'in1@TE'): Array(0.+0.j, dtype=complex128),\n",
              " ('out1@TE', 'in1@TM'): Array(0.+0.j, dtype=complex128),\n",
              " ('out1@TE', 'out0@TE'): Array(0.+0.j, dtype=complex128),\n",
              " ('out1@TE', 'out0@TM'): Array(0.+0.j, dtype=complex128),\n",
              " ('out1@TE', 'out1@TE'): Array(0.+0.j, dtype=complex128),\n",
              " ('out1@TE', 'out1@TM'): Array(0.+0.j, dtype=complex128),\n",
              " ('out1@TM', 'in0@TE'): Array(0.+0.j, dtype=complex128),\n",
              " ('out1@TM', 'in0@TM'): Array(0.+0.j, dtype=complex128),\n",
              " ('out1@TM', 'in1@TE'): Array(0.+0.j, dtype=complex128),\n",
              " ('out1@TM', 'in1@TM'): Array(0.+0.j, dtype=complex128),\n",
              " ('out1@TM', 'out0@TE'): Array(0.+0.j, dtype=complex128),\n",
              " ('out1@TM', 'out0@TM'): Array(0.+0.j, dtype=complex128),\n",
              " ('out1@TM', 'out1@TE'): Array(0.+0.j, dtype=complex128),\n",
              " ('out1@TM', 'out1@TM'): Array(0.+0.j, dtype=complex128)}"
            ]
          },
          "execution_count": 8,
          "metadata": {},
          "output_type": "execute_result"
        }
      ],
      "source": [
        "mzi()"
      ]
    },
    {
      "cell_type": "markdown",
      "id": "18",
      "metadata": {
        "papermill": {
          "duration": 0.002432,
          "end_time": "2024-11-07T19:38:03.118356",
          "exception": false,
          "start_time": "2024-11-07T19:38:03.115924",
          "status": "completed"
        },
        "tags": []
      },
      "source": [
        "we can convert this model back to a singlemode `SDict` as follows:"
      ]
    },
    {
      "cell_type": "code",
      "execution_count": 9,
      "id": "19",
      "metadata": {
        "execution": {
          "iopub.execute_input": "2024-11-07T19:38:03.123969Z",
          "iopub.status.busy": "2024-11-07T19:38:03.123587Z",
          "iopub.status.idle": "2024-11-07T19:38:03.158475Z",
          "shell.execute_reply": "2024-11-07T19:38:03.158061Z"
        },
        "papermill": {
          "duration": 0.038529,
          "end_time": "2024-11-07T19:38:03.159247",
          "exception": false,
          "start_time": "2024-11-07T19:38:03.120718",
          "status": "completed"
        },
        "tags": []
      },
      "outputs": [
        {
          "data": {
            "text/plain": [
              "{('in0', 'in0'): Array(0.+0.j, dtype=complex128),\n",
              " ('in0', 'in1'): Array(0.+0.j, dtype=complex128),\n",
              " ('in0', 'out0'): Array(-0.24856154+0.09205708j, dtype=complex128),\n",
              " ('in0', 'out1'): Array(0.7922229-0.29340714j, dtype=complex128),\n",
              " ('in1', 'in0'): Array(0.+0.j, dtype=complex128),\n",
              " ('in1', 'in1'): Array(0.+0.j, dtype=complex128),\n",
              " ('in1', 'out0'): Array(0.7922229-0.29340714j, dtype=complex128),\n",
              " ('in1', 'out1'): Array(0.24856154-0.09205708j, dtype=complex128),\n",
              " ('out0', 'in0'): Array(0.+0.j, dtype=complex128),\n",
              " ('out0', 'in1'): Array(0.+0.j, dtype=complex128),\n",
              " ('out0', 'out0'): Array(0.+0.j, dtype=complex128),\n",
              " ('out0', 'out1'): Array(0.+0.j, dtype=complex128),\n",
              " ('out1', 'in0'): Array(0.+0.j, dtype=complex128),\n",
              " ('out1', 'in1'): Array(0.+0.j, dtype=complex128),\n",
              " ('out1', 'out0'): Array(0.+0.j, dtype=complex128),\n",
              " ('out1', 'out1'): Array(0.+0.j, dtype=complex128)}"
            ]
          },
          "execution_count": 9,
          "metadata": {},
          "output_type": "execute_result"
        }
      ],
      "source": [
        "mzi_te = sax.singlemode(mzi, mode=\"TE\")\n",
        "mzi_te()"
      ]
    }
  ],
  "metadata": {
    "kernelspec": {
      "display_name": "Python 3 (ipykernel)",
      "language": "python",
      "name": "python3"
    },
    "language_info": {
      "codemirror_mode": {
        "name": "ipython",
        "version": 3
      },
      "file_extension": ".py",
      "mimetype": "text/x-python",
      "name": "python",
      "nbconvert_exporter": "python",
      "pygments_lexer": "ipython3",
      "version": "3.11.10"
    },
    "papermill": {
      "default_parameters": {},
      "duration": 3.077871,
      "end_time": "2024-11-07T19:38:03.577572",
      "environment_variables": {},
      "exception": null,
      "input_path": "./examples/04_multimode_simulations.ipynb",
      "output_path": "./examples/04_multimode_simulations.ipynb",
      "parameters": {},
      "start_time": "2024-11-07T19:38:00.499701",
      "version": "2.6.0"
    }
  },
  "nbformat": 4,
  "nbformat_minor": 5
}