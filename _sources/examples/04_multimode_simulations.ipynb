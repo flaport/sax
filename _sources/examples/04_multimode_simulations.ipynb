{
  "cells": [
    {
      "cell_type": "markdown",
      "id": "0",
      "metadata": {
        "papermill": {
          "duration": 0.003019,
          "end_time": "2025-02-13T09:44:12.415675",
          "exception": false,
          "start_time": "2025-02-13T09:44:12.412656",
          "status": "completed"
        },
        "tags": []
      },
      "source": [
        "# Multimode simulations\n",
        "> SAX can handle multiple modes too!"
      ]
    },
    {
      "cell_type": "code",
      "execution_count": 1,
      "id": "1",
      "metadata": {
        "execution": {
          "iopub.execute_input": "2025-02-13T09:44:12.424587Z",
          "iopub.status.busy": "2025-02-13T09:44:12.424083Z",
          "iopub.status.idle": "2025-02-13T09:44:15.994611Z",
          "shell.execute_reply": "2025-02-13T09:44:15.994033Z"
        },
        "papermill": {
          "duration": 3.576738,
          "end_time": "2025-02-13T09:44:15.996075",
          "exception": false,
          "start_time": "2025-02-13T09:44:12.419337",
          "status": "completed"
        },
        "tags": []
      },
      "outputs": [],
      "source": [
        "from itertools import combinations_with_replacement, product\n",
        "\n",
        "import jax.numpy as jnp\n",
        "import sax"
      ]
    },
    {
      "cell_type": "markdown",
      "id": "2",
      "metadata": {
        "papermill": {
          "duration": 0.002725,
          "end_time": "2025-02-13T09:44:16.002319",
          "exception": false,
          "start_time": "2025-02-13T09:44:15.999594",
          "status": "completed"
        },
        "tags": []
      },
      "source": [
        "## Ports and modes per port"
      ]
    },
    {
      "cell_type": "markdown",
      "id": "3",
      "metadata": {
        "papermill": {
          "duration": 0.002606,
          "end_time": "2025-02-13T09:44:16.007623",
          "exception": false,
          "start_time": "2025-02-13T09:44:16.005017",
          "status": "completed"
        },
        "tags": []
      },
      "source": [
        "Let's denote a combination of a port and a mode by a string of the following format: `\"{port}@{mode}\"`. We can obtain all possible port-mode combinations with some magic itertools functions:"
      ]
    },
    {
      "cell_type": "code",
      "execution_count": 2,
      "id": "4",
      "metadata": {
        "execution": {
          "iopub.execute_input": "2025-02-13T09:44:16.015030Z",
          "iopub.status.busy": "2025-02-13T09:44:16.014250Z",
          "iopub.status.idle": "2025-02-13T09:44:16.023806Z",
          "shell.execute_reply": "2025-02-13T09:44:16.023359Z"
        },
        "papermill": {
          "duration": 0.014538,
          "end_time": "2025-02-13T09:44:16.024884",
          "exception": false,
          "start_time": "2025-02-13T09:44:16.010346",
          "status": "completed"
        },
        "tags": []
      },
      "outputs": [
        {
          "data": {
            "text/plain": [
              "[('in0@TE', 'in0@TE'),\n",
              " ('in0@TE', 'in0@TM'),\n",
              " ('in0@TE', 'out0@TE'),\n",
              " ('in0@TE', 'out0@TM'),\n",
              " ('in0@TM', 'in0@TM'),\n",
              " ('in0@TM', 'out0@TE'),\n",
              " ('in0@TM', 'out0@TM'),\n",
              " ('out0@TE', 'out0@TE'),\n",
              " ('out0@TE', 'out0@TM'),\n",
              " ('out0@TM', 'out0@TM')]"
            ]
          },
          "execution_count": 2,
          "metadata": {},
          "output_type": "execute_result"
        }
      ],
      "source": [
        "ports = [\"in0\", \"out0\"]\n",
        "modes = [\"TE\", \"TM\"]\n",
        "portmodes = [\n",
        "    (f\"{p1}@{m1}\", f\"{p2}@{m2}\")\n",
        "    for (p1, m1), (p2, m2) in combinations_with_replacement(product(ports, modes), 2)\n",
        "]\n",
        "portmodes"
      ]
    },
    {
      "cell_type": "markdown",
      "id": "5",
      "metadata": {
        "papermill": {
          "duration": 0.002726,
          "end_time": "2025-02-13T09:44:16.030768",
          "exception": false,
          "start_time": "2025-02-13T09:44:16.028042",
          "status": "completed"
        },
        "tags": []
      },
      "source": [
        "If we would disregard any backreflection, this can be further simplified:"
      ]
    },
    {
      "cell_type": "code",
      "execution_count": 3,
      "id": "6",
      "metadata": {
        "execution": {
          "iopub.execute_input": "2025-02-13T09:44:16.037336Z",
          "iopub.status.busy": "2025-02-13T09:44:16.037134Z",
          "iopub.status.idle": "2025-02-13T09:44:16.042942Z",
          "shell.execute_reply": "2025-02-13T09:44:16.042435Z"
        },
        "papermill": {
          "duration": 0.010314,
          "end_time": "2025-02-13T09:44:16.043943",
          "exception": false,
          "start_time": "2025-02-13T09:44:16.033629",
          "status": "completed"
        },
        "tags": []
      },
      "outputs": [
        {
          "data": {
            "text/plain": [
              "[('in0@TE', 'out0@TE'),\n",
              " ('in0@TE', 'out0@TM'),\n",
              " ('in0@TM', 'out0@TE'),\n",
              " ('in0@TM', 'out0@TM')]"
            ]
          },
          "execution_count": 3,
          "metadata": {},
          "output_type": "execute_result"
        }
      ],
      "source": [
        "portmodes_without_backreflection = [\n",
        "    (p1, p2) for p1, p2 in portmodes if p1.split(\"@\")[0] != p2.split(\"@\")[0]\n",
        "]\n",
        "portmodes_without_backreflection"
      ]
    },
    {
      "cell_type": "markdown",
      "id": "7",
      "metadata": {
        "papermill": {
          "duration": 0.002851,
          "end_time": "2025-02-13T09:44:16.049978",
          "exception": false,
          "start_time": "2025-02-13T09:44:16.047127",
          "status": "completed"
        },
        "tags": []
      },
      "source": [
        "Sometimes cross-polarization terms can also be ignored:"
      ]
    },
    {
      "cell_type": "code",
      "execution_count": 4,
      "id": "8",
      "metadata": {
        "execution": {
          "iopub.execute_input": "2025-02-13T09:44:16.056579Z",
          "iopub.status.busy": "2025-02-13T09:44:16.056362Z",
          "iopub.status.idle": "2025-02-13T09:44:16.061983Z",
          "shell.execute_reply": "2025-02-13T09:44:16.061542Z"
        },
        "papermill": {
          "duration": 0.01009,
          "end_time": "2025-02-13T09:44:16.063005",
          "exception": false,
          "start_time": "2025-02-13T09:44:16.052915",
          "status": "completed"
        },
        "tags": []
      },
      "outputs": [
        {
          "data": {
            "text/plain": [
              "[('in0@TE', 'in0@TE'),\n",
              " ('in0@TE', 'out0@TE'),\n",
              " ('in0@TM', 'in0@TM'),\n",
              " ('in0@TM', 'out0@TM'),\n",
              " ('out0@TE', 'out0@TE'),\n",
              " ('out0@TM', 'out0@TM')]"
            ]
          },
          "execution_count": 4,
          "metadata": {},
          "output_type": "execute_result"
        }
      ],
      "source": [
        "portmodes_without_crosspolarization = [\n",
        "    (p1, p2) for p1, p2 in portmodes if p1.split(\"@\")[1] == p2.split(\"@\")[1]\n",
        "]\n",
        "portmodes_without_crosspolarization"
      ]
    },
    {
      "cell_type": "markdown",
      "id": "9",
      "metadata": {
        "papermill": {
          "duration": 0.00299,
          "end_time": "2025-02-13T09:44:16.069062",
          "exception": false,
          "start_time": "2025-02-13T09:44:16.066072",
          "status": "completed"
        },
        "tags": []
      },
      "source": [
        "## Multimode waveguide"
      ]
    },
    {
      "cell_type": "markdown",
      "id": "10",
      "metadata": {
        "papermill": {
          "duration": 0.002888,
          "end_time": "2025-02-13T09:44:16.075033",
          "exception": false,
          "start_time": "2025-02-13T09:44:16.072145",
          "status": "completed"
        },
        "tags": []
      },
      "source": [
        "Let's create a waveguide with two ports (`\"in\"`, `\"out\"`) and two modes (`\"te\"`, `\"tm\"`) without backreflection. Let's assume there is 5% cross-polarization and that the `\"tm\"`->`\"tm\"` transmission is 10% worse than the `\"te\"`->`\"te\"` transmission. Naturally in more realisic waveguide models these percentages will be length-dependent, but this is just a dummy model serving as an example."
      ]
    },
    {
      "cell_type": "code",
      "execution_count": 5,
      "id": "11",
      "metadata": {
        "execution": {
          "iopub.execute_input": "2025-02-13T09:44:16.082501Z",
          "iopub.status.busy": "2025-02-13T09:44:16.082201Z",
          "iopub.status.idle": "2025-02-13T09:44:16.316523Z",
          "shell.execute_reply": "2025-02-13T09:44:16.315860Z"
        },
        "papermill": {
          "duration": 0.239963,
          "end_time": "2025-02-13T09:44:16.317935",
          "exception": false,
          "start_time": "2025-02-13T09:44:16.077972",
          "status": "completed"
        },
        "tags": []
      },
      "outputs": [
        {
          "data": {
            "text/plain": [
              "{('in0@TE',\n",
              "  'out0@TE'): Array(0.77972527+0.5427048j, dtype=complex128, weak_type=True),\n",
              " ('in0@TE',\n",
              "  'out0@TM'): Array(0.04103817+0.02856341j, dtype=complex128, weak_type=True),\n",
              " ('in0@TM',\n",
              "  'out0@TM'): Array(0.69764893+0.48557798j, dtype=complex128, weak_type=True),\n",
              " ('in0@TM',\n",
              "  'out0@TE'): Array(0.04103817+0.02856341j, dtype=complex128, weak_type=True),\n",
              " ('out0@TE',\n",
              "  'in0@TE'): Array(0.77972527+0.5427048j, dtype=complex128, weak_type=True),\n",
              " ('out0@TM',\n",
              "  'in0@TE'): Array(0.04103817+0.02856341j, dtype=complex128, weak_type=True),\n",
              " ('out0@TM',\n",
              "  'in0@TM'): Array(0.69764893+0.48557798j, dtype=complex128, weak_type=True),\n",
              " ('out0@TE',\n",
              "  'in0@TM'): Array(0.04103817+0.02856341j, dtype=complex128, weak_type=True)}"
            ]
          },
          "execution_count": 5,
          "metadata": {},
          "output_type": "execute_result"
        }
      ],
      "source": [
        "def waveguide(wl=1.55, wl0=1.55, neff=2.34, ng=3.4, length=10.0, loss=0.0):\n",
        "    \"\"\"a simple straight waveguide model\n",
        "\n",
        "    Args:\n",
        "        wl: wavelength\n",
        "        neff: waveguide effective index\n",
        "        ng: waveguide group index (used for linear neff dispersion)\n",
        "        wl0: center wavelength at which neff is defined\n",
        "        length: [m] wavelength length\n",
        "        loss: [dB/m] waveguide loss\n",
        "    \"\"\"\n",
        "    dwl = wl - wl0\n",
        "    dneff_dwl = (ng - neff) / wl0\n",
        "    neff = neff - dwl * dneff_dwl\n",
        "    phase = 2 * jnp.pi * neff * length / wl\n",
        "    transmission = 10 ** (-loss * length / 20) * jnp.exp(1j * phase)\n",
        "    sdict = sax.reciprocal(\n",
        "        {\n",
        "            (\"in0@TE\", \"out0@TE\"): 0.95 * transmission,  # 5% lost to cross-polarization\n",
        "            (\"in0@TE\", \"out0@TM\"): 0.05 * transmission,  # 5% cross-polarization\n",
        "            (\"in0@TM\", \"out0@TM\"): 0.85 * transmission,  # 10% worse tm->tm than te->te\n",
        "            (\"in0@TM\", \"out0@TE\"): 0.05 * transmission,  # 5% cross-polarization\n",
        "        }\n",
        "    )\n",
        "    return sdict\n",
        "\n",
        "\n",
        "waveguide()"
      ]
    },
    {
      "cell_type": "markdown",
      "id": "12",
      "metadata": {
        "papermill": {
          "duration": 0.004009,
          "end_time": "2025-02-13T09:44:16.327011",
          "exception": false,
          "start_time": "2025-02-13T09:44:16.323002",
          "status": "completed"
        },
        "tags": []
      },
      "source": [
        "## Multimode Coupler"
      ]
    },
    {
      "cell_type": "code",
      "execution_count": 6,
      "id": "13",
      "metadata": {
        "execution": {
          "iopub.execute_input": "2025-02-13T09:44:16.335908Z",
          "iopub.status.busy": "2025-02-13T09:44:16.334981Z",
          "iopub.status.idle": "2025-02-13T09:44:16.341407Z",
          "shell.execute_reply": "2025-02-13T09:44:16.340841Z"
        },
        "papermill": {
          "duration": 0.012006,
          "end_time": "2025-02-13T09:44:16.342694",
          "exception": false,
          "start_time": "2025-02-13T09:44:16.330688",
          "status": "completed"
        },
        "tags": []
      },
      "outputs": [],
      "source": [
        "def coupler():\n",
        "    return {\n",
        "        (\"in0@TE\", \"out0@TE\"): 0.45**0.5,\n",
        "        (\"in0@TE\", \"out1@TE\"): 1j * 0.45**0.5,\n",
        "        (\"in1@TE\", \"out0@TE\"): 1j * 0.45**0.5,\n",
        "        (\"in1@TE\", \"out1@TE\"): 0.45**0.5,\n",
        "        (\"in0@TM\", \"out0@TM\"): 0.45**0.5,\n",
        "        (\"in0@TM\", \"out1@TM\"): 1j * 0.45**0.5,\n",
        "        (\"in1@TM\", \"out0@TM\"): 1j * 0.45**0.5,\n",
        "        (\"in1@TM\", \"out1@TM\"): 0.45**0.5,\n",
        "        (\"in0@TE\", \"out0@TM\"): 0.01**0.5,\n",
        "        (\"in0@TE\", \"out1@TM\"): 1j * 0.01**0.5,\n",
        "        (\"in1@TE\", \"out0@TM\"): 1j * 0.01**0.5,\n",
        "        (\"in1@TE\", \"out1@TM\"): 0.01**0.5,\n",
        "        (\"in0@TM\", \"out0@TE\"): 0.01**0.5,\n",
        "        (\"in0@TM\", \"out1@TE\"): 1j * 0.01**0.5,\n",
        "        (\"in1@TM\", \"out0@TE\"): 1j * 0.01**0.5,\n",
        "        (\"in1@TM\", \"out1@TE\"): 0.01**0.5,\n",
        "    }"
      ]
    },
    {
      "cell_type": "markdown",
      "id": "14",
      "metadata": {
        "papermill": {
          "duration": 0.003896,
          "end_time": "2025-02-13T09:44:16.350734",
          "exception": false,
          "start_time": "2025-02-13T09:44:16.346838",
          "status": "completed"
        },
        "tags": []
      },
      "source": [
        "## Multimode MZI"
      ]
    },
    {
      "cell_type": "markdown",
      "id": "15",
      "metadata": {
        "papermill": {
          "duration": 0.00371,
          "end_time": "2025-02-13T09:44:16.358327",
          "exception": false,
          "start_time": "2025-02-13T09:44:16.354617",
          "status": "completed"
        },
        "tags": []
      },
      "source": [
        "We can now combine these models into a circuit in much the same way as before. We just need to add the `modes=` keyword:"
      ]
    },
    {
      "cell_type": "code",
      "execution_count": 7,
      "id": "16",
      "metadata": {
        "execution": {
          "iopub.execute_input": "2025-02-13T09:44:16.367376Z",
          "iopub.status.busy": "2025-02-13T09:44:16.366948Z",
          "iopub.status.idle": "2025-02-13T09:44:17.206438Z",
          "shell.execute_reply": "2025-02-13T09:44:17.205777Z"
        },
        "papermill": {
          "duration": 0.84627,
          "end_time": "2025-02-13T09:44:17.208311",
          "exception": false,
          "start_time": "2025-02-13T09:44:16.362041",
          "status": "completed"
        },
        "tags": []
      },
      "outputs": [],
      "source": [
        "mzi, _ = sax.circuit(\n",
        "    netlist={\n",
        "        \"instances\": {\n",
        "            \"lft\": \"coupler\",  # single mode models will be automatically converted to multimode models without cross polarization.\n",
        "            \"top\": {\"component\": \"straight\", \"settings\": {\"length\": 25.0}},\n",
        "            \"btm\": {\"component\": \"straight\", \"settings\": {\"length\": 15.0}},\n",
        "            \"rgt\": \"coupler\",  # single mode models will be automatically converted to multimode models without cross polarization.\n",
        "        },\n",
        "        \"connections\": {\n",
        "            \"lft,out0\": \"btm,in0\",\n",
        "            \"btm,out0\": \"rgt,in0\",\n",
        "            \"lft,out1\": \"top,in0\",\n",
        "            \"top,out0\": \"rgt,in1\",\n",
        "        },\n",
        "        \"ports\": {\n",
        "            \"in0\": \"lft,in0\",\n",
        "            \"in1\": \"lft,in1\",\n",
        "            \"out0\": \"rgt,out0\",\n",
        "            \"out1\": \"rgt,out1\",\n",
        "        },\n",
        "    },\n",
        "    models={\n",
        "        \"coupler\": coupler,\n",
        "        \"straight\": waveguide,\n",
        "    },\n",
        ")"
      ]
    },
    {
      "cell_type": "code",
      "execution_count": 8,
      "id": "17",
      "metadata": {
        "execution": {
          "iopub.execute_input": "2025-02-13T09:44:17.219405Z",
          "iopub.status.busy": "2025-02-13T09:44:17.219132Z",
          "iopub.status.idle": "2025-02-13T09:44:17.655533Z",
          "shell.execute_reply": "2025-02-13T09:44:17.654855Z"
        },
        "papermill": {
          "duration": 0.443251,
          "end_time": "2025-02-13T09:44:17.656768",
          "exception": false,
          "start_time": "2025-02-13T09:44:17.213517",
          "status": "completed"
        },
        "tags": []
      },
      "outputs": [
        {
          "data": {
            "text/plain": [
              "{('in0@TE', 'in0@TE'): Array(0.+0.j, dtype=complex128),\n",
              " ('in0@TE', 'in0@TM'): Array(0.+0.j, dtype=complex128),\n",
              " ('in0@TE', 'in1@TE'): Array(0.+0.j, dtype=complex128),\n",
              " ('in0@TE', 'in1@TM'): Array(0.+0.j, dtype=complex128),\n",
              " ('in0@TE', 'out0@TE'): Array(-0.24856154+0.09205708j, dtype=complex128),\n",
              " ('in0@TE', 'out0@TM'): Array(-0.08070811+0.029891j, dtype=complex128),\n",
              " ('in0@TE', 'out1@TE'): Array(0.7922229-0.29340714j, dtype=complex128),\n",
              " ('in0@TE', 'out1@TM'): Array(0.25723534-0.09526951j, dtype=complex128),\n",
              " ('in0@TM', 'in0@TE'): Array(0.+0.j, dtype=complex128),\n",
              " ('in0@TM', 'in0@TM'): Array(0.+0.j, dtype=complex128),\n",
              " ('in0@TM', 'in1@TE'): Array(0.+0.j, dtype=complex128),\n",
              " ('in0@TM', 'in1@TM'): Array(0.+0.j, dtype=complex128),\n",
              " ('in0@TM', 'out0@TE'): Array(-0.08070811+0.029891j, dtype=complex128),\n",
              " ('in0@TM', 'out0@TM'): Array(-0.22385744+0.08290769j, dtype=complex128),\n",
              " ('in0@TM', 'out1@TE'): Array(0.25723534-0.09526951j, dtype=complex128),\n",
              " ('in0@TM', 'out1@TM'): Array(0.71348524-0.26424592j, dtype=complex128),\n",
              " ('in1@TE', 'in0@TE'): Array(0.+0.j, dtype=complex128),\n",
              " ('in1@TE', 'in0@TM'): Array(0.+0.j, dtype=complex128),\n",
              " ('in1@TE', 'in1@TE'): Array(0.+0.j, dtype=complex128),\n",
              " ('in1@TE', 'in1@TM'): Array(0.+0.j, dtype=complex128),\n",
              " ('in1@TE', 'out0@TE'): Array(0.7922229-0.29340714j, dtype=complex128),\n",
              " ('in1@TE', 'out0@TM'): Array(0.25723534-0.09526951j, dtype=complex128),\n",
              " ('in1@TE', 'out1@TE'): Array(0.24856154-0.09205708j, dtype=complex128),\n",
              " ('in1@TE', 'out1@TM'): Array(0.08070811-0.029891j, dtype=complex128),\n",
              " ('in1@TM', 'in0@TE'): Array(0.+0.j, dtype=complex128),\n",
              " ('in1@TM', 'in0@TM'): Array(0.+0.j, dtype=complex128),\n",
              " ('in1@TM', 'in1@TE'): Array(0.+0.j, dtype=complex128),\n",
              " ('in1@TM', 'in1@TM'): Array(0.+0.j, dtype=complex128),\n",
              " ('in1@TM', 'out0@TE'): Array(0.25723534-0.09526951j, dtype=complex128),\n",
              " ('in1@TM', 'out0@TM'): Array(0.71348524-0.26424592j, dtype=complex128),\n",
              " ('in1@TM', 'out1@TE'): Array(0.08070811-0.029891j, dtype=complex128),\n",
              " ('in1@TM', 'out1@TM'): Array(0.22385744-0.08290769j, dtype=complex128),\n",
              " ('out0@TE', 'in0@TE'): Array(0.+0.j, dtype=complex128),\n",
              " ('out0@TE', 'in0@TM'): Array(0.+0.j, dtype=complex128),\n",
              " ('out0@TE', 'in1@TE'): Array(0.+0.j, dtype=complex128),\n",
              " ('out0@TE', 'in1@TM'): Array(0.+0.j, dtype=complex128),\n",
              " ('out0@TE', 'out0@TE'): Array(0.+0.j, dtype=complex128),\n",
              " ('out0@TE', 'out0@TM'): Array(0.+0.j, dtype=complex128),\n",
              " ('out0@TE', 'out1@TE'): Array(0.+0.j, dtype=complex128),\n",
              " ('out0@TE', 'out1@TM'): Array(0.+0.j, dtype=complex128),\n",
              " ('out0@TM', 'in0@TE'): Array(0.+0.j, dtype=complex128),\n",
              " ('out0@TM', 'in0@TM'): Array(0.+0.j, dtype=complex128),\n",
              " ('out0@TM', 'in1@TE'): Array(0.+0.j, dtype=complex128),\n",
              " ('out0@TM', 'in1@TM'): Array(0.+0.j, dtype=complex128),\n",
              " ('out0@TM', 'out0@TE'): Array(0.+0.j, dtype=complex128),\n",
              " ('out0@TM', 'out0@TM'): Array(0.+0.j, dtype=complex128),\n",
              " ('out0@TM', 'out1@TE'): Array(0.+0.j, dtype=complex128),\n",
              " ('out0@TM', 'out1@TM'): Array(0.+0.j, dtype=complex128),\n",
              " ('out1@TE', 'in0@TE'): Array(0.+0.j, dtype=complex128),\n",
              " ('out1@TE', 'in0@TM'): Array(0.+0.j, dtype=complex128),\n",
              " ('out1@TE', 'in1@TE'): Array(0.+0.j, dtype=complex128),\n",
              " ('out1@TE', 'in1@TM'): Array(0.+0.j, dtype=complex128),\n",
              " ('out1@TE', 'out0@TE'): Array(0.+0.j, dtype=complex128),\n",
              " ('out1@TE', 'out0@TM'): Array(0.+0.j, dtype=complex128),\n",
              " ('out1@TE', 'out1@TE'): Array(0.+0.j, dtype=complex128),\n",
              " ('out1@TE', 'out1@TM'): Array(0.+0.j, dtype=complex128),\n",
              " ('out1@TM', 'in0@TE'): Array(0.+0.j, dtype=complex128),\n",
              " ('out1@TM', 'in0@TM'): Array(0.+0.j, dtype=complex128),\n",
              " ('out1@TM', 'in1@TE'): Array(0.+0.j, dtype=complex128),\n",
              " ('out1@TM', 'in1@TM'): Array(0.+0.j, dtype=complex128),\n",
              " ('out1@TM', 'out0@TE'): Array(0.+0.j, dtype=complex128),\n",
              " ('out1@TM', 'out0@TM'): Array(0.+0.j, dtype=complex128),\n",
              " ('out1@TM', 'out1@TE'): Array(0.+0.j, dtype=complex128),\n",
              " ('out1@TM', 'out1@TM'): Array(0.+0.j, dtype=complex128)}"
            ]
          },
          "execution_count": 8,
          "metadata": {},
          "output_type": "execute_result"
        }
      ],
      "source": [
        "mzi()"
      ]
    },
    {
      "cell_type": "markdown",
      "id": "18",
      "metadata": {
        "papermill": {
          "duration": 0.00457,
          "end_time": "2025-02-13T09:44:17.675633",
          "exception": false,
          "start_time": "2025-02-13T09:44:17.671063",
          "status": "completed"
        },
        "tags": []
      },
      "source": [
        "we can convert this model back to a singlemode `SDict` as follows:"
      ]
    },
    {
      "cell_type": "code",
      "execution_count": 9,
      "id": "19",
      "metadata": {
        "execution": {
          "iopub.execute_input": "2025-02-13T09:44:17.706749Z",
          "iopub.status.busy": "2025-02-13T09:44:17.706208Z",
          "iopub.status.idle": "2025-02-13T09:44:17.762407Z",
          "shell.execute_reply": "2025-02-13T09:44:17.760851Z"
        },
        "papermill": {
          "duration": 0.084565,
          "end_time": "2025-02-13T09:44:17.764696",
          "exception": false,
          "start_time": "2025-02-13T09:44:17.680131",
          "status": "completed"
        },
        "tags": []
      },
      "outputs": [
        {
          "data": {
            "text/plain": [
              "{('in0', 'in0'): Array(0.+0.j, dtype=complex128),\n",
              " ('in0', 'in1'): Array(0.+0.j, dtype=complex128),\n",
              " ('in0', 'out0'): Array(-0.24856154+0.09205708j, dtype=complex128),\n",
              " ('in0', 'out1'): Array(0.7922229-0.29340714j, dtype=complex128),\n",
              " ('in1', 'in0'): Array(0.+0.j, dtype=complex128),\n",
              " ('in1', 'in1'): Array(0.+0.j, dtype=complex128),\n",
              " ('in1', 'out0'): Array(0.7922229-0.29340714j, dtype=complex128),\n",
              " ('in1', 'out1'): Array(0.24856154-0.09205708j, dtype=complex128),\n",
              " ('out0', 'in0'): Array(0.+0.j, dtype=complex128),\n",
              " ('out0', 'in1'): Array(0.+0.j, dtype=complex128),\n",
              " ('out0', 'out0'): Array(0.+0.j, dtype=complex128),\n",
              " ('out0', 'out1'): Array(0.+0.j, dtype=complex128),\n",
              " ('out1', 'in0'): Array(0.+0.j, dtype=complex128),\n",
              " ('out1', 'in1'): Array(0.+0.j, dtype=complex128),\n",
              " ('out1', 'out0'): Array(0.+0.j, dtype=complex128),\n",
              " ('out1', 'out1'): Array(0.+0.j, dtype=complex128)}"
            ]
          },
          "execution_count": 9,
          "metadata": {},
          "output_type": "execute_result"
        }
      ],
      "source": [
        "mzi_te = sax.singlemode(mzi, mode=\"TE\")\n",
        "mzi_te()"
      ]
    }
  ],
  "metadata": {
    "kernelspec": {
      "display_name": "Python 3 (ipykernel)",
      "language": "python",
      "name": "python3"
    },
    "language_info": {
      "codemirror_mode": {
        "name": "ipython",
        "version": 3
      },
      "file_extension": ".py",
      "mimetype": "text/x-python",
      "name": "python",
      "nbconvert_exporter": "python",
      "pygments_lexer": "ipython3",
      "version": "3.12.3"
    },
    "papermill": {
      "default_parameters": {},
      "duration": 8.574804,
      "end_time": "2025-02-13T09:44:18.489281",
      "environment_variables": {},
      "exception": null,
      "input_path": "./examples/04_multimode_simulations.ipynb",
      "output_path": "./examples/04_multimode_simulations.ipynb",
      "parameters": {},
      "start_time": "2025-02-13T09:44:09.914477",
      "version": "2.6.0"
    }
  },
  "nbformat": 4,
  "nbformat_minor": 5
}