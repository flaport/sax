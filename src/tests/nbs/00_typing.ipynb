{
 "cells": [
  {
   "cell_type": "markdown",
   "id": "0",
   "metadata": {
    "papermill": {
     "duration": 0.016689,
     "end_time": "2024-06-17T18:16:32.409216",
     "exception": false,
     "start_time": "2024-06-17T18:16:32.392527",
     "status": "completed"
    },
    "tags": []
   },
   "source": [
    "# Typing\n",
    "\n",
    "> SAX types"
   ]
  },
  {
   "cell_type": "code",
   "execution_count": null,
   "id": "1",
   "metadata": {
    "papermill": {
     "duration": 1.653551,
     "end_time": "2024-06-17T18:16:34.070112",
     "exception": false,
     "start_time": "2024-06-17T18:16:32.416561",
     "status": "completed"
    },
    "tags": []
   },
   "outputs": [],
   "source": [
    "import jax.numpy as jnp\n",
    "import numpy as np\n",
    "import pytest\n",
    "\n",
    "import sax"
   ]
  },
  {
   "cell_type": "code",
   "execution_count": null,
   "id": "2",
   "metadata": {
    "papermill": {
     "duration": 0.096721,
     "end_time": "2024-06-17T18:16:34.173414",
     "exception": false,
     "start_time": "2024-06-17T18:16:34.076693",
     "status": "completed"
    },
    "tags": []
   },
   "outputs": [],
   "source": [
    "assert sax.try_into[float](3.0)\n",
    "assert sax.try_into[float](3)\n",
    "assert not sax.try_into[float](3.0 + 2j)\n",
    "assert not sax.try_into[float](jnp.array(3.0, dtype=complex))\n",
    "assert sax.try_into[float](jnp.array(3, dtype=int))"
   ]
  },
  {
   "cell_type": "code",
   "execution_count": null,
   "id": "3",
   "metadata": {
    "papermill": {
     "duration": 0.016765,
     "end_time": "2024-06-17T18:16:34.197931",
     "exception": false,
     "start_time": "2024-06-17T18:16:34.181166",
     "status": "completed"
    },
    "tags": []
   },
   "outputs": [],
   "source": [
    "assert sax.try_into[complex](3.0)\n",
    "assert sax.try_into[complex](3)\n",
    "assert sax.try_into[complex](3.0 + 2j)\n",
    "assert not sax.try_into[complex](jnp.array(3.0, dtype=complex))\n",
    "\n",
    "# discrepency with float case here? (-> pydantic issue)\n",
    "assert not sax.try_into[complex](jnp.array(3, dtype=int))"
   ]
  },
  {
   "cell_type": "code",
   "execution_count": null,
   "id": "4",
   "metadata": {
    "papermill": {
     "duration": 0.061059,
     "end_time": "2024-06-17T18:16:34.291567",
     "exception": false,
     "start_time": "2024-06-17T18:16:34.230508",
     "status": "completed"
    },
    "tags": []
   },
   "outputs": [],
   "source": [
    "_sdict: sax.SDict = {\n",
    "    (\"in0\", \"out0\"): 3.0,\n",
    "}"
   ]
  },
  {
   "cell_type": "code",
   "execution_count": null,
   "id": "5",
   "metadata": {
    "papermill": {
     "duration": 0.07056,
     "end_time": "2024-06-17T18:16:34.370617",
     "exception": false,
     "start_time": "2024-06-17T18:16:34.300057",
     "status": "completed"
    },
    "tags": []
   },
   "outputs": [],
   "source": [
    "Si = jnp.arange(3, dtype=int)\n",
    "Sj = jnp.array([0, 1, 0], dtype=int)\n",
    "Sx = jnp.array([3.0, 4.0, 1.0])\n",
    "port_map = {\"in0\": 0, \"in1\": 2, \"out0\": 1}\n",
    "_scoo: sax.SCoo = (Si, Sj, Sx, port_map)"
   ]
  },
  {
   "cell_type": "code",
   "execution_count": null,
   "id": "6",
   "metadata": {
    "papermill": {
     "duration": 0.059577,
     "end_time": "2024-06-17T18:16:34.437716",
     "exception": false,
     "start_time": "2024-06-17T18:16:34.378139",
     "status": "completed"
    },
    "tags": []
   },
   "outputs": [],
   "source": [
    "Sd = jnp.arange(9, dtype=float).reshape(3, 3)\n",
    "port_map = {\"in0\": 0, \"in1\": 2, \"out0\": 1}\n",
    "_sdense = Sd, port_map"
   ]
  },
  {
   "cell_type": "code",
   "execution_count": null,
   "id": "7",
   "metadata": {
    "papermill": {
     "duration": 0.022298,
     "end_time": "2024-06-17T18:16:34.467300",
     "exception": false,
     "start_time": "2024-06-17T18:16:34.445002",
     "status": "completed"
    },
    "tags": []
   },
   "outputs": [],
   "source": [
    "assert not sax.try_into[sax.SDict](object())\n",
    "assert sax.try_into[sax.SDict](_sdict)\n",
    "assert not sax.try_into[sax.SDict](_scoo)\n",
    "assert not sax.try_into[sax.SDict](_sdense)"
   ]
  },
  {
   "cell_type": "code",
   "execution_count": null,
   "id": "8",
   "metadata": {
    "papermill": {
     "duration": 0.02694,
     "end_time": "2024-06-17T18:16:34.512154",
     "exception": false,
     "start_time": "2024-06-17T18:16:34.485214",
     "status": "completed"
    },
    "tags": []
   },
   "outputs": [],
   "source": [
    "assert not sax.try_into[sax.SCoo](object)\n",
    "assert not sax.try_into[sax.SCoo](_sdict)\n",
    "assert sax.try_into[sax.SCoo](_scoo)\n",
    "assert not sax.try_into[sax.SCoo](_sdense)"
   ]
  },
  {
   "cell_type": "code",
   "execution_count": null,
   "id": "9",
   "metadata": {
    "papermill": {
     "duration": 0.030043,
     "end_time": "2024-06-17T18:16:34.551339",
     "exception": false,
     "start_time": "2024-06-17T18:16:34.521296",
     "status": "completed"
    },
    "tags": []
   },
   "outputs": [],
   "source": [
    "assert not sax.try_into[sax.SDense](object)\n",
    "assert not sax.try_into[sax.SDense](_sdict)\n",
    "assert not sax.try_into[sax.SDense](_scoo)\n",
    "assert sax.try_into[sax.SDense](_sdense)"
   ]
  },
  {
   "cell_type": "code",
   "execution_count": null,
   "id": "10",
   "metadata": {
    "papermill": {
     "duration": 0.044136,
     "end_time": "2024-06-17T18:16:34.608686",
     "exception": false,
     "start_time": "2024-06-17T18:16:34.564550",
     "status": "completed"
    },
    "tags": []
   },
   "outputs": [],
   "source": [
    "def good_model(x=3.0, y=4.0) -> sax.SDict:\n",
    "    return {(\"in0\", \"out0\"): jnp.array(3.0)}"
   ]
  },
  {
   "cell_type": "code",
   "execution_count": null,
   "id": "11",
   "metadata": {
    "papermill": {
     "duration": 0.017106,
     "end_time": "2024-06-17T18:16:34.632730",
     "exception": false,
     "start_time": "2024-06-17T18:16:34.615624",
     "status": "completed"
    },
    "tags": []
   },
   "outputs": [],
   "source": [
    "assert sax.try_into[sax.Model](good_model)"
   ]
  },
  {
   "cell_type": "code",
   "execution_count": null,
   "id": "12",
   "metadata": {
    "papermill": {
     "duration": 0.021208,
     "end_time": "2024-06-17T18:16:34.661402",
     "exception": false,
     "start_time": "2024-06-17T18:16:34.640194",
     "status": "completed"
    },
    "tags": []
   },
   "outputs": [],
   "source": [
    "def bad_model(positional_argument, x=3.0, y=4.0) -> sax.SDict:\n",
    "    return {(\"in0\", \"out0\"): jnp.array(3.0)}"
   ]
  },
  {
   "cell_type": "code",
   "execution_count": null,
   "id": "13",
   "metadata": {
    "papermill": {
     "duration": 0.017073,
     "end_time": "2024-06-17T18:16:34.685614",
     "exception": false,
     "start_time": "2024-06-17T18:16:34.668541",
     "status": "completed"
    },
    "tags": []
   },
   "outputs": [],
   "source": [
    "assert not sax.try_into[sax.Model](bad_model)"
   ]
  },
  {
   "cell_type": "markdown",
   "id": "14",
   "metadata": {
    "papermill": {
     "duration": 0.007052,
     "end_time": "2024-06-17T18:16:34.700013",
     "exception": false,
     "start_time": "2024-06-17T18:16:34.692961",
     "status": "completed"
    },
    "tags": []
   },
   "source": [
    "> Note: For a `Callable` to be considered a `ModelFactory` in SAX, it **MUST** have a `Callable` or `Model` return annotation. Otherwise SAX will view it as a `Model` and things might break!"
   ]
  },
  {
   "cell_type": "code",
   "execution_count": null,
   "id": "15",
   "metadata": {
    "papermill": {
     "duration": 0.016643,
     "end_time": "2024-06-17T18:16:34.723789",
     "exception": false,
     "start_time": "2024-06-17T18:16:34.707146",
     "status": "completed"
    },
    "tags": []
   },
   "outputs": [],
   "source": [
    "def func() -> sax.Model: ...\n",
    "\n",
    "\n",
    "# yes, we only check the annotation for now...\n",
    "assert sax.try_into[sax.ModelFactory](func)"
   ]
  },
  {
   "cell_type": "code",
   "execution_count": null,
   "id": "16",
   "metadata": {
    "papermill": {
     "duration": 0.016643,
     "end_time": "2024-06-17T18:16:34.723789",
     "exception": false,
     "start_time": "2024-06-17T18:16:34.707146",
     "status": "completed"
    },
    "tags": []
   },
   "outputs": [],
   "source": [
    "def func() -> None: ...\n",
    "\n",
    "\n",
    "# yes, we only check the annotation for now...\n",
    "assert not sax.try_into[sax.ModelFactory](func)"
   ]
  },
  {
   "cell_type": "markdown",
   "id": "17",
   "metadata": {
    "papermill": {
     "duration": 0.006722,
     "end_time": "2024-06-17T18:16:34.788021",
     "exception": false,
     "start_time": "2024-06-17T18:16:34.781299",
     "status": "completed"
    },
    "tags": []
   },
   "source": [
    "## SAX return type helpers\n",
    "\n",
    "> a.k.a SDict, SDense, SCoo helpers"
   ]
  },
  {
   "cell_type": "markdown",
   "id": "18",
   "metadata": {
    "papermill": {
     "duration": 0.006983,
     "end_time": "2024-06-17T18:16:34.801834",
     "exception": false,
     "start_time": "2024-06-17T18:16:34.794851",
     "status": "completed"
    },
    "tags": []
   },
   "source": [
    "Convert an `SDict`, `SCoo` or `SDense` into an `SDict` (or convert a model generating any of these types into a model generating an `SDict`):"
   ]
  },
  {
   "cell_type": "code",
   "execution_count": null,
   "id": "19",
   "metadata": {},
   "outputs": [],
   "source": [
    "_sdict"
   ]
  },
  {
   "cell_type": "code",
   "execution_count": null,
   "id": "20",
   "metadata": {
    "papermill": {
     "duration": 0.18431,
     "end_time": "2024-06-17T18:16:34.993455",
     "exception": false,
     "start_time": "2024-06-17T18:16:34.809145",
     "status": "completed"
    },
    "tags": []
   },
   "outputs": [],
   "source": [
    "_sdict = {k: jnp.asarray(v, dtype=jnp.complex128) for k, v in _sdict.items()}\n",
    "assert sax.sdict(_sdict) == _sdict\n",
    "assert sax.sdict(_scoo) == {\n",
    "    (\"in0\", \"in0\"): 3.0,\n",
    "    (\"in1\", \"in0\"): 1.0,\n",
    "    (\"out0\", \"out0\"): 4.0,\n",
    "}\n",
    "assert sax.sdict(_sdense) == {\n",
    "    (\"in0\", \"in0\"): 0.0,\n",
    "    (\"in0\", \"out0\"): 1.0,\n",
    "    (\"in0\", \"in1\"): 2.0,\n",
    "    (\"out0\", \"in0\"): 3.0,\n",
    "    (\"out0\", \"out0\"): 4.0,\n",
    "    (\"out0\", \"in1\"): 5.0,\n",
    "    (\"in1\", \"in0\"): 6.0,\n",
    "    (\"in1\", \"out0\"): 7.0,\n",
    "    (\"in1\", \"in1\"): 8.0,\n",
    "}"
   ]
  },
  {
   "cell_type": "markdown",
   "id": "21",
   "metadata": {
    "papermill": {
     "duration": 0.019058,
     "end_time": "2024-06-17T18:16:35.023791",
     "exception": false,
     "start_time": "2024-06-17T18:16:35.004733",
     "status": "completed"
    },
    "tags": []
   },
   "source": [
    "Convert an `SDict`, `SCoo` or `SDense` into an `SCoo` (or convert a model generating any of these types into a model generating an `SCoo`):"
   ]
  },
  {
   "cell_type": "code",
   "execution_count": null,
   "id": "22",
   "metadata": {
    "papermill": {
     "duration": 0.304309,
     "end_time": "2024-06-17T18:16:35.347486",
     "exception": false,
     "start_time": "2024-06-17T18:16:35.043177",
     "status": "completed"
    },
    "tags": []
   },
   "outputs": [],
   "source": [
    "sax.scoo(_sdense)"
   ]
  },
  {
   "cell_type": "code",
   "execution_count": null,
   "id": "23",
   "metadata": {
    "papermill": {
     "duration": 0.167428,
     "end_time": "2024-06-17T18:16:35.523416",
     "exception": false,
     "start_time": "2024-06-17T18:16:35.355988",
     "status": "completed"
    },
    "tags": []
   },
   "outputs": [],
   "source": [
    "assert sax.scoo(_sdict) == (0, 1, 3.0, {\"in0\": 0, \"out0\": 1})\n",
    "Si, Sj, Sx, port_map = sax.scoo(_sdense)\n",
    "np.testing.assert_array_equal(Si, jnp.array([0, 0, 0, 1, 1, 1, 2, 2, 2]))\n",
    "np.testing.assert_array_equal(Sj, jnp.array([0, 1, 2, 0, 1, 2, 0, 1, 2]))\n",
    "np.testing.assert_array_almost_equal(\n",
    "    Sx, jnp.array([0.0, 2.0, 1.0, 6.0, 8.0, 7.0, 3.0, 5.0, 4.0])\n",
    ")\n",
    "assert port_map == {\"in0\": 0, \"in1\": 1, \"out0\": 2}"
   ]
  },
  {
   "cell_type": "markdown",
   "id": "24",
   "metadata": {
    "papermill": {
     "duration": 0.007484,
     "end_time": "2024-06-17T18:16:35.542000",
     "exception": false,
     "start_time": "2024-06-17T18:16:35.534516",
     "status": "completed"
    },
    "tags": []
   },
   "source": [
    "Convert an `SDict`, `SCoo` or `SDense` into an `SDense` (or convert a model generating any of these types into a model generating an `SDense`):"
   ]
  },
  {
   "cell_type": "code",
   "execution_count": null,
   "id": "25",
   "metadata": {
    "papermill": {
     "duration": 0.186268,
     "end_time": "2024-06-17T18:16:35.735787",
     "exception": false,
     "start_time": "2024-06-17T18:16:35.549519",
     "status": "completed"
    },
    "tags": []
   },
   "outputs": [],
   "source": [
    "Sd, port_map = sax.sdense(_scoo)\n",
    "Sd_ = jnp.array(\n",
    "    [\n",
    "        [3.0 + 0.0j, 0.0 + 0.0j, 0.0 + 0.0j],\n",
    "        [0.0 + 0.0j, 4.0 + 0.0j, 0.0 + 0.0j],\n",
    "        [1.0 + 0.0j, 0.0 + 0.0j, 0.0 + 0.0j],\n",
    "    ]\n",
    ")\n",
    "\n",
    "np.testing.assert_array_almost_equal(Sd, Sd_)\n",
    "assert port_map == {\"in0\": 0, \"in1\": 2, \"out0\": 1}"
   ]
  }
 ],
 "metadata": {
  "kernelspec": {
   "display_name": "sax",
   "language": "python",
   "name": "sax"
  },
  "language_info": {
   "codemirror_mode": {
    "name": "ipython",
    "version": 3
   },
   "file_extension": ".py",
   "mimetype": "text/x-python",
   "name": "python",
   "nbconvert_exporter": "python",
   "pygments_lexer": "ipython3",
   "version": "3.12.10"
  }
 },
 "nbformat": 4,
 "nbformat_minor": 5
}
