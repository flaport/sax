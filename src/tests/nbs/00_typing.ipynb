{
 "cells": [
  {
   "cell_type": "markdown",
   "id": "0",
   "metadata": {},
   "source": [
    "# Typing\n",
    "\n",
    "> SAX types"
   ]
  },
  {
   "cell_type": "code",
   "execution_count": null,
   "id": "1",
   "metadata": {},
   "outputs": [],
   "source": [
    "import jax.numpy as jnp\n",
    "import numpy as np\n",
    "\n",
    "import sax"
   ]
  },
  {
   "cell_type": "code",
   "execution_count": null,
   "id": "2",
   "metadata": {},
   "outputs": [],
   "source": [
    "assert sax.try_into[float](3.0)\n",
    "assert sax.try_into[float](3)\n",
    "assert not sax.try_into[float](3.0 + 2j)\n",
    "assert not sax.try_into[float](jnp.array(3.0, dtype=complex))\n",
    "assert sax.try_into[float](jnp.array(3, dtype=int))"
   ]
  },
  {
   "cell_type": "code",
   "execution_count": null,
   "id": "3",
   "metadata": {},
   "outputs": [],
   "source": [
    "assert sax.try_into[complex](3.0)\n",
    "assert sax.try_into[complex](3)\n",
    "assert sax.try_into[complex](3.0 + 2j)\n",
    "assert not sax.try_into[complex](jnp.array(3.0, dtype=complex))\n",
    "\n",
    "# discrepency with float case here? (-> pydantic issue)\n",
    "assert not sax.try_into[complex](jnp.array(3, dtype=int))"
   ]
  },
  {
   "cell_type": "code",
   "execution_count": null,
   "id": "4",
   "metadata": {},
   "outputs": [],
   "source": [
    "_sdict: sax.SDict = {\n",
    "    (\"in0\", \"out0\"): 3.0,\n",
    "}"
   ]
  },
  {
   "cell_type": "code",
   "execution_count": null,
   "id": "5",
   "metadata": {},
   "outputs": [],
   "source": [
    "Si = jnp.arange(3, dtype=int)\n",
    "Sj = jnp.array([0, 1, 0], dtype=int)\n",
    "Sx = jnp.array([3.0, 4.0, 1.0])\n",
    "port_map = {\"in0\": 0, \"in1\": 2, \"out0\": 1}\n",
    "_scoo: sax.SCoo = (Si, Sj, Sx, port_map)"
   ]
  },
  {
   "cell_type": "code",
   "execution_count": null,
   "id": "6",
   "metadata": {},
   "outputs": [],
   "source": [
    "Sd = jnp.arange(9, dtype=float).reshape(3, 3)\n",
    "port_map = {\"in0\": 0, \"in1\": 2, \"out0\": 1}\n",
    "_sdense = Sd, port_map"
   ]
  },
  {
   "cell_type": "code",
   "execution_count": null,
   "id": "7",
   "metadata": {},
   "outputs": [],
   "source": [
    "assert not sax.try_into[sax.SDict](object())\n",
    "assert sax.try_into[sax.SDict](_sdict)\n",
    "assert not sax.try_into[sax.SDict](_scoo)\n",
    "assert not sax.try_into[sax.SDict](_sdense)"
   ]
  },
  {
   "cell_type": "code",
   "execution_count": null,
   "id": "8",
   "metadata": {},
   "outputs": [],
   "source": [
    "assert not sax.try_into[sax.SCoo](object)\n",
    "assert not sax.try_into[sax.SCoo](_sdict)\n",
    "assert sax.try_into[sax.SCoo](_scoo)\n",
    "assert not sax.try_into[sax.SCoo](_sdense)"
   ]
  },
  {
   "cell_type": "code",
   "execution_count": null,
   "id": "9",
   "metadata": {},
   "outputs": [],
   "source": [
    "assert not sax.try_into[sax.SDense](object)\n",
    "assert not sax.try_into[sax.SDense](_sdict)\n",
    "assert not sax.try_into[sax.SDense](_scoo)\n",
    "assert sax.try_into[sax.SDense](_sdense)"
   ]
  },
  {
   "cell_type": "code",
   "execution_count": null,
   "id": "10",
   "metadata": {},
   "outputs": [],
   "source": [
    "def good_model(x=3.0, y=4.0) -> sax.SDict:\n",
    "    return {(\"in0\", \"out0\"): jnp.array(3.0)}"
   ]
  },
  {
   "cell_type": "code",
   "execution_count": null,
   "id": "11",
   "metadata": {},
   "outputs": [],
   "source": [
    "assert sax.try_into[sax.Model](good_model)"
   ]
  },
  {
   "cell_type": "code",
   "execution_count": null,
   "id": "12",
   "metadata": {},
   "outputs": [],
   "source": [
    "def bad_model(positional_argument, x=3.0, y=4.0) -> sax.SDict:\n",
    "    return {(\"in0\", \"out0\"): jnp.array(3.0)}"
   ]
  },
  {
   "cell_type": "code",
   "execution_count": null,
   "id": "13",
   "metadata": {},
   "outputs": [],
   "source": [
    "assert not sax.try_into[sax.Model](bad_model)"
   ]
  },
  {
   "cell_type": "markdown",
   "id": "14",
   "metadata": {},
   "source": [
    "> Note: For a `Callable` to be considered a `ModelFactory` in SAX, it **MUST** have a `Callable` or `Model` return annotation. Otherwise SAX will view it as a `Model` and things might break!"
   ]
  },
  {
   "cell_type": "code",
   "execution_count": null,
   "id": "15",
   "metadata": {},
   "outputs": [],
   "source": [
    "def func() -> sax.Model: ...\n",
    "\n",
    "\n",
    "# yes, we only check the annotation for now...\n",
    "assert sax.try_into[sax.ModelFactory](func)"
   ]
  },
  {
   "cell_type": "code",
   "execution_count": null,
   "id": "16",
   "metadata": {},
   "outputs": [],
   "source": [
    "def func() -> None: ...\n",
    "\n",
    "\n",
    "# yes, we only check the annotation for now...\n",
    "assert not sax.try_into[sax.ModelFactory](func)"
   ]
  },
  {
   "cell_type": "markdown",
   "id": "17",
   "metadata": {},
   "source": [
    "## SAX return type helpers\n",
    "\n",
    "> a.k.a SDict, SDense, SCoo helpers"
   ]
  },
  {
   "cell_type": "markdown",
   "id": "18",
   "metadata": {},
   "source": [
    "Convert an `SDict`, `SCoo` or `SDense` into an `SDict` (or convert a model generating any of these types into a model generating an `SDict`):"
   ]
  },
  {
   "cell_type": "code",
   "execution_count": null,
   "id": "19",
   "metadata": {},
   "outputs": [],
   "source": [
    "_sdict"
   ]
  },
  {
   "cell_type": "code",
   "execution_count": null,
   "id": "20",
   "metadata": {},
   "outputs": [],
   "source": [
    "_sdict = {k: jnp.asarray(v, dtype=jnp.complex128) for k, v in _sdict.items()}\n",
    "assert sax.sdict(_sdict) == _sdict\n",
    "assert sax.sdict(_scoo) == {\n",
    "    (\"in0\", \"in0\"): 3.0,\n",
    "    (\"in1\", \"in0\"): 1.0,\n",
    "    (\"out0\", \"out0\"): 4.0,\n",
    "}\n",
    "assert sax.sdict(_sdense) == {\n",
    "    (\"in0\", \"in0\"): 0.0,\n",
    "    (\"in0\", \"out0\"): 1.0,\n",
    "    (\"in0\", \"in1\"): 2.0,\n",
    "    (\"out0\", \"in0\"): 3.0,\n",
    "    (\"out0\", \"out0\"): 4.0,\n",
    "    (\"out0\", \"in1\"): 5.0,\n",
    "    (\"in1\", \"in0\"): 6.0,\n",
    "    (\"in1\", \"out0\"): 7.0,\n",
    "    (\"in1\", \"in1\"): 8.0,\n",
    "}"
   ]
  },
  {
   "cell_type": "markdown",
   "id": "21",
   "metadata": {},
   "source": [
    "Convert an `SDict`, `SCoo` or `SDense` into an `SCoo` (or convert a model generating any of these types into a model generating an `SCoo`):"
   ]
  },
  {
   "cell_type": "code",
   "execution_count": null,
   "id": "22",
   "metadata": {},
   "outputs": [],
   "source": [
    "sax.scoo(_sdense)"
   ]
  },
  {
   "cell_type": "code",
   "execution_count": null,
   "id": "23",
   "metadata": {},
   "outputs": [],
   "source": [
    "assert sax.scoo(_sdict) == (0, 1, 3.0, {\"in0\": 0, \"out0\": 1})\n",
    "Si, Sj, Sx, port_map = sax.scoo(_sdense)\n",
    "np.testing.assert_array_equal(Si, jnp.array([0, 0, 0, 1, 1, 1, 2, 2, 2]))\n",
    "np.testing.assert_array_equal(Sj, jnp.array([0, 1, 2, 0, 1, 2, 0, 1, 2]))\n",
    "np.testing.assert_array_almost_equal(\n",
    "    Sx, jnp.array([0.0, 2.0, 1.0, 6.0, 8.0, 7.0, 3.0, 5.0, 4.0])\n",
    ")\n",
    "assert port_map == {\"in0\": 0, \"in1\": 1, \"out0\": 2}"
   ]
  },
  {
   "cell_type": "markdown",
   "id": "24",
   "metadata": {},
   "source": [
    "Convert an `SDict`, `SCoo` or `SDense` into an `SDense` (or convert a model generating any of these types into a model generating an `SDense`):"
   ]
  },
  {
   "cell_type": "code",
   "execution_count": null,
   "id": "25",
   "metadata": {},
   "outputs": [],
   "source": [
    "Sd, port_map = sax.sdense(_scoo)\n",
    "Sd_ = jnp.array(\n",
    "    [\n",
    "        [3.0 + 0.0j, 0.0 + 0.0j, 0.0 + 0.0j],\n",
    "        [0.0 + 0.0j, 4.0 + 0.0j, 0.0 + 0.0j],\n",
    "        [1.0 + 0.0j, 0.0 + 0.0j, 0.0 + 0.0j],\n",
    "    ]\n",
    ")\n",
    "\n",
    "np.testing.assert_array_almost_equal(Sd, Sd_)\n",
    "assert port_map == {\"in0\": 0, \"in1\": 2, \"out0\": 1}"
   ]
  }
 ],
 "metadata": {
  "kernelspec": {
   "display_name": "sax",
   "language": "python",
   "name": "sax"
  },
  "language_info": {
   "codemirror_mode": {
    "name": "ipython",
    "version": 3
   },
   "file_extension": ".py",
   "mimetype": "text/x-python",
   "name": "python",
   "nbconvert_exporter": "python",
   "pygments_lexer": "ipython3"
  }
 },
 "nbformat": 4,
 "nbformat_minor": 5
}
