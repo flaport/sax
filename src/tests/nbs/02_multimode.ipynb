{
 "cells": [
  {
   "cell_type": "markdown",
   "id": "0",
   "metadata": {},
   "source": [
    "# Multimode\n",
    "\n",
    "> SAX Multimode utils"
   ]
  },
  {
   "cell_type": "code",
   "execution_count": null,
   "id": "1",
   "metadata": {},
   "outputs": [],
   "source": [
    "import jax.numpy as jnp\n",
    "\n",
    "import sax"
   ]
  },
  {
   "cell_type": "code",
   "execution_count": null,
   "id": "2",
   "metadata": {},
   "outputs": [],
   "source": [
    "sdict_s = {(\"in0\", \"out0\"): 1.0}\n",
    "sdict_m = sax.multimode(sdict_s)\n",
    "assert sdict_m == {(\"in0@TE\", \"out0@TE\"): 1.0, (\"in0@TM\", \"out0@TM\"): 1.0}"
   ]
  },
  {
   "cell_type": "code",
   "execution_count": null,
   "id": "3",
   "metadata": {},
   "outputs": [],
   "source": [
    "scoo_s = sax.scoo(sdict_s)\n",
    "scoo_m = sax.multimode(scoo_s)"
   ]
  },
  {
   "cell_type": "code",
   "execution_count": null,
   "id": "4",
   "metadata": {},
   "outputs": [],
   "source": [
    "assert (scoo_m[0] == jnp.array([0, 2], dtype=int)).all()\n",
    "assert (scoo_m[1] == jnp.array([1, 3], dtype=int)).all()\n",
    "assert (scoo_m[2] == jnp.array([1.0, 1.0], dtype=float)).all()\n",
    "assert scoo_m[3] == {\"in0@TE\": 0, \"out0@TE\": 1, \"in0@TM\": 2, \"out0@TM\": 3}"
   ]
  },
  {
   "cell_type": "code",
   "execution_count": null,
   "id": "5",
   "metadata": {},
   "outputs": [],
   "source": [
    "sdense_s = sax.sdense(sdict_s)\n",
    "sdense_m = sax.multimode(sdense_s)\n",
    "assert (\n",
    "    sdense_m[0]\n",
    "    == jnp.array(\n",
    "        [\n",
    "            [0.0 + 0.0j, 1.0 + 0.0j, 0.0 + 0.0j, 0.0 + 0.0j],\n",
    "            [0.0 + 0.0j, 0.0 + 0.0j, 0.0 + 0.0j, 0.0 + 0.0j],\n",
    "            [0.0 + 0.0j, 0.0 + 0.0j, 0.0 + 0.0j, 1.0 + 0.0j],\n",
    "            [0.0 + 0.0j, 0.0 + 0.0j, 0.0 + 0.0j, 0.0 + 0.0j],\n",
    "        ]\n",
    "    )\n",
    ").all()\n",
    "assert sdense_m[1] == {\"in0@TE\": 0, \"out0@TE\": 1, \"in0@TM\": 2, \"out0@TM\": 3}"
   ]
  },
  {
   "cell_type": "code",
   "execution_count": null,
   "id": "6",
   "metadata": {},
   "outputs": [],
   "source": [
    "sdict_s = sax.singlemode(sdict_m)\n",
    "assert sdict_s == {(\"in0\", \"out0\"): 1.0}"
   ]
  },
  {
   "cell_type": "code",
   "execution_count": null,
   "id": "7",
   "metadata": {},
   "outputs": [],
   "source": [
    "scoo_s = sax.singlemode(scoo_s)\n",
    "assert (scoo_s[0] == jnp.array([0], dtype=int)).all()\n",
    "assert (scoo_s[1] == jnp.array([1], dtype=int)).all()\n",
    "assert (scoo_s[2] == jnp.array([1.0], dtype=float)).all()\n",
    "assert scoo_s[3] == {\"in0\": 0, \"out0\": 1}"
   ]
  },
  {
   "cell_type": "code",
   "execution_count": null,
   "id": "8",
   "metadata": {},
   "outputs": [],
   "source": [
    "sdense_s = sax.singlemode(sdense_m)\n",
    "assert (\n",
    "    sdense_s[0] == jnp.array([[0.0 + 0.0j, 1.0 + 0.0j], [0.0 + 0.0j, 0.0 + 0.0j]])\n",
    ").all()\n",
    "assert sdense_s[1] == {\"in0\": 0, \"out0\": 1}"
   ]
  }
 ],
 "metadata": {
  "kernelspec": {
   "display_name": "sax",
   "language": "python",
   "name": "sax"
  },
  "language_info": {
   "codemirror_mode": {
    "name": "ipython",
    "version": 3
   },
   "file_extension": ".py",
   "mimetype": "text/x-python",
   "name": "python",
   "nbconvert_exporter": "python",
   "pygments_lexer": "ipython3"
  }
 },
 "nbformat": 4,
 "nbformat_minor": 5
}
