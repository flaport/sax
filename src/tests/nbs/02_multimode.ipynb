{
 "cells": [
  {
   "cell_type": "markdown",
   "id": "0",
   "metadata": {
    "papermill": {
     "duration": 0.003465,
     "end_time": "2024-06-17T18:16:39.110810",
     "exception": false,
     "start_time": "2024-06-17T18:16:39.107345",
     "status": "completed"
    },
    "tags": []
   },
   "source": [
    "# Multimode\n",
    "\n",
    "> SAX Multimode utils"
   ]
  },
  {
   "cell_type": "code",
   "execution_count": null,
   "id": "1",
   "metadata": {
    "papermill": {
     "duration": 1.338014,
     "end_time": "2024-06-17T18:16:40.451751",
     "exception": false,
     "start_time": "2024-06-17T18:16:39.113737",
     "status": "completed"
    },
    "tags": []
   },
   "outputs": [],
   "source": [
    "import jax.numpy as jnp\n",
    "\n",
    "import sax"
   ]
  },
  {
   "cell_type": "code",
   "execution_count": null,
   "id": "2",
   "metadata": {
    "papermill": {
     "duration": 0.011573,
     "end_time": "2024-06-17T18:16:40.466391",
     "exception": false,
     "start_time": "2024-06-17T18:16:40.454818",
     "status": "completed"
    },
    "tags": []
   },
   "outputs": [],
   "source": [
    "sdict_s = {(\"in0\", \"out0\"): 1.0}\n",
    "sdict_m = sax.multimode(sdict_s)\n",
    "assert sdict_m == {(\"in0@TE\", \"out0@TE\"): 1.0, (\"in0@TM\", \"out0@TM\"): 1.0}"
   ]
  },
  {
   "cell_type": "code",
   "execution_count": null,
   "id": "3",
   "metadata": {
    "papermill": {
     "duration": 0.170201,
     "end_time": "2024-06-17T18:16:40.639649",
     "exception": false,
     "start_time": "2024-06-17T18:16:40.469448",
     "status": "completed"
    },
    "tags": []
   },
   "outputs": [],
   "source": [
    "scoo_s = sax.scoo(sdict_s)\n",
    "scoo_m = sax.multimode(scoo_s)"
   ]
  },
  {
   "cell_type": "code",
   "execution_count": null,
   "id": "4",
   "metadata": {
    "papermill": {
     "duration": 0.113481,
     "end_time": "2024-06-17T18:16:40.756275",
     "exception": false,
     "start_time": "2024-06-17T18:16:40.642794",
     "status": "completed"
    },
    "tags": []
   },
   "outputs": [],
   "source": [
    "assert (scoo_m[0] == jnp.array([0, 2], dtype=int)).all()\n",
    "assert (scoo_m[1] == jnp.array([1, 3], dtype=int)).all()\n",
    "assert (scoo_m[2] == jnp.array([1.0, 1.0], dtype=float)).all()\n",
    "assert scoo_m[3] == {\"in0@TE\": 0, \"out0@TE\": 1, \"in0@TM\": 2, \"out0@TM\": 3}"
   ]
  },
  {
   "cell_type": "code",
   "execution_count": null,
   "id": "5",
   "metadata": {
    "papermill": {
     "duration": 0.401711,
     "end_time": "2024-06-17T18:16:41.161069",
     "exception": false,
     "start_time": "2024-06-17T18:16:40.759358",
     "status": "completed"
    },
    "tags": []
   },
   "outputs": [],
   "source": [
    "sdense_s = sax.sdense(sdict_s)\n",
    "sdense_m = sax.multimode(sdense_s)\n",
    "assert (\n",
    "    sdense_m[0]\n",
    "    == jnp.array(\n",
    "        [\n",
    "            [0.0 + 0.0j, 1.0 + 0.0j, 0.0 + 0.0j, 0.0 + 0.0j],\n",
    "            [0.0 + 0.0j, 0.0 + 0.0j, 0.0 + 0.0j, 0.0 + 0.0j],\n",
    "            [0.0 + 0.0j, 0.0 + 0.0j, 0.0 + 0.0j, 1.0 + 0.0j],\n",
    "            [0.0 + 0.0j, 0.0 + 0.0j, 0.0 + 0.0j, 0.0 + 0.0j],\n",
    "        ]\n",
    "    )\n",
    ").all()\n",
    "assert sdense_m[1] == {\"in0@TE\": 0, \"out0@TE\": 1, \"in0@TM\": 2, \"out0@TM\": 3}"
   ]
  },
  {
   "cell_type": "code",
   "execution_count": null,
   "id": "6",
   "metadata": {
    "papermill": {
     "duration": 0.010869,
     "end_time": "2024-06-17T18:16:41.174808",
     "exception": false,
     "start_time": "2024-06-17T18:16:41.163939",
     "status": "completed"
    },
    "tags": []
   },
   "outputs": [],
   "source": [
    "sdict_s = sax.singlemode(sdict_m)\n",
    "assert sdict_s == {(\"in0\", \"out0\"): 1.0}"
   ]
  },
  {
   "cell_type": "code",
   "execution_count": null,
   "id": "7",
   "metadata": {
    "papermill": {
     "duration": 0.083522,
     "end_time": "2024-06-17T18:16:41.261304",
     "exception": false,
     "start_time": "2024-06-17T18:16:41.177782",
     "status": "completed"
    },
    "tags": []
   },
   "outputs": [],
   "source": [
    "scoo_s = sax.singlemode(scoo_s)\n",
    "assert (scoo_s[0] == jnp.array([0], dtype=int)).all()\n",
    "assert (scoo_s[1] == jnp.array([1], dtype=int)).all()\n",
    "assert (scoo_s[2] == jnp.array([1.0], dtype=float)).all()\n",
    "assert scoo_s[3] == {\"in0\": 0, \"out0\": 1}"
   ]
  },
  {
   "cell_type": "code",
   "execution_count": null,
   "id": "8",
   "metadata": {
    "papermill": {
     "duration": 0.36092,
     "end_time": "2024-06-17T18:16:41.625666",
     "exception": false,
     "start_time": "2024-06-17T18:16:41.264746",
     "status": "completed"
    },
    "tags": []
   },
   "outputs": [],
   "source": [
    "sdense_s = sax.singlemode(sdense_m)\n",
    "assert (\n",
    "    sdense_s[0] == jnp.array([[0.0 + 0.0j, 1.0 + 0.0j], [0.0 + 0.0j, 0.0 + 0.0j]])\n",
    ").all()\n",
    "assert sdense_s[1] == {\"in0\": 0, \"out0\": 1}"
   ]
  }
 ],
 "metadata": {
  "kernelspec": {
   "display_name": "sax",
   "language": "python",
   "name": "sax"
  },
  "language_info": {
   "codemirror_mode": {
    "name": "ipython",
    "version": 3
   },
   "file_extension": ".py",
   "mimetype": "text/x-python",
   "name": "python",
   "nbconvert_exporter": "python",
   "pygments_lexer": "ipython3",
   "version": "3.12.10"
  }
 },
 "nbformat": 4,
 "nbformat_minor": 5
}
