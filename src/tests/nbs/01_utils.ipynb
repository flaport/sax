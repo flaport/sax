{
 "cells": [
  {
   "cell_type": "markdown",
   "id": "0",
   "metadata": {
    "papermill": {
     "duration": 0.008395,
     "end_time": "2024-06-17T18:16:36.631454",
     "exception": false,
     "start_time": "2024-06-17T18:16:36.623059",
     "status": "completed"
    },
    "tags": []
   },
   "source": [
    "# Utils\n",
    "\n",
    "> General SAX utilities"
   ]
  },
  {
   "cell_type": "code",
   "execution_count": null,
   "id": "1",
   "metadata": {
    "papermill": {
     "duration": 2.286661,
     "end_time": "2024-06-17T18:16:38.930508",
     "exception": false,
     "start_time": "2024-06-17T18:16:36.643847",
     "status": "completed"
    },
    "tags": []
   },
   "outputs": [],
   "source": [
    "import jax.numpy as jnp\n",
    "import pytest\n",
    "\n",
    "import sax"
   ]
  },
  {
   "cell_type": "code",
   "execution_count": null,
   "id": "2",
   "metadata": {
    "papermill": {
     "duration": 0.272276,
     "end_time": "2024-06-17T18:16:39.209213",
     "exception": false,
     "start_time": "2024-06-17T18:16:38.936937",
     "status": "completed"
    },
    "tags": []
   },
   "outputs": [],
   "source": [
    "arr1 = 1 * jnp.ones((1, 2, 2))\n",
    "arr2 = 2 * jnp.ones((1, 3, 3))\n",
    "\n",
    "assert (\n",
    "    sax.block_diag(arr1, arr2)\n",
    "    == jnp.array(\n",
    "        [\n",
    "            [\n",
    "                [1.0, 1.0, 0.0, 0.0, 0.0],\n",
    "                [1.0, 1.0, 0.0, 0.0, 0.0],\n",
    "                [0.0, 0.0, 2.0, 2.0, 2.0],\n",
    "                [0.0, 0.0, 2.0, 2.0, 2.0],\n",
    "                [0.0, 0.0, 2.0, 2.0, 2.0],\n",
    "            ]\n",
    "        ]\n",
    "    )\n",
    ").all()"
   ]
  },
  {
   "cell_type": "code",
   "execution_count": null,
   "id": "3",
   "metadata": {
    "papermill": {
     "duration": 0.023276,
     "end_time": "2024-06-17T18:16:39.258745",
     "exception": false,
     "start_time": "2024-06-17T18:16:39.235469",
     "status": "completed"
    },
    "tags": []
   },
   "outputs": [],
   "source": [
    "assert sax.clean_string(\"Hello, string 1.0\") == \"Hello__string_1p0\""
   ]
  },
  {
   "cell_type": "code",
   "execution_count": null,
   "id": "4",
   "metadata": {
    "papermill": {
     "duration": 0.119103,
     "end_time": "2024-06-17T18:16:39.391401",
     "exception": false,
     "start_time": "2024-06-17T18:16:39.272298",
     "status": "completed"
    },
    "tags": []
   },
   "outputs": [],
   "source": [
    "orig_settings = {\"a\": 3, \"c\": jnp.array([9.0, 10.0, 11.0])}\n",
    "new_settings = sax.copy_settings(orig_settings)\n",
    "\n",
    "assert orig_settings[\"a\"] == new_settings[\"a\"]\n",
    "assert jnp.all(orig_settings[\"c\"] == new_settings[\"c\"])\n",
    "new_settings[\"a\"] = jnp.array(5.0)\n",
    "assert orig_settings[\"a\"] == 3\n",
    "assert new_settings[\"a\"] == 5\n",
    "assert orig_settings[\"c\"] is new_settings[\"c\"]"
   ]
  },
  {
   "cell_type": "code",
   "execution_count": null,
   "id": "5",
   "metadata": {
    "papermill": {
     "duration": 0.064392,
     "end_time": "2024-06-17T18:16:39.462570",
     "exception": false,
     "start_time": "2024-06-17T18:16:39.398178",
     "status": "completed"
    },
    "tags": []
   },
   "outputs": [],
   "source": [
    "nested_dict = {\n",
    "    \"a\": 3.0,\n",
    "    \"b\": {\"c\": 4.0},\n",
    "}\n",
    "\n",
    "flat_dict = sax.flatten_dict(nested_dict, sep=\",\")\n",
    "assert flat_dict == {\"a\": 3.0, \"b,c\": 4.0}"
   ]
  },
  {
   "cell_type": "code",
   "execution_count": null,
   "id": "6",
   "metadata": {
    "papermill": {
     "duration": 0.014845,
     "end_time": "2024-06-17T18:16:39.484053",
     "exception": false,
     "start_time": "2024-06-17T18:16:39.469208",
     "status": "completed"
    },
    "tags": []
   },
   "outputs": [],
   "source": [
    "assert sax.unflatten_dict(flat_dict, sep=\",\") == nested_dict"
   ]
  },
  {
   "cell_type": "code",
   "execution_count": null,
   "id": "7",
   "metadata": {
    "papermill": {
     "duration": 0.075502,
     "end_time": "2024-06-17T18:16:39.566401",
     "exception": false,
     "start_time": "2024-06-17T18:16:39.490899",
     "status": "completed"
    },
    "tags": []
   },
   "outputs": [],
   "source": [
    "sax.scoo({(\"in0\", \"out0\"): 1.0})"
   ]
  },
  {
   "cell_type": "code",
   "execution_count": null,
   "id": "8",
   "metadata": {
    "papermill": {
     "duration": 0.016731,
     "end_time": "2024-06-17T18:16:39.589872",
     "exception": false,
     "start_time": "2024-06-17T18:16:39.573141",
     "status": "completed"
    },
    "tags": []
   },
   "outputs": [],
   "source": [
    "def coupler(coupling=0.5):\n",
    "    return {\n",
    "        (\"in0\", \"out0\"): coupling**0.5,\n",
    "        (\"in0\", \"out1\"): 1j * coupling**0.5,\n",
    "        (\"in1\", \"out0\"): 1j * coupling**0.5,\n",
    "        (\"in1\", \"out1\"): coupling**0.5,\n",
    "    }"
   ]
  },
  {
   "cell_type": "code",
   "execution_count": null,
   "id": "9",
   "metadata": {
    "papermill": {
     "duration": 0.384757,
     "end_time": "2024-06-17T18:16:39.982049",
     "exception": false,
     "start_time": "2024-06-17T18:16:39.597292",
     "status": "completed"
    },
    "tags": []
   },
   "outputs": [],
   "source": [
    "model = coupler\n",
    "assert sax.get_ports(model) == (\"in0\", \"in1\", \"out0\", \"out1\")\n",
    "\n",
    "sdict_ = coupler()\n",
    "assert sax.get_ports(sdict_) == (\"in0\", \"in1\", \"out0\", \"out1\")\n",
    "\n",
    "scoo_ = sax.scoo(sdict_)\n",
    "assert sax.get_ports(scoo_) == (\"in0\", \"in1\", \"out0\", \"out1\")\n",
    "\n",
    "sdense_ = sax.sdense(sdict_)\n",
    "assert sax.get_ports(sdense_) == (\"in0\", \"in1\", \"out0\", \"out1\")"
   ]
  },
  {
   "cell_type": "code",
   "execution_count": null,
   "id": "10",
   "metadata": {
    "papermill": {
     "duration": 0.040385,
     "end_time": "2024-06-17T18:16:40.027566",
     "exception": false,
     "start_time": "2024-06-17T18:16:39.987181",
     "status": "completed"
    },
    "tags": []
   },
   "outputs": [],
   "source": [
    "model = coupler\n",
    "assert sax.get_port_combinations(model) == (\n",
    "    (\"in0\", \"out0\"),\n",
    "    (\"in0\", \"out1\"),\n",
    "    (\"in1\", \"out0\"),\n",
    "    (\"in1\", \"out1\"),\n",
    ")\n",
    "\n",
    "sdict_ = coupler()\n",
    "assert sax.get_port_combinations(sdict_) == (\n",
    "    (\"in0\", \"out0\"),\n",
    "    (\"in0\", \"out1\"),\n",
    "    (\"in1\", \"out0\"),\n",
    "    (\"in1\", \"out1\"),\n",
    ")\n",
    "\n",
    "scoo_ = sax.scoo(sdict_)\n",
    "assert sax.get_port_combinations(scoo_) == (\n",
    "    (\"in0\", \"out0\"),\n",
    "    (\"in0\", \"out1\"),\n",
    "    (\"in1\", \"out0\"),\n",
    "    (\"in1\", \"out1\"),\n",
    ")\n",
    "\n",
    "sdense_ = sax.sdense(sdict_)\n",
    "assert sax.get_port_combinations(sdense_) == (\n",
    "    (\"in0\", \"in0\"),\n",
    "    (\"in0\", \"in1\"),\n",
    "    (\"in0\", \"out0\"),\n",
    "    (\"in0\", \"out1\"),\n",
    "    (\"in1\", \"in0\"),\n",
    "    (\"in1\", \"in1\"),\n",
    "    (\"in1\", \"out0\"),\n",
    "    (\"in1\", \"out1\"),\n",
    "    (\"out0\", \"in0\"),\n",
    "    (\"out0\", \"in1\"),\n",
    "    (\"out0\", \"out0\"),\n",
    "    (\"out0\", \"out1\"),\n",
    "    (\"out1\", \"in0\"),\n",
    "    (\"out1\", \"in1\"),\n",
    "    (\"out1\", \"out0\"),\n",
    "    (\"out1\", \"out1\"),\n",
    ")"
   ]
  },
  {
   "cell_type": "code",
   "execution_count": null,
   "id": "11",
   "metadata": {
    "papermill": {
     "duration": 0.016464,
     "end_time": "2024-06-17T18:16:40.049425",
     "exception": false,
     "start_time": "2024-06-17T18:16:40.032961",
     "status": "completed"
    },
    "tags": []
   },
   "outputs": [],
   "source": [
    "assert sax.get_settings(coupler) == {\"coupling\": 0.5}"
   ]
  },
  {
   "cell_type": "code",
   "execution_count": null,
   "id": "12",
   "metadata": {
    "papermill": {
     "duration": 0.734793,
     "end_time": "2024-06-17T18:16:40.791394",
     "exception": false,
     "start_time": "2024-06-17T18:16:40.056601",
     "status": "completed"
    },
    "tags": []
   },
   "outputs": [],
   "source": [
    "# hide\n",
    "\n",
    "wls = jnp.array(\n",
    "    [\n",
    "        2.19999,\n",
    "        2.20001,\n",
    "        2.22499,\n",
    "        2.22501,\n",
    "        2.24999,\n",
    "        2.25001,\n",
    "        2.27499,\n",
    "        2.27501,\n",
    "        2.29999,\n",
    "        2.30001,\n",
    "        2.32499,\n",
    "        2.32501,\n",
    "        2.34999,\n",
    "        2.35001,\n",
    "        2.37499,\n",
    "        2.37501,\n",
    "        2.39999,\n",
    "        2.40001,\n",
    "        2.42499,\n",
    "        2.42501,\n",
    "        2.44999,\n",
    "        2.45001,\n",
    "    ]\n",
    ")\n",
    "phis = jnp.array(\n",
    "    [\n",
    "        5.17317336,\n",
    "        5.1219654,\n",
    "        4.71259842,\n",
    "        4.66252492,\n",
    "        5.65699608,\n",
    "        5.60817922,\n",
    "        2.03697377,\n",
    "        1.98936119,\n",
    "        6.010146,\n",
    "        5.96358061,\n",
    "        4.96336733,\n",
    "        4.91777933,\n",
    "        5.13912198,\n",
    "        5.09451137,\n",
    "        0.22347545,\n",
    "        0.17979684,\n",
    "        2.74501894,\n",
    "        2.70224092,\n",
    "        0.10403192,\n",
    "        0.06214664,\n",
    "        4.83328794,\n",
    "        4.79225525,\n",
    "    ]\n",
    ")\n",
    "wl = jnp.array([2.21, 2.27, 1.31, 2.424])\n",
    "phi = jnp.array(sax.grouped_interp(wl, wls, phis))\n",
    "phi_ref = jnp.array([-1.4901831, 1.3595749, -1.110012, 2.1775336])\n",
    "\n",
    "assert ((phi - phi_ref) ** 2 < 1e-5).all()"
   ]
  },
  {
   "cell_type": "code",
   "execution_count": null,
   "id": "13",
   "metadata": {
    "papermill": {
     "duration": 0.014423,
     "end_time": "2024-06-17T18:16:40.811428",
     "exception": false,
     "start_time": "2024-06-17T18:16:40.797005",
     "status": "completed"
    },
    "tags": []
   },
   "outputs": [],
   "source": [
    "d = sax.merge_dicts({\"a\": 3}, {\"b\": 4})\n",
    "assert d[\"a\"] == 3\n",
    "assert d[\"b\"] == 4\n",
    "assert tuple(sorted(d)) == (\"a\", \"b\")\n",
    "\n",
    "d = sax.merge_dicts({\"a\": 3}, {\"a\": 4})\n",
    "assert d[\"a\"] == 4\n",
    "assert tuple(d) == (\"a\",)\n",
    "\n",
    "d = sax.merge_dicts({\"a\": 3}, {\"a\": {\"b\": 5}})\n",
    "assert d[\"a\"][\"b\"] == 5\n",
    "assert tuple(d) == (\"a\",)\n",
    "\n",
    "d = sax.merge_dicts({\"a\": {\"b\": 5}}, {\"a\": 3})\n",
    "assert d[\"a\"] == 3\n",
    "assert tuple(d) == (\"a\",)"
   ]
  },
  {
   "cell_type": "code",
   "execution_count": null,
   "id": "14",
   "metadata": {
    "papermill": {
     "duration": 0.013295,
     "end_time": "2024-06-17T18:16:40.831761",
     "exception": false,
     "start_time": "2024-06-17T18:16:40.818466",
     "status": "completed"
    },
    "tags": []
   },
   "outputs": [],
   "source": [
    "assert sax.mode_combinations(modes=[\"te\", \"tm\"]) == ((\"te\", \"te\"), (\"tm\", \"tm\"))\n",
    "assert sax.mode_combinations(modes=[\"te\", \"tm\"], cross=True) == (\n",
    "    (\"te\", \"te\"),\n",
    "    (\"te\", \"tm\"),\n",
    "    (\"tm\", \"te\"),\n",
    "    (\"tm\", \"tm\"),\n",
    ")"
   ]
  },
  {
   "cell_type": "code",
   "execution_count": null,
   "id": "15",
   "metadata": {
    "papermill": {
     "duration": 0.015585,
     "end_time": "2024-06-17T18:16:40.852335",
     "exception": false,
     "start_time": "2024-06-17T18:16:40.836750",
     "status": "completed"
    },
    "tags": []
   },
   "outputs": [],
   "source": [
    "sdict_ = {(\"in0\", \"out0\"): 1.0}\n",
    "assert sax.reciprocal(sdict_) == {(\"in0\", \"out0\"): 1.0, (\"out0\", \"in0\"): 1.0}"
   ]
  },
  {
   "cell_type": "code",
   "execution_count": null,
   "id": "16",
   "metadata": {
    "papermill": {
     "duration": 0.118054,
     "end_time": "2024-06-17T18:16:40.977860",
     "exception": false,
     "start_time": "2024-06-17T18:16:40.859806",
     "status": "completed"
    },
    "tags": []
   },
   "outputs": [],
   "source": [
    "def model(x=3.0, y=4.0, z=(3.0, 4.0)) -> sax.SDict:\n",
    "    return {(\"in0\", \"out0\"): jnp.array(3.0)}\n",
    "\n",
    "\n",
    "renamings = {\"x\": \"a\", \"y\": \"z\", \"z\": \"y\"}\n",
    "new_model = sax.rename_params(model, renamings)\n",
    "settings = sax.get_settings(new_model)\n",
    "assert settings[\"a\"] == 3.0\n",
    "assert settings[\"z\"] == 4.0\n",
    "assert jnp.all(settings[\"y\"] == jnp.array([3.0, 4.0]))"
   ]
  },
  {
   "cell_type": "code",
   "execution_count": null,
   "id": "17",
   "metadata": {
    "papermill": {
     "duration": 0.15511,
     "end_time": "2024-06-17T18:16:41.140774",
     "exception": false,
     "start_time": "2024-06-17T18:16:40.985664",
     "status": "completed"
    },
    "tags": []
   },
   "outputs": [],
   "source": [
    "d = sax.reciprocal({(\"p0\", \"p1\"): 0.1, (\"p1\", \"p2\"): 0.2})\n",
    "origports = sax.get_ports(d)\n",
    "renamings = {\"p0\": \"in0\", \"p1\": \"out0\", \"p2\": \"in1\"}\n",
    "d_ = sax.rename_ports(d, renamings)\n",
    "assert tuple(sorted(sax.get_ports(d_))) == tuple(\n",
    "    sorted(renamings[p] for p in origports)\n",
    ")\n",
    "d_ = sax.rename_ports(sax.scoo(d), renamings)\n",
    "assert tuple(sorted(sax.get_ports(d_))) == tuple(\n",
    "    sorted(renamings[p] for p in origports)\n",
    ")\n",
    "d_ = sax.rename_ports(sax.sdense(d), renamings)\n",
    "assert tuple(sorted(sax.get_ports(d_))) == tuple(\n",
    "    sorted(renamings[p] for p in origports)\n",
    ")"
   ]
  },
  {
   "cell_type": "markdown",
   "id": "18",
   "metadata": {
    "papermill": {
     "duration": 0.004224,
     "end_time": "2024-06-17T18:16:41.152280",
     "exception": false,
     "start_time": "2024-06-17T18:16:41.148056",
     "status": "completed"
    },
    "tags": []
   },
   "source": [
    "Assuming you have a settings dictionary for a `circuit` containing a directional coupler `\"dc\"` and a waveguide `\"wg\"`:"
   ]
  },
  {
   "cell_type": "code",
   "execution_count": null,
   "id": "19",
   "metadata": {
    "papermill": {
     "duration": 0.013272,
     "end_time": "2024-06-17T18:16:41.169855",
     "exception": false,
     "start_time": "2024-06-17T18:16:41.156583",
     "status": "completed"
    },
    "tags": []
   },
   "outputs": [],
   "source": [
    "settings = {\"wl\": 1.55, \"dc\": {\"coupling\": 0.5}, \"wg\": {\"wl\": 1.56, \"neff\": 2.33}}"
   ]
  },
  {
   "cell_type": "markdown",
   "id": "20",
   "metadata": {
    "papermill": {
     "duration": 0.004265,
     "end_time": "2024-06-17T18:16:41.180225",
     "exception": false,
     "start_time": "2024-06-17T18:16:41.175960",
     "status": "completed"
    },
    "tags": []
   },
   "source": [
    "You can update this settings dictionary with some global settings as follows. When updating settings globally like this, each subdictionary of the settings dictionary will be updated with these values (if the key exists in the subdictionary):"
   ]
  },
  {
   "cell_type": "code",
   "execution_count": null,
   "id": "21",
   "metadata": {
    "papermill": {
     "duration": 0.015447,
     "end_time": "2024-06-17T18:16:41.202555",
     "exception": false,
     "start_time": "2024-06-17T18:16:41.187108",
     "status": "completed"
    },
    "tags": []
   },
   "outputs": [],
   "source": [
    "settings = sax.update_settings(settings, wl=1.3, coupling=0.3, neff=3.0)\n",
    "assert settings == {\"wl\": 1.3, \"dc\": {\"coupling\": 0.3}, \"wg\": {\"wl\": 1.3, \"neff\": 3.0}}"
   ]
  },
  {
   "cell_type": "markdown",
   "id": "22",
   "metadata": {
    "papermill": {
     "duration": 0.006904,
     "end_time": "2024-06-17T18:16:41.216242",
     "exception": false,
     "start_time": "2024-06-17T18:16:41.209338",
     "status": "completed"
    },
    "tags": []
   },
   "source": [
    "Alternatively, you can set certain settings for a specific component (e.g. 'wg' in this case) as follows:"
   ]
  },
  {
   "cell_type": "code",
   "execution_count": null,
   "id": "23",
   "metadata": {
    "papermill": {
     "duration": 0.016709,
     "end_time": "2024-06-17T18:16:41.240096",
     "exception": false,
     "start_time": "2024-06-17T18:16:41.223387",
     "status": "completed"
    },
    "tags": []
   },
   "outputs": [],
   "source": [
    "settings = sax.update_settings(settings, \"wg\", wl=2.0)\n",
    "assert settings == {\"wl\": 1.3, \"dc\": {\"coupling\": 0.3}, \"wg\": {\"wl\": 2.0, \"neff\": 3.0}}"
   ]
  },
  {
   "cell_type": "markdown",
   "id": "24",
   "metadata": {
    "papermill": {
     "duration": 0.005505,
     "end_time": "2024-06-17T18:16:41.252088",
     "exception": false,
     "start_time": "2024-06-17T18:16:41.246583",
     "status": "completed"
    },
    "tags": []
   },
   "source": [
    "note that only the `\"wl\"` belonging to `\"wg\"` has changed."
   ]
  },
  {
   "cell_type": "code",
   "execution_count": null,
   "id": "25",
   "metadata": {
    "papermill": {
     "duration": 0.019242,
     "end_time": "2024-06-17T18:16:41.278751",
     "exception": false,
     "start_time": "2024-06-17T18:16:41.259509",
     "status": "completed"
    },
    "tags": []
   },
   "outputs": [],
   "source": [
    "sdict = {(\"in0\", \"out0\"): 1.0, (\"out0\", \"in0\"): 1.0}\n",
    "sax.validate_not_mixedmode(sdict)\n",
    "\n",
    "sdict = {(\"in0@te\", \"out0@te\"): 1.0, (\"out0@tm\", \"in0@tm\"): 1.0}\n",
    "sax.validate_not_mixedmode(sdict)\n",
    "\n",
    "sdict = {(\"in0@te\", \"out0@te\"): 1.0, (\"out0\", \"in0@tm\"): 1.0}\n",
    "with pytest.raises(ValueError):\n",
    "    sax.validate_not_mixedmode(sdict)"
   ]
  },
  {
   "cell_type": "code",
   "execution_count": null,
   "id": "26",
   "metadata": {
    "papermill": {
     "duration": 0.018786,
     "end_time": "2024-06-17T18:16:41.305325",
     "exception": false,
     "start_time": "2024-06-17T18:16:41.286539",
     "status": "completed"
    },
    "tags": []
   },
   "outputs": [],
   "source": [
    "sdict = {(\"in0\", \"out0\"): 1.0, (\"out0\", \"in0\"): 1.0}\n",
    "with pytest.raises(ValueError):\n",
    "    sax.validate_multimode(sdict)\n",
    "\n",
    "sdict = {(\"in0@te\", \"out0@te\"): 1.0, (\"out0@tm\", \"in0@tm\"): 1.0}\n",
    "sax.validate_multimode(sdict)\n",
    "\n",
    "sdict = {(\"in0@te\", \"out0@te\"): 1.0, (\"out0\", \"in0@tm\"): 1.0}\n",
    "with pytest.raises(ValueError):\n",
    "    sax.validate_multimode(sdict)"
   ]
  },
  {
   "cell_type": "code",
   "execution_count": null,
   "id": "27",
   "metadata": {
    "papermill": {
     "duration": 0.01752,
     "end_time": "2024-06-17T18:16:41.330374",
     "exception": false,
     "start_time": "2024-06-17T18:16:41.312854",
     "status": "completed"
    },
    "tags": []
   },
   "outputs": [],
   "source": [
    "good_sdict = sax.reciprocal({(\"p0\", \"p1\"): 0.1, (\"p1\", \"p2\"): 0.2})\n",
    "assert sax.validate_sdict(good_sdict) is None\n",
    "\n",
    "bad_sdict = {\n",
    "    \"p0,p1\": 0.1,\n",
    "    (\"p1\", \"p2\"): 0.2,\n",
    "}\n",
    "with pytest.raises(TypeError):\n",
    "    sax.validate_sdict(bad_sdict)"
   ]
  },
  {
   "cell_type": "code",
   "execution_count": null,
   "id": "28",
   "metadata": {
    "papermill": {
     "duration": 0.021387,
     "end_time": "2024-06-17T18:16:41.359307",
     "exception": false,
     "start_time": "2024-06-17T18:16:41.337920",
     "status": "completed"
    },
    "tags": []
   },
   "outputs": [],
   "source": [
    "assert sax.get_inputs_outputs([\"in0\", \"out0\"]) == ((\"in0\",), (\"out0\",))\n",
    "assert sax.get_inputs_outputs([\"in0\", \"in1\"]) == ((\"in0\", \"in1\"), ())\n",
    "assert sax.get_inputs_outputs([\"out0\", \"out1\"]) == ((), (\"out0\", \"out1\"))\n",
    "assert sax.get_inputs_outputs([\"out0\", \"dc0\"]) == ((\"dc0\",), (\"out0\",))\n",
    "assert sax.get_inputs_outputs([\"dc0\", \"in0\"]) == ((\"in0\",), (\"dc0\",))"
   ]
  }
 ],
 "metadata": {
  "kernelspec": {
   "display_name": "sax",
   "language": "python",
   "name": "sax"
  },
  "language_info": {
   "codemirror_mode": {
    "name": "ipython",
    "version": 3
   },
   "file_extension": ".py",
   "mimetype": "text/x-python",
   "name": "python",
   "nbconvert_exporter": "python",
   "pygments_lexer": "ipython3",
   "version": "3.12.10"
  }
 },
 "nbformat": 4,
 "nbformat_minor": 5
}
