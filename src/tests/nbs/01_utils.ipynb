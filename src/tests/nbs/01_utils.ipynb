{
 "cells": [
  {
   "cell_type": "markdown",
   "id": "0",
   "metadata": {},
   "source": [
    "# Utils\n",
    "\n",
    "> General SAX utilities"
   ]
  },
  {
   "cell_type": "code",
   "execution_count": null,
   "id": "1",
   "metadata": {},
   "outputs": [],
   "source": [
    "from copy import deepcopy\n",
    "\n",
    "import jax.numpy as jnp\n",
    "\n",
    "import sax"
   ]
  },
  {
   "cell_type": "code",
   "execution_count": null,
   "id": "2",
   "metadata": {},
   "outputs": [],
   "source": [
    "arr1 = 1 * jnp.ones((1, 2, 2))\n",
    "arr2 = 2 * jnp.ones((1, 3, 3))\n",
    "\n",
    "assert (\n",
    "    sax.block_diag(arr1, arr2)\n",
    "    == jnp.array(\n",
    "        [\n",
    "            [\n",
    "                [1.0, 1.0, 0.0, 0.0, 0.0],\n",
    "                [1.0, 1.0, 0.0, 0.0, 0.0],\n",
    "                [0.0, 0.0, 2.0, 2.0, 2.0],\n",
    "                [0.0, 0.0, 2.0, 2.0, 2.0],\n",
    "                [0.0, 0.0, 2.0, 2.0, 2.0],\n",
    "            ]\n",
    "        ]\n",
    "    )\n",
    ").all()"
   ]
  },
  {
   "cell_type": "code",
   "execution_count": null,
   "id": "3",
   "metadata": {},
   "outputs": [],
   "source": [
    "assert sax.clean_string(\"Hello, string 1.0\") == \"Hello__string_1p0\""
   ]
  },
  {
   "cell_type": "code",
   "execution_count": null,
   "id": "4",
   "metadata": {},
   "outputs": [],
   "source": [
    "orig_settings = {\"a\": 3, \"c\": jnp.array([9.0, 10.0, 11.0])}\n",
    "new_settings = deepcopy(orig_settings)\n",
    "\n",
    "assert orig_settings[\"a\"] == new_settings[\"a\"]\n",
    "assert jnp.all(orig_settings[\"c\"] == new_settings[\"c\"])\n",
    "new_settings[\"a\"] = jnp.array(5.0)\n",
    "assert orig_settings[\"a\"] == 3\n",
    "assert new_settings[\"a\"] == 5\n",
    "# assert orig_settings[\"c\"] is new_settings[\"c\"] # FIXME: should be an `is` check"
   ]
  },
  {
   "cell_type": "code",
   "execution_count": null,
   "id": "5",
   "metadata": {},
   "outputs": [],
   "source": [
    "nested_dict = {\n",
    "    \"a\": 3.0,\n",
    "    \"b\": {\"c\": 4.0},\n",
    "}\n",
    "\n",
    "flat_dict = sax.flatten_dict(nested_dict, sep=\",\")\n",
    "assert flat_dict == {\"a\": 3.0, \"b,c\": 4.0}"
   ]
  },
  {
   "cell_type": "code",
   "execution_count": null,
   "id": "6",
   "metadata": {},
   "outputs": [],
   "source": [
    "assert sax.unflatten_dict(flat_dict, sep=\",\") == nested_dict"
   ]
  },
  {
   "cell_type": "code",
   "execution_count": null,
   "id": "7",
   "metadata": {},
   "outputs": [],
   "source": [
    "sax.scoo({(\"in0\", \"out0\"): 1.0})"
   ]
  },
  {
   "cell_type": "code",
   "execution_count": null,
   "id": "8",
   "metadata": {},
   "outputs": [],
   "source": [
    "def coupler(coupling=0.5):\n",
    "    return {\n",
    "        (\"in0\", \"out0\"): coupling**0.5,\n",
    "        (\"in0\", \"out1\"): 1j * coupling**0.5,\n",
    "        (\"in1\", \"out0\"): 1j * coupling**0.5,\n",
    "        (\"in1\", \"out1\"): coupling**0.5,\n",
    "    }"
   ]
  },
  {
   "cell_type": "code",
   "execution_count": null,
   "id": "9",
   "metadata": {},
   "outputs": [],
   "source": [
    "model = coupler\n",
    "assert sax.get_ports(model()) == (\"in0\", \"in1\", \"out0\", \"out1\")\n",
    "\n",
    "sdict_ = coupler()\n",
    "assert sax.get_ports(sdict_) == (\"in0\", \"in1\", \"out0\", \"out1\")\n",
    "\n",
    "scoo_ = sax.scoo(sdict_)\n",
    "assert sax.get_ports(scoo_) == (\"in0\", \"in1\", \"out0\", \"out1\")\n",
    "\n",
    "sdense_ = sax.sdense(sdict_)\n",
    "assert sax.get_ports(sdense_) == (\"in0\", \"in1\", \"out0\", \"out1\")"
   ]
  },
  {
   "cell_type": "code",
   "execution_count": null,
   "id": "10",
   "metadata": {},
   "outputs": [],
   "source": [
    "assert sax.get_settings(coupler) == {\"coupling\": 0.5}"
   ]
  },
  {
   "cell_type": "code",
   "execution_count": null,
   "id": "11",
   "metadata": {},
   "outputs": [],
   "source": [
    "# hide\n",
    "\n",
    "wls = jnp.array(\n",
    "    [\n",
    "        2.19999,\n",
    "        2.20001,\n",
    "        2.22499,\n",
    "        2.22501,\n",
    "        2.24999,\n",
    "        2.25001,\n",
    "        2.27499,\n",
    "        2.27501,\n",
    "        2.29999,\n",
    "        2.30001,\n",
    "        2.32499,\n",
    "        2.32501,\n",
    "        2.34999,\n",
    "        2.35001,\n",
    "        2.37499,\n",
    "        2.37501,\n",
    "        2.39999,\n",
    "        2.40001,\n",
    "        2.42499,\n",
    "        2.42501,\n",
    "        2.44999,\n",
    "        2.45001,\n",
    "    ]\n",
    ")\n",
    "phis = jnp.array(\n",
    "    [\n",
    "        5.17317336,\n",
    "        5.1219654,\n",
    "        4.71259842,\n",
    "        4.66252492,\n",
    "        5.65699608,\n",
    "        5.60817922,\n",
    "        2.03697377,\n",
    "        1.98936119,\n",
    "        6.010146,\n",
    "        5.96358061,\n",
    "        4.96336733,\n",
    "        4.91777933,\n",
    "        5.13912198,\n",
    "        5.09451137,\n",
    "        0.22347545,\n",
    "        0.17979684,\n",
    "        2.74501894,\n",
    "        2.70224092,\n",
    "        0.10403192,\n",
    "        0.06214664,\n",
    "        4.83328794,\n",
    "        4.79225525,\n",
    "    ]\n",
    ")\n",
    "wl = jnp.array([2.21, 2.27, 1.31, 2.424])\n",
    "phi = jnp.array(sax.grouped_interp(wl, wls, phis))\n",
    "phi_ref = jnp.array([-1.4901831, 1.3595749, -1.110012, 2.1775336])\n",
    "\n",
    "assert ((phi - phi_ref) ** 2 < 1e-5).all()"
   ]
  },
  {
   "cell_type": "code",
   "execution_count": null,
   "id": "12",
   "metadata": {},
   "outputs": [],
   "source": [
    "d = sax.merge_dicts({\"a\": 3}, {\"b\": 4})\n",
    "assert d[\"a\"] == 3\n",
    "assert d[\"b\"] == 4\n",
    "assert tuple(sorted(d)) == (\"a\", \"b\")\n",
    "\n",
    "d = sax.merge_dicts({\"a\": 3}, {\"a\": 4})\n",
    "assert d[\"a\"] == 4\n",
    "assert tuple(d) == (\"a\",)\n",
    "\n",
    "d = sax.merge_dicts({\"a\": 3}, {\"a\": {\"b\": 5}})\n",
    "assert d[\"a\"][\"b\"] == 5\n",
    "assert tuple(d) == (\"a\",)\n",
    "\n",
    "d = sax.merge_dicts({\"a\": {\"b\": 5}}, {\"a\": 3})\n",
    "assert d[\"a\"] == 3\n",
    "assert tuple(d) == (\"a\",)"
   ]
  },
  {
   "cell_type": "code",
   "execution_count": null,
   "id": "13",
   "metadata": {},
   "outputs": [],
   "source": [
    "from sax.multimode import _mode_combinations\n",
    "\n",
    "assert _mode_combinations(modes=[\"te\", \"tm\"]) == ((\"te\", \"te\"), (\"tm\", \"tm\"))\n",
    "assert _mode_combinations(modes=[\"te\", \"tm\"], cross=True) == (\n",
    "    (\"te\", \"te\"),\n",
    "    (\"te\", \"tm\"),\n",
    "    (\"tm\", \"te\"),\n",
    "    (\"tm\", \"tm\"),\n",
    ")"
   ]
  },
  {
   "cell_type": "code",
   "execution_count": null,
   "id": "14",
   "metadata": {},
   "outputs": [],
   "source": [
    "sdict_ = {(\"in0\", \"out0\"): 1.0}\n",
    "assert sax.reciprocal(sdict_) == {(\"in0\", \"out0\"): 1.0, (\"out0\", \"in0\"): 1.0}"
   ]
  },
  {
   "cell_type": "code",
   "execution_count": null,
   "id": "15",
   "metadata": {},
   "outputs": [],
   "source": [
    "def model(x=3.0, y=4.0, z=jnp.asarray([3.0, 4.0])) -> sax.SDict:\n",
    "    return {(\"in0\", \"out0\"): jnp.array(3.0)}\n",
    "\n",
    "\n",
    "renamings = {\"x\": \"a\", \"y\": \"z\", \"z\": \"y\"}\n",
    "new_model = sax.rename_params(model, renamings)\n",
    "settings = sax.get_settings(new_model)\n",
    "assert settings[\"a\"] == 3.0\n",
    "assert settings[\"z\"] == 4.0\n",
    "assert jnp.all(settings[\"y\"] == jnp.array([3.0, 4.0]))"
   ]
  },
  {
   "cell_type": "code",
   "execution_count": null,
   "id": "16",
   "metadata": {},
   "outputs": [],
   "source": [
    "d = sax.reciprocal({(\"p0\", \"p1\"): 0.1, (\"p1\", \"p2\"): 0.2})\n",
    "origports = sax.get_ports(d)\n",
    "renamings = {\"p0\": \"in0\", \"p1\": \"out0\", \"p2\": \"in1\"}\n",
    "d_ = sax.rename_ports(d, renamings)\n",
    "assert tuple(sorted(sax.get_ports(d_))) == tuple(\n",
    "    sorted(renamings[p] for p in origports)\n",
    ")\n",
    "d_ = sax.rename_ports(sax.scoo(d), renamings)\n",
    "assert tuple(sorted(sax.get_ports(d_))) == tuple(\n",
    "    sorted(renamings[p] for p in origports)\n",
    ")\n",
    "d_ = sax.rename_ports(sax.sdense(d), renamings)\n",
    "assert tuple(sorted(sax.get_ports(d_))) == tuple(\n",
    "    sorted(renamings[p] for p in origports)\n",
    ")"
   ]
  },
  {
   "cell_type": "markdown",
   "id": "17",
   "metadata": {},
   "source": [
    "Assuming you have a settings dictionary for a `circuit` containing a directional coupler `\"dc\"` and a waveguide `\"wg\"`:"
   ]
  },
  {
   "cell_type": "code",
   "execution_count": null,
   "id": "18",
   "metadata": {},
   "outputs": [],
   "source": [
    "settings = {\"wl\": 1.55, \"dc\": {\"coupling\": 0.5}, \"wg\": {\"wl\": 1.56, \"neff\": 2.33}}"
   ]
  },
  {
   "cell_type": "markdown",
   "id": "19",
   "metadata": {},
   "source": [
    "You can update this settings dictionary with some global settings as follows. When updating settings globally like this, each subdictionary of the settings dictionary will be updated with these values (if the key exists in the subdictionary):"
   ]
  },
  {
   "cell_type": "code",
   "execution_count": null,
   "id": "20",
   "metadata": {},
   "outputs": [],
   "source": [
    "settings = sax.update_settings(settings, wl=1.3, coupling=0.3, neff=3.0)\n",
    "assert settings == {\"wl\": 1.3, \"dc\": {\"coupling\": 0.3}, \"wg\": {\"wl\": 1.3, \"neff\": 3.0}}"
   ]
  },
  {
   "cell_type": "markdown",
   "id": "21",
   "metadata": {},
   "source": [
    "Alternatively, you can set certain settings for a specific component (e.g. 'wg' in this case) as follows:"
   ]
  },
  {
   "cell_type": "code",
   "execution_count": null,
   "id": "22",
   "metadata": {},
   "outputs": [],
   "source": [
    "settings = sax.update_settings(settings, \"wg\", wl=2.0)\n",
    "assert settings == {\"wl\": 1.3, \"dc\": {\"coupling\": 0.3}, \"wg\": {\"wl\": 2.0, \"neff\": 3.0}}"
   ]
  },
  {
   "cell_type": "markdown",
   "id": "23",
   "metadata": {},
   "source": [
    "note that only the `\"wl\"` belonging to `\"wg\"` has changed."
   ]
  },
  {
   "cell_type": "code",
   "execution_count": null,
   "id": "24",
   "metadata": {},
   "outputs": [],
   "source": [
    "sdict = {(\"in0\", \"out0\"): 1.0, (\"out0\", \"in0\"): 1.0}\n",
    "assert sax.try_into[sax.SDictSM](sdict)\n",
    "assert not sax.try_into[sax.SDictMM](sdict)\n",
    "\n",
    "sdict = {(\"in0@te\", \"out0@te\"): 1.0, (\"out0@tm\", \"in0@tm\"): 1.0}\n",
    "assert not sax.try_into[sax.SDictSM](sdict)\n",
    "assert sax.try_into[sax.SDictMM](sdict)\n",
    "\n",
    "sdict = {(\"in0@te\", \"out0@te\"): 1.0, (\"out0\", \"in0@tm\"): 1.0}\n",
    "assert not sax.try_into[sax.SDictSM](sdict)\n",
    "assert not sax.try_into[sax.SDictMM](sdict)"
   ]
  },
  {
   "cell_type": "code",
   "execution_count": null,
   "id": "25",
   "metadata": {},
   "outputs": [],
   "source": [
    "good_sdict = sax.reciprocal({(\"p0\", \"p1\"): 0.1, (\"p1\", \"p2\"): 0.2})\n",
    "assert sax.try_into[sax.SDict](good_sdict)\n",
    "\n",
    "bad_sdict = {\n",
    "    \"p0,p1\": 0.1,\n",
    "    (\"p1\", \"p2\"): 0.2,\n",
    "}\n",
    "assert not sax.try_into[sax.SDict](bad_sdict)"
   ]
  }
 ],
 "metadata": {
  "kernelspec": {
   "display_name": "sax",
   "language": "python",
   "name": "sax"
  },
  "language_info": {
   "codemirror_mode": {
    "name": "ipython",
    "version": 3
   },
   "file_extension": ".py",
   "mimetype": "text/x-python",
   "name": "python",
   "nbconvert_exporter": "python",
   "pygments_lexer": "ipython3"
  }
 },
 "nbformat": 4,
 "nbformat_minor": 5
}
