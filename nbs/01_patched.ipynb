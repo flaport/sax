{
 "cells": [
  {
   "cell_type": "code",
   "execution_count": null,
   "id": "2f9e0b2c-92e0-4b32-9d57-a7c81e7e49bc",
   "metadata": {},
   "outputs": [],
   "source": [
    "# default_exp patched"
   ]
  },
  {
   "cell_type": "markdown",
   "id": "62619887-4d1d-4218-8259-9dbe991cfded",
   "metadata": {},
   "source": [
    "# Patched\n",
    "\n",
    "> We patch some library and objects that don't belong to SAX. Don't worry, it's nothing substantial."
   ]
  },
  {
   "cell_type": "code",
   "execution_count": null,
   "id": "c2bc5876-855c-4c0e-b8ae-2142bbd64925",
   "metadata": {},
   "outputs": [],
   "source": [
    "# hide\n",
    "import matplotlib.pyplot as plt\n",
    "from fastcore.test import test_eq\n",
    "from pytest import approx, raises\n",
    "import jax.numpy as jnp\n",
    "\n",
    "import os, sys; sys.stderr = open(os.devnull, \"w\")"
   ]
  },
  {
   "cell_type": "code",
   "execution_count": null,
   "id": "514f0ad3-8503-4982-9ae2-dbbbb2e2a3c7",
   "metadata": {},
   "outputs": [],
   "source": [
    "# export\n",
    "from __future__ import annotations\n",
    "\n",
    "import re\n",
    "from fastcore.basics import patch_to\n",
    "from flax.core import FrozenDict\n",
    "from jaxlib.xla_extension import DeviceArray\n",
    "\n",
    "from sax.typing_ import is_complex_float, is_float\n",
    "from textwrap import dedent"
   ]
  },
  {
   "cell_type": "markdown",
   "id": "e37bb974-621b-4fc2-b4a8-d3f51d4f72ad",
   "metadata": {},
   "source": [
    "Paching `FrozenDict` to have the same repr as a normal dict:"
   ]
  },
  {
   "cell_type": "code",
   "execution_count": null,
   "id": "9c4421fc-3f65-4f9a-9e88-9ed1650f9107",
   "metadata": {},
   "outputs": [],
   "source": [
    "# exporti\n",
    "@patch_to(FrozenDict)\n",
    "def __repr__(self):  # type: ignore\n",
    "    _dict = lambda d: dict(\n",
    "        {k: (v if not isinstance(v, self.__class__) else dict(v)) for k, v in d.items()}\n",
    "    )\n",
    "    return f\"{self.__class__.__name__}({dict.__repr__(_dict(self))})\""
   ]
  },
  {
   "cell_type": "markdown",
   "id": "4484b223-c22e-4537-8f90-df47ef31d086",
   "metadata": {},
   "source": [
    "Patching `DeviceArray` to have less verbose reprs for 0-D arrays:"
   ]
  },
  {
   "cell_type": "code",
   "execution_count": null,
   "id": "6eb58dbc-119f-4f98-a2f7-d6f1b1b7488e",
   "metadata": {},
   "outputs": [],
   "source": [
    "# exporti\n",
    "@patch_to(DeviceArray)\n",
    "def __repr__(self):  # type: ignore\n",
    "    if self.ndim == 0 and is_float(self):\n",
    "        v = float(self)\n",
    "        return repr(round(v, 5)) if abs(v) > 1e-4 else repr(v)\n",
    "    elif self.ndim == 0 and is_complex_float(self):\n",
    "        r, i = float(self.real), float(self.imag)\n",
    "        r = round(r, 5) if abs(r) > 1e-4 else r\n",
    "        i = round(i, 5) if abs(i) > 1e-4 else i\n",
    "        s = repr(r + 1j * i)\n",
    "        if s[0] == \"(\" and s[-1] == \")\":\n",
    "            s = s[1:-1]\n",
    "        return s\n",
    "    else:\n",
    "        s = super(self.__class__, self).__repr__()\n",
    "        s = s.replace(\"DeviceArray(\", \"      array(\")\n",
    "        s = re.sub(r\", dtype=.*[,)]\", \"\", s)\n",
    "        s = re.sub(r\" weak_type=.*[,)]\", \"\", s)\n",
    "        return dedent(s)+\")\""
   ]
  },
  {
   "cell_type": "code",
   "execution_count": null,
   "id": "5f6c14e4-723e-4ad9-9b20-fde3d7b7f86f",
   "metadata": {},
   "outputs": [],
   "source": [
    "jnp.array(3)"
   ]
  },
  {
   "cell_type": "code",
   "execution_count": null,
   "id": "02676641-cddd-4f70-8138-b4530dd318cd",
   "metadata": {},
   "outputs": [],
   "source": [
    "jnp.array([3, 4, 5])"
   ]
  }
 ],
 "metadata": {
  "kernelspec": {
   "display_name": "sax",
   "language": "python",
   "name": "sax"
  }
 },
 "nbformat": 4,
 "nbformat_minor": 5
}
