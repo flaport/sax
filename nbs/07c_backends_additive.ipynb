{
 "cells": [
  {
   "cell_type": "code",
   "execution_count": null,
   "id": "51511eb3",
   "metadata": {},
   "outputs": [],
   "source": [
    "# default_exp backends.additive"
   ]
  },
  {
   "cell_type": "markdown",
   "id": "ca1899a9",
   "metadata": {},
   "source": [
    "# Backend - additive\n",
    "\n",
    "> Additive SAX Backend\n",
    "\n",
    "Sometimes we would like to calculate circuit path lengths or time delays within a circuit. We could obviously simulate these things with a time domain simulator, but in many cases a simple additive backend (as opposed to the default multiplicative backend) can suffice."
   ]
  },
  {
   "cell_type": "code",
   "execution_count": null,
   "id": "033a8953",
   "metadata": {},
   "outputs": [],
   "source": [
    "# hide\n",
    "import matplotlib.pyplot as plt\n",
    "from fastcore.test import test_eq\n",
    "from pytest import approx, raises\n",
    "\n",
    "import os, sys; sys.stderr = open(os.devnull, \"w\")"
   ]
  },
  {
   "cell_type": "code",
   "execution_count": null,
   "id": "f9b1b10b",
   "metadata": {},
   "outputs": [],
   "source": [
    "# export\n",
    "from __future__ import annotations\n",
    "\n",
    "from typing import Dict, Tuple\n",
    "\n",
    "import jax.numpy as jnp\n",
    "import networkx as nx\n",
    "from sax.typing_ import SDict, SType, SDense, sdict\n",
    "from sax.netlist import netlist"
   ]
  },
  {
   "cell_type": "code",
   "execution_count": null,
   "id": "e0f28218",
   "metadata": {},
   "outputs": [],
   "source": [
    "# export\n",
    "def split_port(port: str) -> Tuple[str, str]:\n",
    "    try:\n",
    "        instance, port = port.split(\",\")\n",
    "    except ValueError:\n",
    "        (port,) = port.split(\",\")\n",
    "        instance = \"\"\n",
    "    return instance, port"
   ]
  },
  {
   "cell_type": "code",
   "execution_count": null,
   "id": "345aaa5b-cefe-49ec-9213-70c73b8c741b",
   "metadata": {},
   "outputs": [],
   "source": [
    "assert split_port(\"wg,in0\") == ('wg', 'in0') # internal circuit port\n",
    "assert split_port(\"out0\") == ('', 'out0') # external circuit port"
   ]
  },
  {
   "cell_type": "code",
   "execution_count": null,
   "id": "da1af226-47d3-4134-aaeb-ac37f8cf5ed7",
   "metadata": {},
   "outputs": [],
   "source": [
    "# export\n",
    "def graph_edges(\n",
    "    instances: Dict[str, SType], connections: Dict[str, str], ports: Dict[str, str]\n",
    "):\n",
    "    zero = jnp.array([0.0], dtype=float)\n",
    "    edges = {}\n",
    "    edges.update({split_port(k): split_port(v) for k, v in connections.items()})\n",
    "    edges.update({split_port(v): split_port(k) for k, v in connections.items()})\n",
    "    edges.update({split_port(k): split_port(v) for k, v in ports.items()})\n",
    "    edges.update({split_port(v): split_port(k) for k, v in ports.items()})\n",
    "    edges = [(n1, n2, {\"type\": \"C\", \"length\": zero}) for n1, n2 in edges.items()]\n",
    "\n",
    "    _instances = {\n",
    "        **{i1: None for (i1, _), (_, _), _ in edges},\n",
    "        **{i2: None for (_, _), (i2, _), _ in edges},\n",
    "    }\n",
    "    del _instances[\"\"] # external ports don't belong to an instance\n",
    "\n",
    "    for instance in _instances:\n",
    "        s = instances[instance]\n",
    "        edges += [\n",
    "            ((instance, p1), (instance, p2), {\"type\": \"S\", \"length\": jnp.asarray(length, dtype=float).ravel()})\n",
    "            for (p1, p2), length in sdict(s).items()\n",
    "        ]\n",
    "\n",
    "    return edges"
   ]
  },
  {
   "cell_type": "markdown",
   "id": "bc6e5237-5517-4776-b23f-9bac3200cdfa",
   "metadata": {},
   "source": [
    "> Example\n",
    "\n",
    "> Note: in stead of S-parameters the stypes need to contain *additive* parameters, such as length or time delay."
   ]
  },
  {
   "cell_type": "code",
   "execution_count": null,
   "id": "d9a7bed0-c4b2-42b9-aac6-f8371cad3e6b",
   "metadata": {},
   "outputs": [],
   "source": [
    "wg_sdict = {\n",
    "    (\"in0\", \"out0\"): jnp.array([100.0, 200.0, 300.0]), # assume for now there are three possible paths between these two ports.\n",
    "    (\"out0\", \"in0\"): jnp.array([100.0, 200.0, 300.0]), # assume for now there are three possible paths between these two ports.\n",
    "}\n",
    "\n",
    "dc_sdict = {\n",
    "    (\"in0\", \"out0\"): jnp.array([10.0, 20.0]), # assume for now there are two possible paths between these two ports.\n",
    "    (\"in0\", \"out1\"): 15.0,\n",
    "    (\"in1\", \"out0\"): 15.0,\n",
    "    (\"in1\", \"out1\"): jnp.array([10.0, 20.0]), # assume for now there are two possible paths between these two ports.\n",
    "}\n",
    "\n",
    "instances= {\n",
    "    \"dc1\": dc_sdict,\n",
    "    \"wg\": wg_sdict,\n",
    "    \"dc2\": dc_sdict,\n",
    "}\n",
    "connections= {\n",
    "    \"dc1,out0\": \"wg,in0\",\n",
    "    \"wg,out0\": \"dc2,in0\",\n",
    "    \"dc1,out1\": \"dc2,in1\",\n",
    "}\n",
    "ports= {\n",
    "    \"in0\": \"dc1,in0\",\n",
    "    \"in1\": \"dc1,in1\",\n",
    "    \"out0\": \"dc2,out0\",\n",
    "    \"out1\": \"dc2,out1\",\n",
    "}"
   ]
  },
  {
   "cell_type": "markdown",
   "id": "7aaff527-a216-472b-891d-9c56901af914",
   "metadata": {},
   "source": [
    "> Note: it is recommended to **not** use an `SDense` representation for the additive backend. Very often an `SDense` representation will introduce **zeros** which will be interpreted as an **existing connection with zero length**. Conversely, in a sparse representation like `SDict` or `SCoo`, non-existing elements will be just that: they will not be present in the internal graph."
   ]
  },
  {
   "cell_type": "code",
   "execution_count": null,
   "id": "3a8ed72a-bb73-46aa-8a78-5dea087d7fc7",
   "metadata": {},
   "outputs": [],
   "source": [
    "edges = graph_edges(instances, connections, ports)\n",
    "edges"
   ]
  },
  {
   "cell_type": "markdown",
   "id": "d87a25be-b4bb-458c-9bd2-0f5630524c82",
   "metadata": {},
   "source": [
    "We made a difference here between edges of 'S'-type (connections through the S-matrix) and edges of 'C'-type (connections through the connection matrix). Connections of 'C'-type obviously always have length zero as they signify per definition the equality of two ports."
   ]
  },
  {
   "cell_type": "markdown",
   "id": "12c3c744-7fdc-400c-9612-c50fb8214819",
   "metadata": {},
   "source": [
    "We can create a NetworkX graph from these edges:"
   ]
  },
  {
   "cell_type": "code",
   "execution_count": null,
   "id": "bef4c710-10c4-480c-b28e-897e2672136f",
   "metadata": {},
   "outputs": [],
   "source": [
    "graph = nx.Graph()\n",
    "graph.add_edges_from(edges)\n",
    "nx.draw_kamada_kawai(graph, with_labels=True)"
   ]
  },
  {
   "cell_type": "code",
   "execution_count": null,
   "id": "876b683e",
   "metadata": {},
   "outputs": [],
   "source": [
    "# export\n",
    "def prune_internal_output_nodes(graph):\n",
    "    broken = True\n",
    "    while broken:\n",
    "        broken = False\n",
    "        for (i, p), dic in list(graph.adjacency()):\n",
    "            if (\n",
    "                i != \"\"\n",
    "                and len(dic) == 2\n",
    "                and all(prop.get(\"type\", \"C\") == \"C\" for prop in dic.values())\n",
    "            ):\n",
    "                graph.remove_node((i, p))\n",
    "                graph.add_edge(*dic.keys(), type=\"C\", length=0.0)\n",
    "                broken = True\n",
    "                break\n",
    "    return graph"
   ]
  },
  {
   "cell_type": "code",
   "execution_count": null,
   "id": "34163540-3f11-467b-8f39-dba25e469da9",
   "metadata": {},
   "outputs": [],
   "source": [
    "graph = prune_internal_output_nodes(graph)\n",
    "nx.draw_kamada_kawai(graph, with_labels=True)"
   ]
  },
  {
   "cell_type": "markdown",
   "id": "ae4c42c4-2500-4b47-b2ed-701ab271950e",
   "metadata": {},
   "source": [
    "We can now get a list of all possible paths in the network. Note that these paths **must** alternate between an S-edge and a C-edge:"
   ]
  },
  {
   "cell_type": "code",
   "execution_count": null,
   "id": "3e695146",
   "metadata": {},
   "outputs": [],
   "source": [
    "# export\n",
    "def get_possible_paths(graph, source, target):\n",
    "    paths = []\n",
    "    default_props = {\"type\": \"C\", \"length\": 0.0}\n",
    "    for path in nx.all_simple_edge_paths(graph, source, target):\n",
    "        prevtype = \"C\"\n",
    "        for n1, n2 in path:\n",
    "            curtype = graph.get_edge_data(n1, n2, default_props)[\"type\"]\n",
    "            if curtype == prevtype == \"S\":\n",
    "                break\n",
    "            else:\n",
    "                prevtype = curtype\n",
    "        else:\n",
    "            paths.append(path)\n",
    "    return paths"
   ]
  },
  {
   "cell_type": "code",
   "execution_count": null,
   "id": "7e769550-89a9-4f6b-88c1-916ec40c7a9f",
   "metadata": {},
   "outputs": [],
   "source": [
    "paths = get_possible_paths(graph, (\"\", \"in0\"), (\"\", \"out0\"))\n",
    "paths"
   ]
  },
  {
   "cell_type": "markdown",
   "id": "01f7a5f4-8ea4-4578-b561-b12506b79dd3",
   "metadata": {},
   "source": [
    "And the path lengths of those paths can be calculated as follows:"
   ]
  },
  {
   "cell_type": "code",
   "execution_count": null,
   "id": "0d14050f",
   "metadata": {},
   "outputs": [],
   "source": [
    "# export\n",
    "def path_lengths(graph, paths):\n",
    "    lengths = []\n",
    "    for path in paths:\n",
    "        length = zero = jnp.array([0.0], dtype=float)\n",
    "        default_edge_data = {\"type\": \"C\", \"length\": zero}\n",
    "        for edge in path:\n",
    "            edge_data = graph.get_edge_data(*edge, default_edge_data)\n",
    "            length = (length[None,:] + edge_data.get(\"length\", zero)[:, None]).ravel()\n",
    "        lengths.append(length)\n",
    "    return lengths"
   ]
  },
  {
   "cell_type": "code",
   "execution_count": null,
   "id": "a445e1c2-af3f-4953-824d-6fbc89df1499",
   "metadata": {},
   "outputs": [],
   "source": [
    "path_lengths(graph, paths)"
   ]
  },
  {
   "cell_type": "markdown",
   "id": "1c963377-0e97-4396-acc6-469517e1afcf",
   "metadata": {},
   "source": [
    "This is all brought together in the additive KLU backend:"
   ]
  },
  {
   "cell_type": "code",
   "execution_count": null,
   "id": "40042509",
   "metadata": {},
   "outputs": [],
   "source": [
    "# export\n",
    "def evaluate_circuit_additive(\n",
    "    instances: Dict[str, SDict],\n",
    "    connections: Dict[str, str],\n",
    "    ports: Dict[str, str],\n",
    "):\n",
    "    \"\"\"evaluate a circuit for the given sdicts.\"\"\"\n",
    "    edges = graph_edges(instances, connections, ports)\n",
    "\n",
    "    graph = nx.Graph()\n",
    "    graph.add_edges_from(edges)\n",
    "    prune_internal_output_nodes(graph)\n",
    "\n",
    "    sdict = {}\n",
    "    for source in ports:\n",
    "        for target in ports:\n",
    "            paths = get_possible_paths(graph, source=(\"\", source), target=(\"\", target))\n",
    "            if not paths:\n",
    "                continue\n",
    "            sdict[source, target] = path_lengths(graph, paths)\n",
    "\n",
    "    return sdict"
   ]
  },
  {
   "cell_type": "code",
   "execution_count": null,
   "id": "6ec2aaf0-1545-49a8-9203-1b86d36b3e84",
   "metadata": {},
   "outputs": [],
   "source": [
    "evaluate_circuit_additive(instances, connections, ports)"
   ]
  }
 ],
 "metadata": {
  "kernelspec": {
   "display_name": "sax",
   "language": "python",
   "name": "sax"
  }
 },
 "nbformat": 4,
 "nbformat_minor": 5
}
