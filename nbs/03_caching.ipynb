{
 "cells": [
  {
   "cell_type": "code",
   "execution_count": null,
   "id": "10028cb4",
   "metadata": {},
   "outputs": [],
   "source": [
    "# default_exp caching"
   ]
  },
  {
   "cell_type": "markdown",
   "id": "faeaa526",
   "metadata": {},
   "source": [
    "# Caching\n",
    "\n",
    "> SAX Caching"
   ]
  },
  {
   "cell_type": "code",
   "execution_count": null,
   "id": "f5c17f54",
   "metadata": {},
   "outputs": [],
   "source": [
    "# hide\n",
    "import matplotlib.pyplot as plt\n",
    "from fastcore.test import test_eq\n",
    "from pytest import approx, raises\n",
    "\n",
    "import os, sys; sys.stderr = open(os.devnull, \"w\")"
   ]
  },
  {
   "cell_type": "code",
   "execution_count": null,
   "id": "a22a0cd6",
   "metadata": {},
   "outputs": [],
   "source": [
    "# export\n",
    "from __future__ import annotations\n",
    "\n",
    "import gc\n",
    "from functools import _lru_cache_wrapper, lru_cache, partial, wraps\n",
    "from typing import Callable, Optional"
   ]
  },
  {
   "cell_type": "code",
   "execution_count": null,
   "id": "0a703105",
   "metadata": {},
   "outputs": [],
   "source": [
    "#exporti\n",
    "\n",
    "_cached_functions = []"
   ]
  },
  {
   "cell_type": "code",
   "execution_count": null,
   "id": "5ab8a8d5",
   "metadata": {},
   "outputs": [],
   "source": [
    "# export\n",
    "\n",
    "def cache(func: Optional[Callable] = None, /, *, maxsize: Optional[int] = None) -> Callable:\n",
    "    \"\"\"cache a function\"\"\"\n",
    "    if func is None:\n",
    "        return partial(cache, maxsize=maxsize)\n",
    "\n",
    "    cached_func = lru_cache(maxsize=maxsize)(func)\n",
    "\n",
    "    @wraps(func)\n",
    "    def new_func(*args, **kwargs):\n",
    "        return cached_func(*args, **kwargs)\n",
    "\n",
    "    new_func.cache_clear = cached_func.cache_clear\n",
    "\n",
    "    _cached_functions.append(new_func)\n",
    "\n",
    "    return new_func"
   ]
  },
  {
   "cell_type": "code",
   "execution_count": null,
   "id": "9b81ee26",
   "metadata": {},
   "outputs": [],
   "source": [
    "# export\n",
    "def cache_clear(*, force: bool=False):\n",
    "    \"\"\"clear all function caches\"\"\"\n",
    "    if not force:\n",
    "        for func in _cached_functions:\n",
    "            func.cache_clear()\n",
    "    else:\n",
    "        gc.collect()\n",
    "        funcs = [a for a in gc.get_objects() if isinstance(a, _lru_cache_wrapper)]\n",
    "\n",
    "        for func in funcs:\n",
    "            func.cache_clear()"
   ]
  }
 ],
 "metadata": {
  "kernelspec": {
   "display_name": "sax",
   "language": "python",
   "name": "sax"
  }
 },
 "nbformat": 4,
 "nbformat_minor": 5
}
