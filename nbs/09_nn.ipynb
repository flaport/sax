{
 "cells": [
  {
   "cell_type": "code",
   "execution_count": null,
   "id": "96bd487d",
   "metadata": {},
   "outputs": [],
   "source": [
    "# default_exp nn.__init__"
   ]
  },
  {
   "cell_type": "markdown",
   "id": "36903b9f",
   "metadata": {},
   "source": [
    "# NN - Neural Networks\n",
    "\n",
    "> Utilitites for creating advanced neural network SAX Models"
   ]
  },
  {
   "cell_type": "code",
   "execution_count": null,
   "id": "266f1980",
   "metadata": {},
   "outputs": [],
   "source": [
    "# hide\n",
    "import matplotlib.pyplot as plt\n",
    "from fastcore.test import test_eq\n",
    "from pytest import approx, raises\n",
    "\n",
    "import os, sys; sys.stderr = open(os.devnull, \"w\")"
   ]
  },
  {
   "cell_type": "markdown",
   "id": "75fbba73",
   "metadata": {},
   "source": [
    "## Loss"
   ]
  },
  {
   "cell_type": "code",
   "execution_count": null,
   "id": "8ccb0f09",
   "metadata": {},
   "outputs": [],
   "source": [
    "# exports\n",
    "from __future__ import annotations\n",
    "\n",
    "from sax.nn.loss import huber_loss as huber_loss\n",
    "from sax.nn.loss import l2_reg as l2_reg\n",
    "from sax.nn.loss import mse as mse"
   ]
  },
  {
   "cell_type": "markdown",
   "id": "1a18faa2",
   "metadata": {},
   "source": [
    "## Utils"
   ]
  },
  {
   "cell_type": "code",
   "execution_count": null,
   "id": "dbbfdef3",
   "metadata": {},
   "outputs": [],
   "source": [
    "# exports\n",
    "\n",
    "from sax.nn.utils import (\n",
    "    cartesian_product as cartesian_product,\n",
    "    denormalize as denormalize,\n",
    "    get_normalization as get_normalization,\n",
    "    get_df_columns as get_df_columns,\n",
    "    normalize as normalize,\n",
    ")"
   ]
  },
  {
   "cell_type": "markdown",
   "id": "ef010b3c",
   "metadata": {},
   "source": [
    "## Core"
   ]
  },
  {
   "cell_type": "code",
   "execution_count": null,
   "id": "42a738dd",
   "metadata": {},
   "outputs": [],
   "source": [
    "# exports\n",
    "\n",
    "from sax.nn.core import (\n",
    "    preprocess as preprocess,\n",
    "    dense as dense,\n",
    "    generate_dense_weights as generate_dense_weights,\n",
    ")"
   ]
  },
  {
   "cell_type": "markdown",
   "id": "5e96c647",
   "metadata": {},
   "source": [
    "## IO"
   ]
  },
  {
   "cell_type": "code",
   "execution_count": null,
   "id": "8277e2b1",
   "metadata": {},
   "outputs": [],
   "source": [
    "# exports\n",
    "\n",
    "from sax.nn.io import (\n",
    "    load_nn_weights_json as load_nn_weights_json,\n",
    "    save_nn_weights_json as save_nn_weights_json,\n",
    "    get_available_sizes as get_available_sizes,\n",
    "    get_dense_weights_path as get_dense_weights_path,\n",
    "    get_norm_path as get_norm_path,\n",
    "    load_nn_dense as load_nn_dense,\n",
    ")"
   ]
  }
 ],
 "metadata": {
  "kernelspec": {
   "display_name": "sax",
   "language": "python",
   "name": "sax"
  }
 },
 "nbformat": 4,
 "nbformat_minor": 5
}
