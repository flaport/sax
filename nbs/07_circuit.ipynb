{
 "cells": [
  {
   "cell_type": "code",
   "execution_count": null,
   "id": "5b79c062",
   "metadata": {},
   "outputs": [],
   "source": [
    "# default_exp circuit"
   ]
  },
  {
   "cell_type": "markdown",
   "id": "2c9c99fe",
   "metadata": {},
   "source": [
    "# Circuit\n",
    "\n",
    "> SAX Circuits"
   ]
  },
  {
   "cell_type": "markdown",
   "id": "0648dc6e-c0bd-45db-810a-d0c40af04837",
   "metadata": {},
   "source": [
    "Let's start where we left off (see [Netlist](06_netlist.ipynb))."
   ]
  },
  {
   "cell_type": "code",
   "execution_count": null,
   "id": "48108bff-d16a-4e3c-8575-9b045779823e",
   "metadata": {},
   "outputs": [],
   "source": [
    "# export\n",
    "from __future__ import annotations\n",
    "\n",
    "import os\n",
    "import shutil\n",
    "import sys\n",
    "from functools import partial\n",
    "from pprint import pprint\n",
    "from typing import Any, Dict, List, NamedTuple, Optional, Tuple, TypedDict, Union\n",
    "\n",
    "import black\n",
    "import networkx as nx\n",
    "import numpy as np\n",
    "from pydantic import ValidationError\n",
    "from sax import reciprocal\n",
    "from sax.backends import circuit_backends\n",
    "from sax.multimode import multimode, singlemode\n",
    "from sax.netlist import Netlist, RecursiveNetlist, load_recursive_netlist\n",
    "from sax.netlist_cleaning import remove_unused_instances\n",
    "from sax.typing_ import Model, Settings, SType\n",
    "from sax.utils import _replace_kwargs, get_settings, merge_dicts, update_settings"
   ]
  },
  {
   "cell_type": "markdown",
   "id": "45ad2306-1ead-4b8c-b91e-c02ce4569b3a",
   "metadata": {},
   "source": [
    "Let's start by creating a simple recursive netlist with gdsfactory.\n",
    "\n",
    ":::{note}\n",
    "We are using gdsfactory to create our netlist because it allows us to see the circuit we want to simulate and because we're striving to have a compatible netlist implementation in SAX.\n",
    "\n",
    "However... gdsfactory is not a dependency of SAX. You can also define your circuits by hand (see [SAX Quick Start](../examples/01_quick_start.ipynb) or you can use another tool to programmatically construct your netlists.\n",
    ":::"
   ]
  },
  {
   "cell_type": "code",
   "execution_count": null,
   "id": "804a1c9b-c02b-4af6-ba3d-858f76634a69",
   "metadata": {},
   "outputs": [],
   "source": [
    "import gdsfactory as gf\n",
    "from IPython.display import display\n",
    "from gdsfactory.components import mzi\n",
    "from gdsfactory.get_netlist import get_netlist_recursive, get_netlist, get_netlist_yaml\n",
    "\n",
    "@gf.cell\n",
    "def twomzi():\n",
    "    c = gf.Component()\n",
    "    \n",
    "    # instances\n",
    "    mzi1 = mzi(delta_length=10)\n",
    "    mzi2 = mzi(delta_length=20)\n",
    "    \n",
    "    # references\n",
    "    mzi1_ = (c << mzi1)\n",
    "    mzi2_ = (c << mzi2)\n",
    "    \n",
    "    # connections\n",
    "    mzi2_.connect('o1', mzi1_.ports['o2'])\n",
    "    \n",
    "    # ports\n",
    "    c.add_port('o1', port=mzi1_.ports['o1'])\n",
    "    c.add_port('o2', port=mzi2_.ports['o2'])\n",
    "    return c\n",
    "\n",
    "comp  = twomzi()\n",
    "display(comp)\n",
    "recnet = RecursiveNetlist.parse_obj(get_netlist_recursive(comp, get_netlist_func=partial(get_netlist, full_settings=True)))\n",
    "flatnet = recnet.__root__['mzi_delta_length10']"
   ]
  },
  {
   "cell_type": "markdown",
   "id": "2b2a38fb-c83e-4b71-b195-ecca485fb0a3",
   "metadata": {},
   "source": [
    "To be able to model this device we'll need some SAX dummy models:"
   ]
  },
  {
   "cell_type": "code",
   "execution_count": null,
   "id": "2035cd9e-c65e-45b6-bd83-4ad19e4630fa",
   "metadata": {},
   "outputs": [],
   "source": [
    "# hide\n",
    "def bend_euler(\n",
    "    angle=90.0,\n",
    "    p=0.5,\n",
    "    # cross_section=\"strip\",\n",
    "    # direction=\"ccw\",\n",
    "    # with_bbox=True,\n",
    "    # with_arc_floorplan=True,\n",
    "    # npoints=720,\n",
    "):\n",
    "    return reciprocal({\n",
    "        ('o1', 'o2'): 1.0\n",
    "    })"
   ]
  },
  {
   "cell_type": "code",
   "execution_count": null,
   "id": "192c4288-20d1-4aca-b3d0-277db6bb5118",
   "metadata": {},
   "outputs": [],
   "source": [
    "# hide\n",
    "def mmi1x2(\n",
    "    width=0.5,\n",
    "    width_taper= 1.0,\n",
    "    length_taper= 10.0,\n",
    "    length_mmi= 5.5,\n",
    "    width_mmi= 2.5,\n",
    "    gap_mmi= 0.25,\n",
    "    # cross_section= strip,\n",
    "    # taper= {function= taper},\n",
    "    # with_bbox= True,\n",
    "):\n",
    "    return reciprocal({\n",
    "        ('o1', 'o2'): 0.45**0.5,\n",
    "        ('o1', 'o3'): 0.45**0.5,\n",
    "    })"
   ]
  },
  {
   "cell_type": "code",
   "execution_count": null,
   "id": "861a5b4a-d8d9-4ea0-a733-39e213a28ead",
   "metadata": {},
   "outputs": [],
   "source": [
    "# hide\n",
    "def mmi2x2(\n",
    "    width=0.5,\n",
    "    width_taper= 1.0,\n",
    "    length_taper= 10.0,\n",
    "    length_mmi= 5.5,\n",
    "    width_mmi= 2.5,\n",
    "    gap_mmi= 0.25,\n",
    "    # cross_section= strip,\n",
    "    # taper= {function= taper},\n",
    "    # with_bbox= True,\n",
    "):\n",
    "    return reciprocal({\n",
    "        ('o1', 'o3'): 0.45**0.5,\n",
    "        ('o1', 'o4'): 1j * 0.45**0.5,\n",
    "        ('o2', 'o3'): 1j * 0.45**0.5,\n",
    "        ('o2', 'o4'): 0.45**0.5,\n",
    "    })"
   ]
  },
  {
   "cell_type": "code",
   "execution_count": null,
   "id": "84046c8e-45a7-4aa0-bbdf-c82cd2d0e24e",
   "metadata": {},
   "outputs": [],
   "source": [
    "# hide\n",
    "def straight(\n",
    "    length=0.01,\n",
    "    #npoints=2,\n",
    "    #with_bbox=True,\n",
    "    #cross_section=...\n",
    "):\n",
    "    return reciprocal({\n",
    "        ('o1', 'o2'): 1.0\n",
    "    })"
   ]
  },
  {
   "cell_type": "markdown",
   "id": "8efe90e4-dfe6-40bd-aa0a-26c74738d688",
   "metadata": {},
   "source": [
    "In SAX, we usually aggregate the available models in a models dictionary:"
   ]
  },
  {
   "cell_type": "code",
   "execution_count": null,
   "id": "c1ac9132-0ee2-443b-98f4-f790234551b0",
   "metadata": {},
   "outputs": [],
   "source": [
    "models = {\n",
    "    'straight': straight,\n",
    "    'bend_euler': bend_euler,\n",
    "    'mmi1x2': mmi1x2,\n",
    "}"
   ]
  },
  {
   "cell_type": "markdown",
   "id": "3df7d9b6-acbb-4406-a3c8-8a9ad09db768",
   "metadata": {},
   "source": [
    "We can now represent our recursive netlist model as a Directed Acyclic Graph:"
   ]
  },
  {
   "cell_type": "code",
   "execution_count": null,
   "id": "85842e06-d9dc-4b4c-93c2-400f1ffc1e01",
   "metadata": {},
   "outputs": [],
   "source": [
    "# export\n",
    "def create_dag(\n",
    "    netlist: RecursiveNetlist,\n",
    "    models: Optional[Dict[str, Any]] = None,\n",
    "):\n",
    "    if models is None:\n",
    "        models = {}\n",
    "    assert isinstance(models, dict)\n",
    "    \n",
    "    all_models = {}\n",
    "    g = nx.DiGraph()\n",
    "\n",
    "    for model_name, subnetlist in netlist.dict()['__root__'].items():\n",
    "        if not model_name in all_models:\n",
    "            all_models[model_name] = models.get(model_name, subnetlist)\n",
    "            g.add_node(model_name)\n",
    "        if model_name in models:\n",
    "            continue\n",
    "        for instance in subnetlist['instances'].values():\n",
    "            component = instance['component']\n",
    "            if not component in all_models:\n",
    "                all_models[component] = models.get(component, None)\n",
    "                g.add_node(component)\n",
    "            g.add_edge(model_name, component)\n",
    "    \n",
    "    # we only need the nodes that depend on the parent...\n",
    "    parent_node = next(iter(netlist.__root__.keys()))\n",
    "    nodes = [parent_node, *nx.descendants(g, parent_node)]\n",
    "    g = nx.induced_subgraph(g, nodes)\n",
    "            \n",
    "    return g"
   ]
  },
  {
   "cell_type": "code",
   "execution_count": null,
   "id": "21b7439f-1463-41cf-8446-7f0bd19b5332",
   "metadata": {},
   "outputs": [],
   "source": [
    "# export\n",
    "\n",
    "def draw_dag(dag, with_labels=True, **kwargs):\n",
    "    _patch_path()\n",
    "    if shutil.which('dot'):\n",
    "        return nx.draw(dag, nx.nx_pydot.pydot_layout(dag, prog='dot'), with_labels=with_labels, **kwargs)\n",
    "    else:\n",
    "        return nx.draw(dag, _my_dag_pos(dag), with_labels=with_labels, **kwargs)\n",
    "    \n",
    "def _patch_path():\n",
    "    os_paths = {p: None for p in os.environ.get('PATH', '').split(os.pathsep)}\n",
    "    sys_paths = {p: None for p in sys.path}\n",
    "    other_paths = {os.path.dirname(sys.executable): None}\n",
    "    os.environ['PATH'] = os.pathsep.join({**os_paths, **sys_paths, **other_paths})\n",
    "\n",
    "def _my_dag_pos(dag):\n",
    "    # inferior to pydot\n",
    "    in_degree = {}\n",
    "    for k, v in dag.in_degree():\n",
    "        if v not in in_degree:\n",
    "            in_degree[v] = []\n",
    "        in_degree[v].append(k)\n",
    "\n",
    "    widths = {k: len(vs) for k, vs in in_degree.items()}\n",
    "    width = max(widths.values())\n",
    "    height = max(widths) + 1\n",
    "    \n",
    "    horizontal_pos = {k: np.linspace(0, 1, w+2)[1:-1]*width for k, w in widths.items()}\n",
    "\n",
    "    pos = {}\n",
    "    for k, vs in in_degree.items():\n",
    "        for x, v in zip(horizontal_pos[k], vs):\n",
    "            pos[v] = (x, -k)\n",
    "    return pos"
   ]
  },
  {
   "cell_type": "code",
   "execution_count": null,
   "id": "b6d6e06e-b501-4d3e-8eb6-0d7117abf8e8",
   "metadata": {},
   "outputs": [],
   "source": [
    "dag = create_dag(recnet, models)\n",
    "draw_dag(dag)"
   ]
  },
  {
   "cell_type": "markdown",
   "id": "d081c64c-c42c-467e-885d-6e8db2cf64cc",
   "metadata": {},
   "source": [
    "Note that the DAG depends on the models we supply. We could for example stub one of the sub-netlists by a pre-defined model:"
   ]
  },
  {
   "cell_type": "code",
   "execution_count": null,
   "id": "ebb11e68-ecc3-4d00-9870-b6682e06c39f",
   "metadata": {},
   "outputs": [],
   "source": [
    "dag_ = create_dag(recnet, {**models, 'mzi_delta_length10': mmi2x2})\n",
    "draw_dag(dag_, with_labels=True)"
   ]
  },
  {
   "cell_type": "markdown",
   "id": "b68c2f1a-f062-4f8a-89a5-8608524a5c06",
   "metadata": {},
   "source": [
    "This is useful if we for example pre-calculated a certain model."
   ]
  },
  {
   "cell_type": "markdown",
   "id": "020381f6-872f-4aea-8822-ef1096553dc2",
   "metadata": {},
   "source": [
    "We can easily find the root of the DAG:"
   ]
  },
  {
   "cell_type": "code",
   "execution_count": null,
   "id": "46519602-dafe-497c-98da-b826e981f584",
   "metadata": {},
   "outputs": [],
   "source": [
    "# export\n",
    "def find_root(g):\n",
    "    nodes = [n for n, d in g.in_degree() if d == 0]\n",
    "    return nodes"
   ]
  },
  {
   "cell_type": "code",
   "execution_count": null,
   "id": "11728146-6b54-48f2-acac-c8a5fa4e3b0f",
   "metadata": {},
   "outputs": [],
   "source": [
    "find_root(dag)"
   ]
  },
  {
   "cell_type": "markdown",
   "id": "4e8065d2-19c8-444a-b1c2-ea3c62f90e0a",
   "metadata": {},
   "source": [
    "Similarly we can find the leaves:"
   ]
  },
  {
   "cell_type": "code",
   "execution_count": null,
   "id": "a8383810-969b-46dc-a7b6-e71278690ca7",
   "metadata": {},
   "outputs": [],
   "source": [
    "# export\n",
    "def find_leaves(g):\n",
    "    nodes = [n for n, d in g.out_degree() if d == 0]\n",
    "    return nodes"
   ]
  },
  {
   "cell_type": "code",
   "execution_count": null,
   "id": "7fa9afff-26b5-44cb-90bf-a32ef5e95bf5",
   "metadata": {},
   "outputs": [],
   "source": [
    "find_leaves(dag)"
   ]
  },
  {
   "cell_type": "markdown",
   "id": "59fb221d-951d-44df-a5d9-487a8b4dc4f8",
   "metadata": {},
   "source": [
    "To be able to simulate the circuit, we need to supply a model for each of the leaves in the dependency DAG. Let's write a validator that checks this"
   ]
  },
  {
   "cell_type": "code",
   "execution_count": null,
   "id": "01051732-6599-4863-85ba-4331842f868c",
   "metadata": {},
   "outputs": [],
   "source": [
    "# export\n",
    "def _validate_models(models, dag):\n",
    "    required_models = find_leaves(dag)\n",
    "    missing_models = [m for m in required_models if m not in models]\n",
    "    if missing_models:\n",
    "        model_diff = {\n",
    "            \"Missing Models\": missing_models,\n",
    "            \"Given Models\": list(models),\n",
    "            \"Required Models\": required_models,\n",
    "        }\n",
    "        raise ValueError(\n",
    "            \"Missing models. The following models are still missing to build the circuit:\\n\"\n",
    "            f\"{black.format_str(repr(model_diff), mode=black.Mode())}\"\n",
    "        )\n",
    "    return {**models} # shallow copy"
   ]
  },
  {
   "cell_type": "code",
   "execution_count": null,
   "id": "a97dbe93-a53f-4525-b721-2f329692cdc9",
   "metadata": {},
   "outputs": [],
   "source": [
    "models = _validate_models(models, dag)"
   ]
  },
  {
   "cell_type": "markdown",
   "id": "e9f30a86-aa00-4f51-8b93-3440edc0b46b",
   "metadata": {},
   "source": [
    "We can now dow a bottom-up simulation. Since at the bottom of the DAG, our circuit is always flat (i.e. not hierarchical) we can implement a minimal `_flat_circuit` definition, which only needs to work on a flat (non-hierarchical circuit):"
   ]
  },
  {
   "cell_type": "code",
   "execution_count": null,
   "id": "a46aadd8-e077-4bed-a611-a23b46c02a36",
   "metadata": {},
   "outputs": [],
   "source": [
    "# export\n",
    "def _flat_circuit(instances, connections, ports, models, backend):\n",
    "    evaluate_circuit = circuit_backends[backend]\n",
    "\n",
    "    inst2model = {k: models[inst.component] for k, inst in instances.items()}\n",
    "\n",
    "    model_settings = {name: get_settings(model) for name, model in inst2model.items()}\n",
    "    print(model_settings)\n",
    "    netlist_settings = {\n",
    "        name: {k: v for k, v in (inst.settings or {}).items() if k in model_settings[name]}\n",
    "        for name, inst in instances.items()\n",
    "    }\n",
    "    default_settings = merge_dicts(model_settings, netlist_settings)\n",
    "\n",
    "    def _circuit(**settings: Settings) -> SType:\n",
    "        settings = merge_dicts(default_settings, settings)\n",
    "        settings = _forward_global_settings(inst2model, settings)\n",
    "\n",
    "        instances: Dict[str, SType] = {}\n",
    "        for inst_name, model in inst2model.items():\n",
    "            instances[inst_name] = model(**settings.get(inst_name, {}))\n",
    "        #print(f\"{instances=}\")\n",
    "        #print(f\"{connections=}\")\n",
    "        #print(f\"{ports=}\")\n",
    "        S = evaluate_circuit(instances, connections, ports)\n",
    "        return S\n",
    "\n",
    "    _replace_kwargs(_circuit, **default_settings)\n",
    "\n",
    "    return _circuit\n",
    "\n",
    "def _forward_global_settings(instances, settings):\n",
    "    global_settings = {}\n",
    "    for k in list(settings.keys()):\n",
    "        if k in instances:\n",
    "            continue\n",
    "        global_settings[k] = settings.pop(k)\n",
    "    if global_settings:\n",
    "        settings = update_settings(settings, **global_settings)\n",
    "    return settings"
   ]
  },
  {
   "cell_type": "code",
   "execution_count": null,
   "id": "1f415c32-70e4-4b40-a9e2-051fc187cbb9",
   "metadata": {},
   "outputs": [],
   "source": [
    "flatnet = recnet.__root__['mzi_delta_length10']\n",
    "single_mzi = _flat_circuit(flatnet.instances, flatnet.connections, flatnet.ports, models, \"default\")"
   ]
  },
  {
   "cell_type": "markdown",
   "id": "c4f3375c-baa3-433f-924a-eff50557bf9f",
   "metadata": {},
   "source": [
    "The resulting circuit is just another SAX model (i.e. a python function) returing an SType:"
   ]
  },
  {
   "cell_type": "code",
   "execution_count": null,
   "id": "058740c4-439b-4b00-91e7-15e3e7b6679c",
   "metadata": {},
   "outputs": [],
   "source": [
    "single_mzi?"
   ]
  },
  {
   "cell_type": "markdown",
   "id": "2b2bbe9f-29ac-413a-b0a4-6c51da8689cb",
   "metadata": {},
   "source": [
    "Let's 'execute' the circuit:"
   ]
  },
  {
   "cell_type": "code",
   "execution_count": null,
   "id": "8784bf1b-933f-4dd6-b77b-bf47618168b4",
   "metadata": {},
   "outputs": [],
   "source": [
    "single_mzi()"
   ]
  },
  {
   "cell_type": "markdown",
   "id": "c852f384-c830-47f5-aa75-ee274abbcc35",
   "metadata": {},
   "source": [
    "Now that we can handle flat circuits the extension to hierarchical circuits is not so difficult:"
   ]
  },
  {
   "cell_type": "code",
   "execution_count": null,
   "id": "76b72ddf-ac1e-4c2e-a48c-9b3078812509",
   "metadata": {},
   "outputs": [],
   "source": [
    "# export\n",
    "\n",
    "def circuit(\n",
    "    netlist: Union[Netlist, NetlistDict, RecursiveNetlist, RecursiveNetlistDict],\n",
    "    models: Optional[Dict[str, Model]] = None,\n",
    "    connection_models: Optional[Dict[Tuple(str,str), Model]] = None,\n",
    "    modes: Optional[List[str]] = None,\n",
    "    backend: str = \"default\",\n",
    ") -> Tuple[Model, CircuitInfo]:\n",
    "    netlist = _ensure_recursive_netlist_dict(netlist)\n",
    "    \n",
    "    # TODO: do the following two steps *after* recursive netlist parsing.\n",
    "    netlist = remove_unused_instances(netlist)\n",
    "    netlist, instance_models = _extract_instance_models(netlist)\n",
    "    \n",
    "    recnet: RecursiveNetlist = _validate_net(netlist)\n",
    "\n",
    "    # add connection models into recursive netlist\n",
    "    if connection_models:\n",
    "        recnet, models = _add_connection_models_recursive(recnet, models, connection_models)\n",
    "    \n",
    "    dependency_dag: nx.DiGraph = _validate_dag(create_dag(recnet, models))  # directed acyclic graph\n",
    "    models = _validate_models({**(models or {}), **instance_models}, dependency_dag)\n",
    "    modes = _validate_modes(modes)\n",
    "    backend = _validate_circuit_backend(backend)\n",
    "\n",
    "    circuit = None\n",
    "    new_models = {}\n",
    "    current_models = {}\n",
    "    model_names = list(nx.topological_sort(dependency_dag))[::-1]\n",
    "    for model_name in model_names:\n",
    "        if model_name in models:\n",
    "            new_models[model_name] = models[model_name]\n",
    "            continue\n",
    "\n",
    "        flatnet = recnet.__root__[model_name]\n",
    "\n",
    "        connections, ports, new_models = _make_singlemode_or_multimode(\n",
    "            flatnet, modes, new_models\n",
    "        )\n",
    "        current_models.update(new_models)\n",
    "        new_models = {}\n",
    "\n",
    "        current_models[model_name] = circuit = _flat_circuit(\n",
    "            flatnet.instances, connections, ports, current_models, backend\n",
    "        )\n",
    "\n",
    "    assert circuit is not None\n",
    "    return circuit, CircuitInfo(dag=dependency_dag, models=current_models)\n",
    "\n",
    "class NetlistDict(TypedDict):\n",
    "    instances: Dict\n",
    "    connections: Dict[str, str]\n",
    "    ports: Dict[str, str]\n",
    "    \n",
    "RecursiveNetlistDict = Dict[str, NetlistDict]\n",
    "\n",
    "class CircuitInfo(NamedTuple):\n",
    "    dag: nx.DiGraph\n",
    "    models: Dict[str, Model]\n",
    "\n",
    "def _ensure_recursive_netlist_dict(netlist):\n",
    "    if not isinstance(netlist, dict):\n",
    "        netlist = netlist.dict()\n",
    "    if '__root__' in netlist:\n",
    "        netlist = netlist['__root__']\n",
    "    if 'instances' in netlist:\n",
    "        netlist = {'top_level': netlist}\n",
    "    netlist = {**netlist}\n",
    "    for k, v in netlist.items():\n",
    "        netlist[k] = {**v}\n",
    "    return netlist\n",
    "\n",
    "def _extract_instance_models(netlist):\n",
    "    models = {}\n",
    "    for netname, net in netlist.items():\n",
    "        net = {**net}\n",
    "        net['instances'] = {**net['instances']}\n",
    "        for name, inst in net['instances'].items():\n",
    "            if callable(inst):\n",
    "                settings = get_settings(inst)\n",
    "                if isinstance(inst, partial) and inst.args:\n",
    "                    raise ValueError(\"SAX circuits and netlists don't support partials with positional arguments.\")\n",
    "                while isinstance(inst, partial):\n",
    "                    inst = inst.func\n",
    "                models[inst.__name__] = inst\n",
    "                net['instances'][name] = {\n",
    "                    'component': inst.__name__,\n",
    "                    'settings': settings\n",
    "                }\n",
    "        netlist[netname] = net\n",
    "    return netlist, models\n",
    "\n",
    "\n",
    "def _validate_circuit_backend(backend):\n",
    "    backend = backend.lower()\n",
    "    # assert valid circuit_backend\n",
    "    if backend not in circuit_backends:\n",
    "        raise KeyError(\n",
    "            f\"circuit backend {backend} not found. Allowed circuit backends: \"\n",
    "            f\"{', '.join(circuit_backends.keys())}.\"\n",
    "        )\n",
    "    return backend\n",
    "\n",
    "\n",
    "def _validate_modes(modes) -> List[str]:\n",
    "    if modes is None:\n",
    "        return [\"te\"]\n",
    "    elif not modes:\n",
    "        return [\"te\"]\n",
    "    elif isinstance(modes, str):\n",
    "        return [modes]\n",
    "    elif all(isinstance(m, str) for m in modes):\n",
    "        return modes\n",
    "    else:\n",
    "        raise ValueError(f\"Invalid modes given: {modes}\")\n",
    "\n",
    "\n",
    "def _validate_net(netlist: Union[Netlist, RecursiveNetlist]) -> RecursiveNetlist:\n",
    "    if isinstance(netlist, dict):\n",
    "        try:\n",
    "            netlist = Netlist.parse_obj(netlist)\n",
    "        except ValidationError:\n",
    "            netlist = RecursiveNetlist.parse_obj(netlist)\n",
    "    elif isinstance(netlist, Netlist):\n",
    "        netlist = RecursiveNetlist(__root__={\"top_level\": netlist})\n",
    "    return netlist\n",
    "\n",
    "\n",
    "def _validate_dag(dag):\n",
    "    nodes = find_root(dag)\n",
    "    if len(nodes) > 1:\n",
    "        raise ValueError(f\"Multiple top_levels found in netlist: {nodes}\")\n",
    "    if len(nodes) < 1:\n",
    "        raise ValueError(f\"Netlist does not contain any nodes.\")\n",
    "    if not dag.is_directed():\n",
    "        raise ValueError(\"Netlist dependency cycles detected!\")\n",
    "    return dag\n",
    "\n",
    "\n",
    "def _make_singlemode_or_multimode(netlist, modes, models):\n",
    "    if len(modes) == 1:\n",
    "        connections, ports, models = _make_singlemode(netlist, modes[0], models)\n",
    "    else:\n",
    "        connections, ports, models = _make_multimode(netlist, modes, models)\n",
    "    return connections, ports, models\n",
    "\n",
    "\n",
    "def _make_singlemode(netlist, mode, models):\n",
    "    models = {k: singlemode(m, mode=mode) for k, m in models.items()}\n",
    "    return netlist.connections, netlist.ports, models\n",
    "\n",
    "\n",
    "def _make_multimode(netlist, modes, models):\n",
    "    models = {k: multimode(m, modes=modes) for k, m in models.items()}\n",
    "    connections = {\n",
    "        f\"{p1}@{mode}\": f\"{p2}@{mode}\"\n",
    "        for p1, p2 in netlist.connections.items()\n",
    "        for mode in modes\n",
    "    }\n",
    "    ports = {\n",
    "        f\"{p1}@{mode}\": f\"{p2}@{mode}\"\n",
    "        for p1, p2 in netlist.ports.items()\n",
    "        for mode in modes\n",
    "    }\n",
    "    return connections, ports, models\n",
    "\n",
    "\n",
    "def _add_connection_models_recursive(recnet, models, connection_models):\n",
    "    for net, netlist in recnet.__root__.items():\n",
    "        netlist, models = _add_connection_models(netlist, models, connection_models)\n",
    "    return recnet, models\n",
    "\n",
    "def _add_connection_models(netlist, models, connection_models):\n",
    "    print(netlist.instances)\n",
    "    for (ports1, ports2), connection_model in connection_models.items():\n",
    "        found_connection = False\n",
    "        if (ports1, ports2) in netlist.connections.items():\n",
    "            del netlist.connections[ports1]\n",
    "            port_in, port_out = ports1, ports2\n",
    "            found_connection = True\n",
    "        elif (ports2, ports1) in netlist.connections.items():\n",
    "            del netlist.connections[ports2]\n",
    "            port_in, port_out = ports2, ports1\n",
    "            found_connection = True      \n",
    "        if found_connection:\n",
    "            netlist.connections[port_in] = port_out\n",
    "            # Try adding a dict with \"component\" key\n",
    "            # netlist.instances[f\"{port_in}:{port_out}\"] = {\"component\": f\"{port_in}:{port_out}\", \"settings\": {}}\n",
    "            # Try adding a dummy component\n",
    "            netlist.instances[f\"{port_in}:{port_out}\"] = gf.Component(name=f\"{port_in}:{port_out}\")\n",
    "            models[f\"{port_in}:{port_out}\"] = connection_model\n",
    "    return netlist, models\n",
    "\n",
    "# def _validate_connection_models(recnet, connection_models):\n",
    "#     for key, value in connection_models.items():\n",
    "#         if key not in recnet[\"connections\"]:\n",
    "#             raise ValueError(f\"Found connection model key {key} not in netlist connections.\")\n",
    "\n",
    "#     return connection_models"
   ]
  },
  {
   "cell_type": "markdown",
   "id": "b9558439",
   "metadata": {},
   "source": [
    "# Attempt with notebook 5 example"
   ]
  },
  {
   "cell_type": "code",
   "execution_count": null,
   "id": "6d133b49-6f26-4e01-bcd9-7ca1b76dc55d",
   "metadata": {},
   "outputs": [],
   "source": [
    "double_mzi, info = circuit(recnet, \n",
    "                            models, \n",
    "                            connection_models={(\"test1\", \"test2\"): straight, \n",
    "                                                ('bend_euler_1,o1', 'cp1,o3'): straight\n",
    "                            })\n",
    "double_mzi()"
   ]
  },
  {
   "cell_type": "markdown",
   "id": "f193d842",
   "metadata": {},
   "source": [
    "# Attempt with Quick_Start example"
   ]
  },
  {
   "cell_type": "code",
   "execution_count": null,
   "id": "472b256f",
   "metadata": {},
   "outputs": [],
   "source": [
    "import sax\n",
    "import jax.numpy as jnp\n",
    "\n",
    "def coupler(coupling=0.5) -> sax.SDict:\n",
    "    kappa = coupling ** 0.5\n",
    "    tau = (1 - coupling) ** 0.5\n",
    "    coupler_dict = sax.reciprocal(\n",
    "        {\n",
    "            (\"in0\", \"out0\"): tau,\n",
    "            (\"in0\", \"out1\"): 1j * kappa,\n",
    "            (\"in1\", \"out0\"): 1j * kappa,\n",
    "            (\"in1\", \"out1\"): tau,\n",
    "        }\n",
    "    )\n",
    "    return coupler_dict\n",
    "\n",
    "def waveguide(wl=1.55, wl0=1.55, neff=2.34, ng=3.4, length=10.0, loss=0.0) -> sax.SDict:\n",
    "    dwl = wl - wl0\n",
    "    dneff_dwl = (ng - neff) / wl0\n",
    "    neff = neff - dwl * dneff_dwl\n",
    "    phase = 2 * jnp.pi * neff * length / wl\n",
    "    transmission = 10 ** (-loss * length / 20) * jnp.exp(1j * phase)\n",
    "    sdict = sax.reciprocal(\n",
    "        {\n",
    "            (\"in0\", \"out0\"): transmission,\n",
    "        }\n",
    "    )\n",
    "    return sdict\n",
    "\n",
    "mzi, info = circuit(\n",
    "    netlist={\n",
    "        \"instances\": {\n",
    "            \"lft\": \"coupler\",\n",
    "            \"top\": \"waveguide\",\n",
    "            \"btm\": \"waveguide\",\n",
    "            \"rgt\": \"coupler\",\n",
    "        },\n",
    "        \"connections\": {\n",
    "            \"lft,out0\": \"btm,in0\",\n",
    "            \"btm,out0\": \"rgt,in0\",\n",
    "            \"lft,out1\": \"top,in0\",\n",
    "            \"top,out0\": \"rgt,in1\",\n",
    "        },\n",
    "        \"ports\": {\n",
    "            \"in0\": \"lft,in0\",\n",
    "            \"in1\": \"lft,in1\",\n",
    "            \"out0\": \"rgt,out0\",\n",
    "            \"out1\": \"rgt,out1\",\n",
    "        },\n",
    "    },\n",
    "    models={\n",
    "        \"coupler\": coupler,\n",
    "        \"waveguide\": waveguide,\n",
    "    },\n",
    "    connection_models={(\"test1\", \"test2\"): straight, \n",
    "                        (\"lft,out0\", \"btm,in0\"): straight\n",
    "                            }\n",
    ")"
   ]
  },
  {
   "cell_type": "code",
   "execution_count": null,
   "id": "9b4e7182",
   "metadata": {},
   "outputs": [],
   "source": [
    "mzi()"
   ]
  },
  {
   "cell_type": "code",
   "execution_count": null,
   "id": "88f4df63",
   "metadata": {},
   "outputs": [],
   "source": []
  }
 ],
 "metadata": {
  "kernelspec": {
   "display_name": "Python 3.10.8 ('sax')",
   "language": "python",
   "name": "python3"
  }
 },
 "nbformat": 4,
 "nbformat_minor": 5
}
