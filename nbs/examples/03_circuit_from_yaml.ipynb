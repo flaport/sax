{
 "cells": [
  {
   "cell_type": "markdown",
   "id": "0",
   "metadata": {
    "papermill": {
     "duration": 0.001196,
     "end_time": "2025-06-20T08:28:49.259783",
     "exception": false,
     "start_time": "2025-06-20T08:28:49.258587",
     "status": "completed"
    },
    "tags": []
   },
   "source": [
    "# Circuit from YAML\n",
    "> Sometimes it's useful to be able to define circuits from YAML definitions. To not re-invent the wheel, SAX uses [GDSFactory](https://gdsfactory.readthedocs.io/en/latest/yaml.html)'s YAML netlist spec to define its circuits. This makes it very easy to convert a GDSFactory layout to a SAX circuit model!"
   ]
  },
  {
   "cell_type": "code",
   "execution_count": null,
   "id": "1",
   "metadata": {
    "papermill": {
     "duration": 0.646098,
     "end_time": "2025-06-20T08:28:49.906839",
     "exception": false,
     "start_time": "2025-06-20T08:28:49.260741",
     "status": "completed"
    },
    "tags": []
   },
   "outputs": [],
   "source": [
    "import jax.numpy as jnp\n",
    "import matplotlib.pyplot as plt\n",
    "import yaml\n",
    "\n",
    "import sax"
   ]
  },
  {
   "cell_type": "markdown",
   "id": "2",
   "metadata": {
    "papermill": {
     "duration": 0.001576,
     "end_time": "2025-06-20T08:28:49.910339",
     "exception": false,
     "start_time": "2025-06-20T08:28:49.908763",
     "status": "completed"
    },
    "tags": []
   },
   "source": [
    "## MZI"
   ]
  },
  {
   "cell_type": "markdown",
   "id": "3",
   "metadata": {
    "papermill": {
     "duration": 0.001552,
     "end_time": "2025-06-20T08:28:49.913510",
     "exception": false,
     "start_time": "2025-06-20T08:28:49.911958",
     "status": "completed"
    },
    "tags": []
   },
   "source": [
    "Let's first see how we can define a SAX circuit from YAML:"
   ]
  },
  {
   "cell_type": "code",
   "execution_count": null,
   "id": "4",
   "metadata": {
    "papermill": {
     "duration": 0.006862,
     "end_time": "2025-06-20T08:28:49.921936",
     "exception": false,
     "start_time": "2025-06-20T08:28:49.915074",
     "status": "completed"
    },
    "tags": []
   },
   "outputs": [],
   "source": [
    "netlist = \"\"\"\n",
    "instances:\n",
    "    lft:\n",
    "      component: coupler\n",
    "      settings:\n",
    "          coupling: 0.5\n",
    "    rgt:\n",
    "        component: coupler\n",
    "        settings:\n",
    "            coupling: 0.5\n",
    "    top:\n",
    "        component: straight\n",
    "        settings:\n",
    "            length: 25.0\n",
    "    btm:\n",
    "        component: straight\n",
    "        settings:\n",
    "            length: 15.0\n",
    "\n",
    "connections:\n",
    "    lft,out0: btm,in0\n",
    "    btm,out0: rgt,in0\n",
    "    lft,out1: top,in0\n",
    "    top,out0: rgt,in1\n",
    "\n",
    "ports:\n",
    "    in0:  lft,in0\n",
    "    in1:  lft,in1\n",
    "    out0: rgt,out0\n",
    "    out1: rgt,out1\n",
    "\n",
    "\"\"\""
   ]
  },
  {
   "cell_type": "code",
   "execution_count": null,
   "id": "5",
   "metadata": {
    "papermill": {
     "duration": 0.011028,
     "end_time": "2025-06-20T08:28:49.934739",
     "exception": false,
     "start_time": "2025-06-20T08:28:49.923711",
     "status": "completed"
    },
    "tags": []
   },
   "outputs": [],
   "source": [
    "yaml.safe_load(netlist)"
   ]
  },
  {
   "cell_type": "code",
   "execution_count": null,
   "id": "6",
   "metadata": {
    "papermill": {
     "duration": 1.311126,
     "end_time": "2025-06-20T08:28:51.247848",
     "exception": false,
     "start_time": "2025-06-20T08:28:49.936722",
     "status": "completed"
    },
    "tags": []
   },
   "outputs": [],
   "source": [
    "mzi, _ = sax.circuit(\n",
    "    netlist=yaml.safe_load(netlist),\n",
    "    models={\"coupler\": sax.models.coupler, \"straight\": sax.models.straight},\n",
    ")"
   ]
  },
  {
   "cell_type": "code",
   "execution_count": null,
   "id": "7",
   "metadata": {
    "papermill": {
     "duration": 1.231556,
     "end_time": "2025-06-20T08:28:52.481688",
     "exception": false,
     "start_time": "2025-06-20T08:28:51.250132",
     "status": "completed"
    },
    "tags": []
   },
   "outputs": [],
   "source": [
    "wl = jnp.linspace(1.5, 1.6, 1000)\n",
    "transmission = jnp.abs(mzi(wl=wl)[\"in0\", \"out0\"]) ** 2\n",
    "\n",
    "plt.plot(wl * 1e3, transmission)\n",
    "plt.xlabel(\"λ [nm]\")\n",
    "plt.ylabel(\"T\")\n",
    "plt.show()"
   ]
  },
  {
   "cell_type": "markdown",
   "id": "8",
   "metadata": {
    "papermill": {
     "duration": 0.001558,
     "end_time": "2025-06-20T08:28:52.486933",
     "exception": false,
     "start_time": "2025-06-20T08:28:52.485375",
     "status": "completed"
    },
    "tags": []
   },
   "source": [
    "That was easy! However, during the above YAML conversion, only models available in `sax.models` were used. What if we want to map the YAML component names to custom models? Let's say we want to use a dispersionless waveguide for the above model for example:"
   ]
  },
  {
   "cell_type": "code",
   "execution_count": null,
   "id": "9",
   "metadata": {
    "papermill": {
     "duration": 0.026364,
     "end_time": "2025-06-20T08:28:52.515723",
     "exception": false,
     "start_time": "2025-06-20T08:28:52.489359",
     "status": "completed"
    },
    "tags": []
   },
   "outputs": [],
   "source": [
    "def waveguide_without_dispersion(wl=1.55, length=25.0, neff=2.34):\n",
    "    phase = 2 * jnp.pi * neff * length / wl\n",
    "    sdict = sax.reciprocal({(\"in0\", \"out0\"): jnp.exp(1j * phase)})\n",
    "    return sdict"
   ]
  },
  {
   "cell_type": "markdown",
   "id": "10",
   "metadata": {
    "papermill": {
     "duration": 0.002228,
     "end_time": "2025-06-20T08:28:52.520162",
     "exception": false,
     "start_time": "2025-06-20T08:28:52.517934",
     "status": "completed"
    },
    "tags": []
   },
   "source": [
    "We can regenerate the above circuit again, but this time we specify a models mapping:"
   ]
  },
  {
   "cell_type": "code",
   "execution_count": null,
   "id": "11",
   "metadata": {
    "papermill": {
     "duration": 0.114985,
     "end_time": "2025-06-20T08:28:52.637857",
     "exception": false,
     "start_time": "2025-06-20T08:28:52.522872",
     "status": "completed"
    },
    "tags": []
   },
   "outputs": [],
   "source": [
    "mzi, _ = sax.circuit(\n",
    "    netlist=yaml.safe_load(netlist),\n",
    "    models={\"straight\": waveguide_without_dispersion, \"coupler\": sax.models.coupler},\n",
    ")"
   ]
  },
  {
   "cell_type": "markdown",
   "id": "12",
   "metadata": {
    "papermill": {
     "duration": 0.002676,
     "end_time": "2025-06-20T08:28:52.645892",
     "exception": false,
     "start_time": "2025-06-20T08:28:52.643216",
     "status": "completed"
    },
    "tags": []
   },
   "source": [
    "> The `models=` keyword in `circuit_from_yaml` can be a dictionary **or** an imported python module (like for example `sax.models`). Or a list containing multiple of such dictionary mappings and imported modules."
   ]
  },
  {
   "cell_type": "code",
   "execution_count": null,
   "id": "13",
   "metadata": {
    "papermill": {
     "duration": 0.547993,
     "end_time": "2025-06-20T08:28:53.196544",
     "exception": false,
     "start_time": "2025-06-20T08:28:52.648551",
     "status": "completed"
    },
    "tags": []
   },
   "outputs": [],
   "source": [
    "wl = jnp.linspace(1.5, 1.6, 1000)\n",
    "transmission = jnp.abs(mzi(wl=wl)[\"in0\", \"out0\"]) ** 2\n",
    "\n",
    "plt.plot(wl, transmission)\n",
    "plt.xlabel(\"Wavelength [nm]\")\n",
    "plt.ylabel(\"T\")\n",
    "plt.show()"
   ]
  }
 ],
 "metadata": {
  "kernelspec": {
   "display_name": "sax",
   "language": "python",
   "name": "sax"
  },
  "language_info": {
   "codemirror_mode": {
    "name": "ipython",
    "version": 3
   },
   "file_extension": ".py",
   "mimetype": "text/x-python",
   "name": "python",
   "nbconvert_exporter": "python",
   "pygments_lexer": "ipython3",
   "version": "3.12.10"
  },
  "papermill": {
   "default_parameters": {},
   "duration": 5.405732,
   "end_time": "2025-06-20T08:28:53.823488",
   "environment_variables": {},
   "exception": null,
   "input_path": "nbs/examples/03_circuit_from_yaml.ipynb",
   "output_path": "nbs/examples/03_circuit_from_yaml.ipynb",
   "parameters": {},
   "start_time": "2025-06-20T08:28:48.417756",
   "version": "2.6.0"
  }
 },
 "nbformat": 4,
 "nbformat_minor": 5
}
