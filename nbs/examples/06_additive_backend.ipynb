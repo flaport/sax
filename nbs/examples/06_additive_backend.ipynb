{
 "cells": [
  {
   "cell_type": "markdown",
   "id": "0",
   "metadata": {
    "papermill": {
     "duration": 0.009916,
     "end_time": "2025-02-27T06:29:35.120894",
     "exception": false,
     "start_time": "2025-02-27T06:29:35.110978",
     "status": "completed"
    },
    "tags": []
   },
   "source": [
    "# Additive Backend"
   ]
  },
  {
   "cell_type": "markdown",
   "id": "1",
   "metadata": {
    "papermill": {
     "duration": 0.008428,
     "end_time": "2025-02-27T06:29:35.139199",
     "exception": false,
     "start_time": "2025-02-27T06:29:35.130771",
     "status": "completed"
    },
    "tags": []
   },
   "source": [
    "> The additive backend can be used to obtain pathlengths and group delays."
   ]
  },
  {
   "cell_type": "code",
   "execution_count": null,
   "id": "2",
   "metadata": {
    "papermill": {
     "duration": 2.567004,
     "end_time": "2025-02-27T06:29:37.718523",
     "exception": false,
     "start_time": "2025-02-27T06:29:35.151519",
     "status": "completed"
    },
    "tags": []
   },
   "outputs": [],
   "source": [
    "from functools import partial\n",
    "\n",
    "import jax\n",
    "import jax.example_libraries.optimizers as opt\n",
    "import jax.numpy as jnp\n",
    "import matplotlib.pyplot as plt  # plotting\n",
    "import sax"
   ]
  },
  {
   "cell_type": "markdown",
   "id": "3",
   "metadata": {
    "papermill": {
     "duration": 0.002529,
     "end_time": "2025-02-27T06:29:37.723888",
     "exception": false,
     "start_time": "2025-02-27T06:29:37.721359",
     "status": "completed"
    },
    "tags": []
   },
   "source": [
    "## Parametrized Models"
   ]
  },
  {
   "cell_type": "code",
   "execution_count": null,
   "id": "4",
   "metadata": {
    "papermill": {
     "duration": 0.01207,
     "end_time": "2025-02-27T06:29:37.738529",
     "exception": false,
     "start_time": "2025-02-27T06:29:37.726459",
     "status": "completed"
    },
    "tags": []
   },
   "outputs": [],
   "source": [
    "def coupler(length=50.0) -> sax.SDict:\n",
    "    sdict = {\n",
    "        (\"in0\", \"out0\"): length,\n",
    "        (\"in0\", \"out1\"): length,\n",
    "        (\"in1\", \"out0\"): length,\n",
    "        (\"in1\", \"out1\"): length,\n",
    "    }\n",
    "    return sax.reciprocal(sdict)"
   ]
  },
  {
   "cell_type": "code",
   "execution_count": null,
   "id": "5",
   "metadata": {
    "papermill": {
     "duration": 0.014583,
     "end_time": "2025-02-27T06:29:37.756031",
     "exception": false,
     "start_time": "2025-02-27T06:29:37.741448",
     "status": "completed"
    },
    "tags": []
   },
   "outputs": [],
   "source": [
    "def waveguide(length=100.0) -> sax.SDict:\n",
    "    sdict = {\n",
    "        (\"in0\", \"out0\"): length,\n",
    "    }\n",
    "    return sax.reciprocal(sdict)"
   ]
  },
  {
   "cell_type": "markdown",
   "id": "6",
   "metadata": {
    "papermill": {
     "duration": 0.002627,
     "end_time": "2025-02-27T06:29:37.762033",
     "exception": false,
     "start_time": "2025-02-27T06:29:37.759406",
     "status": "completed"
    },
    "tags": []
   },
   "source": [
    "## Circuit with additive backend"
   ]
  },
  {
   "cell_type": "code",
   "execution_count": null,
   "id": "7",
   "metadata": {
    "papermill": {
     "duration": 0.099559,
     "end_time": "2025-02-27T06:29:37.864214",
     "exception": false,
     "start_time": "2025-02-27T06:29:37.764655",
     "status": "completed"
    },
    "tags": []
   },
   "outputs": [],
   "source": [
    "mzi, _ = sax.circuit(\n",
    "    netlist={\n",
    "        \"instances\": {\n",
    "            \"lft\": coupler,\n",
    "            \"top\": partial(waveguide, length=500),\n",
    "            \"btm\": partial(waveguide, length=100),\n",
    "            \"rgt\": coupler,\n",
    "        },\n",
    "        \"connections\": {\n",
    "            \"lft,out0\": \"btm,in0\",\n",
    "            \"btm,out0\": \"rgt,in0\",\n",
    "            \"lft,out1\": \"top,in0\",\n",
    "            \"top,out0\": \"rgt,in1\",\n",
    "        },\n",
    "        \"ports\": {\n",
    "            \"in0\": \"lft,in0\",\n",
    "            \"in1\": \"lft,in1\",\n",
    "            \"out0\": \"rgt,out0\",\n",
    "            \"out1\": \"rgt,out1\",\n",
    "        },\n",
    "    },\n",
    "    backend=\"additive\",\n",
    ")"
   ]
  },
  {
   "cell_type": "code",
   "execution_count": null,
   "id": "8",
   "metadata": {
    "papermill": {
     "duration": 0.211134,
     "end_time": "2025-02-27T06:29:38.078827",
     "exception": false,
     "start_time": "2025-02-27T06:29:37.867693",
     "status": "completed"
    },
    "tags": []
   },
   "outputs": [],
   "source": [
    "mzi()"
   ]
  }
 ],
 "metadata": {
  "kernelspec": {
   "display_name": "Python 3 (ipykernel)",
   "language": "python",
   "name": "python3"
  },
  "language_info": {
   "codemirror_mode": {
    "name": "ipython",
    "version": 3
   },
   "file_extension": ".py",
   "mimetype": "text/x-python",
   "name": "python",
   "nbconvert_exporter": "python",
   "pygments_lexer": "ipython3",
   "version": "3.12.6"
  },
  "papermill": {
   "default_parameters": {},
   "duration": 5.118261,
   "end_time": "2025-02-27T06:29:38.805383",
   "environment_variables": {},
   "exception": null,
   "input_path": "examples/06_additive_backend.ipynb",
   "output_path": "examples/06_additive_backend.ipynb",
   "parameters": {},
   "start_time": "2025-02-27T06:29:33.687122",
   "version": "2.6.0"
  }
 },
 "nbformat": 4,
 "nbformat_minor": 5
}
