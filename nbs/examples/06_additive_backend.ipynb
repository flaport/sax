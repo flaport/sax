{
 "cells": [
  {
   "cell_type": "markdown",
   "id": "0",
   "metadata": {
    "papermill": {
     "duration": 0.001713,
     "end_time": "2025-06-12T12:18:45.137629",
     "exception": false,
     "start_time": "2025-06-12T12:18:45.135916",
     "status": "completed"
    },
    "tags": []
   },
   "source": [
    "# Additive Backend"
   ]
  },
  {
   "cell_type": "markdown",
   "id": "1",
   "metadata": {
    "papermill": {
     "duration": 0.000796,
     "end_time": "2025-06-12T12:18:45.140756",
     "exception": false,
     "start_time": "2025-06-12T12:18:45.139960",
     "status": "completed"
    },
    "tags": []
   },
   "source": [
    "> The additive backend can be used to obtain pathlengths and group delays."
   ]
  },
  {
   "cell_type": "code",
   "execution_count": null,
   "id": "2",
   "metadata": {
    "papermill": {
     "duration": 2.068598,
     "end_time": "2025-06-12T12:18:47.209979",
     "exception": false,
     "start_time": "2025-06-12T12:18:45.141381",
     "status": "completed"
    },
    "tags": []
   },
   "outputs": [],
   "source": [
    "from functools import partial\n",
    "\n",
    "import sax"
   ]
  },
  {
   "cell_type": "markdown",
   "id": "3",
   "metadata": {
    "papermill": {
     "duration": 0.001281,
     "end_time": "2025-06-12T12:18:47.212810",
     "exception": false,
     "start_time": "2025-06-12T12:18:47.211529",
     "status": "completed"
    },
    "tags": []
   },
   "source": [
    "## Parametrized Models"
   ]
  },
  {
   "cell_type": "code",
   "execution_count": null,
   "id": "4",
   "metadata": {
    "papermill": {
     "duration": 0.007385,
     "end_time": "2025-06-12T12:18:47.221443",
     "exception": false,
     "start_time": "2025-06-12T12:18:47.214058",
     "status": "completed"
    },
    "tags": []
   },
   "outputs": [],
   "source": [
    "def coupler(length=50.0) -> sax.SDict:\n",
    "    sdict = {\n",
    "        (\"in0\", \"out0\"): length,\n",
    "        (\"in0\", \"out1\"): length,\n",
    "        (\"in1\", \"out0\"): length,\n",
    "        (\"in1\", \"out1\"): length,\n",
    "    }\n",
    "    return sax.reciprocal(sdict)"
   ]
  },
  {
   "cell_type": "code",
   "execution_count": null,
   "id": "5",
   "metadata": {
    "papermill": {
     "duration": 0.007602,
     "end_time": "2025-06-12T12:18:47.229821",
     "exception": false,
     "start_time": "2025-06-12T12:18:47.222219",
     "status": "completed"
    },
    "tags": []
   },
   "outputs": [],
   "source": [
    "def waveguide(length=100.0) -> sax.SDict:\n",
    "    sdict = {\n",
    "        (\"in0\", \"out0\"): length,\n",
    "    }\n",
    "    return sax.reciprocal(sdict)"
   ]
  },
  {
   "cell_type": "markdown",
   "id": "6",
   "metadata": {
    "papermill": {
     "duration": 0.000653,
     "end_time": "2025-06-12T12:18:47.231985",
     "exception": false,
     "start_time": "2025-06-12T12:18:47.231332",
     "status": "completed"
    },
    "tags": []
   },
   "source": [
    "## Circuit with additive backend"
   ]
  },
  {
   "cell_type": "code",
   "execution_count": null,
   "id": "7",
   "metadata": {
    "papermill": {
     "duration": 0.121336,
     "end_time": "2025-06-12T12:18:47.354754",
     "exception": false,
     "start_time": "2025-06-12T12:18:47.233418",
     "status": "completed"
    },
    "tags": []
   },
   "outputs": [],
   "source": [
    "mzi, _ = sax.circuit(\n",
    "    netlist={\n",
    "        \"instances\": {\n",
    "            \"lft\": coupler,\n",
    "            \"top\": partial(waveguide, length=500),\n",
    "            \"btm\": partial(waveguide, length=100),\n",
    "            \"rgt\": coupler,\n",
    "        },\n",
    "        \"connections\": {\n",
    "            \"lft,out0\": \"btm,in0\",\n",
    "            \"btm,out0\": \"rgt,in0\",\n",
    "            \"lft,out1\": \"top,in0\",\n",
    "            \"top,out0\": \"rgt,in1\",\n",
    "        },\n",
    "        \"ports\": {\n",
    "            \"in0\": \"lft,in0\",\n",
    "            \"in1\": \"lft,in1\",\n",
    "            \"out0\": \"rgt,out0\",\n",
    "            \"out1\": \"rgt,out1\",\n",
    "        },\n",
    "    },\n",
    "    backend=\"additive\",\n",
    ")"
   ]
  },
  {
   "cell_type": "code",
   "execution_count": null,
   "id": "8",
   "metadata": {
    "papermill": {
     "duration": 0.136835,
     "end_time": "2025-06-12T12:18:47.493362",
     "exception": false,
     "start_time": "2025-06-12T12:18:47.356527",
     "status": "completed"
    },
    "tags": []
   },
   "outputs": [],
   "source": [
    "mzi()"
   ]
  }
 ],
 "metadata": {
  "kernelspec": {
   "display_name": "Python 3 (ipykernel)",
   "language": "python",
   "name": "python3"
  },
  "language_info": {
   "codemirror_mode": {
    "name": "ipython",
    "version": 3
   },
   "file_extension": ".py",
   "mimetype": "text/x-python",
   "name": "python",
   "nbconvert_exporter": "python",
   "pygments_lexer": "ipython3",
   "version": "3.12.10"
  },
  "papermill": {
   "default_parameters": {},
   "duration": 4.18306,
   "end_time": "2025-06-12T12:18:48.016508",
   "environment_variables": {},
   "exception": null,
   "input_path": "nbs/examples/06_additive_backend.ipynb",
   "output_path": "nbs/examples/06_additive_backend.ipynb",
   "parameters": {},
   "start_time": "2025-06-12T12:18:43.833448",
   "version": "2.6.0"
  }
 },
 "nbformat": 4,
 "nbformat_minor": 5
}
