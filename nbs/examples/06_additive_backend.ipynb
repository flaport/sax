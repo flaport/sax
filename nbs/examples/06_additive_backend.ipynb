{
 "cells": [
  {
   "cell_type": "markdown",
   "id": "0",
   "metadata": {
    "papermill": {
     "duration": 0.001149,
     "end_time": "2025-06-12T12:29:44.556308",
     "exception": false,
     "start_time": "2025-06-12T12:29:44.555159",
     "status": "completed"
    },
    "tags": []
   },
   "source": [
    "# Additive Backend"
   ]
  },
  {
   "cell_type": "markdown",
   "id": "1",
   "metadata": {
    "papermill": {
     "duration": 0.000729,
     "end_time": "2025-06-12T12:29:44.557954",
     "exception": false,
     "start_time": "2025-06-12T12:29:44.557225",
     "status": "completed"
    },
    "tags": []
   },
   "source": [
    "> The additive backend can be used to obtain pathlengths and group delays."
   ]
  },
  {
   "cell_type": "code",
   "execution_count": null,
   "id": "2",
   "metadata": {
    "papermill": {
     "duration": 0.620334,
     "end_time": "2025-06-12T12:29:45.178878",
     "exception": false,
     "start_time": "2025-06-12T12:29:44.558544",
     "status": "completed"
    },
    "tags": []
   },
   "outputs": [],
   "source": [
    "from functools import partial\n",
    "\n",
    "import sax"
   ]
  },
  {
   "cell_type": "markdown",
   "id": "3",
   "metadata": {
    "papermill": {
     "duration": 0.00122,
     "end_time": "2025-06-12T12:29:45.181631",
     "exception": false,
     "start_time": "2025-06-12T12:29:45.180411",
     "status": "completed"
    },
    "tags": []
   },
   "source": [
    "## Parametrized Models"
   ]
  },
  {
   "cell_type": "code",
   "execution_count": null,
   "id": "4",
   "metadata": {
    "papermill": {
     "duration": 0.007529,
     "end_time": "2025-06-12T12:29:45.190554",
     "exception": false,
     "start_time": "2025-06-12T12:29:45.183025",
     "status": "completed"
    },
    "tags": []
   },
   "outputs": [],
   "source": [
    "def coupler(length=50.0) -> sax.SDict:\n",
    "    sdict = {\n",
    "        (\"in0\", \"out0\"): length,\n",
    "        (\"in0\", \"out1\"): length,\n",
    "        (\"in1\", \"out0\"): length,\n",
    "        (\"in1\", \"out1\"): length,\n",
    "    }\n",
    "    return sax.reciprocal(sdict)"
   ]
  },
  {
   "cell_type": "code",
   "execution_count": null,
   "id": "5",
   "metadata": {
    "papermill": {
     "duration": 0.007394,
     "end_time": "2025-06-12T12:29:45.199423",
     "exception": false,
     "start_time": "2025-06-12T12:29:45.192029",
     "status": "completed"
    },
    "tags": []
   },
   "outputs": [],
   "source": [
    "def waveguide(length=100.0) -> sax.SDict:\n",
    "    sdict = {\n",
    "        (\"in0\", \"out0\"): length,\n",
    "    }\n",
    "    return sax.reciprocal(sdict)"
   ]
  },
  {
   "cell_type": "markdown",
   "id": "6",
   "metadata": {
    "papermill": {
     "duration": 0.001349,
     "end_time": "2025-06-12T12:29:45.202342",
     "exception": false,
     "start_time": "2025-06-12T12:29:45.200993",
     "status": "completed"
    },
    "tags": []
   },
   "source": [
    "## Circuit with additive backend"
   ]
  },
  {
   "cell_type": "code",
   "execution_count": null,
   "id": "7",
   "metadata": {
    "papermill": {
     "duration": 0.055996,
     "end_time": "2025-06-12T12:29:45.259584",
     "exception": false,
     "start_time": "2025-06-12T12:29:45.203588",
     "status": "completed"
    },
    "tags": []
   },
   "outputs": [],
   "source": [
    "mzi, _ = sax.circuit(\n",
    "    netlist={\n",
    "        \"instances\": {\n",
    "            \"lft\": coupler,\n",
    "            \"top\": partial(waveguide, length=500),\n",
    "            \"btm\": partial(waveguide, length=100),\n",
    "            \"rgt\": coupler,\n",
    "        },\n",
    "        \"connections\": {\n",
    "            \"lft,out0\": \"btm,in0\",\n",
    "            \"btm,out0\": \"rgt,in0\",\n",
    "            \"lft,out1\": \"top,in0\",\n",
    "            \"top,out0\": \"rgt,in1\",\n",
    "        },\n",
    "        \"ports\": {\n",
    "            \"in0\": \"lft,in0\",\n",
    "            \"in1\": \"lft,in1\",\n",
    "            \"out0\": \"rgt,out0\",\n",
    "            \"out1\": \"rgt,out1\",\n",
    "        },\n",
    "    },\n",
    "    backend=\"additive\",\n",
    ")"
   ]
  },
  {
   "cell_type": "code",
   "execution_count": null,
   "id": "8",
   "metadata": {
    "papermill": {
     "duration": 0.122718,
     "end_time": "2025-06-12T12:29:45.383680",
     "exception": false,
     "start_time": "2025-06-12T12:29:45.260962",
     "status": "completed"
    },
    "tags": []
   },
   "outputs": [],
   "source": [
    "mzi()"
   ]
  }
 ],
 "metadata": {
  "kernelspec": {
   "display_name": "sax",
   "language": "python",
   "name": "sax"
  },
  "language_info": {
   "codemirror_mode": {
    "name": "ipython",
    "version": 3
   },
   "file_extension": ".py",
   "mimetype": "text/x-python",
   "name": "python",
   "nbconvert_exporter": "python",
   "pygments_lexer": "ipython3",
   "version": "3.12.10"
  },
  "papermill": {
   "default_parameters": {},
   "duration": 2.110905,
   "end_time": "2025-06-12T12:29:45.805183",
   "environment_variables": {},
   "exception": null,
   "input_path": "nbs/examples/06_additive_backend.ipynb",
   "output_path": "nbs/examples/06_additive_backend.ipynb",
   "parameters": {},
   "start_time": "2025-06-12T12:29:43.694278",
   "version": "2.6.0"
  }
 },
 "nbformat": 4,
 "nbformat_minor": 5
}
