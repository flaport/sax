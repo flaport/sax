{
 "cells": [
  {
   "cell_type": "markdown",
   "id": "0",
   "metadata": {
    "papermill": {
     "duration": 0.00099,
     "end_time": "2025-06-20T08:28:49.378625",
     "exception": false,
     "start_time": "2025-06-20T08:28:49.377635",
     "status": "completed"
    },
    "tags": []
   },
   "source": [
    "# Additive Backend"
   ]
  },
  {
   "cell_type": "markdown",
   "id": "1",
   "metadata": {
    "papermill": {
     "duration": 0.001302,
     "end_time": "2025-06-20T08:28:49.381567",
     "exception": false,
     "start_time": "2025-06-20T08:28:49.380265",
     "status": "completed"
    },
    "tags": []
   },
   "source": [
    "> The additive backend can be used to obtain pathlengths and group delays."
   ]
  },
  {
   "cell_type": "code",
   "execution_count": null,
   "id": "2",
   "metadata": {
    "papermill": {
     "duration": 0.42513,
     "end_time": "2025-06-20T08:28:49.807886",
     "exception": false,
     "start_time": "2025-06-20T08:28:49.382756",
     "status": "completed"
    },
    "tags": []
   },
   "outputs": [],
   "source": [
    "from functools import partial\n",
    "\n",
    "import sax"
   ]
  },
  {
   "cell_type": "markdown",
   "id": "3",
   "metadata": {
    "papermill": {
     "duration": 0.00132,
     "end_time": "2025-06-20T08:28:49.810588",
     "exception": false,
     "start_time": "2025-06-20T08:28:49.809268",
     "status": "completed"
    },
    "tags": []
   },
   "source": [
    "## Parametrized Models"
   ]
  },
  {
   "cell_type": "code",
   "execution_count": null,
   "id": "4",
   "metadata": {
    "papermill": {
     "duration": 0.007692,
     "end_time": "2025-06-20T08:28:49.819517",
     "exception": false,
     "start_time": "2025-06-20T08:28:49.811825",
     "status": "completed"
    },
    "tags": []
   },
   "outputs": [],
   "source": [
    "def coupler(length=50.0) -> sax.SDict:\n",
    "    sdict = {\n",
    "        (\"in0\", \"out0\"): length,\n",
    "        (\"in0\", \"out1\"): length,\n",
    "        (\"in1\", \"out0\"): length,\n",
    "        (\"in1\", \"out1\"): length,\n",
    "    }\n",
    "    return sax.reciprocal(sdict)"
   ]
  },
  {
   "cell_type": "code",
   "execution_count": null,
   "id": "5",
   "metadata": {
    "papermill": {
     "duration": 0.007361,
     "end_time": "2025-06-20T08:28:49.828652",
     "exception": false,
     "start_time": "2025-06-20T08:28:49.821291",
     "status": "completed"
    },
    "tags": []
   },
   "outputs": [],
   "source": [
    "def waveguide(length=100.0) -> sax.SDict:\n",
    "    sdict = {\n",
    "        (\"in0\", \"out0\"): length,\n",
    "    }\n",
    "    return sax.reciprocal(sdict)"
   ]
  },
  {
   "cell_type": "markdown",
   "id": "6",
   "metadata": {
    "papermill": {
     "duration": 0.001527,
     "end_time": "2025-06-20T08:28:49.831840",
     "exception": false,
     "start_time": "2025-06-20T08:28:49.830313",
     "status": "completed"
    },
    "tags": []
   },
   "source": [
    "## Circuit with additive backend"
   ]
  },
  {
   "cell_type": "code",
   "execution_count": null,
   "id": "7",
   "metadata": {
    "papermill": {
     "duration": 0.085839,
     "end_time": "2025-06-20T08:28:49.919399",
     "exception": false,
     "start_time": "2025-06-20T08:28:49.833560",
     "status": "completed"
    },
    "tags": []
   },
   "outputs": [],
   "source": [
    "mzi, _ = sax.circuit(\n",
    "    netlist={\n",
    "        \"instances\": {\n",
    "            \"lft\": coupler,\n",
    "            \"top\": partial(waveguide, length=500),\n",
    "            \"btm\": partial(waveguide, length=100),\n",
    "            \"rgt\": coupler,\n",
    "        },\n",
    "        \"connections\": {\n",
    "            \"lft,out0\": \"btm,in0\",\n",
    "            \"btm,out0\": \"rgt,in0\",\n",
    "            \"lft,out1\": \"top,in0\",\n",
    "            \"top,out0\": \"rgt,in1\",\n",
    "        },\n",
    "        \"ports\": {\n",
    "            \"in0\": \"lft,in0\",\n",
    "            \"in1\": \"lft,in1\",\n",
    "            \"out0\": \"rgt,out0\",\n",
    "            \"out1\": \"rgt,out1\",\n",
    "        },\n",
    "    },\n",
    "    backend=\"additive\",\n",
    ")"
   ]
  },
  {
   "cell_type": "code",
   "execution_count": null,
   "id": "8",
   "metadata": {
    "papermill": {
     "duration": 0.333683,
     "end_time": "2025-06-20T08:28:50.254221",
     "exception": false,
     "start_time": "2025-06-20T08:28:49.920538",
     "status": "completed"
    },
    "tags": []
   },
   "outputs": [],
   "source": [
    "mzi()"
   ]
  }
 ],
 "metadata": {
  "kernelspec": {
   "display_name": "sax",
   "language": "python",
   "name": "sax"
  },
  "language_info": {
   "codemirror_mode": {
    "name": "ipython",
    "version": 3
   },
   "file_extension": ".py",
   "mimetype": "text/x-python",
   "name": "python",
   "nbconvert_exporter": "python",
   "pygments_lexer": "ipython3",
   "version": "3.12.10"
  },
  "papermill": {
   "default_parameters": {},
   "duration": 2.212404,
   "end_time": "2025-06-20T08:28:50.677914",
   "environment_variables": {},
   "exception": null,
   "input_path": "nbs/examples/06_additive_backend.ipynb",
   "output_path": "nbs/examples/06_additive_backend.ipynb",
   "parameters": {},
   "start_time": "2025-06-20T08:28:48.465510",
   "version": "2.6.0"
  }
 },
 "nbformat": 4,
 "nbformat_minor": 5
}
