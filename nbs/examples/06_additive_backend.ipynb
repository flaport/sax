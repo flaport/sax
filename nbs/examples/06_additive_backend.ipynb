{
 "cells": [
  {
   "cell_type": "markdown",
   "id": "0",
   "metadata": {
    "papermill": {
     "duration": 0.001624,
     "end_time": "2025-05-28T18:50:51.271394",
     "exception": false,
     "start_time": "2025-05-28T18:50:51.269770",
     "status": "completed"
    },
    "tags": []
   },
   "source": [
    "# Additive Backend"
   ]
  },
  {
   "cell_type": "markdown",
   "id": "1",
   "metadata": {
    "papermill": {
     "duration": 0.00124,
     "end_time": "2025-05-28T18:50:51.274026",
     "exception": false,
     "start_time": "2025-05-28T18:50:51.272786",
     "status": "completed"
    },
    "tags": []
   },
   "source": [
    "> The additive backend can be used to obtain pathlengths and group delays."
   ]
  },
  {
   "cell_type": "code",
   "execution_count": null,
   "id": "2",
   "metadata": {
    "papermill": {
     "duration": 1.03632,
     "end_time": "2025-05-28T18:50:52.311412",
     "exception": false,
     "start_time": "2025-05-28T18:50:51.275092",
     "status": "completed"
    },
    "tags": []
   },
   "outputs": [],
   "source": [
    "from functools import partial\n",
    "\n",
    "import sax"
   ]
  },
  {
   "cell_type": "markdown",
   "id": "3",
   "metadata": {
    "papermill": {
     "duration": 0.001579,
     "end_time": "2025-05-28T18:50:52.314628",
     "exception": false,
     "start_time": "2025-05-28T18:50:52.313049",
     "status": "completed"
    },
    "tags": []
   },
   "source": [
    "## Parametrized Models"
   ]
  },
  {
   "cell_type": "code",
   "execution_count": null,
   "id": "4",
   "metadata": {
    "papermill": {
     "duration": 0.008674,
     "end_time": "2025-05-28T18:50:52.324823",
     "exception": false,
     "start_time": "2025-05-28T18:50:52.316149",
     "status": "completed"
    },
    "tags": []
   },
   "outputs": [],
   "source": [
    "def coupler(length=50.0) -> sax.SDict:\n",
    "    sdict = {\n",
    "        (\"in0\", \"out0\"): length,\n",
    "        (\"in0\", \"out1\"): length,\n",
    "        (\"in1\", \"out0\"): length,\n",
    "        (\"in1\", \"out1\"): length,\n",
    "    }\n",
    "    return sax.reciprocal(sdict)"
   ]
  },
  {
   "cell_type": "code",
   "execution_count": null,
   "id": "5",
   "metadata": {
    "papermill": {
     "duration": 0.006497,
     "end_time": "2025-05-28T18:50:52.332817",
     "exception": false,
     "start_time": "2025-05-28T18:50:52.326320",
     "status": "completed"
    },
    "tags": []
   },
   "outputs": [],
   "source": [
    "def waveguide(length=100.0) -> sax.SDict:\n",
    "    sdict = {\n",
    "        (\"in0\", \"out0\"): length,\n",
    "    }\n",
    "    return sax.reciprocal(sdict)"
   ]
  },
  {
   "cell_type": "markdown",
   "id": "6",
   "metadata": {
    "papermill": {
     "duration": 0.00128,
     "end_time": "2025-05-28T18:50:52.335639",
     "exception": false,
     "start_time": "2025-05-28T18:50:52.334359",
     "status": "completed"
    },
    "tags": []
   },
   "source": [
    "## Circuit with additive backend"
   ]
  },
  {
   "cell_type": "code",
   "execution_count": null,
   "id": "7",
   "metadata": {
    "papermill": {
     "duration": 0.048489,
     "end_time": "2025-05-28T18:50:52.385312",
     "exception": false,
     "start_time": "2025-05-28T18:50:52.336823",
     "status": "completed"
    },
    "tags": []
   },
   "outputs": [],
   "source": [
    "mzi, _ = sax.circuit(\n",
    "    netlist={\n",
    "        \"instances\": {\n",
    "            \"lft\": coupler,\n",
    "            \"top\": partial(waveguide, length=500),\n",
    "            \"btm\": partial(waveguide, length=100),\n",
    "            \"rgt\": coupler,\n",
    "        },\n",
    "        \"connections\": {\n",
    "            \"lft,out0\": \"btm,in0\",\n",
    "            \"btm,out0\": \"rgt,in0\",\n",
    "            \"lft,out1\": \"top,in0\",\n",
    "            \"top,out0\": \"rgt,in1\",\n",
    "        },\n",
    "        \"ports\": {\n",
    "            \"in0\": \"lft,in0\",\n",
    "            \"in1\": \"lft,in1\",\n",
    "            \"out0\": \"rgt,out0\",\n",
    "            \"out1\": \"rgt,out1\",\n",
    "        },\n",
    "    },\n",
    "    backend=\"additive\",\n",
    ")"
   ]
  },
  {
   "cell_type": "code",
   "execution_count": null,
   "id": "8",
   "metadata": {
    "papermill": {
     "duration": 0.151463,
     "end_time": "2025-05-28T18:50:52.538716",
     "exception": false,
     "start_time": "2025-05-28T18:50:52.387253",
     "status": "completed"
    },
    "tags": []
   },
   "outputs": [],
   "source": [
    "mzi()"
   ]
  }
 ],
 "metadata": {
  "kernelspec": {
   "display_name": "Python 3 (ipykernel)",
   "language": "python",
   "name": "python3"
  },
  "language_info": {
   "codemirror_mode": {
    "name": "ipython",
    "version": 3
   },
   "file_extension": ".py",
   "mimetype": "text/x-python",
   "name": "python",
   "nbconvert_exporter": "python",
   "pygments_lexer": "ipython3",
   "version": "3.12.10"
  },
  "papermill": {
   "default_parameters": {},
   "duration": 2.72868,
   "end_time": "2025-05-28T18:50:53.063641",
   "environment_variables": {},
   "exception": null,
   "input_path": "nbs/examples/06_additive_backend.ipynb",
   "output_path": "nbs/examples/06_additive_backend.ipynb",
   "parameters": {},
   "start_time": "2025-05-28T18:50:50.334961",
   "version": "2.6.0"
  }
 },
 "nbformat": 4,
 "nbformat_minor": 5
}
