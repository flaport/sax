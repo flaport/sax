{
 "cells": [
  {
   "cell_type": "markdown",
   "id": "0",
   "metadata": {
    "papermill": {
     "duration": 0.001281,
     "end_time": "2025-06-19T14:53:06.619845",
     "exception": false,
     "start_time": "2025-06-19T14:53:06.618564",
     "status": "completed"
    },
    "tags": []
   },
   "source": [
    "# Multimode simulations\n",
    "> SAX can handle multiple modes too!"
   ]
  },
  {
   "cell_type": "code",
   "execution_count": null,
   "id": "1",
   "metadata": {
    "papermill": {
     "duration": 0.34305,
     "end_time": "2025-06-19T14:53:06.963930",
     "exception": false,
     "start_time": "2025-06-19T14:53:06.620880",
     "status": "completed"
    },
    "tags": []
   },
   "outputs": [],
   "source": [
    "from itertools import combinations_with_replacement, product\n",
    "\n",
    "import jax.numpy as jnp\n",
    "\n",
    "import sax"
   ]
  },
  {
   "cell_type": "markdown",
   "id": "2",
   "metadata": {
    "papermill": {
     "duration": 0.00128,
     "end_time": "2025-06-19T14:53:06.966719",
     "exception": false,
     "start_time": "2025-06-19T14:53:06.965439",
     "status": "completed"
    },
    "tags": []
   },
   "source": [
    "## Ports and modes per port"
   ]
  },
  {
   "cell_type": "markdown",
   "id": "3",
   "metadata": {
    "papermill": {
     "duration": 0.002153,
     "end_time": "2025-06-19T14:53:06.971185",
     "exception": false,
     "start_time": "2025-06-19T14:53:06.969032",
     "status": "completed"
    },
    "tags": []
   },
   "source": [
    "Let's denote a combination of a port and a mode by a string of the following format: `\"{port}@{mode}\"`. We can obtain all possible port-mode combinations with some magic itertools functions:"
   ]
  },
  {
   "cell_type": "code",
   "execution_count": null,
   "id": "4",
   "metadata": {
    "papermill": {
     "duration": 0.014203,
     "end_time": "2025-06-19T14:53:06.987656",
     "exception": false,
     "start_time": "2025-06-19T14:53:06.973453",
     "status": "completed"
    },
    "tags": []
   },
   "outputs": [],
   "source": [
    "ports = [\"in0\", \"out0\"]\n",
    "modes = [\"TE\", \"TM\"]\n",
    "portmodes = [\n",
    "    (f\"{p1}@{m1}\", f\"{p2}@{m2}\")\n",
    "    for (p1, m1), (p2, m2) in combinations_with_replacement(product(ports, modes), 2)\n",
    "]\n",
    "portmodes"
   ]
  },
  {
   "cell_type": "markdown",
   "id": "5",
   "metadata": {
    "papermill": {
     "duration": 0.002503,
     "end_time": "2025-06-19T14:53:06.992657",
     "exception": false,
     "start_time": "2025-06-19T14:53:06.990154",
     "status": "completed"
    },
    "tags": []
   },
   "source": [
    "If we would disregard any backreflection, this can be further simplified:"
   ]
  },
  {
   "cell_type": "code",
   "execution_count": null,
   "id": "6",
   "metadata": {
    "papermill": {
     "duration": 0.012482,
     "end_time": "2025-06-19T14:53:07.007481",
     "exception": false,
     "start_time": "2025-06-19T14:53:06.994999",
     "status": "completed"
    },
    "tags": []
   },
   "outputs": [],
   "source": [
    "portmodes_without_backreflection = [\n",
    "    (p1, p2) for p1, p2 in portmodes if p1.split(\"@\")[0] != p2.split(\"@\")[0]\n",
    "]\n",
    "portmodes_without_backreflection"
   ]
  },
  {
   "cell_type": "markdown",
   "id": "7",
   "metadata": {
    "papermill": {
     "duration": 0.000988,
     "end_time": "2025-06-19T14:53:07.010081",
     "exception": false,
     "start_time": "2025-06-19T14:53:07.009093",
     "status": "completed"
    },
    "tags": []
   },
   "source": [
    "Sometimes cross-polarization terms can also be ignored:"
   ]
  },
  {
   "cell_type": "code",
   "execution_count": null,
   "id": "8",
   "metadata": {
    "papermill": {
     "duration": 0.009044,
     "end_time": "2025-06-19T14:53:07.021595",
     "exception": false,
     "start_time": "2025-06-19T14:53:07.012551",
     "status": "completed"
    },
    "tags": []
   },
   "outputs": [],
   "source": [
    "portmodes_without_crosspolarization = [\n",
    "    (p1, p2) for p1, p2 in portmodes if p1.split(\"@\")[1] == p2.split(\"@\")[1]\n",
    "]\n",
    "portmodes_without_crosspolarization"
   ]
  },
  {
   "cell_type": "markdown",
   "id": "9",
   "metadata": {
    "papermill": {
     "duration": 0.00234,
     "end_time": "2025-06-19T14:53:07.026142",
     "exception": false,
     "start_time": "2025-06-19T14:53:07.023802",
     "status": "completed"
    },
    "tags": []
   },
   "source": [
    "## Multimode waveguide"
   ]
  },
  {
   "cell_type": "markdown",
   "id": "10",
   "metadata": {
    "papermill": {
     "duration": 0.00335,
     "end_time": "2025-06-19T14:53:07.031803",
     "exception": false,
     "start_time": "2025-06-19T14:53:07.028453",
     "status": "completed"
    },
    "tags": []
   },
   "source": [
    "Let's create a waveguide with two ports (`\"in\"`, `\"out\"`) and two modes (`\"te\"`, `\"tm\"`) without backreflection. Let's assume there is 5% cross-polarization and that the `\"tm\"`->`\"tm\"` transmission is 10% worse than the `\"te\"`->`\"te\"` transmission. Naturally in more realisic waveguide models these percentages will be length-dependent, but this is just a dummy model serving as an example."
   ]
  },
  {
   "cell_type": "code",
   "execution_count": null,
   "id": "11",
   "metadata": {
    "papermill": {
     "duration": 0.089111,
     "end_time": "2025-06-19T14:53:07.123389",
     "exception": false,
     "start_time": "2025-06-19T14:53:07.034278",
     "status": "completed"
    },
    "tags": []
   },
   "outputs": [],
   "source": [
    "def waveguide(wl=1.55, wl0=1.55, neff=2.34, ng=3.4, length=10.0, loss=0.0):\n",
    "    \"\"\"A simple straight waveguide model\n",
    "\n",
    "    Args:\n",
    "        wl: wavelength\n",
    "        neff: waveguide effective index\n",
    "        ng: waveguide group index (used for linear neff dispersion)\n",
    "        wl0: center wavelength at which neff is defined\n",
    "        length: [m] wavelength length\n",
    "        loss: [dB/m] waveguide loss\n",
    "    \"\"\"\n",
    "    dwl = wl - wl0\n",
    "    dneff_dwl = (ng - neff) / wl0\n",
    "    neff = neff - dwl * dneff_dwl\n",
    "    phase = 2 * jnp.pi * neff * length / wl\n",
    "    transmission = 10 ** (-loss * length / 20) * jnp.exp(1j * phase)\n",
    "    sdict = sax.reciprocal(\n",
    "        {\n",
    "            (\"in0@TE\", \"out0@TE\"): 0.95 * transmission,  # 5% lost to cross-polarization\n",
    "            (\"in0@TE\", \"out0@TM\"): 0.05 * transmission,  # 5% cross-polarization\n",
    "            (\"in0@TM\", \"out0@TM\"): 0.85 * transmission,  # 10% worse tm->tm than te->te\n",
    "            (\"in0@TM\", \"out0@TE\"): 0.05 * transmission,  # 5% cross-polarization\n",
    "        }\n",
    "    )\n",
    "    return sdict\n",
    "\n",
    "\n",
    "waveguide()"
   ]
  },
  {
   "cell_type": "markdown",
   "id": "12",
   "metadata": {
    "papermill": {
     "duration": 0.002391,
     "end_time": "2025-06-19T14:53:07.128464",
     "exception": false,
     "start_time": "2025-06-19T14:53:07.126073",
     "status": "completed"
    },
    "tags": []
   },
   "source": [
    "## Multimode Coupler"
   ]
  },
  {
   "cell_type": "code",
   "execution_count": null,
   "id": "13",
   "metadata": {
    "papermill": {
     "duration": 0.008018,
     "end_time": "2025-06-19T14:53:07.138871",
     "exception": false,
     "start_time": "2025-06-19T14:53:07.130853",
     "status": "completed"
    },
    "tags": []
   },
   "outputs": [],
   "source": [
    "def coupler():\n",
    "    return {\n",
    "        (\"in0@TE\", \"out0@TE\"): 0.45**0.5,\n",
    "        (\"in0@TE\", \"out1@TE\"): 1j * 0.45**0.5,\n",
    "        (\"in1@TE\", \"out0@TE\"): 1j * 0.45**0.5,\n",
    "        (\"in1@TE\", \"out1@TE\"): 0.45**0.5,\n",
    "        (\"in0@TM\", \"out0@TM\"): 0.45**0.5,\n",
    "        (\"in0@TM\", \"out1@TM\"): 1j * 0.45**0.5,\n",
    "        (\"in1@TM\", \"out0@TM\"): 1j * 0.45**0.5,\n",
    "        (\"in1@TM\", \"out1@TM\"): 0.45**0.5,\n",
    "        (\"in0@TE\", \"out0@TM\"): 0.01**0.5,\n",
    "        (\"in0@TE\", \"out1@TM\"): 1j * 0.01**0.5,\n",
    "        (\"in1@TE\", \"out0@TM\"): 1j * 0.01**0.5,\n",
    "        (\"in1@TE\", \"out1@TM\"): 0.01**0.5,\n",
    "        (\"in0@TM\", \"out0@TE\"): 0.01**0.5,\n",
    "        (\"in0@TM\", \"out1@TE\"): 1j * 0.01**0.5,\n",
    "        (\"in1@TM\", \"out0@TE\"): 1j * 0.01**0.5,\n",
    "        (\"in1@TM\", \"out1@TE\"): 0.01**0.5,\n",
    "    }"
   ]
  },
  {
   "cell_type": "markdown",
   "id": "14",
   "metadata": {
    "papermill": {
     "duration": 0.002312,
     "end_time": "2025-06-19T14:53:07.143633",
     "exception": false,
     "start_time": "2025-06-19T14:53:07.141321",
     "status": "completed"
    },
    "tags": []
   },
   "source": [
    "## Multimode MZI"
   ]
  },
  {
   "cell_type": "markdown",
   "id": "15",
   "metadata": {
    "papermill": {
     "duration": 0.002388,
     "end_time": "2025-06-19T14:53:07.148370",
     "exception": false,
     "start_time": "2025-06-19T14:53:07.145982",
     "status": "completed"
    },
    "tags": []
   },
   "source": [
    "We can now combine these models into a circuit in much the same way as before. We just need to add the `modes=` keyword:"
   ]
  },
  {
   "cell_type": "code",
   "execution_count": null,
   "id": "16",
   "metadata": {
    "papermill": {
     "duration": 1.186639,
     "end_time": "2025-06-19T14:53:08.337505",
     "exception": false,
     "start_time": "2025-06-19T14:53:07.150866",
     "status": "completed"
    },
    "tags": []
   },
   "outputs": [],
   "source": [
    "mzi, _ = sax.circuit(\n",
    "    netlist={\n",
    "        \"instances\": {\n",
    "            \"lft\": \"coupler\",  # single mode models will be automatically converted to multimode models without cross polarization.\n",
    "            \"top\": {\"component\": \"straight\", \"settings\": {\"length\": 25.0}},\n",
    "            \"btm\": {\"component\": \"straight\", \"settings\": {\"length\": 15.0}},\n",
    "            \"rgt\": \"coupler\",  # single mode models will be automatically converted to multimode models without cross polarization.\n",
    "        },\n",
    "        \"connections\": {\n",
    "            \"lft,out0\": \"btm,in0\",\n",
    "            \"btm,out0\": \"rgt,in0\",\n",
    "            \"lft,out1\": \"top,in0\",\n",
    "            \"top,out0\": \"rgt,in1\",\n",
    "        },\n",
    "        \"ports\": {\n",
    "            \"in0\": \"lft,in0\",\n",
    "            \"in1\": \"lft,in1\",\n",
    "            \"out0\": \"rgt,out0\",\n",
    "            \"out1\": \"rgt,out1\",\n",
    "        },\n",
    "    },\n",
    "    models={\n",
    "        \"coupler\": coupler,\n",
    "        \"straight\": waveguide,\n",
    "    },\n",
    ")"
   ]
  },
  {
   "cell_type": "code",
   "execution_count": null,
   "id": "17",
   "metadata": {
    "papermill": {
     "duration": 0.628012,
     "end_time": "2025-06-19T14:53:08.968467",
     "exception": false,
     "start_time": "2025-06-19T14:53:08.340455",
     "status": "completed"
    },
    "tags": []
   },
   "outputs": [],
   "source": [
    "mzi()"
   ]
  },
  {
   "cell_type": "markdown",
   "id": "18",
   "metadata": {
    "papermill": {
     "duration": 0.001523,
     "end_time": "2025-06-19T14:53:08.972892",
     "exception": false,
     "start_time": "2025-06-19T14:53:08.971369",
     "status": "completed"
    },
    "tags": []
   },
   "source": [
    "we can convert this model back to a singlemode `SDict` as follows:"
   ]
  },
  {
   "cell_type": "code",
   "execution_count": null,
   "id": "19",
   "metadata": {
    "papermill": {
     "duration": 0.065525,
     "end_time": "2025-06-19T14:53:09.041383",
     "exception": false,
     "start_time": "2025-06-19T14:53:08.975858",
     "status": "completed"
    },
    "tags": []
   },
   "outputs": [],
   "source": [
    "mzi_te = sax.singlemode(mzi, mode=\"TE\")\n",
    "mzi_te()"
   ]
  }
 ],
 "metadata": {
  "kernelspec": {
   "display_name": "sax",
   "language": "python",
   "name": "sax"
  },
  "language_info": {
   "codemirror_mode": {
    "name": "ipython",
    "version": 3
   },
   "file_extension": ".py",
   "mimetype": "text/x-python",
   "name": "python",
   "nbconvert_exporter": "python",
   "pygments_lexer": "ipython3",
   "version": "3.12.10"
  },
  "papermill": {
   "default_parameters": {},
   "duration": 3.61029,
   "end_time": "2025-06-19T14:53:09.473832",
   "environment_variables": {},
   "exception": null,
   "input_path": "nbs/examples/04_multimode_simulations.ipynb",
   "output_path": "nbs/examples/04_multimode_simulations.ipynb",
   "parameters": {},
   "start_time": "2025-06-19T14:53:05.863542",
   "version": "2.6.0"
  }
 },
 "nbformat": 4,
 "nbformat_minor": 5
}
