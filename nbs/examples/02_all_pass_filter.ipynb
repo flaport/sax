{
 "cells": [
  {
   "cell_type": "markdown",
   "id": "0",
   "metadata": {
    "papermill": {
     "duration": 0.002367,
     "end_time": "2025-05-28T18:50:51.279316",
     "exception": false,
     "start_time": "2025-05-28T18:50:51.276949",
     "status": "completed"
    },
    "tags": []
   },
   "source": [
    "# Simulating an All-Pass Filter\n",
    "> A simple comparison between an analytical evaluation of an all pass filter and using SAX."
   ]
  },
  {
   "cell_type": "code",
   "execution_count": null,
   "id": "1",
   "metadata": {
    "papermill": {
     "duration": 0.990421,
     "end_time": "2025-05-28T18:50:52.271201",
     "exception": false,
     "start_time": "2025-05-28T18:50:51.280780",
     "status": "completed"
    },
    "tags": []
   },
   "outputs": [],
   "source": [
    "import jax\n",
    "import jax.numpy as jnp\n",
    "import matplotlib.pyplot as plt\n",
    "import sax"
   ]
  },
  {
   "cell_type": "markdown",
   "id": "2",
   "metadata": {
    "papermill": {
     "duration": 0.001643,
     "end_time": "2025-05-28T18:50:52.274950",
     "exception": false,
     "start_time": "2025-05-28T18:50:52.273307",
     "status": "completed"
    },
    "tags": []
   },
   "source": [
    "## Schematic\n",
    "```\n",
    "\n",
    "           in0---out0\n",
    "        in1          out1\n",
    "           \\        /\n",
    "            ========\n",
    "           /        \\\n",
    " in0 <- in0          out0 -> out0\n",
    "```"
   ]
  },
  {
   "cell_type": "markdown",
   "id": "3",
   "metadata": {
    "papermill": {
     "duration": 0.001626,
     "end_time": "2025-05-28T18:50:52.278249",
     "exception": false,
     "start_time": "2025-05-28T18:50:52.276623",
     "status": "completed"
    },
    "tags": []
   },
   "source": [
    "## Simulation & Design Parameters"
   ]
  },
  {
   "cell_type": "code",
   "execution_count": null,
   "id": "4",
   "metadata": {
    "papermill": {
     "duration": 0.062073,
     "end_time": "2025-05-28T18:50:52.341901",
     "exception": false,
     "start_time": "2025-05-28T18:50:52.279828",
     "status": "completed"
    },
    "tags": []
   },
   "outputs": [],
   "source": [
    "loss = 0.1  # [dB/μm] (alpha) waveguide loss\n",
    "neff = 2.34  # Effective index of the waveguides\n",
    "ng = 3.4  # Group index of the waveguides\n",
    "wl0 = 1.55  # [μm] the wavelength at which neff and ng are defined\n",
    "ring_length = 10.0  # [μm] Length of the ring\n",
    "coupling = 0.5  # [] coupling of the coupler\n",
    "wl = jnp.linspace(1.5, 1.6, 1000)  # [μm] Wavelengths to sweep over"
   ]
  },
  {
   "cell_type": "markdown",
   "id": "5",
   "metadata": {
    "papermill": {
     "duration": 0.001485,
     "end_time": "2025-05-28T18:50:52.345070",
     "exception": false,
     "start_time": "2025-05-28T18:50:52.343585",
     "status": "completed"
    },
    "tags": []
   },
   "source": [
    "## Frequency Domain Analytically"
   ]
  },
  {
   "cell_type": "markdown",
   "id": "6",
   "metadata": {
    "papermill": {
     "duration": 0.001342,
     "end_time": "2025-05-28T18:50:52.347954",
     "exception": false,
     "start_time": "2025-05-28T18:50:52.346612",
     "status": "completed"
    },
    "tags": []
   },
   "source": [
    "As a comparison, we first calculate the frequency domain response for the all-pass filter analytically:\n",
    "\\begin{align*}\n",
    "o = \\frac{t-10^{-\\alpha L/20}\\exp(2\\pi j n_{\\rm eff}(\\lambda) L / \\lambda)}{1-t10^{-\\alpha L/20}\\exp(2\\pi j n_{\\rm eff}(\\lambda) L / \\lambda)}s\n",
    "\\end{align*}"
   ]
  },
  {
   "cell_type": "code",
   "execution_count": null,
   "id": "7",
   "metadata": {
    "papermill": {
     "duration": 0.009738,
     "end_time": "2025-05-28T18:50:52.359244",
     "exception": false,
     "start_time": "2025-05-28T18:50:52.349506",
     "status": "completed"
    },
    "tags": []
   },
   "outputs": [],
   "source": [
    "def all_pass_analytical():\n",
    "    \"\"\"Analytic Frequency Domain Response of an all pass filter\"\"\"\n",
    "    detected = jnp.zeros_like(wl)\n",
    "    transmission = 1 - coupling\n",
    "    neff_wl = (\n",
    "        neff + (wl0 - wl) * (ng - neff) / wl0\n",
    "    )  # we expect a linear behavior with respect to wavelength\n",
    "    out = jnp.sqrt(transmission) - 10 ** (-loss * ring_length / 20.0) * jnp.exp(\n",
    "        2j * jnp.pi * neff_wl * ring_length / wl\n",
    "    )\n",
    "    out /= 1 - jnp.sqrt(transmission) * 10 ** (-loss * ring_length / 20.0) * jnp.exp(\n",
    "        2j * jnp.pi * neff_wl * ring_length / wl\n",
    "    )\n",
    "    detected = abs(out) ** 2\n",
    "    return detected"
   ]
  },
  {
   "cell_type": "code",
   "execution_count": null,
   "id": "8",
   "metadata": {
    "papermill": {
     "duration": 0.479263,
     "end_time": "2025-05-28T18:50:52.840133",
     "exception": false,
     "start_time": "2025-05-28T18:50:52.360870",
     "status": "completed"
    },
    "tags": []
   },
   "outputs": [],
   "source": [
    "%time detected = all_pass_analytical() # non-jitted evaluation time\n",
    "all_pass_analytical_jitted = jax.jit(all_pass_analytical)\n",
    "%time detected = all_pass_analytical_jitted() # time to jit\n",
    "%time detected = all_pass_analytical_jitted() # evaluation time after jitting\n",
    "\n",
    "plt.plot(wl * 1e3, detected)\n",
    "plt.xlabel(\"λ [nm]\")\n",
    "plt.ylabel(\"T\")\n",
    "plt.show()"
   ]
  },
  {
   "cell_type": "markdown",
   "id": "9",
   "metadata": {
    "papermill": {
     "duration": 0.001165,
     "end_time": "2025-05-28T18:50:52.844796",
     "exception": false,
     "start_time": "2025-05-28T18:50:52.843631",
     "status": "completed"
    },
    "tags": []
   },
   "source": [
    "## Scatter Dictionaries"
   ]
  },
  {
   "cell_type": "code",
   "execution_count": null,
   "id": "10",
   "metadata": {
    "papermill": {
     "duration": 1.189579,
     "end_time": "2025-05-28T18:50:54.036737",
     "exception": false,
     "start_time": "2025-05-28T18:50:52.847158",
     "status": "completed"
    },
    "tags": []
   },
   "outputs": [],
   "source": [
    "all_pass_sax, _ = sax.circuit(\n",
    "    netlist={\n",
    "        \"instances\": {\n",
    "            \"dc\": {\"component\": \"coupler\", \"settings\": {\"coupling\": coupling}},\n",
    "            \"top\": {\n",
    "                \"component\": \"straight\",\n",
    "                \"settings\": {\n",
    "                    \"length\": ring_length,\n",
    "                    \"loss\": loss,\n",
    "                    \"neff\": neff,\n",
    "                    \"ng\": ng,\n",
    "                    \"wl0\": wl0,\n",
    "                    \"wl\": wl,\n",
    "                },\n",
    "            },\n",
    "        },\n",
    "        \"connections\": {\n",
    "            \"dc,out1\": \"top,in0\",\n",
    "            \"top,out0\": \"dc,in1\",\n",
    "        },\n",
    "        \"ports\": {\n",
    "            \"in0\": \"dc,in0\",\n",
    "            \"out0\": \"dc,out0\",\n",
    "        },\n",
    "    },\n",
    "    models={\n",
    "        \"coupler\": sax.models.coupler,\n",
    "        \"straight\": sax.models.straight,\n",
    "    },\n",
    ")"
   ]
  },
  {
   "cell_type": "code",
   "execution_count": null,
   "id": "11",
   "metadata": {
    "papermill": {
     "duration": 0.5902,
     "end_time": "2025-05-28T18:50:54.628536",
     "exception": false,
     "start_time": "2025-05-28T18:50:54.038336",
     "status": "completed"
    },
    "tags": []
   },
   "outputs": [],
   "source": [
    "%time detected_sax = all_pass_sax() # non-jitted evaluation time\n",
    "all_pass_sax_jitted = jax.jit(all_pass_analytical)\n",
    "%time detected_sax = all_pass_sax_jitted() # time to jit\n",
    "%time detected_sax = all_pass_sax_jitted() # time after jitting\n",
    "\n",
    "plt.plot(wl * 1e3, detected, label=\"analytical\")\n",
    "plt.plot(wl * 1e3, detected_sax, label=\"sax\", ls=\"--\", lw=3)\n",
    "plt.xlabel(\"λ [nm]\")\n",
    "plt.ylabel(\"T\")\n",
    "plt.show()"
   ]
  }
 ],
 "metadata": {
  "kernelspec": {
   "display_name": "Python 3 (ipykernel)",
   "language": "python",
   "name": "python3"
  },
  "language_info": {
   "codemirror_mode": {
    "name": "ipython",
    "version": 3
   },
   "file_extension": ".py",
   "mimetype": "text/x-python",
   "name": "python",
   "nbconvert_exporter": "python",
   "pygments_lexer": "ipython3",
   "version": "3.12.10"
  },
  "papermill": {
   "default_parameters": {},
   "duration": 4.923901,
   "end_time": "2025-05-28T18:50:55.256046",
   "environment_variables": {},
   "exception": null,
   "input_path": "nbs/examples/02_all_pass_filter.ipynb",
   "output_path": "nbs/examples/02_all_pass_filter.ipynb",
   "parameters": {},
   "start_time": "2025-05-28T18:50:50.332145",
   "version": "2.6.0"
  }
 },
 "nbformat": 4,
 "nbformat_minor": 5
}
