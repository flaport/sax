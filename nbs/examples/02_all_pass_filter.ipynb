{
 "cells": [
  {
   "cell_type": "markdown",
   "id": "0",
   "metadata": {
    "papermill": {
     "duration": 0.004219,
     "end_time": "2025-06-12T12:18:45.132684",
     "exception": false,
     "start_time": "2025-06-12T12:18:45.128465",
     "status": "completed"
    },
    "tags": []
   },
   "source": [
    "# Simulating an All-Pass Filter\n",
    "> A simple comparison between an analytical evaluation of an all pass filter and using SAX."
   ]
  },
  {
   "cell_type": "code",
   "execution_count": null,
   "id": "1",
   "metadata": {
    "papermill": {
     "duration": 2.229346,
     "end_time": "2025-06-12T12:18:47.364709",
     "exception": false,
     "start_time": "2025-06-12T12:18:45.135363",
     "status": "completed"
    },
    "tags": []
   },
   "outputs": [],
   "source": [
    "import jax\n",
    "import jax.numpy as jnp\n",
    "import matplotlib.pyplot as plt\n",
    "\n",
    "import sax"
   ]
  },
  {
   "cell_type": "markdown",
   "id": "2",
   "metadata": {
    "papermill": {
     "duration": 0.001549,
     "end_time": "2025-06-12T12:18:47.368283",
     "exception": false,
     "start_time": "2025-06-12T12:18:47.366734",
     "status": "completed"
    },
    "tags": []
   },
   "source": [
    "## Schematic\n",
    "```\n",
    "\n",
    "           in0---out0\n",
    "        in1          out1\n",
    "           \\        /\n",
    "            ========\n",
    "           /        \\\n",
    " in0 <- in0          out0 -> out0\n",
    "```"
   ]
  },
  {
   "cell_type": "markdown",
   "id": "3",
   "metadata": {
    "papermill": {
     "duration": 0.00093,
     "end_time": "2025-06-12T12:18:47.370491",
     "exception": false,
     "start_time": "2025-06-12T12:18:47.369561",
     "status": "completed"
    },
    "tags": []
   },
   "source": [
    "## Simulation & Design Parameters"
   ]
  },
  {
   "cell_type": "code",
   "execution_count": null,
   "id": "4",
   "metadata": {
    "papermill": {
     "duration": 0.063759,
     "end_time": "2025-06-12T12:18:47.435473",
     "exception": false,
     "start_time": "2025-06-12T12:18:47.371714",
     "status": "completed"
    },
    "tags": []
   },
   "outputs": [],
   "source": [
    "loss = 0.1  # [dB/μm] (alpha) waveguide loss\n",
    "neff = 2.34  # Effective index of the waveguides\n",
    "ng = 3.4  # Group index of the waveguides\n",
    "wl0 = 1.55  # [μm] the wavelength at which neff and ng are defined\n",
    "ring_length = 10.0  # [μm] Length of the ring\n",
    "coupling = 0.5  # [] coupling of the coupler\n",
    "wl = jnp.linspace(1.5, 1.6, 1000)  # [μm] Wavelengths to sweep over"
   ]
  },
  {
   "cell_type": "markdown",
   "id": "5",
   "metadata": {
    "papermill": {
     "duration": 0.000728,
     "end_time": "2025-06-12T12:18:47.437617",
     "exception": false,
     "start_time": "2025-06-12T12:18:47.436889",
     "status": "completed"
    },
    "tags": []
   },
   "source": [
    "## Frequency Domain Analytically"
   ]
  },
  {
   "cell_type": "markdown",
   "id": "6",
   "metadata": {
    "papermill": {
     "duration": 0.003523,
     "end_time": "2025-06-12T12:18:47.442886",
     "exception": false,
     "start_time": "2025-06-12T12:18:47.439363",
     "status": "completed"
    },
    "tags": []
   },
   "source": [
    "As a comparison, we first calculate the frequency domain response for the all-pass filter analytically:\n",
    "\\begin{align*}\n",
    "o = \\frac{t-10^{-\\alpha L/20}\\exp(2\\pi j n_{\\rm eff}(\\lambda) L / \\lambda)}{1-t10^{-\\alpha L/20}\\exp(2\\pi j n_{\\rm eff}(\\lambda) L / \\lambda)}s\n",
    "\\end{align*}"
   ]
  },
  {
   "cell_type": "code",
   "execution_count": null,
   "id": "7",
   "metadata": {
    "papermill": {
     "duration": 0.011461,
     "end_time": "2025-06-12T12:18:47.456230",
     "exception": false,
     "start_time": "2025-06-12T12:18:47.444769",
     "status": "completed"
    },
    "tags": []
   },
   "outputs": [],
   "source": [
    "def all_pass_analytical():\n",
    "    \"\"\"Analytic Frequency Domain Response of an all pass filter\"\"\"\n",
    "    detected = jnp.zeros_like(wl)\n",
    "    transmission = 1 - coupling\n",
    "    neff_wl = (\n",
    "        neff + (wl0 - wl) * (ng - neff) / wl0\n",
    "    )  # we expect a linear behavior with respect to wavelength\n",
    "    out = jnp.sqrt(transmission) - 10 ** (-loss * ring_length / 20.0) * jnp.exp(\n",
    "        2j * jnp.pi * neff_wl * ring_length / wl\n",
    "    )\n",
    "    out /= 1 - jnp.sqrt(transmission) * 10 ** (-loss * ring_length / 20.0) * jnp.exp(\n",
    "        2j * jnp.pi * neff_wl * ring_length / wl\n",
    "    )\n",
    "    detected = abs(out) ** 2\n",
    "    return detected"
   ]
  },
  {
   "cell_type": "code",
   "execution_count": null,
   "id": "8",
   "metadata": {
    "papermill": {
     "duration": 0.566048,
     "end_time": "2025-06-12T12:18:48.024149",
     "exception": false,
     "start_time": "2025-06-12T12:18:47.458101",
     "status": "completed"
    },
    "tags": []
   },
   "outputs": [],
   "source": [
    "%time detected = all_pass_analytical() # non-jitted evaluation time\n",
    "all_pass_analytical_jitted = jax.jit(all_pass_analytical)\n",
    "%time detected = all_pass_analytical_jitted() # time to jit\n",
    "%time detected = all_pass_analytical_jitted() # evaluation time after jitting\n",
    "\n",
    "plt.plot(wl * 1e3, detected)\n",
    "plt.xlabel(\"λ [nm]\")\n",
    "plt.ylabel(\"T\")\n",
    "plt.show()"
   ]
  },
  {
   "cell_type": "markdown",
   "id": "9",
   "metadata": {
    "papermill": {
     "duration": 0.002077,
     "end_time": "2025-06-12T12:18:48.028640",
     "exception": false,
     "start_time": "2025-06-12T12:18:48.026563",
     "status": "completed"
    },
    "tags": []
   },
   "source": [
    "## Scatter Dictionaries"
   ]
  },
  {
   "cell_type": "code",
   "execution_count": null,
   "id": "10",
   "metadata": {
    "papermill": {
     "duration": 1.158268,
     "end_time": "2025-06-12T12:18:49.188130",
     "exception": false,
     "start_time": "2025-06-12T12:18:48.029862",
     "status": "completed"
    },
    "tags": []
   },
   "outputs": [],
   "source": [
    "all_pass_sax, _ = sax.circuit(\n",
    "    netlist={\n",
    "        \"instances\": {\n",
    "            \"dc\": {\"component\": \"coupler\", \"settings\": {\"coupling\": coupling}},\n",
    "            \"top\": {\n",
    "                \"component\": \"straight\",\n",
    "                \"settings\": {\n",
    "                    \"length\": ring_length,\n",
    "                    \"loss\": loss,\n",
    "                    \"neff\": neff,\n",
    "                    \"ng\": ng,\n",
    "                    \"wl0\": wl0,\n",
    "                    \"wl\": wl,\n",
    "                },\n",
    "            },\n",
    "        },\n",
    "        \"connections\": {\n",
    "            \"dc,out1\": \"top,in0\",\n",
    "            \"top,out0\": \"dc,in1\",\n",
    "        },\n",
    "        \"ports\": {\n",
    "            \"in0\": \"dc,in0\",\n",
    "            \"out0\": \"dc,out0\",\n",
    "        },\n",
    "    },\n",
    "    models={\n",
    "        \"coupler\": sax.models.coupler,\n",
    "        \"straight\": sax.models.straight,\n",
    "    },\n",
    ")"
   ]
  },
  {
   "cell_type": "code",
   "execution_count": null,
   "id": "11",
   "metadata": {
    "papermill": {
     "duration": 0.738592,
     "end_time": "2025-06-12T12:18:49.928580",
     "exception": false,
     "start_time": "2025-06-12T12:18:49.189988",
     "status": "completed"
    },
    "tags": []
   },
   "outputs": [],
   "source": [
    "%time detected_sax = all_pass_sax() # non-jitted evaluation time\n",
    "all_pass_sax_jitted = jax.jit(all_pass_analytical)\n",
    "%time detected_sax = all_pass_sax_jitted() # time to jit\n",
    "%time detected_sax = all_pass_sax_jitted() # time after jitting\n",
    "\n",
    "plt.plot(wl * 1e3, detected, label=\"analytical\")\n",
    "plt.plot(wl * 1e3, detected_sax, label=\"sax\", ls=\"--\", lw=3)\n",
    "plt.xlabel(\"λ [nm]\")\n",
    "plt.ylabel(\"T\")\n",
    "plt.show()"
   ]
  }
 ],
 "metadata": {
  "kernelspec": {
   "display_name": "sax",
   "language": "python",
   "name": "sax"
  },
  "language_info": {
   "codemirror_mode": {
    "name": "ipython",
    "version": 3
   },
   "file_extension": ".py",
   "mimetype": "text/x-python",
   "name": "python",
   "nbconvert_exporter": "python",
   "pygments_lexer": "ipython3",
   "version": "3.12.10"
  },
  "papermill": {
   "default_parameters": {},
   "duration": 6.726345,
   "end_time": "2025-06-12T12:18:50.559473",
   "environment_variables": {},
   "exception": null,
   "input_path": "nbs/examples/02_all_pass_filter.ipynb",
   "output_path": "nbs/examples/02_all_pass_filter.ipynb",
   "parameters": {},
   "start_time": "2025-06-12T12:18:43.833128",
   "version": "2.6.0"
  }
 },
 "nbformat": 4,
 "nbformat_minor": 5
}
