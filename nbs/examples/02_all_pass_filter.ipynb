{
 "cells": [
  {
   "cell_type": "markdown",
   "id": "0",
   "metadata": {
    "papermill": {
     "duration": 0.001967,
     "end_time": "2025-06-19T15:09:53.068921",
     "exception": false,
     "start_time": "2025-06-19T15:09:53.066954",
     "status": "completed"
    },
    "tags": []
   },
   "source": [
    "# Simulating an All-Pass Filter\n",
    "> A simple comparison between an analytical evaluation of an all pass filter and using SAX."
   ]
  },
  {
   "cell_type": "code",
   "execution_count": null,
   "id": "1",
   "metadata": {
    "papermill": {
     "duration": 0.647697,
     "end_time": "2025-06-19T15:09:53.718332",
     "exception": false,
     "start_time": "2025-06-19T15:09:53.070635",
     "status": "completed"
    },
    "tags": []
   },
   "outputs": [],
   "source": [
    "import jax\n",
    "import jax.numpy as jnp\n",
    "import matplotlib.pyplot as plt\n",
    "\n",
    "import sax"
   ]
  },
  {
   "cell_type": "markdown",
   "id": "2",
   "metadata": {
    "papermill": {
     "duration": 0.00176,
     "end_time": "2025-06-19T15:09:53.722108",
     "exception": false,
     "start_time": "2025-06-19T15:09:53.720348",
     "status": "completed"
    },
    "tags": []
   },
   "source": [
    "## Schematic\n",
    "```\n",
    "\n",
    "           in0---out0\n",
    "        in1          out1\n",
    "           \\        /\n",
    "            ========\n",
    "           /        \\\n",
    " in0 <- in0          out0 -> out0\n",
    "```"
   ]
  },
  {
   "cell_type": "markdown",
   "id": "3",
   "metadata": {
    "papermill": {
     "duration": 0.00075,
     "end_time": "2025-06-19T15:09:53.724362",
     "exception": false,
     "start_time": "2025-06-19T15:09:53.723612",
     "status": "completed"
    },
    "tags": []
   },
   "source": [
    "## Simulation & Design Parameters"
   ]
  },
  {
   "cell_type": "code",
   "execution_count": null,
   "id": "4",
   "metadata": {
    "papermill": {
     "duration": 0.038308,
     "end_time": "2025-06-19T15:09:53.764427",
     "exception": false,
     "start_time": "2025-06-19T15:09:53.726119",
     "status": "completed"
    },
    "tags": []
   },
   "outputs": [],
   "source": [
    "loss = 0.1  # [dB/μm] (alpha) waveguide loss\n",
    "neff = 2.34  # Effective index of the waveguides\n",
    "ng = 3.4  # Group index of the waveguides\n",
    "wl0 = 1.55  # [μm] the wavelength at which neff and ng are defined\n",
    "ring_length = 10.0  # [μm] Length of the ring\n",
    "coupling = 0.5  # [] coupling of the coupler\n",
    "wl = jnp.linspace(1.5, 1.6, 1000)  # [μm] Wavelengths to sweep over"
   ]
  },
  {
   "cell_type": "markdown",
   "id": "5",
   "metadata": {
    "papermill": {
     "duration": 0.001651,
     "end_time": "2025-06-19T15:09:53.767841",
     "exception": false,
     "start_time": "2025-06-19T15:09:53.766190",
     "status": "completed"
    },
    "tags": []
   },
   "source": [
    "## Frequency Domain Analytically"
   ]
  },
  {
   "cell_type": "markdown",
   "id": "6",
   "metadata": {
    "papermill": {
     "duration": 0.001515,
     "end_time": "2025-06-19T15:09:53.770919",
     "exception": false,
     "start_time": "2025-06-19T15:09:53.769404",
     "status": "completed"
    },
    "tags": []
   },
   "source": [
    "As a comparison, we first calculate the frequency domain response for the all-pass filter analytically:\n",
    "\\begin{align*}\n",
    "o = \\frac{t-10^{-\\alpha L/20}\\exp(2\\pi j n_{\\rm eff}(\\lambda) L / \\lambda)}{1-t10^{-\\alpha L/20}\\exp(2\\pi j n_{\\rm eff}(\\lambda) L / \\lambda)}s\n",
    "\\end{align*}"
   ]
  },
  {
   "cell_type": "code",
   "execution_count": null,
   "id": "7",
   "metadata": {
    "papermill": {
     "duration": 0.008331,
     "end_time": "2025-06-19T15:09:53.780787",
     "exception": false,
     "start_time": "2025-06-19T15:09:53.772456",
     "status": "completed"
    },
    "tags": []
   },
   "outputs": [],
   "source": [
    "def all_pass_analytical():\n",
    "    \"\"\"Analytic Frequency Domain Response of an all pass filter\"\"\"\n",
    "    detected = jnp.zeros_like(wl)\n",
    "    transmission = 1 - coupling\n",
    "    neff_wl = (\n",
    "        neff + (wl0 - wl) * (ng - neff) / wl0\n",
    "    )  # we expect a linear behavior with respect to wavelength\n",
    "    out = jnp.sqrt(transmission) - 10 ** (-loss * ring_length / 20.0) * jnp.exp(\n",
    "        2j * jnp.pi * neff_wl * ring_length / wl\n",
    "    )\n",
    "    out /= 1 - jnp.sqrt(transmission) * 10 ** (-loss * ring_length / 20.0) * jnp.exp(\n",
    "        2j * jnp.pi * neff_wl * ring_length / wl\n",
    "    )\n",
    "    detected = abs(out) ** 2\n",
    "    return detected"
   ]
  },
  {
   "cell_type": "code",
   "execution_count": null,
   "id": "8",
   "metadata": {
    "papermill": {
     "duration": 0.447644,
     "end_time": "2025-06-19T15:09:54.230144",
     "exception": false,
     "start_time": "2025-06-19T15:09:53.782500",
     "status": "completed"
    },
    "tags": []
   },
   "outputs": [],
   "source": [
    "%time detected = all_pass_analytical() # non-jitted evaluation time\n",
    "all_pass_analytical_jitted = jax.jit(all_pass_analytical)\n",
    "%time detected = all_pass_analytical_jitted() # time to jit\n",
    "%time detected = all_pass_analytical_jitted() # evaluation time after jitting\n",
    "\n",
    "plt.plot(wl * 1e3, detected)\n",
    "plt.xlabel(\"λ [nm]\")\n",
    "plt.ylabel(\"T\")\n",
    "plt.show()"
   ]
  },
  {
   "cell_type": "markdown",
   "id": "9",
   "metadata": {
    "papermill": {
     "duration": 0.001856,
     "end_time": "2025-06-19T15:09:54.234283",
     "exception": false,
     "start_time": "2025-06-19T15:09:54.232427",
     "status": "completed"
    },
    "tags": []
   },
   "source": [
    "## Scatter Dictionaries"
   ]
  },
  {
   "cell_type": "code",
   "execution_count": null,
   "id": "10",
   "metadata": {
    "papermill": {
     "duration": 1.289766,
     "end_time": "2025-06-19T15:09:55.526080",
     "exception": false,
     "start_time": "2025-06-19T15:09:54.236314",
     "status": "completed"
    },
    "tags": []
   },
   "outputs": [],
   "source": [
    "all_pass_sax, _ = sax.circuit(\n",
    "    netlist={\n",
    "        \"instances\": {\n",
    "            \"dc\": {\"component\": \"coupler\", \"settings\": {\"coupling\": coupling}},\n",
    "            \"top\": {\n",
    "                \"component\": \"straight\",\n",
    "                \"settings\": {\n",
    "                    \"length\": ring_length,\n",
    "                    \"loss\": loss,\n",
    "                    \"neff\": neff,\n",
    "                    \"ng\": ng,\n",
    "                    \"wl0\": wl0,\n",
    "                    \"wl\": wl,\n",
    "                },\n",
    "            },\n",
    "        },\n",
    "        \"connections\": {\n",
    "            \"dc,out1\": \"top,in0\",\n",
    "            \"top,out0\": \"dc,in1\",\n",
    "        },\n",
    "        \"ports\": {\n",
    "            \"in0\": \"dc,in0\",\n",
    "            \"out0\": \"dc,out0\",\n",
    "        },\n",
    "    },\n",
    "    models={\n",
    "        \"coupler\": sax.models.coupler,\n",
    "        \"straight\": sax.models.straight,\n",
    "    },\n",
    ")"
   ]
  },
  {
   "cell_type": "code",
   "execution_count": null,
   "id": "11",
   "metadata": {
    "papermill": {
     "duration": 0.833065,
     "end_time": "2025-06-19T15:09:56.361348",
     "exception": false,
     "start_time": "2025-06-19T15:09:55.528283",
     "status": "completed"
    },
    "tags": []
   },
   "outputs": [],
   "source": [
    "%time detected_sax = all_pass_sax() # non-jitted evaluation time\n",
    "all_pass_sax_jitted = jax.jit(all_pass_analytical)\n",
    "%time detected_sax = all_pass_sax_jitted() # time to jit\n",
    "%time detected_sax = all_pass_sax_jitted() # time after jitting\n",
    "\n",
    "plt.plot(wl * 1e3, detected, label=\"analytical\")\n",
    "plt.plot(wl * 1e3, detected_sax, label=\"sax\", ls=\"--\", lw=3)\n",
    "plt.xlabel(\"λ [nm]\")\n",
    "plt.ylabel(\"T\")\n",
    "plt.show()"
   ]
  }
 ],
 "metadata": {
  "kernelspec": {
   "display_name": "sax",
   "language": "python",
   "name": "sax"
  },
  "language_info": {
   "codemirror_mode": {
    "name": "ipython",
    "version": 3
   },
   "file_extension": ".py",
   "mimetype": "text/x-python",
   "name": "python",
   "nbconvert_exporter": "python",
   "pygments_lexer": "ipython3",
   "version": "3.12.10"
  },
  "papermill": {
   "default_parameters": {},
   "duration": 4.92219,
   "end_time": "2025-06-19T15:09:57.094379",
   "environment_variables": {},
   "exception": null,
   "input_path": "nbs/examples/02_all_pass_filter.ipynb",
   "output_path": "nbs/examples/02_all_pass_filter.ipynb",
   "parameters": {},
   "start_time": "2025-06-19T15:09:52.172189",
   "version": "2.6.0"
  }
 },
 "nbformat": 4,
 "nbformat_minor": 5
}
