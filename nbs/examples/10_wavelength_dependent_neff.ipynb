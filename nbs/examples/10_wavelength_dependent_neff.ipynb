{
 "cells": [
  {
   "cell_type": "markdown",
   "id": "0",
   "metadata": {
    "papermill": {
     "duration": 0.004999,
     "end_time": "2025-06-12T12:29:49.776144",
     "exception": false,
     "start_time": "2025-06-12T12:29:49.771145",
     "status": "completed"
    },
    "tags": []
   },
   "source": [
    "# Wavelength-dependent Effective Index\n",
    "> Sometimes it's useful to have a wavelength-dependent effective index model."
   ]
  },
  {
   "cell_type": "code",
   "execution_count": null,
   "id": "1",
   "metadata": {
    "papermill": {
     "duration": 2.639613,
     "end_time": "2025-06-12T12:29:52.420155",
     "exception": false,
     "start_time": "2025-06-12T12:29:49.780542",
     "status": "completed"
    },
    "tags": []
   },
   "outputs": [],
   "source": [
    "import json\n",
    "from functools import cache\n",
    "from pathlib import Path\n",
    "\n",
    "import jax\n",
    "import jax.numpy as jnp\n",
    "import matplotlib.pyplot as plt\n",
    "import meow as mw\n",
    "import numpy as np\n",
    "import pandas as pd\n",
    "from sklearn.preprocessing import PolynomialFeatures\n",
    "from tqdm.notebook import tqdm\n",
    "\n",
    "import sax"
   ]
  },
  {
   "cell_type": "markdown",
   "id": "2",
   "metadata": {
    "papermill": {
     "duration": 0.002134,
     "end_time": "2025-06-12T12:29:52.425670",
     "exception": false,
     "start_time": "2025-06-12T12:29:52.423536",
     "status": "completed"
    },
    "tags": []
   },
   "source": [
    "## Waveguide Modes\n",
    "\n",
    "> NOTE: this example shows a simple 1D linear interpolated neff model vs wavelength. To see an example of a grid interpolation over wavelength and width, see the 'Layout Aware' example.\n",
    "\n",
    "We can use [meow](https://github.com/flaport/meow) to calculate the modes in our waveguide."
   ]
  },
  {
   "cell_type": "code",
   "execution_count": null,
   "id": "3",
   "metadata": {
    "papermill": {
     "duration": 0.008622,
     "end_time": "2025-06-12T12:29:52.436186",
     "exception": false,
     "start_time": "2025-06-12T12:29:52.427564",
     "status": "completed"
    },
    "tags": []
   },
   "outputs": [],
   "source": [
    "def find_waveguide_modes(\n",
    "    wl: float = 1.55,\n",
    "    n_box: float = 1.4,\n",
    "    n_clad: float = 1.4,\n",
    "    n_core: float = 3.4,\n",
    "    t_slab: float = 0.1,\n",
    "    t_soi: float = 0.22,\n",
    "    w_core: float = 0.45,\n",
    "    du=0.02,\n",
    "    n_modes: int = 10,\n",
    "    cache_path: str | Path = \"modes\",\n",
    "    *,\n",
    "    replace_cached: bool = False,\n",
    "):\n",
    "    length = 10.0\n",
    "    delta = 10 * du\n",
    "    env = mw.Environment(wl=wl)\n",
    "    cache_path = Path(cache_path).resolve()\n",
    "    cache_path.mkdir(exist_ok=True)\n",
    "    fn = f\"{wl=:.2f}-{n_box=:.2f}-{n_clad=:.2f}-{n_core=:.2f}-{t_slab=:.3f}-{t_soi=:.3f}-{w_core=:.3f}-{du=:.3f}-{n_modes=}.json\"\n",
    "    path = cache_path / fn\n",
    "    if not replace_cached and path.exists():\n",
    "        return [mw.Mode.model_validate(mode) for mode in json.loads(path.read_text())]\n",
    "\n",
    "    # fmt: off\n",
    "    m_core = mw.SampledMaterial(name=\"slab\", n=np.asarray([n_core, n_core]), params={\"wl\": np.asarray([1.0, 2.0])}, meta={\"color\": (0.9, 0, 0, 0.9)})\n",
    "    m_clad = mw.SampledMaterial(name=\"clad\", n=np.asarray([n_clad, n_clad]), params={\"wl\": np.asarray([1.0, 2.0])})\n",
    "    m_box = mw.SampledMaterial(name=\"box\", n=np.asarray([n_box, n_box]), params={\"wl\": np.asarray([1.0, 2.0])})\n",
    "    box = mw.Structure(material=m_box, geometry=mw.Box(x_min=- 2 * w_core - delta, x_max= 2 * w_core + delta, y_min=- 2 * t_soi - delta, y_max=0.0, z_min=0.0, z_max=length))\n",
    "    slab = mw.Structure(material=m_core, geometry=mw.Box(x_min=-2 * w_core - delta, x_max=2 * w_core + delta, y_min=0.0, y_max=t_slab, z_min=0.0, z_max=length))\n",
    "    clad = mw.Structure(material=m_clad, geometry=mw.Box(x_min=-2 * w_core - delta, x_max=2 * w_core + delta, y_min=0, y_max=3 * t_soi + delta, z_min=0.0, z_max=length))\n",
    "    core = mw.Structure(material=m_core, geometry=mw.Box(x_min=-w_core / 2, x_max=w_core / 2, y_min=0.0, y_max=t_soi, z_min=0.0, z_max=length))\n",
    "\n",
    "    cell = mw.Cell(structures=[box, clad, slab, core], mesh=mw.Mesh2D( x=np.arange(-2*w_core, 2*w_core, du), y=np.arange(-2*t_soi, 3*t_soi, du) ), z_min=0.0, z_max=10.0)\n",
    "    cross_section = mw.CrossSection.from_cell(cell=cell, env=env)\n",
    "    modes = mw.compute_modes(cross_section, num_modes=n_modes)\n",
    "    # fmt: on\n",
    "\n",
    "    path.write_text(json.dumps([json.loads(mode.model_dump_json()) for mode in modes]))\n",
    "\n",
    "    return modes"
   ]
  },
  {
   "cell_type": "markdown",
   "id": "4",
   "metadata": {
    "papermill": {
     "duration": 0.001587,
     "end_time": "2025-06-12T12:29:52.440857",
     "exception": false,
     "start_time": "2025-06-12T12:29:52.439270",
     "status": "completed"
    },
    "tags": []
   },
   "source": [
    "We can also create a rudimentary model for the silicon refractive index:"
   ]
  },
  {
   "cell_type": "code",
   "execution_count": null,
   "id": "5",
   "metadata": {
    "papermill": {
     "duration": 0.007353,
     "end_time": "2025-06-12T12:29:52.451359",
     "exception": false,
     "start_time": "2025-06-12T12:29:52.444006",
     "status": "completed"
    },
    "tags": []
   },
   "outputs": [],
   "source": [
    "def silicon_index(wl):\n",
    "    \"\"\"A rudimentary silicon refractive index model\"\"\"\n",
    "    a, b = 0.2411478522088102, 3.3229394315868976\n",
    "    return a / wl + b"
   ]
  },
  {
   "cell_type": "markdown",
   "id": "6",
   "metadata": {
    "papermill": {
     "duration": 0.001613,
     "end_time": "2025-06-12T12:29:52.454624",
     "exception": false,
     "start_time": "2025-06-12T12:29:52.453011",
     "status": "completed"
    },
    "tags": []
   },
   "source": [
    "We can now easily calculate the modes of a strip waveguide:"
   ]
  },
  {
   "cell_type": "code",
   "execution_count": null,
   "id": "7",
   "metadata": {
    "papermill": {
     "duration": 0.089543,
     "end_time": "2025-06-12T12:29:52.547375",
     "exception": false,
     "start_time": "2025-06-12T12:29:52.457832",
     "status": "completed"
    },
    "tags": []
   },
   "outputs": [],
   "source": [
    "modes = find_waveguide_modes(wl=1.5, n_core=silicon_index(wl=1.5))"
   ]
  },
  {
   "cell_type": "markdown",
   "id": "8",
   "metadata": {
    "papermill": {
     "duration": 0.001464,
     "end_time": "2025-06-12T12:29:52.550712",
     "exception": false,
     "start_time": "2025-06-12T12:29:52.549248",
     "status": "completed"
    },
    "tags": []
   },
   "source": [
    "The fundamental mode is the mode with index 0:"
   ]
  },
  {
   "cell_type": "code",
   "execution_count": null,
   "id": "9",
   "metadata": {
    "papermill": {
     "duration": 0.082738,
     "end_time": "2025-06-12T12:29:52.635260",
     "exception": false,
     "start_time": "2025-06-12T12:29:52.552522",
     "status": "completed"
    },
    "tags": []
   },
   "outputs": [],
   "source": [
    "mw.visualize(modes[0])"
   ]
  },
  {
   "cell_type": "markdown",
   "id": "10",
   "metadata": {
    "papermill": {
     "duration": 0.00211,
     "end_time": "2025-06-12T12:29:52.641242",
     "exception": false,
     "start_time": "2025-06-12T12:29:52.639132",
     "status": "completed"
    },
    "tags": []
   },
   "source": [
    "## Interpolated Effective Index Model"
   ]
  },
  {
   "cell_type": "markdown",
   "id": "11",
   "metadata": {
    "papermill": {
     "duration": 0.001791,
     "end_time": "2025-06-12T12:29:52.644874",
     "exception": false,
     "start_time": "2025-06-12T12:29:52.643083",
     "status": "completed"
    },
    "tags": []
   },
   "source": [
    "```{note}\n",
    "An interpolated effective index model is the easiest way to convert simulation data to a SAX model. However please never interpolated noisy data (e.g. from measurements). To handle noisy data see [Effective Index Model Fitting](#effective-index-model-fitting).\n",
    "```"
   ]
  },
  {
   "cell_type": "code",
   "execution_count": null,
   "id": "12",
   "metadata": {
    "papermill": {
     "duration": 0.982862,
     "end_time": "2025-06-12T12:29:53.629832",
     "exception": false,
     "start_time": "2025-06-12T12:29:52.646970",
     "status": "completed"
    },
    "tags": []
   },
   "outputs": [],
   "source": [
    "wavelengths = np.linspace(1.0, 2.0, 11)\n",
    "neffs = np.zeros_like(wavelengths)\n",
    "for i, wl in enumerate(tqdm(wavelengths)):\n",
    "    modes = find_waveguide_modes(\n",
    "        wl=wl, n_core=silicon_index(wl), w_core=0.5, replace_cached=False\n",
    "    )\n",
    "    neffs[i] = np.real(modes[0].neff)"
   ]
  },
  {
   "cell_type": "markdown",
   "id": "13",
   "metadata": {
    "papermill": {
     "duration": 0.001809,
     "end_time": "2025-06-12T12:29:53.633705",
     "exception": false,
     "start_time": "2025-06-12T12:29:53.631896",
     "status": "completed"
    },
    "tags": []
   },
   "source": [
    "This results in the following effective indices:"
   ]
  },
  {
   "cell_type": "code",
   "execution_count": null,
   "id": "14",
   "metadata": {
    "papermill": {
     "duration": 0.031925,
     "end_time": "2025-06-12T12:29:53.667551",
     "exception": false,
     "start_time": "2025-06-12T12:29:53.635626",
     "status": "completed"
    },
    "tags": []
   },
   "outputs": [],
   "source": [
    "plt.figure(figsize=(8, 3))\n",
    "plt.plot(wavelengths * 1000, neffs)\n",
    "plt.ylabel(\"neff\")\n",
    "plt.xlabel(\"λ [nm]\")\n",
    "plt.title(\"Effective Index\")\n",
    "plt.grid(True)\n",
    "plt.show()"
   ]
  },
  {
   "cell_type": "markdown",
   "id": "15",
   "metadata": {
    "papermill": {
     "duration": 0.001852,
     "end_time": "2025-06-12T12:29:53.671399",
     "exception": false,
     "start_time": "2025-06-12T12:29:53.669547",
     "status": "completed"
    },
    "tags": []
   },
   "source": [
    "We can store the data in a csv:"
   ]
  },
  {
   "cell_type": "code",
   "execution_count": null,
   "id": "16",
   "metadata": {
    "papermill": {
     "duration": 0.006461,
     "end_time": "2025-06-12T12:29:53.679777",
     "exception": false,
     "start_time": "2025-06-12T12:29:53.673316",
     "status": "completed"
    },
    "tags": []
   },
   "outputs": [],
   "source": [
    "df = pd.DataFrame({\"wl\": wavelengths, \"neff\": neffs})\n",
    "df.to_csv(\"neff_data.csv\", index=False)"
   ]
  },
  {
   "cell_type": "markdown",
   "id": "17",
   "metadata": {
    "papermill": {
     "duration": 0.001991,
     "end_time": "2025-06-12T12:29:53.683926",
     "exception": false,
     "start_time": "2025-06-12T12:29:53.681935",
     "status": "completed"
    },
    "tags": []
   },
   "source": [
    "First, define a cached data loader:"
   ]
  },
  {
   "cell_type": "code",
   "execution_count": null,
   "id": "18",
   "metadata": {
    "papermill": {
     "duration": 0.005098,
     "end_time": "2025-06-12T12:29:53.690810",
     "exception": false,
     "start_time": "2025-06-12T12:29:53.685712",
     "status": "completed"
    },
    "tags": []
   },
   "outputs": [],
   "source": [
    "@cache\n",
    "def load_neff_data():\n",
    "    df = pd.read_csv(\"neff_data.csv\")\n",
    "    wls = jnp.asarray(df[\"wl\"].values)  # convert to JAX array\n",
    "    neffs = jnp.asarray(df[\"neff\"].values)  # convert to JAX array\n",
    "    return wls, neffs"
   ]
  },
  {
   "cell_type": "markdown",
   "id": "19",
   "metadata": {
    "papermill": {
     "duration": 0.001795,
     "end_time": "2025-06-12T12:29:53.694564",
     "exception": false,
     "start_time": "2025-06-12T12:29:53.692769",
     "status": "completed"
    },
    "tags": []
   },
   "source": [
    "We can do a simple interpolation on the effective index:"
   ]
  },
  {
   "cell_type": "code",
   "execution_count": null,
   "id": "20",
   "metadata": {
    "papermill": {
     "duration": 0.005219,
     "end_time": "2025-06-12T12:29:53.701602",
     "exception": false,
     "start_time": "2025-06-12T12:29:53.696383",
     "status": "completed"
    },
    "tags": []
   },
   "outputs": [],
   "source": [
    "def interp_neff(wl=1.5):\n",
    "    # usually we put data loading in a block like this\n",
    "    # to tell JAX this part of the code should not be traced while jitting:\n",
    "    with jax.ensure_compile_time_eval():\n",
    "        wls, neffs = load_neff_data()\n",
    "\n",
    "    # next make sure 'wl' is an array\n",
    "    wl = jnp.asarray(wl)\n",
    "\n",
    "    # now, interpolate\n",
    "    # return jnp.interp(wl, wls, neffs)\n",
    "\n",
    "    # it's actually slightly better to interpolate effective\n",
    "    # indices in the frequency domain because neff is more\n",
    "    # linear in that representation:\n",
    "    return jnp.interp(\n",
    "        1 / wl, 1 / wls[::-1], neffs[::-1]\n",
    "    )  # jnp.interp expects neffs to be sorted low to high. We're inverting the direction when taking the inverse:"
   ]
  },
  {
   "cell_type": "markdown",
   "id": "21",
   "metadata": {
    "papermill": {
     "duration": 0.001865,
     "end_time": "2025-06-12T12:29:53.705702",
     "exception": false,
     "start_time": "2025-06-12T12:29:53.703837",
     "status": "completed"
    },
    "tags": []
   },
   "source": [
    "```{note}\n",
    "If you want something fancier than linear interpolation, check out [interpax](https://github.com/f0uriest/interpax), which allows for cubic interpolation in jax on 1D (e.g. wl), 2D (e.g. wl and width) and 3D (e.g. wl, width and temperature) data.\n",
    "```"
   ]
  },
  {
   "cell_type": "markdown",
   "id": "22",
   "metadata": {
    "papermill": {
     "duration": 0.001737,
     "end_time": "2025-06-12T12:29:53.709154",
     "exception": false,
     "start_time": "2025-06-12T12:29:53.707417",
     "status": "completed"
    },
    "tags": []
   },
   "source": [
    "That's it! You can now create a waveguide model as follows:"
   ]
  },
  {
   "cell_type": "code",
   "execution_count": null,
   "id": "23",
   "metadata": {
    "papermill": {
     "duration": 0.00576,
     "end_time": "2025-06-12T12:29:53.716685",
     "exception": false,
     "start_time": "2025-06-12T12:29:53.710925",
     "status": "completed"
    },
    "tags": []
   },
   "outputs": [],
   "source": [
    "def straight(\n",
    "    *,\n",
    "    wl=1.55,\n",
    "    length: float = 10.0,\n",
    "    loss: float = 0.0,\n",
    "):\n",
    "    \"\"\"A simple straight waveguide model.\n",
    "\n",
    "    Args:\n",
    "        wl: wavelength in microns.\n",
    "        length: length of the waveguide in microns.\n",
    "        loss: loss in dB/cm.\n",
    "    \"\"\"\n",
    "    neff = interp_neff(wl)\n",
    "    phase = 2 * jnp.pi * neff * length / wl\n",
    "    amplitude = jnp.asarray(10 ** (-loss * length / 20), dtype=complex)\n",
    "    transmission = amplitude * jnp.exp(1j * phase)\n",
    "    return sax.reciprocal(\n",
    "        {\n",
    "            (\"in0\", \"out0\"): transmission,\n",
    "        }\n",
    "    )"
   ]
  },
  {
   "cell_type": "code",
   "execution_count": null,
   "id": "24",
   "metadata": {
    "papermill": {
     "duration": 0.205949,
     "end_time": "2025-06-12T12:29:53.924609",
     "exception": false,
     "start_time": "2025-06-12T12:29:53.718660",
     "status": "completed"
    },
    "tags": []
   },
   "outputs": [],
   "source": [
    "straight()"
   ]
  },
  {
   "cell_type": "markdown",
   "id": "25",
   "metadata": {
    "papermill": {
     "duration": 0.002131,
     "end_time": "2025-06-12T12:29:53.929193",
     "exception": false,
     "start_time": "2025-06-12T12:29:53.927062",
     "status": "completed"
    },
    "tags": []
   },
   "source": [
    "```{note}\n",
    "Note that we don't need the group index for this model! All the group index info is actually already available in the effective index model through `ng = neff - λ dneff/dλ`.\n",
    "```"
   ]
  },
  {
   "cell_type": "markdown",
   "id": "26",
   "metadata": {
    "papermill": {
     "duration": 0.001907,
     "end_time": "2025-06-12T12:29:53.933069",
     "exception": false,
     "start_time": "2025-06-12T12:29:53.931162",
     "status": "completed"
    },
    "tags": []
   },
   "source": [
    "## Effective Index Model Fitting"
   ]
  },
  {
   "cell_type": "markdown",
   "id": "27",
   "metadata": {
    "papermill": {
     "duration": 0.002091,
     "end_time": "2025-06-12T12:29:53.936944",
     "exception": false,
     "start_time": "2025-06-12T12:29:53.934853",
     "status": "completed"
    },
    "tags": []
   },
   "source": [
    "interpolating is a good choice when using 'clean' simulation data. However, when using noisy measurement data we might need something else."
   ]
  },
  {
   "cell_type": "markdown",
   "id": "28",
   "metadata": {
    "papermill": {
     "duration": 0.001859,
     "end_time": "2025-06-12T12:29:53.940609",
     "exception": false,
     "start_time": "2025-06-12T12:29:53.938750",
     "status": "completed"
    },
    "tags": []
   },
   "source": [
    "Let's create a fake 'noisy measurement' by adding noise to our interpolated model:"
   ]
  },
  {
   "cell_type": "code",
   "execution_count": null,
   "id": "29",
   "metadata": {
    "papermill": {
     "duration": 0.005469,
     "end_time": "2025-06-12T12:29:53.947904",
     "exception": false,
     "start_time": "2025-06-12T12:29:53.942435",
     "status": "completed"
    },
    "tags": []
   },
   "outputs": [],
   "source": [
    "def measure_neff(wls, std=0.01, random_state=np.random):\n",
    "    wls = jnp.array(wls)\n",
    "    return interp_neff(wls) * (1 + std * random_state.randn(*wls.shape))"
   ]
  },
  {
   "cell_type": "markdown",
   "id": "30",
   "metadata": {
    "papermill": {
     "duration": 0.002084,
     "end_time": "2025-06-12T12:29:53.952052",
     "exception": false,
     "start_time": "2025-06-12T12:29:53.949968",
     "status": "completed"
    },
    "tags": []
   },
   "source": [
    "We can do 20 measurements for example:"
   ]
  },
  {
   "cell_type": "code",
   "execution_count": null,
   "id": "31",
   "metadata": {
    "papermill": {
     "duration": 0.081714,
     "end_time": "2025-06-12T12:29:54.035761",
     "exception": false,
     "start_time": "2025-06-12T12:29:53.954047",
     "status": "completed"
    },
    "tags": []
   },
   "outputs": [],
   "source": [
    "random_state = np.random.RandomState(seed=42)\n",
    "measured_neff = np.stack(\n",
    "    [measure_neff(wavelengths, random_state=random_state) for _ in range(20)], 0\n",
    ")"
   ]
  },
  {
   "cell_type": "code",
   "execution_count": null,
   "id": "32",
   "metadata": {
    "papermill": {
     "duration": 0.040378,
     "end_time": "2025-06-12T12:29:54.078388",
     "exception": false,
     "start_time": "2025-06-12T12:29:54.038010",
     "status": "completed"
    },
    "tags": []
   },
   "outputs": [],
   "source": [
    "plt.plot(\n",
    "    1000 * wavelengths, measured_neff.T, marker=\"o\", ls=\"none\", color=\"C0\", alpha=0.2\n",
    ")\n",
    "plt.grid(True)\n",
    "plt.xlabel(\"Wavelength [nm]\")\n",
    "plt.ylabel(\"neff\")\n",
    "plt.title(\"neff measurements\")\n",
    "plt.show()"
   ]
  },
  {
   "cell_type": "code",
   "execution_count": null,
   "id": "33",
   "metadata": {
    "papermill": {
     "duration": 0.008304,
     "end_time": "2025-06-12T12:29:54.089074",
     "exception": false,
     "start_time": "2025-06-12T12:29:54.080770",
     "status": "completed"
    },
    "tags": []
   },
   "outputs": [],
   "source": [
    "poly = PolynomialFeatures(degree=2, include_bias=True)\n",
    "poly.fit(measured_neff, wavelengths)\n",
    "poly.transform(measured_neff)"
   ]
  },
  {
   "cell_type": "code",
   "execution_count": null,
   "id": "34",
   "metadata": {
    "papermill": {
     "duration": 0.006643,
     "end_time": "2025-06-12T12:29:54.098101",
     "exception": false,
     "start_time": "2025-06-12T12:29:54.091458",
     "status": "completed"
    },
    "tags": []
   },
   "outputs": [],
   "source": [
    "coeffs = np.polyfit(\n",
    "    x=np.stack([wavelengths for _ in measured_neff]).ravel(),\n",
    "    y=measured_neff.ravel(),\n",
    "    deg=2,\n",
    ")"
   ]
  },
  {
   "cell_type": "code",
   "execution_count": null,
   "id": "35",
   "metadata": {
    "papermill": {
     "duration": 0.005365,
     "end_time": "2025-06-12T12:29:54.105955",
     "exception": false,
     "start_time": "2025-06-12T12:29:54.100590",
     "status": "completed"
    },
    "tags": []
   },
   "outputs": [],
   "source": [
    "def fitted_neff(wl=1.5):\n",
    "    # always make sure its an array:\n",
    "    wl = jnp.asarray(wl)\n",
    "\n",
    "    # it's fine to hardoce a few coefficients:\n",
    "    coeffs = jnp.asarray([0.14164498, -1.28752935, 4.24077288])\n",
    "\n",
    "    return coeffs[-1] + coeffs[-2] * wl + coeffs[-3] * wl**2"
   ]
  },
  {
   "cell_type": "markdown",
   "id": "36",
   "metadata": {
    "papermill": {
     "duration": 0.002161,
     "end_time": "2025-06-12T12:29:54.110350",
     "exception": false,
     "start_time": "2025-06-12T12:29:54.108189",
     "status": "completed"
    },
    "tags": []
   },
   "source": [
    "Let's plot the fitted model:"
   ]
  },
  {
   "cell_type": "code",
   "execution_count": null,
   "id": "37",
   "metadata": {
    "papermill": {
     "duration": 0.147383,
     "end_time": "2025-06-12T12:29:54.259734",
     "exception": false,
     "start_time": "2025-06-12T12:29:54.112351",
     "status": "completed"
    },
    "tags": []
   },
   "outputs": [],
   "source": [
    "plt.plot(\n",
    "    1000 * wavelengths, measured_neff.T, marker=\"o\", ls=\"none\", color=\"C0\", alpha=0.2\n",
    ")\n",
    "plt.plot(1000 * wavelengths, fitted_neff(wavelengths), color=\"C1\", label=\"fit\")\n",
    "plt.legend()\n",
    "plt.grid(True)\n",
    "plt.xlabel(\"Wavelength [nm]\")\n",
    "plt.ylabel(\"neff\")\n",
    "plt.title(\"neff measurements\")\n",
    "plt.show()"
   ]
  },
  {
   "cell_type": "markdown",
   "id": "38",
   "metadata": {
    "papermill": {
     "duration": 0.002323,
     "end_time": "2025-06-12T12:29:54.264966",
     "exception": false,
     "start_time": "2025-06-12T12:29:54.262643",
     "status": "completed"
    },
    "tags": []
   },
   "source": [
    "> NOTE:  In fact it's probably better to fit in the frequency domain, since then you could probably fit with just a straight line. I leave this as an exercise to the reader 🙂"
   ]
  },
  {
   "cell_type": "markdown",
   "id": "39",
   "metadata": {
    "papermill": {
     "duration": 0.002117,
     "end_time": "2025-06-12T12:29:54.269510",
     "exception": false,
     "start_time": "2025-06-12T12:29:54.267393",
     "status": "completed"
    },
    "tags": []
   },
   "source": [
    "This is now our final straight model:"
   ]
  },
  {
   "cell_type": "code",
   "execution_count": null,
   "id": "40",
   "metadata": {
    "papermill": {
     "duration": 0.006026,
     "end_time": "2025-06-12T12:29:54.277644",
     "exception": false,
     "start_time": "2025-06-12T12:29:54.271618",
     "status": "completed"
    },
    "tags": []
   },
   "outputs": [],
   "source": [
    "def straight(\n",
    "    *,\n",
    "    wl=1.55,\n",
    "    length: float = 10.0,\n",
    "    loss: float = 0.0,\n",
    "):\n",
    "    \"\"\"A simple straight waveguide model.\n",
    "\n",
    "    Args:\n",
    "        wl: wavelength in microns.\n",
    "        length: length of the waveguide in microns.\n",
    "        loss: loss in dB/cm.\n",
    "    \"\"\"\n",
    "    neff = fitted_neff(wl)\n",
    "    phase = 2 * jnp.pi * neff * length / wl\n",
    "    amplitude = jnp.asarray(10 ** (-loss * length / 20), dtype=complex)\n",
    "    transmission = amplitude * jnp.exp(1j * phase)\n",
    "    return sax.reciprocal(\n",
    "        {\n",
    "            (\"in0\", \"out0\"): transmission,\n",
    "        }\n",
    "    )"
   ]
  },
  {
   "cell_type": "code",
   "execution_count": null,
   "id": "41",
   "metadata": {
    "papermill": {
     "duration": 0.034924,
     "end_time": "2025-06-12T12:29:54.315233",
     "exception": false,
     "start_time": "2025-06-12T12:29:54.280309",
     "status": "completed"
    },
    "tags": []
   },
   "outputs": [],
   "source": [
    "straight()"
   ]
  }
 ],
 "metadata": {
  "kernelspec": {
   "display_name": "sax",
   "language": "python",
   "name": "sax"
  },
  "language_info": {
   "codemirror_mode": {
    "name": "ipython",
    "version": 3
   },
   "file_extension": ".py",
   "mimetype": "text/x-python",
   "name": "python",
   "nbconvert_exporter": "python",
   "pygments_lexer": "ipython3",
   "version": "3.12.10"
  },
  "papermill": {
   "default_parameters": {},
   "duration": 8.064768,
   "end_time": "2025-06-12T12:29:56.933436",
   "environment_variables": {},
   "exception": null,
   "input_path": "nbs/examples/10_wavelength_dependent_neff.ipynb",
   "output_path": "nbs/examples/10_wavelength_dependent_neff.ipynb",
   "parameters": {},
   "start_time": "2025-06-12T12:29:48.868668",
   "version": "2.6.0"
  }
 },
 "nbformat": 4,
 "nbformat_minor": 5
}
