{
 "cells": [
  {
   "cell_type": "markdown",
   "id": "0",
   "metadata": {
    "papermill": {
     "duration": 0.001387,
     "end_time": "2025-06-12T12:29:44.623985",
     "exception": false,
     "start_time": "2025-06-12T12:29:44.622598",
     "status": "completed"
    },
    "tags": []
   },
   "source": [
    "# Forward-only Backend"
   ]
  },
  {
   "cell_type": "markdown",
   "id": "1",
   "metadata": {
    "papermill": {
     "duration": 0.00077,
     "end_time": "2025-06-12T12:29:44.626261",
     "exception": false,
     "start_time": "2025-06-12T12:29:44.625491",
     "status": "completed"
    },
    "tags": []
   },
   "source": [
    "> An efficient backend when the components in circuit have low back-reflection. In this case, only forward-direction matrix multiplication is calculated to reduce computational cost for complicated circuit. The improvement compared to other backends ('klu' for example) is demonstrated with an example of cascaded AMZI structure."
   ]
  },
  {
   "cell_type": "markdown",
   "id": "2",
   "metadata": {
    "papermill": {
     "duration": 0.000773,
     "end_time": "2025-06-12T12:29:44.628962",
     "exception": false,
     "start_time": "2025-06-12T12:29:44.628189",
     "status": "completed"
    },
    "tags": []
   },
   "source": [
    "> This notebook as well as the forward-only backend itself was contributed by [zhetaoj](https://github.com/zhetaoj)."
   ]
  },
  {
   "cell_type": "code",
   "execution_count": null,
   "id": "3",
   "metadata": {
    "papermill": {
     "duration": 1.030781,
     "end_time": "2025-06-12T12:29:45.660488",
     "exception": false,
     "start_time": "2025-06-12T12:29:44.629707",
     "status": "completed"
    },
    "tags": []
   },
   "outputs": [],
   "source": [
    "import jax\n",
    "import jax.numpy as jnp\n",
    "import matplotlib.pyplot as plt\n",
    "import numpy as np\n",
    "\n",
    "import sax"
   ]
  },
  {
   "cell_type": "markdown",
   "id": "4",
   "metadata": {
    "papermill": {
     "duration": 0.001773,
     "end_time": "2025-06-12T12:29:45.664329",
     "exception": false,
     "start_time": "2025-06-12T12:29:45.662556",
     "status": "completed"
    },
    "tags": []
   },
   "source": [
    "> Define waveguide and directional coupler components"
   ]
  },
  {
   "cell_type": "code",
   "execution_count": null,
   "id": "5",
   "metadata": {
    "papermill": {
     "duration": 0.010095,
     "end_time": "2025-06-12T12:29:45.676598",
     "exception": false,
     "start_time": "2025-06-12T12:29:45.666503",
     "status": "completed"
    },
    "tags": []
   },
   "outputs": [],
   "source": [
    "def waveguide(wl=1.55, wl0=1.55, neff=2.34, ng=3.4, length=10.0, loss=0.0) -> sax.SDict:\n",
    "    dwl = wl - wl0\n",
    "    dneff_dwl = (ng - neff) / wl0\n",
    "    neff = neff - dwl * dneff_dwl\n",
    "    phase = 2 * jnp.pi * neff * length / wl\n",
    "    transmission = 10 ** (-loss * length / 20) * jnp.exp(1j * phase)\n",
    "    sdict = sax.reciprocal(\n",
    "        {\n",
    "            (\"in0\", \"out0\"): transmission,\n",
    "        }\n",
    "    )\n",
    "    return sdict\n",
    "\n",
    "\n",
    "def coupler(coupling=0.5) -> sax.SDict:\n",
    "    kappa = coupling**0.5\n",
    "    tau = (1 - coupling) ** 0.5\n",
    "    coupler_dict = sax.reciprocal(\n",
    "        {\n",
    "            (\"in0\", \"out0\"): tau,\n",
    "            (\"in0\", \"out1\"): 1j * kappa,\n",
    "            (\"in1\", \"out0\"): 1j * kappa,\n",
    "            (\"in1\", \"out1\"): tau,\n",
    "        }\n",
    "    )\n",
    "    return coupler_dict"
   ]
  },
  {
   "cell_type": "markdown",
   "id": "6",
   "metadata": {
    "papermill": {
     "duration": 0.001893,
     "end_time": "2025-06-12T12:29:45.680522",
     "exception": false,
     "start_time": "2025-06-12T12:29:45.678629",
     "status": "completed"
    },
    "tags": []
   },
   "source": [
    "> Create a cascaded AMZI structure with n identical AMZIs, with the next AMZI is connected to the \"cross\" port of the previous one. "
   ]
  },
  {
   "cell_type": "code",
   "execution_count": null,
   "id": "7",
   "metadata": {
    "papermill": {
     "duration": 0.011135,
     "end_time": "2025-06-12T12:29:45.693585",
     "exception": false,
     "start_time": "2025-06-12T12:29:45.682450",
     "status": "completed"
    },
    "tags": []
   },
   "outputs": [],
   "source": [
    "def cascaded_amzi_generator(n, backend=\"klu\"):\n",
    "    netlist = {\n",
    "        \"instances\": {},\n",
    "        \"connections\": {},\n",
    "        \"ports\": {},\n",
    "    }\n",
    "\n",
    "    models = {\n",
    "        \"coupler\": coupler,\n",
    "        \"waveguide\": waveguide,\n",
    "    }\n",
    "\n",
    "    # Build the netlist\n",
    "    for i in range(1, n + 1):\n",
    "        # Define instance names\n",
    "        left_name = f\"left_{i}\"\n",
    "        right_name = f\"right_{i}\"\n",
    "        top_name = f\"top_{i}\"\n",
    "        btm_name = f\"btm_{i}\"\n",
    "\n",
    "        # Add instances\n",
    "        netlist[\"instances\"][left_name] = \"coupler\"\n",
    "        netlist[\"instances\"][right_name] = \"coupler\"\n",
    "        netlist[\"instances\"][top_name] = \"waveguide\"\n",
    "        netlist[\"instances\"][btm_name] = \"waveguide\"\n",
    "\n",
    "        # Internal connections within AMZI i\n",
    "        netlist[\"connections\"][f\"{left_name},out0\"] = f\"{btm_name},in0\"\n",
    "        netlist[\"connections\"][f\"{btm_name},out0\"] = f\"{right_name},in0\"\n",
    "\n",
    "        netlist[\"connections\"][f\"{left_name},out1\"] = f\"{top_name},in0\"\n",
    "        netlist[\"connections\"][f\"{top_name},out0\"] = f\"{right_name},in1\"\n",
    "\n",
    "        if i > 1:\n",
    "            # Connections between AMZIs via the cross port\n",
    "            prev_right_name = f\"right_{i - 1}\"\n",
    "            netlist[\"connections\"][f\"{prev_right_name},out0\"] = f\"{left_name},in1\"\n",
    "            netlist[\"connections\"][f\"{prev_right_name},out1\"] = f\"{left_name},in0\"\n",
    "\n",
    "    # Define external ports\n",
    "    netlist[\"ports\"][\"in0\"] = \"left_1,in0\"\n",
    "    netlist[\"ports\"][\"in1\"] = \"left_1,in1\"\n",
    "    netlist[\"ports\"][\"out0\"] = f\"right_{n},out0\"\n",
    "    netlist[\"ports\"][\"out1\"] = f\"right_{n},out1\"\n",
    "\n",
    "    # Create the circuit\n",
    "    mzi_ideal, info = sax.circuit(netlist=netlist, models=models, backend=backend)\n",
    "    return mzi_ideal, info"
   ]
  },
  {
   "cell_type": "markdown",
   "id": "8",
   "metadata": {
    "papermill": {
     "duration": 0.001929,
     "end_time": "2025-06-12T12:29:45.697418",
     "exception": false,
     "start_time": "2025-06-12T12:29:45.695489",
     "status": "completed"
    },
    "tags": []
   },
   "source": [
    "> Consider a case with 20 cascaded AMZIs"
   ]
  },
  {
   "cell_type": "code",
   "execution_count": null,
   "id": "9",
   "metadata": {
    "papermill": {
     "duration": 0.009291,
     "end_time": "2025-06-12T12:29:45.708503",
     "exception": false,
     "start_time": "2025-06-12T12:29:45.699212",
     "status": "completed"
    },
    "tags": []
   },
   "outputs": [],
   "source": [
    "wavelengths = np.linspace(1.500, 1.600, 100_000)\n",
    "n = 10\n",
    "params = {\"wl\": wavelengths}\n",
    "for i in range(1, n + 1):\n",
    "    params[f\"left_{i}\"] = {\"coupling\": 0.5}\n",
    "    params[f\"right_{i}\"] = {\"coupling\": 0.5}\n",
    "    params[f\"top_{i}\"] = {\"length\": 50}\n",
    "    params[f\"btm_{i}\"] = {\"length\": 0}"
   ]
  },
  {
   "cell_type": "markdown",
   "id": "10",
   "metadata": {
    "papermill": {
     "duration": 0.001841,
     "end_time": "2025-06-12T12:29:45.712400",
     "exception": false,
     "start_time": "2025-06-12T12:29:45.710559",
     "status": "completed"
    },
    "tags": []
   },
   "source": [
    "> Run simulation with 'klu' backend and 'forward-only' backend"
   ]
  },
  {
   "cell_type": "code",
   "execution_count": null,
   "id": "11",
   "metadata": {
    "papermill": {
     "duration": 4.977921,
     "end_time": "2025-06-12T12:29:50.692169",
     "exception": false,
     "start_time": "2025-06-12T12:29:45.714248",
     "status": "completed"
    },
    "tags": []
   },
   "outputs": [],
   "source": [
    "%%time\n",
    "mzi_ideal, info = cascaded_amzi_generator(n, backend=\"klu\")\n",
    "S = mzi_ideal(**params)\n",
    "transmissions_klu = 10 * jnp.log10(jnp.abs(S[\"in0\", \"out1\"]) ** 2)"
   ]
  },
  {
   "cell_type": "code",
   "execution_count": null,
   "id": "12",
   "metadata": {
    "papermill": {
     "duration": 0.348148,
     "end_time": "2025-06-12T12:29:51.042840",
     "exception": false,
     "start_time": "2025-06-12T12:29:50.694692",
     "status": "completed"
    },
    "tags": []
   },
   "outputs": [],
   "source": [
    "%%time\n",
    "mzi_ideal, info = cascaded_amzi_generator(n, backend=\"forward\")\n",
    "S = mzi_ideal(**params)\n",
    "transmissions_forward = 10 * jnp.log10(jnp.abs(S[\"in0\", \"out1\"]) ** 2)"
   ]
  },
  {
   "cell_type": "markdown",
   "id": "13",
   "metadata": {
    "papermill": {
     "duration": 0.001965,
     "end_time": "2025-06-12T12:29:51.047140",
     "exception": false,
     "start_time": "2025-06-12T12:29:51.045175",
     "status": "completed"
    },
    "tags": []
   },
   "source": [
    "> As the circuit becomes more complex, the forward-only backend experiences a more significant speed-up, and the results remain accurate as long as there is no backreflection."
   ]
  },
  {
   "cell_type": "code",
   "execution_count": null,
   "id": "14",
   "metadata": {
    "papermill": {
     "duration": 0.154612,
     "end_time": "2025-06-12T12:29:51.203806",
     "exception": false,
     "start_time": "2025-06-12T12:29:51.049194",
     "status": "completed"
    },
    "tags": []
   },
   "outputs": [],
   "source": [
    "fig, axs = plt.subplots(figsize=(6, 4))\n",
    "\n",
    "plt.plot(wavelengths, transmissions_klu, label=\"klu\")\n",
    "plt.plot(wavelengths, transmissions_forward, \"--\", label=\"forward\")\n",
    "\n",
    "plt.xlim(1.53, 1.57)\n",
    "plt.xlabel(\"wavelength (um)\")\n",
    "plt.ylabel(\"transmission (dB)\")\n",
    "plt.legend()\n",
    "plt.show()"
   ]
  },
  {
   "cell_type": "markdown",
   "id": "15",
   "metadata": {
    "papermill": {
     "duration": 0.002484,
     "end_time": "2025-06-12T12:29:51.208760",
     "exception": false,
     "start_time": "2025-06-12T12:29:51.206276",
     "status": "completed"
    },
    "tags": []
   },
   "source": [
    "> NOTE: I've seen mixed results with this backend. Just jitting the KLU circuit might yield better results."
   ]
  }
 ],
 "metadata": {
  "kernelspec": {
   "display_name": "sax",
   "language": "python",
   "name": "sax"
  },
  "language_info": {
   "codemirror_mode": {
    "name": "ipython",
    "version": 3
   },
   "file_extension": ".py",
   "mimetype": "text/x-python",
   "name": "python",
   "nbconvert_exporter": "python",
   "pygments_lexer": "ipython3",
   "version": "3.12.10"
  },
  "papermill": {
   "default_parameters": {},
   "duration": 8.02254,
   "end_time": "2025-06-12T12:29:51.731854",
   "environment_variables": {},
   "exception": null,
   "input_path": "nbs/examples/09_forward_only_backend.ipynb",
   "output_path": "nbs/examples/09_forward_only_backend.ipynb",
   "parameters": {},
   "start_time": "2025-06-12T12:29:43.709314",
   "version": "2.6.0"
  }
 },
 "nbformat": 4,
 "nbformat_minor": 5
}
