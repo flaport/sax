{
 "cells": [
  {
   "cell_type": "markdown",
   "id": "0",
   "metadata": {},
   "source": [
    "# Data Parsers\n",
    "> Let's parse some data."
   ]
  },
  {
   "cell_type": "markdown",
   "id": "1",
   "metadata": {},
   "source": [
    "We can download some data from SiEPIC:"
   ]
  },
  {
   "cell_type": "markdown",
   "id": "2",
   "metadata": {},
   "source": [
    "## Imports"
   ]
  },
  {
   "cell_type": "code",
   "execution_count": null,
   "id": "3",
   "metadata": {},
   "outputs": [],
   "source": [
    "import sax\n",
    "import requests\n",
    "import altair as alt\n",
    "import matplotlib.pyplot as plt"
   ]
  },
  {
   "cell_type": "markdown",
   "id": "4",
   "metadata": {},
   "source": [
    "## Lumerical Parser\n",
    "\n",
    "The [SiEPIC ebeam PDK](https://github.com/SiEPIC/SiEPIC_EBeam_PDK) has a bunch of data files in Lumerical format. Let's download one of them:"
   ]
  },
  {
   "cell_type": "code",
   "execution_count": null,
   "id": "5",
   "metadata": {},
   "outputs": [],
   "source": [
    "url = \"https://raw.githubusercontent.com/SiEPIC/SiEPIC_EBeam_PDK/refs/heads/master/Lumerical_EBeam_CML/EBeam/source_data/ebeam_dc_te1550/dc_gap%3D200nm_Lc%3D0um.sparam\"\n",
    "content = requests.get(url).text\n",
    "df = sax.parsers.parse_lumerical_dat(content)\n",
    "df"
   ]
  },
  {
   "cell_type": "markdown",
   "id": "6",
   "metadata": {},
   "source": [
    "We see that the parsed dataframe is a dataframe in [tidy format](https://aeturrell.github.io/python4DS/data-tidy.html) with the following columns:\n",
    "\n",
    "| freq | mag | phase | port_out | port_in | mode_out | mode_in |\n",
    "|------|-----|-------|----------|---------|----------|---------|"
   ]
  },
  {
   "cell_type": "markdown",
   "id": "7",
   "metadata": {},
   "source": [
    "In this case it's a single mode dataframe:"
   ]
  },
  {
   "cell_type": "code",
   "execution_count": null,
   "id": "8",
   "metadata": {},
   "outputs": [],
   "source": [
    "print(f\"{df.mode_in.unique()=}\")\n",
    "print(f\"{df.mode_out.unique()=}\")"
   ]
  },
  {
   "cell_type": "markdown",
   "id": "9",
   "metadata": {},
   "source": [
    "So if we want we can drop those columns:"
   ]
  },
  {
   "cell_type": "code",
   "execution_count": null,
   "id": "10",
   "metadata": {},
   "outputs": [],
   "source": [
    "df = sax.parsers.parse_lumerical_dat(content)\n",
    "df = df.drop(columns=[\"mode_in\", \"mode_out\"])\n",
    "df"
   ]
  },
  {
   "cell_type": "markdown",
   "id": "11",
   "metadata": {},
   "source": [
    "The plotting library [altair](https://github.com/vega/altair) is a perfect fit for visualizing dataframes in tidy format:"
   ]
  },
  {
   "cell_type": "code",
   "execution_count": null,
   "id": "12",
   "metadata": {},
   "outputs": [],
   "source": [
    "df[\"wl\"] = sax.C_UM_S / df[\"freq\"]\n",
    "chart = (\n",
    "    alt.Chart(df.query(\"port_in=='port_1'\"))\n",
    "    .mark_line()\n",
    "    .encode(\n",
    "        x=alt.X(\"wl\", scale=alt.Scale(domain=(df[\"wl\"].min(), df[\"wl\"].max()))),\n",
    "        y=\"mag\",\n",
    "        color=\"port_out\",\n",
    "    )\n",
    "    .properties(width=\"container\")\n",
    ")\n",
    "chart"
   ]
  }
 ],
 "metadata": {
  "kernelspec": {
   "display_name": "sax",
   "language": "python",
   "name": "sax"
  },
  "language_info": {
   "codemirror_mode": {
    "name": "ipython",
    "version": 3
   },
   "file_extension": ".py",
   "mimetype": "text/x-python",
   "name": "python",
   "nbconvert_exporter": "python",
   "pygments_lexer": "ipython3"
  }
 },
 "nbformat": 4,
 "nbformat_minor": 5
}
