{
 "cells": [
  {
   "cell_type": "markdown",
   "id": "0",
   "metadata": {},
   "source": [
    "# Data Parsers\n",
    "> Let's parse some data."
   ]
  },
  {
   "cell_type": "markdown",
   "id": "1",
   "metadata": {},
   "source": [
    "## Imports"
   ]
  },
  {
   "cell_type": "code",
   "execution_count": null,
   "id": "2",
   "metadata": {},
   "outputs": [],
   "source": [
    "from functools import cache\n",
    "\n",
    "import altair as alt\n",
    "import jax\n",
    "import jax.numpy as jnp\n",
    "import matplotlib.pyplot as plt\n",
    "import numpy as np\n",
    "import requests\n",
    "import sax"
   ]
  },
  {
   "cell_type": "markdown",
   "id": "3",
   "metadata": {},
   "source": [
    "## Lumerical Parser\n",
    "\n",
    "The [SiEPIC ebeam PDK](https://github.com/SiEPIC/SiEPIC_EBeam_PDK) has a bunch of data files in Lumerical format. Let's download one of them:"
   ]
  },
  {
   "cell_type": "code",
   "execution_count": null,
   "id": "4",
   "metadata": {},
   "outputs": [],
   "source": [
    "url = \"https://raw.githubusercontent.com/SiEPIC/SiEPIC_EBeam_PDK/refs/heads/master/Lumerical_EBeam_CML/EBeam/source_data/ebeam_dc_te1550/dc_gap%3D200nm_Lc%3D0um.sparam\"\n",
    "content = requests.get(url).text\n",
    "print(content[:1000])"
   ]
  },
  {
   "cell_type": "code",
   "execution_count": null,
   "id": "5",
   "metadata": {},
   "outputs": [],
   "source": [
    "df = sax.parse_lumerical_dat(content, convert_f_to_wl=True)\n",
    "df"
   ]
  },
  {
   "cell_type": "markdown",
   "id": "6",
   "metadata": {},
   "source": [
    "We see that the parsed dataframe is a dataframe in [tidy format](https://aeturrell.github.io/python4DS/data-tidy.html) with the following columns:\n",
    "\n",
    "**'wl', 'port_in', 'port_out', 'mode_in', 'mode_out', 'amp', 'phi'**\n",
    "\n",
    "In this case it's a single mode dataframe:"
   ]
  },
  {
   "cell_type": "code",
   "execution_count": null,
   "id": "7",
   "metadata": {},
   "outputs": [],
   "source": [
    "print(f\"{df.mode_in.unique()=}\")\n",
    "print(f\"{df.mode_out.unique()=}\")"
   ]
  },
  {
   "cell_type": "markdown",
   "id": "8",
   "metadata": {},
   "source": [
    "So if we want we can drop those columns:"
   ]
  },
  {
   "cell_type": "code",
   "execution_count": null,
   "id": "9",
   "metadata": {},
   "outputs": [],
   "source": [
    "df = sax.parse_lumerical_dat(content, convert_f_to_wl=True)\n",
    "df = df.drop(columns=[\"mode_in\", \"mode_out\"])\n",
    "df"
   ]
  },
  {
   "cell_type": "markdown",
   "id": "10",
   "metadata": {},
   "source": [
    "The plotting library [altair](https://github.com/vega/altair) is a perfect fit for visualizing dataframes in tidy format:"
   ]
  },
  {
   "cell_type": "code",
   "execution_count": null,
   "id": "11",
   "metadata": {},
   "outputs": [],
   "source": [
    "chart = (\n",
    "    alt.Chart(df.query(\"port_in=='port_1'\"))\n",
    "    .mark_line()\n",
    "    .encode(\n",
    "        x=alt.X(\"wl\", scale=alt.Scale(domain=(df[\"wl\"].min(), df[\"wl\"].max()))),\n",
    "        y=alt.Y(\"amp\", scale=alt.Scale(domain=(-0.05, 1.05))),\n",
    "        color=\"port_out\",\n",
    "    )\n",
    "    .properties(width=\"container\")\n",
    ").interactive()\n",
    "chart"
   ]
  },
  {
   "cell_type": "markdown",
   "id": "12",
   "metadata": {},
   "source": [
    "## Transforming into xarray\n",
    "\n",
    "Very often we would like to represent this as an xarray (think of it as a multi-dimensional dataframe):"
   ]
  },
  {
   "cell_type": "code",
   "execution_count": null,
   "id": "13",
   "metadata": {},
   "outputs": [],
   "source": [
    "xarr = sax.to_xarray(df, target_names=[\"amp\", \"phi\"])\n",
    "print(xarr)"
   ]
  },
  {
   "cell_type": "markdown",
   "id": "14",
   "metadata": {},
   "source": [
    "## Interpolating an xarray:"
   ]
  },
  {
   "cell_type": "markdown",
   "id": "15",
   "metadata": {},
   "source": [
    "To interpolate over the float coordinates of the xarray:"
   ]
  },
  {
   "cell_type": "code",
   "execution_count": null,
   "id": "16",
   "metadata": {},
   "outputs": [],
   "source": [
    "sax.interpolate_xarray(xarr, wl=[1.5, 1.6])"
   ]
  },
  {
   "cell_type": "markdown",
   "id": "17",
   "metadata": {},
   "source": [
    "String coordinates can not be interpolated over, but they can be selected:"
   ]
  },
  {
   "cell_type": "code",
   "execution_count": null,
   "id": "18",
   "metadata": {},
   "outputs": [],
   "source": [
    "sax.interpolate_xarray(xarr, wl=[1.5, 1.6], port_in=\"port_1\", port_out=\"port_1\")"
   ]
  },
  {
   "cell_type": "markdown",
   "id": "19",
   "metadata": {},
   "source": [
    "or to have all outputs for a certain input:"
   ]
  },
  {
   "cell_type": "code",
   "execution_count": null,
   "id": "20",
   "metadata": {},
   "outputs": [],
   "source": [
    "sax.interpolate_xarray(xarr, wl=[1.5, 1.6], port_in=\"port_1\")"
   ]
  },
  {
   "cell_type": "markdown",
   "id": "21",
   "metadata": {},
   "source": [
    "## Creating a model\n",
    "\n",
    "Using all of the above we can create a model. The common boilerplate can be divided in two steps:\n",
    "\n",
    "```{important}\n",
    "This is the recommended way to create a sax model from a data file!\n",
    "```"
   ]
  },
  {
   "cell_type": "code",
   "execution_count": null,
   "id": "22",
   "metadata": {},
   "outputs": [],
   "source": [
    "# 1. The cached data loader:\n",
    "\n",
    "\n",
    "@cache\n",
    "def load_dc_xarray():\n",
    "    #\n",
    "    url = url = (\n",
    "        \"https://raw.githubusercontent.com/SiEPIC/SiEPIC_EBeam_PDK/refs/heads/master/Lumerical_EBeam_CML/EBeam/source_data/ebeam_dc_te1550/dc_gap%3D200nm_Lc%3D0um.sparam\"\n",
    "    )\n",
    "    content = requests.get(url).text\n",
    "    # or for local data probably more something like this:\n",
    "    # path = Path(__file__).parent / \"relative\" / \"path\" / \"to\" / \"data.dat\"\n",
    "    # content = Path(path).read_text()\n",
    "    df = sax.parse_lumerical_dat(content, convert_f_to_wl=True)\n",
    "\n",
    "    # only keep columns that should be used\n",
    "    # (i.e. columns that uniquely predict the target, without duplication, e.g. no 'f' and 'wl' together)\n",
    "    df = df.drop(columns=[\"mode_in\", \"mode_out\"])\n",
    "\n",
    "    # now we can transform to xarray\n",
    "    xarr = sax.to_xarray(df, target_names=[\"amp\", \"phi\"])\n",
    "\n",
    "    # and return it\n",
    "    return xarr\n",
    "\n",
    "\n",
    "# 2. The model function\n",
    "@jax.jit  # if you can, try to jit it\n",
    "def dc_model(\n",
    "    wl=1.5,  # all non-port, non-target columns should be exposed as keyword arguments\n",
    ") -> sax.SDict:\n",
    "    with jax.ensure_compile_time_eval():\n",
    "        xarr = load_dc_xarray()\n",
    "\n",
    "    ports = {\n",
    "        \"in0\": \"port_1\",\n",
    "        \"in1\": \"port_2\",\n",
    "        \"out0\": \"port_4\",\n",
    "        \"out1\": \"port_3\",\n",
    "    }\n",
    "\n",
    "    S = {}\n",
    "    for p_in, port_in in ports.items():\n",
    "        for p_out, port_out in ports.items():\n",
    "            # don't forget to add more keyword arguments here if your data supports it!\n",
    "            interpolated = sax.interpolate_xarray(\n",
    "                xarr, wl=wl, port_in=str(port_in), port_out=str(port_out)\n",
    "            )\n",
    "            S[p_in, p_out] = interpolated[\"amp\"] * jnp.exp(1j * interpolated[\"phi\"])\n",
    "    return S"
   ]
  },
  {
   "cell_type": "markdown",
   "id": "23",
   "metadata": {},
   "source": [
    "```{tip}\n",
    "If you don't like that we're linearly interpolating the data in the above example, then have a look at the 'surface models' example. There we go into more depth on how to fit an accurate analytical model on the data.\n",
    "```"
   ]
  },
  {
   "cell_type": "code",
   "execution_count": null,
   "id": "24",
   "metadata": {},
   "outputs": [],
   "source": [
    "result = dc_model()\n",
    "result"
   ]
  },
  {
   "cell_type": "markdown",
   "id": "25",
   "metadata": {},
   "source": [
    "## SDense for performance\n",
    "\n",
    "A model returning an `SDict` is usually the easiest to work with, however, we can also return an SDense, which in this case should be more performant, as only one xarray interpolation will be necessary:"
   ]
  },
  {
   "cell_type": "code",
   "execution_count": null,
   "id": "26",
   "metadata": {},
   "outputs": [],
   "source": [
    "@jax.jit\n",
    "def dc_model2(\n",
    "    wl=1.5,\n",
    ") -> (\n",
    "    sax.SDense\n",
    "):  # all non-port, non-target columns should be exposed as keyword arguments\n",
    "    with jax.ensure_compile_time_eval():\n",
    "        xarr = load_dc_xarray()\n",
    "\n",
    "    ports = {\n",
    "        \"port_1\": \"in0\",\n",
    "        \"port_2\": \"in1\",\n",
    "        \"port_4\": \"out0\",\n",
    "        \"port_3\": \"out1\",\n",
    "    }\n",
    "\n",
    "    # by not specifying ports, the array will be interpolated directly:\n",
    "    # NOTE! for this to work, you should confirm that the last three dimensions\n",
    "    # the last two dimensions of your xarray (`xarr.dims`) are port_in, port_out, targets\n",
    "    interpolated = sax.interpolate_xarray(\n",
    "        xarr, wl=wl\n",
    "    )  # you can add more keyword args here\n",
    "    S = interpolated[\"amp\"] * jnp.exp(1j * interpolated[\"phi\"])\n",
    "    port_map = {ports[k]: i for i, k in enumerate(xarr.coords[\"port_in\"].values)}\n",
    "    # also confirm that if we define port_map with port_out instead, we get the same dict!\n",
    "    # port_map = {k: i for i, k in enumerate(xarr.coords['port_out'].values)}\n",
    "    return S.T, port_map  # this is a an SDense!"
   ]
  },
  {
   "cell_type": "code",
   "execution_count": null,
   "id": "27",
   "metadata": {},
   "outputs": [],
   "source": [
    "result2 = sax.sdict(dc_model2())\n",
    "result2"
   ]
  },
  {
   "cell_type": "code",
   "execution_count": null,
   "id": "28",
   "metadata": {},
   "outputs": [],
   "source": [
    "for k in result:\n",
    "    print(k, abs(result[k]), abs(result2[k]), abs(result[k]) - abs(result2[k]))"
   ]
  },
  {
   "cell_type": "markdown",
   "id": "29",
   "metadata": {},
   "source": [
    "We can plot this result (note: we're plotting amplitudes now):"
   ]
  },
  {
   "cell_type": "code",
   "execution_count": null,
   "id": "30",
   "metadata": {},
   "outputs": [],
   "source": [
    "wl = sax.wl_c()\n",
    "result = dc_model(wl=wl)\n",
    "df = (\n",
    "    sax.to_df(result, wl=wl)\n",
    "    .query('port_in==\"in0\"')\n",
    "    .drop(columns=[\"port_in\", \"mode_in\", \"mode_out\"])\n",
    "    .reset_index(drop=True)\n",
    ")\n",
    "chart = (\n",
    "    alt.Chart(df)\n",
    "    .mark_line()\n",
    "    .encode(\n",
    "        x=alt.X(\"wl\", scale=alt.Scale(domain=(df[\"wl\"].min(), df[\"wl\"].max()))),\n",
    "        y=alt.Y(\"amp\", scale=alt.Scale(domain=(-0.05, 1.05))),\n",
    "        color=\"port_out\",\n",
    "    )\n",
    "    .properties(width=\"container\")\n",
    ").interactive()\n",
    "chart"
   ]
  },
  {
   "cell_type": "markdown",
   "id": "31",
   "metadata": {},
   "source": [
    "## Touchstone parser\n",
    "We also have a touchstone parser which returns a dataframe. For example to open a 6x6 touchstone S-matrix you could do something like this:"
   ]
  },
  {
   "cell_type": "markdown",
   "id": "32",
   "metadata": {},
   "source": [
    "```python\n",
    "sax.parse_touchstone(\n",
    "    \"./<filename>.s6p\",\n",
    "    ports=[\"in0\", \"in1\", \"out0\", \"out1\", \"out2\", \"out3\"], # you need to supply port labels for this format\n",
    ")\n",
    "```"
   ]
  },
  {
   "cell_type": "markdown",
   "id": "33",
   "metadata": {},
   "source": [
    "You can use a similar approach as the above to use touchstone file to create your models."
   ]
  }
 ],
 "metadata": {
  "kernelspec": {
   "display_name": "sax",
   "language": "python",
   "name": "sax"
  },
  "language_info": {
   "codemirror_mode": {
    "name": "ipython",
    "version": 3
   },
   "file_extension": ".py",
   "mimetype": "text/x-python",
   "name": "python",
   "nbconvert_exporter": "python",
   "pygments_lexer": "ipython3"
  }
 },
 "nbformat": 4,
 "nbformat_minor": 5
}
