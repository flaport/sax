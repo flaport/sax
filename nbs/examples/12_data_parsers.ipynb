{
 "cells": [
  {
   "cell_type": "markdown",
   "id": "0",
   "metadata": {},
   "source": [
    "# Data Parsers\n",
    "> Let's parse some data."
   ]
  },
  {
   "cell_type": "markdown",
   "id": "1",
   "metadata": {},
   "source": [
    "## Imports"
   ]
  },
  {
   "cell_type": "code",
   "execution_count": null,
   "id": "2",
   "metadata": {},
   "outputs": [],
   "source": [
    "from functools import cache\n",
    "\n",
    "import altair as alt\n",
    "import jax\n",
    "import jax.numpy as jnp\n",
    "import matplotlib.pyplot as plt\n",
    "import numpy as np\n",
    "import requests\n",
    "import sax"
   ]
  },
  {
   "cell_type": "markdown",
   "id": "3",
   "metadata": {},
   "source": [
    "## Lumerical Parser\n",
    "\n",
    "The [SiEPIC ebeam PDK](https://github.com/SiEPIC/SiEPIC_EBeam_PDK) has a bunch of data files in Lumerical format. Let's download one of them:"
   ]
  },
  {
   "cell_type": "code",
   "execution_count": null,
   "id": "4",
   "metadata": {},
   "outputs": [],
   "source": [
    "url = \"https://raw.githubusercontent.com/SiEPIC/SiEPIC_EBeam_PDK/refs/heads/master/Lumerical_EBeam_CML/EBeam/source_data/ebeam_dc_te1550/dc_gap%3D200nm_Lc%3D0um.sparam\"\n",
    "content = requests.get(url).text\n",
    "print(content[:1000])"
   ]
  },
  {
   "cell_type": "code",
   "execution_count": null,
   "id": "5",
   "metadata": {},
   "outputs": [],
   "source": [
    "df = sax.parsers.parse_lumerical_dat(content)\n",
    "df"
   ]
  },
  {
   "cell_type": "markdown",
   "id": "6",
   "metadata": {},
   "source": [
    "We see that the parsed dataframe is a dataframe in [tidy format](https://aeturrell.github.io/python4DS/data-tidy.html) with the following columns:\n",
    "\n",
    "| freq | mag | phase | port_out | port_in | mode_out | mode_in |\n",
    "|------|-----|-------|----------|---------|----------|---------|"
   ]
  },
  {
   "cell_type": "markdown",
   "id": "7",
   "metadata": {},
   "source": [
    "In this case it's a single mode dataframe:"
   ]
  },
  {
   "cell_type": "code",
   "execution_count": null,
   "id": "8",
   "metadata": {},
   "outputs": [],
   "source": [
    "print(f\"{df.mode_in.unique()=}\")\n",
    "print(f\"{df.mode_out.unique()=}\")"
   ]
  },
  {
   "cell_type": "markdown",
   "id": "9",
   "metadata": {},
   "source": [
    "So if we want we can drop those columns:"
   ]
  },
  {
   "cell_type": "code",
   "execution_count": null,
   "id": "10",
   "metadata": {},
   "outputs": [],
   "source": [
    "df = sax.parsers.parse_lumerical_dat(content)\n",
    "df = df.drop(columns=[\"mode_in\", \"mode_out\"])\n",
    "df"
   ]
  },
  {
   "cell_type": "markdown",
   "id": "11",
   "metadata": {},
   "source": [
    "The plotting library [altair](https://github.com/vega/altair) is a perfect fit for visualizing dataframes in tidy format:"
   ]
  },
  {
   "cell_type": "code",
   "execution_count": null,
   "id": "12",
   "metadata": {},
   "outputs": [],
   "source": [
    "df[\"wl\"] = sax.C_UM_S / df[\"freq\"]\n",
    "chart = (\n",
    "    alt.Chart(df.query(\"port_in=='port_1'\"))\n",
    "    .mark_line()\n",
    "    .encode(\n",
    "        x=alt.X(\"wl\", scale=alt.Scale(domain=(df[\"wl\"].min(), df[\"wl\"].max()))),\n",
    "        y=alt.Y(\"mag\", scale=alt.Scale(domain=(-0.05, 1.05))),\n",
    "        color=\"port_out\",\n",
    "    )\n",
    "    .properties(width=\"container\")\n",
    ").interactive()\n",
    "chart"
   ]
  },
  {
   "cell_type": "markdown",
   "id": "13",
   "metadata": {},
   "source": [
    "## Transforming into xarray\n",
    "\n",
    "Very often we would like to represent this as an xarray (think of it as a multi-dimensional dataframe):"
   ]
  },
  {
   "cell_type": "code",
   "execution_count": null,
   "id": "14",
   "metadata": {},
   "outputs": [],
   "source": [
    "df_model = df.copy()\n",
    "df_model[\"wl\"] = sax.C_UM_S / df_model[\"freq\"]\n",
    "df_model[\"amp\"] = np.sqrt(df_model[\"mag\"])\n",
    "df_model = df_model[[\"wl\", \"amp\", \"phi\", \"port_out\", \"port_in\"]]\n",
    "df_model\n",
    "xarr = sax.to_xarray(df_model, target_names=[\"amp\", \"phi\"])\n",
    "xarr"
   ]
  },
  {
   "cell_type": "markdown",
   "id": "15",
   "metadata": {},
   "source": [
    "## Interpolating an xarray:"
   ]
  },
  {
   "cell_type": "markdown",
   "id": "16",
   "metadata": {},
   "source": [
    "To interpolate over the float coordinates of the xarray:"
   ]
  },
  {
   "cell_type": "code",
   "execution_count": null,
   "id": "17",
   "metadata": {},
   "outputs": [],
   "source": [
    "sax.interpolate_xarray(xarr, wl=1.55)"
   ]
  },
  {
   "cell_type": "markdown",
   "id": "18",
   "metadata": {},
   "source": [
    "String coordinates can not be interpolated over, but they can be selected:"
   ]
  },
  {
   "cell_type": "code",
   "execution_count": null,
   "id": "19",
   "metadata": {},
   "outputs": [],
   "source": [
    "sax.interpolate_xarray(xarr, wl=[1.555], port_in=\"port_1\", port_out=\"port_1\")"
   ]
  },
  {
   "cell_type": "markdown",
   "id": "20",
   "metadata": {},
   "source": [
    "or to have all outputs for a certain input:"
   ]
  },
  {
   "cell_type": "code",
   "execution_count": null,
   "id": "21",
   "metadata": {},
   "outputs": [],
   "source": [
    "sax.interpolate_xarray(xarr, wl=[1.555], port_in=\"port_1\")"
   ]
  },
  {
   "cell_type": "markdown",
   "id": "22",
   "metadata": {},
   "source": [
    "## Creating a model\n",
    "\n",
    "Using all of the above we can create a model. The common boilerplate can be divided in two steps:"
   ]
  },
  {
   "cell_type": "code",
   "execution_count": null,
   "id": "23",
   "metadata": {},
   "outputs": [],
   "source": [
    "# 1. The cached data loader:\n",
    "\n",
    "\n",
    "@cache\n",
    "def load_dc_xarray():\n",
    "    #\n",
    "    url = url = (\n",
    "        \"https://raw.githubusercontent.com/SiEPIC/SiEPIC_EBeam_PDK/refs/heads/master/Lumerical_EBeam_CML/EBeam/source_data/ebeam_dc_te1550/dc_gap%3D200nm_Lc%3D0um.sparam\"\n",
    "    )\n",
    "    content = requests.get(url).text\n",
    "    # or for local data probably more something like this:\n",
    "    # path = Path(__file__).parent / \"relative\" / \"path\" / \"to\" / \"data.dat\"\n",
    "    # content = Path(path).read_text()\n",
    "    df = sax.parsers.parse_lumerical_dat(content)\n",
    "\n",
    "    # do the necessary transformations to get the dataframe ready to be transformed into an xarray:\n",
    "    # only keep columns that should be used\n",
    "    # (i.e. columns that uniquely predict the target, without duplication, i.e. no freq and wl together)\n",
    "    df[\"wl\"] = sax.C_UM_S / df[\"freq\"]\n",
    "    df[\"amp\"] = np.sqrt(df[\"mag\"])\n",
    "    df = df[[\"wl\", \"amp\", \"phi\", \"port_out\", \"port_in\"]]\n",
    "\n",
    "    # now we can transform to xarray\n",
    "    xarr = sax.to_xarray(df_model, target_names=[\"amp\", \"phi\"])\n",
    "\n",
    "    # and return it\n",
    "    return xarr\n",
    "\n",
    "\n",
    "# 2. The model function\n",
    "def dc_model(\n",
    "    wl=1.5,\n",
    ") -> (\n",
    "    sax.SDict\n",
    "):  # all non-port, non-target columns should be exposed as keyword arguments\n",
    "    with jax.ensure_compile_time_eval():\n",
    "        xarr = load_dc_xarray()\n",
    "\n",
    "    ports = {\n",
    "        \"in0\": \"port_1\",\n",
    "        \"in1\": \"port_2\",\n",
    "        \"out0\": \"port_4\",\n",
    "        \"out1\": \"port_3\",\n",
    "    }\n",
    "\n",
    "    S = {}\n",
    "    for p_in, port_in in ports.items():\n",
    "        for p_out, port_out in ports.items():\n",
    "            # don't forget to add more keyword arguments here if your data supports it!\n",
    "            interpolated = sax.interpolate_xarray(\n",
    "                xarr, wl=wl, port_in=str(port_in), port_out=str(port_out)\n",
    "            )\n",
    "            S[p_in, p_out] = interpolated[\"amp\"] * jnp.exp(1j * interpolated[\"phi\"])\n",
    "    return S"
   ]
  },
  {
   "cell_type": "code",
   "execution_count": null,
   "id": "24",
   "metadata": {},
   "outputs": [],
   "source": [
    "dc_model()"
   ]
  },
  {
   "cell_type": "markdown",
   "id": "25",
   "metadata": {},
   "source": [
    "## SDense for performance\n",
    "\n",
    "A model returning an `SDict` is usually the easiest to work with, however, we can also return an SDense, which in this case should be more performant, as only one xarray interpolation will be necessary:"
   ]
  },
  {
   "cell_type": "code",
   "execution_count": null,
   "id": "26",
   "metadata": {},
   "outputs": [],
   "source": [
    "def dc_model2(\n",
    "    wl=1.5,\n",
    ") -> (\n",
    "    sax.SDense\n",
    "):  # all non-port, non-target columns should be exposed as keyword arguments\n",
    "    with jax.ensure_compile_time_eval():\n",
    "        xarr = load_dc_xarray()\n",
    "\n",
    "    ports = {\n",
    "        \"in0\": \"port_1\",\n",
    "        \"in1\": \"port_2\",\n",
    "        \"out0\": \"port_4\",\n",
    "        \"out1\": \"port_3\",\n",
    "    }\n",
    "\n",
    "    # by not specifying ports, the array will be interpolated directly:\n",
    "    # NOTE! for this to work, you should confirm that the last three dimensions\n",
    "    # the last two dimensions of your xarray (`xarr.dims`) are port_in, port_out, targets\n",
    "    interpolated = sax.interpolate_xarray(xarr)\n",
    "    S = interpolated[\"amp\"] * jnp.exp(1j * interpolated[\"phi\"])\n",
    "    port_map = {k: i for i, k in enumerate(xarr.coords[\"port_in\"].values)}\n",
    "    # also confirm that if we define port_map with port_out instead, we get the same dict!\n",
    "    # port_map = {k: i for i, k in enumerate(xarr.coords['port_out'].values)}\n",
    "    return S, port_map  # this is a an SDense!"
   ]
  },
  {
   "cell_type": "code",
   "execution_count": null,
   "id": "27",
   "metadata": {},
   "outputs": [],
   "source": [
    "dc_model2()"
   ]
  }
 ],
 "metadata": {
  "kernelspec": {
   "display_name": "sax",
   "language": "python",
   "name": "sax"
  },
  "language_info": {
   "codemirror_mode": {
    "name": "ipython",
    "version": 3
   },
   "file_extension": ".py",
   "mimetype": "text/x-python",
   "name": "python",
   "nbconvert_exporter": "python",
   "pygments_lexer": "ipython3"
  }
 },
 "nbformat": 4,
 "nbformat_minor": 5
}
