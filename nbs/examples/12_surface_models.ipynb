{
 "cells": [
  {
   "cell_type": "markdown",
   "id": "0",
   "metadata": {},
   "source": [
    "# Surface Models\n",
    "> Let's build some analytical surface models using MEOW and SAX"
   ]
  },
  {
   "cell_type": "code",
   "execution_count": null,
   "id": "1",
   "metadata": {},
   "outputs": [],
   "source": [
    "import json\n",
    "from pathlib import Path\n",
    "\n",
    "import matplotlib.pyplot as plt\n",
    "import meow as mw\n",
    "import numpy as np\n",
    "import pandas as pd\n",
    "import sax\n",
    "import xarray as xr\n",
    "from tqdm.notebook import tqdm"
   ]
  },
  {
   "cell_type": "markdown",
   "id": "2",
   "metadata": {},
   "source": [
    "## Silicon Refractive index\n",
    "Let's create a rudimentary silicon refractive index model:\n",
    "\n",
    "```{note}\n",
    "This model is not based on a realistical model.\n",
    "```"
   ]
  },
  {
   "cell_type": "code",
   "execution_count": null,
   "id": "3",
   "metadata": {},
   "outputs": [],
   "source": [
    "def silicon_index(wl, T):\n",
    "    \"\"\"A rudimentary silicon refractive index model with temperature dependence\"\"\"\n",
    "    a, b = 0.2411478522088102, 3.3229394315868976\n",
    "    dn_dT = 0.00082342342  # probably exaggerated\n",
    "    return a / wl + b + dn_dT * (T - 25.0)"
   ]
  },
  {
   "cell_type": "code",
   "execution_count": null,
   "id": "4",
   "metadata": {},
   "outputs": [],
   "source": [
    "wls = np.linspace(1.0, 3.0, 21)\n",
    "for T in [25.0, 35.0, 45.0]:\n",
    "    plt.plot(1e3 * wls, silicon_index(wls, T))\n",
    "plt.xlabel(\"Wavelength [nm]\")\n",
    "plt.ylabel(\"neff\")\n",
    "plt.title(\"neff dispersion\")\n",
    "plt.grid(True)\n",
    "plt.show()"
   ]
  },
  {
   "cell_type": "markdown",
   "id": "5",
   "metadata": {},
   "source": [
    "## Waveguide Modes\n",
    "\n",
    "> NOTE: this example shows a simple 1D linear interpolated neff model vs wavelength. To see an example of a grid interpolation over wavelength and width, see the 'Layout Aware' example.\n",
    "\n",
    "We can use [meow](https://github.com/flaport/meow) to calculate the modes in our waveguide."
   ]
  },
  {
   "cell_type": "code",
   "execution_count": null,
   "id": "6",
   "metadata": {},
   "outputs": [],
   "source": [
    "def find_waveguide_modes(\n",
    "    wl: float = 1.55,\n",
    "    T: float = 25.0,\n",
    "    n_box: float = 1.4,\n",
    "    n_clad: float = 1.4,\n",
    "    n_core: float | None = None,\n",
    "    t_slab: float = 0.1,\n",
    "    t_soi: float = 0.22,\n",
    "    w_core: float = 0.45,\n",
    "    du=0.02,\n",
    "    n_modes: int = 10,\n",
    "    cache_path: str | Path = \"modes\",\n",
    "    *,\n",
    "    replace_cached: bool = False,\n",
    "):\n",
    "    length = 10.0\n",
    "    delta = 10 * du\n",
    "    env = mw.Environment(wl=wl, T=T)\n",
    "    if n_core is None:\n",
    "        n_core = silicon_index(wl, T)\n",
    "    cache_path = Path(cache_path).resolve()\n",
    "    cache_path.mkdir(exist_ok=True)\n",
    "    fn = f\"{wl=:.2f}-{T=:.2f}-{n_box=:.2f}-{n_clad=:.2f}-{n_core=:.2f}-{t_slab=:.3f}-{t_soi=:.3f}-{w_core=:.3f}-{du=:.3f}-{n_modes=}.json\"\n",
    "    path = cache_path / fn\n",
    "    if not replace_cached and path.exists():\n",
    "        return [mw.Mode.model_validate(mode) for mode in json.loads(path.read_text())]\n",
    "\n",
    "    # fmt: off\n",
    "    m_core = mw.SampledMaterial(name=\"slab\", n=np.asarray([n_core, n_core]), params={\"wl\": np.asarray([1.0, 2.0])}, meta={\"color\": (0.9, 0, 0, 0.9)})\n",
    "    m_clad = mw.SampledMaterial(name=\"clad\", n=np.asarray([n_clad, n_clad]), params={\"wl\": np.asarray([1.0, 2.0])})\n",
    "    m_box = mw.SampledMaterial(name=\"box\", n=np.asarray([n_box, n_box]), params={\"wl\": np.asarray([1.0, 2.0])})\n",
    "    box = mw.Structure(material=m_box, geometry=mw.Box(x_min=- 2 * w_core - delta, x_max= 2 * w_core + delta, y_min=- 2 * t_soi - delta, y_max=0.0, z_min=0.0, z_max=length))\n",
    "    slab = mw.Structure(material=m_core, geometry=mw.Box(x_min=-2 * w_core - delta, x_max=2 * w_core + delta, y_min=0.0, y_max=t_slab, z_min=0.0, z_max=length))\n",
    "    clad = mw.Structure(material=m_clad, geometry=mw.Box(x_min=-2 * w_core - delta, x_max=2 * w_core + delta, y_min=0, y_max=3 * t_soi + delta, z_min=0.0, z_max=length))\n",
    "    core = mw.Structure(material=m_core, geometry=mw.Box(x_min=-w_core / 2, x_max=w_core / 2, y_min=0.0, y_max=t_soi, z_min=0.0, z_max=length))\n",
    "\n",
    "    cell = mw.Cell(structures=[box, clad, slab, core], mesh=mw.Mesh2D( x=np.arange(-2*w_core, 2*w_core, du), y=np.arange(-2*t_soi, 3*t_soi, du) ), z_min=0.0, z_max=10.0)\n",
    "    cross_section = mw.CrossSection.from_cell(cell=cell, env=env)\n",
    "    modes = mw.compute_modes(cross_section, num_modes=n_modes)\n",
    "    # fmt: on\n",
    "\n",
    "    path.write_text(json.dumps([json.loads(mode.model_dump_json()) for mode in modes]))\n",
    "\n",
    "    return modes"
   ]
  },
  {
   "cell_type": "markdown",
   "id": "7",
   "metadata": {},
   "source": [
    "We can now easily calculate the modes of a strip waveguide:"
   ]
  },
  {
   "cell_type": "code",
   "execution_count": null,
   "id": "8",
   "metadata": {},
   "outputs": [],
   "source": [
    "modes = find_waveguide_modes(wl=1.5, T=25.0)"
   ]
  },
  {
   "cell_type": "code",
   "execution_count": null,
   "id": "9",
   "metadata": {},
   "outputs": [],
   "source": [
    "mw.visualize(modes[0])"
   ]
  },
  {
   "cell_type": "code",
   "execution_count": null,
   "id": "10",
   "metadata": {},
   "outputs": [],
   "source": [
    "wls = np.linspace(1.0, 3.0, 21)\n",
    "Ts = np.linspace(25, 35, 11)\n",
    "neffs = np.zeros((wls.shape[0], Ts.shape[0]))\n",
    "for i, wl in enumerate(pb := tqdm(wls)):\n",
    "    for j, T in enumerate(Ts):\n",
    "        pb.set_postfix(T=f\"{T:.2f}C\")\n",
    "        modes = find_waveguide_modes(wl=wl, T=T, w_core=0.5, replace_cached=False)\n",
    "        neffs[i, j] = np.real(modes[0].neff)"
   ]
  },
  {
   "cell_type": "code",
   "execution_count": null,
   "id": "11",
   "metadata": {},
   "outputs": [],
   "source": [
    "plt.plot(1e3 * wls, neffs[:, 0], ls=\"none\", marker=\".\")\n",
    "plt.plot(1e3 * wls, neffs[:, -1], ls=\"none\", marker=\".\")\n",
    "plt.xlabel(\"Wavelength [nm]\")\n",
    "plt.ylabel(\"neff\")\n",
    "plt.title(\"neff dispersion\")\n",
    "plt.grid(True)\n",
    "plt.show()"
   ]
  },
  {
   "cell_type": "markdown",
   "id": "12",
   "metadata": {},
   "source": [
    "We can put the result in an xarray:"
   ]
  },
  {
   "cell_type": "code",
   "execution_count": null,
   "id": "13",
   "metadata": {},
   "outputs": [],
   "source": [
    "xarr = xr.DataArray(data=neffs, coords={\"wl\": wls, \"T\": Ts})\n",
    "xarr"
   ]
  },
  {
   "cell_type": "markdown",
   "id": "14",
   "metadata": {},
   "source": [
    "We can convert this xarray to a stacked dataframe:"
   ]
  },
  {
   "cell_type": "code",
   "execution_count": null,
   "id": "15",
   "metadata": {},
   "outputs": [],
   "source": [
    "df = sax.to_df(xarr, target_name=\"target\")\n",
    "df"
   ]
  },
  {
   "cell_type": "code",
   "execution_count": null,
   "id": "16",
   "metadata": {},
   "outputs": [],
   "source": [
    "from importlib import reload\n",
    "\n",
    "reload(sax.fit)"
   ]
  },
  {
   "cell_type": "code",
   "execution_count": null,
   "id": "17",
   "metadata": {},
   "outputs": [],
   "source": [
    "result = sax.fit.neural_fit(\n",
    "    df,\n",
    "    \"target\",\n",
    "    random_seed=12,\n",
    "    hidden_dims=(20,),\n",
    "    learning_rate=0.002,\n",
    "    num_epochs=2000,\n",
    "    transform_covariates=True,\n",
    ")"
   ]
  },
  {
   "cell_type": "code",
   "execution_count": null,
   "id": "18",
   "metadata": {},
   "outputs": [],
   "source": [
    "result[\"model\"]"
   ]
  },
  {
   "cell_type": "code",
   "execution_count": null,
   "id": "19",
   "metadata": {},
   "outputs": [],
   "source": [
    "df[\"pred\"] = sax.fit.predict_neural_model(result, df)"
   ]
  },
  {
   "cell_type": "code",
   "execution_count": null,
   "id": "20",
   "metadata": {},
   "outputs": [],
   "source": [
    "plt.plot(df.wl, df.target, \".\")\n",
    "plt.plot(df.wl, df.pred, \".\")"
   ]
  },
  {
   "cell_type": "code",
   "execution_count": null,
   "id": "21",
   "metadata": {},
   "outputs": [],
   "source": [
    "df.attrs.update({\"hey\": \"hoi\"})\n",
    "df.attrs"
   ]
  }
 ],
 "metadata": {
  "kernelspec": {
   "display_name": "sax",
   "language": "python",
   "name": "sax"
  },
  "language_info": {
   "codemirror_mode": {
    "name": "ipython",
    "version": 3
   },
   "file_extension": ".py",
   "mimetype": "text/x-python",
   "name": "python",
   "nbconvert_exporter": "python",
   "pygments_lexer": "ipython3"
  }
 },
 "nbformat": 4,
 "nbformat_minor": 5
}
