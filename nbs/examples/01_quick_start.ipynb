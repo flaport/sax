{
 "cells": [
  {
   "cell_type": "markdown",
   "id": "0",
   "metadata": {
    "papermill": {
     "duration": 0.002581,
     "end_time": "2025-06-20T08:28:49.262900",
     "exception": false,
     "start_time": "2025-06-20T08:28:49.260319",
     "status": "completed"
    },
    "tags": []
   },
   "source": [
    "# SAX Quick Start\n",
    "> Let's go over the core functionality of SAX."
   ]
  },
  {
   "cell_type": "markdown",
   "id": "1",
   "metadata": {
    "papermill": {
     "duration": 0.001932,
     "end_time": "2025-06-20T08:28:49.267109",
     "exception": false,
     "start_time": "2025-06-20T08:28:49.265177",
     "status": "completed"
    },
    "tags": []
   },
   "source": [
    "## Environment variables"
   ]
  },
  {
   "cell_type": "markdown",
   "id": "2",
   "metadata": {
    "papermill": {
     "duration": 0.002271,
     "end_time": "2025-06-20T08:28:49.271266",
     "exception": false,
     "start_time": "2025-06-20T08:28:49.268995",
     "status": "completed"
    },
    "tags": []
   },
   "source": [
    "SAX is based on JAX... here are some useful environment variables for working with JAX:"
   ]
  },
  {
   "cell_type": "code",
   "execution_count": null,
   "id": "3",
   "metadata": {
    "papermill": {
     "duration": 0.214005,
     "end_time": "2025-06-20T08:28:49.487119",
     "exception": false,
     "start_time": "2025-06-20T08:28:49.273114",
     "status": "completed"
    },
    "tags": []
   },
   "outputs": [],
   "source": [
    "# select float32 or float64 as default dtype\n",
    "%env JAX_ENABLE_X64=0\n",
    "\n",
    "# select cpu or gpu\n",
    "%env JAX_PLATFORM_NAME=cpu\n",
    "\n",
    "# set custom CUDA location for gpu:\n",
    "%env XLA_FLAGS=--xla_gpu_cuda_data_dir=/usr/lib/cuda\n",
    "\n",
    "# Using GPU?\n",
    "import jax.extend"
   ]
  },
  {
   "cell_type": "markdown",
   "id": "4",
   "metadata": {
    "papermill": {
     "duration": 0.005056,
     "end_time": "2025-06-20T08:28:49.497483",
     "exception": false,
     "start_time": "2025-06-20T08:28:49.492427",
     "status": "completed"
    },
    "tags": []
   },
   "source": [
    "## Imports"
   ]
  },
  {
   "cell_type": "code",
   "execution_count": null,
   "id": "5",
   "metadata": {
    "papermill": {
     "duration": 0.443836,
     "end_time": "2025-06-20T08:28:49.946457",
     "exception": false,
     "start_time": "2025-06-20T08:28:49.502621",
     "status": "completed"
    },
    "tags": []
   },
   "outputs": [],
   "source": [
    "import jax\n",
    "import jax.example_libraries.optimizers as opt\n",
    "import jax.numpy as jnp\n",
    "import matplotlib.pyplot as plt\n",
    "from tqdm.notebook import trange\n",
    "\n",
    "import sax"
   ]
  },
  {
   "cell_type": "markdown",
   "id": "6",
   "metadata": {
    "papermill": {
     "duration": 0.005081,
     "end_time": "2025-06-20T08:28:49.957007",
     "exception": false,
     "start_time": "2025-06-20T08:28:49.951926",
     "status": "completed"
    },
    "tags": []
   },
   "source": [
    "## Scatter *dictionaries*\n",
    "The core datastructure for specifying scatter parameters in SAX is a dictionary... more specifically a dictionary which maps a port combination (2-tuple) to a scatter parameter (or an array of scatter parameters when considering multiple wavelengths for example). Such a specific dictionary mapping is called ann `SDict` in SAX (`SDict ≈ Dict[Tuple[str,str], float]`).\n",
    "\n",
    "Dictionaries are in fact much better suited for characterizing S-parameters than, say, (jax-)numpy arrays due to the inherent sparse nature of scatter parameters. Moreover, dictonaries allow for string indexing, which makes them much more pleasant to use in this context. Let’s for example create an `SDict` for a 50/50 coupler:"
   ]
  },
  {
   "cell_type": "markdown",
   "id": "7",
   "metadata": {
    "papermill": {
     "duration": 0.005217,
     "end_time": "2025-06-20T08:28:49.967523",
     "exception": false,
     "start_time": "2025-06-20T08:28:49.962306",
     "status": "completed"
    },
    "tags": []
   },
   "source": [
    "```\n",
    "in1          out1\n",
    "   \\        /\n",
    "    ========\n",
    "   /        \\\n",
    "in0          out0\n",
    "```"
   ]
  },
  {
   "cell_type": "code",
   "execution_count": null,
   "id": "8",
   "metadata": {
    "papermill": {
     "duration": 0.014697,
     "end_time": "2025-06-20T08:28:49.987658",
     "exception": false,
     "start_time": "2025-06-20T08:28:49.972961",
     "status": "completed"
    },
    "tags": []
   },
   "outputs": [],
   "source": [
    "coupling = 0.5\n",
    "kappa = coupling**0.5\n",
    "tau = (1 - coupling) ** 0.5\n",
    "coupler_dict = {\n",
    "    (\"in0\", \"out0\"): tau,\n",
    "    (\"out0\", \"in0\"): tau,\n",
    "    (\"in0\", \"out1\"): 1j * kappa,\n",
    "    (\"out1\", \"in0\"): 1j * kappa,\n",
    "    (\"in1\", \"out0\"): 1j * kappa,\n",
    "    (\"out0\", \"in1\"): 1j * kappa,\n",
    "    (\"in1\", \"out1\"): tau,\n",
    "    (\"out1\", \"in1\"): tau,\n",
    "}\n",
    "coupler_dict"
   ]
  },
  {
   "cell_type": "markdown",
   "id": "9",
   "metadata": {
    "papermill": {
     "duration": 0.003698,
     "end_time": "2025-06-20T08:28:49.996722",
     "exception": false,
     "start_time": "2025-06-20T08:28:49.993024",
     "status": "completed"
    },
    "tags": []
   },
   "source": [
    "Only the non-zero port combinations need to be specified. Any non-existent port-combination (for example `(\"in0\", \"in1\")`) is considered to be zero by SAX.\n",
    "\n",
    "Obviously, it can still be tedious to specify every port in the circuit manually. SAX therefore offers the `reciprocal` function, which auto-fills the reverse connection if the forward connection exist. For example:"
   ]
  },
  {
   "cell_type": "code",
   "execution_count": null,
   "id": "10",
   "metadata": {
    "papermill": {
     "duration": 0.080828,
     "end_time": "2025-06-20T08:28:50.082996",
     "exception": false,
     "start_time": "2025-06-20T08:28:50.002168",
     "status": "completed"
    },
    "tags": []
   },
   "outputs": [],
   "source": [
    "coupler_dict = sax.reciprocal(\n",
    "    {\n",
    "        (\"in0\", \"out0\"): tau,\n",
    "        (\"in0\", \"out1\"): 1j * kappa,\n",
    "        (\"in1\", \"out0\"): 1j * kappa,\n",
    "        (\"in1\", \"out1\"): tau,\n",
    "    }\n",
    ")\n",
    "\n",
    "coupler_dict"
   ]
  },
  {
   "cell_type": "markdown",
   "id": "11",
   "metadata": {
    "papermill": {
     "duration": 0.002536,
     "end_time": "2025-06-20T08:28:50.088899",
     "exception": false,
     "start_time": "2025-06-20T08:28:50.086363",
     "status": "completed"
    },
    "tags": []
   },
   "source": [
    "## Parametrized Models"
   ]
  },
  {
   "cell_type": "markdown",
   "id": "12",
   "metadata": {
    "papermill": {
     "duration": 0.002235,
     "end_time": "2025-06-20T08:28:50.093342",
     "exception": false,
     "start_time": "2025-06-20T08:28:50.091107",
     "status": "completed"
    },
    "tags": []
   },
   "source": [
    "Constructing such an `SDict` is easy, however, usually we're more interested in having parametrized models for our components. To parametrize the coupler `SDict`, just wrap it in a function to obtain a SAX `Model`, which is a keyword-only function mapping to an `SDict`:"
   ]
  },
  {
   "cell_type": "code",
   "execution_count": null,
   "id": "13",
   "metadata": {
    "papermill": {
     "duration": 0.018225,
     "end_time": "2025-06-20T08:28:50.117544",
     "exception": false,
     "start_time": "2025-06-20T08:28:50.099319",
     "status": "completed"
    },
    "tags": []
   },
   "outputs": [],
   "source": [
    "def coupler(coupling=0.5) -> sax.SDict:\n",
    "    kappa = coupling**0.5\n",
    "    tau = (1 - coupling) ** 0.5\n",
    "    coupler_dict = sax.reciprocal(\n",
    "        {\n",
    "            (\"in0\", \"out0\"): tau,\n",
    "            (\"in0\", \"out1\"): 1j * kappa,\n",
    "            (\"in1\", \"out0\"): 1j * kappa,\n",
    "            (\"in1\", \"out1\"): tau,\n",
    "        }\n",
    "    )\n",
    "    return coupler_dict\n",
    "\n",
    "\n",
    "coupler(coupling=0.3)"
   ]
  },
  {
   "cell_type": "markdown",
   "id": "14",
   "metadata": {
    "papermill": {
     "duration": 0.002533,
     "end_time": "2025-06-20T08:28:50.125915",
     "exception": false,
     "start_time": "2025-06-20T08:28:50.123382",
     "status": "completed"
    },
    "tags": []
   },
   "source": [
    "We can define a waveguide in the same way:"
   ]
  },
  {
   "cell_type": "code",
   "execution_count": null,
   "id": "15",
   "metadata": {
    "papermill": {
     "duration": 0.013552,
     "end_time": "2025-06-20T08:28:50.145008",
     "exception": false,
     "start_time": "2025-06-20T08:28:50.131456",
     "status": "completed"
    },
    "tags": []
   },
   "outputs": [],
   "source": [
    "def waveguide(wl=1.55, wl0=1.55, neff=2.34, ng=3.4, length=10.0, loss=0.0) -> sax.SDict:\n",
    "    dwl = wl - wl0\n",
    "    dneff_dwl = (ng - neff) / wl0\n",
    "    neff = neff - dwl * dneff_dwl\n",
    "    phase = 2 * jnp.pi * neff * length / wl\n",
    "    transmission = 10 ** (-loss * length / 20) * jnp.exp(1j * phase)\n",
    "    sdict = sax.reciprocal(\n",
    "        {\n",
    "            (\"in0\", \"out0\"): transmission,\n",
    "        }\n",
    "    )\n",
    "    return sdict"
   ]
  },
  {
   "cell_type": "markdown",
   "id": "16",
   "metadata": {
    "papermill": {
     "duration": 0.005307,
     "end_time": "2025-06-20T08:28:50.156259",
     "exception": false,
     "start_time": "2025-06-20T08:28:50.150952",
     "status": "completed"
    },
    "tags": []
   },
   "source": [
    "That's pretty straightforward. Let's now move on to parametrized circuits:"
   ]
  },
  {
   "cell_type": "markdown",
   "id": "17",
   "metadata": {
    "papermill": {
     "duration": 0.005905,
     "end_time": "2025-06-20T08:28:50.168338",
     "exception": false,
     "start_time": "2025-06-20T08:28:50.162433",
     "status": "completed"
    },
    "tags": []
   },
   "source": [
    "## Circuit Models"
   ]
  },
  {
   "cell_type": "markdown",
   "id": "18",
   "metadata": {
    "papermill": {
     "duration": 0.006543,
     "end_time": "2025-06-20T08:28:50.180645",
     "exception": false,
     "start_time": "2025-06-20T08:28:50.174102",
     "status": "completed"
    },
    "tags": []
   },
   "source": [
    "Existing models can now be combined into a circuit using `sax.circuit`, which basically creates a new `Model` function:"
   ]
  },
  {
   "cell_type": "code",
   "execution_count": null,
   "id": "19",
   "metadata": {
    "papermill": {
     "duration": 1.147224,
     "end_time": "2025-06-20T08:28:51.333816",
     "exception": false,
     "start_time": "2025-06-20T08:28:50.186592",
     "status": "completed"
    },
    "tags": []
   },
   "outputs": [],
   "source": [
    "mzi, info = sax.circuit(\n",
    "    netlist={\n",
    "        \"instances\": {\n",
    "            \"lft\": \"coupler\",\n",
    "            \"top\": \"waveguide\",\n",
    "            \"btm\": \"waveguide\",\n",
    "            \"rgt\": \"coupler\",\n",
    "        },\n",
    "        \"connections\": {\n",
    "            \"lft,out0\": \"btm,in0\",\n",
    "            \"btm,out0\": \"rgt,in0\",\n",
    "            \"lft,out1\": \"top,in0\",\n",
    "            \"top,out0\": \"rgt,in1\",\n",
    "        },\n",
    "        \"ports\": {\n",
    "            \"in0\": \"lft,in0\",\n",
    "            \"in1\": \"lft,in1\",\n",
    "            \"out0\": \"rgt,out0\",\n",
    "            \"out1\": \"rgt,out1\",\n",
    "        },\n",
    "    },\n",
    "    models={\n",
    "        \"coupler\": coupler,\n",
    "        \"waveguide\": waveguide,\n",
    "    },\n",
    "    return_type=\"SDict\",\n",
    ")"
   ]
  },
  {
   "cell_type": "code",
   "execution_count": null,
   "id": "20",
   "metadata": {
    "papermill": {
     "duration": 0.687417,
     "end_time": "2025-06-20T08:28:52.026987",
     "exception": false,
     "start_time": "2025-06-20T08:28:51.339570",
     "status": "completed"
    },
    "tags": []
   },
   "outputs": [],
   "source": [
    "mzi()"
   ]
  },
  {
   "cell_type": "code",
   "execution_count": null,
   "id": "21",
   "metadata": {
    "papermill": {
     "duration": 0.041318,
     "end_time": "2025-06-20T08:28:52.095496",
     "exception": false,
     "start_time": "2025-06-20T08:28:52.054178",
     "status": "completed"
    },
    "tags": []
   },
   "outputs": [],
   "source": [
    "?mzi"
   ]
  },
  {
   "cell_type": "markdown",
   "id": "22",
   "metadata": {
    "papermill": {
     "duration": 0.006506,
     "end_time": "2025-06-20T08:28:52.108949",
     "exception": false,
     "start_time": "2025-06-20T08:28:52.102443",
     "status": "completed"
    },
    "tags": []
   },
   "source": [
    "The `circuit` function just creates a similar function as we created for the waveguide and the coupler, but in stead of taking parameters directly it takes parameter *dictionaries* for each of the instances in the circuit. The keys in these parameter dictionaries should correspond to the keyword arguments of each individual subcomponent. "
   ]
  },
  {
   "cell_type": "markdown",
   "id": "23",
   "metadata": {
    "papermill": {
     "duration": 0.008628,
     "end_time": "2025-06-20T08:28:52.123869",
     "exception": false,
     "start_time": "2025-06-20T08:28:52.115241",
     "status": "completed"
    },
    "tags": []
   },
   "source": [
    "There is also some circuit metadata information returned as a second return value of the `sax.circuit` call:"
   ]
  },
  {
   "cell_type": "code",
   "execution_count": null,
   "id": "24",
   "metadata": {
    "papermill": {
     "duration": 0.014303,
     "end_time": "2025-06-20T08:28:52.144353",
     "exception": false,
     "start_time": "2025-06-20T08:28:52.130050",
     "status": "completed"
    },
    "tags": []
   },
   "outputs": [],
   "source": [
    "info"
   ]
  },
  {
   "cell_type": "markdown",
   "id": "25",
   "metadata": {
    "papermill": {
     "duration": 0.00643,
     "end_time": "2025-06-20T08:28:52.156724",
     "exception": false,
     "start_time": "2025-06-20T08:28:52.150294",
     "status": "completed"
    },
    "tags": []
   },
   "source": [
    "Let's now do a simulation for the MZI we just constructed:"
   ]
  },
  {
   "cell_type": "code",
   "execution_count": null,
   "id": "26",
   "metadata": {
    "papermill": {
     "duration": 0.05642,
     "end_time": "2025-06-20T08:28:52.218189",
     "exception": false,
     "start_time": "2025-06-20T08:28:52.161769",
     "status": "completed"
    },
    "tags": []
   },
   "outputs": [],
   "source": [
    "%time mzi()"
   ]
  },
  {
   "cell_type": "code",
   "execution_count": null,
   "id": "27",
   "metadata": {
    "papermill": {
     "duration": 0.015112,
     "end_time": "2025-06-20T08:28:52.236066",
     "exception": false,
     "start_time": "2025-06-20T08:28:52.220954",
     "status": "completed"
    },
    "tags": []
   },
   "outputs": [],
   "source": [
    "mzi2 = jax.jit(mzi)"
   ]
  },
  {
   "cell_type": "code",
   "execution_count": null,
   "id": "28",
   "metadata": {
    "papermill": {
     "duration": 0.093484,
     "end_time": "2025-06-20T08:28:52.335166",
     "exception": false,
     "start_time": "2025-06-20T08:28:52.241682",
     "status": "completed"
    },
    "tags": []
   },
   "outputs": [],
   "source": [
    "%time mzi2()"
   ]
  },
  {
   "cell_type": "code",
   "execution_count": null,
   "id": "29",
   "metadata": {
    "papermill": {
     "duration": 0.017257,
     "end_time": "2025-06-20T08:28:52.358484",
     "exception": false,
     "start_time": "2025-06-20T08:28:52.341227",
     "status": "completed"
    },
    "tags": []
   },
   "outputs": [],
   "source": [
    "%time mzi2()"
   ]
  },
  {
   "cell_type": "markdown",
   "id": "30",
   "metadata": {
    "papermill": {
     "duration": 0.004552,
     "end_time": "2025-06-20T08:28:52.370239",
     "exception": false,
     "start_time": "2025-06-20T08:28:52.365687",
     "status": "completed"
    },
    "tags": []
   },
   "source": [
    "Or in the case we want an MZI with different arm lengths:"
   ]
  },
  {
   "cell_type": "code",
   "execution_count": null,
   "id": "31",
   "metadata": {
    "papermill": {
     "duration": 0.060084,
     "end_time": "2025-06-20T08:28:52.437465",
     "exception": false,
     "start_time": "2025-06-20T08:28:52.377381",
     "status": "completed"
    },
    "tags": []
   },
   "outputs": [],
   "source": [
    "mzi(top={\"length\": 25.0}, btm={\"length\": 15.0})"
   ]
  },
  {
   "cell_type": "markdown",
   "id": "32",
   "metadata": {
    "papermill": {
     "duration": 0.006606,
     "end_time": "2025-06-20T08:28:52.446825",
     "exception": false,
     "start_time": "2025-06-20T08:28:52.440219",
     "status": "completed"
    },
    "tags": []
   },
   "source": [
    "## Simulating the parametrized MZI"
   ]
  },
  {
   "cell_type": "markdown",
   "id": "33",
   "metadata": {
    "papermill": {
     "duration": 0.011773,
     "end_time": "2025-06-20T08:28:52.465115",
     "exception": false,
     "start_time": "2025-06-20T08:28:52.453342",
     "status": "completed"
    },
    "tags": []
   },
   "source": [
    "We can simulate the above mzi for multiple wavelengths as well by specifying the wavelength at the top level of the circuit call. Each setting specified at the top level of the circuit call will be propagated to all subcomponents of the circuit which have that setting:"
   ]
  },
  {
   "cell_type": "code",
   "execution_count": null,
   "id": "34",
   "metadata": {
    "papermill": {
     "duration": 1.487733,
     "end_time": "2025-06-20T08:28:53.960746",
     "exception": false,
     "start_time": "2025-06-20T08:28:52.473013",
     "status": "completed"
    },
    "tags": []
   },
   "outputs": [],
   "source": [
    "wl = jnp.linspace(1.51, 1.59, 1000)\n",
    "S = mzi(wl=wl, top={\"length\": 25.0}, btm={\"length\": 15.0})"
   ]
  },
  {
   "cell_type": "markdown",
   "id": "35",
   "metadata": {
    "papermill": {
     "duration": 0.002867,
     "end_time": "2025-06-20T08:28:53.970152",
     "exception": false,
     "start_time": "2025-06-20T08:28:53.967285",
     "status": "completed"
    },
    "tags": []
   },
   "source": [
    "Let's see what this gives:"
   ]
  },
  {
   "cell_type": "code",
   "execution_count": null,
   "id": "36",
   "metadata": {
    "papermill": {
     "duration": 0.109231,
     "end_time": "2025-06-20T08:28:54.086464",
     "exception": false,
     "start_time": "2025-06-20T08:28:53.977233",
     "status": "completed"
    },
    "tags": []
   },
   "outputs": [],
   "source": [
    "plt.plot(wl * 1e3, abs(S[\"in0\", \"out0\"]) ** 2)\n",
    "plt.ylim(-0.05, 1.05)\n",
    "plt.xlabel(\"λ [nm]\")\n",
    "plt.ylabel(\"T\")\n",
    "plt.ylim(-0.05, 1.05)\n",
    "plt.show()"
   ]
  },
  {
   "cell_type": "markdown",
   "id": "37",
   "metadata": {
    "papermill": {
     "duration": 0.004909,
     "end_time": "2025-06-20T08:28:54.098308",
     "exception": false,
     "start_time": "2025-06-20T08:28:54.093399",
     "status": "completed"
    },
    "tags": []
   },
   "source": [
    "## Optimization"
   ]
  },
  {
   "cell_type": "markdown",
   "id": "38",
   "metadata": {
    "papermill": {
     "duration": 0.004668,
     "end_time": "2025-06-20T08:28:54.109969",
     "exception": false,
     "start_time": "2025-06-20T08:28:54.105301",
     "status": "completed"
    },
    "tags": []
   },
   "source": [
    "We'd like to optimize an MZI such that one of the minima is at 1550nm. To do this, we need to define a loss function for the circuit at 1550nm. This function should take the parameters that you want to optimize as positional arguments:"
   ]
  },
  {
   "cell_type": "code",
   "execution_count": null,
   "id": "39",
   "metadata": {
    "papermill": {
     "duration": 0.012002,
     "end_time": "2025-06-20T08:28:54.128992",
     "exception": false,
     "start_time": "2025-06-20T08:28:54.116990",
     "status": "completed"
    },
    "tags": []
   },
   "outputs": [],
   "source": [
    "@jax.jit\n",
    "def loss_fn(delta_length):\n",
    "    S = mzi(wl=1.55, top={\"length\": 15.0 + delta_length}, btm={\"length\": 15.0})\n",
    "    return (abs(S[\"in0\", \"out0\"]) ** 2).mean()"
   ]
  },
  {
   "cell_type": "code",
   "execution_count": null,
   "id": "40",
   "metadata": {
    "papermill": {
     "duration": 0.084493,
     "end_time": "2025-06-20T08:28:54.220388",
     "exception": false,
     "start_time": "2025-06-20T08:28:54.135895",
     "status": "completed"
    },
    "tags": []
   },
   "outputs": [],
   "source": [
    "%time loss_fn(10.0)"
   ]
  },
  {
   "cell_type": "markdown",
   "id": "41",
   "metadata": {
    "papermill": {
     "duration": 0.005925,
     "end_time": "2025-06-20T08:28:54.233139",
     "exception": false,
     "start_time": "2025-06-20T08:28:54.227214",
     "status": "completed"
    },
    "tags": []
   },
   "source": [
    "We can use this loss function to define a grad function which works on the parameters of the loss function:"
   ]
  },
  {
   "cell_type": "code",
   "execution_count": null,
   "id": "42",
   "metadata": {
    "papermill": {
     "duration": 0.010247,
     "end_time": "2025-06-20T08:28:54.250520",
     "exception": false,
     "start_time": "2025-06-20T08:28:54.240273",
     "status": "completed"
    },
    "tags": []
   },
   "outputs": [],
   "source": [
    "grad_fn = jax.jit(\n",
    "    jax.grad(\n",
    "        loss_fn,\n",
    "        argnums=0,  # JAX gradient function for the first positional argument, jitted\n",
    "    )\n",
    ")"
   ]
  },
  {
   "cell_type": "markdown",
   "id": "43",
   "metadata": {
    "papermill": {
     "duration": 0.004783,
     "end_time": "2025-06-20T08:28:54.262375",
     "exception": false,
     "start_time": "2025-06-20T08:28:54.257592",
     "status": "completed"
    },
    "tags": []
   },
   "source": [
    "Next, we need to define a JAX optimizer, which on its own is nothing more than three more functions:  an initialization function with which to initialize the optimizer state, an update function which will update the optimizer state (and with it the model parameters). The third function that's being returned will give the model parameters given the optimizer state."
   ]
  },
  {
   "cell_type": "code",
   "execution_count": null,
   "id": "44",
   "metadata": {
    "papermill": {
     "duration": 0.011628,
     "end_time": "2025-06-20T08:28:54.281746",
     "exception": false,
     "start_time": "2025-06-20T08:28:54.270118",
     "status": "completed"
    },
    "tags": []
   },
   "outputs": [],
   "source": [
    "initial_delta_length = 10.0\n",
    "init_fn, update_fn, params_fn = opt.adam(step_size=0.1)\n",
    "state = init_fn(initial_delta_length)"
   ]
  },
  {
   "cell_type": "markdown",
   "id": "45",
   "metadata": {
    "papermill": {
     "duration": 0.005095,
     "end_time": "2025-06-20T08:28:54.293969",
     "exception": false,
     "start_time": "2025-06-20T08:28:54.288874",
     "status": "completed"
    },
    "tags": []
   },
   "source": [
    "Given all this, a single training step can be defined:"
   ]
  },
  {
   "cell_type": "code",
   "execution_count": null,
   "id": "46",
   "metadata": {
    "papermill": {
     "duration": 0.01377,
     "end_time": "2025-06-20T08:28:54.314400",
     "exception": false,
     "start_time": "2025-06-20T08:28:54.300630",
     "status": "completed"
    },
    "tags": []
   },
   "outputs": [],
   "source": [
    "def step_fn(step, state):\n",
    "    settings = params_fn(state)\n",
    "    loss = loss_fn(settings)\n",
    "    grad = grad_fn(settings)\n",
    "    state = update_fn(step, grad, state)\n",
    "    return loss, state"
   ]
  },
  {
   "cell_type": "markdown",
   "id": "47",
   "metadata": {
    "papermill": {
     "duration": 0.004756,
     "end_time": "2025-06-20T08:28:54.326004",
     "exception": false,
     "start_time": "2025-06-20T08:28:54.321248",
     "status": "completed"
    },
    "tags": []
   },
   "source": [
    "And we can use this step function to start the training of the MZI:"
   ]
  },
  {
   "cell_type": "code",
   "execution_count": null,
   "id": "48",
   "metadata": {
    "papermill": {
     "duration": 7.173991,
     "end_time": "2025-06-20T08:29:01.505650",
     "exception": false,
     "start_time": "2025-06-20T08:28:54.331659",
     "status": "completed"
    },
    "tags": []
   },
   "outputs": [],
   "source": [
    "range_ = trange(300)\n",
    "for step in range_:\n",
    "    loss, state = step_fn(step, state)\n",
    "    range_.set_postfix(loss=f\"{loss:.6f}\")"
   ]
  },
  {
   "cell_type": "code",
   "execution_count": null,
   "id": "49",
   "metadata": {
    "papermill": {
     "duration": 0.005814,
     "end_time": "2025-06-20T08:29:01.514657",
     "exception": false,
     "start_time": "2025-06-20T08:29:01.508843",
     "status": "completed"
    },
    "tags": []
   },
   "outputs": [],
   "source": [
    "delta_length = params_fn(state)\n",
    "delta_length"
   ]
  },
  {
   "cell_type": "markdown",
   "id": "50",
   "metadata": {
    "papermill": {
     "duration": 0.002908,
     "end_time": "2025-06-20T08:29:01.520603",
     "exception": false,
     "start_time": "2025-06-20T08:29:01.517695",
     "status": "completed"
    },
    "tags": []
   },
   "source": [
    "Let's see what we've got over a range of wavelengths:"
   ]
  },
  {
   "cell_type": "code",
   "execution_count": null,
   "id": "51",
   "metadata": {
    "papermill": {
     "duration": 0.192098,
     "end_time": "2025-06-20T08:29:01.715564",
     "exception": false,
     "start_time": "2025-06-20T08:29:01.523466",
     "status": "completed"
    },
    "tags": []
   },
   "outputs": [],
   "source": [
    "S = mzi(wl=wl, top={\"length\": 15.0 + delta_length}, btm={\"length\": 15.0})\n",
    "plt.plot(wl * 1e3, abs(S[\"in1\", \"out1\"]) ** 2)\n",
    "plt.xlabel(\"λ [nm]\")\n",
    "plt.ylabel(\"T\")\n",
    "plt.ylim(-0.05, 1.05)\n",
    "plt.plot([1550, 1550], [0, 1])\n",
    "plt.show()"
   ]
  },
  {
   "cell_type": "markdown",
   "id": "52",
   "metadata": {
    "papermill": {
     "duration": 0.002632,
     "end_time": "2025-06-20T08:29:01.721120",
     "exception": false,
     "start_time": "2025-06-20T08:29:01.718488",
     "status": "completed"
    },
    "tags": []
   },
   "source": [
    "The minimum of the MZI is perfectly located at 1550nm."
   ]
  },
  {
   "cell_type": "markdown",
   "id": "53",
   "metadata": {
    "papermill": {
     "duration": 0.002543,
     "end_time": "2025-06-20T08:29:01.726211",
     "exception": false,
     "start_time": "2025-06-20T08:29:01.723668",
     "status": "completed"
    },
    "tags": []
   },
   "source": [
    "## MZI Chain"
   ]
  },
  {
   "cell_type": "markdown",
   "id": "54",
   "metadata": {
    "papermill": {
     "duration": 0.002672,
     "end_time": "2025-06-20T08:29:01.731660",
     "exception": false,
     "start_time": "2025-06-20T08:29:01.728988",
     "status": "completed"
    },
    "tags": []
   },
   "source": [
    "Let's now create a chain of MZIs. For this, we first create a subcomponent: a directional coupler with arms:\n",
    "\n",
    "\n",
    "```\n",
    "                                 top\n",
    "                            in0 ----- out0 -> out1\n",
    "    in1 <- in1        out1                 \n",
    "              \\  dc  /                  \n",
    "               ======                  \n",
    "              /      \\                \n",
    "    in0 <- in0        out0       btm    \n",
    "                            in0 ----- out0 -> out0\n",
    "```"
   ]
  },
  {
   "cell_type": "code",
   "execution_count": null,
   "id": "55",
   "metadata": {
    "papermill": {
     "duration": 0.368604,
     "end_time": "2025-06-20T08:29:02.102892",
     "exception": false,
     "start_time": "2025-06-20T08:29:01.734288",
     "status": "completed"
    },
    "tags": []
   },
   "outputs": [],
   "source": [
    "dc_with_arms, info = sax.circuit(\n",
    "    netlist={\n",
    "        \"instances\": {\n",
    "            \"lft\": \"coupler\",\n",
    "            \"top\": \"waveguide\",\n",
    "            \"btm\": \"waveguide\",\n",
    "        },\n",
    "        \"connections\": {\n",
    "            \"lft,out0\": \"btm,in0\",\n",
    "            \"lft,out1\": \"top,in0\",\n",
    "        },\n",
    "        \"ports\": {\n",
    "            \"in0\": \"lft,in0\",\n",
    "            \"in1\": \"lft,in1\",\n",
    "            \"out0\": \"btm,out0\",\n",
    "            \"out1\": \"top,out0\",\n",
    "        },\n",
    "    },\n",
    "    models={\n",
    "        \"coupler\": coupler,\n",
    "        \"waveguide\": waveguide,\n",
    "    },\n",
    ")"
   ]
  },
  {
   "cell_type": "markdown",
   "id": "56",
   "metadata": {
    "papermill": {
     "duration": 0.002754,
     "end_time": "2025-06-20T08:29:02.108747",
     "exception": false,
     "start_time": "2025-06-20T08:29:02.105993",
     "status": "completed"
    },
    "tags": []
   },
   "source": [
    "An MZI chain can now be created by cascading these directional couplers with arms:\n",
    "\n",
    "```\n",
    "      _    _    _    _             _    _  \n",
    "    \\/   \\/   \\/   \\/     ...    \\/   \\/   \n",
    "    /\\_  /\\_  /\\_  /\\_           /\\_  /\\_  \n",
    "```\n",
    "\n",
    "Let's create a *model factory* (`ModelFactory`) for this. In SAX, a *model factory* is any keyword-only function that generates a `Model`:"
   ]
  },
  {
   "cell_type": "code",
   "execution_count": null,
   "id": "57",
   "metadata": {
    "papermill": {
     "duration": 0.005739,
     "end_time": "2025-06-20T08:29:02.117160",
     "exception": false,
     "start_time": "2025-06-20T08:29:02.111421",
     "status": "completed"
    },
    "tags": []
   },
   "outputs": [],
   "source": [
    "def mzi_chain(num_mzis=1) -> sax.Model:\n",
    "    chain, _ = sax.circuit(\n",
    "        netlist={\n",
    "            \"instances\": {f\"dc{i}\": \"dc_with_arms\" for i in range(num_mzis + 1)},\n",
    "            \"connections\": {\n",
    "                **{f\"dc{i},out0\": f\"dc{i + 1},in0\" for i in range(num_mzis)},\n",
    "                **{f\"dc{i},out1\": f\"dc{i + 1},in1\" for i in range(num_mzis)},\n",
    "            },\n",
    "            \"ports\": {\n",
    "                \"in0\": \"dc0,in0\",\n",
    "                \"in1\": \"dc0,in1\",\n",
    "                \"out0\": f\"dc{num_mzis},out0\",\n",
    "                \"out1\": f\"dc{num_mzis},out1\",\n",
    "            },\n",
    "        },\n",
    "        models={\"dc_with_arms\": dc_with_arms},\n",
    "        backend=\"klu\",\n",
    "    )\n",
    "    return chain"
   ]
  },
  {
   "cell_type": "markdown",
   "id": "58",
   "metadata": {
    "papermill": {
     "duration": 0.002814,
     "end_time": "2025-06-20T08:29:02.122838",
     "exception": false,
     "start_time": "2025-06-20T08:29:02.120024",
     "status": "completed"
    },
    "tags": []
   },
   "source": [
    "Let's for example create a chain with 15 MZIs. We can also update the settings dictionary as follows:"
   ]
  },
  {
   "cell_type": "code",
   "execution_count": null,
   "id": "59",
   "metadata": {
    "papermill": {
     "duration": 0.730445,
     "end_time": "2025-06-20T08:29:02.856093",
     "exception": false,
     "start_time": "2025-06-20T08:29:02.125648",
     "status": "completed"
    },
    "tags": []
   },
   "outputs": [],
   "source": [
    "chain = mzi_chain(num_mzis=15)\n",
    "settings = sax.get_settings(chain)\n",
    "for dc in settings:\n",
    "    settings[dc][\"top\"][\"length\"] = 25.0\n",
    "    settings[dc][\"btm\"][\"length\"] = 15.0\n",
    "settings = sax.update_settings(settings, wl=jnp.linspace(1.5, 1.6, 1000))"
   ]
  },
  {
   "cell_type": "markdown",
   "id": "60",
   "metadata": {
    "papermill": {
     "duration": 0.002925,
     "end_time": "2025-06-20T08:29:02.862210",
     "exception": false,
     "start_time": "2025-06-20T08:29:02.859285",
     "status": "completed"
    },
    "tags": []
   },
   "source": [
    "We can simulate this:"
   ]
  },
  {
   "cell_type": "code",
   "execution_count": null,
   "id": "61",
   "metadata": {
    "papermill": {
     "duration": 9.045209,
     "end_time": "2025-06-20T08:29:11.910264",
     "exception": false,
     "start_time": "2025-06-20T08:29:02.865055",
     "status": "completed"
    },
    "tags": []
   },
   "outputs": [],
   "source": [
    "%time S = chain(**settings) # time to evaluate the MZI\n",
    "func = jax.jit(chain)\n",
    "%time S = func(**settings) # time to jit the MZI\n",
    "%time S = func(**settings) # time to evaluate the MZI after jitting"
   ]
  },
  {
   "cell_type": "markdown",
   "id": "62",
   "metadata": {
    "papermill": {
     "duration": 0.002917,
     "end_time": "2025-06-20T08:29:11.916382",
     "exception": false,
     "start_time": "2025-06-20T08:29:11.913465",
     "status": "completed"
    },
    "tags": []
   },
   "source": [
    "Where we see that the unjitted evaluation of the MZI chain takes about a second, while the jitting of the MZI chain takes about two seconds (on a CPU). However, after the MZI chain has been jitted, the evaluation is in the order of about a few milliseconds!\n",
    "\n",
    "Anyway, let's see what this gives:"
   ]
  },
  {
   "cell_type": "code",
   "execution_count": null,
   "id": "63",
   "metadata": {
    "papermill": {
     "duration": 0.429985,
     "end_time": "2025-06-20T08:29:12.349394",
     "exception": false,
     "start_time": "2025-06-20T08:29:11.919409",
     "status": "completed"
    },
    "tags": []
   },
   "outputs": [],
   "source": [
    "%%time\n",
    "S = sax.sdict(S)\n",
    "plt.plot(1e3 * settings[\"dc0\"][\"top\"][\"wl\"], jnp.abs(S[\"in0\", \"out0\"]) ** 2)\n",
    "plt.ylim(-0.05, 1.05)\n",
    "plt.xlabel(\"λ [nm]\")\n",
    "plt.ylabel(\"T\")\n",
    "plt.ylim(-0.05, 1.05)\n",
    "plt.show()"
   ]
  }
 ],
 "metadata": {
  "kernelspec": {
   "display_name": "sax",
   "language": "python",
   "name": "sax"
  },
  "language_info": {
   "codemirror_mode": {
    "name": "ipython",
    "version": 3
   },
   "file_extension": ".py",
   "mimetype": "text/x-python",
   "name": "python",
   "nbconvert_exporter": "python",
   "pygments_lexer": "ipython3",
   "version": "3.12.10"
  },
  "papermill": {
   "default_parameters": {},
   "duration": 26.601205,
   "end_time": "2025-06-20T08:29:14.968087",
   "environment_variables": {},
   "exception": null,
   "input_path": "nbs/examples/01_quick_start.ipynb",
   "output_path": "nbs/examples/01_quick_start.ipynb",
   "parameters": {},
   "start_time": "2025-06-20T08:28:48.366882",
   "version": "2.6.0"
  }
 },
 "nbformat": 4,
 "nbformat_minor": 5
}
