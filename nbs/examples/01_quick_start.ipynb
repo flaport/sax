{
 "cells": [
  {
   "cell_type": "markdown",
   "id": "0",
   "metadata": {
    "papermill": {
     "duration": 0.005801,
     "end_time": "2025-06-19T15:09:53.114454",
     "exception": false,
     "start_time": "2025-06-19T15:09:53.108653",
     "status": "completed"
    },
    "tags": []
   },
   "source": [
    "# SAX Quick Start\n",
    "> Let's go over the core functionality of SAX."
   ]
  },
  {
   "cell_type": "markdown",
   "id": "1",
   "metadata": {
    "papermill": {
     "duration": 0.002219,
     "end_time": "2025-06-19T15:09:53.120613",
     "exception": false,
     "start_time": "2025-06-19T15:09:53.118394",
     "status": "completed"
    },
    "tags": []
   },
   "source": [
    "## Environment variables"
   ]
  },
  {
   "cell_type": "markdown",
   "id": "2",
   "metadata": {
    "papermill": {
     "duration": 0.00631,
     "end_time": "2025-06-19T15:09:53.132103",
     "exception": false,
     "start_time": "2025-06-19T15:09:53.125793",
     "status": "completed"
    },
    "tags": []
   },
   "source": [
    "SAX is based on JAX... here are some useful environment variables for working with JAX:"
   ]
  },
  {
   "cell_type": "code",
   "execution_count": null,
   "id": "3",
   "metadata": {
    "papermill": {
     "duration": 0.235295,
     "end_time": "2025-06-19T15:09:53.372700",
     "exception": false,
     "start_time": "2025-06-19T15:09:53.137405",
     "status": "completed"
    },
    "tags": []
   },
   "outputs": [],
   "source": [
    "# select float32 or float64 as default dtype\n",
    "%env JAX_ENABLE_X64=0\n",
    "\n",
    "# select cpu or gpu\n",
    "%env JAX_PLATFORM_NAME=cpu\n",
    "\n",
    "# set custom CUDA location for gpu:\n",
    "%env XLA_FLAGS=--xla_gpu_cuda_data_dir=/usr/lib/cuda\n",
    "\n",
    "# Using GPU?\n",
    "import jax.extend"
   ]
  },
  {
   "cell_type": "markdown",
   "id": "4",
   "metadata": {
    "papermill": {
     "duration": 0.005191,
     "end_time": "2025-06-19T15:09:53.383248",
     "exception": false,
     "start_time": "2025-06-19T15:09:53.378057",
     "status": "completed"
    },
    "tags": []
   },
   "source": [
    "## Imports"
   ]
  },
  {
   "cell_type": "code",
   "execution_count": null,
   "id": "5",
   "metadata": {
    "papermill": {
     "duration": 0.457177,
     "end_time": "2025-06-19T15:09:53.845627",
     "exception": false,
     "start_time": "2025-06-19T15:09:53.388450",
     "status": "completed"
    },
    "tags": []
   },
   "outputs": [],
   "source": [
    "import jax\n",
    "import jax.example_libraries.optimizers as opt\n",
    "import jax.numpy as jnp\n",
    "import matplotlib.pyplot as plt\n",
    "from tqdm.notebook import trange\n",
    "\n",
    "import sax"
   ]
  },
  {
   "cell_type": "markdown",
   "id": "6",
   "metadata": {
    "papermill": {
     "duration": 0.00495,
     "end_time": "2025-06-19T15:09:53.855993",
     "exception": false,
     "start_time": "2025-06-19T15:09:53.851043",
     "status": "completed"
    },
    "tags": []
   },
   "source": [
    "## Scatter *dictionaries*\n",
    "The core datastructure for specifying scatter parameters in SAX is a dictionary... more specifically a dictionary which maps a port combination (2-tuple) to a scatter parameter (or an array of scatter parameters when considering multiple wavelengths for example). Such a specific dictionary mapping is called ann `SDict` in SAX (`SDict ≈ Dict[Tuple[str,str], float]`).\n",
    "\n",
    "Dictionaries are in fact much better suited for characterizing S-parameters than, say, (jax-)numpy arrays due to the inherent sparse nature of scatter parameters. Moreover, dictonaries allow for string indexing, which makes them much more pleasant to use in this context. Let’s for example create an `SDict` for a 50/50 coupler:"
   ]
  },
  {
   "cell_type": "markdown",
   "id": "7",
   "metadata": {
    "papermill": {
     "duration": 0.003361,
     "end_time": "2025-06-19T15:09:53.864893",
     "exception": false,
     "start_time": "2025-06-19T15:09:53.861532",
     "status": "completed"
    },
    "tags": []
   },
   "source": [
    "```\n",
    "in1          out1\n",
    "   \\        /\n",
    "    ========\n",
    "   /        \\\n",
    "in0          out0\n",
    "```"
   ]
  },
  {
   "cell_type": "code",
   "execution_count": null,
   "id": "8",
   "metadata": {
    "papermill": {
     "duration": 0.011382,
     "end_time": "2025-06-19T15:09:53.881661",
     "exception": false,
     "start_time": "2025-06-19T15:09:53.870279",
     "status": "completed"
    },
    "tags": []
   },
   "outputs": [],
   "source": [
    "coupling = 0.5\n",
    "kappa = coupling**0.5\n",
    "tau = (1 - coupling) ** 0.5\n",
    "coupler_dict = {\n",
    "    (\"in0\", \"out0\"): tau,\n",
    "    (\"out0\", \"in0\"): tau,\n",
    "    (\"in0\", \"out1\"): 1j * kappa,\n",
    "    (\"out1\", \"in0\"): 1j * kappa,\n",
    "    (\"in1\", \"out0\"): 1j * kappa,\n",
    "    (\"out0\", \"in1\"): 1j * kappa,\n",
    "    (\"in1\", \"out1\"): tau,\n",
    "    (\"out1\", \"in1\"): tau,\n",
    "}\n",
    "coupler_dict"
   ]
  },
  {
   "cell_type": "markdown",
   "id": "9",
   "metadata": {
    "papermill": {
     "duration": 0.002283,
     "end_time": "2025-06-19T15:09:53.888073",
     "exception": false,
     "start_time": "2025-06-19T15:09:53.885790",
     "status": "completed"
    },
    "tags": []
   },
   "source": [
    "Only the non-zero port combinations need to be specified. Any non-existent port-combination (for example `(\"in0\", \"in1\")`) is considered to be zero by SAX.\n",
    "\n",
    "Obviously, it can still be tedious to specify every port in the circuit manually. SAX therefore offers the `reciprocal` function, which auto-fills the reverse connection if the forward connection exist. For example:"
   ]
  },
  {
   "cell_type": "code",
   "execution_count": null,
   "id": "10",
   "metadata": {
    "papermill": {
     "duration": 0.077563,
     "end_time": "2025-06-19T15:09:53.971068",
     "exception": false,
     "start_time": "2025-06-19T15:09:53.893505",
     "status": "completed"
    },
    "tags": []
   },
   "outputs": [],
   "source": [
    "coupler_dict = sax.reciprocal(\n",
    "    {\n",
    "        (\"in0\", \"out0\"): tau,\n",
    "        (\"in0\", \"out1\"): 1j * kappa,\n",
    "        (\"in1\", \"out0\"): 1j * kappa,\n",
    "        (\"in1\", \"out1\"): tau,\n",
    "    }\n",
    ")\n",
    "\n",
    "coupler_dict"
   ]
  },
  {
   "cell_type": "markdown",
   "id": "11",
   "metadata": {
    "papermill": {
     "duration": 0.005061,
     "end_time": "2025-06-19T15:09:53.981855",
     "exception": false,
     "start_time": "2025-06-19T15:09:53.976794",
     "status": "completed"
    },
    "tags": []
   },
   "source": [
    "## Parametrized Models"
   ]
  },
  {
   "cell_type": "markdown",
   "id": "12",
   "metadata": {
    "papermill": {
     "duration": 0.002402,
     "end_time": "2025-06-19T15:09:53.989853",
     "exception": false,
     "start_time": "2025-06-19T15:09:53.987451",
     "status": "completed"
    },
    "tags": []
   },
   "source": [
    "Constructing such an `SDict` is easy, however, usually we're more interested in having parametrized models for our components. To parametrize the coupler `SDict`, just wrap it in a function to obtain a SAX `Model`, which is a keyword-only function mapping to an `SDict`:"
   ]
  },
  {
   "cell_type": "code",
   "execution_count": null,
   "id": "13",
   "metadata": {
    "papermill": {
     "duration": 0.019136,
     "end_time": "2025-06-19T15:09:54.014498",
     "exception": false,
     "start_time": "2025-06-19T15:09:53.995362",
     "status": "completed"
    },
    "tags": []
   },
   "outputs": [],
   "source": [
    "def coupler(coupling=0.5) -> sax.SDict:\n",
    "    kappa = coupling**0.5\n",
    "    tau = (1 - coupling) ** 0.5\n",
    "    coupler_dict = sax.reciprocal(\n",
    "        {\n",
    "            (\"in0\", \"out0\"): tau,\n",
    "            (\"in0\", \"out1\"): 1j * kappa,\n",
    "            (\"in1\", \"out0\"): 1j * kappa,\n",
    "            (\"in1\", \"out1\"): tau,\n",
    "        }\n",
    "    )\n",
    "    return coupler_dict\n",
    "\n",
    "\n",
    "coupler(coupling=0.3)"
   ]
  },
  {
   "cell_type": "markdown",
   "id": "14",
   "metadata": {
    "papermill": {
     "duration": 0.005163,
     "end_time": "2025-06-19T15:09:54.025449",
     "exception": false,
     "start_time": "2025-06-19T15:09:54.020286",
     "status": "completed"
    },
    "tags": []
   },
   "source": [
    "We can define a waveguide in the same way:"
   ]
  },
  {
   "cell_type": "code",
   "execution_count": null,
   "id": "15",
   "metadata": {
    "papermill": {
     "duration": 0.009035,
     "end_time": "2025-06-19T15:09:54.043406",
     "exception": false,
     "start_time": "2025-06-19T15:09:54.034371",
     "status": "completed"
    },
    "tags": []
   },
   "outputs": [],
   "source": [
    "def waveguide(wl=1.55, wl0=1.55, neff=2.34, ng=3.4, length=10.0, loss=0.0) -> sax.SDict:\n",
    "    dwl = wl - wl0\n",
    "    dneff_dwl = (ng - neff) / wl0\n",
    "    neff = neff - dwl * dneff_dwl\n",
    "    phase = 2 * jnp.pi * neff * length / wl\n",
    "    transmission = 10 ** (-loss * length / 20) * jnp.exp(1j * phase)\n",
    "    sdict = sax.reciprocal(\n",
    "        {\n",
    "            (\"in0\", \"out0\"): transmission,\n",
    "        }\n",
    "    )\n",
    "    return sdict"
   ]
  },
  {
   "cell_type": "markdown",
   "id": "16",
   "metadata": {
    "papermill": {
     "duration": 0.00313,
     "end_time": "2025-06-19T15:09:54.052398",
     "exception": false,
     "start_time": "2025-06-19T15:09:54.049268",
     "status": "completed"
    },
    "tags": []
   },
   "source": [
    "That's pretty straightforward. Let's now move on to parametrized circuits:"
   ]
  },
  {
   "cell_type": "markdown",
   "id": "17",
   "metadata": {
    "papermill": {
     "duration": 0.003042,
     "end_time": "2025-06-19T15:09:54.060857",
     "exception": false,
     "start_time": "2025-06-19T15:09:54.057815",
     "status": "completed"
    },
    "tags": []
   },
   "source": [
    "## Circuit Models"
   ]
  },
  {
   "cell_type": "markdown",
   "id": "18",
   "metadata": {
    "papermill": {
     "duration": 0.006459,
     "end_time": "2025-06-19T15:09:54.072992",
     "exception": false,
     "start_time": "2025-06-19T15:09:54.066533",
     "status": "completed"
    },
    "tags": []
   },
   "source": [
    "Existing models can now be combined into a circuit using `sax.circuit`, which basically creates a new `Model` function:"
   ]
  },
  {
   "cell_type": "code",
   "execution_count": null,
   "id": "19",
   "metadata": {
    "papermill": {
     "duration": 1.073483,
     "end_time": "2025-06-19T15:09:55.152918",
     "exception": false,
     "start_time": "2025-06-19T15:09:54.079435",
     "status": "completed"
    },
    "tags": []
   },
   "outputs": [],
   "source": [
    "mzi, info = sax.circuit(\n",
    "    netlist={\n",
    "        \"instances\": {\n",
    "            \"lft\": \"coupler\",\n",
    "            \"top\": \"waveguide\",\n",
    "            \"btm\": \"waveguide\",\n",
    "            \"rgt\": \"coupler\",\n",
    "        },\n",
    "        \"connections\": {\n",
    "            \"lft,out0\": \"btm,in0\",\n",
    "            \"btm,out0\": \"rgt,in0\",\n",
    "            \"lft,out1\": \"top,in0\",\n",
    "            \"top,out0\": \"rgt,in1\",\n",
    "        },\n",
    "        \"ports\": {\n",
    "            \"in0\": \"lft,in0\",\n",
    "            \"in1\": \"lft,in1\",\n",
    "            \"out0\": \"rgt,out0\",\n",
    "            \"out1\": \"rgt,out1\",\n",
    "        },\n",
    "    },\n",
    "    models={\n",
    "        \"coupler\": coupler,\n",
    "        \"waveguide\": waveguide,\n",
    "    },\n",
    "    return_type=\"SDict\",\n",
    ")"
   ]
  },
  {
   "cell_type": "code",
   "execution_count": null,
   "id": "20",
   "metadata": {
    "papermill": {
     "duration": 0.569517,
     "end_time": "2025-06-19T15:09:55.728163",
     "exception": false,
     "start_time": "2025-06-19T15:09:55.158646",
     "status": "completed"
    },
    "tags": []
   },
   "outputs": [],
   "source": [
    "mzi()"
   ]
  },
  {
   "cell_type": "code",
   "execution_count": null,
   "id": "21",
   "metadata": {
    "papermill": {
     "duration": 0.035614,
     "end_time": "2025-06-19T15:09:55.791796",
     "exception": false,
     "start_time": "2025-06-19T15:09:55.756182",
     "status": "completed"
    },
    "tags": []
   },
   "outputs": [],
   "source": [
    "?mzi"
   ]
  },
  {
   "cell_type": "markdown",
   "id": "22",
   "metadata": {
    "papermill": {
     "duration": 0.002221,
     "end_time": "2025-06-19T15:09:55.797168",
     "exception": false,
     "start_time": "2025-06-19T15:09:55.794947",
     "status": "completed"
    },
    "tags": []
   },
   "source": [
    "The `circuit` function just creates a similar function as we created for the waveguide and the coupler, but in stead of taking parameters directly it takes parameter *dictionaries* for each of the instances in the circuit. The keys in these parameter dictionaries should correspond to the keyword arguments of each individual subcomponent. "
   ]
  },
  {
   "cell_type": "markdown",
   "id": "23",
   "metadata": {
    "papermill": {
     "duration": 0.002198,
     "end_time": "2025-06-19T15:09:55.803356",
     "exception": false,
     "start_time": "2025-06-19T15:09:55.801158",
     "status": "completed"
    },
    "tags": []
   },
   "source": [
    "There is also some circuit metadata information returned as a second return value of the `sax.circuit` call:"
   ]
  },
  {
   "cell_type": "code",
   "execution_count": null,
   "id": "24",
   "metadata": {
    "papermill": {
     "duration": 0.008133,
     "end_time": "2025-06-19T15:09:55.815179",
     "exception": false,
     "start_time": "2025-06-19T15:09:55.807046",
     "status": "completed"
    },
    "tags": []
   },
   "outputs": [],
   "source": [
    "info"
   ]
  },
  {
   "cell_type": "markdown",
   "id": "25",
   "metadata": {
    "papermill": {
     "duration": 0.004949,
     "end_time": "2025-06-19T15:09:55.826258",
     "exception": false,
     "start_time": "2025-06-19T15:09:55.821309",
     "status": "completed"
    },
    "tags": []
   },
   "source": [
    "Let's now do a simulation for the MZI we just constructed:"
   ]
  },
  {
   "cell_type": "code",
   "execution_count": null,
   "id": "26",
   "metadata": {
    "papermill": {
     "duration": 0.04496,
     "end_time": "2025-06-19T15:09:55.875760",
     "exception": false,
     "start_time": "2025-06-19T15:09:55.830800",
     "status": "completed"
    },
    "tags": []
   },
   "outputs": [],
   "source": [
    "%time mzi()"
   ]
  },
  {
   "cell_type": "code",
   "execution_count": null,
   "id": "27",
   "metadata": {
    "papermill": {
     "duration": 0.012735,
     "end_time": "2025-06-19T15:09:55.894660",
     "exception": false,
     "start_time": "2025-06-19T15:09:55.881925",
     "status": "completed"
    },
    "tags": []
   },
   "outputs": [],
   "source": [
    "mzi2 = jax.jit(mzi)"
   ]
  },
  {
   "cell_type": "code",
   "execution_count": null,
   "id": "28",
   "metadata": {
    "papermill": {
     "duration": 0.121465,
     "end_time": "2025-06-19T15:09:56.022319",
     "exception": false,
     "start_time": "2025-06-19T15:09:55.900854",
     "status": "completed"
    },
    "tags": []
   },
   "outputs": [],
   "source": [
    "%time mzi2()"
   ]
  },
  {
   "cell_type": "code",
   "execution_count": null,
   "id": "29",
   "metadata": {
    "papermill": {
     "duration": 0.015647,
     "end_time": "2025-06-19T15:09:56.044055",
     "exception": false,
     "start_time": "2025-06-19T15:09:56.028408",
     "status": "completed"
    },
    "tags": []
   },
   "outputs": [],
   "source": [
    "%time mzi2()"
   ]
  },
  {
   "cell_type": "markdown",
   "id": "30",
   "metadata": {
    "papermill": {
     "duration": 0.002641,
     "end_time": "2025-06-19T15:09:56.052570",
     "exception": false,
     "start_time": "2025-06-19T15:09:56.049929",
     "status": "completed"
    },
    "tags": []
   },
   "source": [
    "Or in the case we want an MZI with different arm lengths:"
   ]
  },
  {
   "cell_type": "code",
   "execution_count": null,
   "id": "31",
   "metadata": {
    "papermill": {
     "duration": 0.045257,
     "end_time": "2025-06-19T15:09:56.101015",
     "exception": false,
     "start_time": "2025-06-19T15:09:56.055758",
     "status": "completed"
    },
    "tags": []
   },
   "outputs": [],
   "source": [
    "mzi(top={\"length\": 25.0}, btm={\"length\": 15.0})"
   ]
  },
  {
   "cell_type": "markdown",
   "id": "32",
   "metadata": {
    "papermill": {
     "duration": 0.003418,
     "end_time": "2025-06-19T15:09:56.111348",
     "exception": false,
     "start_time": "2025-06-19T15:09:56.107930",
     "status": "completed"
    },
    "tags": []
   },
   "source": [
    "## Simulating the parametrized MZI"
   ]
  },
  {
   "cell_type": "markdown",
   "id": "33",
   "metadata": {
    "papermill": {
     "duration": 0.004808,
     "end_time": "2025-06-19T15:09:56.123947",
     "exception": false,
     "start_time": "2025-06-19T15:09:56.119139",
     "status": "completed"
    },
    "tags": []
   },
   "source": [
    "We can simulate the above mzi for multiple wavelengths as well by specifying the wavelength at the top level of the circuit call. Each setting specified at the top level of the circuit call will be propagated to all subcomponents of the circuit which have that setting:"
   ]
  },
  {
   "cell_type": "code",
   "execution_count": null,
   "id": "34",
   "metadata": {
    "papermill": {
     "duration": 1.413146,
     "end_time": "2025-06-19T15:09:57.543469",
     "exception": false,
     "start_time": "2025-06-19T15:09:56.130323",
     "status": "completed"
    },
    "tags": []
   },
   "outputs": [],
   "source": [
    "wl = jnp.linspace(1.51, 1.59, 1000)\n",
    "S = mzi(wl=wl, top={\"length\": 25.0}, btm={\"length\": 15.0})"
   ]
  },
  {
   "cell_type": "markdown",
   "id": "35",
   "metadata": {
    "papermill": {
     "duration": 0.004615,
     "end_time": "2025-06-19T15:09:57.554655",
     "exception": false,
     "start_time": "2025-06-19T15:09:57.550040",
     "status": "completed"
    },
    "tags": []
   },
   "source": [
    "Let's see what this gives:"
   ]
  },
  {
   "cell_type": "code",
   "execution_count": null,
   "id": "36",
   "metadata": {
    "papermill": {
     "duration": 0.123866,
     "end_time": "2025-06-19T15:09:57.684789",
     "exception": false,
     "start_time": "2025-06-19T15:09:57.560923",
     "status": "completed"
    },
    "tags": []
   },
   "outputs": [],
   "source": [
    "plt.plot(wl * 1e3, abs(S[\"in0\", \"out0\"]) ** 2)\n",
    "plt.ylim(-0.05, 1.05)\n",
    "plt.xlabel(\"λ [nm]\")\n",
    "plt.ylabel(\"T\")\n",
    "plt.ylim(-0.05, 1.05)\n",
    "plt.show()"
   ]
  },
  {
   "cell_type": "markdown",
   "id": "37",
   "metadata": {
    "papermill": {
     "duration": 0.003806,
     "end_time": "2025-06-19T15:09:57.699029",
     "exception": false,
     "start_time": "2025-06-19T15:09:57.695223",
     "status": "completed"
    },
    "tags": []
   },
   "source": [
    "## Optimization"
   ]
  },
  {
   "cell_type": "markdown",
   "id": "38",
   "metadata": {
    "papermill": {
     "duration": 0.00404,
     "end_time": "2025-06-19T15:09:57.712720",
     "exception": false,
     "start_time": "2025-06-19T15:09:57.708680",
     "status": "completed"
    },
    "tags": []
   },
   "source": [
    "We'd like to optimize an MZI such that one of the minima is at 1550nm. To do this, we need to define a loss function for the circuit at 1550nm. This function should take the parameters that you want to optimize as positional arguments:"
   ]
  },
  {
   "cell_type": "code",
   "execution_count": null,
   "id": "39",
   "metadata": {
    "papermill": {
     "duration": 0.018281,
     "end_time": "2025-06-19T15:09:57.740314",
     "exception": false,
     "start_time": "2025-06-19T15:09:57.722033",
     "status": "completed"
    },
    "tags": []
   },
   "outputs": [],
   "source": [
    "@jax.jit\n",
    "def loss_fn(delta_length):\n",
    "    S = mzi(wl=1.55, top={\"length\": 15.0 + delta_length}, btm={\"length\": 15.0})\n",
    "    return (abs(S[\"in0\", \"out0\"]) ** 2).mean()"
   ]
  },
  {
   "cell_type": "code",
   "execution_count": null,
   "id": "40",
   "metadata": {
    "papermill": {
     "duration": 0.165708,
     "end_time": "2025-06-19T15:09:57.911329",
     "exception": false,
     "start_time": "2025-06-19T15:09:57.745621",
     "status": "completed"
    },
    "tags": []
   },
   "outputs": [],
   "source": [
    "%time loss_fn(10.0)"
   ]
  },
  {
   "cell_type": "markdown",
   "id": "41",
   "metadata": {
    "papermill": {
     "duration": 0.002705,
     "end_time": "2025-06-19T15:09:57.917313",
     "exception": false,
     "start_time": "2025-06-19T15:09:57.914608",
     "status": "completed"
    },
    "tags": []
   },
   "source": [
    "We can use this loss function to define a grad function which works on the parameters of the loss function:"
   ]
  },
  {
   "cell_type": "code",
   "execution_count": null,
   "id": "42",
   "metadata": {
    "papermill": {
     "duration": 0.010971,
     "end_time": "2025-06-19T15:09:57.935687",
     "exception": false,
     "start_time": "2025-06-19T15:09:57.924716",
     "status": "completed"
    },
    "tags": []
   },
   "outputs": [],
   "source": [
    "grad_fn = jax.jit(\n",
    "    jax.grad(\n",
    "        loss_fn,\n",
    "        argnums=0,  # JAX gradient function for the first positional argument, jitted\n",
    "    )\n",
    ")"
   ]
  },
  {
   "cell_type": "markdown",
   "id": "43",
   "metadata": {
    "papermill": {
     "duration": 0.002663,
     "end_time": "2025-06-19T15:09:57.942793",
     "exception": false,
     "start_time": "2025-06-19T15:09:57.940130",
     "status": "completed"
    },
    "tags": []
   },
   "source": [
    "Next, we need to define a JAX optimizer, which on its own is nothing more than three more functions:  an initialization function with which to initialize the optimizer state, an update function which will update the optimizer state (and with it the model parameters). The third function that's being returned will give the model parameters given the optimizer state."
   ]
  },
  {
   "cell_type": "code",
   "execution_count": null,
   "id": "44",
   "metadata": {
    "papermill": {
     "duration": 0.009208,
     "end_time": "2025-06-19T15:09:57.958300",
     "exception": false,
     "start_time": "2025-06-19T15:09:57.949092",
     "status": "completed"
    },
    "tags": []
   },
   "outputs": [],
   "source": [
    "initial_delta_length = 10.0\n",
    "init_fn, update_fn, params_fn = opt.adam(step_size=0.1)\n",
    "state = init_fn(initial_delta_length)"
   ]
  },
  {
   "cell_type": "markdown",
   "id": "45",
   "metadata": {
    "papermill": {
     "duration": 0.004578,
     "end_time": "2025-06-19T15:09:57.970081",
     "exception": false,
     "start_time": "2025-06-19T15:09:57.965503",
     "status": "completed"
    },
    "tags": []
   },
   "source": [
    "Given all this, a single training step can be defined:"
   ]
  },
  {
   "cell_type": "code",
   "execution_count": null,
   "id": "46",
   "metadata": {
    "papermill": {
     "duration": 0.011691,
     "end_time": "2025-06-19T15:09:57.988690",
     "exception": false,
     "start_time": "2025-06-19T15:09:57.976999",
     "status": "completed"
    },
    "tags": []
   },
   "outputs": [],
   "source": [
    "def step_fn(step, state):\n",
    "    settings = params_fn(state)\n",
    "    loss = loss_fn(settings)\n",
    "    grad = grad_fn(settings)\n",
    "    state = update_fn(step, grad, state)\n",
    "    return loss, state"
   ]
  },
  {
   "cell_type": "markdown",
   "id": "47",
   "metadata": {
    "papermill": {
     "duration": 0.002801,
     "end_time": "2025-06-19T15:09:57.998126",
     "exception": false,
     "start_time": "2025-06-19T15:09:57.995325",
     "status": "completed"
    },
    "tags": []
   },
   "source": [
    "And we can use this step function to start the training of the MZI:"
   ]
  },
  {
   "cell_type": "code",
   "execution_count": null,
   "id": "48",
   "metadata": {
    "papermill": {
     "duration": 7.09782,
     "end_time": "2025-06-19T15:10:05.103459",
     "exception": false,
     "start_time": "2025-06-19T15:09:58.005639",
     "status": "completed"
    },
    "tags": []
   },
   "outputs": [],
   "source": [
    "range_ = trange(300)\n",
    "for step in range_:\n",
    "    loss, state = step_fn(step, state)\n",
    "    range_.set_postfix(loss=f\"{loss:.6f}\")"
   ]
  },
  {
   "cell_type": "code",
   "execution_count": null,
   "id": "49",
   "metadata": {
    "papermill": {
     "duration": 0.005673,
     "end_time": "2025-06-19T15:10:05.112043",
     "exception": false,
     "start_time": "2025-06-19T15:10:05.106370",
     "status": "completed"
    },
    "tags": []
   },
   "outputs": [],
   "source": [
    "delta_length = params_fn(state)\n",
    "delta_length"
   ]
  },
  {
   "cell_type": "markdown",
   "id": "50",
   "metadata": {
    "papermill": {
     "duration": 0.002463,
     "end_time": "2025-06-19T15:10:05.117092",
     "exception": false,
     "start_time": "2025-06-19T15:10:05.114629",
     "status": "completed"
    },
    "tags": []
   },
   "source": [
    "Let's see what we've got over a range of wavelengths:"
   ]
  },
  {
   "cell_type": "code",
   "execution_count": null,
   "id": "51",
   "metadata": {
    "papermill": {
     "duration": 0.182539,
     "end_time": "2025-06-19T15:10:05.302067",
     "exception": false,
     "start_time": "2025-06-19T15:10:05.119528",
     "status": "completed"
    },
    "tags": []
   },
   "outputs": [],
   "source": [
    "S = mzi(wl=wl, top={\"length\": 15.0 + delta_length}, btm={\"length\": 15.0})\n",
    "plt.plot(wl * 1e3, abs(S[\"in1\", \"out1\"]) ** 2)\n",
    "plt.xlabel(\"λ [nm]\")\n",
    "plt.ylabel(\"T\")\n",
    "plt.ylim(-0.05, 1.05)\n",
    "plt.plot([1550, 1550], [0, 1])\n",
    "plt.show()"
   ]
  },
  {
   "cell_type": "markdown",
   "id": "52",
   "metadata": {
    "papermill": {
     "duration": 0.002619,
     "end_time": "2025-06-19T15:10:05.307784",
     "exception": false,
     "start_time": "2025-06-19T15:10:05.305165",
     "status": "completed"
    },
    "tags": []
   },
   "source": [
    "The minimum of the MZI is perfectly located at 1550nm."
   ]
  },
  {
   "cell_type": "markdown",
   "id": "53",
   "metadata": {
    "papermill": {
     "duration": 0.002547,
     "end_time": "2025-06-19T15:10:05.312878",
     "exception": false,
     "start_time": "2025-06-19T15:10:05.310331",
     "status": "completed"
    },
    "tags": []
   },
   "source": [
    "## MZI Chain"
   ]
  },
  {
   "cell_type": "markdown",
   "id": "54",
   "metadata": {
    "papermill": {
     "duration": 0.002595,
     "end_time": "2025-06-19T15:10:05.317985",
     "exception": false,
     "start_time": "2025-06-19T15:10:05.315390",
     "status": "completed"
    },
    "tags": []
   },
   "source": [
    "Let's now create a chain of MZIs. For this, we first create a subcomponent: a directional coupler with arms:\n",
    "\n",
    "\n",
    "```\n",
    "                                 top\n",
    "                            in0 ----- out0 -> out1\n",
    "    in1 <- in1        out1                 \n",
    "              \\  dc  /                  \n",
    "               ======                  \n",
    "              /      \\                \n",
    "    in0 <- in0        out0       btm    \n",
    "                            in0 ----- out0 -> out0\n",
    "```"
   ]
  },
  {
   "cell_type": "code",
   "execution_count": null,
   "id": "55",
   "metadata": {
    "papermill": {
     "duration": 0.368065,
     "end_time": "2025-06-19T15:10:05.688834",
     "exception": false,
     "start_time": "2025-06-19T15:10:05.320769",
     "status": "completed"
    },
    "tags": []
   },
   "outputs": [],
   "source": [
    "dc_with_arms, info = sax.circuit(\n",
    "    netlist={\n",
    "        \"instances\": {\n",
    "            \"lft\": \"coupler\",\n",
    "            \"top\": \"waveguide\",\n",
    "            \"btm\": \"waveguide\",\n",
    "        },\n",
    "        \"connections\": {\n",
    "            \"lft,out0\": \"btm,in0\",\n",
    "            \"lft,out1\": \"top,in0\",\n",
    "        },\n",
    "        \"ports\": {\n",
    "            \"in0\": \"lft,in0\",\n",
    "            \"in1\": \"lft,in1\",\n",
    "            \"out0\": \"btm,out0\",\n",
    "            \"out1\": \"top,out0\",\n",
    "        },\n",
    "    },\n",
    "    models={\n",
    "        \"coupler\": coupler,\n",
    "        \"waveguide\": waveguide,\n",
    "    },\n",
    ")"
   ]
  },
  {
   "cell_type": "markdown",
   "id": "56",
   "metadata": {
    "papermill": {
     "duration": 0.002649,
     "end_time": "2025-06-19T15:10:05.694425",
     "exception": false,
     "start_time": "2025-06-19T15:10:05.691776",
     "status": "completed"
    },
    "tags": []
   },
   "source": [
    "An MZI chain can now be created by cascading these directional couplers with arms:\n",
    "\n",
    "```\n",
    "      _    _    _    _             _    _  \n",
    "    \\/   \\/   \\/   \\/     ...    \\/   \\/   \n",
    "    /\\_  /\\_  /\\_  /\\_           /\\_  /\\_  \n",
    "```\n",
    "\n",
    "Let's create a *model factory* (`ModelFactory`) for this. In SAX, a *model factory* is any keyword-only function that generates a `Model`:"
   ]
  },
  {
   "cell_type": "code",
   "execution_count": null,
   "id": "57",
   "metadata": {
    "papermill": {
     "duration": 0.005474,
     "end_time": "2025-06-19T15:10:05.702593",
     "exception": false,
     "start_time": "2025-06-19T15:10:05.697119",
     "status": "completed"
    },
    "tags": []
   },
   "outputs": [],
   "source": [
    "def mzi_chain(num_mzis=1) -> sax.Model:\n",
    "    chain, _ = sax.circuit(\n",
    "        netlist={\n",
    "            \"instances\": {f\"dc{i}\": \"dc_with_arms\" for i in range(num_mzis + 1)},\n",
    "            \"connections\": {\n",
    "                **{f\"dc{i},out0\": f\"dc{i + 1},in0\" for i in range(num_mzis)},\n",
    "                **{f\"dc{i},out1\": f\"dc{i + 1},in1\" for i in range(num_mzis)},\n",
    "            },\n",
    "            \"ports\": {\n",
    "                \"in0\": \"dc0,in0\",\n",
    "                \"in1\": \"dc0,in1\",\n",
    "                \"out0\": f\"dc{num_mzis},out0\",\n",
    "                \"out1\": f\"dc{num_mzis},out1\",\n",
    "            },\n",
    "        },\n",
    "        models={\"dc_with_arms\": dc_with_arms},\n",
    "        backend=\"klu\",\n",
    "    )\n",
    "    return chain"
   ]
  },
  {
   "cell_type": "markdown",
   "id": "58",
   "metadata": {
    "papermill": {
     "duration": 0.002613,
     "end_time": "2025-06-19T15:10:05.707947",
     "exception": false,
     "start_time": "2025-06-19T15:10:05.705334",
     "status": "completed"
    },
    "tags": []
   },
   "source": [
    "Let's for example create a chain with 15 MZIs. We can also update the settings dictionary as follows:"
   ]
  },
  {
   "cell_type": "code",
   "execution_count": null,
   "id": "59",
   "metadata": {
    "papermill": {
     "duration": 0.733467,
     "end_time": "2025-06-19T15:10:06.443972",
     "exception": false,
     "start_time": "2025-06-19T15:10:05.710505",
     "status": "completed"
    },
    "tags": []
   },
   "outputs": [],
   "source": [
    "chain = mzi_chain(num_mzis=15)\n",
    "settings = sax.get_settings(chain)\n",
    "for dc in settings:\n",
    "    settings[dc][\"top\"][\"length\"] = 25.0\n",
    "    settings[dc][\"btm\"][\"length\"] = 15.0\n",
    "settings = sax.update_settings(settings, wl=jnp.linspace(1.5, 1.6, 1000))"
   ]
  },
  {
   "cell_type": "markdown",
   "id": "60",
   "metadata": {
    "papermill": {
     "duration": 0.002662,
     "end_time": "2025-06-19T15:10:06.449615",
     "exception": false,
     "start_time": "2025-06-19T15:10:06.446953",
     "status": "completed"
    },
    "tags": []
   },
   "source": [
    "We can simulate this:"
   ]
  },
  {
   "cell_type": "code",
   "execution_count": null,
   "id": "61",
   "metadata": {
    "papermill": {
     "duration": 9.018186,
     "end_time": "2025-06-19T15:10:15.470509",
     "exception": false,
     "start_time": "2025-06-19T15:10:06.452323",
     "status": "completed"
    },
    "tags": []
   },
   "outputs": [],
   "source": [
    "%time S = chain(**settings) # time to evaluate the MZI\n",
    "func = jax.jit(chain)\n",
    "%time S = func(**settings) # time to jit the MZI\n",
    "%time S = func(**settings) # time to evaluate the MZI after jitting"
   ]
  },
  {
   "cell_type": "markdown",
   "id": "62",
   "metadata": {
    "papermill": {
     "duration": 0.004591,
     "end_time": "2025-06-19T15:10:15.478281",
     "exception": false,
     "start_time": "2025-06-19T15:10:15.473690",
     "status": "completed"
    },
    "tags": []
   },
   "source": [
    "Where we see that the unjitted evaluation of the MZI chain takes about a second, while the jitting of the MZI chain takes about two seconds (on a CPU). However, after the MZI chain has been jitted, the evaluation is in the order of about a few milliseconds!\n",
    "\n",
    "Anyway, let's see what this gives:"
   ]
  },
  {
   "cell_type": "code",
   "execution_count": null,
   "id": "63",
   "metadata": {
    "papermill": {
     "duration": 0.451556,
     "end_time": "2025-06-19T15:10:15.934619",
     "exception": false,
     "start_time": "2025-06-19T15:10:15.483063",
     "status": "completed"
    },
    "tags": []
   },
   "outputs": [],
   "source": [
    "%%time\n",
    "S = sax.sdict(S)\n",
    "plt.plot(1e3 * settings[\"dc0\"][\"top\"][\"wl\"], jnp.abs(S[\"in0\", \"out0\"]) ** 2)\n",
    "plt.ylim(-0.05, 1.05)\n",
    "plt.xlabel(\"λ [nm]\")\n",
    "plt.ylabel(\"T\")\n",
    "plt.ylim(-0.05, 1.05)\n",
    "plt.show()"
   ]
  }
 ],
 "metadata": {
  "kernelspec": {
   "display_name": "sax",
   "language": "python",
   "name": "sax"
  },
  "language_info": {
   "codemirror_mode": {
    "name": "ipython",
    "version": 3
   },
   "file_extension": ".py",
   "mimetype": "text/x-python",
   "name": "python",
   "nbconvert_exporter": "python",
   "pygments_lexer": "ipython3",
   "version": "3.12.10"
  },
  "papermill": {
   "default_parameters": {},
   "duration": 26.336052,
   "end_time": "2025-06-19T15:10:18.553750",
   "environment_variables": {},
   "exception": null,
   "input_path": "nbs/examples/01_quick_start.ipynb",
   "output_path": "nbs/examples/01_quick_start.ipynb",
   "parameters": {},
   "start_time": "2025-06-19T15:09:52.217698",
   "version": "2.6.0"
  }
 },
 "nbformat": 4,
 "nbformat_minor": 5
}
