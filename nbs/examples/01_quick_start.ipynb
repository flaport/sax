{
 "cells": [
  {
   "cell_type": "markdown",
   "id": "0",
   "metadata": {
    "papermill": {
     "duration": 0.002779,
     "end_time": "2025-06-12T12:29:44.600967",
     "exception": false,
     "start_time": "2025-06-12T12:29:44.598188",
     "status": "completed"
    },
    "tags": []
   },
   "source": [
    "# SAX Quick Start\n",
    "> Let's go over the core functionality of SAX."
   ]
  },
  {
   "cell_type": "markdown",
   "id": "1",
   "metadata": {
    "papermill": {
     "duration": 0.004532,
     "end_time": "2025-06-12T12:29:44.607906",
     "exception": false,
     "start_time": "2025-06-12T12:29:44.603374",
     "status": "completed"
    },
    "tags": []
   },
   "source": [
    "## Environment variables"
   ]
  },
  {
   "cell_type": "markdown",
   "id": "2",
   "metadata": {
    "papermill": {
     "duration": 0.002474,
     "end_time": "2025-06-12T12:29:44.614791",
     "exception": false,
     "start_time": "2025-06-12T12:29:44.612317",
     "status": "completed"
    },
    "tags": []
   },
   "source": [
    "SAX is based on JAX... here are some useful environment variables for working with JAX:"
   ]
  },
  {
   "cell_type": "code",
   "execution_count": null,
   "id": "3",
   "metadata": {
    "papermill": {
     "duration": 0.253388,
     "end_time": "2025-06-12T12:29:44.872884",
     "exception": false,
     "start_time": "2025-06-12T12:29:44.619496",
     "status": "completed"
    },
    "tags": []
   },
   "outputs": [],
   "source": [
    "# select float32 or float64 as default dtype\n",
    "%env JAX_ENABLE_X64=0\n",
    "\n",
    "# select cpu or gpu\n",
    "%env JAX_PLATFORM_NAME=cpu\n",
    "\n",
    "# set custom CUDA location for gpu:\n",
    "%env XLA_FLAGS=--xla_gpu_cuda_data_dir=/usr/lib/cuda\n",
    "\n",
    "# Using GPU?\n",
    "import jax.extend"
   ]
  },
  {
   "cell_type": "markdown",
   "id": "4",
   "metadata": {
    "papermill": {
     "duration": 0.002181,
     "end_time": "2025-06-12T12:29:44.879274",
     "exception": false,
     "start_time": "2025-06-12T12:29:44.877093",
     "status": "completed"
    },
    "tags": []
   },
   "source": [
    "## Imports"
   ]
  },
  {
   "cell_type": "code",
   "execution_count": null,
   "id": "5",
   "metadata": {
    "papermill": {
     "duration": 0.684547,
     "end_time": "2025-06-12T12:29:45.568602",
     "exception": false,
     "start_time": "2025-06-12T12:29:44.884055",
     "status": "completed"
    },
    "tags": []
   },
   "outputs": [],
   "source": [
    "import jax\n",
    "import jax.example_libraries.optimizers as opt\n",
    "import jax.numpy as jnp\n",
    "import matplotlib.pyplot as plt\n",
    "from tqdm.notebook import trange\n",
    "\n",
    "import sax"
   ]
  },
  {
   "cell_type": "markdown",
   "id": "6",
   "metadata": {
    "papermill": {
     "duration": 0.005951,
     "end_time": "2025-06-12T12:29:45.579997",
     "exception": false,
     "start_time": "2025-06-12T12:29:45.574046",
     "status": "completed"
    },
    "tags": []
   },
   "source": [
    "## Scatter *dictionaries*\n",
    "The core datastructure for specifying scatter parameters in SAX is a dictionary... more specifically a dictionary which maps a port combination (2-tuple) to a scatter parameter (or an array of scatter parameters when considering multiple wavelengths for example). Such a specific dictionary mapping is called ann `SDict` in SAX (`SDict ≈ Dict[Tuple[str,str], float]`).\n",
    "\n",
    "Dictionaries are in fact much better suited for characterizing S-parameters than, say, (jax-)numpy arrays due to the inherent sparse nature of scatter parameters. Moreover, dictonaries allow for string indexing, which makes them much more pleasant to use in this context. Let’s for example create an `SDict` for a 50/50 coupler:"
   ]
  },
  {
   "cell_type": "markdown",
   "id": "7",
   "metadata": {
    "papermill": {
     "duration": 0.005045,
     "end_time": "2025-06-12T12:29:45.590802",
     "exception": false,
     "start_time": "2025-06-12T12:29:45.585757",
     "status": "completed"
    },
    "tags": []
   },
   "source": [
    "```\n",
    "in1          out1\n",
    "   \\        /\n",
    "    ========\n",
    "   /        \\\n",
    "in0          out0\n",
    "```"
   ]
  },
  {
   "cell_type": "code",
   "execution_count": null,
   "id": "8",
   "metadata": {
    "papermill": {
     "duration": 0.014363,
     "end_time": "2025-06-12T12:29:45.610524",
     "exception": false,
     "start_time": "2025-06-12T12:29:45.596161",
     "status": "completed"
    },
    "tags": []
   },
   "outputs": [],
   "source": [
    "coupling = 0.5\n",
    "kappa = coupling**0.5\n",
    "tau = (1 - coupling) ** 0.5\n",
    "coupler_dict = {\n",
    "    (\"in0\", \"out0\"): tau,\n",
    "    (\"out0\", \"in0\"): tau,\n",
    "    (\"in0\", \"out1\"): 1j * kappa,\n",
    "    (\"out1\", \"in0\"): 1j * kappa,\n",
    "    (\"in1\", \"out0\"): 1j * kappa,\n",
    "    (\"out0\", \"in1\"): 1j * kappa,\n",
    "    (\"in1\", \"out1\"): tau,\n",
    "    (\"out1\", \"in1\"): tau,\n",
    "}\n",
    "coupler_dict"
   ]
  },
  {
   "cell_type": "markdown",
   "id": "9",
   "metadata": {
    "papermill": {
     "duration": 0.004236,
     "end_time": "2025-06-12T12:29:45.620089",
     "exception": false,
     "start_time": "2025-06-12T12:29:45.615853",
     "status": "completed"
    },
    "tags": []
   },
   "source": [
    "Only the non-zero port combinations need to be specified. Any non-existent port-combination (for example `(\"in0\", \"in1\")`) is considered to be zero by SAX.\n",
    "\n",
    "Obviously, it can still be tedious to specify every port in the circuit manually. SAX therefore offers the `reciprocal` function, which auto-fills the reverse connection if the forward connection exist. For example:"
   ]
  },
  {
   "cell_type": "code",
   "execution_count": null,
   "id": "10",
   "metadata": {
    "papermill": {
     "duration": 0.012813,
     "end_time": "2025-06-12T12:29:45.638409",
     "exception": false,
     "start_time": "2025-06-12T12:29:45.625596",
     "status": "completed"
    },
    "tags": []
   },
   "outputs": [],
   "source": [
    "coupler_dict = sax.reciprocal(\n",
    "    {\n",
    "        (\"in0\", \"out0\"): tau,\n",
    "        (\"in0\", \"out1\"): 1j * kappa,\n",
    "        (\"in1\", \"out0\"): 1j * kappa,\n",
    "        (\"in1\", \"out1\"): tau,\n",
    "    }\n",
    ")\n",
    "\n",
    "coupler_dict"
   ]
  },
  {
   "cell_type": "markdown",
   "id": "11",
   "metadata": {
    "papermill": {
     "duration": 0.005212,
     "end_time": "2025-06-12T12:29:45.648931",
     "exception": false,
     "start_time": "2025-06-12T12:29:45.643719",
     "status": "completed"
    },
    "tags": []
   },
   "source": [
    "## Parametrized Models"
   ]
  },
  {
   "cell_type": "markdown",
   "id": "12",
   "metadata": {
    "papermill": {
     "duration": 0.005178,
     "end_time": "2025-06-12T12:29:45.659341",
     "exception": false,
     "start_time": "2025-06-12T12:29:45.654163",
     "status": "completed"
    },
    "tags": []
   },
   "source": [
    "Constructing such an `SDict` is easy, however, usually we're more interested in having parametrized models for our components. To parametrize the coupler `SDict`, just wrap it in a function to obtain a SAX `Model`, which is a keyword-only function mapping to an `SDict`:"
   ]
  },
  {
   "cell_type": "code",
   "execution_count": null,
   "id": "13",
   "metadata": {
    "papermill": {
     "duration": 0.010226,
     "end_time": "2025-06-12T12:29:45.674628",
     "exception": false,
     "start_time": "2025-06-12T12:29:45.664402",
     "status": "completed"
    },
    "tags": []
   },
   "outputs": [],
   "source": [
    "def coupler(coupling=0.5) -> sax.SDict:\n",
    "    kappa = coupling**0.5\n",
    "    tau = (1 - coupling) ** 0.5\n",
    "    coupler_dict = sax.reciprocal(\n",
    "        {\n",
    "            (\"in0\", \"out0\"): tau,\n",
    "            (\"in0\", \"out1\"): 1j * kappa,\n",
    "            (\"in1\", \"out0\"): 1j * kappa,\n",
    "            (\"in1\", \"out1\"): tau,\n",
    "        }\n",
    "    )\n",
    "    return coupler_dict\n",
    "\n",
    "\n",
    "coupler(coupling=0.3)"
   ]
  },
  {
   "cell_type": "markdown",
   "id": "14",
   "metadata": {
    "papermill": {
     "duration": 0.00235,
     "end_time": "2025-06-12T12:29:45.682630",
     "exception": false,
     "start_time": "2025-06-12T12:29:45.680280",
     "status": "completed"
    },
    "tags": []
   },
   "source": [
    "We can define a waveguide in the same way:"
   ]
  },
  {
   "cell_type": "code",
   "execution_count": null,
   "id": "15",
   "metadata": {
    "papermill": {
     "duration": 0.008567,
     "end_time": "2025-06-12T12:29:45.693292",
     "exception": false,
     "start_time": "2025-06-12T12:29:45.684725",
     "status": "completed"
    },
    "tags": []
   },
   "outputs": [],
   "source": [
    "def waveguide(wl=1.55, wl0=1.55, neff=2.34, ng=3.4, length=10.0, loss=0.0) -> sax.SDict:\n",
    "    dwl = wl - wl0\n",
    "    dneff_dwl = (ng - neff) / wl0\n",
    "    neff = neff - dwl * dneff_dwl\n",
    "    phase = 2 * jnp.pi * neff * length / wl\n",
    "    transmission = 10 ** (-loss * length / 20) * jnp.exp(1j * phase)\n",
    "    sdict = sax.reciprocal(\n",
    "        {\n",
    "            (\"in0\", \"out0\"): transmission,\n",
    "        }\n",
    "    )\n",
    "    return sdict"
   ]
  },
  {
   "cell_type": "markdown",
   "id": "16",
   "metadata": {
    "papermill": {
     "duration": 0.005436,
     "end_time": "2025-06-12T12:29:45.704109",
     "exception": false,
     "start_time": "2025-06-12T12:29:45.698673",
     "status": "completed"
    },
    "tags": []
   },
   "source": [
    "That's pretty straightforward. Let's now move on to parametrized circuits:"
   ]
  },
  {
   "cell_type": "markdown",
   "id": "17",
   "metadata": {
    "papermill": {
     "duration": 0.005041,
     "end_time": "2025-06-12T12:29:45.714747",
     "exception": false,
     "start_time": "2025-06-12T12:29:45.709706",
     "status": "completed"
    },
    "tags": []
   },
   "source": [
    "## Circuit Models"
   ]
  },
  {
   "cell_type": "markdown",
   "id": "18",
   "metadata": {
    "papermill": {
     "duration": 0.002368,
     "end_time": "2025-06-12T12:29:45.722326",
     "exception": false,
     "start_time": "2025-06-12T12:29:45.719958",
     "status": "completed"
    },
    "tags": []
   },
   "source": [
    "Existing models can now be combined into a circuit using `sax.circuit`, which basically creates a new `Model` function:"
   ]
  },
  {
   "cell_type": "code",
   "execution_count": null,
   "id": "19",
   "metadata": {
    "papermill": {
     "duration": 1.10921,
     "end_time": "2025-06-12T12:29:46.835323",
     "exception": false,
     "start_time": "2025-06-12T12:29:45.726113",
     "status": "completed"
    },
    "tags": []
   },
   "outputs": [],
   "source": [
    "mzi, info = sax.circuit(\n",
    "    netlist={\n",
    "        \"instances\": {\n",
    "            \"lft\": \"coupler\",\n",
    "            \"top\": \"waveguide\",\n",
    "            \"btm\": \"waveguide\",\n",
    "            \"rgt\": \"coupler\",\n",
    "        },\n",
    "        \"connections\": {\n",
    "            \"lft,out0\": \"btm,in0\",\n",
    "            \"btm,out0\": \"rgt,in0\",\n",
    "            \"lft,out1\": \"top,in0\",\n",
    "            \"top,out0\": \"rgt,in1\",\n",
    "        },\n",
    "        \"ports\": {\n",
    "            \"in0\": \"lft,in0\",\n",
    "            \"in1\": \"lft,in1\",\n",
    "            \"out0\": \"rgt,out0\",\n",
    "            \"out1\": \"rgt,out1\",\n",
    "        },\n",
    "    },\n",
    "    models={\n",
    "        \"coupler\": coupler,\n",
    "        \"waveguide\": waveguide,\n",
    "    },\n",
    "    return_type=\"SDict\",\n",
    ")"
   ]
  },
  {
   "cell_type": "code",
   "execution_count": null,
   "id": "20",
   "metadata": {
    "papermill": {
     "duration": 0.839805,
     "end_time": "2025-06-12T12:29:47.680834",
     "exception": false,
     "start_time": "2025-06-12T12:29:46.841029",
     "status": "completed"
    },
    "tags": []
   },
   "outputs": [],
   "source": [
    "mzi()"
   ]
  },
  {
   "cell_type": "code",
   "execution_count": null,
   "id": "21",
   "metadata": {
    "papermill": {
     "duration": 0.043692,
     "end_time": "2025-06-12T12:29:47.747804",
     "exception": false,
     "start_time": "2025-06-12T12:29:47.704112",
     "status": "completed"
    },
    "tags": []
   },
   "outputs": [],
   "source": [
    "?mzi"
   ]
  },
  {
   "cell_type": "markdown",
   "id": "22",
   "metadata": {
    "papermill": {
     "duration": 0.004812,
     "end_time": "2025-06-12T12:29:47.758695",
     "exception": false,
     "start_time": "2025-06-12T12:29:47.753883",
     "status": "completed"
    },
    "tags": []
   },
   "source": [
    "The `circuit` function just creates a similar function as we created for the waveguide and the coupler, but in stead of taking parameters directly it takes parameter *dictionaries* for each of the instances in the circuit. The keys in these parameter dictionaries should correspond to the keyword arguments of each individual subcomponent. "
   ]
  },
  {
   "cell_type": "markdown",
   "id": "23",
   "metadata": {
    "papermill": {
     "duration": 0.005185,
     "end_time": "2025-06-12T12:29:47.769504",
     "exception": false,
     "start_time": "2025-06-12T12:29:47.764319",
     "status": "completed"
    },
    "tags": []
   },
   "source": [
    "There is also some circuit metadata information returned as a second return value of the `sax.circuit` call:"
   ]
  },
  {
   "cell_type": "code",
   "execution_count": null,
   "id": "24",
   "metadata": {
    "papermill": {
     "duration": 0.013577,
     "end_time": "2025-06-12T12:29:47.789310",
     "exception": false,
     "start_time": "2025-06-12T12:29:47.775733",
     "status": "completed"
    },
    "tags": []
   },
   "outputs": [],
   "source": [
    "info"
   ]
  },
  {
   "cell_type": "markdown",
   "id": "25",
   "metadata": {
    "papermill": {
     "duration": 0.005511,
     "end_time": "2025-06-12T12:29:47.800681",
     "exception": false,
     "start_time": "2025-06-12T12:29:47.795170",
     "status": "completed"
    },
    "tags": []
   },
   "source": [
    "Let's now do a simulation for the MZI we just constructed:"
   ]
  },
  {
   "cell_type": "code",
   "execution_count": null,
   "id": "26",
   "metadata": {
    "papermill": {
     "duration": 0.018688,
     "end_time": "2025-06-12T12:29:47.823037",
     "exception": false,
     "start_time": "2025-06-12T12:29:47.804349",
     "status": "completed"
    },
    "tags": []
   },
   "outputs": [],
   "source": [
    "%time mzi()"
   ]
  },
  {
   "cell_type": "code",
   "execution_count": null,
   "id": "27",
   "metadata": {
    "papermill": {
     "duration": 0.01108,
     "end_time": "2025-06-12T12:29:47.840482",
     "exception": false,
     "start_time": "2025-06-12T12:29:47.829402",
     "status": "completed"
    },
    "tags": []
   },
   "outputs": [],
   "source": [
    "mzi2 = jax.jit(mzi)"
   ]
  },
  {
   "cell_type": "code",
   "execution_count": null,
   "id": "28",
   "metadata": {
    "papermill": {
     "duration": 0.121845,
     "end_time": "2025-06-12T12:29:47.968310",
     "exception": false,
     "start_time": "2025-06-12T12:29:47.846465",
     "status": "completed"
    },
    "tags": []
   },
   "outputs": [],
   "source": [
    "%time mzi2()"
   ]
  },
  {
   "cell_type": "code",
   "execution_count": null,
   "id": "29",
   "metadata": {
    "papermill": {
     "duration": 0.014565,
     "end_time": "2025-06-12T12:29:47.987538",
     "exception": false,
     "start_time": "2025-06-12T12:29:47.972973",
     "status": "completed"
    },
    "tags": []
   },
   "outputs": [],
   "source": [
    "%time mzi2()"
   ]
  },
  {
   "cell_type": "markdown",
   "id": "30",
   "metadata": {
    "papermill": {
     "duration": 0.013329,
     "end_time": "2025-06-12T12:29:48.007322",
     "exception": false,
     "start_time": "2025-06-12T12:29:47.993993",
     "status": "completed"
    },
    "tags": []
   },
   "source": [
    "Or in the case we want an MZI with different arm lengths:"
   ]
  },
  {
   "cell_type": "code",
   "execution_count": null,
   "id": "31",
   "metadata": {
    "papermill": {
     "duration": 0.072876,
     "end_time": "2025-06-12T12:29:48.087197",
     "exception": false,
     "start_time": "2025-06-12T12:29:48.014321",
     "status": "completed"
    },
    "tags": []
   },
   "outputs": [],
   "source": [
    "mzi(top={\"length\": 25.0}, btm={\"length\": 15.0})"
   ]
  },
  {
   "cell_type": "markdown",
   "id": "32",
   "metadata": {
    "papermill": {
     "duration": 0.003071,
     "end_time": "2025-06-12T12:29:48.093250",
     "exception": false,
     "start_time": "2025-06-12T12:29:48.090179",
     "status": "completed"
    },
    "tags": []
   },
   "source": [
    "## Simulating the parametrized MZI"
   ]
  },
  {
   "cell_type": "markdown",
   "id": "33",
   "metadata": {
    "papermill": {
     "duration": 0.002939,
     "end_time": "2025-06-12T12:29:48.101167",
     "exception": false,
     "start_time": "2025-06-12T12:29:48.098228",
     "status": "completed"
    },
    "tags": []
   },
   "source": [
    "We can simulate the above mzi for multiple wavelengths as well by specifying the wavelength at the top level of the circuit call. Each setting specified at the top level of the circuit call will be propagated to all subcomponents of the circuit which have that setting:"
   ]
  },
  {
   "cell_type": "code",
   "execution_count": null,
   "id": "34",
   "metadata": {
    "papermill": {
     "duration": 0.787163,
     "end_time": "2025-06-12T12:29:48.894377",
     "exception": false,
     "start_time": "2025-06-12T12:29:48.107214",
     "status": "completed"
    },
    "tags": []
   },
   "outputs": [],
   "source": [
    "wl = jnp.linspace(1.51, 1.59, 1000)\n",
    "S = mzi(wl=wl, top={\"length\": 25.0}, btm={\"length\": 15.0})"
   ]
  },
  {
   "cell_type": "markdown",
   "id": "35",
   "metadata": {
    "papermill": {
     "duration": 0.004866,
     "end_time": "2025-06-12T12:29:48.906127",
     "exception": false,
     "start_time": "2025-06-12T12:29:48.901261",
     "status": "completed"
    },
    "tags": []
   },
   "source": [
    "Let's see what this gives:"
   ]
  },
  {
   "cell_type": "code",
   "execution_count": null,
   "id": "36",
   "metadata": {
    "papermill": {
     "duration": 0.11001,
     "end_time": "2025-06-12T12:29:49.023929",
     "exception": false,
     "start_time": "2025-06-12T12:29:48.913919",
     "status": "completed"
    },
    "tags": []
   },
   "outputs": [],
   "source": [
    "plt.plot(wl * 1e3, abs(S[\"in0\", \"out0\"]) ** 2)\n",
    "plt.ylim(-0.05, 1.05)\n",
    "plt.xlabel(\"λ [nm]\")\n",
    "plt.ylabel(\"T\")\n",
    "plt.ylim(-0.05, 1.05)\n",
    "plt.show()"
   ]
  },
  {
   "cell_type": "markdown",
   "id": "37",
   "metadata": {
    "papermill": {
     "duration": 0.004729,
     "end_time": "2025-06-12T12:29:49.036063",
     "exception": false,
     "start_time": "2025-06-12T12:29:49.031334",
     "status": "completed"
    },
    "tags": []
   },
   "source": [
    "## Optimization"
   ]
  },
  {
   "cell_type": "markdown",
   "id": "38",
   "metadata": {
    "papermill": {
     "duration": 0.005036,
     "end_time": "2025-06-12T12:29:49.047878",
     "exception": false,
     "start_time": "2025-06-12T12:29:49.042842",
     "status": "completed"
    },
    "tags": []
   },
   "source": [
    "We'd like to optimize an MZI such that one of the minima is at 1550nm. To do this, we need to define a loss function for the circuit at 1550nm. This function should take the parameters that you want to optimize as positional arguments:"
   ]
  },
  {
   "cell_type": "code",
   "execution_count": null,
   "id": "39",
   "metadata": {
    "papermill": {
     "duration": 0.009113,
     "end_time": "2025-06-12T12:29:49.060597",
     "exception": false,
     "start_time": "2025-06-12T12:29:49.051484",
     "status": "completed"
    },
    "tags": []
   },
   "outputs": [],
   "source": [
    "@jax.jit\n",
    "def loss_fn(delta_length):\n",
    "    S = mzi(wl=1.55, top={\"length\": 15.0 + delta_length}, btm={\"length\": 15.0})\n",
    "    return (abs(S[\"in0\", \"out0\"]) ** 2).mean()"
   ]
  },
  {
   "cell_type": "code",
   "execution_count": null,
   "id": "40",
   "metadata": {
    "papermill": {
     "duration": 0.088682,
     "end_time": "2025-06-12T12:29:49.156756",
     "exception": false,
     "start_time": "2025-06-12T12:29:49.068074",
     "status": "completed"
    },
    "tags": []
   },
   "outputs": [],
   "source": [
    "%time loss_fn(10.0)"
   ]
  },
  {
   "cell_type": "markdown",
   "id": "41",
   "metadata": {
    "papermill": {
     "duration": 0.002981,
     "end_time": "2025-06-12T12:29:49.166872",
     "exception": false,
     "start_time": "2025-06-12T12:29:49.163891",
     "status": "completed"
    },
    "tags": []
   },
   "source": [
    "We can use this loss function to define a grad function which works on the parameters of the loss function:"
   ]
  },
  {
   "cell_type": "code",
   "execution_count": null,
   "id": "42",
   "metadata": {
    "papermill": {
     "duration": 0.008396,
     "end_time": "2025-06-12T12:29:49.181057",
     "exception": false,
     "start_time": "2025-06-12T12:29:49.172661",
     "status": "completed"
    },
    "tags": []
   },
   "outputs": [],
   "source": [
    "grad_fn = jax.jit(\n",
    "    jax.grad(\n",
    "        loss_fn,\n",
    "        argnums=0,  # JAX gradient function for the first positional argument, jitted\n",
    "    )\n",
    ")"
   ]
  },
  {
   "cell_type": "markdown",
   "id": "43",
   "metadata": {
    "papermill": {
     "duration": 0.002938,
     "end_time": "2025-06-12T12:29:49.190690",
     "exception": false,
     "start_time": "2025-06-12T12:29:49.187752",
     "status": "completed"
    },
    "tags": []
   },
   "source": [
    "Next, we need to define a JAX optimizer, which on its own is nothing more than three more functions:  an initialization function with which to initialize the optimizer state, an update function which will update the optimizer state (and with it the model parameters). The third function that's being returned will give the model parameters given the optimizer state."
   ]
  },
  {
   "cell_type": "code",
   "execution_count": null,
   "id": "44",
   "metadata": {
    "papermill": {
     "duration": 0.009607,
     "end_time": "2025-06-12T12:29:49.204162",
     "exception": false,
     "start_time": "2025-06-12T12:29:49.194555",
     "status": "completed"
    },
    "tags": []
   },
   "outputs": [],
   "source": [
    "initial_delta_length = 10.0\n",
    "init_fn, update_fn, params_fn = opt.adam(step_size=0.1)\n",
    "state = init_fn(initial_delta_length)"
   ]
  },
  {
   "cell_type": "markdown",
   "id": "45",
   "metadata": {
    "papermill": {
     "duration": 0.002994,
     "end_time": "2025-06-12T12:29:49.215540",
     "exception": false,
     "start_time": "2025-06-12T12:29:49.212546",
     "status": "completed"
    },
    "tags": []
   },
   "source": [
    "Given all this, a single training step can be defined:"
   ]
  },
  {
   "cell_type": "code",
   "execution_count": null,
   "id": "46",
   "metadata": {
    "papermill": {
     "duration": 0.010423,
     "end_time": "2025-06-12T12:29:49.233139",
     "exception": false,
     "start_time": "2025-06-12T12:29:49.222716",
     "status": "completed"
    },
    "tags": []
   },
   "outputs": [],
   "source": [
    "def step_fn(step, state):\n",
    "    settings = params_fn(state)\n",
    "    loss = loss_fn(settings)\n",
    "    grad = grad_fn(settings)\n",
    "    state = update_fn(step, grad, state)\n",
    "    return loss, state"
   ]
  },
  {
   "cell_type": "markdown",
   "id": "47",
   "metadata": {
    "papermill": {
     "duration": 0.003183,
     "end_time": "2025-06-12T12:29:49.243496",
     "exception": false,
     "start_time": "2025-06-12T12:29:49.240313",
     "status": "completed"
    },
    "tags": []
   },
   "source": [
    "And we can use this step function to start the training of the MZI:"
   ]
  },
  {
   "cell_type": "code",
   "execution_count": null,
   "id": "48",
   "metadata": {
    "papermill": {
     "duration": 6.477074,
     "end_time": "2025-06-12T12:29:55.726633",
     "exception": false,
     "start_time": "2025-06-12T12:29:49.249559",
     "status": "completed"
    },
    "tags": []
   },
   "outputs": [],
   "source": [
    "range_ = trange(300)\n",
    "for step in range_:\n",
    "    loss, state = step_fn(step, state)\n",
    "    range_.set_postfix(loss=f\"{loss:.6f}\")"
   ]
  },
  {
   "cell_type": "code",
   "execution_count": null,
   "id": "49",
   "metadata": {
    "papermill": {
     "duration": 0.005762,
     "end_time": "2025-06-12T12:29:55.735611",
     "exception": false,
     "start_time": "2025-06-12T12:29:55.729849",
     "status": "completed"
    },
    "tags": []
   },
   "outputs": [],
   "source": [
    "delta_length = params_fn(state)\n",
    "delta_length"
   ]
  },
  {
   "cell_type": "markdown",
   "id": "50",
   "metadata": {
    "papermill": {
     "duration": 0.002501,
     "end_time": "2025-06-12T12:29:55.740746",
     "exception": false,
     "start_time": "2025-06-12T12:29:55.738245",
     "status": "completed"
    },
    "tags": []
   },
   "source": [
    "Let's see what we've got over a range of wavelengths:"
   ]
  },
  {
   "cell_type": "code",
   "execution_count": null,
   "id": "51",
   "metadata": {
    "papermill": {
     "duration": 0.046405,
     "end_time": "2025-06-12T12:29:55.789607",
     "exception": false,
     "start_time": "2025-06-12T12:29:55.743202",
     "status": "completed"
    },
    "tags": []
   },
   "outputs": [],
   "source": [
    "S = mzi(wl=wl, top={\"length\": 15.0 + delta_length}, btm={\"length\": 15.0})\n",
    "plt.plot(wl * 1e3, abs(S[\"in1\", \"out1\"]) ** 2)\n",
    "plt.xlabel(\"λ [nm]\")\n",
    "plt.ylabel(\"T\")\n",
    "plt.ylim(-0.05, 1.05)\n",
    "plt.plot([1550, 1550], [0, 1])\n",
    "plt.show()"
   ]
  },
  {
   "cell_type": "markdown",
   "id": "52",
   "metadata": {
    "papermill": {
     "duration": 0.002697,
     "end_time": "2025-06-12T12:29:55.795285",
     "exception": false,
     "start_time": "2025-06-12T12:29:55.792588",
     "status": "completed"
    },
    "tags": []
   },
   "source": [
    "The minimum of the MZI is perfectly located at 1550nm."
   ]
  },
  {
   "cell_type": "markdown",
   "id": "53",
   "metadata": {
    "papermill": {
     "duration": 0.00258,
     "end_time": "2025-06-12T12:29:55.800477",
     "exception": false,
     "start_time": "2025-06-12T12:29:55.797897",
     "status": "completed"
    },
    "tags": []
   },
   "source": [
    "## MZI Chain"
   ]
  },
  {
   "cell_type": "markdown",
   "id": "54",
   "metadata": {
    "papermill": {
     "duration": 0.002557,
     "end_time": "2025-06-12T12:29:55.805582",
     "exception": false,
     "start_time": "2025-06-12T12:29:55.803025",
     "status": "completed"
    },
    "tags": []
   },
   "source": [
    "Let's now create a chain of MZIs. For this, we first create a subcomponent: a directional coupler with arms:\n",
    "\n",
    "\n",
    "```\n",
    "                                 top\n",
    "                            in0 ----- out0 -> out1\n",
    "    in1 <- in1        out1                 \n",
    "              \\  dc  /                  \n",
    "               ======                  \n",
    "              /      \\                \n",
    "    in0 <- in0        out0       btm    \n",
    "                            in0 ----- out0 -> out0\n",
    "```"
   ]
  },
  {
   "cell_type": "code",
   "execution_count": null,
   "id": "55",
   "metadata": {
    "papermill": {
     "duration": 0.343857,
     "end_time": "2025-06-12T12:29:56.151999",
     "exception": false,
     "start_time": "2025-06-12T12:29:55.808142",
     "status": "completed"
    },
    "tags": []
   },
   "outputs": [],
   "source": [
    "dc_with_arms, info = sax.circuit(\n",
    "    netlist={\n",
    "        \"instances\": {\n",
    "            \"lft\": \"coupler\",\n",
    "            \"top\": \"waveguide\",\n",
    "            \"btm\": \"waveguide\",\n",
    "        },\n",
    "        \"connections\": {\n",
    "            \"lft,out0\": \"btm,in0\",\n",
    "            \"lft,out1\": \"top,in0\",\n",
    "        },\n",
    "        \"ports\": {\n",
    "            \"in0\": \"lft,in0\",\n",
    "            \"in1\": \"lft,in1\",\n",
    "            \"out0\": \"btm,out0\",\n",
    "            \"out1\": \"top,out0\",\n",
    "        },\n",
    "    },\n",
    "    models={\n",
    "        \"coupler\": coupler,\n",
    "        \"waveguide\": waveguide,\n",
    "    },\n",
    ")"
   ]
  },
  {
   "cell_type": "markdown",
   "id": "56",
   "metadata": {
    "papermill": {
     "duration": 0.002838,
     "end_time": "2025-06-12T12:29:56.157931",
     "exception": false,
     "start_time": "2025-06-12T12:29:56.155093",
     "status": "completed"
    },
    "tags": []
   },
   "source": [
    "An MZI chain can now be created by cascading these directional couplers with arms:\n",
    "\n",
    "```\n",
    "      _    _    _    _             _    _  \n",
    "    \\/   \\/   \\/   \\/     ...    \\/   \\/   \n",
    "    /\\_  /\\_  /\\_  /\\_           /\\_  /\\_  \n",
    "```\n",
    "\n",
    "Let's create a *model factory* (`ModelFactory`) for this. In SAX, a *model factory* is any keyword-only function that generates a `Model`:"
   ]
  },
  {
   "cell_type": "code",
   "execution_count": null,
   "id": "57",
   "metadata": {
    "papermill": {
     "duration": 0.00562,
     "end_time": "2025-06-12T12:29:56.166299",
     "exception": false,
     "start_time": "2025-06-12T12:29:56.160679",
     "status": "completed"
    },
    "tags": []
   },
   "outputs": [],
   "source": [
    "def mzi_chain(num_mzis=1) -> sax.Model:\n",
    "    chain, _ = sax.circuit(\n",
    "        netlist={\n",
    "            \"instances\": {f\"dc{i}\": \"dc_with_arms\" for i in range(num_mzis + 1)},\n",
    "            \"connections\": {\n",
    "                **{f\"dc{i},out0\": f\"dc{i + 1},in0\" for i in range(num_mzis)},\n",
    "                **{f\"dc{i},out1\": f\"dc{i + 1},in1\" for i in range(num_mzis)},\n",
    "            },\n",
    "            \"ports\": {\n",
    "                \"in0\": \"dc0,in0\",\n",
    "                \"in1\": \"dc0,in1\",\n",
    "                \"out0\": f\"dc{num_mzis},out0\",\n",
    "                \"out1\": f\"dc{num_mzis},out1\",\n",
    "            },\n",
    "        },\n",
    "        models={\"dc_with_arms\": dc_with_arms},\n",
    "        backend=\"klu\",\n",
    "    )\n",
    "    return chain"
   ]
  },
  {
   "cell_type": "markdown",
   "id": "58",
   "metadata": {
    "papermill": {
     "duration": 0.002608,
     "end_time": "2025-06-12T12:29:56.171657",
     "exception": false,
     "start_time": "2025-06-12T12:29:56.169049",
     "status": "completed"
    },
    "tags": []
   },
   "source": [
    "Let's for example create a chain with 15 MZIs. We can also update the settings dictionary as follows:"
   ]
  },
  {
   "cell_type": "code",
   "execution_count": null,
   "id": "59",
   "metadata": {
    "papermill": {
     "duration": 0.662508,
     "end_time": "2025-06-12T12:29:56.836713",
     "exception": false,
     "start_time": "2025-06-12T12:29:56.174205",
     "status": "completed"
    },
    "tags": []
   },
   "outputs": [],
   "source": [
    "chain = mzi_chain(num_mzis=15)\n",
    "settings = sax.get_settings(chain)\n",
    "for dc in settings:\n",
    "    settings[dc][\"top\"][\"length\"] = 25.0\n",
    "    settings[dc][\"btm\"][\"length\"] = 15.0\n",
    "settings = sax.update_settings(settings, wl=jnp.linspace(1.5, 1.6, 1000))"
   ]
  },
  {
   "cell_type": "markdown",
   "id": "60",
   "metadata": {
    "papermill": {
     "duration": 0.002685,
     "end_time": "2025-06-12T12:29:56.842430",
     "exception": false,
     "start_time": "2025-06-12T12:29:56.839745",
     "status": "completed"
    },
    "tags": []
   },
   "source": [
    "We can simulate this:"
   ]
  },
  {
   "cell_type": "code",
   "execution_count": null,
   "id": "61",
   "metadata": {
    "papermill": {
     "duration": 0.87184,
     "end_time": "2025-06-12T12:29:57.717067",
     "exception": false,
     "start_time": "2025-06-12T12:29:56.845227",
     "status": "completed"
    },
    "tags": []
   },
   "outputs": [],
   "source": [
    "%time S = chain(**settings) # time to evaluate the MZI\n",
    "func = jax.jit(chain)\n",
    "%time S = func(**settings) # time to jit the MZI\n",
    "%time S = func(**settings) # time to evaluate the MZI after jitting"
   ]
  },
  {
   "cell_type": "markdown",
   "id": "62",
   "metadata": {
    "papermill": {
     "duration": 0.002869,
     "end_time": "2025-06-12T12:29:57.723022",
     "exception": false,
     "start_time": "2025-06-12T12:29:57.720153",
     "status": "completed"
    },
    "tags": []
   },
   "source": [
    "Where we see that the unjitted evaluation of the MZI chain takes about a second, while the jitting of the MZI chain takes about two seconds (on a CPU). However, after the MZI chain has been jitted, the evaluation is in the order of about a few milliseconds!\n",
    "\n",
    "Anyway, let's see what this gives:"
   ]
  },
  {
   "cell_type": "code",
   "execution_count": null,
   "id": "63",
   "metadata": {
    "papermill": {
     "duration": 0.045411,
     "end_time": "2025-06-12T12:29:57.771165",
     "exception": false,
     "start_time": "2025-06-12T12:29:57.725754",
     "status": "completed"
    },
    "tags": []
   },
   "outputs": [],
   "source": [
    "%%time\n",
    "S = sax.sdict(S)\n",
    "plt.plot(1e3 * settings[\"dc0\"][\"top\"][\"wl\"], jnp.abs(S[\"in0\", \"out0\"]) ** 2)\n",
    "plt.ylim(-0.05, 1.05)\n",
    "plt.xlabel(\"λ [nm]\")\n",
    "plt.ylabel(\"T\")\n",
    "plt.ylim(-0.05, 1.05)\n",
    "plt.show()"
   ]
  }
 ],
 "metadata": {
  "kernelspec": {
   "display_name": "sax",
   "language": "python",
   "name": "sax"
  },
  "language_info": {
   "codemirror_mode": {
    "name": "ipython",
    "version": 3
   },
   "file_extension": ".py",
   "mimetype": "text/x-python",
   "name": "python",
   "nbconvert_exporter": "python",
   "pygments_lexer": "ipython3",
   "version": "3.12.10"
  },
  "papermill": {
   "default_parameters": {},
   "duration": 16.687366,
   "end_time": "2025-06-12T12:30:00.390148",
   "environment_variables": {},
   "exception": null,
   "input_path": "nbs/examples/01_quick_start.ipynb",
   "output_path": "nbs/examples/01_quick_start.ipynb",
   "parameters": {},
   "start_time": "2025-06-12T12:29:43.702782",
   "version": "2.6.0"
  }
 },
 "nbformat": 4,
 "nbformat_minor": 5
}
