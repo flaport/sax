{
 "cells": [
  {
   "cell_type": "markdown",
   "id": "0",
   "metadata": {},
   "source": [
    "# Sparse COO"
   ]
  },
  {
   "cell_type": "markdown",
   "id": "1",
   "metadata": {},
   "source": [
    "> The most efficient S-representation is the COO representation. It's however also the least user friendly:"
   ]
  },
  {
   "cell_type": "code",
   "execution_count": null,
   "id": "2",
   "metadata": {},
   "outputs": [],
   "source": [
    "# hide\n",
    "import jax.numpy as jnp\n",
    "\n",
    "import sax"
   ]
  },
  {
   "cell_type": "code",
   "execution_count": null,
   "id": "3",
   "metadata": {},
   "outputs": [],
   "source": [
    "def my_coo():\n",
    "    num_input_ports = 4\n",
    "    num_output_ports = 1\n",
    "    pm = {\n",
    "        **{f\"in{i}\": i for i in range(num_input_ports)},\n",
    "        **{f\"out{i}\": i + num_input_ports for i in range(num_output_ports)},\n",
    "    }\n",
    "    thru = jnp.ones(num_input_ports)\n",
    "    i = jnp.arange(0, num_input_ports, 1)\n",
    "    j = jnp.zeros_like(i) + num_input_ports\n",
    "\n",
    "    # make reciprocal\n",
    "    i, j = jnp.concatenate([i, j]), jnp.concatenate([j, i])\n",
    "    thru = jnp.concatenate([thru, thru], 0)\n",
    "    return (i, j, thru, pm)"
   ]
  },
  {
   "cell_type": "code",
   "execution_count": null,
   "id": "4",
   "metadata": {},
   "outputs": [],
   "source": [
    "circuit, _ = sax.circuit(\n",
    "    netlist={\n",
    "        \"instances\": {\n",
    "            \"coo\": \"coo\",\n",
    "        },\n",
    "        \"connections\": {},\n",
    "        \"ports\": {\n",
    "            \"in0\": \"coo,in0\",\n",
    "            \"out0\": \"coo,out0\",\n",
    "        },\n",
    "    },\n",
    "    models={\n",
    "        \"coo\": my_coo,\n",
    "    },\n",
    "    backend=\"klu\",\n",
    "    return_type=\"scoo\",\n",
    ")"
   ]
  },
  {
   "cell_type": "code",
   "execution_count": null,
   "id": "5",
   "metadata": {},
   "outputs": [],
   "source": [
    "circuit()"
   ]
  },
  {
   "cell_type": "code",
   "execution_count": null,
   "id": "6",
   "metadata": {},
   "outputs": [],
   "source": [
    "sax.sdict(circuit())"
   ]
  }
 ],
 "metadata": {
  "kernelspec": {
   "display_name": "sax",
   "language": "python",
   "name": "sax"
  },
  "language_info": {
   "codemirror_mode": {
    "name": "ipython",
    "version": 3
   },
   "file_extension": ".py",
   "mimetype": "text/x-python",
   "name": "python",
   "nbconvert_exporter": "python",
   "pygments_lexer": "ipython3"
  },
  "papermill": {
   "default_parameters": {},
   "duration": 3.364092,
   "end_time": "2025-06-20T11:04:53.385799",
   "environment_variables": {},
   "exception": null,
   "input_path": "nbs/examples/08_sparse_coo.ipynb",
   "output_path": "nbs/examples/08_sparse_coo.ipynb",
   "parameters": {},
   "start_time": "2025-06-20T11:04:50.021707",
   "version": "2.6.0"
  }
 },
 "nbformat": 4,
 "nbformat_minor": 5
}
