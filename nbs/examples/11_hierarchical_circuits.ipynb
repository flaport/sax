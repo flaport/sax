{
 "cells": [
  {
   "cell_type": "markdown",
   "id": "0",
   "metadata": {
    "papermill": {
     "duration": 0.003651,
     "end_time": "2025-06-20T08:28:52.011000",
     "exception": false,
     "start_time": "2025-06-20T08:28:52.007349",
     "status": "completed"
    },
    "tags": []
   },
   "source": [
    "# Hierarchical circuits\n",
    "> Let's discuss hierarchical circuits"
   ]
  },
  {
   "cell_type": "code",
   "execution_count": null,
   "id": "1",
   "metadata": {
    "papermill": {
     "duration": 0.988947,
     "end_time": "2025-06-20T08:28:53.001097",
     "exception": false,
     "start_time": "2025-06-20T08:28:52.012150",
     "status": "completed"
    },
    "tags": []
   },
   "outputs": [],
   "source": [
    "import jax.numpy as jnp\n",
    "import matplotlib.pyplot as plt\n",
    "import sax"
   ]
  },
  {
   "cell_type": "markdown",
   "id": "2",
   "metadata": {
    "papermill": {
     "duration": 0.001714,
     "end_time": "2025-06-20T08:28:53.005138",
     "exception": false,
     "start_time": "2025-06-20T08:28:53.003424",
     "status": "completed"
    },
    "tags": []
   },
   "source": [
    "## Models\n",
    "create a dictionary of models to be used"
   ]
  },
  {
   "cell_type": "code",
   "execution_count": null,
   "id": "3",
   "metadata": {
    "papermill": {
     "duration": 0.017215,
     "end_time": "2025-06-20T08:28:53.024025",
     "exception": false,
     "start_time": "2025-06-20T08:28:53.006810",
     "status": "completed"
    },
    "tags": []
   },
   "outputs": [],
   "source": [
    "models = {\n",
    "    \"coupler\": sax.models.coupler,\n",
    "    \"waveguide\": sax.models.straight,\n",
    "}"
   ]
  },
  {
   "cell_type": "markdown",
   "id": "4",
   "metadata": {
    "papermill": {
     "duration": 0.001672,
     "end_time": "2025-06-20T08:28:53.027515",
     "exception": false,
     "start_time": "2025-06-20T08:28:53.025843",
     "status": "completed"
    },
    "tags": []
   },
   "source": [
    "## Flat Circuit\n",
    "\n",
    "Probably best to start from a reference circuit. Let's build a flat MZI netlist (introduced in the SAX Quick Start):"
   ]
  },
  {
   "cell_type": "code",
   "execution_count": null,
   "id": "5",
   "metadata": {
    "papermill": {
     "duration": 0.007763,
     "end_time": "2025-06-20T08:28:53.036383",
     "exception": false,
     "start_time": "2025-06-20T08:28:53.028620",
     "status": "completed"
    },
    "tags": []
   },
   "outputs": [],
   "source": [
    "netlist = {\n",
    "    \"instances\": {\n",
    "        \"lft\": \"coupler\",\n",
    "        \"top\": \"waveguide\",\n",
    "        \"btm\": \"waveguide\",\n",
    "        \"rgt\": \"coupler\",\n",
    "    },\n",
    "    \"connections\": {\n",
    "        \"lft,out0\": \"btm,in0\",\n",
    "        \"btm,out0\": \"rgt,in0\",\n",
    "        \"lft,out1\": \"top,in0\",\n",
    "        \"top,out0\": \"rgt,in1\",\n",
    "    },\n",
    "    \"ports\": {\n",
    "        \"in0\": \"lft,in0\",\n",
    "        \"in1\": \"lft,in1\",\n",
    "        \"out0\": \"rgt,out0\",\n",
    "        \"out1\": \"rgt,out1\",\n",
    "    },\n",
    "}"
   ]
  },
  {
   "cell_type": "markdown",
   "id": "6",
   "metadata": {
    "papermill": {
     "duration": 0.001574,
     "end_time": "2025-06-20T08:28:53.039764",
     "exception": false,
     "start_time": "2025-06-20T08:28:53.038190",
     "status": "completed"
    },
    "tags": []
   },
   "source": [
    "we can easily simulate this netlist as we did before:"
   ]
  },
  {
   "cell_type": "code",
   "execution_count": null,
   "id": "7",
   "metadata": {
    "papermill": {
     "duration": 2.393859,
     "end_time": "2025-06-20T08:28:55.435320",
     "exception": false,
     "start_time": "2025-06-20T08:28:53.041461",
     "status": "completed"
    },
    "tags": []
   },
   "outputs": [],
   "source": [
    "# created the circuit function\n",
    "mzi, _ = sax.circuit(netlist=netlist, models=models)\n",
    "\n",
    "# simulate\n",
    "wl = jnp.linspace(1.5, 1.6)\n",
    "result = mzi(wl=wl, top={\"length\": 20})\n",
    "\n",
    "# plot\n",
    "plt.plot(wl, abs(result[\"in0\", \"out0\"]) ** 2)\n",
    "plt.show()"
   ]
  },
  {
   "cell_type": "markdown",
   "id": "8",
   "metadata": {
    "papermill": {
     "duration": 0.00185,
     "end_time": "2025-06-20T08:28:55.439333",
     "exception": false,
     "start_time": "2025-06-20T08:28:55.437483",
     "status": "completed"
    },
    "tags": []
   },
   "source": [
    "## Hierarchical Circuit\n",
    "\n",
    "We can quite easily convert this into a hierarchical netlist:"
   ]
  },
  {
   "cell_type": "code",
   "execution_count": null,
   "id": "9",
   "metadata": {
    "papermill": {
     "duration": 0.009301,
     "end_time": "2025-06-20T08:28:55.450551",
     "exception": false,
     "start_time": "2025-06-20T08:28:55.441250",
     "status": "completed"
    },
    "tags": []
   },
   "outputs": [],
   "source": [
    "hierarchical_netlist = {\n",
    "    \"top_level\": {\n",
    "        \"instances\": {\n",
    "            \"top_lft\": \"top_lft\",\n",
    "            \"btm_rgt\": \"btm_rgt\",\n",
    "        },\n",
    "        \"connections\": {\n",
    "            \"top_lft,out0\": \"btm_rgt,in0\",\n",
    "            \"top_lft,out1\": \"btm_rgt,in1\",\n",
    "        },\n",
    "        \"ports\": {\n",
    "            \"in0\": \"top_lft,in0\",\n",
    "            \"in1\": \"top_lft,in1\",\n",
    "            \"out0\": \"btm_rgt,out0\",\n",
    "            \"out1\": \"btm_rgt,out1\",\n",
    "        },\n",
    "    },\n",
    "    \"top_lft\": {\n",
    "        \"instances\": {\n",
    "            \"lft\": \"coupler\",\n",
    "            \"top\": \"waveguide\",\n",
    "        },\n",
    "        \"connections\": {\n",
    "            \"lft,out1\": \"top,in0\",\n",
    "        },\n",
    "        \"ports\": {\n",
    "            \"in0\": \"lft,in0\",\n",
    "            \"in1\": \"lft,in1\",\n",
    "            \"out0\": \"lft,out0\",\n",
    "            \"out1\": \"top,out0\",\n",
    "        },\n",
    "    },\n",
    "    \"btm_rgt\": {\n",
    "        \"instances\": {\n",
    "            \"btm\": \"waveguide\",\n",
    "            \"rgt\": \"coupler\",\n",
    "        },\n",
    "        \"connections\": {\n",
    "            \"btm,out0\": \"rgt,in0\",\n",
    "        },\n",
    "        \"ports\": {\n",
    "            \"in0\": \"btm,in0\",\n",
    "            \"in1\": \"rgt,in1\",\n",
    "            \"out0\": \"rgt,out0\",\n",
    "            \"out1\": \"rgt,out1\",\n",
    "        },\n",
    "    },\n",
    "}"
   ]
  },
  {
   "cell_type": "markdown",
   "id": "10",
   "metadata": {
    "papermill": {
     "duration": 0.002046,
     "end_time": "2025-06-20T08:28:55.454717",
     "exception": false,
     "start_time": "2025-06-20T08:28:55.452671",
     "status": "completed"
    },
    "tags": []
   },
   "source": [
    "and simulate it just as before"
   ]
  },
  {
   "cell_type": "code",
   "execution_count": null,
   "id": "11",
   "metadata": {
    "papermill": {
     "duration": 2.676674,
     "end_time": "2025-06-20T08:28:58.133402",
     "exception": false,
     "start_time": "2025-06-20T08:28:55.456728",
     "status": "completed"
    },
    "tags": []
   },
   "outputs": [],
   "source": [
    "# created the circuit function\n",
    "mzi, _ = sax.circuit(netlist=hierarchical_netlist, models=models)\n",
    "\n",
    "# simulate\n",
    "wl = jnp.linspace(1.5, 1.6)\n",
    "result = mzi(wl=wl, top_lft={\"top\": {\"length\": 20}})\n",
    "\n",
    "# plot\n",
    "plt.plot(wl, abs(result[\"in0\", \"out0\"]) ** 2)\n",
    "plt.show()"
   ]
  }
 ],
 "metadata": {
  "kernelspec": {
   "display_name": "sax",
   "language": "python",
   "name": "sax"
  },
  "language_info": {
   "codemirror_mode": {
    "name": "ipython",
    "version": 3
   },
   "file_extension": ".py",
   "mimetype": "text/x-python",
   "name": "python",
   "nbconvert_exporter": "python",
   "pygments_lexer": "ipython3",
   "version": "3.12.10"
  },
  "papermill": {
   "default_parameters": {},
   "duration": 7.462364,
   "end_time": "2025-06-20T08:28:58.554413",
   "environment_variables": {},
   "exception": null,
   "input_path": "nbs/examples/11_hierarchical_circuits.ipynb",
   "output_path": "nbs/examples/11_hierarchical_circuits.ipynb",
   "parameters": {},
   "start_time": "2025-06-20T08:28:51.092049",
   "version": "2.6.0"
  }
 },
 "nbformat": 4,
 "nbformat_minor": 5
}
