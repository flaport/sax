{
 "cells": [
  {
   "cell_type": "markdown",
   "id": "0",
   "metadata": {},
   "source": [
    "# Hierarchical circuits\n",
    "> Let's discuss hierarchical circuits"
   ]
  },
  {
   "cell_type": "code",
   "execution_count": null,
   "id": "1",
   "metadata": {},
   "outputs": [],
   "source": [
    "import jax.numpy as jnp\n",
    "import matplotlib.pyplot as plt\n",
    "import sax"
   ]
  },
  {
   "cell_type": "markdown",
   "id": "2",
   "metadata": {},
   "source": [
    "## Models\n",
    "create a dictionary of models to be used"
   ]
  },
  {
   "cell_type": "code",
   "execution_count": null,
   "id": "3",
   "metadata": {},
   "outputs": [],
   "source": [
    "models = {\n",
    "    \"coupler\": sax.models.coupler_ideal,\n",
    "    \"waveguide\": sax.models.straight,\n",
    "}"
   ]
  },
  {
   "cell_type": "markdown",
   "id": "4",
   "metadata": {},
   "source": [
    "## Flat Circuit\n",
    "\n",
    "Probably best to start from a reference circuit. Let's build a flat MZI netlist (introduced in the SAX Quick Start):"
   ]
  },
  {
   "cell_type": "code",
   "execution_count": null,
   "id": "5",
   "metadata": {},
   "outputs": [],
   "source": [
    "netlist = {\n",
    "    \"instances\": {\n",
    "        \"lft\": \"coupler\",\n",
    "        \"top\": \"waveguide\",\n",
    "        \"btm\": \"waveguide\",\n",
    "        \"rgt\": \"coupler\",\n",
    "    },\n",
    "    \"connections\": {\n",
    "        \"lft,out0\": \"btm,in0\",\n",
    "        \"btm,out0\": \"rgt,in0\",\n",
    "        \"lft,out1\": \"top,in0\",\n",
    "        \"top,out0\": \"rgt,in1\",\n",
    "    },\n",
    "    \"ports\": {\n",
    "        \"in0\": \"lft,in0\",\n",
    "        \"in1\": \"lft,in1\",\n",
    "        \"out0\": \"rgt,out0\",\n",
    "        \"out1\": \"rgt,out1\",\n",
    "    },\n",
    "}"
   ]
  },
  {
   "cell_type": "markdown",
   "id": "6",
   "metadata": {},
   "source": [
    "we can easily simulate this netlist as we did before:"
   ]
  },
  {
   "cell_type": "code",
   "execution_count": null,
   "id": "7",
   "metadata": {},
   "outputs": [],
   "source": [
    "# created the circuit function\n",
    "mzi, _ = sax.circuit(netlist=netlist, models=models)\n",
    "\n",
    "# simulate\n",
    "wl = jnp.linspace(1.5, 1.6)\n",
    "result = mzi(wl=wl, top={\"length\": 20})\n",
    "\n",
    "# plot\n",
    "plt.plot(wl, abs(result[\"in0\", \"out0\"]) ** 2)\n",
    "plt.show()"
   ]
  },
  {
   "cell_type": "markdown",
   "id": "8",
   "metadata": {},
   "source": [
    "## Hierarchical Circuit\n",
    "\n",
    "We can quite easily convert this into a hierarchical netlist:"
   ]
  },
  {
   "cell_type": "code",
   "execution_count": null,
   "id": "9",
   "metadata": {},
   "outputs": [],
   "source": [
    "hierarchical_netlist = {\n",
    "    \"top_level\": {\n",
    "        \"instances\": {\n",
    "            \"top_lft\": \"top_lft\",\n",
    "            \"btm_rgt\": \"btm_rgt\",\n",
    "        },\n",
    "        \"connections\": {\n",
    "            \"top_lft,out0\": \"btm_rgt,in0\",\n",
    "            \"top_lft,out1\": \"btm_rgt,in1\",\n",
    "        },\n",
    "        \"ports\": {\n",
    "            \"in0\": \"top_lft,in0\",\n",
    "            \"in1\": \"top_lft,in1\",\n",
    "            \"out0\": \"btm_rgt,out0\",\n",
    "            \"out1\": \"btm_rgt,out1\",\n",
    "        },\n",
    "    },\n",
    "    \"top_lft\": {\n",
    "        \"instances\": {\n",
    "            \"lft\": \"coupler\",\n",
    "            \"top\": \"waveguide\",\n",
    "        },\n",
    "        \"connections\": {\n",
    "            \"lft,out1\": \"top,in0\",\n",
    "        },\n",
    "        \"ports\": {\n",
    "            \"in0\": \"lft,in0\",\n",
    "            \"in1\": \"lft,in1\",\n",
    "            \"out0\": \"lft,out0\",\n",
    "            \"out1\": \"top,out0\",\n",
    "        },\n",
    "    },\n",
    "    \"btm_rgt\": {\n",
    "        \"instances\": {\n",
    "            \"btm\": \"waveguide\",\n",
    "            \"rgt\": \"coupler\",\n",
    "        },\n",
    "        \"connections\": {\n",
    "            \"btm,out0\": \"rgt,in0\",\n",
    "        },\n",
    "        \"ports\": {\n",
    "            \"in0\": \"btm,in0\",\n",
    "            \"in1\": \"rgt,in1\",\n",
    "            \"out0\": \"rgt,out0\",\n",
    "            \"out1\": \"rgt,out1\",\n",
    "        },\n",
    "    },\n",
    "}"
   ]
  },
  {
   "cell_type": "markdown",
   "id": "10",
   "metadata": {},
   "source": [
    "and simulate it just as before"
   ]
  },
  {
   "cell_type": "code",
   "execution_count": null,
   "id": "11",
   "metadata": {},
   "outputs": [],
   "source": [
    "# created the circuit function\n",
    "mzi, _ = sax.circuit(netlist=hierarchical_netlist, models=models)\n",
    "\n",
    "# simulate\n",
    "wl = jnp.linspace(1.5, 1.6)\n",
    "result = mzi(wl=wl, top_lft={\"top\": {\"length\": 20}})\n",
    "\n",
    "# plot\n",
    "plt.plot(wl, abs(result[\"in0\", \"out0\"]) ** 2)\n",
    "plt.show()"
   ]
  }
 ],
 "metadata": {
  "kernelspec": {
   "display_name": "sax",
   "language": "python",
   "name": "sax"
  },
  "language_info": {
   "codemirror_mode": {
    "name": "ipython",
    "version": 3
   },
   "file_extension": ".py",
   "mimetype": "text/x-python",
   "name": "python",
   "nbconvert_exporter": "python",
   "pygments_lexer": "ipython3"
  },
  "papermill": {
   "default_parameters": {},
   "duration": 6.656184,
   "end_time": "2025-06-20T14:11:18.462845",
   "environment_variables": {},
   "exception": null,
   "input_path": "nbs/examples/11_hierarchical_circuits.ipynb",
   "output_path": "nbs/examples/11_hierarchical_circuits.ipynb",
   "parameters": {},
   "start_time": "2025-06-20T14:11:11.806661",
   "version": "2.6.0"
  }
 },
 "nbformat": 4,
 "nbformat_minor": 5
}
