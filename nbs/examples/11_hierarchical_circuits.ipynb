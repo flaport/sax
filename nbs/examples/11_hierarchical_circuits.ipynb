{
 "cells": [
  {
   "cell_type": "markdown",
   "id": "0",
   "metadata": {
    "papermill": {
     "duration": 0.002406,
     "end_time": "2025-06-19T14:53:09.468807",
     "exception": false,
     "start_time": "2025-06-19T14:53:09.466401",
     "status": "completed"
    },
    "tags": []
   },
   "source": [
    "# Hierarchical circuits\n",
    "> Let's discuss hierarchical circuits"
   ]
  },
  {
   "cell_type": "code",
   "execution_count": null,
   "id": "1",
   "metadata": {
    "papermill": {
     "duration": 0.794145,
     "end_time": "2025-06-19T14:53:10.263963",
     "exception": false,
     "start_time": "2025-06-19T14:53:09.469818",
     "status": "completed"
    },
    "tags": []
   },
   "outputs": [],
   "source": [
    "import jax.numpy as jnp\n",
    "import matplotlib.pyplot as plt\n",
    "import sax"
   ]
  },
  {
   "cell_type": "markdown",
   "id": "2",
   "metadata": {
    "papermill": {
     "duration": 0.00216,
     "end_time": "2025-06-19T14:53:10.267959",
     "exception": false,
     "start_time": "2025-06-19T14:53:10.265799",
     "status": "completed"
    },
    "tags": []
   },
   "source": [
    "## Models\n",
    "create a dictionary of models to be used"
   ]
  },
  {
   "cell_type": "code",
   "execution_count": null,
   "id": "3",
   "metadata": {
    "papermill": {
     "duration": 0.011286,
     "end_time": "2025-06-19T14:53:10.281021",
     "exception": false,
     "start_time": "2025-06-19T14:53:10.269735",
     "status": "completed"
    },
    "tags": []
   },
   "outputs": [],
   "source": [
    "models = {\n",
    "    \"coupler\": sax.models.coupler,\n",
    "    \"waveguide\": sax.models.straight,\n",
    "}"
   ]
  },
  {
   "cell_type": "markdown",
   "id": "4",
   "metadata": {
    "papermill": {
     "duration": 0.001188,
     "end_time": "2025-06-19T14:53:10.284233",
     "exception": false,
     "start_time": "2025-06-19T14:53:10.283045",
     "status": "completed"
    },
    "tags": []
   },
   "source": [
    "## Flat Circuit\n",
    "\n",
    "Probably best to start from a reference circuit. Let's build a flat MZI netlist (introduced in the SAX Quick Start):"
   ]
  },
  {
   "cell_type": "code",
   "execution_count": null,
   "id": "5",
   "metadata": {
    "papermill": {
     "duration": 0.010059,
     "end_time": "2025-06-19T14:53:10.296259",
     "exception": false,
     "start_time": "2025-06-19T14:53:10.286200",
     "status": "completed"
    },
    "tags": []
   },
   "outputs": [],
   "source": [
    "netlist = {\n",
    "    \"instances\": {\n",
    "        \"lft\": \"coupler\",\n",
    "        \"top\": \"waveguide\",\n",
    "        \"btm\": \"waveguide\",\n",
    "        \"rgt\": \"coupler\",\n",
    "    },\n",
    "    \"connections\": {\n",
    "        \"lft,out0\": \"btm,in0\",\n",
    "        \"btm,out0\": \"rgt,in0\",\n",
    "        \"lft,out1\": \"top,in0\",\n",
    "        \"top,out0\": \"rgt,in1\",\n",
    "    },\n",
    "    \"ports\": {\n",
    "        \"in0\": \"lft,in0\",\n",
    "        \"in1\": \"lft,in1\",\n",
    "        \"out0\": \"rgt,out0\",\n",
    "        \"out1\": \"rgt,out1\",\n",
    "    },\n",
    "}"
   ]
  },
  {
   "cell_type": "markdown",
   "id": "6",
   "metadata": {
    "papermill": {
     "duration": 0.001336,
     "end_time": "2025-06-19T14:53:10.299109",
     "exception": false,
     "start_time": "2025-06-19T14:53:10.297773",
     "status": "completed"
    },
    "tags": []
   },
   "source": [
    "we can easily simulate this netlist as we did before:"
   ]
  },
  {
   "cell_type": "code",
   "execution_count": null,
   "id": "7",
   "metadata": {
    "papermill": {
     "duration": 2.130543,
     "end_time": "2025-06-19T14:53:12.430403",
     "exception": false,
     "start_time": "2025-06-19T14:53:10.299860",
     "status": "completed"
    },
    "tags": []
   },
   "outputs": [],
   "source": [
    "# created the circuit function\n",
    "mzi, _ = sax.circuit(netlist=netlist, models=models)\n",
    "\n",
    "# simulate\n",
    "wl = jnp.linspace(1.5, 1.6)\n",
    "result = mzi(wl=wl, top={\"length\": 20})\n",
    "\n",
    "# plot\n",
    "plt.plot(wl, abs(result[\"in0\", \"out0\"]) ** 2)\n",
    "plt.show()"
   ]
  },
  {
   "cell_type": "markdown",
   "id": "8",
   "metadata": {
    "papermill": {
     "duration": 0.000978,
     "end_time": "2025-06-19T14:53:12.433713",
     "exception": false,
     "start_time": "2025-06-19T14:53:12.432735",
     "status": "completed"
    },
    "tags": []
   },
   "source": [
    "## Hierarchical Circuit\n",
    "\n",
    "We can quite easily convert this into a hierarchical netlist:"
   ]
  },
  {
   "cell_type": "code",
   "execution_count": null,
   "id": "9",
   "metadata": {
    "papermill": {
     "duration": 0.011754,
     "end_time": "2025-06-19T14:53:12.447492",
     "exception": false,
     "start_time": "2025-06-19T14:53:12.435738",
     "status": "completed"
    },
    "tags": []
   },
   "outputs": [],
   "source": [
    "hierarchical_netlist = {\n",
    "    \"top_level\": {\n",
    "        \"instances\": {\n",
    "            \"top_lft\": \"top_lft\",\n",
    "            \"btm_rgt\": \"btm_rgt\",\n",
    "        },\n",
    "        \"connections\": {\n",
    "            \"top_lft,out0\": \"btm_rgt,in0\",\n",
    "            \"top_lft,out1\": \"btm_rgt,in1\",\n",
    "        },\n",
    "        \"ports\": {\n",
    "            \"in0\": \"top_lft,in0\",\n",
    "            \"in1\": \"top_lft,in1\",\n",
    "            \"out0\": \"btm_rgt,out0\",\n",
    "            \"out1\": \"btm_rgt,out1\",\n",
    "        },\n",
    "    },\n",
    "    \"top_lft\": {\n",
    "        \"instances\": {\n",
    "            \"lft\": \"coupler\",\n",
    "            \"top\": \"waveguide\",\n",
    "        },\n",
    "        \"connections\": {\n",
    "            \"lft,out1\": \"top,in0\",\n",
    "        },\n",
    "        \"ports\": {\n",
    "            \"in0\": \"lft,in0\",\n",
    "            \"in1\": \"lft,in1\",\n",
    "            \"out0\": \"lft,out0\",\n",
    "            \"out1\": \"top,out0\",\n",
    "        },\n",
    "    },\n",
    "    \"btm_rgt\": {\n",
    "        \"instances\": {\n",
    "            \"btm\": \"waveguide\",\n",
    "            \"rgt\": \"coupler\",\n",
    "        },\n",
    "        \"connections\": {\n",
    "            \"btm,out0\": \"rgt,in0\",\n",
    "        },\n",
    "        \"ports\": {\n",
    "            \"in0\": \"btm,in0\",\n",
    "            \"in1\": \"rgt,in1\",\n",
    "            \"out0\": \"rgt,out0\",\n",
    "            \"out1\": \"rgt,out1\",\n",
    "        },\n",
    "    },\n",
    "}"
   ]
  },
  {
   "cell_type": "markdown",
   "id": "10",
   "metadata": {
    "papermill": {
     "duration": 0.002193,
     "end_time": "2025-06-19T14:53:12.451881",
     "exception": false,
     "start_time": "2025-06-19T14:53:12.449688",
     "status": "completed"
    },
    "tags": []
   },
   "source": [
    "and simulate it just as before"
   ]
  },
  {
   "cell_type": "code",
   "execution_count": null,
   "id": "11",
   "metadata": {
    "papermill": {
     "duration": 2.505147,
     "end_time": "2025-06-19T14:53:14.959236",
     "exception": false,
     "start_time": "2025-06-19T14:53:12.454089",
     "status": "completed"
    },
    "tags": []
   },
   "outputs": [],
   "source": [
    "# created the circuit function\n",
    "mzi, _ = sax.circuit(netlist=hierarchical_netlist, models=models)\n",
    "\n",
    "# simulate\n",
    "wl = jnp.linspace(1.5, 1.6)\n",
    "result = mzi(wl=wl, top_lft={\"top\": {\"length\": 20}})\n",
    "\n",
    "# plot\n",
    "plt.plot(wl, abs(result[\"in0\", \"out0\"]) ** 2)\n",
    "plt.show()"
   ]
  }
 ],
 "metadata": {
  "kernelspec": {
   "display_name": "sax",
   "language": "python",
   "name": "sax"
  },
  "language_info": {
   "codemirror_mode": {
    "name": "ipython",
    "version": 3
   },
   "file_extension": ".py",
   "mimetype": "text/x-python",
   "name": "python",
   "nbconvert_exporter": "python",
   "pygments_lexer": "ipython3",
   "version": "3.12.10"
  },
  "papermill": {
   "default_parameters": {},
   "duration": 6.85932,
   "end_time": "2025-06-19T14:53:15.480963",
   "environment_variables": {},
   "exception": null,
   "input_path": "nbs/examples/11_hierarchical_circuits.ipynb",
   "output_path": "nbs/examples/11_hierarchical_circuits.ipynb",
   "parameters": {},
   "start_time": "2025-06-19T14:53:08.621643",
   "version": "2.6.0"
  }
 },
 "nbformat": 4,
 "nbformat_minor": 5
}
