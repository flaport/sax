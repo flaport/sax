{
 "cells": [
  {
   "cell_type": "markdown",
   "id": "0",
   "metadata": {
    "papermill": {
     "duration": 0.003893,
     "end_time": "2025-05-28T18:50:51.217786",
     "exception": false,
     "start_time": "2025-05-28T18:50:51.213893",
     "status": "completed"
    },
    "tags": []
   },
   "source": [
    "# Thin film optimization\n",
    "> Let's optimize a thin film..."
   ]
  },
  {
   "cell_type": "markdown",
   "id": "1",
   "metadata": {
    "papermill": {
     "duration": 0.002507,
     "end_time": "2025-05-28T18:50:51.223158",
     "exception": false,
     "start_time": "2025-05-28T18:50:51.220651",
     "status": "completed"
    },
    "tags": []
   },
   "source": [
    "> This notebook was contributed by [simbilod](https://github.com/simbilod)."
   ]
  },
  {
   "cell_type": "code",
   "execution_count": null,
   "id": "2",
   "metadata": {
    "papermill": {
     "duration": 1.078267,
     "end_time": "2025-05-28T18:50:52.303700",
     "exception": false,
     "start_time": "2025-05-28T18:50:51.225433",
     "status": "completed"
    },
    "tags": []
   },
   "outputs": [],
   "source": [
    "import jax\n",
    "import jax.example_libraries.optimizers as opt\n",
    "import jax.numpy as jnp\n",
    "import matplotlib.pyplot as plt\n",
    "import tqdm.notebook as tqdm\n",
    "from tmm import coh_tmm\n",
    "\n",
    "import sax"
   ]
  },
  {
   "cell_type": "markdown",
   "id": "3",
   "metadata": {
    "papermill": {
     "duration": 0.001993,
     "end_time": "2025-05-28T18:50:52.310596",
     "exception": false,
     "start_time": "2025-05-28T18:50:52.308603",
     "status": "completed"
    },
    "tags": []
   },
   "source": [
    "In this notebook, we apply SAX to thin-film optimization and show how it can be used for wavelength-dependent parameter optimization."
   ]
  },
  {
   "cell_type": "markdown",
   "id": "4",
   "metadata": {
    "papermill": {
     "duration": 0.005203,
     "end_time": "2025-05-28T18:50:52.320721",
     "exception": false,
     "start_time": "2025-05-28T18:50:52.315518",
     "status": "completed"
    },
    "tags": []
   },
   "source": [
    "The language of transfer/scatter matrices is commonly used to calculate optical properties of thin-films. Many specialized methods exist for their optimization. However, SAX can be useful to cut down on developer time by circumventing the need to manually take gradients of complicated or often-changed objective functions, and by generating efficient code from simple syntax. "
   ]
  },
  {
   "cell_type": "markdown",
   "id": "5",
   "metadata": {
    "papermill": {
     "duration": 0.004772,
     "end_time": "2025-05-28T18:50:52.330257",
     "exception": false,
     "start_time": "2025-05-28T18:50:52.325485",
     "status": "completed"
    },
    "tags": []
   },
   "source": [
    "## Dielectric mirror Fabry-Pérot\n",
    "\n",
    "Consider a stack composed of only two materials, $n_A$ and $n_B$. Two types of transfer matrices characterize wave propagation in the system : interfaces described by Fresnel's equations, and propagation."
   ]
  },
  {
   "cell_type": "markdown",
   "id": "6",
   "metadata": {
    "papermill": {
     "duration": 0.004555,
     "end_time": "2025-05-28T18:50:52.339624",
     "exception": false,
     "start_time": "2025-05-28T18:50:52.335069",
     "status": "completed"
    },
    "tags": []
   },
   "source": [
    "For the two-material stack, this leads to 4 scatter matrices coefficients. Through reciprocity they can be constructed out of two independent ones :"
   ]
  },
  {
   "cell_type": "code",
   "execution_count": null,
   "id": "7",
   "metadata": {
    "papermill": {
     "duration": 0.012587,
     "end_time": "2025-05-28T18:50:52.356709",
     "exception": false,
     "start_time": "2025-05-28T18:50:52.344122",
     "status": "completed"
    },
    "tags": []
   },
   "outputs": [],
   "source": [
    "def fresnel_mirror_ij(ni=1.0, nj=1.0):\n",
    "    \"\"\"Model a (fresnel) interface between twoo refractive indices\n",
    "\n",
    "    Args:\n",
    "        ni: refractive index of the initial medium\n",
    "        nf: refractive index of the final\n",
    "    \"\"\"\n",
    "    r_fresnel_ij = (ni - nj) / (ni + nj)  # i->j reflection\n",
    "    t_fresnel_ij = 2 * ni / (ni + nj)  # i->j transmission\n",
    "    r_fresnel_ji = -r_fresnel_ij  # j -> i reflection\n",
    "    t_fresnel_ji = (1 - r_fresnel_ij**2) / t_fresnel_ij  # j -> i transmission\n",
    "    sdict = {\n",
    "        (\"in\", \"in\"): r_fresnel_ij,\n",
    "        (\"in\", \"out\"): t_fresnel_ij,\n",
    "        (\"out\", \"in\"): t_fresnel_ji,\n",
    "        (\"out\", \"out\"): r_fresnel_ji,\n",
    "    }\n",
    "    return sdict\n",
    "\n",
    "\n",
    "def propagation_i(ni=1.0, di=0.5, wl=0.532):\n",
    "    \"\"\"Model the phase shift acquired as a wave propagates through medium A\n",
    "\n",
    "    Args:\n",
    "        ni: refractive index of medium (at wavelength wl)\n",
    "        di: [μm] thickness of layer\n",
    "        wl: [μm] wavelength\n",
    "    \"\"\"\n",
    "    prop_i = jnp.exp(1j * 2 * jnp.pi * ni * di / wl)\n",
    "    sdict = {\n",
    "        (\"in\", \"out\"): prop_i,\n",
    "        (\"out\", \"in\"): prop_i,\n",
    "    }\n",
    "    return sdict"
   ]
  },
  {
   "cell_type": "markdown",
   "id": "8",
   "metadata": {
    "papermill": {
     "duration": 0.004612,
     "end_time": "2025-05-28T18:50:52.366018",
     "exception": false,
     "start_time": "2025-05-28T18:50:52.361406",
     "status": "completed"
    },
    "tags": []
   },
   "source": [
    "A resonant cavity can be formed when a high index region is surrounded by low-index region :"
   ]
  },
  {
   "cell_type": "code",
   "execution_count": null,
   "id": "9",
   "metadata": {
    "papermill": {
     "duration": 0.074694,
     "end_time": "2025-05-28T18:50:52.445268",
     "exception": false,
     "start_time": "2025-05-28T18:50:52.370574",
     "status": "completed"
    },
    "tags": []
   },
   "outputs": [],
   "source": [
    "dielectric_fabry_perot, _ = sax.circuit(\n",
    "    netlist={\n",
    "        \"instances\": {\n",
    "            \"air_B\": fresnel_mirror_ij,\n",
    "            \"B\": propagation_i,\n",
    "            \"B_air\": fresnel_mirror_ij,\n",
    "        },\n",
    "        \"connections\": {\n",
    "            \"air_B,out\": \"B,in\",\n",
    "            \"B,out\": \"B_air,in\",\n",
    "        },\n",
    "        \"ports\": {\n",
    "            \"in\": \"air_B,in\",\n",
    "            \"out\": \"B_air,out\",\n",
    "        },\n",
    "    },\n",
    "    backend=\"fg\",\n",
    ")\n",
    "\n",
    "settings = sax.get_settings(dielectric_fabry_perot)\n",
    "settings"
   ]
  },
  {
   "cell_type": "markdown",
   "id": "10",
   "metadata": {
    "papermill": {
     "duration": 0.004993,
     "end_time": "2025-05-28T18:50:52.455375",
     "exception": false,
     "start_time": "2025-05-28T18:50:52.450382",
     "status": "completed"
    },
    "tags": []
   },
   "source": [
    "Let's choose $n_A = 1$, $n_B = 2$, $d_B = 1000$ nm, and compute over the visible spectrum :"
   ]
  },
  {
   "cell_type": "code",
   "execution_count": null,
   "id": "11",
   "metadata": {
    "papermill": {
     "duration": 0.040776,
     "end_time": "2025-05-28T18:50:52.501111",
     "exception": false,
     "start_time": "2025-05-28T18:50:52.460335",
     "status": "completed"
    },
    "tags": []
   },
   "outputs": [],
   "source": [
    "settings = sax.copy_settings(settings)\n",
    "settings[\"air_B\"][\"nj\"] = 2.0\n",
    "settings[\"B\"][\"ni\"] = 2.0\n",
    "settings[\"B_air\"][\"ni\"] = 2.0\n",
    "\n",
    "wls = jnp.linspace(0.380, 0.750, 200)\n",
    "settings = sax.update_settings(settings, wl=wls)"
   ]
  },
  {
   "cell_type": "markdown",
   "id": "12",
   "metadata": {
    "papermill": {
     "duration": 0.002103,
     "end_time": "2025-05-28T18:50:52.506311",
     "exception": false,
     "start_time": "2025-05-28T18:50:52.504208",
     "status": "completed"
    },
    "tags": []
   },
   "source": [
    "Compute transmission and reflection, and compare to another package's results (https://github.com/sbyrnes321/tmm) :"
   ]
  },
  {
   "cell_type": "code",
   "execution_count": null,
   "id": "13",
   "metadata": {
    "papermill": {
     "duration": 0.402236,
     "end_time": "2025-05-28T18:50:52.911568",
     "exception": false,
     "start_time": "2025-05-28T18:50:52.509332",
     "status": "completed"
    },
    "tags": []
   },
   "outputs": [],
   "source": [
    "%%time\n",
    "sdict = dielectric_fabry_perot(**settings)\n",
    "\n",
    "transmitted = sdict[\"in\", \"out\"]\n",
    "reflected = sdict[\"in\", \"in\"]"
   ]
  },
  {
   "cell_type": "code",
   "execution_count": null,
   "id": "14",
   "metadata": {
    "papermill": {
     "duration": 0.478933,
     "end_time": "2025-05-28T18:50:53.395906",
     "exception": false,
     "start_time": "2025-05-28T18:50:52.916973",
     "status": "completed"
    },
    "tags": []
   },
   "outputs": [],
   "source": [
    "%%time\n",
    "\n",
    "# tmm syntax (https://github.com/sbyrnes321/tmm)\n",
    "d_list = [jnp.inf, 0.500, jnp.inf]\n",
    "n_list = [1, 2, 1]\n",
    "# initialize lists of y-values to plot\n",
    "rnorm = []\n",
    "tnorm = []\n",
    "Tnorm = []\n",
    "Rnorm = []\n",
    "for l in wls:\n",
    "    rnorm.append(coh_tmm(\"s\", n_list, d_list, 0, l)[\"r\"])\n",
    "    tnorm.append(coh_tmm(\"s\", n_list, d_list, 0, l)[\"t\"])\n",
    "    Tnorm.append(coh_tmm(\"s\", n_list, d_list, 0, l)[\"T\"])\n",
    "    Rnorm.append(coh_tmm(\"s\", n_list, d_list, 0, l)[\"R\"])"
   ]
  },
  {
   "cell_type": "code",
   "execution_count": null,
   "id": "15",
   "metadata": {
    "papermill": {
     "duration": 0.297508,
     "end_time": "2025-05-28T18:50:53.695771",
     "exception": false,
     "start_time": "2025-05-28T18:50:53.398263",
     "status": "completed"
    },
    "tags": []
   },
   "outputs": [],
   "source": [
    "plt.scatter(wls * 1e3, jnp.real(transmitted), label=\"t SAX\")\n",
    "plt.plot(wls * 1e3, jnp.real(jnp.array(tnorm)), \"k\", label=\"t tmm\")\n",
    "plt.scatter(wls * 1e3, jnp.real(reflected), label=\"r SAX\")\n",
    "plt.plot(wls * 1e3, jnp.real(jnp.array(rnorm)), \"k--\", label=\"r tmm\")\n",
    "plt.xlabel(\"λ [nm]\")\n",
    "plt.ylabel(\"Transmitted and reflected amplitude\")\n",
    "plt.legend(loc=\"upper right\")\n",
    "plt.title(\"Real part\")\n",
    "plt.show()\n",
    "\n",
    "plt.scatter(wls * 1e3, jnp.imag(transmitted), label=\"t SAX\")\n",
    "plt.plot(wls * 1e3, jnp.imag(jnp.array(tnorm)), \"k\", label=\"t tmm\")\n",
    "plt.scatter(wls * 1e3, jnp.imag(reflected), label=\"r SAX\")\n",
    "plt.plot(wls * 1e3, jnp.imag(jnp.array(rnorm)), \"k--\", label=\"r tmm\")\n",
    "plt.xlabel(\"λ [nm]\")\n",
    "plt.ylabel(\"Transmitted and reflected amplitude\")\n",
    "plt.legend(loc=\"upper right\")\n",
    "plt.title(\"Imaginary part\")\n",
    "plt.show()"
   ]
  },
  {
   "cell_type": "markdown",
   "id": "16",
   "metadata": {
    "papermill": {
     "duration": 0.005357,
     "end_time": "2025-05-28T18:50:53.707654",
     "exception": false,
     "start_time": "2025-05-28T18:50:53.702297",
     "status": "completed"
    },
    "tags": []
   },
   "source": [
    "In terms of powers, we get the following. Due to the reflections at the interfaces, resonant behaviour is observed, with evenly-spaced maxima/minima in wavevector space :"
   ]
  },
  {
   "cell_type": "code",
   "execution_count": null,
   "id": "17",
   "metadata": {
    "papermill": {
     "duration": 0.452602,
     "end_time": "2025-05-28T18:50:54.167774",
     "exception": false,
     "start_time": "2025-05-28T18:50:53.715172",
     "status": "completed"
    },
    "tags": []
   },
   "outputs": [],
   "source": [
    "plt.scatter(2 * jnp.pi / wls, jnp.abs(transmitted) ** 2, label=\"T SAX\")\n",
    "plt.plot(2 * jnp.pi / wls, Tnorm, \"k\", label=\"T tmm\")\n",
    "plt.scatter(2 * jnp.pi / wls, jnp.abs(reflected) ** 2, label=\"R SAX\")\n",
    "plt.plot(2 * jnp.pi / wls, Rnorm, \"k--\", label=\"R tmm\")\n",
    "plt.vlines(\n",
    "    jnp.arange(3, 6) * jnp.pi / (2 * 0.5),\n",
    "    ymin=0,\n",
    "    ymax=1,\n",
    "    color=\"k\",\n",
    "    linestyle=\"--\",\n",
    "    label=r\"m$\\pi$/nd\",\n",
    ")\n",
    "plt.xlabel(r\"k = 2$\\pi$/λ [1/nm]\")\n",
    "plt.ylabel(\"Transmitted and reflected intensities\")\n",
    "plt.legend(loc=\"upper right\")\n",
    "plt.show()"
   ]
  },
  {
   "cell_type": "markdown",
   "id": "18",
   "metadata": {
    "papermill": {
     "duration": 0.002981,
     "end_time": "2025-05-28T18:50:54.176622",
     "exception": false,
     "start_time": "2025-05-28T18:50:54.173641",
     "status": "completed"
    },
    "tags": []
   },
   "source": [
    "### Optimization test\n",
    "\n",
    "Let's attempt to minimize transmission at 500 nm by varying thickness."
   ]
  },
  {
   "cell_type": "code",
   "execution_count": null,
   "id": "19",
   "metadata": {
    "papermill": {
     "duration": 0.011165,
     "end_time": "2025-05-28T18:50:54.191654",
     "exception": false,
     "start_time": "2025-05-28T18:50:54.180489",
     "status": "completed"
    },
    "tags": []
   },
   "outputs": [],
   "source": [
    "@jax.jit\n",
    "def loss(thickness):\n",
    "    settings = sax.update_settings(sax.get_settings(dielectric_fabry_perot), wl=0.5)\n",
    "    settings[\"B\"][\"di\"] = thickness\n",
    "    settings[\"air_B\"][\"nj\"] = 2.0\n",
    "    settings[\"B\"][\"ni\"] = 2.0\n",
    "    settings[\"B_air\"][\"ni\"] = 2.0\n",
    "    sdict = dielectric_fabry_perot(**settings)\n",
    "    return jnp.abs(sdict[\"in\", \"out\"]) ** 2"
   ]
  },
  {
   "cell_type": "code",
   "execution_count": null,
   "id": "20",
   "metadata": {
    "papermill": {
     "duration": 0.024499,
     "end_time": "2025-05-28T18:50:54.222608",
     "exception": false,
     "start_time": "2025-05-28T18:50:54.198109",
     "status": "completed"
    },
    "tags": []
   },
   "outputs": [],
   "source": [
    "grad = jax.jit(jax.grad(loss))"
   ]
  },
  {
   "cell_type": "code",
   "execution_count": null,
   "id": "21",
   "metadata": {
    "papermill": {
     "duration": 0.027736,
     "end_time": "2025-05-28T18:50:54.256281",
     "exception": false,
     "start_time": "2025-05-28T18:50:54.228545",
     "status": "completed"
    },
    "tags": []
   },
   "outputs": [],
   "source": [
    "initial_thickness = 0.5\n",
    "optim_init, optim_update, optim_params = opt.adam(step_size=0.01)\n",
    "optim_state = optim_init(initial_thickness)\n",
    "\n",
    "\n",
    "def train_step(step, optim_state):\n",
    "    thickness = optim_params(optim_state)\n",
    "    lossvalue = loss(thickness)\n",
    "    gradvalue = grad(thickness)\n",
    "    optim_state = optim_update(step, gradvalue, optim_state)\n",
    "    return lossvalue, optim_state"
   ]
  },
  {
   "cell_type": "code",
   "execution_count": null,
   "id": "22",
   "metadata": {
    "papermill": {
     "duration": 3.228318,
     "end_time": "2025-05-28T18:50:57.491251",
     "exception": false,
     "start_time": "2025-05-28T18:50:54.262933",
     "status": "completed"
    },
    "tags": []
   },
   "outputs": [],
   "source": [
    "range_ = tqdm.trange(100)\n",
    "for step in range_:\n",
    "    lossvalue, optim_state = train_step(step, optim_state)\n",
    "    range_.set_postfix(loss=f\"{lossvalue:.6f}\")"
   ]
  },
  {
   "cell_type": "code",
   "execution_count": null,
   "id": "23",
   "metadata": {
    "papermill": {
     "duration": 0.009815,
     "end_time": "2025-05-28T18:50:57.507913",
     "exception": false,
     "start_time": "2025-05-28T18:50:57.498098",
     "status": "completed"
    },
    "tags": []
   },
   "outputs": [],
   "source": [
    "thickness = optim_params(optim_state)\n",
    "thickness"
   ]
  },
  {
   "cell_type": "code",
   "execution_count": null,
   "id": "24",
   "metadata": {
    "papermill": {
     "duration": 0.100645,
     "end_time": "2025-05-28T18:50:57.612942",
     "exception": false,
     "start_time": "2025-05-28T18:50:57.512297",
     "status": "completed"
    },
    "tags": []
   },
   "outputs": [],
   "source": [
    "settings = sax.update_settings(sax.get_settings(dielectric_fabry_perot), wl=wls)\n",
    "settings[\"B\"][\"di\"] = thickness\n",
    "settings[\"air_B\"][\"nj\"] = 2.0\n",
    "settings[\"B\"][\"ni\"] = 2.0\n",
    "settings[\"B_air\"][\"ni\"] = 2.0\n",
    "sdict = dielectric_fabry_perot(**settings)\n",
    "detected = sdict[\"in\", \"out\"]\n",
    "\n",
    "plt.plot(wls * 1e3, jnp.abs(transmitted) ** 2, label=\"Before (500 nm)\")\n",
    "plt.plot(wls * 1e3, jnp.abs(detected) ** 2, label=f\"After ({thickness * 1e3:.0f} nm)\")\n",
    "plt.vlines(0.5 * 1e3, 0.6, 1, \"k\", linestyle=\"--\")\n",
    "plt.xlabel(\"λ [nm]\")\n",
    "plt.ylabel(\"Transmitted intensity\")\n",
    "plt.legend(loc=\"lower right\")\n",
    "plt.title(\"Thickness optimization\")\n",
    "plt.show()"
   ]
  },
  {
   "cell_type": "markdown",
   "id": "25",
   "metadata": {
    "papermill": {
     "duration": 0.005754,
     "end_time": "2025-05-28T18:50:57.623680",
     "exception": false,
     "start_time": "2025-05-28T18:50:57.617926",
     "status": "completed"
    },
    "tags": []
   },
   "source": [
    "## General Fabry-Pérot étalon\n",
    "\n",
    "We reuse the propagation matrix above, and instead of simple interface matrices, model Fabry-Pérot mirrors as general lossless reciprocal scatter matrices :\n",
    "\n",
    "$$ \\left(\\begin{array}{c} \n",
    "E_t \\\\\n",
    "E_r\n",
    "\\end{array}\\right) = E_{out} = SE_{in} = \\left(\\begin{array}{cc} \n",
    "t & r \\\\\n",
    "r & t\n",
    "\\end{array}\\right) \\left(\\begin{array}{c} \n",
    "E_0 \\\\\n",
    "0\n",
    "\\end{array}\\right) $$\n",
    "\n",
    "For lossless reciprocal systems, we further have the requirements\n",
    "\n",
    "$$ |t|^2 + |r|^2 = 1 $$\n",
    "\n",
    "and\n",
    "\n",
    "$$ \\angle t - \\angle r = \\pm \\pi/2 $$\n",
    "\n",
    "The general Fabry-Pérot cavity is analytically described by :"
   ]
  },
  {
   "cell_type": "code",
   "execution_count": null,
   "id": "26",
   "metadata": {
    "papermill": {
     "duration": 0.011672,
     "end_time": "2025-05-28T18:50:57.641534",
     "exception": false,
     "start_time": "2025-05-28T18:50:57.629862",
     "status": "completed"
    },
    "tags": []
   },
   "outputs": [],
   "source": [
    "def airy_t13(t12, t23, r21, r23, wl, d=1.0, n=1.0):\n",
    "    \"\"\"General Fabry-Pérot transmission transfer function (Airy formula)\n",
    "\n",
    "    Args:\n",
    "        t12 and r12 : S-parameters of the first mirror\n",
    "        t23 and r23 : S-parameters of the second mirror\n",
    "        wl : wavelength\n",
    "        d : gap between the two mirrors (in units of wavelength)\n",
    "        n : index of the gap between the two mirrors\n",
    "\n",
    "    Returns:\n",
    "        t13 : complex transmission amplitude of the mirror-gap-mirror system\n",
    "\n",
    "    Note:\n",
    "        Each mirror is assumed to be lossless and reciprocal : tij = tji, rij = rji\n",
    "    \"\"\"\n",
    "    phi = n * 2 * jnp.pi * d / wl\n",
    "    return t12 * t23 * jnp.exp(-1j * phi) / (1 - r21 * r23 * jnp.exp(-2j * phi))\n",
    "\n",
    "\n",
    "def airy_r13(t12, t23, r21, r23, wl, d=1.0, n=1.0):\n",
    "    \"\"\"General Fabry-Pérot reflection transfer function (Airy formula)\n",
    "\n",
    "    Args:\n",
    "        t12 and r12 : S-parameters of the first mirror\n",
    "        t23 and r23 : S-parameters of the second mirror\n",
    "        wl : wavelength\n",
    "        d : gap between the two mirrors (in units of wavelength)\n",
    "        n : index of the gap between the two mirrors\n",
    "\n",
    "    Returns:\n",
    "        r13 : complex reflection amplitude of the mirror-gap-mirror system\n",
    "\n",
    "    Note:\n",
    "        Each mirror is assumed to be lossless and reciprocal : tij = tji, rij = rji\n",
    "    \"\"\"\n",
    "    phi = n * 2 * jnp.pi * d / wl\n",
    "    return r21 + t12 * t12 * r23 * jnp.exp(-2j * phi) / (\n",
    "        1 - r21 * r23 * jnp.exp(-2j * phi)\n",
    "    )"
   ]
  },
  {
   "cell_type": "markdown",
   "id": "27",
   "metadata": {
    "papermill": {
     "duration": 0.003038,
     "end_time": "2025-05-28T18:50:57.649583",
     "exception": false,
     "start_time": "2025-05-28T18:50:57.646545",
     "status": "completed"
    },
    "tags": []
   },
   "source": [
    "We need to implement the relationship between $t$ and $r$ for lossless reciprocal mirrors. The design parameter will be the amplitude and phase of the tranmission coefficient. The reflection coefficient is then fully determined :"
   ]
  },
  {
   "cell_type": "code",
   "execution_count": null,
   "id": "28",
   "metadata": {
    "papermill": {
     "duration": 0.007689,
     "end_time": "2025-05-28T18:50:57.693782",
     "exception": false,
     "start_time": "2025-05-28T18:50:57.686093",
     "status": "completed"
    },
    "tags": []
   },
   "outputs": [],
   "source": [
    "def t_complex(t_amp, t_ang):\n",
    "    return t_amp * jnp.exp(-1j * t_ang)\n",
    "\n",
    "\n",
    "def r_complex(t_amp, t_ang):\n",
    "    r_amp = jnp.sqrt(1.0 - t_amp**2)\n",
    "    r_ang = t_ang - jnp.pi / 2\n",
    "    return r_amp * jnp.exp(-1j * r_ang)"
   ]
  },
  {
   "cell_type": "markdown",
   "id": "29",
   "metadata": {
    "papermill": {
     "duration": 0.003129,
     "end_time": "2025-05-28T18:50:57.701463",
     "exception": false,
     "start_time": "2025-05-28T18:50:57.698334",
     "status": "completed"
    },
    "tags": []
   },
   "source": [
    "Let's see the expected result for half-mirrors :"
   ]
  },
  {
   "cell_type": "code",
   "execution_count": null,
   "id": "30",
   "metadata": {
    "papermill": {
     "duration": 0.509796,
     "end_time": "2025-05-28T18:50:58.218413",
     "exception": false,
     "start_time": "2025-05-28T18:50:57.708617",
     "status": "completed"
    },
    "tags": []
   },
   "outputs": [],
   "source": [
    "t_initial = jnp.sqrt(0.5)\n",
    "d_gap = 2.0\n",
    "n_gap = 1.0\n",
    "r_initial = r_complex(t_initial, 0.0)\n",
    "\n",
    "wls = jnp.linspace(0.38, 0.78, 500)\n",
    "\n",
    "T_analytical_initial = (\n",
    "    jnp.abs(airy_t13(t_initial, t_initial, r_initial, r_initial, wls, d=d_gap, n=n_gap))\n",
    "    ** 2\n",
    ")\n",
    "R_analytical_initial = (\n",
    "    jnp.abs(airy_r13(t_initial, t_initial, r_initial, r_initial, wls, d=d_gap, n=n_gap))\n",
    "    ** 2\n",
    ")\n",
    "\n",
    "plt.title(f\"t={t_initial:1.3f}, d={d_gap} nm, n={n_gap}\")\n",
    "plt.plot(2 * jnp.pi / wls, T_analytical_initial, label=\"T\")\n",
    "plt.plot(2 * jnp.pi / wls, R_analytical_initial, label=\"R\")\n",
    "plt.vlines(\n",
    "    jnp.arange(6, 11) * jnp.pi / 2.0,\n",
    "    ymin=0,\n",
    "    ymax=1,\n",
    "    color=\"k\",\n",
    "    linestyle=\"--\",\n",
    "    label=r\"m$\\pi$/nd\",\n",
    ")\n",
    "plt.xlabel(r\"k = 2$\\pi$/$\\lambda$ [1/nm]\")\n",
    "plt.ylabel(\"Power (units of input)\")\n",
    "plt.legend()\n",
    "plt.show()\n",
    "\n",
    "plt.title(f\"t={t_initial:1.3f}, d={d_gap} nm, n={n_gap}\")\n",
    "plt.plot(wls * 1e3, T_analytical_initial, label=\"T\")\n",
    "plt.plot(wls * 1e3, R_analytical_initial, label=\"R\")\n",
    "plt.xlabel(r\"$\\lambda$ (nm)\")\n",
    "plt.ylabel(\"Power (units of input)\")\n",
    "plt.legend()\n",
    "plt.show()"
   ]
  },
  {
   "cell_type": "code",
   "execution_count": null,
   "id": "31",
   "metadata": {
    "papermill": {
     "duration": 0.09493,
     "end_time": "2025-05-28T18:50:58.318998",
     "exception": false,
     "start_time": "2025-05-28T18:50:58.224068",
     "status": "completed"
    },
    "tags": []
   },
   "outputs": [],
   "source": [
    "# Is power conserved? (to within 0.1%)\n",
    "assert jnp.isclose(R_analytical_initial + T_analytical_initial, 1, 0.001).all()"
   ]
  },
  {
   "cell_type": "markdown",
   "id": "32",
   "metadata": {
    "papermill": {
     "duration": 0.004639,
     "end_time": "2025-05-28T18:50:58.331336",
     "exception": false,
     "start_time": "2025-05-28T18:50:58.326697",
     "status": "completed"
    },
    "tags": []
   },
   "source": [
    "Now let's do the same with SAX by defining new elements :"
   ]
  },
  {
   "cell_type": "code",
   "execution_count": null,
   "id": "33",
   "metadata": {
    "papermill": {
     "duration": 0.015962,
     "end_time": "2025-05-28T18:50:58.351734",
     "exception": false,
     "start_time": "2025-05-28T18:50:58.335772",
     "status": "completed"
    },
    "tags": []
   },
   "outputs": [],
   "source": [
    "def mirror(t_amp=0.5**0.5, t_ang=0.0):\n",
    "    r_complex_val = r_complex(t_amp, t_ang)\n",
    "    t_complex_val = t_complex(t_amp, t_ang)\n",
    "    sdict = {\n",
    "        (\"in\", \"in\"): r_complex_val,\n",
    "        (\"in\", \"out\"): t_complex_val,\n",
    "        (\"out\", \"in\"): t_complex_val,  # (1 - r_complex_val**2)/t_complex_val, # t_ji\n",
    "        (\"out\", \"out\"): r_complex_val,  # -r_complex_val, # r_ji\n",
    "    }\n",
    "    return sdict\n",
    "\n",
    "\n",
    "fabry_perot_tunable, _ = sax.circuit(\n",
    "    netlist={\n",
    "        \"instances\": {\n",
    "            \"mirror1\": mirror,\n",
    "            \"gap\": propagation_i,\n",
    "            \"mirror2\": mirror,\n",
    "        },\n",
    "        \"connections\": {\n",
    "            \"mirror1,out\": \"gap,in\",\n",
    "            \"gap,out\": \"mirror2,in\",\n",
    "        },\n",
    "        \"ports\": {\n",
    "            \"in\": \"mirror1,in\",\n",
    "            \"out\": \"mirror2,out\",\n",
    "        },\n",
    "    },\n",
    "    backend=\"fg\",\n",
    ")\n",
    "\n",
    "settings = sax.get_settings(fabry_perot_tunable)\n",
    "settings"
   ]
  },
  {
   "cell_type": "code",
   "execution_count": null,
   "id": "34",
   "metadata": {
    "papermill": {
     "duration": 0.013735,
     "end_time": "2025-05-28T18:50:58.373263",
     "exception": false,
     "start_time": "2025-05-28T18:50:58.359528",
     "status": "completed"
    },
    "tags": []
   },
   "outputs": [],
   "source": [
    "fabry_perot_tunable, _ = sax.circuit(\n",
    "    netlist={\n",
    "        \"instances\": {\n",
    "            \"mirror1\": mirror,\n",
    "            \"gap\": propagation_i,\n",
    "            \"mirror2\": mirror,\n",
    "        },\n",
    "        \"connections\": {\n",
    "            \"mirror1,out\": \"gap,in\",\n",
    "            \"gap,out\": \"mirror2,in\",\n",
    "        },\n",
    "        \"ports\": {\n",
    "            \"in\": \"mirror1,in\",\n",
    "            \"out\": \"mirror2,out\",\n",
    "        },\n",
    "    },\n",
    "    backend=\"fg\",\n",
    ")\n",
    "\n",
    "settings = sax.get_settings(fabry_perot_tunable)\n",
    "settings"
   ]
  },
  {
   "cell_type": "code",
   "execution_count": null,
   "id": "35",
   "metadata": {
    "papermill": {
     "duration": 0.473968,
     "end_time": "2025-05-28T18:50:58.854175",
     "exception": false,
     "start_time": "2025-05-28T18:50:58.380207",
     "status": "completed"
    },
    "tags": []
   },
   "outputs": [],
   "source": [
    "N = 100\n",
    "wls = jnp.linspace(0.38, 0.78, N)\n",
    "settings = sax.get_settings(fabry_perot_tunable)\n",
    "settings = sax.update_settings(settings, wl=wls, t_amp=jnp.sqrt(0.5), t_ang=0.0)\n",
    "settings[\"gap\"][\"ni\"] = 1.0\n",
    "settings[\"gap\"][\"di\"] = 2.0\n",
    "transmitted_initial = fabry_perot_tunable(**settings)[\"in\", \"out\"]\n",
    "reflected_initial = fabry_perot_tunable(**settings)[\"out\", \"out\"]"
   ]
  },
  {
   "cell_type": "code",
   "execution_count": null,
   "id": "36",
   "metadata": {
    "papermill": {
     "duration": 0.320932,
     "end_time": "2025-05-28T18:50:59.178980",
     "exception": false,
     "start_time": "2025-05-28T18:50:58.858048",
     "status": "completed"
    },
    "tags": []
   },
   "outputs": [],
   "source": [
    "T_analytical_initial = (\n",
    "    jnp.abs(airy_t13(t_initial, t_initial, r_initial, r_initial, wls, d=d_gap, n=n_gap))\n",
    "    ** 2\n",
    ")\n",
    "R_analytical_initial = (\n",
    "    jnp.abs(airy_r13(t_initial, t_initial, r_initial, r_initial, wls, d=d_gap, n=n_gap))\n",
    "    ** 2\n",
    ")\n",
    "plt.title(f\"t={t_initial:1.3f}, d={d_gap} nm, n={n_gap}\")\n",
    "plt.plot(wls, T_analytical_initial, label=\"T theory\")\n",
    "plt.scatter(wls, jnp.abs(transmitted_initial) ** 2, label=\"T SAX\")\n",
    "plt.plot(wls, R_analytical_initial, label=\"R theory\")\n",
    "plt.scatter(wls, jnp.abs(reflected_initial) ** 2, label=\"R SAX\")\n",
    "plt.xlabel(r\"k = 2$\\pi$/$\\lambda$ [1/nm]\")\n",
    "plt.ylabel(\"Power (units of input)\")\n",
    "plt.figlegend(framealpha=1.0)\n",
    "plt.show()"
   ]
  },
  {
   "cell_type": "markdown",
   "id": "37",
   "metadata": {
    "papermill": {
     "duration": 0.004146,
     "end_time": "2025-05-28T18:50:59.187344",
     "exception": false,
     "start_time": "2025-05-28T18:50:59.183198",
     "status": "completed"
    },
    "tags": []
   },
   "source": [
    "## Wavelength-dependent Fabry-Pérot étalon\n",
    "\n",
    "Let's repeat with a model where parameters can be wavelength-dependent. To comply with the optimizer object, we will stack all design parameters in a single array :"
   ]
  },
  {
   "cell_type": "code",
   "execution_count": null,
   "id": "38",
   "metadata": {
    "papermill": {
     "duration": 0.108255,
     "end_time": "2025-05-28T18:50:59.300543",
     "exception": false,
     "start_time": "2025-05-28T18:50:59.192288",
     "status": "completed"
    },
    "tags": []
   },
   "outputs": [],
   "source": [
    "ts_initial = jnp.zeros(2 * N)\n",
    "ts_initial = ts_initial.at[0:N].set(jnp.sqrt(0.5))"
   ]
  },
  {
   "cell_type": "markdown",
   "id": "39",
   "metadata": {
    "papermill": {
     "duration": 0.003848,
     "end_time": "2025-05-28T18:50:59.309976",
     "exception": false,
     "start_time": "2025-05-28T18:50:59.306128",
     "status": "completed"
    },
    "tags": []
   },
   "source": [
    "We will simply loop over all wavelengths, and use different $t$ parameters at each wavelength."
   ]
  },
  {
   "cell_type": "code",
   "execution_count": null,
   "id": "40",
   "metadata": {
    "papermill": {
     "duration": 0.416238,
     "end_time": "2025-05-28T18:50:59.730174",
     "exception": false,
     "start_time": "2025-05-28T18:50:59.313936",
     "status": "completed"
    },
    "tags": []
   },
   "outputs": [],
   "source": [
    "wls = jnp.linspace(0.38, 0.78, N)\n",
    "transmitted = jnp.zeros_like(wls)\n",
    "reflected = jnp.zeros_like(wls)\n",
    "settings = sax.get_settings(fabry_perot_tunable)\n",
    "settings = sax.update_settings(\n",
    "    settings, wl=wls, t_amp=ts_initial[:N], t_ang=ts_initial[N:]\n",
    ")\n",
    "settings[\"gap\"][\"ni\"] = 1.0\n",
    "settings[\"gap\"][\"di\"] = 2.0\n",
    "# Perform computation\n",
    "sdict = fabry_perot_tunable(**settings)\n",
    "transmitted = jnp.abs(sdict[\"in\", \"out\"]) ** 2\n",
    "reflected = jnp.abs(sdict[\"in\", \"in\"]) ** 2"
   ]
  },
  {
   "cell_type": "code",
   "execution_count": null,
   "id": "41",
   "metadata": {
    "papermill": {
     "duration": 0.079874,
     "end_time": "2025-05-28T18:50:59.815111",
     "exception": false,
     "start_time": "2025-05-28T18:50:59.735237",
     "status": "completed"
    },
    "tags": []
   },
   "outputs": [],
   "source": [
    "plt.plot(wls * 1e3, T_analytical_initial, label=\"T theory\")\n",
    "plt.scatter(wls * 1e3, transmitted, label=\"T SAX\")\n",
    "plt.plot(wls * 1e3, R_analytical_initial, label=\"R theory\")\n",
    "plt.scatter(wls * 1e3, reflected, label=\"R SAX\")\n",
    "plt.xlabel(\"λ [nm]\")\n",
    "plt.ylabel(\"Transmitted and reflected intensities\")\n",
    "plt.legend(loc=\"upper right\")\n",
    "plt.title(f\"t={t_initial:1.3f}, d={d_gap} nm, n={n_gap}\")\n",
    "plt.show()"
   ]
  },
  {
   "cell_type": "markdown",
   "id": "42",
   "metadata": {
    "papermill": {
     "duration": 0.005003,
     "end_time": "2025-05-28T18:50:59.824705",
     "exception": false,
     "start_time": "2025-05-28T18:50:59.819702",
     "status": "completed"
    },
    "tags": []
   },
   "source": [
    "Since it seems to work, let's add a target and optimize some harmonics away :"
   ]
  },
  {
   "cell_type": "code",
   "execution_count": null,
   "id": "43",
   "metadata": {
    "papermill": {
     "duration": 0.072341,
     "end_time": "2025-05-28T18:50:59.901125",
     "exception": false,
     "start_time": "2025-05-28T18:50:59.828784",
     "status": "completed"
    },
    "tags": []
   },
   "outputs": [],
   "source": [
    "def lorentzian(l0, dl, wl, A):\n",
    "    return A / ((wl - l0) ** 2 + (0.5 * dl) ** 2)\n",
    "\n",
    "\n",
    "target = lorentzian(533.0, 20.0, wls * 1e3, 100.0)\n",
    "\n",
    "plt.scatter(wls * 1e3, transmitted, label=\"T SAX\")\n",
    "plt.scatter(wls * 1e3, reflected, label=\"R SAX\")\n",
    "plt.plot(wls * 1e3, target, \"r\", linewidth=2, label=\"target\")\n",
    "plt.xlabel(\"λ [nm]\")\n",
    "plt.ylabel(\"Transmitted and reflected intensities\")\n",
    "plt.legend(loc=\"upper right\")\n",
    "plt.title(f\"t={t_initial:1.3f}, d={d_gap} nm, n={n_gap}\")\n",
    "plt.show()"
   ]
  },
  {
   "cell_type": "code",
   "execution_count": null,
   "id": "44",
   "metadata": {
    "papermill": {
     "duration": 0.008723,
     "end_time": "2025-05-28T18:50:59.915906",
     "exception": false,
     "start_time": "2025-05-28T18:50:59.907183",
     "status": "completed"
    },
    "tags": []
   },
   "outputs": [],
   "source": [
    "@jax.jit\n",
    "def loss(ts):\n",
    "    N = len(ts[::2])\n",
    "    wls = jnp.linspace(0.38, 0.78, N)\n",
    "    target = lorentzian(533.0, 20.0, wls * 1e3, 100.0)\n",
    "    settings = sax.get_settings(fabry_perot_tunable)\n",
    "    settings = sax.update_settings(settings, wl=wls, t_amp=ts[:N], t_ang=ts[N:])\n",
    "    settings[\"gap\"][\"ni\"] = 1.0\n",
    "    settings[\"gap\"][\"di\"] = 2.0\n",
    "    sdict = fabry_perot_tunable(**settings)\n",
    "    transmitted = jnp.abs(sdict[\"in\", \"out\"]) ** 2\n",
    "    return (jnp.abs(transmitted - target) ** 2).mean()"
   ]
  },
  {
   "cell_type": "code",
   "execution_count": null,
   "id": "45",
   "metadata": {
    "papermill": {
     "duration": 0.011253,
     "end_time": "2025-05-28T18:50:59.931301",
     "exception": false,
     "start_time": "2025-05-28T18:50:59.920048",
     "status": "completed"
    },
    "tags": []
   },
   "outputs": [],
   "source": [
    "grad = jax.jit(jax.grad(loss))"
   ]
  },
  {
   "cell_type": "code",
   "execution_count": null,
   "id": "46",
   "metadata": {
    "papermill": {
     "duration": 0.008188,
     "end_time": "2025-05-28T18:50:59.944119",
     "exception": false,
     "start_time": "2025-05-28T18:50:59.935931",
     "status": "completed"
    },
    "tags": []
   },
   "outputs": [],
   "source": [
    "optim_init, optim_update, optim_params = opt.adam(step_size=0.01)\n",
    "\n",
    "\n",
    "def train_step(step, optim_state):\n",
    "    ts = optim_params(optim_state)\n",
    "    lossvalue = loss(ts)\n",
    "    gradvalue = grad(ts)\n",
    "    optim_state = optim_update(step, gradvalue, optim_state)\n",
    "    return lossvalue, gradvalue, optim_state"
   ]
  },
  {
   "cell_type": "code",
   "execution_count": null,
   "id": "47",
   "metadata": {
    "papermill": {
     "duration": 2.203308,
     "end_time": "2025-05-28T18:51:02.152498",
     "exception": false,
     "start_time": "2025-05-28T18:50:59.949190",
     "status": "completed"
    },
    "tags": []
   },
   "outputs": [],
   "source": [
    "range_ = tqdm.trange(200)\n",
    "\n",
    "optim_state = optim_init(ts_initial)\n",
    "for step in range_:\n",
    "    lossvalue, gradvalue, optim_state = train_step(step, optim_state)\n",
    "    range_.set_postfix(loss=f\"{lossvalue:.6f}\")"
   ]
  },
  {
   "cell_type": "markdown",
   "id": "48",
   "metadata": {
    "papermill": {
     "duration": 0.005055,
     "end_time": "2025-05-28T18:51:02.162596",
     "exception": false,
     "start_time": "2025-05-28T18:51:02.157541",
     "status": "completed"
    },
    "tags": []
   },
   "source": [
    "The optimized parameters are now wavelength-dependent :"
   ]
  },
  {
   "cell_type": "code",
   "execution_count": null,
   "id": "49",
   "metadata": {
    "papermill": {
     "duration": 0.099037,
     "end_time": "2025-05-28T18:51:02.266056",
     "exception": false,
     "start_time": "2025-05-28T18:51:02.167019",
     "status": "completed"
    },
    "tags": []
   },
   "outputs": [],
   "source": [
    "ts_optimal = optim_params(optim_state)\n",
    "\n",
    "plt.scatter(wls * 1e3, ts_initial[:N], label=\"t initial\")\n",
    "plt.scatter(wls * 1e3, ts_optimal[:N], label=\"t optimal\")\n",
    "plt.xlabel(\"λ [nm]\")\n",
    "plt.ylabel(r\"|t| $(\\lambda)$\")\n",
    "plt.legend(loc=\"best\")\n",
    "plt.title(f\"d={d_gap} nm, n={n_gap}\")\n",
    "plt.show()\n",
    "\n",
    "plt.scatter(wls * 1e3, ts_initial[N:], label=\"t initial\")\n",
    "plt.scatter(wls * 1e3, ts_optimal[N:], label=\"t optimal\")\n",
    "plt.xlabel(\"λ [nm]\")\n",
    "plt.ylabel(r\"angle $t (\\lambda)$ (rad)\")\n",
    "plt.legend(loc=\"best\")\n",
    "plt.title(f\"d={d_gap} nm, n={n_gap}\")\n",
    "plt.show()"
   ]
  },
  {
   "cell_type": "markdown",
   "id": "50",
   "metadata": {
    "papermill": {
     "duration": 0.004649,
     "end_time": "2025-05-28T18:51:02.276039",
     "exception": false,
     "start_time": "2025-05-28T18:51:02.271390",
     "status": "completed"
    },
    "tags": []
   },
   "source": [
    "Visualizing the result :"
   ]
  },
  {
   "cell_type": "code",
   "execution_count": null,
   "id": "51",
   "metadata": {
    "papermill": {
     "duration": 0.011428,
     "end_time": "2025-05-28T18:51:02.291904",
     "exception": false,
     "start_time": "2025-05-28T18:51:02.280476",
     "status": "completed"
    },
    "tags": []
   },
   "outputs": [],
   "source": [
    "wls = jnp.linspace(0.38, 0.78, N)\n",
    "transmitted_optimal = jnp.zeros_like(wls)\n",
    "reflected_optimal = jnp.zeros_like(wls)\n",
    "\n",
    "settings = sax.get_settings(fabry_perot_tunable)\n",
    "settings = sax.update_settings(\n",
    "    settings, wl=wls, t_amp=ts_optimal[:N], t_ang=ts_optimal[N:]\n",
    ")\n",
    "settings[\"gap\"][\"ni\"] = 1.0\n",
    "settings[\"gap\"][\"di\"] = 2.0\n",
    "transmitted_optimal = jnp.abs(fabry_perot_tunable(**settings)[\"in\", \"out\"]) ** 2\n",
    "reflected_optimal = jnp.abs(fabry_perot_tunable(**settings)[\"in\", \"in\"]) ** 2"
   ]
  },
  {
   "cell_type": "code",
   "execution_count": null,
   "id": "52",
   "metadata": {
    "papermill": {
     "duration": 0.094628,
     "end_time": "2025-05-28T18:51:02.391389",
     "exception": false,
     "start_time": "2025-05-28T18:51:02.296761",
     "status": "completed"
    },
    "tags": []
   },
   "outputs": [],
   "source": [
    "plt.scatter(wls * 1e3, transmitted_optimal, label=\"T\")\n",
    "plt.scatter(wls * 1e3, reflected_optimal, label=\"R\")\n",
    "plt.plot(wls * 1e3, lorentzian(533, 20, wls * 1e3, 100), \"r\", label=\"target\")\n",
    "plt.xlabel(\"λ [nm]\")\n",
    "plt.ylabel(\"Transmitted and reflected intensities\")\n",
    "plt.legend(loc=\"upper right\")\n",
    "plt.title(r\"Optimized t($\\lambda$), \" + f\"d={d_gap} nm, n={n_gap}\")\n",
    "plt.show()"
   ]
  },
  {
   "cell_type": "markdown",
   "id": "53",
   "metadata": {
    "papermill": {
     "duration": 0.004904,
     "end_time": "2025-05-28T18:51:02.402453",
     "exception": false,
     "start_time": "2025-05-28T18:51:02.397549",
     "status": "completed"
    },
    "tags": []
   },
   "source": [
    "The hard part is now to find physical stacks that physically implement $t(\\lambda)$. However, the ease with which we can modify and complexify the loss function opens opportunities for regularization and more complicated objective functions.\n",
    "\n",
    "The models above are available in `sax.models.thinfilm`, and can straightforwardly be extended to propagation at an angle, s and p polarizations, nonreciprocal systems, and systems with losses."
   ]
  }
 ],
 "metadata": {
  "kernelspec": {
   "display_name": "Python 3 (ipykernel)",
   "language": "python",
   "name": "python3"
  },
  "language_info": {
   "codemirror_mode": {
    "name": "ipython",
    "version": 3
   },
   "file_extension": ".py",
   "mimetype": "text/x-python",
   "name": "python",
   "nbconvert_exporter": "python",
   "pygments_lexer": "ipython3",
   "version": "3.12.10"
  },
  "papermill": {
   "default_parameters": {},
   "duration": 14.673605,
   "end_time": "2025-05-28T18:51:05.025699",
   "environment_variables": {},
   "exception": null,
   "input_path": "nbs/examples/05_thinfilm.ipynb",
   "output_path": "nbs/examples/05_thinfilm.ipynb",
   "parameters": {},
   "start_time": "2025-05-28T18:50:50.352094",
   "version": "2.6.0"
  }
 },
 "nbformat": 4,
 "nbformat_minor": 5
}
