{
 "cells": [
  {
   "cell_type": "code",
   "execution_count": null,
   "id": "0c9f92fd",
   "metadata": {},
   "outputs": [],
   "source": [
    "# default_exp nn.loss"
   ]
  },
  {
   "cell_type": "markdown",
   "id": "3cf6720e",
   "metadata": {},
   "source": [
    "# NN - Loss\n",
    "\n",
    "> loss functions and utilitites for SAX neural networks"
   ]
  },
  {
   "cell_type": "code",
   "execution_count": null,
   "id": "20cf7e5a",
   "metadata": {},
   "outputs": [],
   "source": [
    "# hide\n",
    "import matplotlib.pyplot as plt\n",
    "from fastcore.test import test_eq\n",
    "from pytest import approx, raises\n",
    "\n",
    "import os, sys; sys.stderr = open(os.devnull, \"w\")"
   ]
  },
  {
   "cell_type": "code",
   "execution_count": null,
   "id": "d04b4ec7",
   "metadata": {},
   "outputs": [],
   "source": [
    "# export\n",
    "from __future__ import annotations\n",
    "\n",
    "from typing import Dict\n",
    "\n",
    "import jax.numpy as jnp\n",
    "from sax.typing_ import ComplexFloat"
   ]
  },
  {
   "cell_type": "code",
   "execution_count": null,
   "id": "67d829bc",
   "metadata": {},
   "outputs": [],
   "source": [
    "# export\n",
    "\n",
    "def mse(x: ComplexFloat, y: ComplexFloat) -> float:\n",
    "    \"\"\"mean squared error\"\"\"\n",
    "    return ((x - y) ** 2).mean()"
   ]
  },
  {
   "cell_type": "code",
   "execution_count": null,
   "id": "ecabd990",
   "metadata": {},
   "outputs": [],
   "source": [
    "# export\n",
    "\n",
    "def huber_loss(x: ComplexFloat, y: ComplexFloat, delta: float=0.5) -> float:\n",
    "    \"\"\"huber loss\"\"\"\n",
    "    return ((delta ** 2) * ((1.0 + ((x - y) / delta) ** 2) ** 0.5 - 1.0)).mean()"
   ]
  },
  {
   "cell_type": "markdown",
   "id": "98d84861",
   "metadata": {},
   "source": [
    "The huber loss is like the mean squared error close to zero and mean\n",
    "absolute error for outliers"
   ]
  },
  {
   "cell_type": "code",
   "execution_count": null,
   "id": "7c75a2f9",
   "metadata": {},
   "outputs": [],
   "source": [
    "# export\n",
    "\n",
    "def l2_reg(weights: Dict[str, ComplexFloat]) -> float:\n",
    "    \"\"\"L2 regularization loss\"\"\"\n",
    "    numel = 0\n",
    "    loss = 0.0\n",
    "    for w in (v for k, v in weights.items() if k[0] in (\"w\", \"b\")):\n",
    "        numel = numel + w.size\n",
    "        loss = loss + (jnp.abs(w) ** 2).sum()\n",
    "    return loss / numel"
   ]
  }
 ],
 "metadata": {
  "kernelspec": {
   "display_name": "sax",
   "language": "python",
   "name": "sax"
  }
 },
 "nbformat": 4,
 "nbformat_minor": 5
}
