{
 "cells": [
  {
   "cell_type": "markdown",
   "id": "0",
   "metadata": {
    "papermill": {
     "duration": 0.002589,
     "end_time": "2025-06-20T08:28:49.148937",
     "exception": false,
     "start_time": "2025-06-20T08:28:49.146348",
     "status": "completed"
    },
    "tags": []
   },
   "source": [
    "# Models and Model Factories\n",
    "\n",
    "> Default SAX Models"
   ]
  },
  {
   "cell_type": "code",
   "execution_count": null,
   "id": "1",
   "metadata": {
    "papermill": {
     "duration": 0.36269,
     "end_time": "2025-06-20T08:28:49.513841",
     "exception": false,
     "start_time": "2025-06-20T08:28:49.151151",
     "status": "completed"
    },
    "tags": []
   },
   "outputs": [],
   "source": [
    "import sax"
   ]
  },
  {
   "cell_type": "markdown",
   "id": "2",
   "metadata": {
    "papermill": {
     "duration": 0.002627,
     "end_time": "2025-06-20T08:28:49.519295",
     "exception": false,
     "start_time": "2025-06-20T08:28:49.516668",
     "status": "completed"
    },
    "tags": []
   },
   "source": [
    "## Simple Models"
   ]
  },
  {
   "cell_type": "code",
   "execution_count": null,
   "id": "3",
   "metadata": {
    "papermill": {
     "duration": 0.260611,
     "end_time": "2025-06-20T08:28:49.782410",
     "exception": false,
     "start_time": "2025-06-20T08:28:49.521799",
     "status": "completed"
    },
    "tags": []
   },
   "outputs": [],
   "source": [
    "sax.models.straight()"
   ]
  },
  {
   "cell_type": "code",
   "execution_count": null,
   "id": "4",
   "metadata": {
    "papermill": {
     "duration": 0.060075,
     "end_time": "2025-06-20T08:28:49.845019",
     "exception": false,
     "start_time": "2025-06-20T08:28:49.784944",
     "status": "completed"
    },
    "tags": []
   },
   "outputs": [],
   "source": [
    "sax.models.coupler()"
   ]
  },
  {
   "cell_type": "markdown",
   "id": "5",
   "metadata": {
    "papermill": {
     "duration": 0.002682,
     "end_time": "2025-06-20T08:28:49.850598",
     "exception": false,
     "start_time": "2025-06-20T08:28:49.847916",
     "status": "completed"
    },
    "tags": []
   },
   "source": [
    "## Model Factories"
   ]
  },
  {
   "cell_type": "markdown",
   "id": "6",
   "metadata": {
    "papermill": {
     "duration": 0.003509,
     "end_time": "2025-06-20T08:28:49.856806",
     "exception": false,
     "start_time": "2025-06-20T08:28:49.853297",
     "status": "completed"
    },
    "tags": []
   },
   "source": [
    "A unitary model returns an `SCoo` by default:"
   ]
  },
  {
   "cell_type": "code",
   "execution_count": null,
   "id": "7",
   "metadata": {
    "papermill": {
     "duration": 1.393123,
     "end_time": "2025-06-20T08:28:51.252807",
     "exception": false,
     "start_time": "2025-06-20T08:28:49.859684",
     "status": "completed"
    },
    "tags": []
   },
   "outputs": [],
   "source": [
    "unitary_model = sax.models.unitary(2, 2)\n",
    "unitary_model()  # a unitary model returns an SCoo by default"
   ]
  },
  {
   "cell_type": "markdown",
   "id": "8",
   "metadata": {
    "papermill": {
     "duration": 0.002253,
     "end_time": "2025-06-20T08:28:51.258449",
     "exception": false,
     "start_time": "2025-06-20T08:28:51.256196",
     "status": "completed"
    },
    "tags": []
   },
   "source": [
    "As you probably already know, it's very easy to convert a model returning any `Stype` into a model returning an `SDict` as follows:"
   ]
  },
  {
   "cell_type": "code",
   "execution_count": null,
   "id": "9",
   "metadata": {
    "papermill": {
     "duration": 0.11494,
     "end_time": "2025-06-20T08:28:51.376232",
     "exception": false,
     "start_time": "2025-06-20T08:28:51.261292",
     "status": "completed"
    },
    "tags": []
   },
   "outputs": [],
   "source": [
    "unitary_sdict_model = sax.sdict(unitary_model)\n",
    "unitary_sdict_model()"
   ]
  },
  {
   "cell_type": "markdown",
   "id": "10",
   "metadata": {
    "papermill": {
     "duration": 0.003707,
     "end_time": "2025-06-20T08:28:51.383280",
     "exception": false,
     "start_time": "2025-06-20T08:28:51.379573",
     "status": "completed"
    },
    "tags": []
   },
   "source": [
    "If we need custom port names, we can also just specify them explicitly:"
   ]
  },
  {
   "cell_type": "code",
   "execution_count": null,
   "id": "11",
   "metadata": {
    "papermill": {
     "duration": 0.055021,
     "end_time": "2025-06-20T08:28:51.441750",
     "exception": false,
     "start_time": "2025-06-20T08:28:51.386729",
     "status": "completed"
    },
    "tags": []
   },
   "outputs": [],
   "source": [
    "unitary_model = sax.models.unitary(ports=(\"in0\", \"in1\", \"out0\", \"out1\"))\n",
    "unitary_model()"
   ]
  },
  {
   "cell_type": "markdown",
   "id": "12",
   "metadata": {
    "papermill": {
     "duration": 0.006881,
     "end_time": "2025-06-20T08:28:51.452001",
     "exception": false,
     "start_time": "2025-06-20T08:28:51.445120",
     "status": "completed"
    },
    "tags": []
   },
   "source": [
    "A unitary model will by default split a signal at an input port equally over all output ports. However, if there are an equal number of input ports as output ports we can in stead create a passthru by setting the `diagonal` flag to `True`:"
   ]
  },
  {
   "cell_type": "code",
   "execution_count": null,
   "id": "13",
   "metadata": {
    "papermill": {
     "duration": 0.6275,
     "end_time": "2025-06-20T08:28:52.082708",
     "exception": false,
     "start_time": "2025-06-20T08:28:51.455208",
     "status": "completed"
    },
    "tags": []
   },
   "outputs": [],
   "source": [
    "passthru_model = sax.models.unitary(2, 2, diagonal=True)\n",
    "sax.sdict(passthru_model())"
   ]
  },
  {
   "cell_type": "code",
   "execution_count": null,
   "id": "14",
   "metadata": {
    "papermill": {
     "duration": 1.582586,
     "end_time": "2025-06-20T08:28:53.668503",
     "exception": false,
     "start_time": "2025-06-20T08:28:52.085917",
     "status": "completed"
    },
    "tags": []
   },
   "outputs": [],
   "source": [
    "ports_in = [\"in0\"]\n",
    "ports_out = [\"out0\", \"out1\", \"out2\", \"out3\", \"out4\"]\n",
    "model = sax.models.unitary(ports=tuple(ports_in + ports_out), jit=True, reciprocal=True)\n",
    "model = sax.sdict(model)\n",
    "model()"
   ]
  },
  {
   "cell_type": "markdown",
   "id": "15",
   "metadata": {
    "papermill": {
     "duration": 0.001596,
     "end_time": "2025-06-20T08:28:53.673822",
     "exception": false,
     "start_time": "2025-06-20T08:28:53.672226",
     "status": "completed"
    },
    "tags": []
   },
   "source": [
    "Because this is a pretty common usecase we have a dedicated model factory for this as well. This passthru component just takes the number of links (`'in{i}' -> 'out{i]'`) as input. Alternatively, as before, one can also specify the port names directly but one needs to ensure that `len(ports) == 2*num_links`."
   ]
  },
  {
   "cell_type": "code",
   "execution_count": null,
   "id": "16",
   "metadata": {
    "papermill": {
     "duration": 0.956555,
     "end_time": "2025-06-20T08:28:54.633363",
     "exception": false,
     "start_time": "2025-06-20T08:28:53.676808",
     "status": "completed"
    },
    "tags": []
   },
   "outputs": [],
   "source": [
    "passthru_model = sax.models.passthru(3)\n",
    "passthru_sdict_model = sax.sdict(passthru_model)\n",
    "passthru_sdict_model()"
   ]
  },
  {
   "cell_type": "code",
   "execution_count": null,
   "id": "17",
   "metadata": {
    "papermill": {
     "duration": 2.545192,
     "end_time": "2025-06-20T08:28:57.182134",
     "exception": false,
     "start_time": "2025-06-20T08:28:54.636942",
     "status": "completed"
    },
    "tags": []
   },
   "outputs": [],
   "source": [
    "mzi, _ = sax.circuit(\n",
    "    netlist={\n",
    "        \"instances\": {\n",
    "            \"lft\": \"u12\",\n",
    "            \"top\": \"u11\",\n",
    "            \"rgt\": \"u12\",\n",
    "        },\n",
    "        \"connections\": {\n",
    "            \"lft,out0\": \"rgt,out0\",\n",
    "            \"lft,out1\": \"top,in0\",\n",
    "            \"top,out0\": \"rgt,out1\",\n",
    "        },\n",
    "        \"ports\": {\n",
    "            \"in0\": \"lft,in0\",\n",
    "            \"out0\": \"rgt,in0\",\n",
    "        },\n",
    "    },\n",
    "    models={\n",
    "        \"u12\": sax.models.unitary(1, 2),\n",
    "        \"u11\": sax.models.unitary(1, 1),\n",
    "    },\n",
    ")\n",
    "mzi()"
   ]
  },
  {
   "cell_type": "markdown",
   "id": "18",
   "metadata": {
    "papermill": {
     "duration": 0.003214,
     "end_time": "2025-06-20T08:28:57.189283",
     "exception": false,
     "start_time": "2025-06-20T08:28:57.186069",
     "status": "completed"
    },
    "tags": []
   },
   "source": [
    "A copier model is like a unitary model, but copies the input signal over all output signals. Hence, if the model has multiple output ports, this model can be considered to introduce gain. That said, it can sometimes be a useful component."
   ]
  },
  {
   "cell_type": "code",
   "execution_count": null,
   "id": "19",
   "metadata": {
    "papermill": {
     "duration": 0.390109,
     "end_time": "2025-06-20T08:28:57.582702",
     "exception": false,
     "start_time": "2025-06-20T08:28:57.192593",
     "status": "completed"
    },
    "tags": []
   },
   "outputs": [],
   "source": [
    "copier_model = sax.models.copier(2, 2)\n",
    "copier_model()  # a copier model returns an SCoo by default"
   ]
  },
  {
   "cell_type": "markdown",
   "id": "20",
   "metadata": {
    "papermill": {
     "duration": 0.003514,
     "end_time": "2025-06-20T08:28:57.589800",
     "exception": false,
     "start_time": "2025-06-20T08:28:57.586286",
     "status": "completed"
    },
    "tags": []
   },
   "source": [
    "As you probably already know, it's very easy to convert a model returning any `Stype` into a model returning an `SDict` as follows:"
   ]
  },
  {
   "cell_type": "code",
   "execution_count": null,
   "id": "21",
   "metadata": {
    "papermill": {
     "duration": 0.064787,
     "end_time": "2025-06-20T08:28:57.658045",
     "exception": false,
     "start_time": "2025-06-20T08:28:57.593258",
     "status": "completed"
    },
    "tags": []
   },
   "outputs": [],
   "source": [
    "copier_sdict_model = sax.sdict(copier_model)\n",
    "copier_sdict_model()"
   ]
  },
  {
   "cell_type": "markdown",
   "id": "22",
   "metadata": {
    "papermill": {
     "duration": 0.003664,
     "end_time": "2025-06-20T08:28:57.665548",
     "exception": false,
     "start_time": "2025-06-20T08:28:57.661884",
     "status": "completed"
    },
    "tags": []
   },
   "source": [
    "If we need custom port names, we can also just specify them explicitly:"
   ]
  },
  {
   "cell_type": "code",
   "execution_count": null,
   "id": "23",
   "metadata": {
    "papermill": {
     "duration": 0.034048,
     "end_time": "2025-06-20T08:28:57.703118",
     "exception": false,
     "start_time": "2025-06-20T08:28:57.669070",
     "status": "completed"
    },
    "tags": []
   },
   "outputs": [],
   "source": [
    "copier_model = sax.models.copier(ports=(\"in0\", \"in1\", \"out0\", \"out1\"))\n",
    "copier_model()"
   ]
  },
  {
   "cell_type": "code",
   "execution_count": null,
   "id": "24",
   "metadata": {
    "papermill": {
     "duration": 0.019672,
     "end_time": "2025-06-20T08:28:57.726575",
     "exception": false,
     "start_time": "2025-06-20T08:28:57.706903",
     "status": "completed"
    },
    "tags": []
   },
   "outputs": [],
   "source": [
    "ports_in = [\"in0\"]\n",
    "ports_out = [\"out0\", \"out1\", \"out2\", \"out3\", \"out4\"]\n",
    "model = sax.models.unitary(ports=tuple(ports_in + ports_out), jit=True, reciprocal=True)\n",
    "model = sax.sdict(model)\n",
    "model()"
   ]
  },
  {
   "cell_type": "markdown",
   "id": "25",
   "metadata": {
    "papermill": {
     "duration": 0.001628,
     "end_time": "2025-06-20T08:28:57.730720",
     "exception": false,
     "start_time": "2025-06-20T08:28:57.729092",
     "status": "completed"
    },
    "tags": []
   },
   "source": [
    "Because this is a pretty common usecase we have a dedicated model factory for this as well. This passthru component just takes the number of links (`'in{i}' -> 'out{i]'`) as input. Alternatively, as before, one can also specify the port names directly but one needs to ensure that `len(ports) == 2*num_links`."
   ]
  },
  {
   "cell_type": "code",
   "execution_count": null,
   "id": "26",
   "metadata": {
    "papermill": {
     "duration": 0.015753,
     "end_time": "2025-06-20T08:28:57.749991",
     "exception": false,
     "start_time": "2025-06-20T08:28:57.734238",
     "status": "completed"
    },
    "tags": []
   },
   "outputs": [],
   "source": [
    "passthru_model = sax.models.passthru(3)\n",
    "passthru_sdict_model = sax.sdict(passthru_model)\n",
    "passthru_sdict_model()"
   ]
  }
 ],
 "metadata": {
  "kernelspec": {
   "display_name": "sax",
   "language": "python",
   "name": "sax"
  },
  "language_info": {
   "codemirror_mode": {
    "name": "ipython",
    "version": 3
   },
   "file_extension": ".py",
   "mimetype": "text/x-python",
   "name": "python",
   "nbconvert_exporter": "python",
   "pygments_lexer": "ipython3",
   "version": "3.12.10"
  },
  "papermill": {
   "default_parameters": {},
   "duration": 9.863514,
   "end_time": "2025-06-20T08:28:58.272943",
   "environment_variables": {},
   "exception": null,
   "input_path": "nbs/internals/01_models.ipynb",
   "output_path": "nbs/internals/01_models.ipynb",
   "parameters": {},
   "start_time": "2025-06-20T08:28:48.409429",
   "version": "2.6.0"
  }
 },
 "nbformat": 4,
 "nbformat_minor": 5
}
