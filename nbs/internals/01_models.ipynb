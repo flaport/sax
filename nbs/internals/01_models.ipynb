{
 "cells": [
  {
   "cell_type": "markdown",
   "id": "0",
   "metadata": {
    "papermill": {
     "duration": 0.018089,
     "end_time": "2025-02-27T06:31:26.576453",
     "exception": false,
     "start_time": "2025-02-27T06:31:26.558364",
     "status": "completed"
    },
    "tags": []
   },
   "source": [
    "# Models and Model Factories\n",
    "\n",
    "> Default SAX Models"
   ]
  },
  {
   "cell_type": "code",
   "execution_count": null,
   "id": "1",
   "metadata": {
    "papermill": {
     "duration": 2.579066,
     "end_time": "2025-02-27T06:31:29.169438",
     "exception": false,
     "start_time": "2025-02-27T06:31:26.590372",
     "status": "completed"
    },
    "tags": []
   },
   "outputs": [],
   "source": [
    "import sax"
   ]
  },
  {
   "cell_type": "markdown",
   "id": "2",
   "metadata": {
    "papermill": {
     "duration": 0.006961,
     "end_time": "2025-02-27T06:31:29.183864",
     "exception": false,
     "start_time": "2025-02-27T06:31:29.176903",
     "status": "completed"
    },
    "tags": []
   },
   "source": [
    "## Simple Models"
   ]
  },
  {
   "cell_type": "code",
   "execution_count": null,
   "id": "3",
   "metadata": {
    "papermill": {
     "duration": 0.104224,
     "end_time": "2025-02-27T06:31:29.294968",
     "exception": false,
     "start_time": "2025-02-27T06:31:29.190744",
     "status": "completed"
    },
    "tags": []
   },
   "outputs": [],
   "source": [
    "sax.models.straight()"
   ]
  },
  {
   "cell_type": "code",
   "execution_count": null,
   "id": "4",
   "metadata": {
    "papermill": {
     "duration": 0.033595,
     "end_time": "2025-02-27T06:31:29.335964",
     "exception": false,
     "start_time": "2025-02-27T06:31:29.302369",
     "status": "completed"
    },
    "tags": []
   },
   "outputs": [],
   "source": [
    "sax.models.coupler()"
   ]
  },
  {
   "cell_type": "markdown",
   "id": "5",
   "metadata": {
    "papermill": {
     "duration": 0.113775,
     "end_time": "2025-02-27T06:31:29.559210",
     "exception": false,
     "start_time": "2025-02-27T06:31:29.445435",
     "status": "completed"
    },
    "tags": []
   },
   "source": [
    "## Model Factories"
   ]
  },
  {
   "cell_type": "markdown",
   "id": "6",
   "metadata": {
    "papermill": {
     "duration": 0.007146,
     "end_time": "2025-02-27T06:31:29.574270",
     "exception": false,
     "start_time": "2025-02-27T06:31:29.567124",
     "status": "completed"
    },
    "tags": []
   },
   "source": [
    "A unitary model returns an `SCoo` by default:"
   ]
  },
  {
   "cell_type": "code",
   "execution_count": null,
   "id": "7",
   "metadata": {
    "papermill": {
     "duration": 1.661939,
     "end_time": "2025-02-27T06:31:31.243654",
     "exception": false,
     "start_time": "2025-02-27T06:31:29.581715",
     "status": "completed"
    },
    "tags": []
   },
   "outputs": [],
   "source": [
    "unitary_model = sax.models.unitary(2, 2)\n",
    "unitary_model()  # a unitary model returns an SCoo by default"
   ]
  },
  {
   "cell_type": "markdown",
   "id": "8",
   "metadata": {
    "papermill": {
     "duration": 0.070152,
     "end_time": "2025-02-27T06:31:31.317862",
     "exception": false,
     "start_time": "2025-02-27T06:31:31.247710",
     "status": "completed"
    },
    "tags": []
   },
   "source": [
    "As you probably already know, it's very easy to convert a model returning any `Stype` into a model returning an `SDict` as follows:"
   ]
  },
  {
   "cell_type": "code",
   "execution_count": null,
   "id": "9",
   "metadata": {
    "papermill": {
     "duration": 0.072767,
     "end_time": "2025-02-27T06:31:31.395656",
     "exception": false,
     "start_time": "2025-02-27T06:31:31.322889",
     "status": "completed"
    },
    "tags": []
   },
   "outputs": [],
   "source": [
    "unitary_sdict_model = sax.sdict(unitary_model)\n",
    "unitary_sdict_model()"
   ]
  },
  {
   "cell_type": "markdown",
   "id": "10",
   "metadata": {
    "papermill": {
     "duration": 0.004289,
     "end_time": "2025-02-27T06:31:31.406429",
     "exception": false,
     "start_time": "2025-02-27T06:31:31.402140",
     "status": "completed"
    },
    "tags": []
   },
   "source": [
    "If we need custom port names, we can also just specify them explicitly:"
   ]
  },
  {
   "cell_type": "code",
   "execution_count": null,
   "id": "11",
   "metadata": {
    "papermill": {
     "duration": 0.040154,
     "end_time": "2025-02-27T06:31:31.450558",
     "exception": false,
     "start_time": "2025-02-27T06:31:31.410404",
     "status": "completed"
    },
    "tags": []
   },
   "outputs": [],
   "source": [
    "unitary_model = sax.models.unitary(ports=(\"in0\", \"in1\", \"out0\", \"out1\"))\n",
    "unitary_model()"
   ]
  },
  {
   "cell_type": "markdown",
   "id": "12",
   "metadata": {
    "papermill": {
     "duration": 0.003943,
     "end_time": "2025-02-27T06:31:31.461056",
     "exception": false,
     "start_time": "2025-02-27T06:31:31.457113",
     "status": "completed"
    },
    "tags": []
   },
   "source": [
    "A unitary model will by default split a signal at an input port equally over all output ports. However, if there are an equal number of input ports as output ports we can in stead create a passthru by setting the `diagonal` flag to `True`:"
   ]
  },
  {
   "cell_type": "code",
   "execution_count": null,
   "id": "13",
   "metadata": {
    "papermill": {
     "duration": 0.478709,
     "end_time": "2025-02-27T06:31:31.943733",
     "exception": false,
     "start_time": "2025-02-27T06:31:31.465024",
     "status": "completed"
    },
    "tags": []
   },
   "outputs": [],
   "source": [
    "passthru_model = sax.models.unitary(2, 2, diagonal=True)\n",
    "sax.sdict(passthru_model())"
   ]
  },
  {
   "cell_type": "code",
   "execution_count": null,
   "id": "14",
   "metadata": {
    "papermill": {
     "duration": 1.193046,
     "end_time": "2025-02-27T06:31:33.144730",
     "exception": false,
     "start_time": "2025-02-27T06:31:31.951684",
     "status": "completed"
    },
    "tags": []
   },
   "outputs": [],
   "source": [
    "ports_in = [\"in0\"]\n",
    "ports_out = [\"out0\", \"out1\", \"out2\", \"out3\", \"out4\"]\n",
    "model = sax.models.unitary(ports=tuple(ports_in + ports_out), jit=True, reciprocal=True)\n",
    "model = sax.sdict(model)\n",
    "model()"
   ]
  },
  {
   "cell_type": "markdown",
   "id": "15",
   "metadata": {
    "papermill": {
     "duration": 0.003722,
     "end_time": "2025-02-27T06:31:33.152267",
     "exception": false,
     "start_time": "2025-02-27T06:31:33.148545",
     "status": "completed"
    },
    "tags": []
   },
   "source": [
    "Because this is a pretty common usecase we have a dedicated model factory for this as well. This passthru component just takes the number of links (`'in{i}' -> 'out{i]'`) as input. Alternatively, as before, one can also specify the port names directly but one needs to ensure that `len(ports) == 2*num_links`."
   ]
  },
  {
   "cell_type": "code",
   "execution_count": null,
   "id": "16",
   "metadata": {
    "papermill": {
     "duration": 0.693951,
     "end_time": "2025-02-27T06:31:33.849894",
     "exception": false,
     "start_time": "2025-02-27T06:31:33.155943",
     "status": "completed"
    },
    "tags": []
   },
   "outputs": [],
   "source": [
    "passthru_model = sax.passthru(3)\n",
    "passthru_sdict_model = sax.sdict(passthru_model)\n",
    "passthru_sdict_model()"
   ]
  },
  {
   "cell_type": "code",
   "execution_count": null,
   "id": "17",
   "metadata": {
    "papermill": {
     "duration": 1.80556,
     "end_time": "2025-02-27T06:31:35.660269",
     "exception": false,
     "start_time": "2025-02-27T06:31:33.854709",
     "status": "completed"
    },
    "tags": []
   },
   "outputs": [],
   "source": [
    "mzi, _ = sax.circuit(\n",
    "    netlist={\n",
    "        \"instances\": {\n",
    "            \"lft\": \"u12\",\n",
    "            \"top\": \"u11\",\n",
    "            \"rgt\": \"u12\",\n",
    "        },\n",
    "        \"connections\": {\n",
    "            \"lft,out0\": \"rgt,out0\",\n",
    "            \"lft,out1\": \"top,in0\",\n",
    "            \"top,out0\": \"rgt,out1\",\n",
    "        },\n",
    "        \"ports\": {\n",
    "            \"in0\": \"lft,in0\",\n",
    "            \"out0\": \"rgt,in0\",\n",
    "        },\n",
    "    },\n",
    "    models={\n",
    "        \"u12\": sax.models.unitary(1, 2),\n",
    "        \"u11\": sax.models.unitary(1, 1),\n",
    "    },\n",
    ")\n",
    "mzi()"
   ]
  },
  {
   "cell_type": "markdown",
   "id": "18",
   "metadata": {
    "papermill": {
     "duration": 0.004254,
     "end_time": "2025-02-27T06:31:35.669198",
     "exception": false,
     "start_time": "2025-02-27T06:31:35.664944",
     "status": "completed"
    },
    "tags": []
   },
   "source": [
    "A copier model is like a unitary model, but copies the input signal over all output signals. Hence, if the model has multiple output ports, this model can be considered to introduce gain. That said, it can sometimes be a useful component."
   ]
  },
  {
   "cell_type": "code",
   "execution_count": null,
   "id": "19",
   "metadata": {
    "papermill": {
     "duration": 0.039288,
     "end_time": "2025-02-27T06:31:35.712707",
     "exception": false,
     "start_time": "2025-02-27T06:31:35.673419",
     "status": "completed"
    },
    "tags": []
   },
   "outputs": [],
   "source": [
    "copier_model = sax.models.copier(2, 2)\n",
    "copier_model()  # a copier model returns an SCoo by default"
   ]
  },
  {
   "cell_type": "markdown",
   "id": "20",
   "metadata": {
    "papermill": {
     "duration": 0.005517,
     "end_time": "2025-02-27T06:31:35.726736",
     "exception": false,
     "start_time": "2025-02-27T06:31:35.721219",
     "status": "completed"
    },
    "tags": []
   },
   "source": [
    "As you probably already know, it's very easy to convert a model returning any `Stype` into a model returning an `SDict` as follows:"
   ]
  },
  {
   "cell_type": "code",
   "execution_count": null,
   "id": "21",
   "metadata": {
    "papermill": {
     "duration": 0.021726,
     "end_time": "2025-02-27T06:31:35.753601",
     "exception": false,
     "start_time": "2025-02-27T06:31:35.731875",
     "status": "completed"
    },
    "tags": []
   },
   "outputs": [],
   "source": [
    "copier_sdict_model = sax.sdict(copier_model)\n",
    "copier_sdict_model()"
   ]
  },
  {
   "cell_type": "markdown",
   "id": "22",
   "metadata": {
    "papermill": {
     "duration": 0.005315,
     "end_time": "2025-02-27T06:31:35.766096",
     "exception": false,
     "start_time": "2025-02-27T06:31:35.760781",
     "status": "completed"
    },
    "tags": []
   },
   "source": [
    "If we need custom port names, we can also just specify them explicitly:"
   ]
  },
  {
   "cell_type": "code",
   "execution_count": null,
   "id": "23",
   "metadata": {
    "papermill": {
     "duration": 0.041951,
     "end_time": "2025-02-27T06:31:35.812766",
     "exception": false,
     "start_time": "2025-02-27T06:31:35.770815",
     "status": "completed"
    },
    "tags": []
   },
   "outputs": [],
   "source": [
    "copier_model = sax.models.copier(ports=(\"in0\", \"in1\", \"out0\", \"out1\"))\n",
    "copier_model()"
   ]
  },
  {
   "cell_type": "code",
   "execution_count": null,
   "id": "24",
   "metadata": {
    "papermill": {
     "duration": 0.02865,
     "end_time": "2025-02-27T06:31:35.847182",
     "exception": false,
     "start_time": "2025-02-27T06:31:35.818532",
     "status": "completed"
    },
    "tags": []
   },
   "outputs": [],
   "source": [
    "ports_in = [\"in0\"]\n",
    "ports_out = [\"out0\", \"out1\", \"out2\", \"out3\", \"out4\"]\n",
    "model = sax.models.unitary(ports=tuple(ports_in + ports_out), jit=True, reciprocal=True)\n",
    "model = sax.sdict(model)\n",
    "model()"
   ]
  },
  {
   "cell_type": "markdown",
   "id": "25",
   "metadata": {
    "papermill": {
     "duration": 0.006627,
     "end_time": "2025-02-27T06:31:35.858738",
     "exception": false,
     "start_time": "2025-02-27T06:31:35.852111",
     "status": "completed"
    },
    "tags": []
   },
   "source": [
    "Because this is a pretty common usecase we have a dedicated model factory for this as well. This passthru component just takes the number of links (`'in{i}' -> 'out{i]'`) as input. Alternatively, as before, one can also specify the port names directly but one needs to ensure that `len(ports) == 2*num_links`."
   ]
  },
  {
   "cell_type": "code",
   "execution_count": null,
   "id": "26",
   "metadata": {
    "papermill": {
     "duration": 0.020845,
     "end_time": "2025-02-27T06:31:35.886901",
     "exception": false,
     "start_time": "2025-02-27T06:31:35.866056",
     "status": "completed"
    },
    "tags": []
   },
   "outputs": [],
   "source": [
    "passthru_model = sax.models.passthru(3)\n",
    "passthru_sdict_model = sax.sdict(passthru_model)\n",
    "passthru_sdict_model()"
   ]
  },
  {
   "cell_type": "markdown",
   "id": "27",
   "metadata": {
    "papermill": {
     "duration": 0.006619,
     "end_time": "2025-02-27T06:31:35.900478",
     "exception": false,
     "start_time": "2025-02-27T06:31:35.893859",
     "status": "completed"
    },
    "tags": []
   },
   "source": [
    "## All Models"
   ]
  },
  {
   "cell_type": "code",
   "execution_count": null,
   "id": "28",
   "metadata": {
    "papermill": {
     "duration": 0.022008,
     "end_time": "2025-02-27T06:31:35.933145",
     "exception": false,
     "start_time": "2025-02-27T06:31:35.911137",
     "status": "completed"
    },
    "tags": []
   },
   "outputs": [],
   "source": [
    "sax.models.models"
   ]
  }
 ],
 "metadata": {
  "kernelspec": {
   "display_name": "Python 3 (ipykernel)",
   "language": "python",
   "name": "python3"
  },
  "language_info": {
   "codemirror_mode": {
    "name": "ipython",
    "version": 3
   },
   "file_extension": ".py",
   "mimetype": "text/x-python",
   "name": "python",
   "nbconvert_exporter": "python",
   "pygments_lexer": "ipython3",
   "version": "3.12.6"
  },
  "papermill": {
   "default_parameters": {},
   "duration": 11.738924,
   "end_time": "2025-02-27T06:31:37.069002",
   "environment_variables": {},
   "exception": null,
   "input_path": "internals/01_models.ipynb",
   "output_path": "internals/01_models.ipynb",
   "parameters": {},
   "start_time": "2025-02-27T06:31:25.330078",
   "version": "2.6.0"
  }
 },
 "nbformat": 4,
 "nbformat_minor": 5
}
