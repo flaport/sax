{
 "cells": [
  {
   "cell_type": "markdown",
   "id": "0",
   "metadata": {
    "papermill": {
     "duration": 0.004244,
     "end_time": "2025-06-12T12:18:45.138655",
     "exception": false,
     "start_time": "2025-06-12T12:18:45.134411",
     "status": "completed"
    },
    "tags": []
   },
   "source": [
    "# Models and Model Factories\n",
    "\n",
    "> Default SAX Models"
   ]
  },
  {
   "cell_type": "code",
   "execution_count": null,
   "id": "1",
   "metadata": {
    "papermill": {
     "duration": 2.069338,
     "end_time": "2025-06-12T12:18:47.210473",
     "exception": false,
     "start_time": "2025-06-12T12:18:45.141135",
     "status": "completed"
    },
    "tags": []
   },
   "outputs": [],
   "source": [
    "import sax"
   ]
  },
  {
   "cell_type": "markdown",
   "id": "2",
   "metadata": {
    "papermill": {
     "duration": 0.002498,
     "end_time": "2025-06-12T12:18:47.215833",
     "exception": false,
     "start_time": "2025-06-12T12:18:47.213335",
     "status": "completed"
    },
    "tags": []
   },
   "source": [
    "## Simple Models"
   ]
  },
  {
   "cell_type": "code",
   "execution_count": null,
   "id": "3",
   "metadata": {
    "papermill": {
     "duration": 0.18818,
     "end_time": "2025-06-12T12:18:47.406912",
     "exception": false,
     "start_time": "2025-06-12T12:18:47.218732",
     "status": "completed"
    },
    "tags": []
   },
   "outputs": [],
   "source": [
    "sax.models.straight()"
   ]
  },
  {
   "cell_type": "code",
   "execution_count": null,
   "id": "4",
   "metadata": {
    "papermill": {
     "duration": 0.010697,
     "end_time": "2025-06-12T12:18:47.420840",
     "exception": false,
     "start_time": "2025-06-12T12:18:47.410143",
     "status": "completed"
    },
    "tags": []
   },
   "outputs": [],
   "source": [
    "sax.models.coupler()"
   ]
  },
  {
   "cell_type": "markdown",
   "id": "5",
   "metadata": {
    "papermill": {
     "duration": 0.001387,
     "end_time": "2025-06-12T12:18:47.425929",
     "exception": false,
     "start_time": "2025-06-12T12:18:47.424542",
     "status": "completed"
    },
    "tags": []
   },
   "source": [
    "## Model Factories"
   ]
  },
  {
   "cell_type": "markdown",
   "id": "6",
   "metadata": {
    "papermill": {
     "duration": 0.001243,
     "end_time": "2025-06-12T12:18:47.430058",
     "exception": false,
     "start_time": "2025-06-12T12:18:47.428815",
     "status": "completed"
    },
    "tags": []
   },
   "source": [
    "A unitary model returns an `SCoo` by default:"
   ]
  },
  {
   "cell_type": "code",
   "execution_count": null,
   "id": "7",
   "metadata": {
    "papermill": {
     "duration": 1.521591,
     "end_time": "2025-06-12T12:18:48.954574",
     "exception": false,
     "start_time": "2025-06-12T12:18:47.432983",
     "status": "completed"
    },
    "tags": []
   },
   "outputs": [],
   "source": [
    "unitary_model = sax.models.unitary(2, 2)\n",
    "unitary_model()  # a unitary model returns an SCoo by default"
   ]
  },
  {
   "cell_type": "markdown",
   "id": "8",
   "metadata": {
    "papermill": {
     "duration": 0.001929,
     "end_time": "2025-06-12T12:18:48.959741",
     "exception": false,
     "start_time": "2025-06-12T12:18:48.957812",
     "status": "completed"
    },
    "tags": []
   },
   "source": [
    "As you probably already know, it's very easy to convert a model returning any `Stype` into a model returning an `SDict` as follows:"
   ]
  },
  {
   "cell_type": "code",
   "execution_count": null,
   "id": "9",
   "metadata": {
    "papermill": {
     "duration": 0.073678,
     "end_time": "2025-06-12T12:18:49.036473",
     "exception": false,
     "start_time": "2025-06-12T12:18:48.962795",
     "status": "completed"
    },
    "tags": []
   },
   "outputs": [],
   "source": [
    "unitary_sdict_model = sax.sdict(unitary_model)\n",
    "unitary_sdict_model()"
   ]
  },
  {
   "cell_type": "markdown",
   "id": "10",
   "metadata": {
    "papermill": {
     "duration": 0.002627,
     "end_time": "2025-06-12T12:18:49.042507",
     "exception": false,
     "start_time": "2025-06-12T12:18:49.039880",
     "status": "completed"
    },
    "tags": []
   },
   "source": [
    "If we need custom port names, we can also just specify them explicitly:"
   ]
  },
  {
   "cell_type": "code",
   "execution_count": null,
   "id": "11",
   "metadata": {
    "papermill": {
     "duration": 0.027457,
     "end_time": "2025-06-12T12:18:49.072556",
     "exception": false,
     "start_time": "2025-06-12T12:18:49.045099",
     "status": "completed"
    },
    "tags": []
   },
   "outputs": [],
   "source": [
    "unitary_model = sax.models.unitary(ports=(\"in0\", \"in1\", \"out0\", \"out1\"))\n",
    "unitary_model()"
   ]
  },
  {
   "cell_type": "markdown",
   "id": "12",
   "metadata": {
    "papermill": {
     "duration": 0.003316,
     "end_time": "2025-06-12T12:18:49.079492",
     "exception": false,
     "start_time": "2025-06-12T12:18:49.076176",
     "status": "completed"
    },
    "tags": []
   },
   "source": [
    "A unitary model will by default split a signal at an input port equally over all output ports. However, if there are an equal number of input ports as output ports we can in stead create a passthru by setting the `diagonal` flag to `True`:"
   ]
  },
  {
   "cell_type": "code",
   "execution_count": null,
   "id": "13",
   "metadata": {
    "papermill": {
     "duration": 0.576454,
     "end_time": "2025-06-12T12:18:49.659324",
     "exception": false,
     "start_time": "2025-06-12T12:18:49.082870",
     "status": "completed"
    },
    "tags": []
   },
   "outputs": [],
   "source": [
    "passthru_model = sax.models.unitary(2, 2, diagonal=True)\n",
    "sax.sdict(passthru_model())"
   ]
  },
  {
   "cell_type": "code",
   "execution_count": null,
   "id": "14",
   "metadata": {
    "papermill": {
     "duration": 1.477343,
     "end_time": "2025-06-12T12:18:51.138324",
     "exception": false,
     "start_time": "2025-06-12T12:18:49.660981",
     "status": "completed"
    },
    "tags": []
   },
   "outputs": [],
   "source": [
    "ports_in = [\"in0\"]\n",
    "ports_out = [\"out0\", \"out1\", \"out2\", \"out3\", \"out4\"]\n",
    "model = sax.models.unitary(ports=tuple(ports_in + ports_out), jit=True, reciprocal=True)\n",
    "model = sax.sdict(model)\n",
    "model()"
   ]
  },
  {
   "cell_type": "markdown",
   "id": "15",
   "metadata": {
    "papermill": {
     "duration": 0.00131,
     "end_time": "2025-06-12T12:18:51.141448",
     "exception": false,
     "start_time": "2025-06-12T12:18:51.140138",
     "status": "completed"
    },
    "tags": []
   },
   "source": [
    "Because this is a pretty common usecase we have a dedicated model factory for this as well. This passthru component just takes the number of links (`'in{i}' -> 'out{i]'`) as input. Alternatively, as before, one can also specify the port names directly but one needs to ensure that `len(ports) == 2*num_links`."
   ]
  },
  {
   "cell_type": "code",
   "execution_count": null,
   "id": "16",
   "metadata": {
    "papermill": {
     "duration": 0.827787,
     "end_time": "2025-06-12T12:18:51.972246",
     "exception": false,
     "start_time": "2025-06-12T12:18:51.144459",
     "status": "completed"
    },
    "tags": []
   },
   "outputs": [],
   "source": [
    "passthru_model = sax.passthru(3)\n",
    "passthru_sdict_model = sax.sdict(passthru_model)\n",
    "passthru_sdict_model()"
   ]
  },
  {
   "cell_type": "code",
   "execution_count": null,
   "id": "17",
   "metadata": {
    "papermill": {
     "duration": 2.006634,
     "end_time": "2025-06-12T12:18:53.982351",
     "exception": false,
     "start_time": "2025-06-12T12:18:51.975717",
     "status": "completed"
    },
    "tags": []
   },
   "outputs": [],
   "source": [
    "mzi, _ = sax.circuit(\n",
    "    netlist={\n",
    "        \"instances\": {\n",
    "            \"lft\": \"u12\",\n",
    "            \"top\": \"u11\",\n",
    "            \"rgt\": \"u12\",\n",
    "        },\n",
    "        \"connections\": {\n",
    "            \"lft,out0\": \"rgt,out0\",\n",
    "            \"lft,out1\": \"top,in0\",\n",
    "            \"top,out0\": \"rgt,out1\",\n",
    "        },\n",
    "        \"ports\": {\n",
    "            \"in0\": \"lft,in0\",\n",
    "            \"out0\": \"rgt,in0\",\n",
    "        },\n",
    "    },\n",
    "    models={\n",
    "        \"u12\": sax.models.unitary(1, 2),\n",
    "        \"u11\": sax.models.unitary(1, 1),\n",
    "    },\n",
    ")\n",
    "mzi()"
   ]
  },
  {
   "cell_type": "markdown",
   "id": "18",
   "metadata": {
    "papermill": {
     "duration": 0.003311,
     "end_time": "2025-06-12T12:18:53.989397",
     "exception": false,
     "start_time": "2025-06-12T12:18:53.986086",
     "status": "completed"
    },
    "tags": []
   },
   "source": [
    "A copier model is like a unitary model, but copies the input signal over all output signals. Hence, if the model has multiple output ports, this model can be considered to introduce gain. That said, it can sometimes be a useful component."
   ]
  },
  {
   "cell_type": "code",
   "execution_count": null,
   "id": "19",
   "metadata": {
    "papermill": {
     "duration": 0.031601,
     "end_time": "2025-06-12T12:18:54.024570",
     "exception": false,
     "start_time": "2025-06-12T12:18:53.992969",
     "status": "completed"
    },
    "tags": []
   },
   "outputs": [],
   "source": [
    "copier_model = sax.models.copier(2, 2)\n",
    "copier_model()  # a copier model returns an SCoo by default"
   ]
  },
  {
   "cell_type": "markdown",
   "id": "20",
   "metadata": {
    "papermill": {
     "duration": 0.003147,
     "end_time": "2025-06-12T12:18:54.029654",
     "exception": false,
     "start_time": "2025-06-12T12:18:54.026507",
     "status": "completed"
    },
    "tags": []
   },
   "source": [
    "As you probably already know, it's very easy to convert a model returning any `Stype` into a model returning an `SDict` as follows:"
   ]
  },
  {
   "cell_type": "code",
   "execution_count": null,
   "id": "21",
   "metadata": {
    "papermill": {
     "duration": 0.011132,
     "end_time": "2025-06-12T12:18:54.044409",
     "exception": false,
     "start_time": "2025-06-12T12:18:54.033277",
     "status": "completed"
    },
    "tags": []
   },
   "outputs": [],
   "source": [
    "copier_sdict_model = sax.sdict(copier_model)\n",
    "copier_sdict_model()"
   ]
  },
  {
   "cell_type": "markdown",
   "id": "22",
   "metadata": {
    "papermill": {
     "duration": 0.003223,
     "end_time": "2025-06-12T12:18:54.051192",
     "exception": false,
     "start_time": "2025-06-12T12:18:54.047969",
     "status": "completed"
    },
    "tags": []
   },
   "source": [
    "If we need custom port names, we can also just specify them explicitly:"
   ]
  },
  {
   "cell_type": "code",
   "execution_count": null,
   "id": "23",
   "metadata": {
    "papermill": {
     "duration": 0.031032,
     "end_time": "2025-06-12T12:18:54.085950",
     "exception": false,
     "start_time": "2025-06-12T12:18:54.054918",
     "status": "completed"
    },
    "tags": []
   },
   "outputs": [],
   "source": [
    "copier_model = sax.models.copier(ports=(\"in0\", \"in1\", \"out0\", \"out1\"))\n",
    "copier_model()"
   ]
  },
  {
   "cell_type": "code",
   "execution_count": null,
   "id": "24",
   "metadata": {
    "papermill": {
     "duration": 0.009249,
     "end_time": "2025-06-12T12:18:54.099207",
     "exception": false,
     "start_time": "2025-06-12T12:18:54.089958",
     "status": "completed"
    },
    "tags": []
   },
   "outputs": [],
   "source": [
    "ports_in = [\"in0\"]\n",
    "ports_out = [\"out0\", \"out1\", \"out2\", \"out3\", \"out4\"]\n",
    "model = sax.models.unitary(ports=tuple(ports_in + ports_out), jit=True, reciprocal=True)\n",
    "model = sax.sdict(model)\n",
    "model()"
   ]
  },
  {
   "cell_type": "markdown",
   "id": "25",
   "metadata": {
    "papermill": {
     "duration": 0.002048,
     "end_time": "2025-06-12T12:18:54.104691",
     "exception": false,
     "start_time": "2025-06-12T12:18:54.102643",
     "status": "completed"
    },
    "tags": []
   },
   "source": [
    "Because this is a pretty common usecase we have a dedicated model factory for this as well. This passthru component just takes the number of links (`'in{i}' -> 'out{i]'`) as input. Alternatively, as before, one can also specify the port names directly but one needs to ensure that `len(ports) == 2*num_links`."
   ]
  },
  {
   "cell_type": "code",
   "execution_count": null,
   "id": "26",
   "metadata": {
    "papermill": {
     "duration": 0.009464,
     "end_time": "2025-06-12T12:18:54.116369",
     "exception": false,
     "start_time": "2025-06-12T12:18:54.106905",
     "status": "completed"
    },
    "tags": []
   },
   "outputs": [],
   "source": [
    "passthru_model = sax.models.passthru(3)\n",
    "passthru_sdict_model = sax.sdict(passthru_model)\n",
    "passthru_sdict_model()"
   ]
  },
  {
   "cell_type": "markdown",
   "id": "27",
   "metadata": {
    "papermill": {
     "duration": 0.00355,
     "end_time": "2025-06-12T12:18:54.123846",
     "exception": false,
     "start_time": "2025-06-12T12:18:54.120296",
     "status": "completed"
    },
    "tags": []
   },
   "source": [
    "## All Models"
   ]
  },
  {
   "cell_type": "code",
   "execution_count": null,
   "id": "28",
   "metadata": {
    "papermill": {
     "duration": 0.00812,
     "end_time": "2025-06-12T12:18:54.135900",
     "exception": false,
     "start_time": "2025-06-12T12:18:54.127780",
     "status": "completed"
    },
    "tags": []
   },
   "outputs": [],
   "source": [
    "sax.models.models"
   ]
  }
 ],
 "metadata": {
  "kernelspec": {
   "display_name": "Python 3 (ipykernel)",
   "language": "python",
   "name": "python3"
  },
  "language_info": {
   "codemirror_mode": {
    "name": "ipython",
    "version": 3
   },
   "file_extension": ".py",
   "mimetype": "text/x-python",
   "name": "python",
   "nbconvert_exporter": "python",
   "pygments_lexer": "ipython3",
   "version": "3.12.10"
  },
  "papermill": {
   "default_parameters": {},
   "duration": 10.802609,
   "end_time": "2025-06-12T12:18:54.659928",
   "environment_variables": {},
   "exception": null,
   "input_path": "nbs/internals/01_models.ipynb",
   "output_path": "nbs/internals/01_models.ipynb",
   "parameters": {},
   "start_time": "2025-06-12T12:18:43.857319",
   "version": "2.6.0"
  }
 },
 "nbformat": 4,
 "nbformat_minor": 5
}
