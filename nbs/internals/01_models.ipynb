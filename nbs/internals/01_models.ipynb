{
 "cells": [
  {
   "cell_type": "markdown",
   "id": "0",
   "metadata": {},
   "source": [
    "# Models and Model Factories\n",
    "\n",
    "> Default SAX Models"
   ]
  },
  {
   "cell_type": "code",
   "execution_count": null,
   "id": "1",
   "metadata": {},
   "outputs": [],
   "source": [
    "import sax"
   ]
  },
  {
   "cell_type": "markdown",
   "id": "2",
   "metadata": {},
   "source": [
    "## Simple Models"
   ]
  },
  {
   "cell_type": "code",
   "execution_count": null,
   "id": "3",
   "metadata": {},
   "outputs": [],
   "source": [
    "sax.models.straight()"
   ]
  },
  {
   "cell_type": "code",
   "execution_count": null,
   "id": "4",
   "metadata": {},
   "outputs": [],
   "source": [
    "sax.models.coupler_ideal()"
   ]
  },
  {
   "cell_type": "markdown",
   "id": "5",
   "metadata": {},
   "source": [
    "## Model Factories"
   ]
  },
  {
   "cell_type": "markdown",
   "id": "6",
   "metadata": {},
   "source": [
    "A unitary model returns an `SCoo` by default:"
   ]
  },
  {
   "cell_type": "code",
   "execution_count": null,
   "id": "7",
   "metadata": {},
   "outputs": [],
   "source": [
    "unitary_model = sax.models.unitary(2, 2)\n",
    "unitary_model()  # a unitary model returns an SCoo by default"
   ]
  },
  {
   "cell_type": "markdown",
   "id": "8",
   "metadata": {},
   "source": [
    "As you probably already know, it's very easy to convert a model returning any `Stype` into a model returning an `SDict` as follows:"
   ]
  },
  {
   "cell_type": "code",
   "execution_count": null,
   "id": "9",
   "metadata": {},
   "outputs": [],
   "source": [
    "unitary_sdict_model = sax.sdict(unitary_model)\n",
    "unitary_sdict_model()"
   ]
  },
  {
   "cell_type": "markdown",
   "id": "12",
   "metadata": {},
   "source": [
    "A unitary model will by default split a signal at an input port equally over all output ports. However, if there are an equal number of input ports as output ports we can in stead create a passthru by setting the `diagonal` flag to `True`:"
   ]
  },
  {
   "cell_type": "code",
   "execution_count": null,
   "id": "13",
   "metadata": {},
   "outputs": [],
   "source": [
    "passthru_model = sax.models.unitary(2, 2, diagonal=True)\n",
    "sax.sdict(passthru_model())"
   ]
  },
  {
   "cell_type": "code",
   "execution_count": null,
   "id": "16",
   "metadata": {},
   "outputs": [],
   "source": [
    "passthru_model = sax.models.passthru(3)\n",
    "passthru_sdict_model = sax.sdict(passthru_model)\n",
    "passthru_sdict_model()"
   ]
  },
  {
   "cell_type": "code",
   "execution_count": null,
   "id": "17",
   "metadata": {},
   "outputs": [],
   "source": [
    "mzi, _ = sax.circuit(\n",
    "    netlist={\n",
    "        \"instances\": {\n",
    "            \"lft\": \"u12\",\n",
    "            \"top\": \"u11\",\n",
    "            \"rgt\": \"u12\",\n",
    "        },\n",
    "        \"connections\": {\n",
    "            \"lft,out0\": \"rgt,out0\",\n",
    "            \"lft,out1\": \"top,in0\",\n",
    "            \"top,out0\": \"rgt,out1\",\n",
    "        },\n",
    "        \"ports\": {\n",
    "            \"in0\": \"lft,in0\",\n",
    "            \"out0\": \"rgt,in0\",\n",
    "        },\n",
    "    },\n",
    "    models={\n",
    "        \"u12\": sax.models.unitary(1, 2),\n",
    "        \"u11\": sax.models.unitary(1, 1),\n",
    "    },\n",
    ")\n",
    "mzi()"
   ]
  },
  {
   "cell_type": "markdown",
   "id": "18",
   "metadata": {},
   "source": [
    "A copier model is like a unitary model, but copies the input signal over all output signals. Hence, if the model has multiple output ports, this model can be considered to introduce gain. That said, it can sometimes be a useful component."
   ]
  },
  {
   "cell_type": "code",
   "execution_count": null,
   "id": "19",
   "metadata": {},
   "outputs": [],
   "source": [
    "copier_model = sax.models.copier(2, 2)\n",
    "copier_model()  # a copier model returns an SCoo by default"
   ]
  },
  {
   "cell_type": "markdown",
   "id": "20",
   "metadata": {},
   "source": [
    "As you probably already know, it's very easy to convert a model returning any `Stype` into a model returning an `SDict` as follows:"
   ]
  },
  {
   "cell_type": "code",
   "execution_count": null,
   "id": "21",
   "metadata": {},
   "outputs": [],
   "source": [
    "copier_sdict_model = sax.sdict(copier_model)\n",
    "copier_sdict_model()"
   ]
  },
  {
   "cell_type": "code",
   "execution_count": null,
   "id": "24",
   "metadata": {},
   "outputs": [],
   "source": [
    "ports_in = [\"in0\"]\n",
    "ports_out = [\"out0\", \"out1\", \"out2\", \"out3\", \"out4\"]\n",
    "model = sax.models.unitary(1, 5, reciprocal=True)\n",
    "model = sax.sdict(model)\n",
    "model()"
   ]
  },
  {
   "cell_type": "markdown",
   "id": "25",
   "metadata": {},
   "source": [
    "Because this is a pretty common usecase we have a dedicated model factory for this as well. This passthru component just takes the number of links (`'in{i}' -> 'out{i]'`) as input. Alternatively, as before, one can also specify the port names directly but one needs to ensure that `len(ports) == 2*num_links`."
   ]
  },
  {
   "cell_type": "code",
   "execution_count": null,
   "id": "26",
   "metadata": {},
   "outputs": [],
   "source": [
    "passthru_model = sax.models.passthru(3)\n",
    "passthru_sdict_model = sax.sdict(passthru_model)\n",
    "passthru_sdict_model()"
   ]
  }
 ],
 "metadata": {
  "kernelspec": {
   "display_name": "sax",
   "language": "python",
   "name": "sax"
  },
  "language_info": {
   "codemirror_mode": {
    "name": "ipython",
    "version": 3
   },
   "file_extension": ".py",
   "mimetype": "text/x-python",
   "name": "python",
   "nbconvert_exporter": "python",
   "pygments_lexer": "ipython3"
  },
  "papermill": {
   "default_parameters": {},
   "duration": 11.308972,
   "end_time": "2025-06-20T14:03:33.060253",
   "environment_variables": {},
   "exception": null,
   "input_path": "nbs/internals/01_models.ipynb",
   "output_path": "nbs/internals/01_models.ipynb",
   "parameters": {},
   "start_time": "2025-06-20T14:03:21.751281",
   "version": "2.6.0"
  }
 },
 "nbformat": 4,
 "nbformat_minor": 5
}
