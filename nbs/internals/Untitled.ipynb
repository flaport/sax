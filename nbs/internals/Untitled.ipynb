{
 "cells": [
  {
   "cell_type": "code",
   "execution_count": null,
   "id": "8cbcfed5-1fc0-4334-9825-65c691ad2900",
   "metadata": {},
   "outputs": [],
   "source": [
    "from sax.models.ports import PortNamer"
   ]
  },
  {
   "cell_type": "code",
   "execution_count": null,
   "id": "e3c1a4af-275b-49c6-bc7d-29ceb71024be",
   "metadata": {},
   "outputs": [],
   "source": [
    "p = PortNamer(2, 2)"
   ]
  },
  {
   "cell_type": "code",
   "execution_count": null,
   "id": "46de2912-7c13-4bad-af15-e972a33c25fa",
   "metadata": {},
   "outputs": [],
   "source": [
    "p.o4"
   ]
  },
  {
   "cell_type": "code",
   "execution_count": null,
   "id": "ad3808ed-1972-454e-866a-e41c83cd49ca",
   "metadata": {},
   "outputs": [],
   "source": [
    "p[3]"
   ]
  }
 ],
 "metadata": {
  "kernelspec": {
   "display_name": "sax",
   "language": "python",
   "name": "sax"
  },
  "language_info": {
   "codemirror_mode": {
    "name": "ipython",
    "version": 3
   },
   "file_extension": ".py",
   "mimetype": "text/x-python",
   "name": "python",
   "nbconvert_exporter": "python",
   "pygments_lexer": "ipython3"
  }
 },
 "nbformat": 4,
 "nbformat_minor": 5
}
