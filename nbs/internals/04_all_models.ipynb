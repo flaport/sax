{
 "cells": [
  {
   "cell_type": "code",
   "execution_count": null,
   "id": "386e2c64-26b9-4d80-9c7e-e9527484a03c",
   "metadata": {},
   "outputs": [],
   "source": [
    "import sax"
   ]
  },
  {
   "cell_type": "code",
   "execution_count": null,
   "id": "4426f6c2-5393-40ac-9552-7576bf0b1304",
   "metadata": {},
   "outputs": [],
   "source": [
    "print(sax.models.__all__)"
   ]
  },
  {
   "cell_type": "code",
   "execution_count": null,
   "id": "8bddd264-e4cb-463e-ada6-262adcbdcc31",
   "metadata": {},
   "outputs": [],
   "source": [
    "sax.models.attenuator(loss=1.0)"
   ]
  },
  {
   "cell_type": "code",
   "execution_count": null,
   "id": "0aa476bc-d75c-4f85-a0ca-7f20a79fe8cd",
   "metadata": {},
   "outputs": [],
   "source": [
    "sax.models.bend()"
   ]
  },
  {
   "cell_type": "code",
   "execution_count": null,
   "id": "97aeca44-87ef-435a-b317-fde981b7c032",
   "metadata": {},
   "outputs": [],
   "source": [
    "sax.sdict(sax.models.copier(ports=(\"in0\", \"out0\", \"in1\", \"out1\"))())"
   ]
  },
  {
   "cell_type": "code",
   "execution_count": null,
   "id": "f833f7ca-17ee-4e7d-ac46-b9cd417be993",
   "metadata": {},
   "outputs": [],
   "source": [
    "sax.models.coupler()"
   ]
  },
  {
   "cell_type": "code",
   "execution_count": null,
   "id": "ac32c165-b8cd-4bb9-9629-2617baf179fb",
   "metadata": {},
   "outputs": [],
   "source": [
    "sax.models.coupler_ideal()"
   ]
  },
  {
   "cell_type": "code",
   "execution_count": null,
   "id": "c1fcda51-34c6-448b-8bb2-2c5e1f1fa05d",
   "metadata": {},
   "outputs": [],
   "source": [
    "sax.models.crossing_ideal()"
   ]
  },
  {
   "cell_type": "code",
   "execution_count": null,
   "id": "6159896d-1f9f-4b63-b50a-58a999555126",
   "metadata": {},
   "outputs": [],
   "source": [
    "sax.models.grating_coupler()"
   ]
  },
  {
   "cell_type": "code",
   "execution_count": null,
   "id": "718a1ec0-bfca-4b65-a18a-a653e46a2a0a",
   "metadata": {},
   "outputs": [],
   "source": [
    "sax.models.mmi1x2()"
   ]
  },
  {
   "cell_type": "code",
   "execution_count": null,
   "id": "567fd1bf-a128-4df0-ac21-645c0cb1fff4",
   "metadata": {},
   "outputs": [],
   "source": [
    "sax.models.mmi1x2_ideal()"
   ]
  },
  {
   "cell_type": "code",
   "execution_count": null,
   "id": "24f9af7f-687a-450b-becf-294062a4c8dd",
   "metadata": {},
   "outputs": [],
   "source": [
    "sax.models.mmi2x2()"
   ]
  },
  {
   "cell_type": "code",
   "execution_count": null,
   "id": "ef8772da-a1b1-438e-b915-b5684f99e838",
   "metadata": {},
   "outputs": [],
   "source": [
    "sax.models.mmi2x2_ideal()"
   ]
  },
  {
   "cell_type": "code",
   "execution_count": null,
   "id": "1712c46e-d780-4171-9db9-fc2b9ec76af6",
   "metadata": {},
   "outputs": [],
   "source": [
    "sax.models.model_2port(\"o1\", \"o2\")()"
   ]
  },
  {
   "cell_type": "code",
   "execution_count": null,
   "id": "73d35f49-3f96-460a-877b-89691dd2127c",
   "metadata": {},
   "outputs": [],
   "source": [
    "sax.models.model_3port(\"o1\", \"o2\", \"o3\")()"
   ]
  },
  {
   "cell_type": "code",
   "execution_count": null,
   "id": "feee920e-27ab-4b71-8c03-9eb4a55ff151",
   "metadata": {},
   "outputs": [],
   "source": [
    "sax.models.model_4port(\"o1\", \"o2\", \"o3\", \"o4\")()"
   ]
  },
  {
   "cell_type": "code",
   "execution_count": null,
   "id": "247f5dec-3c2b-453f-a55c-85a4bba7927e",
   "metadata": {},
   "outputs": [],
   "source": [
    "sax.sdict(sax.models.passthru(2)())"
   ]
  },
  {
   "cell_type": "code",
   "execution_count": null,
   "id": "ea518a92-7e27-4c84-b62a-3cdd4e9aa12c",
   "metadata": {},
   "outputs": [],
   "source": [
    "sax.models.phase_shifter()"
   ]
  },
  {
   "cell_type": "code",
   "execution_count": null,
   "id": "5873d86e-87ff-4f11-ab06-4da45602d25a",
   "metadata": {},
   "outputs": [],
   "source": [
    "sax.models.splitter_ideal()"
   ]
  },
  {
   "cell_type": "code",
   "execution_count": null,
   "id": "d1b5ad1c-5cd3-46ff-a708-3b7bac491650",
   "metadata": {},
   "outputs": [],
   "source": [
    "sax.models.straight()"
   ]
  },
  {
   "cell_type": "code",
   "execution_count": null,
   "id": "366f7109-9831-4892-9d40-c529ad1fbfe6",
   "metadata": {},
   "outputs": [],
   "source": [
    "sax.sdict(sax.models.unitary(4, 4)())"
   ]
  }
 ],
 "metadata": {
  "kernelspec": {
   "display_name": "sax",
   "language": "python",
   "name": "sax"
  },
  "language_info": {
   "codemirror_mode": {
    "name": "ipython",
    "version": 3
   },
   "file_extension": ".py",
   "mimetype": "text/x-python",
   "name": "python",
   "nbconvert_exporter": "python",
   "pygments_lexer": "ipython3"
  }
 },
 "nbformat": 4,
 "nbformat_minor": 5
}
