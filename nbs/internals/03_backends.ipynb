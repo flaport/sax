{
 "cells": [
  {
   "cell_type": "markdown",
   "id": "0",
   "metadata": {
    "papermill": {
     "duration": 0.010003,
     "end_time": "2025-06-12T12:18:45.140283",
     "exception": false,
     "start_time": "2025-06-12T12:18:45.130280",
     "status": "completed"
    },
    "tags": []
   },
   "source": [
    "# Backends\n",
    "\n",
    "> SAX Backends"
   ]
  },
  {
   "cell_type": "code",
   "execution_count": null,
   "id": "1",
   "metadata": {
    "papermill": {
     "duration": 2.059771,
     "end_time": "2025-06-12T12:18:47.210309",
     "exception": false,
     "start_time": "2025-06-12T12:18:45.150538",
     "status": "completed"
    },
    "tags": []
   },
   "outputs": [],
   "source": [
    "import jax\n",
    "import jax.numpy as jnp\n",
    "import klujax\n",
    "import networkx as nx\n",
    "\n",
    "import sax"
   ]
  },
  {
   "cell_type": "markdown",
   "id": "2",
   "metadata": {
    "papermill": {
     "duration": 0.006363,
     "end_time": "2025-06-12T12:18:47.224737",
     "exception": false,
     "start_time": "2025-06-12T12:18:47.218374",
     "status": "completed"
    },
    "tags": []
   },
   "source": [
    "## Introduction"
   ]
  },
  {
   "cell_type": "markdown",
   "id": "3",
   "metadata": {
    "papermill": {
     "duration": 0.006189,
     "end_time": "2025-06-12T12:18:47.240067",
     "exception": false,
     "start_time": "2025-06-12T12:18:47.233878",
     "status": "completed"
    },
    "tags": []
   },
   "source": [
    "SAX allows to easily interchange the backend of a circuit. A SAX backend consists of two static analysis steps and an evaluation step:\n",
    "\n",
    "* sax.backends.analyze_instances\n",
    "* sax.backends.analyze_circuit\n",
    "* sax.backends.evaluate_circuit"
   ]
  },
  {
   "cell_type": "markdown",
   "id": "4",
   "metadata": {
    "papermill": {
     "duration": 0.009244,
     "end_time": "2025-06-12T12:18:47.259643",
     "exception": false,
     "start_time": "2025-06-12T12:18:47.250399",
     "status": "completed"
    },
    "tags": []
   },
   "source": [
    "The `analyze_instances` step analyzes the 'shape' of the instances by running each model with default parameters. By shape we mean which port-combinations are present in the sparse S-matrix.\n",
    "\n",
    "> QUESTION: can we do this more efficiently in a functional way?\n",
    "\n",
    "After analyzing the instances, it is assumed that the shape of the instance won't change any more. **It is therefore important that you write your model functions in such a way that the port combinations present in your s-matrix *never* changes!**\n",
    "\n",
    "> NOTE: we used to do this analysis step in `analyze_circuit` by just looking at the connections present. However, this inherently assumed dense connectivity within the model. This is pretty inefficient for large sparse models with many ports. Ideally, however, we should be able to analyze the shape of our instances without running their models with default parameters..."
   ]
  },
  {
   "cell_type": "markdown",
   "id": "5",
   "metadata": {
    "papermill": {
     "duration": 0.005975,
     "end_time": "2025-06-12T12:18:47.273274",
     "exception": false,
     "start_time": "2025-06-12T12:18:47.267299",
     "status": "completed"
    },
    "tags": []
   },
   "source": [
    "The `analyze_circuit` step should statically analyze the connections and ports and should return an `analyzed` object. This object contains all the static objects that are needed for circuit computation but won't be recalculated when any parameters of the circuit change. See KLU Backend (below) for a non-trivial implementation of the circuit analyzation.\n",
    "\n",
    "The `evaluate_circuit` step evaluates the circuit for given `SType` instances, given whatever analysis object was returned from the `analyze_circuit` step and the instance `SType`s."
   ]
  },
  {
   "cell_type": "markdown",
   "id": "6",
   "metadata": {
    "papermill": {
     "duration": 0.00483,
     "end_time": "2025-06-12T12:18:47.282840",
     "exception": false,
     "start_time": "2025-06-12T12:18:47.278010",
     "status": "completed"
    },
    "tags": []
   },
   "source": [
    "## Example"
   ]
  },
  {
   "cell_type": "code",
   "execution_count": null,
   "id": "7",
   "metadata": {
    "papermill": {
     "duration": 1.818062,
     "end_time": "2025-06-12T12:18:49.108493",
     "exception": false,
     "start_time": "2025-06-12T12:18:47.290431",
     "status": "completed"
    },
    "tags": []
   },
   "outputs": [],
   "source": [
    "wg_sdict: sax.SDict = {\n",
    "    (\"in0\", \"out0\"): 0.5 + 0.86603j,\n",
    "    (\"out0\", \"in0\"): 0.5 + 0.86603j,\n",
    "}\n",
    "\n",
    "τ, κ = 0.5**0.5, 1j * 0.5**0.5\n",
    "dc_sdense: sax.SDense = (\n",
    "    jnp.array([[0, 0, τ, κ], [0, 0, κ, τ], [τ, κ, 0, 0], [κ, τ, 0, 0]]),\n",
    "    {\"in0\": 0, \"in1\": 1, \"out0\": 2, \"out1\": 3},\n",
    ")\n",
    "\n",
    "instances = {\n",
    "    \"dc1\": {\"component\": \"dc\"},\n",
    "    \"wg\": {\"component\": \"wg\"},\n",
    "    \"dc2\": {\"component\": \"dc\"},\n",
    "}\n",
    "connections = {\n",
    "    \"dc1,out0\": \"wg,in0\",\n",
    "    \"wg,out0\": \"dc2,in0\",\n",
    "    \"dc1,out1\": \"dc2,in1\",\n",
    "}\n",
    "ports = {\n",
    "    \"in0\": \"dc1,in0\",\n",
    "    \"in1\": \"dc1,in1\",\n",
    "    \"out0\": \"dc2,out0\",\n",
    "    \"out1\": \"dc2,out1\",\n",
    "}\n",
    "models = {\n",
    "    \"wg\": lambda: wg_sdict,\n",
    "    \"dc\": lambda: dc_sdense,\n",
    "}\n",
    "\n",
    "analyzed_instances = sax.backends.analyze_instances(instances, models)\n",
    "analyzed_circuit = sax.backends.analyze_circuit(analyzed_instances, connections, ports)\n",
    "mzi_sdict = sax.sdict(\n",
    "    sax.backends.evaluate_circuit(\n",
    "        analyzed_circuit, {k: models[v[\"component\"]]() for k, v in instances.items()}\n",
    "    )\n",
    ")\n",
    "mzi_sdict"
   ]
  },
  {
   "cell_type": "markdown",
   "id": "8",
   "metadata": {
    "papermill": {
     "duration": 0.004726,
     "end_time": "2025-06-12T12:18:49.122249",
     "exception": false,
     "start_time": "2025-06-12T12:18:49.117523",
     "status": "completed"
    },
    "tags": []
   },
   "source": [
    "## Filipsson-Gunnar Backend"
   ]
  },
  {
   "cell_type": "markdown",
   "id": "9",
   "metadata": {
    "papermill": {
     "duration": 0.004811,
     "end_time": "2025-06-12T12:18:49.133721",
     "exception": false,
     "start_time": "2025-06-12T12:18:49.128910",
     "status": "completed"
    },
    "tags": []
   },
   "source": [
    "> NOTE: Since The KLU Backend (see below) is Superior to the Filipsson-Gunnar backend, SAX will default (since v0.10.0) to the KLU backend if `klujax` is installed.name1"
   ]
  },
  {
   "cell_type": "markdown",
   "id": "10",
   "metadata": {
    "papermill": {
     "duration": 0.004816,
     "end_time": "2025-06-12T12:18:49.144366",
     "exception": false,
     "start_time": "2025-06-12T12:18:49.139550",
     "status": "completed"
    },
    "tags": []
   },
   "source": [
    "The Filipsson-Gunnar backend is based on the following paper:\n",
    "\n",
    "> Filipsson, Gunnar. \"*A new general computer algorithm for S-matrix calculation of interconnected multiports.*\" 11th European Microwave Conference. IEEE, 1981.\n",
    "\n"
   ]
  },
  {
   "cell_type": "markdown",
   "id": "11",
   "metadata": {
    "papermill": {
     "duration": 0.004669,
     "end_time": "2025-06-12T12:18:49.156302",
     "exception": false,
     "start_time": "2025-06-12T12:18:49.151633",
     "status": "completed"
    },
    "tags": []
   },
   "source": [
    "### Algorithm Walkthrough"
   ]
  },
  {
   "cell_type": "markdown",
   "id": "12",
   "metadata": {
    "papermill": {
     "duration": 0.004695,
     "end_time": "2025-06-12T12:18:49.166485",
     "exception": false,
     "start_time": "2025-06-12T12:18:49.161790",
     "status": "completed"
    },
    "tags": []
   },
   "source": [
    "> NOTE:  This algorithm gets pretty slow for large circuits. Since SAX v0.10.0 we will default to the superior KLU backend as the KLU backend is now also jittable."
   ]
  },
  {
   "cell_type": "markdown",
   "id": "13",
   "metadata": {
    "papermill": {
     "duration": 0.008366,
     "end_time": "2025-06-12T12:18:49.211820",
     "exception": false,
     "start_time": "2025-06-12T12:18:49.203454",
     "status": "completed"
    },
    "tags": []
   },
   "source": [
    "Let's walk through all the steps of this algorithm. We'll do this for a simple MZI circuit, given by two directional couplers characterised by `dc_sdense` with a phase shifting waveguide in between `wg_sdict`:"
   ]
  },
  {
   "cell_type": "code",
   "execution_count": null,
   "id": "14",
   "metadata": {
    "papermill": {
     "duration": 0.01857,
     "end_time": "2025-06-12T12:18:49.238158",
     "exception": false,
     "start_time": "2025-06-12T12:18:49.219588",
     "status": "completed"
    },
    "tags": []
   },
   "outputs": [],
   "source": [
    "instances = {\n",
    "    \"dc1\": dc_sdense,\n",
    "    \"wg\": wg_sdict,\n",
    "    \"dc2\": dc_sdense,\n",
    "}\n",
    "connections = {\n",
    "    \"dc1,out0\": \"wg,in0\",\n",
    "    \"wg,out0\": \"dc2,in0\",\n",
    "    \"dc1,out1\": \"dc2,in1\",\n",
    "}\n",
    "ports = {\n",
    "    \"in0\": \"dc1,in0\",\n",
    "    \"in1\": \"dc1,in1\",\n",
    "    \"out0\": \"dc2,out0\",\n",
    "    \"out1\": \"dc2,out1\",\n",
    "}"
   ]
  },
  {
   "cell_type": "markdown",
   "id": "15",
   "metadata": {
    "papermill": {
     "duration": 0.010382,
     "end_time": "2025-06-12T12:18:49.258208",
     "exception": false,
     "start_time": "2025-06-12T12:18:49.247826",
     "status": "completed"
    },
    "tags": []
   },
   "source": [
    "as a first step, we construct the `reversed_ports`, it's actually easier to work with `reversed_ports` (we chose the opposite convention in the netlist definition to adhere to the GDSFactory netlist convention):"
   ]
  },
  {
   "cell_type": "code",
   "execution_count": null,
   "id": "16",
   "metadata": {
    "papermill": {
     "duration": 0.024347,
     "end_time": "2025-06-12T12:18:49.294756",
     "exception": false,
     "start_time": "2025-06-12T12:18:49.270409",
     "status": "completed"
    },
    "tags": []
   },
   "outputs": [],
   "source": [
    "reversed_ports = {v: k for k, v in ports.items()}"
   ]
  },
  {
   "cell_type": "markdown",
   "id": "17",
   "metadata": {
    "papermill": {
     "duration": 0.004902,
     "end_time": "2025-06-12T12:18:49.308062",
     "exception": false,
     "start_time": "2025-06-12T12:18:49.303160",
     "status": "completed"
    },
    "tags": []
   },
   "source": [
    "The first real step of the algorithm is to create the 'block diagonal sdict`:"
   ]
  },
  {
   "cell_type": "code",
   "execution_count": null,
   "id": "18",
   "metadata": {
    "papermill": {
     "duration": 0.031705,
     "end_time": "2025-06-12T12:18:49.351496",
     "exception": false,
     "start_time": "2025-06-12T12:18:49.319791",
     "status": "completed"
    },
    "tags": []
   },
   "outputs": [],
   "source": [
    "block_diag = {}\n",
    "for name, S in instances.items():\n",
    "    block_diag.update(\n",
    "        {(f\"{name},{p1}\", f\"{name},{p2}\"): v for (p1, p2), v in sax.sdict(S).items()}\n",
    "    )"
   ]
  },
  {
   "cell_type": "markdown",
   "id": "19",
   "metadata": {
    "papermill": {
     "duration": 0.01051,
     "end_time": "2025-06-12T12:18:49.374604",
     "exception": false,
     "start_time": "2025-06-12T12:18:49.364094",
     "status": "completed"
    },
    "tags": []
   },
   "source": [
    "we can optionally filter out zeros from the resulting block_diag representation. Just note that this will make the resuling function unjittable (the resulting 'shape' (i.e. keys) of the dictionary would depend on the data itself, which is not allowed in JAX jit). We're doing it here to avoid printing zeros but **internally this is not done by default**."
   ]
  },
  {
   "cell_type": "code",
   "execution_count": null,
   "id": "20",
   "metadata": {
    "papermill": {
     "duration": 0.118695,
     "end_time": "2025-06-12T12:18:49.503311",
     "exception": false,
     "start_time": "2025-06-12T12:18:49.384616",
     "status": "completed"
    },
    "tags": []
   },
   "outputs": [],
   "source": [
    "block_diag = {k: v for k, v in block_diag.items() if jnp.abs(v) > 1e-10}\n",
    "block_diag"
   ]
  },
  {
   "cell_type": "markdown",
   "id": "21",
   "metadata": {
    "papermill": {
     "duration": 0.010179,
     "end_time": "2025-06-12T12:18:49.520675",
     "exception": false,
     "start_time": "2025-06-12T12:18:49.510496",
     "status": "completed"
    },
    "tags": []
   },
   "source": [
    "next, we sort the connections such that similar components are grouped together:"
   ]
  },
  {
   "cell_type": "code",
   "execution_count": null,
   "id": "22",
   "metadata": {
    "papermill": {
     "duration": 0.023989,
     "end_time": "2025-06-12T12:18:49.558451",
     "exception": false,
     "start_time": "2025-06-12T12:18:49.534462",
     "status": "completed"
    },
    "tags": []
   },
   "outputs": [],
   "source": [
    "from sax.backends.filipsson_gunnar import _connections_sort_key\n",
    "\n",
    "sorted_connections = sorted(connections.items(), key=_connections_sort_key)\n",
    "sorted_connections"
   ]
  },
  {
   "cell_type": "markdown",
   "id": "23",
   "metadata": {
    "papermill": {
     "duration": 0.007773,
     "end_time": "2025-06-12T12:18:49.572670",
     "exception": false,
     "start_time": "2025-06-12T12:18:49.564897",
     "status": "completed"
    },
    "tags": []
   },
   "source": [
    "Now we iterate over the sorted connections and connect components as they come in. Connected components take over the name of the first component in the connection, but we keep a set of components belonging to that key in `all_connected_instances`.\n",
    "\n",
    "This is how this `all_connected_instances` dictionary looks initially."
   ]
  },
  {
   "cell_type": "code",
   "execution_count": null,
   "id": "24",
   "metadata": {
    "papermill": {
     "duration": 0.022564,
     "end_time": "2025-06-12T12:18:49.605587",
     "exception": false,
     "start_time": "2025-06-12T12:18:49.583023",
     "status": "completed"
    },
    "tags": []
   },
   "outputs": [],
   "source": [
    "all_connected_instances = {k: {k} for k in instances}\n",
    "all_connected_instances"
   ]
  },
  {
   "cell_type": "markdown",
   "id": "25",
   "metadata": {
    "papermill": {
     "duration": 0.005259,
     "end_time": "2025-06-12T12:18:49.622430",
     "exception": false,
     "start_time": "2025-06-12T12:18:49.617171",
     "status": "completed"
    },
    "tags": []
   },
   "source": [
    "Normally we would loop over every connection in `sorted_connections` now, but let's just go through it once at first:"
   ]
  },
  {
   "cell_type": "code",
   "execution_count": null,
   "id": "26",
   "metadata": {
    "papermill": {
     "duration": 0.024937,
     "end_time": "2025-06-12T12:18:49.660369",
     "exception": false,
     "start_time": "2025-06-12T12:18:49.635432",
     "status": "completed"
    },
    "tags": []
   },
   "outputs": [],
   "source": [
    "# for k, l in sorted_connections:\n",
    "k, l = sorted_connections[0]\n",
    "k, l"
   ]
  },
  {
   "cell_type": "markdown",
   "id": "27",
   "metadata": {
    "papermill": {
     "duration": 0.014444,
     "end_time": "2025-06-12T12:18:49.685116",
     "exception": false,
     "start_time": "2025-06-12T12:18:49.670672",
     "status": "completed"
    },
    "tags": []
   },
   "source": [
    "`k` and `l` are the S-matrix indices we're trying to connect. Note that in our sparse `SDict` notation these S-matrix indices are in fact equivalent with the port names `('dc1,out1', 'dc2,in1')`!"
   ]
  },
  {
   "cell_type": "markdown",
   "id": "28",
   "metadata": {
    "papermill": {
     "duration": 0.005516,
     "end_time": "2025-06-12T12:18:49.696195",
     "exception": false,
     "start_time": "2025-06-12T12:18:49.690679",
     "status": "completed"
    },
    "tags": []
   },
   "source": [
    "first we split the connection string into an instance name and a port name (we don't use the port name yet):"
   ]
  },
  {
   "cell_type": "code",
   "execution_count": null,
   "id": "29",
   "metadata": {
    "papermill": {
     "duration": 0.017865,
     "end_time": "2025-06-12T12:18:49.726627",
     "exception": false,
     "start_time": "2025-06-12T12:18:49.708762",
     "status": "completed"
    },
    "tags": []
   },
   "outputs": [],
   "source": [
    "name1, _ = k.split(\",\")\n",
    "name2, _ = l.split(\",\")"
   ]
  },
  {
   "cell_type": "markdown",
   "id": "30",
   "metadata": {
    "papermill": {
     "duration": 0.021164,
     "end_time": "2025-06-12T12:18:49.758237",
     "exception": false,
     "start_time": "2025-06-12T12:18:49.737073",
     "status": "completed"
    },
    "tags": []
   },
   "source": [
    "We then obtain the new set of connected instances."
   ]
  },
  {
   "cell_type": "code",
   "execution_count": null,
   "id": "31",
   "metadata": {
    "papermill": {
     "duration": 0.013604,
     "end_time": "2025-06-12T12:18:49.777446",
     "exception": false,
     "start_time": "2025-06-12T12:18:49.763842",
     "status": "completed"
    },
    "tags": []
   },
   "outputs": [],
   "source": [
    "connected_instances = all_connected_instances[name1] | all_connected_instances[name2]\n",
    "connected_instances"
   ]
  },
  {
   "cell_type": "markdown",
   "id": "32",
   "metadata": {
    "papermill": {
     "duration": 0.005661,
     "end_time": "2025-06-12T12:18:49.788796",
     "exception": false,
     "start_time": "2025-06-12T12:18:49.783135",
     "status": "completed"
    },
    "tags": []
   },
   "source": [
    "We then iterate over each of the components in this set and make sure each of the component names in that set maps to that set (yes, I know... confusing). We do this to be able to keep track with which components each of the components in the circuit is currently already connected to."
   ]
  },
  {
   "cell_type": "code",
   "execution_count": null,
   "id": "33",
   "metadata": {
    "papermill": {
     "duration": 0.012251,
     "end_time": "2025-06-12T12:18:49.807556",
     "exception": false,
     "start_time": "2025-06-12T12:18:49.795305",
     "status": "completed"
    },
    "tags": []
   },
   "outputs": [],
   "source": [
    "for name in connected_instances:\n",
    "    all_connected_instances[name] = connected_instances\n",
    "\n",
    "all_connected_instances"
   ]
  },
  {
   "cell_type": "markdown",
   "id": "34",
   "metadata": {
    "papermill": {
     "duration": 0.006161,
     "end_time": "2025-06-12T12:18:49.820592",
     "exception": false,
     "start_time": "2025-06-12T12:18:49.814431",
     "status": "completed"
    },
    "tags": []
   },
   "source": [
    "now we need to obtain all the ports of the currently connected instances."
   ]
  },
  {
   "cell_type": "code",
   "execution_count": null,
   "id": "35",
   "metadata": {
    "papermill": {
     "duration": 0.015635,
     "end_time": "2025-06-12T12:18:49.842364",
     "exception": false,
     "start_time": "2025-06-12T12:18:49.826729",
     "status": "completed"
    },
    "tags": []
   },
   "outputs": [],
   "source": [
    "current_ports = tuple(\n",
    "    p\n",
    "    for instance in connected_instances\n",
    "    for p in set([p for p, _ in block_diag] + [p for _, p in block_diag])\n",
    "    if p.startswith(f\"{instance},\")\n",
    ")\n",
    "\n",
    "current_ports"
   ]
  },
  {
   "cell_type": "markdown",
   "id": "36",
   "metadata": {
    "papermill": {
     "duration": 0.008819,
     "end_time": "2025-06-12T12:18:49.859024",
     "exception": false,
     "start_time": "2025-06-12T12:18:49.850205",
     "status": "completed"
    },
    "tags": []
   },
   "source": [
    "Now the Gunnar Algorithm is used. Given a (block-diagonal) 'S-matrix' `block_diag` and a 'connection matrix' `current_ports` we can interconnect port `k` and `l` as follows:\n",
    "\n",
    "> Note: some creative freedom is used here. In SAX, the matrices we're talking about are in fact represented by a sparse dictionary (an `SDict`), i.e. similar to a COO sparse matrix for which the indices are the port names."
   ]
  },
  {
   "cell_type": "markdown",
   "id": "37",
   "metadata": {
    "papermill": {
     "duration": 0.010203,
     "end_time": "2025-06-12T12:18:49.877598",
     "exception": false,
     "start_time": "2025-06-12T12:18:49.867395",
     "status": "completed"
    },
    "tags": []
   },
   "source": [
    "Just as before, we're filtering the zeros from the sparse representation (remember, internally this is **not done by default**)."
   ]
  },
  {
   "cell_type": "code",
   "execution_count": null,
   "id": "38",
   "metadata": {
    "papermill": {
     "duration": 0.036611,
     "end_time": "2025-06-12T12:18:49.922159",
     "exception": false,
     "start_time": "2025-06-12T12:18:49.885548",
     "status": "completed"
    },
    "tags": []
   },
   "outputs": [],
   "source": [
    "block_diag = {k: v for k, v in block_diag.items() if jnp.abs(v) > 1e-10}\n",
    "block_diag"
   ]
  },
  {
   "cell_type": "markdown",
   "id": "39",
   "metadata": {
    "papermill": {
     "duration": 0.009379,
     "end_time": "2025-06-12T12:18:49.944372",
     "exception": false,
     "start_time": "2025-06-12T12:18:49.934993",
     "status": "completed"
    },
    "tags": []
   },
   "source": [
    "This is the resulting block-diagonal matrix after interconnecting two ports (i.e. basically saying that those two ports are the same port). Because these ports are now connected we should actually remove them from the S-matrix representation (they are integrated into the S-parameters of the other connections):"
   ]
  },
  {
   "cell_type": "code",
   "execution_count": null,
   "id": "40",
   "metadata": {
    "papermill": {
     "duration": 0.033596,
     "end_time": "2025-06-12T12:18:49.985598",
     "exception": false,
     "start_time": "2025-06-12T12:18:49.952002",
     "status": "completed"
    },
    "tags": []
   },
   "outputs": [],
   "source": [
    "for i, j in list(block_diag.keys()):\n",
    "    is_connected = j in (k, l) or i in (k, l)\n",
    "    is_in_output_ports = i in reversed_ports and j in reversed_ports\n",
    "    if is_connected and not is_in_output_ports:\n",
    "        del block_diag[i, j]  # we're no longer interested in these port combinations\n",
    "\n",
    "block_diag"
   ]
  },
  {
   "cell_type": "markdown",
   "id": "41",
   "metadata": {
    "papermill": {
     "duration": 0.005069,
     "end_time": "2025-06-12T12:18:50.015976",
     "exception": false,
     "start_time": "2025-06-12T12:18:50.010907",
     "status": "completed"
    },
    "tags": []
   },
   "source": [
    "Note that this deletion of values **does NOT** make this operation un-jittable. The deletion depends on the ports of the dictionary (i.e. on the dictionary 'shape'), not on the values."
   ]
  },
  {
   "cell_type": "markdown",
   "id": "42",
   "metadata": {
    "papermill": {
     "duration": 0.00518,
     "end_time": "2025-06-12T12:18:50.034716",
     "exception": false,
     "start_time": "2025-06-12T12:18:50.029536",
     "status": "completed"
    },
    "tags": []
   },
   "source": [
    "We now basically have to do those steps again for all other connections:"
   ]
  },
  {
   "cell_type": "code",
   "execution_count": null,
   "id": "43",
   "metadata": {
    "papermill": {
     "duration": 0.933894,
     "end_time": "2025-06-12T12:18:50.974702",
     "exception": false,
     "start_time": "2025-06-12T12:18:50.040808",
     "status": "completed"
    },
    "tags": []
   },
   "outputs": [],
   "source": [
    "from sax.backends.filipsson_gunnar import _interconnect_ports\n",
    "\n",
    "# for k, l in sorted_connections:\n",
    "for k, l in sorted_connections[\n",
    "    1:\n",
    "]:  # we just did the first iteration of this loop above...\n",
    "    name1, _ = k.split(\",\")\n",
    "    name2, _ = l.split(\",\")\n",
    "    connected_instances = (\n",
    "        all_connected_instances[name1] | all_connected_instances[name2]\n",
    "    )\n",
    "    for name in connected_instances:\n",
    "        all_connected_instances[name] = connected_instances\n",
    "    current_ports = tuple(\n",
    "        p\n",
    "        for instance in connected_instances\n",
    "        for p in set([p for p, _ in block_diag] + [p for _, p in block_diag])\n",
    "        if p.startswith(f\"{instance},\")\n",
    "    )\n",
    "    block_diag.update(_interconnect_ports(block_diag, current_ports, k, l))\n",
    "    for i, j in list(block_diag.keys()):\n",
    "        is_connected = j in (k, l) or i in (k, l)\n",
    "        is_in_output_ports = i in reversed_ports and j in reversed_ports\n",
    "        if is_connected and not is_in_output_ports:\n",
    "            del block_diag[\n",
    "                i, j\n",
    "            ]  # we're no longer interested in these port combinations"
   ]
  },
  {
   "cell_type": "markdown",
   "id": "44",
   "metadata": {
    "papermill": {
     "duration": 0.0051,
     "end_time": "2025-06-12T12:18:50.986878",
     "exception": false,
     "start_time": "2025-06-12T12:18:50.981778",
     "status": "completed"
    },
    "tags": []
   },
   "source": [
    "This is the final MZI matrix we're getting:"
   ]
  },
  {
   "cell_type": "code",
   "execution_count": null,
   "id": "45",
   "metadata": {
    "papermill": {
     "duration": 0.016548,
     "end_time": "2025-06-12T12:18:51.010779",
     "exception": false,
     "start_time": "2025-06-12T12:18:50.994231",
     "status": "completed"
    },
    "tags": []
   },
   "outputs": [],
   "source": [
    "block_diag"
   ]
  },
  {
   "cell_type": "markdown",
   "id": "46",
   "metadata": {
    "papermill": {
     "duration": 0.005301,
     "end_time": "2025-06-12T12:18:51.023557",
     "exception": false,
     "start_time": "2025-06-12T12:18:51.018256",
     "status": "completed"
    },
    "tags": []
   },
   "source": [
    "All that's left is to rename these internal ports of the format `{instance},{port}` into output ports of the resulting circuit:"
   ]
  },
  {
   "cell_type": "code",
   "execution_count": null,
   "id": "47",
   "metadata": {
    "papermill": {
     "duration": 0.016448,
     "end_time": "2025-06-12T12:18:51.046542",
     "exception": false,
     "start_time": "2025-06-12T12:18:51.030094",
     "status": "completed"
    },
    "tags": []
   },
   "outputs": [],
   "source": [
    "circuit_sdict: sax.SDict = {\n",
    "    (reversed_ports[i], reversed_ports[j]): v\n",
    "    for (i, j), v in block_diag.items()\n",
    "    if i in reversed_ports and j in reversed_ports\n",
    "}\n",
    "circuit_sdict"
   ]
  },
  {
   "cell_type": "markdown",
   "id": "48",
   "metadata": {
    "papermill": {
     "duration": 0.004993,
     "end_time": "2025-06-12T12:18:51.057730",
     "exception": false,
     "start_time": "2025-06-12T12:18:51.052737",
     "status": "completed"
    },
    "tags": []
   },
   "source": [
    "And that's it. We evaluated the `SDict` of the full circuit."
   ]
  },
  {
   "cell_type": "markdown",
   "id": "49",
   "metadata": {
    "papermill": {
     "duration": 0.005287,
     "end_time": "2025-06-12T12:18:51.073869",
     "exception": false,
     "start_time": "2025-06-12T12:18:51.068582",
     "status": "completed"
    },
    "tags": []
   },
   "source": [
    "### Algorithm Improvements"
   ]
  },
  {
   "cell_type": "markdown",
   "id": "50",
   "metadata": {
    "papermill": {
     "duration": 0.004927,
     "end_time": "2025-06-12T12:18:51.085258",
     "exception": false,
     "start_time": "2025-06-12T12:18:51.080331",
     "status": "completed"
    },
    "tags": []
   },
   "source": [
    "The Filipsson-Gunar algorithm is \n",
    "\n",
    "* pretty fast for small circuits 🙂\n",
    "* jittable 🙂\n",
    "* differentiable 🙂\n",
    "* GPU-compatible 🙂\n",
    "\n",
    "This algorithm is however:\n",
    "\n",
    "* **really slow** for large circuits 😥\n",
    "* **pretty slow** to jit the resulting circuit function 😥\n",
    "* **pretty slow** to differentiate the resulting circuit function 😥\n",
    "\n",
    "There are probably still plenty of improvements possible for this algorithm:\n",
    "\n",
    "* **¿** Network analysis (ft. NetworkX ?) to obtain which ports of the block diagonal representation are relevant to obtain the output connection **?**\n",
    "* **¿** Smarter ordering of connections to always have the minimum amount of ports in the intermediate block-diagonal representation **?**\n",
    "* **¿** Using `jax.lax.scan` in stead of python native for-loops in `_interconnect_ports` **?**\n",
    "* **¿** ... **?**\n",
    "\n",
    "Bottom line is... Do you know how to improve this algorithm or how to implement the above suggestions? Please open a Merge Request!"
   ]
  },
  {
   "cell_type": "markdown",
   "id": "51",
   "metadata": {
    "papermill": {
     "duration": 0.005211,
     "end_time": "2025-06-12T12:18:51.096045",
     "exception": false,
     "start_time": "2025-06-12T12:18:51.090834",
     "status": "completed"
    },
    "tags": []
   },
   "source": [
    "## KLU Backend\n",
    "\n",
    "The KLU backend is using `klujax`, which uses the [SuiteSparse](https://github.com/DrTimothyAldenDavis/SuiteSparse) C++ libraries for sparse matrix evaluations to evaluate the circuit insanely fast on a CPU. The specific algorith being used in question is the KLU algorithm:\n",
    "\n",
    "> Ekanathan Palamadai Natariajan. \"*KLU - A high performance sparse linear solver for circuit simulation problems.*\""
   ]
  },
  {
   "cell_type": "markdown",
   "id": "52",
   "metadata": {
    "papermill": {
     "duration": 0.009753,
     "end_time": "2025-06-12T12:18:51.119163",
     "exception": false,
     "start_time": "2025-06-12T12:18:51.109410",
     "status": "completed"
    },
    "tags": []
   },
   "source": [
    "### Theoretical Background"
   ]
  },
  {
   "cell_type": "markdown",
   "id": "53",
   "metadata": {
    "papermill": {
     "duration": 0.005121,
     "end_time": "2025-06-12T12:18:51.129886",
     "exception": false,
     "start_time": "2025-06-12T12:18:51.124765",
     "status": "completed"
    },
    "tags": []
   },
   "source": [
    "The core of the KLU algorithm is supported by `klujax`, which internally uses the Suitesparse libraries to solve the sparse system `Ax = b`, in which A is a sparse matrix."
   ]
  },
  {
   "cell_type": "markdown",
   "id": "54",
   "metadata": {
    "papermill": {
     "duration": 0.005078,
     "end_time": "2025-06-12T12:18:51.143686",
     "exception": false,
     "start_time": "2025-06-12T12:18:51.138608",
     "status": "completed"
    },
    "tags": []
   },
   "source": [
    "Now it only comes down to shoehorn our circuit evaluation into a sparse linear system of equations $Ax=b$ where we need to solve for $x$ using `klujax`. \n",
    "Consider the block diagonal matrix $S_{bd}$ of all components in the circuit acting on the fields $x_{in}$ at each of the individual ports of each of the component integrated in $S^{bd}$. The output fields $x^{out}$ at each of those ports is then given by:\n",
    "\n",
    "$$\n",
    "x^{out} = S_{bd} x^{in}\n",
    "$$"
   ]
  },
  {
   "cell_type": "markdown",
   "id": "55",
   "metadata": {
    "papermill": {
     "duration": 0.005358,
     "end_time": "2025-06-12T12:18:51.156654",
     "exception": false,
     "start_time": "2025-06-12T12:18:51.151296",
     "status": "completed"
    },
    "tags": []
   },
   "source": [
    "However, $S_{bd}$ is not the S-matrix of the circuit as it does not encode any connectivity *between* the components. Connecting two component ports basically comes down to enforcing equality between the output fields at one port of a component with the input fields at another port of another (or maybe even the same) component. This equality can be enforced by creating an internal connection matrix, connecting all internal ports of the circuit:\n",
    "\n",
    "$$\n",
    "x^{in} = C_{int} x^{out}\n",
    "$$"
   ]
  },
  {
   "cell_type": "markdown",
   "id": "56",
   "metadata": {
    "papermill": {
     "duration": 0.008206,
     "end_time": "2025-06-12T12:18:51.178446",
     "exception": false,
     "start_time": "2025-06-12T12:18:51.170240",
     "status": "completed"
    },
    "tags": []
   },
   "source": [
    "We can thus write the following combined equation:\n",
    "\n",
    "$$\n",
    "x^{in} = C_{int} S_{bd} x^{in}\n",
    "$$"
   ]
  },
  {
   "cell_type": "markdown",
   "id": "57",
   "metadata": {
    "papermill": {
     "duration": 0.009297,
     "end_time": "2025-06-12T12:18:51.202153",
     "exception": false,
     "start_time": "2025-06-12T12:18:51.192856",
     "status": "completed"
    },
    "tags": []
   },
   "source": [
    "But this is not the complete story... Some component ports will *not* be *interconnected* with other ports: they will become the new *external ports* (or output ports) of the combined circuit. We can include those external ports into the above equation as follows:\n",
    "\n",
    "$$\n",
    "\\begin{pmatrix} x^{in} \\\\ x^{out}_{ext} \\end{pmatrix} = \\begin{pmatrix} C_{int} & C_{ext} \\\\ C_{ext}^T & 0 \\end{pmatrix} \\begin{pmatrix} S_{bd} x^{in} \\\\ x_{ext}^{in} \\end{pmatrix} \n",
    "$$"
   ]
  },
  {
   "cell_type": "markdown",
   "id": "58",
   "metadata": {
    "papermill": {
     "duration": 0.005129,
     "end_time": "2025-06-12T12:18:51.215494",
     "exception": false,
     "start_time": "2025-06-12T12:18:51.210365",
     "status": "completed"
    },
    "tags": []
   },
   "source": [
    "Note that $C_{ext}$ is obviously **not** a square matrix. Eliminating $x^{in}$ from the equation above finally yields:\n",
    "\n",
    "$$\n",
    "x^{out}_{ext} = C^T_{ext} S_{bd} (I - C_{int}S_{bd})^{-1} C_{ext}x_{ext}^{in}\n",
    "$$"
   ]
  },
  {
   "cell_type": "markdown",
   "id": "59",
   "metadata": {
    "papermill": {
     "duration": 0.005139,
     "end_time": "2025-06-12T12:18:51.231582",
     "exception": false,
     "start_time": "2025-06-12T12:18:51.226443",
     "status": "completed"
    },
    "tags": []
   },
   "source": [
    "We basically found a representation of the circuit S-matrix:\n",
    "\n",
    "$$\n",
    "S = C^T_{ext} S_{bd} (I - C_{int}S_{bd})^{-1} C_{ext}\n",
    "$$"
   ]
  },
  {
   "cell_type": "markdown",
   "id": "60",
   "metadata": {
    "papermill": {
     "duration": 0.005417,
     "end_time": "2025-06-12T12:18:51.250623",
     "exception": false,
     "start_time": "2025-06-12T12:18:51.245206",
     "status": "completed"
    },
    "tags": []
   },
   "source": [
    "Obviously, we won't want to calculate the inverse $(I - C_{int}S_{bd})^{-1}$, which is the inverse of a very sparse matrix (a connection matrix only has a single 1 per line), which very often is not even sparse itself. In stead we'll use the `solve_klu` function:\n",
    "\n",
    "$$\n",
    "S = C^T_{ext} S_{bd} \\texttt{solve}\\_\\texttt{klu}\\left((I - C_{int}S_{bd}), C_{ext}\\right)\n",
    "$$"
   ]
  },
  {
   "cell_type": "markdown",
   "id": "61",
   "metadata": {
    "papermill": {
     "duration": 0.006856,
     "end_time": "2025-06-12T12:18:51.264222",
     "exception": false,
     "start_time": "2025-06-12T12:18:51.257366",
     "status": "completed"
    },
    "tags": []
   },
   "source": [
    "Moreover, $C_{ext}^TS_{bd}$ is also a sparse matrix, therefore we'll also need a `mul_coo` routine:\n",
    "\n",
    "$$\n",
    "S = C^T_{ext} \\texttt{mul}\\_\\texttt{coo}\\left(S_{bd},~~\\texttt{solve}\\_\\texttt{klu}\\left((I - C_{int}S_{bd}),~C_{ext}\\right)\\right)\n",
    "$$"
   ]
  },
  {
   "cell_type": "markdown",
   "id": "62",
   "metadata": {
    "papermill": {
     "duration": 0.010149,
     "end_time": "2025-06-12T12:18:51.287685",
     "exception": false,
     "start_time": "2025-06-12T12:18:51.277536",
     "status": "completed"
    },
    "tags": []
   },
   "source": [
    "### Sparse Helper Functions\n"
   ]
  },
  {
   "cell_type": "markdown",
   "id": "63",
   "metadata": {
    "papermill": {
     "duration": 0.005426,
     "end_time": "2025-06-12T12:18:51.300911",
     "exception": false,
     "start_time": "2025-06-12T12:18:51.295485",
     "status": "completed"
    },
    "tags": []
   },
   "source": [
    "`klujax.solve` solves the sparse system of equations `Ax=b` for `x`. Where `A` is represented by in [COO-format](https://en.wikipedia.org/wiki/Sparse_matrix#Coordinate_list_(COO)) as (`Ai`, `Aj`, `Ax`).\n",
    "\n",
    "> Example"
   ]
  },
  {
   "cell_type": "code",
   "execution_count": null,
   "id": "64",
   "metadata": {
    "papermill": {
     "duration": 0.0521,
     "end_time": "2025-06-12T12:18:51.372769",
     "exception": false,
     "start_time": "2025-06-12T12:18:51.320669",
     "status": "completed"
    },
    "tags": []
   },
   "outputs": [],
   "source": [
    "Ai = jnp.array([0, 1, 2, 3, 4])\n",
    "Aj = jnp.array([1, 3, 4, 0, 2])\n",
    "Ax = jnp.array([5, 6, 1, 1, 2])\n",
    "b = jnp.array([5, 3, 2, 6, 1])\n",
    "x = klujax.solve(Ai, Aj, Ax, b)\n",
    "x"
   ]
  },
  {
   "cell_type": "markdown",
   "id": "65",
   "metadata": {
    "papermill": {
     "duration": 0.005148,
     "end_time": "2025-06-12T12:18:51.384988",
     "exception": false,
     "start_time": "2025-06-12T12:18:51.379840",
     "status": "completed"
    },
    "tags": []
   },
   "source": [
    "This result is indeed correct:"
   ]
  },
  {
   "cell_type": "code",
   "execution_count": null,
   "id": "66",
   "metadata": {
    "papermill": {
     "duration": 0.221227,
     "end_time": "2025-06-12T12:18:51.617727",
     "exception": false,
     "start_time": "2025-06-12T12:18:51.396500",
     "status": "completed"
    },
    "tags": []
   },
   "outputs": [],
   "source": [
    "A = jnp.zeros((5, 5)).at[Ai, Aj].set(Ax)"
   ]
  },
  {
   "cell_type": "markdown",
   "id": "67",
   "metadata": {
    "papermill": {
     "duration": 0.008759,
     "end_time": "2025-06-12T12:18:51.634072",
     "exception": false,
     "start_time": "2025-06-12T12:18:51.625313",
     "status": "completed"
    },
    "tags": []
   },
   "source": [
    "However, to use this function effectively, we probably need an extra dimension for `Ax`. Indeed, we would like to solve this equation for multiple wavelengths (or more general, for multiple circuit configurations) at once. For this we can use `jax.vmap` to expose `klujax.solve` to more dimensions for `Ax`:"
   ]
  },
  {
   "cell_type": "code",
   "execution_count": null,
   "id": "68",
   "metadata": {
    "papermill": {
     "duration": 0.011784,
     "end_time": "2025-06-12T12:18:51.654802",
     "exception": false,
     "start_time": "2025-06-12T12:18:51.643018",
     "status": "completed"
    },
    "tags": []
   },
   "outputs": [],
   "source": [
    "# exports\n",
    "solve_klu = jax.vmap(klujax.solve, (None, None, 0, None), 0)"
   ]
  },
  {
   "cell_type": "markdown",
   "id": "69",
   "metadata": {
    "papermill": {
     "duration": 0.00556,
     "end_time": "2025-06-12T12:18:51.670118",
     "exception": false,
     "start_time": "2025-06-12T12:18:51.664558",
     "status": "completed"
    },
    "tags": []
   },
   "source": [
    "Let's now redefine `Ax` and see what it gives:"
   ]
  },
  {
   "cell_type": "code",
   "execution_count": null,
   "id": "70",
   "metadata": {
    "papermill": {
     "duration": 0.067265,
     "end_time": "2025-06-12T12:18:51.746741",
     "exception": false,
     "start_time": "2025-06-12T12:18:51.679476",
     "status": "completed"
    },
    "tags": []
   },
   "outputs": [],
   "source": [
    "Ai = jnp.array([0, 1, 2, 3, 4])\n",
    "Aj = jnp.array([1, 3, 4, 0, 2])\n",
    "Ax = jnp.array([[5, 6, 1, 1, 2], [5, 4, 3, 2, 1], [1, 2, 3, 4, 5]])\n",
    "b = jnp.array([5, 3, 2, 6, 1])\n",
    "x = solve_klu(Ai, Aj, Ax, b)\n",
    "x"
   ]
  },
  {
   "cell_type": "markdown",
   "id": "71",
   "metadata": {
    "papermill": {
     "duration": 0.005312,
     "end_time": "2025-06-12T12:18:51.761092",
     "exception": false,
     "start_time": "2025-06-12T12:18:51.755780",
     "status": "completed"
    },
    "tags": []
   },
   "source": [
    "This result is indeed correct:"
   ]
  },
  {
   "cell_type": "code",
   "execution_count": null,
   "id": "72",
   "metadata": {
    "papermill": {
     "duration": 0.121822,
     "end_time": "2025-06-12T12:18:51.894641",
     "exception": false,
     "start_time": "2025-06-12T12:18:51.772819",
     "status": "completed"
    },
    "tags": []
   },
   "outputs": [],
   "source": [
    "A = jnp.zeros((3, 5, 5)).at[:, Ai, Aj].set(Ax)\n",
    "jnp.einsum(\"ijk,ik->ij\", A, x)"
   ]
  },
  {
   "cell_type": "markdown",
   "id": "73",
   "metadata": {
    "papermill": {
     "duration": 0.005823,
     "end_time": "2025-06-12T12:18:51.907722",
     "exception": false,
     "start_time": "2025-06-12T12:18:51.901899",
     "status": "completed"
    },
    "tags": []
   },
   "source": [
    "Additionally, we need a way to multiply a sparse COO-matrix with a dense vector. This can be done with `klujax.coo_mul_vec`:"
   ]
  },
  {
   "cell_type": "markdown",
   "id": "74",
   "metadata": {
    "papermill": {
     "duration": 0.005622,
     "end_time": "2025-06-12T12:18:51.925048",
     "exception": false,
     "start_time": "2025-06-12T12:18:51.919426",
     "status": "completed"
    },
    "tags": []
   },
   "source": [
    "However, it's useful to allow a batch dimension, this time *both* in `Ax` and in `b`:"
   ]
  },
  {
   "cell_type": "code",
   "execution_count": null,
   "id": "75",
   "metadata": {
    "papermill": {
     "duration": 0.013278,
     "end_time": "2025-06-12T12:18:51.950955",
     "exception": false,
     "start_time": "2025-06-12T12:18:51.937677",
     "status": "completed"
    },
    "tags": []
   },
   "outputs": [],
   "source": [
    "# exports\n",
    "mul_coo = None\n",
    "mul_coo = jax.vmap(klujax.dot, (None, None, 0, 0), 0)"
   ]
  },
  {
   "cell_type": "markdown",
   "id": "76",
   "metadata": {
    "papermill": {
     "duration": 0.005452,
     "end_time": "2025-06-12T12:18:51.969231",
     "exception": false,
     "start_time": "2025-06-12T12:18:51.963779",
     "status": "completed"
    },
    "tags": []
   },
   "source": [
    "Let's confirm this does the right thing:"
   ]
  },
  {
   "cell_type": "code",
   "execution_count": null,
   "id": "77",
   "metadata": {
    "papermill": {
     "duration": 0.041695,
     "end_time": "2025-06-12T12:18:52.023349",
     "exception": false,
     "start_time": "2025-06-12T12:18:51.981654",
     "status": "completed"
    },
    "tags": []
   },
   "outputs": [],
   "source": [
    "result = mul_coo(Ai, Aj, Ax, x)\n",
    "result"
   ]
  },
  {
   "cell_type": "markdown",
   "id": "78",
   "metadata": {
    "papermill": {
     "duration": 0.007664,
     "end_time": "2025-06-12T12:18:52.044983",
     "exception": false,
     "start_time": "2025-06-12T12:18:52.037319",
     "status": "completed"
    },
    "tags": []
   },
   "source": [
    "### Example"
   ]
  },
  {
   "cell_type": "code",
   "execution_count": null,
   "id": "79",
   "metadata": {
    "papermill": {
     "duration": 0.026305,
     "end_time": "2025-06-12T12:18:52.079435",
     "exception": false,
     "start_time": "2025-06-12T12:18:52.053130",
     "status": "completed"
    },
    "tags": []
   },
   "outputs": [],
   "source": [
    "wg_sdict: sax.SDict = {\n",
    "    (\"in0\", \"out0\"): 0.5 + 0.86603j,\n",
    "    (\"out0\", \"in0\"): 0.5 + 0.86603j,\n",
    "}\n",
    "\n",
    "τ, κ = 0.5**0.5, 1j * 0.5**0.5\n",
    "dc_sdense: sax.SDense = (\n",
    "    jnp.array([[0, 0, τ, κ], [0, 0, κ, τ], [τ, κ, 0, 0], [κ, τ, 0, 0]]),\n",
    "    {\"out0\": 0, \"out1\": 1, \"in0\": 2, \"in1\": 3},\n",
    ")\n",
    "\n",
    "instances = {\n",
    "    \"dc1\": {\"component\": \"dc\"},\n",
    "    \"wg\": {\"component\": \"wg\"},\n",
    "    \"dc2\": {\"component\": \"dc\"},\n",
    "}\n",
    "connections = {\n",
    "    \"dc1,out0\": \"wg,in0\",\n",
    "    \"wg,out0\": \"dc2,in0\",\n",
    "    \"dc1,out1\": \"dc2,in1\",\n",
    "}\n",
    "ports = {\n",
    "    \"in0\": \"dc1,in0\",\n",
    "    \"in1\": \"dc1,in1\",\n",
    "    \"out0\": \"dc2,out0\",\n",
    "    \"out1\": \"dc2,out1\",\n",
    "}\n",
    "models = {\n",
    "    \"wg\": lambda: wg_sdict,\n",
    "    \"dc\": lambda: dc_sdense,\n",
    "}\n",
    "\n",
    "\n",
    "analyzed_instances = sax.backends.analyze_instances_klu(instances, models)\n",
    "analyzed_circuit = sax.backends.analyze_circuit_klu(\n",
    "    analyzed_instances, connections, ports\n",
    ")\n",
    "S, pm = sax.backends.evaluate_circuit_klu(\n",
    "    analyzed_circuit, {k: models[v[\"component\"]]() for k, v in instances.items()}\n",
    ")"
   ]
  },
  {
   "cell_type": "markdown",
   "id": "80",
   "metadata": {
    "papermill": {
     "duration": 0.009108,
     "end_time": "2025-06-12T12:18:52.102966",
     "exception": false,
     "start_time": "2025-06-12T12:18:52.093858",
     "status": "completed"
    },
    "tags": []
   },
   "source": [
    "the KLU backend yields `SDense` results by default:"
   ]
  },
  {
   "cell_type": "code",
   "execution_count": null,
   "id": "81",
   "metadata": {
    "papermill": {
     "duration": 0.012969,
     "end_time": "2025-06-12T12:18:52.121683",
     "exception": false,
     "start_time": "2025-06-12T12:18:52.108714",
     "status": "completed"
    },
    "tags": []
   },
   "outputs": [],
   "source": [
    "mzi_sdense = (S, pm)\n",
    "mzi_sdense"
   ]
  },
  {
   "cell_type": "markdown",
   "id": "82",
   "metadata": {
    "papermill": {
     "duration": 0.005336,
     "end_time": "2025-06-12T12:18:52.132561",
     "exception": false,
     "start_time": "2025-06-12T12:18:52.127225",
     "status": "completed"
    },
    "tags": []
   },
   "source": [
    "An `SDense` is returned for perfomance reasons. By returning an `SDense` by default we prevent any internal `SDict -> SDense` conversions in deeply hierarchical circuits. It's however very easy to convert `SDense` to `SDict` as a final step. To do this, wrap the result (or the function generating the result) with `sdict`:"
   ]
  },
  {
   "cell_type": "code",
   "execution_count": null,
   "id": "83",
   "metadata": {
    "papermill": {
     "duration": 0.014968,
     "end_time": "2025-06-12T12:18:52.159327",
     "exception": false,
     "start_time": "2025-06-12T12:18:52.144359",
     "status": "completed"
    },
    "tags": []
   },
   "outputs": [],
   "source": [
    "sax.sdict(mzi_sdense)"
   ]
  },
  {
   "cell_type": "markdown",
   "id": "84",
   "metadata": {
    "papermill": {
     "duration": 0.005477,
     "end_time": "2025-06-12T12:18:52.176640",
     "exception": false,
     "start_time": "2025-06-12T12:18:52.171163",
     "status": "completed"
    },
    "tags": []
   },
   "source": [
    "### Algorithm Walkthrough"
   ]
  },
  {
   "cell_type": "markdown",
   "id": "85",
   "metadata": {
    "papermill": {
     "duration": 0.006027,
     "end_time": "2025-06-12T12:18:52.188396",
     "exception": false,
     "start_time": "2025-06-12T12:18:52.182369",
     "status": "completed"
    },
    "tags": []
   },
   "source": [
    "Let's first enforce $C^T = C$:"
   ]
  },
  {
   "cell_type": "code",
   "execution_count": null,
   "id": "86",
   "metadata": {
    "papermill": {
     "duration": 0.013774,
     "end_time": "2025-06-12T12:18:52.214483",
     "exception": false,
     "start_time": "2025-06-12T12:18:52.200709",
     "status": "completed"
    },
    "tags": []
   },
   "outputs": [],
   "source": [
    "connections = {**connections, **{v: k for k, v in connections.items()}}\n",
    "connections"
   ]
  },
  {
   "cell_type": "markdown",
   "id": "87",
   "metadata": {
    "papermill": {
     "duration": 0.005634,
     "end_time": "2025-06-12T12:18:52.232489",
     "exception": false,
     "start_time": "2025-06-12T12:18:52.226855",
     "status": "completed"
    },
    "tags": []
   },
   "source": [
    "We'll also need the reversed ports:"
   ]
  },
  {
   "cell_type": "code",
   "execution_count": null,
   "id": "88",
   "metadata": {
    "papermill": {
     "duration": 0.010624,
     "end_time": "2025-06-12T12:18:52.251470",
     "exception": false,
     "start_time": "2025-06-12T12:18:52.240846",
     "status": "completed"
    },
    "tags": []
   },
   "outputs": [],
   "source": [
    "inverse_ports = {v: k for k, v in ports.items()}\n",
    "inverse_ports"
   ]
  },
  {
   "cell_type": "markdown",
   "id": "89",
   "metadata": {
    "papermill": {
     "duration": 0.005862,
     "end_time": "2025-06-12T12:18:52.264663",
     "exception": false,
     "start_time": "2025-06-12T12:18:52.258801",
     "status": "completed"
    },
    "tags": []
   },
   "source": [
    "An the port indices"
   ]
  },
  {
   "cell_type": "code",
   "execution_count": null,
   "id": "90",
   "metadata": {
    "papermill": {
     "duration": 0.012796,
     "end_time": "2025-06-12T12:18:52.293560",
     "exception": false,
     "start_time": "2025-06-12T12:18:52.280764",
     "status": "completed"
    },
    "tags": []
   },
   "outputs": [],
   "source": [
    "port_map = {k: i for i, k in enumerate(ports)}\n",
    "port_map"
   ]
  },
  {
   "cell_type": "markdown",
   "id": "91",
   "metadata": {
    "papermill": {
     "duration": 0.00752,
     "end_time": "2025-06-12T12:18:52.316130",
     "exception": false,
     "start_time": "2025-06-12T12:18:52.308610",
     "status": "completed"
    },
    "tags": []
   },
   "source": [
    "Let's now create the COO-representation of our block diagonal S-matrix $S_{bd}$:"
   ]
  },
  {
   "cell_type": "code",
   "execution_count": null,
   "id": "92",
   "metadata": {
    "papermill": {
     "duration": 0.017823,
     "end_time": "2025-06-12T12:18:52.343723",
     "exception": false,
     "start_time": "2025-06-12T12:18:52.325900",
     "status": "completed"
    },
    "tags": []
   },
   "outputs": [],
   "source": [
    "idx, Si, Sj, Sx, instance_ports = 0, [], [], [], {}\n",
    "batch_shape = ()\n",
    "for name, instance in instances.items():\n",
    "    s = models[instance[\"component\"]]()\n",
    "    si, sj, sx, ports_map = sax.scoo(s)\n",
    "    Si.append(si + idx)\n",
    "    Sj.append(sj + idx)\n",
    "    Sx.append(sx)\n",
    "    if len(sx.shape[:-1]) > len(batch_shape):\n",
    "        batch_shape = sx.shape[:-1]\n",
    "    instance_ports.update({f\"{name},{p}\": i + idx for p, i in ports_map.items()})\n",
    "    idx += len(ports_map)\n",
    "Si = jnp.concatenate(Si, -1)\n",
    "Sj = jnp.concatenate(Sj, -1)\n",
    "Sx = jnp.concatenate(\n",
    "    [jnp.broadcast_to(sx, (*batch_shape, sx.shape[-1])) for sx in Sx], -1\n",
    ")"
   ]
  },
  {
   "cell_type": "markdown",
   "id": "93",
   "metadata": {
    "papermill": {
     "duration": 0.008891,
     "end_time": "2025-06-12T12:18:52.364354",
     "exception": false,
     "start_time": "2025-06-12T12:18:52.355463",
     "status": "completed"
    },
    "tags": []
   },
   "source": [
    "note that we also kept track of the `batch_shape`, i.e. the number of independent simulations (usually number of wavelengths). In the example being used here we don't have a batch dimension (all elements of the `SDict` are `0D`):"
   ]
  },
  {
   "cell_type": "code",
   "execution_count": null,
   "id": "94",
   "metadata": {
    "papermill": {
     "duration": 0.014687,
     "end_time": "2025-06-12T12:18:52.390876",
     "exception": false,
     "start_time": "2025-06-12T12:18:52.376189",
     "status": "completed"
    },
    "tags": []
   },
   "outputs": [],
   "source": [
    "batch_shape"
   ]
  },
  {
   "cell_type": "markdown",
   "id": "95",
   "metadata": {
    "papermill": {
     "duration": 0.009126,
     "end_time": "2025-06-12T12:18:52.409040",
     "exception": false,
     "start_time": "2025-06-12T12:18:52.399914",
     "status": "completed"
    },
    "tags": []
   },
   "source": [
    "We'll also keep track of the number of columns"
   ]
  },
  {
   "cell_type": "code",
   "execution_count": null,
   "id": "96",
   "metadata": {
    "papermill": {
     "duration": 0.013893,
     "end_time": "2025-06-12T12:18:52.429793",
     "exception": false,
     "start_time": "2025-06-12T12:18:52.415900",
     "status": "completed"
    },
    "tags": []
   },
   "outputs": [],
   "source": [
    "n_col = idx\n",
    "n_col"
   ]
  },
  {
   "cell_type": "markdown",
   "id": "97",
   "metadata": {
    "papermill": {
     "duration": 0.008943,
     "end_time": "2025-06-12T12:18:52.445071",
     "exception": false,
     "start_time": "2025-06-12T12:18:52.436128",
     "status": "completed"
    },
    "tags": []
   },
   "source": [
    "And we'll need to solve the circuit for each output port, i.e. we need to solve `n_rhs` number of equations:"
   ]
  },
  {
   "cell_type": "code",
   "execution_count": null,
   "id": "98",
   "metadata": {
    "papermill": {
     "duration": 0.01387,
     "end_time": "2025-06-12T12:18:52.470231",
     "exception": false,
     "start_time": "2025-06-12T12:18:52.456361",
     "status": "completed"
    },
    "tags": []
   },
   "outputs": [],
   "source": [
    "n_rhs = len(port_map)\n",
    "n_rhs"
   ]
  },
  {
   "cell_type": "markdown",
   "id": "99",
   "metadata": {
    "papermill": {
     "duration": 0.007876,
     "end_time": "2025-06-12T12:18:52.483984",
     "exception": false,
     "start_time": "2025-06-12T12:18:52.476108",
     "status": "completed"
    },
    "tags": []
   },
   "source": [
    "We can represent the internal connection matrix $C_{int}$ as a mapping between port indices:"
   ]
  },
  {
   "cell_type": "code",
   "execution_count": null,
   "id": "100",
   "metadata": {
    "papermill": {
     "duration": 0.011782,
     "end_time": "2025-06-12T12:18:52.502102",
     "exception": false,
     "start_time": "2025-06-12T12:18:52.490320",
     "status": "completed"
    },
    "tags": []
   },
   "outputs": [],
   "source": [
    "Cmap = {int(instance_ports[k]): int(instance_ports[v]) for k, v in connections.items()}\n",
    "Cmap"
   ]
  },
  {
   "cell_type": "markdown",
   "id": "101",
   "metadata": {
    "papermill": {
     "duration": 0.005921,
     "end_time": "2025-06-12T12:18:52.520816",
     "exception": false,
     "start_time": "2025-06-12T12:18:52.514895",
     "status": "completed"
    },
    "tags": []
   },
   "source": [
    "Therefore, the COO-representation of this connection matrix can be obtained as follows (note that an array of values Cx is not necessary, all non-zero elements in a connection matrix are 1)"
   ]
  },
  {
   "cell_type": "code",
   "execution_count": null,
   "id": "102",
   "metadata": {
    "papermill": {
     "duration": 0.014407,
     "end_time": "2025-06-12T12:18:52.550196",
     "exception": false,
     "start_time": "2025-06-12T12:18:52.535789",
     "status": "completed"
    },
    "tags": []
   },
   "outputs": [],
   "source": [
    "Ci = jnp.array(list(Cmap.keys()), dtype=jnp.int32)\n",
    "Cj = jnp.array(list(Cmap.values()), dtype=jnp.int32)"
   ]
  },
  {
   "cell_type": "markdown",
   "id": "103",
   "metadata": {
    "papermill": {
     "duration": 0.008318,
     "end_time": "2025-06-12T12:18:52.565477",
     "exception": false,
     "start_time": "2025-06-12T12:18:52.557159",
     "status": "completed"
    },
    "tags": []
   },
   "source": [
    "We can represent the external connection matrix $C_{ext}$ as a map between internal port indices and external port indices:"
   ]
  },
  {
   "cell_type": "code",
   "execution_count": null,
   "id": "104",
   "metadata": {
    "papermill": {
     "duration": 0.01152,
     "end_time": "2025-06-12T12:18:52.589313",
     "exception": false,
     "start_time": "2025-06-12T12:18:52.577793",
     "status": "completed"
    },
    "tags": []
   },
   "outputs": [],
   "source": [
    "Cextmap = {int(instance_ports[k]): int(port_map[v]) for k, v in inverse_ports.items()}\n",
    "Cextmap"
   ]
  },
  {
   "cell_type": "markdown",
   "id": "105",
   "metadata": {
    "papermill": {
     "duration": 0.006292,
     "end_time": "2025-06-12T12:18:52.604833",
     "exception": false,
     "start_time": "2025-06-12T12:18:52.598541",
     "status": "completed"
    },
    "tags": []
   },
   "source": [
    "Just as for the internal matrix we can represent this external connection matrix in COO-format:"
   ]
  },
  {
   "cell_type": "code",
   "execution_count": null,
   "id": "106",
   "metadata": {
    "papermill": {
     "duration": 0.014942,
     "end_time": "2025-06-12T12:18:52.630838",
     "exception": false,
     "start_time": "2025-06-12T12:18:52.615896",
     "status": "completed"
    },
    "tags": []
   },
   "outputs": [],
   "source": [
    "Cexti = jnp.stack(list(Cextmap.keys()), 0)\n",
    "Cextj = jnp.stack(list(Cextmap.values()), 0)"
   ]
  },
  {
   "cell_type": "markdown",
   "id": "107",
   "metadata": {
    "papermill": {
     "duration": 0.008945,
     "end_time": "2025-06-12T12:18:52.646066",
     "exception": false,
     "start_time": "2025-06-12T12:18:52.637121",
     "status": "completed"
    },
    "tags": []
   },
   "source": [
    "However, we actually need it as a dense representation:\n",
    "\n",
    "> help needed: can we find a way later on to keep this sparse?"
   ]
  },
  {
   "cell_type": "code",
   "execution_count": null,
   "id": "108",
   "metadata": {
    "papermill": {
     "duration": 0.0143,
     "end_time": "2025-06-12T12:18:52.671724",
     "exception": false,
     "start_time": "2025-06-12T12:18:52.657424",
     "status": "completed"
    },
    "tags": []
   },
   "outputs": [],
   "source": [
    "Cext = jnp.zeros((n_col, n_rhs), dtype=complex).at[Cexti, Cextj].set(1.0)\n",
    "Cext"
   ]
  },
  {
   "cell_type": "markdown",
   "id": "109",
   "metadata": {
    "papermill": {
     "duration": 0.00687,
     "end_time": "2025-06-12T12:18:52.686313",
     "exception": false,
     "start_time": "2025-06-12T12:18:52.679443",
     "status": "completed"
    },
    "tags": []
   },
   "source": [
    "We'll now calculate the row index `CSi` of $C_{int}S_{bd}$ in COO-format:"
   ]
  },
  {
   "cell_type": "code",
   "execution_count": null,
   "id": "110",
   "metadata": {
    "papermill": {
     "duration": 0.016632,
     "end_time": "2025-06-12T12:18:52.714847",
     "exception": false,
     "start_time": "2025-06-12T12:18:52.698215",
     "status": "completed"
    },
    "tags": []
   },
   "outputs": [],
   "source": [
    "# TODO: make this block jittable...\n",
    "Ix = jnp.ones((*batch_shape, n_col))\n",
    "Ii = Ij = jnp.arange(n_col)\n",
    "mask = Cj[None, :] == Si[:, None]\n",
    "CSi = jnp.broadcast_to(Ci[None, :], mask.shape)[mask]\n",
    "CSi"
   ]
  },
  {
   "cell_type": "markdown",
   "id": "111",
   "metadata": {
    "papermill": {
     "duration": 0.010462,
     "end_time": "2025-06-12T12:18:52.734289",
     "exception": false,
     "start_time": "2025-06-12T12:18:52.723827",
     "status": "completed"
    },
    "tags": []
   },
   "source": [
    "> `CSi`: possible jittable alternative? how do we remove the zeros?"
   ]
  },
  {
   "cell_type": "code",
   "execution_count": null,
   "id": "112",
   "metadata": {
    "papermill": {
     "duration": 0.068755,
     "end_time": "2025-06-12T12:18:52.813258",
     "exception": false,
     "start_time": "2025-06-12T12:18:52.744503",
     "status": "completed"
    },
    "tags": []
   },
   "outputs": [],
   "source": [
    "CSi_ = jnp.where(Cj[None, :] == Si[:, None], Ci[None, :], 0).sum(1)  # not used\n",
    "CSi_  # not used"
   ]
  },
  {
   "cell_type": "markdown",
   "id": "113",
   "metadata": {
    "papermill": {
     "duration": 0.007551,
     "end_time": "2025-06-12T12:18:52.830594",
     "exception": false,
     "start_time": "2025-06-12T12:18:52.823043",
     "status": "completed"
    },
    "tags": []
   },
   "source": [
    "The column index `CSj` of $C_{int}S_{bd}$ can more easily be obtained:"
   ]
  },
  {
   "cell_type": "code",
   "execution_count": null,
   "id": "114",
   "metadata": {
    "papermill": {
     "duration": 0.017116,
     "end_time": "2025-06-12T12:18:52.857279",
     "exception": false,
     "start_time": "2025-06-12T12:18:52.840163",
     "status": "completed"
    },
    "tags": []
   },
   "outputs": [],
   "source": [
    "mask = (Cj[:, None] == Si[None, :]).any(0)\n",
    "CSj = Sj[mask]\n",
    "CSj"
   ]
  },
  {
   "cell_type": "markdown",
   "id": "115",
   "metadata": {
    "papermill": {
     "duration": 0.008307,
     "end_time": "2025-06-12T12:18:52.877691",
     "exception": false,
     "start_time": "2025-06-12T12:18:52.869384",
     "status": "completed"
    },
    "tags": []
   },
   "source": [
    "Finally, the values `CSx` of $C_{int}S_{bd}$ can be obtained as follows:"
   ]
  },
  {
   "cell_type": "code",
   "execution_count": null,
   "id": "116",
   "metadata": {
    "papermill": {
     "duration": 0.015342,
     "end_time": "2025-06-12T12:18:52.905058",
     "exception": false,
     "start_time": "2025-06-12T12:18:52.889716",
     "status": "completed"
    },
    "tags": []
   },
   "outputs": [],
   "source": [
    "CSx = Sx[..., mask]\n",
    "CSx"
   ]
  },
  {
   "cell_type": "markdown",
   "id": "117",
   "metadata": {
    "papermill": {
     "duration": 0.008771,
     "end_time": "2025-06-12T12:18:52.929542",
     "exception": false,
     "start_time": "2025-06-12T12:18:52.920771",
     "status": "completed"
    },
    "tags": []
   },
   "source": [
    "Now we calculate $I - C_{int}S_{bd}$ in an *uncoalesced* way (we might have duplicate indices on the diagonal):\n",
    "\n",
    "> **uncoalesced**: having duplicate index combinations (i, j) in the representation possibly with different corresponding values. This is usually not a problem as in linear operations these values will end up to be summed, usually the behavior you want:"
   ]
  },
  {
   "cell_type": "code",
   "execution_count": null,
   "id": "118",
   "metadata": {
    "papermill": {
     "duration": 0.016479,
     "end_time": "2025-06-12T12:18:52.961207",
     "exception": false,
     "start_time": "2025-06-12T12:18:52.944728",
     "status": "completed"
    },
    "tags": []
   },
   "outputs": [],
   "source": [
    "I_CSi = jnp.concatenate([CSi, Ii], -1)\n",
    "I_CSj = jnp.concatenate([CSj, Ij], -1)\n",
    "I_CSx = jnp.concatenate([-CSx, Ix], -1)"
   ]
  },
  {
   "cell_type": "code",
   "execution_count": null,
   "id": "119",
   "metadata": {
    "papermill": {
     "duration": 0.010826,
     "end_time": "2025-06-12T12:18:52.983734",
     "exception": false,
     "start_time": "2025-06-12T12:18:52.972908",
     "status": "completed"
    },
    "tags": []
   },
   "outputs": [],
   "source": [
    "n_col, n_rhs = Cext.shape"
   ]
  },
  {
   "cell_type": "markdown",
   "id": "120",
   "metadata": {
    "papermill": {
     "duration": 0.006482,
     "end_time": "2025-06-12T12:18:53.005192",
     "exception": false,
     "start_time": "2025-06-12T12:18:52.998710",
     "status": "completed"
    },
    "tags": []
   },
   "source": [
    "The batch shape dimension can generally speaking be anything (in the example here 0D). We need to do the necessary reshapings to make the batch shape 1D:"
   ]
  },
  {
   "cell_type": "code",
   "execution_count": null,
   "id": "121",
   "metadata": {
    "papermill": {
     "duration": 0.053494,
     "end_time": "2025-06-12T12:18:53.092979",
     "exception": false,
     "start_time": "2025-06-12T12:18:53.039485",
     "status": "completed"
    },
    "tags": []
   },
   "outputs": [],
   "source": [
    "n_lhs = jnp.prod(jnp.array(batch_shape, dtype=jnp.int32))"
   ]
  },
  {
   "cell_type": "code",
   "execution_count": null,
   "id": "122",
   "metadata": {
    "papermill": {
     "duration": 0.013002,
     "end_time": "2025-06-12T12:18:53.118071",
     "exception": false,
     "start_time": "2025-06-12T12:18:53.105069",
     "status": "completed"
    },
    "tags": []
   },
   "outputs": [],
   "source": [
    "Sx = Sx.reshape(n_lhs, -1)\n",
    "Sx.shape"
   ]
  },
  {
   "cell_type": "code",
   "execution_count": null,
   "id": "123",
   "metadata": {
    "papermill": {
     "duration": 0.021643,
     "end_time": "2025-06-12T12:18:53.154973",
     "exception": false,
     "start_time": "2025-06-12T12:18:53.133330",
     "status": "completed"
    },
    "tags": []
   },
   "outputs": [],
   "source": [
    "I_CSx = I_CSx.reshape(n_lhs, -1)\n",
    "I_CSx.shape"
   ]
  },
  {
   "cell_type": "markdown",
   "id": "124",
   "metadata": {
    "papermill": {
     "duration": 0.006175,
     "end_time": "2025-06-12T12:18:53.173504",
     "exception": false,
     "start_time": "2025-06-12T12:18:53.167329",
     "status": "completed"
    },
    "tags": []
   },
   "source": [
    "We're finally ready to do the most important part of the calculation, which we conveniently leave to `klujax` and `SuiteSparse`:"
   ]
  },
  {
   "cell_type": "code",
   "execution_count": null,
   "id": "125",
   "metadata": {
    "papermill": {
     "duration": 0.012892,
     "end_time": "2025-06-12T12:18:53.198116",
     "exception": false,
     "start_time": "2025-06-12T12:18:53.185224",
     "status": "completed"
    },
    "tags": []
   },
   "outputs": [],
   "source": [
    "inv_I_CS_Cext = solve_klu(I_CSi, I_CSj, I_CSx, Cext)"
   ]
  },
  {
   "cell_type": "markdown",
   "id": "126",
   "metadata": {
    "papermill": {
     "duration": 0.00841,
     "end_time": "2025-06-12T12:18:53.215320",
     "exception": false,
     "start_time": "2025-06-12T12:18:53.206910",
     "status": "completed"
    },
    "tags": []
   },
   "source": [
    "one more sparse multiplication:"
   ]
  },
  {
   "cell_type": "code",
   "execution_count": null,
   "id": "127",
   "metadata": {
    "papermill": {
     "duration": 0.014911,
     "end_time": "2025-06-12T12:18:53.245590",
     "exception": false,
     "start_time": "2025-06-12T12:18:53.230679",
     "status": "completed"
    },
    "tags": []
   },
   "outputs": [],
   "source": [
    "S_inv_I_CS_Cext = mul_coo(Si, Sj, Sx, inv_I_CS_Cext)"
   ]
  },
  {
   "cell_type": "markdown",
   "id": "128",
   "metadata": {
    "papermill": {
     "duration": 0.008023,
     "end_time": "2025-06-12T12:18:53.265766",
     "exception": false,
     "start_time": "2025-06-12T12:18:53.257743",
     "status": "completed"
    },
    "tags": []
   },
   "source": [
    "And one more $C_{ext}$ multiplication which we do by clever indexing:"
   ]
  },
  {
   "cell_type": "code",
   "execution_count": null,
   "id": "129",
   "metadata": {
    "papermill": {
     "duration": 0.014572,
     "end_time": "2025-06-12T12:18:53.294971",
     "exception": false,
     "start_time": "2025-06-12T12:18:53.280399",
     "status": "completed"
    },
    "tags": []
   },
   "outputs": [],
   "source": [
    "CextT_S_inv_I_CS_Cext = S_inv_I_CS_Cext[..., Cexti, :][..., :, Cextj]\n",
    "CextT_S_inv_I_CS_Cext"
   ]
  },
  {
   "cell_type": "markdown",
   "id": "130",
   "metadata": {
    "papermill": {
     "duration": 0.008288,
     "end_time": "2025-06-12T12:18:53.312938",
     "exception": false,
     "start_time": "2025-06-12T12:18:53.304650",
     "status": "completed"
    },
    "tags": []
   },
   "source": [
    "That's it! We found the S-matrix of the circuit. We just need to reshape the batch dimension back into the matrix:"
   ]
  },
  {
   "cell_type": "code",
   "execution_count": null,
   "id": "131",
   "metadata": {
    "papermill": {
     "duration": 0.015875,
     "end_time": "2025-06-12T12:18:53.339172",
     "exception": false,
     "start_time": "2025-06-12T12:18:53.323297",
     "status": "completed"
    },
    "tags": []
   },
   "outputs": [],
   "source": [
    "_, n, _ = CextT_S_inv_I_CS_Cext.shape\n",
    "S = CextT_S_inv_I_CS_Cext.reshape(*batch_shape, n, n)\n",
    "S"
   ]
  },
  {
   "cell_type": "markdown",
   "id": "132",
   "metadata": {
    "papermill": {
     "duration": 0.006193,
     "end_time": "2025-06-12T12:18:53.356479",
     "exception": false,
     "start_time": "2025-06-12T12:18:53.350286",
     "status": "completed"
    },
    "tags": []
   },
   "source": [
    "Oh and to complete the `SDense` representation we need to specify the port map as well:"
   ]
  },
  {
   "cell_type": "code",
   "execution_count": null,
   "id": "133",
   "metadata": {
    "papermill": {
     "duration": 0.017758,
     "end_time": "2025-06-12T12:18:53.388705",
     "exception": false,
     "start_time": "2025-06-12T12:18:53.370947",
     "status": "completed"
    },
    "tags": []
   },
   "outputs": [],
   "source": [
    "port_map"
   ]
  },
  {
   "cell_type": "markdown",
   "id": "134",
   "metadata": {
    "papermill": {
     "duration": 0.00623,
     "end_time": "2025-06-12T12:18:53.410792",
     "exception": false,
     "start_time": "2025-06-12T12:18:53.404562",
     "status": "completed"
    },
    "tags": []
   },
   "source": [
    "### Algorithm Improvements"
   ]
  },
  {
   "cell_type": "markdown",
   "id": "135",
   "metadata": {
    "papermill": {
     "duration": 0.009213,
     "end_time": "2025-06-12T12:18:53.427144",
     "exception": false,
     "start_time": "2025-06-12T12:18:53.417931",
     "status": "completed"
    },
    "tags": []
   },
   "source": [
    "This algorithm is \n",
    "\n",
    "* very fast for large circuits 🙂\n",
    "* jittable 🙂\n",
    "* differentiable 🙂\n",
    "\n",
    "This algorithm is however:\n",
    "\n",
    "* **not** GPU-compatible 🙂\n",
    "\n",
    "There are probably still plenty of improvements possible for this algorithm:\n",
    "\n",
    "* **¿** make it GPU compatible (requires making suitesparse GPU compatible... probably not gonna happen)**?**\n"
   ]
  },
  {
   "cell_type": "markdown",
   "id": "136",
   "metadata": {
    "papermill": {
     "duration": 0.012823,
     "end_time": "2025-06-12T12:18:53.451351",
     "exception": false,
     "start_time": "2025-06-12T12:18:53.438528",
     "status": "completed"
    },
    "tags": []
   },
   "source": [
    "> NOTE: Since The KLU Backend is Superior to the Filipsson-Gunnar backend, SAX will default (since v0.10.0) to the KLU backend if `klujax` is installed.name1"
   ]
  },
  {
   "cell_type": "code",
   "execution_count": null,
   "id": "137",
   "metadata": {
    "papermill": {
     "duration": 0.011683,
     "end_time": "2025-06-12T12:18:53.477257",
     "exception": false,
     "start_time": "2025-06-12T12:18:53.465574",
     "status": "completed"
    },
    "tags": []
   },
   "outputs": [],
   "source": [
    "# default_exp backends.additive"
   ]
  },
  {
   "cell_type": "markdown",
   "id": "138",
   "metadata": {
    "papermill": {
     "duration": 0.008378,
     "end_time": "2025-06-12T12:18:53.493375",
     "exception": false,
     "start_time": "2025-06-12T12:18:53.484997",
     "status": "completed"
    },
    "tags": []
   },
   "source": [
    "## Additive Backend\n",
    "\n",
    "Sometimes we would like to calculate circuit path lengths or time delays within a circuit. We could obviously simulate these things with a time domain simulator, but in many cases a simple additive backend (as opposed to the default multiplicative backend) can suffice."
   ]
  },
  {
   "cell_type": "markdown",
   "id": "139",
   "metadata": {
    "papermill": {
     "duration": 0.010853,
     "end_time": "2025-06-12T12:18:53.519772",
     "exception": false,
     "start_time": "2025-06-12T12:18:53.508919",
     "status": "completed"
    },
    "tags": []
   },
   "source": [
    "### Example\n",
    "\n",
    "> NOTE: in stead of S-parameters the stypes need to contain *additive* parameters, such as length or time delay."
   ]
  },
  {
   "cell_type": "code",
   "execution_count": null,
   "id": "140",
   "metadata": {
    "papermill": {
     "duration": 0.049084,
     "end_time": "2025-06-12T12:18:53.577652",
     "exception": false,
     "start_time": "2025-06-12T12:18:53.528568",
     "status": "completed"
    },
    "tags": []
   },
   "outputs": [],
   "source": [
    "wg_sdict = {\n",
    "    (\"in0\", \"out0\"): jnp.array(\n",
    "        [100.0, 200.0, 300.0]\n",
    "    ),  # assume for now there are three possible paths between these two ports.\n",
    "    (\"out0\", \"in0\"): jnp.array(\n",
    "        [100.0, 200.0, 300.0]\n",
    "    ),  # assume for now there are three possible paths between these two ports.\n",
    "}\n",
    "\n",
    "dc_sdict = {\n",
    "    (\"in0\", \"out0\"): jnp.array(\n",
    "        [10.0, 20.0]\n",
    "    ),  # assume for now there are two possible paths between these two ports.\n",
    "    (\"in0\", \"out1\"): 15.0,\n",
    "    (\"in1\", \"out0\"): 15.0,\n",
    "    (\"in1\", \"out1\"): jnp.array(\n",
    "        [10.0, 20.0]\n",
    "    ),  # assume for now there are two possible paths between these two ports.\n",
    "}\n",
    "\n",
    "instances = {\n",
    "    \"dc1\": {\"component\": \"dc\"},\n",
    "    \"wg\": {\"component\": \"wg\"},\n",
    "    \"dc2\": {\"component\": \"dc\"},\n",
    "}\n",
    "connections = {\n",
    "    \"dc1,out0\": \"wg,in0\",\n",
    "    \"wg,out0\": \"dc2,in0\",\n",
    "    \"dc1,out1\": \"dc2,in1\",\n",
    "}\n",
    "ports = {\n",
    "    \"in0\": \"dc1,in0\",\n",
    "    \"in1\": \"dc1,in1\",\n",
    "    \"out0\": \"dc2,out0\",\n",
    "    \"out1\": \"dc2,out1\",\n",
    "}\n",
    "models = {\n",
    "    \"wg\": lambda: wg_sdict,\n",
    "    \"dc\": lambda: dc_sdense,\n",
    "}"
   ]
  },
  {
   "cell_type": "markdown",
   "id": "141",
   "metadata": {
    "papermill": {
     "duration": 0.013283,
     "end_time": "2025-06-12T12:18:53.599625",
     "exception": false,
     "start_time": "2025-06-12T12:18:53.586342",
     "status": "completed"
    },
    "tags": []
   },
   "source": [
    "> NOTE:  it is recommended to **not** use an `SDense` representation for the additive backend. Very often an `SDense` representation will introduce **zeros** which will be interpreted as an **existing connection with zero length**. Conversely, in a sparse representation like `SDict` or `SCoo`, non-existing elements will be just that: they will not be present in the internal graph."
   ]
  },
  {
   "cell_type": "code",
   "execution_count": null,
   "id": "142",
   "metadata": {
    "papermill": {
     "duration": 0.084562,
     "end_time": "2025-06-12T12:18:53.696414",
     "exception": false,
     "start_time": "2025-06-12T12:18:53.611852",
     "status": "completed"
    },
    "tags": []
   },
   "outputs": [],
   "source": [
    "edges = sax.backends.additive._graph_edges(\n",
    "    {k: models[v[\"component\"]]() for k, v in instances.items()}, connections, ports\n",
    ")\n",
    "edges"
   ]
  },
  {
   "cell_type": "markdown",
   "id": "143",
   "metadata": {
    "papermill": {
     "duration": 0.008765,
     "end_time": "2025-06-12T12:18:53.713969",
     "exception": false,
     "start_time": "2025-06-12T12:18:53.705204",
     "status": "completed"
    },
    "tags": []
   },
   "source": [
    "We made a difference here between edges of 'S'-type (connections through the S-matrix) and edges of 'C'-type (connections through the connection matrix). Connections of 'C'-type obviously always have length zero as they signify per definition the equality of two ports."
   ]
  },
  {
   "cell_type": "markdown",
   "id": "144",
   "metadata": {
    "papermill": {
     "duration": 0.00669,
     "end_time": "2025-06-12T12:18:53.732664",
     "exception": false,
     "start_time": "2025-06-12T12:18:53.725974",
     "status": "completed"
    },
    "tags": []
   },
   "source": [
    "We can create a NetworkX graph from these edges:"
   ]
  },
  {
   "cell_type": "code",
   "execution_count": null,
   "id": "145",
   "metadata": {
    "papermill": {
     "duration": 0.473621,
     "end_time": "2025-06-12T12:18:54.216114",
     "exception": false,
     "start_time": "2025-06-12T12:18:53.742493",
     "status": "completed"
    },
    "tags": []
   },
   "outputs": [],
   "source": [
    "graph = nx.Graph()\n",
    "graph.add_edges_from(edges)\n",
    "nx.draw_kamada_kawai(graph, with_labels=True)"
   ]
  },
  {
   "cell_type": "code",
   "execution_count": null,
   "id": "146",
   "metadata": {
    "papermill": {
     "duration": 0.058418,
     "end_time": "2025-06-12T12:18:54.287105",
     "exception": false,
     "start_time": "2025-06-12T12:18:54.228687",
     "status": "completed"
    },
    "tags": []
   },
   "outputs": [],
   "source": [
    "graph = sax.backends.additive._prune_internal_output_nodes(graph)\n",
    "nx.draw_kamada_kawai(graph, with_labels=True)"
   ]
  },
  {
   "cell_type": "markdown",
   "id": "147",
   "metadata": {
    "papermill": {
     "duration": 0.009885,
     "end_time": "2025-06-12T12:18:54.307293",
     "exception": false,
     "start_time": "2025-06-12T12:18:54.297408",
     "status": "completed"
    },
    "tags": []
   },
   "source": [
    "We can now get a list of all possible paths in the network. Note that these paths **must** alternate between an S-edge and a C-edge:"
   ]
  },
  {
   "cell_type": "code",
   "execution_count": null,
   "id": "148",
   "metadata": {
    "papermill": {
     "duration": 0.013373,
     "end_time": "2025-06-12T12:18:54.329966",
     "exception": false,
     "start_time": "2025-06-12T12:18:54.316593",
     "status": "completed"
    },
    "tags": []
   },
   "outputs": [],
   "source": [
    "paths = sax.backends.additive._get_possible_paths(graph, (\"\", \"in0\"), (\"\", \"out0\"))\n",
    "paths"
   ]
  },
  {
   "cell_type": "markdown",
   "id": "149",
   "metadata": {
    "papermill": {
     "duration": 0.013416,
     "end_time": "2025-06-12T12:18:54.360473",
     "exception": false,
     "start_time": "2025-06-12T12:18:54.347057",
     "status": "completed"
    },
    "tags": []
   },
   "source": [
    "And the path lengths of those paths can be calculated as follows:"
   ]
  },
  {
   "cell_type": "code",
   "execution_count": null,
   "id": "150",
   "metadata": {
    "papermill": {
     "duration": 0.181451,
     "end_time": "2025-06-12T12:18:54.553491",
     "exception": false,
     "start_time": "2025-06-12T12:18:54.372040",
     "status": "completed"
    },
    "tags": []
   },
   "outputs": [],
   "source": [
    "sax.backends.additive._path_lengths(graph, paths)"
   ]
  },
  {
   "cell_type": "markdown",
   "id": "151",
   "metadata": {
    "papermill": {
     "duration": 0.007233,
     "end_time": "2025-06-12T12:18:54.568862",
     "exception": false,
     "start_time": "2025-06-12T12:18:54.561629",
     "status": "completed"
    },
    "tags": []
   },
   "source": [
    "This is all brought together in the additive KLU backend:"
   ]
  },
  {
   "cell_type": "code",
   "execution_count": null,
   "id": "152",
   "metadata": {
    "papermill": {
     "duration": 0.057305,
     "end_time": "2025-06-12T12:18:54.639283",
     "exception": false,
     "start_time": "2025-06-12T12:18:54.581978",
     "status": "completed"
    },
    "tags": []
   },
   "outputs": [],
   "source": [
    "analyzed_instances = sax.backends.analyze_instances_additive(instances, models)\n",
    "analyzed_circuit = sax.backends.analyze_circuit_additive(\n",
    "    analyzed_instances, connections, ports\n",
    ")\n",
    "sax.backends.evaluate_circuit_additive(\n",
    "    analyzed_circuit, {k: models[v[\"component\"]]() for k, v in instances.items()}\n",
    ")"
   ]
  }
 ],
 "metadata": {
  "kernelspec": {
   "display_name": "Python 3 (ipykernel)",
   "language": "python",
   "name": "python3"
  },
  "language_info": {
   "codemirror_mode": {
    "name": "ipython",
    "version": 3
   },
   "file_extension": ".py",
   "mimetype": "text/x-python",
   "name": "python",
   "nbconvert_exporter": "python",
   "pygments_lexer": "ipython3",
   "version": "3.12.10"
  },
  "papermill": {
   "default_parameters": {},
   "duration": 11.300228,
   "end_time": "2025-06-12T12:18:55.167642",
   "environment_variables": {},
   "exception": null,
   "input_path": "nbs/internals/03_backends.ipynb",
   "output_path": "nbs/internals/03_backends.ipynb",
   "parameters": {},
   "start_time": "2025-06-12T12:18:43.867414",
   "version": "2.6.0"
  }
 },
 "nbformat": 4,
 "nbformat_minor": 5
}
