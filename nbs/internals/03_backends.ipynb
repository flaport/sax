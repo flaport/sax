{
 "cells": [
  {
   "cell_type": "markdown",
   "id": "0",
   "metadata": {
    "papermill": {
     "duration": 0.01191,
     "end_time": "2025-06-20T08:28:49.290075",
     "exception": false,
     "start_time": "2025-06-20T08:28:49.278165",
     "status": "completed"
    },
    "tags": []
   },
   "source": [
    "# Backends\n",
    "\n",
    "> SAX Backends"
   ]
  },
  {
   "cell_type": "code",
   "execution_count": null,
   "id": "1",
   "metadata": {
    "papermill": {
     "duration": 0.437153,
     "end_time": "2025-06-20T08:28:49.737205",
     "exception": false,
     "start_time": "2025-06-20T08:28:49.300052",
     "status": "completed"
    },
    "tags": []
   },
   "outputs": [],
   "source": [
    "import jax\n",
    "import jax.numpy as jnp\n",
    "import klujax\n",
    "import networkx as nx\n",
    "\n",
    "import sax"
   ]
  },
  {
   "cell_type": "markdown",
   "id": "2",
   "metadata": {
    "papermill": {
     "duration": 0.004421,
     "end_time": "2025-06-20T08:28:49.747029",
     "exception": false,
     "start_time": "2025-06-20T08:28:49.742608",
     "status": "completed"
    },
    "tags": []
   },
   "source": [
    "## Introduction"
   ]
  },
  {
   "cell_type": "markdown",
   "id": "3",
   "metadata": {
    "papermill": {
     "duration": 0.004247,
     "end_time": "2025-06-20T08:28:49.756507",
     "exception": false,
     "start_time": "2025-06-20T08:28:49.752260",
     "status": "completed"
    },
    "tags": []
   },
   "source": [
    "SAX allows to easily interchange the backend of a circuit. A SAX backend consists of two static analysis steps and an evaluation step:\n",
    "\n",
    "* sax.backends.analyze_instances\n",
    "* sax.backends.analyze_circuit\n",
    "* sax.backends.evaluate_circuit"
   ]
  },
  {
   "cell_type": "markdown",
   "id": "4",
   "metadata": {
    "papermill": {
     "duration": 0.011452,
     "end_time": "2025-06-20T08:28:49.780001",
     "exception": false,
     "start_time": "2025-06-20T08:28:49.768549",
     "status": "completed"
    },
    "tags": []
   },
   "source": [
    "The `analyze_instances` step analyzes the 'shape' of the instances by running each model with default parameters. By shape we mean which port-combinations are present in the sparse S-matrix.\n",
    "\n",
    "> QUESTION: can we do this more efficiently in a functional way?\n",
    "\n",
    "After analyzing the instances, it is assumed that the shape of the instance won't change any more. **It is therefore important that you write your model functions in such a way that the port combinations present in your s-matrix *never* changes!**\n",
    "\n",
    "> NOTE: we used to do this analysis step in `analyze_circuit` by just looking at the connections present. However, this inherently assumed dense connectivity within the model. This is pretty inefficient for large sparse models with many ports. Ideally, however, we should be able to analyze the shape of our instances without running their models with default parameters..."
   ]
  },
  {
   "cell_type": "markdown",
   "id": "5",
   "metadata": {
    "papermill": {
     "duration": 0.00436,
     "end_time": "2025-06-20T08:28:49.789280",
     "exception": false,
     "start_time": "2025-06-20T08:28:49.784920",
     "status": "completed"
    },
    "tags": []
   },
   "source": [
    "The `analyze_circuit` step should statically analyze the connections and ports and should return an `analyzed` object. This object contains all the static objects that are needed for circuit computation but won't be recalculated when any parameters of the circuit change. See KLU Backend (below) for a non-trivial implementation of the circuit analyzation.\n",
    "\n",
    "The `evaluate_circuit` step evaluates the circuit for given `SType` instances, given whatever analysis object was returned from the `analyze_circuit` step and the instance `SType`s."
   ]
  },
  {
   "cell_type": "markdown",
   "id": "6",
   "metadata": {
    "papermill": {
     "duration": 0.005431,
     "end_time": "2025-06-20T08:28:49.802079",
     "exception": false,
     "start_time": "2025-06-20T08:28:49.796648",
     "status": "completed"
    },
    "tags": []
   },
   "source": [
    "## Example"
   ]
  },
  {
   "cell_type": "code",
   "execution_count": null,
   "id": "7",
   "metadata": {
    "papermill": {
     "duration": 1.829049,
     "end_time": "2025-06-20T08:28:51.642232",
     "exception": false,
     "start_time": "2025-06-20T08:28:49.813183",
     "status": "completed"
    },
    "tags": []
   },
   "outputs": [],
   "source": [
    "wg_sdict: sax.SDict = {\n",
    "    (\"in0\", \"out0\"): 0.5 + 0.86603j,\n",
    "    (\"out0\", \"in0\"): 0.5 + 0.86603j,\n",
    "}\n",
    "\n",
    "τ, κ = 0.5**0.5, 1j * 0.5**0.5\n",
    "dc_sdense: sax.SDense = (\n",
    "    jnp.array([[0, 0, τ, κ], [0, 0, κ, τ], [τ, κ, 0, 0], [κ, τ, 0, 0]]),\n",
    "    {\"in0\": 0, \"in1\": 1, \"out0\": 2, \"out1\": 3},\n",
    ")\n",
    "\n",
    "instances = {\n",
    "    \"dc1\": {\"component\": \"dc\"},\n",
    "    \"wg\": {\"component\": \"wg\"},\n",
    "    \"dc2\": {\"component\": \"dc\"},\n",
    "}\n",
    "connections = {\n",
    "    \"dc1,out0\": \"wg,in0\",\n",
    "    \"wg,out0\": \"dc2,in0\",\n",
    "    \"dc1,out1\": \"dc2,in1\",\n",
    "}\n",
    "ports = {\n",
    "    \"in0\": \"dc1,in0\",\n",
    "    \"in1\": \"dc1,in1\",\n",
    "    \"out0\": \"dc2,out0\",\n",
    "    \"out1\": \"dc2,out1\",\n",
    "}\n",
    "models = {\n",
    "    \"wg\": lambda: wg_sdict,\n",
    "    \"dc\": lambda: dc_sdense,\n",
    "}\n",
    "\n",
    "analyzed_instances = sax.backends.analyze_instances(instances, models)\n",
    "analyzed_circuit = sax.backends.analyze_circuit(analyzed_instances, connections, ports)\n",
    "mzi_sdict = sax.sdict(\n",
    "    sax.backends.evaluate_circuit(\n",
    "        analyzed_circuit, {k: models[v[\"component\"]]() for k, v in instances.items()}\n",
    "    )\n",
    ")\n",
    "mzi_sdict"
   ]
  },
  {
   "cell_type": "markdown",
   "id": "8",
   "metadata": {
    "papermill": {
     "duration": 0.004772,
     "end_time": "2025-06-20T08:28:51.659045",
     "exception": false,
     "start_time": "2025-06-20T08:28:51.654273",
     "status": "completed"
    },
    "tags": []
   },
   "source": [
    "## Filipsson-Gunnar Backend"
   ]
  },
  {
   "cell_type": "markdown",
   "id": "9",
   "metadata": {
    "papermill": {
     "duration": 0.004832,
     "end_time": "2025-06-20T08:28:51.698648",
     "exception": false,
     "start_time": "2025-06-20T08:28:51.693816",
     "status": "completed"
    },
    "tags": []
   },
   "source": [
    "> NOTE: Since The KLU Backend (see below) is Superior to the Filipsson-Gunnar backend, SAX will default (since v0.10.0) to the KLU backend if `klujax` is installed.name1"
   ]
  },
  {
   "cell_type": "markdown",
   "id": "10",
   "metadata": {
    "papermill": {
     "duration": 0.004713,
     "end_time": "2025-06-20T08:28:51.715226",
     "exception": false,
     "start_time": "2025-06-20T08:28:51.710513",
     "status": "completed"
    },
    "tags": []
   },
   "source": [
    "The Filipsson-Gunnar backend is based on the following paper:\n",
    "\n",
    "> Filipsson, Gunnar. \"*A new general computer algorithm for S-matrix calculation of interconnected multiports.*\" 11th European Microwave Conference. IEEE, 1981.\n",
    "\n"
   ]
  },
  {
   "cell_type": "markdown",
   "id": "11",
   "metadata": {
    "papermill": {
     "duration": 0.004828,
     "end_time": "2025-06-20T08:28:51.731173",
     "exception": false,
     "start_time": "2025-06-20T08:28:51.726345",
     "status": "completed"
    },
    "tags": []
   },
   "source": [
    "### Algorithm Walkthrough"
   ]
  },
  {
   "cell_type": "markdown",
   "id": "12",
   "metadata": {
    "papermill": {
     "duration": 0.009579,
     "end_time": "2025-06-20T08:28:51.745389",
     "exception": false,
     "start_time": "2025-06-20T08:28:51.735810",
     "status": "completed"
    },
    "tags": []
   },
   "source": [
    "> NOTE:  This algorithm gets pretty slow for large circuits. Since SAX v0.10.0 we will default to the superior KLU backend as the KLU backend is now also jittable."
   ]
  },
  {
   "cell_type": "markdown",
   "id": "13",
   "metadata": {
    "papermill": {
     "duration": 0.006587,
     "end_time": "2025-06-20T08:28:51.757841",
     "exception": false,
     "start_time": "2025-06-20T08:28:51.751254",
     "status": "completed"
    },
    "tags": []
   },
   "source": [
    "Let's walk through all the steps of this algorithm. We'll do this for a simple MZI circuit, given by two directional couplers characterised by `dc_sdense` with a phase shifting waveguide in between `wg_sdict`:"
   ]
  },
  {
   "cell_type": "code",
   "execution_count": null,
   "id": "14",
   "metadata": {
    "papermill": {
     "duration": 0.011086,
     "end_time": "2025-06-20T08:28:51.780871",
     "exception": false,
     "start_time": "2025-06-20T08:28:51.769785",
     "status": "completed"
    },
    "tags": []
   },
   "outputs": [],
   "source": [
    "instances = {\n",
    "    \"dc1\": dc_sdense,\n",
    "    \"wg\": wg_sdict,\n",
    "    \"dc2\": dc_sdense,\n",
    "}\n",
    "connections = {\n",
    "    \"dc1,out0\": \"wg,in0\",\n",
    "    \"wg,out0\": \"dc2,in0\",\n",
    "    \"dc1,out1\": \"dc2,in1\",\n",
    "}\n",
    "ports = {\n",
    "    \"in0\": \"dc1,in0\",\n",
    "    \"in1\": \"dc1,in1\",\n",
    "    \"out0\": \"dc2,out0\",\n",
    "    \"out1\": \"dc2,out1\",\n",
    "}"
   ]
  },
  {
   "cell_type": "markdown",
   "id": "15",
   "metadata": {
    "papermill": {
     "duration": 0.004769,
     "end_time": "2025-06-20T08:28:51.796395",
     "exception": false,
     "start_time": "2025-06-20T08:28:51.791626",
     "status": "completed"
    },
    "tags": []
   },
   "source": [
    "as a first step, we construct the `reversed_ports`, it's actually easier to work with `reversed_ports` (we chose the opposite convention in the netlist definition to adhere to the GDSFactory netlist convention):"
   ]
  },
  {
   "cell_type": "code",
   "execution_count": null,
   "id": "16",
   "metadata": {
    "papermill": {
     "duration": 0.010016,
     "end_time": "2025-06-20T08:28:51.811116",
     "exception": false,
     "start_time": "2025-06-20T08:28:51.801100",
     "status": "completed"
    },
    "tags": []
   },
   "outputs": [],
   "source": [
    "reversed_ports = {v: k for k, v in ports.items()}"
   ]
  },
  {
   "cell_type": "markdown",
   "id": "17",
   "metadata": {
    "papermill": {
     "duration": 0.004701,
     "end_time": "2025-06-20T08:28:51.826725",
     "exception": false,
     "start_time": "2025-06-20T08:28:51.822024",
     "status": "completed"
    },
    "tags": []
   },
   "source": [
    "The first real step of the algorithm is to create the 'block diagonal sdict`:"
   ]
  },
  {
   "cell_type": "code",
   "execution_count": null,
   "id": "18",
   "metadata": {
    "papermill": {
     "duration": 0.032205,
     "end_time": "2025-06-20T08:28:51.871349",
     "exception": false,
     "start_time": "2025-06-20T08:28:51.839144",
     "status": "completed"
    },
    "tags": []
   },
   "outputs": [],
   "source": [
    "block_diag = {}\n",
    "for name, S in instances.items():\n",
    "    block_diag.update(\n",
    "        {(f\"{name},{p1}\", f\"{name},{p2}\"): v for (p1, p2), v in sax.sdict(S).items()}\n",
    "    )"
   ]
  },
  {
   "cell_type": "markdown",
   "id": "19",
   "metadata": {
    "papermill": {
     "duration": 0.012477,
     "end_time": "2025-06-20T08:28:51.897654",
     "exception": false,
     "start_time": "2025-06-20T08:28:51.885177",
     "status": "completed"
    },
    "tags": []
   },
   "source": [
    "we can optionally filter out zeros from the resulting block_diag representation. Just note that this will make the resuling function unjittable (the resulting 'shape' (i.e. keys) of the dictionary would depend on the data itself, which is not allowed in JAX jit). We're doing it here to avoid printing zeros but **internally this is not done by default**."
   ]
  },
  {
   "cell_type": "code",
   "execution_count": null,
   "id": "20",
   "metadata": {
    "papermill": {
     "duration": 0.056852,
     "end_time": "2025-06-20T08:28:51.968318",
     "exception": false,
     "start_time": "2025-06-20T08:28:51.911466",
     "status": "completed"
    },
    "tags": []
   },
   "outputs": [],
   "source": [
    "block_diag = {k: v for k, v in block_diag.items() if jnp.abs(v) > 1e-10}\n",
    "block_diag"
   ]
  },
  {
   "cell_type": "markdown",
   "id": "21",
   "metadata": {
    "papermill": {
     "duration": 0.004932,
     "end_time": "2025-06-20T08:28:51.979151",
     "exception": false,
     "start_time": "2025-06-20T08:28:51.974219",
     "status": "completed"
    },
    "tags": []
   },
   "source": [
    "next, we sort the connections such that similar components are grouped together:"
   ]
  },
  {
   "cell_type": "code",
   "execution_count": null,
   "id": "22",
   "metadata": {
    "papermill": {
     "duration": 0.014671,
     "end_time": "2025-06-20T08:28:52.005027",
     "exception": false,
     "start_time": "2025-06-20T08:28:51.990356",
     "status": "completed"
    },
    "tags": []
   },
   "outputs": [],
   "source": [
    "from sax.backends.filipsson_gunnar import _connections_sort_key\n",
    "\n",
    "sorted_connections = sorted(connections.items(), key=_connections_sort_key)\n",
    "sorted_connections"
   ]
  },
  {
   "cell_type": "markdown",
   "id": "23",
   "metadata": {
    "papermill": {
     "duration": 0.008365,
     "end_time": "2025-06-20T08:28:52.022691",
     "exception": false,
     "start_time": "2025-06-20T08:28:52.014326",
     "status": "completed"
    },
    "tags": []
   },
   "source": [
    "Now we iterate over the sorted connections and connect components as they come in. Connected components take over the name of the first component in the connection, but we keep a set of components belonging to that key in `all_connected_instances`.\n",
    "\n",
    "This is how this `all_connected_instances` dictionary looks initially."
   ]
  },
  {
   "cell_type": "code",
   "execution_count": null,
   "id": "24",
   "metadata": {
    "papermill": {
     "duration": 0.022183,
     "end_time": "2025-06-20T08:28:52.051247",
     "exception": false,
     "start_time": "2025-06-20T08:28:52.029064",
     "status": "completed"
    },
    "tags": []
   },
   "outputs": [],
   "source": [
    "all_connected_instances = {k: {k} for k in instances}\n",
    "all_connected_instances"
   ]
  },
  {
   "cell_type": "markdown",
   "id": "25",
   "metadata": {
    "papermill": {
     "duration": 0.004885,
     "end_time": "2025-06-20T08:28:52.067598",
     "exception": false,
     "start_time": "2025-06-20T08:28:52.062713",
     "status": "completed"
    },
    "tags": []
   },
   "source": [
    "Normally we would loop over every connection in `sorted_connections` now, but let's just go through it once at first:"
   ]
  },
  {
   "cell_type": "code",
   "execution_count": null,
   "id": "26",
   "metadata": {
    "papermill": {
     "duration": 0.021651,
     "end_time": "2025-06-20T08:28:52.100407",
     "exception": false,
     "start_time": "2025-06-20T08:28:52.078756",
     "status": "completed"
    },
    "tags": []
   },
   "outputs": [],
   "source": [
    "# for k, l in sorted_connections:\n",
    "k, l = sorted_connections[0]\n",
    "k, l"
   ]
  },
  {
   "cell_type": "markdown",
   "id": "27",
   "metadata": {
    "papermill": {
     "duration": 0.011356,
     "end_time": "2025-06-20T08:28:52.122528",
     "exception": false,
     "start_time": "2025-06-20T08:28:52.111172",
     "status": "completed"
    },
    "tags": []
   },
   "source": [
    "`k` and `l` are the S-matrix indices we're trying to connect. Note that in our sparse `SDict` notation these S-matrix indices are in fact equivalent with the port names `('dc1,out1', 'dc2,in1')`!"
   ]
  },
  {
   "cell_type": "markdown",
   "id": "28",
   "metadata": {
    "papermill": {
     "duration": 0.010675,
     "end_time": "2025-06-20T08:28:52.145277",
     "exception": false,
     "start_time": "2025-06-20T08:28:52.134602",
     "status": "completed"
    },
    "tags": []
   },
   "source": [
    "first we split the connection string into an instance name and a port name (we don't use the port name yet):"
   ]
  },
  {
   "cell_type": "code",
   "execution_count": null,
   "id": "29",
   "metadata": {
    "papermill": {
     "duration": 0.032432,
     "end_time": "2025-06-20T08:28:52.190920",
     "exception": false,
     "start_time": "2025-06-20T08:28:52.158488",
     "status": "completed"
    },
    "tags": []
   },
   "outputs": [],
   "source": [
    "name1, _ = k.split(\",\")\n",
    "name2, _ = l.split(\",\")"
   ]
  },
  {
   "cell_type": "markdown",
   "id": "30",
   "metadata": {
    "papermill": {
     "duration": 0.01821,
     "end_time": "2025-06-20T08:28:52.221007",
     "exception": false,
     "start_time": "2025-06-20T08:28:52.202797",
     "status": "completed"
    },
    "tags": []
   },
   "source": [
    "We then obtain the new set of connected instances."
   ]
  },
  {
   "cell_type": "code",
   "execution_count": null,
   "id": "31",
   "metadata": {
    "papermill": {
     "duration": 0.023441,
     "end_time": "2025-06-20T08:28:52.249578",
     "exception": false,
     "start_time": "2025-06-20T08:28:52.226137",
     "status": "completed"
    },
    "tags": []
   },
   "outputs": [],
   "source": [
    "connected_instances = all_connected_instances[name1] | all_connected_instances[name2]\n",
    "connected_instances"
   ]
  },
  {
   "cell_type": "markdown",
   "id": "32",
   "metadata": {
    "papermill": {
     "duration": 0.004776,
     "end_time": "2025-06-20T08:28:52.266762",
     "exception": false,
     "start_time": "2025-06-20T08:28:52.261986",
     "status": "completed"
    },
    "tags": []
   },
   "source": [
    "We then iterate over each of the components in this set and make sure each of the component names in that set maps to that set (yes, I know... confusing). We do this to be able to keep track with which components each of the components in the circuit is currently already connected to."
   ]
  },
  {
   "cell_type": "code",
   "execution_count": null,
   "id": "33",
   "metadata": {
    "papermill": {
     "duration": 0.019164,
     "end_time": "2025-06-20T08:28:52.290955",
     "exception": false,
     "start_time": "2025-06-20T08:28:52.271791",
     "status": "completed"
    },
    "tags": []
   },
   "outputs": [],
   "source": [
    "for name in connected_instances:\n",
    "    all_connected_instances[name] = connected_instances\n",
    "\n",
    "all_connected_instances"
   ]
  },
  {
   "cell_type": "markdown",
   "id": "34",
   "metadata": {
    "papermill": {
     "duration": 0.018053,
     "end_time": "2025-06-20T08:28:52.322028",
     "exception": false,
     "start_time": "2025-06-20T08:28:52.303975",
     "status": "completed"
    },
    "tags": []
   },
   "source": [
    "now we need to obtain all the ports of the currently connected instances."
   ]
  },
  {
   "cell_type": "code",
   "execution_count": null,
   "id": "35",
   "metadata": {
    "papermill": {
     "duration": 0.011081,
     "end_time": "2025-06-20T08:28:52.345060",
     "exception": false,
     "start_time": "2025-06-20T08:28:52.333979",
     "status": "completed"
    },
    "tags": []
   },
   "outputs": [],
   "source": [
    "current_ports = tuple(\n",
    "    p\n",
    "    for instance in connected_instances\n",
    "    for p in set([p for p, _ in block_diag] + [p for _, p in block_diag])\n",
    "    if p.startswith(f\"{instance},\")\n",
    ")\n",
    "\n",
    "current_ports"
   ]
  },
  {
   "cell_type": "markdown",
   "id": "36",
   "metadata": {
    "papermill": {
     "duration": 0.01228,
     "end_time": "2025-06-20T08:28:52.375292",
     "exception": false,
     "start_time": "2025-06-20T08:28:52.363012",
     "status": "completed"
    },
    "tags": []
   },
   "source": [
    "Now the Gunnar Algorithm is used. Given a (block-diagonal) 'S-matrix' `block_diag` and a 'connection matrix' `current_ports` we can interconnect port `k` and `l` as follows:\n",
    "\n",
    "> Note: some creative freedom is used here. In SAX, the matrices we're talking about are in fact represented by a sparse dictionary (an `SDict`), i.e. similar to a COO sparse matrix for which the indices are the port names."
   ]
  },
  {
   "cell_type": "markdown",
   "id": "37",
   "metadata": {
    "papermill": {
     "duration": 0.014332,
     "end_time": "2025-06-20T08:28:52.401030",
     "exception": false,
     "start_time": "2025-06-20T08:28:52.386698",
     "status": "completed"
    },
    "tags": []
   },
   "source": [
    "Just as before, we're filtering the zeros from the sparse representation (remember, internally this is **not done by default**)."
   ]
  },
  {
   "cell_type": "code",
   "execution_count": null,
   "id": "38",
   "metadata": {
    "papermill": {
     "duration": 0.013167,
     "end_time": "2025-06-20T08:28:52.425645",
     "exception": false,
     "start_time": "2025-06-20T08:28:52.412478",
     "status": "completed"
    },
    "tags": []
   },
   "outputs": [],
   "source": [
    "block_diag = {k: v for k, v in block_diag.items() if jnp.abs(v) > 1e-10}\n",
    "block_diag"
   ]
  },
  {
   "cell_type": "markdown",
   "id": "39",
   "metadata": {
    "papermill": {
     "duration": 0.007631,
     "end_time": "2025-06-20T08:28:52.444012",
     "exception": false,
     "start_time": "2025-06-20T08:28:52.436381",
     "status": "completed"
    },
    "tags": []
   },
   "source": [
    "This is the resulting block-diagonal matrix after interconnecting two ports (i.e. basically saying that those two ports are the same port). Because these ports are now connected we should actually remove them from the S-matrix representation (they are integrated into the S-parameters of the other connections):"
   ]
  },
  {
   "cell_type": "code",
   "execution_count": null,
   "id": "40",
   "metadata": {
    "papermill": {
     "duration": 0.029512,
     "end_time": "2025-06-20T08:28:52.484344",
     "exception": false,
     "start_time": "2025-06-20T08:28:52.454832",
     "status": "completed"
    },
    "tags": []
   },
   "outputs": [],
   "source": [
    "for i, j in list(block_diag.keys()):\n",
    "    is_connected = j in (k, l) or i in (k, l)\n",
    "    is_in_output_ports = i in reversed_ports and j in reversed_ports\n",
    "    if is_connected and not is_in_output_ports:\n",
    "        del block_diag[i, j]  # we're no longer interested in these port combinations\n",
    "\n",
    "block_diag"
   ]
  },
  {
   "cell_type": "markdown",
   "id": "41",
   "metadata": {
    "papermill": {
     "duration": 0.009951,
     "end_time": "2025-06-20T08:28:52.508302",
     "exception": false,
     "start_time": "2025-06-20T08:28:52.498351",
     "status": "completed"
    },
    "tags": []
   },
   "source": [
    "Note that this deletion of values **does NOT** make this operation un-jittable. The deletion depends on the ports of the dictionary (i.e. on the dictionary 'shape'), not on the values."
   ]
  },
  {
   "cell_type": "markdown",
   "id": "42",
   "metadata": {
    "papermill": {
     "duration": 0.024214,
     "end_time": "2025-06-20T08:28:52.537606",
     "exception": false,
     "start_time": "2025-06-20T08:28:52.513392",
     "status": "completed"
    },
    "tags": []
   },
   "source": [
    "We now basically have to do those steps again for all other connections:"
   ]
  },
  {
   "cell_type": "code",
   "execution_count": null,
   "id": "43",
   "metadata": {
    "papermill": {
     "duration": 0.64526,
     "end_time": "2025-06-20T08:28:53.200752",
     "exception": false,
     "start_time": "2025-06-20T08:28:52.555492",
     "status": "completed"
    },
    "tags": []
   },
   "outputs": [],
   "source": [
    "from sax.backends.filipsson_gunnar import _interconnect_ports\n",
    "\n",
    "# for k, l in sorted_connections:\n",
    "for k, l in sorted_connections[\n",
    "    1:\n",
    "]:  # we just did the first iteration of this loop above...\n",
    "    name1, _ = k.split(\",\")\n",
    "    name2, _ = l.split(\",\")\n",
    "    connected_instances = (\n",
    "        all_connected_instances[name1] | all_connected_instances[name2]\n",
    "    )\n",
    "    for name in connected_instances:\n",
    "        all_connected_instances[name] = connected_instances\n",
    "    current_ports = tuple(\n",
    "        p\n",
    "        for instance in connected_instances\n",
    "        for p in set([p for p, _ in block_diag] + [p for _, p in block_diag])\n",
    "        if p.startswith(f\"{instance},\")\n",
    "    )\n",
    "    block_diag.update(_interconnect_ports(block_diag, current_ports, k, l))\n",
    "    for i, j in list(block_diag.keys()):\n",
    "        is_connected = j in (k, l) or i in (k, l)\n",
    "        is_in_output_ports = i in reversed_ports and j in reversed_ports\n",
    "        if is_connected and not is_in_output_ports:\n",
    "            del block_diag[\n",
    "                i, j\n",
    "            ]  # we're no longer interested in these port combinations"
   ]
  },
  {
   "cell_type": "markdown",
   "id": "44",
   "metadata": {
    "papermill": {
     "duration": 0.005194,
     "end_time": "2025-06-20T08:28:53.217209",
     "exception": false,
     "start_time": "2025-06-20T08:28:53.212015",
     "status": "completed"
    },
    "tags": []
   },
   "source": [
    "This is the final MZI matrix we're getting:"
   ]
  },
  {
   "cell_type": "code",
   "execution_count": null,
   "id": "45",
   "metadata": {
    "papermill": {
     "duration": 0.014675,
     "end_time": "2025-06-20T08:28:53.236810",
     "exception": false,
     "start_time": "2025-06-20T08:28:53.222135",
     "status": "completed"
    },
    "tags": []
   },
   "outputs": [],
   "source": [
    "block_diag"
   ]
  },
  {
   "cell_type": "markdown",
   "id": "46",
   "metadata": {
    "papermill": {
     "duration": 0.017247,
     "end_time": "2025-06-20T08:28:53.266474",
     "exception": false,
     "start_time": "2025-06-20T08:28:53.249227",
     "status": "completed"
    },
    "tags": []
   },
   "source": [
    "All that's left is to rename these internal ports of the format `{instance},{port}` into output ports of the resulting circuit:"
   ]
  },
  {
   "cell_type": "code",
   "execution_count": null,
   "id": "47",
   "metadata": {
    "papermill": {
     "duration": 0.030838,
     "end_time": "2025-06-20T08:28:53.314258",
     "exception": false,
     "start_time": "2025-06-20T08:28:53.283420",
     "status": "completed"
    },
    "tags": []
   },
   "outputs": [],
   "source": [
    "circuit_sdict: sax.SDict = {\n",
    "    (reversed_ports[i], reversed_ports[j]): v\n",
    "    for (i, j), v in block_diag.items()\n",
    "    if i in reversed_ports and j in reversed_ports\n",
    "}\n",
    "circuit_sdict"
   ]
  },
  {
   "cell_type": "markdown",
   "id": "48",
   "metadata": {
    "papermill": {
     "duration": 0.006401,
     "end_time": "2025-06-20T08:28:53.328753",
     "exception": false,
     "start_time": "2025-06-20T08:28:53.322352",
     "status": "completed"
    },
    "tags": []
   },
   "source": [
    "And that's it. We evaluated the `SDict` of the full circuit."
   ]
  },
  {
   "cell_type": "markdown",
   "id": "49",
   "metadata": {
    "papermill": {
     "duration": 0.006838,
     "end_time": "2025-06-20T08:28:53.343780",
     "exception": false,
     "start_time": "2025-06-20T08:28:53.336942",
     "status": "completed"
    },
    "tags": []
   },
   "source": [
    "### Algorithm Improvements"
   ]
  },
  {
   "cell_type": "markdown",
   "id": "50",
   "metadata": {
    "papermill": {
     "duration": 0.015239,
     "end_time": "2025-06-20T08:28:53.371891",
     "exception": false,
     "start_time": "2025-06-20T08:28:53.356652",
     "status": "completed"
    },
    "tags": []
   },
   "source": [
    "The Filipsson-Gunar algorithm is \n",
    "\n",
    "* pretty fast for small circuits 🙂\n",
    "* jittable 🙂\n",
    "* differentiable 🙂\n",
    "* GPU-compatible 🙂\n",
    "\n",
    "This algorithm is however:\n",
    "\n",
    "* **really slow** for large circuits 😥\n",
    "* **pretty slow** to jit the resulting circuit function 😥\n",
    "* **pretty slow** to differentiate the resulting circuit function 😥\n",
    "\n",
    "There are probably still plenty of improvements possible for this algorithm:\n",
    "\n",
    "* **¿** Network analysis (ft. NetworkX ?) to obtain which ports of the block diagonal representation are relevant to obtain the output connection **?**\n",
    "* **¿** Smarter ordering of connections to always have the minimum amount of ports in the intermediate block-diagonal representation **?**\n",
    "* **¿** Using `jax.lax.scan` in stead of python native for-loops in `_interconnect_ports` **?**\n",
    "* **¿** ... **?**\n",
    "\n",
    "Bottom line is... Do you know how to improve this algorithm or how to implement the above suggestions? Please open a Merge Request!"
   ]
  },
  {
   "cell_type": "markdown",
   "id": "51",
   "metadata": {
    "papermill": {
     "duration": 0.011584,
     "end_time": "2025-06-20T08:28:53.398960",
     "exception": false,
     "start_time": "2025-06-20T08:28:53.387376",
     "status": "completed"
    },
    "tags": []
   },
   "source": [
    "## KLU Backend\n",
    "\n",
    "The KLU backend is using `klujax`, which uses the [SuiteSparse](https://github.com/DrTimothyAldenDavis/SuiteSparse) C++ libraries for sparse matrix evaluations to evaluate the circuit insanely fast on a CPU. The specific algorith being used in question is the KLU algorithm:\n",
    "\n",
    "> Ekanathan Palamadai Natariajan. \"*KLU - A high performance sparse linear solver for circuit simulation problems.*\""
   ]
  },
  {
   "cell_type": "markdown",
   "id": "52",
   "metadata": {
    "papermill": {
     "duration": 0.032101,
     "end_time": "2025-06-20T08:28:53.441748",
     "exception": false,
     "start_time": "2025-06-20T08:28:53.409647",
     "status": "completed"
    },
    "tags": []
   },
   "source": [
    "### Theoretical Background"
   ]
  },
  {
   "cell_type": "markdown",
   "id": "53",
   "metadata": {
    "papermill": {
     "duration": 0.011871,
     "end_time": "2025-06-20T08:28:53.466165",
     "exception": false,
     "start_time": "2025-06-20T08:28:53.454294",
     "status": "completed"
    },
    "tags": []
   },
   "source": [
    "The core of the KLU algorithm is supported by `klujax`, which internally uses the Suitesparse libraries to solve the sparse system `Ax = b`, in which A is a sparse matrix."
   ]
  },
  {
   "cell_type": "markdown",
   "id": "54",
   "metadata": {
    "papermill": {
     "duration": 0.005213,
     "end_time": "2025-06-20T08:28:53.482765",
     "exception": false,
     "start_time": "2025-06-20T08:28:53.477552",
     "status": "completed"
    },
    "tags": []
   },
   "source": [
    "Now it only comes down to shoehorn our circuit evaluation into a sparse linear system of equations $Ax=b$ where we need to solve for $x$ using `klujax`. \n",
    "Consider the block diagonal matrix $S_{bd}$ of all components in the circuit acting on the fields $x_{in}$ at each of the individual ports of each of the component integrated in $S^{bd}$. The output fields $x^{out}$ at each of those ports is then given by:\n",
    "\n",
    "$$\n",
    "x^{out} = S_{bd} x^{in}\n",
    "$$"
   ]
  },
  {
   "cell_type": "markdown",
   "id": "55",
   "metadata": {
    "papermill": {
     "duration": 0.006949,
     "end_time": "2025-06-20T08:28:53.501869",
     "exception": false,
     "start_time": "2025-06-20T08:28:53.494920",
     "status": "completed"
    },
    "tags": []
   },
   "source": [
    "However, $S_{bd}$ is not the S-matrix of the circuit as it does not encode any connectivity *between* the components. Connecting two component ports basically comes down to enforcing equality between the output fields at one port of a component with the input fields at another port of another (or maybe even the same) component. This equality can be enforced by creating an internal connection matrix, connecting all internal ports of the circuit:\n",
    "\n",
    "$$\n",
    "x^{in} = C_{int} x^{out}\n",
    "$$"
   ]
  },
  {
   "cell_type": "markdown",
   "id": "56",
   "metadata": {
    "papermill": {
     "duration": 0.008372,
     "end_time": "2025-06-20T08:28:53.524120",
     "exception": false,
     "start_time": "2025-06-20T08:28:53.515748",
     "status": "completed"
    },
    "tags": []
   },
   "source": [
    "We can thus write the following combined equation:\n",
    "\n",
    "$$\n",
    "x^{in} = C_{int} S_{bd} x^{in}\n",
    "$$"
   ]
  },
  {
   "cell_type": "markdown",
   "id": "57",
   "metadata": {
    "papermill": {
     "duration": 0.012555,
     "end_time": "2025-06-20T08:28:53.546043",
     "exception": false,
     "start_time": "2025-06-20T08:28:53.533488",
     "status": "completed"
    },
    "tags": []
   },
   "source": [
    "But this is not the complete story... Some component ports will *not* be *interconnected* with other ports: they will become the new *external ports* (or output ports) of the combined circuit. We can include those external ports into the above equation as follows:\n",
    "\n",
    "$$\n",
    "\\begin{pmatrix} x^{in} \\\\ x^{out}_{ext} \\end{pmatrix} = \\begin{pmatrix} C_{int} & C_{ext} \\\\ C_{ext}^T & 0 \\end{pmatrix} \\begin{pmatrix} S_{bd} x^{in} \\\\ x_{ext}^{in} \\end{pmatrix} \n",
    "$$"
   ]
  },
  {
   "cell_type": "markdown",
   "id": "58",
   "metadata": {
    "papermill": {
     "duration": 0.005607,
     "end_time": "2025-06-20T08:28:53.560598",
     "exception": false,
     "start_time": "2025-06-20T08:28:53.554991",
     "status": "completed"
    },
    "tags": []
   },
   "source": [
    "Note that $C_{ext}$ is obviously **not** a square matrix. Eliminating $x^{in}$ from the equation above finally yields:\n",
    "\n",
    "$$\n",
    "x^{out}_{ext} = C^T_{ext} S_{bd} (I - C_{int}S_{bd})^{-1} C_{ext}x_{ext}^{in}\n",
    "$$"
   ]
  },
  {
   "cell_type": "markdown",
   "id": "59",
   "metadata": {
    "papermill": {
     "duration": 0.005426,
     "end_time": "2025-06-20T08:28:53.574424",
     "exception": false,
     "start_time": "2025-06-20T08:28:53.568998",
     "status": "completed"
    },
    "tags": []
   },
   "source": [
    "We basically found a representation of the circuit S-matrix:\n",
    "\n",
    "$$\n",
    "S = C^T_{ext} S_{bd} (I - C_{int}S_{bd})^{-1} C_{ext}\n",
    "$$"
   ]
  },
  {
   "cell_type": "markdown",
   "id": "60",
   "metadata": {
    "papermill": {
     "duration": 0.008441,
     "end_time": "2025-06-20T08:28:53.594565",
     "exception": false,
     "start_time": "2025-06-20T08:28:53.586124",
     "status": "completed"
    },
    "tags": []
   },
   "source": [
    "Obviously, we won't want to calculate the inverse $(I - C_{int}S_{bd})^{-1}$, which is the inverse of a very sparse matrix (a connection matrix only has a single 1 per line), which very often is not even sparse itself. In stead we'll use the `solve_klu` function:\n",
    "\n",
    "$$\n",
    "S = C^T_{ext} S_{bd} \\texttt{solve}\\_\\texttt{klu}\\left((I - C_{int}S_{bd}), C_{ext}\\right)\n",
    "$$"
   ]
  },
  {
   "cell_type": "markdown",
   "id": "61",
   "metadata": {
    "papermill": {
     "duration": 0.012539,
     "end_time": "2025-06-20T08:28:53.620553",
     "exception": false,
     "start_time": "2025-06-20T08:28:53.608014",
     "status": "completed"
    },
    "tags": []
   },
   "source": [
    "Moreover, $C_{ext}^TS_{bd}$ is also a sparse matrix, therefore we'll also need a `mul_coo` routine:\n",
    "\n",
    "$$\n",
    "S = C^T_{ext} \\texttt{mul}\\_\\texttt{coo}\\left(S_{bd},~~\\texttt{solve}\\_\\texttt{klu}\\left((I - C_{int}S_{bd}),~C_{ext}\\right)\\right)\n",
    "$$"
   ]
  },
  {
   "cell_type": "markdown",
   "id": "62",
   "metadata": {
    "papermill": {
     "duration": 0.013566,
     "end_time": "2025-06-20T08:28:53.647890",
     "exception": false,
     "start_time": "2025-06-20T08:28:53.634324",
     "status": "completed"
    },
    "tags": []
   },
   "source": [
    "### Sparse Helper Functions\n"
   ]
  },
  {
   "cell_type": "markdown",
   "id": "63",
   "metadata": {
    "papermill": {
     "duration": 0.005062,
     "end_time": "2025-06-20T08:28:53.664231",
     "exception": false,
     "start_time": "2025-06-20T08:28:53.659169",
     "status": "completed"
    },
    "tags": []
   },
   "source": [
    "`klujax.solve` solves the sparse system of equations `Ax=b` for `x`. Where `A` is represented by in [COO-format](https://en.wikipedia.org/wiki/Sparse_matrix#Coordinate_list_(COO)) as (`Ai`, `Aj`, `Ax`).\n",
    "\n",
    "> Example"
   ]
  },
  {
   "cell_type": "code",
   "execution_count": null,
   "id": "64",
   "metadata": {
    "papermill": {
     "duration": 0.052813,
     "end_time": "2025-06-20T08:28:53.729663",
     "exception": false,
     "start_time": "2025-06-20T08:28:53.676850",
     "status": "completed"
    },
    "tags": []
   },
   "outputs": [],
   "source": [
    "Ai = jnp.array([0, 1, 2, 3, 4])\n",
    "Aj = jnp.array([1, 3, 4, 0, 2])\n",
    "Ax = jnp.array([5, 6, 1, 1, 2])\n",
    "b = jnp.array([5, 3, 2, 6, 1])\n",
    "x = klujax.solve(Ai, Aj, Ax, b)\n",
    "x"
   ]
  },
  {
   "cell_type": "markdown",
   "id": "65",
   "metadata": {
    "papermill": {
     "duration": 0.00549,
     "end_time": "2025-06-20T08:28:53.747140",
     "exception": false,
     "start_time": "2025-06-20T08:28:53.741650",
     "status": "completed"
    },
    "tags": []
   },
   "source": [
    "This result is indeed correct:"
   ]
  },
  {
   "cell_type": "code",
   "execution_count": null,
   "id": "66",
   "metadata": {
    "papermill": {
     "duration": 0.256225,
     "end_time": "2025-06-20T08:28:54.012478",
     "exception": false,
     "start_time": "2025-06-20T08:28:53.756253",
     "status": "completed"
    },
    "tags": []
   },
   "outputs": [],
   "source": [
    "A = jnp.zeros((5, 5)).at[Ai, Aj].set(Ax)"
   ]
  },
  {
   "cell_type": "markdown",
   "id": "67",
   "metadata": {
    "papermill": {
     "duration": 0.01048,
     "end_time": "2025-06-20T08:28:54.034890",
     "exception": false,
     "start_time": "2025-06-20T08:28:54.024410",
     "status": "completed"
    },
    "tags": []
   },
   "source": [
    "However, to use this function effectively, we probably need an extra dimension for `Ax`. Indeed, we would like to solve this equation for multiple wavelengths (or more general, for multiple circuit configurations) at once. For this we can use `jax.vmap` to expose `klujax.solve` to more dimensions for `Ax`:"
   ]
  },
  {
   "cell_type": "code",
   "execution_count": null,
   "id": "68",
   "metadata": {
    "papermill": {
     "duration": 0.0109,
     "end_time": "2025-06-20T08:28:54.053302",
     "exception": false,
     "start_time": "2025-06-20T08:28:54.042402",
     "status": "completed"
    },
    "tags": []
   },
   "outputs": [],
   "source": [
    "# exports\n",
    "solve_klu = jax.vmap(klujax.solve, (None, None, 0, None), 0)"
   ]
  },
  {
   "cell_type": "markdown",
   "id": "69",
   "metadata": {
    "papermill": {
     "duration": 0.005084,
     "end_time": "2025-06-20T08:28:54.069873",
     "exception": false,
     "start_time": "2025-06-20T08:28:54.064789",
     "status": "completed"
    },
    "tags": []
   },
   "source": [
    "Let's now redefine `Ax` and see what it gives:"
   ]
  },
  {
   "cell_type": "code",
   "execution_count": null,
   "id": "70",
   "metadata": {
    "papermill": {
     "duration": 0.067119,
     "end_time": "2025-06-20T08:28:54.148391",
     "exception": false,
     "start_time": "2025-06-20T08:28:54.081272",
     "status": "completed"
    },
    "tags": []
   },
   "outputs": [],
   "source": [
    "Ai = jnp.array([0, 1, 2, 3, 4])\n",
    "Aj = jnp.array([1, 3, 4, 0, 2])\n",
    "Ax = jnp.array([[5, 6, 1, 1, 2], [5, 4, 3, 2, 1], [1, 2, 3, 4, 5]])\n",
    "b = jnp.array([5, 3, 2, 6, 1])\n",
    "x = solve_klu(Ai, Aj, Ax, b)\n",
    "x"
   ]
  },
  {
   "cell_type": "markdown",
   "id": "71",
   "metadata": {
    "papermill": {
     "duration": 0.005023,
     "end_time": "2025-06-20T08:28:54.164695",
     "exception": false,
     "start_time": "2025-06-20T08:28:54.159672",
     "status": "completed"
    },
    "tags": []
   },
   "source": [
    "This result is indeed correct:"
   ]
  },
  {
   "cell_type": "code",
   "execution_count": null,
   "id": "72",
   "metadata": {
    "papermill": {
     "duration": 0.132708,
     "end_time": "2025-06-20T08:28:54.308808",
     "exception": false,
     "start_time": "2025-06-20T08:28:54.176100",
     "status": "completed"
    },
    "tags": []
   },
   "outputs": [],
   "source": [
    "A = jnp.zeros((3, 5, 5)).at[:, Ai, Aj].set(Ax)\n",
    "jnp.einsum(\"ijk,ik->ij\", A, x)"
   ]
  },
  {
   "cell_type": "markdown",
   "id": "73",
   "metadata": {
    "papermill": {
     "duration": 0.005146,
     "end_time": "2025-06-20T08:28:54.325409",
     "exception": false,
     "start_time": "2025-06-20T08:28:54.320263",
     "status": "completed"
    },
    "tags": []
   },
   "source": [
    "Additionally, we need a way to multiply a sparse COO-matrix with a dense vector. This can be done with `klujax.coo_mul_vec`:"
   ]
  },
  {
   "cell_type": "markdown",
   "id": "74",
   "metadata": {
    "papermill": {
     "duration": 0.005405,
     "end_time": "2025-06-20T08:28:54.342839",
     "exception": false,
     "start_time": "2025-06-20T08:28:54.337434",
     "status": "completed"
    },
    "tags": []
   },
   "source": [
    "However, it's useful to allow a batch dimension, this time *both* in `Ax` and in `b`:"
   ]
  },
  {
   "cell_type": "code",
   "execution_count": null,
   "id": "75",
   "metadata": {
    "papermill": {
     "duration": 0.011971,
     "end_time": "2025-06-20T08:28:54.366491",
     "exception": false,
     "start_time": "2025-06-20T08:28:54.354520",
     "status": "completed"
    },
    "tags": []
   },
   "outputs": [],
   "source": [
    "# exports\n",
    "mul_coo = None\n",
    "mul_coo = jax.vmap(klujax.dot, (None, None, 0, 0), 0)"
   ]
  },
  {
   "cell_type": "markdown",
   "id": "76",
   "metadata": {
    "papermill": {
     "duration": 0.005203,
     "end_time": "2025-06-20T08:28:54.383062",
     "exception": false,
     "start_time": "2025-06-20T08:28:54.377859",
     "status": "completed"
    },
    "tags": []
   },
   "source": [
    "Let's confirm this does the right thing:"
   ]
  },
  {
   "cell_type": "code",
   "execution_count": null,
   "id": "77",
   "metadata": {
    "papermill": {
     "duration": 0.039592,
     "end_time": "2025-06-20T08:28:54.434225",
     "exception": false,
     "start_time": "2025-06-20T08:28:54.394633",
     "status": "completed"
    },
    "tags": []
   },
   "outputs": [],
   "source": [
    "result = mul_coo(Ai, Aj, Ax, x)\n",
    "result"
   ]
  },
  {
   "cell_type": "markdown",
   "id": "78",
   "metadata": {
    "papermill": {
     "duration": 0.005237,
     "end_time": "2025-06-20T08:28:54.450867",
     "exception": false,
     "start_time": "2025-06-20T08:28:54.445630",
     "status": "completed"
    },
    "tags": []
   },
   "source": [
    "### Example"
   ]
  },
  {
   "cell_type": "code",
   "execution_count": null,
   "id": "79",
   "metadata": {
    "papermill": {
     "duration": 0.058194,
     "end_time": "2025-06-20T08:28:54.521060",
     "exception": false,
     "start_time": "2025-06-20T08:28:54.462866",
     "status": "completed"
    },
    "tags": []
   },
   "outputs": [],
   "source": [
    "wg_sdict: sax.SDict = {\n",
    "    (\"in0\", \"out0\"): 0.5 + 0.86603j,\n",
    "    (\"out0\", \"in0\"): 0.5 + 0.86603j,\n",
    "}\n",
    "\n",
    "τ, κ = 0.5**0.5, 1j * 0.5**0.5\n",
    "dc_sdense: sax.SDense = (\n",
    "    jnp.array([[0, 0, τ, κ], [0, 0, κ, τ], [τ, κ, 0, 0], [κ, τ, 0, 0]]),\n",
    "    {\"out0\": 0, \"out1\": 1, \"in0\": 2, \"in1\": 3},\n",
    ")\n",
    "\n",
    "instances = {\n",
    "    \"dc1\": {\"component\": \"dc\"},\n",
    "    \"wg\": {\"component\": \"wg\"},\n",
    "    \"dc2\": {\"component\": \"dc\"},\n",
    "}\n",
    "connections = {\n",
    "    \"dc1,out0\": \"wg,in0\",\n",
    "    \"wg,out0\": \"dc2,in0\",\n",
    "    \"dc1,out1\": \"dc2,in1\",\n",
    "}\n",
    "ports = {\n",
    "    \"in0\": \"dc1,in0\",\n",
    "    \"in1\": \"dc1,in1\",\n",
    "    \"out0\": \"dc2,out0\",\n",
    "    \"out1\": \"dc2,out1\",\n",
    "}\n",
    "models = {\n",
    "    \"wg\": lambda: wg_sdict,\n",
    "    \"dc\": lambda: dc_sdense,\n",
    "}\n",
    "\n",
    "\n",
    "analyzed_instances = sax.backends.analyze_instances_klu(instances, models)\n",
    "analyzed_circuit = sax.backends.analyze_circuit_klu(\n",
    "    analyzed_instances, connections, ports\n",
    ")\n",
    "S, pm = sax.backends.evaluate_circuit_klu(\n",
    "    analyzed_circuit, {k: models[v[\"component\"]]() for k, v in instances.items()}\n",
    ")"
   ]
  },
  {
   "cell_type": "markdown",
   "id": "80",
   "metadata": {
    "papermill": {
     "duration": 0.0067,
     "end_time": "2025-06-20T08:28:54.540223",
     "exception": false,
     "start_time": "2025-06-20T08:28:54.533523",
     "status": "completed"
    },
    "tags": []
   },
   "source": [
    "the KLU backend yields `SDense` results by default:"
   ]
  },
  {
   "cell_type": "code",
   "execution_count": null,
   "id": "81",
   "metadata": {
    "papermill": {
     "duration": 0.013669,
     "end_time": "2025-06-20T08:28:54.566073",
     "exception": false,
     "start_time": "2025-06-20T08:28:54.552404",
     "status": "completed"
    },
    "tags": []
   },
   "outputs": [],
   "source": [
    "mzi_sdense = (S, pm)\n",
    "mzi_sdense"
   ]
  },
  {
   "cell_type": "markdown",
   "id": "82",
   "metadata": {
    "papermill": {
     "duration": 0.010045,
     "end_time": "2025-06-20T08:28:54.591269",
     "exception": false,
     "start_time": "2025-06-20T08:28:54.581224",
     "status": "completed"
    },
    "tags": []
   },
   "source": [
    "An `SDense` is returned for perfomance reasons. By returning an `SDense` by default we prevent any internal `SDict -> SDense` conversions in deeply hierarchical circuits. It's however very easy to convert `SDense` to `SDict` as a final step. To do this, wrap the result (or the function generating the result) with `sdict`:"
   ]
  },
  {
   "cell_type": "code",
   "execution_count": null,
   "id": "83",
   "metadata": {
    "papermill": {
     "duration": 0.029959,
     "end_time": "2025-06-20T08:28:54.630316",
     "exception": false,
     "start_time": "2025-06-20T08:28:54.600357",
     "status": "completed"
    },
    "tags": []
   },
   "outputs": [],
   "source": [
    "sax.sdict(mzi_sdense)"
   ]
  },
  {
   "cell_type": "markdown",
   "id": "84",
   "metadata": {
    "papermill": {
     "duration": 0.011824,
     "end_time": "2025-06-20T08:28:54.653483",
     "exception": false,
     "start_time": "2025-06-20T08:28:54.641659",
     "status": "completed"
    },
    "tags": []
   },
   "source": [
    "### Algorithm Walkthrough"
   ]
  },
  {
   "cell_type": "markdown",
   "id": "85",
   "metadata": {
    "papermill": {
     "duration": 0.006454,
     "end_time": "2025-06-20T08:28:54.671490",
     "exception": false,
     "start_time": "2025-06-20T08:28:54.665036",
     "status": "completed"
    },
    "tags": []
   },
   "source": [
    "Let's first enforce $C^T = C$:"
   ]
  },
  {
   "cell_type": "code",
   "execution_count": null,
   "id": "86",
   "metadata": {
    "papermill": {
     "duration": 0.015789,
     "end_time": "2025-06-20T08:28:54.699121",
     "exception": false,
     "start_time": "2025-06-20T08:28:54.683332",
     "status": "completed"
    },
    "tags": []
   },
   "outputs": [],
   "source": [
    "connections = {**connections, **{v: k for k, v in connections.items()}}\n",
    "connections"
   ]
  },
  {
   "cell_type": "markdown",
   "id": "87",
   "metadata": {
    "papermill": {
     "duration": 0.00558,
     "end_time": "2025-06-20T08:28:54.711585",
     "exception": false,
     "start_time": "2025-06-20T08:28:54.706005",
     "status": "completed"
    },
    "tags": []
   },
   "source": [
    "We'll also need the reversed ports:"
   ]
  },
  {
   "cell_type": "code",
   "execution_count": null,
   "id": "88",
   "metadata": {
    "papermill": {
     "duration": 0.011309,
     "end_time": "2025-06-20T08:28:54.734784",
     "exception": false,
     "start_time": "2025-06-20T08:28:54.723475",
     "status": "completed"
    },
    "tags": []
   },
   "outputs": [],
   "source": [
    "inverse_ports = {v: k for k, v in ports.items()}\n",
    "inverse_ports"
   ]
  },
  {
   "cell_type": "markdown",
   "id": "89",
   "metadata": {
    "papermill": {
     "duration": 0.005507,
     "end_time": "2025-06-20T08:28:54.749101",
     "exception": false,
     "start_time": "2025-06-20T08:28:54.743594",
     "status": "completed"
    },
    "tags": []
   },
   "source": [
    "An the port indices"
   ]
  },
  {
   "cell_type": "code",
   "execution_count": null,
   "id": "90",
   "metadata": {
    "papermill": {
     "duration": 0.010865,
     "end_time": "2025-06-20T08:28:54.766754",
     "exception": false,
     "start_time": "2025-06-20T08:28:54.755889",
     "status": "completed"
    },
    "tags": []
   },
   "outputs": [],
   "source": [
    "port_map = {k: i for i, k in enumerate(ports)}\n",
    "port_map"
   ]
  },
  {
   "cell_type": "markdown",
   "id": "91",
   "metadata": {
    "papermill": {
     "duration": 0.005817,
     "end_time": "2025-06-20T08:28:54.779546",
     "exception": false,
     "start_time": "2025-06-20T08:28:54.773729",
     "status": "completed"
    },
    "tags": []
   },
   "source": [
    "Let's now create the COO-representation of our block diagonal S-matrix $S_{bd}$:"
   ]
  },
  {
   "cell_type": "code",
   "execution_count": null,
   "id": "92",
   "metadata": {
    "papermill": {
     "duration": 0.03328,
     "end_time": "2025-06-20T08:28:54.824812",
     "exception": false,
     "start_time": "2025-06-20T08:28:54.791532",
     "status": "completed"
    },
    "tags": []
   },
   "outputs": [],
   "source": [
    "idx, Si, Sj, Sx, instance_ports = 0, [], [], [], {}\n",
    "batch_shape = ()\n",
    "for name, instance in instances.items():\n",
    "    s = models[instance[\"component\"]]()\n",
    "    si, sj, sx, ports_map = sax.scoo(s)\n",
    "    Si.append(si + idx)\n",
    "    Sj.append(sj + idx)\n",
    "    Sx.append(sx)\n",
    "    if len(sx.shape[:-1]) > len(batch_shape):\n",
    "        batch_shape = sx.shape[:-1]\n",
    "    instance_ports.update({f\"{name},{p}\": i + idx for p, i in ports_map.items()})\n",
    "    idx += len(ports_map)\n",
    "Si = jnp.concatenate(Si, -1)\n",
    "Sj = jnp.concatenate(Sj, -1)\n",
    "Sx = jnp.concatenate(\n",
    "    [jnp.broadcast_to(sx, (*batch_shape, sx.shape[-1])) for sx in Sx], -1\n",
    ")"
   ]
  },
  {
   "cell_type": "markdown",
   "id": "93",
   "metadata": {
    "papermill": {
     "duration": 0.009356,
     "end_time": "2025-06-20T08:28:54.846824",
     "exception": false,
     "start_time": "2025-06-20T08:28:54.837468",
     "status": "completed"
    },
    "tags": []
   },
   "source": [
    "note that we also kept track of the `batch_shape`, i.e. the number of independent simulations (usually number of wavelengths). In the example being used here we don't have a batch dimension (all elements of the `SDict` are `0D`):"
   ]
  },
  {
   "cell_type": "code",
   "execution_count": null,
   "id": "94",
   "metadata": {
    "papermill": {
     "duration": 0.013745,
     "end_time": "2025-06-20T08:28:54.867634",
     "exception": false,
     "start_time": "2025-06-20T08:28:54.853889",
     "status": "completed"
    },
    "tags": []
   },
   "outputs": [],
   "source": [
    "batch_shape"
   ]
  },
  {
   "cell_type": "markdown",
   "id": "95",
   "metadata": {
    "papermill": {
     "duration": 0.009957,
     "end_time": "2025-06-20T08:28:54.891940",
     "exception": false,
     "start_time": "2025-06-20T08:28:54.881983",
     "status": "completed"
    },
    "tags": []
   },
   "source": [
    "We'll also keep track of the number of columns"
   ]
  },
  {
   "cell_type": "code",
   "execution_count": null,
   "id": "96",
   "metadata": {
    "papermill": {
     "duration": 0.011284,
     "end_time": "2025-06-20T08:28:54.915568",
     "exception": false,
     "start_time": "2025-06-20T08:28:54.904284",
     "status": "completed"
    },
    "tags": []
   },
   "outputs": [],
   "source": [
    "n_col = idx\n",
    "n_col"
   ]
  },
  {
   "cell_type": "markdown",
   "id": "97",
   "metadata": {
    "papermill": {
     "duration": 0.01285,
     "end_time": "2025-06-20T08:28:54.942530",
     "exception": false,
     "start_time": "2025-06-20T08:28:54.929680",
     "status": "completed"
    },
    "tags": []
   },
   "source": [
    "And we'll need to solve the circuit for each output port, i.e. we need to solve `n_rhs` number of equations:"
   ]
  },
  {
   "cell_type": "code",
   "execution_count": null,
   "id": "98",
   "metadata": {
    "papermill": {
     "duration": 0.012296,
     "end_time": "2025-06-20T08:28:54.966038",
     "exception": false,
     "start_time": "2025-06-20T08:28:54.953742",
     "status": "completed"
    },
    "tags": []
   },
   "outputs": [],
   "source": [
    "n_rhs = len(port_map)\n",
    "n_rhs"
   ]
  },
  {
   "cell_type": "markdown",
   "id": "99",
   "metadata": {
    "papermill": {
     "duration": 0.005646,
     "end_time": "2025-06-20T08:28:54.979689",
     "exception": false,
     "start_time": "2025-06-20T08:28:54.974043",
     "status": "completed"
    },
    "tags": []
   },
   "source": [
    "We can represent the internal connection matrix $C_{int}$ as a mapping between port indices:"
   ]
  },
  {
   "cell_type": "code",
   "execution_count": null,
   "id": "100",
   "metadata": {
    "papermill": {
     "duration": 0.01827,
     "end_time": "2025-06-20T08:28:55.007858",
     "exception": false,
     "start_time": "2025-06-20T08:28:54.989588",
     "status": "completed"
    },
    "tags": []
   },
   "outputs": [],
   "source": [
    "Cmap = {int(instance_ports[k]): int(instance_ports[v]) for k, v in connections.items()}\n",
    "Cmap"
   ]
  },
  {
   "cell_type": "markdown",
   "id": "101",
   "metadata": {
    "papermill": {
     "duration": 0.006594,
     "end_time": "2025-06-20T08:28:55.022282",
     "exception": false,
     "start_time": "2025-06-20T08:28:55.015688",
     "status": "completed"
    },
    "tags": []
   },
   "source": [
    "Therefore, the COO-representation of this connection matrix can be obtained as follows (note that an array of values Cx is not necessary, all non-zero elements in a connection matrix are 1)"
   ]
  },
  {
   "cell_type": "code",
   "execution_count": null,
   "id": "102",
   "metadata": {
    "papermill": {
     "duration": 0.01491,
     "end_time": "2025-06-20T08:28:55.048861",
     "exception": false,
     "start_time": "2025-06-20T08:28:55.033951",
     "status": "completed"
    },
    "tags": []
   },
   "outputs": [],
   "source": [
    "Ci = jnp.array(list(Cmap.keys()), dtype=jnp.int32)\n",
    "Cj = jnp.array(list(Cmap.values()), dtype=jnp.int32)"
   ]
  },
  {
   "cell_type": "markdown",
   "id": "103",
   "metadata": {
    "papermill": {
     "duration": 0.005793,
     "end_time": "2025-06-20T08:28:55.065420",
     "exception": false,
     "start_time": "2025-06-20T08:28:55.059627",
     "status": "completed"
    },
    "tags": []
   },
   "source": [
    "We can represent the external connection matrix $C_{ext}$ as a map between internal port indices and external port indices:"
   ]
  },
  {
   "cell_type": "code",
   "execution_count": null,
   "id": "104",
   "metadata": {
    "papermill": {
     "duration": 0.013107,
     "end_time": "2025-06-20T08:28:55.091673",
     "exception": false,
     "start_time": "2025-06-20T08:28:55.078566",
     "status": "completed"
    },
    "tags": []
   },
   "outputs": [],
   "source": [
    "Cextmap = {int(instance_ports[k]): int(port_map[v]) for k, v in inverse_ports.items()}\n",
    "Cextmap"
   ]
  },
  {
   "cell_type": "markdown",
   "id": "105",
   "metadata": {
    "papermill": {
     "duration": 0.010556,
     "end_time": "2025-06-20T08:28:55.116480",
     "exception": false,
     "start_time": "2025-06-20T08:28:55.105924",
     "status": "completed"
    },
    "tags": []
   },
   "source": [
    "Just as for the internal matrix we can represent this external connection matrix in COO-format:"
   ]
  },
  {
   "cell_type": "code",
   "execution_count": null,
   "id": "106",
   "metadata": {
    "papermill": {
     "duration": 0.01344,
     "end_time": "2025-06-20T08:28:55.140185",
     "exception": false,
     "start_time": "2025-06-20T08:28:55.126745",
     "status": "completed"
    },
    "tags": []
   },
   "outputs": [],
   "source": [
    "Cexti = jnp.stack(list(Cextmap.keys()), 0)\n",
    "Cextj = jnp.stack(list(Cextmap.values()), 0)"
   ]
  },
  {
   "cell_type": "markdown",
   "id": "107",
   "metadata": {
    "papermill": {
     "duration": 0.005821,
     "end_time": "2025-06-20T08:28:55.158418",
     "exception": false,
     "start_time": "2025-06-20T08:28:55.152597",
     "status": "completed"
    },
    "tags": []
   },
   "source": [
    "However, we actually need it as a dense representation:\n",
    "\n",
    "> help needed: can we find a way later on to keep this sparse?"
   ]
  },
  {
   "cell_type": "code",
   "execution_count": null,
   "id": "108",
   "metadata": {
    "papermill": {
     "duration": 0.017284,
     "end_time": "2025-06-20T08:28:55.182754",
     "exception": false,
     "start_time": "2025-06-20T08:28:55.165470",
     "status": "completed"
    },
    "tags": []
   },
   "outputs": [],
   "source": [
    "Cext = jnp.zeros((n_col, n_rhs), dtype=complex).at[Cexti, Cextj].set(1.0)\n",
    "Cext"
   ]
  },
  {
   "cell_type": "markdown",
   "id": "109",
   "metadata": {
    "papermill": {
     "duration": 0.007398,
     "end_time": "2025-06-20T08:28:55.201313",
     "exception": false,
     "start_time": "2025-06-20T08:28:55.193915",
     "status": "completed"
    },
    "tags": []
   },
   "source": [
    "We'll now calculate the row index `CSi` of $C_{int}S_{bd}$ in COO-format:"
   ]
  },
  {
   "cell_type": "code",
   "execution_count": null,
   "id": "110",
   "metadata": {
    "papermill": {
     "duration": 0.056856,
     "end_time": "2025-06-20T08:28:55.266728",
     "exception": false,
     "start_time": "2025-06-20T08:28:55.209872",
     "status": "completed"
    },
    "tags": []
   },
   "outputs": [],
   "source": [
    "# TODO: make this block jittable...\n",
    "Ix = jnp.ones((*batch_shape, n_col))\n",
    "Ii = Ij = jnp.arange(n_col)\n",
    "mask = Cj[None, :] == Si[:, None]\n",
    "CSi = jnp.broadcast_to(Ci[None, :], mask.shape)[mask]\n",
    "CSi"
   ]
  },
  {
   "cell_type": "markdown",
   "id": "111",
   "metadata": {
    "papermill": {
     "duration": 0.005738,
     "end_time": "2025-06-20T08:28:55.286080",
     "exception": false,
     "start_time": "2025-06-20T08:28:55.280342",
     "status": "completed"
    },
    "tags": []
   },
   "source": [
    "> `CSi`: possible jittable alternative? how do we remove the zeros?"
   ]
  },
  {
   "cell_type": "code",
   "execution_count": null,
   "id": "112",
   "metadata": {
    "papermill": {
     "duration": 0.077838,
     "end_time": "2025-06-20T08:28:55.377816",
     "exception": false,
     "start_time": "2025-06-20T08:28:55.299978",
     "status": "completed"
    },
    "tags": []
   },
   "outputs": [],
   "source": [
    "CSi_ = jnp.where(Cj[None, :] == Si[:, None], Ci[None, :], 0).sum(1)  # not used\n",
    "CSi_  # not used"
   ]
  },
  {
   "cell_type": "markdown",
   "id": "113",
   "metadata": {
    "papermill": {
     "duration": 0.005793,
     "end_time": "2025-06-20T08:28:55.398705",
     "exception": false,
     "start_time": "2025-06-20T08:28:55.392912",
     "status": "completed"
    },
    "tags": []
   },
   "source": [
    "The column index `CSj` of $C_{int}S_{bd}$ can more easily be obtained:"
   ]
  },
  {
   "cell_type": "code",
   "execution_count": null,
   "id": "114",
   "metadata": {
    "papermill": {
     "duration": 0.018212,
     "end_time": "2025-06-20T08:28:55.432615",
     "exception": false,
     "start_time": "2025-06-20T08:28:55.414403",
     "status": "completed"
    },
    "tags": []
   },
   "outputs": [],
   "source": [
    "mask = (Cj[:, None] == Si[None, :]).any(0)\n",
    "CSj = Sj[mask]\n",
    "CSj"
   ]
  },
  {
   "cell_type": "markdown",
   "id": "115",
   "metadata": {
    "papermill": {
     "duration": 0.006607,
     "end_time": "2025-06-20T08:28:55.449493",
     "exception": false,
     "start_time": "2025-06-20T08:28:55.442886",
     "status": "completed"
    },
    "tags": []
   },
   "source": [
    "Finally, the values `CSx` of $C_{int}S_{bd}$ can be obtained as follows:"
   ]
  },
  {
   "cell_type": "code",
   "execution_count": null,
   "id": "116",
   "metadata": {
    "papermill": {
     "duration": 0.015597,
     "end_time": "2025-06-20T08:28:55.471097",
     "exception": false,
     "start_time": "2025-06-20T08:28:55.455500",
     "status": "completed"
    },
    "tags": []
   },
   "outputs": [],
   "source": [
    "CSx = Sx[..., mask]\n",
    "CSx"
   ]
  },
  {
   "cell_type": "markdown",
   "id": "117",
   "metadata": {
    "papermill": {
     "duration": 0.006092,
     "end_time": "2025-06-20T08:28:55.489630",
     "exception": false,
     "start_time": "2025-06-20T08:28:55.483538",
     "status": "completed"
    },
    "tags": []
   },
   "source": [
    "Now we calculate $I - C_{int}S_{bd}$ in an *uncoalesced* way (we might have duplicate indices on the diagonal):\n",
    "\n",
    "> **uncoalesced**: having duplicate index combinations (i, j) in the representation possibly with different corresponding values. This is usually not a problem as in linear operations these values will end up to be summed, usually the behavior you want:"
   ]
  },
  {
   "cell_type": "code",
   "execution_count": null,
   "id": "118",
   "metadata": {
    "papermill": {
     "duration": 0.014608,
     "end_time": "2025-06-20T08:28:55.514915",
     "exception": false,
     "start_time": "2025-06-20T08:28:55.500307",
     "status": "completed"
    },
    "tags": []
   },
   "outputs": [],
   "source": [
    "I_CSi = jnp.concatenate([CSi, Ii], -1)\n",
    "I_CSj = jnp.concatenate([CSj, Ij], -1)\n",
    "I_CSx = jnp.concatenate([-CSx, Ix], -1)"
   ]
  },
  {
   "cell_type": "code",
   "execution_count": null,
   "id": "119",
   "metadata": {
    "papermill": {
     "duration": 0.017255,
     "end_time": "2025-06-20T08:28:55.542552",
     "exception": false,
     "start_time": "2025-06-20T08:28:55.525297",
     "status": "completed"
    },
    "tags": []
   },
   "outputs": [],
   "source": [
    "n_col, n_rhs = Cext.shape"
   ]
  },
  {
   "cell_type": "markdown",
   "id": "120",
   "metadata": {
    "papermill": {
     "duration": 0.006144,
     "end_time": "2025-06-20T08:28:55.556464",
     "exception": false,
     "start_time": "2025-06-20T08:28:55.550320",
     "status": "completed"
    },
    "tags": []
   },
   "source": [
    "The batch shape dimension can generally speaking be anything (in the example here 0D). We need to do the necessary reshapings to make the batch shape 1D:"
   ]
  },
  {
   "cell_type": "code",
   "execution_count": null,
   "id": "121",
   "metadata": {
    "papermill": {
     "duration": 0.039781,
     "end_time": "2025-06-20T08:28:55.608541",
     "exception": false,
     "start_time": "2025-06-20T08:28:55.568760",
     "status": "completed"
    },
    "tags": []
   },
   "outputs": [],
   "source": [
    "n_lhs = jnp.prod(jnp.array(batch_shape, dtype=jnp.int32))"
   ]
  },
  {
   "cell_type": "code",
   "execution_count": null,
   "id": "122",
   "metadata": {
    "papermill": {
     "duration": 0.038521,
     "end_time": "2025-06-20T08:28:55.656386",
     "exception": false,
     "start_time": "2025-06-20T08:28:55.617865",
     "status": "completed"
    },
    "tags": []
   },
   "outputs": [],
   "source": [
    "Sx = Sx.reshape(n_lhs, -1)\n",
    "Sx.shape"
   ]
  },
  {
   "cell_type": "code",
   "execution_count": null,
   "id": "123",
   "metadata": {
    "papermill": {
     "duration": 0.014842,
     "end_time": "2025-06-20T08:28:55.684514",
     "exception": false,
     "start_time": "2025-06-20T08:28:55.669672",
     "status": "completed"
    },
    "tags": []
   },
   "outputs": [],
   "source": [
    "I_CSx = I_CSx.reshape(n_lhs, -1)\n",
    "I_CSx.shape"
   ]
  },
  {
   "cell_type": "markdown",
   "id": "124",
   "metadata": {
    "papermill": {
     "duration": 0.012387,
     "end_time": "2025-06-20T08:28:55.709260",
     "exception": false,
     "start_time": "2025-06-20T08:28:55.696873",
     "status": "completed"
    },
    "tags": []
   },
   "source": [
    "We're finally ready to do the most important part of the calculation, which we conveniently leave to `klujax` and `SuiteSparse`:"
   ]
  },
  {
   "cell_type": "code",
   "execution_count": null,
   "id": "125",
   "metadata": {
    "papermill": {
     "duration": 0.021105,
     "end_time": "2025-06-20T08:28:55.737675",
     "exception": false,
     "start_time": "2025-06-20T08:28:55.716570",
     "status": "completed"
    },
    "tags": []
   },
   "outputs": [],
   "source": [
    "inv_I_CS_Cext = solve_klu(I_CSi, I_CSj, I_CSx, Cext)"
   ]
  },
  {
   "cell_type": "markdown",
   "id": "126",
   "metadata": {
    "papermill": {
     "duration": 0.006464,
     "end_time": "2025-06-20T08:28:55.758055",
     "exception": false,
     "start_time": "2025-06-20T08:28:55.751591",
     "status": "completed"
    },
    "tags": []
   },
   "source": [
    "one more sparse multiplication:"
   ]
  },
  {
   "cell_type": "code",
   "execution_count": null,
   "id": "127",
   "metadata": {
    "papermill": {
     "duration": 0.022907,
     "end_time": "2025-06-20T08:28:55.793157",
     "exception": false,
     "start_time": "2025-06-20T08:28:55.770250",
     "status": "completed"
    },
    "tags": []
   },
   "outputs": [],
   "source": [
    "S_inv_I_CS_Cext = mul_coo(Si, Sj, Sx, inv_I_CS_Cext)"
   ]
  },
  {
   "cell_type": "markdown",
   "id": "128",
   "metadata": {
    "papermill": {
     "duration": 0.013574,
     "end_time": "2025-06-20T08:28:55.820603",
     "exception": false,
     "start_time": "2025-06-20T08:28:55.807029",
     "status": "completed"
    },
    "tags": []
   },
   "source": [
    "And one more $C_{ext}$ multiplication which we do by clever indexing:"
   ]
  },
  {
   "cell_type": "code",
   "execution_count": null,
   "id": "129",
   "metadata": {
    "papermill": {
     "duration": 0.018975,
     "end_time": "2025-06-20T08:28:55.855807",
     "exception": false,
     "start_time": "2025-06-20T08:28:55.836832",
     "status": "completed"
    },
    "tags": []
   },
   "outputs": [],
   "source": [
    "CextT_S_inv_I_CS_Cext = S_inv_I_CS_Cext[..., Cexti, :][..., :, Cextj]\n",
    "CextT_S_inv_I_CS_Cext"
   ]
  },
  {
   "cell_type": "markdown",
   "id": "130",
   "metadata": {
    "papermill": {
     "duration": 0.016509,
     "end_time": "2025-06-20T08:28:55.889170",
     "exception": false,
     "start_time": "2025-06-20T08:28:55.872661",
     "status": "completed"
    },
    "tags": []
   },
   "source": [
    "That's it! We found the S-matrix of the circuit. We just need to reshape the batch dimension back into the matrix:"
   ]
  },
  {
   "cell_type": "code",
   "execution_count": null,
   "id": "131",
   "metadata": {
    "papermill": {
     "duration": 0.017704,
     "end_time": "2025-06-20T08:28:55.915094",
     "exception": false,
     "start_time": "2025-06-20T08:28:55.897390",
     "status": "completed"
    },
    "tags": []
   },
   "outputs": [],
   "source": [
    "_, n, _ = CextT_S_inv_I_CS_Cext.shape\n",
    "S = CextT_S_inv_I_CS_Cext.reshape(*batch_shape, n, n)\n",
    "S"
   ]
  },
  {
   "cell_type": "markdown",
   "id": "132",
   "metadata": {
    "papermill": {
     "duration": 0.012124,
     "end_time": "2025-06-20T08:28:55.944413",
     "exception": false,
     "start_time": "2025-06-20T08:28:55.932289",
     "status": "completed"
    },
    "tags": []
   },
   "source": [
    "Oh and to complete the `SDense` representation we need to specify the port map as well:"
   ]
  },
  {
   "cell_type": "code",
   "execution_count": null,
   "id": "133",
   "metadata": {
    "papermill": {
     "duration": 0.024104,
     "end_time": "2025-06-20T08:28:55.981383",
     "exception": false,
     "start_time": "2025-06-20T08:28:55.957279",
     "status": "completed"
    },
    "tags": []
   },
   "outputs": [],
   "source": [
    "port_map"
   ]
  },
  {
   "cell_type": "markdown",
   "id": "134",
   "metadata": {
    "papermill": {
     "duration": 0.013226,
     "end_time": "2025-06-20T08:28:56.012200",
     "exception": false,
     "start_time": "2025-06-20T08:28:55.998974",
     "status": "completed"
    },
    "tags": []
   },
   "source": [
    "### Algorithm Improvements"
   ]
  },
  {
   "cell_type": "markdown",
   "id": "135",
   "metadata": {
    "papermill": {
     "duration": 0.015304,
     "end_time": "2025-06-20T08:28:56.041329",
     "exception": false,
     "start_time": "2025-06-20T08:28:56.026025",
     "status": "completed"
    },
    "tags": []
   },
   "source": [
    "This algorithm is \n",
    "\n",
    "* very fast for large circuits 🙂\n",
    "* jittable 🙂\n",
    "* differentiable 🙂\n",
    "\n",
    "This algorithm is however:\n",
    "\n",
    "* **not** GPU-compatible 🙂\n",
    "\n",
    "There are probably still plenty of improvements possible for this algorithm:\n",
    "\n",
    "* **¿** make it GPU compatible (requires making suitesparse GPU compatible... probably not gonna happen)**?**\n"
   ]
  },
  {
   "cell_type": "markdown",
   "id": "136",
   "metadata": {
    "papermill": {
     "duration": 0.014864,
     "end_time": "2025-06-20T08:28:56.069230",
     "exception": false,
     "start_time": "2025-06-20T08:28:56.054366",
     "status": "completed"
    },
    "tags": []
   },
   "source": [
    "> NOTE: Since The KLU Backend is Superior to the Filipsson-Gunnar backend, SAX will default (since v0.10.0) to the KLU backend if `klujax` is installed.name1"
   ]
  },
  {
   "cell_type": "code",
   "execution_count": null,
   "id": "137",
   "metadata": {
    "papermill": {
     "duration": 0.02086,
     "end_time": "2025-06-20T08:28:56.101081",
     "exception": false,
     "start_time": "2025-06-20T08:28:56.080221",
     "status": "completed"
    },
    "tags": []
   },
   "outputs": [],
   "source": [
    "# default_exp backends.additive"
   ]
  },
  {
   "cell_type": "markdown",
   "id": "138",
   "metadata": {
    "papermill": {
     "duration": 0.013869,
     "end_time": "2025-06-20T08:28:56.128903",
     "exception": false,
     "start_time": "2025-06-20T08:28:56.115034",
     "status": "completed"
    },
    "tags": []
   },
   "source": [
    "## Additive Backend\n",
    "\n",
    "Sometimes we would like to calculate circuit path lengths or time delays within a circuit. We could obviously simulate these things with a time domain simulator, but in many cases a simple additive backend (as opposed to the default multiplicative backend) can suffice."
   ]
  },
  {
   "cell_type": "markdown",
   "id": "139",
   "metadata": {
    "papermill": {
     "duration": 0.006932,
     "end_time": "2025-06-20T08:28:56.149357",
     "exception": false,
     "start_time": "2025-06-20T08:28:56.142425",
     "status": "completed"
    },
    "tags": []
   },
   "source": [
    "### Example\n",
    "\n",
    "> NOTE: in stead of S-parameters the stypes need to contain *additive* parameters, such as length or time delay."
   ]
  },
  {
   "cell_type": "code",
   "execution_count": null,
   "id": "140",
   "metadata": {
    "papermill": {
     "duration": 0.047774,
     "end_time": "2025-06-20T08:28:56.205279",
     "exception": false,
     "start_time": "2025-06-20T08:28:56.157505",
     "status": "completed"
    },
    "tags": []
   },
   "outputs": [],
   "source": [
    "wg_sdict = {\n",
    "    (\"in0\", \"out0\"): jnp.array(\n",
    "        [100.0, 200.0, 300.0]\n",
    "    ),  # assume for now there are three possible paths between these two ports.\n",
    "    (\"out0\", \"in0\"): jnp.array(\n",
    "        [100.0, 200.0, 300.0]\n",
    "    ),  # assume for now there are three possible paths between these two ports.\n",
    "}\n",
    "\n",
    "dc_sdict = {\n",
    "    (\"in0\", \"out0\"): jnp.array(\n",
    "        [10.0, 20.0]\n",
    "    ),  # assume for now there are two possible paths between these two ports.\n",
    "    (\"in0\", \"out1\"): 15.0,\n",
    "    (\"in1\", \"out0\"): 15.0,\n",
    "    (\"in1\", \"out1\"): jnp.array(\n",
    "        [10.0, 20.0]\n",
    "    ),  # assume for now there are two possible paths between these two ports.\n",
    "}\n",
    "\n",
    "instances = {\n",
    "    \"dc1\": {\"component\": \"dc\"},\n",
    "    \"wg\": {\"component\": \"wg\"},\n",
    "    \"dc2\": {\"component\": \"dc\"},\n",
    "}\n",
    "connections = {\n",
    "    \"dc1,out0\": \"wg,in0\",\n",
    "    \"wg,out0\": \"dc2,in0\",\n",
    "    \"dc1,out1\": \"dc2,in1\",\n",
    "}\n",
    "ports = {\n",
    "    \"in0\": \"dc1,in0\",\n",
    "    \"in1\": \"dc1,in1\",\n",
    "    \"out0\": \"dc2,out0\",\n",
    "    \"out1\": \"dc2,out1\",\n",
    "}\n",
    "models = {\n",
    "    \"wg\": lambda: wg_sdict,\n",
    "    \"dc\": lambda: dc_sdense,\n",
    "}"
   ]
  },
  {
   "cell_type": "markdown",
   "id": "141",
   "metadata": {
    "papermill": {
     "duration": 0.010783,
     "end_time": "2025-06-20T08:28:56.232140",
     "exception": false,
     "start_time": "2025-06-20T08:28:56.221357",
     "status": "completed"
    },
    "tags": []
   },
   "source": [
    "> NOTE:  it is recommended to **not** use an `SDense` representation for the additive backend. Very often an `SDense` representation will introduce **zeros** which will be interpreted as an **existing connection with zero length**. Conversely, in a sparse representation like `SDict` or `SCoo`, non-existing elements will be just that: they will not be present in the internal graph."
   ]
  },
  {
   "cell_type": "code",
   "execution_count": null,
   "id": "142",
   "metadata": {
    "papermill": {
     "duration": 0.110143,
     "end_time": "2025-06-20T08:28:56.356095",
     "exception": false,
     "start_time": "2025-06-20T08:28:56.245952",
     "status": "completed"
    },
    "tags": []
   },
   "outputs": [],
   "source": [
    "edges = sax.backends.additive._graph_edges(\n",
    "    {k: models[v[\"component\"]]() for k, v in instances.items()}, connections, ports\n",
    ")\n",
    "edges"
   ]
  },
  {
   "cell_type": "markdown",
   "id": "143",
   "metadata": {
    "papermill": {
     "duration": 0.007188,
     "end_time": "2025-06-20T08:28:56.375932",
     "exception": false,
     "start_time": "2025-06-20T08:28:56.368744",
     "status": "completed"
    },
    "tags": []
   },
   "source": [
    "We made a difference here between edges of 'S'-type (connections through the S-matrix) and edges of 'C'-type (connections through the connection matrix). Connections of 'C'-type obviously always have length zero as they signify per definition the equality of two ports."
   ]
  },
  {
   "cell_type": "markdown",
   "id": "144",
   "metadata": {
    "papermill": {
     "duration": 0.007227,
     "end_time": "2025-06-20T08:28:56.389836",
     "exception": false,
     "start_time": "2025-06-20T08:28:56.382609",
     "status": "completed"
    },
    "tags": []
   },
   "source": [
    "We can create a NetworkX graph from these edges:"
   ]
  },
  {
   "cell_type": "code",
   "execution_count": null,
   "id": "145",
   "metadata": {
    "papermill": {
     "duration": 0.569196,
     "end_time": "2025-06-20T08:28:56.965506",
     "exception": false,
     "start_time": "2025-06-20T08:28:56.396310",
     "status": "completed"
    },
    "tags": []
   },
   "outputs": [],
   "source": [
    "graph = nx.Graph()\n",
    "graph.add_edges_from(edges)\n",
    "nx.draw_kamada_kawai(graph, with_labels=True)"
   ]
  },
  {
   "cell_type": "code",
   "execution_count": null,
   "id": "146",
   "metadata": {
    "papermill": {
     "duration": 0.062754,
     "end_time": "2025-06-20T08:28:57.044543",
     "exception": false,
     "start_time": "2025-06-20T08:28:56.981789",
     "status": "completed"
    },
    "tags": []
   },
   "outputs": [],
   "source": [
    "graph = sax.backends.additive._prune_internal_output_nodes(graph)\n",
    "nx.draw_kamada_kawai(graph, with_labels=True)"
   ]
  },
  {
   "cell_type": "markdown",
   "id": "147",
   "metadata": {
    "papermill": {
     "duration": 0.007183,
     "end_time": "2025-06-20T08:28:57.061688",
     "exception": false,
     "start_time": "2025-06-20T08:28:57.054505",
     "status": "completed"
    },
    "tags": []
   },
   "source": [
    "We can now get a list of all possible paths in the network. Note that these paths **must** alternate between an S-edge and a C-edge:"
   ]
  },
  {
   "cell_type": "code",
   "execution_count": null,
   "id": "148",
   "metadata": {
    "papermill": {
     "duration": 0.01654,
     "end_time": "2025-06-20T08:28:57.091398",
     "exception": false,
     "start_time": "2025-06-20T08:28:57.074858",
     "status": "completed"
    },
    "tags": []
   },
   "outputs": [],
   "source": [
    "paths = sax.backends.additive._get_possible_paths(graph, (\"\", \"in0\"), (\"\", \"out0\"))\n",
    "paths"
   ]
  },
  {
   "cell_type": "markdown",
   "id": "149",
   "metadata": {
    "papermill": {
     "duration": 0.007227,
     "end_time": "2025-06-20T08:28:57.111656",
     "exception": false,
     "start_time": "2025-06-20T08:28:57.104429",
     "status": "completed"
    },
    "tags": []
   },
   "source": [
    "And the path lengths of those paths can be calculated as follows:"
   ]
  },
  {
   "cell_type": "code",
   "execution_count": null,
   "id": "150",
   "metadata": {
    "papermill": {
     "duration": 0.309187,
     "end_time": "2025-06-20T08:28:57.432567",
     "exception": false,
     "start_time": "2025-06-20T08:28:57.123380",
     "status": "completed"
    },
    "tags": []
   },
   "outputs": [],
   "source": [
    "sax.backends.additive._path_lengths(graph, paths)"
   ]
  },
  {
   "cell_type": "markdown",
   "id": "151",
   "metadata": {
    "papermill": {
     "duration": 0.01317,
     "end_time": "2025-06-20T08:28:57.455483",
     "exception": false,
     "start_time": "2025-06-20T08:28:57.442313",
     "status": "completed"
    },
    "tags": []
   },
   "source": [
    "This is all brought together in the additive KLU backend:"
   ]
  },
  {
   "cell_type": "code",
   "execution_count": null,
   "id": "152",
   "metadata": {
    "papermill": {
     "duration": 0.06499,
     "end_time": "2025-06-20T08:28:57.530930",
     "exception": false,
     "start_time": "2025-06-20T08:28:57.465940",
     "status": "completed"
    },
    "tags": []
   },
   "outputs": [],
   "source": [
    "analyzed_instances = sax.backends.analyze_instances_additive(instances, models)\n",
    "analyzed_circuit = sax.backends.analyze_circuit_additive(\n",
    "    analyzed_instances, connections, ports\n",
    ")\n",
    "sax.backends.evaluate_circuit_additive(\n",
    "    analyzed_circuit, {k: models[v[\"component\"]]() for k, v in instances.items()}\n",
    ")"
   ]
  }
 ],
 "metadata": {
  "kernelspec": {
   "display_name": "sax",
   "language": "python",
   "name": "sax"
  },
  "language_info": {
   "codemirror_mode": {
    "name": "ipython",
    "version": 3
   },
   "file_extension": ".py",
   "mimetype": "text/x-python",
   "name": "python",
   "nbconvert_exporter": "python",
   "pygments_lexer": "ipython3",
   "version": "3.12.10"
  },
  "papermill": {
   "default_parameters": {},
   "duration": 9.665245,
   "end_time": "2025-06-20T08:28:58.062368",
   "environment_variables": {},
   "exception": null,
   "input_path": "nbs/internals/03_backends.ipynb",
   "output_path": "nbs/internals/03_backends.ipynb",
   "parameters": {},
   "start_time": "2025-06-20T08:28:48.397123",
   "version": "2.6.0"
  }
 },
 "nbformat": 4,
 "nbformat_minor": 5
}
