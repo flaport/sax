{
 "cells": [
  {
   "cell_type": "markdown",
   "id": "0",
   "metadata": {
    "papermill": {
     "duration": 0.004143,
     "end_time": "2025-06-12T12:18:45.140366",
     "exception": false,
     "start_time": "2025-06-12T12:18:45.136223",
     "status": "completed"
    },
    "tags": []
   },
   "source": [
    "# Circuit\n",
    "\n",
    "> SAX Circuits"
   ]
  },
  {
   "cell_type": "code",
   "execution_count": null,
   "id": "1",
   "metadata": {
    "papermill": {
     "duration": 2.06563,
     "end_time": "2025-06-12T12:18:47.210396",
     "exception": false,
     "start_time": "2025-06-12T12:18:45.144766",
     "status": "completed"
    },
    "tags": []
   },
   "outputs": [],
   "source": [
    "import sax\n",
    "from sax.circuit import (\n",
    "    _create_dag,\n",
    "    _find_leaves,\n",
    "    _find_root,\n",
    "    _flat_circuit,\n",
    "    _validate_models,\n",
    "    draw_dag,\n",
    ")"
   ]
  },
  {
   "cell_type": "markdown",
   "id": "2",
   "metadata": {
    "papermill": {
     "duration": 0.004305,
     "end_time": "2025-06-12T12:18:47.218853",
     "exception": false,
     "start_time": "2025-06-12T12:18:47.214548",
     "status": "completed"
    },
    "tags": []
   },
   "source": [
    "Let's start by creating a simple recursive netlist with gdsfactory.\n",
    "\n",
    "\n",
    "> NOTE: We are using gdsfactory to create our netlist because it allows us to see the circuit we want to simulate and because we're striving to have a compatible netlist implementation in SAX.\n",
    "> \n",
    "> However... gdsfactory is not a dependency of SAX. You can also define your circuits by hand (see [SAX Quick Start](../examples/01_quick_start.ipynb) or you can use another tool to programmatically construct your netlists."
   ]
  },
  {
   "cell_type": "code",
   "execution_count": null,
   "id": "3",
   "metadata": {
    "papermill": {
     "duration": 2.456507,
     "end_time": "2025-06-12T12:18:49.680083",
     "exception": false,
     "start_time": "2025-06-12T12:18:47.223576",
     "status": "completed"
    },
    "tags": []
   },
   "outputs": [],
   "source": [
    "import gdsfactory as gf\n",
    "from gdsfactory.components import mzi\n",
    "\n",
    "\n",
    "@gf.cell\n",
    "def twomzi():\n",
    "    c = gf.Component()\n",
    "\n",
    "    # instances\n",
    "    mzi1 = mzi(delta_length=10)\n",
    "    mzi2 = mzi(delta_length=20)\n",
    "\n",
    "    # references\n",
    "    mzi1_ = c.add_ref(mzi1, name=\"mzi1\")\n",
    "    mzi2_ = c.add_ref(mzi2, name=\"mzi2\")\n",
    "\n",
    "    # connections\n",
    "    mzi2_.connect(\"o1\", mzi1_.ports[\"o2\"])\n",
    "\n",
    "    # ports\n",
    "    c.add_port(\"o1\", port=mzi1_.ports[\"o1\"])\n",
    "    c.add_port(\"o2\", port=mzi2_.ports[\"o2\"])\n",
    "    return c"
   ]
  },
  {
   "cell_type": "code",
   "execution_count": null,
   "id": "4",
   "metadata": {
    "papermill": {
     "duration": 0.335874,
     "end_time": "2025-06-12T12:18:50.020212",
     "exception": false,
     "start_time": "2025-06-12T12:18:49.684338",
     "status": "completed"
    },
    "tags": []
   },
   "outputs": [],
   "source": [
    "comp = twomzi()\n",
    "comp"
   ]
  },
  {
   "cell_type": "code",
   "execution_count": null,
   "id": "5",
   "metadata": {
    "papermill": {
     "duration": 0.022254,
     "end_time": "2025-06-12T12:18:50.045773",
     "exception": false,
     "start_time": "2025-06-12T12:18:50.023519",
     "status": "completed"
    },
    "tags": []
   },
   "outputs": [],
   "source": [
    "recnet = sax.RecursiveNetlist.parse_obj(comp.get_netlist(recursive=True))\n",
    "mzi1_comp = recnet.root[\"twomzi\"].instances[\"mzi1\"].component\n",
    "flatnet = recnet.root[mzi1_comp]"
   ]
  },
  {
   "cell_type": "markdown",
   "id": "6",
   "metadata": {
    "papermill": {
     "duration": 0.004634,
     "end_time": "2025-06-12T12:18:50.055097",
     "exception": false,
     "start_time": "2025-06-12T12:18:50.050463",
     "status": "completed"
    },
    "tags": []
   },
   "source": [
    "To be able to model this device we'll need some SAX dummy models:"
   ]
  },
  {
   "cell_type": "code",
   "execution_count": null,
   "id": "7",
   "metadata": {
    "papermill": {
     "duration": 0.010293,
     "end_time": "2025-06-12T12:18:50.070054",
     "exception": false,
     "start_time": "2025-06-12T12:18:50.059761",
     "status": "completed"
    },
    "tags": []
   },
   "outputs": [],
   "source": [
    "def bend_euler(\n",
    "    angle=90.0,\n",
    "    p=0.5,\n",
    "    # cross_section=\"strip\",\n",
    "    # direction=\"ccw\",\n",
    "    # with_bbox=True,\n",
    "    # with_arc_floorplan=True,\n",
    "    # npoints=720,\n",
    "):\n",
    "    return sax.reciprocal({(\"o1\", \"o2\"): 1.0})"
   ]
  },
  {
   "cell_type": "code",
   "execution_count": null,
   "id": "8",
   "metadata": {
    "papermill": {
     "duration": 0.010047,
     "end_time": "2025-06-12T12:18:50.084978",
     "exception": false,
     "start_time": "2025-06-12T12:18:50.074931",
     "status": "completed"
    },
    "tags": []
   },
   "outputs": [],
   "source": [
    "def mmi1x2(\n",
    "    width=0.5,\n",
    "    width_taper=1.0,\n",
    "    length_taper=10.0,\n",
    "    length_mmi=5.5,\n",
    "    width_mmi=2.5,\n",
    "    gap_mmi=0.25,\n",
    "    # cross_section= strip,\n",
    "    # taper= {function= taper},\n",
    "    # with_bbox= True,\n",
    "):\n",
    "    return sax.reciprocal(\n",
    "        {\n",
    "            (\"o1\", \"o2\"): 0.45**0.5,\n",
    "            (\"o1\", \"o3\"): 0.45**0.5,\n",
    "        }\n",
    "    )"
   ]
  },
  {
   "cell_type": "code",
   "execution_count": null,
   "id": "9",
   "metadata": {
    "papermill": {
     "duration": 0.010379,
     "end_time": "2025-06-12T12:18:50.100109",
     "exception": false,
     "start_time": "2025-06-12T12:18:50.089730",
     "status": "completed"
    },
    "tags": []
   },
   "outputs": [],
   "source": [
    "def mmi2x2(\n",
    "    width=0.5,\n",
    "    width_taper=1.0,\n",
    "    length_taper=10.0,\n",
    "    length_mmi=5.5,\n",
    "    width_mmi=2.5,\n",
    "    gap_mmi=0.25,\n",
    "    # cross_section= strip,\n",
    "    # taper= {function= taper},\n",
    "    # with_bbox= True,\n",
    "):\n",
    "    return sax.reciprocal(\n",
    "        {\n",
    "            (\"o1\", \"o3\"): 0.45**0.5,\n",
    "            (\"o1\", \"o4\"): 1j * 0.45**0.5,\n",
    "            (\"o2\", \"o3\"): 1j * 0.45**0.5,\n",
    "            (\"o2\", \"o4\"): 0.45**0.5,\n",
    "        }\n",
    "    )"
   ]
  },
  {
   "cell_type": "code",
   "execution_count": null,
   "id": "10",
   "metadata": {
    "papermill": {
     "duration": 0.010117,
     "end_time": "2025-06-12T12:18:50.114730",
     "exception": false,
     "start_time": "2025-06-12T12:18:50.104613",
     "status": "completed"
    },
    "tags": []
   },
   "outputs": [],
   "source": [
    "def straight(\n",
    "    length=0.01,\n",
    "    # npoints=2,\n",
    "    # with_bbox=True,\n",
    "    # cross_section=...\n",
    "):\n",
    "    return sax.reciprocal({(\"o1\", \"o2\"): 1.0})"
   ]
  },
  {
   "cell_type": "markdown",
   "id": "11",
   "metadata": {
    "papermill": {
     "duration": 0.004719,
     "end_time": "2025-06-12T12:18:50.124264",
     "exception": false,
     "start_time": "2025-06-12T12:18:50.119545",
     "status": "completed"
    },
    "tags": []
   },
   "source": [
    "In SAX, we usually aggregate the available models in a models dictionary:"
   ]
  },
  {
   "cell_type": "code",
   "execution_count": null,
   "id": "12",
   "metadata": {
    "papermill": {
     "duration": 0.006983,
     "end_time": "2025-06-12T12:18:50.133323",
     "exception": false,
     "start_time": "2025-06-12T12:18:50.126340",
     "status": "completed"
    },
    "tags": []
   },
   "outputs": [],
   "source": [
    "models = {\n",
    "    \"straight\": straight,\n",
    "    \"bend_euler\": bend_euler,\n",
    "    \"mmi1x2\": mmi1x2,\n",
    "}"
   ]
  },
  {
   "cell_type": "markdown",
   "id": "13",
   "metadata": {
    "papermill": {
     "duration": 0.004619,
     "end_time": "2025-06-12T12:18:50.142799",
     "exception": false,
     "start_time": "2025-06-12T12:18:50.138180",
     "status": "completed"
    },
    "tags": []
   },
   "source": [
    "We can also create some dummy multimode models:"
   ]
  },
  {
   "cell_type": "code",
   "execution_count": null,
   "id": "14",
   "metadata": {
    "papermill": {
     "duration": 0.009826,
     "end_time": "2025-06-12T12:18:50.157346",
     "exception": false,
     "start_time": "2025-06-12T12:18:50.147520",
     "status": "completed"
    },
    "tags": []
   },
   "outputs": [],
   "source": [
    "def bend_euler_mm(\n",
    "    angle=90.0,\n",
    "    p=0.5,\n",
    "    # cross_section=\"strip\",\n",
    "    # direction=\"ccw\",\n",
    "    # with_bbox=True,\n",
    "    # with_arc_floorplan=True,\n",
    "    # npoints=720,\n",
    "):\n",
    "    return sax.reciprocal(\n",
    "        {\n",
    "            (\"o1@TE\", \"o2@TE\"): 0.9**0.5,\n",
    "            # ('o1@TE', 'o2@TM'): 0.01**0.5,\n",
    "            # ('o1@TM', 'o2@TE'): 0.01**0.5,\n",
    "            (\"o1@TM\", \"o2@TM\"): 0.8**0.5,\n",
    "        }\n",
    "    )"
   ]
  },
  {
   "cell_type": "code",
   "execution_count": null,
   "id": "15",
   "metadata": {
    "papermill": {
     "duration": 0.011448,
     "end_time": "2025-06-12T12:18:50.173401",
     "exception": false,
     "start_time": "2025-06-12T12:18:50.161953",
     "status": "completed"
    },
    "tags": []
   },
   "outputs": [],
   "source": [
    "def mmi1x2_mm(\n",
    "    width=0.5,\n",
    "    width_taper=1.0,\n",
    "    length_taper=10.0,\n",
    "    length_mmi=5.5,\n",
    "    width_mmi=2.5,\n",
    "    gap_mmi=0.25,\n",
    "    # cross_section= strip,\n",
    "    # taper= {function= taper},\n",
    "    # with_bbox= True,\n",
    "):\n",
    "    return sax.reciprocal(\n",
    "        {\n",
    "            (\"o1@TE\", \"o2@TE\"): 0.45**0.5,\n",
    "            (\"o1@TE\", \"o3@TE\"): 0.45**0.5,\n",
    "            (\"o1@TM\", \"o2@TM\"): 0.41**0.5,\n",
    "            (\"o1@TM\", \"o3@TM\"): 0.41**0.5,\n",
    "            (\"o1@TE\", \"o2@TM\"): 0.01**0.5,\n",
    "            (\"o1@TM\", \"o2@TE\"): 0.01**0.5,\n",
    "            (\"o1@TE\", \"o3@TM\"): 0.02**0.5,\n",
    "            (\"o1@TM\", \"o3@TE\"): 0.02**0.5,\n",
    "        }\n",
    "    )"
   ]
  },
  {
   "cell_type": "code",
   "execution_count": null,
   "id": "16",
   "metadata": {
    "papermill": {
     "duration": 0.010709,
     "end_time": "2025-06-12T12:18:50.188664",
     "exception": false,
     "start_time": "2025-06-12T12:18:50.177955",
     "status": "completed"
    },
    "tags": []
   },
   "outputs": [],
   "source": [
    "def straight_mm(\n",
    "    length=0.01,\n",
    "    # npoints=2,\n",
    "    # with_bbox=True,\n",
    "    # cross_section=...\n",
    "):\n",
    "    return sax.reciprocal(\n",
    "        {\n",
    "            (\"o1@TE\", \"o2@TE\"): 1.0,\n",
    "            (\"o1@TM\", \"o2@TM\"): 1.0,\n",
    "        }\n",
    "    )"
   ]
  },
  {
   "cell_type": "code",
   "execution_count": null,
   "id": "17",
   "metadata": {
    "papermill": {
     "duration": 0.009209,
     "end_time": "2025-06-12T12:18:50.202519",
     "exception": false,
     "start_time": "2025-06-12T12:18:50.193310",
     "status": "completed"
    },
    "tags": []
   },
   "outputs": [],
   "source": [
    "models_mm = {\n",
    "    \"straight\": straight_mm,\n",
    "    \"bend_euler\": bend_euler_mm,\n",
    "    \"mmi1x2\": mmi1x2_mm,\n",
    "}"
   ]
  },
  {
   "cell_type": "markdown",
   "id": "18",
   "metadata": {
    "papermill": {
     "duration": 0.004613,
     "end_time": "2025-06-12T12:18:50.211621",
     "exception": false,
     "start_time": "2025-06-12T12:18:50.207008",
     "status": "completed"
    },
    "tags": []
   },
   "source": [
    "We can now represent our recursive netlist model as a Directed Acyclic Graph:"
   ]
  },
  {
   "cell_type": "code",
   "execution_count": null,
   "id": "19",
   "metadata": {
    "papermill": {
     "duration": 0.054684,
     "end_time": "2025-06-12T12:18:50.270803",
     "exception": false,
     "start_time": "2025-06-12T12:18:50.216119",
     "status": "completed"
    },
    "tags": []
   },
   "outputs": [],
   "source": [
    "dag = _create_dag(recnet, models)\n",
    "draw_dag(dag)"
   ]
  },
  {
   "cell_type": "markdown",
   "id": "20",
   "metadata": {
    "papermill": {
     "duration": 0.00469,
     "end_time": "2025-06-12T12:18:50.280280",
     "exception": false,
     "start_time": "2025-06-12T12:18:50.275590",
     "status": "completed"
    },
    "tags": []
   },
   "source": [
    "Note that the DAG depends on the models we supply. We could for example stub one of the sub-netlists by a pre-defined model:"
   ]
  },
  {
   "cell_type": "code",
   "execution_count": null,
   "id": "21",
   "metadata": {
    "papermill": {
     "duration": 0.057315,
     "end_time": "2025-06-12T12:18:50.342432",
     "exception": false,
     "start_time": "2025-06-12T12:18:50.285117",
     "status": "completed"
    },
    "tags": []
   },
   "outputs": [],
   "source": [
    "dag_ = _create_dag(recnet, {**models, \"mzi_delta_length10\": mmi2x2})\n",
    "draw_dag(dag_, with_labels=True)"
   ]
  },
  {
   "cell_type": "markdown",
   "id": "22",
   "metadata": {
    "papermill": {
     "duration": 0.005037,
     "end_time": "2025-06-12T12:18:50.352415",
     "exception": false,
     "start_time": "2025-06-12T12:18:50.347378",
     "status": "completed"
    },
    "tags": []
   },
   "source": [
    "This is useful if we for example pre-calculated a certain model."
   ]
  },
  {
   "cell_type": "markdown",
   "id": "23",
   "metadata": {
    "papermill": {
     "duration": 0.00499,
     "end_time": "2025-06-12T12:18:50.362325",
     "exception": false,
     "start_time": "2025-06-12T12:18:50.357335",
     "status": "completed"
    },
    "tags": []
   },
   "source": [
    "We can easily find the root of the DAG:"
   ]
  },
  {
   "cell_type": "code",
   "execution_count": null,
   "id": "24",
   "metadata": {
    "papermill": {
     "duration": 0.012948,
     "end_time": "2025-06-12T12:18:50.380257",
     "exception": false,
     "start_time": "2025-06-12T12:18:50.367309",
     "status": "completed"
    },
    "tags": []
   },
   "outputs": [],
   "source": [
    "_find_root(dag)"
   ]
  },
  {
   "cell_type": "markdown",
   "id": "25",
   "metadata": {
    "papermill": {
     "duration": 0.00237,
     "end_time": "2025-06-12T12:18:50.386225",
     "exception": false,
     "start_time": "2025-06-12T12:18:50.383855",
     "status": "completed"
    },
    "tags": []
   },
   "source": [
    "Similarly we can find the leaves:"
   ]
  },
  {
   "cell_type": "code",
   "execution_count": null,
   "id": "26",
   "metadata": {
    "papermill": {
     "duration": 0.011527,
     "end_time": "2025-06-12T12:18:50.399930",
     "exception": false,
     "start_time": "2025-06-12T12:18:50.388403",
     "status": "completed"
    },
    "tags": []
   },
   "outputs": [],
   "source": [
    "_find_leaves(dag)"
   ]
  },
  {
   "cell_type": "markdown",
   "id": "27",
   "metadata": {
    "papermill": {
     "duration": 0.005325,
     "end_time": "2025-06-12T12:18:50.410552",
     "exception": false,
     "start_time": "2025-06-12T12:18:50.405227",
     "status": "completed"
    },
    "tags": []
   },
   "source": [
    "To be able to simulate the circuit, we need to supply a model for each of the leaves in the dependency DAG. Let's write a validator that checks this"
   ]
  },
  {
   "cell_type": "code",
   "execution_count": null,
   "id": "28",
   "metadata": {
    "papermill": {
     "duration": 0.011575,
     "end_time": "2025-06-12T12:18:50.427530",
     "exception": false,
     "start_time": "2025-06-12T12:18:50.415955",
     "status": "completed"
    },
    "tags": []
   },
   "outputs": [],
   "source": [
    "models = _validate_models(models, dag)"
   ]
  },
  {
   "cell_type": "markdown",
   "id": "29",
   "metadata": {
    "papermill": {
     "duration": 0.002245,
     "end_time": "2025-06-12T12:18:50.435435",
     "exception": false,
     "start_time": "2025-06-12T12:18:50.433190",
     "status": "completed"
    },
    "tags": []
   },
   "source": [
    "We can now dow a bottom-up simulation. Since at the bottom of the DAG, our circuit is always flat (i.e. not hierarchical) we can implement a minimal `_flat_circuit` definition, which only needs to work on a flat (non-hierarchical circuit):"
   ]
  },
  {
   "cell_type": "code",
   "execution_count": null,
   "id": "30",
   "metadata": {
    "papermill": {
     "duration": 1.397996,
     "end_time": "2025-06-12T12:18:51.837855",
     "exception": false,
     "start_time": "2025-06-12T12:18:50.439859",
     "status": "completed"
    },
    "tags": []
   },
   "outputs": [],
   "source": [
    "flatnet = recnet.root[mzi1_comp]\n",
    "single_mzi = _flat_circuit(\n",
    "    flatnet.instances,\n",
    "    flatnet.connections,\n",
    "    flatnet.ports,\n",
    "    models,\n",
    "    \"default\",\n",
    ")\n",
    "single_mzi()"
   ]
  },
  {
   "cell_type": "markdown",
   "id": "31",
   "metadata": {
    "papermill": {
     "duration": 0.004313,
     "end_time": "2025-06-12T12:18:51.847412",
     "exception": false,
     "start_time": "2025-06-12T12:18:51.843099",
     "status": "completed"
    },
    "tags": []
   },
   "source": [
    "The resulting circuit is just another SAX model (i.e. a python function) returing an SType:"
   ]
  },
  {
   "cell_type": "code",
   "execution_count": null,
   "id": "32",
   "metadata": {
    "papermill": {
     "duration": 0.021343,
     "end_time": "2025-06-12T12:18:51.871286",
     "exception": false,
     "start_time": "2025-06-12T12:18:51.849943",
     "status": "completed"
    },
    "tags": []
   },
   "outputs": [],
   "source": [
    "?single_mzi"
   ]
  },
  {
   "cell_type": "markdown",
   "id": "33",
   "metadata": {
    "papermill": {
     "duration": 0.002113,
     "end_time": "2025-06-12T12:18:51.876707",
     "exception": false,
     "start_time": "2025-06-12T12:18:51.874594",
     "status": "completed"
    },
    "tags": []
   },
   "source": [
    "Let's 'execute' the circuit:"
   ]
  },
  {
   "cell_type": "markdown",
   "id": "34",
   "metadata": {
    "papermill": {
     "duration": 0.002334,
     "end_time": "2025-06-12T12:18:51.882970",
     "exception": false,
     "start_time": "2025-06-12T12:18:51.880636",
     "status": "completed"
    },
    "tags": []
   },
   "source": [
    "Note that we can also supply multimode models:"
   ]
  },
  {
   "cell_type": "code",
   "execution_count": null,
   "id": "35",
   "metadata": {
    "papermill": {
     "duration": 1.297464,
     "end_time": "2025-06-12T12:18:53.186129",
     "exception": false,
     "start_time": "2025-06-12T12:18:51.888665",
     "status": "completed"
    },
    "tags": []
   },
   "outputs": [],
   "source": [
    "flatnet = recnet.root[mzi1_comp]\n",
    "single_mzi = _flat_circuit(\n",
    "    flatnet.instances,\n",
    "    flatnet.connections,\n",
    "    flatnet.ports,\n",
    "    models_mm,\n",
    "    \"default\",\n",
    ")\n",
    "single_mzi()"
   ]
  },
  {
   "cell_type": "markdown",
   "id": "36",
   "metadata": {
    "papermill": {
     "duration": 0.004936,
     "end_time": "2025-06-12T12:18:53.196382",
     "exception": false,
     "start_time": "2025-06-12T12:18:53.191446",
     "status": "completed"
    },
    "tags": []
   },
   "source": [
    "Now that we can handle flat circuits the extension to hierarchical circuits is not so difficult:"
   ]
  },
  {
   "cell_type": "markdown",
   "id": "37",
   "metadata": {
    "papermill": {
     "duration": 0.002131,
     "end_time": "2025-06-12T12:18:53.200965",
     "exception": false,
     "start_time": "2025-06-12T12:18:53.198834",
     "status": "completed"
    },
    "tags": []
   },
   "source": [
    "single mode simulation:"
   ]
  },
  {
   "cell_type": "code",
   "execution_count": null,
   "id": "38",
   "metadata": {
    "papermill": {
     "duration": 0.881242,
     "end_time": "2025-06-12T12:18:54.085977",
     "exception": false,
     "start_time": "2025-06-12T12:18:53.204735",
     "status": "completed"
    },
    "tags": []
   },
   "outputs": [],
   "source": [
    "double_mzi, info = sax.circuit(recnet, models, backend=\"default\")\n",
    "double_mzi()"
   ]
  },
  {
   "cell_type": "markdown",
   "id": "39",
   "metadata": {
    "papermill": {
     "duration": 0.005818,
     "end_time": "2025-06-12T12:18:54.097008",
     "exception": false,
     "start_time": "2025-06-12T12:18:54.091190",
     "status": "completed"
    },
    "tags": []
   },
   "source": [
    "multi mode simulation:"
   ]
  },
  {
   "cell_type": "code",
   "execution_count": null,
   "id": "40",
   "metadata": {
    "papermill": {
     "duration": 0.950986,
     "end_time": "2025-06-12T12:18:55.052968",
     "exception": false,
     "start_time": "2025-06-12T12:18:54.101982",
     "status": "completed"
    },
    "tags": []
   },
   "outputs": [],
   "source": [
    "double_mzi, info = sax.circuit(\n",
    "    recnet, models_mm, backend=\"default\", return_type=\"sdict\"\n",
    ")\n",
    "double_mzi()"
   ]
  },
  {
   "cell_type": "markdown",
   "id": "41",
   "metadata": {
    "papermill": {
     "duration": 0.00215,
     "end_time": "2025-06-12T12:18:55.057733",
     "exception": false,
     "start_time": "2025-06-12T12:18:55.055583",
     "status": "completed"
    },
    "tags": []
   },
   "source": [
    "sometimes it's useful to get the required circuit model names to be able to create the circuit:"
   ]
  },
  {
   "cell_type": "code",
   "execution_count": null,
   "id": "42",
   "metadata": {
    "papermill": {
     "duration": 0.009146,
     "end_time": "2025-06-12T12:18:55.069415",
     "exception": false,
     "start_time": "2025-06-12T12:18:55.060269",
     "status": "completed"
    },
    "tags": []
   },
   "outputs": [],
   "source": [
    "sax.get_required_circuit_models(recnet, models)"
   ]
  }
 ],
 "metadata": {
  "kernelspec": {
   "display_name": "Python 3 (ipykernel)",
   "language": "python",
   "name": "python3"
  },
  "language_info": {
   "codemirror_mode": {
    "name": "ipython",
    "version": 3
   },
   "file_extension": ".py",
   "mimetype": "text/x-python",
   "name": "python",
   "nbconvert_exporter": "python",
   "pygments_lexer": "ipython3",
   "version": "3.12.10"
  },
  "papermill": {
   "default_parameters": {},
   "duration": 13.85663,
   "end_time": "2025-06-12T12:18:57.691760",
   "environment_variables": {},
   "exception": null,
   "input_path": "nbs/internals/02_circuit.ipynb",
   "output_path": "nbs/internals/02_circuit.ipynb",
   "parameters": {},
   "start_time": "2025-06-12T12:18:43.835130",
   "version": "2.6.0"
  }
 },
 "nbformat": 4,
 "nbformat_minor": 5
}
