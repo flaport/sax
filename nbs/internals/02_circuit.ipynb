{
 "cells": [
  {
   "cell_type": "markdown",
   "id": "0",
   "metadata": {},
   "source": [
    "# Circuit\n",
    "\n",
    "> SAX Circuits"
   ]
  },
  {
   "cell_type": "code",
   "execution_count": null,
   "id": "1",
   "metadata": {},
   "outputs": [],
   "source": [
    "import gdsfactory as gf\n",
    "\n",
    "import sax\n",
    "from sax.circuits import (\n",
    "    _create_dag,\n",
    "    _find_leaves,\n",
    "    _find_root,\n",
    "    _flat_circuit,\n",
    "    _validate_models,\n",
    "    draw_dag,\n",
    ")"
   ]
  },
  {
   "cell_type": "markdown",
   "id": "2",
   "metadata": {},
   "source": [
    "Let's start by creating a simple recursive netlist with gdsfactory.\n",
    "\n",
    "\n",
    "> NOTE: We are using gdsfactory to create our netlist because it allows us to see the circuit we want to simulate and because we're striving to have a compatible netlist implementation in SAX.\n",
    "> \n",
    "> However... gdsfactory is not a dependency of SAX. You can also define your circuits by hand (see SAX Quick Start Notebook) or you can use another tool to programmatically construct your netlists."
   ]
  },
  {
   "cell_type": "code",
   "execution_count": null,
   "id": "3",
   "metadata": {},
   "outputs": [],
   "source": [
    "@gf.cell\n",
    "def mzi(delta_length=10.0):\n",
    "    c = gf.Component()\n",
    "\n",
    "    # components\n",
    "    mmi_in = gf.components.mmi1x2()\n",
    "    mmi_out = gf.components.mmi2x2()\n",
    "    bend = gf.components.bend_euler()\n",
    "    half_delay_straight = gf.components.straight(length=delta_length / 2.0)\n",
    "\n",
    "    # references\n",
    "    mmi_in = c.add_ref(mmi_in, name=\"mmi_in\")\n",
    "    mmi_out = c.add_ref(mmi_out, name=\"mmi_out\")\n",
    "    straight_top1 = c.add_ref(half_delay_straight, name=\"straight_top1\")\n",
    "    straight_top2 = c.add_ref(half_delay_straight, name=\"straight_top2\")\n",
    "    bend_top1 = c.add_ref(bend, name=\"bend_top1\")\n",
    "    bend_top2 = c.add_ref(bend, name=\"bend_top2\").dmirror()\n",
    "    bend_top3 = c.add_ref(bend, name=\"bend_top3\").dmirror()\n",
    "    bend_top4 = c.add_ref(bend, name=\"bend_top4\")\n",
    "    bend_btm1 = c.add_ref(bend, name=\"bend_btm1\").dmirror()\n",
    "    bend_btm2 = c.add_ref(bend, name=\"bend_btm2\")\n",
    "    bend_btm3 = c.add_ref(bend, name=\"bend_btm3\")\n",
    "    bend_btm4 = c.add_ref(bend, name=\"bend_btm4\").dmirror()\n",
    "\n",
    "    # connections\n",
    "    bend_top1.connect(\"o1\", mmi_in.ports[\"o2\"])\n",
    "    straight_top1.connect(\"o1\", bend_top1.ports[\"o2\"])\n",
    "    bend_top2.connect(\"o1\", straight_top1.ports[\"o2\"])\n",
    "    bend_top3.connect(\"o1\", bend_top2.ports[\"o2\"])\n",
    "    straight_top2.connect(\"o1\", bend_top3.ports[\"o2\"])\n",
    "    bend_top4.connect(\"o1\", straight_top2.ports[\"o2\"])\n",
    "\n",
    "    bend_btm1.connect(\"o1\", mmi_in.ports[\"o3\"])\n",
    "    bend_btm2.connect(\"o1\", bend_btm1.ports[\"o2\"])\n",
    "    bend_btm3.connect(\"o1\", bend_btm2.ports[\"o2\"])\n",
    "    bend_btm4.connect(\"o1\", bend_btm3.ports[\"o2\"])\n",
    "\n",
    "    mmi_out.connect(\"o1\", bend_btm4.ports[\"o2\"])\n",
    "\n",
    "    # ports\n",
    "    c.add_port(\n",
    "        \"o1\",\n",
    "        port=mmi_in.ports[\"o1\"],\n",
    "    )\n",
    "    c.add_port(\"o2\", port=mmi_out.ports[\"o3\"])\n",
    "    c.add_port(\"o3\", port=mmi_out.ports[\"o4\"])\n",
    "    return c\n",
    "\n",
    "\n",
    "@gf.cell\n",
    "def twomzi():\n",
    "    c = gf.Component()\n",
    "\n",
    "    # instances\n",
    "    mzi1 = mzi(delta_length=10)\n",
    "    mzi2 = mzi(delta_length=20)\n",
    "\n",
    "    # references\n",
    "    mzi1_ = c.add_ref(mzi1, name=\"mzi1\")\n",
    "    mzi2_ = c.add_ref(mzi2, name=\"mzi2\")\n",
    "\n",
    "    # connections\n",
    "    mzi2_.connect(\"o1\", mzi1_.ports[\"o2\"])\n",
    "\n",
    "    # ports\n",
    "    c.add_port(\"o1\", port=mzi1_.ports[\"o1\"])\n",
    "    c.add_port(\"o2\", port=mzi2_.ports[\"o2\"])\n",
    "    return c"
   ]
  },
  {
   "cell_type": "code",
   "execution_count": null,
   "id": "4",
   "metadata": {},
   "outputs": [],
   "source": [
    "comp = twomzi()\n",
    "comp"
   ]
  },
  {
   "cell_type": "code",
   "execution_count": null,
   "id": "5",
   "metadata": {},
   "outputs": [],
   "source": [
    "recnet = sax.netlist(comp.get_netlist(recursive=True))\n",
    "mzi1_comp = recnet[\"twomzi\"][\"instances\"][\"mzi1\"][\"component\"]\n",
    "flatnet = recnet[mzi1_comp]"
   ]
  },
  {
   "cell_type": "markdown",
   "id": "6",
   "metadata": {},
   "source": [
    "To be able to model this device we'll need some SAX dummy models:"
   ]
  },
  {
   "cell_type": "code",
   "execution_count": null,
   "id": "7",
   "metadata": {},
   "outputs": [],
   "source": [
    "def bend_euler(\n",
    "    angle=90.0,\n",
    "    p=0.5,\n",
    "    # cross_section=\"strip\",\n",
    "    # direction=\"ccw\",\n",
    "    # with_bbox=True,\n",
    "    # with_arc_floorplan=True,\n",
    "    # npoints=720,\n",
    "):\n",
    "    return sax.reciprocal({(\"o1\", \"o2\"): 1.0})"
   ]
  },
  {
   "cell_type": "code",
   "execution_count": null,
   "id": "8",
   "metadata": {},
   "outputs": [],
   "source": [
    "def mmi1x2(\n",
    "    width=0.5,\n",
    "    width_taper=1.0,\n",
    "    length_taper=10.0,\n",
    "    length_mmi=5.5,\n",
    "    width_mmi=2.5,\n",
    "    gap_mmi=0.25,\n",
    "    # cross_section= strip,\n",
    "    # taper= {function= taper},\n",
    "    # with_bbox= True,\n",
    "):\n",
    "    return sax.reciprocal(\n",
    "        {\n",
    "            (\"o1\", \"o2\"): 0.45**0.5,\n",
    "            (\"o1\", \"o3\"): 0.45**0.5,\n",
    "        }\n",
    "    )"
   ]
  },
  {
   "cell_type": "code",
   "execution_count": null,
   "id": "9",
   "metadata": {},
   "outputs": [],
   "source": [
    "def mmi2x2(\n",
    "    width=0.5,\n",
    "    width_taper=1.0,\n",
    "    length_taper=10.0,\n",
    "    length_mmi=5.5,\n",
    "    width_mmi=2.5,\n",
    "    gap_mmi=0.25,\n",
    "    # cross_section= strip,\n",
    "    # taper= {function= taper},\n",
    "    # with_bbox= True,\n",
    "):\n",
    "    return sax.reciprocal(\n",
    "        {\n",
    "            (\"o1\", \"o3\"): 0.45**0.5,\n",
    "            (\"o1\", \"o4\"): 1j * 0.45**0.5,\n",
    "            (\"o2\", \"o3\"): 1j * 0.45**0.5,\n",
    "            (\"o2\", \"o4\"): 0.45**0.5,\n",
    "        }\n",
    "    )"
   ]
  },
  {
   "cell_type": "code",
   "execution_count": null,
   "id": "10",
   "metadata": {},
   "outputs": [],
   "source": [
    "def straight(\n",
    "    length=0.01,\n",
    "    # npoints=2,\n",
    "    # with_bbox=True,\n",
    "    # cross_section=...\n",
    "):\n",
    "    return sax.reciprocal({(\"o1\", \"o2\"): 1.0})"
   ]
  },
  {
   "cell_type": "markdown",
   "id": "11",
   "metadata": {},
   "source": [
    "In SAX, we usually aggregate the available models in a models dictionary:"
   ]
  },
  {
   "cell_type": "code",
   "execution_count": null,
   "id": "12",
   "metadata": {},
   "outputs": [],
   "source": [
    "models = {\n",
    "    \"straight\": straight,\n",
    "    \"bend_euler\": bend_euler,\n",
    "    \"mmi1x2\": mmi1x2,\n",
    "    \"mmi2x2\": mmi2x2,\n",
    "}"
   ]
  },
  {
   "cell_type": "markdown",
   "id": "13",
   "metadata": {},
   "source": [
    "We can also create some dummy multimode models:"
   ]
  },
  {
   "cell_type": "code",
   "execution_count": null,
   "id": "14",
   "metadata": {},
   "outputs": [],
   "source": [
    "def bend_euler_mm(\n",
    "    angle=90.0,\n",
    "    p=0.5,\n",
    "    # cross_section=\"strip\",\n",
    "    # direction=\"ccw\",\n",
    "    # with_bbox=True,\n",
    "    # with_arc_floorplan=True,\n",
    "    # npoints=720,\n",
    "):\n",
    "    return sax.reciprocal(\n",
    "        {\n",
    "            (\"o1@TE\", \"o2@TE\"): 0.9**0.5,\n",
    "            # ('o1@TE', 'o2@TM'): 0.01**0.5,\n",
    "            # ('o1@TM', 'o2@TE'): 0.01**0.5,\n",
    "            (\"o1@TM\", \"o2@TM\"): 0.8**0.5,\n",
    "        }\n",
    "    )"
   ]
  },
  {
   "cell_type": "code",
   "execution_count": null,
   "id": "15",
   "metadata": {},
   "outputs": [],
   "source": [
    "def mmi1x2_mm(\n",
    "    width=0.5,\n",
    "    width_taper=1.0,\n",
    "    length_taper=10.0,\n",
    "    length_mmi=5.5,\n",
    "    width_mmi=2.5,\n",
    "    gap_mmi=0.25,\n",
    "    # cross_section= strip,\n",
    "    # taper= {function= taper},\n",
    "    # with_bbox= True,\n",
    "):\n",
    "    return sax.reciprocal(\n",
    "        {\n",
    "            (\"o1@TE\", \"o2@TE\"): 0.45**0.5,\n",
    "            (\"o1@TE\", \"o3@TE\"): 0.45**0.5,\n",
    "            (\"o1@TM\", \"o2@TM\"): 0.41**0.5,\n",
    "            (\"o1@TM\", \"o3@TM\"): 0.41**0.5,\n",
    "            (\"o1@TE\", \"o2@TM\"): 0.01**0.5,\n",
    "            (\"o1@TM\", \"o2@TE\"): 0.01**0.5,\n",
    "            (\"o1@TE\", \"o3@TM\"): 0.02**0.5,\n",
    "            (\"o1@TM\", \"o3@TE\"): 0.02**0.5,\n",
    "        }\n",
    "    )"
   ]
  },
  {
   "cell_type": "code",
   "execution_count": null,
   "id": "16",
   "metadata": {},
   "outputs": [],
   "source": [
    "def mmi2x2_mm(\n",
    "    width=0.5,\n",
    "    width_taper=1.0,\n",
    "    length_taper=10.0,\n",
    "    length_mmi=5.5,\n",
    "    width_mmi=2.5,\n",
    "    gap_mmi=0.25,\n",
    "    # cross_section= strip,\n",
    "    # taper= {function= taper},\n",
    "    # with_bbox= True,\n",
    "):\n",
    "    return sax.reciprocal(\n",
    "        {\n",
    "            (\"o1@TE\", \"o3@TE\"): 0.45**0.5,\n",
    "            (\"o1@TE\", \"o4@TE\"): 1j * 0.45**0.5,\n",
    "            (\"o2@TE\", \"o3@TE\"): 1j * 0.45**0.5,\n",
    "            (\"o2@TE\", \"o4@TE\"): 0.45**0.5,\n",
    "            (\"o1@TM\", \"o3@TM\"): 0.45**0.5,\n",
    "            (\"o1@TM\", \"o4@TM\"): 1j * 0.45**0.5,\n",
    "            (\"o2@TM\", \"o3@TM\"): 1j * 0.45**0.5,\n",
    "            (\"o2@TM\", \"o4@TM\"): 0.45**0.5,\n",
    "        }\n",
    "    )"
   ]
  },
  {
   "cell_type": "code",
   "execution_count": null,
   "id": "17",
   "metadata": {},
   "outputs": [],
   "source": [
    "def straight_mm(\n",
    "    length=0.01,\n",
    "    # npoints=2,\n",
    "    # with_bbox=True,\n",
    "    # cross_section=...\n",
    "):\n",
    "    return sax.reciprocal(\n",
    "        {\n",
    "            (\"o1@TE\", \"o2@TE\"): 1.0,\n",
    "            (\"o1@TM\", \"o2@TM\"): 1.0,\n",
    "        }\n",
    "    )"
   ]
  },
  {
   "cell_type": "code",
   "execution_count": null,
   "id": "18",
   "metadata": {},
   "outputs": [],
   "source": [
    "models_mm = {\n",
    "    \"straight\": straight_mm,\n",
    "    \"bend_euler\": bend_euler_mm,\n",
    "    \"mmi1x2\": mmi1x2_mm,\n",
    "    \"mmi2x2\": mmi2x2_mm,\n",
    "}"
   ]
  },
  {
   "cell_type": "markdown",
   "id": "19",
   "metadata": {},
   "source": [
    "We can now represent our recursive netlist model as a Directed Acyclic Graph:"
   ]
  },
  {
   "cell_type": "code",
   "execution_count": null,
   "id": "20",
   "metadata": {},
   "outputs": [],
   "source": [
    "dag = _create_dag(recnet, models)\n",
    "draw_dag(dag)"
   ]
  },
  {
   "cell_type": "markdown",
   "id": "21",
   "metadata": {},
   "source": [
    "Note that the DAG depends on the models we supply. We could for example stub one of the sub-netlists by a pre-defined model:"
   ]
  },
  {
   "cell_type": "code",
   "execution_count": null,
   "id": "22",
   "metadata": {},
   "outputs": [],
   "source": [
    "dag_ = _create_dag(recnet, {**models, \"mzi_DL10\": mmi2x2})\n",
    "draw_dag(dag_, with_labels=True)"
   ]
  },
  {
   "cell_type": "markdown",
   "id": "23",
   "metadata": {},
   "source": [
    "This is useful if we for example pre-calculated a certain model."
   ]
  },
  {
   "cell_type": "markdown",
   "id": "24",
   "metadata": {},
   "source": [
    "We can easily find the root of the DAG:"
   ]
  },
  {
   "cell_type": "code",
   "execution_count": null,
   "id": "25",
   "metadata": {},
   "outputs": [],
   "source": [
    "_find_root(dag)"
   ]
  },
  {
   "cell_type": "markdown",
   "id": "26",
   "metadata": {},
   "source": [
    "Similarly we can find the leaves:"
   ]
  },
  {
   "cell_type": "code",
   "execution_count": null,
   "id": "27",
   "metadata": {},
   "outputs": [],
   "source": [
    "_find_leaves(dag)"
   ]
  },
  {
   "cell_type": "markdown",
   "id": "28",
   "metadata": {},
   "source": [
    "To be able to simulate the circuit, we need to supply a model for each of the leaves in the dependency DAG. Let's write a validator that checks this"
   ]
  },
  {
   "cell_type": "code",
   "execution_count": null,
   "id": "29",
   "metadata": {},
   "outputs": [],
   "source": [
    "models"
   ]
  },
  {
   "cell_type": "code",
   "execution_count": null,
   "id": "30",
   "metadata": {},
   "outputs": [],
   "source": [
    "models = _validate_models(models, dag)"
   ]
  },
  {
   "cell_type": "markdown",
   "id": "31",
   "metadata": {},
   "source": [
    "We can now dow a bottom-up simulation. Since at the bottom of the DAG, our circuit is always flat (i.e. not hierarchical) we can implement a minimal `_flat_circuit` definition, which only needs to work on a flat (non-hierarchical circuit):"
   ]
  },
  {
   "cell_type": "code",
   "execution_count": null,
   "id": "32",
   "metadata": {},
   "outputs": [],
   "source": [
    "from sax.netlists import convert_nets_to_connections\n",
    "\n",
    "flatnet = convert_nets_to_connections(recnet[mzi1_comp])\n",
    "\n",
    "single_mzi = _flat_circuit(\n",
    "    flatnet[\"instances\"],\n",
    "    flatnet[\"connections\"],\n",
    "    flatnet[\"ports\"],\n",
    "    models,\n",
    "    \"default\",\n",
    ")\n",
    "single_mzi()"
   ]
  },
  {
   "cell_type": "markdown",
   "id": "33",
   "metadata": {},
   "source": [
    "The resulting circuit is just another SAX model (i.e. a python function) returing an SType:"
   ]
  },
  {
   "cell_type": "code",
   "execution_count": null,
   "id": "34",
   "metadata": {},
   "outputs": [],
   "source": [
    "?single_mzi"
   ]
  },
  {
   "cell_type": "markdown",
   "id": "35",
   "metadata": {},
   "source": [
    "Let's 'execute' the circuit:"
   ]
  },
  {
   "cell_type": "markdown",
   "id": "36",
   "metadata": {},
   "source": [
    "Note that we can also supply multimode models:"
   ]
  },
  {
   "cell_type": "code",
   "execution_count": null,
   "id": "37",
   "metadata": {},
   "outputs": [],
   "source": [
    "flatnet = convert_nets_to_connections(recnet[mzi1_comp])\n",
    "single_mzi = _flat_circuit(\n",
    "    flatnet[\"instances\"],\n",
    "    flatnet[\"connections\"],\n",
    "    flatnet[\"ports\"],\n",
    "    models_mm,\n",
    "    \"default\",\n",
    ")\n",
    "single_mzi()"
   ]
  },
  {
   "cell_type": "markdown",
   "id": "38",
   "metadata": {},
   "source": [
    "Now that we can handle flat circuits the extension to hierarchical circuits is not so difficult:"
   ]
  },
  {
   "cell_type": "markdown",
   "id": "39",
   "metadata": {},
   "source": [
    "single mode simulation:"
   ]
  },
  {
   "cell_type": "code",
   "execution_count": null,
   "id": "40",
   "metadata": {},
   "outputs": [],
   "source": [
    "double_mzi, info = sax.circuit(netlist=recnet, models=models, backend=\"default\")\n",
    "double_mzi()"
   ]
  },
  {
   "cell_type": "markdown",
   "id": "41",
   "metadata": {},
   "source": [
    "multi mode simulation:"
   ]
  },
  {
   "cell_type": "code",
   "execution_count": null,
   "id": "42",
   "metadata": {},
   "outputs": [],
   "source": [
    "double_mzi, info = sax.circuit(\n",
    "    netlist=recnet, models=models_mm, backend=\"default\", return_type=\"sdict\"\n",
    ")\n",
    "double_mzi()"
   ]
  },
  {
   "cell_type": "markdown",
   "id": "43",
   "metadata": {},
   "source": [
    "sometimes it's useful to get the required circuit model names to be able to create the circuit:"
   ]
  },
  {
   "cell_type": "code",
   "execution_count": null,
   "id": "44",
   "metadata": {},
   "outputs": [],
   "source": [
    "sax.get_required_circuit_models(recnet, models)"
   ]
  }
 ],
 "metadata": {
  "kernelspec": {
   "display_name": "sax",
   "language": "python",
   "name": "sax"
  },
  "language_info": {
   "codemirror_mode": {
    "name": "ipython",
    "version": 3
   },
   "file_extension": ".py",
   "mimetype": "text/x-python",
   "name": "python",
   "nbconvert_exporter": "python",
   "pygments_lexer": "ipython3"
  },
  "papermill": {
   "default_parameters": {},
   "duration": 12.544787,
   "end_time": "2025-06-20T21:07:22.658641",
   "environment_variables": {},
   "exception": null,
   "input_path": "nbs/internals/02_circuit.ipynb",
   "output_path": "nbs/internals/02_circuit.ipynb",
   "parameters": {},
   "start_time": "2025-06-20T21:07:10.113854",
   "version": "2.6.0"
  }
 },
 "nbformat": 4,
 "nbformat_minor": 5
}
