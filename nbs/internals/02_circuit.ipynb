{
 "cells": [
  {
   "cell_type": "markdown",
   "id": "0",
   "metadata": {
    "papermill": {
     "duration": 0.00722,
     "end_time": "2025-06-12T12:29:44.539253",
     "exception": false,
     "start_time": "2025-06-12T12:29:44.532033",
     "status": "completed"
    },
    "tags": []
   },
   "source": [
    "# Circuit\n",
    "\n",
    "> SAX Circuits"
   ]
  },
  {
   "cell_type": "code",
   "execution_count": null,
   "id": "1",
   "metadata": {
    "papermill": {
     "duration": 0.719765,
     "end_time": "2025-06-12T12:29:45.262227",
     "exception": false,
     "start_time": "2025-06-12T12:29:44.542462",
     "status": "completed"
    },
    "tags": []
   },
   "outputs": [],
   "source": [
    "import sax\n",
    "from sax.circuit import (\n",
    "    _create_dag,\n",
    "    _find_leaves,\n",
    "    _find_root,\n",
    "    _flat_circuit,\n",
    "    _validate_models,\n",
    "    draw_dag,\n",
    ")"
   ]
  },
  {
   "cell_type": "markdown",
   "id": "2",
   "metadata": {
    "papermill": {
     "duration": 0.004078,
     "end_time": "2025-06-12T12:29:45.270216",
     "exception": false,
     "start_time": "2025-06-12T12:29:45.266138",
     "status": "completed"
    },
    "tags": []
   },
   "source": [
    "Let's start by creating a simple recursive netlist with gdsfactory.\n",
    "\n",
    "\n",
    "> NOTE: We are using gdsfactory to create our netlist because it allows us to see the circuit we want to simulate and because we're striving to have a compatible netlist implementation in SAX.\n",
    "> \n",
    "> However... gdsfactory is not a dependency of SAX. You can also define your circuits by hand (see SAX Quick Start Notebook) or you can use another tool to programmatically construct your netlists."
   ]
  },
  {
   "cell_type": "code",
   "execution_count": null,
   "id": "3",
   "metadata": {
    "papermill": {
     "duration": 1.112325,
     "end_time": "2025-06-12T12:29:46.386303",
     "exception": false,
     "start_time": "2025-06-12T12:29:45.273978",
     "status": "completed"
    },
    "tags": []
   },
   "outputs": [],
   "source": [
    "import gdsfactory as gf\n",
    "from gdsfactory.components import mzi\n",
    "\n",
    "\n",
    "@gf.cell\n",
    "def twomzi():\n",
    "    c = gf.Component()\n",
    "\n",
    "    # instances\n",
    "    mzi1 = mzi(delta_length=10)\n",
    "    mzi2 = mzi(delta_length=20)\n",
    "\n",
    "    # references\n",
    "    mzi1_ = c.add_ref(mzi1, name=\"mzi1\")\n",
    "    mzi2_ = c.add_ref(mzi2, name=\"mzi2\")\n",
    "\n",
    "    # connections\n",
    "    mzi2_.connect(\"o1\", mzi1_.ports[\"o2\"])\n",
    "\n",
    "    # ports\n",
    "    c.add_port(\"o1\", port=mzi1_.ports[\"o1\"])\n",
    "    c.add_port(\"o2\", port=mzi2_.ports[\"o2\"])\n",
    "    return c"
   ]
  },
  {
   "cell_type": "code",
   "execution_count": null,
   "id": "4",
   "metadata": {
    "papermill": {
     "duration": 0.175582,
     "end_time": "2025-06-12T12:29:46.565204",
     "exception": false,
     "start_time": "2025-06-12T12:29:46.389622",
     "status": "completed"
    },
    "tags": []
   },
   "outputs": [],
   "source": [
    "comp = twomzi()\n",
    "comp"
   ]
  },
  {
   "cell_type": "code",
   "execution_count": null,
   "id": "5",
   "metadata": {
    "papermill": {
     "duration": 0.02438,
     "end_time": "2025-06-12T12:29:46.594110",
     "exception": false,
     "start_time": "2025-06-12T12:29:46.569730",
     "status": "completed"
    },
    "tags": []
   },
   "outputs": [],
   "source": [
    "recnet = sax.RecursiveNetlist.parse_obj(comp.get_netlist(recursive=True))\n",
    "mzi1_comp = recnet.root[\"twomzi\"].instances[\"mzi1\"].component\n",
    "flatnet = recnet.root[mzi1_comp]"
   ]
  },
  {
   "cell_type": "markdown",
   "id": "6",
   "metadata": {
    "papermill": {
     "duration": 0.003483,
     "end_time": "2025-06-12T12:29:46.601561",
     "exception": false,
     "start_time": "2025-06-12T12:29:46.598078",
     "status": "completed"
    },
    "tags": []
   },
   "source": [
    "To be able to model this device we'll need some SAX dummy models:"
   ]
  },
  {
   "cell_type": "code",
   "execution_count": null,
   "id": "7",
   "metadata": {
    "papermill": {
     "duration": 0.017981,
     "end_time": "2025-06-12T12:29:46.622580",
     "exception": false,
     "start_time": "2025-06-12T12:29:46.604599",
     "status": "completed"
    },
    "tags": []
   },
   "outputs": [],
   "source": [
    "def bend_euler(\n",
    "    angle=90.0,\n",
    "    p=0.5,\n",
    "    # cross_section=\"strip\",\n",
    "    # direction=\"ccw\",\n",
    "    # with_bbox=True,\n",
    "    # with_arc_floorplan=True,\n",
    "    # npoints=720,\n",
    "):\n",
    "    return sax.reciprocal({(\"o1\", \"o2\"): 1.0})"
   ]
  },
  {
   "cell_type": "code",
   "execution_count": null,
   "id": "8",
   "metadata": {
    "papermill": {
     "duration": 0.009731,
     "end_time": "2025-06-12T12:29:46.636446",
     "exception": false,
     "start_time": "2025-06-12T12:29:46.626715",
     "status": "completed"
    },
    "tags": []
   },
   "outputs": [],
   "source": [
    "def mmi1x2(\n",
    "    width=0.5,\n",
    "    width_taper=1.0,\n",
    "    length_taper=10.0,\n",
    "    length_mmi=5.5,\n",
    "    width_mmi=2.5,\n",
    "    gap_mmi=0.25,\n",
    "    # cross_section= strip,\n",
    "    # taper= {function= taper},\n",
    "    # with_bbox= True,\n",
    "):\n",
    "    return sax.reciprocal(\n",
    "        {\n",
    "            (\"o1\", \"o2\"): 0.45**0.5,\n",
    "            (\"o1\", \"o3\"): 0.45**0.5,\n",
    "        }\n",
    "    )"
   ]
  },
  {
   "cell_type": "code",
   "execution_count": null,
   "id": "9",
   "metadata": {
    "papermill": {
     "duration": 0.008108,
     "end_time": "2025-06-12T12:29:46.649790",
     "exception": false,
     "start_time": "2025-06-12T12:29:46.641682",
     "status": "completed"
    },
    "tags": []
   },
   "outputs": [],
   "source": [
    "def mmi2x2(\n",
    "    width=0.5,\n",
    "    width_taper=1.0,\n",
    "    length_taper=10.0,\n",
    "    length_mmi=5.5,\n",
    "    width_mmi=2.5,\n",
    "    gap_mmi=0.25,\n",
    "    # cross_section= strip,\n",
    "    # taper= {function= taper},\n",
    "    # with_bbox= True,\n",
    "):\n",
    "    return sax.reciprocal(\n",
    "        {\n",
    "            (\"o1\", \"o3\"): 0.45**0.5,\n",
    "            (\"o1\", \"o4\"): 1j * 0.45**0.5,\n",
    "            (\"o2\", \"o3\"): 1j * 0.45**0.5,\n",
    "            (\"o2\", \"o4\"): 0.45**0.5,\n",
    "        }\n",
    "    )"
   ]
  },
  {
   "cell_type": "code",
   "execution_count": null,
   "id": "10",
   "metadata": {
    "papermill": {
     "duration": 0.009091,
     "end_time": "2025-06-12T12:29:46.663088",
     "exception": false,
     "start_time": "2025-06-12T12:29:46.653997",
     "status": "completed"
    },
    "tags": []
   },
   "outputs": [],
   "source": [
    "def straight(\n",
    "    length=0.01,\n",
    "    # npoints=2,\n",
    "    # with_bbox=True,\n",
    "    # cross_section=...\n",
    "):\n",
    "    return sax.reciprocal({(\"o1\", \"o2\"): 1.0})"
   ]
  },
  {
   "cell_type": "markdown",
   "id": "11",
   "metadata": {
    "papermill": {
     "duration": 0.004148,
     "end_time": "2025-06-12T12:29:46.671332",
     "exception": false,
     "start_time": "2025-06-12T12:29:46.667184",
     "status": "completed"
    },
    "tags": []
   },
   "source": [
    "In SAX, we usually aggregate the available models in a models dictionary:"
   ]
  },
  {
   "cell_type": "code",
   "execution_count": null,
   "id": "12",
   "metadata": {
    "papermill": {
     "duration": 0.00916,
     "end_time": "2025-06-12T12:29:46.684819",
     "exception": false,
     "start_time": "2025-06-12T12:29:46.675659",
     "status": "completed"
    },
    "tags": []
   },
   "outputs": [],
   "source": [
    "models = {\n",
    "    \"straight\": straight,\n",
    "    \"bend_euler\": bend_euler,\n",
    "    \"mmi1x2\": mmi1x2,\n",
    "}"
   ]
  },
  {
   "cell_type": "markdown",
   "id": "13",
   "metadata": {
    "papermill": {
     "duration": 0.001781,
     "end_time": "2025-06-12T12:29:46.689191",
     "exception": false,
     "start_time": "2025-06-12T12:29:46.687410",
     "status": "completed"
    },
    "tags": []
   },
   "source": [
    "We can also create some dummy multimode models:"
   ]
  },
  {
   "cell_type": "code",
   "execution_count": null,
   "id": "14",
   "metadata": {
    "papermill": {
     "duration": 0.006568,
     "end_time": "2025-06-12T12:29:46.697996",
     "exception": false,
     "start_time": "2025-06-12T12:29:46.691428",
     "status": "completed"
    },
    "tags": []
   },
   "outputs": [],
   "source": [
    "def bend_euler_mm(\n",
    "    angle=90.0,\n",
    "    p=0.5,\n",
    "    # cross_section=\"strip\",\n",
    "    # direction=\"ccw\",\n",
    "    # with_bbox=True,\n",
    "    # with_arc_floorplan=True,\n",
    "    # npoints=720,\n",
    "):\n",
    "    return sax.reciprocal(\n",
    "        {\n",
    "            (\"o1@TE\", \"o2@TE\"): 0.9**0.5,\n",
    "            # ('o1@TE', 'o2@TM'): 0.01**0.5,\n",
    "            # ('o1@TM', 'o2@TE'): 0.01**0.5,\n",
    "            (\"o1@TM\", \"o2@TM\"): 0.8**0.5,\n",
    "        }\n",
    "    )"
   ]
  },
  {
   "cell_type": "code",
   "execution_count": null,
   "id": "15",
   "metadata": {
    "papermill": {
     "duration": 0.008684,
     "end_time": "2025-06-12T12:29:46.711045",
     "exception": false,
     "start_time": "2025-06-12T12:29:46.702361",
     "status": "completed"
    },
    "tags": []
   },
   "outputs": [],
   "source": [
    "def mmi1x2_mm(\n",
    "    width=0.5,\n",
    "    width_taper=1.0,\n",
    "    length_taper=10.0,\n",
    "    length_mmi=5.5,\n",
    "    width_mmi=2.5,\n",
    "    gap_mmi=0.25,\n",
    "    # cross_section= strip,\n",
    "    # taper= {function= taper},\n",
    "    # with_bbox= True,\n",
    "):\n",
    "    return sax.reciprocal(\n",
    "        {\n",
    "            (\"o1@TE\", \"o2@TE\"): 0.45**0.5,\n",
    "            (\"o1@TE\", \"o3@TE\"): 0.45**0.5,\n",
    "            (\"o1@TM\", \"o2@TM\"): 0.41**0.5,\n",
    "            (\"o1@TM\", \"o3@TM\"): 0.41**0.5,\n",
    "            (\"o1@TE\", \"o2@TM\"): 0.01**0.5,\n",
    "            (\"o1@TM\", \"o2@TE\"): 0.01**0.5,\n",
    "            (\"o1@TE\", \"o3@TM\"): 0.02**0.5,\n",
    "            (\"o1@TM\", \"o3@TE\"): 0.02**0.5,\n",
    "        }\n",
    "    )"
   ]
  },
  {
   "cell_type": "code",
   "execution_count": null,
   "id": "16",
   "metadata": {
    "papermill": {
     "duration": 0.010042,
     "end_time": "2025-06-12T12:29:46.725208",
     "exception": false,
     "start_time": "2025-06-12T12:29:46.715166",
     "status": "completed"
    },
    "tags": []
   },
   "outputs": [],
   "source": [
    "def straight_mm(\n",
    "    length=0.01,\n",
    "    # npoints=2,\n",
    "    # with_bbox=True,\n",
    "    # cross_section=...\n",
    "):\n",
    "    return sax.reciprocal(\n",
    "        {\n",
    "            (\"o1@TE\", \"o2@TE\"): 1.0,\n",
    "            (\"o1@TM\", \"o2@TM\"): 1.0,\n",
    "        }\n",
    "    )"
   ]
  },
  {
   "cell_type": "code",
   "execution_count": null,
   "id": "17",
   "metadata": {
    "papermill": {
     "duration": 0.006548,
     "end_time": "2025-06-12T12:29:46.733717",
     "exception": false,
     "start_time": "2025-06-12T12:29:46.727169",
     "status": "completed"
    },
    "tags": []
   },
   "outputs": [],
   "source": [
    "models_mm = {\n",
    "    \"straight\": straight_mm,\n",
    "    \"bend_euler\": bend_euler_mm,\n",
    "    \"mmi1x2\": mmi1x2_mm,\n",
    "}"
   ]
  },
  {
   "cell_type": "markdown",
   "id": "18",
   "metadata": {
    "papermill": {
     "duration": 0.00409,
     "end_time": "2025-06-12T12:29:46.741955",
     "exception": false,
     "start_time": "2025-06-12T12:29:46.737865",
     "status": "completed"
    },
    "tags": []
   },
   "source": [
    "We can now represent our recursive netlist model as a Directed Acyclic Graph:"
   ]
  },
  {
   "cell_type": "code",
   "execution_count": null,
   "id": "19",
   "metadata": {
    "papermill": {
     "duration": 0.055317,
     "end_time": "2025-06-12T12:29:46.801421",
     "exception": false,
     "start_time": "2025-06-12T12:29:46.746104",
     "status": "completed"
    },
    "tags": []
   },
   "outputs": [],
   "source": [
    "dag = _create_dag(recnet, models)\n",
    "draw_dag(dag)"
   ]
  },
  {
   "cell_type": "markdown",
   "id": "20",
   "metadata": {
    "papermill": {
     "duration": 0.004163,
     "end_time": "2025-06-12T12:29:46.810233",
     "exception": false,
     "start_time": "2025-06-12T12:29:46.806070",
     "status": "completed"
    },
    "tags": []
   },
   "source": [
    "Note that the DAG depends on the models we supply. We could for example stub one of the sub-netlists by a pre-defined model:"
   ]
  },
  {
   "cell_type": "code",
   "execution_count": null,
   "id": "21",
   "metadata": {
    "papermill": {
     "duration": 0.048942,
     "end_time": "2025-06-12T12:29:46.863558",
     "exception": false,
     "start_time": "2025-06-12T12:29:46.814616",
     "status": "completed"
    },
    "tags": []
   },
   "outputs": [],
   "source": [
    "dag_ = _create_dag(recnet, {**models, \"mzi_delta_length10\": mmi2x2})\n",
    "draw_dag(dag_, with_labels=True)"
   ]
  },
  {
   "cell_type": "markdown",
   "id": "22",
   "metadata": {
    "papermill": {
     "duration": 0.001935,
     "end_time": "2025-06-12T12:29:46.868680",
     "exception": false,
     "start_time": "2025-06-12T12:29:46.866745",
     "status": "completed"
    },
    "tags": []
   },
   "source": [
    "This is useful if we for example pre-calculated a certain model."
   ]
  },
  {
   "cell_type": "markdown",
   "id": "23",
   "metadata": {
    "papermill": {
     "duration": 0.002122,
     "end_time": "2025-06-12T12:29:46.875324",
     "exception": false,
     "start_time": "2025-06-12T12:29:46.873202",
     "status": "completed"
    },
    "tags": []
   },
   "source": [
    "We can easily find the root of the DAG:"
   ]
  },
  {
   "cell_type": "code",
   "execution_count": null,
   "id": "24",
   "metadata": {
    "papermill": {
     "duration": 0.010236,
     "end_time": "2025-06-12T12:29:46.890158",
     "exception": false,
     "start_time": "2025-06-12T12:29:46.879922",
     "status": "completed"
    },
    "tags": []
   },
   "outputs": [],
   "source": [
    "_find_root(dag)"
   ]
  },
  {
   "cell_type": "markdown",
   "id": "25",
   "metadata": {
    "papermill": {
     "duration": 0.004283,
     "end_time": "2025-06-12T12:29:46.899194",
     "exception": false,
     "start_time": "2025-06-12T12:29:46.894911",
     "status": "completed"
    },
    "tags": []
   },
   "source": [
    "Similarly we can find the leaves:"
   ]
  },
  {
   "cell_type": "code",
   "execution_count": null,
   "id": "26",
   "metadata": {
    "papermill": {
     "duration": 0.010569,
     "end_time": "2025-06-12T12:29:46.914401",
     "exception": false,
     "start_time": "2025-06-12T12:29:46.903832",
     "status": "completed"
    },
    "tags": []
   },
   "outputs": [],
   "source": [
    "_find_leaves(dag)"
   ]
  },
  {
   "cell_type": "markdown",
   "id": "27",
   "metadata": {
    "papermill": {
     "duration": 0.001956,
     "end_time": "2025-06-12T12:29:46.919155",
     "exception": false,
     "start_time": "2025-06-12T12:29:46.917199",
     "status": "completed"
    },
    "tags": []
   },
   "source": [
    "To be able to simulate the circuit, we need to supply a model for each of the leaves in the dependency DAG. Let's write a validator that checks this"
   ]
  },
  {
   "cell_type": "code",
   "execution_count": null,
   "id": "28",
   "metadata": {
    "papermill": {
     "duration": 0.00651,
     "end_time": "2025-06-12T12:29:46.928874",
     "exception": false,
     "start_time": "2025-06-12T12:29:46.922364",
     "status": "completed"
    },
    "tags": []
   },
   "outputs": [],
   "source": [
    "models = _validate_models(models, dag)"
   ]
  },
  {
   "cell_type": "markdown",
   "id": "29",
   "metadata": {
    "papermill": {
     "duration": 0.004861,
     "end_time": "2025-06-12T12:29:46.938867",
     "exception": false,
     "start_time": "2025-06-12T12:29:46.934006",
     "status": "completed"
    },
    "tags": []
   },
   "source": [
    "We can now dow a bottom-up simulation. Since at the bottom of the DAG, our circuit is always flat (i.e. not hierarchical) we can implement a minimal `_flat_circuit` definition, which only needs to work on a flat (non-hierarchical circuit):"
   ]
  },
  {
   "cell_type": "code",
   "execution_count": null,
   "id": "30",
   "metadata": {
    "papermill": {
     "duration": 1.57166,
     "end_time": "2025-06-12T12:29:48.515344",
     "exception": false,
     "start_time": "2025-06-12T12:29:46.943684",
     "status": "completed"
    },
    "tags": []
   },
   "outputs": [],
   "source": [
    "flatnet = recnet.root[mzi1_comp]\n",
    "single_mzi = _flat_circuit(\n",
    "    flatnet.instances,\n",
    "    flatnet.connections,\n",
    "    flatnet.ports,\n",
    "    models,\n",
    "    \"default\",\n",
    ")\n",
    "single_mzi()"
   ]
  },
  {
   "cell_type": "markdown",
   "id": "31",
   "metadata": {
    "papermill": {
     "duration": 0.008521,
     "end_time": "2025-06-12T12:29:48.530892",
     "exception": false,
     "start_time": "2025-06-12T12:29:48.522371",
     "status": "completed"
    },
    "tags": []
   },
   "source": [
    "The resulting circuit is just another SAX model (i.e. a python function) returing an SType:"
   ]
  },
  {
   "cell_type": "code",
   "execution_count": null,
   "id": "32",
   "metadata": {
    "papermill": {
     "duration": 0.042086,
     "end_time": "2025-06-12T12:29:48.578322",
     "exception": false,
     "start_time": "2025-06-12T12:29:48.536236",
     "status": "completed"
    },
    "tags": []
   },
   "outputs": [],
   "source": [
    "?single_mzi"
   ]
  },
  {
   "cell_type": "markdown",
   "id": "33",
   "metadata": {
    "papermill": {
     "duration": 0.0023,
     "end_time": "2025-06-12T12:29:48.585131",
     "exception": false,
     "start_time": "2025-06-12T12:29:48.582831",
     "status": "completed"
    },
    "tags": []
   },
   "source": [
    "Let's 'execute' the circuit:"
   ]
  },
  {
   "cell_type": "markdown",
   "id": "34",
   "metadata": {
    "papermill": {
     "duration": 0.00577,
     "end_time": "2025-06-12T12:29:48.595875",
     "exception": false,
     "start_time": "2025-06-12T12:29:48.590105",
     "status": "completed"
    },
    "tags": []
   },
   "source": [
    "Note that we can also supply multimode models:"
   ]
  },
  {
   "cell_type": "code",
   "execution_count": null,
   "id": "35",
   "metadata": {
    "papermill": {
     "duration": 1.294243,
     "end_time": "2025-06-12T12:29:49.892607",
     "exception": false,
     "start_time": "2025-06-12T12:29:48.598364",
     "status": "completed"
    },
    "tags": []
   },
   "outputs": [],
   "source": [
    "flatnet = recnet.root[mzi1_comp]\n",
    "single_mzi = _flat_circuit(\n",
    "    flatnet.instances,\n",
    "    flatnet.connections,\n",
    "    flatnet.ports,\n",
    "    models_mm,\n",
    "    \"default\",\n",
    ")\n",
    "single_mzi()"
   ]
  },
  {
   "cell_type": "markdown",
   "id": "36",
   "metadata": {
    "papermill": {
     "duration": 0.002727,
     "end_time": "2025-06-12T12:29:49.901249",
     "exception": false,
     "start_time": "2025-06-12T12:29:49.898522",
     "status": "completed"
    },
    "tags": []
   },
   "source": [
    "Now that we can handle flat circuits the extension to hierarchical circuits is not so difficult:"
   ]
  },
  {
   "cell_type": "markdown",
   "id": "37",
   "metadata": {
    "papermill": {
     "duration": 0.005062,
     "end_time": "2025-06-12T12:29:49.911417",
     "exception": false,
     "start_time": "2025-06-12T12:29:49.906355",
     "status": "completed"
    },
    "tags": []
   },
   "source": [
    "single mode simulation:"
   ]
  },
  {
   "cell_type": "code",
   "execution_count": null,
   "id": "38",
   "metadata": {
    "papermill": {
     "duration": 0.883804,
     "end_time": "2025-06-12T12:29:50.799904",
     "exception": false,
     "start_time": "2025-06-12T12:29:49.916100",
     "status": "completed"
    },
    "tags": []
   },
   "outputs": [],
   "source": [
    "double_mzi, info = sax.circuit(recnet, models, backend=\"default\")\n",
    "double_mzi()"
   ]
  },
  {
   "cell_type": "markdown",
   "id": "39",
   "metadata": {
    "papermill": {
     "duration": 0.004027,
     "end_time": "2025-06-12T12:29:50.809429",
     "exception": false,
     "start_time": "2025-06-12T12:29:50.805402",
     "status": "completed"
    },
    "tags": []
   },
   "source": [
    "multi mode simulation:"
   ]
  },
  {
   "cell_type": "code",
   "execution_count": null,
   "id": "40",
   "metadata": {
    "papermill": {
     "duration": 0.994309,
     "end_time": "2025-06-12T12:29:51.807531",
     "exception": false,
     "start_time": "2025-06-12T12:29:50.813222",
     "status": "completed"
    },
    "tags": []
   },
   "outputs": [],
   "source": [
    "double_mzi, info = sax.circuit(\n",
    "    recnet, models_mm, backend=\"default\", return_type=\"sdict\"\n",
    ")\n",
    "double_mzi()"
   ]
  },
  {
   "cell_type": "markdown",
   "id": "41",
   "metadata": {
    "papermill": {
     "duration": 0.004952,
     "end_time": "2025-06-12T12:29:51.818236",
     "exception": false,
     "start_time": "2025-06-12T12:29:51.813284",
     "status": "completed"
    },
    "tags": []
   },
   "source": [
    "sometimes it's useful to get the required circuit model names to be able to create the circuit:"
   ]
  },
  {
   "cell_type": "code",
   "execution_count": null,
   "id": "42",
   "metadata": {
    "papermill": {
     "duration": 0.009799,
     "end_time": "2025-06-12T12:29:51.831619",
     "exception": false,
     "start_time": "2025-06-12T12:29:51.821820",
     "status": "completed"
    },
    "tags": []
   },
   "outputs": [],
   "source": [
    "sax.get_required_circuit_models(recnet, models)"
   ]
  }
 ],
 "metadata": {
  "kernelspec": {
   "display_name": "Python 3 (ipykernel)",
   "language": "python",
   "name": "python3"
  },
  "language_info": {
   "codemirror_mode": {
    "name": "ipython",
    "version": 3
   },
   "file_extension": ".py",
   "mimetype": "text/x-python",
   "name": "python",
   "nbconvert_exporter": "python",
   "pygments_lexer": "ipython3",
   "version": "3.12.10"
  },
  "papermill": {
   "default_parameters": {},
   "duration": 10.814746,
   "end_time": "2025-06-12T12:29:54.479900",
   "environment_variables": {},
   "exception": null,
   "input_path": "nbs/internals/02_circuit.ipynb",
   "output_path": "nbs/internals/02_circuit.ipynb",
   "parameters": {},
   "start_time": "2025-06-12T12:29:43.665154",
   "version": "2.6.0"
  }
 },
 "nbformat": 4,
 "nbformat_minor": 5
}
