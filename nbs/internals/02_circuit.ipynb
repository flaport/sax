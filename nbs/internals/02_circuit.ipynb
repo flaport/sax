{
 "cells": [
  {
   "cell_type": "markdown",
   "id": "0",
   "metadata": {
    "papermill": {
     "duration": 0.010369,
     "end_time": "2025-05-28T18:50:51.208010",
     "exception": false,
     "start_time": "2025-05-28T18:50:51.197641",
     "status": "completed"
    },
    "tags": []
   },
   "source": [
    "# Circuit\n",
    "\n",
    "> SAX Circuits"
   ]
  },
  {
   "cell_type": "code",
   "execution_count": null,
   "id": "1",
   "metadata": {
    "papermill": {
     "duration": 0.716015,
     "end_time": "2025-05-28T18:50:51.927203",
     "exception": false,
     "start_time": "2025-05-28T18:50:51.211188",
     "status": "completed"
    },
    "tags": []
   },
   "outputs": [],
   "source": [
    "from functools import partial\n",
    "\n",
    "import sax\n",
    "from sax.circuit import (\n",
    "    _create_dag,\n",
    "    _find_leaves,\n",
    "    _find_root,\n",
    "    _flat_circuit,\n",
    "    _validate_models,\n",
    "    draw_dag,\n",
    ")"
   ]
  },
  {
   "cell_type": "markdown",
   "id": "2",
   "metadata": {
    "papermill": {
     "duration": 0.003986,
     "end_time": "2025-05-28T18:50:51.935161",
     "exception": false,
     "start_time": "2025-05-28T18:50:51.931175",
     "status": "completed"
    },
    "tags": []
   },
   "source": [
    "Let's start by creating a simple recursive netlist with gdsfactory.\n",
    "\n",
    "\n",
    "> NOTE: We are using gdsfactory to create our netlist because it allows us to see the circuit we want to simulate and because we're striving to have a compatible netlist implementation in SAX.\n",
    "> \n",
    "> However... gdsfactory is not a dependency of SAX. You can also define your circuits by hand (see [SAX Quick Start](../examples/01_quick_start.ipynb) or you can use another tool to programmatically construct your netlists."
   ]
  },
  {
   "cell_type": "code",
   "execution_count": null,
   "id": "3",
   "metadata": {
    "papermill": {
     "duration": 1.229892,
     "end_time": "2025-05-28T18:50:53.168655",
     "exception": false,
     "start_time": "2025-05-28T18:50:51.938763",
     "status": "completed"
    },
    "tags": []
   },
   "outputs": [],
   "source": [
    "import gdsfactory as gf\n",
    "from IPython.display import display\n",
    "from gdsfactory.components import mzi\n",
    "\n",
    "\n",
    "@gf.cell\n",
    "def twomzi():\n",
    "    c = gf.Component()\n",
    "\n",
    "    # instances\n",
    "    mzi1 = mzi(delta_length=10)\n",
    "    mzi2 = mzi(delta_length=20)\n",
    "\n",
    "    # references\n",
    "    mzi1_ = c.add_ref(mzi1, name=\"mzi1\")\n",
    "    mzi2_ = c.add_ref(mzi2, name=\"mzi2\")\n",
    "\n",
    "    # connections\n",
    "    mzi2_.connect(\"o1\", mzi1_.ports[\"o2\"])\n",
    "\n",
    "    # ports\n",
    "    c.add_port(\"o1\", port=mzi1_.ports[\"o1\"])\n",
    "    c.add_port(\"o2\", port=mzi2_.ports[\"o2\"])\n",
    "    return c"
   ]
  },
  {
   "cell_type": "code",
   "execution_count": null,
   "id": "4",
   "metadata": {
    "papermill": {
     "duration": 0.205764,
     "end_time": "2025-05-28T18:50:53.378492",
     "exception": false,
     "start_time": "2025-05-28T18:50:53.172728",
     "status": "completed"
    },
    "tags": []
   },
   "outputs": [],
   "source": [
    "comp = twomzi()\n",
    "comp"
   ]
  },
  {
   "cell_type": "code",
   "execution_count": null,
   "id": "5",
   "metadata": {
    "papermill": {
     "duration": 0.021117,
     "end_time": "2025-05-28T18:50:53.403684",
     "exception": false,
     "start_time": "2025-05-28T18:50:53.382567",
     "status": "completed"
    },
    "tags": []
   },
   "outputs": [],
   "source": [
    "recnet = sax.RecursiveNetlist.parse_obj(comp.get_netlist(recursive=True))\n",
    "mzi1_comp = recnet.root[\"twomzi\"].instances[\"mzi1\"].component\n",
    "flatnet = recnet.root[mzi1_comp]"
   ]
  },
  {
   "cell_type": "markdown",
   "id": "6",
   "metadata": {
    "papermill": {
     "duration": 0.00179,
     "end_time": "2025-05-28T18:50:53.407857",
     "exception": false,
     "start_time": "2025-05-28T18:50:53.406067",
     "status": "completed"
    },
    "tags": []
   },
   "source": [
    "To be able to model this device we'll need some SAX dummy models:"
   ]
  },
  {
   "cell_type": "code",
   "execution_count": null,
   "id": "7",
   "metadata": {
    "papermill": {
     "duration": 0.009844,
     "end_time": "2025-05-28T18:50:53.419782",
     "exception": false,
     "start_time": "2025-05-28T18:50:53.409938",
     "status": "completed"
    },
    "tags": []
   },
   "outputs": [],
   "source": [
    "def bend_euler(\n",
    "    angle=90.0,\n",
    "    p=0.5,\n",
    "    # cross_section=\"strip\",\n",
    "    # direction=\"ccw\",\n",
    "    # with_bbox=True,\n",
    "    # with_arc_floorplan=True,\n",
    "    # npoints=720,\n",
    "):\n",
    "    return sax.reciprocal({(\"o1\", \"o2\"): 1.0})"
   ]
  },
  {
   "cell_type": "code",
   "execution_count": null,
   "id": "8",
   "metadata": {
    "papermill": {
     "duration": 0.01195,
     "end_time": "2025-05-28T18:50:53.435995",
     "exception": false,
     "start_time": "2025-05-28T18:50:53.424045",
     "status": "completed"
    },
    "tags": []
   },
   "outputs": [],
   "source": [
    "def mmi1x2(\n",
    "    width=0.5,\n",
    "    width_taper=1.0,\n",
    "    length_taper=10.0,\n",
    "    length_mmi=5.5,\n",
    "    width_mmi=2.5,\n",
    "    gap_mmi=0.25,\n",
    "    # cross_section= strip,\n",
    "    # taper= {function= taper},\n",
    "    # with_bbox= True,\n",
    "):\n",
    "    return sax.reciprocal(\n",
    "        {\n",
    "            (\"o1\", \"o2\"): 0.45**0.5,\n",
    "            (\"o1\", \"o3\"): 0.45**0.5,\n",
    "        }\n",
    "    )"
   ]
  },
  {
   "cell_type": "code",
   "execution_count": null,
   "id": "9",
   "metadata": {
    "papermill": {
     "duration": 0.012024,
     "end_time": "2025-05-28T18:50:53.452908",
     "exception": false,
     "start_time": "2025-05-28T18:50:53.440884",
     "status": "completed"
    },
    "tags": []
   },
   "outputs": [],
   "source": [
    "def mmi2x2(\n",
    "    width=0.5,\n",
    "    width_taper=1.0,\n",
    "    length_taper=10.0,\n",
    "    length_mmi=5.5,\n",
    "    width_mmi=2.5,\n",
    "    gap_mmi=0.25,\n",
    "    # cross_section= strip,\n",
    "    # taper= {function= taper},\n",
    "    # with_bbox= True,\n",
    "):\n",
    "    return sax.reciprocal(\n",
    "        {\n",
    "            (\"o1\", \"o3\"): 0.45**0.5,\n",
    "            (\"o1\", \"o4\"): 1j * 0.45**0.5,\n",
    "            (\"o2\", \"o3\"): 1j * 0.45**0.5,\n",
    "            (\"o2\", \"o4\"): 0.45**0.5,\n",
    "        }\n",
    "    )"
   ]
  },
  {
   "cell_type": "code",
   "execution_count": null,
   "id": "10",
   "metadata": {
    "papermill": {
     "duration": 0.010264,
     "end_time": "2025-05-28T18:50:53.467438",
     "exception": false,
     "start_time": "2025-05-28T18:50:53.457174",
     "status": "completed"
    },
    "tags": []
   },
   "outputs": [],
   "source": [
    "def straight(\n",
    "    length=0.01,\n",
    "    # npoints=2,\n",
    "    # with_bbox=True,\n",
    "    # cross_section=...\n",
    "):\n",
    "    return sax.reciprocal({(\"o1\", \"o2\"): 1.0})"
   ]
  },
  {
   "cell_type": "markdown",
   "id": "11",
   "metadata": {
    "papermill": {
     "duration": 0.004478,
     "end_time": "2025-05-28T18:50:53.476091",
     "exception": false,
     "start_time": "2025-05-28T18:50:53.471613",
     "status": "completed"
    },
    "tags": []
   },
   "source": [
    "In SAX, we usually aggregate the available models in a models dictionary:"
   ]
  },
  {
   "cell_type": "code",
   "execution_count": null,
   "id": "12",
   "metadata": {
    "papermill": {
     "duration": 0.008321,
     "end_time": "2025-05-28T18:50:53.487195",
     "exception": false,
     "start_time": "2025-05-28T18:50:53.478874",
     "status": "completed"
    },
    "tags": []
   },
   "outputs": [],
   "source": [
    "models = {\n",
    "    \"straight\": straight,\n",
    "    \"bend_euler\": bend_euler,\n",
    "    \"mmi1x2\": mmi1x2,\n",
    "}"
   ]
  },
  {
   "cell_type": "markdown",
   "id": "13",
   "metadata": {
    "papermill": {
     "duration": 0.004792,
     "end_time": "2025-05-28T18:50:53.496857",
     "exception": false,
     "start_time": "2025-05-28T18:50:53.492065",
     "status": "completed"
    },
    "tags": []
   },
   "source": [
    "We can also create some dummy multimode models:"
   ]
  },
  {
   "cell_type": "code",
   "execution_count": null,
   "id": "14",
   "metadata": {
    "papermill": {
     "duration": 0.019302,
     "end_time": "2025-05-28T18:50:53.519775",
     "exception": false,
     "start_time": "2025-05-28T18:50:53.500473",
     "status": "completed"
    },
    "tags": []
   },
   "outputs": [],
   "source": [
    "def bend_euler_mm(\n",
    "    angle=90.0,\n",
    "    p=0.5,\n",
    "    # cross_section=\"strip\",\n",
    "    # direction=\"ccw\",\n",
    "    # with_bbox=True,\n",
    "    # with_arc_floorplan=True,\n",
    "    # npoints=720,\n",
    "):\n",
    "    return sax.reciprocal(\n",
    "        {\n",
    "            (\"o1@TE\", \"o2@TE\"): 0.9**0.5,\n",
    "            # ('o1@TE', 'o2@TM'): 0.01**0.5,\n",
    "            # ('o1@TM', 'o2@TE'): 0.01**0.5,\n",
    "            (\"o1@TM\", \"o2@TM\"): 0.8**0.5,\n",
    "        }\n",
    "    )"
   ]
  },
  {
   "cell_type": "code",
   "execution_count": null,
   "id": "15",
   "metadata": {
    "papermill": {
     "duration": 0.011681,
     "end_time": "2025-05-28T18:50:53.535686",
     "exception": false,
     "start_time": "2025-05-28T18:50:53.524005",
     "status": "completed"
    },
    "tags": []
   },
   "outputs": [],
   "source": [
    "def mmi1x2_mm(\n",
    "    width=0.5,\n",
    "    width_taper=1.0,\n",
    "    length_taper=10.0,\n",
    "    length_mmi=5.5,\n",
    "    width_mmi=2.5,\n",
    "    gap_mmi=0.25,\n",
    "    # cross_section= strip,\n",
    "    # taper= {function= taper},\n",
    "    # with_bbox= True,\n",
    "):\n",
    "    return sax.reciprocal(\n",
    "        {\n",
    "            (\"o1@TE\", \"o2@TE\"): 0.45**0.5,\n",
    "            (\"o1@TE\", \"o3@TE\"): 0.45**0.5,\n",
    "            (\"o1@TM\", \"o2@TM\"): 0.41**0.5,\n",
    "            (\"o1@TM\", \"o3@TM\"): 0.41**0.5,\n",
    "            (\"o1@TE\", \"o2@TM\"): 0.01**0.5,\n",
    "            (\"o1@TM\", \"o2@TE\"): 0.01**0.5,\n",
    "            (\"o1@TE\", \"o3@TM\"): 0.02**0.5,\n",
    "            (\"o1@TM\", \"o3@TE\"): 0.02**0.5,\n",
    "        }\n",
    "    )"
   ]
  },
  {
   "cell_type": "code",
   "execution_count": null,
   "id": "16",
   "metadata": {
    "papermill": {
     "duration": 0.010153,
     "end_time": "2025-05-28T18:50:53.550492",
     "exception": false,
     "start_time": "2025-05-28T18:50:53.540339",
     "status": "completed"
    },
    "tags": []
   },
   "outputs": [],
   "source": [
    "def straight_mm(\n",
    "    length=0.01,\n",
    "    # npoints=2,\n",
    "    # with_bbox=True,\n",
    "    # cross_section=...\n",
    "):\n",
    "    return sax.reciprocal(\n",
    "        {\n",
    "            (\"o1@TE\", \"o2@TE\"): 1.0,\n",
    "            (\"o1@TM\", \"o2@TM\"): 1.0,\n",
    "        }\n",
    "    )"
   ]
  },
  {
   "cell_type": "code",
   "execution_count": null,
   "id": "17",
   "metadata": {
    "papermill": {
     "duration": 0.008727,
     "end_time": "2025-05-28T18:50:53.563693",
     "exception": false,
     "start_time": "2025-05-28T18:50:53.554966",
     "status": "completed"
    },
    "tags": []
   },
   "outputs": [],
   "source": [
    "models_mm = {\n",
    "    \"straight\": straight_mm,\n",
    "    \"bend_euler\": bend_euler_mm,\n",
    "    \"mmi1x2\": mmi1x2_mm,\n",
    "}"
   ]
  },
  {
   "cell_type": "markdown",
   "id": "18",
   "metadata": {
    "papermill": {
     "duration": 0.004281,
     "end_time": "2025-05-28T18:50:53.572231",
     "exception": false,
     "start_time": "2025-05-28T18:50:53.567950",
     "status": "completed"
    },
    "tags": []
   },
   "source": [
    "We can now represent our recursive netlist model as a Directed Acyclic Graph:"
   ]
  },
  {
   "cell_type": "code",
   "execution_count": null,
   "id": "19",
   "metadata": {
    "papermill": {
     "duration": 0.055491,
     "end_time": "2025-05-28T18:50:53.631886",
     "exception": false,
     "start_time": "2025-05-28T18:50:53.576395",
     "status": "completed"
    },
    "tags": []
   },
   "outputs": [],
   "source": [
    "dag = _create_dag(recnet, models)\n",
    "draw_dag(dag)"
   ]
  },
  {
   "cell_type": "markdown",
   "id": "20",
   "metadata": {
    "papermill": {
     "duration": 0.004542,
     "end_time": "2025-05-28T18:50:53.641020",
     "exception": false,
     "start_time": "2025-05-28T18:50:53.636478",
     "status": "completed"
    },
    "tags": []
   },
   "source": [
    "Note that the DAG depends on the models we supply. We could for example stub one of the sub-netlists by a pre-defined model:"
   ]
  },
  {
   "cell_type": "code",
   "execution_count": null,
   "id": "21",
   "metadata": {
    "papermill": {
     "duration": 0.056196,
     "end_time": "2025-05-28T18:50:53.702276",
     "exception": false,
     "start_time": "2025-05-28T18:50:53.646080",
     "status": "completed"
    },
    "tags": []
   },
   "outputs": [],
   "source": [
    "dag_ = _create_dag(recnet, {**models, \"mzi_delta_length10\": mmi2x2})\n",
    "draw_dag(dag_, with_labels=True)"
   ]
  },
  {
   "cell_type": "markdown",
   "id": "22",
   "metadata": {
    "papermill": {
     "duration": 0.004744,
     "end_time": "2025-05-28T18:50:53.713064",
     "exception": false,
     "start_time": "2025-05-28T18:50:53.708320",
     "status": "completed"
    },
    "tags": []
   },
   "source": [
    "This is useful if we for example pre-calculated a certain model."
   ]
  },
  {
   "cell_type": "markdown",
   "id": "23",
   "metadata": {
    "papermill": {
     "duration": 0.002093,
     "end_time": "2025-05-28T18:50:53.720636",
     "exception": false,
     "start_time": "2025-05-28T18:50:53.718543",
     "status": "completed"
    },
    "tags": []
   },
   "source": [
    "We can easily find the root of the DAG:"
   ]
  },
  {
   "cell_type": "code",
   "execution_count": null,
   "id": "24",
   "metadata": {
    "papermill": {
     "duration": 0.011922,
     "end_time": "2025-05-28T18:50:53.737028",
     "exception": false,
     "start_time": "2025-05-28T18:50:53.725106",
     "status": "completed"
    },
    "tags": []
   },
   "outputs": [],
   "source": [
    "_find_root(dag)"
   ]
  },
  {
   "cell_type": "markdown",
   "id": "25",
   "metadata": {
    "papermill": {
     "duration": 0.004624,
     "end_time": "2025-05-28T18:50:53.746603",
     "exception": false,
     "start_time": "2025-05-28T18:50:53.741979",
     "status": "completed"
    },
    "tags": []
   },
   "source": [
    "Similarly we can find the leaves:"
   ]
  },
  {
   "cell_type": "code",
   "execution_count": null,
   "id": "26",
   "metadata": {
    "papermill": {
     "duration": 0.016474,
     "end_time": "2025-05-28T18:50:53.768305",
     "exception": false,
     "start_time": "2025-05-28T18:50:53.751831",
     "status": "completed"
    },
    "tags": []
   },
   "outputs": [],
   "source": [
    "_find_leaves(dag)"
   ]
  },
  {
   "cell_type": "markdown",
   "id": "27",
   "metadata": {
    "papermill": {
     "duration": 0.005513,
     "end_time": "2025-05-28T18:50:53.779013",
     "exception": false,
     "start_time": "2025-05-28T18:50:53.773500",
     "status": "completed"
    },
    "tags": []
   },
   "source": [
    "To be able to simulate the circuit, we need to supply a model for each of the leaves in the dependency DAG. Let's write a validator that checks this"
   ]
  },
  {
   "cell_type": "code",
   "execution_count": null,
   "id": "28",
   "metadata": {
    "papermill": {
     "duration": 0.012065,
     "end_time": "2025-05-28T18:50:53.796347",
     "exception": false,
     "start_time": "2025-05-28T18:50:53.784282",
     "status": "completed"
    },
    "tags": []
   },
   "outputs": [],
   "source": [
    "models = _validate_models(models, dag)"
   ]
  },
  {
   "cell_type": "markdown",
   "id": "29",
   "metadata": {
    "papermill": {
     "duration": 0.001959,
     "end_time": "2025-05-28T18:50:53.800511",
     "exception": false,
     "start_time": "2025-05-28T18:50:53.798552",
     "status": "completed"
    },
    "tags": []
   },
   "source": [
    "We can now dow a bottom-up simulation. Since at the bottom of the DAG, our circuit is always flat (i.e. not hierarchical) we can implement a minimal `_flat_circuit` definition, which only needs to work on a flat (non-hierarchical circuit):"
   ]
  },
  {
   "cell_type": "code",
   "execution_count": null,
   "id": "30",
   "metadata": {
    "papermill": {
     "duration": 1.688549,
     "end_time": "2025-05-28T18:50:55.493954",
     "exception": false,
     "start_time": "2025-05-28T18:50:53.805405",
     "status": "completed"
    },
    "tags": []
   },
   "outputs": [],
   "source": [
    "flatnet = recnet.root[mzi1_comp]\n",
    "single_mzi = _flat_circuit(\n",
    "    flatnet.instances,\n",
    "    flatnet.connections,\n",
    "    flatnet.ports,\n",
    "    models,\n",
    "    \"default\",\n",
    ")\n",
    "single_mzi()"
   ]
  },
  {
   "cell_type": "markdown",
   "id": "31",
   "metadata": {
    "papermill": {
     "duration": 0.004963,
     "end_time": "2025-05-28T18:50:55.504137",
     "exception": false,
     "start_time": "2025-05-28T18:50:55.499174",
     "status": "completed"
    },
    "tags": []
   },
   "source": [
    "The resulting circuit is just another SAX model (i.e. a python function) returing an SType:"
   ]
  },
  {
   "cell_type": "code",
   "execution_count": null,
   "id": "32",
   "metadata": {
    "papermill": {
     "duration": 0.033595,
     "end_time": "2025-05-28T18:50:55.542895",
     "exception": false,
     "start_time": "2025-05-28T18:50:55.509300",
     "status": "completed"
    },
    "tags": []
   },
   "outputs": [],
   "source": [
    "?single_mzi"
   ]
  },
  {
   "cell_type": "markdown",
   "id": "33",
   "metadata": {
    "papermill": {
     "duration": 0.004921,
     "end_time": "2025-05-28T18:50:55.553032",
     "exception": false,
     "start_time": "2025-05-28T18:50:55.548111",
     "status": "completed"
    },
    "tags": []
   },
   "source": [
    "Let's 'execute' the circuit:"
   ]
  },
  {
   "cell_type": "markdown",
   "id": "34",
   "metadata": {
    "papermill": {
     "duration": 0.003613,
     "end_time": "2025-05-28T18:50:55.561382",
     "exception": false,
     "start_time": "2025-05-28T18:50:55.557769",
     "status": "completed"
    },
    "tags": []
   },
   "source": [
    "Note that we can also supply multimode models:"
   ]
  },
  {
   "cell_type": "code",
   "execution_count": null,
   "id": "35",
   "metadata": {
    "papermill": {
     "duration": 1.209558,
     "end_time": "2025-05-28T18:50:56.773856",
     "exception": false,
     "start_time": "2025-05-28T18:50:55.564298",
     "status": "completed"
    },
    "tags": []
   },
   "outputs": [],
   "source": [
    "flatnet = recnet.root[mzi1_comp]\n",
    "single_mzi = _flat_circuit(\n",
    "    flatnet.instances,\n",
    "    flatnet.connections,\n",
    "    flatnet.ports,\n",
    "    models_mm,\n",
    "    \"default\",\n",
    ")\n",
    "single_mzi()"
   ]
  },
  {
   "cell_type": "markdown",
   "id": "36",
   "metadata": {
    "papermill": {
     "duration": 0.005901,
     "end_time": "2025-05-28T18:50:56.785120",
     "exception": false,
     "start_time": "2025-05-28T18:50:56.779219",
     "status": "completed"
    },
    "tags": []
   },
   "source": [
    "Now that we can handle flat circuits the extension to hierarchical circuits is not so difficult:"
   ]
  },
  {
   "cell_type": "markdown",
   "id": "37",
   "metadata": {
    "papermill": {
     "duration": 0.002057,
     "end_time": "2025-05-28T18:50:56.790457",
     "exception": false,
     "start_time": "2025-05-28T18:50:56.788400",
     "status": "completed"
    },
    "tags": []
   },
   "source": [
    "single mode simulation:"
   ]
  },
  {
   "cell_type": "code",
   "execution_count": null,
   "id": "38",
   "metadata": {
    "papermill": {
     "duration": 0.906554,
     "end_time": "2025-05-28T18:50:57.702431",
     "exception": false,
     "start_time": "2025-05-28T18:50:56.795877",
     "status": "completed"
    },
    "tags": []
   },
   "outputs": [],
   "source": [
    "double_mzi, info = sax.circuit(recnet, models, backend=\"default\")\n",
    "double_mzi()"
   ]
  },
  {
   "cell_type": "markdown",
   "id": "39",
   "metadata": {
    "papermill": {
     "duration": 0.002709,
     "end_time": "2025-05-28T18:50:57.710813",
     "exception": false,
     "start_time": "2025-05-28T18:50:57.708104",
     "status": "completed"
    },
    "tags": []
   },
   "source": [
    "multi mode simulation:"
   ]
  },
  {
   "cell_type": "code",
   "execution_count": null,
   "id": "40",
   "metadata": {
    "papermill": {
     "duration": 0.948162,
     "end_time": "2025-05-28T18:50:58.662453",
     "exception": false,
     "start_time": "2025-05-28T18:50:57.714291",
     "status": "completed"
    },
    "tags": []
   },
   "outputs": [],
   "source": [
    "double_mzi, info = sax.circuit(\n",
    "    recnet, models_mm, backend=\"default\", return_type=\"sdict\"\n",
    ")\n",
    "double_mzi()"
   ]
  },
  {
   "cell_type": "markdown",
   "id": "41",
   "metadata": {
    "papermill": {
     "duration": 0.002342,
     "end_time": "2025-05-28T18:50:58.669849",
     "exception": false,
     "start_time": "2025-05-28T18:50:58.667507",
     "status": "completed"
    },
    "tags": []
   },
   "source": [
    "sometimes it's useful to get the required circuit model names to be able to create the circuit:"
   ]
  },
  {
   "cell_type": "code",
   "execution_count": null,
   "id": "42",
   "metadata": {
    "papermill": {
     "duration": 0.012386,
     "end_time": "2025-05-28T18:50:58.686747",
     "exception": false,
     "start_time": "2025-05-28T18:50:58.674361",
     "status": "completed"
    },
    "tags": []
   },
   "outputs": [],
   "source": [
    "sax.get_required_circuit_models(recnet, models)"
   ]
  }
 ],
 "metadata": {
  "kernelspec": {
   "display_name": "Python 3 (ipykernel)",
   "language": "python",
   "name": "python3"
  },
  "language_info": {
   "codemirror_mode": {
    "name": "ipython",
    "version": 3
   },
   "file_extension": ".py",
   "mimetype": "text/x-python",
   "name": "python",
   "nbconvert_exporter": "python",
   "pygments_lexer": "ipython3",
   "version": "3.12.10"
  },
  "papermill": {
   "default_parameters": {},
   "duration": 10.972189,
   "end_time": "2025-05-28T18:51:01.306830",
   "environment_variables": {},
   "exception": null,
   "input_path": "nbs/internals/02_circuit.ipynb",
   "output_path": "nbs/internals/02_circuit.ipynb",
   "parameters": {},
   "start_time": "2025-05-28T18:50:50.334641",
   "version": "2.6.0"
  }
 },
 "nbformat": 4,
 "nbformat_minor": 5
}
