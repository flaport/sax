{
 "cells": [
  {
   "cell_type": "markdown",
   "id": "0",
   "metadata": {
    "papermill": {
     "duration": 0.00444,
     "end_time": "2025-06-20T08:28:49.363873",
     "exception": false,
     "start_time": "2025-06-20T08:28:49.359433",
     "status": "completed"
    },
    "tags": []
   },
   "source": [
    "# Circuit\n",
    "\n",
    "> SAX Circuits"
   ]
  },
  {
   "cell_type": "code",
   "execution_count": null,
   "id": "1",
   "metadata": {
    "papermill": {
     "duration": 1.381751,
     "end_time": "2025-06-20T08:28:50.749497",
     "exception": false,
     "start_time": "2025-06-20T08:28:49.367746",
     "status": "completed"
    },
    "tags": []
   },
   "outputs": [],
   "source": [
    "import sax\n",
    "import gdsfactory as gf\n",
    "from sax.circuit import (\n",
    "    _create_dag,\n",
    "    _find_leaves,\n",
    "    _find_root,\n",
    "    _flat_circuit,\n",
    "    _validate_models,\n",
    "    draw_dag,\n",
    ")"
   ]
  },
  {
   "cell_type": "markdown",
   "id": "2",
   "metadata": {
    "papermill": {
     "duration": 0.001898,
     "end_time": "2025-06-20T08:28:50.753742",
     "exception": false,
     "start_time": "2025-06-20T08:28:50.751844",
     "status": "completed"
    },
    "tags": []
   },
   "source": [
    "Let's start by creating a simple recursive netlist with gdsfactory.\n",
    "\n",
    "\n",
    "> NOTE: We are using gdsfactory to create our netlist because it allows us to see the circuit we want to simulate and because we're striving to have a compatible netlist implementation in SAX.\n",
    "> \n",
    "> However... gdsfactory is not a dependency of SAX. You can also define your circuits by hand (see SAX Quick Start Notebook) or you can use another tool to programmatically construct your netlists."
   ]
  },
  {
   "cell_type": "code",
   "execution_count": null,
   "id": "3",
   "metadata": {
    "papermill": {
     "duration": 0.014667,
     "end_time": "2025-06-20T08:28:50.772797",
     "exception": false,
     "start_time": "2025-06-20T08:28:50.758130",
     "status": "completed"
    },
    "tags": []
   },
   "outputs": [],
   "source": [
    "@gf.cell\n",
    "def mzi(delta_length=10.0):\n",
    "    c = gf.Component()\n",
    "\n",
    "    # components\n",
    "    mmi_in = gf.components.mmi1x2()\n",
    "    mmi_out = gf.components.mmi2x2()\n",
    "    bend = gf.components.bend_euler()\n",
    "    half_delay_straight = gf.components.straight(length=delta_length / 2.0)\n",
    "\n",
    "    # references\n",
    "    mmi_in = c.add_ref(mmi_in, name=\"mmi_in\")\n",
    "    mmi_out = c.add_ref(mmi_out, name=\"mmi_out\")\n",
    "    straight_top1 = c.add_ref(half_delay_straight, name=\"straight_top1\")\n",
    "    straight_top2 = c.add_ref(half_delay_straight, name=\"straight_top2\")\n",
    "    bend_top1 = c.add_ref(bend, name=\"bend_top1\")\n",
    "    bend_top2 = c.add_ref(bend, name=\"bend_top2\").dmirror()\n",
    "    bend_top3 = c.add_ref(bend, name=\"bend_top3\").dmirror()\n",
    "    bend_top4 = c.add_ref(bend, name=\"bend_top4\")\n",
    "    bend_btm1 = c.add_ref(bend, name=\"bend_btm1\").dmirror()\n",
    "    bend_btm2 = c.add_ref(bend, name=\"bend_btm2\")\n",
    "    bend_btm3 = c.add_ref(bend, name=\"bend_btm3\")\n",
    "    bend_btm4 = c.add_ref(bend, name=\"bend_btm4\").dmirror()\n",
    "\n",
    "    # connections\n",
    "    bend_top1.connect(\"o1\", mmi_in.ports[\"o2\"])\n",
    "    straight_top1.connect(\"o1\", bend_top1.ports[\"o2\"])\n",
    "    bend_top2.connect(\"o1\", straight_top1.ports[\"o2\"])\n",
    "    bend_top3.connect(\"o1\", bend_top2.ports[\"o2\"])\n",
    "    straight_top2.connect(\"o1\", bend_top3.ports[\"o2\"])\n",
    "    bend_top4.connect(\"o1\", straight_top2.ports[\"o2\"])\n",
    "\n",
    "    bend_btm1.connect(\"o1\", mmi_in.ports[\"o3\"])\n",
    "    bend_btm2.connect(\"o1\", bend_btm1.ports[\"o2\"])\n",
    "    bend_btm3.connect(\"o1\", bend_btm2.ports[\"o2\"])\n",
    "    bend_btm4.connect(\"o1\", bend_btm3.ports[\"o2\"])\n",
    "\n",
    "    mmi_out.connect(\"o1\", bend_btm4.ports[\"o2\"])\n",
    "\n",
    "    # ports\n",
    "    c.add_port(\n",
    "        \"o1\",\n",
    "        port=mmi_in.ports[\"o1\"],\n",
    "    )\n",
    "    c.add_port(\"o2\", port=mmi_out.ports[\"o3\"])\n",
    "    c.add_port(\"o3\", port=mmi_out.ports[\"o4\"])\n",
    "    return c\n",
    "\n",
    "\n",
    "@gf.cell\n",
    "def twomzi():\n",
    "    c = gf.Component()\n",
    "\n",
    "    # instances\n",
    "    mzi1 = mzi(delta_length=10)\n",
    "    mzi2 = mzi(delta_length=20)\n",
    "\n",
    "    # references\n",
    "    mzi1_ = c.add_ref(mzi1, name=\"mzi1\")\n",
    "    mzi2_ = c.add_ref(mzi2, name=\"mzi2\")\n",
    "\n",
    "    # connections\n",
    "    mzi2_.connect(\"o1\", mzi1_.ports[\"o2\"])\n",
    "\n",
    "    # ports\n",
    "    c.add_port(\"o1\", port=mzi1_.ports[\"o1\"])\n",
    "    c.add_port(\"o2\", port=mzi2_.ports[\"o2\"])\n",
    "    return c"
   ]
  },
  {
   "cell_type": "code",
   "execution_count": null,
   "id": "4",
   "metadata": {
    "papermill": {
     "duration": 0.248433,
     "end_time": "2025-06-20T08:28:51.025288",
     "exception": false,
     "start_time": "2025-06-20T08:28:50.776855",
     "status": "completed"
    },
    "tags": []
   },
   "outputs": [],
   "source": [
    "comp = twomzi()\n",
    "comp"
   ]
  },
  {
   "cell_type": "code",
   "execution_count": null,
   "id": "5",
   "metadata": {
    "papermill": {
     "duration": 0.020993,
     "end_time": "2025-06-20T08:28:51.050722",
     "exception": false,
     "start_time": "2025-06-20T08:28:51.029729",
     "status": "completed"
    },
    "tags": []
   },
   "outputs": [],
   "source": [
    "recnet = sax.netlist(comp.get_netlist(recursive=True))\n",
    "mzi1_comp = recnet[\"twomzi\"][\"instances\"][\"mzi1\"][\"component\"]\n",
    "flatnet = recnet[mzi1_comp]"
   ]
  },
  {
   "cell_type": "markdown",
   "id": "6",
   "metadata": {
    "papermill": {
     "duration": 0.004103,
     "end_time": "2025-06-20T08:28:51.059097",
     "exception": false,
     "start_time": "2025-06-20T08:28:51.054994",
     "status": "completed"
    },
    "tags": []
   },
   "source": [
    "To be able to model this device we'll need some SAX dummy models:"
   ]
  },
  {
   "cell_type": "code",
   "execution_count": null,
   "id": "7",
   "metadata": {
    "papermill": {
     "duration": 0.009831,
     "end_time": "2025-06-20T08:28:51.072927",
     "exception": false,
     "start_time": "2025-06-20T08:28:51.063096",
     "status": "completed"
    },
    "tags": []
   },
   "outputs": [],
   "source": [
    "def bend_euler(\n",
    "    angle=90.0,\n",
    "    p=0.5,\n",
    "    # cross_section=\"strip\",\n",
    "    # direction=\"ccw\",\n",
    "    # with_bbox=True,\n",
    "    # with_arc_floorplan=True,\n",
    "    # npoints=720,\n",
    "):\n",
    "    return sax.reciprocal({(\"o1\", \"o2\"): 1.0})"
   ]
  },
  {
   "cell_type": "code",
   "execution_count": null,
   "id": "8",
   "metadata": {
    "papermill": {
     "duration": 0.00962,
     "end_time": "2025-06-20T08:28:51.086635",
     "exception": false,
     "start_time": "2025-06-20T08:28:51.077015",
     "status": "completed"
    },
    "tags": []
   },
   "outputs": [],
   "source": [
    "def mmi1x2(\n",
    "    width=0.5,\n",
    "    width_taper=1.0,\n",
    "    length_taper=10.0,\n",
    "    length_mmi=5.5,\n",
    "    width_mmi=2.5,\n",
    "    gap_mmi=0.25,\n",
    "    # cross_section= strip,\n",
    "    # taper= {function= taper},\n",
    "    # with_bbox= True,\n",
    "):\n",
    "    return sax.reciprocal(\n",
    "        {\n",
    "            (\"o1\", \"o2\"): 0.45**0.5,\n",
    "            (\"o1\", \"o3\"): 0.45**0.5,\n",
    "        }\n",
    "    )"
   ]
  },
  {
   "cell_type": "code",
   "execution_count": null,
   "id": "9",
   "metadata": {
    "papermill": {
     "duration": 0.00986,
     "end_time": "2025-06-20T08:28:51.100723",
     "exception": false,
     "start_time": "2025-06-20T08:28:51.090863",
     "status": "completed"
    },
    "tags": []
   },
   "outputs": [],
   "source": [
    "def mmi2x2(\n",
    "    width=0.5,\n",
    "    width_taper=1.0,\n",
    "    length_taper=10.0,\n",
    "    length_mmi=5.5,\n",
    "    width_mmi=2.5,\n",
    "    gap_mmi=0.25,\n",
    "    # cross_section= strip,\n",
    "    # taper= {function= taper},\n",
    "    # with_bbox= True,\n",
    "):\n",
    "    return sax.reciprocal(\n",
    "        {\n",
    "            (\"o1\", \"o3\"): 0.45**0.5,\n",
    "            (\"o1\", \"o4\"): 1j * 0.45**0.5,\n",
    "            (\"o2\", \"o3\"): 1j * 0.45**0.5,\n",
    "            (\"o2\", \"o4\"): 0.45**0.5,\n",
    "        }\n",
    "    )"
   ]
  },
  {
   "cell_type": "code",
   "execution_count": null,
   "id": "10",
   "metadata": {
    "papermill": {
     "duration": 0.009757,
     "end_time": "2025-06-20T08:28:51.114480",
     "exception": false,
     "start_time": "2025-06-20T08:28:51.104723",
     "status": "completed"
    },
    "tags": []
   },
   "outputs": [],
   "source": [
    "def straight(\n",
    "    length=0.01,\n",
    "    # npoints=2,\n",
    "    # with_bbox=True,\n",
    "    # cross_section=...\n",
    "):\n",
    "    return sax.reciprocal({(\"o1\", \"o2\"): 1.0})"
   ]
  },
  {
   "cell_type": "markdown",
   "id": "11",
   "metadata": {
    "papermill": {
     "duration": 0.0042,
     "end_time": "2025-06-20T08:28:51.123032",
     "exception": false,
     "start_time": "2025-06-20T08:28:51.118832",
     "status": "completed"
    },
    "tags": []
   },
   "source": [
    "In SAX, we usually aggregate the available models in a models dictionary:"
   ]
  },
  {
   "cell_type": "code",
   "execution_count": null,
   "id": "12",
   "metadata": {
    "papermill": {
     "duration": 0.015657,
     "end_time": "2025-06-20T08:28:51.144223",
     "exception": false,
     "start_time": "2025-06-20T08:28:51.128566",
     "status": "completed"
    },
    "tags": []
   },
   "outputs": [],
   "source": [
    "models = {\n",
    "    \"straight\": straight,\n",
    "    \"bend_euler\": bend_euler,\n",
    "    \"mmi1x2\": mmi1x2,\n",
    "    \"mmi2x2\": mmi2x2,\n",
    "}"
   ]
  },
  {
   "cell_type": "markdown",
   "id": "13",
   "metadata": {
    "papermill": {
     "duration": 0.00429,
     "end_time": "2025-06-20T08:28:51.152843",
     "exception": false,
     "start_time": "2025-06-20T08:28:51.148553",
     "status": "completed"
    },
    "tags": []
   },
   "source": [
    "We can also create some dummy multimode models:"
   ]
  },
  {
   "cell_type": "code",
   "execution_count": null,
   "id": "14",
   "metadata": {
    "papermill": {
     "duration": 0.00928,
     "end_time": "2025-06-20T08:28:51.166166",
     "exception": false,
     "start_time": "2025-06-20T08:28:51.156886",
     "status": "completed"
    },
    "tags": []
   },
   "outputs": [],
   "source": [
    "def bend_euler_mm(\n",
    "    angle=90.0,\n",
    "    p=0.5,\n",
    "    # cross_section=\"strip\",\n",
    "    # direction=\"ccw\",\n",
    "    # with_bbox=True,\n",
    "    # with_arc_floorplan=True,\n",
    "    # npoints=720,\n",
    "):\n",
    "    return sax.reciprocal(\n",
    "        {\n",
    "            (\"o1@TE\", \"o2@TE\"): 0.9**0.5,\n",
    "            # ('o1@TE', 'o2@TM'): 0.01**0.5,\n",
    "            # ('o1@TM', 'o2@TE'): 0.01**0.5,\n",
    "            (\"o1@TM\", \"o2@TM\"): 0.8**0.5,\n",
    "        }\n",
    "    )"
   ]
  },
  {
   "cell_type": "code",
   "execution_count": null,
   "id": "15",
   "metadata": {
    "papermill": {
     "duration": 0.010535,
     "end_time": "2025-06-20T08:28:51.180999",
     "exception": false,
     "start_time": "2025-06-20T08:28:51.170464",
     "status": "completed"
    },
    "tags": []
   },
   "outputs": [],
   "source": [
    "def mmi1x2_mm(\n",
    "    width=0.5,\n",
    "    width_taper=1.0,\n",
    "    length_taper=10.0,\n",
    "    length_mmi=5.5,\n",
    "    width_mmi=2.5,\n",
    "    gap_mmi=0.25,\n",
    "    # cross_section= strip,\n",
    "    # taper= {function= taper},\n",
    "    # with_bbox= True,\n",
    "):\n",
    "    return sax.reciprocal(\n",
    "        {\n",
    "            (\"o1@TE\", \"o2@TE\"): 0.45**0.5,\n",
    "            (\"o1@TE\", \"o3@TE\"): 0.45**0.5,\n",
    "            (\"o1@TM\", \"o2@TM\"): 0.41**0.5,\n",
    "            (\"o1@TM\", \"o3@TM\"): 0.41**0.5,\n",
    "            (\"o1@TE\", \"o2@TM\"): 0.01**0.5,\n",
    "            (\"o1@TM\", \"o2@TE\"): 0.01**0.5,\n",
    "            (\"o1@TE\", \"o3@TM\"): 0.02**0.5,\n",
    "            (\"o1@TM\", \"o3@TE\"): 0.02**0.5,\n",
    "        }\n",
    "    )"
   ]
  },
  {
   "cell_type": "code",
   "execution_count": null,
   "id": "16",
   "metadata": {
    "papermill": {
     "duration": 0.010473,
     "end_time": "2025-06-20T08:28:51.196080",
     "exception": false,
     "start_time": "2025-06-20T08:28:51.185607",
     "status": "completed"
    },
    "tags": []
   },
   "outputs": [],
   "source": [
    "def mmi2x2_mm(\n",
    "    width=0.5,\n",
    "    width_taper=1.0,\n",
    "    length_taper=10.0,\n",
    "    length_mmi=5.5,\n",
    "    width_mmi=2.5,\n",
    "    gap_mmi=0.25,\n",
    "    # cross_section= strip,\n",
    "    # taper= {function= taper},\n",
    "    # with_bbox= True,\n",
    "):\n",
    "    return sax.reciprocal(\n",
    "        {\n",
    "            (\"o1@TE\", \"o3@TE\"): 0.45**0.5,\n",
    "            (\"o1@TE\", \"o4@TE\"): 1j * 0.45**0.5,\n",
    "            (\"o2@TE\", \"o3@TE\"): 1j * 0.45**0.5,\n",
    "            (\"o2@TE\", \"o4@TE\"): 0.45**0.5,\n",
    "            (\"o1@TM\", \"o3@TM\"): 0.45**0.5,\n",
    "            (\"o1@TM\", \"o4@TM\"): 1j * 0.45**0.5,\n",
    "            (\"o2@TM\", \"o3@TM\"): 1j * 0.45**0.5,\n",
    "            (\"o2@TM\", \"o4@TM\"): 0.45**0.5,\n",
    "        }\n",
    "    )"
   ]
  },
  {
   "cell_type": "code",
   "execution_count": null,
   "id": "17",
   "metadata": {
    "papermill": {
     "duration": 0.009938,
     "end_time": "2025-06-20T08:28:51.210240",
     "exception": false,
     "start_time": "2025-06-20T08:28:51.200302",
     "status": "completed"
    },
    "tags": []
   },
   "outputs": [],
   "source": [
    "def straight_mm(\n",
    "    length=0.01,\n",
    "    # npoints=2,\n",
    "    # with_bbox=True,\n",
    "    # cross_section=...\n",
    "):\n",
    "    return sax.reciprocal(\n",
    "        {\n",
    "            (\"o1@TE\", \"o2@TE\"): 1.0,\n",
    "            (\"o1@TM\", \"o2@TM\"): 1.0,\n",
    "        }\n",
    "    )"
   ]
  },
  {
   "cell_type": "code",
   "execution_count": null,
   "id": "18",
   "metadata": {
    "papermill": {
     "duration": 0.011379,
     "end_time": "2025-06-20T08:28:51.225844",
     "exception": false,
     "start_time": "2025-06-20T08:28:51.214465",
     "status": "completed"
    },
    "tags": []
   },
   "outputs": [],
   "source": [
    "models_mm = {\n",
    "    \"straight\": straight_mm,\n",
    "    \"bend_euler\": bend_euler_mm,\n",
    "    \"mmi1x2\": mmi1x2_mm,\n",
    "    \"mmi2x2\": mmi2x2_mm,\n",
    "}"
   ]
  },
  {
   "cell_type": "markdown",
   "id": "19",
   "metadata": {
    "papermill": {
     "duration": 0.00451,
     "end_time": "2025-06-20T08:28:51.234760",
     "exception": false,
     "start_time": "2025-06-20T08:28:51.230250",
     "status": "completed"
    },
    "tags": []
   },
   "source": [
    "We can now represent our recursive netlist model as a Directed Acyclic Graph:"
   ]
  },
  {
   "cell_type": "code",
   "execution_count": null,
   "id": "20",
   "metadata": {
    "papermill": {
     "duration": 0.055662,
     "end_time": "2025-06-20T08:28:51.293702",
     "exception": false,
     "start_time": "2025-06-20T08:28:51.238040",
     "status": "completed"
    },
    "tags": []
   },
   "outputs": [],
   "source": [
    "dag = _create_dag(recnet, models)\n",
    "draw_dag(dag)"
   ]
  },
  {
   "cell_type": "markdown",
   "id": "21",
   "metadata": {
    "papermill": {
     "duration": 0.005639,
     "end_time": "2025-06-20T08:28:51.305076",
     "exception": false,
     "start_time": "2025-06-20T08:28:51.299437",
     "status": "completed"
    },
    "tags": []
   },
   "source": [
    "Note that the DAG depends on the models we supply. We could for example stub one of the sub-netlists by a pre-defined model:"
   ]
  },
  {
   "cell_type": "code",
   "execution_count": null,
   "id": "22",
   "metadata": {
    "papermill": {
     "duration": 0.044494,
     "end_time": "2025-06-20T08:28:51.357445",
     "exception": false,
     "start_time": "2025-06-20T08:28:51.312951",
     "status": "completed"
    },
    "tags": []
   },
   "outputs": [],
   "source": [
    "dag_ = _create_dag(recnet, {**models, \"mzi_DL10\": mmi2x2})\n",
    "draw_dag(dag_, with_labels=True)"
   ]
  },
  {
   "cell_type": "markdown",
   "id": "23",
   "metadata": {
    "papermill": {
     "duration": 0.004848,
     "end_time": "2025-06-20T08:28:51.367181",
     "exception": false,
     "start_time": "2025-06-20T08:28:51.362333",
     "status": "completed"
    },
    "tags": []
   },
   "source": [
    "This is useful if we for example pre-calculated a certain model."
   ]
  },
  {
   "cell_type": "markdown",
   "id": "24",
   "metadata": {
    "papermill": {
     "duration": 0.00609,
     "end_time": "2025-06-20T08:28:51.378264",
     "exception": false,
     "start_time": "2025-06-20T08:28:51.372174",
     "status": "completed"
    },
    "tags": []
   },
   "source": [
    "We can easily find the root of the DAG:"
   ]
  },
  {
   "cell_type": "code",
   "execution_count": null,
   "id": "25",
   "metadata": {
    "papermill": {
     "duration": 0.024832,
     "end_time": "2025-06-20T08:28:51.406080",
     "exception": false,
     "start_time": "2025-06-20T08:28:51.381248",
     "status": "completed"
    },
    "tags": []
   },
   "outputs": [],
   "source": [
    "_find_root(dag)"
   ]
  },
  {
   "cell_type": "markdown",
   "id": "26",
   "metadata": {
    "papermill": {
     "duration": 0.008664,
     "end_time": "2025-06-20T08:28:51.422448",
     "exception": false,
     "start_time": "2025-06-20T08:28:51.413784",
     "status": "completed"
    },
    "tags": []
   },
   "source": [
    "Similarly we can find the leaves:"
   ]
  },
  {
   "cell_type": "code",
   "execution_count": null,
   "id": "27",
   "metadata": {
    "papermill": {
     "duration": 0.015076,
     "end_time": "2025-06-20T08:28:51.442536",
     "exception": false,
     "start_time": "2025-06-20T08:28:51.427460",
     "status": "completed"
    },
    "tags": []
   },
   "outputs": [],
   "source": [
    "_find_leaves(dag)"
   ]
  },
  {
   "cell_type": "markdown",
   "id": "28",
   "metadata": {
    "papermill": {
     "duration": 0.005517,
     "end_time": "2025-06-20T08:28:51.452954",
     "exception": false,
     "start_time": "2025-06-20T08:28:51.447437",
     "status": "completed"
    },
    "tags": []
   },
   "source": [
    "To be able to simulate the circuit, we need to supply a model for each of the leaves in the dependency DAG. Let's write a validator that checks this"
   ]
  },
  {
   "cell_type": "code",
   "execution_count": null,
   "id": "29",
   "metadata": {
    "papermill": {
     "duration": 0.033837,
     "end_time": "2025-06-20T08:28:51.491873",
     "exception": false,
     "start_time": "2025-06-20T08:28:51.458036",
     "status": "completed"
    },
    "tags": []
   },
   "outputs": [],
   "source": [
    "models"
   ]
  },
  {
   "cell_type": "code",
   "execution_count": null,
   "id": "30",
   "metadata": {
    "papermill": {
     "duration": 0.018136,
     "end_time": "2025-06-20T08:28:51.517763",
     "exception": false,
     "start_time": "2025-06-20T08:28:51.499627",
     "status": "completed"
    },
    "tags": []
   },
   "outputs": [],
   "source": [
    "models = _validate_models(models, dag)"
   ]
  },
  {
   "cell_type": "markdown",
   "id": "31",
   "metadata": {
    "papermill": {
     "duration": 0.003111,
     "end_time": "2025-06-20T08:28:51.524572",
     "exception": false,
     "start_time": "2025-06-20T08:28:51.521461",
     "status": "completed"
    },
    "tags": []
   },
   "source": [
    "We can now dow a bottom-up simulation. Since at the bottom of the DAG, our circuit is always flat (i.e. not hierarchical) we can implement a minimal `_flat_circuit` definition, which only needs to work on a flat (non-hierarchical circuit):"
   ]
  },
  {
   "cell_type": "code",
   "execution_count": null,
   "id": "32",
   "metadata": {
    "papermill": {
     "duration": 1.95345,
     "end_time": "2025-06-20T08:28:53.483104",
     "exception": false,
     "start_time": "2025-06-20T08:28:51.529654",
     "status": "completed"
    },
    "tags": []
   },
   "outputs": [],
   "source": [
    "from sax.netlist import convert_nets_to_connections\n",
    "\n",
    "flatnet = convert_nets_to_connections(recnet[mzi1_comp])\n",
    "\n",
    "single_mzi = _flat_circuit(\n",
    "    flatnet[\"instances\"],\n",
    "    flatnet[\"connections\"],\n",
    "    flatnet[\"ports\"],\n",
    "    models,\n",
    "    \"default\",\n",
    ")\n",
    "single_mzi()"
   ]
  },
  {
   "cell_type": "markdown",
   "id": "33",
   "metadata": {
    "papermill": {
     "duration": 0.005042,
     "end_time": "2025-06-20T08:28:53.493583",
     "exception": false,
     "start_time": "2025-06-20T08:28:53.488541",
     "status": "completed"
    },
    "tags": []
   },
   "source": [
    "The resulting circuit is just another SAX model (i.e. a python function) returing an SType:"
   ]
  },
  {
   "cell_type": "code",
   "execution_count": null,
   "id": "34",
   "metadata": {
    "papermill": {
     "duration": 0.028687,
     "end_time": "2025-06-20T08:28:53.527471",
     "exception": false,
     "start_time": "2025-06-20T08:28:53.498784",
     "status": "completed"
    },
    "tags": []
   },
   "outputs": [],
   "source": [
    "?single_mzi"
   ]
  },
  {
   "cell_type": "markdown",
   "id": "35",
   "metadata": {
    "papermill": {
     "duration": 0.003196,
     "end_time": "2025-06-20T08:28:53.535977",
     "exception": false,
     "start_time": "2025-06-20T08:28:53.532781",
     "status": "completed"
    },
    "tags": []
   },
   "source": [
    "Let's 'execute' the circuit:"
   ]
  },
  {
   "cell_type": "markdown",
   "id": "36",
   "metadata": {
    "papermill": {
     "duration": 0.003206,
     "end_time": "2025-06-20T08:28:53.545232",
     "exception": false,
     "start_time": "2025-06-20T08:28:53.542026",
     "status": "completed"
    },
    "tags": []
   },
   "source": [
    "Note that we can also supply multimode models:"
   ]
  },
  {
   "cell_type": "code",
   "execution_count": null,
   "id": "37",
   "metadata": {
    "papermill": {
     "duration": 1.425232,
     "end_time": "2025-06-20T08:28:54.976076",
     "exception": false,
     "start_time": "2025-06-20T08:28:53.550844",
     "status": "completed"
    },
    "tags": []
   },
   "outputs": [],
   "source": [
    "flatnet = convert_nets_to_connections(recnet[mzi1_comp])\n",
    "single_mzi = _flat_circuit(\n",
    "    flatnet[\"instances\"],\n",
    "    flatnet[\"connections\"],\n",
    "    flatnet[\"ports\"],\n",
    "    models_mm,\n",
    "    \"default\",\n",
    ")\n",
    "single_mzi()"
   ]
  },
  {
   "cell_type": "markdown",
   "id": "38",
   "metadata": {
    "papermill": {
     "duration": 0.005142,
     "end_time": "2025-06-20T08:28:54.986612",
     "exception": false,
     "start_time": "2025-06-20T08:28:54.981470",
     "status": "completed"
    },
    "tags": []
   },
   "source": [
    "Now that we can handle flat circuits the extension to hierarchical circuits is not so difficult:"
   ]
  },
  {
   "cell_type": "markdown",
   "id": "39",
   "metadata": {
    "papermill": {
     "duration": 0.002611,
     "end_time": "2025-06-20T08:28:54.994990",
     "exception": false,
     "start_time": "2025-06-20T08:28:54.992379",
     "status": "completed"
    },
    "tags": []
   },
   "source": [
    "single mode simulation:"
   ]
  },
  {
   "cell_type": "code",
   "execution_count": null,
   "id": "40",
   "metadata": {
    "papermill": {
     "duration": 1.777994,
     "end_time": "2025-06-20T08:28:56.778301",
     "exception": false,
     "start_time": "2025-06-20T08:28:55.000307",
     "status": "completed"
    },
    "tags": []
   },
   "outputs": [],
   "source": [
    "double_mzi, info = sax.circuit(netlist=recnet, models=models, backend=\"default\")\n",
    "double_mzi()"
   ]
  },
  {
   "cell_type": "markdown",
   "id": "41",
   "metadata": {
    "papermill": {
     "duration": 0.005041,
     "end_time": "2025-06-20T08:28:56.789120",
     "exception": false,
     "start_time": "2025-06-20T08:28:56.784079",
     "status": "completed"
    },
    "tags": []
   },
   "source": [
    "multi mode simulation:"
   ]
  },
  {
   "cell_type": "code",
   "execution_count": null,
   "id": "42",
   "metadata": {
    "papermill": {
     "duration": 1.753008,
     "end_time": "2025-06-20T08:28:58.547731",
     "exception": false,
     "start_time": "2025-06-20T08:28:56.794723",
     "status": "completed"
    },
    "tags": []
   },
   "outputs": [],
   "source": [
    "double_mzi, info = sax.circuit(\n",
    "    netlist=recnet, models=models_mm, backend=\"default\", return_type=\"sdict\"\n",
    ")\n",
    "double_mzi()"
   ]
  },
  {
   "cell_type": "markdown",
   "id": "43",
   "metadata": {
    "papermill": {
     "duration": 0.004836,
     "end_time": "2025-06-20T08:28:58.557408",
     "exception": false,
     "start_time": "2025-06-20T08:28:58.552572",
     "status": "completed"
    },
    "tags": []
   },
   "source": [
    "sometimes it's useful to get the required circuit model names to be able to create the circuit:"
   ]
  },
  {
   "cell_type": "code",
   "execution_count": null,
   "id": "44",
   "metadata": {
    "papermill": {
     "duration": 0.035339,
     "end_time": "2025-06-20T08:28:58.595485",
     "exception": false,
     "start_time": "2025-06-20T08:28:58.560146",
     "status": "completed"
    },
    "tags": []
   },
   "outputs": [],
   "source": [
    "sax.get_required_circuit_models(recnet, models)"
   ]
  }
 ],
 "metadata": {
  "kernelspec": {
   "display_name": "sax",
   "language": "python",
   "name": "sax"
  },
  "language_info": {
   "codemirror_mode": {
    "name": "ipython",
    "version": 3
   },
   "file_extension": ".py",
   "mimetype": "text/x-python",
   "name": "python",
   "nbconvert_exporter": "python",
   "pygments_lexer": "ipython3",
   "version": "3.12.10"
  },
  "papermill": {
   "default_parameters": {},
   "duration": 12.826091,
   "end_time": "2025-06-20T08:29:01.215849",
   "environment_variables": {},
   "exception": null,
   "input_path": "nbs/internals/02_circuit.ipynb",
   "output_path": "nbs/internals/02_circuit.ipynb",
   "parameters": {},
   "start_time": "2025-06-20T08:28:48.389758",
   "version": "2.6.0"
  }
 },
 "nbformat": 4,
 "nbformat_minor": 5
}
