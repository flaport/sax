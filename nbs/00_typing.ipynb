{
 "cells": [
  {
   "cell_type": "code",
   "execution_count": null,
   "id": "513b2287",
   "metadata": {},
   "outputs": [],
   "source": [
    "# default_exp typing_"
   ]
  },
  {
   "cell_type": "markdown",
   "id": "13a3464b",
   "metadata": {},
   "source": [
    "# Typing\n",
    "\n",
    "> SAX types"
   ]
  },
  {
   "cell_type": "code",
   "execution_count": null,
   "id": "9974f734",
   "metadata": {},
   "outputs": [],
   "source": [
    "# hide\n",
    "import matplotlib.pyplot as plt\n",
    "from fastcore.test import test_eq\n",
    "from pytest import approx, raises\n",
    "\n",
    "import os, sys; sys.stderr = open(os.devnull, \"w\")"
   ]
  },
  {
   "cell_type": "code",
   "execution_count": null,
   "id": "ec6a3f56",
   "metadata": {},
   "outputs": [],
   "source": [
    "# export\n",
    "from __future__ import annotations\n",
    "\n",
    "import functools\n",
    "import inspect\n",
    "from collections.abc import Callable as CallableABC\n",
    "from typing import Any, Callable, Dict, Tuple, TypedDict, Union, cast, overload\n",
    "\n",
    "import jax.numpy as jnp\n",
    "import numpy as np\n",
    "from natsort import natsorted"
   ]
  },
  {
   "cell_type": "markdown",
   "id": "41e26ab2",
   "metadata": {},
   "source": [
    "## Core Types"
   ]
  },
  {
   "cell_type": "markdown",
   "id": "ca29df5c",
   "metadata": {},
   "source": [
    "#### Array"
   ]
  },
  {
   "cell_type": "markdown",
   "id": "82c3c344",
   "metadata": {},
   "source": [
    "an `Array` is either a jax array or a numpy array:"
   ]
  },
  {
   "cell_type": "code",
   "execution_count": null,
   "id": "6d301cd9",
   "metadata": {},
   "outputs": [],
   "source": [
    "# exports\n",
    "Array = Union[jnp.ndarray, np.ndarray]"
   ]
  },
  {
   "cell_type": "markdown",
   "id": "6b86fa37",
   "metadata": {},
   "source": [
    "#### Int"
   ]
  },
  {
   "cell_type": "markdown",
   "id": "9fa467c9",
   "metadata": {},
   "source": [
    "An `Int` is either a built-in `int` or an `Array` [of dtype `int`]"
   ]
  },
  {
   "cell_type": "code",
   "execution_count": null,
   "id": "7096ab39",
   "metadata": {},
   "outputs": [],
   "source": [
    "# exports\n",
    "Int = Union[int, Array]"
   ]
  },
  {
   "cell_type": "markdown",
   "id": "c486cd2c",
   "metadata": {},
   "source": [
    "#### Float"
   ]
  },
  {
   "cell_type": "markdown",
   "id": "3b59bba6",
   "metadata": {},
   "source": [
    "A `Float` is eiter a built-in `float` or an `Array` [of dtype `float`]"
   ]
  },
  {
   "cell_type": "code",
   "execution_count": null,
   "id": "7acd4a7a",
   "metadata": {},
   "outputs": [],
   "source": [
    "# exports\n",
    "Float = Union[float, Array]"
   ]
  },
  {
   "cell_type": "markdown",
   "id": "bdfd6200",
   "metadata": {},
   "source": [
    "#### ComplexFloat"
   ]
  },
  {
   "cell_type": "markdown",
   "id": "b1a7d255",
   "metadata": {},
   "source": [
    "A `ComplexFloat` is either a build-in `complex` or an Array [of dtype `complex`]:"
   ]
  },
  {
   "cell_type": "code",
   "execution_count": null,
   "id": "93dacae2",
   "metadata": {},
   "outputs": [],
   "source": [
    "# exports\n",
    "ComplexFloat = Union[complex, Float]"
   ]
  },
  {
   "cell_type": "markdown",
   "id": "1f1aa099",
   "metadata": {},
   "source": [
    "#### Settings"
   ]
  },
  {
   "cell_type": "markdown",
   "id": "69839acd",
   "metadata": {},
   "source": [
    "A `Settings` dictionary is a nested mapping between setting names [`str`] to either `ComplexFloat` values OR to another lower level `Settings` dictionary."
   ]
  },
  {
   "cell_type": "code",
   "execution_count": null,
   "id": "8a7fb49e",
   "metadata": {},
   "outputs": [],
   "source": [
    "# exports\n",
    "Settings = Union[Dict[str, ComplexFloat], Dict[str, \"Settings\"]]"
   ]
  },
  {
   "cell_type": "markdown",
   "id": "cf202d06",
   "metadata": {},
   "source": [
    "Settings dictionaries are used to parametrize a SAX `Model` or a `circuit`. The settings dictionary should have the same hierarchy levels as the circuit:\n",
    " \n",
    " > Example:"
   ]
  },
  {
   "cell_type": "code",
   "execution_count": null,
   "id": "2b26c4ab",
   "metadata": {},
   "outputs": [],
   "source": [
    "mzi_settings = {\n",
    "    \"wl\": 1.5,  # global settings\n",
    "    \"lft\": {\"coupling\": 0.5},  # settings for the left coupler\n",
    "    \"top\": {\"neff\": 3.4},  # settings for the top waveguide\n",
    "    \"rgt\": {\"coupling\": 0.3},  # settings for the right coupler\n",
    "}"
   ]
  },
  {
   "cell_type": "markdown",
   "id": "45043912",
   "metadata": {},
   "source": [
    "#### SDict"
   ]
  },
  {
   "cell_type": "markdown",
   "id": "c5a7facf",
   "metadata": {},
   "source": [
    "An `SDict` is a sparse dictionary based representation of an S-matrix, mapping port name tuples such as `('in0', 'out0')` to `ComplexFloat`."
   ]
  },
  {
   "cell_type": "code",
   "execution_count": null,
   "id": "64f1293e",
   "metadata": {},
   "outputs": [],
   "source": [
    "# exports\n",
    "SDict = Dict[Tuple[str, str], ComplexFloat]"
   ]
  },
  {
   "cell_type": "markdown",
   "id": "07dc470a",
   "metadata": {},
   "source": [
    "> Example:"
   ]
  },
  {
   "cell_type": "code",
   "execution_count": null,
   "id": "ad65a70c",
   "metadata": {},
   "outputs": [],
   "source": [
    "_sdict: SDict = {\n",
    "    (\"in0\", \"out0\"): 3.0,\n",
    "}"
   ]
  },
  {
   "cell_type": "markdown",
   "id": "0e2c7430",
   "metadata": {},
   "source": [
    "#### SCoo"
   ]
  },
  {
   "cell_type": "markdown",
   "id": "ef614e1d",
   "metadata": {},
   "source": [
    "An `SCoo` is a sparse matrix based representation of an S-matrix consisting of three arrays and a port map. The three arrays represent the input port indices [`int`], output port indices [`int`] and the S-matrix values [`ComplexFloat`] of the sparse matrix. The port map maps a port name [`str`] to a port index [`int`]. Only these four arrays **together** and in this specific **order** are considered a valid `SCoo` representation!"
   ]
  },
  {
   "cell_type": "code",
   "execution_count": null,
   "id": "e4541349",
   "metadata": {},
   "outputs": [],
   "source": [
    "# exports\n",
    "SCoo = Tuple[Array, Array, ComplexFloat, Dict[str, int]]"
   ]
  },
  {
   "cell_type": "markdown",
   "id": "ff9719c8",
   "metadata": {},
   "source": [
    "> Example:"
   ]
  },
  {
   "cell_type": "code",
   "execution_count": null,
   "id": "972f8060",
   "metadata": {},
   "outputs": [],
   "source": [
    "Si = jnp.arange(3, dtype=int)\n",
    "Sj = jnp.array([0, 1, 0], dtype=int)\n",
    "Sx = jnp.array([3.0, 4.0, 1.0])\n",
    "port_map = {\"in0\": 0, \"in1\": 2, \"out0\": 1}\n",
    "_scoo: SCoo = Si, Sj, Sx, port_map"
   ]
  },
  {
   "cell_type": "markdown",
   "id": "2cba9246",
   "metadata": {},
   "source": [
    "#### SDense"
   ]
  },
  {
   "cell_type": "markdown",
   "id": "fd28795b",
   "metadata": {},
   "source": [
    "an `SDense` is a dense matrix representation of an S-matrix. It's represented by an NxN `ComplexFloat` array and a port map (mapping port names onto port indices)."
   ]
  },
  {
   "cell_type": "code",
   "execution_count": null,
   "id": "e6aee3af",
   "metadata": {},
   "outputs": [],
   "source": [
    "# exports\n",
    "SDense = Tuple[Array, Dict[str, int]]"
   ]
  },
  {
   "cell_type": "markdown",
   "id": "2c4789f7",
   "metadata": {},
   "source": [
    "> Example:"
   ]
  },
  {
   "cell_type": "code",
   "execution_count": null,
   "id": "02def7ed",
   "metadata": {},
   "outputs": [],
   "source": [
    "Sd = jnp.arange(9, dtype=float).reshape(3, 3)\n",
    "port_map = {\"in0\": 0, \"in1\": 2, \"out0\": 1}\n",
    "_sdense = Sd, port_map"
   ]
  },
  {
   "cell_type": "markdown",
   "id": "b0d2e36f",
   "metadata": {},
   "source": [
    "#### SType"
   ]
  },
  {
   "cell_type": "markdown",
   "id": "b441f21d",
   "metadata": {},
   "source": [
    "an `SType` is either an `SDict` **OR** an `SCoo` **OR** an `SDense`:"
   ]
  },
  {
   "cell_type": "code",
   "execution_count": null,
   "id": "7db692df",
   "metadata": {},
   "outputs": [],
   "source": [
    "# exports\n",
    "SType = Union[SDict, SCoo, SDense]"
   ]
  },
  {
   "cell_type": "markdown",
   "id": "e0561b07",
   "metadata": {},
   "source": [
    "> Example:"
   ]
  },
  {
   "cell_type": "code",
   "execution_count": null,
   "id": "5b52a5f2",
   "metadata": {},
   "outputs": [],
   "source": [
    "obj: SType = _sdict\n",
    "obj: SType = _scoo\n",
    "obj: SType = _sdense"
   ]
  },
  {
   "cell_type": "markdown",
   "id": "afabe91b",
   "metadata": {},
   "source": [
    "#### Model"
   ]
  },
  {
   "cell_type": "markdown",
   "id": "13808fb1",
   "metadata": {},
   "source": [
    "A `Model` is any keyword-only function that returns an `SType`:"
   ]
  },
  {
   "cell_type": "code",
   "execution_count": null,
   "id": "130eb3e8",
   "metadata": {},
   "outputs": [],
   "source": [
    "# exports\n",
    "Model = Callable[..., SType]"
   ]
  },
  {
   "cell_type": "markdown",
   "id": "fad534fb",
   "metadata": {},
   "source": [
    "#### ModelFactory"
   ]
  },
  {
   "cell_type": "markdown",
   "id": "85781647",
   "metadata": {},
   "source": [
    "A `ModelFactory` is any keyword-only function that returns a `Model`:"
   ]
  },
  {
   "cell_type": "code",
   "execution_count": null,
   "id": "67523a7c",
   "metadata": {},
   "outputs": [],
   "source": [
    "# exports\n",
    "ModelFactory = Callable[..., Model]"
   ]
  },
  {
   "cell_type": "markdown",
   "id": "353d8506",
   "metadata": {},
   "source": [
    "> Note: SAX sometimes needs to figure out the difference between a `ModelFactory` and a normal `Model` *before* running the function. To do this, SAX will check the return annotation of the function. Any function with a `-> Model` or `-> Callable` annotation will be considered a `ModelFactory`. Any function without this annotation will be considered a normal Model: **don't forget the return annotation of your Model Factory!** To ensure a correct annotation and to ensure forward compatibility, it's recommended to decorate your `ModelFactory` with the `modelfactory` decorator."
   ]
  },
  {
   "cell_type": "markdown",
   "id": "e42d3f17",
   "metadata": {},
   "source": [
    "#### GeneralModel"
   ]
  },
  {
   "cell_type": "markdown",
   "id": "0c4356fc",
   "metadata": {},
   "source": [
    "a `GeneralModel` is either a `Model` or a `LogicalNetlist` (will be defined below):"
   ]
  },
  {
   "cell_type": "code",
   "execution_count": null,
   "id": "91897d92",
   "metadata": {},
   "outputs": [],
   "source": [
    "# exports\n",
    "GeneralModel = Union[Model, \"LogicalNetlist\"]"
   ]
  },
  {
   "cell_type": "markdown",
   "id": "b32b5a31",
   "metadata": {},
   "source": [
    "#### Models"
   ]
  },
  {
   "cell_type": "markdown",
   "id": "a796dcb2",
   "metadata": {},
   "source": [
    "`Models` is a mapping between model names [`str`] and `GeneralModel`:"
   ]
  },
  {
   "cell_type": "code",
   "execution_count": null,
   "id": "c5ad83b3",
   "metadata": {},
   "outputs": [],
   "source": [
    "# exports\n",
    "Models = Dict[str, GeneralModel]"
   ]
  },
  {
   "cell_type": "markdown",
   "id": "ed1af61c",
   "metadata": {},
   "source": [
    "> Note: sometimes 'component' is used to refer to a a `Model` or `GeneralModel`. This is because other tools (such as for example GDSFactory) prefer that terminology."
   ]
  },
  {
   "cell_type": "markdown",
   "id": "5d276f63",
   "metadata": {},
   "source": [
    "## Netlist Types"
   ]
  },
  {
   "cell_type": "markdown",
   "id": "2c946dc2",
   "metadata": {},
   "source": [
    "#### Instance"
   ]
  },
  {
   "cell_type": "markdown",
   "id": "24694709",
   "metadata": {},
   "source": [
    "A netlist `Instance` is a mapping with two keys: `\"component\"`, which should map to a key in a `Models` dictionary and `\"settings\"`, which are all the necessary settings to instanciate a component:"
   ]
  },
  {
   "cell_type": "code",
   "execution_count": null,
   "id": "d6df6a74",
   "metadata": {},
   "outputs": [],
   "source": [
    "# exports\n",
    "Instance = TypedDict(\n",
    "    \"Instance\",\n",
    "    {\n",
    "        \"component\": str,\n",
    "        \"settings\": Settings,\n",
    "    },\n",
    ")"
   ]
  },
  {
   "cell_type": "markdown",
   "id": "ff82e535",
   "metadata": {},
   "source": [
    "> Note: in SAX, a better name for `\"component\"` in the instance definition would probably be `\"model\"` or `\"model_name\"`. However we chose `\"component\"` here to have a 1-to-1 map between SAX netlists and GDSFactory netlists."
   ]
  },
  {
   "cell_type": "markdown",
   "id": "365559c3",
   "metadata": {},
   "source": [
    "#### GeneralInstance"
   ]
  },
  {
   "cell_type": "markdown",
   "id": "5249fc0f",
   "metadata": {},
   "source": [
    "A general instance can be any of the following (`LogicalNetlist` and `Netlist` will be defined below):"
   ]
  },
  {
   "cell_type": "code",
   "execution_count": null,
   "id": "84243bb1",
   "metadata": {},
   "outputs": [],
   "source": [
    "# exports\n",
    "GeneralInstance = Union[str, Instance, \"LogicalNetlist\", \"Netlist\"]"
   ]
  },
  {
   "cell_type": "markdown",
   "id": "04a5992a",
   "metadata": {},
   "source": [
    "> For example, this is allowed:"
   ]
  },
  {
   "cell_type": "code",
   "execution_count": null,
   "id": "6ef6d5ee",
   "metadata": {},
   "outputs": [],
   "source": [
    "inst: GeneralInstance = \"my_component_model\"\n",
    "inst: GeneralInstance = {\n",
    "    \"component\": \"my_component_model\",\n",
    "    \"settings\": {},\n",
    "}"
   ]
  },
  {
   "cell_type": "markdown",
   "id": "8af40281",
   "metadata": {},
   "source": [
    "> ... and this is not (will be flagged by a static type checker like pyright or mypy):"
   ]
  },
  {
   "cell_type": "code",
   "execution_count": null,
   "id": "c13fc4d7",
   "metadata": {},
   "outputs": [],
   "source": [
    "inst: GeneralInstance = {\n",
    "    \"component\": \"my_component_model\",\n",
    "    \"settings\": {},\n",
    "    \"extra_arg\": \"invalid\",\n",
    "}"
   ]
  },
  {
   "cell_type": "markdown",
   "id": "cf9fd876",
   "metadata": {},
   "source": [
    "#### Instances"
   ]
  },
  {
   "cell_type": "markdown",
   "id": "a9aad796",
   "metadata": {},
   "source": [
    "`Instances` is a mapping from instance names [`str`] to a `GeneralInstance`:"
   ]
  },
  {
   "cell_type": "code",
   "execution_count": null,
   "id": "c86b8426",
   "metadata": {},
   "outputs": [],
   "source": [
    "# exports\n",
    "Instances = Union[Dict[str, str], Dict[str, GeneralInstance]]"
   ]
  },
  {
   "cell_type": "markdown",
   "id": "0f292b1f",
   "metadata": {},
   "source": [
    "#### Netlist"
   ]
  },
  {
   "cell_type": "markdown",
   "id": "7b85ab37",
   "metadata": {},
   "source": [
    "a `Netlist` is a collection of `\"instances\"`, `\"connections\"` and `\"ports\"`:"
   ]
  },
  {
   "cell_type": "code",
   "execution_count": null,
   "id": "9fb48e7f",
   "metadata": {},
   "outputs": [],
   "source": [
    "# exports\n",
    "\n",
    "Netlist = TypedDict(\n",
    "    \"Netlist\",\n",
    "    {\n",
    "        \"instances\": Instances,\n",
    "        \"connections\": Dict[str, str],\n",
    "        \"ports\": Dict[str, str],\n",
    "    },\n",
    ")"
   ]
  },
  {
   "cell_type": "markdown",
   "id": "d12f61a8",
   "metadata": {},
   "source": [
    "> Example:"
   ]
  },
  {
   "cell_type": "code",
   "execution_count": null,
   "id": "877d1151",
   "metadata": {},
   "outputs": [],
   "source": [
    "mzi_netlist: Netlist = {\n",
    "    \"instances\": {\n",
    "        \"lft\": \"mmi1x2\",  # shorthand if no settings need to be given\n",
    "        \"top\": {  # full instance definition\n",
    "            \"component\": \"waveguide\",\n",
    "            \"settings\": {\n",
    "                \"length\": 100.0,\n",
    "            },\n",
    "        },\n",
    "        \"rgt\": \"mmi2x2\",  # shorthand if no settings need to be given\n",
    "    },\n",
    "    \"connections\": {\n",
    "        \"lft,out0\": \"top,in0\",\n",
    "        \"top,out0\": \"rgt,in0\",\n",
    "        \"top,out1\": \"rgt,in1\",\n",
    "    },\n",
    "    \"ports\": {\n",
    "        \"in0\": \"lft,in0\",\n",
    "        \"out0\": \"rgt,out0\",\n",
    "        \"out1\": \"rgt,out1\",\n",
    "    },\n",
    "}"
   ]
  },
  {
   "cell_type": "markdown",
   "id": "613b0f22",
   "metadata": {},
   "source": [
    "#### LogicalNetlist"
   ]
  },
  {
   "cell_type": "markdown",
   "id": "f8cb7e75",
   "metadata": {},
   "source": [
    "a `LogicalNetlist` is a subset of the more general `Netlist`.  It only contains the logical connections and instance names. Not the actual instances. This data structure is mostly used for internal use only."
   ]
  },
  {
   "cell_type": "code",
   "execution_count": null,
   "id": "61556940",
   "metadata": {},
   "outputs": [],
   "source": [
    "# exports\n",
    "\n",
    "LogicalNetlist = TypedDict(\n",
    "    \"LogicalNetlist\",\n",
    "    {\n",
    "        \"instances\": Dict[str, str],\n",
    "        \"connections\": Dict[str, str],\n",
    "        \"ports\": Dict[str, str],\n",
    "    },\n",
    ")"
   ]
  },
  {
   "cell_type": "markdown",
   "id": "3468d6a1",
   "metadata": {},
   "source": [
    "> Example:"
   ]
  },
  {
   "cell_type": "code",
   "execution_count": null,
   "id": "ab67ad41",
   "metadata": {},
   "outputs": [],
   "source": [
    "mzi_logical_netlist: Netlist = {\n",
    "    \"instances\": {\n",
    "        \"lft\": \"mmi1x2\",\n",
    "        \"top\": \"waveguide\",\n",
    "        \"rgt\": \"mmi2x2\",\n",
    "    },\n",
    "    \"connections\": {\n",
    "        \"lft,out0\": \"top,in0\",\n",
    "        \"top,out0\": \"rgt,in0\",\n",
    "        \"top,out1\": \"rgt,in1\",\n",
    "    },\n",
    "    \"ports\": {\n",
    "        \"in0\": \"lft,in0\",\n",
    "        \"out0\": \"rgt,out0\",\n",
    "        \"out1\": \"rgt,out1\",\n",
    "    },\n",
    "}"
   ]
  },
  {
   "cell_type": "markdown",
   "id": "dbcb4447",
   "metadata": {},
   "source": [
    "## Validation and runtime type-checking:"
   ]
  },
  {
   "cell_type": "markdown",
   "id": "6e4c44aa",
   "metadata": {},
   "source": [
    "> Note: the type-checking functions below are **NOT** very tight and hence should be used within the right context!"
   ]
  },
  {
   "cell_type": "code",
   "execution_count": null,
   "id": "dfd6027b",
   "metadata": {},
   "outputs": [],
   "source": [
    "# export\n",
    "def is_float(x: Any) -> bool:\n",
    "    \"\"\"Check if an object is a `Float`\"\"\"\n",
    "    if isinstance(x, float):\n",
    "        return True\n",
    "    if isinstance(x, np.ndarray):\n",
    "        return x.dtype in (np.float16, np.float32, np.float64, np.float128)\n",
    "    if isinstance(x, jnp.ndarray):\n",
    "        return x.dtype in (jnp.float16, jnp.float32, jnp.float64)\n",
    "    return False"
   ]
  },
  {
   "cell_type": "code",
   "execution_count": null,
   "id": "28374448",
   "metadata": {},
   "outputs": [],
   "source": [
    "assert is_float(3.0)\n",
    "assert not is_float(3)\n",
    "assert not is_float(3.0 + 2j)\n",
    "assert not is_float(jnp.array(3.0, dtype=complex))\n",
    "assert not is_float(jnp.array(3, dtype=int))"
   ]
  },
  {
   "cell_type": "code",
   "execution_count": null,
   "id": "734d6c66",
   "metadata": {},
   "outputs": [],
   "source": [
    "# export\n",
    "def is_complex(x: Any) -> bool:\n",
    "    \"\"\"check if an object is a `ComplexFloat`\"\"\"\n",
    "    if isinstance(x, complex):\n",
    "        return True\n",
    "    if isinstance(x, np.ndarray):\n",
    "        return x.dtype in (np.complex64, np.complex128)\n",
    "    if isinstance(x, jnp.ndarray):\n",
    "        return x.dtype in (jnp.complex64, jnp.complex128)\n",
    "    return False"
   ]
  },
  {
   "cell_type": "code",
   "execution_count": null,
   "id": "d81a703d",
   "metadata": {},
   "outputs": [],
   "source": [
    "assert not is_complex(3.0)\n",
    "assert not is_complex(3)\n",
    "assert is_complex(3.0 + 2j)\n",
    "assert is_complex(jnp.array(3.0, dtype=complex))\n",
    "assert not is_complex(jnp.array(3, dtype=int))"
   ]
  },
  {
   "cell_type": "code",
   "execution_count": null,
   "id": "13d572a4",
   "metadata": {},
   "outputs": [],
   "source": [
    "# export\n",
    "def is_complex_float(x: Any) -> bool:\n",
    "    \"\"\"check if an object is either a `ComplexFloat` or a `Float`\"\"\"\n",
    "    return is_float(x) or is_complex(x)"
   ]
  },
  {
   "cell_type": "code",
   "execution_count": null,
   "id": "c533ff0d",
   "metadata": {},
   "outputs": [],
   "source": [
    "assert is_complex_float(3.0)\n",
    "assert not is_complex_float(3)\n",
    "assert is_complex_float(3.0 + 2j)\n",
    "assert is_complex_float(jnp.array(3.0, dtype=complex))\n",
    "assert not is_complex_float(jnp.array(3, dtype=int))"
   ]
  },
  {
   "cell_type": "code",
   "execution_count": null,
   "id": "481faad1",
   "metadata": {},
   "outputs": [],
   "source": [
    "# export\n",
    "def is_sdict(x: Any) -> bool:\n",
    "    \"\"\"check if an object is an `SDict` (a SAX S-dictionary)\"\"\"\n",
    "    return isinstance(x, dict)"
   ]
  },
  {
   "cell_type": "code",
   "execution_count": null,
   "id": "cb0365dc",
   "metadata": {},
   "outputs": [],
   "source": [
    "assert not is_sdict(object())\n",
    "assert is_sdict(_sdict)\n",
    "assert not is_sdict(_scoo)\n",
    "assert not is_sdict(_sdense)"
   ]
  },
  {
   "cell_type": "code",
   "execution_count": null,
   "id": "e47ea884",
   "metadata": {},
   "outputs": [],
   "source": [
    "# export\n",
    "def is_scoo(x: Any) -> bool:\n",
    "    \"\"\"check if an object is an `SCoo` (a SAX sparse S-matrix representation in COO-format)\"\"\"\n",
    "    return isinstance(x, (tuple, list)) and len(x) == 4"
   ]
  },
  {
   "cell_type": "code",
   "execution_count": null,
   "id": "9ea0239a",
   "metadata": {},
   "outputs": [],
   "source": [
    "assert not is_scoo(object)\n",
    "assert not is_scoo(_sdict)\n",
    "assert is_scoo(_scoo)\n",
    "assert not is_scoo(_sdense)"
   ]
  },
  {
   "cell_type": "code",
   "execution_count": null,
   "id": "5b88caf0",
   "metadata": {},
   "outputs": [],
   "source": [
    "# export\n",
    "def is_sdense(x: Any) -> bool:\n",
    "    \"\"\"check if an object is an `SDense` (a SAX dense S-matrix representation)\"\"\"\n",
    "    return isinstance(x, (tuple, list)) and len(x) == 2"
   ]
  },
  {
   "cell_type": "code",
   "execution_count": null,
   "id": "2eddd63a",
   "metadata": {},
   "outputs": [],
   "source": [
    "assert not is_sdense(object)\n",
    "assert not is_sdense(_sdict)\n",
    "assert not is_sdense(_scoo)\n",
    "assert is_sdense(_sdense)"
   ]
  },
  {
   "cell_type": "code",
   "execution_count": null,
   "id": "32503ed6",
   "metadata": {},
   "outputs": [],
   "source": [
    "# export\n",
    "def is_model(model: Any) -> bool:\n",
    "    \"\"\"check if a callable is a `Model` (a callable returning an `SType`)\"\"\"\n",
    "    if not callable(model):\n",
    "        return False\n",
    "    try:\n",
    "        sig = inspect.signature(model)\n",
    "    except ValueError:\n",
    "        return False\n",
    "    for param in sig.parameters.values():\n",
    "        if param.default == inspect.Parameter.empty:\n",
    "            return False  # a proper SAX model does not have any positional arguments.\n",
    "    if _is_callable_annotation(sig.return_annotation):  # model factory\n",
    "        return False\n",
    "    return True\n",
    "\n",
    "def _is_callable_annotation(annotation: Any) -> bool:\n",
    "    \"\"\"check if an annotation is `Callable`-like\"\"\"\n",
    "    if isinstance(annotation, str):\n",
    "        # happens when\n",
    "        # from __future__ import annotations\n",
    "        # was imported at the top of the file...\n",
    "        return annotation.startswith(\"Callable\") or annotation.endswith(\"Model\")\n",
    "        # TODO: this is not a very robust check...\n",
    "    try:\n",
    "        return annotation.__origin__ == CallableABC\n",
    "    except AttributeError:\n",
    "        return False"
   ]
  },
  {
   "cell_type": "code",
   "execution_count": null,
   "id": "396caa20",
   "metadata": {},
   "outputs": [],
   "source": [
    "# hide\n",
    "assert _is_callable_annotation(Callable)\n",
    "assert not _is_callable_annotation(SDict)"
   ]
  },
  {
   "cell_type": "code",
   "execution_count": null,
   "id": "89bdb647",
   "metadata": {},
   "outputs": [],
   "source": [
    "def good_model(x=jnp.array(3.0), y=jnp.array(4.0)) -> SDict:\n",
    "    return {(\"in0\", \"out0\"): jnp.array(3.0)}\n",
    "assert is_model(good_model)\n",
    "\n",
    "def bad_model(positional_argument, x=jnp.array(3.0), y=jnp.array(4.0)) -> SDict:\n",
    "    return {(\"in0\", \"out0\"): jnp.array(3.0)}\n",
    "assert not is_model(bad_model)"
   ]
  },
  {
   "cell_type": "code",
   "execution_count": null,
   "id": "1a83edef",
   "metadata": {},
   "outputs": [],
   "source": [
    "# export\n",
    "def is_model_factory(model: Any) -> bool:\n",
    "    \"\"\"check if a callable is a model function.\"\"\"\n",
    "    if not callable(model):\n",
    "        return False\n",
    "    sig = inspect.signature(model)\n",
    "    if _is_callable_annotation(sig.return_annotation):  # model factory\n",
    "        return True\n",
    "    return False"
   ]
  },
  {
   "cell_type": "markdown",
   "id": "1f9715ed",
   "metadata": {},
   "source": [
    "> Note: For a `Callable` to be considered a `ModelFactory` in SAX, it **MUST** have a `Callable` or `Model` return annotation. Otherwise SAX will view it as a `Model` and things might break!"
   ]
  },
  {
   "cell_type": "code",
   "execution_count": null,
   "id": "fe9cdff0",
   "metadata": {},
   "outputs": [],
   "source": [
    "def func() -> Model:\n",
    "    ...\n",
    "    \n",
    "assert is_model_factory(func) # yes, we only check the annotation for now...\n",
    "\n",
    "def func():\n",
    "    ...\n",
    "    \n",
    "assert not is_model_factory(func) # yes, we only check the annotation for now..."
   ]
  },
  {
   "cell_type": "code",
   "execution_count": null,
   "id": "a6bcb294",
   "metadata": {},
   "outputs": [],
   "source": [
    "# export\n",
    "def validate_model(model: Callable):\n",
    "    \"\"\"Validate the parameters of a model\"\"\"\n",
    "    positional_arguments = []\n",
    "    for param in inspect.signature(model).parameters.values():\n",
    "        if param.default is inspect.Parameter.empty:\n",
    "            positional_arguments.append(param.name)\n",
    "    if positional_arguments:\n",
    "        raise ValueError(\n",
    "            f\"model '{model}' takes positional arguments {', '.join(positional_arguments)} \"\n",
    "            \"and hence is not a valid SAX Model! A SAX model should ONLY take keyword arguments (or no arguments at all).\"\n",
    "        )"
   ]
  },
  {
   "cell_type": "code",
   "execution_count": null,
   "id": "754399d5",
   "metadata": {},
   "outputs": [],
   "source": [
    "def good_model(x=jnp.array(3.0), y=jnp.array(4.0)) -> SDict:\n",
    "    return {(\"in0\", \"out0\"): jnp.array(3.0)}\n",
    "\n",
    "\n",
    "assert validate_model(good_model) is None"
   ]
  },
  {
   "cell_type": "code",
   "execution_count": null,
   "id": "181c72fa",
   "metadata": {},
   "outputs": [],
   "source": [
    "def bad_model(positional_argument, x=jnp.array(3.0), y=jnp.array(4.0)) -> SDict:\n",
    "    return {(\"in0\", \"out0\"): jnp.array(3.0)}\n",
    "\n",
    "\n",
    "with raises(ValueError):\n",
    "    validate_model(bad_model)"
   ]
  },
  {
   "cell_type": "code",
   "execution_count": null,
   "id": "d0c1c97f",
   "metadata": {},
   "outputs": [],
   "source": [
    "# export\n",
    "def is_instance(instance: Any) -> bool:\n",
    "    \"\"\"check if a dictionary is an instance\"\"\"\n",
    "    if not isinstance(instance, dict):\n",
    "        return False\n",
    "    return \"component\" in instance"
   ]
  },
  {
   "cell_type": "code",
   "execution_count": null,
   "id": "e0706db8",
   "metadata": {},
   "outputs": [],
   "source": [
    "# export\n",
    "def is_netlist(netlist: Any) -> bool:\n",
    "    \"\"\"check if a dictionary is a netlist\"\"\"\n",
    "    if not isinstance(netlist, dict):\n",
    "        return False\n",
    "    if not \"instances\" in netlist:\n",
    "        return False\n",
    "    if not \"connections\" in netlist:\n",
    "        return False\n",
    "    if not \"ports\" in netlist:\n",
    "        return False\n",
    "    return True"
   ]
  },
  {
   "cell_type": "code",
   "execution_count": null,
   "id": "0e2a0f53",
   "metadata": {},
   "outputs": [],
   "source": [
    "# export\n",
    "def is_stype(stype: Any) -> bool:\n",
    "    \"\"\"check if an object is an SDict, SCoo or SDense\"\"\"\n",
    "    return is_sdict(stype) or is_scoo(stype) or is_sdense(stype)"
   ]
  },
  {
   "cell_type": "code",
   "execution_count": null,
   "id": "203dc194",
   "metadata": {},
   "outputs": [],
   "source": [
    "# export\n",
    "def is_singlemode(S: Any) -> bool:\n",
    "    \"\"\"check if an stype is single mode\"\"\"\n",
    "    if not is_stype(S):\n",
    "        return False\n",
    "    ports = _get_ports(S)\n",
    "    return not any((\"@\" in p) for p in ports)\n",
    "\n",
    "def _get_ports(S: SType):\n",
    "    if is_sdict(S):\n",
    "        S = cast(SDict, S)\n",
    "        ports_set = {p1 for p1, _ in S} | {p2 for _, p2 in S}\n",
    "        return tuple(natsorted(ports_set))\n",
    "    else:\n",
    "        *_, ports_map = S\n",
    "        assert isinstance(ports_map, dict)\n",
    "        return tuple(natsorted(ports_map.keys()))"
   ]
  },
  {
   "cell_type": "code",
   "execution_count": null,
   "id": "d94e1b5d",
   "metadata": {},
   "outputs": [],
   "source": [
    "# export\n",
    "def is_multimode(S: Any) -> bool:\n",
    "    \"\"\"check if an stype is single mode\"\"\"\n",
    "    if not is_stype(S):\n",
    "        return False\n",
    "    \n",
    "    ports = _get_ports(S)\n",
    "    return all((\"@\" in p) for p in ports)"
   ]
  },
  {
   "cell_type": "code",
   "execution_count": null,
   "id": "657c524a",
   "metadata": {},
   "outputs": [],
   "source": [
    "# export\n",
    "def is_mixedmode(S: Any) -> bool:\n",
    "    \"\"\"check if an stype is neither single mode nor multimode (hence invalid)\"\"\"\n",
    "    return not is_singlemode(S) and not is_multimode(S)"
   ]
  },
  {
   "cell_type": "markdown",
   "id": "3afe685c",
   "metadata": {},
   "source": [
    "## SAX return type helpers\n",
    "\n",
    "> a.k.a SDict, SDense, SCoo helpers"
   ]
  },
  {
   "cell_type": "markdown",
   "id": "a875f149",
   "metadata": {},
   "source": [
    "Convert an `SDict`, `SCoo` or `SDense` into an `SDict` (or convert a model generating any of these types into a model generating an `SDict`):"
   ]
  },
  {
   "cell_type": "code",
   "execution_count": null,
   "id": "ac8c1d92",
   "metadata": {},
   "outputs": [],
   "source": [
    "# exporti\n",
    "\n",
    "@overload\n",
    "def sdict(S: Model) -> Model:\n",
    "    ...\n",
    "\n",
    "\n",
    "@overload\n",
    "def sdict(S: SType) -> SDict:\n",
    "    ..."
   ]
  },
  {
   "cell_type": "code",
   "execution_count": null,
   "id": "a3facb9f",
   "metadata": {},
   "outputs": [],
   "source": [
    "# export\n",
    "def sdict(S: Union[Model, SType]) -> Union[Model, SType]:\n",
    "    \"\"\"Convert an `SCoo` or `SDense` to `SDict`\"\"\"\n",
    "\n",
    "    if is_model(S):\n",
    "        model = cast(Model, S)\n",
    "\n",
    "        @functools.wraps(model)\n",
    "        def wrapper(**kwargs):\n",
    "            return sdict(model(**kwargs))\n",
    "\n",
    "        return wrapper\n",
    "\n",
    "    elif is_scoo(S):\n",
    "        x_dict = _scoo_to_sdict(*cast(SCoo, S))\n",
    "    elif is_sdense(S):\n",
    "        x_dict = _sdense_to_sdict(*cast(SDense, S))\n",
    "    elif is_sdict(S):\n",
    "        x_dict = cast(SDict, S)\n",
    "    else:\n",
    "        raise ValueError(\"Could not convert arguments to sdict.\")\n",
    "\n",
    "    return x_dict\n",
    "\n",
    "\n",
    "def _scoo_to_sdict(Si: Array, Sj: Array, Sx: Array, ports_map: Dict[str, int]) -> SDict:\n",
    "    sdict = {}\n",
    "    inverse_ports_map = {int(i): p for p, i in ports_map.items()}\n",
    "    for i, (si, sj) in enumerate(zip(Si, Sj)):\n",
    "        sdict[\n",
    "            inverse_ports_map.get(int(si), \"\"), inverse_ports_map.get(int(sj), \"\")\n",
    "        ] = Sx[..., i]\n",
    "    sdict = {(p1, p2): v for (p1, p2), v in sdict.items() if p1 and p2}\n",
    "    return sdict\n",
    "\n",
    "\n",
    "def _sdense_to_sdict(S: Array, ports_map: Dict[str, int]) -> SDict:\n",
    "    sdict = {}\n",
    "    for p1, i in ports_map.items():\n",
    "        for p2, j in ports_map.items():\n",
    "            sdict[p1, p2] = S[..., i, j]\n",
    "    return sdict"
   ]
  },
  {
   "cell_type": "code",
   "execution_count": null,
   "id": "9a372fbf",
   "metadata": {},
   "outputs": [],
   "source": [
    "assert sdict(_sdict) is _sdict\n",
    "assert sdict(_scoo) == {\n",
    "    (\"in0\", \"in0\"): 3.0,\n",
    "    (\"in1\", \"in0\"): 1.0,\n",
    "    (\"out0\", \"out0\"): 4.0,\n",
    "}\n",
    "assert sdict(_sdense) == {\n",
    "    (\"in0\", \"in0\"): 0.0,\n",
    "    (\"in0\", \"out0\"): 1.0,\n",
    "    (\"in0\", \"in1\"): 2.0,\n",
    "    (\"out0\", \"in0\"): 3.0,\n",
    "    (\"out0\", \"out0\"): 4.0,\n",
    "    (\"out0\", \"in1\"): 5.0,\n",
    "    (\"in1\", \"in0\"): 6.0,\n",
    "    (\"in1\", \"out0\"): 7.0,\n",
    "    (\"in1\", \"in1\"): 8.0,\n",
    "}"
   ]
  },
  {
   "cell_type": "markdown",
   "id": "492c5cdd",
   "metadata": {},
   "source": [
    "Convert an `SDict`, `SCoo` or `SDense` into an `SCoo` (or convert a model generating any of these types into a model generating an `SCoo`):"
   ]
  },
  {
   "cell_type": "code",
   "execution_count": null,
   "id": "1089b251",
   "metadata": {},
   "outputs": [],
   "source": [
    "# exporti\n",
    "\n",
    "@overload\n",
    "def scoo(S: Callable) -> Callable:\n",
    "    ...\n",
    "\n",
    "\n",
    "@overload\n",
    "def scoo(S: SType) -> SCoo:\n",
    "    ..."
   ]
  },
  {
   "cell_type": "code",
   "execution_count": null,
   "id": "017d3328",
   "metadata": {},
   "outputs": [],
   "source": [
    "# export\n",
    "\n",
    "def scoo(S: Union[Callable, SType]) -> Union[Callable, SCoo]:\n",
    "    \"\"\"Convert an `SDict` or `SDense` to `SCoo`\"\"\"\n",
    "\n",
    "    if is_model(S):\n",
    "        model = cast(Model, S)\n",
    "\n",
    "        @functools.wraps(model)\n",
    "        def wrapper(**kwargs):\n",
    "            return scoo(model(**kwargs))\n",
    "\n",
    "        return wrapper\n",
    "\n",
    "    elif is_scoo(S):\n",
    "        S = cast(SCoo, S)\n",
    "    elif is_sdense(S):\n",
    "        S = _sdense_to_scoo(*cast(SDense, S))\n",
    "    elif is_sdict(S):\n",
    "        S = _sdict_to_scoo(cast(SDict, S))\n",
    "    else:\n",
    "        raise ValueError(\"Could not convert arguments to scoo.\")\n",
    "\n",
    "    return S\n",
    "\n",
    "\n",
    "def _sdense_to_scoo(S: Array, ports_map: Dict[str, int]) -> SCoo:\n",
    "    Sj, Si = jnp.meshgrid(jnp.arange(S.shape[-1]), jnp.arange(S.shape[-2]))\n",
    "    return Si.ravel(), Sj.ravel(), S.reshape(*S.shape[:-2], -1), ports_map\n",
    "\n",
    "\n",
    "def _sdict_to_scoo(sdict: SDict) -> SCoo:\n",
    "    all_ports = {}\n",
    "    for p1, p2 in sdict:\n",
    "        all_ports[p1] = None\n",
    "        all_ports[p2] = None\n",
    "    ports_map = {p: i for i, p in enumerate(all_ports)}\n",
    "    Sx = jnp.stack(jnp.broadcast_arrays(*sdict.values()), -1)\n",
    "    Si = jnp.array([ports_map[p] for p, _ in sdict])\n",
    "    Sj = jnp.array([ports_map[p] for _, p in sdict])\n",
    "    return Si, Sj, Sx, ports_map"
   ]
  },
  {
   "cell_type": "code",
   "execution_count": null,
   "id": "1e97b31c",
   "metadata": {},
   "outputs": [],
   "source": [
    "assert scoo(_scoo) is _scoo\n",
    "assert scoo(_sdict) == (0, 1, 3.0, {\"in0\": 0, \"out0\": 1})\n",
    "Si, Sj, Sx, port_map = scoo(_sdense)  # type: ignore\n",
    "np.testing.assert_array_equal(Si, jnp.array([0, 0, 0, 1, 1, 1, 2, 2, 2]))\n",
    "np.testing.assert_array_equal(Sj, jnp.array([0, 1, 2, 0, 1, 2, 0, 1, 2]))\n",
    "np.testing.assert_array_almost_equal(Sx, jnp.array([0.0, 1.0, 2.0, 3.0, 4.0, 5.0, 6.0, 7.0, 8.0]))\n",
    "assert port_map == {\"in0\": 0, \"in1\": 2, \"out0\": 1}"
   ]
  },
  {
   "cell_type": "markdown",
   "id": "5e58325b",
   "metadata": {},
   "source": [
    "Convert an `SDict`, `SCoo` or `SDense` into an `SDense` (or convert a model generating any of these types into a model generating an `SDense`):"
   ]
  },
  {
   "cell_type": "code",
   "execution_count": null,
   "id": "59c66af9",
   "metadata": {},
   "outputs": [],
   "source": [
    "# exporti\n",
    "\n",
    "\n",
    "@overload\n",
    "def sdense(S: Callable) -> Callable:\n",
    "    ...\n",
    "\n",
    "\n",
    "@overload\n",
    "def sdense(S: SType) -> SDense:\n",
    "    ..."
   ]
  },
  {
   "cell_type": "code",
   "execution_count": null,
   "id": "18a7d28d",
   "metadata": {},
   "outputs": [],
   "source": [
    "# export\n",
    "\n",
    "def sdense(S: Union[Callable, SType]) -> Union[Callable, SDense]:\n",
    "    \"\"\"Convert an `SDict` or `SCoo` to `SDense`\"\"\"\n",
    "\n",
    "    if is_model(S):\n",
    "        model = cast(Model, S)\n",
    "\n",
    "        @functools.wraps(model)\n",
    "        def wrapper(**kwargs):\n",
    "            return sdense(model(**kwargs))\n",
    "\n",
    "        return wrapper\n",
    "\n",
    "    if is_sdict(S):\n",
    "        S = _sdict_to_sdense(cast(SDict, S))\n",
    "    elif is_scoo(S):\n",
    "        S = _scoo_to_sdense(*cast(SCoo, S))\n",
    "    elif is_sdense(S):\n",
    "        S = cast(SDense, S)\n",
    "    else:\n",
    "        raise ValueError(\"Could not convert arguments to sdense.\")\n",
    "\n",
    "    return S\n",
    "\n",
    "\n",
    "def _scoo_to_sdense(\n",
    "    Si: Array, Sj: Array, Sx: Array, ports_map: Dict[str, int]\n",
    ") -> SDense:\n",
    "    n_col = len(ports_map)\n",
    "    S = jnp.zeros((*Sx.shape[:-1], n_col, n_col), dtype=complex)\n",
    "    S = S.at[..., Si, Sj].add(Sx)\n",
    "    return S, ports_map\n",
    "\n",
    "\n",
    "def _sdict_to_sdense(sdict: SDict) -> SDense:\n",
    "    Si, Sj, Sx, ports_map = _sdict_to_scoo(sdict)\n",
    "    return _scoo_to_sdense(Si, Sj, Sx, ports_map)"
   ]
  },
  {
   "cell_type": "code",
   "execution_count": null,
   "id": "084b7ddb",
   "metadata": {},
   "outputs": [],
   "source": [
    "assert sdense(_sdense) is _sdense\n",
    "Sd, port_map = sdense(_scoo)  # type: ignore\n",
    "Sd_ = jnp.array([[3.0 + 0.0j, 0.0 + 0.0j, 0.0 + 0.0j],\n",
    "                 [0.0 + 0.0j, 4.0 + 0.0j, 0.0 + 0.0j],\n",
    "                 [1.0 + 0.0j, 0.0 + 0.0j, 0.0 + 0.0j]])\n",
    "\n",
    "np.testing.assert_array_almost_equal(Sd, Sd_)\n",
    "assert port_map == {\"in0\": 0, \"in1\": 2, \"out0\": 1}"
   ]
  },
  {
   "cell_type": "code",
   "execution_count": null,
   "id": "24e25816",
   "metadata": {},
   "outputs": [],
   "source": [
    "# export\n",
    "\n",
    "def modelfactory(func):\n",
    "    \"\"\"Decorator that marks a function as `ModelFactory`\"\"\"\n",
    "    sig = inspect.signature(func)\n",
    "    if _is_callable_annotation(sig.return_annotation):  # already model factory\n",
    "        return func\n",
    "    func.__signature__ = sig.replace(return_annotation=Model)\n",
    "    return func"
   ]
  }
 ],
 "metadata": {
  "kernelspec": {
   "display_name": "sax",
   "language": "python",
   "name": "sax"
  }
 },
 "nbformat": 4,
 "nbformat_minor": 5
}
