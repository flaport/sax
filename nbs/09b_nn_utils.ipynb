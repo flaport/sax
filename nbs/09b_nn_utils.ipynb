{
 "cells": [
  {
   "cell_type": "code",
   "execution_count": null,
   "id": "f6aa811a",
   "metadata": {},
   "outputs": [],
   "source": [
    "# default_exp nn.utils"
   ]
  },
  {
   "cell_type": "markdown",
   "id": "3ac7a21d",
   "metadata": {},
   "source": [
    "# NN - Utils\n",
    "\n",
    "> loss functions and utilitites for SAX neural networks"
   ]
  },
  {
   "cell_type": "code",
   "execution_count": null,
   "id": "26e72661",
   "metadata": {},
   "outputs": [],
   "source": [
    "# hide\n",
    "import matplotlib.pyplot as plt\n",
    "from fastcore.test import test_eq\n",
    "from pytest import approx, raises\n",
    "\n",
    "import os, sys; sys.stderr = open(os.devnull, \"w\")"
   ]
  },
  {
   "cell_type": "code",
   "execution_count": null,
   "id": "220cf534",
   "metadata": {},
   "outputs": [],
   "source": [
    "# export\n",
    "from __future__ import annotations\n",
    "\n",
    "from collections import namedtuple\n",
    "from typing import Tuple\n",
    "\n",
    "import jax.numpy as jnp\n",
    "import pandas as pd\n",
    "from sax.typing_ import ComplexFloat"
   ]
  },
  {
   "cell_type": "code",
   "execution_count": null,
   "id": "61a03469",
   "metadata": {},
   "outputs": [],
   "source": [
    "# export\n",
    "def cartesian_product(*arrays: ComplexFloat) -> ComplexFloat:\n",
    "    \"\"\"calculate the n-dimensional cartesian product of an arbitrary number of arrays\"\"\"\n",
    "    ixarrays = jnp.ix_(*arrays)\n",
    "    barrays = jnp.broadcast_arrays(*ixarrays)\n",
    "    sarrays = jnp.stack(barrays, -1)\n",
    "    assert isinstance(sarrays, jnp.ndarray)\n",
    "    product = sarrays.reshape(-1, sarrays.shape[-1])\n",
    "    assert isinstance(product, jnp.ndarray)\n",
    "    return product"
   ]
  },
  {
   "cell_type": "code",
   "execution_count": null,
   "id": "2be83fa5",
   "metadata": {},
   "outputs": [],
   "source": [
    "# export\n",
    "def denormalize(x: ComplexFloat, mean: ComplexFloat = 0.0, std: ComplexFloat = 1.0) -> ComplexFloat:\n",
    "    \"\"\"denormalize an array with a given mean and standard deviation\"\"\"\n",
    "    return x * std + mean"
   ]
  },
  {
   "cell_type": "code",
   "execution_count": null,
   "id": "28a67bb4",
   "metadata": {},
   "outputs": [],
   "source": [
    "# exporti\n",
    "norm = namedtuple(\"norm\", (\"mean\", \"std\"))"
   ]
  },
  {
   "cell_type": "code",
   "execution_count": null,
   "id": "ab609c9b",
   "metadata": {},
   "outputs": [],
   "source": [
    "# export\n",
    "def get_normalization(x: ComplexFloat):\n",
    "    \"\"\"Get mean and standard deviation for a given array\"\"\"\n",
    "    if isinstance(x, (complex, float)):\n",
    "        return x, 0.0\n",
    "    return norm(x.mean(0), x.std(0))"
   ]
  },
  {
   "cell_type": "code",
   "execution_count": null,
   "id": "8d23ada4",
   "metadata": {},
   "outputs": [],
   "source": [
    "# export\n",
    "def get_df_columns(df: pd.DataFrame, *names: str) -> Tuple[ComplexFloat, ...]:\n",
    "    \"\"\"Get certain columns from a pandas DataFrame as jax.numpy arrays\"\"\"\n",
    "    tup = namedtuple(\"params\", names)\n",
    "    params_list = []\n",
    "    for name in names:\n",
    "        column_np = df[name].values\n",
    "        column_jnp = jnp.array(column_np)\n",
    "        assert isinstance(column_jnp, jnp.ndarray)\n",
    "        params_list.append(column_jnp.ravel())\n",
    "    return tup(*params_list)"
   ]
  },
  {
   "cell_type": "code",
   "execution_count": null,
   "id": "b93be0b2",
   "metadata": {},
   "outputs": [],
   "source": [
    "# export\n",
    "def normalize(\n",
    "    x: ComplexFloat, mean: ComplexFloat = 0.0, std: ComplexFloat = 1.0\n",
    ") -> ComplexFloat:\n",
    "    \"\"\"normalize an array with a given mean and standard deviation\"\"\"\n",
    "    return (x - mean) / std"
   ]
  }
 ],
 "metadata": {
  "kernelspec": {
   "display_name": "sax",
   "language": "python",
   "name": "sax"
  }
 },
 "nbformat": 4,
 "nbformat_minor": 5
}
