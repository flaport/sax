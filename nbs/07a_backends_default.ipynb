{
 "cells": [
  {
   "cell_type": "code",
   "execution_count": null,
   "id": "4680bd0e",
   "metadata": {},
   "outputs": [],
   "source": [
    "# default_exp backends.default"
   ]
  },
  {
   "cell_type": "markdown",
   "id": "41e0d311",
   "metadata": {},
   "source": [
    "# Backend - default\n",
    "\n",
    "> Default SAX Backend"
   ]
  },
  {
   "cell_type": "code",
   "execution_count": null,
   "id": "9e134758",
   "metadata": {},
   "outputs": [],
   "source": [
    "# hide\n",
    "import matplotlib.pyplot as plt\n",
    "from fastcore.test import test_eq\n",
    "from pytest import approx, raises\n",
    "import jax.numpy as jnp\n",
    "\n",
    "import os, sys; sys.stderr = open(os.devnull, \"w\")"
   ]
  },
  {
   "cell_type": "code",
   "execution_count": null,
   "id": "a3948228",
   "metadata": {},
   "outputs": [],
   "source": [
    "# export\n",
    "from __future__ import annotations\n",
    "\n",
    "from typing import Dict\n",
    "\n",
    "import jax\n",
    "from sax.typing_ import SType, SDict, sdense, sdict"
   ]
  },
  {
   "cell_type": "markdown",
   "id": "d8369d2f-9109-4375-8cb4-6d7ccabbd356",
   "metadata": {},
   "source": [
    "## Citation\n",
    "The default SAX backend is based on the following paper:\n",
    "\n",
    "> Filipsson, Gunnar. \"*A new general computer algorithm for S-matrix calculation of interconnected multiports.*\" 11th European Microwave Conference. IEEE, 1981."
   ]
  },
  {
   "cell_type": "markdown",
   "id": "feea9c4f-0528-44e0-8e87-91234c6d29cc",
   "metadata": {},
   "source": [
    "## Circuit Evaluation"
   ]
  },
  {
   "cell_type": "code",
   "execution_count": null,
   "id": "635246ee",
   "metadata": {},
   "outputs": [],
   "source": [
    "# export\n",
    "\n",
    "def evaluate_circuit(\n",
    "    instances: Dict[str, SType],\n",
    "    connections: Dict[str, str],\n",
    "    ports: Dict[str, str],\n",
    ") -> SDict:\n",
    "    \"\"\"evaluate a circuit for the given sdicts.\"\"\"\n",
    "    \n",
    "    # it's actually easier working w reverse:\n",
    "    reversed_ports = {v: k for k, v in ports.items()}\n",
    "\n",
    "    block_diag = {}\n",
    "    for name, S in instances.items():\n",
    "        block_diag.update(\n",
    "            {(f\"{name},{p1}\", f\"{name},{p2}\"): v for (p1, p2), v in sdict(S).items()}\n",
    "        )\n",
    "\n",
    "    sorted_connections = sorted(connections.items(), key=_connections_sort_key)\n",
    "    all_connected_instances = {k: {k} for k in instances}\n",
    "\n",
    "    for k, l in sorted_connections:\n",
    "        name1, _ = k.split(\",\")\n",
    "        name2, _ = l.split(\",\")\n",
    "\n",
    "        connected_instances = (\n",
    "            all_connected_instances[name1] | all_connected_instances[name2]\n",
    "        )\n",
    "        for name in connected_instances:\n",
    "            all_connected_instances[name] = connected_instances\n",
    "\n",
    "        current_ports = tuple(\n",
    "            p\n",
    "            for instance in connected_instances\n",
    "            for p in set([p for p, _ in block_diag] + [p for _, p in block_diag])\n",
    "            if p.startswith(f\"{instance},\")\n",
    "        )\n",
    "\n",
    "        block_diag.update(_interconnect_ports(block_diag, current_ports, k, l))\n",
    "\n",
    "        for i, j in list(block_diag.keys()):\n",
    "            is_connected = i == k or i == l or j == k or j == l\n",
    "            is_in_output_ports = i in reversed_ports and j in reversed_ports\n",
    "            if is_connected and not is_in_output_ports:\n",
    "                del block_diag[i, j]  # we're no longer interested in these port combinations\n",
    "\n",
    "    circuit_sdict: SDict = {\n",
    "        (reversed_ports[i], reversed_ports[j]): v\n",
    "        for (i, j), v in block_diag.items()\n",
    "        if i in reversed_ports and j in reversed_ports\n",
    "    }\n",
    "    return circuit_sdict\n",
    "\n",
    "\n",
    "def _connections_sort_key(connection):\n",
    "    \"\"\"sort key for sorting a connection dictionary \"\"\"\n",
    "    part1, part2 = connection\n",
    "    name1, _ = part1.split(\",\")\n",
    "    name2, _ = part2.split(\",\")\n",
    "    return (min(name1, name2), max(name1, name2))\n",
    "\n",
    "\n",
    "def _interconnect_ports(block_diag, current_ports, k, l):\n",
    "    \"\"\"interconnect two ports in a given model\n",
    "\n",
    "    > Note: the interconnect algorithm is based on equation 6 of 'Filipsson, Gunnar. \n",
    "      \"A new general computer algorithm for S-matrix calculation of interconnected \n",
    "      multiports.\" 11th European Microwave Conference. IEEE, 1981.'\n",
    "    \"\"\"\n",
    "    current_block_diag = {}\n",
    "    for i in current_ports:\n",
    "        for j in current_ports:\n",
    "            vij = _calculate_interconnected_value(\n",
    "                vij=block_diag.get((i, j), 0.0),\n",
    "                vik=block_diag.get((i, k), 0.0),\n",
    "                vil=block_diag.get((i, l), 0.0),\n",
    "                vkj=block_diag.get((k, j), 0.0),\n",
    "                vkk=block_diag.get((k, k), 0.0),\n",
    "                vkl=block_diag.get((k, l), 0.0),\n",
    "                vlj=block_diag.get((l, j), 0.0),\n",
    "                vlk=block_diag.get((l, k), 0.0),\n",
    "                vll=block_diag.get((l, l), 0.0),\n",
    "            )\n",
    "            current_block_diag[i, j] = vij\n",
    "    return current_block_diag\n",
    "\n",
    "\n",
    "@jax.jit\n",
    "def _calculate_interconnected_value(vij, vik, vil, vkj, vkk, vkl, vlj, vlk, vll):\n",
    "    \"\"\"Calculate an interconnected S-parameter value\n",
    "\n",
    "    Note:\n",
    "        The interconnect algorithm is based on equation 6 in the paper below::\n",
    "\n",
    "          Filipsson, Gunnar. \"A new general computer algorithm for S-matrix calculation\n",
    "          of interconnected multiports.\" 11th European Microwave Conference. IEEE, 1981.\n",
    "    \"\"\"\n",
    "    result = vij + (\n",
    "        vkj * vil * (1 - vlk)\n",
    "        + vlj * vik * (1 - vkl)\n",
    "        + vkj * vll * vik\n",
    "        + vlj * vkk * vil\n",
    "    ) / ((1 - vkl) * (1 - vlk) - vkk * vll)\n",
    "    return result"
   ]
  },
  {
   "cell_type": "markdown",
   "id": "9dabee38",
   "metadata": {},
   "source": [
    "## Example"
   ]
  },
  {
   "cell_type": "code",
   "execution_count": null,
   "id": "5ab7ea6c",
   "metadata": {},
   "outputs": [],
   "source": [
    "wg_sdict: SDict = {\n",
    "    (\"in0\", \"out0\"): 0.5 + 0.86603j,\n",
    "    (\"out0\", \"in0\"): 0.5 + 0.86603j,\n",
    "}\n",
    "\n",
    "τ, κ = 0.5 ** 0.5, 1j * 0.5 ** 0.5\n",
    "dc_sdense: SDense = (\n",
    "    jnp.array([[0, 0, τ, κ], \n",
    "               [0, 0, κ, τ], \n",
    "               [τ, κ, 0, 0], \n",
    "               [κ, τ, 0, 0]]),\n",
    "    {\"in0\": 0, \"in1\": 1, \"out0\": 2, \"out1\": 3},\n",
    ")\n",
    "\n",
    "mzi_sdict: SDict = evaluate_circuit(\n",
    "    instances={\n",
    "        \"dc1\": dc_sdense,\n",
    "        \"wg\": wg_sdict,\n",
    "        \"dc2\": dc_sdense,\n",
    "    },\n",
    "    connections={\n",
    "        \"dc1,out0\": \"wg,in0\",\n",
    "        \"wg,out0\": \"dc2,in0\",\n",
    "        \"dc1,out1\": \"dc2,in1\",\n",
    "    },\n",
    "    ports={\n",
    "        \"in0\": \"dc1,in0\",\n",
    "        \"in1\": \"dc1,in1\",\n",
    "        \"out0\": \"dc2,out0\",\n",
    "        \"out1\": \"dc2,out1\",\n",
    "    }\n",
    ")\n",
    "\n",
    "mzi_sdict"
   ]
  },
  {
   "cell_type": "markdown",
   "id": "48950a3d",
   "metadata": {},
   "source": [
    "## Algorithm Walkthrough\n",
    "\n",
    "> Note: This algorithm gets pretty slow for large circuits. I'd be [very interested in any improvements](#Algorithm-Improvements) that can be made here, especially because - as opposed to the currently faster [KLU backend](backends_klu.html) - the algorithm discussed here is jittable, differentiable and can be used on GPUs."
   ]
  },
  {
   "cell_type": "markdown",
   "id": "81e28766",
   "metadata": {},
   "source": [
    "Let's walk through all the steps of this algorithm. We'll do this for a simple MZI circuit, given by two directional couplers characterised by `dc_sdense` with a phase shifting waveguide in between `wg_sdict`:"
   ]
  },
  {
   "cell_type": "code",
   "execution_count": null,
   "id": "e2bdfbf4",
   "metadata": {},
   "outputs": [],
   "source": [
    "instances={\n",
    "    \"dc1\": dc_sdense,\n",
    "    \"wg\": wg_sdict,\n",
    "    \"dc2\": dc_sdense,\n",
    "}\n",
    "connections={\n",
    "    \"dc1,out0\": \"wg,in0\",\n",
    "    \"wg,out0\": \"dc2,in0\",\n",
    "    \"dc1,out1\": \"dc2,in1\",\n",
    "}\n",
    "ports={\n",
    "    \"in0\": \"dc1,in0\",\n",
    "    \"in1\": \"dc1,in1\",\n",
    "    \"out0\": \"dc2,out0\",\n",
    "    \"out1\": \"dc2,out1\",\n",
    "}"
   ]
  },
  {
   "cell_type": "markdown",
   "id": "6ef72161",
   "metadata": {},
   "source": [
    "as a first step, we construct the `reversed_ports`, it's actually easier to work with `reversed_ports` (we chose the opposite convention in the netlist definition to adhere to the GDSFactory netlist convention):"
   ]
  },
  {
   "cell_type": "code",
   "execution_count": null,
   "id": "70302612",
   "metadata": {},
   "outputs": [],
   "source": [
    "reversed_ports = {v: k for k, v in ports.items()}"
   ]
  },
  {
   "cell_type": "markdown",
   "id": "78676045",
   "metadata": {},
   "source": [
    "The first real step of the algorithm is to create the 'block diagonal sdict`:"
   ]
  },
  {
   "cell_type": "code",
   "execution_count": null,
   "id": "0ff6149f",
   "metadata": {},
   "outputs": [],
   "source": [
    "block_diag = {}\n",
    "for name, S in instances.items():\n",
    "    block_diag.update(\n",
    "        {(f\"{name},{p1}\", f\"{name},{p2}\"): v for (p1, p2), v in sdict(S).items()}\n",
    "    )\n"
   ]
  },
  {
   "cell_type": "markdown",
   "id": "c4721548",
   "metadata": {},
   "source": [
    "we can optionally filter out zeros from the resulting block_diag representation. Just note that this will make the resuling function unjittable (the resulting 'shape' (i.e. keys) of the dictionary would depend on the data itself, which is not allowed in JAX jit). We're doing it here to avoid printing zeros but **internally this is not done by default**."
   ]
  },
  {
   "cell_type": "code",
   "execution_count": null,
   "id": "cfce53c1",
   "metadata": {},
   "outputs": [],
   "source": [
    "block_diag = {k: v for k, v in block_diag.items() if jnp.abs(v) > 1e-10}\n",
    "print(len(block_diag))\n",
    "block_diag"
   ]
  },
  {
   "cell_type": "markdown",
   "id": "1963694a",
   "metadata": {},
   "source": [
    "next, we sort the connections such that similar components are grouped together:"
   ]
  },
  {
   "cell_type": "code",
   "execution_count": null,
   "id": "9859c2d4",
   "metadata": {},
   "outputs": [],
   "source": [
    "sorted_connections = sorted(connections.items(), key=_connections_sort_key)\n",
    "sorted_connections"
   ]
  },
  {
   "cell_type": "markdown",
   "id": "c75fbf65",
   "metadata": {},
   "source": [
    "Now we iterate over the sorted connections and connect components as they come in. Connected components take over the name of the first component in the connection, but we keep a set of components belonging to that key in `all_connected_instances`.\n",
    "\n",
    "This is how this `all_connected_instances` dictionary looks initially."
   ]
  },
  {
   "cell_type": "code",
   "execution_count": null,
   "id": "cf30668c",
   "metadata": {},
   "outputs": [],
   "source": [
    "all_connected_instances = {k: {k} for k in instances}\n",
    "all_connected_instances"
   ]
  },
  {
   "cell_type": "markdown",
   "id": "1152056b",
   "metadata": {},
   "source": [
    "Normally we would loop over every connection in `sorted_connections` now, but let's just go through it once at first:"
   ]
  },
  {
   "cell_type": "code",
   "execution_count": null,
   "id": "faebbe5f",
   "metadata": {},
   "outputs": [],
   "source": [
    "# for k, l in sorted_connections:\n",
    "k, l = sorted_connections[0]\n",
    "k, l"
   ]
  },
  {
   "cell_type": "markdown",
   "id": "16a2266c",
   "metadata": {},
   "source": [
    "`k` and `l` are the S-matrix indices we're trying to connect. Note that in our sparse `SDict` notation these S-matrix indices are in fact equivalent with the port names `('dc1,out1', 'dc2,in1')`!"
   ]
  },
  {
   "cell_type": "markdown",
   "id": "0eaf4add",
   "metadata": {},
   "source": [
    "first we split the connection string into an instance name and a port name (we don't use the port name yet):"
   ]
  },
  {
   "cell_type": "code",
   "execution_count": null,
   "id": "667d1a3c",
   "metadata": {},
   "outputs": [],
   "source": [
    "name1, _ = k.split(\",\")\n",
    "name2, _ = l.split(\",\")"
   ]
  },
  {
   "cell_type": "markdown",
   "id": "16e8bbe8",
   "metadata": {},
   "source": [
    "We then obtain the new set of connected instances."
   ]
  },
  {
   "cell_type": "code",
   "execution_count": null,
   "id": "51bf8615",
   "metadata": {},
   "outputs": [],
   "source": [
    "connected_instances = all_connected_instances[name1] | all_connected_instances[name2]\n",
    "connected_instances"
   ]
  },
  {
   "cell_type": "markdown",
   "id": "676c8d61",
   "metadata": {},
   "source": [
    "We then iterate over each of the components in this set and make sure each of the component names in that set maps to that set (yes, I know... confusing). We do this to be able to keep track with which components each of the components in the circuit is currently already connected to."
   ]
  },
  {
   "cell_type": "code",
   "execution_count": null,
   "id": "d322e86c",
   "metadata": {},
   "outputs": [],
   "source": [
    "for name in connected_instances:\n",
    "    all_connected_instances[name] = connected_instances\n",
    "    \n",
    "all_connected_instances"
   ]
  },
  {
   "cell_type": "markdown",
   "id": "b79f49f8",
   "metadata": {},
   "source": [
    "now we need to obtain all the ports of the currently connected instances."
   ]
  },
  {
   "cell_type": "code",
   "execution_count": null,
   "id": "61b3cfab",
   "metadata": {},
   "outputs": [],
   "source": [
    "current_ports = tuple(\n",
    "    p\n",
    "    for instance in connected_instances\n",
    "    for p in set([p for p, _ in block_diag] + [p for _, p in block_diag])\n",
    "    if p.startswith(f\"{instance},\")\n",
    ")\n",
    "\n",
    "current_ports"
   ]
  },
  {
   "cell_type": "markdown",
   "id": "d0e87449",
   "metadata": {},
   "source": [
    "Now the [Gunnar Algorithm](#citation) is used. Given a (block-diagonal) 'S-matrix' `block_diag` and a 'connection matrix' `current_ports` we can interconnect port `k` and `l` as follows:\n",
    "\n",
    "> Note: some creative freedom is used here. In SAX, the matrices we're talking about are in fact represented by a sparse dictionary (an `SDict`), i.e. similar to a COO sparse matrix for which the indices are the port names."
   ]
  },
  {
   "cell_type": "code",
   "execution_count": null,
   "id": "431649e5",
   "metadata": {},
   "outputs": [],
   "source": [
    "def _interconnect_ports(block_diag, current_ports, k, l):\n",
    "    current_block_diag = {}\n",
    "    for i in current_ports:\n",
    "        for j in current_ports:\n",
    "            vij = _calculate_interconnected_value(\n",
    "                vij=block_diag.get((i, j), 0.0),\n",
    "                vik=block_diag.get((i, k), 0.0),\n",
    "                vil=block_diag.get((i, l), 0.0),\n",
    "                vkj=block_diag.get((k, j), 0.0),\n",
    "                vkk=block_diag.get((k, k), 0.0),\n",
    "                vkl=block_diag.get((k, l), 0.0),\n",
    "                vlj=block_diag.get((l, j), 0.0),\n",
    "                vlk=block_diag.get((l, k), 0.0),\n",
    "                vll=block_diag.get((l, l), 0.0),\n",
    "            )\n",
    "            current_block_diag[i, j] = vij\n",
    "    return current_block_diag\n",
    "\n",
    "@jax.jit\n",
    "def _calculate_interconnected_value(vij, vik, vil, vkj, vkk, vkl, vlj, vlk, vll):\n",
    "    result = vij + (\n",
    "        vkj * vil * (1 - vlk)\n",
    "        + vlj * vik * (1 - vkl)\n",
    "        + vkj * vll * vik\n",
    "        + vlj * vkk * vil\n",
    "    ) / ((1 - vkl) * (1 - vlk) - vkk * vll)\n",
    "    return result\n",
    "\n",
    "block_diag.update(_interconnect_ports(block_diag, current_ports, k, l))"
   ]
  },
  {
   "cell_type": "markdown",
   "id": "988c08d9",
   "metadata": {},
   "source": [
    "Just as before, we're filtering the zeros from the sparse representation (remember, internally this is **not done by default**)."
   ]
  },
  {
   "cell_type": "code",
   "execution_count": null,
   "id": "e9ac8164",
   "metadata": {},
   "outputs": [],
   "source": [
    "block_diag = {k: v for k, v in block_diag.items() if jnp.abs(v) > 1e-10}\n",
    "print(len(block_diag))\n",
    "block_diag"
   ]
  },
  {
   "cell_type": "markdown",
   "id": "db0cd151",
   "metadata": {},
   "source": [
    "This is the resulting block-diagonal matrix after interconnecting two ports (i.e. basically saying that those two ports are the same port). Because these ports are now connected we should actually remove them from the S-matrix representation (they are integrated into the S-parameters of the other connections):"
   ]
  },
  {
   "cell_type": "code",
   "execution_count": null,
   "id": "311b034f",
   "metadata": {},
   "outputs": [],
   "source": [
    "for i, j in list(block_diag.keys()):\n",
    "    is_connected = i == k or i == l or j == k or j == l\n",
    "    is_in_output_ports = i in reversed_ports and j in reversed_ports\n",
    "    if is_connected and not is_in_output_ports:\n",
    "        del block_diag[i, j]  # we're no longer interested in these port combinations\n",
    "        \n",
    "print(len(block_diag))\n",
    "block_diag"
   ]
  },
  {
   "cell_type": "markdown",
   "id": "b6badcb7",
   "metadata": {},
   "source": [
    "Note that this deletion of values **does NOT** make this operation un-jittable. The deletion depends on the ports of the dictionary (i.e. on the dictionary 'shape'), not on the values."
   ]
  },
  {
   "cell_type": "markdown",
   "id": "89e775cd",
   "metadata": {},
   "source": [
    "We now basically have to do those steps again for all other connections:"
   ]
  },
  {
   "cell_type": "code",
   "execution_count": null,
   "id": "25eac933",
   "metadata": {},
   "outputs": [],
   "source": [
    "#for k, l in sorted_connections: \n",
    "for k, l in sorted_connections[1:]: # we just did the first iteration of this loop above...\n",
    "    name1, _ = k.split(\",\")\n",
    "    name2, _ = l.split(\",\")\n",
    "    connected_instances = all_connected_instances[name1] | all_connected_instances[name2]\n",
    "    for name in connected_instances:\n",
    "        all_connected_instances[name] = connected_instances\n",
    "    current_ports = tuple(\n",
    "        p\n",
    "        for instance in connected_instances\n",
    "        for p in set([p for p, _ in block_diag] + [p for _, p in block_diag])\n",
    "        if p.startswith(f\"{instance},\")\n",
    "    )\n",
    "    block_diag.update(_interconnect_ports(block_diag, current_ports, k, l))\n",
    "    for i, j in list(block_diag.keys()):\n",
    "        is_connected = i == k or i == l or j == k or j == l\n",
    "        is_in_output_ports = i in reversed_ports and j in reversed_ports\n",
    "        if is_connected and not is_in_output_ports:\n",
    "            del block_diag[i, j]  # we're no longer interested in these port combinations"
   ]
  },
  {
   "cell_type": "markdown",
   "id": "36eb82fc",
   "metadata": {},
   "source": [
    "This is the final MZI matrix we're getting:"
   ]
  },
  {
   "cell_type": "code",
   "execution_count": null,
   "id": "d1c0367e",
   "metadata": {},
   "outputs": [],
   "source": [
    "block_diag"
   ]
  },
  {
   "cell_type": "markdown",
   "id": "03f67ec6",
   "metadata": {},
   "source": [
    "All that's left is to rename these internal ports of the format `{instance},{port}` into output ports of the resulting circuit:"
   ]
  },
  {
   "cell_type": "code",
   "execution_count": null,
   "id": "cf5ea4af",
   "metadata": {},
   "outputs": [],
   "source": [
    "circuit_sdict: SDict = {\n",
    "    (reversed_ports[i], reversed_ports[j]): v\n",
    "    for (i, j), v in block_diag.items()\n",
    "    if i in reversed_ports and j in reversed_ports\n",
    "}\n",
    "circuit_sdict"
   ]
  },
  {
   "cell_type": "markdown",
   "id": "7dc6505e",
   "metadata": {},
   "source": [
    "And that's it. We evaluated the `SDict` of the full circuit."
   ]
  },
  {
   "cell_type": "markdown",
   "id": "170db10b",
   "metadata": {},
   "source": [
    "## Algorithm Improvements"
   ]
  },
  {
   "cell_type": "markdown",
   "id": "4ed0e69a",
   "metadata": {},
   "source": [
    "This algorithm is \n",
    "\n",
    "* pretty fast for small circuits 🙂\n",
    "* jittable 🙂\n",
    "* differentiable 🙂\n",
    "* GPU-compatible 🙂\n",
    "\n",
    "This algorithm is however:\n",
    "\n",
    "* **really slow** for large circuits 😥\n",
    "* **pretty slow** to jit the resulting circuit function 😥\n",
    "* **pretty slow** to differentiate the resulting circuit function 😥\n",
    "\n",
    "There are probably still plenty of improvements possible for this algorithm:\n",
    "\n",
    "* **¿** Network analysis (ft. NetworkX ?) to obtain which ports of the block diagonal representation are relevant to obtain the output connection **?**\n",
    "* **¿** Smarter ordering of connections to always have the minimum amount of ports in the intermediate block-diagonal representation **?**\n",
    "* **¿** Using `jax.lax.scan` in stead of python native for-loops in `_interconnect_ports` **?**\n",
    "* **¿** ... **?**\n",
    "\n",
    "Bottom line is... Do you know how to improve this algorithm or how to implement the above suggestions? Please open a Merge Request!"
   ]
  }
 ],
 "metadata": {
  "kernelspec": {
   "display_name": "sax",
   "language": "python",
   "name": "sax"
  }
 },
 "nbformat": 4,
 "nbformat_minor": 5
}
