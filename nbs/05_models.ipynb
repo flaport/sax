{
 "cells": [
  {
   "cell_type": "code",
   "execution_count": null,
   "id": "8c16afd7",
   "metadata": {},
   "outputs": [],
   "source": [
    "# default_exp models"
   ]
  },
  {
   "cell_type": "markdown",
   "id": "986cb864",
   "metadata": {},
   "source": [
    "# Models\n",
    "\n",
    "> Default SAX Models"
   ]
  },
  {
   "cell_type": "code",
   "execution_count": null,
   "id": "00e62ae1",
   "metadata": {},
   "outputs": [],
   "source": [
    "# hide\n",
    "import matplotlib.pyplot as plt\n",
    "from fastcore.test import test_eq\n",
    "from pytest import approx, raises\n",
    "\n",
    "import os, sys; sys.stderr = open(os.devnull, \"w\")"
   ]
  },
  {
   "cell_type": "code",
   "execution_count": null,
   "id": "7b9be8b2",
   "metadata": {},
   "outputs": [],
   "source": [
    "# export\n",
    "from __future__ import annotations\n",
    "\n",
    "from typing import Optional, Tuple\n",
    "\n",
    "import jax\n",
    "import jax.numpy as jnp\n",
    "import sax\n",
    "from sax.typing_ import Model, SCoo, SDict\n",
    "from sax.utils import get_inputs_outputs, reciprocal"
   ]
  },
  {
   "cell_type": "markdown",
   "id": "efa9b619",
   "metadata": {},
   "source": [
    "## Standard Models"
   ]
  },
  {
   "cell_type": "code",
   "execution_count": null,
   "id": "29f9ef13",
   "metadata": {},
   "outputs": [],
   "source": [
    "# export\n",
    "\n",
    "def straight(\n",
    "    *,\n",
    "    wl: float = 1.55,\n",
    "    wl0: float = 1.55,\n",
    "    neff: float = 2.34,\n",
    "    ng: float = 3.4,\n",
    "    length: float = 10.0,\n",
    "    loss: float = 0.0\n",
    ") -> SDict:\n",
    "    \"\"\"a simple straight waveguide model\"\"\"\n",
    "    dwl = wl - wl0\n",
    "    dneff_dwl = (ng - neff) / wl0\n",
    "    neff = neff - dwl * dneff_dwl\n",
    "    phase = 2 * jnp.pi * neff * length / wl\n",
    "    amplitude = jnp.asarray(10 ** (-loss * length / 20), dtype=complex)\n",
    "    transmission =  amplitude * jnp.exp(1j * phase)\n",
    "    sdict = reciprocal(\n",
    "        {\n",
    "            (\"in0\", \"out0\"): transmission,\n",
    "        }\n",
    "    )\n",
    "    return sdict"
   ]
  },
  {
   "cell_type": "code",
   "execution_count": null,
   "id": "a99cec57",
   "metadata": {},
   "outputs": [],
   "source": [
    "straight()"
   ]
  },
  {
   "cell_type": "code",
   "execution_count": null,
   "id": "ce350ff4",
   "metadata": {},
   "outputs": [],
   "source": [
    "# export\n",
    "\n",
    "def coupler(*, coupling: float = 0.5) -> SDict:\n",
    "    \"\"\"a simple coupler model\"\"\"\n",
    "    kappa = coupling ** 0.5\n",
    "    tau = (1 - coupling) ** 0.5\n",
    "    sdict = reciprocal(\n",
    "        {\n",
    "            (\"in0\", \"out0\"): tau,\n",
    "            (\"in0\", \"out1\"): 1j * kappa,\n",
    "            (\"in1\", \"out0\"): 1j * kappa,\n",
    "            (\"in1\", \"out1\"): tau,\n",
    "        }\n",
    "    )\n",
    "    return sdict"
   ]
  },
  {
   "cell_type": "code",
   "execution_count": null,
   "id": "5fd87a22",
   "metadata": {},
   "outputs": [],
   "source": [
    "coupler()"
   ]
  },
  {
   "cell_type": "markdown",
   "id": "ca06c12f",
   "metadata": {},
   "source": [
    "## Model Factories"
   ]
  },
  {
   "cell_type": "code",
   "execution_count": null,
   "id": "d7f79da4-04c9-4284-9ef9-88938c05707d",
   "metadata": {},
   "outputs": [],
   "source": [
    "# exporti\n",
    "\n",
    "def _validate_ports(ports, num_inputs, num_outputs, diagonal) -> Tuple[Tuple[str,...], Tuple[str,...], int, int]:\n",
    "    if ports is None:\n",
    "        if num_inputs is None or num_outputs is None:\n",
    "            raise ValueError(\n",
    "                \"if not ports given, you must specify how many input ports \"\n",
    "                \"and how many output ports a model has.\"\n",
    "            )\n",
    "        input_ports = [f\"in{i}\" for i in range(num_inputs)]\n",
    "        output_ports = [f\"out{i}\" for i in range(num_outputs)]\n",
    "    else:\n",
    "        if num_inputs is not None:\n",
    "            if num_outputs is None:\n",
    "                raise ValueError(\n",
    "                    \"if num_inputs is given, num_outputs should be given as well.\"\n",
    "                )\n",
    "        if num_outputs is not None:\n",
    "            if num_inputs is None:\n",
    "                raise ValueError(\n",
    "                    \"if num_outputs is given, num_inputs should be given as well.\"\n",
    "                )\n",
    "        if num_inputs is not None and num_outputs is not None:\n",
    "            if num_inputs + num_outputs != len(ports):\n",
    "                raise ValueError(\"num_inputs + num_outputs != len(ports)\")\n",
    "            input_ports = ports[:num_inputs]\n",
    "            output_ports = ports[num_inputs:]\n",
    "        else:\n",
    "            input_ports, output_ports = get_inputs_outputs(ports)\n",
    "            num_inputs = len(input_ports)\n",
    "            num_outputs = len(output_ports)\n",
    "            \n",
    "    if diagonal:\n",
    "        if num_inputs != num_outputs:\n",
    "            raise ValueError(\n",
    "                \"Can only have a diagonal passthru if number of input ports equals the number of output ports!\"\n",
    "            )\n",
    "    return input_ports, output_ports, num_inputs, num_outputs"
   ]
  },
  {
   "cell_type": "code",
   "execution_count": null,
   "id": "90193d56",
   "metadata": {},
   "outputs": [],
   "source": [
    "# export\n",
    "\n",
    "@sax.cache\n",
    "def unitary(\n",
    "    num_inputs: Optional[int] = None,\n",
    "    num_outputs: Optional[int] = None,\n",
    "    ports: Optional[Tuple[str, ...]] = None,\n",
    "    *,\n",
    "    jit=True,\n",
    "    reciprocal=True,\n",
    "    diagonal=False,\n",
    ") -> Model:\n",
    "    input_ports, output_ports, num_inputs, num_outputs = _validate_ports(ports, num_inputs, num_outputs, diagonal)\n",
    "    assert num_inputs is not None and num_outputs is not None\n",
    "    \n",
    "    # let's create the squared S-matrix:\n",
    "    N = max(num_inputs, num_outputs)\n",
    "    S = jnp.zeros((2*N, 2*N), dtype=float)\n",
    "\n",
    "    if not diagonal:\n",
    "        S = S.at[:N, N:].set(1)\n",
    "    else:\n",
    "        r = jnp.arange(N, dtype=int) # reciprocal only works if num_inputs == num_outputs!\n",
    "        S = S.at[r, N+r].set(1)\n",
    "\n",
    "    if reciprocal:\n",
    "        if not diagonal:\n",
    "            S = S.at[N:, :N].set(1)\n",
    "        else:\n",
    "            r = jnp.arange(N, dtype=int) # reciprocal only works if num_inputs == num_outputs!\n",
    "            S = S.at[N+r, r].set(1)\n",
    "\n",
    "    # Now we need to normalize the squared S-matrix\n",
    "    U, s, V = jnp.linalg.svd(S, full_matrices=False)\n",
    "    S = jnp.sqrt(U@jnp.diag(jnp.where(s > 1e-12, 1, 0))@V)\n",
    "    \n",
    "    # Now create subset of this matrix we're interested in:\n",
    "    r = jnp.concatenate([jnp.arange(num_inputs, dtype=int), N+jnp.arange(num_outputs, dtype=int)], 0)\n",
    "    S = S[r, :][:, r]\n",
    "\n",
    "    # let's convert it in SCOO format:\n",
    "    Si, Sj = jnp.where(S > 1e-6)\n",
    "    Sx = S[Si, Sj]\n",
    "    \n",
    "    # the last missing piece is a port map:\n",
    "    pm = {\n",
    "        **{p: i for i, p in enumerate(input_ports)},\n",
    "        **{p: i + num_inputs for i, p in enumerate(output_ports)},\n",
    "    }\n",
    "    \n",
    "    def func(wl: float = 1.5) -> SCoo:\n",
    "        wl_ = jnp.asarray(wl)\n",
    "        Sx_ = jnp.broadcast_to(Sx, (*wl_.shape, *Sx.shape))\n",
    "        return Si, Sj, Sx_, pm\n",
    "\n",
    "    func.__name__ = f\"unitary_{num_inputs}_{num_outputs}\"\n",
    "    func.__qualname__ = f\"unitary_{num_inputs}_{num_outputs}\"\n",
    "    if jit:\n",
    "        return jax.jit(func)\n",
    "    return func"
   ]
  },
  {
   "cell_type": "markdown",
   "id": "327febf2-70d5-48ed-8b39-bac2d9727db5",
   "metadata": {},
   "source": [
    "A unitary model returns an `SCoo` by default:"
   ]
  },
  {
   "cell_type": "code",
   "execution_count": null,
   "id": "e95bacdd",
   "metadata": {},
   "outputs": [],
   "source": [
    "unitary_model = unitary(2, 2)\n",
    "unitary_model() # a unitary model returns an SCoo by default"
   ]
  },
  {
   "cell_type": "markdown",
   "id": "01ff2567-9b0e-4686-acb4-47cfb11b06ce",
   "metadata": {},
   "source": [
    "As you probably already know, it's very easy to convert a model returning any `Stype` into a model returning an `SDict` as follows:"
   ]
  },
  {
   "cell_type": "code",
   "execution_count": null,
   "id": "260dda8c-7e44-4f3f-b96c-e742daaf2885",
   "metadata": {},
   "outputs": [],
   "source": [
    "unitary_sdict_model = sax.sdict(unitary_model)\n",
    "unitary_sdict_model()"
   ]
  },
  {
   "cell_type": "markdown",
   "id": "e9a1a46b-b10a-471b-b835-7b6d8d49175a",
   "metadata": {},
   "source": [
    "If we need custom port names, we can also just specify them explicitly:"
   ]
  },
  {
   "cell_type": "code",
   "execution_count": null,
   "id": "66abe9b0",
   "metadata": {},
   "outputs": [],
   "source": [
    "unitary_model = unitary(ports=(\"in0\", \"in1\", \"out0\", \"out1\"))\n",
    "unitary_model()"
   ]
  },
  {
   "cell_type": "markdown",
   "id": "ebf14c1c-ccfb-44e6-8572-18b366ffab91",
   "metadata": {},
   "source": [
    "A unitary model will by default split a signal at an input port equally over all output ports. However, if there are an equal number of input ports as output ports we can in stead create a passthru by setting the `diagonal` flag to `True`:"
   ]
  },
  {
   "cell_type": "code",
   "execution_count": null,
   "id": "7c1d61a3",
   "metadata": {},
   "outputs": [],
   "source": [
    "passthru_model = unitary(2, 2, diagonal=True)\n",
    "sax.sdict(passthru_model())"
   ]
  },
  {
   "cell_type": "code",
   "execution_count": null,
   "id": "7f93b145",
   "metadata": {},
   "outputs": [],
   "source": [
    "ports_in=['in0']\n",
    "ports_out=['out0', 'out1', 'out2', 'out3', 'out4']\n",
    "model = unitary(\n",
    "    ports=tuple(ports_in+ports_out), jit=True, reciprocal=True\n",
    ")\n",
    "model = sax.sdict(model)\n",
    "model()"
   ]
  },
  {
   "cell_type": "markdown",
   "id": "8b149d44-5487-4e50-a2f2-1ad0aca99dac",
   "metadata": {},
   "source": [
    "Because this is a pretty common usecase we have a dedicated model factory for this as well. This passthru component just takes the number of links (`'in{i}' -> 'out{i]'`) as input. Alternatively, as before, one can also specify the port names directly but one needs to ensure that `len(ports) == 2*num_links`."
   ]
  },
  {
   "cell_type": "code",
   "execution_count": null,
   "id": "a4e9f36e-bdfb-419b-9e8d-786e4bf773ca",
   "metadata": {},
   "outputs": [],
   "source": [
    "# export\n",
    "@sax.cache\n",
    "def passthru(\n",
    "    num_links: Optional[int] = None,\n",
    "    ports: Optional[Tuple[str, ...]] = None,\n",
    "    *,\n",
    "    jit=True,\n",
    "    reciprocal=True,\n",
    ") -> Model:\n",
    "    passthru = unitary(num_links, num_links, ports, jit=jit, reciprocal=reciprocal, diagonal=True)\n",
    "    passthru.__name__ = f\"passthru_{num_links}_{num_links}\"\n",
    "    passthru.__qualname__ = f\"passthru_{num_links}_{num_links}\"\n",
    "    if jit:\n",
    "        return jax.jit(passthru)\n",
    "    return passthru"
   ]
  },
  {
   "cell_type": "code",
   "execution_count": null,
   "id": "9e8b6cd7-56d4-4697-9a6e-33c929f3d853",
   "metadata": {},
   "outputs": [],
   "source": [
    "passthru_model = passthru(3)\n",
    "passthru_sdict_model = sax.sdict(passthru_model)\n",
    "passthru_sdict_model()"
   ]
  },
  {
   "cell_type": "code",
   "execution_count": null,
   "id": "690e718c-2d84-4177-b8ad-ff39cf8c4691",
   "metadata": {},
   "outputs": [],
   "source": [
    "mzi = sax.circuit(\n",
    "    instances={\n",
    "        \"lft\": unitary(1, 2),\n",
    "        \"top\": unitary(1, 1),\n",
    "        \"rgt\": unitary(1, 2),\n",
    "    },\n",
    "    connections={\n",
    "        \"lft,out0\": \"rgt,out0\",\n",
    "        \"lft,out1\": \"top,in0\",\n",
    "        \"top,out0\": \"rgt,out1\",\n",
    "    },\n",
    "    ports = {\n",
    "        \"in0\": \"lft,in0\",\n",
    "        \"out0\": \"rgt,in0\",\n",
    "    }\n",
    ")\n",
    "mzi()"
   ]
  },
  {
   "cell_type": "code",
   "execution_count": null,
   "id": "c68a8993-53e8-4b7c-ac34-62383bae4e2f",
   "metadata": {},
   "outputs": [],
   "source": [
    "# export\n",
    "\n",
    "@sax.cache\n",
    "def copier(\n",
    "    num_inputs: Optional[int] = None,\n",
    "    num_outputs: Optional[int] = None,\n",
    "    ports: Optional[Tuple[str, ...]] = None,\n",
    "    *,\n",
    "    jit=True,\n",
    "    reciprocal=True,\n",
    "    diagonal=False,\n",
    ") -> Model:\n",
    "    input_ports, output_ports, num_inputs, num_outputs = _validate_ports(ports, num_inputs, num_outputs, diagonal)\n",
    "    assert num_inputs is not None and num_outputs is not None\n",
    "    \n",
    "    # let's create the squared S-matrix:\n",
    "    S = jnp.zeros((num_inputs+num_outputs, num_inputs+num_outputs), dtype=float)\n",
    "\n",
    "    if not diagonal:\n",
    "        S = S.at[:num_inputs, num_inputs:].set(1)\n",
    "    else:\n",
    "        r = jnp.arange(num_inputs, dtype=int) # == range(num_outputs) # reciprocal only works if num_inputs == num_outputs!\n",
    "        S = S.at[r, num_inputs+r].set(1)\n",
    "\n",
    "    if reciprocal:\n",
    "        if not diagonal:\n",
    "            S = S.at[num_inputs:, :num_inputs].set(1)\n",
    "        else:\n",
    "            r = jnp.arange(num_inputs, dtype=int) # == range(num_outputs) # reciprocal only works if num_inputs == num_outputs!\n",
    "            S = S.at[num_inputs+r, r].set(1)\n",
    "\n",
    "    # let's convert it in SCOO format:\n",
    "    Si, Sj = jnp.where(S > 1e-6)\n",
    "    Sx = S[Si, Sj]\n",
    "    \n",
    "    # the last missing piece is a port map:\n",
    "    pm = {\n",
    "        **{p: i for i, p in enumerate(input_ports)},\n",
    "        **{p: i + num_inputs for i, p in enumerate(output_ports)},\n",
    "    }\n",
    "    \n",
    "    def func(wl: float = 1.5) -> SCoo:\n",
    "        wl_ = jnp.asarray(wl)\n",
    "        Sx_ = jnp.broadcast_to(Sx, (*wl_.shape, *Sx.shape))\n",
    "        return Si, Sj, Sx_, pm\n",
    "\n",
    "    func.__name__ = f\"unitary_{num_inputs}_{num_outputs}\"\n",
    "    func.__qualname__ = f\"unitary_{num_inputs}_{num_outputs}\"\n",
    "    if jit:\n",
    "        return jax.jit(func)\n",
    "    return func"
   ]
  },
  {
   "cell_type": "markdown",
   "id": "77014d0f-1a08-4b4b-a011-cf11cd9684b8",
   "metadata": {},
   "source": [
    "A copier model is like a unitary model, but copies the input signal over all output signals. Hence, if the model has multiple output ports, this model can be considered to introduce gain. That said, it can sometimes be a useful component."
   ]
  },
  {
   "cell_type": "code",
   "execution_count": null,
   "id": "c2a61a9f-51ea-455f-a66f-94719b43520e",
   "metadata": {},
   "outputs": [],
   "source": [
    "copier_model = copier(2, 2)\n",
    "copier_model() # a copier model returns an SCoo by default"
   ]
  },
  {
   "cell_type": "markdown",
   "id": "fbd51c6c-c059-4717-9dae-447becc7e8d5",
   "metadata": {},
   "source": [
    "As you probably already know, it's very easy to convert a model returning any `Stype` into a model returning an `SDict` as follows:"
   ]
  },
  {
   "cell_type": "code",
   "execution_count": null,
   "id": "becda099-b5d9-494c-a6b2-9828be10c4a5",
   "metadata": {},
   "outputs": [],
   "source": [
    "copier_sdict_model = sax.sdict(copier_model)\n",
    "copier_sdict_model()"
   ]
  },
  {
   "cell_type": "markdown",
   "id": "1ad16d1b-f685-4ab9-a8c4-41efbbdae4fa",
   "metadata": {},
   "source": [
    "If we need custom port names, we can also just specify them explicitly:"
   ]
  },
  {
   "cell_type": "code",
   "execution_count": null,
   "id": "297d1e45-b881-440b-b887-b38c5517596e",
   "metadata": {},
   "outputs": [],
   "source": [
    "copier_model = copier(ports=(\"in0\", \"in1\", \"out0\", \"out1\"))\n",
    "copier_model()"
   ]
  },
  {
   "cell_type": "code",
   "execution_count": null,
   "id": "608d7114-03ac-4f5f-9790-cf65379d81dd",
   "metadata": {},
   "outputs": [],
   "source": [
    "ports_in=['in0']\n",
    "ports_out=['out0', 'out1', 'out2', 'out3', 'out4']\n",
    "model = unitary(\n",
    "    ports=tuple(ports_in+ports_out), jit=True, reciprocal=True\n",
    ")\n",
    "model = sax.sdict(model)\n",
    "model()"
   ]
  },
  {
   "cell_type": "markdown",
   "id": "6d024e5b-95a9-44e5-9dbc-4980249e73a7",
   "metadata": {},
   "source": [
    "Because this is a pretty common usecase we have a dedicated model factory for this as well. This passthru component just takes the number of links (`'in{i}' -> 'out{i]'`) as input. Alternatively, as before, one can also specify the port names directly but one needs to ensure that `len(ports) == 2*num_links`."
   ]
  },
  {
   "cell_type": "code",
   "execution_count": null,
   "id": "fa72677c-b346-43a1-85b9-8171fa3e6cef",
   "metadata": {},
   "outputs": [],
   "source": [
    "# export\n",
    "@sax.cache\n",
    "def passthru(\n",
    "    num_links: Optional[int] = None,\n",
    "    ports: Optional[Tuple[str, ...]] = None,\n",
    "    *,\n",
    "    jit=True,\n",
    "    reciprocal=True,\n",
    ") -> Model:\n",
    "    passthru = unitary(num_links, num_links, ports, jit=jit, reciprocal=reciprocal, diagonal=True)\n",
    "    passthru.__name__ = f\"passthru_{num_links}_{num_links}\"\n",
    "    passthru.__qualname__ = f\"passthru_{num_links}_{num_links}\"\n",
    "    if jit:\n",
    "        return jax.jit(passthru)\n",
    "    return passthru"
   ]
  },
  {
   "cell_type": "code",
   "execution_count": null,
   "id": "4a063810-224b-446c-a59d-12a20b56e82e",
   "metadata": {},
   "outputs": [],
   "source": [
    "passthru_model = passthru(3)\n",
    "passthru_sdict_model = sax.sdict(passthru_model)\n",
    "passthru_sdict_model()"
   ]
  },
  {
   "cell_type": "code",
   "execution_count": null,
   "id": "9b2be9a8-1b06-4b60-ac44-853d49b3e9f6",
   "metadata": {},
   "outputs": [],
   "source": [
    "mzi = sax.circuit(\n",
    "    instances={\n",
    "        \"lft\": unitary(1, 2),\n",
    "        \"top\": unitary(1, 1),\n",
    "        \"rgt\": unitary(1, 2),\n",
    "    },\n",
    "    connections={\n",
    "        \"lft,out0\": \"rgt,out0\",\n",
    "        \"lft,out1\": \"top,in0\",\n",
    "        \"top,out0\": \"rgt,out1\",\n",
    "    },\n",
    "    ports = {\n",
    "        \"in0\": \"lft,in0\",\n",
    "        \"out0\": \"rgt,in0\",\n",
    "    }\n",
    ")\n",
    "mzi()"
   ]
  },
  {
   "cell_type": "markdown",
   "id": "bb6e94aa",
   "metadata": {},
   "source": [
    "## All Models"
   ]
  },
  {
   "cell_type": "code",
   "execution_count": null,
   "id": "ddef1cde",
   "metadata": {},
   "outputs": [],
   "source": [
    "#exports\n",
    "\n",
    "models = {\n",
    "    \"copier\": copier,\n",
    "    \"coupler\": coupler,\n",
    "    \"passthru\": passthru,\n",
    "    \"straight\": straight,\n",
    "    \"unitary\": unitary,\n",
    "}\n",
    "\n",
    "def get_models(copy: bool=True):\n",
    "    if copy:\n",
    "        return {**models}\n",
    "    return models"
   ]
  }
 ],
 "metadata": {
  "kernelspec": {
   "display_name": "sax",
   "language": "python",
   "name": "sax"
  }
 },
 "nbformat": 4,
 "nbformat_minor": 5
}
