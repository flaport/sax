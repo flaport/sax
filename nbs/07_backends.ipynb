{
 "cells": [
  {
   "cell_type": "code",
   "execution_count": null,
   "id": "04d466c4",
   "metadata": {},
   "outputs": [],
   "source": [
    "# default_exp backends.__init__"
   ]
  },
  {
   "cell_type": "markdown",
   "id": "079604be",
   "metadata": {},
   "source": [
    "# Backend\n",
    "\n",
    "> SAX Backends"
   ]
  },
  {
   "cell_type": "code",
   "execution_count": null,
   "id": "5382439e",
   "metadata": {},
   "outputs": [],
   "source": [
    "# hide\n",
    "import jax.numpy as jnp\n",
    "import matplotlib.pyplot as plt\n",
    "from fastcore.test import test_eq\n",
    "from nbdev import show_doc\n",
    "from pytest import approx, raises\n",
    "from sax.typing_ import SDense, SDict\n",
    "\n",
    "import os, sys; sys.stderr = open(os.devnull, \"w\")"
   ]
  },
  {
   "cell_type": "code",
   "execution_count": null,
   "id": "5c359d6e",
   "metadata": {},
   "outputs": [],
   "source": [
    "# exporti\n",
    "\n",
    "from sax.backends.default import evaluate_circuit\n",
    "from sax.backends.klu import evaluate_circuit_klu\n",
    "from sax.backends.additive import evaluate_circuit_additive"
   ]
  },
  {
   "cell_type": "markdown",
   "id": "a39b2084",
   "metadata": {},
   "source": [
    "#### circuit_backends"
   ]
  },
  {
   "cell_type": "code",
   "execution_count": null,
   "id": "dca841f0",
   "metadata": {},
   "outputs": [],
   "source": [
    "# exports\n",
    "\n",
    "circuit_backends = {\n",
    "    \"default\": evaluate_circuit,\n",
    "    \"klu\": evaluate_circuit_klu,\n",
    "    \"additive\": evaluate_circuit_additive,\n",
    "}"
   ]
  },
  {
   "cell_type": "markdown",
   "id": "b23a8349",
   "metadata": {},
   "source": [
    "SAX allows to easily interchange the backend of a circuit. A SAX backend needs to have the following signature:"
   ]
  },
  {
   "cell_type": "code",
   "execution_count": null,
   "id": "f5153759",
   "metadata": {},
   "outputs": [],
   "source": [
    "# hide_input\n",
    "from sax.backends.default import evaluate_circuit\n",
    "show_doc(evaluate_circuit, doc_string=False)"
   ]
  },
  {
   "cell_type": "markdown",
   "id": "df66e846",
   "metadata": {},
   "source": [
    "i.e. it takes a dictionary of instance names pointing to `SType`s (usually `SDict`s), a connection dictionary and an (output) ports dictionary. Internally it must construct the output `SType` (usually output `SDict`)."
   ]
  },
  {
   "cell_type": "markdown",
   "id": "835a521a",
   "metadata": {},
   "source": [
    "> Example\n",
    "\n",
    "Let's create an MZI `SDict` using the default backend's `evaluate_circuit`:"
   ]
  },
  {
   "cell_type": "code",
   "execution_count": null,
   "id": "8a22955d",
   "metadata": {},
   "outputs": [],
   "source": [
    "wg_sdict: SDict = {\n",
    "    (\"in0\", \"out0\"): 0.5 + 0.86603j,\n",
    "    (\"out0\", \"in0\"): 0.5 + 0.86603j,\n",
    "}\n",
    "\n",
    "τ, κ = 0.5 ** 0.5, 1j * 0.5 ** 0.5\n",
    "dc_sdense: SDense = (\n",
    "    jnp.array([[0, 0, τ, κ], \n",
    "               [0, 0, κ, τ], \n",
    "               [τ, κ, 0, 0], \n",
    "               [κ, τ, 0, 0]]),\n",
    "    {\"in0\": 0, \"in1\": 1, \"out0\": 2, \"out1\": 3},\n",
    ")\n",
    "\n",
    "mzi_sdict: SDict = evaluate_circuit(\n",
    "    instances={\n",
    "        \"dc1\": dc_sdense,\n",
    "        \"wg\": wg_sdict,\n",
    "        \"dc2\": dc_sdense,\n",
    "    },\n",
    "    connections={\n",
    "        \"dc1,out0\": \"wg,in0\",\n",
    "        \"wg,out0\": \"dc2,in0\",\n",
    "        \"dc1,out1\": \"dc2,in1\",\n",
    "    },\n",
    "    ports={\n",
    "        \"in0\": \"dc1,in0\",\n",
    "        \"in1\": \"dc1,in1\",\n",
    "        \"out0\": \"dc2,out0\",\n",
    "        \"out1\": \"dc2,out1\",\n",
    "    }\n",
    ")\n",
    "\n",
    "mzi_sdict"
   ]
  }
 ],
 "metadata": {
  "kernelspec": {
   "display_name": "sax",
   "language": "python",
   "name": "sax"
  }
 },
 "nbformat": 4,
 "nbformat_minor": 5
}
