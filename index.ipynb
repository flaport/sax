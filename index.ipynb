{
 "cells": [
  {
   "cell_type": "markdown",
   "id": "7dfa345d",
   "metadata": {},
   "source": [
    "# SAX\n",
    "\n",
    "> S + Autograd + XLA"
   ]
  },
  {
   "cell_type": "markdown",
   "id": "fef270ba",
   "metadata": {},
   "source": [
    "![](docs/images/sax.svg)"
   ]
  },
  {
   "cell_type": "markdown",
   "id": "165e0fd9",
   "metadata": {},
   "source": [
    "Autograd and XLA for S-parameters - a scatter parameter circuit simulator and\n",
    "optimizer for the frequency domain based on [JAX](https://github.com/google/jax).\n",
    "\n",
    "The simulator was developed for simulating Photonic Integrated Circuits but in fact is\n",
    "able to perform any S-parameter based circuit simulation. The goal of SAX is to be a\n",
    "thin wrapper around JAX with some basic tools for S-parameter based circuit simulation\n",
    "and optimization. Therefore, SAX does not define any special datastructures and tries to\n",
    "stay as close as possible to the functional nature of JAX. This makes it very easy to\n",
    "get started with SAX as you only need functions and standard python dictionaries. Let's\n",
    "dive in...\n",
    "\n",
    "## Quick Start\n",
    "\n",
    "[Full Quick Start page](https://flaport.github.io/sax/quick_start) -\n",
    "[Documentation](https://flaport.github.io/sax).\n",
    "\n",
    "Let's first import the SAX library, along with JAX and the JAX-version of numpy:"
   ]
  },
  {
   "cell_type": "code",
   "execution_count": null,
   "id": "429e080c",
   "metadata": {},
   "outputs": [],
   "source": [
    "# hide\n",
    "import matplotlib.pyplot as plt"
   ]
  },
  {
   "cell_type": "code",
   "execution_count": null,
   "id": "02092230",
   "metadata": {},
   "outputs": [],
   "source": [
    "import sax\n",
    "import jax\n",
    "import jax.numpy as jnp"
   ]
  },
  {
   "cell_type": "markdown",
   "id": "2e3a6634",
   "metadata": {},
   "source": [
    "Define a model function for your component. A SAX model is just a function that returns\n",
    "an 'S-dictionary'. For example a directional coupler:"
   ]
  },
  {
   "cell_type": "code",
   "execution_count": null,
   "id": "da79c227",
   "metadata": {},
   "outputs": [],
   "source": [
    "def coupler(coupling=0.5):\n",
    "    kappa = coupling**0.5\n",
    "    tau = (1-coupling)**0.5\n",
    "    sdict = sax.reciprocal({\n",
    "        (\"in0\", \"out0\"): tau,\n",
    "        (\"in0\", \"out1\"): 1j*kappa,\n",
    "        (\"in1\", \"out0\"): 1j*kappa,\n",
    "        (\"in1\", \"out1\"): tau,\n",
    "    })\n",
    "    return sdict\n",
    "\n",
    "coupler(coupling=0.3)"
   ]
  },
  {
   "cell_type": "markdown",
   "id": "a7686e65",
   "metadata": {},
   "source": [
    "Or a waveguide:"
   ]
  },
  {
   "cell_type": "code",
   "execution_count": null,
   "id": "56718cf4",
   "metadata": {},
   "outputs": [],
   "source": [
    "def waveguide(wl=1.55, wl0=1.55, neff=2.34, ng=3.4, length=10.0, loss=0.0):\n",
    "    dwl = wl - wl0\n",
    "    dneff_dwl = (ng - neff) / wl0\n",
    "    neff = neff - dwl * dneff_dwl\n",
    "    phase = 2 * jnp.pi * neff * length / wl\n",
    "    amplitude = jnp.asarray(10 ** (-loss * length / 20), dtype=complex)\n",
    "    transmission =  amplitude * jnp.exp(1j * phase)\n",
    "    sdict = sax.reciprocal({(\"in0\", \"out0\"): transmission})\n",
    "    return sdict\n",
    "\n",
    "waveguide(length=100.0)"
   ]
  },
  {
   "cell_type": "markdown",
   "id": "5837bd61",
   "metadata": {},
   "source": [
    "These component models can then be combined into a circuit:"
   ]
  },
  {
   "cell_type": "code",
   "execution_count": null,
   "id": "ac89c549",
   "metadata": {},
   "outputs": [],
   "source": [
    "mzi = sax.circuit(\n",
    "    instances = {\n",
    "        \"lft\": coupler,\n",
    "        \"top\": waveguide,\n",
    "        \"rgt\": coupler,\n",
    "    },\n",
    "    connections={\n",
    "        \"lft,out0\": \"rgt,in0\",\n",
    "        \"lft,out1\": \"top,in0\",\n",
    "        \"top,out0\": \"rgt,in1\",\n",
    "    },\n",
    "    ports={\n",
    "        \"in0\": \"lft,in0\",\n",
    "        \"in1\": \"lft,in1\",\n",
    "        \"out0\": \"rgt,out0\",\n",
    "        \"out1\": \"rgt,out1\",\n",
    "    },\n",
    ")\n",
    "\n",
    "type(mzi)"
   ]
  },
  {
   "cell_type": "markdown",
   "id": "a0f204ce",
   "metadata": {},
   "source": [
    "As you can see, the mzi we just created is just another component model function! To simulate it, call the mzi function with the (possibly nested) settings of its subcomponents. Global settings can be added to the 'root' of the circuit call and will be distributed over all subcomponents which have a parameter with the same name (e.g. 'wl'):"
   ]
  },
  {
   "cell_type": "code",
   "execution_count": null,
   "id": "d9bc7f6f",
   "metadata": {},
   "outputs": [],
   "source": [
    "wl = jnp.linspace(1.53, 1.57, 1000)\n",
    "result = mzi(wl=wl, lft={'coupling': 0.3}, top={'length': 200.0}, rgt={'coupling': 0.8})\n",
    "\n",
    "plt.plot(1e3*wl, jnp.abs(result['in0', 'out0'])**2, label=\"in0->out0\")\n",
    "plt.plot(1e3*wl, jnp.abs(result['in0', 'out1'])**2, label=\"in0->out1\", ls=\"--\")\n",
    "plt.xlabel(\"λ [nm]\")\n",
    "plt.ylabel(\"T\")\n",
    "plt.grid(True)\n",
    "plt.figlegend(ncol=2, loc=\"upper center\")\n",
    "plt.show()"
   ]
  },
  {
   "cell_type": "markdown",
   "id": "9bf49bc7",
   "metadata": {},
   "source": [
    "Those are the basics. For more info, check out the **full**\n",
    "[SAX Quick Start page](https://flaport.github.io/sax/quick_start) or the rest of the [Documentation](https://flaport.github.io/sax).\n",
    "\n",
    "## Installation\n",
    "\n",
    "### Dependencies\n",
    "\n",
    "- [JAX & JAXLIB](https://github.com/google/jax). Please read the JAX install instructions [here](https://github.com/google/jax/#installation).\n",
    "\n",
    "### Installation\n",
    "\n",
    "```\n",
    "pip install sax\n",
    "```\n",
    "\n",
    "## License\n",
    "\n",
    "Copyright © 2021, Floris Laporte, [Apache-2.0 License](LICENSE)"
   ]
  }
 ],
 "metadata": {
  "kernelspec": {
   "display_name": "sax",
   "language": "python",
   "name": "sax"
  }
 },
 "nbformat": 4,
 "nbformat_minor": 5
}
